{
 "cells": [
  {
   "cell_type": "code",
   "execution_count": 1,
   "metadata": {},
   "outputs": [],
   "source": [
    "import numpy as np\n",
    "import matplotlib.pyplot as plt\n",
    "import pandas as pd\n",
    "import os"
   ]
  },
  {
   "cell_type": "code",
   "execution_count": 2,
   "metadata": {},
   "outputs": [],
   "source": [
    "root_path=\"/tf/home/sergio\""
   ]
  },
  {
   "cell_type": "code",
   "execution_count": 3,
   "metadata": {},
   "outputs": [],
   "source": [
    "def compute_ap(recall, precision):\n",
    "    \"\"\" Compute the average precision, given the recall and precision curves.\n",
    "    Code originally from https://github.com/rbgirshick/py-faster-rcnn.\n",
    "    # Arguments\n",
    "        recall:    The recall curve (list).\n",
    "        precision: The precision curve (list).\n",
    "    # Returns\n",
    "        The average precision as computed in py-faster-rcnn.\n",
    "    \"\"\"\n",
    "    # correct AP calculation\n",
    "    # first append sentinel values at the end\n",
    "\n",
    "    mrec = np.concatenate(([0.], recall, [1.]))\n",
    "    mpre = np.concatenate(([0.], precision, [0.]))\n",
    "\n",
    "    # compute the precision envelope\n",
    "    for i in range(mpre.size - 1, 0, -1):\n",
    "        mpre[i - 1] = np.maximum(mpre[i - 1], mpre[i])\n",
    "\n",
    "    # to calculate area under PR curve, look for points\n",
    "    # where X axis (recall) changes value\n",
    "    i = np.where(mrec[1:] != mrec[:-1])[0]\n",
    "\n",
    "    # and sum (\\Delta recall) * prec\n",
    "    ap = np.sum((mrec[i + 1] - mrec[i]) * mpre[i + 1])\n",
    "    return ap"
   ]
  },
  {
   "cell_type": "code",
   "execution_count": 4,
   "metadata": {},
   "outputs": [
    {
     "data": {
      "text/plain": [
       "['detections_df_best_result_2_anchors',\n",
       " 'Atropellan a 7 peatones al día en la CDMX.mp4',\n",
       " 'detections_df_original',\n",
       " 'madero_output_comparative.mp4',\n",
       " 'ap_results',\n",
       " 'COCODataset',\n",
       " 'madero_output_comparative_same.mp4',\n",
       " 'VOC2012',\n",
       " 'weights_saved',\n",
       " 'Madeo_peatones.mp4',\n",
       " 'output.mp4',\n",
       " 'madero_output.mp4',\n",
       " 'detections_df_best_result_3_anchors',\n",
       " 'TinyYOLOv3-Pedestrian-Detection']"
      ]
     },
     "execution_count": 4,
     "metadata": {},
     "output_type": "execute_result"
    }
   ],
   "source": [
    "os.chdir(root_path)\n",
    "os.listdir()"
   ]
  },
  {
   "cell_type": "code",
   "execution_count": 5,
   "metadata": {},
   "outputs": [],
   "source": [
    "best_3_anchors_df = pd.read_csv(\"detections_df_best_result_3_anchors\").iloc[:,2:]\n",
    "best_2_anchors_df = pd.read_csv(\"detections_df_best_result_2_anchors\").iloc[:,2:]\n",
    "original_df = pd.read_csv(\"detections_df_original\").iloc[:,2:]"
   ]
  },
  {
   "cell_type": "code",
   "execution_count": 6,
   "metadata": {},
   "outputs": [
    {
     "data": {
      "text/html": [
       "<div>\n",
       "<style scoped>\n",
       "    .dataframe tbody tr th:only-of-type {\n",
       "        vertical-align: middle;\n",
       "    }\n",
       "\n",
       "    .dataframe tbody tr th {\n",
       "        vertical-align: top;\n",
       "    }\n",
       "\n",
       "    .dataframe thead th {\n",
       "        text-align: right;\n",
       "    }\n",
       "</style>\n",
       "<table border=\"1\" class=\"dataframe\">\n",
       "  <thead>\n",
       "    <tr style=\"text-align: right;\">\n",
       "      <th></th>\n",
       "      <th>xmin</th>\n",
       "      <th>ymin</th>\n",
       "      <th>xmax</th>\n",
       "      <th>ymax</th>\n",
       "      <th>score</th>\n",
       "      <th>xy_error</th>\n",
       "      <th>wh_error</th>\n",
       "      <th>TP</th>\n",
       "      <th>FP</th>\n",
       "      <th>iou</th>\n",
       "      <th>cum TP</th>\n",
       "      <th>cum FP</th>\n",
       "      <th>Precision</th>\n",
       "      <th>Recall</th>\n",
       "    </tr>\n",
       "  </thead>\n",
       "  <tbody>\n",
       "    <tr>\n",
       "      <th>0</th>\n",
       "      <td>0.025344</td>\n",
       "      <td>0.326222</td>\n",
       "      <td>0.131686</td>\n",
       "      <td>0.751429</td>\n",
       "      <td>0.999999</td>\n",
       "      <td>0.002517</td>\n",
       "      <td>0.000086</td>\n",
       "      <td>0</td>\n",
       "      <td>1</td>\n",
       "      <td>0.359225</td>\n",
       "      <td>0</td>\n",
       "      <td>1</td>\n",
       "      <td>0.000000</td>\n",
       "      <td>0.000000</td>\n",
       "    </tr>\n",
       "    <tr>\n",
       "      <th>1</th>\n",
       "      <td>0.097059</td>\n",
       "      <td>0.378974</td>\n",
       "      <td>0.218003</td>\n",
       "      <td>0.854694</td>\n",
       "      <td>0.999992</td>\n",
       "      <td>0.001215</td>\n",
       "      <td>0.000417</td>\n",
       "      <td>1</td>\n",
       "      <td>0</td>\n",
       "      <td>0.719379</td>\n",
       "      <td>1</td>\n",
       "      <td>1</td>\n",
       "      <td>0.500000</td>\n",
       "      <td>0.000091</td>\n",
       "    </tr>\n",
       "    <tr>\n",
       "      <th>2</th>\n",
       "      <td>0.410614</td>\n",
       "      <td>0.310226</td>\n",
       "      <td>0.517616</td>\n",
       "      <td>0.769542</td>\n",
       "      <td>0.999989</td>\n",
       "      <td>0.006322</td>\n",
       "      <td>0.000127</td>\n",
       "      <td>0</td>\n",
       "      <td>1</td>\n",
       "      <td>0.276195</td>\n",
       "      <td>1</td>\n",
       "      <td>2</td>\n",
       "      <td>0.333333</td>\n",
       "      <td>0.000091</td>\n",
       "    </tr>\n",
       "    <tr>\n",
       "      <th>3</th>\n",
       "      <td>0.197521</td>\n",
       "      <td>0.082376</td>\n",
       "      <td>0.419645</td>\n",
       "      <td>0.995610</td>\n",
       "      <td>0.999979</td>\n",
       "      <td>0.002005</td>\n",
       "      <td>0.006094</td>\n",
       "      <td>1</td>\n",
       "      <td>0</td>\n",
       "      <td>0.691320</td>\n",
       "      <td>2</td>\n",
       "      <td>2</td>\n",
       "      <td>0.500000</td>\n",
       "      <td>0.000182</td>\n",
       "    </tr>\n",
       "    <tr>\n",
       "      <th>4</th>\n",
       "      <td>0.258787</td>\n",
       "      <td>0.146596</td>\n",
       "      <td>0.515218</td>\n",
       "      <td>0.933462</td>\n",
       "      <td>0.999969</td>\n",
       "      <td>0.000234</td>\n",
       "      <td>0.003599</td>\n",
       "      <td>1</td>\n",
       "      <td>0</td>\n",
       "      <td>0.831713</td>\n",
       "      <td>3</td>\n",
       "      <td>2</td>\n",
       "      <td>0.600000</td>\n",
       "      <td>0.000273</td>\n",
       "    </tr>\n",
       "    <tr>\n",
       "      <th>...</th>\n",
       "      <td>...</td>\n",
       "      <td>...</td>\n",
       "      <td>...</td>\n",
       "      <td>...</td>\n",
       "      <td>...</td>\n",
       "      <td>...</td>\n",
       "      <td>...</td>\n",
       "      <td>...</td>\n",
       "      <td>...</td>\n",
       "      <td>...</td>\n",
       "      <td>...</td>\n",
       "      <td>...</td>\n",
       "      <td>...</td>\n",
       "      <td>...</td>\n",
       "    </tr>\n",
       "    <tr>\n",
       "      <th>4955</th>\n",
       "      <td>0.070414</td>\n",
       "      <td>0.000000</td>\n",
       "      <td>0.165296</td>\n",
       "      <td>0.174399</td>\n",
       "      <td>0.500696</td>\n",
       "      <td>0.239104</td>\n",
       "      <td>1.185868</td>\n",
       "      <td>0</td>\n",
       "      <td>1</td>\n",
       "      <td>0.021158</td>\n",
       "      <td>2178</td>\n",
       "      <td>2778</td>\n",
       "      <td>0.439467</td>\n",
       "      <td>0.197928</td>\n",
       "    </tr>\n",
       "    <tr>\n",
       "      <th>4956</th>\n",
       "      <td>0.138995</td>\n",
       "      <td>0.113721</td>\n",
       "      <td>0.639396</td>\n",
       "      <td>0.964444</td>\n",
       "      <td>0.500585</td>\n",
       "      <td>0.003660</td>\n",
       "      <td>0.023998</td>\n",
       "      <td>1</td>\n",
       "      <td>0</td>\n",
       "      <td>0.733279</td>\n",
       "      <td>2179</td>\n",
       "      <td>2778</td>\n",
       "      <td>0.439580</td>\n",
       "      <td>0.198019</td>\n",
       "    </tr>\n",
       "    <tr>\n",
       "      <th>4957</th>\n",
       "      <td>0.171192</td>\n",
       "      <td>0.153195</td>\n",
       "      <td>0.219910</td>\n",
       "      <td>0.240882</td>\n",
       "      <td>0.500553</td>\n",
       "      <td>-1.000000</td>\n",
       "      <td>-1.000000</td>\n",
       "      <td>0</td>\n",
       "      <td>1</td>\n",
       "      <td>0.000000</td>\n",
       "      <td>2179</td>\n",
       "      <td>2779</td>\n",
       "      <td>0.439492</td>\n",
       "      <td>0.198019</td>\n",
       "    </tr>\n",
       "    <tr>\n",
       "      <th>4958</th>\n",
       "      <td>0.140434</td>\n",
       "      <td>0.000000</td>\n",
       "      <td>0.326986</td>\n",
       "      <td>0.034761</td>\n",
       "      <td>0.500415</td>\n",
       "      <td>0.000137</td>\n",
       "      <td>0.001012</td>\n",
       "      <td>1</td>\n",
       "      <td>0</td>\n",
       "      <td>0.557097</td>\n",
       "      <td>2180</td>\n",
       "      <td>2779</td>\n",
       "      <td>0.439605</td>\n",
       "      <td>0.198110</td>\n",
       "    </tr>\n",
       "    <tr>\n",
       "      <th>4959</th>\n",
       "      <td>0.007221</td>\n",
       "      <td>0.138679</td>\n",
       "      <td>0.458245</td>\n",
       "      <td>0.944205</td>\n",
       "      <td>0.500195</td>\n",
       "      <td>0.003240</td>\n",
       "      <td>0.007008</td>\n",
       "      <td>1</td>\n",
       "      <td>0</td>\n",
       "      <td>0.766026</td>\n",
       "      <td>2181</td>\n",
       "      <td>2779</td>\n",
       "      <td>0.439718</td>\n",
       "      <td>0.198201</td>\n",
       "    </tr>\n",
       "  </tbody>\n",
       "</table>\n",
       "<p>4960 rows × 14 columns</p>\n",
       "</div>"
      ],
      "text/plain": [
       "          xmin      ymin      xmax      ymax     score  xy_error  wh_error  \\\n",
       "0     0.025344  0.326222  0.131686  0.751429  0.999999  0.002517  0.000086   \n",
       "1     0.097059  0.378974  0.218003  0.854694  0.999992  0.001215  0.000417   \n",
       "2     0.410614  0.310226  0.517616  0.769542  0.999989  0.006322  0.000127   \n",
       "3     0.197521  0.082376  0.419645  0.995610  0.999979  0.002005  0.006094   \n",
       "4     0.258787  0.146596  0.515218  0.933462  0.999969  0.000234  0.003599   \n",
       "...        ...       ...       ...       ...       ...       ...       ...   \n",
       "4955  0.070414  0.000000  0.165296  0.174399  0.500696  0.239104  1.185868   \n",
       "4956  0.138995  0.113721  0.639396  0.964444  0.500585  0.003660  0.023998   \n",
       "4957  0.171192  0.153195  0.219910  0.240882  0.500553 -1.000000 -1.000000   \n",
       "4958  0.140434  0.000000  0.326986  0.034761  0.500415  0.000137  0.001012   \n",
       "4959  0.007221  0.138679  0.458245  0.944205  0.500195  0.003240  0.007008   \n",
       "\n",
       "      TP  FP       iou  cum TP  cum FP  Precision    Recall  \n",
       "0      0   1  0.359225       0       1   0.000000  0.000000  \n",
       "1      1   0  0.719379       1       1   0.500000  0.000091  \n",
       "2      0   1  0.276195       1       2   0.333333  0.000091  \n",
       "3      1   0  0.691320       2       2   0.500000  0.000182  \n",
       "4      1   0  0.831713       3       2   0.600000  0.000273  \n",
       "...   ..  ..       ...     ...     ...        ...       ...  \n",
       "4955   0   1  0.021158    2178    2778   0.439467  0.197928  \n",
       "4956   1   0  0.733279    2179    2778   0.439580  0.198019  \n",
       "4957   0   1  0.000000    2179    2779   0.439492  0.198019  \n",
       "4958   1   0  0.557097    2180    2779   0.439605  0.198110  \n",
       "4959   1   0  0.766026    2181    2779   0.439718  0.198201  \n",
       "\n",
       "[4960 rows x 14 columns]"
      ]
     },
     "execution_count": 6,
     "metadata": {},
     "output_type": "execute_result"
    }
   ],
   "source": [
    "best_3_anchors_df"
   ]
  },
  {
   "cell_type": "code",
   "execution_count": 7,
   "metadata": {},
   "outputs": [],
   "source": [
    "best_3_ap = compute_ap(best_3_anchors_df[\"Recall\"].values, best_3_anchors_df[\"Precision\"].values)\n",
    "best_2_ap = compute_ap(best_2_anchors_df[\"Recall\"].values, best_2_anchors_df[\"Precision\"].values)\n",
    "original_ap = compute_ap(original_df[\"Recall\"].values, original_df[\"Precision\"].values)"
   ]
  },
  {
   "cell_type": "code",
   "execution_count": 10,
   "metadata": {},
   "outputs": [
    {
     "data": {
      "text/plain": [
       "'/tf/home/sergio'"
      ]
     },
     "execution_count": 10,
     "metadata": {},
     "output_type": "execute_result"
    }
   ],
   "source": [
    "os.getcwd()"
   ]
  },
  {
   "cell_type": "code",
   "execution_count": 11,
   "metadata": {},
   "outputs": [
    {
     "data": {
      "image/png": "[encoded data removed]",
      "text/plain": [
       "<Figure size 1440x720 with 1 Axes>"
      ]
     },
     "metadata": {
      "needs_background": "light"
     },
     "output_type": "display_data"
    }
   ],
   "source": [
    "from matplotlib import rcParams\n",
    "import matplotlib\n",
    "import matplotlib.colors as mcolors\n",
    "\n",
    "rcParams['figure.figsize'] = 20, 10\n",
    "\n",
    "font = {'size'   : 15}\n",
    "\n",
    "matplotlib.rc('font', **font)\n",
    "\n",
    "coord_3 =[best_3_anchors_df.Recall.iloc[-1],best_3_anchors_df.Precision.iloc[-1]]\n",
    "coord_2 =[best_2_anchors_df.Recall.iloc[-1],best_2_anchors_df.Precision.iloc[-1]]\n",
    "coord_o =[original_df.Recall.iloc[-1],original_df.Precision.iloc[-1]]\n",
    "\n",
    "plt.plot(best_3_anchors_df.Recall,best_3_anchors_df.Precision, label = \"Best with 6 AB, AP={0:.3f}\".format(best_3_ap),linewidth=2)\n",
    "plt.plot(best_2_anchors_df.Recall,best_2_anchors_df.Precision, label = \"Best with 4 AB, AP={0:.3f}\".format(best_2_ap),linewidth=2)\n",
    "plt.plot(original_df.Recall,original_df.Precision, label = \"Original, AP={0:.3f}\".format(original_ap),linewidth=2)\n",
    "\n",
    "plt.text(coord_3[0]+0.003,coord_3[1],s=\"(\"+str(coord_3[0])[:5] + \",\" +  str(coord_3[1])[:5] + \")\" )\n",
    "plt.text(coord_2[0]+0.003,coord_2[1]-0.05,s=\"(\"+str(coord_2[0])[:5] + \",\" +  str(coord_2[1])[:5] + \")\" )\n",
    "plt.text(coord_o[0]+0.003,coord_o[1],s=\"(\"+str(coord_o[0])[:5] + \",\" +  str(coord_o[1])[:5] + \")\" )\n",
    "\n",
    "plt.plot(best_3_anchors_df.Recall.iloc[-1],best_3_anchors_df.Precision.iloc[-1],'o',color=mcolors.TABLEAU_COLORS[\"tab:blue\"])\n",
    "plt.plot(best_2_anchors_df.Recall.iloc[-1],best_2_anchors_df.Precision.iloc[-1],'o',color=mcolors.TABLEAU_COLORS[\"tab:orange\"])\n",
    "plt.plot(original_df.Recall.iloc[-1],original_df.Precision.iloc[-1],'o',color=mcolors.TABLEAU_COLORS[\"tab:green\"])\n",
    "\n",
    "plt.grid()\n",
    "plt.legend()\n",
    "plt.xlabel(\"Recall\")\n",
    "plt.ylabel(\"Precision\")\n",
    "plt.xlim([0,0.25])\n",
    "plt.title(\"\")\n",
    "\n",
    "plt.savefig(\"ap_results\",format=\"png\",dpi=200)"
   ]
  },
  {
   "cell_type": "markdown",
   "metadata": {},
   "source": [
    "## CONFUSION MATRIX"
   ]
  },
  {
   "cell_type": "code",
   "execution_count": 13,
   "metadata": {},
   "outputs": [],
   "source": [
    "total_objects = 11004\n",
    "total_no_objects = 2693*2535 - total_objects"
   ]
  },
  {
   "cell_type": "code",
   "execution_count": 46,
   "metadata": {},
   "outputs": [],
   "source": [
    "def get_confusion_matrix(results_df):\n",
    "\n",
    "    TP = results_df[\"cum TP\"].iloc[-1]\n",
    "    FP =  results_df[\"cum FP\"].iloc[-1]\n",
    "    FN = total_objects - TP\n",
    "    TN = total_no_objects - FP\n",
    "\n",
    "    conf_matrix = np.array([[TP,FN],[FP,TN]])\n",
    "    print(conf_matrix)\n",
    "    print(conf_matrix.sum())\n",
    "    #conf_matrix=np.divide(conf_matrix,conf_matrix.sum(axis=0))\n",
    "    \n",
    "    return conf_matrix"
   ]
  },
  {
   "cell_type": "code",
   "execution_count": 47,
   "metadata": {},
   "outputs": [
    {
     "name": "stdout",
     "output_type": "stream",
     "text": [
      "Requirement already satisfied: seaborn in /usr/local/lib/python3.6/dist-packages (0.10.1)\n",
      "Requirement already satisfied: scipy>=1.0.1 in /usr/local/lib/python3.6/dist-packages (from seaborn) (1.4.1)\n",
      "Requirement already satisfied: matplotlib>=2.1.2 in /usr/local/lib/python3.6/dist-packages (from seaborn) (3.2.1)\n",
      "Requirement already satisfied: numpy>=1.13.3 in /usr/local/lib/python3.6/dist-packages (from seaborn) (1.18.4)\n",
      "Requirement already satisfied: pandas>=0.22.0 in /usr/local/lib/python3.6/dist-packages (from seaborn) (1.0.5)\n",
      "Requirement already satisfied: kiwisolver>=1.0.1 in /usr/local/lib/python3.6/dist-packages (from matplotlib>=2.1.2->seaborn) (1.2.0)\n",
      "Requirement already satisfied: python-dateutil>=2.1 in /usr/local/lib/python3.6/dist-packages (from matplotlib>=2.1.2->seaborn) (2.8.1)\n",
      "Requirement already satisfied: cycler>=0.10 in /usr/local/lib/python3.6/dist-packages (from matplotlib>=2.1.2->seaborn) (0.10.0)\n",
      "Requirement already satisfied: pyparsing!=2.0.4,!=2.1.2,!=2.1.6,>=2.0.1 in /usr/local/lib/python3.6/dist-packages (from matplotlib>=2.1.2->seaborn) (2.4.7)\n",
      "Requirement already satisfied: pytz>=2017.2 in /usr/local/lib/python3.6/dist-packages (from pandas>=0.22.0->seaborn) (2020.1)\n",
      "Requirement already satisfied: six>=1.5 in /usr/local/lib/python3.6/dist-packages (from python-dateutil>=2.1->matplotlib>=2.1.2->seaborn) (1.14.0)\n",
      "\u001b[33mWARNING: You are using pip version 20.1; however, version 20.1.1 is available.\n",
      "You should consider upgrading via the '/usr/bin/python3 -m pip install --upgrade pip' command.\u001b[0m\n"
     ]
    }
   ],
   "source": [
    "!pip install seaborn"
   ]
  },
  {
   "cell_type": "code",
   "execution_count": 48,
   "metadata": {},
   "outputs": [],
   "source": [
    "import seaborn as sn\n",
    "import pandas as pd\n",
    "\n",
    "sn.set(font_scale=1.3)"
   ]
  },
  {
   "cell_type": "code",
   "execution_count": 53,
   "metadata": {
    "scrolled": false
   },
   "outputs": [
    {
     "name": "stdout",
     "output_type": "stream",
     "text": [
      "[[   1744    9260]\n",
      " [   1529 6814222]]\n",
      "6826755\n"
     ]
    },
    {
     "data": {
      "image/png": "[encoded data removed]",
      "text/plain": [
       "<Figure size 720x504 with 2 Axes>"
      ]
     },
     "metadata": {},
     "output_type": "display_data"
    }
   ],
   "source": [
    "from matplotlib.colors import ListedColormap\n",
    "\n",
    "\n",
    "conf_matrix = get_confusion_matrix(original_df)\n",
    "\n",
    "\n",
    "plt.rcParams['xtick.top'] = plt.rcParams['xtick.labeltop'] = True\n",
    "\n",
    "df_cm = pd.DataFrame(conf_matrix, index = [i for i in \"10\"],\n",
    "                  columns = [i for i in \"10\"])\n",
    "plt.figure(figsize = (10,7))\n",
    "plot = sn.heatmap(df_cm, annot=True,cmap=\"Greys\", fmt='g')#,xticklabels=[\"Predicted labels\"], yticklabels=[\"True labels\"])\n",
    "\n",
    "plot.xaxis.tick_top()\n",
    "plot.set_ylabel(\"True labels\",)\n",
    "plot.set_title(\"Predicted labels\")\n",
    "\n",
    "plt.savefig(\"confusion_matrix_original\",dpi=200,format=\"png\")"
   ]
  },
  {
   "cell_type": "code",
   "execution_count": null,
   "metadata": {},
   "outputs": [],
   "source": []
  },
  {
   "cell_type": "code",
   "execution_count": null,
   "metadata": {},
   "outputs": [],
   "source": []
  }
 ],
 "metadata": {
  "kernelspec": {
   "display_name": "Python 3",
   "language": "python",
   "name": "python3"
  },
  "language_info": {
   "codemirror_mode": {
    "name": "ipython",
    "version": 3
   },
   "file_extension": ".py",
   "mimetype": "text/x-python",
   "name": "python",
   "nbconvert_exporter": "python",
   "pygments_lexer": "ipython3",
   "version": "3.6.9"
  }
 },
 "nbformat": 4,
 "nbformat_minor": 2
}
