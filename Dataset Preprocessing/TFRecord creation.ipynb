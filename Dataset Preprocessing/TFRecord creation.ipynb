{
 "cells": [
  {
   "cell_type": "code",
   "execution_count": 16,
   "metadata": {},
   "outputs": [
    {
     "ename": "ModuleNotFoundError",
     "evalue": "No module named 'albumentations'",
     "output_type": "error",
     "traceback": [
      "\u001b[0;31m---------------------------------------------------------------------------\u001b[0m",
      "\u001b[0;31mModuleNotFoundError\u001b[0m                       Traceback (most recent call last)",
      "\u001b[0;32m<ipython-input-16-14ef7f7a0f2a>\u001b[0m in \u001b[0;36m<module>\u001b[0;34m\u001b[0m\n\u001b[1;32m     13\u001b[0m \u001b[0;32mfrom\u001b[0m \u001b[0mtqdm\u001b[0m \u001b[0;32mimport\u001b[0m \u001b[0mtqdm\u001b[0m\u001b[0;34m\u001b[0m\u001b[0;34m\u001b[0m\u001b[0m\n\u001b[1;32m     14\u001b[0m \u001b[0;34m\u001b[0m\u001b[0m\n\u001b[0;32m---> 15\u001b[0;31m from albumentations import (\n\u001b[0m\u001b[1;32m     16\u001b[0m     \u001b[0mconvert_bbox_to_albumentations\u001b[0m\u001b[0;34m,\u001b[0m\u001b[0mconvert_bboxes_from_albumentations\u001b[0m\u001b[0;34m\u001b[0m\u001b[0;34m\u001b[0m\u001b[0m\n\u001b[1;32m     17\u001b[0m )\n",
      "\u001b[0;31mModuleNotFoundError\u001b[0m: No module named 'albumentations'"
     ]
    }
   ],
   "source": [
    "import numpy as np\n",
    "import pandas as pd\n",
    "from matplotlib import pyplot as plt\n",
    "import tensorflow as tf\n",
    "import cv2\n",
    "from skimage.io import imread\n",
    "\n",
    "import sys\n",
    "import os\n",
    "import glob\n",
    "import shutil\n",
    "import argparse\n",
    "from tqdm import tqdm\n",
    "\n",
    "from albumentations import (\n",
    "    convert_bbox_to_albumentations,convert_bboxes_from_albumentations\n",
    ")\n",
    "\n",
    "import albumentations as A"
   ]
  },
  {
   "cell_type": "code",
   "execution_count": 2,
   "metadata": {},
   "outputs": [
    {
     "name": "stdout",
     "output_type": "stream",
     "text": [
      "Collecting tqdm\n",
      "  Downloading tqdm-4.46.1-py2.py3-none-any.whl (63 kB)\n",
      "\u001b[K     |████████████████████████████████| 63 kB 456 kB/s eta 0:00:01\n",
      "\u001b[?25hInstalling collected packages: tqdm\n",
      "Successfully installed tqdm-4.46.1\n",
      "\u001b[33mWARNING: You are using pip version 20.1; however, version 20.1.1 is available.\n",
      "You should consider upgrading via the '/usr/bin/python3 -m pip install --upgrade pip' command.\u001b[0m\n"
     ]
    }
   ],
   "source": [
    "!pip install tqdm"
   ]
  },
  {
   "cell_type": "code",
   "execution_count": 17,
   "metadata": {},
   "outputs": [
    {
     "name": "stdout",
     "output_type": "stream",
     "text": [
      "Collecting albumentations\n",
      "  Downloading albumentations-0.4.5.tar.gz (116 kB)\n",
      "\u001b[K     |████████████████████████████████| 116 kB 149 kB/s eta 0:00:01\n",
      "\u001b[?25hRequirement already satisfied: numpy>=1.11.1 in /usr/local/lib/python3.6/dist-packages (from albumentations) (1.18.4)\n",
      "Requirement already satisfied: scipy in /usr/local/lib/python3.6/dist-packages (from albumentations) (1.4.1)\n",
      "Collecting imgaug<0.2.7,>=0.2.5\n",
      "  Downloading imgaug-0.2.6.tar.gz (631 kB)\n",
      "\u001b[K     |████████████████████████████████| 631 kB 162 kB/s eta 0:00:01\n",
      "\u001b[?25hCollecting PyYAML\n",
      "  Downloading PyYAML-5.3.1.tar.gz (269 kB)\n",
      "\u001b[K     |████████████████████████████████| 269 kB 74 kB/s eta 0:00:01\n",
      "\u001b[?25hRequirement already satisfied: opencv-python>=4.1.1 in /usr/local/lib/python3.6/dist-packages (from albumentations) (4.2.0.34)\n",
      "Requirement already satisfied: scikit-image>=0.11.0 in /usr/local/lib/python3.6/dist-packages (from imgaug<0.2.7,>=0.2.5->albumentations) (0.17.2)\n",
      "Requirement already satisfied: six in /usr/local/lib/python3.6/dist-packages (from imgaug<0.2.7,>=0.2.5->albumentations) (1.14.0)\n",
      "Requirement already satisfied: tifffile>=2019.7.26 in /usr/local/lib/python3.6/dist-packages (from scikit-image>=0.11.0->imgaug<0.2.7,>=0.2.5->albumentations) (2020.6.3)\n",
      "Requirement already satisfied: pillow!=7.1.0,!=7.1.1,>=4.3.0 in /usr/local/lib/python3.6/dist-packages (from scikit-image>=0.11.0->imgaug<0.2.7,>=0.2.5->albumentations) (7.1.2)\n",
      "Requirement already satisfied: PyWavelets>=1.1.1 in /usr/local/lib/python3.6/dist-packages (from scikit-image>=0.11.0->imgaug<0.2.7,>=0.2.5->albumentations) (1.1.1)\n",
      "Requirement already satisfied: matplotlib!=3.0.0,>=2.0.0 in /usr/local/lib/python3.6/dist-packages (from scikit-image>=0.11.0->imgaug<0.2.7,>=0.2.5->albumentations) (3.2.1)\n",
      "Requirement already satisfied: imageio>=2.3.0 in /usr/local/lib/python3.6/dist-packages (from scikit-image>=0.11.0->imgaug<0.2.7,>=0.2.5->albumentations) (2.8.0)\n",
      "Requirement already satisfied: networkx>=2.0 in /usr/local/lib/python3.6/dist-packages (from scikit-image>=0.11.0->imgaug<0.2.7,>=0.2.5->albumentations) (2.4)\n",
      "Requirement already satisfied: kiwisolver>=1.0.1 in /usr/local/lib/python3.6/dist-packages (from matplotlib!=3.0.0,>=2.0.0->scikit-image>=0.11.0->imgaug<0.2.7,>=0.2.5->albumentations) (1.2.0)\n",
      "Requirement already satisfied: cycler>=0.10 in /usr/local/lib/python3.6/dist-packages (from matplotlib!=3.0.0,>=2.0.0->scikit-image>=0.11.0->imgaug<0.2.7,>=0.2.5->albumentations) (0.10.0)\n",
      "Requirement already satisfied: pyparsing!=2.0.4,!=2.1.2,!=2.1.6,>=2.0.1 in /usr/local/lib/python3.6/dist-packages (from matplotlib!=3.0.0,>=2.0.0->scikit-image>=0.11.0->imgaug<0.2.7,>=0.2.5->albumentations) (2.4.7)\n",
      "Requirement already satisfied: python-dateutil>=2.1 in /usr/local/lib/python3.6/dist-packages (from matplotlib!=3.0.0,>=2.0.0->scikit-image>=0.11.0->imgaug<0.2.7,>=0.2.5->albumentations) (2.8.1)\n",
      "Requirement already satisfied: decorator>=4.3.0 in /usr/local/lib/python3.6/dist-packages (from networkx>=2.0->scikit-image>=0.11.0->imgaug<0.2.7,>=0.2.5->albumentations) (4.4.2)\n",
      "Building wheels for collected packages: albumentations, imgaug, PyYAML\n",
      "  Building wheel for albumentations (setup.py) ... \u001b[?25ldone\n",
      "\u001b[?25h  Created wheel for albumentations: filename=albumentations-0.4.5-py3-none-any.whl size=70248 sha256=3012e0b905eee50cd167661e3613ad341d487dc4640b6b03168369bc6c6af807\n",
      "  Stored in directory: /root/.cache/pip/wheels/78/d2/b4/617573279167b9cb8fd3a2d17923ae044d5d213bb552abc1be\n",
      "  Building wheel for imgaug (setup.py) ... \u001b[?25ldone\n",
      "\u001b[?25h  Created wheel for imgaug: filename=imgaug-0.2.6-py3-none-any.whl size=654972 sha256=3a1d3a6dabe013f3f09b3eff2a204b64b393e20db7cec4e3ac6b5d0f9280bae4\n",
      "  Stored in directory: /root/.cache/pip/wheels/ce/b4/ea/ed7e89421721d66834627a2983c5bc4ce298056d5d3f37049e\n",
      "  Building wheel for PyYAML (setup.py) ... \u001b[?25ldone\n",
      "\u001b[?25h  Created wheel for PyYAML: filename=PyYAML-5.3.1-cp36-cp36m-linux_x86_64.whl size=45919 sha256=dea189e621586c02dde9d7920790a460e5e41ab9d868a932286bc2092fa71667\n",
      "  Stored in directory: /root/.cache/pip/wheels/e5/9d/ad/2ee53cf262cba1ffd8afe1487eef788ea3f260b7e6232a80fc\n",
      "Successfully built albumentations imgaug PyYAML\n",
      "Installing collected packages: imgaug, PyYAML, albumentations\n",
      "  Attempting uninstall: imgaug\n",
      "    Found existing installation: imgaug 0.4.0\n",
      "    Uninstalling imgaug-0.4.0:\n",
      "      Successfully uninstalled imgaug-0.4.0\n",
      "Successfully installed PyYAML-5.3.1 albumentations-0.4.5 imgaug-0.2.6\n",
      "\u001b[33mWARNING: You are using pip version 20.1; however, version 20.1.1 is available.\n",
      "You should consider upgrading via the '/usr/bin/python3 -m pip install --upgrade pip' command.\u001b[0m\n"
     ]
    }
   ],
   "source": [
    "!pip install albumentations"
   ]
  },
  {
   "cell_type": "code",
   "execution_count": 3,
   "metadata": {},
   "outputs": [],
   "source": [
    "root_path = \"/tf/home/sergio/Tesis\""
   ]
  },
  {
   "cell_type": "code",
   "execution_count": 5,
   "metadata": {},
   "outputs": [
    {
     "name": "stdout",
     "output_type": "stream",
     "text": [
      "(17401, 5)\n",
      "(9583, 2)\n"
     ]
    },
    {
     "data": {
      "text/html": [
       "<div>\n",
       "<style scoped>\n",
       "    .dataframe tbody tr th:only-of-type {\n",
       "        vertical-align: middle;\n",
       "    }\n",
       "\n",
       "    .dataframe tbody tr th {\n",
       "        vertical-align: top;\n",
       "    }\n",
       "\n",
       "    .dataframe thead th {\n",
       "        text-align: right;\n",
       "    }\n",
       "</style>\n",
       "<table border=\"1\" class=\"dataframe\">\n",
       "  <thead>\n",
       "    <tr style=\"text-align: right;\">\n",
       "      <th></th>\n",
       "      <th>file_name</th>\n",
       "      <th>xmin</th>\n",
       "      <th>ymin</th>\n",
       "      <th>xmax</th>\n",
       "      <th>ymax</th>\n",
       "    </tr>\n",
       "  </thead>\n",
       "  <tbody>\n",
       "    <tr>\n",
       "      <th>0</th>\n",
       "      <td>2011_004953.jpg</td>\n",
       "      <td>0.048048</td>\n",
       "      <td>0.034000</td>\n",
       "      <td>0.903904</td>\n",
       "      <td>1.000</td>\n",
       "    </tr>\n",
       "    <tr>\n",
       "      <th>1</th>\n",
       "      <td>2008_006944.jpg</td>\n",
       "      <td>0.384000</td>\n",
       "      <td>0.288000</td>\n",
       "      <td>0.582000</td>\n",
       "      <td>0.832</td>\n",
       "    </tr>\n",
       "    <tr>\n",
       "      <th>2</th>\n",
       "      <td>2008_006944.jpg</td>\n",
       "      <td>0.458000</td>\n",
       "      <td>0.240000</td>\n",
       "      <td>0.620000</td>\n",
       "      <td>0.576</td>\n",
       "    </tr>\n",
       "    <tr>\n",
       "      <th>3</th>\n",
       "      <td>2011_000700.jpg</td>\n",
       "      <td>0.570455</td>\n",
       "      <td>0.179775</td>\n",
       "      <td>0.872727</td>\n",
       "      <td>1.000</td>\n",
       "    </tr>\n",
       "    <tr>\n",
       "      <th>4</th>\n",
       "      <td>2011_000700.jpg</td>\n",
       "      <td>0.263636</td>\n",
       "      <td>0.059925</td>\n",
       "      <td>0.581818</td>\n",
       "      <td>1.000</td>\n",
       "    </tr>\n",
       "  </tbody>\n",
       "</table>\n",
       "</div>"
      ],
      "text/plain": [
       "         file_name      xmin      ymin      xmax   ymax\n",
       "0  2011_004953.jpg  0.048048  0.034000  0.903904  1.000\n",
       "1  2008_006944.jpg  0.384000  0.288000  0.582000  0.832\n",
       "2  2008_006944.jpg  0.458000  0.240000  0.620000  0.576\n",
       "3  2011_000700.jpg  0.570455  0.179775  0.872727  1.000\n",
       "4  2011_000700.jpg  0.263636  0.059925  0.581818  1.000"
      ]
     },
     "metadata": {},
     "output_type": "display_data"
    },
    {
     "data": {
      "text/html": [
       "<div>\n",
       "<style scoped>\n",
       "    .dataframe tbody tr th:only-of-type {\n",
       "        vertical-align: middle;\n",
       "    }\n",
       "\n",
       "    .dataframe tbody tr th {\n",
       "        vertical-align: top;\n",
       "    }\n",
       "\n",
       "    .dataframe thead th {\n",
       "        text-align: right;\n",
       "    }\n",
       "</style>\n",
       "<table border=\"1\" class=\"dataframe\">\n",
       "  <thead>\n",
       "    <tr style=\"text-align: right;\">\n",
       "      <th></th>\n",
       "      <th>width</th>\n",
       "      <th>height</th>\n",
       "    </tr>\n",
       "  </thead>\n",
       "  <tbody>\n",
       "    <tr>\n",
       "      <th>2011_004953.jpg</th>\n",
       "      <td>333</td>\n",
       "      <td>500</td>\n",
       "    </tr>\n",
       "    <tr>\n",
       "      <th>2008_006944.jpg</th>\n",
       "      <td>500</td>\n",
       "      <td>375</td>\n",
       "    </tr>\n",
       "    <tr>\n",
       "      <th>2011_000700.jpg</th>\n",
       "      <td>440</td>\n",
       "      <td>267</td>\n",
       "    </tr>\n",
       "    <tr>\n",
       "      <th>2010_006541.jpg</th>\n",
       "      <td>500</td>\n",
       "      <td>375</td>\n",
       "    </tr>\n",
       "    <tr>\n",
       "      <th>2011_004154.jpg</th>\n",
       "      <td>500</td>\n",
       "      <td>375</td>\n",
       "    </tr>\n",
       "  </tbody>\n",
       "</table>\n",
       "</div>"
      ],
      "text/plain": [
       "                 width  height\n",
       "2011_004953.jpg    333     500\n",
       "2008_006944.jpg    500     375\n",
       "2011_000700.jpg    440     267\n",
       "2010_006541.jpg    500     375\n",
       "2011_004154.jpg    500     375"
      ]
     },
     "metadata": {},
     "output_type": "display_data"
    }
   ],
   "source": [
    "#Leemos los archivos CSV del VOC Dataset\n",
    "\n",
    "os.chdir(root_path+\"/VOC2012\")\n",
    "voc_annotations = pd.read_csv(\"VOC_annotations.csv\")\n",
    "voc_metadata = pd.read_csv(\"VOC_metadata.csv\",index_col=0)\n",
    "print(voc_annotations.shape)\n",
    "print(voc_metadata.shape)\n",
    "display(voc_annotations.head())\n",
    "display(voc_metadata.head())"
   ]
  },
  {
   "cell_type": "code",
   "execution_count": 7,
   "metadata": {},
   "outputs": [
    {
     "name": "stdout",
     "output_type": "stream",
     "text": [
      "(262461, 5)\n",
      "(64115, 2)\n"
     ]
    },
    {
     "data": {
      "text/html": [
       "<div>\n",
       "<style scoped>\n",
       "    .dataframe tbody tr th:only-of-type {\n",
       "        vertical-align: middle;\n",
       "    }\n",
       "\n",
       "    .dataframe tbody tr th {\n",
       "        vertical-align: top;\n",
       "    }\n",
       "\n",
       "    .dataframe thead th {\n",
       "        text-align: right;\n",
       "    }\n",
       "</style>\n",
       "<table border=\"1\" class=\"dataframe\">\n",
       "  <thead>\n",
       "    <tr style=\"text-align: right;\">\n",
       "      <th></th>\n",
       "      <th>file_name</th>\n",
       "      <th>xmin</th>\n",
       "      <th>ymin</th>\n",
       "      <th>xmax</th>\n",
       "      <th>ymax</th>\n",
       "    </tr>\n",
       "  </thead>\n",
       "  <tbody>\n",
       "    <tr>\n",
       "      <th>0</th>\n",
       "      <td>000000262145.jpg</td>\n",
       "      <td>0.604688</td>\n",
       "      <td>0.166511</td>\n",
       "      <td>0.831250</td>\n",
       "      <td>0.920609</td>\n",
       "    </tr>\n",
       "    <tr>\n",
       "      <th>1</th>\n",
       "      <td>000000262145.jpg</td>\n",
       "      <td>0.772359</td>\n",
       "      <td>0.213208</td>\n",
       "      <td>0.790641</td>\n",
       "      <td>0.251054</td>\n",
       "    </tr>\n",
       "    <tr>\n",
       "      <th>2</th>\n",
       "      <td>000000262145.jpg</td>\n",
       "      <td>0.441203</td>\n",
       "      <td>0.203255</td>\n",
       "      <td>0.491453</td>\n",
       "      <td>0.430468</td>\n",
       "    </tr>\n",
       "    <tr>\n",
       "      <th>3</th>\n",
       "      <td>000000262145.jpg</td>\n",
       "      <td>0.822141</td>\n",
       "      <td>0.103372</td>\n",
       "      <td>0.963547</td>\n",
       "      <td>0.543653</td>\n",
       "    </tr>\n",
       "    <tr>\n",
       "      <th>4</th>\n",
       "      <td>000000262145.jpg</td>\n",
       "      <td>0.767984</td>\n",
       "      <td>0.190141</td>\n",
       "      <td>0.831203</td>\n",
       "      <td>0.390000</td>\n",
       "    </tr>\n",
       "  </tbody>\n",
       "</table>\n",
       "</div>"
      ],
      "text/plain": [
       "          file_name      xmin      ymin      xmax      ymax\n",
       "0  000000262145.jpg  0.604688  0.166511  0.831250  0.920609\n",
       "1  000000262145.jpg  0.772359  0.213208  0.790641  0.251054\n",
       "2  000000262145.jpg  0.441203  0.203255  0.491453  0.430468\n",
       "3  000000262145.jpg  0.822141  0.103372  0.963547  0.543653\n",
       "4  000000262145.jpg  0.767984  0.190141  0.831203  0.390000"
      ]
     },
     "metadata": {},
     "output_type": "display_data"
    },
    {
     "data": {
      "text/html": [
       "<div>\n",
       "<style scoped>\n",
       "    .dataframe tbody tr th:only-of-type {\n",
       "        vertical-align: middle;\n",
       "    }\n",
       "\n",
       "    .dataframe tbody tr th {\n",
       "        vertical-align: top;\n",
       "    }\n",
       "\n",
       "    .dataframe thead th {\n",
       "        text-align: right;\n",
       "    }\n",
       "</style>\n",
       "<table border=\"1\" class=\"dataframe\">\n",
       "  <thead>\n",
       "    <tr style=\"text-align: right;\">\n",
       "      <th></th>\n",
       "      <th>width</th>\n",
       "      <th>height</th>\n",
       "    </tr>\n",
       "  </thead>\n",
       "  <tbody>\n",
       "    <tr>\n",
       "      <th>000000262145.jpg</th>\n",
       "      <td>640</td>\n",
       "      <td>427</td>\n",
       "    </tr>\n",
       "    <tr>\n",
       "      <th>000000262146.jpg</th>\n",
       "      <td>480</td>\n",
       "      <td>640</td>\n",
       "    </tr>\n",
       "    <tr>\n",
       "      <th>000000524291.jpg</th>\n",
       "      <td>640</td>\n",
       "      <td>426</td>\n",
       "    </tr>\n",
       "    <tr>\n",
       "      <th>000000262148.jpg</th>\n",
       "      <td>640</td>\n",
       "      <td>512</td>\n",
       "    </tr>\n",
       "    <tr>\n",
       "      <th>000000393223.jpg</th>\n",
       "      <td>640</td>\n",
       "      <td>480</td>\n",
       "    </tr>\n",
       "  </tbody>\n",
       "</table>\n",
       "</div>"
      ],
      "text/plain": [
       "                  width  height\n",
       "000000262145.jpg    640     427\n",
       "000000262146.jpg    480     640\n",
       "000000524291.jpg    640     426\n",
       "000000262148.jpg    640     512\n",
       "000000393223.jpg    640     480"
      ]
     },
     "metadata": {},
     "output_type": "display_data"
    },
    {
     "name": "stdout",
     "output_type": "stream",
     "text": [
      "(11004, 5)\n",
      "(2693, 2)\n"
     ]
    },
    {
     "data": {
      "text/html": [
       "<div>\n",
       "<style scoped>\n",
       "    .dataframe tbody tr th:only-of-type {\n",
       "        vertical-align: middle;\n",
       "    }\n",
       "\n",
       "    .dataframe tbody tr th {\n",
       "        vertical-align: top;\n",
       "    }\n",
       "\n",
       "    .dataframe thead th {\n",
       "        text-align: right;\n",
       "    }\n",
       "</style>\n",
       "<table border=\"1\" class=\"dataframe\">\n",
       "  <thead>\n",
       "    <tr style=\"text-align: right;\">\n",
       "      <th></th>\n",
       "      <th>file_name</th>\n",
       "      <th>xmin</th>\n",
       "      <th>ymin</th>\n",
       "      <th>xmax</th>\n",
       "      <th>ymax</th>\n",
       "    </tr>\n",
       "  </thead>\n",
       "  <tbody>\n",
       "    <tr>\n",
       "      <th>0</th>\n",
       "      <td>000000532481.jpg</td>\n",
       "      <td>0.391906</td>\n",
       "      <td>0.394977</td>\n",
       "      <td>0.501453</td>\n",
       "      <td>0.547277</td>\n",
       "    </tr>\n",
       "    <tr>\n",
       "      <th>1</th>\n",
       "      <td>000000532481.jpg</td>\n",
       "      <td>0.446172</td>\n",
       "      <td>0.869859</td>\n",
       "      <td>0.465031</td>\n",
       "      <td>0.914953</td>\n",
       "    </tr>\n",
       "    <tr>\n",
       "      <th>2</th>\n",
       "      <td>000000458755.jpg</td>\n",
       "      <td>0.107859</td>\n",
       "      <td>0.078646</td>\n",
       "      <td>0.901687</td>\n",
       "      <td>0.986521</td>\n",
       "    </tr>\n",
       "    <tr>\n",
       "      <th>3</th>\n",
       "      <td>000000458755.jpg</td>\n",
       "      <td>0.885938</td>\n",
       "      <td>0.002646</td>\n",
       "      <td>1.000000</td>\n",
       "      <td>0.183604</td>\n",
       "    </tr>\n",
       "    <tr>\n",
       "      <th>4</th>\n",
       "      <td>000000458755.jpg</td>\n",
       "      <td>0.921906</td>\n",
       "      <td>0.191021</td>\n",
       "      <td>0.999437</td>\n",
       "      <td>0.393250</td>\n",
       "    </tr>\n",
       "  </tbody>\n",
       "</table>\n",
       "</div>"
      ],
      "text/plain": [
       "          file_name      xmin      ymin      xmax      ymax\n",
       "0  000000532481.jpg  0.391906  0.394977  0.501453  0.547277\n",
       "1  000000532481.jpg  0.446172  0.869859  0.465031  0.914953\n",
       "2  000000458755.jpg  0.107859  0.078646  0.901687  0.986521\n",
       "3  000000458755.jpg  0.885938  0.002646  1.000000  0.183604\n",
       "4  000000458755.jpg  0.921906  0.191021  0.999437  0.393250"
      ]
     },
     "metadata": {},
     "output_type": "display_data"
    },
    {
     "data": {
      "text/html": [
       "<div>\n",
       "<style scoped>\n",
       "    .dataframe tbody tr th:only-of-type {\n",
       "        vertical-align: middle;\n",
       "    }\n",
       "\n",
       "    .dataframe tbody tr th {\n",
       "        vertical-align: top;\n",
       "    }\n",
       "\n",
       "    .dataframe thead th {\n",
       "        text-align: right;\n",
       "    }\n",
       "</style>\n",
       "<table border=\"1\" class=\"dataframe\">\n",
       "  <thead>\n",
       "    <tr style=\"text-align: right;\">\n",
       "      <th></th>\n",
       "      <th>width</th>\n",
       "      <th>height</th>\n",
       "    </tr>\n",
       "  </thead>\n",
       "  <tbody>\n",
       "    <tr>\n",
       "      <th>000000532481.jpg</th>\n",
       "      <td>640</td>\n",
       "      <td>426</td>\n",
       "    </tr>\n",
       "    <tr>\n",
       "      <th>000000458755.jpg</th>\n",
       "      <td>640</td>\n",
       "      <td>480</td>\n",
       "    </tr>\n",
       "    <tr>\n",
       "      <th>000000385029.jpg</th>\n",
       "      <td>640</td>\n",
       "      <td>480</td>\n",
       "    </tr>\n",
       "    <tr>\n",
       "      <th>000000311303.jpg</th>\n",
       "      <td>640</td>\n",
       "      <td>427</td>\n",
       "    </tr>\n",
       "    <tr>\n",
       "      <th>000000393226.jpg</th>\n",
       "      <td>640</td>\n",
       "      <td>480</td>\n",
       "    </tr>\n",
       "  </tbody>\n",
       "</table>\n",
       "</div>"
      ],
      "text/plain": [
       "                  width  height\n",
       "000000532481.jpg    640     426\n",
       "000000458755.jpg    640     480\n",
       "000000385029.jpg    640     480\n",
       "000000311303.jpg    640     427\n",
       "000000393226.jpg    640     480"
      ]
     },
     "metadata": {},
     "output_type": "display_data"
    }
   ],
   "source": [
    "#Leemos los archivos CSV del COCO Dataset\n",
    "\n",
    "os.chdir(root_path+\"/COCODataset/coco_csvs\")\n",
    "coco_annotations_train = pd.read_csv(\"COCO_annotations_train.csv\", index_col=0)\n",
    "coco_metadata_train = pd.read_csv(\"COCO_metadata_train.csv\", index_col=0)\n",
    "\n",
    "coco_annotations_val = pd.read_csv(\"COCO_annotations_val.csv\", index_col=0)\n",
    "coco_metadata_val = pd.read_csv(\"COCO_metadata_val.csv\", index_col=0)\n",
    "\n",
    "print(coco_annotations_train.shape)\n",
    "print(coco_metadata_train.shape)\n",
    "display(coco_annotations_train.head())\n",
    "display(coco_metadata_train.head())\n",
    "\n",
    "print(coco_annotations_val.shape)\n",
    "print(coco_metadata_val.shape)\n",
    "display(coco_annotations_val.head())\n",
    "display(coco_metadata_val.head())"
   ]
  },
  {
   "cell_type": "markdown",
   "metadata": {},
   "source": [
    "Juntando los CSV de VOC Dtaset y COCO Dataset"
   ]
  },
  {
   "cell_type": "code",
   "execution_count": 8,
   "metadata": {},
   "outputs": [],
   "source": [
    "frames = [coco_annotations_train,voc_annotations]\n",
    "annotations_train_df = pd.concat(frames)\n",
    "\n",
    "frames = [coco_metadata_train,voc_metadata]\n",
    "metadata_train_df = pd.concat(frames)"
   ]
  },
  {
   "cell_type": "code",
   "execution_count": 9,
   "metadata": {},
   "outputs": [
    {
     "data": {
      "text/html": [
       "<div>\n",
       "<style scoped>\n",
       "    .dataframe tbody tr th:only-of-type {\n",
       "        vertical-align: middle;\n",
       "    }\n",
       "\n",
       "    .dataframe tbody tr th {\n",
       "        vertical-align: top;\n",
       "    }\n",
       "\n",
       "    .dataframe thead th {\n",
       "        text-align: right;\n",
       "    }\n",
       "</style>\n",
       "<table border=\"1\" class=\"dataframe\">\n",
       "  <thead>\n",
       "    <tr style=\"text-align: right;\">\n",
       "      <th></th>\n",
       "      <th>file_name</th>\n",
       "      <th>xmin</th>\n",
       "      <th>ymin</th>\n",
       "      <th>xmax</th>\n",
       "      <th>ymax</th>\n",
       "    </tr>\n",
       "  </thead>\n",
       "  <tbody>\n",
       "    <tr>\n",
       "      <th>0</th>\n",
       "      <td>000000262145.jpg</td>\n",
       "      <td>0.604688</td>\n",
       "      <td>0.166511</td>\n",
       "      <td>0.831250</td>\n",
       "      <td>0.920609</td>\n",
       "    </tr>\n",
       "    <tr>\n",
       "      <th>1</th>\n",
       "      <td>000000262145.jpg</td>\n",
       "      <td>0.772359</td>\n",
       "      <td>0.213208</td>\n",
       "      <td>0.790641</td>\n",
       "      <td>0.251054</td>\n",
       "    </tr>\n",
       "    <tr>\n",
       "      <th>2</th>\n",
       "      <td>000000262145.jpg</td>\n",
       "      <td>0.441203</td>\n",
       "      <td>0.203255</td>\n",
       "      <td>0.491453</td>\n",
       "      <td>0.430468</td>\n",
       "    </tr>\n",
       "    <tr>\n",
       "      <th>3</th>\n",
       "      <td>000000262145.jpg</td>\n",
       "      <td>0.822141</td>\n",
       "      <td>0.103372</td>\n",
       "      <td>0.963547</td>\n",
       "      <td>0.543653</td>\n",
       "    </tr>\n",
       "    <tr>\n",
       "      <th>4</th>\n",
       "      <td>000000262145.jpg</td>\n",
       "      <td>0.767984</td>\n",
       "      <td>0.190141</td>\n",
       "      <td>0.831203</td>\n",
       "      <td>0.390000</td>\n",
       "    </tr>\n",
       "    <tr>\n",
       "      <th>...</th>\n",
       "      <td>...</td>\n",
       "      <td>...</td>\n",
       "      <td>...</td>\n",
       "      <td>...</td>\n",
       "      <td>...</td>\n",
       "    </tr>\n",
       "    <tr>\n",
       "      <th>17396</th>\n",
       "      <td>2008_000916.jpg</td>\n",
       "      <td>0.890000</td>\n",
       "      <td>0.504000</td>\n",
       "      <td>0.958000</td>\n",
       "      <td>0.717333</td>\n",
       "    </tr>\n",
       "    <tr>\n",
       "      <th>17397</th>\n",
       "      <td>2008_000916.jpg</td>\n",
       "      <td>0.888000</td>\n",
       "      <td>0.517333</td>\n",
       "      <td>0.926000</td>\n",
       "      <td>0.605333</td>\n",
       "    </tr>\n",
       "    <tr>\n",
       "      <th>17398</th>\n",
       "      <td>2012_000065.jpg</td>\n",
       "      <td>0.002000</td>\n",
       "      <td>0.264000</td>\n",
       "      <td>0.814000</td>\n",
       "      <td>1.000000</td>\n",
       "    </tr>\n",
       "    <tr>\n",
       "      <th>17399</th>\n",
       "      <td>2009_002407.jpg</td>\n",
       "      <td>0.304000</td>\n",
       "      <td>0.132132</td>\n",
       "      <td>0.532000</td>\n",
       "      <td>0.810811</td>\n",
       "    </tr>\n",
       "    <tr>\n",
       "      <th>17400</th>\n",
       "      <td>2009_002407.jpg</td>\n",
       "      <td>0.168000</td>\n",
       "      <td>0.261261</td>\n",
       "      <td>0.818000</td>\n",
       "      <td>1.000000</td>\n",
       "    </tr>\n",
       "  </tbody>\n",
       "</table>\n",
       "<p>279862 rows × 5 columns</p>\n",
       "</div>"
      ],
      "text/plain": [
       "              file_name      xmin      ymin      xmax      ymax\n",
       "0      000000262145.jpg  0.604688  0.166511  0.831250  0.920609\n",
       "1      000000262145.jpg  0.772359  0.213208  0.790641  0.251054\n",
       "2      000000262145.jpg  0.441203  0.203255  0.491453  0.430468\n",
       "3      000000262145.jpg  0.822141  0.103372  0.963547  0.543653\n",
       "4      000000262145.jpg  0.767984  0.190141  0.831203  0.390000\n",
       "...                 ...       ...       ...       ...       ...\n",
       "17396   2008_000916.jpg  0.890000  0.504000  0.958000  0.717333\n",
       "17397   2008_000916.jpg  0.888000  0.517333  0.926000  0.605333\n",
       "17398   2012_000065.jpg  0.002000  0.264000  0.814000  1.000000\n",
       "17399   2009_002407.jpg  0.304000  0.132132  0.532000  0.810811\n",
       "17400   2009_002407.jpg  0.168000  0.261261  0.818000  1.000000\n",
       "\n",
       "[279862 rows x 5 columns]"
      ]
     },
     "execution_count": 9,
     "metadata": {},
     "output_type": "execute_result"
    }
   ],
   "source": [
    "annotations_train_df"
   ]
  },
  {
   "cell_type": "code",
   "execution_count": 22,
   "metadata": {},
   "outputs": [
    {
     "data": {
      "text/plain": [
       "000000497261.jpg    20\n",
       "2008_001825.jpg     18\n",
       "2008_006265.jpg     18\n",
       "000000427154.jpg    18\n",
       "2008_003819.jpg     18\n",
       "                    ..\n",
       "000000249515.jpg     1\n",
       "000000169028.jpg     1\n",
       "000000043324.jpg     1\n",
       "000000132527.jpg     1\n",
       "000000226939.jpg     1\n",
       "Name: file_name, Length: 73698, dtype: int64"
      ]
     },
     "execution_count": 22,
     "metadata": {},
     "output_type": "execute_result"
    }
   ],
   "source": [
    "annotations_train_df.loc[:,\"file_name\"].value_counts()"
   ]
  },
  {
   "cell_type": "code",
   "execution_count": 23,
   "metadata": {},
   "outputs": [],
   "source": [
    "#Obtenemos el número máximo de objetos en una sola imagen\n",
    "image_name = annotations_train_df.file_name.mode().values[0]\n",
    "max_objects = len(annotations_train_df[annotations_train_df.file_name==image_name])"
   ]
  },
  {
   "cell_type": "code",
   "execution_count": 25,
   "metadata": {},
   "outputs": [
    {
     "data": {
      "text/plain": [
       "20"
      ]
     },
     "execution_count": 25,
     "metadata": {},
     "output_type": "execute_result"
    }
   ],
   "source": [
    "max_objects"
   ]
  },
  {
   "cell_type": "code",
   "execution_count": 26,
   "metadata": {},
   "outputs": [
    {
     "data": {
      "text/html": [
       "<div>\n",
       "<style scoped>\n",
       "    .dataframe tbody tr th:only-of-type {\n",
       "        vertical-align: middle;\n",
       "    }\n",
       "\n",
       "    .dataframe tbody tr th {\n",
       "        vertical-align: top;\n",
       "    }\n",
       "\n",
       "    .dataframe thead th {\n",
       "        text-align: right;\n",
       "    }\n",
       "</style>\n",
       "<table border=\"1\" class=\"dataframe\">\n",
       "  <thead>\n",
       "    <tr style=\"text-align: right;\">\n",
       "      <th></th>\n",
       "      <th>width</th>\n",
       "      <th>height</th>\n",
       "    </tr>\n",
       "  </thead>\n",
       "  <tbody>\n",
       "    <tr>\n",
       "      <th>000000262145.jpg</th>\n",
       "      <td>640</td>\n",
       "      <td>427</td>\n",
       "    </tr>\n",
       "    <tr>\n",
       "      <th>000000262146.jpg</th>\n",
       "      <td>480</td>\n",
       "      <td>640</td>\n",
       "    </tr>\n",
       "    <tr>\n",
       "      <th>000000524291.jpg</th>\n",
       "      <td>640</td>\n",
       "      <td>426</td>\n",
       "    </tr>\n",
       "    <tr>\n",
       "      <th>000000262148.jpg</th>\n",
       "      <td>640</td>\n",
       "      <td>512</td>\n",
       "    </tr>\n",
       "    <tr>\n",
       "      <th>000000393223.jpg</th>\n",
       "      <td>640</td>\n",
       "      <td>480</td>\n",
       "    </tr>\n",
       "    <tr>\n",
       "      <th>...</th>\n",
       "      <td>...</td>\n",
       "      <td>...</td>\n",
       "    </tr>\n",
       "    <tr>\n",
       "      <th>2010_006788.jpg</th>\n",
       "      <td>500</td>\n",
       "      <td>375</td>\n",
       "    </tr>\n",
       "    <tr>\n",
       "      <th>2012_002969.jpg</th>\n",
       "      <td>500</td>\n",
       "      <td>333</td>\n",
       "    </tr>\n",
       "    <tr>\n",
       "      <th>2008_000916.jpg</th>\n",
       "      <td>500</td>\n",
       "      <td>375</td>\n",
       "    </tr>\n",
       "    <tr>\n",
       "      <th>2012_000065.jpg</th>\n",
       "      <td>500</td>\n",
       "      <td>375</td>\n",
       "    </tr>\n",
       "    <tr>\n",
       "      <th>2009_002407.jpg</th>\n",
       "      <td>500</td>\n",
       "      <td>333</td>\n",
       "    </tr>\n",
       "  </tbody>\n",
       "</table>\n",
       "<p>73698 rows × 2 columns</p>\n",
       "</div>"
      ],
      "text/plain": [
       "                  width  height\n",
       "000000262145.jpg    640     427\n",
       "000000262146.jpg    480     640\n",
       "000000524291.jpg    640     426\n",
       "000000262148.jpg    640     512\n",
       "000000393223.jpg    640     480\n",
       "...                 ...     ...\n",
       "2010_006788.jpg     500     375\n",
       "2012_002969.jpg     500     333\n",
       "2008_000916.jpg     500     375\n",
       "2012_000065.jpg     500     375\n",
       "2009_002407.jpg     500     333\n",
       "\n",
       "[73698 rows x 2 columns]"
      ]
     },
     "execution_count": 26,
     "metadata": {},
     "output_type": "execute_result"
    }
   ],
   "source": [
    "metadata_train_df"
   ]
  },
  {
   "cell_type": "code",
   "execution_count": 27,
   "metadata": {},
   "outputs": [
    {
     "name": "stdout",
     "output_type": "stream",
     "text": [
      "[[0.6046875  0.16651054 0.83125    0.9206089 ]\n",
      " [0.77235937 0.21320843 0.79064062 0.25105386]\n",
      " [0.44120312 0.20325527 0.49145312 0.43046838]\n",
      " [0.82214062 0.10337237 0.96354688 0.5436534 ]\n",
      " [0.76798437 0.19014052 0.83120313 0.39      ]\n",
      " [0.7466875  0.20562061 0.76809375 0.28384075]\n",
      " [0.48278125 0.17976581 0.56073438 0.52807963]\n",
      " [0.11245313 0.24494145 0.20540625 0.5842623 ]\n",
      " [0.55092188 0.31885246 0.59490625 0.39107728]\n",
      " [0.08153125 0.23030445 0.11573438 0.30934426]\n",
      " [0.06278125 0.22166276 0.08457812 0.27447307]\n",
      " [0.00515625 0.28400468 0.13521875 0.57562061]\n",
      " [0.23934375 0.14501171 0.4061875  0.42093677]\n",
      " [0.040625   0.1498829  0.9984375  0.44496487]]\n",
      "[[0.4 0.4 0.5 0.5]\n",
      " [0.4 0.4 0.5 0.5]\n",
      " [0.4 0.4 0.5 0.5]\n",
      " [0.4 0.4 0.5 0.5]\n",
      " [0.4 0.4 0.5 0.5]\n",
      " [0.4 0.4 0.5 0.5]]\n"
     ]
    },
    {
     "data": {
      "text/plain": [
       "array([[0.6046875 , 0.16651054, 0.83125   , 0.9206089 ],\n",
       "       [0.77235937, 0.21320843, 0.79064062, 0.25105386],\n",
       "       [0.44120312, 0.20325527, 0.49145312, 0.43046838],\n",
       "       [0.82214062, 0.10337237, 0.96354688, 0.5436534 ],\n",
       "       [0.76798437, 0.19014052, 0.83120313, 0.39      ],\n",
       "       [0.7466875 , 0.20562061, 0.76809375, 0.28384075],\n",
       "       [0.48278125, 0.17976581, 0.56073438, 0.52807963],\n",
       "       [0.11245313, 0.24494145, 0.20540625, 0.5842623 ],\n",
       "       [0.55092188, 0.31885246, 0.59490625, 0.39107728],\n",
       "       [0.08153125, 0.23030445, 0.11573438, 0.30934426],\n",
       "       [0.06278125, 0.22166276, 0.08457812, 0.27447307],\n",
       "       [0.00515625, 0.28400468, 0.13521875, 0.57562061],\n",
       "       [0.23934375, 0.14501171, 0.4061875 , 0.42093677],\n",
       "       [0.040625  , 0.1498829 , 0.9984375 , 0.44496487],\n",
       "       [0.4       , 0.4       , 0.5       , 0.5       ],\n",
       "       [0.4       , 0.4       , 0.5       , 0.5       ],\n",
       "       [0.4       , 0.4       , 0.5       , 0.5       ],\n",
       "       [0.4       , 0.4       , 0.5       , 0.5       ],\n",
       "       [0.4       , 0.4       , 0.5       , 0.5       ],\n",
       "       [0.4       , 0.4       , 0.5       , 0.5       ]])"
      ]
     },
     "execution_count": 27,
     "metadata": {},
     "output_type": "execute_result"
    }
   ],
   "source": [
    "boxes = annotations_train_df[annotations_train_df.file_name ==\"000000262145.jpg\"].iloc[:,1:].values\n",
    "print(boxes)\n",
    "dummy_box = [[0.4,0.4,0.5,0.5]]\n",
    "ux= np.repeat(dummy_box,repeats = 20-boxes.shape[0],axis=0)\n",
    "print(ux)\n",
    "\n",
    "np.concatenate((boxes,ux),axis=0)"
   ]
  },
  {
   "cell_type": "code",
   "execution_count": 14,
   "metadata": {},
   "outputs": [],
   "source": [
    "os.chdir(root_path+\"/TinyYOLOv3-Pedestrian-Detection\")\n",
    "annotations_train_df.to_csv(\"annotations_train_df.csv\",index=False)\n",
    "metadata_train_df.to_csv(\"metadata_train_df.csv\",index=False)"
   ]
  },
  {
   "cell_type": "code",
   "execution_count": 28,
   "metadata": {},
   "outputs": [
    {
     "ename": "NameError",
     "evalue": "name 'COCO_metadata_train' is not defined",
     "output_type": "error",
     "traceback": [
      "\u001b[0;31m---------------------------------------------------------------------------\u001b[0m",
      "\u001b[0;31mNameError\u001b[0m                                 Traceback (most recent call last)",
      "\u001b[0;32m<ipython-input-28-63175fa7d0d5>\u001b[0m in \u001b[0;36m<module>\u001b[0;34m\u001b[0m\n\u001b[0;32m----> 1\u001b[0;31m \u001b[0mCOCO_metadata_train\u001b[0m\u001b[0;34m.\u001b[0m\u001b[0mhead\u001b[0m\u001b[0;34m(\u001b[0m\u001b[0;34m)\u001b[0m\u001b[0;34m\u001b[0m\u001b[0;34m\u001b[0m\u001b[0m\n\u001b[0m",
      "\u001b[0;31mNameError\u001b[0m: name 'COCO_metadata_train' is not defined"
     ]
    }
   ],
   "source": [
    "COCO_metadata_train.head()"
   ]
  },
  {
   "cell_type": "code",
   "execution_count": 29,
   "metadata": {},
   "outputs": [
    {
     "data": {
      "text/html": [
       "<div>\n",
       "<style scoped>\n",
       "    .dataframe tbody tr th:only-of-type {\n",
       "        vertical-align: middle;\n",
       "    }\n",
       "\n",
       "    .dataframe tbody tr th {\n",
       "        vertical-align: top;\n",
       "    }\n",
       "\n",
       "    .dataframe thead th {\n",
       "        text-align: right;\n",
       "    }\n",
       "</style>\n",
       "<table border=\"1\" class=\"dataframe\">\n",
       "  <thead>\n",
       "    <tr style=\"text-align: right;\">\n",
       "      <th></th>\n",
       "      <th>width</th>\n",
       "      <th>height</th>\n",
       "    </tr>\n",
       "  </thead>\n",
       "  <tbody>\n",
       "    <tr>\n",
       "      <th>000000262145.jpg</th>\n",
       "      <td>640</td>\n",
       "      <td>427</td>\n",
       "    </tr>\n",
       "    <tr>\n",
       "      <th>000000262146.jpg</th>\n",
       "      <td>480</td>\n",
       "      <td>640</td>\n",
       "    </tr>\n",
       "    <tr>\n",
       "      <th>000000524291.jpg</th>\n",
       "      <td>640</td>\n",
       "      <td>426</td>\n",
       "    </tr>\n",
       "    <tr>\n",
       "      <th>000000262148.jpg</th>\n",
       "      <td>640</td>\n",
       "      <td>512</td>\n",
       "    </tr>\n",
       "    <tr>\n",
       "      <th>000000393223.jpg</th>\n",
       "      <td>640</td>\n",
       "      <td>480</td>\n",
       "    </tr>\n",
       "    <tr>\n",
       "      <th>...</th>\n",
       "      <td>...</td>\n",
       "      <td>...</td>\n",
       "    </tr>\n",
       "    <tr>\n",
       "      <th>000000524273.jpg</th>\n",
       "      <td>640</td>\n",
       "      <td>427</td>\n",
       "    </tr>\n",
       "    <tr>\n",
       "      <th>000000131058.jpg</th>\n",
       "      <td>640</td>\n",
       "      <td>480</td>\n",
       "    </tr>\n",
       "    <tr>\n",
       "      <th>000000393207.jpg</th>\n",
       "      <td>640</td>\n",
       "      <td>359</td>\n",
       "    </tr>\n",
       "    <tr>\n",
       "      <th>000000262136.jpg</th>\n",
       "      <td>500</td>\n",
       "      <td>375</td>\n",
       "    </tr>\n",
       "    <tr>\n",
       "      <th>000000524282.jpg</th>\n",
       "      <td>640</td>\n",
       "      <td>480</td>\n",
       "    </tr>\n",
       "  </tbody>\n",
       "</table>\n",
       "<p>64115 rows × 2 columns</p>\n",
       "</div>"
      ],
      "text/plain": [
       "                  width  height\n",
       "000000262145.jpg    640     427\n",
       "000000262146.jpg    480     640\n",
       "000000524291.jpg    640     426\n",
       "000000262148.jpg    640     512\n",
       "000000393223.jpg    640     480\n",
       "...                 ...     ...\n",
       "000000524273.jpg    640     427\n",
       "000000131058.jpg    640     480\n",
       "000000393207.jpg    640     359\n",
       "000000262136.jpg    500     375\n",
       "000000524282.jpg    640     480\n",
       "\n",
       "[64115 rows x 2 columns]"
      ]
     },
     "execution_count": 29,
     "metadata": {},
     "output_type": "execute_result"
    }
   ],
   "source": [
    "coco_metadata_train"
   ]
  },
  {
   "cell_type": "code",
   "execution_count": 30,
   "metadata": {},
   "outputs": [
    {
     "data": {
      "text/html": [
       "<div>\n",
       "<style scoped>\n",
       "    .dataframe tbody tr th:only-of-type {\n",
       "        vertical-align: middle;\n",
       "    }\n",
       "\n",
       "    .dataframe tbody tr th {\n",
       "        vertical-align: top;\n",
       "    }\n",
       "\n",
       "    .dataframe thead th {\n",
       "        text-align: right;\n",
       "    }\n",
       "</style>\n",
       "<table border=\"1\" class=\"dataframe\">\n",
       "  <thead>\n",
       "    <tr style=\"text-align: right;\">\n",
       "      <th></th>\n",
       "      <th>width</th>\n",
       "      <th>height</th>\n",
       "    </tr>\n",
       "  </thead>\n",
       "  <tbody>\n",
       "    <tr>\n",
       "      <th>2011_004953.jpg</th>\n",
       "      <td>333</td>\n",
       "      <td>500</td>\n",
       "    </tr>\n",
       "    <tr>\n",
       "      <th>2008_006944.jpg</th>\n",
       "      <td>500</td>\n",
       "      <td>375</td>\n",
       "    </tr>\n",
       "    <tr>\n",
       "      <th>2011_000700.jpg</th>\n",
       "      <td>440</td>\n",
       "      <td>267</td>\n",
       "    </tr>\n",
       "    <tr>\n",
       "      <th>2010_006541.jpg</th>\n",
       "      <td>500</td>\n",
       "      <td>375</td>\n",
       "    </tr>\n",
       "    <tr>\n",
       "      <th>2011_004154.jpg</th>\n",
       "      <td>500</td>\n",
       "      <td>375</td>\n",
       "    </tr>\n",
       "    <tr>\n",
       "      <th>...</th>\n",
       "      <td>...</td>\n",
       "      <td>...</td>\n",
       "    </tr>\n",
       "    <tr>\n",
       "      <th>2010_006788.jpg</th>\n",
       "      <td>500</td>\n",
       "      <td>375</td>\n",
       "    </tr>\n",
       "    <tr>\n",
       "      <th>2012_002969.jpg</th>\n",
       "      <td>500</td>\n",
       "      <td>333</td>\n",
       "    </tr>\n",
       "    <tr>\n",
       "      <th>2008_000916.jpg</th>\n",
       "      <td>500</td>\n",
       "      <td>375</td>\n",
       "    </tr>\n",
       "    <tr>\n",
       "      <th>2012_000065.jpg</th>\n",
       "      <td>500</td>\n",
       "      <td>375</td>\n",
       "    </tr>\n",
       "    <tr>\n",
       "      <th>2009_002407.jpg</th>\n",
       "      <td>500</td>\n",
       "      <td>333</td>\n",
       "    </tr>\n",
       "  </tbody>\n",
       "</table>\n",
       "<p>9583 rows × 2 columns</p>\n",
       "</div>"
      ],
      "text/plain": [
       "                 width  height\n",
       "2011_004953.jpg    333     500\n",
       "2008_006944.jpg    500     375\n",
       "2011_000700.jpg    440     267\n",
       "2010_006541.jpg    500     375\n",
       "2011_004154.jpg    500     375\n",
       "...                ...     ...\n",
       "2010_006788.jpg    500     375\n",
       "2012_002969.jpg    500     333\n",
       "2008_000916.jpg    500     375\n",
       "2012_000065.jpg    500     375\n",
       "2009_002407.jpg    500     333\n",
       "\n",
       "[9583 rows x 2 columns]"
      ]
     },
     "execution_count": 30,
     "metadata": {},
     "output_type": "execute_result"
    }
   ],
   "source": [
    "voc_metadata"
   ]
  },
  {
   "cell_type": "code",
   "execution_count": 31,
   "metadata": {},
   "outputs": [],
   "source": [
    "coco_filenames =list(coco_metadata_train.index)"
   ]
  },
  {
   "cell_type": "code",
   "execution_count": 33,
   "metadata": {},
   "outputs": [],
   "source": [
    "voc_filenames =list(voc_metadata.index)"
   ]
  },
  {
   "cell_type": "code",
   "execution_count": 34,
   "metadata": {},
   "outputs": [],
   "source": [
    "import os\n",
    "os.chdir(root_path+\"/TinyYOLOv3-Pedestrian-Detection\")\n",
    "os.mkdir(\"pedestrian_dataset_train\")"
   ]
  },
  {
   "cell_type": "code",
   "execution_count": 35,
   "metadata": {},
   "outputs": [],
   "source": [
    "from shutil import copyfile\n",
    "\n",
    "def get_class_images(SOURCE, NEW_LOC,CLASS_NAMES):\n",
    "\n",
    "    names_list =os.listdir(SOURCE)\n",
    "\n",
    "    for i in names_list:\n",
    "        if i in CLASS_NAMES:\n",
    "                copyfile(SOURCE + \"/\" + i, NEW_LOC + \"/\" + i)\n",
    "\n",
    "#dict_pedestrian = get_pedestrian(data) \n",
    "#pedestrian_names = list(dict_pedestrian.keys())\n",
    "#print(len(pedestrian_names))"
   ]
  },
  {
   "cell_type": "code",
   "execution_count": 36,
   "metadata": {},
   "outputs": [],
   "source": [
    "#get_class_images(root_path+\"/COCODataset/train2017\",root_path+\"/TinyYOLOv3-Pedestrian-Detection/pedestrian_dataset_train\",coco_filenames)"
   ]
  },
  {
   "cell_type": "code",
   "execution_count": 37,
   "metadata": {},
   "outputs": [],
   "source": [
    "#get_class_images(root_path+\"/VOC2012/JPEGImages\",root_path+\"/TinyYOLOv3-Pedestrian-Detection/pedestrian_dataset_train\",voc_filenames)"
   ]
  },
  {
   "cell_type": "markdown",
   "metadata": {},
   "source": [
    "## Creación de los archivos TFRecords"
   ]
  },
  {
   "cell_type": "code",
   "execution_count": 38,
   "metadata": {},
   "outputs": [],
   "source": [
    "\"\"\" Create tfrecords for image data\"\"\"\n",
    "\n",
    "class ImageTFRecordsCreator(object):\n",
    "    \"\"\" \n",
    "    Class\n",
    "    \"\"\"\n",
    "    def __init__(self, dataframe_annotations,dataframe_metadata,num_shards = 1000):\n",
    "        \"\"\" \n",
    "        Constructor\n",
    "\n",
    "        Args:\n",
    "            num_shards (int): number of sharded tfrecord\n",
    "        \"\"\"\n",
    "        self.num_shards = num_shards\n",
    "        self.df_annotations = dataframe_annotations\n",
    "        self.df_metadata = dataframe_metadata\n",
    "        \n",
    "    def _int64_feature(self, value):\n",
    "\n",
    "        if not isinstance(value, list):\n",
    "            value = [value]\n",
    "        return tf.train.Feature(int64_list=tf.train.Int64List(value=value))\n",
    "\n",
    "    def _bytes_feature(self, value):\n",
    " \n",
    "        if not isinstance(value, list):\n",
    "            value = [value]\n",
    "        return tf.train.Feature(bytes_list=tf.train.BytesList(value=value))\n",
    "    \n",
    "    def _read_image_file(self,filename):\n",
    "\n",
    "        with tf.io.gfile.GFile(filename, 'rb') as f:\n",
    "            img_raw = f.read() #Lee la imagen directamente en serialized TensorfProto proto\n",
    "            \n",
    "        #width = self.df_metadata[self.df_metadata.file_name == filename][\"width\"].values\n",
    "        #height = self.df_metadata[self.df_metadata.file_name == filename][\"height\"].values\n",
    "        #depth = 3\n",
    "        bboxes = self.df_annotations[self.df_annotations.file_name ==filename].iloc[:,1:].values\n",
    "        dummy_box = [[0.4,0.4,0.5,0.5]]\n",
    "        num_real_boxes = bboxes.shape[0]\n",
    "        ux= np.repeat(dummy_box,repeats = 20-bboxes.shape[0],axis=0)\n",
    "        bboxes =np.float32(np.concatenate((bboxes,ux),axis=0))\n",
    "        bytes_boxes = tf.io.serialize_tensor(bboxes).numpy() #Pasa Transforms a Tensor into a serialized TensorProto proto.\n",
    "\n",
    "\n",
    "        return img_raw,bytes_boxes,num_real_boxes\n",
    "        \n",
    "\n",
    "    # Convert c data to tfrecord\n",
    "    def _convert_shard_data_to_tfrecord(self, input_files, output_file):\n",
    "        \"\"\" Convert sharded input files to tfrecords\n",
    "        \"\"\"\n",
    "        print('Generating %s' % output_file)\n",
    "        with tf.io.TFRecordWriter(output_file) as record_writer:\n",
    "            for input_file in input_files:\n",
    "                img_raw,bytes_boxes,num_real_boxes= self._read_image_file(input_file) \n",
    "                feature={\n",
    "                        'bboxes': self._bytes_feature(bytes_boxes),\n",
    "                        'image_raw': self._bytes_feature(tf.compat.as_bytes(img_raw)),\n",
    "                        'num_real_boxes':self._int64_feature(num_real_boxes)\n",
    "                        }\n",
    "                example = tf.train.Example(features=tf.train.Features(feature=feature))\n",
    "                record_writer.write(example.SerializeToString())\n",
    "\n",
    "    # Convert data to tfrecord\n",
    "    def _convert_data_to_tfrecord(self, input_files, output_dir):\n",
    "        \"\"\" convert input image files to tfrecords\n",
    "          Args:\n",
    "            input_files (list): List of input images to be converted to tfr\n",
    "            output_dir (str): Output folder where created tfr files will be kept\n",
    "          Description:\n",
    "            Shard input_files if they are above threshold and create those many tfr\n",
    "        \"\"\"\n",
    "        num_input_files = len(input_files)\n",
    "        for i in tqdm(range(0, num_input_files, self.num_shards)):\n",
    "            sharded_input_files = input_files[i:i+self.num_shards]\n",
    "            tfr_file_name = os.path.join(output_dir, 'tfr_'+str(i))\n",
    "            self._convert_shard_data_to_tfrecord(sharded_input_files, tfr_file_name)"
   ]
  },
  {
   "cell_type": "code",
   "execution_count": 39,
   "metadata": {},
   "outputs": [],
   "source": [
    "os.chdir(root_path+\"/TinyYOLOv3-Pedestrian-Detection/pedestrian_dataset_train\")"
   ]
  },
  {
   "cell_type": "code",
   "execution_count": 41,
   "metadata": {},
   "outputs": [
    {
     "name": "stderr",
     "output_type": "stream",
     "text": [
      "\r",
      "  0%|          | 0/74 [00:00<?, ?it/s]"
     ]
    },
    {
     "name": "stdout",
     "output_type": "stream",
     "text": [
      "Generating /tf/home/sergio/Tesis/pedestrian_dataset_train_tfr/tfr_0\n"
     ]
    },
    {
     "name": "stderr",
     "output_type": "stream",
     "text": [
      "\r",
      "  1%|▏         | 1/74 [00:09<11:32,  9.48s/it]"
     ]
    },
    {
     "name": "stdout",
     "output_type": "stream",
     "text": [
      "Generating /tf/home/sergio/Tesis/pedestrian_dataset_train_tfr/tfr_1000\n"
     ]
    },
    {
     "name": "stderr",
     "output_type": "stream",
     "text": [
      "\r",
      "  3%|▎         | 2/74 [00:18<11:19,  9.44s/it]"
     ]
    },
    {
     "name": "stdout",
     "output_type": "stream",
     "text": [
      "Generating /tf/home/sergio/Tesis/pedestrian_dataset_train_tfr/tfr_2000\n"
     ]
    },
    {
     "name": "stderr",
     "output_type": "stream",
     "text": [
      "\r",
      "  4%|▍         | 3/74 [00:28<11:07,  9.40s/it]"
     ]
    },
    {
     "name": "stdout",
     "output_type": "stream",
     "text": [
      "Generating /tf/home/sergio/Tesis/pedestrian_dataset_train_tfr/tfr_3000\n"
     ]
    },
    {
     "name": "stderr",
     "output_type": "stream",
     "text": [
      "\r",
      "  5%|▌         | 4/74 [00:37<10:55,  9.36s/it]"
     ]
    },
    {
     "name": "stdout",
     "output_type": "stream",
     "text": [
      "Generating /tf/home/sergio/Tesis/pedestrian_dataset_train_tfr/tfr_4000\n"
     ]
    },
    {
     "name": "stderr",
     "output_type": "stream",
     "text": [
      "\r",
      "  7%|▋         | 5/74 [00:46<10:44,  9.34s/it]"
     ]
    },
    {
     "name": "stdout",
     "output_type": "stream",
     "text": [
      "Generating /tf/home/sergio/Tesis/pedestrian_dataset_train_tfr/tfr_5000\n"
     ]
    },
    {
     "name": "stderr",
     "output_type": "stream",
     "text": [
      "\r",
      "  8%|▊         | 6/74 [00:55<10:34,  9.33s/it]"
     ]
    },
    {
     "name": "stdout",
     "output_type": "stream",
     "text": [
      "Generating /tf/home/sergio/Tesis/pedestrian_dataset_train_tfr/tfr_6000\n"
     ]
    },
    {
     "name": "stderr",
     "output_type": "stream",
     "text": [
      "\r",
      "  9%|▉         | 7/74 [01:05<10:24,  9.32s/it]"
     ]
    },
    {
     "name": "stdout",
     "output_type": "stream",
     "text": [
      "Generating /tf/home/sergio/Tesis/pedestrian_dataset_train_tfr/tfr_7000\n"
     ]
    },
    {
     "name": "stderr",
     "output_type": "stream",
     "text": [
      "\r",
      " 11%|█         | 8/74 [01:14<10:14,  9.31s/it]"
     ]
    },
    {
     "name": "stdout",
     "output_type": "stream",
     "text": [
      "Generating /tf/home/sergio/Tesis/pedestrian_dataset_train_tfr/tfr_8000\n"
     ]
    },
    {
     "name": "stderr",
     "output_type": "stream",
     "text": [
      "\r",
      " 12%|█▏        | 9/74 [01:23<10:05,  9.32s/it]"
     ]
    },
    {
     "name": "stdout",
     "output_type": "stream",
     "text": [
      "Generating /tf/home/sergio/Tesis/pedestrian_dataset_train_tfr/tfr_9000\n"
     ]
    },
    {
     "name": "stderr",
     "output_type": "stream",
     "text": [
      "\r",
      " 14%|█▎        | 10/74 [01:33<09:55,  9.30s/it]"
     ]
    },
    {
     "name": "stdout",
     "output_type": "stream",
     "text": [
      "Generating /tf/home/sergio/Tesis/pedestrian_dataset_train_tfr/tfr_10000\n"
     ]
    },
    {
     "name": "stderr",
     "output_type": "stream",
     "text": [
      "\r",
      " 15%|█▍        | 11/74 [01:42<09:46,  9.31s/it]"
     ]
    },
    {
     "name": "stdout",
     "output_type": "stream",
     "text": [
      "Generating /tf/home/sergio/Tesis/pedestrian_dataset_train_tfr/tfr_11000\n"
     ]
    },
    {
     "name": "stderr",
     "output_type": "stream",
     "text": [
      "\r",
      " 16%|█▌        | 12/74 [01:51<09:37,  9.31s/it]"
     ]
    },
    {
     "name": "stdout",
     "output_type": "stream",
     "text": [
      "Generating /tf/home/sergio/Tesis/pedestrian_dataset_train_tfr/tfr_12000\n"
     ]
    },
    {
     "name": "stderr",
     "output_type": "stream",
     "text": [
      "\r",
      " 18%|█▊        | 13/74 [02:01<09:27,  9.30s/it]"
     ]
    },
    {
     "name": "stdout",
     "output_type": "stream",
     "text": [
      "Generating /tf/home/sergio/Tesis/pedestrian_dataset_train_tfr/tfr_13000\n"
     ]
    },
    {
     "name": "stderr",
     "output_type": "stream",
     "text": [
      "\r",
      " 19%|█▉        | 14/74 [02:10<09:18,  9.31s/it]"
     ]
    },
    {
     "name": "stdout",
     "output_type": "stream",
     "text": [
      "Generating /tf/home/sergio/Tesis/pedestrian_dataset_train_tfr/tfr_14000\n"
     ]
    },
    {
     "name": "stderr",
     "output_type": "stream",
     "text": [
      "\r",
      " 20%|██        | 15/74 [02:19<09:12,  9.36s/it]"
     ]
    },
    {
     "name": "stdout",
     "output_type": "stream",
     "text": [
      "Generating /tf/home/sergio/Tesis/pedestrian_dataset_train_tfr/tfr_15000\n"
     ]
    },
    {
     "name": "stderr",
     "output_type": "stream",
     "text": [
      "\r",
      " 22%|██▏       | 16/74 [02:29<09:02,  9.35s/it]"
     ]
    },
    {
     "name": "stdout",
     "output_type": "stream",
     "text": [
      "Generating /tf/home/sergio/Tesis/pedestrian_dataset_train_tfr/tfr_16000\n"
     ]
    },
    {
     "name": "stderr",
     "output_type": "stream",
     "text": [
      "\r",
      " 23%|██▎       | 17/74 [02:38<08:51,  9.33s/it]"
     ]
    },
    {
     "name": "stdout",
     "output_type": "stream",
     "text": [
      "Generating /tf/home/sergio/Tesis/pedestrian_dataset_train_tfr/tfr_17000\n"
     ]
    },
    {
     "name": "stderr",
     "output_type": "stream",
     "text": [
      "\r",
      " 24%|██▍       | 18/74 [02:47<08:41,  9.31s/it]"
     ]
    },
    {
     "name": "stdout",
     "output_type": "stream",
     "text": [
      "Generating /tf/home/sergio/Tesis/pedestrian_dataset_train_tfr/tfr_18000\n"
     ]
    },
    {
     "name": "stderr",
     "output_type": "stream",
     "text": [
      "\r",
      " 26%|██▌       | 19/74 [02:57<08:31,  9.30s/it]"
     ]
    },
    {
     "name": "stdout",
     "output_type": "stream",
     "text": [
      "Generating /tf/home/sergio/Tesis/pedestrian_dataset_train_tfr/tfr_19000\n"
     ]
    },
    {
     "name": "stderr",
     "output_type": "stream",
     "text": [
      "\r",
      " 27%|██▋       | 20/74 [03:06<08:21,  9.29s/it]"
     ]
    },
    {
     "name": "stdout",
     "output_type": "stream",
     "text": [
      "Generating /tf/home/sergio/Tesis/pedestrian_dataset_train_tfr/tfr_20000\n"
     ]
    },
    {
     "name": "stderr",
     "output_type": "stream",
     "text": [
      "\r",
      " 28%|██▊       | 21/74 [03:15<08:14,  9.33s/it]"
     ]
    },
    {
     "name": "stdout",
     "output_type": "stream",
     "text": [
      "Generating /tf/home/sergio/Tesis/pedestrian_dataset_train_tfr/tfr_21000\n"
     ]
    },
    {
     "name": "stderr",
     "output_type": "stream",
     "text": [
      "\r",
      " 30%|██▉       | 22/74 [03:25<08:08,  9.40s/it]"
     ]
    },
    {
     "name": "stdout",
     "output_type": "stream",
     "text": [
      "Generating /tf/home/sergio/Tesis/pedestrian_dataset_train_tfr/tfr_22000\n"
     ]
    },
    {
     "name": "stderr",
     "output_type": "stream",
     "text": [
      "\r",
      " 31%|███       | 23/74 [03:34<07:59,  9.41s/it]"
     ]
    },
    {
     "name": "stdout",
     "output_type": "stream",
     "text": [
      "Generating /tf/home/sergio/Tesis/pedestrian_dataset_train_tfr/tfr_23000\n"
     ]
    },
    {
     "name": "stderr",
     "output_type": "stream",
     "text": [
      "\r",
      " 32%|███▏      | 24/74 [03:44<07:52,  9.44s/it]"
     ]
    },
    {
     "name": "stdout",
     "output_type": "stream",
     "text": [
      "Generating /tf/home/sergio/Tesis/pedestrian_dataset_train_tfr/tfr_24000\n"
     ]
    },
    {
     "name": "stderr",
     "output_type": "stream",
     "text": [
      "\r",
      " 34%|███▍      | 25/74 [03:54<07:47,  9.54s/it]"
     ]
    },
    {
     "name": "stdout",
     "output_type": "stream",
     "text": [
      "Generating /tf/home/sergio/Tesis/pedestrian_dataset_train_tfr/tfr_25000\n"
     ]
    },
    {
     "name": "stderr",
     "output_type": "stream",
     "text": [
      "\r",
      " 35%|███▌      | 26/74 [04:03<07:39,  9.57s/it]"
     ]
    },
    {
     "name": "stdout",
     "output_type": "stream",
     "text": [
      "Generating /tf/home/sergio/Tesis/pedestrian_dataset_train_tfr/tfr_26000\n"
     ]
    },
    {
     "name": "stderr",
     "output_type": "stream",
     "text": [
      "\r",
      " 36%|███▋      | 27/74 [04:13<07:28,  9.55s/it]"
     ]
    },
    {
     "name": "stdout",
     "output_type": "stream",
     "text": [
      "Generating /tf/home/sergio/Tesis/pedestrian_dataset_train_tfr/tfr_27000\n"
     ]
    },
    {
     "name": "stderr",
     "output_type": "stream",
     "text": [
      "\r",
      " 38%|███▊      | 28/74 [04:22<07:21,  9.60s/it]"
     ]
    },
    {
     "name": "stdout",
     "output_type": "stream",
     "text": [
      "Generating /tf/home/sergio/Tesis/pedestrian_dataset_train_tfr/tfr_28000\n"
     ]
    },
    {
     "name": "stderr",
     "output_type": "stream",
     "text": [
      "\r",
      " 39%|███▉      | 29/74 [04:32<07:10,  9.57s/it]"
     ]
    },
    {
     "name": "stdout",
     "output_type": "stream",
     "text": [
      "Generating /tf/home/sergio/Tesis/pedestrian_dataset_train_tfr/tfr_29000\n"
     ]
    },
    {
     "name": "stderr",
     "output_type": "stream",
     "text": [
      "\r",
      " 41%|████      | 30/74 [04:41<06:59,  9.54s/it]"
     ]
    },
    {
     "name": "stdout",
     "output_type": "stream",
     "text": [
      "Generating /tf/home/sergio/Tesis/pedestrian_dataset_train_tfr/tfr_30000\n"
     ]
    },
    {
     "name": "stderr",
     "output_type": "stream",
     "text": [
      "\r",
      " 42%|████▏     | 31/74 [04:51<06:49,  9.53s/it]"
     ]
    },
    {
     "name": "stdout",
     "output_type": "stream",
     "text": [
      "Generating /tf/home/sergio/Tesis/pedestrian_dataset_train_tfr/tfr_31000\n"
     ]
    },
    {
     "name": "stderr",
     "output_type": "stream",
     "text": [
      "\r",
      " 43%|████▎     | 32/74 [05:00<06:41,  9.55s/it]"
     ]
    },
    {
     "name": "stdout",
     "output_type": "stream",
     "text": [
      "Generating /tf/home/sergio/Tesis/pedestrian_dataset_train_tfr/tfr_32000\n"
     ]
    },
    {
     "name": "stderr",
     "output_type": "stream",
     "text": [
      "\r",
      " 45%|████▍     | 33/74 [05:10<06:34,  9.61s/it]"
     ]
    },
    {
     "name": "stdout",
     "output_type": "stream",
     "text": [
      "Generating /tf/home/sergio/Tesis/pedestrian_dataset_train_tfr/tfr_33000\n"
     ]
    },
    {
     "name": "stderr",
     "output_type": "stream",
     "text": [
      "\r",
      " 46%|████▌     | 34/74 [05:20<06:22,  9.57s/it]"
     ]
    },
    {
     "name": "stdout",
     "output_type": "stream",
     "text": [
      "Generating /tf/home/sergio/Tesis/pedestrian_dataset_train_tfr/tfr_34000\n"
     ]
    },
    {
     "name": "stderr",
     "output_type": "stream",
     "text": [
      "\r",
      " 47%|████▋     | 35/74 [05:29<06:11,  9.52s/it]"
     ]
    },
    {
     "name": "stdout",
     "output_type": "stream",
     "text": [
      "Generating /tf/home/sergio/Tesis/pedestrian_dataset_train_tfr/tfr_35000\n"
     ]
    },
    {
     "name": "stderr",
     "output_type": "stream",
     "text": [
      "\r",
      " 49%|████▊     | 36/74 [05:38<05:59,  9.47s/it]"
     ]
    },
    {
     "name": "stdout",
     "output_type": "stream",
     "text": [
      "Generating /tf/home/sergio/Tesis/pedestrian_dataset_train_tfr/tfr_36000\n"
     ]
    },
    {
     "name": "stderr",
     "output_type": "stream",
     "text": [
      "\r",
      " 50%|█████     | 37/74 [05:48<05:49,  9.43s/it]"
     ]
    },
    {
     "name": "stdout",
     "output_type": "stream",
     "text": [
      "Generating /tf/home/sergio/Tesis/pedestrian_dataset_train_tfr/tfr_37000\n"
     ]
    },
    {
     "name": "stderr",
     "output_type": "stream",
     "text": [
      "\r",
      " 51%|█████▏    | 38/74 [05:57<05:38,  9.42s/it]"
     ]
    },
    {
     "name": "stdout",
     "output_type": "stream",
     "text": [
      "Generating /tf/home/sergio/Tesis/pedestrian_dataset_train_tfr/tfr_38000\n"
     ]
    },
    {
     "name": "stderr",
     "output_type": "stream",
     "text": [
      "\r",
      " 53%|█████▎    | 39/74 [06:07<05:29,  9.41s/it]"
     ]
    },
    {
     "name": "stdout",
     "output_type": "stream",
     "text": [
      "Generating /tf/home/sergio/Tesis/pedestrian_dataset_train_tfr/tfr_39000\n"
     ]
    },
    {
     "name": "stderr",
     "output_type": "stream",
     "text": [
      "\r",
      " 54%|█████▍    | 40/74 [06:16<05:19,  9.40s/it]"
     ]
    },
    {
     "name": "stdout",
     "output_type": "stream",
     "text": [
      "Generating /tf/home/sergio/Tesis/pedestrian_dataset_train_tfr/tfr_40000\n"
     ]
    },
    {
     "name": "stderr",
     "output_type": "stream",
     "text": [
      "\r",
      " 55%|█████▌    | 41/74 [06:25<05:09,  9.39s/it]"
     ]
    },
    {
     "name": "stdout",
     "output_type": "stream",
     "text": [
      "Generating /tf/home/sergio/Tesis/pedestrian_dataset_train_tfr/tfr_41000\n"
     ]
    },
    {
     "name": "stderr",
     "output_type": "stream",
     "text": [
      "\r",
      " 57%|█████▋    | 42/74 [06:35<05:00,  9.39s/it]"
     ]
    },
    {
     "name": "stdout",
     "output_type": "stream",
     "text": [
      "Generating /tf/home/sergio/Tesis/pedestrian_dataset_train_tfr/tfr_42000\n"
     ]
    },
    {
     "name": "stderr",
     "output_type": "stream",
     "text": [
      "\r",
      " 58%|█████▊    | 43/74 [06:44<04:52,  9.45s/it]"
     ]
    },
    {
     "name": "stdout",
     "output_type": "stream",
     "text": [
      "Generating /tf/home/sergio/Tesis/pedestrian_dataset_train_tfr/tfr_43000\n"
     ]
    },
    {
     "name": "stderr",
     "output_type": "stream",
     "text": [
      "\r",
      " 59%|█████▉    | 44/74 [06:54<04:46,  9.55s/it]"
     ]
    },
    {
     "name": "stdout",
     "output_type": "stream",
     "text": [
      "Generating /tf/home/sergio/Tesis/pedestrian_dataset_train_tfr/tfr_44000\n"
     ]
    },
    {
     "name": "stderr",
     "output_type": "stream",
     "text": [
      "\r",
      " 61%|██████    | 45/74 [07:04<04:38,  9.59s/it]"
     ]
    },
    {
     "name": "stdout",
     "output_type": "stream",
     "text": [
      "Generating /tf/home/sergio/Tesis/pedestrian_dataset_train_tfr/tfr_45000\n"
     ]
    },
    {
     "name": "stderr",
     "output_type": "stream",
     "text": [
      "\r",
      " 62%|██████▏   | 46/74 [07:14<04:30,  9.65s/it]"
     ]
    },
    {
     "name": "stdout",
     "output_type": "stream",
     "text": [
      "Generating /tf/home/sergio/Tesis/pedestrian_dataset_train_tfr/tfr_46000\n"
     ]
    },
    {
     "name": "stderr",
     "output_type": "stream",
     "text": [
      "\r",
      " 64%|██████▎   | 47/74 [07:23<04:20,  9.66s/it]"
     ]
    },
    {
     "name": "stdout",
     "output_type": "stream",
     "text": [
      "Generating /tf/home/sergio/Tesis/pedestrian_dataset_train_tfr/tfr_47000\n"
     ]
    },
    {
     "name": "stderr",
     "output_type": "stream",
     "text": [
      "\r",
      " 65%|██████▍   | 48/74 [07:33<04:11,  9.67s/it]"
     ]
    },
    {
     "name": "stdout",
     "output_type": "stream",
     "text": [
      "Generating /tf/home/sergio/Tesis/pedestrian_dataset_train_tfr/tfr_48000\n"
     ]
    },
    {
     "name": "stderr",
     "output_type": "stream",
     "text": [
      "\r",
      " 66%|██████▌   | 49/74 [07:43<04:01,  9.64s/it]"
     ]
    },
    {
     "name": "stdout",
     "output_type": "stream",
     "text": [
      "Generating /tf/home/sergio/Tesis/pedestrian_dataset_train_tfr/tfr_49000\n"
     ]
    },
    {
     "name": "stderr",
     "output_type": "stream",
     "text": [
      "\r",
      " 68%|██████▊   | 50/74 [07:52<03:50,  9.61s/it]"
     ]
    },
    {
     "name": "stdout",
     "output_type": "stream",
     "text": [
      "Generating /tf/home/sergio/Tesis/pedestrian_dataset_train_tfr/tfr_50000\n"
     ]
    },
    {
     "name": "stderr",
     "output_type": "stream",
     "text": [
      "\r",
      " 69%|██████▉   | 51/74 [08:02<03:41,  9.61s/it]"
     ]
    },
    {
     "name": "stdout",
     "output_type": "stream",
     "text": [
      "Generating /tf/home/sergio/Tesis/pedestrian_dataset_train_tfr/tfr_51000\n"
     ]
    },
    {
     "name": "stderr",
     "output_type": "stream",
     "text": [
      "\r",
      " 70%|███████   | 52/74 [08:11<03:31,  9.62s/it]"
     ]
    },
    {
     "name": "stdout",
     "output_type": "stream",
     "text": [
      "Generating /tf/home/sergio/Tesis/pedestrian_dataset_train_tfr/tfr_52000\n"
     ]
    },
    {
     "name": "stderr",
     "output_type": "stream",
     "text": [
      "\r",
      " 72%|███████▏  | 53/74 [08:21<03:21,  9.61s/it]"
     ]
    },
    {
     "name": "stdout",
     "output_type": "stream",
     "text": [
      "Generating /tf/home/sergio/Tesis/pedestrian_dataset_train_tfr/tfr_53000\n"
     ]
    },
    {
     "name": "stderr",
     "output_type": "stream",
     "text": [
      "\r",
      " 73%|███████▎  | 54/74 [08:30<03:11,  9.60s/it]"
     ]
    },
    {
     "name": "stdout",
     "output_type": "stream",
     "text": [
      "Generating /tf/home/sergio/Tesis/pedestrian_dataset_train_tfr/tfr_54000\n"
     ]
    },
    {
     "name": "stderr",
     "output_type": "stream",
     "text": [
      "\r",
      " 74%|███████▍  | 55/74 [08:40<03:03,  9.64s/it]"
     ]
    },
    {
     "name": "stdout",
     "output_type": "stream",
     "text": [
      "Generating /tf/home/sergio/Tesis/pedestrian_dataset_train_tfr/tfr_55000\n"
     ]
    },
    {
     "name": "stderr",
     "output_type": "stream",
     "text": [
      "\r",
      " 76%|███████▌  | 56/74 [08:50<02:54,  9.70s/it]"
     ]
    },
    {
     "name": "stdout",
     "output_type": "stream",
     "text": [
      "Generating /tf/home/sergio/Tesis/pedestrian_dataset_train_tfr/tfr_56000\n"
     ]
    },
    {
     "name": "stderr",
     "output_type": "stream",
     "text": [
      "\r",
      " 77%|███████▋  | 57/74 [09:00<02:45,  9.72s/it]"
     ]
    },
    {
     "name": "stdout",
     "output_type": "stream",
     "text": [
      "Generating /tf/home/sergio/Tesis/pedestrian_dataset_train_tfr/tfr_57000\n"
     ]
    },
    {
     "name": "stderr",
     "output_type": "stream",
     "text": [
      "\r",
      " 78%|███████▊  | 58/74 [09:10<02:35,  9.73s/it]"
     ]
    },
    {
     "name": "stdout",
     "output_type": "stream",
     "text": [
      "Generating /tf/home/sergio/Tesis/pedestrian_dataset_train_tfr/tfr_58000\n"
     ]
    },
    {
     "name": "stderr",
     "output_type": "stream",
     "text": [
      "\r",
      " 80%|███████▉  | 59/74 [09:19<02:25,  9.69s/it]"
     ]
    },
    {
     "name": "stdout",
     "output_type": "stream",
     "text": [
      "Generating /tf/home/sergio/Tesis/pedestrian_dataset_train_tfr/tfr_59000\n"
     ]
    },
    {
     "name": "stderr",
     "output_type": "stream",
     "text": [
      "\r",
      " 81%|████████  | 60/74 [09:29<02:15,  9.68s/it]"
     ]
    },
    {
     "name": "stdout",
     "output_type": "stream",
     "text": [
      "Generating /tf/home/sergio/Tesis/pedestrian_dataset_train_tfr/tfr_60000\n"
     ]
    },
    {
     "name": "stderr",
     "output_type": "stream",
     "text": [
      "\r",
      " 82%|████████▏ | 61/74 [09:39<02:06,  9.74s/it]"
     ]
    },
    {
     "name": "stdout",
     "output_type": "stream",
     "text": [
      "Generating /tf/home/sergio/Tesis/pedestrian_dataset_train_tfr/tfr_61000\n"
     ]
    },
    {
     "name": "stderr",
     "output_type": "stream",
     "text": [
      "\r",
      " 84%|████████▍ | 62/74 [09:48<01:56,  9.73s/it]"
     ]
    },
    {
     "name": "stdout",
     "output_type": "stream",
     "text": [
      "Generating /tf/home/sergio/Tesis/pedestrian_dataset_train_tfr/tfr_62000\n"
     ]
    },
    {
     "name": "stderr",
     "output_type": "stream",
     "text": [
      "\r",
      " 85%|████████▌ | 63/74 [09:58<01:47,  9.78s/it]"
     ]
    },
    {
     "name": "stdout",
     "output_type": "stream",
     "text": [
      "Generating /tf/home/sergio/Tesis/pedestrian_dataset_train_tfr/tfr_63000\n"
     ]
    },
    {
     "name": "stderr",
     "output_type": "stream",
     "text": [
      "\r",
      " 86%|████████▋ | 64/74 [10:08<01:36,  9.68s/it]"
     ]
    },
    {
     "name": "stdout",
     "output_type": "stream",
     "text": [
      "Generating /tf/home/sergio/Tesis/pedestrian_dataset_train_tfr/tfr_64000\n"
     ]
    },
    {
     "name": "stderr",
     "output_type": "stream",
     "text": [
      "\r",
      " 88%|████████▊ | 65/74 [10:16<01:23,  9.33s/it]"
     ]
    },
    {
     "name": "stdout",
     "output_type": "stream",
     "text": [
      "Generating /tf/home/sergio/Tesis/pedestrian_dataset_train_tfr/tfr_65000\n"
     ]
    },
    {
     "name": "stderr",
     "output_type": "stream",
     "text": [
      "\r",
      " 89%|████████▉ | 66/74 [10:25<01:12,  9.05s/it]"
     ]
    },
    {
     "name": "stdout",
     "output_type": "stream",
     "text": [
      "Generating /tf/home/sergio/Tesis/pedestrian_dataset_train_tfr/tfr_66000\n"
     ]
    },
    {
     "name": "stderr",
     "output_type": "stream",
     "text": [
      "\r",
      " 91%|█████████ | 67/74 [10:33<01:01,  8.86s/it]"
     ]
    },
    {
     "name": "stdout",
     "output_type": "stream",
     "text": [
      "Generating /tf/home/sergio/Tesis/pedestrian_dataset_train_tfr/tfr_67000\n"
     ]
    },
    {
     "name": "stderr",
     "output_type": "stream",
     "text": [
      "\r",
      " 92%|█████████▏| 68/74 [10:41<00:52,  8.72s/it]"
     ]
    },
    {
     "name": "stdout",
     "output_type": "stream",
     "text": [
      "Generating /tf/home/sergio/Tesis/pedestrian_dataset_train_tfr/tfr_68000\n"
     ]
    },
    {
     "name": "stderr",
     "output_type": "stream",
     "text": [
      "\r",
      " 93%|█████████▎| 69/74 [10:50<00:43,  8.63s/it]"
     ]
    },
    {
     "name": "stdout",
     "output_type": "stream",
     "text": [
      "Generating /tf/home/sergio/Tesis/pedestrian_dataset_train_tfr/tfr_69000\n"
     ]
    },
    {
     "name": "stderr",
     "output_type": "stream",
     "text": [
      "\r",
      " 95%|█████████▍| 70/74 [10:58<00:34,  8.57s/it]"
     ]
    },
    {
     "name": "stdout",
     "output_type": "stream",
     "text": [
      "Generating /tf/home/sergio/Tesis/pedestrian_dataset_train_tfr/tfr_70000\n"
     ]
    },
    {
     "name": "stderr",
     "output_type": "stream",
     "text": [
      "\r",
      " 96%|█████████▌| 71/74 [11:07<00:25,  8.53s/it]"
     ]
    },
    {
     "name": "stdout",
     "output_type": "stream",
     "text": [
      "Generating /tf/home/sergio/Tesis/pedestrian_dataset_train_tfr/tfr_71000\n"
     ]
    },
    {
     "name": "stderr",
     "output_type": "stream",
     "text": [
      "\r",
      " 97%|█████████▋| 72/74 [11:15<00:17,  8.50s/it]"
     ]
    },
    {
     "name": "stdout",
     "output_type": "stream",
     "text": [
      "Generating /tf/home/sergio/Tesis/pedestrian_dataset_train_tfr/tfr_72000\n"
     ]
    },
    {
     "name": "stderr",
     "output_type": "stream",
     "text": [
      "\r",
      " 99%|█████████▊| 73/74 [11:24<00:08,  8.49s/it]"
     ]
    },
    {
     "name": "stdout",
     "output_type": "stream",
     "text": [
      "Generating /tf/home/sergio/Tesis/pedestrian_dataset_train_tfr/tfr_73000\n"
     ]
    },
    {
     "name": "stderr",
     "output_type": "stream",
     "text": [
      "100%|██████████| 74/74 [11:30<00:00,  9.32s/it]\n"
     ]
    }
   ],
   "source": [
    "input_files = metadata_train_df.index.values\n",
    "tfrecords_outdir = root_path+\"/pedestrian_dataset_train_tfr\"\n",
    "num_shards = 1000\n",
    "tfr_creator = ImageTFRecordsCreator(annotations_train_df,metadata_train_df,num_shards=num_shards)\n",
    "tfr_creator._convert_data_to_tfrecord(input_files, tfrecords_outdir)"
   ]
  },
  {
   "cell_type": "markdown",
   "metadata": {},
   "source": [
    "## Lectura de los TFRecords"
   ]
  },
  {
   "cell_type": "code",
   "execution_count": 16,
   "metadata": {},
   "outputs": [],
   "source": [
    "import tensorflow as tf\n",
    "import os\n",
    "import time"
   ]
  },
  {
   "cell_type": "code",
   "execution_count": 17,
   "metadata": {},
   "outputs": [],
   "source": [
    "image_feature_description = {\n",
    "    'bboxes': tf.io.FixedLenFeature([], tf.string),\n",
    "    'image_raw': tf.io.FixedLenFeature([], tf.string),\n",
    "    'num_real_boxes':tf.io.FixedLenFeature([], tf.int64),\n",
    "}"
   ]
  },
  {
   "cell_type": "code",
   "execution_count": 18,
   "metadata": {},
   "outputs": [],
   "source": [
    "def _parse_image_function(example_proto):\n",
    "  # Parse the input tf.Example proto using the dictionary above.\n",
    "  return tf.io.parse_single_example(example_proto, image_feature_description)\n",
    "\n",
    "#def _parse_image_function(example_proto_list):\n",
    "#  # Parse the input tf.Example proto using the dictionary above.\n",
    "#  return tf.io.parse_single_example(example_proto, image_feature_description)\n",
    "\n",
    "def read_tfr_dataset(tf_records_list_names):\n",
    "    num_images=0\n",
    "    raw_image_dataset = tf.data.TFRecordDataset(tf_records_list_names)\n",
    "    parsed_image_dataset = raw_image_dataset.map(_parse_image_function)\n",
    "\n",
    "    for image_features in parsed_image_dataset:\n",
    "        \n",
    "        bboxes =  tf.io.parse_tensor(image_features['bboxes'], out_type=tf.float64)\n",
    "        image = tf.image.decode_jpeg(image_features['image_raw'],channels = 3)\n",
    "        num_real_boxes = image_features['num_real_boxes']\n",
    "        \n",
    "\n",
    "    return None"
   ]
  },
  {
   "cell_type": "code",
   "execution_count": 19,
   "metadata": {},
   "outputs": [],
   "source": [
    "def preprocessing(image_features):\n",
    "    bboxes =  tf.io.parse_tensor(image_features['bboxes'], out_type=tf.float32)\n",
    "    image = tf.image.decode_jpeg(image_features['image_raw'],channels = 3)\n",
    "    image = tf.cast(image, tf.float32)\n",
    "    image = tf.image.resize(tf.cast(image, tf.float32),size=(416,416))\n",
    "    num_real_boxes = image_features['num_real_boxes']\n",
    "    return image,bboxes,num_real_boxes"
   ]
  },
  {
   "cell_type": "code",
   "execution_count": 20,
   "metadata": {},
   "outputs": [],
   "source": [
    "os.chdir(\"/home/sergio/Documents/pedestrian_dataset_train_tfr\")\n",
    "filenames = os. listdir()\n",
    "raw_image_dataset = tf.data.TFRecordDataset(filenames)\n",
    "parsed_image_dataset = raw_image_dataset.map(_parse_image_function).map(preprocessing,num_parallel_calls=8)"
   ]
  },
  {
   "cell_type": "code",
   "execution_count": 21,
   "metadata": {},
   "outputs": [
    {
     "name": "stdout",
     "output_type": "stream",
     "text": [
      "53.28766989707947\n",
      "9213\n"
     ]
    }
   ],
   "source": [
    "count = 0\n",
    "inicio = time.time()\n",
    "for i in parsed_image_dataset.batch(8):\n",
    "    count+=1\n",
    "fin = time.time()\n",
    "print(fin-inicio)\n",
    "print(count)"
   ]
  },
  {
   "cell_type": "code",
   "execution_count": 22,
   "metadata": {},
   "outputs": [
    {
     "data": {
      "text/plain": [
       "3"
      ]
     },
     "execution_count": 22,
     "metadata": {},
     "output_type": "execute_result"
    }
   ],
   "source": [
    "len(i)"
   ]
  },
  {
   "cell_type": "code",
   "execution_count": 24,
   "metadata": {},
   "outputs": [
    {
     "data": {
      "text/plain": [
       "<tf.Tensor: shape=(2, 20, 4), dtype=float32, numpy=\n",
       "array([[[0.46441665, 0.36776564, 0.668375  , 0.65540624],\n",
       "        [0.3905    , 0.40528125, 0.4794375 , 0.53870314],\n",
       "        [0.4       , 0.4       , 0.5       , 0.5       ],\n",
       "        [0.4       , 0.4       , 0.5       , 0.5       ],\n",
       "        [0.4       , 0.4       , 0.5       , 0.5       ],\n",
       "        [0.4       , 0.4       , 0.5       , 0.5       ],\n",
       "        [0.4       , 0.4       , 0.5       , 0.5       ],\n",
       "        [0.4       , 0.4       , 0.5       , 0.5       ],\n",
       "        [0.4       , 0.4       , 0.5       , 0.5       ],\n",
       "        [0.4       , 0.4       , 0.5       , 0.5       ],\n",
       "        [0.4       , 0.4       , 0.5       , 0.5       ],\n",
       "        [0.4       , 0.4       , 0.5       , 0.5       ],\n",
       "        [0.4       , 0.4       , 0.5       , 0.5       ],\n",
       "        [0.4       , 0.4       , 0.5       , 0.5       ],\n",
       "        [0.4       , 0.4       , 0.5       , 0.5       ],\n",
       "        [0.4       , 0.4       , 0.5       , 0.5       ],\n",
       "        [0.4       , 0.4       , 0.5       , 0.5       ],\n",
       "        [0.4       , 0.4       , 0.5       , 0.5       ],\n",
       "        [0.4       , 0.4       , 0.5       , 0.5       ],\n",
       "        [0.4       , 0.4       , 0.5       , 0.5       ]],\n",
       "\n",
       "       [[0.38686   , 0.04600639, 0.57254   , 0.771853  ],\n",
       "        [0.55818   , 0.37865815, 0.9722    , 0.98814696],\n",
       "        [0.78082   , 0.        , 0.89904   , 0.09709265],\n",
       "        [0.4       , 0.4       , 0.5       , 0.5       ],\n",
       "        [0.4       , 0.4       , 0.5       , 0.5       ],\n",
       "        [0.4       , 0.4       , 0.5       , 0.5       ],\n",
       "        [0.4       , 0.4       , 0.5       , 0.5       ],\n",
       "        [0.4       , 0.4       , 0.5       , 0.5       ],\n",
       "        [0.4       , 0.4       , 0.5       , 0.5       ],\n",
       "        [0.4       , 0.4       , 0.5       , 0.5       ],\n",
       "        [0.4       , 0.4       , 0.5       , 0.5       ],\n",
       "        [0.4       , 0.4       , 0.5       , 0.5       ],\n",
       "        [0.4       , 0.4       , 0.5       , 0.5       ],\n",
       "        [0.4       , 0.4       , 0.5       , 0.5       ],\n",
       "        [0.4       , 0.4       , 0.5       , 0.5       ],\n",
       "        [0.4       , 0.4       , 0.5       , 0.5       ],\n",
       "        [0.4       , 0.4       , 0.5       , 0.5       ],\n",
       "        [0.4       , 0.4       , 0.5       , 0.5       ],\n",
       "        [0.4       , 0.4       , 0.5       , 0.5       ],\n",
       "        [0.4       , 0.4       , 0.5       , 0.5       ]]], dtype=float32)>"
      ]
     },
     "execution_count": 24,
     "metadata": {},
     "output_type": "execute_result"
    }
   ],
   "source": [
    "i[1]"
   ]
  },
  {
   "cell_type": "markdown",
   "metadata": {},
   "source": []
  },
  {
   "cell_type": "code",
   "execution_count": null,
   "metadata": {},
   "outputs": [],
   "source": []
  },
  {
   "cell_type": "code",
   "execution_count": 68,
   "metadata": {},
   "outputs": [],
   "source": [
    "os.chdir(\"/home/sergio/Documents/VOC2012/pedestrian_dataset_voc_tfr\")\n",
    "filenames = os. listdir()"
   ]
  },
  {
   "cell_type": "code",
   "execution_count": 53,
   "metadata": {},
   "outputs": [
    {
     "name": "stdout",
     "output_type": "stream",
     "text": [
      "17.129613161087036\n"
     ]
    }
   ],
   "source": [
    "import time\n",
    "inicio = time.time()\n",
    "read_tfr_dataset(filenames)\n",
    "fin = time.time()\n",
    "\n",
    "print(fin-inicio)"
   ]
  },
  {
   "cell_type": "code",
   "execution_count": 68,
   "metadata": {},
   "outputs": [
    {
     "name": "stdout",
     "output_type": "stream",
     "text": [
      "26.2 s ± 713 ms per loop (mean ± std. dev. of 7 runs, 1 loop each)\n"
     ]
    }
   ],
   "source": [
    "#%timeit read_tfr_dataset(filenames)"
   ]
  },
  {
   "cell_type": "code",
   "execution_count": 69,
   "metadata": {},
   "outputs": [],
   "source": [
    "os.chdir(\"/home/sergio/Documents/VOC2012/pedestrian_dataset_voc\")\n",
    "filenames = os. listdir()"
   ]
  },
  {
   "cell_type": "code",
   "execution_count": 70,
   "metadata": {},
   "outputs": [],
   "source": [
    "from skimage.io import imread\n",
    "\n",
    "def read_dataset(file_names):\n",
    "    num_images = 0\n",
    "    for i in filenames:\n",
    "        #print(i)\n",
    "        aux = imread(i)\n",
    "        num_images +=1\n",
    "    #print(num_images)\n",
    "    return None"
   ]
  },
  {
   "cell_type": "code",
   "execution_count": 71,
   "metadata": {},
   "outputs": [
    {
     "name": "stdout",
     "output_type": "stream",
     "text": [
      "28.8 s ± 153 ms per loop (mean ± std. dev. of 7 runs, 1 loop each)\n"
     ]
    }
   ],
   "source": [
    "%timeit read_dataset(filenames)"
   ]
  },
  {
   "cell_type": "markdown",
   "metadata": {},
   "source": [
    "# Creacion de los TF Records para el Validation set"
   ]
  },
  {
   "cell_type": "code",
   "execution_count": 9,
   "metadata": {},
   "outputs": [
    {
     "name": "stdout",
     "output_type": "stream",
     "text": [
      "14\n"
     ]
    }
   ],
   "source": [
    "#Obtenemos el número máximo de objetos en una sola imagen\n",
    "image_name = coco_annotations_val.file_name.mode().values[0]\n",
    "max_objects = len(coco_annotations_val[coco_annotations_val.file_name==image_name])\n",
    "print(max_objects)"
   ]
  },
  {
   "cell_type": "code",
   "execution_count": 10,
   "metadata": {},
   "outputs": [
    {
     "data": {
      "text/html": [
       "<div>\n",
       "<style scoped>\n",
       "    .dataframe tbody tr th:only-of-type {\n",
       "        vertical-align: middle;\n",
       "    }\n",
       "\n",
       "    .dataframe tbody tr th {\n",
       "        vertical-align: top;\n",
       "    }\n",
       "\n",
       "    .dataframe thead th {\n",
       "        text-align: right;\n",
       "    }\n",
       "</style>\n",
       "<table border=\"1\" class=\"dataframe\">\n",
       "  <thead>\n",
       "    <tr style=\"text-align: right;\">\n",
       "      <th></th>\n",
       "      <th>width</th>\n",
       "      <th>height</th>\n",
       "    </tr>\n",
       "  </thead>\n",
       "  <tbody>\n",
       "    <tr>\n",
       "      <th>000000532481.jpg</th>\n",
       "      <td>640</td>\n",
       "      <td>426</td>\n",
       "    </tr>\n",
       "    <tr>\n",
       "      <th>000000458755.jpg</th>\n",
       "      <td>640</td>\n",
       "      <td>480</td>\n",
       "    </tr>\n",
       "    <tr>\n",
       "      <th>000000385029.jpg</th>\n",
       "      <td>640</td>\n",
       "      <td>480</td>\n",
       "    </tr>\n",
       "    <tr>\n",
       "      <th>000000311303.jpg</th>\n",
       "      <td>640</td>\n",
       "      <td>427</td>\n",
       "    </tr>\n",
       "    <tr>\n",
       "      <th>000000393226.jpg</th>\n",
       "      <td>640</td>\n",
       "      <td>480</td>\n",
       "    </tr>\n",
       "    <tr>\n",
       "      <th>...</th>\n",
       "      <td>...</td>\n",
       "      <td>...</td>\n",
       "    </tr>\n",
       "    <tr>\n",
       "      <th>000000229358.jpg</th>\n",
       "      <td>640</td>\n",
       "      <td>423</td>\n",
       "    </tr>\n",
       "    <tr>\n",
       "      <th>000000098287.jpg</th>\n",
       "      <td>415</td>\n",
       "      <td>640</td>\n",
       "    </tr>\n",
       "    <tr>\n",
       "      <th>000000417779.jpg</th>\n",
       "      <td>640</td>\n",
       "      <td>480</td>\n",
       "    </tr>\n",
       "    <tr>\n",
       "      <th>000000024567.jpg</th>\n",
       "      <td>480</td>\n",
       "      <td>640</td>\n",
       "    </tr>\n",
       "    <tr>\n",
       "      <th>000000450559.jpg</th>\n",
       "      <td>427</td>\n",
       "      <td>640</td>\n",
       "    </tr>\n",
       "  </tbody>\n",
       "</table>\n",
       "<p>2693 rows × 2 columns</p>\n",
       "</div>"
      ],
      "text/plain": [
       "                  width  height\n",
       "000000532481.jpg    640     426\n",
       "000000458755.jpg    640     480\n",
       "000000385029.jpg    640     480\n",
       "000000311303.jpg    640     427\n",
       "000000393226.jpg    640     480\n",
       "...                 ...     ...\n",
       "000000229358.jpg    640     423\n",
       "000000098287.jpg    415     640\n",
       "000000417779.jpg    640     480\n",
       "000000024567.jpg    480     640\n",
       "000000450559.jpg    427     640\n",
       "\n",
       "[2693 rows x 2 columns]"
      ]
     },
     "execution_count": 10,
     "metadata": {},
     "output_type": "execute_result"
    }
   ],
   "source": [
    "coco_metadata_val"
   ]
  },
  {
   "cell_type": "code",
   "execution_count": 11,
   "metadata": {},
   "outputs": [
    {
     "name": "stdout",
     "output_type": "stream",
     "text": [
      "[[0.39190625 0.39497653 0.50145313 0.547277  ]\n",
      " [0.44617187 0.86985915 0.46503125 0.91495305]]\n",
      "[[0.4 0.4 0.5 0.5]\n",
      " [0.4 0.4 0.5 0.5]\n",
      " [0.4 0.4 0.5 0.5]\n",
      " [0.4 0.4 0.5 0.5]\n",
      " [0.4 0.4 0.5 0.5]\n",
      " [0.4 0.4 0.5 0.5]\n",
      " [0.4 0.4 0.5 0.5]\n",
      " [0.4 0.4 0.5 0.5]\n",
      " [0.4 0.4 0.5 0.5]\n",
      " [0.4 0.4 0.5 0.5]\n",
      " [0.4 0.4 0.5 0.5]\n",
      " [0.4 0.4 0.5 0.5]\n",
      " [0.4 0.4 0.5 0.5]\n",
      " [0.4 0.4 0.5 0.5]\n",
      " [0.4 0.4 0.5 0.5]\n",
      " [0.4 0.4 0.5 0.5]\n",
      " [0.4 0.4 0.5 0.5]\n",
      " [0.4 0.4 0.5 0.5]]\n"
     ]
    },
    {
     "data": {
      "text/plain": [
       "array([[0.39190625, 0.39497653, 0.50145313, 0.547277  ],\n",
       "       [0.44617187, 0.86985915, 0.46503125, 0.91495305],\n",
       "       [0.4       , 0.4       , 0.5       , 0.5       ],\n",
       "       [0.4       , 0.4       , 0.5       , 0.5       ],\n",
       "       [0.4       , 0.4       , 0.5       , 0.5       ],\n",
       "       [0.4       , 0.4       , 0.5       , 0.5       ],\n",
       "       [0.4       , 0.4       , 0.5       , 0.5       ],\n",
       "       [0.4       , 0.4       , 0.5       , 0.5       ],\n",
       "       [0.4       , 0.4       , 0.5       , 0.5       ],\n",
       "       [0.4       , 0.4       , 0.5       , 0.5       ],\n",
       "       [0.4       , 0.4       , 0.5       , 0.5       ],\n",
       "       [0.4       , 0.4       , 0.5       , 0.5       ],\n",
       "       [0.4       , 0.4       , 0.5       , 0.5       ],\n",
       "       [0.4       , 0.4       , 0.5       , 0.5       ],\n",
       "       [0.4       , 0.4       , 0.5       , 0.5       ],\n",
       "       [0.4       , 0.4       , 0.5       , 0.5       ],\n",
       "       [0.4       , 0.4       , 0.5       , 0.5       ],\n",
       "       [0.4       , 0.4       , 0.5       , 0.5       ],\n",
       "       [0.4       , 0.4       , 0.5       , 0.5       ],\n",
       "       [0.4       , 0.4       , 0.5       , 0.5       ]])"
      ]
     },
     "execution_count": 11,
     "metadata": {},
     "output_type": "execute_result"
    }
   ],
   "source": [
    "boxes = coco_annotations_val[coco_annotations_val.file_name ==\"000000532481.jpg\"].iloc[:,1:].values\n",
    "print(boxes)\n",
    "dummy_box = [[0.4,0.4,0.5,0.5]]\n",
    "ux= np.repeat(dummy_box,repeats = 20-boxes.shape[0],axis=0)\n",
    "print(ux)\n",
    "\n",
    "np.concatenate((boxes,ux),axis=0)"
   ]
  },
  {
   "cell_type": "code",
   "execution_count": 12,
   "metadata": {},
   "outputs": [],
   "source": [
    "os.chdir(\"/home/sergio/TinyYOLOv3-Pedestrian-Detection\")\n",
    "coco_annotations_val.to_csv(\"annotations_val_df.csv\",index=False)\n",
    "coco_metadata_val.to_csv(\"metadata_val_df.csv\",index=False)"
   ]
  },
  {
   "cell_type": "code",
   "execution_count": 13,
   "metadata": {},
   "outputs": [
    {
     "data": {
      "text/html": [
       "<div>\n",
       "<style scoped>\n",
       "    .dataframe tbody tr th:only-of-type {\n",
       "        vertical-align: middle;\n",
       "    }\n",
       "\n",
       "    .dataframe tbody tr th {\n",
       "        vertical-align: top;\n",
       "    }\n",
       "\n",
       "    .dataframe thead th {\n",
       "        text-align: right;\n",
       "    }\n",
       "</style>\n",
       "<table border=\"1\" class=\"dataframe\">\n",
       "  <thead>\n",
       "    <tr style=\"text-align: right;\">\n",
       "      <th></th>\n",
       "      <th>file_name</th>\n",
       "      <th>xmin</th>\n",
       "      <th>ymin</th>\n",
       "      <th>xmax</th>\n",
       "      <th>ymax</th>\n",
       "    </tr>\n",
       "  </thead>\n",
       "  <tbody>\n",
       "    <tr>\n",
       "      <th>0</th>\n",
       "      <td>000000532481.jpg</td>\n",
       "      <td>0.391906</td>\n",
       "      <td>0.394977</td>\n",
       "      <td>0.501453</td>\n",
       "      <td>0.547277</td>\n",
       "    </tr>\n",
       "    <tr>\n",
       "      <th>1</th>\n",
       "      <td>000000532481.jpg</td>\n",
       "      <td>0.446172</td>\n",
       "      <td>0.869859</td>\n",
       "      <td>0.465031</td>\n",
       "      <td>0.914953</td>\n",
       "    </tr>\n",
       "    <tr>\n",
       "      <th>2</th>\n",
       "      <td>000000458755.jpg</td>\n",
       "      <td>0.107859</td>\n",
       "      <td>0.078646</td>\n",
       "      <td>0.901687</td>\n",
       "      <td>0.986521</td>\n",
       "    </tr>\n",
       "    <tr>\n",
       "      <th>3</th>\n",
       "      <td>000000458755.jpg</td>\n",
       "      <td>0.885938</td>\n",
       "      <td>0.002646</td>\n",
       "      <td>1.000000</td>\n",
       "      <td>0.183604</td>\n",
       "    </tr>\n",
       "    <tr>\n",
       "      <th>4</th>\n",
       "      <td>000000458755.jpg</td>\n",
       "      <td>0.921906</td>\n",
       "      <td>0.191021</td>\n",
       "      <td>0.999437</td>\n",
       "      <td>0.393250</td>\n",
       "    </tr>\n",
       "    <tr>\n",
       "      <th>...</th>\n",
       "      <td>...</td>\n",
       "      <td>...</td>\n",
       "      <td>...</td>\n",
       "      <td>...</td>\n",
       "      <td>...</td>\n",
       "    </tr>\n",
       "    <tr>\n",
       "      <th>10999</th>\n",
       "      <td>000000098287.jpg</td>\n",
       "      <td>0.870193</td>\n",
       "      <td>0.408687</td>\n",
       "      <td>0.882000</td>\n",
       "      <td>0.440844</td>\n",
       "    </tr>\n",
       "    <tr>\n",
       "      <th>11000</th>\n",
       "      <td>000000098287.jpg</td>\n",
       "      <td>0.419277</td>\n",
       "      <td>0.389062</td>\n",
       "      <td>0.455422</td>\n",
       "      <td>0.418750</td>\n",
       "    </tr>\n",
       "    <tr>\n",
       "      <th>11001</th>\n",
       "      <td>000000417779.jpg</td>\n",
       "      <td>0.736297</td>\n",
       "      <td>0.178083</td>\n",
       "      <td>0.765656</td>\n",
       "      <td>0.267104</td>\n",
       "    </tr>\n",
       "    <tr>\n",
       "      <th>11002</th>\n",
       "      <td>000000024567.jpg</td>\n",
       "      <td>0.000000</td>\n",
       "      <td>0.000000</td>\n",
       "      <td>0.876958</td>\n",
       "      <td>0.745188</td>\n",
       "    </tr>\n",
       "    <tr>\n",
       "      <th>11003</th>\n",
       "      <td>000000450559.jpg</td>\n",
       "      <td>0.167869</td>\n",
       "      <td>0.053328</td>\n",
       "      <td>0.711452</td>\n",
       "      <td>0.562672</td>\n",
       "    </tr>\n",
       "  </tbody>\n",
       "</table>\n",
       "<p>11004 rows × 5 columns</p>\n",
       "</div>"
      ],
      "text/plain": [
       "              file_name      xmin      ymin      xmax      ymax\n",
       "0      000000532481.jpg  0.391906  0.394977  0.501453  0.547277\n",
       "1      000000532481.jpg  0.446172  0.869859  0.465031  0.914953\n",
       "2      000000458755.jpg  0.107859  0.078646  0.901687  0.986521\n",
       "3      000000458755.jpg  0.885938  0.002646  1.000000  0.183604\n",
       "4      000000458755.jpg  0.921906  0.191021  0.999437  0.393250\n",
       "...                 ...       ...       ...       ...       ...\n",
       "10999  000000098287.jpg  0.870193  0.408687  0.882000  0.440844\n",
       "11000  000000098287.jpg  0.419277  0.389062  0.455422  0.418750\n",
       "11001  000000417779.jpg  0.736297  0.178083  0.765656  0.267104\n",
       "11002  000000024567.jpg  0.000000  0.000000  0.876958  0.745188\n",
       "11003  000000450559.jpg  0.167869  0.053328  0.711452  0.562672\n",
       "\n",
       "[11004 rows x 5 columns]"
      ]
     },
     "execution_count": 13,
     "metadata": {},
     "output_type": "execute_result"
    }
   ],
   "source": [
    "coco_annotations_val"
   ]
  },
  {
   "cell_type": "markdown",
   "metadata": {},
   "source": [
    "## Creación de los archivos TFRecords"
   ]
  },
  {
   "cell_type": "code",
   "execution_count": 19,
   "metadata": {},
   "outputs": [],
   "source": [
    "\"\"\" Create tfrecords for image data\"\"\"\n",
    "\n",
    "class ImageTFRecordsCreator(object):\n",
    "    \"\"\" \n",
    "    Class\n",
    "    \"\"\"\n",
    "    def __init__(self, dataframe_annotations,dataframe_metadata,num_shards = 1000):\n",
    "        \"\"\" \n",
    "        Constructor\n",
    "\n",
    "        Args:\n",
    "            num_shards (int): number of sharded tfrecord\n",
    "        \"\"\"\n",
    "        self.num_shards = num_shards\n",
    "        self.df_annotations = dataframe_annotations\n",
    "        self.df_metadata = dataframe_metadata\n",
    "        \n",
    "    def _int64_feature(self, value):\n",
    "\n",
    "        if not isinstance(value, list):\n",
    "            value = [value]\n",
    "        return tf.train.Feature(int64_list=tf.train.Int64List(value=value))\n",
    "\n",
    "    def _bytes_feature(self, value):\n",
    " \n",
    "        if not isinstance(value, list):\n",
    "            value = [value]\n",
    "        return tf.train.Feature(bytes_list=tf.train.BytesList(value=value))\n",
    "    \n",
    "    def _read_image_file(self,filename):\n",
    "\n",
    "        with tf.io.gfile.GFile(filename, 'rb') as f:\n",
    "            img_raw = f.read() #Lee la imagen directamente en serialized TensorfProto proto\n",
    "            \n",
    "        #width = self.df_metadata[self.df_metadata.file_name == filename][\"width\"].values\n",
    "        #height = self.df_metadata[self.df_metadata.file_name == filename][\"height\"].values\n",
    "        #depth = 3\n",
    "        bboxes = self.df_annotations[self.df_annotations.file_name ==filename].iloc[:,1:].values\n",
    "        dummy_box = [[0.4,0.4,0.5,0.5]]\n",
    "        num_real_boxes = bboxes.shape[0]\n",
    "        \n",
    "        ux= np.repeat(dummy_box,repeats = 20-bboxes.shape[0],axis=0)\n",
    "        bboxes =np.float32(np.concatenate((bboxes,ux),axis=0))\n",
    "        bytes_boxes = tf.io.serialize_tensor(bboxes).numpy() #Transforms a Tensor into a serialized TensorProto proto.\n",
    "\n",
    "\n",
    "        return img_raw,bytes_boxes,num_real_boxes\n",
    "        \n",
    "\n",
    "    # Convert c data to tfrecord\n",
    "    def _convert_shard_data_to_tfrecord(self, input_files, output_file):\n",
    "        \"\"\" Convert sharded input files to tfrecords\n",
    "        \"\"\"\n",
    "        print('Generating %s' % output_file)\n",
    "        with tf.io.TFRecordWriter(output_file) as record_writer:\n",
    "            total_boxes = 0\n",
    "            for input_file in input_files:\n",
    "                img_raw,bytes_boxes,num_real_boxes= self._read_image_file(input_file) \n",
    "                total_boxes+=num_real_boxes\n",
    "                feature={\n",
    "                        'bboxes': self._bytes_feature(bytes_boxes),\n",
    "                        'image_raw': self._bytes_feature(tf.compat.as_bytes(img_raw)),\n",
    "                        'num_real_boxes':self._int64_feature(num_real_boxes)\n",
    "                        }\n",
    "                example = tf.train.Example(features=tf.train.Features(feature=feature))\n",
    "                record_writer.write(example.SerializeToString())\n",
    "            print(total_boxes)\n",
    "    # Convert data to tfrecord\n",
    "    def _convert_data_to_tfrecord(self, input_files, output_dir):\n",
    "        \"\"\" convert input image files to tfrecords\n",
    "          Args:\n",
    "            input_files (list): List of input images to be converted to tfr\n",
    "            output_dir (str): Output folder where created tfr files will be kept\n",
    "          Description:\n",
    "            Shard input_files if they are above threshold and create those many tfr\n",
    "        \"\"\"\n",
    "        num_input_files = len(input_files)\n",
    "        for i in tqdm(range(0, num_input_files, self.num_shards)):\n",
    "            \n",
    "            sharded_input_files = input_files[i:i+self.num_shards]\n",
    "            tfr_file_name = os.path.join(output_dir, 'tfr_'+str(i))\n",
    "            self._convert_shard_data_to_tfrecord(sharded_input_files, tfr_file_name)"
   ]
  },
  {
   "cell_type": "code",
   "execution_count": 20,
   "metadata": {},
   "outputs": [],
   "source": [
    "#Donde están las imagenes del validationset de COCO Dataset\n",
    "os.chdir(\"/home/sergio/Documents/COCODataset/pedestrian_dataset_val\")"
   ]
  },
  {
   "cell_type": "code",
   "execution_count": 21,
   "metadata": {},
   "outputs": [
    {
     "name": "stderr",
     "output_type": "stream",
     "text": [
      "  0%|          | 0/3 [00:00<?, ?it/s]"
     ]
    },
    {
     "name": "stdout",
     "output_type": "stream",
     "text": [
      "Generating /home/sergio/Documents/pedestrian_dataset_val_tfr_fixed/tfr_0\n"
     ]
    },
    {
     "name": "stderr",
     "output_type": "stream",
     "text": [
      " 33%|███▎      | 1/3 [00:01<00:02,  1.31s/it]"
     ]
    },
    {
     "name": "stdout",
     "output_type": "stream",
     "text": [
      "4132\n",
      "Generating /home/sergio/Documents/pedestrian_dataset_val_tfr_fixed/tfr_1000\n"
     ]
    },
    {
     "name": "stderr",
     "output_type": "stream",
     "text": [
      " 67%|██████▋   | 2/3 [00:02<00:01,  1.28s/it]"
     ]
    },
    {
     "name": "stdout",
     "output_type": "stream",
     "text": [
      "4140\n",
      "Generating /home/sergio/Documents/pedestrian_dataset_val_tfr_fixed/tfr_2000\n"
     ]
    },
    {
     "name": "stderr",
     "output_type": "stream",
     "text": [
      "100%|██████████| 3/3 [00:03<00:00,  1.13s/it]"
     ]
    },
    {
     "name": "stdout",
     "output_type": "stream",
     "text": [
      "2732\n"
     ]
    },
    {
     "name": "stderr",
     "output_type": "stream",
     "text": [
      "\n"
     ]
    }
   ],
   "source": [
    "input_files = coco_metadata_val.index.values\n",
    "tfrecords_outdir = \"/home/sergio/Documents/pedestrian_dataset_val_tfr_fixed\"\n",
    "num_shards = 1000\n",
    "tfr_creator = ImageTFRecordsCreator(coco_annotations_val,coco_metadata_val,num_shards=num_shards)\n",
    "tfr_creator._convert_data_to_tfrecord(input_files, tfrecords_outdir)"
   ]
  },
  {
   "cell_type": "code",
   "execution_count": 22,
   "metadata": {},
   "outputs": [
    {
     "data": {
      "text/plain": [
       "11004"
      ]
     },
     "execution_count": 22,
     "metadata": {},
     "output_type": "execute_result"
    }
   ],
   "source": [
    "4132+4140+2732"
   ]
  },
  {
   "cell_type": "code",
   "execution_count": null,
   "metadata": {},
   "outputs": [],
   "source": []
  }
 ],
 "metadata": {
  "kernelspec": {
   "display_name": "Python 3",
   "language": "python",
   "name": "python3"
  },
  "language_info": {
   "codemirror_mode": {
    "name": "ipython",
    "version": 3
   },
   "file_extension": ".py",
   "mimetype": "text/x-python",
   "name": "python",
   "nbconvert_exporter": "python",
   "pygments_lexer": "ipython3",
   "version": "3.6.9"
  }
 },
 "nbformat": 4,
 "nbformat_minor": 4
}
