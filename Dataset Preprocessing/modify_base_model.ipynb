{
 "cells": [
  {
   "cell_type": "code",
   "execution_count": 1,
   "metadata": {},
   "outputs": [],
   "source": [
    "import sys\n",
    "sys.path.append(\"/home/sergio/TinyYOLOv3-Pedestrian-Detection\")\n",
    "\n",
    "from YOLOblocks import TinyYOLOv3,PredictionLayer#,YOLOLoss\n",
    "import numpy as np\n",
    "import matplotlib.pyplot as plt\n",
    "import tensorflow as tf\n",
    "from tensorflow.python.tools import freeze_graph\n",
    "from skimage.io import imread,imshow\n",
    "from skimage.transform import resize \n",
    "import time\n",
    "from tensorflow.compat.v1.image import decode_image"
   ]
  },
  {
   "cell_type": "code",
   "execution_count": 6,
   "metadata": {},
   "outputs": [
    {
     "name": "stdout",
     "output_type": "stream",
     "text": [
      "Se redimensiona la salida de la CNN a: (None, 507, 5)\n",
      "Se redimensiona la salida de la CNN a: (None, 2028, 5)\n",
      "Solo es una clase\n",
      "(None, 2535, 1, 4)\n",
      "Tiempo NMS:  0.010459661483764648\n",
      "Se redimensiona la salida de la CNN a: (None, 507, 5)\n",
      "Se redimensiona la salida de la CNN a: (None, 2028, 5)\n",
      "Tiempo NMS:  0.0013785362243652344\n",
      "Model: \"tiny_yol_ov3_4\"\n",
      "_________________________________________________________________\n",
      "Layer (type)                 Output Shape              Param #   \n",
      "=================================================================\n",
      "BasicBlock1 (BasicBlock)     multiple                  496       \n",
      "_________________________________________________________________\n",
      "BasicBlock2 (BasicBlock)     multiple                  4736      \n",
      "_________________________________________________________________\n",
      "BasicBlock3 (BasicBlock)     multiple                  18688     \n",
      "_________________________________________________________________\n",
      "BasicBlock4 (BasicBlock)     multiple                  74240     \n",
      "_________________________________________________________________\n",
      "BasicBlock5 (BasicBlock)     multiple                  295936    \n",
      "_________________________________________________________________\n",
      "BasicBlock6 (BasicBlock)     multiple                  1181696   \n",
      "_________________________________________________________________\n",
      "BasicBlock7 (BasicBlock)     multiple                  4722688   \n",
      "_________________________________________________________________\n",
      "BasicBlock8 (BasicBlock)     multiple                  263168    \n",
      "_________________________________________________________________\n",
      "BasicBlock9 (BasicBlock)     multiple                  1181696   \n",
      "_________________________________________________________________\n",
      "FinalBlock1 (BasicBlock)     multiple                  7695      \n",
      "_________________________________________________________________\n",
      "BasicBlock11 (BasicBlock)    multiple                  33280     \n",
      "_________________________________________________________________\n",
      "BasicBlock12 (BasicBlock)    multiple                  885760    \n",
      "_________________________________________________________________\n",
      "FinalBlock2 (BasicBlock)     multiple                  3855      \n",
      "_________________________________________________________________\n",
      "Concatenate (Concatenate)    multiple                  0         \n",
      "_________________________________________________________________\n",
      "Upsampling (UpSampling2D)    multiple                  0         \n",
      "_________________________________________________________________\n",
      "Prediction1 (PredictionLayer multiple                  0         \n",
      "_________________________________________________________________\n",
      "Prediction2 (PredictionLayer multiple                  0         \n",
      "_________________________________________________________________\n",
      "Concatenate_BBOX (Concatenat multiple                  0         \n",
      "_________________________________________________________________\n",
      "nms_layer_4 (NMSLayer)       multiple                  0         \n",
      "=================================================================\n",
      "Total params: 8,673,934\n",
      "Trainable params: 8,667,566\n",
      "Non-trainable params: 6,368\n",
      "_________________________________________________________________\n",
      "Pesos de la convolucion (432,)\n",
      "CONV SHAPE (16, 3, 3, 3)\n",
      "Pesos de la convolucion (4608,)\n",
      "CONV SHAPE (32, 16, 3, 3)\n",
      "Pesos de la convolucion (18432,)\n",
      "CONV SHAPE (64, 32, 3, 3)\n",
      "Pesos de la convolucion (73728,)\n",
      "CONV SHAPE (128, 64, 3, 3)\n",
      "Pesos de la convolucion (294912,)\n",
      "CONV SHAPE (256, 128, 3, 3)\n",
      "Pesos de la convolucion (1179648,)\n",
      "CONV SHAPE (512, 256, 3, 3)\n",
      "Pesos de la convolucion (4718592,)\n",
      "CONV SHAPE (1024, 512, 3, 3)\n",
      "Pesos de la convolucion (262144,)\n",
      "CONV SHAPE (256, 1024, 1, 1)\n",
      "Pesos de la convolucion (1179648,)\n",
      "CONV SHAPE (512, 256, 3, 3)\n",
      "Pesos de la convolucion (130560,)\n",
      "CONV SHAPE (255, 512, 1, 1)\n",
      "Pesos de la convolucion (32768,)\n",
      "CONV SHAPE (128, 256, 1, 1)\n",
      "Pesos de la convolucion (884736,)\n",
      "CONV SHAPE (256, 384, 3, 3)\n",
      "Pesos de la convolucion (65280,)\n",
      "CONV SHAPE (255, 256, 1, 1)\n",
      "8858734\n"
     ]
    }
   ],
   "source": [
    "anchors =tf.constant(np.array([[10/416,14/416],[23/416,27/416],[37/416,58/416],[81/416,82/416],[135/416,169/416],[344/416,319/416]]),dtype=tf.float32)\n",
    "\n",
    "model_base = TinyYOLOv3(1,anchor_boxes=anchors)\n",
    "model_base.build(batch_input_shape=(None,416,416,3))\n",
    "model_base.summary()\n",
    "print(model_base.load_weights(\"/home/sergio/TinyYOLOv3-Pedestrian-Detection/yolov3-tiny.weights\"))\n",
    "#optimizer = tf.keras.optimizers.Adam()\n",
    "#model_loss = YOLOLoss()"
   ]
  },
  {
   "cell_type": "code",
   "execution_count": 7,
   "metadata": {},
   "outputs": [
    {
     "name": "stdout",
     "output_type": "stream",
     "text": [
      "<YOLOblocks.BasicBlock object at 0x7f57d8126e10>\n",
      "<YOLOblocks.BasicBlock object at 0x7f57d8150550>\n",
      "<YOLOblocks.BasicBlock object at 0x7f57d8150c50>\n",
      "<YOLOblocks.BasicBlock object at 0x7f57d8158390>\n",
      "<YOLOblocks.BasicBlock object at 0x7f57d8158a90>\n",
      "<YOLOblocks.BasicBlock object at 0x7f57d81301d0>\n",
      "<YOLOblocks.BasicBlock object at 0x7f57d8130a20>\n",
      "<YOLOblocks.BasicBlock object at 0x7f57d8130f98>\n",
      "<YOLOblocks.BasicBlock object at 0x7f57d80ea550>\n",
      "<YOLOblocks.BasicBlock object at 0x7f57d80eaac8>\n",
      "<YOLOblocks.BasicBlock object at 0x7f57d80eae48>\n",
      "<YOLOblocks.BasicBlock object at 0x7f57d80f9400>\n",
      "<YOLOblocks.BasicBlock object at 0x7f57d80f9978>\n",
      "<tensorflow.python.keras.layers.merge.Concatenate object at 0x7f57d80f9cf8>\n",
      "<tensorflow.python.keras.layers.convolutional.UpSampling2D object at 0x7f57d80f9e10>\n",
      "<YOLOblocks.PredictionLayer object at 0x7f57d80f9f60>\n",
      "<YOLOblocks.PredictionLayer object at 0x7f57d81060b8>\n",
      "<tensorflow.python.keras.layers.merge.Concatenate object at 0x7f57d81061d0>\n",
      "<YOLOblocks.NMSLayer object at 0x7f57d81062e8>\n"
     ]
    }
   ],
   "source": [
    "#8858734\n",
    "\n",
    "for i in model_base.layers:\n",
    "    print(i)"
   ]
  },
  {
   "cell_type": "code",
   "execution_count": 8,
   "metadata": {},
   "outputs": [],
   "source": [
    "model_base.layers[0] = PredictionLayer(anchors[:len(anchors)//2],conf_thresh=0.5,grid_size=13,num_classes=1,name=\"Prediction1\",training=True)"
   ]
  },
  {
   "cell_type": "code",
   "execution_count": 21,
   "metadata": {},
   "outputs": [
    {
     "data": {
      "text/plain": [
       "<YOLOblocks.BasicBlock at 0x7fd51dfddbe0>"
      ]
     },
     "execution_count": 21,
     "metadata": {},
     "output_type": "execute_result"
    }
   ],
   "source": [
    "model_base.layers[0] "
   ]
  },
  {
   "cell_type": "code",
   "execution_count": 9,
   "metadata": {},
   "outputs": [
    {
     "name": "stdout",
     "output_type": "stream",
     "text": [
      "<YOLOblocks.BasicBlock object at 0x7f57d8126e10>\n",
      "<YOLOblocks.BasicBlock object at 0x7f57d8150550>\n",
      "<YOLOblocks.BasicBlock object at 0x7f57d8150c50>\n",
      "<YOLOblocks.BasicBlock object at 0x7f57d8158390>\n",
      "<YOLOblocks.BasicBlock object at 0x7f57d8158a90>\n",
      "<YOLOblocks.BasicBlock object at 0x7f57d81301d0>\n",
      "<YOLOblocks.BasicBlock object at 0x7f57d8130a20>\n",
      "<YOLOblocks.BasicBlock object at 0x7f57d8130f98>\n",
      "<YOLOblocks.BasicBlock object at 0x7f57d80ea550>\n",
      "<YOLOblocks.BasicBlock object at 0x7f57d80eaac8>\n",
      "<YOLOblocks.BasicBlock object at 0x7f57d80eae48>\n",
      "<YOLOblocks.BasicBlock object at 0x7f57d80f9400>\n",
      "<YOLOblocks.BasicBlock object at 0x7f57d80f9978>\n",
      "<tensorflow.python.keras.layers.merge.Concatenate object at 0x7f57d80f9cf8>\n",
      "<tensorflow.python.keras.layers.convolutional.UpSampling2D object at 0x7f57d80f9e10>\n",
      "<YOLOblocks.PredictionLayer object at 0x7f57d80f9f60>\n",
      "<YOLOblocks.PredictionLayer object at 0x7f57d81060b8>\n",
      "<tensorflow.python.keras.layers.merge.Concatenate object at 0x7f57d81061d0>\n",
      "<YOLOblocks.NMSLayer object at 0x7f57d81062e8>\n"
     ]
    }
   ],
   "source": [
    "for i in model_base.layers:\n",
    "    print(i)"
   ]
  },
  {
   "cell_type": "code",
   "execution_count": null,
   "metadata": {},
   "outputs": [],
   "source": []
  }
 ],
 "metadata": {
  "kernelspec": {
   "display_name": "Python 3",
   "language": "python",
   "name": "python3"
  },
  "language_info": {
   "codemirror_mode": {
    "name": "ipython",
    "version": 3
   },
   "file_extension": ".py",
   "mimetype": "text/x-python",
   "name": "python",
   "nbconvert_exporter": "python",
   "pygments_lexer": "ipython3",
   "version": "3.6.10"
  }
 },
 "nbformat": 4,
 "nbformat_minor": 4
}
