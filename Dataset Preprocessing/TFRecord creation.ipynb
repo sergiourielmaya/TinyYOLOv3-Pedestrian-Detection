{
 "cells": [
  {
   "cell_type": "code",
   "execution_count": 1,
   "metadata": {},
   "outputs": [],
   "source": [
    "import numpy as np\n",
    "import pandas as pd\n",
    "from matplotlib import pyplot as plt\n",
    "import tensorflow as tf\n",
    "import cv2\n",
    "from skimage.io import imread\n",
    "\n",
    "import sys\n",
    "import os\n",
    "import glob\n",
    "import shutil\n",
    "import argparse\n",
    "from tqdm import tqdm\n",
    "\n",
    "from albumentations import (\n",
    "    convert_bbox_to_albumentations,convert_bboxes_from_albumentations\n",
    ")\n",
    "\n",
    "import albumentations as A"
   ]
  },
  {
   "cell_type": "code",
   "execution_count": 2,
   "metadata": {},
   "outputs": [
    {
     "name": "stdout",
     "output_type": "stream",
     "text": [
      "(17401, 5)\n",
      "(9583, 2)\n"
     ]
    },
    {
     "data": {
      "text/html": [
       "<div>\n",
       "<style scoped>\n",
       "    .dataframe tbody tr th:only-of-type {\n",
       "        vertical-align: middle;\n",
       "    }\n",
       "\n",
       "    .dataframe tbody tr th {\n",
       "        vertical-align: top;\n",
       "    }\n",
       "\n",
       "    .dataframe thead th {\n",
       "        text-align: right;\n",
       "    }\n",
       "</style>\n",
       "<table border=\"1\" class=\"dataframe\">\n",
       "  <thead>\n",
       "    <tr style=\"text-align: right;\">\n",
       "      <th></th>\n",
       "      <th>file_name</th>\n",
       "      <th>xmin</th>\n",
       "      <th>ymin</th>\n",
       "      <th>xmax</th>\n",
       "      <th>ymax</th>\n",
       "    </tr>\n",
       "  </thead>\n",
       "  <tbody>\n",
       "    <tr>\n",
       "      <th>0</th>\n",
       "      <td>2008_005379.jpg</td>\n",
       "      <td>0.644000</td>\n",
       "      <td>0.002667</td>\n",
       "      <td>1.000000</td>\n",
       "      <td>1.000000</td>\n",
       "    </tr>\n",
       "    <tr>\n",
       "      <th>1</th>\n",
       "      <td>2012_003403.jpg</td>\n",
       "      <td>0.423567</td>\n",
       "      <td>0.559140</td>\n",
       "      <td>0.484076</td>\n",
       "      <td>0.763441</td>\n",
       "    </tr>\n",
       "    <tr>\n",
       "      <th>2</th>\n",
       "      <td>2009_003338.jpg</td>\n",
       "      <td>0.262000</td>\n",
       "      <td>0.451807</td>\n",
       "      <td>0.400000</td>\n",
       "      <td>1.000000</td>\n",
       "    </tr>\n",
       "    <tr>\n",
       "      <th>3</th>\n",
       "      <td>2009_003338.jpg</td>\n",
       "      <td>0.336000</td>\n",
       "      <td>0.460843</td>\n",
       "      <td>0.518000</td>\n",
       "      <td>1.000000</td>\n",
       "    </tr>\n",
       "    <tr>\n",
       "      <th>4</th>\n",
       "      <td>2009_003338.jpg</td>\n",
       "      <td>0.554000</td>\n",
       "      <td>0.367470</td>\n",
       "      <td>0.730000</td>\n",
       "      <td>1.000000</td>\n",
       "    </tr>\n",
       "  </tbody>\n",
       "</table>\n",
       "</div>"
      ],
      "text/plain": [
       "         file_name      xmin      ymin      xmax      ymax\n",
       "0  2008_005379.jpg  0.644000  0.002667  1.000000  1.000000\n",
       "1  2012_003403.jpg  0.423567  0.559140  0.484076  0.763441\n",
       "2  2009_003338.jpg  0.262000  0.451807  0.400000  1.000000\n",
       "3  2009_003338.jpg  0.336000  0.460843  0.518000  1.000000\n",
       "4  2009_003338.jpg  0.554000  0.367470  0.730000  1.000000"
      ]
     },
     "metadata": {},
     "output_type": "display_data"
    },
    {
     "data": {
      "text/html": [
       "<div>\n",
       "<style scoped>\n",
       "    .dataframe tbody tr th:only-of-type {\n",
       "        vertical-align: middle;\n",
       "    }\n",
       "\n",
       "    .dataframe tbody tr th {\n",
       "        vertical-align: top;\n",
       "    }\n",
       "\n",
       "    .dataframe thead th {\n",
       "        text-align: right;\n",
       "    }\n",
       "</style>\n",
       "<table border=\"1\" class=\"dataframe\">\n",
       "  <thead>\n",
       "    <tr style=\"text-align: right;\">\n",
       "      <th></th>\n",
       "      <th>width</th>\n",
       "      <th>height</th>\n",
       "    </tr>\n",
       "  </thead>\n",
       "  <tbody>\n",
       "    <tr>\n",
       "      <th>2008_005379.jpg</th>\n",
       "      <td>500</td>\n",
       "      <td>375</td>\n",
       "    </tr>\n",
       "    <tr>\n",
       "      <th>2012_003403.jpg</th>\n",
       "      <td>314</td>\n",
       "      <td>186</td>\n",
       "    </tr>\n",
       "    <tr>\n",
       "      <th>2009_003338.jpg</th>\n",
       "      <td>500</td>\n",
       "      <td>332</td>\n",
       "    </tr>\n",
       "    <tr>\n",
       "      <th>2012_000625.jpg</th>\n",
       "      <td>500</td>\n",
       "      <td>333</td>\n",
       "    </tr>\n",
       "    <tr>\n",
       "      <th>2011_004438.jpg</th>\n",
       "      <td>500</td>\n",
       "      <td>334</td>\n",
       "    </tr>\n",
       "  </tbody>\n",
       "</table>\n",
       "</div>"
      ],
      "text/plain": [
       "                 width  height\n",
       "2008_005379.jpg    500     375\n",
       "2012_003403.jpg    314     186\n",
       "2009_003338.jpg    500     332\n",
       "2012_000625.jpg    500     333\n",
       "2011_004438.jpg    500     334"
      ]
     },
     "metadata": {},
     "output_type": "display_data"
    }
   ],
   "source": [
    "#Leemos los archivos CSV del VOC Dataset\n",
    "\n",
    "os.chdir(\"/home/sergio/Documents/VOC2012\")\n",
    "voc_annotations = pd.read_csv(\"VOC_annotations.csv\")\n",
    "voc_metadata = pd.read_csv(\"VOC_metadata.csv\",index_col=0)\n",
    "print(voc_annotations.shape)\n",
    "print(voc_metadata.shape)\n",
    "display(voc_annotations.head())\n",
    "display(voc_metadata.head())"
   ]
  },
  {
   "cell_type": "code",
   "execution_count": 3,
   "metadata": {},
   "outputs": [
    {
     "name": "stdout",
     "output_type": "stream",
     "text": [
      "(262461, 5)\n",
      "(64115, 2)\n"
     ]
    },
    {
     "data": {
      "text/html": [
       "<div>\n",
       "<style scoped>\n",
       "    .dataframe tbody tr th:only-of-type {\n",
       "        vertical-align: middle;\n",
       "    }\n",
       "\n",
       "    .dataframe tbody tr th {\n",
       "        vertical-align: top;\n",
       "    }\n",
       "\n",
       "    .dataframe thead th {\n",
       "        text-align: right;\n",
       "    }\n",
       "</style>\n",
       "<table border=\"1\" class=\"dataframe\">\n",
       "  <thead>\n",
       "    <tr style=\"text-align: right;\">\n",
       "      <th></th>\n",
       "      <th>file_name</th>\n",
       "      <th>xmin</th>\n",
       "      <th>ymin</th>\n",
       "      <th>xmax</th>\n",
       "      <th>ymax</th>\n",
       "    </tr>\n",
       "  </thead>\n",
       "  <tbody>\n",
       "    <tr>\n",
       "      <th>0</th>\n",
       "      <td>000000262145.jpg</td>\n",
       "      <td>0.604688</td>\n",
       "      <td>0.166511</td>\n",
       "      <td>0.831250</td>\n",
       "      <td>0.920609</td>\n",
       "    </tr>\n",
       "    <tr>\n",
       "      <th>1</th>\n",
       "      <td>000000262145.jpg</td>\n",
       "      <td>0.772359</td>\n",
       "      <td>0.213208</td>\n",
       "      <td>0.790641</td>\n",
       "      <td>0.251054</td>\n",
       "    </tr>\n",
       "    <tr>\n",
       "      <th>2</th>\n",
       "      <td>000000262145.jpg</td>\n",
       "      <td>0.441203</td>\n",
       "      <td>0.203255</td>\n",
       "      <td>0.491453</td>\n",
       "      <td>0.430468</td>\n",
       "    </tr>\n",
       "    <tr>\n",
       "      <th>3</th>\n",
       "      <td>000000262145.jpg</td>\n",
       "      <td>0.822141</td>\n",
       "      <td>0.103372</td>\n",
       "      <td>0.963547</td>\n",
       "      <td>0.543653</td>\n",
       "    </tr>\n",
       "    <tr>\n",
       "      <th>4</th>\n",
       "      <td>000000262145.jpg</td>\n",
       "      <td>0.767984</td>\n",
       "      <td>0.190141</td>\n",
       "      <td>0.831203</td>\n",
       "      <td>0.390000</td>\n",
       "    </tr>\n",
       "  </tbody>\n",
       "</table>\n",
       "</div>"
      ],
      "text/plain": [
       "          file_name      xmin      ymin      xmax      ymax\n",
       "0  000000262145.jpg  0.604688  0.166511  0.831250  0.920609\n",
       "1  000000262145.jpg  0.772359  0.213208  0.790641  0.251054\n",
       "2  000000262145.jpg  0.441203  0.203255  0.491453  0.430468\n",
       "3  000000262145.jpg  0.822141  0.103372  0.963547  0.543653\n",
       "4  000000262145.jpg  0.767984  0.190141  0.831203  0.390000"
      ]
     },
     "metadata": {},
     "output_type": "display_data"
    },
    {
     "data": {
      "text/html": [
       "<div>\n",
       "<style scoped>\n",
       "    .dataframe tbody tr th:only-of-type {\n",
       "        vertical-align: middle;\n",
       "    }\n",
       "\n",
       "    .dataframe tbody tr th {\n",
       "        vertical-align: top;\n",
       "    }\n",
       "\n",
       "    .dataframe thead th {\n",
       "        text-align: right;\n",
       "    }\n",
       "</style>\n",
       "<table border=\"1\" class=\"dataframe\">\n",
       "  <thead>\n",
       "    <tr style=\"text-align: right;\">\n",
       "      <th></th>\n",
       "      <th>width</th>\n",
       "      <th>height</th>\n",
       "    </tr>\n",
       "  </thead>\n",
       "  <tbody>\n",
       "    <tr>\n",
       "      <th>000000262145.jpg</th>\n",
       "      <td>640</td>\n",
       "      <td>427</td>\n",
       "    </tr>\n",
       "    <tr>\n",
       "      <th>000000262146.jpg</th>\n",
       "      <td>480</td>\n",
       "      <td>640</td>\n",
       "    </tr>\n",
       "    <tr>\n",
       "      <th>000000524291.jpg</th>\n",
       "      <td>640</td>\n",
       "      <td>426</td>\n",
       "    </tr>\n",
       "    <tr>\n",
       "      <th>000000262148.jpg</th>\n",
       "      <td>640</td>\n",
       "      <td>512</td>\n",
       "    </tr>\n",
       "    <tr>\n",
       "      <th>000000393223.jpg</th>\n",
       "      <td>640</td>\n",
       "      <td>480</td>\n",
       "    </tr>\n",
       "  </tbody>\n",
       "</table>\n",
       "</div>"
      ],
      "text/plain": [
       "                  width  height\n",
       "000000262145.jpg    640     427\n",
       "000000262146.jpg    480     640\n",
       "000000524291.jpg    640     426\n",
       "000000262148.jpg    640     512\n",
       "000000393223.jpg    640     480"
      ]
     },
     "metadata": {},
     "output_type": "display_data"
    },
    {
     "name": "stdout",
     "output_type": "stream",
     "text": [
      "(11004, 5)\n",
      "(2693, 2)\n"
     ]
    },
    {
     "data": {
      "text/html": [
       "<div>\n",
       "<style scoped>\n",
       "    .dataframe tbody tr th:only-of-type {\n",
       "        vertical-align: middle;\n",
       "    }\n",
       "\n",
       "    .dataframe tbody tr th {\n",
       "        vertical-align: top;\n",
       "    }\n",
       "\n",
       "    .dataframe thead th {\n",
       "        text-align: right;\n",
       "    }\n",
       "</style>\n",
       "<table border=\"1\" class=\"dataframe\">\n",
       "  <thead>\n",
       "    <tr style=\"text-align: right;\">\n",
       "      <th></th>\n",
       "      <th>file_name</th>\n",
       "      <th>xmin</th>\n",
       "      <th>ymin</th>\n",
       "      <th>xmax</th>\n",
       "      <th>ymax</th>\n",
       "    </tr>\n",
       "  </thead>\n",
       "  <tbody>\n",
       "    <tr>\n",
       "      <th>0</th>\n",
       "      <td>000000532481.jpg</td>\n",
       "      <td>0.391906</td>\n",
       "      <td>0.394977</td>\n",
       "      <td>0.501453</td>\n",
       "      <td>0.547277</td>\n",
       "    </tr>\n",
       "    <tr>\n",
       "      <th>1</th>\n",
       "      <td>000000532481.jpg</td>\n",
       "      <td>0.446172</td>\n",
       "      <td>0.869859</td>\n",
       "      <td>0.465031</td>\n",
       "      <td>0.914953</td>\n",
       "    </tr>\n",
       "    <tr>\n",
       "      <th>2</th>\n",
       "      <td>000000458755.jpg</td>\n",
       "      <td>0.107859</td>\n",
       "      <td>0.078646</td>\n",
       "      <td>0.901687</td>\n",
       "      <td>0.986521</td>\n",
       "    </tr>\n",
       "    <tr>\n",
       "      <th>3</th>\n",
       "      <td>000000458755.jpg</td>\n",
       "      <td>0.885938</td>\n",
       "      <td>0.002646</td>\n",
       "      <td>1.000000</td>\n",
       "      <td>0.183604</td>\n",
       "    </tr>\n",
       "    <tr>\n",
       "      <th>4</th>\n",
       "      <td>000000458755.jpg</td>\n",
       "      <td>0.921906</td>\n",
       "      <td>0.191021</td>\n",
       "      <td>0.999437</td>\n",
       "      <td>0.393250</td>\n",
       "    </tr>\n",
       "  </tbody>\n",
       "</table>\n",
       "</div>"
      ],
      "text/plain": [
       "          file_name      xmin      ymin      xmax      ymax\n",
       "0  000000532481.jpg  0.391906  0.394977  0.501453  0.547277\n",
       "1  000000532481.jpg  0.446172  0.869859  0.465031  0.914953\n",
       "2  000000458755.jpg  0.107859  0.078646  0.901687  0.986521\n",
       "3  000000458755.jpg  0.885938  0.002646  1.000000  0.183604\n",
       "4  000000458755.jpg  0.921906  0.191021  0.999437  0.393250"
      ]
     },
     "metadata": {},
     "output_type": "display_data"
    },
    {
     "data": {
      "text/html": [
       "<div>\n",
       "<style scoped>\n",
       "    .dataframe tbody tr th:only-of-type {\n",
       "        vertical-align: middle;\n",
       "    }\n",
       "\n",
       "    .dataframe tbody tr th {\n",
       "        vertical-align: top;\n",
       "    }\n",
       "\n",
       "    .dataframe thead th {\n",
       "        text-align: right;\n",
       "    }\n",
       "</style>\n",
       "<table border=\"1\" class=\"dataframe\">\n",
       "  <thead>\n",
       "    <tr style=\"text-align: right;\">\n",
       "      <th></th>\n",
       "      <th>width</th>\n",
       "      <th>height</th>\n",
       "    </tr>\n",
       "  </thead>\n",
       "  <tbody>\n",
       "    <tr>\n",
       "      <th>000000532481.jpg</th>\n",
       "      <td>640</td>\n",
       "      <td>426</td>\n",
       "    </tr>\n",
       "    <tr>\n",
       "      <th>000000458755.jpg</th>\n",
       "      <td>640</td>\n",
       "      <td>480</td>\n",
       "    </tr>\n",
       "    <tr>\n",
       "      <th>000000385029.jpg</th>\n",
       "      <td>640</td>\n",
       "      <td>480</td>\n",
       "    </tr>\n",
       "    <tr>\n",
       "      <th>000000311303.jpg</th>\n",
       "      <td>640</td>\n",
       "      <td>427</td>\n",
       "    </tr>\n",
       "    <tr>\n",
       "      <th>000000393226.jpg</th>\n",
       "      <td>640</td>\n",
       "      <td>480</td>\n",
       "    </tr>\n",
       "  </tbody>\n",
       "</table>\n",
       "</div>"
      ],
      "text/plain": [
       "                  width  height\n",
       "000000532481.jpg    640     426\n",
       "000000458755.jpg    640     480\n",
       "000000385029.jpg    640     480\n",
       "000000311303.jpg    640     427\n",
       "000000393226.jpg    640     480"
      ]
     },
     "metadata": {},
     "output_type": "display_data"
    }
   ],
   "source": [
    "#Leemos los archivos CSV del COCO Dataset\n",
    "\n",
    "os.chdir(\"/home/sergio/Documents/COCODataset\")\n",
    "coco_annotations_train = pd.read_csv(\"COCO_annotations_train.csv\", index_col=0)\n",
    "coco_metadata_train = pd.read_csv(\"COCO_metadata_train.csv\", index_col=0)\n",
    "\n",
    "coco_annotations_val = pd.read_csv(\"COCO_annotations_val.csv\", index_col=0)\n",
    "coco_metadata_val = pd.read_csv(\"COCO_metadata_val.csv\", index_col=0)\n",
    "\n",
    "print(coco_annotations_train.shape)\n",
    "print(coco_metadata_train.shape)\n",
    "display(coco_annotations_train.head())\n",
    "display(coco_metadata_train.head())\n",
    "\n",
    "print(coco_annotations_val.shape)\n",
    "print(coco_metadata_val.shape)\n",
    "display(coco_annotations_val.head())\n",
    "display(coco_metadata_val.head())"
   ]
  },
  {
   "cell_type": "markdown",
   "metadata": {},
   "source": [
    "Juntando los CSV de VOC Dtaset y COCO Dataset"
   ]
  },
  {
   "cell_type": "code",
   "execution_count": 4,
   "metadata": {},
   "outputs": [],
   "source": [
    "frames = [coco_annotations_train,voc_annotations]\n",
    "annotations_train_df = pd.concat(frames)\n",
    "\n",
    "frames = [coco_metadata_train,voc_metadata]\n",
    "metadata_train_df = pd.concat(frames)"
   ]
  },
  {
   "cell_type": "code",
   "execution_count": 5,
   "metadata": {},
   "outputs": [
    {
     "data": {
      "text/html": [
       "<div>\n",
       "<style scoped>\n",
       "    .dataframe tbody tr th:only-of-type {\n",
       "        vertical-align: middle;\n",
       "    }\n",
       "\n",
       "    .dataframe tbody tr th {\n",
       "        vertical-align: top;\n",
       "    }\n",
       "\n",
       "    .dataframe thead th {\n",
       "        text-align: right;\n",
       "    }\n",
       "</style>\n",
       "<table border=\"1\" class=\"dataframe\">\n",
       "  <thead>\n",
       "    <tr style=\"text-align: right;\">\n",
       "      <th></th>\n",
       "      <th>file_name</th>\n",
       "      <th>xmin</th>\n",
       "      <th>ymin</th>\n",
       "      <th>xmax</th>\n",
       "      <th>ymax</th>\n",
       "    </tr>\n",
       "  </thead>\n",
       "  <tbody>\n",
       "    <tr>\n",
       "      <th>0</th>\n",
       "      <td>000000262145.jpg</td>\n",
       "      <td>0.604688</td>\n",
       "      <td>0.166511</td>\n",
       "      <td>0.831250</td>\n",
       "      <td>0.920609</td>\n",
       "    </tr>\n",
       "    <tr>\n",
       "      <th>1</th>\n",
       "      <td>000000262145.jpg</td>\n",
       "      <td>0.772359</td>\n",
       "      <td>0.213208</td>\n",
       "      <td>0.790641</td>\n",
       "      <td>0.251054</td>\n",
       "    </tr>\n",
       "    <tr>\n",
       "      <th>2</th>\n",
       "      <td>000000262145.jpg</td>\n",
       "      <td>0.441203</td>\n",
       "      <td>0.203255</td>\n",
       "      <td>0.491453</td>\n",
       "      <td>0.430468</td>\n",
       "    </tr>\n",
       "    <tr>\n",
       "      <th>3</th>\n",
       "      <td>000000262145.jpg</td>\n",
       "      <td>0.822141</td>\n",
       "      <td>0.103372</td>\n",
       "      <td>0.963547</td>\n",
       "      <td>0.543653</td>\n",
       "    </tr>\n",
       "    <tr>\n",
       "      <th>4</th>\n",
       "      <td>000000262145.jpg</td>\n",
       "      <td>0.767984</td>\n",
       "      <td>0.190141</td>\n",
       "      <td>0.831203</td>\n",
       "      <td>0.390000</td>\n",
       "    </tr>\n",
       "    <tr>\n",
       "      <th>...</th>\n",
       "      <td>...</td>\n",
       "      <td>...</td>\n",
       "      <td>...</td>\n",
       "      <td>...</td>\n",
       "      <td>...</td>\n",
       "    </tr>\n",
       "    <tr>\n",
       "      <th>17396</th>\n",
       "      <td>2008_006108.jpg</td>\n",
       "      <td>0.548000</td>\n",
       "      <td>0.368000</td>\n",
       "      <td>0.906000</td>\n",
       "      <td>0.952000</td>\n",
       "    </tr>\n",
       "    <tr>\n",
       "      <th>17397</th>\n",
       "      <td>2010_003957.jpg</td>\n",
       "      <td>0.140000</td>\n",
       "      <td>0.138667</td>\n",
       "      <td>0.706000</td>\n",
       "      <td>0.997333</td>\n",
       "    </tr>\n",
       "    <tr>\n",
       "      <th>17398</th>\n",
       "      <td>2009_002569.jpg</td>\n",
       "      <td>0.340000</td>\n",
       "      <td>0.411411</td>\n",
       "      <td>0.770000</td>\n",
       "      <td>0.945946</td>\n",
       "    </tr>\n",
       "    <tr>\n",
       "      <th>17399</th>\n",
       "      <td>2009_002569.jpg</td>\n",
       "      <td>0.264000</td>\n",
       "      <td>0.003003</td>\n",
       "      <td>0.558000</td>\n",
       "      <td>0.426426</td>\n",
       "    </tr>\n",
       "    <tr>\n",
       "      <th>17400</th>\n",
       "      <td>2010_001449.jpg</td>\n",
       "      <td>0.404000</td>\n",
       "      <td>0.368000</td>\n",
       "      <td>0.514000</td>\n",
       "      <td>0.538667</td>\n",
       "    </tr>\n",
       "  </tbody>\n",
       "</table>\n",
       "<p>279862 rows × 5 columns</p>\n",
       "</div>"
      ],
      "text/plain": [
       "              file_name      xmin      ymin      xmax      ymax\n",
       "0      000000262145.jpg  0.604688  0.166511  0.831250  0.920609\n",
       "1      000000262145.jpg  0.772359  0.213208  0.790641  0.251054\n",
       "2      000000262145.jpg  0.441203  0.203255  0.491453  0.430468\n",
       "3      000000262145.jpg  0.822141  0.103372  0.963547  0.543653\n",
       "4      000000262145.jpg  0.767984  0.190141  0.831203  0.390000\n",
       "...                 ...       ...       ...       ...       ...\n",
       "17396   2008_006108.jpg  0.548000  0.368000  0.906000  0.952000\n",
       "17397   2010_003957.jpg  0.140000  0.138667  0.706000  0.997333\n",
       "17398   2009_002569.jpg  0.340000  0.411411  0.770000  0.945946\n",
       "17399   2009_002569.jpg  0.264000  0.003003  0.558000  0.426426\n",
       "17400   2010_001449.jpg  0.404000  0.368000  0.514000  0.538667\n",
       "\n",
       "[279862 rows x 5 columns]"
      ]
     },
     "execution_count": 5,
     "metadata": {},
     "output_type": "execute_result"
    }
   ],
   "source": [
    "annotations_train_df"
   ]
  },
  {
   "cell_type": "code",
   "execution_count": 6,
   "metadata": {},
   "outputs": [],
   "source": [
    "#Obtenemos el número máximo de objetos en una sola imagen\n",
    "image_name = annotations_train_df.file_name.mode().values[0]\n",
    "max_objects = len(annotations_train_df[annotations_train_df.file_name==image_name])"
   ]
  },
  {
   "cell_type": "code",
   "execution_count": 7,
   "metadata": {},
   "outputs": [
    {
     "data": {
      "text/html": [
       "<div>\n",
       "<style scoped>\n",
       "    .dataframe tbody tr th:only-of-type {\n",
       "        vertical-align: middle;\n",
       "    }\n",
       "\n",
       "    .dataframe tbody tr th {\n",
       "        vertical-align: top;\n",
       "    }\n",
       "\n",
       "    .dataframe thead th {\n",
       "        text-align: right;\n",
       "    }\n",
       "</style>\n",
       "<table border=\"1\" class=\"dataframe\">\n",
       "  <thead>\n",
       "    <tr style=\"text-align: right;\">\n",
       "      <th></th>\n",
       "      <th>width</th>\n",
       "      <th>height</th>\n",
       "    </tr>\n",
       "  </thead>\n",
       "  <tbody>\n",
       "    <tr>\n",
       "      <th>000000262145.jpg</th>\n",
       "      <td>640</td>\n",
       "      <td>427</td>\n",
       "    </tr>\n",
       "    <tr>\n",
       "      <th>000000262146.jpg</th>\n",
       "      <td>480</td>\n",
       "      <td>640</td>\n",
       "    </tr>\n",
       "    <tr>\n",
       "      <th>000000524291.jpg</th>\n",
       "      <td>640</td>\n",
       "      <td>426</td>\n",
       "    </tr>\n",
       "    <tr>\n",
       "      <th>000000262148.jpg</th>\n",
       "      <td>640</td>\n",
       "      <td>512</td>\n",
       "    </tr>\n",
       "    <tr>\n",
       "      <th>000000393223.jpg</th>\n",
       "      <td>640</td>\n",
       "      <td>480</td>\n",
       "    </tr>\n",
       "    <tr>\n",
       "      <th>...</th>\n",
       "      <td>...</td>\n",
       "      <td>...</td>\n",
       "    </tr>\n",
       "    <tr>\n",
       "      <th>2008_001669.jpg</th>\n",
       "      <td>333</td>\n",
       "      <td>500</td>\n",
       "    </tr>\n",
       "    <tr>\n",
       "      <th>2008_006108.jpg</th>\n",
       "      <td>500</td>\n",
       "      <td>375</td>\n",
       "    </tr>\n",
       "    <tr>\n",
       "      <th>2010_003957.jpg</th>\n",
       "      <td>500</td>\n",
       "      <td>375</td>\n",
       "    </tr>\n",
       "    <tr>\n",
       "      <th>2009_002569.jpg</th>\n",
       "      <td>500</td>\n",
       "      <td>333</td>\n",
       "    </tr>\n",
       "    <tr>\n",
       "      <th>2010_001449.jpg</th>\n",
       "      <td>500</td>\n",
       "      <td>375</td>\n",
       "    </tr>\n",
       "  </tbody>\n",
       "</table>\n",
       "<p>73698 rows × 2 columns</p>\n",
       "</div>"
      ],
      "text/plain": [
       "                  width  height\n",
       "000000262145.jpg    640     427\n",
       "000000262146.jpg    480     640\n",
       "000000524291.jpg    640     426\n",
       "000000262148.jpg    640     512\n",
       "000000393223.jpg    640     480\n",
       "...                 ...     ...\n",
       "2008_001669.jpg     333     500\n",
       "2008_006108.jpg     500     375\n",
       "2010_003957.jpg     500     375\n",
       "2009_002569.jpg     500     333\n",
       "2010_001449.jpg     500     375\n",
       "\n",
       "[73698 rows x 2 columns]"
      ]
     },
     "execution_count": 7,
     "metadata": {},
     "output_type": "execute_result"
    }
   ],
   "source": [
    "metadata_train_df"
   ]
  },
  {
   "cell_type": "code",
   "execution_count": 8,
   "metadata": {},
   "outputs": [
    {
     "name": "stdout",
     "output_type": "stream",
     "text": [
      "[[0.6046875  0.16651054 0.83125    0.9206089 ]\n",
      " [0.77235937 0.21320843 0.79064062 0.25105386]\n",
      " [0.44120312 0.20325527 0.49145312 0.43046838]\n",
      " [0.82214062 0.10337237 0.96354688 0.5436534 ]\n",
      " [0.76798437 0.19014052 0.83120313 0.39      ]\n",
      " [0.7466875  0.20562061 0.76809375 0.28384075]\n",
      " [0.48278125 0.17976581 0.56073438 0.52807963]\n",
      " [0.11245313 0.24494145 0.20540625 0.5842623 ]\n",
      " [0.55092188 0.31885246 0.59490625 0.39107728]\n",
      " [0.08153125 0.23030445 0.11573438 0.30934426]\n",
      " [0.06278125 0.22166276 0.08457812 0.27447307]\n",
      " [0.00515625 0.28400468 0.13521875 0.57562061]\n",
      " [0.23934375 0.14501171 0.4061875  0.42093677]\n",
      " [0.040625   0.1498829  0.9984375  0.44496487]]\n",
      "[[0.4 0.4 0.5 0.5]\n",
      " [0.4 0.4 0.5 0.5]\n",
      " [0.4 0.4 0.5 0.5]\n",
      " [0.4 0.4 0.5 0.5]\n",
      " [0.4 0.4 0.5 0.5]\n",
      " [0.4 0.4 0.5 0.5]]\n"
     ]
    },
    {
     "data": {
      "text/plain": [
       "array([[0.6046875 , 0.16651054, 0.83125   , 0.9206089 ],\n",
       "       [0.77235937, 0.21320843, 0.79064062, 0.25105386],\n",
       "       [0.44120312, 0.20325527, 0.49145312, 0.43046838],\n",
       "       [0.82214062, 0.10337237, 0.96354688, 0.5436534 ],\n",
       "       [0.76798437, 0.19014052, 0.83120313, 0.39      ],\n",
       "       [0.7466875 , 0.20562061, 0.76809375, 0.28384075],\n",
       "       [0.48278125, 0.17976581, 0.56073438, 0.52807963],\n",
       "       [0.11245313, 0.24494145, 0.20540625, 0.5842623 ],\n",
       "       [0.55092188, 0.31885246, 0.59490625, 0.39107728],\n",
       "       [0.08153125, 0.23030445, 0.11573438, 0.30934426],\n",
       "       [0.06278125, 0.22166276, 0.08457812, 0.27447307],\n",
       "       [0.00515625, 0.28400468, 0.13521875, 0.57562061],\n",
       "       [0.23934375, 0.14501171, 0.4061875 , 0.42093677],\n",
       "       [0.040625  , 0.1498829 , 0.9984375 , 0.44496487],\n",
       "       [0.4       , 0.4       , 0.5       , 0.5       ],\n",
       "       [0.4       , 0.4       , 0.5       , 0.5       ],\n",
       "       [0.4       , 0.4       , 0.5       , 0.5       ],\n",
       "       [0.4       , 0.4       , 0.5       , 0.5       ],\n",
       "       [0.4       , 0.4       , 0.5       , 0.5       ],\n",
       "       [0.4       , 0.4       , 0.5       , 0.5       ]])"
      ]
     },
     "execution_count": 8,
     "metadata": {},
     "output_type": "execute_result"
    }
   ],
   "source": [
    "boxes = annotations_train_df[annotations_train_df.file_name ==\"000000262145.jpg\"].iloc[:,1:].values\n",
    "print(boxes)\n",
    "dummy_box = [[0.4,0.4,0.5,0.5]]\n",
    "ux= np.repeat(dummy_box,repeats = 20-boxes.shape[0],axis=0)\n",
    "print(ux)\n",
    "\n",
    "np.concatenate((boxes,ux),axis=0)"
   ]
  },
  {
   "cell_type": "code",
   "execution_count": 9,
   "metadata": {},
   "outputs": [],
   "source": [
    "os.chdir(\"/home/sergio/TinyYOLOv3-Pedestrian-Detection\")\n",
    "annotations_train_df.to_csv(\"annotations_train_df.csv\",index=False)\n",
    "metadata_train_df.to_csv(\"metadata_train_df.csv\",index=False)"
   ]
  },
  {
   "cell_type": "markdown",
   "metadata": {},
   "source": [
    "## Creación de los archivos TFRecords"
   ]
  },
  {
   "cell_type": "code",
   "execution_count": 11,
   "metadata": {},
   "outputs": [],
   "source": [
    "\"\"\" Create tfrecords for image data\"\"\"\n",
    "\n",
    "class ImageTFRecordsCreator(object):\n",
    "    \"\"\" \n",
    "    Class\n",
    "    \"\"\"\n",
    "    def __init__(self, dataframe_annotations,dataframe_metadata,num_shards = 1000):\n",
    "        \"\"\" \n",
    "        Constructor\n",
    "\n",
    "        Args:\n",
    "            num_shards (int): number of sharded tfrecord\n",
    "        \"\"\"\n",
    "        self.num_shards = num_shards\n",
    "        self.df_annotations = dataframe_annotations\n",
    "        self.df_metadata = dataframe_metadata\n",
    "        \n",
    "    def _int64_feature(self, value):\n",
    "\n",
    "        if not isinstance(value, list):\n",
    "            value = [value]\n",
    "        return tf.train.Feature(int64_list=tf.train.Int64List(value=value))\n",
    "\n",
    "    def _bytes_feature(self, value):\n",
    " \n",
    "        if not isinstance(value, list):\n",
    "            value = [value]\n",
    "        return tf.train.Feature(bytes_list=tf.train.BytesList(value=value))\n",
    "    \n",
    "    def _read_image_file(self,filename):\n",
    "\n",
    "        with tf.io.gfile.GFile(filename, 'rb') as f:\n",
    "            img_raw = f.read() #Lee la imagen directamente en serialized TensorfProto proto\n",
    "            \n",
    "        #width = self.df_metadata[self.df_metadata.file_name == filename][\"width\"].values\n",
    "        #height = self.df_metadata[self.df_metadata.file_name == filename][\"height\"].values\n",
    "        #depth = 3\n",
    "        bboxes = self.df_annotations[self.df_annotations.file_name ==filename].iloc[:,1:].values\n",
    "        dummy_box = [[0.4,0.4,0.5,0.5]]\n",
    "        num_real_boxes = bboxes.shape[0]\n",
    "        ux= np.repeat(dummy_box,repeats = 20-bboxes.shape[0],axis=0)\n",
    "        bboxes =np.float32(np.concatenate((bboxes,ux),axis=0))\n",
    "        bytes_boxes = tf.io.serialize_tensor(bboxes).numpy() #Pasa Transforms a Tensor into a serialized TensorProto proto.\n",
    "\n",
    "\n",
    "        return img_raw,bytes_boxes,num_real_boxes\n",
    "        \n",
    "\n",
    "    # Convert c data to tfrecord\n",
    "    def _convert_shard_data_to_tfrecord(self, input_files, output_file):\n",
    "        \"\"\" Convert sharded input files to tfrecords\n",
    "        \"\"\"\n",
    "        print('Generating %s' % output_file)\n",
    "        with tf.io.TFRecordWriter(output_file) as record_writer:\n",
    "            for input_file in input_files:\n",
    "                img_raw,bytes_boxes,num_real_boxes= self._read_image_file(input_file) \n",
    "                feature={\n",
    "                        'bboxes': self._bytes_feature(bytes_boxes),\n",
    "                        'image_raw': self._bytes_feature(tf.compat.as_bytes(img_raw)),\n",
    "                        'num_real_boxes':self._int64_feature(num_real_boxes)\n",
    "                        }\n",
    "                example = tf.train.Example(features=tf.train.Features(feature=feature))\n",
    "                record_writer.write(example.SerializeToString())\n",
    "\n",
    "    # Convert data to tfrecord\n",
    "    def _convert_data_to_tfrecord(self, input_files, output_dir):\n",
    "        \"\"\" convert input image files to tfrecords\n",
    "          Args:\n",
    "            input_files (list): List of input images to be converted to tfr\n",
    "            output_dir (str): Output folder where created tfr files will be kept\n",
    "          Description:\n",
    "            Shard input_files if they are above threshold and create those many tfr\n",
    "        \"\"\"\n",
    "        num_input_files = len(input_files)\n",
    "        for i in tqdm(range(0, num_input_files, self.num_shards)):\n",
    "            sharded_input_files = input_files[i:i+self.num_shards]\n",
    "            tfr_file_name = os.path.join(output_dir, 'tfr_'+str(i))\n",
    "            self._convert_shard_data_to_tfrecord(sharded_input_files, tfr_file_name)"
   ]
  },
  {
   "cell_type": "code",
   "execution_count": 12,
   "metadata": {},
   "outputs": [],
   "source": [
    "os.chdir(\"/home/sergio/Documents/pedestrian_dataset_train\")"
   ]
  },
  {
   "cell_type": "code",
   "execution_count": 13,
   "metadata": {},
   "outputs": [
    {
     "name": "stderr",
     "output_type": "stream",
     "text": [
      "  0%|          | 0/74 [00:00<?, ?it/s]"
     ]
    },
    {
     "name": "stdout",
     "output_type": "stream",
     "text": [
      "Generating /home/sergio/Documents/pedestrian_dataset_train_tfr/tfr_0\n"
     ]
    },
    {
     "name": "stderr",
     "output_type": "stream",
     "text": [
      "  1%|▏         | 1/74 [00:08<10:47,  8.87s/it]"
     ]
    },
    {
     "name": "stdout",
     "output_type": "stream",
     "text": [
      "Generating /home/sergio/Documents/pedestrian_dataset_train_tfr/tfr_1000\n"
     ]
    },
    {
     "name": "stderr",
     "output_type": "stream",
     "text": [
      "  3%|▎         | 2/74 [00:17<10:26,  8.69s/it]"
     ]
    },
    {
     "name": "stdout",
     "output_type": "stream",
     "text": [
      "Generating /home/sergio/Documents/pedestrian_dataset_train_tfr/tfr_2000\n"
     ]
    },
    {
     "name": "stderr",
     "output_type": "stream",
     "text": [
      "  4%|▍         | 3/74 [00:25<10:10,  8.59s/it]"
     ]
    },
    {
     "name": "stdout",
     "output_type": "stream",
     "text": [
      "Generating /home/sergio/Documents/pedestrian_dataset_train_tfr/tfr_3000\n"
     ]
    },
    {
     "name": "stderr",
     "output_type": "stream",
     "text": [
      "  5%|▌         | 4/74 [00:33<09:56,  8.52s/it]"
     ]
    },
    {
     "name": "stdout",
     "output_type": "stream",
     "text": [
      "Generating /home/sergio/Documents/pedestrian_dataset_train_tfr/tfr_4000\n"
     ]
    },
    {
     "name": "stderr",
     "output_type": "stream",
     "text": [
      "  7%|▋         | 5/74 [00:42<09:42,  8.44s/it]"
     ]
    },
    {
     "name": "stdout",
     "output_type": "stream",
     "text": [
      "Generating /home/sergio/Documents/pedestrian_dataset_train_tfr/tfr_5000\n"
     ]
    },
    {
     "name": "stderr",
     "output_type": "stream",
     "text": [
      "  8%|▊         | 6/74 [00:50<09:30,  8.38s/it]"
     ]
    },
    {
     "name": "stdout",
     "output_type": "stream",
     "text": [
      "Generating /home/sergio/Documents/pedestrian_dataset_train_tfr/tfr_6000\n"
     ]
    },
    {
     "name": "stderr",
     "output_type": "stream",
     "text": [
      "  9%|▉         | 7/74 [00:58<09:20,  8.36s/it]"
     ]
    },
    {
     "name": "stdout",
     "output_type": "stream",
     "text": [
      "Generating /home/sergio/Documents/pedestrian_dataset_train_tfr/tfr_7000\n"
     ]
    },
    {
     "name": "stderr",
     "output_type": "stream",
     "text": [
      " 11%|█         | 8/74 [01:06<09:11,  8.35s/it]"
     ]
    },
    {
     "name": "stdout",
     "output_type": "stream",
     "text": [
      "Generating /home/sergio/Documents/pedestrian_dataset_train_tfr/tfr_8000\n"
     ]
    },
    {
     "name": "stderr",
     "output_type": "stream",
     "text": [
      " 12%|█▏        | 9/74 [01:15<09:02,  8.34s/it]"
     ]
    },
    {
     "name": "stdout",
     "output_type": "stream",
     "text": [
      "Generating /home/sergio/Documents/pedestrian_dataset_train_tfr/tfr_9000\n"
     ]
    },
    {
     "name": "stderr",
     "output_type": "stream",
     "text": [
      " 14%|█▎        | 10/74 [01:23<08:53,  8.33s/it]"
     ]
    },
    {
     "name": "stdout",
     "output_type": "stream",
     "text": [
      "Generating /home/sergio/Documents/pedestrian_dataset_train_tfr/tfr_10000\n"
     ]
    },
    {
     "name": "stderr",
     "output_type": "stream",
     "text": [
      " 15%|█▍        | 11/74 [01:31<08:45,  8.34s/it]"
     ]
    },
    {
     "name": "stdout",
     "output_type": "stream",
     "text": [
      "Generating /home/sergio/Documents/pedestrian_dataset_train_tfr/tfr_11000\n"
     ]
    },
    {
     "name": "stderr",
     "output_type": "stream",
     "text": [
      " 16%|█▌        | 12/74 [01:40<08:37,  8.35s/it]"
     ]
    },
    {
     "name": "stdout",
     "output_type": "stream",
     "text": [
      "Generating /home/sergio/Documents/pedestrian_dataset_train_tfr/tfr_12000\n"
     ]
    },
    {
     "name": "stderr",
     "output_type": "stream",
     "text": [
      " 18%|█▊        | 13/74 [01:48<08:28,  8.34s/it]"
     ]
    },
    {
     "name": "stdout",
     "output_type": "stream",
     "text": [
      "Generating /home/sergio/Documents/pedestrian_dataset_train_tfr/tfr_13000\n"
     ]
    },
    {
     "name": "stderr",
     "output_type": "stream",
     "text": [
      " 19%|█▉        | 14/74 [01:57<08:21,  8.36s/it]"
     ]
    },
    {
     "name": "stdout",
     "output_type": "stream",
     "text": [
      "Generating /home/sergio/Documents/pedestrian_dataset_train_tfr/tfr_14000\n"
     ]
    },
    {
     "name": "stderr",
     "output_type": "stream",
     "text": [
      " 20%|██        | 15/74 [02:05<08:12,  8.35s/it]"
     ]
    },
    {
     "name": "stdout",
     "output_type": "stream",
     "text": [
      "Generating /home/sergio/Documents/pedestrian_dataset_train_tfr/tfr_15000\n"
     ]
    },
    {
     "name": "stderr",
     "output_type": "stream",
     "text": [
      " 22%|██▏       | 16/74 [02:13<08:04,  8.34s/it]"
     ]
    },
    {
     "name": "stdout",
     "output_type": "stream",
     "text": [
      "Generating /home/sergio/Documents/pedestrian_dataset_train_tfr/tfr_16000\n"
     ]
    },
    {
     "name": "stderr",
     "output_type": "stream",
     "text": [
      " 23%|██▎       | 17/74 [02:22<07:55,  8.34s/it]"
     ]
    },
    {
     "name": "stdout",
     "output_type": "stream",
     "text": [
      "Generating /home/sergio/Documents/pedestrian_dataset_train_tfr/tfr_17000\n"
     ]
    },
    {
     "name": "stderr",
     "output_type": "stream",
     "text": [
      " 24%|██▍       | 18/74 [02:30<07:47,  8.34s/it]"
     ]
    },
    {
     "name": "stdout",
     "output_type": "stream",
     "text": [
      "Generating /home/sergio/Documents/pedestrian_dataset_train_tfr/tfr_18000\n"
     ]
    },
    {
     "name": "stderr",
     "output_type": "stream",
     "text": [
      " 26%|██▌       | 19/74 [02:38<07:38,  8.34s/it]"
     ]
    },
    {
     "name": "stdout",
     "output_type": "stream",
     "text": [
      "Generating /home/sergio/Documents/pedestrian_dataset_train_tfr/tfr_19000\n"
     ]
    },
    {
     "name": "stderr",
     "output_type": "stream",
     "text": [
      " 27%|██▋       | 20/74 [02:47<07:29,  8.33s/it]"
     ]
    },
    {
     "name": "stdout",
     "output_type": "stream",
     "text": [
      "Generating /home/sergio/Documents/pedestrian_dataset_train_tfr/tfr_20000\n"
     ]
    },
    {
     "name": "stderr",
     "output_type": "stream",
     "text": [
      " 28%|██▊       | 21/74 [02:55<07:22,  8.35s/it]"
     ]
    },
    {
     "name": "stdout",
     "output_type": "stream",
     "text": [
      "Generating /home/sergio/Documents/pedestrian_dataset_train_tfr/tfr_21000\n"
     ]
    },
    {
     "name": "stderr",
     "output_type": "stream",
     "text": [
      " 30%|██▉       | 22/74 [03:03<07:14,  8.35s/it]"
     ]
    },
    {
     "name": "stdout",
     "output_type": "stream",
     "text": [
      "Generating /home/sergio/Documents/pedestrian_dataset_train_tfr/tfr_22000\n"
     ]
    },
    {
     "name": "stderr",
     "output_type": "stream",
     "text": [
      " 31%|███       | 23/74 [03:12<07:05,  8.35s/it]"
     ]
    },
    {
     "name": "stdout",
     "output_type": "stream",
     "text": [
      "Generating /home/sergio/Documents/pedestrian_dataset_train_tfr/tfr_23000\n"
     ]
    },
    {
     "name": "stderr",
     "output_type": "stream",
     "text": [
      " 32%|███▏      | 24/74 [03:20<06:58,  8.37s/it]"
     ]
    },
    {
     "name": "stdout",
     "output_type": "stream",
     "text": [
      "Generating /home/sergio/Documents/pedestrian_dataset_train_tfr/tfr_24000\n"
     ]
    },
    {
     "name": "stderr",
     "output_type": "stream",
     "text": [
      " 34%|███▍      | 25/74 [03:28<06:49,  8.36s/it]"
     ]
    },
    {
     "name": "stdout",
     "output_type": "stream",
     "text": [
      "Generating /home/sergio/Documents/pedestrian_dataset_train_tfr/tfr_25000\n"
     ]
    },
    {
     "name": "stderr",
     "output_type": "stream",
     "text": [
      " 35%|███▌      | 26/74 [03:37<06:41,  8.37s/it]"
     ]
    },
    {
     "name": "stdout",
     "output_type": "stream",
     "text": [
      "Generating /home/sergio/Documents/pedestrian_dataset_train_tfr/tfr_26000\n"
     ]
    },
    {
     "name": "stderr",
     "output_type": "stream",
     "text": [
      " 36%|███▋      | 27/74 [03:45<06:33,  8.37s/it]"
     ]
    },
    {
     "name": "stdout",
     "output_type": "stream",
     "text": [
      "Generating /home/sergio/Documents/pedestrian_dataset_train_tfr/tfr_27000\n"
     ]
    },
    {
     "name": "stderr",
     "output_type": "stream",
     "text": [
      " 38%|███▊      | 28/74 [03:53<06:24,  8.36s/it]"
     ]
    },
    {
     "name": "stdout",
     "output_type": "stream",
     "text": [
      "Generating /home/sergio/Documents/pedestrian_dataset_train_tfr/tfr_28000\n"
     ]
    },
    {
     "name": "stderr",
     "output_type": "stream",
     "text": [
      " 39%|███▉      | 29/74 [04:02<06:16,  8.37s/it]"
     ]
    },
    {
     "name": "stdout",
     "output_type": "stream",
     "text": [
      "Generating /home/sergio/Documents/pedestrian_dataset_train_tfr/tfr_29000\n"
     ]
    },
    {
     "name": "stderr",
     "output_type": "stream",
     "text": [
      " 41%|████      | 30/74 [04:10<06:07,  8.36s/it]"
     ]
    },
    {
     "name": "stdout",
     "output_type": "stream",
     "text": [
      "Generating /home/sergio/Documents/pedestrian_dataset_train_tfr/tfr_30000\n"
     ]
    },
    {
     "name": "stderr",
     "output_type": "stream",
     "text": [
      " 42%|████▏     | 31/74 [04:19<05:58,  8.35s/it]"
     ]
    },
    {
     "name": "stdout",
     "output_type": "stream",
     "text": [
      "Generating /home/sergio/Documents/pedestrian_dataset_train_tfr/tfr_31000\n"
     ]
    },
    {
     "name": "stderr",
     "output_type": "stream",
     "text": [
      " 43%|████▎     | 32/74 [04:27<05:50,  8.34s/it]"
     ]
    },
    {
     "name": "stdout",
     "output_type": "stream",
     "text": [
      "Generating /home/sergio/Documents/pedestrian_dataset_train_tfr/tfr_32000\n"
     ]
    },
    {
     "name": "stderr",
     "output_type": "stream",
     "text": [
      " 45%|████▍     | 33/74 [04:35<05:41,  8.33s/it]"
     ]
    },
    {
     "name": "stdout",
     "output_type": "stream",
     "text": [
      "Generating /home/sergio/Documents/pedestrian_dataset_train_tfr/tfr_33000\n"
     ]
    },
    {
     "name": "stderr",
     "output_type": "stream",
     "text": [
      " 46%|████▌     | 34/74 [04:44<05:33,  8.34s/it]"
     ]
    },
    {
     "name": "stdout",
     "output_type": "stream",
     "text": [
      "Generating /home/sergio/Documents/pedestrian_dataset_train_tfr/tfr_34000\n"
     ]
    },
    {
     "name": "stderr",
     "output_type": "stream",
     "text": [
      " 47%|████▋     | 35/74 [04:52<05:25,  8.35s/it]"
     ]
    },
    {
     "name": "stdout",
     "output_type": "stream",
     "text": [
      "Generating /home/sergio/Documents/pedestrian_dataset_train_tfr/tfr_35000\n"
     ]
    },
    {
     "name": "stderr",
     "output_type": "stream",
     "text": [
      " 49%|████▊     | 36/74 [05:00<05:17,  8.37s/it]"
     ]
    },
    {
     "name": "stdout",
     "output_type": "stream",
     "text": [
      "Generating /home/sergio/Documents/pedestrian_dataset_train_tfr/tfr_36000\n"
     ]
    },
    {
     "name": "stderr",
     "output_type": "stream",
     "text": [
      " 50%|█████     | 37/74 [05:09<05:10,  8.40s/it]"
     ]
    },
    {
     "name": "stdout",
     "output_type": "stream",
     "text": [
      "Generating /home/sergio/Documents/pedestrian_dataset_train_tfr/tfr_37000\n"
     ]
    },
    {
     "name": "stderr",
     "output_type": "stream",
     "text": [
      " 51%|█████▏    | 38/74 [05:17<05:01,  8.39s/it]"
     ]
    },
    {
     "name": "stdout",
     "output_type": "stream",
     "text": [
      "Generating /home/sergio/Documents/pedestrian_dataset_train_tfr/tfr_38000\n"
     ]
    },
    {
     "name": "stderr",
     "output_type": "stream",
     "text": [
      " 53%|█████▎    | 39/74 [05:25<04:52,  8.37s/it]"
     ]
    },
    {
     "name": "stdout",
     "output_type": "stream",
     "text": [
      "Generating /home/sergio/Documents/pedestrian_dataset_train_tfr/tfr_39000\n"
     ]
    },
    {
     "name": "stderr",
     "output_type": "stream",
     "text": [
      " 54%|█████▍    | 40/74 [05:34<04:44,  8.36s/it]"
     ]
    },
    {
     "name": "stdout",
     "output_type": "stream",
     "text": [
      "Generating /home/sergio/Documents/pedestrian_dataset_train_tfr/tfr_40000\n"
     ]
    },
    {
     "name": "stderr",
     "output_type": "stream",
     "text": [
      " 55%|█████▌    | 41/74 [05:42<04:35,  8.36s/it]"
     ]
    },
    {
     "name": "stdout",
     "output_type": "stream",
     "text": [
      "Generating /home/sergio/Documents/pedestrian_dataset_train_tfr/tfr_41000\n"
     ]
    },
    {
     "name": "stderr",
     "output_type": "stream",
     "text": [
      " 57%|█████▋    | 42/74 [05:51<04:27,  8.36s/it]"
     ]
    },
    {
     "name": "stdout",
     "output_type": "stream",
     "text": [
      "Generating /home/sergio/Documents/pedestrian_dataset_train_tfr/tfr_42000\n"
     ]
    },
    {
     "name": "stderr",
     "output_type": "stream",
     "text": [
      " 58%|█████▊    | 43/74 [05:59<04:18,  8.35s/it]"
     ]
    },
    {
     "name": "stdout",
     "output_type": "stream",
     "text": [
      "Generating /home/sergio/Documents/pedestrian_dataset_train_tfr/tfr_43000\n"
     ]
    },
    {
     "name": "stderr",
     "output_type": "stream",
     "text": [
      " 59%|█████▉    | 44/74 [06:07<04:10,  8.34s/it]"
     ]
    },
    {
     "name": "stdout",
     "output_type": "stream",
     "text": [
      "Generating /home/sergio/Documents/pedestrian_dataset_train_tfr/tfr_44000\n"
     ]
    },
    {
     "name": "stderr",
     "output_type": "stream",
     "text": [
      " 61%|██████    | 45/74 [06:16<04:01,  8.34s/it]"
     ]
    },
    {
     "name": "stdout",
     "output_type": "stream",
     "text": [
      "Generating /home/sergio/Documents/pedestrian_dataset_train_tfr/tfr_45000\n"
     ]
    },
    {
     "name": "stderr",
     "output_type": "stream",
     "text": [
      " 62%|██████▏   | 46/74 [06:24<03:53,  8.35s/it]"
     ]
    },
    {
     "name": "stdout",
     "output_type": "stream",
     "text": [
      "Generating /home/sergio/Documents/pedestrian_dataset_train_tfr/tfr_46000\n"
     ]
    },
    {
     "name": "stderr",
     "output_type": "stream",
     "text": [
      " 64%|██████▎   | 47/74 [06:32<03:45,  8.34s/it]"
     ]
    },
    {
     "name": "stdout",
     "output_type": "stream",
     "text": [
      "Generating /home/sergio/Documents/pedestrian_dataset_train_tfr/tfr_47000\n"
     ]
    },
    {
     "name": "stderr",
     "output_type": "stream",
     "text": [
      " 65%|██████▍   | 48/74 [06:41<03:36,  8.34s/it]"
     ]
    },
    {
     "name": "stdout",
     "output_type": "stream",
     "text": [
      "Generating /home/sergio/Documents/pedestrian_dataset_train_tfr/tfr_48000\n"
     ]
    },
    {
     "name": "stderr",
     "output_type": "stream",
     "text": [
      " 66%|██████▌   | 49/74 [06:49<03:28,  8.33s/it]"
     ]
    },
    {
     "name": "stdout",
     "output_type": "stream",
     "text": [
      "Generating /home/sergio/Documents/pedestrian_dataset_train_tfr/tfr_49000\n"
     ]
    },
    {
     "name": "stderr",
     "output_type": "stream",
     "text": [
      " 68%|██████▊   | 50/74 [06:57<03:20,  8.34s/it]"
     ]
    },
    {
     "name": "stdout",
     "output_type": "stream",
     "text": [
      "Generating /home/sergio/Documents/pedestrian_dataset_train_tfr/tfr_50000\n"
     ]
    },
    {
     "name": "stderr",
     "output_type": "stream",
     "text": [
      " 69%|██████▉   | 51/74 [07:06<03:11,  8.33s/it]"
     ]
    },
    {
     "name": "stdout",
     "output_type": "stream",
     "text": [
      "Generating /home/sergio/Documents/pedestrian_dataset_train_tfr/tfr_51000\n"
     ]
    },
    {
     "name": "stderr",
     "output_type": "stream",
     "text": [
      " 70%|███████   | 52/74 [07:14<03:03,  8.35s/it]"
     ]
    },
    {
     "name": "stdout",
     "output_type": "stream",
     "text": [
      "Generating /home/sergio/Documents/pedestrian_dataset_train_tfr/tfr_52000\n"
     ]
    },
    {
     "name": "stderr",
     "output_type": "stream",
     "text": [
      " 72%|███████▏  | 53/74 [07:22<02:55,  8.34s/it]"
     ]
    },
    {
     "name": "stdout",
     "output_type": "stream",
     "text": [
      "Generating /home/sergio/Documents/pedestrian_dataset_train_tfr/tfr_53000\n"
     ]
    },
    {
     "name": "stderr",
     "output_type": "stream",
     "text": [
      " 73%|███████▎  | 54/74 [07:31<02:46,  8.35s/it]"
     ]
    },
    {
     "name": "stdout",
     "output_type": "stream",
     "text": [
      "Generating /home/sergio/Documents/pedestrian_dataset_train_tfr/tfr_54000\n"
     ]
    },
    {
     "name": "stderr",
     "output_type": "stream",
     "text": [
      " 74%|███████▍  | 55/74 [07:39<02:38,  8.34s/it]"
     ]
    },
    {
     "name": "stdout",
     "output_type": "stream",
     "text": [
      "Generating /home/sergio/Documents/pedestrian_dataset_train_tfr/tfr_55000\n"
     ]
    },
    {
     "name": "stderr",
     "output_type": "stream",
     "text": [
      " 76%|███████▌  | 56/74 [07:47<02:29,  8.33s/it]"
     ]
    },
    {
     "name": "stdout",
     "output_type": "stream",
     "text": [
      "Generating /home/sergio/Documents/pedestrian_dataset_train_tfr/tfr_56000\n"
     ]
    },
    {
     "name": "stderr",
     "output_type": "stream",
     "text": [
      " 77%|███████▋  | 57/74 [07:56<02:21,  8.33s/it]"
     ]
    },
    {
     "name": "stdout",
     "output_type": "stream",
     "text": [
      "Generating /home/sergio/Documents/pedestrian_dataset_train_tfr/tfr_57000\n"
     ]
    },
    {
     "name": "stderr",
     "output_type": "stream",
     "text": [
      " 78%|███████▊  | 58/74 [08:04<02:13,  8.34s/it]"
     ]
    },
    {
     "name": "stdout",
     "output_type": "stream",
     "text": [
      "Generating /home/sergio/Documents/pedestrian_dataset_train_tfr/tfr_58000\n"
     ]
    },
    {
     "name": "stderr",
     "output_type": "stream",
     "text": [
      " 80%|███████▉  | 59/74 [08:12<02:05,  8.35s/it]"
     ]
    },
    {
     "name": "stdout",
     "output_type": "stream",
     "text": [
      "Generating /home/sergio/Documents/pedestrian_dataset_train_tfr/tfr_59000\n"
     ]
    },
    {
     "name": "stderr",
     "output_type": "stream",
     "text": [
      " 81%|████████  | 60/74 [08:21<01:56,  8.35s/it]"
     ]
    },
    {
     "name": "stdout",
     "output_type": "stream",
     "text": [
      "Generating /home/sergio/Documents/pedestrian_dataset_train_tfr/tfr_60000\n"
     ]
    },
    {
     "name": "stderr",
     "output_type": "stream",
     "text": [
      " 82%|████████▏ | 61/74 [08:29<01:48,  8.36s/it]"
     ]
    },
    {
     "name": "stdout",
     "output_type": "stream",
     "text": [
      "Generating /home/sergio/Documents/pedestrian_dataset_train_tfr/tfr_61000\n"
     ]
    },
    {
     "name": "stderr",
     "output_type": "stream",
     "text": [
      " 84%|████████▍ | 62/74 [08:37<01:40,  8.35s/it]"
     ]
    },
    {
     "name": "stdout",
     "output_type": "stream",
     "text": [
      "Generating /home/sergio/Documents/pedestrian_dataset_train_tfr/tfr_62000\n"
     ]
    },
    {
     "name": "stderr",
     "output_type": "stream",
     "text": [
      " 85%|████████▌ | 63/74 [08:46<01:31,  8.35s/it]"
     ]
    },
    {
     "name": "stdout",
     "output_type": "stream",
     "text": [
      "Generating /home/sergio/Documents/pedestrian_dataset_train_tfr/tfr_63000\n"
     ]
    },
    {
     "name": "stderr",
     "output_type": "stream",
     "text": [
      " 86%|████████▋ | 64/74 [08:54<01:23,  8.35s/it]"
     ]
    },
    {
     "name": "stdout",
     "output_type": "stream",
     "text": [
      "Generating /home/sergio/Documents/pedestrian_dataset_train_tfr/tfr_64000\n"
     ]
    },
    {
     "name": "stderr",
     "output_type": "stream",
     "text": [
      " 88%|████████▊ | 65/74 [09:02<01:13,  8.14s/it]"
     ]
    },
    {
     "name": "stdout",
     "output_type": "stream",
     "text": [
      "Generating /home/sergio/Documents/pedestrian_dataset_train_tfr/tfr_65000\n"
     ]
    },
    {
     "name": "stderr",
     "output_type": "stream",
     "text": [
      " 89%|████████▉ | 66/74 [09:09<01:03,  7.97s/it]"
     ]
    },
    {
     "name": "stdout",
     "output_type": "stream",
     "text": [
      "Generating /home/sergio/Documents/pedestrian_dataset_train_tfr/tfr_66000\n"
     ]
    },
    {
     "name": "stderr",
     "output_type": "stream",
     "text": [
      " 91%|█████████ | 67/74 [09:17<00:54,  7.85s/it]"
     ]
    },
    {
     "name": "stdout",
     "output_type": "stream",
     "text": [
      "Generating /home/sergio/Documents/pedestrian_dataset_train_tfr/tfr_67000\n"
     ]
    },
    {
     "name": "stderr",
     "output_type": "stream",
     "text": [
      " 92%|█████████▏| 68/74 [09:24<00:46,  7.77s/it]"
     ]
    },
    {
     "name": "stdout",
     "output_type": "stream",
     "text": [
      "Generating /home/sergio/Documents/pedestrian_dataset_train_tfr/tfr_68000\n"
     ]
    },
    {
     "name": "stderr",
     "output_type": "stream",
     "text": [
      " 93%|█████████▎| 69/74 [09:32<00:38,  7.70s/it]"
     ]
    },
    {
     "name": "stdout",
     "output_type": "stream",
     "text": [
      "Generating /home/sergio/Documents/pedestrian_dataset_train_tfr/tfr_69000\n"
     ]
    },
    {
     "name": "stderr",
     "output_type": "stream",
     "text": [
      " 95%|█████████▍| 70/74 [09:40<00:30,  7.67s/it]"
     ]
    },
    {
     "name": "stdout",
     "output_type": "stream",
     "text": [
      "Generating /home/sergio/Documents/pedestrian_dataset_train_tfr/tfr_70000\n"
     ]
    },
    {
     "name": "stderr",
     "output_type": "stream",
     "text": [
      " 96%|█████████▌| 71/74 [09:47<00:22,  7.64s/it]"
     ]
    },
    {
     "name": "stdout",
     "output_type": "stream",
     "text": [
      "Generating /home/sergio/Documents/pedestrian_dataset_train_tfr/tfr_71000\n"
     ]
    },
    {
     "name": "stderr",
     "output_type": "stream",
     "text": [
      " 97%|█████████▋| 72/74 [09:55<00:15,  7.62s/it]"
     ]
    },
    {
     "name": "stdout",
     "output_type": "stream",
     "text": [
      "Generating /home/sergio/Documents/pedestrian_dataset_train_tfr/tfr_72000\n"
     ]
    },
    {
     "name": "stderr",
     "output_type": "stream",
     "text": [
      " 99%|█████████▊| 73/74 [10:02<00:07,  7.60s/it]"
     ]
    },
    {
     "name": "stdout",
     "output_type": "stream",
     "text": [
      "Generating /home/sergio/Documents/pedestrian_dataset_train_tfr/tfr_73000\n"
     ]
    },
    {
     "name": "stderr",
     "output_type": "stream",
     "text": [
      "100%|██████████| 74/74 [10:08<00:00,  8.22s/it]\n"
     ]
    }
   ],
   "source": [
    "input_files = metadata_train_df.index.values\n",
    "tfrecords_outdir = \"/home/sergio/Documents/pedestrian_dataset_train_tfr\"\n",
    "num_shards = 1000\n",
    "tfr_creator = ImageTFRecordsCreator(annotations_train_df,metadata_train_df,num_shards=num_shards)\n",
    "tfr_creator._convert_data_to_tfrecord(input_files, tfrecords_outdir)"
   ]
  },
  {
   "cell_type": "markdown",
   "metadata": {},
   "source": [
    "## Lectura de los TFRecords"
   ]
  },
  {
   "cell_type": "code",
   "execution_count": 16,
   "metadata": {},
   "outputs": [],
   "source": [
    "import tensorflow as tf\n",
    "import os\n",
    "import time"
   ]
  },
  {
   "cell_type": "code",
   "execution_count": 17,
   "metadata": {},
   "outputs": [],
   "source": [
    "image_feature_description = {\n",
    "    'bboxes': tf.io.FixedLenFeature([], tf.string),\n",
    "    'image_raw': tf.io.FixedLenFeature([], tf.string),\n",
    "    'num_real_boxes':tf.io.FixedLenFeature([], tf.int64),\n",
    "}"
   ]
  },
  {
   "cell_type": "code",
   "execution_count": 18,
   "metadata": {},
   "outputs": [],
   "source": [
    "def _parse_image_function(example_proto):\n",
    "  # Parse the input tf.Example proto using the dictionary above.\n",
    "  return tf.io.parse_single_example(example_proto, image_feature_description)\n",
    "\n",
    "#def _parse_image_function(example_proto_list):\n",
    "#  # Parse the input tf.Example proto using the dictionary above.\n",
    "#  return tf.io.parse_single_example(example_proto, image_feature_description)\n",
    "\n",
    "def read_tfr_dataset(tf_records_list_names):\n",
    "    num_images=0\n",
    "    raw_image_dataset = tf.data.TFRecordDataset(tf_records_list_names)\n",
    "    parsed_image_dataset = raw_image_dataset.map(_parse_image_function)\n",
    "\n",
    "    for image_features in parsed_image_dataset:\n",
    "        \n",
    "        bboxes =  tf.io.parse_tensor(image_features['bboxes'], out_type=tf.float64)\n",
    "        image = tf.image.decode_jpeg(image_features['image_raw'],channels = 3)\n",
    "        num_real_boxes = image_features['num_real_boxes']\n",
    "        \n",
    "\n",
    "    return None"
   ]
  },
  {
   "cell_type": "code",
   "execution_count": 19,
   "metadata": {},
   "outputs": [],
   "source": [
    "def preprocessing(image_features):\n",
    "    bboxes =  tf.io.parse_tensor(image_features['bboxes'], out_type=tf.float32)\n",
    "    image = tf.image.decode_jpeg(image_features['image_raw'],channels = 3)\n",
    "    image = tf.cast(image, tf.float32)\n",
    "    image = tf.image.resize(tf.cast(image, tf.float32),size=(416,416))\n",
    "    num_real_boxes = image_features['num_real_boxes']\n",
    "    return image,bboxes,num_real_boxes"
   ]
  },
  {
   "cell_type": "code",
   "execution_count": 20,
   "metadata": {},
   "outputs": [],
   "source": [
    "os.chdir(\"/home/sergio/Documents/pedestrian_dataset_train_tfr\")\n",
    "filenames = os. listdir()\n",
    "raw_image_dataset = tf.data.TFRecordDataset(filenames)\n",
    "parsed_image_dataset = raw_image_dataset.map(_parse_image_function).map(preprocessing,num_parallel_calls=8)"
   ]
  },
  {
   "cell_type": "code",
   "execution_count": 21,
   "metadata": {},
   "outputs": [
    {
     "name": "stdout",
     "output_type": "stream",
     "text": [
      "53.28766989707947\n",
      "9213\n"
     ]
    }
   ],
   "source": [
    "count = 0\n",
    "inicio = time.time()\n",
    "for i in parsed_image_dataset.batch(8):\n",
    "    count+=1\n",
    "fin = time.time()\n",
    "print(fin-inicio)\n",
    "print(count)"
   ]
  },
  {
   "cell_type": "code",
   "execution_count": 22,
   "metadata": {},
   "outputs": [
    {
     "data": {
      "text/plain": [
       "3"
      ]
     },
     "execution_count": 22,
     "metadata": {},
     "output_type": "execute_result"
    }
   ],
   "source": [
    "len(i)"
   ]
  },
  {
   "cell_type": "code",
   "execution_count": 24,
   "metadata": {},
   "outputs": [
    {
     "data": {
      "text/plain": [
       "<tf.Tensor: shape=(2, 20, 4), dtype=float32, numpy=\n",
       "array([[[0.46441665, 0.36776564, 0.668375  , 0.65540624],\n",
       "        [0.3905    , 0.40528125, 0.4794375 , 0.53870314],\n",
       "        [0.4       , 0.4       , 0.5       , 0.5       ],\n",
       "        [0.4       , 0.4       , 0.5       , 0.5       ],\n",
       "        [0.4       , 0.4       , 0.5       , 0.5       ],\n",
       "        [0.4       , 0.4       , 0.5       , 0.5       ],\n",
       "        [0.4       , 0.4       , 0.5       , 0.5       ],\n",
       "        [0.4       , 0.4       , 0.5       , 0.5       ],\n",
       "        [0.4       , 0.4       , 0.5       , 0.5       ],\n",
       "        [0.4       , 0.4       , 0.5       , 0.5       ],\n",
       "        [0.4       , 0.4       , 0.5       , 0.5       ],\n",
       "        [0.4       , 0.4       , 0.5       , 0.5       ],\n",
       "        [0.4       , 0.4       , 0.5       , 0.5       ],\n",
       "        [0.4       , 0.4       , 0.5       , 0.5       ],\n",
       "        [0.4       , 0.4       , 0.5       , 0.5       ],\n",
       "        [0.4       , 0.4       , 0.5       , 0.5       ],\n",
       "        [0.4       , 0.4       , 0.5       , 0.5       ],\n",
       "        [0.4       , 0.4       , 0.5       , 0.5       ],\n",
       "        [0.4       , 0.4       , 0.5       , 0.5       ],\n",
       "        [0.4       , 0.4       , 0.5       , 0.5       ]],\n",
       "\n",
       "       [[0.38686   , 0.04600639, 0.57254   , 0.771853  ],\n",
       "        [0.55818   , 0.37865815, 0.9722    , 0.98814696],\n",
       "        [0.78082   , 0.        , 0.89904   , 0.09709265],\n",
       "        [0.4       , 0.4       , 0.5       , 0.5       ],\n",
       "        [0.4       , 0.4       , 0.5       , 0.5       ],\n",
       "        [0.4       , 0.4       , 0.5       , 0.5       ],\n",
       "        [0.4       , 0.4       , 0.5       , 0.5       ],\n",
       "        [0.4       , 0.4       , 0.5       , 0.5       ],\n",
       "        [0.4       , 0.4       , 0.5       , 0.5       ],\n",
       "        [0.4       , 0.4       , 0.5       , 0.5       ],\n",
       "        [0.4       , 0.4       , 0.5       , 0.5       ],\n",
       "        [0.4       , 0.4       , 0.5       , 0.5       ],\n",
       "        [0.4       , 0.4       , 0.5       , 0.5       ],\n",
       "        [0.4       , 0.4       , 0.5       , 0.5       ],\n",
       "        [0.4       , 0.4       , 0.5       , 0.5       ],\n",
       "        [0.4       , 0.4       , 0.5       , 0.5       ],\n",
       "        [0.4       , 0.4       , 0.5       , 0.5       ],\n",
       "        [0.4       , 0.4       , 0.5       , 0.5       ],\n",
       "        [0.4       , 0.4       , 0.5       , 0.5       ],\n",
       "        [0.4       , 0.4       , 0.5       , 0.5       ]]], dtype=float32)>"
      ]
     },
     "execution_count": 24,
     "metadata": {},
     "output_type": "execute_result"
    }
   ],
   "source": [
    "i[1]"
   ]
  },
  {
   "cell_type": "code",
   "execution_count": null,
   "metadata": {},
   "outputs": [],
   "source": []
  },
  {
   "cell_type": "code",
   "execution_count": null,
   "metadata": {},
   "outputs": [],
   "source": []
  },
  {
   "cell_type": "code",
   "execution_count": 68,
   "metadata": {},
   "outputs": [],
   "source": [
    "os.chdir(\"/home/sergio/Documents/VOC2012/pedestrian_dataset_voc_tfr\")\n",
    "filenames = os. listdir()"
   ]
  },
  {
   "cell_type": "code",
   "execution_count": 53,
   "metadata": {},
   "outputs": [
    {
     "name": "stdout",
     "output_type": "stream",
     "text": [
      "17.129613161087036\n"
     ]
    }
   ],
   "source": [
    "import time\n",
    "inicio = time.time()\n",
    "read_tfr_dataset(filenames)\n",
    "fin = time.time()\n",
    "\n",
    "print(fin-inicio)"
   ]
  },
  {
   "cell_type": "code",
   "execution_count": 68,
   "metadata": {},
   "outputs": [
    {
     "name": "stdout",
     "output_type": "stream",
     "text": [
      "26.2 s ± 713 ms per loop (mean ± std. dev. of 7 runs, 1 loop each)\n"
     ]
    }
   ],
   "source": [
    "#%timeit read_tfr_dataset(filenames)"
   ]
  },
  {
   "cell_type": "code",
   "execution_count": 69,
   "metadata": {},
   "outputs": [],
   "source": [
    "os.chdir(\"/home/sergio/Documents/VOC2012/pedestrian_dataset_voc\")\n",
    "filenames = os. listdir()"
   ]
  },
  {
   "cell_type": "code",
   "execution_count": 70,
   "metadata": {},
   "outputs": [],
   "source": [
    "from skimage.io import imread\n",
    "\n",
    "def read_dataset(file_names):\n",
    "    num_images = 0\n",
    "    for i in filenames:\n",
    "        #print(i)\n",
    "        aux = imread(i)\n",
    "        num_images +=1\n",
    "    #print(num_images)\n",
    "    return None"
   ]
  },
  {
   "cell_type": "code",
   "execution_count": 71,
   "metadata": {},
   "outputs": [
    {
     "name": "stdout",
     "output_type": "stream",
     "text": [
      "28.8 s ± 153 ms per loop (mean ± std. dev. of 7 runs, 1 loop each)\n"
     ]
    }
   ],
   "source": [
    "%timeit read_dataset(filenames)"
   ]
  },
  {
   "cell_type": "markdown",
   "metadata": {},
   "source": [
    "# Data Agumentation"
   ]
  },
  {
   "cell_type": "code",
   "execution_count": 41,
   "metadata": {},
   "outputs": [],
   "source": [
    "import tensorflow as tf\n",
    "\n",
    "(x_train, y_train), (x_test, y_test) = tf.keras.datasets.cifar10.load_data()\n",
    "dataset = tf.data.Dataset.from_tensor_slices((x_train[0:32] / 255).astype(np.float32))"
   ]
  },
  {
   "cell_type": "code",
   "execution_count": 42,
   "metadata": {},
   "outputs": [],
   "source": [
    "import numpy as np\n",
    "import matplotlib.pyplot as plt\n",
    "import tensorflow as tf\n",
    "import time\n",
    "\n",
    "def plot_images(dataset, n_images, samples_per_image):\n",
    "    output = np.zeros((32 * n_images, 32 * samples_per_image, 3))\n",
    "\n",
    "    row = 0\n",
    "    for images in dataset.repeat(samples_per_image).batch(n_images):\n",
    "        output[:, row*32:(row+1)*32] = np.vstack(images.numpy())\n",
    "        row += 1\n",
    "\n",
    "    plt.figure()\n",
    "    plt.imshow(output)\n",
    "    plt.show()"
   ]
  },
  {
   "cell_type": "code",
   "execution_count": 43,
   "metadata": {},
   "outputs": [],
   "source": [
    "def rotate(x: tf.Tensor) -> tf.Tensor:\n",
    "    \"\"\"Rotation augmentation\n",
    "\n",
    "    Args:\n",
    "        x: Image\n",
    "\n",
    "    Returns:\n",
    "        Augmented image\n",
    "    \"\"\"\n",
    "\n",
    "    # Rotate 0, 90, 180, 270 degrees\n",
    "    return tf.image.rot90(x, tf.random.uniform(shape=[], minval=0, maxval=4, dtype=tf.int32))\n"
   ]
  },
  {
   "cell_type": "code",
   "execution_count": 44,
   "metadata": {},
   "outputs": [],
   "source": [
    "def flip(x: tf.Tensor) -> tf.Tensor:\n",
    "    \"\"\"Flip augmentation\n",
    "\n",
    "    Args:\n",
    "        x: Image to flip\n",
    "\n",
    "    Returns:\n",
    "        Augmented image\n",
    "    \"\"\"\n",
    "    x = tf.image.random_flip_left_right(x)\n",
    "    x = tf.image.random_flip_up_down(x)\n",
    "\n",
    "    return x"
   ]
  },
  {
   "cell_type": "code",
   "execution_count": 45,
   "metadata": {},
   "outputs": [],
   "source": [
    "def color(x: tf.Tensor) -> tf.Tensor:\n",
    "    \"\"\"Color augmentation\n",
    "\n",
    "    Args:\n",
    "        x: Image\n",
    "\n",
    "    Returns:\n",
    "        Augmented image\n",
    "    \"\"\"\n",
    "    x = tf.image.random_hue(x, 0.08)\n",
    "    x = tf.image.random_saturation(x, 0.6, 1.6)\n",
    "    x = tf.image.random_brightness(x, 0.05)\n",
    "    x = tf.image.random_contrast(x, 0.7, 1.3)\n",
    "    return x"
   ]
  },
  {
   "cell_type": "code",
   "execution_count": 46,
   "metadata": {},
   "outputs": [],
   "source": [
    "def zoom(x: tf.Tensor) -> tf.Tensor:\n",
    "    \"\"\"Zoom augmentation\n",
    "\n",
    "    Args:\n",
    "        x: Image\n",
    "\n",
    "    Returns:\n",
    "        Augmented image\n",
    "    \"\"\"\n",
    "\n",
    "    # Generate 20 crop settings, ranging from a 1% to 20% crop.\n",
    "    scales = list(np.arange(0.8, 1.0, 0.01))\n",
    "    boxes = np.zeros((len(scales), 4))\n",
    "\n",
    "    for i, scale in enumerate(scales):\n",
    "        x1 = y1 = 0.5 - (0.5 * scale)\n",
    "        x2 = y2 = 0.5 + (0.5 * scale)\n",
    "        boxes[i] = [x1, y1, x2, y2]\n",
    "\n",
    "    def random_crop(img):\n",
    "        # Create different crops for an image\n",
    "        crops = tf.image.crop_and_resize([img], boxes=boxes, box_ind=np.zeros(len(scales)), crop_size=(32, 32))\n",
    "        # Return a random crop\n",
    "        return crops[tf.random.uniform(shape=[], minval=0, maxval=len(scales), dtype=tf.int32)]\n",
    "\n",
    "\n",
    "    choice = tf.random.uniform(shape=[], minval=0., maxval=1., dtype=tf.float32)\n",
    "\n",
    "    # Only apply cropping 50% of the time\n",
    "    return tf.cond(choice < 0.5, lambda: x, lambda: random_crop(x))"
   ]
  },
  {
   "cell_type": "code",
   "execution_count": null,
   "metadata": {},
   "outputs": [],
   "source": []
  },
  {
   "cell_type": "code",
   "execution_count": 48,
   "metadata": {},
   "outputs": [
    {
     "name": "stdout",
     "output_type": "stream",
     "text": [
      "0.0025637149810791016\n"
     ]
    },
    {
     "data": {
      "image/png": "[encoded data removed]",
      "text/plain": [
       "<Figure size 432x288 with 1 Axes>"
      ]
     },
     "metadata": {
      "needs_background": "light"
     },
     "output_type": "display_data"
    }
   ],
   "source": [
    "augmentations = [flip, color, rotate]\n",
    "\n",
    "# Add the augmentations to the dataset\n",
    "for f in augmentations:\n",
    "    # Apply the augmentation, run 4 jobs in parallel.\n",
    "    dataset = dataset.map(f, num_parallel_calls=1)\n",
    "\n",
    "# Make sure that the values are still in [0, 1]\n",
    "inicio = time.time()\n",
    "dataset = dataset.map(lambda x: tf.clip_by_value(x, 0, 1), num_parallel_calls=4)\n",
    "fin = time.time()\n",
    "\n",
    "print(fin-inicio)\n",
    "plot_images(dataset, n_images=32, samples_per_image=15)"
   ]
  },
  {
   "cell_type": "code",
   "execution_count": 1,
   "metadata": {},
   "outputs": [],
   "source": [
    "from albumentations import (\n",
    "    HorizontalFlip, IAAPerspective, ShiftScaleRotate, CLAHE, RandomRotate90,\n",
    "    Transpose, ShiftScaleRotate, Blur, OpticalDistortion, GridDistortion, HueSaturationValue,\n",
    "    IAAAdditiveGaussianNoise, GaussNoise, MotionBlur, MedianBlur, IAAPiecewiseAffine,\n",
    "    IAASharpen, IAAEmboss, RandomBrightnessContrast, Flip, OneOf, Compose\n",
    ")\n",
    "import numpy as np\n",
    "\n",
    "def strong_aug(p=0.5):\n",
    "    return Compose([\n",
    "        RandomRotate90(),\n",
    "        Flip(),\n",
    "        Transpose(),\n",
    "        OneOf([\n",
    "            IAAAdditiveGaussianNoise(),\n",
    "            GaussNoise(),\n",
    "        ], p=0.2),\n",
    "        OneOf([\n",
    "            MotionBlur(p=0.2),\n",
    "            MedianBlur(blur_limit=3, p=0.1),\n",
    "            Blur(blur_limit=3, p=0.1),\n",
    "        ], p=0.2),\n",
    "        ShiftScaleRotate(shift_limit=0.0625, scale_limit=0.2, rotate_limit=45, p=0.2),\n",
    "        OneOf([\n",
    "            OpticalDistortion(p=0.3),\n",
    "            GridDistortion(p=0.1),\n",
    "            IAAPiecewiseAffine(p=0.3),\n",
    "        ], p=0.2),\n",
    "        OneOf([\n",
    "            CLAHE(clip_limit=2),\n",
    "            IAASharpen(),\n",
    "            IAAEmboss(),\n",
    "            RandomBrightnessContrast(),\n",
    "        ], p=0.3),\n",
    "        HueSaturationValue(p=0.3),\n",
    "    ], p=p)\n",
    "\n",
    "image = np.ones((300, 300, 3), dtype=np.uint8)\n",
    "mask = np.ones((300, 300), dtype=np.uint8)\n",
    "whatever_data = \"my name\"\n",
    "augmentation = strong_aug(p=0.9)\n",
    "data = {\"image\": image, \"mask\": mask, \"whatever_data\": whatever_data, \"additional\": \"hello\"}\n",
    "augmented = augmentation(**data)\n",
    "image, mask, whatever_data, additional = augmented[\"image\"], augmented[\"mask\"], augmented[\"whatever_data\"], augmented[\"additional\"]"
   ]
  },
  {
   "cell_type": "code",
   "execution_count": 3,
   "metadata": {},
   "outputs": [
    {
     "data": {
      "text/plain": [
       "<albumentations.core.composition.Compose at 0x7fa63e079f60>"
      ]
     },
     "execution_count": 3,
     "metadata": {},
     "output_type": "execute_result"
    }
   ],
   "source": [
    "augmentation"
   ]
  },
  {
   "cell_type": "code",
   "execution_count": 5,
   "metadata": {},
   "outputs": [
    {
     "data": {
      "text/plain": [
       "dict"
      ]
     },
     "execution_count": 5,
     "metadata": {},
     "output_type": "execute_result"
    }
   ],
   "source": [
    "type(augmented)"
   ]
  },
  {
   "cell_type": "code",
   "execution_count": 6,
   "metadata": {},
   "outputs": [
    {
     "data": {
      "text/plain": [
       "dict_keys(['image', 'mask', 'whatever_data', 'additional'])"
      ]
     },
     "execution_count": 6,
     "metadata": {},
     "output_type": "execute_result"
    }
   ],
   "source": [
    "augmented.keys()"
   ]
  },
  {
   "cell_type": "code",
   "execution_count": null,
   "metadata": {},
   "outputs": [],
   "source": []
  }
 ],
 "metadata": {
  "kernelspec": {
   "display_name": "Python 3",
   "language": "python",
   "name": "python3"
  },
  "language_info": {
   "codemirror_mode": {
    "name": "ipython",
    "version": 3
   },
   "file_extension": ".py",
   "mimetype": "text/x-python",
   "name": "python",
   "nbconvert_exporter": "python",
   "pygments_lexer": "ipython3",
   "version": "3.6.10"
  }
 },
 "nbformat": 4,
 "nbformat_minor": 4
}
