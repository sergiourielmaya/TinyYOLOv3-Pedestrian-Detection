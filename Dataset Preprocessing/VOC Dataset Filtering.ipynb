{
 "cells": [
  {
   "cell_type": "code",
   "execution_count": 29,
   "metadata": {},
   "outputs": [],
   "source": [
    "import os\n",
    "import xml.etree.ElementTree as ET\n",
    "import pandas as pd\n",
    "import numpy as np\n",
    "\n",
    "from albumentations import (\n",
    "    convert_bbox_to_albumentations,convert_bboxes_to_albumentations\n",
    ")"
   ]
  },
  {
   "cell_type": "code",
   "execution_count": 30,
   "metadata": {},
   "outputs": [],
   "source": [
    "#Leemos los xml files para cada anotación\n",
    "os.chdir(\"/home/sergio/Documents/VOC2012/Annotations\")\n",
    "xml_files = os.listdir()"
   ]
  },
  {
   "cell_type": "code",
   "execution_count": 36,
   "metadata": {},
   "outputs": [
    {
     "name": "stdout",
     "output_type": "stream",
     "text": [
      "2011_006503.jpg\n",
      "[[186, 135, 250, 288], [104, 251, 321, 409], [166, 109, 216, 207]]\n",
      "['person', 'person', 'person']\n"
     ]
    }
   ],
   "source": [
    "def read_content(xml_file: str):\n",
    "    '''\n",
    "    Función que toma un archivo xml y extrae las coordendas de los bounding boxes\n",
    "    de cada imagen y las clases de cada bounding box\n",
    "    '''\n",
    "    tree = ET.parse(xml_file)\n",
    "    root = tree.getroot()\n",
    "\n",
    "    list_with_all_boxes = []\n",
    "    list_with_all_classes = []\n",
    "    for boxes in root.iter('object'):\n",
    "        \n",
    "        #name = root.find(\"name\").text\n",
    "        filename = root.find('filename').text\n",
    "\n",
    "        ymin, xmin, ymax, xmax = None, None, None, None\n",
    "\n",
    "        for names in boxes.findall(\"name\"):\n",
    "            list_with_all_classes.append(names.text)\n",
    "        for box in boxes.findall(\"bndbox\"):\n",
    "            \n",
    "            ymin = int(float(box.find(\"ymin\").text))\n",
    "            xmin = int(float(box.find(\"xmin\").text))\n",
    "            ymax = int(float(box.find(\"ymax\").text))\n",
    "            xmax = int(float(box.find(\"xmax\").text))\n",
    "\n",
    "        list_with_single_boxes = [xmin, ymin, xmax, ymax]\n",
    "        list_with_all_boxes.append(list_with_single_boxes)\n",
    "\n",
    "    return filename, list_with_all_boxes,list_with_all_classes\n",
    "#Ejemplo\n",
    "file_name, boxes, classes = read_content(\"2011_006503.xml\")\n",
    "print(file_name)\n",
    "print(boxes)\n",
    "print(classes)"
   ]
  },
  {
   "cell_type": "code",
   "execution_count": 37,
   "metadata": {},
   "outputs": [
    {
     "name": "stdout",
     "output_type": "stream",
     "text": [
      "Total images: 17125\n",
      "Images with person instances: 9583\n",
      "Person instances: 17401\n",
      "Total instances: 40138\n"
     ]
    }
   ],
   "source": [
    "#Leemos toda la base de datos\n",
    "kept_files = []\n",
    "person_instances =0\n",
    "total_instances = 0\n",
    "\n",
    "for i in xml_files:\n",
    "    file_name, boxes, classes = read_content(i)\n",
    "    total_instances += len(boxes)\n",
    "    if \"person\" in classes:\n",
    "        kept_files.append(file_name)\n",
    "        num_person = classes.count(\"person\")\n",
    "        person_instances +=num_person\n",
    "        \n",
    "print(\"Total images: \" + str(len(xml_files)))\n",
    "print(\"Images with person instances: \" + str(len(kept_files)))\n",
    "print(\"Person instances: \" + str(person_instances))\n",
    "print(\"Total instances: \" + str(total_instances))\n"
   ]
  },
  {
   "cell_type": "markdown",
   "metadata": {},
   "source": [
    "## Creating the metadata file (CSV)"
   ]
  },
  {
   "cell_type": "code",
   "execution_count": 38,
   "metadata": {},
   "outputs": [],
   "source": [
    "from PIL import Image, ExifTags\n",
    "os.chdir(\"/home/sergio/Documents/VOC2012/JPEGImages\")\n",
    "\n",
    "voc_img_metadata = {}\n",
    "\n",
    "for i in kept_files:\n",
    "    img = Image.open(i)\n",
    "    width,height = img.size\n",
    "    voc_img_metadata[i]={\"width\":width,\"height\":height}"
   ]
  },
  {
   "cell_type": "code",
   "execution_count": 40,
   "metadata": {},
   "outputs": [],
   "source": [
    "metadata_df = pd.DataFrame(voc_img_metadata).T"
   ]
  },
  {
   "cell_type": "code",
   "execution_count": 43,
   "metadata": {},
   "outputs": [
    {
     "data": {
      "text/html": [
       "<div>\n",
       "<style scoped>\n",
       "    .dataframe tbody tr th:only-of-type {\n",
       "        vertical-align: middle;\n",
       "    }\n",
       "\n",
       "    .dataframe tbody tr th {\n",
       "        vertical-align: top;\n",
       "    }\n",
       "\n",
       "    .dataframe thead th {\n",
       "        text-align: right;\n",
       "    }\n",
       "</style>\n",
       "<table border=\"1\" class=\"dataframe\">\n",
       "  <thead>\n",
       "    <tr style=\"text-align: right;\">\n",
       "      <th></th>\n",
       "      <th>width</th>\n",
       "      <th>height</th>\n",
       "    </tr>\n",
       "  </thead>\n",
       "  <tbody>\n",
       "    <tr>\n",
       "      <th>2008_005379.jpg</th>\n",
       "      <td>500</td>\n",
       "      <td>375</td>\n",
       "    </tr>\n",
       "    <tr>\n",
       "      <th>2012_003403.jpg</th>\n",
       "      <td>314</td>\n",
       "      <td>186</td>\n",
       "    </tr>\n",
       "    <tr>\n",
       "      <th>2009_003338.jpg</th>\n",
       "      <td>500</td>\n",
       "      <td>332</td>\n",
       "    </tr>\n",
       "    <tr>\n",
       "      <th>2012_000625.jpg</th>\n",
       "      <td>500</td>\n",
       "      <td>333</td>\n",
       "    </tr>\n",
       "    <tr>\n",
       "      <th>2011_004438.jpg</th>\n",
       "      <td>500</td>\n",
       "      <td>334</td>\n",
       "    </tr>\n",
       "  </tbody>\n",
       "</table>\n",
       "</div>"
      ],
      "text/plain": [
       "                 width  height\n",
       "2008_005379.jpg    500     375\n",
       "2012_003403.jpg    314     186\n",
       "2009_003338.jpg    500     332\n",
       "2012_000625.jpg    500     333\n",
       "2011_004438.jpg    500     334"
      ]
     },
     "metadata": {},
     "output_type": "display_data"
    },
    {
     "name": "stdout",
     "output_type": "stream",
     "text": [
      "(9583, 2)\n"
     ]
    }
   ],
   "source": [
    "display(metadata_df.head())\n",
    "print(metadata_df.shape)"
   ]
  },
  {
   "cell_type": "code",
   "execution_count": 44,
   "metadata": {},
   "outputs": [],
   "source": [
    "#Guardamos la tabla como un CSV\n",
    "os.chdir(\"/home/sergio/Documents/VOC2012\")\n",
    "metadata_df.to_csv(\"VOC_metadata.csv\",index=True)"
   ]
  },
  {
   "cell_type": "markdown",
   "metadata": {},
   "source": [
    "## Filtering the images"
   ]
  },
  {
   "cell_type": "markdown",
   "metadata": {},
   "source": [
    "Seleccionamos las imágenes que contienen la clase \"Person\" y las guardamos en una nueva carpeta llamada \"pedestrian_dataset_voc\""
   ]
  },
  {
   "cell_type": "code",
   "execution_count": 46,
   "metadata": {},
   "outputs": [],
   "source": [
    "os.chdir(\"/home/sergio/Documents/VOC2012\")\n",
    "\n",
    "try:\n",
    "    os.mkdir(\"pedestrian_dataset_voc\")\n",
    "except:\n",
    "    pass"
   ]
  },
  {
   "cell_type": "code",
   "execution_count": 66,
   "metadata": {},
   "outputs": [],
   "source": [
    "from shutil import copyfile\n",
    "\n",
    "def get_class_images(SOURCE, NEW_LOC,CLASS_NAMES):\n",
    "\n",
    "    names_list =os.listdir(SOURCE)\n",
    "\n",
    "    for i in names_list:\n",
    "        if i in CLASS_NAMES:\n",
    "                copyfile(SOURCE + \"/\" + i, NEW_LOC + \"/\" + i)"
   ]
  },
  {
   "cell_type": "code",
   "execution_count": 67,
   "metadata": {},
   "outputs": [],
   "source": [
    "get_class_images(\"/home/sergio/Documents/VOC2012/JPEGImages\",\"/home/sergio/Documents/VOC2012/pedestrian_dataset_voc\",kept_files)"
   ]
  },
  {
   "cell_type": "code",
   "execution_count": 13,
   "metadata": {},
   "outputs": [],
   "source": [
    "os.chdir(\"/home/sergio/Documents/VOC2012/JPEGImages\")\n",
    "#print(os.listdir()[:5])"
   ]
  },
  {
   "cell_type": "markdown",
   "metadata": {},
   "source": [
    "## Creating the Annotations file (CSV)"
   ]
  },
  {
   "cell_type": "markdown",
   "metadata": {},
   "source": [
    "Creamos un CSV de anotaciones, cada fila será una anotación, donde viene el archivo al que pertenece así como sus coordenadas del tipo (x_min,y_min,x_max,y_max) normalizados, es decir, de [0,1], que es el formato que el módulo de Albumentations"
   ]
  },
  {
   "cell_type": "code",
   "execution_count": 46,
   "metadata": {},
   "outputs": [],
   "source": [
    "os.chdir(\"/home/sergio/Documents/VOC2012/Annotations\")\n",
    "xml_files = os.listdir()\n",
    "\n",
    "def read_content(xml_file: str):\n",
    "\n",
    "    tree = ET.parse(xml_file)\n",
    "    root = tree.getroot()\n",
    "\n",
    "    list_with_all_boxes = []\n",
    "    list_with_all_classes = []\n",
    "    for boxes in root.iter('object'):\n",
    "        \n",
    "        #name = root.find(\"name\").text\n",
    "        filename = root.find('filename').text\n",
    "    \n",
    "        ymin, xmin, ymax, xmax = None, None, None, None\n",
    "\n",
    "        for names in boxes.findall(\"name\"):\n",
    "            list_with_all_classes.append(names.text)\n",
    "        for box in boxes.findall(\"bndbox\"):\n",
    "            \n",
    "            ymin = int(float(box.find(\"ymin\").text))\n",
    "            xmin = int(float(box.find(\"xmin\").text))\n",
    "            ymax = int(float(box.find(\"ymax\").text))\n",
    "            xmax = int(float(box.find(\"xmax\").text))\n",
    "         \n",
    "            if filename in metadata_df.index.values:\n",
    "            #print(filename in metadata_df.index.values)\n",
    "                img_width = metadata_df.loc[filename][\"width\"]\n",
    "                img_height = metadata_df.loc[filename][\"height\"]           \n",
    "                [xmin,ymin,xmax,ymax]=list(convert_bbox_to_albumentations((xmin,ymin,xmax,ymax),source_format=\"pascal_voc\",check_validity=True,rows = img_height,cols = img_width))\n",
    "            \n",
    "            else:\n",
    "                x_center = xmin + np.floor((xmax-xmin-1)/2)\n",
    "                y_center = ymin + np.floor((ymax-ymin-1)/2)\n",
    "                width = xmax-xmin\n",
    "                height = ymax-ymin                       \n",
    "  \n",
    "        list_with_single_boxes = [xmin,ymin,xmax,ymax]\n",
    "        list_with_all_boxes.append(list_with_single_boxes)\n",
    "\n",
    "    return filename, list_with_all_boxes,list_with_all_classes"
   ]
  },
  {
   "cell_type": "code",
   "execution_count": 47,
   "metadata": {},
   "outputs": [],
   "source": [
    "#Creamos el diccionario que posteriormente pasaremos a CSV\n",
    "\n",
    "dict_annotations = {}\n",
    "num_instance = 0\n",
    "for i in xml_files:\n",
    "    file_name,list_bbox,list_classes = read_content(i)\n",
    "    \n",
    "    for index,j in enumerate(list_classes):\n",
    "        if j == \"person\":\n",
    "            dict_annotations[num_instance] = {\"file_name\":file_name, \"xmin\":list_bbox[index][0],\"ymin\":list_bbox[index][1],\n",
    "                                              \"xmax\":list_bbox[index][2],\n",
    "                                              \"ymax\": list_bbox[index][3]}\n",
    "            num_instance +=1"
   ]
  },
  {
   "cell_type": "code",
   "execution_count": 49,
   "metadata": {},
   "outputs": [
    {
     "data": {
      "text/html": [
       "<div>\n",
       "<style scoped>\n",
       "    .dataframe tbody tr th:only-of-type {\n",
       "        vertical-align: middle;\n",
       "    }\n",
       "\n",
       "    .dataframe tbody tr th {\n",
       "        vertical-align: top;\n",
       "    }\n",
       "\n",
       "    .dataframe thead th {\n",
       "        text-align: right;\n",
       "    }\n",
       "</style>\n",
       "<table border=\"1\" class=\"dataframe\">\n",
       "  <thead>\n",
       "    <tr style=\"text-align: right;\">\n",
       "      <th></th>\n",
       "      <th>file_name</th>\n",
       "      <th>xmin</th>\n",
       "      <th>ymin</th>\n",
       "      <th>xmax</th>\n",
       "      <th>ymax</th>\n",
       "    </tr>\n",
       "  </thead>\n",
       "  <tbody>\n",
       "    <tr>\n",
       "      <th>0</th>\n",
       "      <td>2008_005379.jpg</td>\n",
       "      <td>0.644</td>\n",
       "      <td>0.00266667</td>\n",
       "      <td>1</td>\n",
       "      <td>1</td>\n",
       "    </tr>\n",
       "    <tr>\n",
       "      <th>1</th>\n",
       "      <td>2012_003403.jpg</td>\n",
       "      <td>0.423567</td>\n",
       "      <td>0.55914</td>\n",
       "      <td>0.484076</td>\n",
       "      <td>0.763441</td>\n",
       "    </tr>\n",
       "    <tr>\n",
       "      <th>2</th>\n",
       "      <td>2009_003338.jpg</td>\n",
       "      <td>0.262</td>\n",
       "      <td>0.451807</td>\n",
       "      <td>0.4</td>\n",
       "      <td>1</td>\n",
       "    </tr>\n",
       "    <tr>\n",
       "      <th>3</th>\n",
       "      <td>2009_003338.jpg</td>\n",
       "      <td>0.336</td>\n",
       "      <td>0.460843</td>\n",
       "      <td>0.518</td>\n",
       "      <td>1</td>\n",
       "    </tr>\n",
       "    <tr>\n",
       "      <th>4</th>\n",
       "      <td>2009_003338.jpg</td>\n",
       "      <td>0.554</td>\n",
       "      <td>0.36747</td>\n",
       "      <td>0.73</td>\n",
       "      <td>1</td>\n",
       "    </tr>\n",
       "  </tbody>\n",
       "</table>\n",
       "</div>"
      ],
      "text/plain": [
       "         file_name      xmin        ymin      xmax      ymax\n",
       "0  2008_005379.jpg     0.644  0.00266667         1         1\n",
       "1  2012_003403.jpg  0.423567     0.55914  0.484076  0.763441\n",
       "2  2009_003338.jpg     0.262    0.451807       0.4         1\n",
       "3  2009_003338.jpg     0.336    0.460843     0.518         1\n",
       "4  2009_003338.jpg     0.554     0.36747      0.73         1"
      ]
     },
     "metadata": {},
     "output_type": "display_data"
    },
    {
     "name": "stdout",
     "output_type": "stream",
     "text": [
      "(17401, 5)\n"
     ]
    }
   ],
   "source": [
    "annotations_df = pd.DataFrame(dict_annotations).T\n",
    "display(annotations_df.head())\n",
    "print(annotations_df.shape)"
   ]
  },
  {
   "cell_type": "code",
   "execution_count": 50,
   "metadata": {},
   "outputs": [],
   "source": [
    "#Guardamos el dataframe como CSV\n",
    "os.chdir(\"/home/sergio/Documents/VOC2012\")\n",
    "annotations_df.to_csv(\"VOC_annotations.csv\",index=False)"
   ]
  }
 ],
 "metadata": {
  "kernelspec": {
   "display_name": "Python 3",
   "language": "python",
   "name": "python3"
  },
  "language_info": {
   "codemirror_mode": {
    "name": "ipython",
    "version": 3
   },
   "file_extension": ".py",
   "mimetype": "text/x-python",
   "name": "python",
   "nbconvert_exporter": "python",
   "pygments_lexer": "ipython3",
   "version": "3.6.10"
  }
 },
 "nbformat": 4,
 "nbformat_minor": 4
}
