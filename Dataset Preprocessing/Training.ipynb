{
 "cells": [
  {
   "cell_type": "code",
   "execution_count": 1,
   "metadata": {},
   "outputs": [],
   "source": [
    "import sys\n",
    "sys.path.append(\"/home/sergio/TinyYOLOv3-Pedestrian-Detection\")\n",
    "\n",
    "from YOLOblocks import TinyYOLOv3,BasicBlock,PredictionLayer#,YOLOLossBasicBlock\n",
    "import numpy as np\n",
    "import matplotlib.pyplot as plt\n",
    "%matplotlib inline\n",
    "import tensorflow as tf\n",
    "#from tensorflow.python.tools import freeze_graph\n",
    "#from skimage.io import imread,imshow\n",
    "#from skimage.transform import resize \n",
    "import time\n",
    "#from tensorflow.compat.v1.image import decode_image\n",
    "import imgaug.augmenters as iaa\n",
    "from imgaug.augmentables.bbs import BoundingBox, BoundingBoxesOnImage\n",
    "import os"
   ]
  },
  {
   "cell_type": "markdown",
   "metadata": {},
   "source": [
    "## Dataset preparation"
   ]
  },
  {
   "cell_type": "code",
   "execution_count": 2,
   "metadata": {},
   "outputs": [],
   "source": [
    "image_feature_description = {\n",
    "    'bboxes': tf.io.FixedLenFeature([], tf.string),\n",
    "    'image_raw': tf.io.FixedLenFeature([], tf.string),\n",
    "    'num_real_boxes':tf.io.FixedLenFeature([], tf.int64),\n",
    "}"
   ]
  },
  {
   "cell_type": "code",
   "execution_count": 3,
   "metadata": {},
   "outputs": [],
   "source": [
    "def get_iou_matrix_tf(box_arr1, box_arr2):\n",
    "    \n",
    "    box_arr1 = box_arr1 -tf.tile(box_arr1[:,:2],[1,2])\n",
    "    #print(box_arr1)\n",
    "    x11, y11, x12, y12 = tf.split(box_arr1, 4, axis=1)\n",
    "    x21, y21, x22, y22 = tf.split(box_arr2, 4, axis=1)\n",
    "    xA = tf.maximum(x11, tf.transpose(x21))\n",
    "    yA = tf.maximum(y11, tf.transpose(y21))\n",
    "    xB = tf.minimum(x12, tf.transpose(x22))\n",
    "    yB = tf.minimum(y12, tf.transpose(y22))\n",
    "    interArea = tf.maximum((xB - xA + 1e-9), 0) * tf.maximum((yB - yA + 1e-9), 0)\n",
    "    boxAArea = (x12 - x11 + 1e-9) * (y12 - y11 + 1e-9)\n",
    "    boxBArea = (x22 - x21 + 1e-9) * (y22 - y21 + 1e-9)\n",
    "    iou = interArea / (boxAArea + tf.transpose(boxBArea) - interArea)\n",
    "    return iou,tf.argmax(iou,axis=1)#[:,tf.newaxis]\n",
    "\n",
    "\n",
    "def fill_yolo_output(boxes,grid_size,num_anchors,which_anchor_box,which_anchor_box_index):\n",
    "    #print(boxes.shape)\n",
    "    #noobj_mask = tf.ones((1,grid_size*grid_size*num_anchors))\n",
    "    #print(noobj_mask.shape)\n",
    "    \n",
    "    x_min,y_min,x_max,y_max =tf.split(boxes,4,axis=1)\n",
    "\n",
    "    #Transforma las coordenadas de (xmin,ymin,xmax,ymax) --> (xcenter,ycenter,width,height)\n",
    "    width = x_max-x_min\n",
    "    height = y_max-y_min\n",
    "    x_global =x_min + tf.math.divide(x_max - x_min,2)\n",
    "    y_global =y_min + tf.math.divide(y_max - y_min,2)\n",
    "    \n",
    "    \n",
    "    x_min_anchor,y_min_anchor,x_max_anchor,y_max_anchor =tf.split(which_anchor_box,4,axis=1)\n",
    "    \n",
    "    width_anchor = x_max_anchor-x_min_anchor\n",
    "    height_anchor = y_max_anchor-y_min_anchor\n",
    "    x_global_anchor =x_min_anchor + tf.math.divide(x_max_anchor - x_min_anchor,2)\n",
    "    y_global_anchor =y_min_anchor + tf.math.divide(y_max_anchor - y_min_anchor,2)   \n",
    "\n",
    "    \n",
    "    #print(\"el x original\",x_global)\n",
    "    #print(\"el y original\",y_global)\n",
    "    #print(\"el w original\",width)\n",
    "    #print(\"el h original\",height)\n",
    "    \n",
    "    #porción de la imagen que hay en cada celda\n",
    "    pixel_per_grid = tf.math.divide(1.,grid_size)\n",
    "    #print(pixel_per_grid)\n",
    "    \n",
    "    #Obtenemos la coordenada de la celda donde están los boundingboxes\n",
    "    offset_grid_x = x_global//pixel_per_grid\n",
    "    offset_grid_y = y_global//pixel_per_grid\n",
    "    \n",
    "    #Obtenemos el el centro locacon referencia  al celda encontrada previamente\n",
    "    x_local =tf.math.floormod(x_global,pixel_per_grid)\n",
    "    y_local =tf.math.floormod(y_global,pixel_per_grid)\n",
    "    #print(x_local,y_local)\n",
    "    \n",
    "    #Valores tx e ty del groudtruth\n",
    "    tx = tf.math.log(x_local + 1e-07/(1-x_local))\n",
    "    ty = tf.math.log(y_local+1e-07/(1-y_local))\n",
    "    tw = tf.math.log(tf.math.divide(width+1e-07,width_anchor))\n",
    "    th = tf.math.log(tf.math.divide(height+1e-07,height_anchor))\n",
    "    tobj_mask = tf.ones_like(tx)\n",
    "    tobj = tf.concat([tobj_mask,tobj_mask],axis=0)\n",
    "    \n",
    "    #tnoobj = tf.zeros_like(tx)    \n",
    "    #tobj = tf.ones((grid_size*grid_size*num_anchors,1))\n",
    "    #tnoobj = tf.zeros((grid_size*grid_size*num_anchors,1))\n",
    "    #print(\"Lo que la red debe predecir\",tx.numpy(),ty.numpy(),tw.numpy(),th.numpy())\n",
    "    #x_global = (offset_grid_x * pixel_per_grid) + tf.math.sigmoid(tx)\n",
    "    #y_global = (offset_grid_y * pixel_per_grid) + tf.math.sigmoid(ty)\n",
    "    #w = width_anchor*tf.math.exp(tw)\n",
    "    #h = height_anchor*tf.math.exp(th)\n",
    "    #print(\"obtnemos el x_real\",x_global)\n",
    "    #print(\"obtenemos el y_real\",y_global)\n",
    "    #print(\"obtenemos el w real\",w)\n",
    "    #print(\"obtenemos el h real\",h)\n",
    "    \n",
    "    \n",
    "    #print(which_anchor_box_index)\n",
    "    residuo = tf.math.floormod(which_anchor_box_index,2)[:,tf.newaxis]\n",
    "    coord = tf.cast(2*(offset_grid_y*grid_size + offset_grid_x),dtype=tf.int64)\n",
    "    \n",
    "    coord_objectness = tf.cast(2*(offset_grid_y*grid_size + offset_grid_x),dtype=tf.int64)\n",
    "    coord_objectness2 = coord_objectness+1\n",
    "    coord_objectess_global = tf.concat([coord_objectness,coord_objectness2],axis=0)\n",
    "    \n",
    "    output_position = residuo+coord\n",
    "    print(\"tipo de aoutput_positivon\",output_position)\n",
    "    \n",
    "    print(output_position)\n",
    "    \n",
    "    dense_shape = grid_size*grid_size*num_anchors\n",
    "    tx_vector = tf.sparse.reorder(tf.sparse.SparseTensor(indices=output_position, values=tx[:,0], dense_shape=[dense_shape]))\n",
    "    ty_vector = tf.sparse.reorder(tf.sparse.SparseTensor(indices=output_position, values=ty[:,0], dense_shape=[dense_shape]))\n",
    "    tw_vector = tf.sparse.reorder(tf.sparse.SparseTensor(indices=output_position, values=tw[:,0], dense_shape=[dense_shape]))\n",
    "    th_vector = tf.sparse.reorder(tf.sparse.SparseTensor(indices=output_position, values=th[:,0], dense_shape=[dense_shape]))\n",
    "    obj_mask = tf.sparse.reorder(tf.sparse.SparseTensor(indices=output_position, values=tobj_mask[:,0], dense_shape=[dense_shape]))\n",
    "    objectness_vector = tf.sparse.reorder(tf.sparse.SparseTensor(indices=coord_objectess_global, values=tobj[:,0], dense_shape=[dense_shape]))\n",
    "    #noobj_mask = tf.sparse.reorder(tf.sparse.SparseTensor(indices=output_position, values=tnoobj[:,0], dense_shape=[dense_shape]))\n",
    "    #obj_mask =tx_vector=ty_vector=tw_vector=th_vector = tf.zeros((1,grid_size*grid_size*num_anchors))\n",
    "    \n",
    "    tx_vector_dense = tf.sparse.to_dense(tx_vector, default_value=0, validate_indices=False, name=\"Dense_tx\")\n",
    "    ty_vector_dense = tf.sparse.to_dense(ty_vector, default_value=0, validate_indices=False, name=\"Dense_ty\")\n",
    "    tw_vector_dense = tf.sparse.to_dense(tw_vector, default_value=0, validate_indices=False, name=\"Dense_tw\")\n",
    "    th_vector_dense = tf.sparse.to_dense(th_vector, default_value=0, validate_indices=False, name=\"Dense_th\")\n",
    "    obj_mask_dense =  tf.sparse.to_dense(obj_mask, default_value=0, validate_indices=False, name=\"Dense_obj\")\n",
    "    #noobj_mask_dense = 1-obj_mask_dense\n",
    "    objectness_vector_dense =  tf.sparse.to_dense(objectness_vector, default_value=0, validate_indices=False)\n",
    "    \n",
    "    #noobj_mask_dense= tf.sparse.to_dense(noobj_mask, default_value=1, validate_indices=False, name=\"Dense_noobj\")\n",
    "    ##print(tx_vector.to_dense)\n",
    "    #print(tf.sparse.to_dense(tx_vector, default_value=0, validate_indices=True, name=None)\n",
    "    #tx_vector=tx_vector[[3,2],]\n",
    "    #tx_vector[output_position[:,0]] = tx\n",
    "    #print(\"coordenada de la salida:\",output_position)\n",
    "    \n",
    "    #return ((tx_vector_dense,ty_vector_dense,obj_mask_dense),(tw_vector_dense,th_vector_dense,obj_mask_dense),(objectness),(objectness))\n",
    "    \n",
    "    return tx_vector_dense,ty_vector_dense,tw_vector_dense,th_vector_dense,obj_mask_dense,objectness_vector_dense\n",
    "\n",
    "def build_targets(image,image_bboxes,num_real_boxes,anchor_boxes):\n",
    "    \n",
    "    images_bboxes_original = image_bboxes\n",
    "    #Obtenemos los boduing boxes que son reales\n",
    "    image_bboxes = image_bboxes[:num_real_boxes,:]\n",
    "    #print(\"Bouding boxes de la imagen\",image_bboxes)\n",
    "    #Obteneos  la matriz de IoU , y el índice del anchor box que dió mejor resultado\n",
    "    \n",
    "    image_bboxes = tf.math.divide(image_bboxes,416)\n",
    "    iou_matrix,which_anchor_box_index = get_iou_matrix_tf(image_bboxes,anchor_boxes)\n",
    "    \n",
    "    print(which_anchor_box_index)\n",
    "\n",
    "    #Indices de los bouding boxes que irian en cada salida, index_best_ yolo nos dice que bouding boxes de la imagen van a la salida YOLO1,\n",
    "    #porque su mejor IoU fue con los dos anchor boxes mas grandes\n",
    "    index_best_yolo1 = tf.where(which_anchor_box_index>=2)[:,0]\n",
    "    index_best_yolo2 = tf.where(which_anchor_box_index<2)[:,0]\n",
    "    index_best_anchor_yolo1 = tf.gather(which_anchor_box_index,index_best_yolo1,axis=0)\n",
    "    index_best_anchor_yolo2 = tf.gather(which_anchor_box_index,index_best_yolo2,axis=0)\n",
    "    \n",
    "    print(index_best_yolo1)\n",
    "    print(index_best_anchor_yolo1)\n",
    "\n",
    "    print(index_best_yolo2)\n",
    "    print(index_best_anchor_yolo2)\n",
    "\n",
    "    \n",
    "    best_bboxes_yolo1 = tf.gather(image_bboxes,index_best_yolo1,axis =0)\n",
    "    best_anchors_yolo1 = tf.gather(anchor_boxes,index_best_anchor_yolo1, axis =0) #LOs dos anchor boxes grandes corrsponden a YOLO\n",
    "    best_bboxes_yolo2 = tf.gather(image_bboxes,index_best_yolo2,axis =0)\n",
    "    best_anchors_yolo2 = tf.gather(anchor_boxes,index_best_anchor_yolo2, axis =0) #Los dos anchor boxes pequeños corresponden a YOLO2\n",
    "    \n",
    "    \n",
    "    if best_anchors_yolo1.shape[0] !=0:\n",
    "        tx_vector_yolo1,ty_vector_yolo1,tw_vector_yolo1,th_vector_yolo1,obj_mask_yolo1,obj_vector_yolo1= fill_yolo_output(best_bboxes_yolo1,13,2,best_anchors_yolo1,index_best_anchor_yolo1)\n",
    "    else:\n",
    "        tx_vector_yolo1=ty_vector_yolo1=tw_vector_yolo1=th_vector_yolo1=obj_mask_yolo1= obj_vector_yolo1=tf.zeros((1,grid_size*grid_size*num_anchors))\n",
    "        #noobj_mask_yolo1 = tf.ones((1,13*13*num_anchors))\n",
    "    \n",
    "    if best_anchors_yolo2.shape[0] != 0:\n",
    "        tx_vector_yolo2,ty_vector_yolo2,tw_vector_yolo2,th_vector_yolo2,obj_mask_yolo2,obj_vector_yolo2 = fill_yolo_output(best_bboxes_yolo2,26,2,best_anchors_yolo2,index_best_anchor_yolo2)\n",
    "    else:\n",
    "        tx_vector_yolo2=ty_vector_yolo2=tw_vector_yolo2=th_vector_yolo2=obj_mask_yolo2 = obj_vector_yolo2=tf.zeros((1,grid_size*grid_size*num_anchors))\n",
    "        #noobj_mask_yolo2 = tf.ones((1,26*26*num_anchors))\n",
    "        \n",
    "    tx_vector = tf.concat([tx_vector_yolo1,tx_vector_yolo2],axis=0)[:,tf.newaxis]\n",
    "    ty_vector = tf.concat([ty_vector_yolo1,ty_vector_yolo2],axis=0)[:,tf.newaxis]\n",
    "    tw_vector = tf.concat([tw_vector_yolo1,tw_vector_yolo2],axis=0)[:,tf.newaxis]\n",
    "    th_vector = tf.concat([th_vector_yolo1,th_vector_yolo2],axis=0)[:,tf.newaxis]\n",
    "    obj_mask = tf.concat([obj_mask_yolo1,obj_mask_yolo2],axis=0)[:,tf.newaxis]\n",
    "    #noobj_mask = tf.concat([noobj_mask_yolo1,noobj_mask_yolo2],axis=0)[:,tf.newaxis]\n",
    "    obj_vector = tf.concat([obj_vector_yolo1,obj_vector_yolo2],axis=0)[:,tf.newaxis]\n",
    "    \n",
    "    #output = tf.concat([tx_vector,ty_vector,tw_vector,th_vector,obj_mask,noobj_mask,obj_vector],axis=1)\n",
    "    #images_bboxes_original\n",
    "    #return image,output\n",
    "    #Vamos a regresar obj mask que es 1 cuando hay objeto en grid y el anchor box especifico\n",
    "    return tf.cast(image,tf.float32)/255,(tf.concat([tx_vector,ty_vector,obj_mask],axis=1),tf.concat([tw_vector,th_vector,obj_mask],axis=1),(obj_mask),(obj_mask))\n",
    "\n",
    "def imgaug_data_augmentation(image,bboxes,num_real_boxes):\n",
    "    im_shape = image.shape\n",
    "    bbs = BoundingBoxesOnImage.from_xyxy_array(bboxes*416, shape=(416,416))\n",
    "    \n",
    "    policy = np.random.randint(5)\n",
    "    \n",
    "    #policy = 2\n",
    "    if policy == 0:\n",
    "        \n",
    "        p = np.random.random()\n",
    "        if p<=0.6:\n",
    "            aug = iaa.TranslateX(px=(-60, 60),cval=128)\n",
    "            image, bbs = aug(image=image, bounding_boxes=bbs)\n",
    "            #bbs.remove_out_of_image().clip_out_of_image()\n",
    "    \n",
    "        p = np.random.random()\n",
    "        if p<=0.8:\n",
    "            aug = iaa.HistogramEqualization()\n",
    "            image, bbs = aug(image=image, bounding_boxes=bbs)\n",
    "            #bbs.remove_out_of_image().clip_out_of_image()\n",
    "    \n",
    "    elif policy==1:\n",
    "        \n",
    "        p=np.random.random()\n",
    "        if p<=0.2:\n",
    "            aug = iaa.TranslateY(px=(int(-0.18*416), int(0.18*416)),cval=128)\n",
    "            for i in bbs.to_xyxy_array(np.int32)[:num_real_boxes,:]:\n",
    "                bbox = image[i[1]:i[3],i[0]:i[2]]\n",
    "                bbox_augmented = aug(image=bbox)\n",
    "                image[i[1]:i[3],i[0]:i[2]] = bbox_augmented\n",
    "        \n",
    "        p=np.random.random()\n",
    "        if p<=0.8:\n",
    "            square_size = np.random.randint(48)\n",
    "            aug = iaa.Cutout(nb_iterations=1, size=square_size/416, squared=True)\n",
    "            image, bbs = aug(image=image, bounding_boxes=bbs)\n",
    "            #bbs.remove_out_of_image().clip_out_of_image()\n",
    "            \n",
    "    elif policy==2:\n",
    "        p=np.random.random()\n",
    "        if p<=1:\n",
    "            aug = iaa.ShearY(shear=(int(-0.06*416), int(0.06*416)), order=1, cval=128)\n",
    "            image, bbs = aug(image=image, bounding_boxes=bbs)\n",
    "            #bbs.remove_out_of_image().clip_out_of_image()\n",
    "            \n",
    "        p=np.random.random()\n",
    "        if p<=0.6:\n",
    "            aug = iaa.TranslateY(px=(int(-0.18*416), int(0.18*416)),cval=128)\n",
    "            for i in bbs.to_xyxy_array(np.int32)[:num_real_boxes,:]:\n",
    "                bbox = image[i[1]:i[3],i[0]:i[2]]\n",
    "                bbox_augmented = aug(image=bbox)\n",
    "                image[i[1]:i[3],i[0]:i[2]] = bbox_augmented\n",
    "            \n",
    "    elif policy==3:\n",
    "        p=np.random.random()\n",
    "        if p<=0.6:    \n",
    "            aug = iaa.Rotate(rotate=(-30, 30), order=1, cval=128)\n",
    "            image, bbs = aug(image=image, bounding_boxes=bbs)\n",
    "            #bbs_aug.remove_out_of_image().clip_out_of_image()\n",
    "        \n",
    "        p=np.random.random()\n",
    "        if p<=1:\n",
    "            aug = iaa.MultiplySaturation((0.54, 1.54))\n",
    "            image, bbs = aug(image=image, bounding_boxes=bbs)\n",
    "            #bbs.remove_out_of_image().clip_out_of_image()\n",
    "            \n",
    "    bbs.remove_out_of_image()\n",
    "    \n",
    "    return image,np.clip(bbs.to_xyxy_array(np.float32),1,415),num_real_boxes\n",
    "    \n",
    "    \n",
    "def preprocessing(example_proto):\n",
    "    image_features = tf.io.parse_single_example(example_proto, image_feature_description)\n",
    "    image = tf.image.decode_jpeg(image_features['image_raw'],channels = 3)\n",
    "    image = tf.cast(tf.image.resize(image,size=(416,416)), tf.uint8)\n",
    "    bboxes =  tf.io.parse_tensor(image_features['bboxes'], out_type=tf.float32)\n",
    "    \n",
    "    num_real_boxes = image_features['num_real_boxes']\n",
    "    return image,bboxes,num_real_boxes\n",
    "\n",
    "def preprocessing_validation_set(example_proto):\n",
    "    image_features = tf.io.parse_single_example(example_proto, image_feature_description)\n",
    "    image = tf.image.decode_jpeg(image_features['image_raw'],channels = 3)\n",
    "    image = tf.cast(tf.image.resize(image,size=(416,416)), tf.uint8)\n",
    "    bboxes =  tf.io.parse_tensor(image_features['bboxes'], out_type=tf.float32)\n",
    "    bboxes = tf.clip_by_value(bboxes*416,1,415)\n",
    "    \n",
    "    num_real_boxes = image_features['num_real_boxes']\n",
    "    return image,bboxes,tf.cast(num_real_boxes,tf.int64)\n",
    "    \n",
    "@tf.function(input_signature=[tf.TensorSpec((416,416,3), tf.uint8),tf.TensorSpec((None,4), tf.float32),tf.TensorSpec((), tf.int64)]) \n",
    "def tf_numpy_albumentations_real(image,bboxes,num_real_boxes):\n",
    "    \n",
    "    boxes_shape = bboxes.shape\n",
    "    im_shape = image.shape\n",
    "\n",
    "    image,bboxes,num_real_boxes = tf.numpy_function(imgaug_data_augmentation,[image,bboxes,num_real_boxes],Tout =[tf.uint8,tf.float32,tf.int64])\n",
    " \n",
    "    image.set_shape(im_shape)\n",
    "    bboxes.set_shape(boxes_shape)\n",
    "    print(\"Imagen data type\",image.dtype)\n",
    "    print(\"Bboxes data type\",bboxes.dtype)\n",
    "    print(\"num_real_boxes\",num_real_boxes.dtype)\n",
    "\n",
    "    return image,bboxes,num_real_boxes"
   ]
  },
  {
   "cell_type": "code",
   "execution_count": 4,
   "metadata": {},
   "outputs": [
    {
     "name": "stdout",
     "output_type": "stream",
     "text": [
      "Imagen data type <dtype: 'uint8'>\n",
      "Bboxes data type <dtype: 'float32'>\n",
      "num_real_boxes <dtype: 'int64'>\n",
      "Tensor(\"ArgMax:0\", shape=(None,), dtype=int64)\n",
      "Tensor(\"strided_slice_2:0\", shape=(None,), dtype=int64)\n",
      "Tensor(\"GatherV2:0\", shape=(None,), dtype=int64)\n",
      "Tensor(\"strided_slice_3:0\", shape=(None,), dtype=int64)\n",
      "Tensor(\"GatherV2_1:0\", shape=(None,), dtype=int64)\n",
      "tipo de aoutput_positivon Tensor(\"add_18:0\", shape=(None, 1), dtype=int64)\n",
      "Tensor(\"add_18:0\", shape=(None, 1), dtype=int64)\n",
      "tipo de aoutput_positivon Tensor(\"add_30:0\", shape=(None, 1), dtype=int64)\n",
      "Tensor(\"add_30:0\", shape=(None, 1), dtype=int64)\n",
      "Tensor(\"ArgMax:0\", dtype=int64)\n",
      "Tensor(\"strided_slice_2:0\", shape=(None,), dtype=int64)\n",
      "Tensor(\"GatherV2:0\", dtype=int64)\n",
      "Tensor(\"strided_slice_3:0\", shape=(None,), dtype=int64)\n",
      "Tensor(\"GatherV2_1:0\", dtype=int64)\n",
      "tipo de aoutput_positivon Tensor(\"add_18:0\", dtype=int64)\n",
      "Tensor(\"add_18:0\", dtype=int64)\n",
      "tipo de aoutput_positivon Tensor(\"add_30:0\", dtype=int64)\n",
      "Tensor(\"add_30:0\", dtype=int64)\n"
     ]
    }
   ],
   "source": [
    "#USANDO TF.IMAGE MODULE\n",
    "#anchors =tf.constant(np.array([[0,0,0.015,0.037],[0,0,0.043,0.104],[0,0,0.11,0.278],[0,0,0.351,0.66]]),dtype=tf.float32)\n",
    "anchors =tf.constant(np.array([[0,0,0.026,0.062],[0,0,0.067,0.183],[0,0,0.128,0.323],[0,0,0.343,0.650]]),dtype=tf.float32)\n",
    "\n",
    "os.chdir(\"/home/sergio/Documents/pedestrian_dataset_train_tfr\")\n",
    "filenames = os. listdir()\n",
    "raw_image_dataset = tf.data.TFRecordDataset(filenames)\n",
    "\n",
    "os.chdir(\"/home/sergio/Documents/pedestrian_dataset_val_tfr\")\n",
    "filenames = os. listdir()\n",
    "raw_image_dataset_val =tf.data.TFRecordDataset(filenames)\n",
    "\n",
    "os.chdir(\"/home/sergio/Documents/pedestrian_dataset_train_tfr\")\n",
    "#.shuffle(70000)\n",
    "train_dataset = raw_image_dataset.map(preprocessing,num_parallel_calls=8)\n",
    "train_dataset = train_dataset.map(tf_numpy_albumentations_real,num_parallel_calls=8)\n",
    "train_dataset = train_dataset.map(lambda x,y,z:build_targets(x,y,z,anchors),num_parallel_calls=8)\n",
    "train_dataset = train_dataset.batch(16)\n",
    "\n",
    "val_dataset = raw_image_dataset_val.map(preprocessing_validation_set,num_parallel_calls=8)\n",
    "val_dataset = val_dataset.map(lambda x,y,z:build_targets(x,y,z,anchors),num_parallel_calls=8)\n",
    "val_dataset = val_dataset.batch(16)"
   ]
  },
  {
   "cell_type": "markdown",
   "metadata": {},
   "source": [
    "### Loss Function"
   ]
  },
  {
   "cell_type": "code",
   "execution_count": 5,
   "metadata": {},
   "outputs": [
    {
     "data": {
      "text/plain": [
       "'\\ndef loss_bce_objectness(y_true,y_pred):\\n    #bce = BinaryCrossentropy(reduction=tf.keras.losses.Reduction.NONE)\\n    #tw_true,th_true,obj_mask = tf.split(y_true, [1,1,1], axis=-1)\\n    #tw_pred,th_pred = tf.split(y_pred, [1,1], axis=-1)   \\n    \\n    loss_obj =tf.reduce_mean(tf.reduce_sum( y_true*tf.math.log(y_pred+1e-7)[:,tf.newaxis],axis=1))\\n    \\n    return loss_obj\\n\\ndef loss_bce_no_objectness(y_true,y_pred):\\n    #bce = BinaryCrossentropy(reduction=tf.keras.losses.Reduction.NONE)\\n    loss_noobj =tf.reduce_mean(tf.reduce_sum((1-y_true)*tf.math.log(1-y_pred+1e-7)[:,tf.newaxis],axis=1))\\n    \\n    return loss_noobj\\n'"
      ]
     },
     "execution_count": 5,
     "metadata": {},
     "output_type": "execute_result"
    }
   ],
   "source": [
    "from tensorflow.keras.losses import Loss,BinaryCrossentropy,MeanSquaredError,MeanSquaredLogarithmicError\n",
    "'''\n",
    "def loss_xy(y_true,y_pred):\n",
    "    \n",
    "    mse = MeanSquaredError(reduction=tf.keras.losses.Reduction.NONE)\n",
    "    \n",
    "    tx_true,ty_true,obj_mask = tf.split(y_true, [1,1,1], axis=-1)\n",
    "    tx_pred,ty_pred = tf.split(y_pred, [1,1], axis=-1)\n",
    "    \n",
    "    loss_x = tf.reduce_mean(tf.reduce_sum(obj_mask*(mse(tx_true,tx_pred)[:,:,tf.newaxis]),axis=1))\n",
    "    loss_y = tf.reduce_mean(tf.reduce_sum(obj_mask*(mse(ty_true,ty_pred)[:,:,tf.newaxis]),axis=1))\n",
    "\n",
    "    return loss_x+loss_y\n",
    "\n",
    "def loss_wh(y_true,y_pred):\n",
    "    \n",
    "    mse = MeanSquaredError(reduction=tf.keras.losses.Reduction.NONE)\n",
    "    \n",
    "    tw_true,th_true,obj_mask = tf.split(y_true, [1,1,1], axis=-1)\n",
    "    tw_pred,th_pred = tf.split(y_pred, [1,1], axis=-1)\n",
    "    \n",
    "    loss_w = tf.reduce_mean(tf.reduce_sum(obj_mask*(mse(tw_true,tw_pred)[:,:,tf.newaxis]),axis=1))\n",
    "    loss_h = tf.reduce_mean(tf.reduce_sum(obj_mask*(mse(th_true,th_pred)[:,:,tf.newaxis]),axis=1))\n",
    "\n",
    "\n",
    "    return loss_w+loss_h\n",
    "'''\n",
    "\n",
    "def loss_xy(y_true,y_pred):\n",
    "    \n",
    "    msle = MeanSquaredLogarithmicError(reduction=tf.keras.losses.Reduction.NONE)\n",
    "\n",
    "    tx_true,ty_true,obj_mask = tf.split(y_true, [1,1,1], axis=-1)\n",
    "    tx_pred,ty_pred = tf.split(y_pred, [1,1], axis=-1)\n",
    "    \n",
    "    #print(tf.math.square(tx_true-tx_pred))  \n",
    "    \n",
    "    loss_x = tf.reduce_mean(tf.reduce_sum(obj_mask*(msle(tx_true,tx_pred)[:,:,tf.newaxis]),axis=1))\n",
    "    loss_y = tf.reduce_mean(tf.reduce_sum(obj_mask*(msle(ty_true,ty_pred)[:,:,tf.newaxis]),axis=1))\n",
    "\n",
    "    return loss_x+loss_y\n",
    "\n",
    "def loss_wh(y_true,y_pred):\n",
    "\n",
    "    msle = MeanSquaredLogarithmicError(reduction=tf.keras.losses.Reduction.NONE)\n",
    "    \n",
    "    tw_true,th_true,obj_mask = tf.split(y_true, [1,1,1], axis=-1)\n",
    "    tw_pred,th_pred = tf.split(y_pred, [1,1], axis=-1)\n",
    "    \n",
    "    #print(tf.math.square(tw_true-tw_pred))\n",
    "\n",
    "    \n",
    "    loss_w = tf.reduce_mean(tf.reduce_sum(obj_mask*(msle(tw_true,tw_pred)[:,:,tf.newaxis]),axis=1))\n",
    "    loss_h = tf.reduce_mean(tf.reduce_sum(obj_mask*(msle(th_true,th_pred)[:,:,tf.newaxis]),axis=1))\n",
    "\n",
    "\n",
    "    return loss_w+loss_h\n",
    "\n",
    "def loss_objectness(y_true,y_pred):\n",
    "    bce = BinaryCrossentropy(reduction=tf.keras.losses.Reduction.NONE)\n",
    "    \n",
    "    #tw_true,th_true,obj_mask = tf.split(y_true, [1,1,1], axis=-1)\n",
    "    #tw_pred,th_pred = tf.split(y_pred, [1,1], axis=-1)   \n",
    "    \n",
    "    loss_obj =tf.reduce_mean(tf.reduce_sum( y_true*bce(y_true,y_pred)[:,tf.newaxis],axis=1))\n",
    "    \n",
    "    return loss_obj\n",
    "\n",
    "def loss_no_objectness(y_true,y_pred):\n",
    "    bce = BinaryCrossentropy(reduction=tf.keras.losses.Reduction.NONE)\n",
    "    \n",
    "    \n",
    "    loss_noobj =tf.reduce_mean(tf.reduce_sum((1-y_true)*bce(y_true,y_pred)[:,tf.newaxis],axis=1))\n",
    "    \n",
    "    return loss_noobj\n",
    "'''\n",
    "def loss_bce_objectness(y_true,y_pred):\n",
    "    #bce = BinaryCrossentropy(reduction=tf.keras.losses.Reduction.NONE)\n",
    "    #tw_true,th_true,obj_mask = tf.split(y_true, [1,1,1], axis=-1)\n",
    "    #tw_pred,th_pred = tf.split(y_pred, [1,1], axis=-1)   \n",
    "    \n",
    "    loss_obj =tf.reduce_mean(tf.reduce_sum( y_true*tf.math.log(y_pred+1e-7)[:,tf.newaxis],axis=1))\n",
    "    \n",
    "    return loss_obj\n",
    "\n",
    "def loss_bce_no_objectness(y_true,y_pred):\n",
    "    #bce = BinaryCrossentropy(reduction=tf.keras.losses.Reduction.NONE)\n",
    "    loss_noobj =tf.reduce_mean(tf.reduce_sum((1-y_true)*tf.math.log(1-y_pred+1e-7)[:,tf.newaxis],axis=1))\n",
    "    \n",
    "    return loss_noobj\n",
    "'''"
   ]
  },
  {
   "cell_type": "markdown",
   "metadata": {},
   "source": [
    "## Eager execution training (For debuging)"
   ]
  },
  {
   "cell_type": "code",
   "execution_count": 44,
   "metadata": {},
   "outputs": [],
   "source": [
    "debugging = False\n",
    "\n",
    "if debugging:\n",
    "    model = TinyYOLOv3(1,anchor_boxes=anchors,train=True)\n",
    "    model.build(batch_input_shape=(None,416,416,3))\n",
    "    model.summary()\n",
    "    model.load_weights_darknet(\"/home/sergio/TinyYOLOv3-Pedestrian-Detection/yolov3-tiny.weights\");\n",
    "    optimizer = tf.keras.optimizers.Adam()\n",
    "    #model_loss = YOLOLoss()\n",
    "\n",
    "    for epochs in range(1,2,1):\n",
    "        for (images,y_true) in train_dataset:\n",
    "            with tf.GradientTape() as tape:\n",
    "                outputs = model(images)\n",
    "\n",
    "                loss_x_y = loss_xy(y_true[0],outputs[0])\n",
    "                loss_w_h = loss_wh(y_true[1],outputs[1])\n",
    "                loss_obj = loss_objectness(y_true[2],outputs[2])\n",
    "                loss_noobj = loss_no_objectness(y_true[3],outputs[3])\n",
    "\n",
    "                total_loss =loss_x_y+loss_w_h+loss_obj+loss_noobj\n",
    "            #print(epochs,(total_loss.numpy()))\n",
    "            grads = tape.gradient(total_loss, model.trainable_variables)\n",
    "            optimizer.apply_gradients(zip(grads, model.trainable_variables))\n",
    "\n",
    "                #logging.info(\"{}_train_{}, {}, {}\".format(\n",
    "                #    epoch, batch, total_loss.numpy()))\n",
    "                \n",
    "else:\n",
    "    pass"
   ]
  },
  {
   "cell_type": "markdown",
   "metadata": {},
   "source": [
    "## Training with Model.fit()"
   ]
  },
  {
   "cell_type": "code",
   "execution_count": 60,
   "metadata": {},
   "outputs": [
    {
     "name": "stdout",
     "output_type": "stream",
     "text": [
      "Pesos de la convolucion (432,)\n",
      "CONV SHAPE (16, 3, 3, 3)\n",
      "Pesos de la convolucion (4608,)\n",
      "CONV SHAPE (32, 16, 3, 3)\n",
      "Pesos de la convolucion (18432,)\n",
      "CONV SHAPE (64, 32, 3, 3)\n",
      "Pesos de la convolucion (73728,)\n",
      "CONV SHAPE (128, 64, 3, 3)\n",
      "Pesos de la convolucion (294912,)\n",
      "CONV SHAPE (256, 128, 3, 3)\n",
      "Pesos de la convolucion (1179648,)\n",
      "CONV SHAPE (512, 256, 3, 3)\n",
      "Pesos de la convolucion (4718592,)\n",
      "CONV SHAPE (1024, 512, 3, 3)\n",
      "Pesos de la convolucion (262144,)\n",
      "CONV SHAPE (256, 1024, 1, 1)\n",
      "Pesos de la convolucion (1179648,)\n",
      "CONV SHAPE (512, 256, 3, 3)\n",
      "Pesos de la convolucion (130560,)\n",
      "CONV SHAPE (255, 512, 1, 1)\n",
      "Pesos de la convolucion (32768,)\n",
      "CONV SHAPE (128, 256, 1, 1)\n",
      "Pesos de la convolucion (884736,)\n",
      "CONV SHAPE (256, 384, 3, 3)\n",
      "Pesos de la convolucion (65280,)\n",
      "CONV SHAPE (255, 256, 1, 1)\n",
      "8858734\n"
     ]
    }
   ],
   "source": [
    "anchors =tf.constant(np.array([[0.026,0.062],[0.067,0.183],[0.128,0.323],[0.343,0.650]]),dtype=tf.float32)\n",
    "model = TinyYOLOv3(1,anchor_boxes=anchors,train=True,mode = \"finetuning\")\n",
    "model.build(batch_input_shape=(None,416,416,3))\n",
    "print(model.load_weights_darknet(\"/home/sergio/TinyYOLOv3-Pedestrian-Detection/yolov3-tiny.weights\"))"
   ]
  },
  {
   "cell_type": "code",
   "execution_count": 61,
   "metadata": {},
   "outputs": [
    {
     "name": "stdout",
     "output_type": "stream",
     "text": [
      "BasicBlock1 True\n",
      "BasicBlock2 True\n",
      "BasicBlock3 True\n",
      "BasicBlock4 True\n",
      "BasicBlock5 True\n",
      "BasicBlock6 True\n",
      "BasicBlock7 True\n",
      "BasicBlock8 True\n",
      "BasicBlock9 True\n",
      "FinalBlock1 True\n",
      "BasicBlock11 True\n",
      "BasicBlock12 True\n",
      "FinalBlock2 True\n",
      "Concatenate True\n",
      "Upsampling True\n",
      "Prediction1 True\n",
      "Prediction2 True\n",
      "Concatenate_BBOX True\n"
     ]
    }
   ],
   "source": [
    "for l in model.layers:\n",
    "    print(l.name, l.trainable)\n",
    "    pass"
   ]
  },
  {
   "cell_type": "code",
   "execution_count": 62,
   "metadata": {},
   "outputs": [],
   "source": [
    "tf.random.set_seed(0)\n",
    "\n",
    "from tensorflow.keras.metrics import TrueNegatives,TruePositives,FalseNegatives,FalsePositives,Precision,Recall\n",
    "\n",
    "opt = tf.keras.optimizers.Nadam(learning_rate=0.001)\n",
    "\n",
    "losses = {\"output_1\": loss_xy,\n",
    "          \"output_2\": loss_wh,\n",
    "          \"output_3\":loss_objectness,\n",
    "          \"output_4\":loss_no_objectness  \n",
    "}\n",
    "\n",
    "metrics = {\"output_3\":[Precision(),Recall(),TrueNegatives(),TruePositives(),FalseNegatives(),FalsePositives()]}\n",
    "model.compile(optimizer=opt, loss=losses,metrics=metrics,loss_weights=[1,2,4,1])\n",
    "os.chdir(\"/home/sergio/Documents/pedestrian_dataset_train_tfr\")"
   ]
  },
  {
   "cell_type": "markdown",
   "metadata": {},
   "source": [
    "## Batch 16, con pesos 1,2,4,1 with lr=0.001 y usando otro loss para xy e wh"
   ]
  },
  {
   "cell_type": "code",
   "execution_count": 63,
   "metadata": {},
   "outputs": [
    {
     "name": "stdout",
     "output_type": "stream",
     "text": [
      "Epoch 1/10\n",
      "4607/4607 [==============================] - 533s 116ms/step - loss: 16.9286 - output_1_loss: 0.0016 - output_2_loss: 0.1968 - output_3_loss: 0.0620 - output_4_loss: 16.2855 - output_3_precision_9: 0.2960 - output_3_recall_9: 0.0836 - output_3_true_negatives_9: 124226912.0000 - output_3_true_positives_9: 22508.0000 - output_3_false_negatives_9: 246587.0000 - output_3_false_positives_9: 53542.0000 - val_loss: 13.4692 - val_output_1_loss: 3.3242e-07 - val_output_2_loss: 0.1618 - val_output_3_loss: 0.0576 - val_output_4_loss: 12.9151 - val_output_3_precision_9: 0.6865 - val_output_3_recall_9: 0.1266 - val_output_3_true_negatives_9: 5057539.0000 - val_output_3_true_positives_9: 1491.0000 - val_output_3_false_negatives_9: 10289.0000 - val_output_3_false_positives_9: 681.0000\n",
      "Epoch 2/10\n",
      "4607/4607 [==============================] - 547s 119ms/step - loss: 13.2240 - output_1_loss: 4.3912e-06 - output_2_loss: 0.1608 - output_3_loss: 0.0551 - output_4_loss: 12.6819 - output_3_precision_9: 0.6467 - output_3_recall_9: 0.1179 - output_3_true_negatives_9: 124263176.0000 - output_3_true_positives_9: 31725.0000 - output_3_false_negatives_9: 237378.0000 - output_3_false_positives_9: 17332.0000 - val_loss: 13.0708 - val_output_1_loss: 3.7386e-05 - val_output_2_loss: 0.1565 - val_output_3_loss: 0.0558 - val_output_4_loss: 12.5349 - val_output_3_precision_9: 0.7222 - val_output_3_recall_9: 0.1278 - val_output_3_true_negatives_9: 5057641.0000 - val_output_3_true_positives_9: 1505.0000 - val_output_3_false_negatives_9: 10275.0000 - val_output_3_false_positives_9: 579.0000\n",
      "Epoch 3/10\n",
      "4607/4607 [==============================] - 530s 115ms/step - loss: 12.6264 - output_1_loss: 1.4292e-05 - output_2_loss: 0.1396 - output_3_loss: 0.0529 - output_4_loss: 12.1356 - output_3_precision_9: 0.6599 - output_3_recall_9: 0.1434 - output_3_true_negatives_9: 124260424.0000 - output_3_true_positives_9: 38612.0000 - output_3_false_negatives_9: 230564.0000 - output_3_false_positives_9: 19904.0000 - val_loss: 12.1435 - val_output_1_loss: 0.0000e+00 - val_output_2_loss: 0.1295 - val_output_3_loss: 0.0526 - val_output_4_loss: 11.6740 - val_output_3_precision_9: 0.6965 - val_output_3_recall_9: 0.1909 - val_output_3_true_negatives_9: 5057240.0000 - val_output_3_true_positives_9: 2249.0000 - val_output_3_false_negatives_9: 9531.0000 - val_output_3_false_positives_9: 980.0000\n",
      "Epoch 4/10\n",
      "4607/4607 [==============================] - 540s 117ms/step - loss: 12.1506 - output_1_loss: 6.1782e-06 - output_2_loss: 0.1322 - output_3_loss: 0.0510 - output_4_loss: 11.6820 - output_3_precision_9: 0.6700 - output_3_recall_9: 0.1666 - output_3_true_negatives_9: 124258496.0000 - output_3_true_positives_9: 44819.0000 - output_3_false_negatives_9: 224174.0000 - output_3_false_positives_9: 22079.0000 - val_loss: 11.7416 - val_output_1_loss: 0.0000e+00 - val_output_2_loss: 0.1287 - val_output_3_loss: 0.0511 - val_output_4_loss: 11.2799 - val_output_3_precision_9: 0.7627 - val_output_3_recall_9: 0.1841 - val_output_3_true_negatives_9: 5057545.0000 - val_output_3_true_positives_9: 2169.0000 - val_output_3_false_negatives_9: 9611.0000 - val_output_3_false_positives_9: 675.0000\n",
      "Epoch 5/10\n",
      "4607/4607 [==============================] - 534s 116ms/step - loss: 11.7836 - output_1_loss: 2.7993e-06 - output_2_loss: 0.1291 - output_3_loss: 0.0497 - output_4_loss: 11.3266 - output_3_precision_9: 0.6764 - output_3_recall_9: 0.1856 - output_3_true_negatives_9: 124256440.0000 - output_3_true_positives_9: 49934.0000 - output_3_false_negatives_9: 219099.0000 - output_3_false_positives_9: 23890.0000 - val_loss: 11.2449 - val_output_1_loss: 0.0000e+00 - val_output_2_loss: 0.1254 - val_output_3_loss: 0.0490 - val_output_4_loss: 10.7981 - val_output_3_precision_9: 0.7372 - val_output_3_recall_9: 0.2344 - val_output_3_true_negatives_9: 5057236.0000 - val_output_3_true_positives_9: 2761.0000 - val_output_3_false_negatives_9: 9019.0000 - val_output_3_false_positives_9: 984.0000\n",
      "Epoch 6/10\n",
      "4607/4607 [==============================] - 531s 115ms/step - loss: 11.4802 - output_1_loss: 0.0000e+00 - output_2_loss: 0.1281 - output_3_loss: 0.0486 - output_4_loss: 11.0297 - output_3_precision_9: 0.6841 - output_3_recall_9: 0.2030 - output_3_true_negatives_9: 124255296.0000 - output_3_true_positives_9: 54626.0000 - output_3_false_negatives_9: 214432.0000 - output_3_false_positives_9: 25223.0000 - val_loss: 10.7998 - val_output_1_loss: 0.0000e+00 - val_output_2_loss: 0.1264 - val_output_3_loss: 0.0474 - val_output_4_loss: 10.3575 - val_output_3_precision_9: 0.7726 - val_output_3_recall_9: 0.2362 - val_output_3_true_negatives_9: 5057401.0000 - val_output_3_true_positives_9: 2782.0000 - val_output_3_false_negatives_9: 8998.0000 - val_output_3_false_positives_9: 819.0000\n",
      "Epoch 7/10\n",
      "4607/4607 [==============================] - 520s 113ms/step - loss: 11.1560 - output_1_loss: 1.7700e-06 - output_2_loss: 0.1262 - output_3_loss: 0.0473 - output_4_loss: 10.7142 - output_3_precision_9: 0.6917 - output_3_recall_9: 0.2216 - output_3_true_negatives_9: 124253832.0000 - output_3_true_positives_9: 59644.0000 - output_3_false_negatives_9: 209540.0000 - output_3_false_positives_9: 26584.0000 - val_loss: 10.3523 - val_output_1_loss: 0.0000e+00 - val_output_2_loss: 0.1246 - val_output_3_loss: 0.0455 - val_output_4_loss: 9.9213 - val_output_3_precision_9: 0.7521 - val_output_3_recall_9: 0.2879 - val_output_3_true_negatives_9: 5057102.0000 - val_output_3_true_positives_9: 3391.0000 - val_output_3_false_negatives_9: 8389.0000 - val_output_3_false_positives_9: 1118.0000\n",
      "Epoch 8/10\n",
      "4607/4607 [==============================] - 514s 111ms/step - loss: 10.9040 - output_1_loss: 3.6097e-07 - output_2_loss: 0.1251 - output_3_loss: 0.0464 - output_4_loss: 10.4682 - output_3_precision_9: 0.6982 - output_3_recall_9: 0.2374 - output_3_true_negatives_9: 124253008.0000 - output_3_true_positives_9: 63901.0000 - output_3_false_negatives_9: 205230.0000 - output_3_false_positives_9: 27621.0000 - val_loss: 9.9143 - val_output_1_loss: 0.0000e+00 - val_output_2_loss: 0.1271 - val_output_3_loss: 0.0438 - val_output_4_loss: 9.4849 - val_output_3_precision_9: 0.7664 - val_output_3_recall_9: 0.3099 - val_output_3_true_negatives_9: 5057107.0000 - val_output_3_true_positives_9: 3651.0000 - val_output_3_false_negatives_9: 8129.0000 - val_output_3_false_positives_9: 1113.0000\n",
      "Epoch 9/10\n",
      "4607/4607 [==============================] - 510s 111ms/step - loss: 10.6003 - output_1_loss: 1.8778e-06 - output_2_loss: 0.1242 - output_3_loss: 0.0452 - output_4_loss: 10.1712 - output_3_precision_9: 0.7055 - output_3_recall_9: 0.2565 - output_3_true_negatives_9: 124251576.0000 - output_3_true_positives_9: 69047.0000 - output_3_false_negatives_9: 200093.0000 - output_3_false_positives_9: 28820.0000 - val_loss: 9.5283 - val_output_1_loss: 0.0000e+00 - val_output_2_loss: 0.1231 - val_output_3_loss: 0.0422 - val_output_4_loss: 9.1132 - val_output_3_precision_9: 0.7640 - val_output_3_recall_9: 0.3345 - val_output_3_true_negatives_9: 5057003.0000 - val_output_3_true_positives_9: 3940.0000 - val_output_3_false_negatives_9: 7840.0000 - val_output_3_false_positives_9: 1217.0000\n",
      "Epoch 10/10\n",
      "4607/4607 [==============================] - 488s 106ms/step - loss: 10.3639 - output_1_loss: 1.4706e-05 - output_2_loss: 0.1236 - output_3_loss: 0.0443 - output_4_loss: 9.9396 - output_3_precision_9: 0.7136 - output_3_recall_9: 0.2727 - output_3_true_negatives_9: 124251120.0000 - output_3_true_positives_9: 73396.0000 - output_3_false_negatives_9: 195742.0000 - output_3_false_positives_9: 29453.0000 - val_loss: 9.3637 - val_output_1_loss: 8.3135e-06 - val_output_2_loss: 0.1292 - val_output_3_loss: 0.0419 - val_output_4_loss: 8.9377 - val_output_3_precision_9: 0.7873 - val_output_3_recall_9: 0.3444 - val_output_3_true_negatives_9: 5057124.0000 - val_output_3_true_positives_9: 4057.0000 - val_output_3_false_negatives_9: 7723.0000 - val_output_3_false_positives_9: 1096.0000\n"
     ]
    }
   ],
   "source": [
    "history = model.fit(train_dataset, epochs=10,validation_data=val_dataset)"
   ]
  },
  {
   "cell_type": "code",
   "execution_count": null,
   "metadata": {},
   "outputs": [],
   "source": []
  },
  {
   "cell_type": "code",
   "execution_count": 64,
   "metadata": {},
   "outputs": [],
   "source": [
    "os.chdir(\"/home/sergio/Documents/json_experiments\")\n",
    "import json\n",
    "#json.dumps(str(a))\n",
    "with open('history_finetuning_1241_10_epoch_nadam_0dot001_msle.json', 'w') as fp:\n",
    "    json.dump(str(history.history), fp)"
   ]
  },
  {
   "cell_type": "code",
   "execution_count": 65,
   "metadata": {},
   "outputs": [],
   "source": [
    "model.save_weights('/home/sergio/Documents/weights_saved/pesos_10_epochs_nadam_1_2_4_1_0dot001_msle')"
   ]
  },
  {
   "cell_type": "code",
   "execution_count": null,
   "metadata": {},
   "outputs": [],
   "source": []
  },
  {
   "cell_type": "markdown",
   "metadata": {},
   "source": [
    "###  Continuacion MSLE con lr=0.001, 50 epocas"
   ]
  },
  {
   "cell_type": "code",
   "execution_count": 6,
   "metadata": {},
   "outputs": [
    {
     "name": "stdout",
     "output_type": "stream",
     "text": [
      "Pesos de la convolucion (432,)\n",
      "CONV SHAPE (16, 3, 3, 3)\n",
      "Pesos de la convolucion (4608,)\n",
      "CONV SHAPE (32, 16, 3, 3)\n",
      "Pesos de la convolucion (18432,)\n",
      "CONV SHAPE (64, 32, 3, 3)\n",
      "Pesos de la convolucion (73728,)\n",
      "CONV SHAPE (128, 64, 3, 3)\n",
      "Pesos de la convolucion (294912,)\n",
      "CONV SHAPE (256, 128, 3, 3)\n",
      "Pesos de la convolucion (1179648,)\n",
      "CONV SHAPE (512, 256, 3, 3)\n",
      "Pesos de la convolucion (4718592,)\n",
      "CONV SHAPE (1024, 512, 3, 3)\n",
      "Pesos de la convolucion (262144,)\n",
      "CONV SHAPE (256, 1024, 1, 1)\n",
      "Pesos de la convolucion (1179648,)\n",
      "CONV SHAPE (512, 256, 3, 3)\n",
      "Pesos de la convolucion (130560,)\n",
      "CONV SHAPE (255, 512, 1, 1)\n",
      "Pesos de la convolucion (32768,)\n",
      "CONV SHAPE (128, 256, 1, 1)\n",
      "Pesos de la convolucion (884736,)\n",
      "CONV SHAPE (256, 384, 3, 3)\n",
      "Pesos de la convolucion (65280,)\n",
      "CONV SHAPE (255, 256, 1, 1)\n",
      "8858734\n"
     ]
    },
    {
     "data": {
      "text/plain": [
       "<tensorflow.python.training.tracking.util.CheckpointLoadStatus at 0x7f6c79fb8e80>"
      ]
     },
     "execution_count": 6,
     "metadata": {},
     "output_type": "execute_result"
    }
   ],
   "source": [
    "anchors =tf.constant(np.array([[0.026,0.062],[0.067,0.183],[0.128,0.323],[0.343,0.650]]),dtype=tf.float32)\n",
    "model = TinyYOLOv3(1,anchor_boxes=anchors,train=True,mode = \"finetuning\")\n",
    "model.build(batch_input_shape=(None,416,416,3))\n",
    "print(model.load_weights_darknet(\"/home/sergio/TinyYOLOv3-Pedestrian-Detection/yolov3-tiny.weights\"))\n",
    "model.load_weights('/home/sergio/Documents/weights_saved/pesos_10_epochs_nadam_1_2_4_1_0dot001_msle')"
   ]
  },
  {
   "cell_type": "code",
   "execution_count": 7,
   "metadata": {},
   "outputs": [],
   "source": [
    "os.chdir(\"/home/sergio/Documents/pedestrian_dataset_train_tfr\")"
   ]
  },
  {
   "cell_type": "code",
   "execution_count": 8,
   "metadata": {},
   "outputs": [
    {
     "name": "stdout",
     "output_type": "stream",
     "text": [
      "BasicBlock1 True\n",
      "BasicBlock2 True\n",
      "BasicBlock3 True\n",
      "BasicBlock4 True\n",
      "BasicBlock5 True\n",
      "BasicBlock6 True\n",
      "BasicBlock7 True\n",
      "BasicBlock8 True\n",
      "BasicBlock9 True\n",
      "FinalBlock1 True\n",
      "BasicBlock11 True\n",
      "BasicBlock12 True\n",
      "FinalBlock2 True\n",
      "Concatenate True\n",
      "Upsampling True\n",
      "Prediction1 True\n",
      "Prediction2 True\n",
      "Concatenate_BBOX True\n"
     ]
    }
   ],
   "source": [
    "for l in model.layers:\n",
    "    print(l.name, l.trainable)\n",
    "    pass"
   ]
  },
  {
   "cell_type": "code",
   "execution_count": 9,
   "metadata": {},
   "outputs": [],
   "source": [
    "tf.random.set_seed(0)\n",
    "\n",
    "from tensorflow.keras.metrics import TrueNegatives,TruePositives,FalseNegatives,FalsePositives,Precision,Recall\n",
    "\n",
    "opt = tf.keras.optimizers.Nadam(learning_rate=0.001)\n",
    "\n",
    "losses = {\"output_1\": loss_xy,\n",
    "          \"output_2\": loss_wh,\n",
    "          \"output_3\":loss_objectness,\n",
    "          \"output_4\":loss_no_objectness  \n",
    "}\n",
    "\n",
    "metrics = {\"output_3\":[Precision(),Recall(),TrueNegatives(),TruePositives(),FalseNegatives(),FalsePositives()]}\n",
    "model.compile(optimizer=opt, loss=losses,metrics=metrics,loss_weights=[1,2,4,1])\n",
    "os.chdir(\"/home/sergio/Documents/pedestrian_dataset_train_tfr\")"
   ]
  },
  {
   "cell_type": "code",
   "execution_count": 10,
   "metadata": {},
   "outputs": [
    {
     "name": "stdout",
     "output_type": "stream",
     "text": [
      "Epoch 1/50\n",
      "4607/4607 [==============================] - 529s 115ms/step - loss: 10.1232 - output_1_loss: 8.4822e-07 - output_2_loss: 0.1229 - output_3_loss: 0.0433 - output_4_loss: 9.7040 - output_3_precision: 0.7211 - output_3_recall: 0.2911 - output_3_true_negatives: 124250248.0000 - output_3_true_positives: 78323.0000 - output_3_false_negatives: 190754.0000 - output_3_false_positives: 30299.0000 - val_loss: 9.2768 - val_output_1_loss: 0.0000e+00 - val_output_2_loss: 0.1251 - val_output_3_loss: 0.0411 - val_output_4_loss: 8.8623 - val_output_3_precision: 0.7807 - val_output_3_recall: 0.3490 - val_output_3_true_negatives: 5057065.0000 - val_output_3_true_positives: 4111.0000 - val_output_3_false_negatives: 7669.0000 - val_output_3_false_positives: 1155.0000\n",
      "Epoch 2/50\n",
      "4607/4607 [==============================] - 536s 116ms/step - loss: 9.8998 - output_1_loss: 2.0321e-06 - output_2_loss: 0.1223 - output_3_loss: 0.0425 - output_4_loss: 9.4850 - output_3_precision: 0.7269 - output_3_recall: 0.3062 - output_3_true_negatives: 124249336.0000 - output_3_true_positives: 82415.0000 - output_3_false_negatives: 186774.0000 - output_3_false_positives: 30961.0000 - val_loss: 8.7524 - val_output_1_loss: 0.0000e+00 - val_output_2_loss: 0.1227 - val_output_3_loss: 0.0393 - val_output_4_loss: 8.3496 - val_output_3_precision: 0.8149 - val_output_3_recall: 0.3641 - val_output_3_true_negatives: 5057246.0000 - val_output_3_true_positives: 4289.0000 - val_output_3_false_negatives: 7491.0000 - val_output_3_false_positives: 974.0000\n",
      "Epoch 3/50\n",
      "4607/4607 [==============================] - 532s 115ms/step - loss: 9.6825 - output_1_loss: 0.0000e+00 - output_2_loss: 0.1222 - output_3_loss: 0.0417 - output_4_loss: 9.2714 - output_3_precision: 0.7365 - output_3_recall: 0.3228 - output_3_true_negatives: 124249448.0000 - output_3_true_positives: 86857.0000 - output_3_false_negatives: 182252.0000 - output_3_false_positives: 31079.0000 - val_loss: 8.2529 - val_output_1_loss: 1.3122e-05 - val_output_2_loss: 0.1245 - val_output_3_loss: 0.0374 - val_output_4_loss: 7.8544 - val_output_3_precision: 0.8056 - val_output_3_recall: 0.4166 - val_output_3_true_negatives: 5057036.0000 - val_output_3_true_positives: 4907.0000 - val_output_3_false_negatives: 6873.0000 - val_output_3_false_positives: 1184.0000\n",
      "Epoch 4/50\n",
      "4607/4607 [==============================] - 535s 116ms/step - loss: 9.4373 - output_1_loss: 9.8652e-08 - output_2_loss: 0.1212 - output_3_loss: 0.0406 - output_4_loss: 9.0324 - output_3_precision: 0.7415 - output_3_recall: 0.3411 - output_3_true_negatives: 124248616.0000 - output_3_true_positives: 91789.0000 - output_3_false_negatives: 177335.0000 - output_3_false_positives: 31993.0000 - val_loss: 7.8781 - val_output_1_loss: 0.0000e+00 - val_output_2_loss: 0.1225 - val_output_3_loss: 0.0359 - val_output_4_loss: 7.4896 - val_output_3_precision: 0.8071 - val_output_3_recall: 0.4493 - val_output_3_true_negatives: 5056955.0000 - val_output_3_true_positives: 5293.0000 - val_output_3_false_negatives: 6487.0000 - val_output_3_false_positives: 1265.0000\n",
      "Epoch 5/50\n",
      "4607/4607 [==============================] - 532s 115ms/step - loss: 9.2813 - output_1_loss: 4.4758e-05 - output_2_loss: 0.1210 - output_3_loss: 0.0401 - output_4_loss: 8.8789 - output_3_precision: 0.7481 - output_3_recall: 0.3541 - output_3_true_negatives: 124248272.0000 - output_3_true_positives: 95327.0000 - output_3_false_negatives: 173869.0000 - output_3_false_positives: 32095.0000 - val_loss: 7.6141 - val_output_1_loss: 3.4559e-05 - val_output_2_loss: 0.1233 - val_output_3_loss: 0.0347 - val_output_4_loss: 7.2289 - val_output_3_precision: 0.7768 - val_output_3_recall: 0.5090 - val_output_3_true_negatives: 5056497.0000 - val_output_3_true_positives: 5996.0000 - val_output_3_false_negatives: 5784.0000 - val_output_3_false_positives: 1723.0000\n",
      "Epoch 6/50\n",
      "4607/4607 [==============================] - 538s 117ms/step - loss: 9.0499 - output_1_loss: 1.1445e-05 - output_2_loss: 0.1100 - output_3_loss: 0.0392 - output_4_loss: 8.6728 - output_3_precision: 0.7550 - output_3_recall: 0.3710 - output_3_true_negatives: 124247976.0000 - output_3_true_positives: 99889.0000 - output_3_false_negatives: 169330.0000 - output_3_false_positives: 32412.0000 - val_loss: 7.2208 - val_output_1_loss: 0.0000e+00 - val_output_2_loss: 0.1011 - val_output_3_loss: 0.0330 - val_output_4_loss: 6.8867 - val_output_3_precision: 0.8169 - val_output_3_recall: 0.5132 - val_output_3_true_negatives: 5056865.0000 - val_output_3_true_positives: 6045.0000 - val_output_3_false_negatives: 5735.0000 - val_output_3_false_positives: 1355.0000\n",
      "Epoch 7/50\n",
      "4607/4607 [==============================] - 544s 118ms/step - loss: 8.8685 - output_1_loss: 3.8963e-06 - output_2_loss: 0.0873 - output_3_loss: 0.0388 - output_4_loss: 8.5388 - output_3_precision: 0.7589 - output_3_recall: 0.3828 - output_3_true_negatives: 124247640.0000 - output_3_true_positives: 103031.0000 - output_3_false_negatives: 166103.0000 - output_3_false_positives: 32735.0000 - val_loss: 7.2616 - val_output_1_loss: 0.0000e+00 - val_output_2_loss: 0.0793 - val_output_3_loss: 0.0332 - val_output_4_loss: 6.9703 - val_output_3_precision: 0.8010 - val_output_3_recall: 0.5200 - val_output_3_true_negatives: 5056698.0000 - val_output_3_true_positives: 6126.0000 - val_output_3_false_negatives: 5654.0000 - val_output_3_false_positives: 1522.0000\n",
      "Epoch 8/50\n",
      "4607/4607 [==============================] - 546s 118ms/step - loss: 8.6597 - output_1_loss: 1.1431e-07 - output_2_loss: 0.0805 - output_3_loss: 0.0379 - output_4_loss: 8.3471 - output_3_precision: 0.7656 - output_3_recall: 0.3965 - output_3_true_negatives: 124247768.0000 - output_3_true_positives: 106696.0000 - output_3_false_negatives: 162395.0000 - output_3_false_positives: 32660.0000 - val_loss: 6.7895 - val_output_1_loss: 0.0000e+00 - val_output_2_loss: 0.0809 - val_output_3_loss: 0.0316 - val_output_4_loss: 6.5013 - val_output_3_precision: 0.8420 - val_output_3_recall: 0.5126 - val_output_3_true_negatives: 5057087.0000 - val_output_3_true_positives: 6039.0000 - val_output_3_false_negatives: 5741.0000 - val_output_3_false_positives: 1133.0000\n",
      "Epoch 9/50\n",
      "4607/4607 [==============================] - 547s 119ms/step - loss: 8.5064 - output_1_loss: 0.0000e+00 - output_2_loss: 0.0797 - output_3_loss: 0.0373 - output_4_loss: 8.1979 - output_3_precision: 0.7690 - output_3_recall: 0.4091 - output_3_true_negatives: 124247360.0000 - output_3_true_positives: 110104.0000 - output_3_false_negatives: 159045.0000 - output_3_false_positives: 33077.0000 - val_loss: 6.5123 - val_output_1_loss: 7.1166e-06 - val_output_2_loss: 0.0790 - val_output_3_loss: 0.0300 - val_output_4_loss: 6.2343 - val_output_3_precision: 0.8032 - val_output_3_recall: 0.5841 - val_output_3_true_negatives: 5056534.0000 - val_output_3_true_positives: 6881.0000 - val_output_3_false_negatives: 4899.0000 - val_output_3_false_positives: 1686.0000\n",
      "Epoch 10/50\n",
      "4607/4607 [==============================] - 554s 120ms/step - loss: 8.3543 - output_1_loss: 0.0000e+00 - output_2_loss: 0.0796 - output_3_loss: 0.0368 - output_4_loss: 8.0480 - output_3_precision: 0.7757 - output_3_recall: 0.4224 - output_3_true_negatives: 124247680.0000 - output_3_true_positives: 113687.0000 - output_3_false_negatives: 155468.0000 - output_3_false_positives: 32868.0000 - val_loss: 6.2492 - val_output_1_loss: 0.0000e+00 - val_output_2_loss: 0.0769 - val_output_3_loss: 0.0293 - val_output_4_loss: 5.9782 - val_output_3_precision: 0.8360 - val_output_3_recall: 0.5737 - val_output_3_true_negatives: 5056894.0000 - val_output_3_true_positives: 6758.0000 - val_output_3_false_negatives: 5022.0000 - val_output_3_false_positives: 1326.0000\n",
      "Epoch 11/50\n",
      "4607/4607 [==============================] - 544s 118ms/step - loss: 8.2184 - output_1_loss: 1.1042e-05 - output_2_loss: 0.0793 - output_3_loss: 0.0362 - output_4_loss: 7.9151 - output_3_precision: 0.7814 - output_3_recall: 0.4333 - output_3_true_negatives: 124247952.0000 - output_3_true_positives: 116617.0000 - output_3_false_negatives: 152527.0000 - output_3_false_positives: 32618.0000 - val_loss: 6.0003 - val_output_1_loss: 0.0000e+00 - val_output_2_loss: 0.0779 - val_output_3_loss: 0.0280 - val_output_4_loss: 5.7324 - val_output_3_precision: 0.8352 - val_output_3_recall: 0.5924 - val_output_3_true_negatives: 5056843.0000 - val_output_3_true_positives: 6978.0000 - val_output_3_false_negatives: 4802.0000 - val_output_3_false_positives: 1377.0000\n",
      "Epoch 12/50\n",
      "4607/4607 [==============================] - 547s 119ms/step - loss: 8.0924 - output_1_loss: 1.8158e-05 - output_2_loss: 0.0787 - output_3_loss: 0.0357 - output_4_loss: 7.7925 - output_3_precision: 0.7849 - output_3_recall: 0.4439 - output_3_true_negatives: 124247792.0000 - output_3_true_positives: 119461.0000 - output_3_false_negatives: 149672.0000 - output_3_false_positives: 32730.0000 - val_loss: 6.3877 - val_output_1_loss: 0.0000e+00 - val_output_2_loss: 0.0775 - val_output_3_loss: 0.0294 - val_output_4_loss: 6.1150 - val_output_3_precision: 0.8578 - val_output_3_recall: 0.5382 - val_output_3_true_negatives: 5057169.0000 - val_output_3_true_positives: 6340.0000 - val_output_3_false_negatives: 5440.0000 - val_output_3_false_positives: 1051.0000\n",
      "Epoch 13/50\n",
      "4607/4607 [==============================] - 536s 116ms/step - loss: 7.9639 - output_1_loss: 9.1643e-06 - output_2_loss: 0.0783 - output_3_loss: 0.0351 - output_4_loss: 7.6669 - output_3_precision: 0.7885 - output_3_recall: 0.4545 - output_3_true_negatives: 124247664.0000 - output_3_true_positives: 122311.0000 - output_3_false_negatives: 146828.0000 - output_3_false_positives: 32800.0000 - val_loss: 5.8578 - val_output_1_loss: 0.0000e+00 - val_output_2_loss: 0.0741 - val_output_3_loss: 0.0274 - val_output_4_loss: 5.6000 - val_output_3_precision: 0.8642 - val_output_3_recall: 0.5938 - val_output_3_true_negatives: 5057121.0000 - val_output_3_true_positives: 6995.0000 - val_output_3_false_negatives: 4785.0000 - val_output_3_false_positives: 1099.0000\n",
      "Epoch 14/50\n",
      "4607/4607 [==============================] - 548s 119ms/step - loss: 7.8243 - output_1_loss: 3.8474e-09 - output_2_loss: 0.0782 - output_3_loss: 0.0344 - output_4_loss: 7.5302 - output_3_precision: 0.7938 - output_3_recall: 0.4662 - output_3_true_negatives: 124247912.0000 - output_3_true_positives: 125497.0000 - output_3_false_negatives: 143703.0000 - output_3_false_positives: 32596.0000 - val_loss: 5.7283 - val_output_1_loss: 0.0000e+00 - val_output_2_loss: 0.0761 - val_output_3_loss: 0.0269 - val_output_4_loss: 5.4685 - val_output_3_precision: 0.8623 - val_output_3_recall: 0.5933 - val_output_3_true_negatives: 5057104.0000 - val_output_3_true_positives: 6989.0000 - val_output_3_false_negatives: 4791.0000 - val_output_3_false_positives: 1116.0000\n",
      "Epoch 15/50\n",
      "4607/4607 [==============================] - 534s 116ms/step - loss: 7.7234 - output_1_loss: 8.3875e-07 - output_2_loss: 0.0775 - output_3_loss: 0.0340 - output_4_loss: 7.4321 - output_3_precision: 0.7984 - output_3_recall: 0.4744 - output_3_true_negatives: 124248272.0000 - output_3_true_positives: 127667.0000 - output_3_false_negatives: 141472.0000 - output_3_false_positives: 32236.0000 - val_loss: 5.4487 - val_output_1_loss: 0.0000e+00 - val_output_2_loss: 0.0787 - val_output_3_loss: 0.0256 - val_output_4_loss: 5.1890 - val_output_3_precision: 0.8359 - val_output_3_recall: 0.6516 - val_output_3_true_negatives: 5056713.0000 - val_output_3_true_positives: 7676.0000 - val_output_3_false_negatives: 4104.0000 - val_output_3_false_positives: 1507.0000\n",
      "Epoch 16/50\n",
      "4607/4607 [==============================] - 540s 117ms/step - loss: 7.6026 - output_1_loss: 8.4042e-07 - output_2_loss: 0.0775 - output_3_loss: 0.0336 - output_4_loss: 7.3133 - output_3_precision: 0.8017 - output_3_recall: 0.4835 - output_3_true_negatives: 124248168.0000 - output_3_true_positives: 130127.0000 - output_3_false_negatives: 139017.0000 - output_3_false_positives: 32195.0000 - val_loss: 5.3241 - val_output_1_loss: 0.0000e+00 - val_output_2_loss: 0.0756 - val_output_3_loss: 0.0250 - val_output_4_loss: 5.0728 - val_output_3_precision: 0.8483 - val_output_3_recall: 0.6571 - val_output_3_true_negatives: 5056836.0000 - val_output_3_true_positives: 7741.0000 - val_output_3_false_negatives: 4039.0000 - val_output_3_false_positives: 1384.0000\n",
      "Epoch 17/50\n",
      "4607/4607 [==============================] - 522s 113ms/step - loss: 7.4864 - output_1_loss: 7.5943e-06 - output_2_loss: 0.0774 - output_3_loss: 0.0329 - output_4_loss: 7.2000 - output_3_precision: 0.8050 - output_3_recall: 0.4941 - output_3_true_negatives: 124248296.0000 - output_3_true_positives: 132950.0000 - output_3_false_negatives: 136145.0000 - output_3_false_positives: 32197.0000 - val_loss: 5.4907 - val_output_1_loss: 0.0000e+00 - val_output_2_loss: 0.0774 - val_output_3_loss: 0.0251 - val_output_4_loss: 5.2356 - val_output_3_precision: 0.8409 - val_output_3_recall: 0.6555 - val_output_3_true_negatives: 5056759.0000 - val_output_3_true_positives: 7722.0000 - val_output_3_false_negatives: 4058.0000 - val_output_3_false_positives: 1461.0000\n",
      "Epoch 18/50\n",
      "4607/4607 [==============================] - 512s 111ms/step - loss: 7.4190 - output_1_loss: 6.0357e-06 - output_2_loss: 0.0769 - output_3_loss: 0.0327 - output_4_loss: 7.1343 - output_3_precision: 0.8080 - output_3_recall: 0.4993 - output_3_true_negatives: 124248576.0000 - output_3_true_positives: 134361.0000 - output_3_false_negatives: 134715.0000 - output_3_false_positives: 31920.0000 - val_loss: 4.9648 - val_output_1_loss: 0.0000e+00 - val_output_2_loss: 0.0759 - val_output_3_loss: 0.0234 - val_output_4_loss: 4.7193 - val_output_3_precision: 0.8854 - val_output_3_recall: 0.6467 - val_output_3_true_negatives: 5057234.0000 - val_output_3_true_positives: 7618.0000 - val_output_3_false_negatives: 4162.0000 - val_output_3_false_positives: 986.0000\n",
      "Epoch 19/50\n",
      "4607/4607 [==============================] - 510s 111ms/step - loss: 7.3292 - output_1_loss: 2.2194e-05 - output_2_loss: 0.0763 - output_3_loss: 0.0324 - output_4_loss: 7.0467 - output_3_precision: 0.8112 - output_3_recall: 0.5072 - output_3_true_negatives: 124248848.0000 - output_3_true_positives: 136511.0000 - output_3_false_negatives: 132637.0000 - output_3_false_positives: 31781.0000 - val_loss: 4.7961 - val_output_1_loss: 0.0000e+00 - val_output_2_loss: 0.0734 - val_output_3_loss: 0.0227 - val_output_4_loss: 4.5585 - val_output_3_precision: 0.8771 - val_output_3_recall: 0.6750 - val_output_3_true_negatives: 5057106.0000 - val_output_3_true_positives: 7952.0000 - val_output_3_false_negatives: 3828.0000 - val_output_3_false_positives: 1114.0000\n",
      "Epoch 20/50\n",
      "4607/4607 [==============================] - 525s 114ms/step - loss: 7.2509 - output_1_loss: 1.3399e-05 - output_2_loss: 0.0764 - output_3_loss: 0.0320 - output_4_loss: 6.9701 - output_3_precision: 0.8139 - output_3_recall: 0.5143 - output_3_true_negatives: 124248616.0000 - output_3_true_positives: 138421.0000 - output_3_false_negatives: 130716.0000 - output_3_false_positives: 31654.0000 - val_loss: 4.6697 - val_output_1_loss: 2.1035e-05 - val_output_2_loss: 0.0736 - val_output_3_loss: 0.0221 - val_output_4_loss: 4.4341 - val_output_3_precision: 0.8625 - val_output_3_recall: 0.7098 - val_output_3_true_negatives: 5056887.0000 - val_output_3_true_positives: 8362.0000 - val_output_3_false_negatives: 3418.0000 - val_output_3_false_positives: 1333.0000\n",
      "Epoch 21/50\n",
      "4607/4607 [==============================] - 524s 114ms/step - loss: 7.1602 - output_1_loss: 3.4029e-06 - output_2_loss: 0.0764 - output_3_loss: 0.0316 - output_4_loss: 6.8808 - output_3_precision: 0.8199 - output_3_recall: 0.5218 - output_3_true_negatives: 124249800.0000 - output_3_true_positives: 140341.0000 - output_3_false_negatives: 128634.0000 - output_3_false_positives: 30822.0000 - val_loss: 4.4818 - val_output_1_loss: 2.0698e-06 - val_output_2_loss: 0.0768 - val_output_3_loss: 0.0212 - val_output_4_loss: 4.2435 - val_output_3_precision: 0.8622 - val_output_3_recall: 0.7250 - val_output_3_true_negatives: 5056855.0000 - val_output_3_true_positives: 8541.0000 - val_output_3_false_negatives: 3239.0000 - val_output_3_false_positives: 1365.0000\n",
      "Epoch 22/50\n",
      "4607/4607 [==============================] - 518s 112ms/step - loss: 7.1064 - output_1_loss: 1.1814e-05 - output_2_loss: 0.0761 - output_3_loss: 0.0314 - output_4_loss: 6.8285 - output_3_precision: 0.8207 - output_3_recall: 0.5265 - output_3_true_negatives: 124249576.0000 - output_3_true_positives: 141689.0000 - output_3_false_negatives: 127402.0000 - output_3_false_positives: 30952.0000 - val_loss: 4.2382 - val_output_1_loss: 0.0000e+00 - val_output_2_loss: 0.0738 - val_output_3_loss: 0.0200 - val_output_4_loss: 4.0104 - val_output_3_precision: 0.8813 - val_output_3_recall: 0.7248 - val_output_3_true_negatives: 5057070.0000 - val_output_3_true_positives: 8538.0000 - val_output_3_false_negatives: 3242.0000 - val_output_3_false_positives: 1150.0000\n",
      "Epoch 23/50\n",
      "4607/4607 [==============================] - 502s 109ms/step - loss: 7.0161 - output_1_loss: 1.0493e-06 - output_2_loss: 0.0759 - output_3_loss: 0.0310 - output_4_loss: 6.7402 - output_3_precision: 0.8239 - output_3_recall: 0.5341 - output_3_true_negatives: 124249680.0000 - output_3_true_positives: 143732.0000 - output_3_false_negatives: 125396.0000 - output_3_false_positives: 30712.0000 - val_loss: 4.2419 - val_output_1_loss: 0.0000e+00 - val_output_2_loss: 0.0713 - val_output_3_loss: 0.0198 - val_output_4_loss: 4.0201 - val_output_3_precision: 0.8839 - val_output_3_recall: 0.7289 - val_output_3_true_negatives: 5057092.0000 - val_output_3_true_positives: 8587.0000 - val_output_3_false_negatives: 3193.0000 - val_output_3_false_positives: 1128.0000\n",
      "Epoch 24/50\n",
      "4607/4607 [==============================] - 514s 112ms/step - loss: 6.9261 - output_1_loss: 6.0614e-06 - output_2_loss: 0.0760 - output_3_loss: 0.0305 - output_4_loss: 6.6520 - output_3_precision: 0.8255 - output_3_recall: 0.5404 - output_3_true_negatives: 124249856.0000 - output_3_true_positives: 145458.0000 - output_3_false_negatives: 123690.0000 - output_3_false_positives: 30756.0000 - val_loss: 4.1937 - val_output_1_loss: 0.0000e+00 - val_output_2_loss: 0.0740 - val_output_3_loss: 0.0197 - val_output_4_loss: 3.9669 - val_output_3_precision: 0.8823 - val_output_3_recall: 0.7355 - val_output_3_true_negatives: 5057064.0000 - val_output_3_true_positives: 8664.0000 - val_output_3_false_negatives: 3116.0000 - val_output_3_false_positives: 1156.0000\n",
      "Epoch 25/50\n",
      "4607/4607 [==============================] - 495s 107ms/step - loss: 6.8957 - output_1_loss: 1.0246e-07 - output_2_loss: 0.0753 - output_3_loss: 0.0304 - output_4_loss: 6.6234 - output_3_precision: 0.8266 - output_3_recall: 0.5442 - output_3_true_negatives: 124249824.0000 - output_3_true_positives: 146464.0000 - output_3_false_negatives: 122662.0000 - output_3_false_positives: 30726.0000 - val_loss: 4.0515 - val_output_1_loss: 3.3270e-05 - val_output_2_loss: 0.0732 - val_output_3_loss: 0.0190 - val_output_4_loss: 3.8290 - val_output_3_precision: 0.8839 - val_output_3_recall: 0.7455 - val_output_3_true_negatives: 5057066.0000 - val_output_3_true_positives: 8782.0000 - val_output_3_false_negatives: 2998.0000 - val_output_3_false_positives: 1154.0000\n",
      "Epoch 26/50\n",
      "4607/4607 [==============================] - 441s 96ms/step - loss: 6.7797 - output_1_loss: 2.7851e-05 - output_2_loss: 0.0750 - output_3_loss: 0.0299 - output_4_loss: 6.5103 - output_3_precision: 0.8318 - output_3_recall: 0.5524 - output_3_true_negatives: 124250400.0000 - output_3_true_positives: 148665.0000 - output_3_false_negatives: 120438.0000 - output_3_false_positives: 30065.0000 - val_loss: 3.9430 - val_output_1_loss: 0.0000e+00 - val_output_2_loss: 0.0723 - val_output_3_loss: 0.0187 - val_output_4_loss: 3.7235 - val_output_3_precision: 0.8972 - val_output_3_recall: 0.7407 - val_output_3_true_negatives: 5057220.0000 - val_output_3_true_positives: 8725.0000 - val_output_3_false_negatives: 3055.0000 - val_output_3_false_positives: 1000.0000\n",
      "Epoch 27/50\n",
      "4607/4607 [==============================] - 425s 92ms/step - loss: 6.7632 - output_1_loss: 2.2338e-07 - output_2_loss: 0.0753 - output_3_loss: 0.0299 - output_4_loss: 6.4933 - output_3_precision: 0.8338 - output_3_recall: 0.5555 - output_3_true_negatives: 124250488.0000 - output_3_true_positives: 149498.0000 - output_3_false_negatives: 119629.0000 - output_3_false_positives: 29803.0000 - val_loss: 3.9404 - val_output_1_loss: 0.0000e+00 - val_output_2_loss: 0.0725 - val_output_3_loss: 0.0184 - val_output_4_loss: 3.7216 - val_output_3_precision: 0.8831 - val_output_3_recall: 0.7708 - val_output_3_true_negatives: 5057018.0000 - val_output_3_true_positives: 9080.0000 - val_output_3_false_negatives: 2700.0000 - val_output_3_false_positives: 1202.0000\n",
      "Epoch 28/50\n",
      "4607/4607 [==============================] - 421s 91ms/step - loss: 6.6639 - output_1_loss: 0.0000e+00 - output_2_loss: 0.0751 - output_3_loss: 0.0294 - output_4_loss: 6.3962 - output_3_precision: 0.8356 - output_3_recall: 0.5629 - output_3_true_negatives: 124250544.0000 - output_3_true_positives: 151523.0000 - output_3_false_negatives: 117653.0000 - output_3_false_positives: 29818.0000 - val_loss: 3.7542 - val_output_1_loss: 0.0000e+00 - val_output_2_loss: 0.0728 - val_output_3_loss: 0.0178 - val_output_4_loss: 3.5374 - val_output_3_precision: 0.8831 - val_output_3_recall: 0.7787 - val_output_3_true_negatives: 5057006.0000 - val_output_3_true_positives: 9173.0000 - val_output_3_false_negatives: 2607.0000 - val_output_3_false_positives: 1214.0000\n",
      "Epoch 29/50\n",
      "4607/4607 [==============================] - 413s 90ms/step - loss: 6.6505 - output_1_loss: 7.3847e-07 - output_2_loss: 0.0749 - output_3_loss: 0.0295 - output_4_loss: 6.3828 - output_3_precision: 0.8371 - output_3_recall: 0.5640 - output_3_true_negatives: 124250992.0000 - output_3_true_positives: 151781.0000 - output_3_false_negatives: 117355.0000 - output_3_false_positives: 29542.0000 - val_loss: 3.6106 - val_output_1_loss: 0.0000e+00 - val_output_2_loss: 0.0724 - val_output_3_loss: 0.0170 - val_output_4_loss: 3.3976 - val_output_3_precision: 0.8842 - val_output_3_recall: 0.7903 - val_output_3_true_negatives: 5057001.0000 - val_output_3_true_positives: 9310.0000 - val_output_3_false_negatives: 2470.0000 - val_output_3_false_positives: 1219.0000\n",
      "Epoch 30/50\n",
      "4607/4607 [==============================] - 412s 89ms/step - loss: 6.5637 - output_1_loss: 2.4325e-06 - output_2_loss: 0.0743 - output_3_loss: 0.0289 - output_4_loss: 6.2993 - output_3_precision: 0.8402 - output_3_recall: 0.5709 - output_3_true_negatives: 124251296.0000 - output_3_true_positives: 153691.0000 - output_3_false_negatives: 115519.0000 - output_3_false_positives: 29236.0000 - val_loss: 3.6850 - val_output_1_loss: 1.2517e-04 - val_output_2_loss: 0.0741 - val_output_3_loss: 0.0175 - val_output_4_loss: 3.4667 - val_output_3_precision: 0.9063 - val_output_3_recall: 0.7520 - val_output_3_true_negatives: 5057304.0000 - val_output_3_true_positives: 8859.0000 - val_output_3_false_negatives: 2921.0000 - val_output_3_false_positives: 916.0000\n",
      "Epoch 31/50\n",
      "4607/4607 [==============================] - 410s 89ms/step - loss: 6.5456 - output_1_loss: 4.8817e-05 - output_2_loss: 0.0744 - output_3_loss: 0.0289 - output_4_loss: 6.2810 - output_3_precision: 0.8408 - output_3_recall: 0.5731 - output_3_true_negatives: 124251208.0000 - output_3_true_positives: 154250.0000 - output_3_false_negatives: 114923.0000 - output_3_false_positives: 29200.0000 - val_loss: 3.6347 - val_output_1_loss: 1.0365e-04 - val_output_2_loss: 0.0719 - val_output_3_loss: 0.0172 - val_output_4_loss: 3.4219 - val_output_3_precision: 0.9159 - val_output_3_recall: 0.7536 - val_output_3_true_negatives: 5057405.0000 - val_output_3_true_positives: 8877.0000 - val_output_3_false_negatives: 2903.0000 - val_output_3_false_positives: 815.0000\n",
      "Epoch 32/50\n",
      "4607/4607 [==============================] - 422s 92ms/step - loss: 6.4688 - output_1_loss: 3.5202e-06 - output_2_loss: 0.0744 - output_3_loss: 0.0285 - output_4_loss: 6.2062 - output_3_precision: 0.8432 - output_3_recall: 0.5776 - output_3_true_negatives: 124251616.0000 - output_3_true_positives: 155409.0000 - output_3_false_negatives: 113657.0000 - output_3_false_positives: 28908.0000 - val_loss: 3.5985 - val_output_1_loss: 6.8450e-05 - val_output_2_loss: 0.0722 - val_output_3_loss: 0.0167 - val_output_4_loss: 3.3870 - val_output_3_precision: 0.8885 - val_output_3_recall: 0.7982 - val_output_3_true_negatives: 5057040.0000 - val_output_3_true_positives: 9403.0000 - val_output_3_false_negatives: 2377.0000 - val_output_3_false_positives: 1180.0000\n",
      "Epoch 33/50\n",
      "4607/4607 [==============================] - 405s 88ms/step - loss: 6.4238 - output_1_loss: 1.6152e-08 - output_2_loss: 0.0745 - output_3_loss: 0.0284 - output_4_loss: 6.1612 - output_3_precision: 0.8467 - output_3_recall: 0.5830 - output_3_true_negatives: 124252128.0000 - output_3_true_positives: 156917.0000 - output_3_false_negatives: 112216.0000 - output_3_false_positives: 28417.0000 - val_loss: 3.3475 - val_output_1_loss: 0.0000e+00 - val_output_2_loss: 0.0703 - val_output_3_loss: 0.0157 - val_output_4_loss: 3.1441 - val_output_3_precision: 0.8862 - val_output_3_recall: 0.8215 - val_output_3_true_negatives: 5056977.0000 - val_output_3_true_positives: 9677.0000 - val_output_3_false_negatives: 2103.0000 - val_output_3_false_positives: 1243.0000\n",
      "Epoch 34/50\n",
      "4607/4607 [==============================] - 408s 89ms/step - loss: 6.4056 - output_1_loss: 1.8239e-06 - output_2_loss: 0.0737 - output_3_loss: 0.0282 - output_4_loss: 6.1453 - output_3_precision: 0.8472 - output_3_recall: 0.5840 - output_3_true_negatives: 124252192.0000 - output_3_true_positives: 157177.0000 - output_3_false_negatives: 111978.0000 - output_3_false_positives: 28344.0000 - val_loss: 3.3458 - val_output_1_loss: 0.0000e+00 - val_output_2_loss: 0.0753 - val_output_3_loss: 0.0157 - val_output_4_loss: 3.1324 - val_output_3_precision: 0.9095 - val_output_3_recall: 0.7895 - val_output_3_true_negatives: 5057295.0000 - val_output_3_true_positives: 9300.0000 - val_output_3_false_negatives: 2480.0000 - val_output_3_false_positives: 925.0000\n",
      "Epoch 35/50\n",
      "4607/4607 [==============================] - 418s 91ms/step - loss: 6.3545 - output_1_loss: 0.0000e+00 - output_2_loss: 0.0734 - output_3_loss: 0.0279 - output_4_loss: 6.0959 - output_3_precision: 0.8483 - output_3_recall: 0.5888 - output_3_true_negatives: 124252120.0000 - output_3_true_positives: 158412.0000 - output_3_false_negatives: 110650.0000 - output_3_false_positives: 28334.0000 - val_loss: 3.3900 - val_output_1_loss: 0.0000e+00 - val_output_2_loss: 0.0737 - val_output_3_loss: 0.0158 - val_output_4_loss: 3.1794 - val_output_3_precision: 0.9080 - val_output_3_recall: 0.8028 - val_output_3_true_negatives: 5057262.0000 - val_output_3_true_positives: 9457.0000 - val_output_3_false_negatives: 2323.0000 - val_output_3_false_positives: 958.0000\n",
      "Epoch 36/50\n",
      "4607/4607 [==============================] - 410s 89ms/step - loss: 6.3256 - output_1_loss: 1.0389e-05 - output_2_loss: 0.0740 - output_3_loss: 0.0279 - output_4_loss: 6.0662 - output_3_precision: 0.8494 - output_3_recall: 0.5912 - output_3_true_negatives: 124252248.0000 - output_3_true_positives: 159123.0000 - output_3_false_negatives: 110026.0000 - output_3_false_positives: 28209.0000 - val_loss: 3.2873 - val_output_1_loss: 1.3606e-05 - val_output_2_loss: 0.0721 - val_output_3_loss: 0.0151 - val_output_4_loss: 3.0826 - val_output_3_precision: 0.9054 - val_output_3_recall: 0.8142 - val_output_3_true_negatives: 5057218.0000 - val_output_3_true_positives: 9591.0000 - val_output_3_false_negatives: 2189.0000 - val_output_3_false_positives: 1002.0000\n",
      "Epoch 37/50\n",
      "4607/4607 [==============================] - 404s 88ms/step - loss: 6.2155 - output_1_loss: 1.9203e-06 - output_2_loss: 0.0734 - output_3_loss: 0.0273 - output_4_loss: 5.9595 - output_3_precision: 0.8536 - output_3_recall: 0.5996 - output_3_true_negatives: 124252568.0000 - output_3_true_positives: 161363.0000 - output_3_false_negatives: 107739.0000 - output_3_false_positives: 27669.0000 - val_loss: 3.1914 - val_output_1_loss: 0.0000e+00 - val_output_2_loss: 0.0721 - val_output_3_loss: 0.0150 - val_output_4_loss: 2.9873 - val_output_3_precision: 0.9217 - val_output_3_recall: 0.7914 - val_output_3_true_negatives: 5057428.0000 - val_output_3_true_positives: 9323.0000 - val_output_3_false_negatives: 2457.0000 - val_output_3_false_positives: 792.0000\n",
      "Epoch 38/50\n",
      "4607/4607 [==============================] - 400s 87ms/step - loss: 6.2093 - output_1_loss: 4.2122e-08 - output_2_loss: 0.0734 - output_3_loss: 0.0273 - output_4_loss: 5.9532 - output_3_precision: 0.8550 - output_3_recall: 0.6003 - output_3_true_negatives: 124253104.0000 - output_3_true_positives: 161563.0000 - output_3_false_negatives: 107591.0000 - output_3_false_positives: 27399.0000 - val_loss: 3.2540 - val_output_1_loss: 0.0000e+00 - val_output_2_loss: 0.0729 - val_output_3_loss: 0.0148 - val_output_4_loss: 3.0490 - val_output_3_precision: 0.8878 - val_output_3_recall: 0.8406 - val_output_3_true_negatives: 5056969.0000 - val_output_3_true_positives: 9902.0000 - val_output_3_false_negatives: 1878.0000 - val_output_3_false_positives: 1251.0000\n",
      "Epoch 39/50\n",
      "4607/4607 [==============================] - 398s 86ms/step - loss: 6.2007 - output_1_loss: 9.1821e-06 - output_2_loss: 0.0731 - output_3_loss: 0.0273 - output_4_loss: 5.9451 - output_3_precision: 0.8549 - output_3_recall: 0.5995 - output_3_true_negatives: 124253128.0000 - output_3_true_positives: 161315.0000 - output_3_false_negatives: 107760.0000 - output_3_false_positives: 27377.0000 - val_loss: 3.1468 - val_output_1_loss: 0.0000e+00 - val_output_2_loss: 0.0714 - val_output_3_loss: 0.0146 - val_output_4_loss: 2.9457 - val_output_3_precision: 0.9082 - val_output_3_recall: 0.8280 - val_output_3_true_negatives: 5057234.0000 - val_output_3_true_positives: 9754.0000 - val_output_3_false_negatives: 2026.0000 - val_output_3_false_positives: 986.0000\n",
      "Epoch 40/50\n",
      "4607/4607 [==============================] - 403s 88ms/step - loss: 6.1391 - output_1_loss: 1.8618e-09 - output_2_loss: 0.0727 - output_3_loss: 0.0269 - output_4_loss: 5.8859 - output_3_precision: 0.8555 - output_3_recall: 0.6048 - output_3_true_negatives: 124253208.0000 - output_3_true_positives: 162761.0000 - output_3_false_negatives: 106374.0000 - output_3_false_positives: 27487.0000 - val_loss: 2.8712 - val_output_1_loss: 0.0000e+00 - val_output_2_loss: 0.0695 - val_output_3_loss: 0.0133 - val_output_4_loss: 2.6789 - val_output_3_precision: 0.9171 - val_output_3_recall: 0.8331 - val_output_3_true_negatives: 5057333.0000 - val_output_3_true_positives: 9814.0000 - val_output_3_false_negatives: 1966.0000 - val_output_3_false_positives: 887.0000\n",
      "Epoch 41/50\n",
      "4607/4607 [==============================] - 399s 87ms/step - loss: 6.1200 - output_1_loss: 1.2175e-06 - output_2_loss: 0.0725 - output_3_loss: 0.0269 - output_4_loss: 5.8676 - output_3_precision: 0.8574 - output_3_recall: 0.6061 - output_3_true_negatives: 124253368.0000 - output_3_true_positives: 163108.0000 - output_3_false_negatives: 105996.0000 - output_3_false_positives: 27135.0000 - val_loss: 3.2842 - val_output_1_loss: 0.0000e+00 - val_output_2_loss: 0.0720 - val_output_3_loss: 0.0152 - val_output_4_loss: 3.0795 - val_output_3_precision: 0.9058 - val_output_3_recall: 0.8065 - val_output_3_true_negatives: 5057232.0000 - val_output_3_true_positives: 9500.0000 - val_output_3_false_negatives: 2280.0000 - val_output_3_false_positives: 988.0000\n",
      "Epoch 42/50\n",
      "4607/4607 [==============================] - 400s 87ms/step - loss: 6.0932 - output_1_loss: 2.2999e-05 - output_2_loss: 0.0727 - output_3_loss: 0.0268 - output_4_loss: 5.8405 - output_3_precision: 0.8588 - output_3_recall: 0.6090 - output_3_true_negatives: 124253568.0000 - output_3_true_positives: 163939.0000 - output_3_false_negatives: 105244.0000 - output_3_false_positives: 26953.0000 - val_loss: 2.8269 - val_output_1_loss: 0.0000e+00 - val_output_2_loss: 0.0716 - val_output_3_loss: 0.0131 - val_output_4_loss: 2.6314 - val_output_3_precision: 0.9234 - val_output_3_recall: 0.8356 - val_output_3_true_negatives: 5057403.0000 - val_output_3_true_positives: 9843.0000 - val_output_3_false_negatives: 1937.0000 - val_output_3_false_positives: 817.0000\n",
      "Epoch 43/50\n",
      "4607/4607 [==============================] - 406s 88ms/step - loss: 6.0070 - output_1_loss: 3.5533e-06 - output_2_loss: 0.0720 - output_3_loss: 0.0264 - output_4_loss: 5.7575 - output_3_precision: 0.8603 - output_3_recall: 0.6133 - output_3_true_negatives: 124253360.0000 - output_3_true_positives: 165094.0000 - output_3_false_negatives: 104087.0000 - output_3_false_positives: 26802.0000 - val_loss: 2.8621 - val_output_1_loss: 0.0000e+00 - val_output_2_loss: 0.0708 - val_output_3_loss: 0.0133 - val_output_4_loss: 2.6673 - val_output_3_precision: 0.9106 - val_output_3_recall: 0.8458 - val_output_3_true_negatives: 5057242.0000 - val_output_3_true_positives: 9964.0000 - val_output_3_false_negatives: 1816.0000 - val_output_3_false_positives: 978.0000\n",
      "Epoch 44/50\n",
      "4607/4607 [==============================] - 401s 87ms/step - loss: 6.0581 - output_1_loss: 0.0000e+00 - output_2_loss: 0.0721 - output_3_loss: 0.0267 - output_4_loss: 5.8073 - output_3_precision: 0.8605 - output_3_recall: 0.6123 - output_3_true_negatives: 124253840.0000 - output_3_true_positives: 164842.0000 - output_3_false_negatives: 104373.0000 - output_3_false_positives: 26725.0000 - val_loss: 2.7823 - val_output_1_loss: 0.0000e+00 - val_output_2_loss: 0.0694 - val_output_3_loss: 0.0128 - val_output_4_loss: 2.5922 - val_output_3_precision: 0.9143 - val_output_3_recall: 0.8469 - val_output_3_true_negatives: 5057285.0000 - val_output_3_true_positives: 9977.0000 - val_output_3_false_negatives: 1803.0000 - val_output_3_false_positives: 935.0000\n",
      "Epoch 45/50\n",
      "4607/4607 [==============================] - 399s 87ms/step - loss: 5.9724 - output_1_loss: 7.8240e-07 - output_2_loss: 0.0721 - output_3_loss: 0.0263 - output_4_loss: 5.7231 - output_3_precision: 0.8644 - output_3_recall: 0.6177 - output_3_true_negatives: 124254576.0000 - output_3_true_positives: 166245.0000 - output_3_false_negatives: 102885.0000 - output_3_false_positives: 26078.0000 - val_loss: 2.7523 - val_output_1_loss: 0.0000e+00 - val_output_2_loss: 0.0705 - val_output_3_loss: 0.0128 - val_output_4_loss: 2.5601 - val_output_3_precision: 0.9130 - val_output_3_recall: 0.8619 - val_output_3_true_negatives: 5057252.0000 - val_output_3_true_positives: 10153.0000 - val_output_3_false_negatives: 1627.0000 - val_output_3_false_positives: 968.0000\n",
      "Epoch 46/50\n",
      "4607/4607 [==============================] - 399s 87ms/step - loss: 6.0170 - output_1_loss: 2.5915e-05 - output_2_loss: 0.0722 - output_3_loss: 0.0265 - output_4_loss: 5.7667 - output_3_precision: 0.8630 - output_3_recall: 0.6146 - output_3_true_negatives: 124254200.0000 - output_3_true_positives: 165411.0000 - output_3_false_negatives: 103717.0000 - output_3_false_positives: 26250.0000 - val_loss: 2.7825 - val_output_1_loss: 0.0000e+00 - val_output_2_loss: 0.0702 - val_output_3_loss: 0.0127 - val_output_4_loss: 2.5913 - val_output_3_precision: 0.9192 - val_output_3_recall: 0.8501 - val_output_3_true_negatives: 5057340.0000 - val_output_3_true_positives: 10014.0000 - val_output_3_false_negatives: 1766.0000 - val_output_3_false_positives: 880.0000\n",
      "Epoch 47/50\n",
      "4607/4607 [==============================] - 406s 88ms/step - loss: 5.9229 - output_1_loss: 4.9371e-06 - output_2_loss: 0.0720 - output_3_loss: 0.0261 - output_4_loss: 5.6748 - output_3_precision: 0.8651 - output_3_recall: 0.6205 - output_3_true_negatives: 124254600.0000 - output_3_true_positives: 166993.0000 - output_3_false_negatives: 102147.0000 - output_3_false_positives: 26043.0000 - val_loss: 2.5057 - val_output_1_loss: 0.0000e+00 - val_output_2_loss: 0.0696 - val_output_3_loss: 0.0116 - val_output_4_loss: 2.3202 - val_output_3_precision: 0.9308 - val_output_3_recall: 0.8556 - val_output_3_true_negatives: 5057471.0000 - val_output_3_true_positives: 10079.0000 - val_output_3_false_negatives: 1701.0000 - val_output_3_false_positives: 749.0000\n",
      "Epoch 48/50\n",
      "4607/4607 [==============================] - 401s 87ms/step - loss: 5.9146 - output_1_loss: 1.4363e-06 - output_2_loss: 0.0720 - output_3_loss: 0.0260 - output_4_loss: 5.6666 - output_3_precision: 0.8655 - output_3_recall: 0.6220 - output_3_true_negatives: 124254464.0000 - output_3_true_positives: 167418.0000 - output_3_false_negatives: 101723.0000 - output_3_false_positives: 26028.0000 - val_loss: 2.8018 - val_output_1_loss: 0.0000e+00 - val_output_2_loss: 0.0707 - val_output_3_loss: 0.0125 - val_output_4_loss: 2.6104 - val_output_3_precision: 0.9175 - val_output_3_recall: 0.8531 - val_output_3_true_negatives: 5057316.0000 - val_output_3_true_positives: 10050.0000 - val_output_3_false_negatives: 1730.0000 - val_output_3_false_positives: 904.0000\n",
      "Epoch 49/50\n",
      "4607/4607 [==============================] - 393s 85ms/step - loss: 5.8198 - output_1_loss: 4.5911e-06 - output_2_loss: 0.0717 - output_3_loss: 0.0254 - output_4_loss: 5.5747 - output_3_precision: 0.8676 - output_3_recall: 0.6293 - output_3_true_negatives: 124254528.0000 - output_3_true_positives: 169366.0000 - output_3_false_negatives: 99755.0000 - output_3_false_positives: 25857.0000 - val_loss: 2.3861 - val_output_1_loss: 0.0000e+00 - val_output_2_loss: 0.0691 - val_output_3_loss: 0.0111 - val_output_4_loss: 2.2034 - val_output_3_precision: 0.9356 - val_output_3_recall: 0.8687 - val_output_3_true_negatives: 5057516.0000 - val_output_3_true_positives: 10233.0000 - val_output_3_false_negatives: 1547.0000 - val_output_3_false_positives: 704.0000\n",
      "Epoch 50/50\n",
      "4607/4607 [==============================] - 400s 87ms/step - loss: 5.8090 - output_1_loss: 1.0447e-05 - output_2_loss: 0.0716 - output_3_loss: 0.0254 - output_4_loss: 5.5640 - output_3_precision: 0.8697 - output_3_recall: 0.6304 - output_3_true_negatives: 124255160.0000 - output_3_true_positives: 169588.0000 - output_3_false_negatives: 99444.0000 - output_3_false_positives: 25418.0000 - val_loss: 2.3966 - val_output_1_loss: 4.2147e-05 - val_output_2_loss: 0.0712 - val_output_3_loss: 0.0110 - val_output_4_loss: 2.2101 - val_output_3_precision: 0.9313 - val_output_3_recall: 0.8669 - val_output_3_true_negatives: 5057467.0000 - val_output_3_true_positives: 10212.0000 - val_output_3_false_negatives: 1568.0000 - val_output_3_false_positives: 753.0000\n"
     ]
    }
   ],
   "source": [
    "history2 = model.fit(train_dataset, epochs=50,validation_data=val_dataset)"
   ]
  },
  {
   "cell_type": "code",
   "execution_count": null,
   "metadata": {},
   "outputs": [],
   "source": []
  },
  {
   "cell_type": "code",
   "execution_count": 11,
   "metadata": {},
   "outputs": [],
   "source": [
    "os.chdir(\"/home/sergio/Documents/json_experiments\")\n",
    "import json\n",
    "#json.dumps(str(a))\n",
    "with open('history_finetuning_1241_10_60_epoch_nadam_0dot001_msle.json', 'w') as fp:\n",
    "    json.dump(str(history2.history), fp)"
   ]
  },
  {
   "cell_type": "code",
   "execution_count": 12,
   "metadata": {},
   "outputs": [],
   "source": [
    "model.save_weights('/home/sergio/Documents/weights_saved/pesos_10_60_epochs_nadam_1_2_4_1_0dot001_msle')"
   ]
  },
  {
   "cell_type": "code",
   "execution_count": null,
   "metadata": {},
   "outputs": [],
   "source": []
  },
  {
   "cell_type": "code",
   "execution_count": 13,
   "metadata": {},
   "outputs": [],
   "source": [
    "tf.random.set_seed(0)\n",
    "\n",
    "from tensorflow.keras.metrics import TrueNegatives,TruePositives,FalseNegatives,FalsePositives,Precision,Recall\n",
    "\n",
    "opt = tf.keras.optimizers.Nadam(learning_rate=0.0001)\n",
    "\n",
    "losses = {\"output_1\": loss_xy,\n",
    "          \"output_2\": loss_wh,\n",
    "          \"output_3\":loss_objectness,\n",
    "          \"output_4\":loss_no_objectness  \n",
    "}\n",
    "\n",
    "metrics = {\"output_3\":[Precision(),Recall(),TrueNegatives(),TruePositives(),FalseNegatives(),FalsePositives()]}\n",
    "model.compile(optimizer=opt, loss=losses,metrics=metrics,loss_weights=[1,2,4,1])\n",
    "os.chdir(\"/home/sergio/Documents/pedestrian_dataset_train_tfr\")"
   ]
  },
  {
   "cell_type": "code",
   "execution_count": 14,
   "metadata": {},
   "outputs": [
    {
     "name": "stdout",
     "output_type": "stream",
     "text": [
      "Epoch 1/20\n",
      "4607/4607 [==============================] - 565s 123ms/step - loss: 5.4410 - output_1_loss: 1.8831e-05 - output_2_loss: 0.0659 - output_3_loss: 0.0238 - output_4_loss: 5.2140 - output_3_precision_1: 0.8820 - output_3_recall_1: 0.6528 - output_3_true_negatives_1: 124257016.0000 - output_3_true_positives_1: 175643.0000 - output_3_false_negatives_1: 93438.0000 - output_3_false_positives_1: 23502.0000 - val_loss: 1.6228 - val_output_1_loss: 0.0000e+00 - val_output_2_loss: 0.0605 - val_output_3_loss: 0.0075 - val_output_4_loss: 1.4719 - val_output_3_precision_1: 0.9665 - val_output_3_recall_1: 0.9229 - val_output_3_true_negatives_1: 5057843.0000 - val_output_3_true_positives_1: 10872.0000 - val_output_3_false_negatives_1: 908.0000 - val_output_3_false_positives_1: 377.0000\n",
      "Epoch 2/20\n",
      "4607/4607 [==============================] - 546s 119ms/step - loss: 5.3190 - output_1_loss: 6.4858e-07 - output_2_loss: 0.0645 - output_3_loss: 0.0233 - output_4_loss: 5.0969 - output_3_precision_1: 0.8877 - output_3_recall_1: 0.6633 - output_3_true_negatives_1: 124257856.0000 - output_3_true_positives_1: 178540.0000 - output_3_false_negatives_1: 90644.0000 - output_3_false_positives_1: 22589.0000 - val_loss: 1.4908 - val_output_1_loss: 0.0000e+00 - val_output_2_loss: 0.0593 - val_output_3_loss: 0.0068 - val_output_4_loss: 1.3450 - val_output_3_precision_1: 0.9690 - val_output_3_recall_1: 0.9402 - val_output_3_true_negatives_1: 5057866.0000 - val_output_3_true_positives_1: 11075.0000 - val_output_3_false_negatives_1: 705.0000 - val_output_3_false_positives_1: 354.0000\n",
      "Epoch 3/20\n",
      "4607/4607 [==============================] - 538s 117ms/step - loss: 5.2307 - output_1_loss: 6.3373e-06 - output_2_loss: 0.0639 - output_3_loss: 0.0229 - output_4_loss: 5.0113 - output_3_precision_1: 0.8922 - output_3_recall_1: 0.6704 - output_3_true_negatives_1: 124258720.0000 - output_3_true_positives_1: 180418.0000 - output_3_false_negatives_1: 88706.0000 - output_3_false_positives_1: 21803.0000 - val_loss: 1.3980 - val_output_1_loss: 0.0000e+00 - val_output_2_loss: 0.0592 - val_output_3_loss: 0.0063 - val_output_4_loss: 1.2542 - val_output_3_precision_1: 0.9726 - val_output_3_recall_1: 0.9442 - val_output_3_true_negatives_1: 5057907.0000 - val_output_3_true_positives_1: 11123.0000 - val_output_3_false_negatives_1: 657.0000 - val_output_3_false_positives_1: 313.0000\n",
      "Epoch 4/20\n",
      "4607/4607 [==============================] - 533s 116ms/step - loss: 5.2000 - output_1_loss: 1.8963e-06 - output_2_loss: 0.0638 - output_3_loss: 0.0228 - output_4_loss: 4.9812 - output_3_precision_1: 0.8940 - output_3_recall_1: 0.6716 - output_3_true_negatives_1: 124258864.0000 - output_3_true_positives_1: 180717.0000 - output_3_false_negatives_1: 88382.0000 - output_3_false_positives_1: 21424.0000 - val_loss: 1.3343 - val_output_1_loss: 0.0000e+00 - val_output_2_loss: 0.0591 - val_output_3_loss: 0.0061 - val_output_4_loss: 1.1919 - val_output_3_precision_1: 0.9736 - val_output_3_recall_1: 0.9533 - val_output_3_true_negatives_1: 5057915.0000 - val_output_3_true_positives_1: 11230.0000 - val_output_3_false_negatives_1: 550.0000 - val_output_3_false_positives_1: 305.0000\n",
      "Epoch 5/20\n",
      "4607/4607 [==============================] - 529s 115ms/step - loss: 5.1033 - output_1_loss: 2.7845e-09 - output_2_loss: 0.0635 - output_3_loss: 0.0224 - output_4_loss: 4.8869 - output_3_precision_1: 0.8966 - output_3_recall_1: 0.6786 - output_3_true_negatives_1: 124259280.0000 - output_3_true_positives_1: 182668.0000 - output_3_false_negatives_1: 86496.0000 - output_3_false_positives_1: 21069.0000 - val_loss: 1.2512 - val_output_1_loss: 0.0000e+00 - val_output_2_loss: 0.0584 - val_output_3_loss: 0.0057 - val_output_4_loss: 1.1117 - val_output_3_precision_1: 0.9754 - val_output_3_recall_1: 0.9576 - val_output_3_true_negatives_1: 5057935.0000 - val_output_3_true_positives_1: 11280.0000 - val_output_3_false_negatives_1: 500.0000 - val_output_3_false_positives_1: 285.0000\n",
      "Epoch 6/20\n",
      "4607/4607 [==============================] - 517s 112ms/step - loss: 5.1554 - output_1_loss: 2.8470e-06 - output_2_loss: 0.0635 - output_3_loss: 0.0228 - output_4_loss: 4.9373 - output_3_precision_1: 0.8969 - output_3_recall_1: 0.6750 - output_3_true_negatives_1: 124259512.0000 - output_3_true_positives_1: 181669.0000 - output_3_false_negatives_1: 87456.0000 - output_3_false_positives_1: 20872.0000 - val_loss: 1.2592 - val_output_1_loss: 0.0000e+00 - val_output_2_loss: 0.0579 - val_output_3_loss: 0.0057 - val_output_4_loss: 1.1206 - val_output_3_precision_1: 0.9772 - val_output_3_recall_1: 0.9625 - val_output_3_true_negatives_1: 5057956.0000 - val_output_3_true_positives_1: 11338.0000 - val_output_3_false_negatives_1: 442.0000 - val_output_3_false_positives_1: 264.0000\n",
      "Epoch 7/20\n",
      "4607/4607 [==============================] - 512s 111ms/step - loss: 5.0682 - output_1_loss: 5.9706e-06 - output_2_loss: 0.0632 - output_3_loss: 0.0223 - output_4_loss: 4.8526 - output_3_precision_1: 0.8989 - output_3_recall_1: 0.6806 - output_3_true_negatives_1: 124259800.0000 - output_3_true_positives_1: 183195.0000 - output_3_false_negatives_1: 85954.0000 - output_3_false_positives_1: 20599.0000 - val_loss: 1.1917 - val_output_1_loss: 0.0000e+00 - val_output_2_loss: 0.0578 - val_output_3_loss: 0.0053 - val_output_4_loss: 1.0547 - val_output_3_precision_1: 0.9777 - val_output_3_recall_1: 0.9630 - val_output_3_true_negatives_1: 5057961.0000 - val_output_3_true_positives_1: 11344.0000 - val_output_3_false_negatives_1: 436.0000 - val_output_3_false_positives_1: 259.0000\n",
      "Epoch 8/20\n",
      "4607/4607 [==============================] - 509s 111ms/step - loss: 5.0186 - output_1_loss: 1.2632e-06 - output_2_loss: 0.0633 - output_3_loss: 0.0221 - output_4_loss: 4.8039 - output_3_precision_1: 0.9015 - output_3_recall_1: 0.6847 - output_3_true_negatives_1: 124260568.0000 - output_3_true_positives_1: 184252.0000 - output_3_false_negatives_1: 84843.0000 - output_3_false_positives_1: 20124.0000 - val_loss: 1.1938 - val_output_1_loss: 0.0000e+00 - val_output_2_loss: 0.0584 - val_output_3_loss: 0.0054 - val_output_4_loss: 1.0555 - val_output_3_precision_1: 0.9775 - val_output_3_recall_1: 0.9631 - val_output_3_true_negatives_1: 5057959.0000 - val_output_3_true_positives_1: 11345.0000 - val_output_3_false_negatives_1: 435.0000 - val_output_3_false_positives_1: 261.0000\n",
      "Epoch 9/20\n",
      "4607/4607 [==============================] - 497s 108ms/step - loss: 4.9856 - output_1_loss: 1.5111e-05 - output_2_loss: 0.0632 - output_3_loss: 0.0219 - output_4_loss: 4.7718 - output_3_precision_1: 0.9018 - output_3_recall_1: 0.6871 - output_3_true_negatives_1: 124260208.0000 - output_3_true_positives_1: 184980.0000 - output_3_false_negatives_1: 84233.0000 - output_3_false_positives_1: 20146.0000 - val_loss: 1.1448 - val_output_1_loss: 0.0000e+00 - val_output_2_loss: 0.0576 - val_output_3_loss: 0.0051 - val_output_4_loss: 1.0091 - val_output_3_precision_1: 0.9798 - val_output_3_recall_1: 0.9639 - val_output_3_true_negatives_1: 5057986.0000 - val_output_3_true_positives_1: 11355.0000 - val_output_3_false_negatives_1: 425.0000 - val_output_3_false_positives_1: 234.0000\n",
      "Epoch 10/20\n",
      "4607/4607 [==============================] - 512s 111ms/step - loss: 4.9836 - output_1_loss: 4.8258e-06 - output_2_loss: 0.0628 - output_3_loss: 0.0217 - output_4_loss: 4.7711 - output_3_precision_1: 0.9013 - output_3_recall_1: 0.6867 - output_3_true_negatives_1: 124259968.0000 - output_3_true_positives_1: 184881.0000 - output_3_false_negatives_1: 84362.0000 - output_3_false_positives_1: 20242.0000 - val_loss: 1.1693 - val_output_1_loss: 0.0000e+00 - val_output_2_loss: 0.0577 - val_output_3_loss: 0.0052 - val_output_4_loss: 1.0331 - val_output_3_precision_1: 0.9826 - val_output_3_recall_1: 0.9657 - val_output_3_true_negatives_1: 5058018.0000 - val_output_3_true_positives_1: 11376.0000 - val_output_3_false_negatives_1: 404.0000 - val_output_3_false_positives_1: 202.0000\n",
      "Epoch 11/20\n",
      "4607/4607 [==============================] - 506s 110ms/step - loss: 4.9379 - output_1_loss: 8.5643e-07 - output_2_loss: 0.0626 - output_3_loss: 0.0216 - output_4_loss: 4.7264 - output_3_precision_1: 0.9019 - output_3_recall_1: 0.6896 - output_3_true_negatives_1: 124260360.0000 - output_3_true_positives_1: 185596.0000 - output_3_false_negatives_1: 83547.0000 - output_3_false_positives_1: 20183.0000 - val_loss: 1.1181 - val_output_1_loss: 0.0000e+00 - val_output_2_loss: 0.0571 - val_output_3_loss: 0.0050 - val_output_4_loss: 0.9842 - val_output_3_precision_1: 0.9830 - val_output_3_recall_1: 0.9684 - val_output_3_true_negatives_1: 5058023.0000 - val_output_3_true_positives_1: 11408.0000 - val_output_3_false_negatives_1: 372.0000 - val_output_3_false_positives_1: 197.0000\n",
      "Epoch 12/20\n",
      "4607/4607 [==============================] - 506s 110ms/step - loss: 4.9619 - output_1_loss: 3.6354e-05 - output_2_loss: 0.0629 - output_3_loss: 0.0218 - output_4_loss: 4.7491 - output_3_precision_1: 0.9023 - output_3_recall_1: 0.6878 - output_3_true_negatives_1: 124260208.0000 - output_3_true_positives_1: 185131.0000 - output_3_false_negatives_1: 84052.0000 - output_3_false_positives_1: 20040.0000 - val_loss: 1.0941 - val_output_1_loss: 0.0000e+00 - val_output_2_loss: 0.0573 - val_output_3_loss: 0.0048 - val_output_4_loss: 0.9600 - val_output_3_precision_1: 0.9810 - val_output_3_recall_1: 0.9704 - val_output_3_true_negatives_1: 5057999.0000 - val_output_3_true_positives_1: 11431.0000 - val_output_3_false_negatives_1: 349.0000 - val_output_3_false_positives_1: 221.0000\n",
      "Epoch 13/20\n",
      "4607/4607 [==============================] - 502s 109ms/step - loss: 4.9007 - output_1_loss: 1.8678e-07 - output_2_loss: 0.0627 - output_3_loss: 0.0215 - output_4_loss: 4.6894 - output_3_precision_1: 0.9053 - output_3_recall_1: 0.6929 - output_3_true_negatives_1: 124260928.0000 - output_3_true_positives_1: 186462.0000 - output_3_false_negatives_1: 82626.0000 - output_3_false_positives_1: 19494.0000 - val_loss: 1.0629 - val_output_1_loss: 0.0000e+00 - val_output_2_loss: 0.0571 - val_output_3_loss: 0.0047 - val_output_4_loss: 0.9298 - val_output_3_precision_1: 0.9818 - val_output_3_recall_1: 0.9694 - val_output_3_true_negatives_1: 5058008.0000 - val_output_3_true_positives_1: 11419.0000 - val_output_3_false_negatives_1: 361.0000 - val_output_3_false_positives_1: 212.0000\n",
      "Epoch 14/20\n",
      "4607/4607 [==============================] - 493s 107ms/step - loss: 4.9585 - output_1_loss: 8.3477e-07 - output_2_loss: 0.0629 - output_3_loss: 0.0219 - output_4_loss: 4.7453 - output_3_precision_1: 0.9030 - output_3_recall_1: 0.6881 - output_3_true_negatives_1: 124260432.0000 - output_3_true_positives_1: 185154.0000 - output_3_false_negatives_1: 83941.0000 - output_3_false_positives_1: 19886.0000 - val_loss: 1.0823 - val_output_1_loss: 0.0000e+00 - val_output_2_loss: 0.0569 - val_output_3_loss: 0.0048 - val_output_4_loss: 0.9494 - val_output_3_precision_1: 0.9827 - val_output_3_recall_1: 0.9695 - val_output_3_true_negatives_1: 5058019.0000 - val_output_3_true_positives_1: 11421.0000 - val_output_3_false_negatives_1: 359.0000 - val_output_3_false_positives_1: 201.0000\n",
      "Epoch 15/20\n",
      "4607/4607 [==============================] - 483s 105ms/step - loss: 4.9390 - output_1_loss: 0.0000e+00 - output_2_loss: 0.0621 - output_3_loss: 0.0217 - output_4_loss: 4.7279 - output_3_precision_1: 0.9041 - output_3_recall_1: 0.6894 - output_3_true_negatives_1: 124260816.0000 - output_3_true_positives_1: 185537.0000 - output_3_false_negatives_1: 83588.0000 - output_3_false_positives_1: 19670.0000 - val_loss: 1.0348 - val_output_1_loss: 0.0000e+00 - val_output_2_loss: 0.0566 - val_output_3_loss: 0.0046 - val_output_4_loss: 0.9032 - val_output_3_precision_1: 0.9842 - val_output_3_recall_1: 0.9696 - val_output_3_true_negatives_1: 5058037.0000 - val_output_3_true_positives_1: 11422.0000 - val_output_3_false_negatives_1: 358.0000 - val_output_3_false_positives_1: 183.0000\n",
      "Epoch 16/20\n",
      "4607/4607 [==============================] - 473s 103ms/step - loss: 4.8460 - output_1_loss: 1.2326e-07 - output_2_loss: 0.0626 - output_3_loss: 0.0214 - output_4_loss: 4.6355 - output_3_precision_1: 0.9065 - output_3_recall_1: 0.6950 - output_3_true_negatives_1: 124261168.0000 - output_3_true_positives_1: 187030.0000 - output_3_false_negatives_1: 82088.0000 - output_3_false_positives_1: 19291.0000 - val_loss: 1.0305 - val_output_1_loss: 0.0000e+00 - val_output_2_loss: 0.0570 - val_output_3_loss: 0.0045 - val_output_4_loss: 0.8984 - val_output_3_precision_1: 0.9841 - val_output_3_recall_1: 0.9702 - val_output_3_true_negatives_1: 5058035.0000 - val_output_3_true_positives_1: 11429.0000 - val_output_3_false_negatives_1: 351.0000 - val_output_3_false_positives_1: 185.0000\n",
      "Epoch 17/20\n",
      "4607/4607 [==============================] - 468s 102ms/step - loss: 4.8388 - output_1_loss: 3.5720e-06 - output_2_loss: 0.0622 - output_3_loss: 0.0211 - output_4_loss: 4.6298 - output_3_precision_1: 0.9065 - output_3_recall_1: 0.6950 - output_3_true_negatives_1: 124261176.0000 - output_3_true_positives_1: 187025.0000 - output_3_false_negatives_1: 82075.0000 - output_3_false_positives_1: 19295.0000 - val_loss: 1.0464 - val_output_1_loss: 0.0000e+00 - val_output_2_loss: 0.0566 - val_output_3_loss: 0.0046 - val_output_4_loss: 0.9148 - val_output_3_precision_1: 0.9848 - val_output_3_recall_1: 0.9747 - val_output_3_true_negatives_1: 5058043.0000 - val_output_3_true_positives_1: 11482.0000 - val_output_3_false_negatives_1: 298.0000 - val_output_3_false_positives_1: 177.0000\n",
      "Epoch 18/20\n",
      "4607/4607 [==============================] - 452s 98ms/step - loss: 4.8707 - output_1_loss: 1.0988e-06 - output_2_loss: 0.0621 - output_3_loss: 0.0214 - output_4_loss: 4.6607 - output_3_precision_1: 0.9064 - output_3_recall_1: 0.6937 - output_3_true_negatives_1: 124261232.0000 - output_3_true_positives_1: 186726.0000 - output_3_false_negatives_1: 82443.0000 - output_3_false_positives_1: 19276.0000 - val_loss: 0.9956 - val_output_1_loss: 0.0000e+00 - val_output_2_loss: 0.0568 - val_output_3_loss: 0.0044 - val_output_4_loss: 0.8645 - val_output_3_precision_1: 0.9873 - val_output_3_recall_1: 0.9728 - val_output_3_true_negatives_1: 5058072.0000 - val_output_3_true_positives_1: 11460.0000 - val_output_3_false_negatives_1: 320.0000 - val_output_3_false_positives_1: 148.0000\n",
      "Epoch 19/20\n",
      "4607/4607 [==============================] - 496s 108ms/step - loss: 4.8321 - output_1_loss: 3.8391e-08 - output_2_loss: 0.0619 - output_3_loss: 0.0212 - output_4_loss: 4.6235 - output_3_precision_1: 0.9061 - output_3_recall_1: 0.6953 - output_3_true_negatives_1: 124261192.0000 - output_3_true_positives_1: 187144.0000 - output_3_false_negatives_1: 82021.0000 - output_3_false_positives_1: 19395.0000 - val_loss: 0.9900 - val_output_1_loss: 0.0000e+00 - val_output_2_loss: 0.0568 - val_output_3_loss: 0.0043 - val_output_4_loss: 0.8591 - val_output_3_precision_1: 0.9837 - val_output_3_recall_1: 0.9761 - val_output_3_true_negatives_1: 5058030.0000 - val_output_3_true_positives_1: 11498.0000 - val_output_3_false_negatives_1: 282.0000 - val_output_3_false_positives_1: 190.0000\n",
      "Epoch 20/20\n",
      "4607/4607 [==============================] - 518s 112ms/step - loss: 4.8800 - output_1_loss: 0.0000e+00 - output_2_loss: 0.0620 - output_3_loss: 0.0215 - output_4_loss: 4.6699 - output_3_precision_1: 0.9065 - output_3_recall_1: 0.6929 - output_3_true_negatives_1: 124261264.0000 - output_3_true_positives_1: 186510.0000 - output_3_false_negatives_1: 82667.0000 - output_3_false_positives_1: 19235.0000 - val_loss: 1.0059 - val_output_1_loss: 0.0000e+00 - val_output_2_loss: 0.0565 - val_output_3_loss: 0.0044 - val_output_4_loss: 0.8752 - val_output_3_precision_1: 0.9842 - val_output_3_recall_1: 0.9776 - val_output_3_true_negatives_1: 5058035.0000 - val_output_3_true_positives_1: 11516.0000 - val_output_3_false_negatives_1: 264.0000 - val_output_3_false_positives_1: 185.0000\n"
     ]
    }
   ],
   "source": [
    "history3 = model.fit(train_dataset, epochs=20,validation_data=val_dataset)"
   ]
  },
  {
   "cell_type": "code",
   "execution_count": null,
   "metadata": {},
   "outputs": [],
   "source": []
  },
  {
   "cell_type": "code",
   "execution_count": null,
   "metadata": {},
   "outputs": [],
   "source": []
  },
  {
   "cell_type": "code",
   "execution_count": 15,
   "metadata": {},
   "outputs": [],
   "source": [
    "os.chdir(\"/home/sergio/Documents/json_experiments\")\n",
    "import json\n",
    "#json.dumps(str(a))\n",
    "with open('history_finetuning_1241_60_80_epoch_nadam_0dot0001_msle.json', 'w') as fp:\n",
    "    json.dump(str(history3.history), fp)"
   ]
  },
  {
   "cell_type": "code",
   "execution_count": 16,
   "metadata": {},
   "outputs": [],
   "source": [
    "model.save_weights('/home/sergio/Documents/weights_saved/pesos_60_80_epochs_nadam_1_2_4_1_0dot0001_msle')"
   ]
  },
  {
   "cell_type": "code",
   "execution_count": null,
   "metadata": {},
   "outputs": [],
   "source": []
  },
  {
   "cell_type": "code",
   "execution_count": null,
   "metadata": {},
   "outputs": [],
   "source": []
  },
  {
   "cell_type": "markdown",
   "metadata": {},
   "source": [
    "## Continuación de entrenamiento con msle moviendo los pesos a 1441, con lr 0.0001"
   ]
  },
  {
   "cell_type": "code",
   "execution_count": 6,
   "metadata": {},
   "outputs": [
    {
     "name": "stdout",
     "output_type": "stream",
     "text": [
      "Pesos de la convolucion (432,)\n",
      "CONV SHAPE (16, 3, 3, 3)\n",
      "Pesos de la convolucion (4608,)\n",
      "CONV SHAPE (32, 16, 3, 3)\n",
      "Pesos de la convolucion (18432,)\n",
      "CONV SHAPE (64, 32, 3, 3)\n",
      "Pesos de la convolucion (73728,)\n",
      "CONV SHAPE (128, 64, 3, 3)\n",
      "Pesos de la convolucion (294912,)\n",
      "CONV SHAPE (256, 128, 3, 3)\n",
      "Pesos de la convolucion (1179648,)\n",
      "CONV SHAPE (512, 256, 3, 3)\n",
      "Pesos de la convolucion (4718592,)\n",
      "CONV SHAPE (1024, 512, 3, 3)\n",
      "Pesos de la convolucion (262144,)\n",
      "CONV SHAPE (256, 1024, 1, 1)\n",
      "Pesos de la convolucion (1179648,)\n",
      "CONV SHAPE (512, 256, 3, 3)\n",
      "Pesos de la convolucion (130560,)\n",
      "CONV SHAPE (255, 512, 1, 1)\n",
      "Pesos de la convolucion (32768,)\n",
      "CONV SHAPE (128, 256, 1, 1)\n",
      "Pesos de la convolucion (884736,)\n",
      "CONV SHAPE (256, 384, 3, 3)\n",
      "Pesos de la convolucion (65280,)\n",
      "CONV SHAPE (255, 256, 1, 1)\n",
      "8858734\n"
     ]
    },
    {
     "data": {
      "text/plain": [
       "<tensorflow.python.training.tracking.util.CheckpointLoadStatus at 0x7f953cbc7ef0>"
      ]
     },
     "execution_count": 6,
     "metadata": {},
     "output_type": "execute_result"
    }
   ],
   "source": [
    "anchors =tf.constant(np.array([[0.026,0.062],[0.067,0.183],[0.128,0.323],[0.343,0.650]]),dtype=tf.float32)\n",
    "model = TinyYOLOv3(1,anchor_boxes=anchors,train=True,mode = \"finetuning\")\n",
    "model.build(batch_input_shape=(None,416,416,3))\n",
    "print(model.load_weights_darknet(\"/home/sergio/TinyYOLOv3-Pedestrian-Detection/yolov3-tiny.weights\"))\n",
    "model.load_weights('/home/sergio/Documents/weights_saved/pesos_60_80_epochs_nadam_1_2_4_1_0dot0001_msle')"
   ]
  },
  {
   "cell_type": "code",
   "execution_count": 7,
   "metadata": {},
   "outputs": [],
   "source": [
    "os.chdir(\"/home/sergio/Documents/pedestrian_dataset_train_tfr\")"
   ]
  },
  {
   "cell_type": "code",
   "execution_count": 8,
   "metadata": {},
   "outputs": [
    {
     "name": "stdout",
     "output_type": "stream",
     "text": [
      "BasicBlock1 True\n",
      "BasicBlock2 True\n",
      "BasicBlock3 True\n",
      "BasicBlock4 True\n",
      "BasicBlock5 True\n",
      "BasicBlock6 True\n",
      "BasicBlock7 True\n",
      "BasicBlock8 True\n",
      "BasicBlock9 True\n",
      "FinalBlock1 True\n",
      "BasicBlock11 True\n",
      "BasicBlock12 True\n",
      "FinalBlock2 True\n",
      "Concatenate True\n",
      "Upsampling True\n",
      "Prediction1 True\n",
      "Prediction2 True\n",
      "Concatenate_BBOX True\n"
     ]
    }
   ],
   "source": [
    "for l in model.layers:\n",
    "    print(l.name, l.trainable)\n",
    "    pass"
   ]
  },
  {
   "cell_type": "code",
   "execution_count": 9,
   "metadata": {},
   "outputs": [],
   "source": [
    "tf.random.set_seed(0)\n",
    "\n",
    "from tensorflow.keras.metrics import TrueNegatives,TruePositives,FalseNegatives,FalsePositives,Precision,Recall\n",
    "\n",
    "opt = tf.keras.optimizers.Nadam(learning_rate=0.0001)\n",
    "\n",
    "losses = {\"output_1\": loss_xy,\n",
    "          \"output_2\": loss_wh,\n",
    "          \"output_3\":loss_objectness,\n",
    "          \"output_4\":loss_no_objectness  \n",
    "}\n",
    "\n",
    "metrics = {\"output_3\":[Precision(),Recall(),TrueNegatives(),TruePositives(),FalseNegatives(),FalsePositives()]}\n",
    "model.compile(optimizer=opt, loss=losses,metrics=metrics,loss_weights=[1,4,4,1])\n",
    "os.chdir(\"/home/sergio/Documents/pedestrian_dataset_train_tfr\")"
   ]
  },
  {
   "cell_type": "code",
   "execution_count": 10,
   "metadata": {},
   "outputs": [
    {
     "name": "stdout",
     "output_type": "stream",
     "text": [
      "Epoch 1/20\n",
      "4607/4607 [==============================] - 541s 118ms/step - loss: 4.9830 - output_1_loss: 2.3880e-07 - output_2_loss: 0.0623 - output_3_loss: 0.0213 - output_4_loss: 4.6486 - output_3_precision: 0.9059 - output_3_recall: 0.6939 - output_3_true_negatives: 124261088.0000 - output_3_true_positives: 186691.0000 - output_3_false_negatives: 82348.0000 - output_3_false_positives: 19384.0000 - val_loss: 1.0454 - val_output_1_loss: 0.0000e+00 - val_output_2_loss: 0.0556 - val_output_3_loss: 0.0041 - val_output_4_loss: 0.8065 - val_output_3_precision: 0.9866 - val_output_3_recall: 0.9771 - val_output_3_true_negatives: 5058064.0000 - val_output_3_true_positives: 11510.0000 - val_output_3_false_negatives: 270.0000 - val_output_3_false_positives: 156.0000\n",
      "Epoch 2/20\n",
      "4607/4607 [==============================] - 542s 118ms/step - loss: 4.9659 - output_1_loss: 9.3114e-07 - output_2_loss: 0.0620 - output_3_loss: 0.0214 - output_4_loss: 4.6325 - output_3_precision: 0.9060 - output_3_recall: 0.6954 - output_3_true_negatives: 124260832.0000 - output_3_true_positives: 187184.0000 - output_3_false_negatives: 81975.0000 - output_3_false_positives: 19411.0000 - val_loss: 1.0593 - val_output_1_loss: 0.0000e+00 - val_output_2_loss: 0.0559 - val_output_3_loss: 0.0041 - val_output_4_loss: 0.8193 - val_output_3_precision: 0.9891 - val_output_3_recall: 0.9744 - val_output_3_true_negatives: 5058093.0000 - val_output_3_true_positives: 11478.0000 - val_output_3_false_negatives: 302.0000 - val_output_3_false_positives: 127.0000\n",
      "Epoch 3/20\n",
      "4607/4607 [==============================] - 512s 111ms/step - loss: 4.9631 - output_1_loss: 1.1797e-06 - output_2_loss: 0.0614 - output_3_loss: 0.0213 - output_4_loss: 4.6323 - output_3_precision: 0.9051 - output_3_recall: 0.6943 - output_3_true_negatives: 124261064.0000 - output_3_true_positives: 186802.0000 - output_3_false_negatives: 82243.0000 - output_3_false_positives: 19582.0000 - val_loss: 1.0745 - val_output_1_loss: 0.0000e+00 - val_output_2_loss: 0.0557 - val_output_3_loss: 0.0042 - val_output_4_loss: 0.8348 - val_output_3_precision: 0.9855 - val_output_3_recall: 0.9796 - val_output_3_true_negatives: 5058050.0000 - val_output_3_true_positives: 11540.0000 - val_output_3_false_negatives: 240.0000 - val_output_3_false_positives: 170.0000\n",
      "Epoch 4/20\n",
      "4607/4607 [==============================] - 513s 111ms/step - loss: 4.8962 - output_1_loss: 0.0000e+00 - output_2_loss: 0.0612 - output_3_loss: 0.0208 - output_4_loss: 4.5682 - output_3_precision: 0.9075 - output_3_recall: 0.7004 - output_3_true_negatives: 124261024.0000 - output_3_true_positives: 188587.0000 - output_3_false_negatives: 80653.0000 - output_3_false_positives: 19214.0000 - val_loss: 1.0521 - val_output_1_loss: 0.0000e+00 - val_output_2_loss: 0.0556 - val_output_3_loss: 0.0041 - val_output_4_loss: 0.8133 - val_output_3_precision: 0.9875 - val_output_3_recall: 0.9771 - val_output_3_true_negatives: 5058074.0000 - val_output_3_true_positives: 11510.0000 - val_output_3_false_negatives: 270.0000 - val_output_3_false_positives: 146.0000\n",
      "Epoch 5/20\n",
      "4607/4607 [==============================] - 502s 109ms/step - loss: 4.9550 - output_1_loss: 2.4863e-08 - output_2_loss: 0.0613 - output_3_loss: 0.0213 - output_4_loss: 4.6243 - output_3_precision: 0.9066 - output_3_recall: 0.6968 - output_3_true_negatives: 124261200.0000 - output_3_true_positives: 187500.0000 - output_3_false_negatives: 81605.0000 - output_3_false_positives: 19310.0000 - val_loss: 1.0336 - val_output_1_loss: 0.0000e+00 - val_output_2_loss: 0.0553 - val_output_3_loss: 0.0040 - val_output_4_loss: 0.7963 - val_output_3_precision: 0.9870 - val_output_3_recall: 0.9790 - val_output_3_true_negatives: 5058068.0000 - val_output_3_true_positives: 11533.0000 - val_output_3_false_negatives: 247.0000 - val_output_3_false_positives: 152.0000\n",
      "Epoch 6/20\n",
      "4607/4607 [==============================] - 528s 115ms/step - loss: 4.9109 - output_1_loss: 9.2315e-07 - output_2_loss: 0.0614 - output_3_loss: 0.0211 - output_4_loss: 4.5809 - output_3_precision: 0.9075 - output_3_recall: 0.6984 - output_3_true_negatives: 124261400.0000 - output_3_true_positives: 187926.0000 - output_3_false_negatives: 81162.0000 - output_3_false_positives: 19147.0000 - val_loss: 1.0467 - val_output_1_loss: 0.0000e+00 - val_output_2_loss: 0.0553 - val_output_3_loss: 0.0040 - val_output_4_loss: 0.8092 - val_output_3_precision: 0.9888 - val_output_3_recall: 0.9761 - val_output_3_true_negatives: 5058090.0000 - val_output_3_true_positives: 11499.0000 - val_output_3_false_negatives: 281.0000 - val_output_3_false_positives: 130.0000\n",
      "Epoch 7/20\n",
      "4607/4607 [==============================] - 550s 119ms/step - loss: 4.8784 - output_1_loss: 5.3028e-07 - output_2_loss: 0.0611 - output_3_loss: 0.0208 - output_4_loss: 4.5508 - output_3_precision: 0.9081 - output_3_recall: 0.6996 - output_3_true_negatives: 124261520.0000 - output_3_true_positives: 188246.0000 - output_3_false_negatives: 80819.0000 - output_3_false_positives: 19050.0000 - val_loss: 1.0150 - val_output_1_loss: 0.0000e+00 - val_output_2_loss: 0.0551 - val_output_3_loss: 0.0039 - val_output_4_loss: 0.7791 - val_output_3_precision: 0.9871 - val_output_3_recall: 0.9796 - val_output_3_true_negatives: 5058069.0000 - val_output_3_true_positives: 11540.0000 - val_output_3_false_negatives: 240.0000 - val_output_3_false_positives: 151.0000\n",
      "Epoch 8/20\n",
      "4607/4607 [==============================] - 519s 113ms/step - loss: 4.8988 - output_1_loss: 7.2665e-10 - output_2_loss: 0.0611 - output_3_loss: 0.0211 - output_4_loss: 4.5704 - output_3_precision: 0.9082 - output_3_recall: 0.6987 - output_3_true_negatives: 124261536.0000 - output_3_true_positives: 188093.0000 - output_3_false_negatives: 81094.0000 - output_3_false_positives: 19002.0000 - val_loss: 1.0170 - val_output_1_loss: 0.0000e+00 - val_output_2_loss: 0.0550 - val_output_3_loss: 0.0039 - val_output_4_loss: 0.7814 - val_output_3_precision: 0.9856 - val_output_3_recall: 0.9793 - val_output_3_true_negatives: 5058051.0000 - val_output_3_true_positives: 11536.0000 - val_output_3_false_negatives: 244.0000 - val_output_3_false_positives: 169.0000\n",
      "Epoch 9/20\n",
      "4607/4607 [==============================] - 555s 120ms/step - loss: 4.8883 - output_1_loss: 5.8717e-07 - output_2_loss: 0.0610 - output_3_loss: 0.0209 - output_4_loss: 4.5607 - output_3_precision: 0.9095 - output_3_recall: 0.7011 - output_3_true_negatives: 124261704.0000 - output_3_true_positives: 188672.0000 - output_3_false_negatives: 80424.0000 - output_3_false_positives: 18777.0000 - val_loss: 1.0383 - val_output_1_loss: 0.0000e+00 - val_output_2_loss: 0.0549 - val_output_3_loss: 0.0040 - val_output_4_loss: 0.8028 - val_output_3_precision: 0.9877 - val_output_3_recall: 0.9778 - val_output_3_true_negatives: 5058077.0000 - val_output_3_true_positives: 11518.0000 - val_output_3_false_negatives: 262.0000 - val_output_3_false_positives: 143.0000\n",
      "Epoch 10/20\n",
      "4607/4607 [==============================] - 541s 117ms/step - loss: 4.9007 - output_1_loss: 0.0000e+00 - output_2_loss: 0.0611 - output_3_loss: 0.0209 - output_4_loss: 4.5727 - output_3_precision: 0.9075 - output_3_recall: 0.6983 - output_3_true_negatives: 124261096.0000 - output_3_true_positives: 187949.0000 - output_3_false_negatives: 81220.0000 - output_3_false_positives: 19158.0000 - val_loss: 1.0243 - val_output_1_loss: 0.0000e+00 - val_output_2_loss: 0.0543 - val_output_3_loss: 0.0040 - val_output_4_loss: 0.7911 - val_output_3_precision: 0.9872 - val_output_3_recall: 0.9801 - val_output_3_true_negatives: 5058070.0000 - val_output_3_true_positives: 11545.0000 - val_output_3_false_negatives: 235.0000 - val_output_3_false_positives: 150.0000\n",
      "Epoch 11/20\n",
      "4607/4607 [==============================] - 513s 111ms/step - loss: 4.8333 - output_1_loss: 0.0000e+00 - output_2_loss: 0.0606 - output_3_loss: 0.0206 - output_4_loss: 4.5084 - output_3_precision: 0.9092 - output_3_recall: 0.7033 - output_3_true_negatives: 124261768.0000 - output_3_true_positives: 189262.0000 - output_3_false_negatives: 79828.0000 - output_3_false_positives: 18904.0000 - val_loss: 1.0229 - val_output_1_loss: 0.0000e+00 - val_output_2_loss: 0.0548 - val_output_3_loss: 0.0040 - val_output_4_loss: 0.7877 - val_output_3_precision: 0.9871 - val_output_3_recall: 0.9793 - val_output_3_true_negatives: 5058069.0000 - val_output_3_true_positives: 11536.0000 - val_output_3_false_negatives: 244.0000 - val_output_3_false_positives: 151.0000\n",
      "Epoch 12/20\n",
      "4607/4607 [==============================] - 514s 112ms/step - loss: 4.8693 - output_1_loss: 0.0000e+00 - output_2_loss: 0.0606 - output_3_loss: 0.0208 - output_4_loss: 4.5438 - output_3_precision: 0.9086 - output_3_recall: 0.7007 - output_3_true_negatives: 124261528.0000 - output_3_true_positives: 188506.0000 - output_3_false_negatives: 80525.0000 - output_3_false_positives: 18959.0000 - val_loss: 1.0466 - val_output_1_loss: 0.0000e+00 - val_output_2_loss: 0.0542 - val_output_3_loss: 0.0040 - val_output_4_loss: 0.8139 - val_output_3_precision: 0.9887 - val_output_3_recall: 0.9785 - val_output_3_true_negatives: 5058088.0000 - val_output_3_true_positives: 11527.0000 - val_output_3_false_negatives: 253.0000 - val_output_3_false_positives: 132.0000\n",
      "Epoch 13/20\n",
      "4607/4607 [==============================] - 505s 110ms/step - loss: 4.8484 - output_1_loss: 0.0000e+00 - output_2_loss: 0.0604 - output_3_loss: 0.0208 - output_4_loss: 4.5237 - output_3_precision: 0.9093 - output_3_recall: 0.7017 - output_3_true_negatives: 124261552.0000 - output_3_true_positives: 188784.0000 - output_3_false_negatives: 80267.0000 - output_3_false_positives: 18839.0000 - val_loss: 1.0197 - val_output_1_loss: 0.0000e+00 - val_output_2_loss: 0.0540 - val_output_3_loss: 0.0040 - val_output_4_loss: 0.7878 - val_output_3_precision: 0.9864 - val_output_3_recall: 0.9797 - val_output_3_true_negatives: 5058061.0000 - val_output_3_true_positives: 11541.0000 - val_output_3_false_negatives: 239.0000 - val_output_3_false_positives: 159.0000\n",
      "Epoch 14/20\n",
      "4607/4607 [==============================] - 496s 108ms/step - loss: 4.8582 - output_1_loss: 0.0000e+00 - output_2_loss: 0.0608 - output_3_loss: 0.0209 - output_4_loss: 4.5313 - output_3_precision: 0.9095 - output_3_recall: 0.7009 - output_3_true_negatives: 124261696.0000 - output_3_true_positives: 188618.0000 - output_3_false_negatives: 80486.0000 - output_3_false_positives: 18776.0000 - val_loss: 0.9974 - val_output_1_loss: 0.0000e+00 - val_output_2_loss: 0.0539 - val_output_3_loss: 0.0038 - val_output_4_loss: 0.7663 - val_output_3_precision: 0.9867 - val_output_3_recall: 0.9793 - val_output_3_true_negatives: 5058064.0000 - val_output_3_true_positives: 11536.0000 - val_output_3_false_negatives: 244.0000 - val_output_3_false_positives: 156.0000\n",
      "Epoch 15/20\n",
      "4607/4607 [==============================] - 482s 105ms/step - loss: 4.8737 - output_1_loss: 1.1642e-08 - output_2_loss: 0.0603 - output_3_loss: 0.0210 - output_4_loss: 4.5487 - output_3_precision: 0.9093 - output_3_recall: 0.6995 - output_3_true_negatives: 124261632.0000 - output_3_true_positives: 188277.0000 - output_3_false_negatives: 80882.0000 - output_3_false_positives: 18777.0000 - val_loss: 0.9897 - val_output_1_loss: 0.0000e+00 - val_output_2_loss: 0.0537 - val_output_3_loss: 0.0038 - val_output_4_loss: 0.7597 - val_output_3_precision: 0.9887 - val_output_3_recall: 0.9785 - val_output_3_true_negatives: 5058088.0000 - val_output_3_true_positives: 11527.0000 - val_output_3_false_negatives: 253.0000 - val_output_3_false_positives: 132.0000\n",
      "Epoch 16/20\n",
      "4607/4607 [==============================] - 485s 105ms/step - loss: 4.8516 - output_1_loss: 2.5589e-06 - output_2_loss: 0.0605 - output_3_loss: 0.0208 - output_4_loss: 4.5264 - output_3_precision: 0.9079 - output_3_recall: 0.7005 - output_3_true_negatives: 124261336.0000 - output_3_true_positives: 188587.0000 - output_3_false_negatives: 80616.0000 - output_3_false_positives: 19120.0000 - val_loss: 0.9810 - val_output_1_loss: 0.0000e+00 - val_output_2_loss: 0.0536 - val_output_3_loss: 0.0038 - val_output_4_loss: 0.7513 - val_output_3_precision: 0.9876 - val_output_3_recall: 0.9819 - val_output_3_true_negatives: 5058075.0000 - val_output_3_true_positives: 11567.0000 - val_output_3_false_negatives: 213.0000 - val_output_3_false_positives: 145.0000\n",
      "Epoch 17/20\n",
      "4607/4607 [==============================] - 470s 102ms/step - loss: 4.8024 - output_1_loss: 0.0000e+00 - output_2_loss: 0.0600 - output_3_loss: 0.0206 - output_4_loss: 4.4801 - output_3_precision: 0.9089 - output_3_recall: 0.7041 - output_3_true_negatives: 124261336.0000 - output_3_true_positives: 189440.0000 - output_3_false_negatives: 79624.0000 - output_3_false_positives: 18987.0000 - val_loss: 1.0048 - val_output_1_loss: 0.0000e+00 - val_output_2_loss: 0.0540 - val_output_3_loss: 0.0038 - val_output_4_loss: 0.7735 - val_output_3_precision: 0.9899 - val_output_3_recall: 0.9770 - val_output_3_true_negatives: 5058102.0000 - val_output_3_true_positives: 11509.0000 - val_output_3_false_negatives: 271.0000 - val_output_3_false_positives: 118.0000\n",
      "Epoch 18/20\n",
      "4607/4607 [==============================] - 464s 101ms/step - loss: 4.8691 - output_1_loss: 4.4616e-06 - output_2_loss: 0.0600 - output_3_loss: 0.0211 - output_4_loss: 4.5447 - output_3_precision: 0.9090 - output_3_recall: 0.6997 - output_3_true_negatives: 124261600.0000 - output_3_true_positives: 188351.0000 - output_3_false_negatives: 80844.0000 - output_3_false_positives: 18845.0000 - val_loss: 0.9615 - val_output_1_loss: 0.0000e+00 - val_output_2_loss: 0.0535 - val_output_3_loss: 0.0037 - val_output_4_loss: 0.7328 - val_output_3_precision: 0.9897 - val_output_3_recall: 0.9778 - val_output_3_true_negatives: 5058100.0000 - val_output_3_true_positives: 11518.0000 - val_output_3_false_negatives: 262.0000 - val_output_3_false_positives: 120.0000\n",
      "Epoch 19/20\n",
      "4607/4607 [==============================] - 443s 96ms/step - loss: 4.7976 - output_1_loss: 4.6261e-06 - output_2_loss: 0.0596 - output_3_loss: 0.0205 - output_4_loss: 4.4772 - output_3_precision: 0.9094 - output_3_recall: 0.7051 - output_3_true_negatives: 124261640.0000 - output_3_true_positives: 189732.0000 - output_3_false_negatives: 79372.0000 - output_3_false_positives: 18901.0000 - val_loss: 0.9512 - val_output_1_loss: 0.0000e+00 - val_output_2_loss: 0.0532 - val_output_3_loss: 0.0036 - val_output_4_loss: 0.7238 - val_output_3_precision: 0.9895 - val_output_3_recall: 0.9806 - val_output_3_true_negatives: 5058098.0000 - val_output_3_true_positives: 11552.0000 - val_output_3_false_negatives: 228.0000 - val_output_3_false_positives: 122.0000\n",
      "Epoch 20/20\n",
      "4607/4607 [==============================] - 424s 92ms/step - loss: 4.8235 - output_1_loss: 1.0586e-05 - output_2_loss: 0.0600 - output_3_loss: 0.0206 - output_4_loss: 4.5011 - output_3_precision: 0.9086 - output_3_recall: 0.7028 - output_3_true_negatives: 124261600.0000 - output_3_true_positives: 189109.0000 - output_3_false_negatives: 79974.0000 - output_3_false_positives: 19025.0000 - val_loss: 0.9590 - val_output_1_loss: 0.0000e+00 - val_output_2_loss: 0.0531 - val_output_3_loss: 0.0036 - val_output_4_loss: 0.7320 - val_output_3_precision: 0.9912 - val_output_3_recall: 0.9802 - val_output_3_true_negatives: 5058118.0000 - val_output_3_true_positives: 11547.0000 - val_output_3_false_negatives: 233.0000 - val_output_3_false_positives: 102.0000\n"
     ]
    }
   ],
   "source": [
    "history4 = model.fit(train_dataset, epochs=20,validation_data=val_dataset)"
   ]
  },
  {
   "cell_type": "code",
   "execution_count": null,
   "metadata": {},
   "outputs": [],
   "source": []
  },
  {
   "cell_type": "code",
   "execution_count": 13,
   "metadata": {},
   "outputs": [],
   "source": [
    "os.chdir(\"/home/sergio/Documents/json_experiments\")\n",
    "import json\n",
    "#json.dumps(str(a))\n",
    "with open('history_finetuning_1441_80_100_epoch_nadam_0dot0001_msle.json', 'w') as fp:\n",
    "    json.dump(str(history4.history), fp)"
   ]
  },
  {
   "cell_type": "code",
   "execution_count": 14,
   "metadata": {},
   "outputs": [],
   "source": [
    "model.save_weights('/home/sergio/Documents/weights_saved/pesos_80_100_epochs_nadam_1_4_4_1_0dot0001_msle')"
   ]
  },
  {
   "cell_type": "code",
   "execution_count": null,
   "metadata": {},
   "outputs": [],
   "source": []
  },
  {
   "cell_type": "code",
   "execution_count": null,
   "metadata": {},
   "outputs": [],
   "source": []
  },
  {
   "cell_type": "code",
   "execution_count": 15,
   "metadata": {},
   "outputs": [],
   "source": [
    "tf.random.set_seed(0)\n",
    "\n",
    "from tensorflow.keras.metrics import TrueNegatives,TruePositives,FalseNegatives,FalsePositives,Precision,Recall\n",
    "\n",
    "opt = tf.keras.optimizers.Nadam(learning_rate=0.00001)\n",
    "\n",
    "losses = {\"output_1\": loss_xy,\n",
    "          \"output_2\": loss_wh,\n",
    "          \"output_3\":loss_objectness,\n",
    "          \"output_4\":loss_no_objectness  \n",
    "}\n",
    "\n",
    "metrics = {\"output_3\":[Precision(),Recall(),TrueNegatives(),TruePositives(),FalseNegatives(),FalsePositives()]}\n",
    "model.compile(optimizer=opt, loss=losses,metrics=metrics,loss_weights=[1,4,4,1])\n",
    "os.chdir(\"/home/sergio/Documents/pedestrian_dataset_train_tfr\")"
   ]
  },
  {
   "cell_type": "code",
   "execution_count": 16,
   "metadata": {},
   "outputs": [
    {
     "name": "stdout",
     "output_type": "stream",
     "text": [
      "Epoch 1/20\n",
      "4607/4607 [==============================] - 514s 111ms/step - loss: 4.8021 - output_1_loss: 1.3133e-05 - output_2_loss: 0.0589 - output_3_loss: 0.0206 - output_4_loss: 4.4838 - output_3_precision_1: 0.9096 - output_3_recall_1: 0.7023 - output_3_true_negatives_1: 124261792.0000 - output_3_true_positives_1: 188967.0000 - output_3_false_negatives_1: 80108.0000 - output_3_false_positives_1: 18773.0000 - val_loss: 0.9312 - val_output_1_loss: 0.0000e+00 - val_output_2_loss: 0.0527 - val_output_3_loss: 0.0035 - val_output_4_loss: 0.7062 - val_output_3_precision_1: 0.9917 - val_output_3_recall_1: 0.9820 - val_output_3_true_negatives_1: 5058123.0000 - val_output_3_true_positives_1: 11568.0000 - val_output_3_false_negatives_1: 212.0000 - val_output_3_false_positives_1: 97.0000\n",
      "Epoch 2/20\n",
      "4607/4607 [==============================] - 515s 112ms/step - loss: 4.7625 - output_1_loss: 0.0000e+00 - output_2_loss: 0.0586 - output_3_loss: 0.0204 - output_4_loss: 4.4464 - output_3_precision_1: 0.9106 - output_3_recall_1: 0.7060 - output_3_true_negatives_1: 124261744.0000 - output_3_true_positives_1: 190047.0000 - output_3_false_negatives_1: 79124.0000 - output_3_false_positives_1: 18659.0000 - val_loss: 0.9144 - val_output_1_loss: 0.0000e+00 - val_output_2_loss: 0.0526 - val_output_3_loss: 0.0034 - val_output_4_loss: 0.6903 - val_output_3_precision_1: 0.9927 - val_output_3_recall_1: 0.9812 - val_output_3_true_negatives_1: 5058135.0000 - val_output_3_true_positives_1: 11558.0000 - val_output_3_false_negatives_1: 222.0000 - val_output_3_false_positives_1: 85.0000\n",
      "Epoch 3/20\n",
      "4607/4607 [==============================] - 516s 112ms/step - loss: 4.7838 - output_1_loss: 2.8135e-06 - output_2_loss: 0.0589 - output_3_loss: 0.0206 - output_4_loss: 4.4660 - output_3_precision_1: 0.9097 - output_3_recall_1: 0.7043 - output_3_true_negatives_1: 124261640.0000 - output_3_true_positives_1: 189582.0000 - output_3_false_negatives_1: 79577.0000 - output_3_false_positives_1: 18821.0000 - val_loss: 0.9108 - val_output_1_loss: 0.0000e+00 - val_output_2_loss: 0.0524 - val_output_3_loss: 0.0034 - val_output_4_loss: 0.6874 - val_output_3_precision_1: 0.9927 - val_output_3_recall_1: 0.9814 - val_output_3_true_negatives_1: 5058135.0000 - val_output_3_true_positives_1: 11561.0000 - val_output_3_false_negatives_1: 219.0000 - val_output_3_false_positives_1: 85.0000\n",
      "Epoch 4/20\n",
      "4607/4607 [==============================] - 527s 114ms/step - loss: 4.7976 - output_1_loss: 0.0000e+00 - output_2_loss: 0.0591 - output_3_loss: 0.0206 - output_4_loss: 4.4789 - output_3_precision_1: 0.9106 - output_3_recall_1: 0.7029 - output_3_true_negatives_1: 124261880.0000 - output_3_true_positives_1: 189126.0000 - output_3_false_negatives_1: 79940.0000 - output_3_false_positives_1: 18577.0000 - val_loss: 0.9074 - val_output_1_loss: 0.0000e+00 - val_output_2_loss: 0.0524 - val_output_3_loss: 0.0034 - val_output_4_loss: 0.6840 - val_output_3_precision_1: 0.9922 - val_output_3_recall_1: 0.9817 - val_output_3_true_negatives_1: 5058129.0000 - val_output_3_true_positives_1: 11564.0000 - val_output_3_false_negatives_1: 216.0000 - val_output_3_false_positives_1: 91.0000\n",
      "Epoch 5/20\n",
      "4607/4607 [==============================] - 531s 115ms/step - loss: 4.7522 - output_1_loss: 0.0000e+00 - output_2_loss: 0.0589 - output_3_loss: 0.0204 - output_4_loss: 4.4353 - output_3_precision_1: 0.9097 - output_3_recall_1: 0.7047 - output_3_true_negatives_1: 124261728.0000 - output_3_true_positives_1: 189621.0000 - output_3_false_negatives_1: 79444.0000 - output_3_false_positives_1: 18813.0000 - val_loss: 0.9094 - val_output_1_loss: 0.0000e+00 - val_output_2_loss: 0.0524 - val_output_3_loss: 0.0034 - val_output_4_loss: 0.6861 - val_output_3_precision_1: 0.9924 - val_output_3_recall_1: 0.9819 - val_output_3_true_negatives_1: 5058132.0000 - val_output_3_true_positives_1: 11567.0000 - val_output_3_false_negatives_1: 213.0000 - val_output_3_false_positives_1: 88.0000\n",
      "Epoch 6/20\n",
      "4607/4607 [==============================] - 541s 117ms/step - loss: 4.7489 - output_1_loss: 0.0000e+00 - output_2_loss: 0.0589 - output_3_loss: 0.0203 - output_4_loss: 4.4323 - output_3_precision_1: 0.9103 - output_3_recall_1: 0.7063 - output_3_true_negatives_1: 124261656.0000 - output_3_true_positives_1: 190141.0000 - output_3_false_negatives_1: 79076.0000 - output_3_false_positives_1: 18733.0000 - val_loss: 0.8992 - val_output_1_loss: 0.0000e+00 - val_output_2_loss: 0.0522 - val_output_3_loss: 0.0034 - val_output_4_loss: 0.6768 - val_output_3_precision_1: 0.9924 - val_output_3_recall_1: 0.9827 - val_output_3_true_negatives_1: 5058131.0000 - val_output_3_true_positives_1: 11576.0000 - val_output_3_false_negatives_1: 204.0000 - val_output_3_false_positives_1: 89.0000\n",
      "Epoch 7/20\n",
      "4607/4607 [==============================] - 537s 117ms/step - loss: 4.7371 - output_1_loss: 0.0000e+00 - output_2_loss: 0.0587 - output_3_loss: 0.0202 - output_4_loss: 4.4216 - output_3_precision_1: 0.9119 - output_3_recall_1: 0.7068 - output_3_true_negatives_1: 124261848.0000 - output_3_true_positives_1: 190301.0000 - output_3_false_negatives_1: 78929.0000 - output_3_false_positives_1: 18393.0000 - val_loss: 0.8942 - val_output_1_loss: 0.0000e+00 - val_output_2_loss: 0.0522 - val_output_3_loss: 0.0033 - val_output_4_loss: 0.6719 - val_output_3_precision_1: 0.9925 - val_output_3_recall_1: 0.9834 - val_output_3_true_negatives_1: 5058133.0000 - val_output_3_true_positives_1: 11584.0000 - val_output_3_false_negatives_1: 196.0000 - val_output_3_false_positives_1: 87.0000\n",
      "Epoch 8/20\n",
      "4607/4607 [==============================] - 544s 118ms/step - loss: 4.7711 - output_1_loss: 0.0000e+00 - output_2_loss: 0.0589 - output_3_loss: 0.0205 - output_4_loss: 4.4538 - output_3_precision_1: 0.9097 - output_3_recall_1: 0.7047 - output_3_true_negatives_1: 124261488.0000 - output_3_true_positives_1: 189695.0000 - output_3_false_negatives_1: 79487.0000 - output_3_false_positives_1: 18833.0000 - val_loss: 0.9030 - val_output_1_loss: 0.0000e+00 - val_output_2_loss: 0.0522 - val_output_3_loss: 0.0034 - val_output_4_loss: 0.6805 - val_output_3_precision_1: 0.9920 - val_output_3_recall_1: 0.9828 - val_output_3_true_negatives_1: 5058127.0000 - val_output_3_true_positives_1: 11577.0000 - val_output_3_false_negatives_1: 203.0000 - val_output_3_false_positives_1: 93.0000\n",
      "Epoch 9/20\n",
      "4607/4607 [==============================] - 546s 118ms/step - loss: 4.7665 - output_1_loss: 3.5038e-07 - output_2_loss: 0.0590 - output_3_loss: 0.0204 - output_4_loss: 4.4490 - output_3_precision_1: 0.9104 - output_3_recall_1: 0.7036 - output_3_true_negatives_1: 124262064.0000 - output_3_true_positives_1: 189311.0000 - output_3_false_negatives_1: 79746.0000 - output_3_false_positives_1: 18642.0000 - val_loss: 0.8786 - val_output_1_loss: 0.0000e+00 - val_output_2_loss: 0.0521 - val_output_3_loss: 0.0033 - val_output_4_loss: 0.6570 - val_output_3_precision_1: 0.9931 - val_output_3_recall_1: 0.9829 - val_output_3_true_negatives_1: 5058139.0000 - val_output_3_true_positives_1: 11578.0000 - val_output_3_false_negatives_1: 202.0000 - val_output_3_false_positives_1: 81.0000\n",
      "Epoch 10/20\n",
      "4607/4607 [==============================] - 551s 120ms/step - loss: 4.7966 - output_1_loss: 0.0000e+00 - output_2_loss: 0.0586 - output_3_loss: 0.0206 - output_4_loss: 4.4795 - output_3_precision_1: 0.9093 - output_3_recall_1: 0.7026 - output_3_true_negatives_1: 124261552.0000 - output_3_true_positives_1: 189064.0000 - output_3_false_negatives_1: 80042.0000 - output_3_false_positives_1: 18857.0000 - val_loss: 0.9029 - val_output_1_loss: 0.0000e+00 - val_output_2_loss: 0.0521 - val_output_3_loss: 0.0034 - val_output_4_loss: 0.6808 - val_output_3_precision_1: 0.9927 - val_output_3_recall_1: 0.9842 - val_output_3_true_negatives_1: 5058135.0000 - val_output_3_true_positives_1: 11594.0000 - val_output_3_false_negatives_1: 186.0000 - val_output_3_false_positives_1: 85.0000\n",
      "Epoch 11/20\n",
      "4607/4607 [==============================] - 531s 115ms/step - loss: 4.7433 - output_1_loss: 0.0000e+00 - output_2_loss: 0.0589 - output_3_loss: 0.0204 - output_4_loss: 4.4263 - output_3_precision_1: 0.9110 - output_3_recall_1: 0.7072 - output_3_true_negatives_1: 124261952.0000 - output_3_true_positives_1: 190337.0000 - output_3_false_negatives_1: 78792.0000 - output_3_false_positives_1: 18604.0000 - val_loss: 0.8983 - val_output_1_loss: 0.0000e+00 - val_output_2_loss: 0.0522 - val_output_3_loss: 0.0034 - val_output_4_loss: 0.6762 - val_output_3_precision_1: 0.9925 - val_output_3_recall_1: 0.9831 - val_output_3_true_negatives_1: 5058133.0000 - val_output_3_true_positives_1: 11581.0000 - val_output_3_false_negatives_1: 199.0000 - val_output_3_false_positives_1: 87.0000\n",
      "Epoch 12/20\n",
      "4607/4607 [==============================] - 527s 114ms/step - loss: 4.7682 - output_1_loss: 6.4194e-07 - output_2_loss: 0.0590 - output_3_loss: 0.0204 - output_4_loss: 4.4506 - output_3_precision_1: 0.9107 - output_3_recall_1: 0.7050 - output_3_true_negatives_1: 124261776.0000 - output_3_true_positives_1: 189751.0000 - output_3_false_negatives_1: 79385.0000 - output_3_false_positives_1: 18602.0000 - val_loss: 0.8941 - val_output_1_loss: 0.0000e+00 - val_output_2_loss: 0.0522 - val_output_3_loss: 0.0033 - val_output_4_loss: 0.6720 - val_output_3_precision_1: 0.9924 - val_output_3_recall_1: 0.9837 - val_output_3_true_negatives_1: 5058131.0000 - val_output_3_true_positives_1: 11588.0000 - val_output_3_false_negatives_1: 192.0000 - val_output_3_false_positives_1: 89.0000\n",
      "Epoch 13/20\n",
      "4607/4607 [==============================] - 537s 116ms/step - loss: 4.7700 - output_1_loss: 5.5467e-05 - output_2_loss: 0.0588 - output_3_loss: 0.0204 - output_4_loss: 4.4532 - output_3_precision_1: 0.9108 - output_3_recall_1: 0.7051 - output_3_true_negatives_1: 124261928.0000 - output_3_true_positives_1: 189745.0000 - output_3_false_negatives_1: 79371.0000 - output_3_false_positives_1: 18589.0000 - val_loss: 0.8951 - val_output_1_loss: 0.0000e+00 - val_output_2_loss: 0.0521 - val_output_3_loss: 0.0033 - val_output_4_loss: 0.6733 - val_output_3_precision_1: 0.9931 - val_output_3_recall_1: 0.9843 - val_output_3_true_negatives_1: 5058139.0000 - val_output_3_true_positives_1: 11595.0000 - val_output_3_false_negatives_1: 185.0000 - val_output_3_false_positives_1: 81.0000\n",
      "Epoch 14/20\n",
      "4607/4607 [==============================] - 542s 118ms/step - loss: 4.7222 - output_1_loss: 0.0000e+00 - output_2_loss: 0.0586 - output_3_loss: 0.0202 - output_4_loss: 4.4070 - output_3_precision_1: 0.9117 - output_3_recall_1: 0.7079 - output_3_true_negatives_1: 124262224.0000 - output_3_true_positives_1: 190486.0000 - output_3_false_negatives_1: 78608.0000 - output_3_false_positives_1: 18439.0000 - val_loss: 0.8755 - val_output_1_loss: 0.0000e+00 - val_output_2_loss: 0.0522 - val_output_3_loss: 0.0032 - val_output_4_loss: 0.6540 - val_output_3_precision_1: 0.9930 - val_output_3_recall_1: 0.9829 - val_output_3_true_negatives_1: 5058138.0000 - val_output_3_true_positives_1: 11579.0000 - val_output_3_false_negatives_1: 201.0000 - val_output_3_false_positives_1: 82.0000\n",
      "Epoch 15/20\n",
      "4607/4607 [==============================] - 542s 118ms/step - loss: 4.7220 - output_1_loss: 4.9116e-10 - output_2_loss: 0.0585 - output_3_loss: 0.0201 - output_4_loss: 4.4077 - output_3_precision_1: 0.9112 - output_3_recall_1: 0.7074 - output_3_true_negatives_1: 124262000.0000 - output_3_true_positives_1: 190412.0000 - output_3_false_negatives_1: 78749.0000 - output_3_false_positives_1: 18565.0000 - val_loss: 0.8946 - val_output_1_loss: 0.0000e+00 - val_output_2_loss: 0.0521 - val_output_3_loss: 0.0033 - val_output_4_loss: 0.6728 - val_output_3_precision_1: 0.9933 - val_output_3_recall_1: 0.9847 - val_output_3_true_negatives_1: 5058142.0000 - val_output_3_true_positives_1: 11600.0000 - val_output_3_false_negatives_1: 180.0000 - val_output_3_false_positives_1: 78.0000\n",
      "Epoch 16/20\n",
      "4607/4607 [==============================] - 541s 117ms/step - loss: 4.7355 - output_1_loss: 3.3522e-05 - output_2_loss: 0.0587 - output_3_loss: 0.0203 - output_4_loss: 4.4195 - output_3_precision_1: 0.9115 - output_3_recall_1: 0.7072 - output_3_true_negatives_1: 124262168.0000 - output_3_true_positives_1: 190336.0000 - output_3_false_negatives_1: 78810.0000 - output_3_false_positives_1: 18489.0000 - val_loss: 0.8889 - val_output_1_loss: 0.0000e+00 - val_output_2_loss: 0.0520 - val_output_3_loss: 0.0033 - val_output_4_loss: 0.6676 - val_output_3_precision_1: 0.9931 - val_output_3_recall_1: 0.9835 - val_output_3_true_negatives_1: 5058139.0000 - val_output_3_true_positives_1: 11586.0000 - val_output_3_false_negatives_1: 194.0000 - val_output_3_false_positives_1: 81.0000\n",
      "Epoch 17/20\n",
      "4607/4607 [==============================] - 534s 116ms/step - loss: 4.7028 - output_1_loss: 0.0000e+00 - output_2_loss: 0.0583 - output_3_loss: 0.0200 - output_4_loss: 4.3898 - output_3_precision_1: 0.9122 - output_3_recall_1: 0.7097 - output_3_true_negatives_1: 124262072.0000 - output_3_true_positives_1: 190986.0000 - output_3_false_negatives_1: 78124.0000 - output_3_false_positives_1: 18379.0000 - val_loss: 0.8756 - val_output_1_loss: 0.0000e+00 - val_output_2_loss: 0.0520 - val_output_3_loss: 0.0033 - val_output_4_loss: 0.6544 - val_output_3_precision_1: 0.9930 - val_output_3_recall_1: 0.9851 - val_output_3_true_negatives_1: 5058138.0000 - val_output_3_true_positives_1: 11604.0000 - val_output_3_false_negatives_1: 176.0000 - val_output_3_false_positives_1: 82.0000\n",
      "Epoch 18/20\n",
      "4607/4607 [==============================] - 543s 118ms/step - loss: 4.7640 - output_1_loss: 2.2527e-07 - output_2_loss: 0.0587 - output_3_loss: 0.0205 - output_4_loss: 4.4475 - output_3_precision_1: 0.9101 - output_3_recall_1: 0.7044 - output_3_true_negatives_1: 124261608.0000 - output_3_true_positives_1: 189573.0000 - output_3_false_negatives_1: 79573.0000 - output_3_false_positives_1: 18736.0000 - val_loss: 0.8789 - val_output_1_loss: 0.0000e+00 - val_output_2_loss: 0.0520 - val_output_3_loss: 0.0033 - val_output_4_loss: 0.6577 - val_output_3_precision_1: 0.9935 - val_output_3_recall_1: 0.9844 - val_output_3_true_negatives_1: 5058144.0000 - val_output_3_true_positives_1: 11596.0000 - val_output_3_false_negatives_1: 184.0000 - val_output_3_false_positives_1: 76.0000\n",
      "Epoch 19/20\n",
      "4607/4607 [==============================] - 544s 118ms/step - loss: 4.7150 - output_1_loss: 1.4839e-07 - output_2_loss: 0.0586 - output_3_loss: 0.0202 - output_4_loss: 4.3998 - output_3_precision_1: 0.9112 - output_3_recall_1: 0.7087 - output_3_true_negatives_1: 124261984.0000 - output_3_true_positives_1: 190695.0000 - output_3_false_negatives_1: 78385.0000 - output_3_false_positives_1: 18590.0000 - val_loss: 0.8823 - val_output_1_loss: 0.0000e+00 - val_output_2_loss: 0.0520 - val_output_3_loss: 0.0033 - val_output_4_loss: 0.6611 - val_output_3_precision_1: 0.9934 - val_output_3_recall_1: 0.9843 - val_output_3_true_negatives_1: 5058143.0000 - val_output_3_true_positives_1: 11595.0000 - val_output_3_false_negatives_1: 185.0000 - val_output_3_false_positives_1: 77.0000\n",
      "Epoch 20/20\n",
      "4607/4607 [==============================] - 540s 117ms/step - loss: 4.7156 - output_1_loss: 6.3234e-06 - output_2_loss: 0.0588 - output_3_loss: 0.0202 - output_4_loss: 4.3999 - output_3_precision_1: 0.9113 - output_3_recall_1: 0.7078 - output_3_true_negatives_1: 124262016.0000 - output_3_true_positives_1: 190470.0000 - output_3_false_negatives_1: 78635.0000 - output_3_false_positives_1: 18536.0000 - val_loss: 0.8871 - val_output_1_loss: 0.0000e+00 - val_output_2_loss: 0.0520 - val_output_3_loss: 0.0033 - val_output_4_loss: 0.6660 - val_output_3_precision_1: 0.9933 - val_output_3_recall_1: 0.9841 - val_output_3_true_negatives_1: 5058142.0000 - val_output_3_true_positives_1: 11593.0000 - val_output_3_false_negatives_1: 187.0000 - val_output_3_false_positives_1: 78.0000\n"
     ]
    }
   ],
   "source": [
    "history5 = model.fit(train_dataset, epochs=20,validation_data=val_dataset)"
   ]
  },
  {
   "cell_type": "code",
   "execution_count": null,
   "metadata": {},
   "outputs": [],
   "source": []
  },
  {
   "cell_type": "code",
   "execution_count": 17,
   "metadata": {},
   "outputs": [],
   "source": [
    "os.chdir(\"/home/sergio/Documents/json_experiments\")\n",
    "import json\n",
    "#json.dumps(str(a))\n",
    "with open('history_finetuning_1441_100_120_epoch_nadam_0dot00001_msle.json', 'w') as fp:\n",
    "    json.dump(str(history4.history), fp)"
   ]
  },
  {
   "cell_type": "code",
   "execution_count": 18,
   "metadata": {},
   "outputs": [],
   "source": [
    "model.save_weights('/home/sergio/Documents/weights_saved/pesos_100_120_epochs_nadam_1_4_4_1_0dot00001_msle')"
   ]
  },
  {
   "cell_type": "code",
   "execution_count": null,
   "metadata": {},
   "outputs": [],
   "source": []
  },
  {
   "cell_type": "code",
   "execution_count": null,
   "metadata": {},
   "outputs": [],
   "source": []
  },
  {
   "cell_type": "code",
   "execution_count": null,
   "metadata": {},
   "outputs": [],
   "source": []
  },
  {
   "cell_type": "markdown",
   "metadata": {},
   "source": [
    "## Batch 16, con pesos 2,1,4,1 con lr 0.001 ESTE ES POSIBLEMENTE EL BUENO"
   ]
  },
  {
   "cell_type": "code",
   "execution_count": 7,
   "metadata": {},
   "outputs": [
    {
     "name": "stdout",
     "output_type": "stream",
     "text": [
      "Pesos de la convolucion (432,)\n",
      "CONV SHAPE (16, 3, 3, 3)\n",
      "Pesos de la convolucion (4608,)\n",
      "CONV SHAPE (32, 16, 3, 3)\n",
      "Pesos de la convolucion (18432,)\n",
      "CONV SHAPE (64, 32, 3, 3)\n",
      "Pesos de la convolucion (73728,)\n",
      "CONV SHAPE (128, 64, 3, 3)\n",
      "Pesos de la convolucion (294912,)\n",
      "CONV SHAPE (256, 128, 3, 3)\n",
      "Pesos de la convolucion (1179648,)\n",
      "CONV SHAPE (512, 256, 3, 3)\n",
      "Pesos de la convolucion (4718592,)\n",
      "CONV SHAPE (1024, 512, 3, 3)\n",
      "Pesos de la convolucion (262144,)\n",
      "CONV SHAPE (256, 1024, 1, 1)\n",
      "Pesos de la convolucion (1179648,)\n",
      "CONV SHAPE (512, 256, 3, 3)\n",
      "Pesos de la convolucion (130560,)\n",
      "CONV SHAPE (255, 512, 1, 1)\n",
      "Pesos de la convolucion (32768,)\n",
      "CONV SHAPE (128, 256, 1, 1)\n",
      "Pesos de la convolucion (884736,)\n",
      "CONV SHAPE (256, 384, 3, 3)\n",
      "Pesos de la convolucion (65280,)\n",
      "CONV SHAPE (255, 256, 1, 1)\n",
      "8858734\n"
     ]
    }
   ],
   "source": [
    "anchors =tf.constant(np.array([[0,0,0.026,0.062],[0,0,0.067,0.183],[0,0,0.128,0.323],[0,0,0.343,0.650]]),dtype=tf.float32)\n",
    "model = TinyYOLOv3(1,anchor_boxes=anchors,train=True,mode = \"finetuning\")\n",
    "model.build(batch_input_shape=(None,416,416,3))\n",
    "print(model.load_weights_darknet(\"/home/sergio/TinyYOLOv3-Pedestrian-Detection/yolov3-tiny.weights\"))"
   ]
  },
  {
   "cell_type": "code",
   "execution_count": 8,
   "metadata": {},
   "outputs": [],
   "source": [
    "tf.random.set_seed(0)\n",
    "\n",
    "from tensorflow.keras.metrics import TrueNegatives,TruePositives,FalseNegatives,FalsePositives,Precision,Recall\n",
    "\n",
    "opt = tf.keras.optimizers.Nadam(learning_rate=0.001)\n",
    "\n",
    "losses = {\"output_1\": loss_xy,\n",
    "          \"output_2\": loss_wh,\n",
    "          \"output_3\":loss_objectness,\n",
    "          \"output_4\":loss_no_objectness  \n",
    "}\n",
    "\n",
    "metrics = {\"output_3\":[Precision(),Recall(),TrueNegatives(),TruePositives(),FalseNegatives(),FalsePositives()]}\n",
    "model.compile(optimizer=opt, loss=losses,metrics=metrics,loss_weights=[2,1,4,1])\n",
    "os.chdir(\"/home/sergio/Documents/pedestrian_dataset_train_tfr\")"
   ]
  },
  {
   "cell_type": "code",
   "execution_count": 10,
   "metadata": {},
   "outputs": [
    {
     "name": "stdout",
     "output_type": "stream",
     "text": [
      "Epoch 1/50\n",
      "4607/4607 [==============================] - 549s 119ms/step - loss: 34.3996 - output_1_loss: 6.1519 - output_2_loss: 2.7798 - output_3_loss: 0.0669 - output_4_loss: 19.0485 - output_3_precision: 0.1138 - output_3_recall: 0.0564 - output_3_true_negatives: 124162384.0000 - output_3_true_positives: 15180.0000 - output_3_false_negatives: 253944.0000 - output_3_false_positives: 118220.0000 - val_loss: 27.0672 - val_output_1_loss: 5.6957 - val_output_2_loss: 1.3486 - val_output_3_loss: 0.0626 - val_output_4_loss: 14.0769 - val_output_3_precision: 0.6688 - val_output_3_recall: 0.0789 - val_output_3_true_negatives: 5057760.0000 - val_output_3_true_positives: 929.0000 - val_output_3_false_negatives: 10851.0000 - val_output_3_false_positives: 460.0000\n",
      "Epoch 2/50\n",
      "4607/4607 [==============================] - 547s 119ms/step - loss: 26.7667 - output_1_loss: 5.4479 - output_2_loss: 2.3739 - output_3_loss: 0.0574 - output_4_loss: 13.2674 - output_3_precision: 0.6450 - output_3_recall: 0.0914 - output_3_true_negatives: 124266936.0000 - output_3_true_positives: 24603.0000 - output_3_false_negatives: 244459.0000 - output_3_false_positives: 13541.0000 - val_loss: 24.3018 - val_output_1_loss: 5.0869 - val_output_2_loss: 0.9228 - val_output_3_loss: 0.0575 - val_output_4_loss: 12.9750 - val_output_3_precision: 0.6922 - val_output_3_recall: 0.1226 - val_output_3_true_negatives: 5057578.0000 - val_output_3_true_positives: 1444.0000 - val_output_3_false_negatives: 10336.0000 - val_output_3_false_positives: 642.0000\n",
      "Epoch 3/50\n",
      "4607/4607 [==============================] - 542s 118ms/step - loss: 25.6053 - output_1_loss: 5.2114 - output_2_loss: 2.2209 - output_3_loss: 0.0553 - output_4_loss: 12.7404 - output_3_precision: 0.6489 - output_3_recall: 0.1137 - output_3_true_negatives: 124264000.0000 - output_3_true_positives: 30591.0000 - output_3_false_negatives: 238486.0000 - output_3_false_positives: 16554.0000 - val_loss: 23.5787 - val_output_1_loss: 4.8250 - val_output_2_loss: 1.1029 - val_output_3_loss: 0.0565 - val_output_4_loss: 12.5998 - val_output_3_precision: 0.7299 - val_output_3_recall: 0.1199 - val_output_3_true_negatives: 5057697.0000 - val_output_3_true_positives: 1413.0000 - val_output_3_false_negatives: 10367.0000 - val_output_3_false_positives: 523.0000\n",
      "Epoch 4/50\n",
      "4607/4607 [==============================] - 555s 120ms/step - loss: 24.9806 - output_1_loss: 5.0998 - output_2_loss: 2.1549 - output_3_loss: 0.0540 - output_4_loss: 12.4102 - output_3_precision: 0.6572 - output_3_recall: 0.1293 - output_3_true_negatives: 124262376.0000 - output_3_true_positives: 34801.0000 - output_3_false_negatives: 234245.0000 - output_3_false_positives: 18154.0000 - val_loss: 22.8636 - val_output_1_loss: 4.7421 - val_output_2_loss: 0.9598 - val_output_3_loss: 0.0547 - val_output_4_loss: 12.2010 - val_output_3_precision: 0.6867 - val_output_3_recall: 0.1723 - val_output_3_true_negatives: 5057294.0000 - val_output_3_true_positives: 2030.0000 - val_output_3_false_negatives: 9750.0000 - val_output_3_false_positives: 926.0000\n",
      "Epoch 5/50\n",
      "4607/4607 [==============================] - 546s 119ms/step - loss: 24.1680 - output_1_loss: 4.9162 - output_2_loss: 2.0179 - output_3_loss: 0.0527 - output_4_loss: 12.1068 - output_3_precision: 0.6587 - output_3_recall: 0.1436 - output_3_true_negatives: 124260528.0000 - output_3_true_positives: 38649.0000 - output_3_false_negatives: 230451.0000 - output_3_false_positives: 20029.0000 - val_loss: 21.8671 - val_output_1_loss: 4.4614 - val_output_2_loss: 0.7854 - val_output_3_loss: 0.0533 - val_output_4_loss: 11.9456 - val_output_3_precision: 0.7288 - val_output_3_recall: 0.1683 - val_output_3_true_negatives: 5057482.0000 - val_output_3_true_positives: 1983.0000 - val_output_3_false_negatives: 9797.0000 - val_output_3_false_positives: 738.0000\n",
      "Epoch 6/50\n",
      "4607/4607 [==============================] - 536s 116ms/step - loss: 23.6664 - output_1_loss: 4.7701 - output_2_loss: 1.9805 - output_3_loss: 0.0521 - output_4_loss: 11.9372 - output_3_precision: 0.6675 - output_3_recall: 0.1534 - output_3_true_negatives: 124260208.0000 - output_3_true_positives: 41283.0000 - output_3_false_negatives: 227817.0000 - output_3_false_positives: 20567.0000 - val_loss: 21.2902 - val_output_1_loss: 4.2234 - val_output_2_loss: 0.9314 - val_output_3_loss: 0.0530 - val_output_4_loss: 11.7000 - val_output_3_precision: 0.7446 - val_output_3_recall: 0.1643 - val_output_3_true_negatives: 5057556.0000 - val_output_3_true_positives: 1936.0000 - val_output_3_false_negatives: 9844.0000 - val_output_3_false_positives: 664.0000\n",
      "Epoch 7/50\n",
      "4607/4607 [==============================] - 556s 121ms/step - loss: 23.2562 - output_1_loss: 4.6740 - output_2_loss: 1.9701 - output_3_loss: 0.0513 - output_4_loss: 11.7331 - output_3_precision: 0.6686 - output_3_recall: 0.1632 - output_3_true_negatives: 124258768.0000 - output_3_true_positives: 43919.0000 - output_3_false_negatives: 225152.0000 - output_3_false_positives: 21770.0000 - val_loss: 20.7037 - val_output_1_loss: 4.0993 - val_output_2_loss: 0.8670 - val_output_3_loss: 0.0516 - val_output_4_loss: 11.4318 - val_output_3_precision: 0.7395 - val_output_3_recall: 0.1844 - val_output_3_true_negatives: 5057455.0000 - val_output_3_true_positives: 2172.0000 - val_output_3_false_negatives: 9608.0000 - val_output_3_false_positives: 765.0000\n",
      "Epoch 8/50\n",
      "4607/4607 [==============================] - 545s 118ms/step - loss: 22.7516 - output_1_loss: 4.5306 - output_2_loss: 1.9187 - output_3_loss: 0.0506 - output_4_loss: 11.5695 - output_3_precision: 0.6700 - output_3_recall: 0.1718 - output_3_true_negatives: 124257904.0000 - output_3_true_positives: 46240.0000 - output_3_false_negatives: 222849.0000 - output_3_false_positives: 22779.0000 - val_loss: 19.8482 - val_output_1_loss: 3.8490 - val_output_2_loss: 0.7462 - val_output_3_loss: 0.0506 - val_output_4_loss: 11.2016 - val_output_3_precision: 0.7324 - val_output_3_recall: 0.2042 - val_output_3_true_negatives: 5057341.0000 - val_output_3_true_positives: 2406.0000 - val_output_3_false_negatives: 9374.0000 - val_output_3_false_positives: 879.0000\n",
      "Epoch 9/50\n",
      "4607/4607 [==============================] - 548s 119ms/step - loss: 22.3692 - output_1_loss: 4.4334 - output_2_loss: 1.8775 - output_3_loss: 0.0500 - output_4_loss: 11.4249 - output_3_precision: 0.6777 - output_3_recall: 0.1808 - output_3_true_negatives: 124257080.0000 - output_3_true_positives: 48676.0000 - output_3_false_negatives: 220523.0000 - output_3_false_positives: 23152.0000 - val_loss: 19.6711 - val_output_1_loss: 3.7347 - val_output_2_loss: 0.8111 - val_output_3_loss: 0.0503 - val_output_4_loss: 11.1896 - val_output_3_precision: 0.7157 - val_output_3_recall: 0.2250 - val_output_3_true_negatives: 5057167.0000 - val_output_3_true_positives: 2651.0000 - val_output_3_false_negatives: 9129.0000 - val_output_3_false_positives: 1053.0000\n",
      "Epoch 10/50\n",
      "4607/4607 [==============================] - 541s 117ms/step - loss: 21.9737 - output_1_loss: 4.3318 - output_2_loss: 1.8277 - output_3_loss: 0.0495 - output_4_loss: 11.2844 - output_3_precision: 0.6805 - output_3_recall: 0.1879 - output_3_true_negatives: 124256696.0000 - output_3_true_positives: 50588.0000 - output_3_false_negatives: 218616.0000 - output_3_false_positives: 23747.0000 - val_loss: 18.8152 - val_output_1_loss: 3.5133 - val_output_2_loss: 0.6986 - val_output_3_loss: 0.0494 - val_output_4_loss: 10.8924 - val_output_3_precision: 0.7172 - val_output_3_recall: 0.2355 - val_output_3_true_negatives: 5057126.0000 - val_output_3_true_positives: 2774.0000 - val_output_3_false_negatives: 9006.0000 - val_output_3_false_positives: 1094.0000\n",
      "Epoch 11/50\n",
      "4607/4607 [==============================] - 561s 122ms/step - loss: 21.6483 - output_1_loss: 4.2240 - output_2_loss: 1.8332 - output_3_loss: 0.0490 - output_4_loss: 11.1712 - output_3_precision: 0.6785 - output_3_recall: 0.1934 - output_3_true_negatives: 124255928.0000 - output_3_true_positives: 52041.0000 - output_3_false_negatives: 217026.0000 - output_3_false_positives: 24659.0000 - val_loss: 18.9671 - val_output_1_loss: 3.5181 - val_output_2_loss: 0.7829 - val_output_3_loss: 0.0497 - val_output_4_loss: 10.9491 - val_output_3_precision: 0.7345 - val_output_3_recall: 0.2222 - val_output_3_true_negatives: 5057274.0000 - val_output_3_true_positives: 2617.0000 - val_output_3_false_negatives: 9163.0000 - val_output_3_false_positives: 946.0000\n",
      "Epoch 12/50\n",
      "4607/4607 [==============================] - 542s 118ms/step - loss: 21.3606 - output_1_loss: 4.1397 - output_2_loss: 1.8179 - output_3_loss: 0.0486 - output_4_loss: 11.0689 - output_3_precision: 0.6830 - output_3_recall: 0.1986 - output_3_true_negatives: 124255608.0000 - output_3_true_positives: 53441.0000 - output_3_false_negatives: 215628.0000 - output_3_false_positives: 24803.0000 - val_loss: 18.1600 - val_output_1_loss: 3.3361 - val_output_2_loss: 0.7343 - val_output_3_loss: 0.0478 - val_output_4_loss: 10.5621 - val_output_3_precision: 0.7307 - val_output_3_recall: 0.2490 - val_output_3_true_negatives: 5057139.0000 - val_output_3_true_positives: 2933.0000 - val_output_3_false_negatives: 8847.0000 - val_output_3_false_positives: 1081.0000\n",
      "Epoch 13/50\n",
      "4607/4607 [==============================] - 561s 122ms/step - loss: 20.9107 - output_1_loss: 4.0407 - output_2_loss: 1.7164 - output_3_loss: 0.0480 - output_4_loss: 10.9211 - output_3_precision: 0.6859 - output_3_recall: 0.2083 - output_3_true_negatives: 124254672.0000 - output_3_true_positives: 56073.0000 - output_3_false_negatives: 213061.0000 - output_3_false_positives: 25673.0000 - val_loss: 17.5842 - val_output_1_loss: 3.1674 - val_output_2_loss: 0.6369 - val_output_3_loss: 0.0474 - val_output_4_loss: 10.4230 - val_output_3_precision: 0.7217 - val_output_3_recall: 0.2659 - val_output_3_true_negatives: 5057012.0000 - val_output_3_true_positives: 3132.0000 - val_output_3_false_negatives: 8648.0000 - val_output_3_false_positives: 1208.0000\n",
      "Epoch 14/50\n",
      "4607/4607 [==============================] - 547s 119ms/step - loss: 20.6532 - output_1_loss: 3.9594 - output_2_loss: 1.7048 - output_3_loss: 0.0477 - output_4_loss: 10.8388 - output_3_precision: 0.6899 - output_3_recall: 0.2127 - output_3_true_negatives: 124254720.0000 - output_3_true_positives: 57247.0000 - output_3_false_negatives: 211920.0000 - output_3_false_positives: 25729.0000 - val_loss: 17.2598 - val_output_1_loss: 3.0658 - val_output_2_loss: 0.6665 - val_output_3_loss: 0.0467 - val_output_4_loss: 10.2749 - val_output_3_precision: 0.7316 - val_output_3_recall: 0.2730 - val_output_3_true_negatives: 5057040.0000 - val_output_3_true_positives: 3216.0000 - val_output_3_false_negatives: 8564.0000 - val_output_3_false_positives: 1180.0000\n",
      "Epoch 15/50\n",
      "4607/4607 [==============================] - 549s 119ms/step - loss: 20.4884 - output_1_loss: 3.9004 - output_2_loss: 1.7627 - output_3_loss: 0.0473 - output_4_loss: 10.7358 - output_3_precision: 0.6936 - output_3_recall: 0.2202 - output_3_true_negatives: 124254392.0000 - output_3_true_positives: 59270.0000 - output_3_false_negatives: 209841.0000 - output_3_false_positives: 26183.0000 - val_loss: 17.3929 - val_output_1_loss: 3.0853 - val_output_2_loss: 0.7093 - val_output_3_loss: 0.0471 - val_output_4_loss: 10.3244 - val_output_3_precision: 0.7374 - val_output_3_recall: 0.2579 - val_output_3_true_negatives: 5057138.0000 - val_output_3_true_positives: 3038.0000 - val_output_3_false_negatives: 8742.0000 - val_output_3_false_positives: 1082.0000\n",
      "Epoch 16/50\n",
      "4607/4607 [==============================] - 553s 120ms/step - loss: 20.1643 - output_1_loss: 3.8154 - output_2_loss: 1.6996 - output_3_loss: 0.0469 - output_4_loss: 10.6461 - output_3_precision: 0.6931 - output_3_recall: 0.2240 - output_3_true_negatives: 124253872.0000 - output_3_true_positives: 60290.0000 - output_3_false_negatives: 208857.0000 - output_3_false_positives: 26691.0000 - val_loss: 16.4575 - val_output_1_loss: 2.8243 - val_output_2_loss: 0.5641 - val_output_3_loss: 0.0456 - val_output_4_loss: 10.0622 - val_output_3_precision: 0.7395 - val_output_3_recall: 0.2904 - val_output_3_true_negatives: 5057015.0000 - val_output_3_true_positives: 3421.0000 - val_output_3_false_negatives: 8359.0000 - val_output_3_false_positives: 1205.0000\n",
      "Epoch 17/50\n",
      "4607/4607 [==============================] - 546s 119ms/step - loss: 19.8598 - output_1_loss: 3.7377 - output_2_loss: 1.6790 - output_3_loss: 0.0464 - output_4_loss: 10.5198 - output_3_precision: 0.6952 - output_3_recall: 0.2303 - output_3_true_negatives: 124253280.0000 - output_3_true_positives: 61978.0000 - output_3_false_negatives: 207142.0000 - output_3_false_positives: 27178.0000 - val_loss: 16.1773 - val_output_1_loss: 2.7744 - val_output_2_loss: 0.6126 - val_output_3_loss: 0.0450 - val_output_4_loss: 9.8359 - val_output_3_precision: 0.7509 - val_output_3_recall: 0.2969 - val_output_3_true_negatives: 5057060.0000 - val_output_3_true_positives: 3497.0000 - val_output_3_false_negatives: 8283.0000 - val_output_3_false_positives: 1160.0000\n",
      "Epoch 18/50\n",
      "4607/4607 [==============================] - 557s 121ms/step - loss: 19.6412 - output_1_loss: 3.6857 - output_2_loss: 1.6696 - output_3_loss: 0.0460 - output_4_loss: 10.4160 - output_3_precision: 0.6985 - output_3_recall: 0.2385 - output_3_true_negatives: 124252696.0000 - output_3_true_positives: 64173.0000 - output_3_false_negatives: 204904.0000 - output_3_false_positives: 27694.0000 - val_loss: 16.1463 - val_output_1_loss: 2.7672 - val_output_2_loss: 0.6976 - val_output_3_loss: 0.0450 - val_output_4_loss: 9.7344 - val_output_3_precision: 0.7673 - val_output_3_recall: 0.2858 - val_output_3_true_negatives: 5057199.0000 - val_output_3_true_positives: 3367.0000 - val_output_3_false_negatives: 8413.0000 - val_output_3_false_positives: 1021.0000\n",
      "Epoch 19/50\n",
      "4607/4607 [==============================] - 550s 119ms/step - loss: 19.4853 - output_1_loss: 3.6355 - output_2_loss: 1.7043 - output_3_loss: 0.0457 - output_4_loss: 10.3273 - output_3_precision: 0.7025 - output_3_recall: 0.2455 - output_3_true_negatives: 124252672.0000 - output_3_true_positives: 66062.0000 - output_3_false_negatives: 203017.0000 - output_3_false_positives: 27981.0000 - val_loss: 15.4653 - val_output_1_loss: 2.5816 - val_output_2_loss: 0.6003 - val_output_3_loss: 0.0439 - val_output_4_loss: 9.5263 - val_output_3_precision: 0.7725 - val_output_3_recall: 0.2946 - val_output_3_true_negatives: 5057198.0000 - val_output_3_true_positives: 3470.0000 - val_output_3_false_negatives: 8310.0000 - val_output_3_false_positives: 1022.0000\n",
      "Epoch 20/50\n",
      "4607/4607 [==============================] - 546s 118ms/step - loss: 19.1182 - output_1_loss: 3.5573 - output_2_loss: 1.6055 - output_3_loss: 0.0452 - output_4_loss: 10.2171 - output_3_precision: 0.7060 - output_3_recall: 0.2526 - output_3_true_negatives: 124251944.0000 - output_3_true_positives: 68005.0000 - output_3_false_negatives: 201184.0000 - output_3_false_positives: 28316.0000 - val_loss: 15.3405 - val_output_1_loss: 2.5239 - val_output_2_loss: 0.6706 - val_output_3_loss: 0.0438 - val_output_4_loss: 9.4470 - val_output_3_precision: 0.7417 - val_output_3_recall: 0.3346 - val_output_3_true_negatives: 5056847.0000 - val_output_3_true_positives: 3942.0000 - val_output_3_false_negatives: 7838.0000 - val_output_3_false_positives: 1373.0000\n",
      "Epoch 21/50\n",
      "4607/4607 [==============================] - 550s 119ms/step - loss: 18.9242 - output_1_loss: 3.5197 - output_2_loss: 1.5637 - output_3_loss: 0.0450 - output_4_loss: 10.1412 - output_3_precision: 0.7057 - output_3_recall: 0.2572 - output_3_true_negatives: 124251328.0000 - output_3_true_positives: 69243.0000 - output_3_false_negatives: 199970.0000 - output_3_false_positives: 28872.0000 - val_loss: 14.8149 - val_output_1_loss: 2.4157 - val_output_2_loss: 0.5326 - val_output_3_loss: 0.0428 - val_output_4_loss: 9.2799 - val_output_3_precision: 0.7384 - val_output_3_recall: 0.3517 - val_output_3_true_negatives: 5056752.0000 - val_output_3_true_positives: 4143.0000 - val_output_3_false_negatives: 7637.0000 - val_output_3_false_positives: 1468.0000\n",
      "Epoch 22/50\n",
      "4607/4607 [==============================] - 551s 120ms/step - loss: 18.7804 - output_1_loss: 3.4795 - output_2_loss: 1.5894 - output_3_loss: 0.0447 - output_4_loss: 10.0531 - output_3_precision: 0.7099 - output_3_recall: 0.2650 - output_3_true_negatives: 124250960.0000 - output_3_true_positives: 71348.0000 - output_3_false_negatives: 197918.0000 - output_3_false_positives: 29153.0000 - val_loss: 14.7979 - val_output_1_loss: 2.4780 - val_output_2_loss: 0.5665 - val_output_3_loss: 0.0423 - val_output_4_loss: 9.1064 - val_output_3_precision: 0.7686 - val_output_3_recall: 0.3412 - val_output_3_true_negatives: 5057010.0000 - val_output_3_true_positives: 4019.0000 - val_output_3_false_negatives: 7761.0000 - val_output_3_false_positives: 1210.0000\n",
      "Epoch 23/50\n",
      "4607/4607 [==============================] - 557s 121ms/step - loss: 18.5213 - output_1_loss: 3.4310 - output_2_loss: 1.5531 - output_3_loss: 0.0442 - output_4_loss: 9.9297 - output_3_precision: 0.7126 - output_3_recall: 0.2717 - output_3_true_negatives: 124250816.0000 - output_3_true_positives: 73130.0000 - output_3_false_negatives: 196051.0000 - output_3_false_positives: 29488.0000 - val_loss: 14.1550 - val_output_1_loss: 2.3145 - val_output_2_loss: 0.5583 - val_output_3_loss: 0.0410 - val_output_4_loss: 8.8037 - val_output_3_precision: 0.7618 - val_output_3_recall: 0.3686 - val_output_3_true_negatives: 5056862.0000 - val_output_3_true_positives: 4342.0000 - val_output_3_false_negatives: 7438.0000 - val_output_3_false_positives: 1358.0000\n",
      "Epoch 24/50\n",
      "4607/4607 [==============================] - 549s 119ms/step - loss: 18.4240 - output_1_loss: 3.3806 - output_2_loss: 1.6607 - output_3_loss: 0.0437 - output_4_loss: 9.8272 - output_3_precision: 0.7161 - output_3_recall: 0.2799 - output_3_true_negatives: 124250848.0000 - output_3_true_positives: 75312.0000 - output_3_false_negatives: 193766.0000 - output_3_false_positives: 29859.0000 - val_loss: 13.9534 - val_output_1_loss: 2.2147 - val_output_2_loss: 0.5287 - val_output_3_loss: 0.0410 - val_output_4_loss: 8.8314 - val_output_3_precision: 0.7674 - val_output_3_recall: 0.3585 - val_output_3_true_negatives: 5056940.0000 - val_output_3_true_positives: 4223.0000 - val_output_3_false_negatives: 7557.0000 - val_output_3_false_positives: 1280.0000\n",
      "Epoch 25/50\n",
      "4607/4607 [==============================] - 546s 118ms/step - loss: 18.1436 - output_1_loss: 3.3134 - output_2_loss: 1.6342 - output_3_loss: 0.0432 - output_4_loss: 9.7096 - output_3_precision: 0.7219 - output_3_recall: 0.2887 - output_3_true_negatives: 124250680.0000 - output_3_true_positives: 77692.0000 - output_3_false_negatives: 191381.0000 - output_3_false_positives: 29932.0000 - val_loss: 13.7192 - val_output_1_loss: 2.1779 - val_output_2_loss: 0.5717 - val_output_3_loss: 0.0404 - val_output_4_loss: 8.6303 - val_output_3_precision: 0.7907 - val_output_3_recall: 0.3592 - val_output_3_true_negatives: 5057100.0000 - val_output_3_true_positives: 4231.0000 - val_output_3_false_negatives: 7549.0000 - val_output_3_false_positives: 1120.0000\n",
      "Epoch 26/50\n",
      "4607/4607 [==============================] - 549s 119ms/step - loss: 18.0231 - output_1_loss: 3.2934 - output_2_loss: 1.6193 - output_3_loss: 0.0430 - output_4_loss: 9.6449 - output_3_precision: 0.7231 - output_3_recall: 0.2938 - output_3_true_negatives: 124249928.0000 - output_3_true_positives: 79097.0000 - output_3_false_negatives: 190081.0000 - output_3_false_positives: 30291.0000 - val_loss: 13.5957 - val_output_1_loss: 2.1514 - val_output_2_loss: 0.6245 - val_output_3_loss: 0.0400 - val_output_4_loss: 8.5083 - val_output_3_precision: 0.7916 - val_output_3_recall: 0.3721 - val_output_3_true_negatives: 5057066.0000 - val_output_3_true_positives: 4383.0000 - val_output_3_false_negatives: 7397.0000 - val_output_3_false_positives: 1154.0000\n",
      "Epoch 27/50\n",
      "4607/4607 [==============================] - 549s 119ms/step - loss: 17.8726 - output_1_loss: 3.2516 - output_2_loss: 1.6305 - output_3_loss: 0.0429 - output_4_loss: 9.5673 - output_3_precision: 0.7260 - output_3_recall: 0.2995 - output_3_true_negatives: 124250312.0000 - output_3_true_positives: 80608.0000 - output_3_false_negatives: 188509.0000 - output_3_false_positives: 30421.0000 - val_loss: 13.2039 - val_output_1_loss: 2.0631 - val_output_2_loss: 0.5081 - val_output_3_loss: 0.0394 - val_output_4_loss: 8.4120 - val_output_3_precision: 0.7827 - val_output_3_recall: 0.3818 - val_output_3_true_negatives: 5056971.0000 - val_output_3_true_positives: 4498.0000 - val_output_3_false_negatives: 7282.0000 - val_output_3_false_positives: 1249.0000\n",
      "Epoch 28/50\n",
      "4607/4607 [==============================] - 560s 121ms/step - loss: 17.5395 - output_1_loss: 3.1875 - output_2_loss: 1.5530 - output_3_loss: 0.0422 - output_4_loss: 9.4427 - output_3_precision: 0.7275 - output_3_recall: 0.3085 - output_3_true_negatives: 124249416.0000 - output_3_true_positives: 83005.0000 - output_3_false_negatives: 186097.0000 - output_3_false_positives: 31097.0000 - val_loss: 12.7918 - val_output_1_loss: 1.9998 - val_output_2_loss: 0.5189 - val_output_3_loss: 0.0383 - val_output_4_loss: 8.1200 - val_output_3_precision: 0.7834 - val_output_3_recall: 0.4084 - val_output_3_true_negatives: 5056890.0000 - val_output_3_true_positives: 4811.0000 - val_output_3_false_negatives: 6969.0000 - val_output_3_false_positives: 1330.0000\n",
      "Epoch 29/50\n",
      "4607/4607 [==============================] - 555s 121ms/step - loss: 17.3253 - output_1_loss: 3.1639 - output_2_loss: 1.4955 - output_3_loss: 0.0418 - output_4_loss: 9.3347 - output_3_precision: 0.7319 - output_3_recall: 0.3166 - output_3_true_negatives: 124249368.0000 - output_3_true_positives: 85179.0000 - output_3_false_negatives: 183902.0000 - output_3_false_positives: 31201.0000 - val_loss: 12.5882 - val_output_1_loss: 1.9432 - val_output_2_loss: 0.5611 - val_output_3_loss: 0.0376 - val_output_4_loss: 7.9905 - val_output_3_precision: 0.7922 - val_output_3_recall: 0.4137 - val_output_3_true_negatives: 5056942.0000 - val_output_3_true_positives: 4873.0000 - val_output_3_false_negatives: 6907.0000 - val_output_3_false_positives: 1278.0000\n",
      "Epoch 30/50\n",
      "4607/4607 [==============================] - 547s 119ms/step - loss: 17.2668 - output_1_loss: 3.1333 - output_2_loss: 1.5846 - output_3_loss: 0.0415 - output_4_loss: 9.2495 - output_3_precision: 0.7336 - output_3_recall: 0.3238 - output_3_true_negatives: 124248648.0000 - output_3_true_positives: 87175.0000 - output_3_false_negatives: 182017.0000 - output_3_false_positives: 31656.0000 - val_loss: 12.6334 - val_output_1_loss: 1.9554 - val_output_2_loss: 0.5628 - val_output_3_loss: 0.0378 - val_output_4_loss: 8.0085 - val_output_3_precision: 0.7911 - val_output_3_recall: 0.4154 - val_output_3_true_negatives: 5056928.0000 - val_output_3_true_positives: 4894.0000 - val_output_3_false_negatives: 6886.0000 - val_output_3_false_positives: 1292.0000\n",
      "Epoch 31/50\n",
      "4607/4607 [==============================] - 550s 119ms/step - loss: 16.9833 - output_1_loss: 3.1123 - output_2_loss: 1.4516 - output_3_loss: 0.0410 - output_4_loss: 9.1429 - output_3_precision: 0.7397 - output_3_recall: 0.3320 - output_3_true_negatives: 124248864.0000 - output_3_true_positives: 89331.0000 - output_3_false_negatives: 179773.0000 - output_3_false_positives: 31442.0000 - val_loss: 12.1514 - val_output_1_loss: 1.8639 - val_output_2_loss: 0.5916 - val_output_3_loss: 0.0365 - val_output_4_loss: 7.6861 - val_output_3_precision: 0.8017 - val_output_3_recall: 0.4277 - val_output_3_true_negatives: 5056974.0000 - val_output_3_true_positives: 5038.0000 - val_output_3_false_negatives: 6742.0000 - val_output_3_false_positives: 1246.0000\n",
      "Epoch 32/50\n",
      "4607/4607 [==============================] - 557s 121ms/step - loss: 16.9837 - output_1_loss: 3.0865 - output_2_loss: 1.5640 - output_3_loss: 0.0408 - output_4_loss: 9.0835 - output_3_precision: 0.7412 - output_3_recall: 0.3370 - output_3_true_negatives: 124248760.0000 - output_3_true_positives: 90705.0000 - output_3_false_negatives: 178446.0000 - output_3_false_positives: 31666.0000 - val_loss: 12.2285 - val_output_1_loss: 1.9026 - val_output_2_loss: 0.6440 - val_output_3_loss: 0.0363 - val_output_4_loss: 7.6343 - val_output_3_precision: 0.8017 - val_output_3_recall: 0.4438 - val_output_3_true_negatives: 5056927.0000 - val_output_3_true_positives: 5228.0000 - val_output_3_false_negatives: 6552.0000 - val_output_3_false_positives: 1293.0000\n",
      "Epoch 33/50\n",
      "4607/4607 [==============================] - 551s 120ms/step - loss: 16.7672 - output_1_loss: 3.0749 - output_2_loss: 1.4750 - output_3_loss: 0.0405 - output_4_loss: 8.9803 - output_3_precision: 0.7458 - output_3_recall: 0.3452 - output_3_true_negatives: 124248848.0000 - output_3_true_positives: 92894.0000 - output_3_false_negatives: 176184.0000 - output_3_false_positives: 31655.0000 - val_loss: 11.6058 - val_output_1_loss: 1.7846 - val_output_2_loss: 0.5358 - val_output_3_loss: 0.0351 - val_output_4_loss: 7.3603 - val_output_3_precision: 0.8217 - val_output_3_recall: 0.4541 - val_output_3_true_negatives: 5057059.0000 - val_output_3_true_positives: 5349.0000 - val_output_3_false_negatives: 6431.0000 - val_output_3_false_positives: 1161.0000\n",
      "Epoch 34/50\n",
      "4607/4607 [==============================] - 556s 121ms/step - loss: 16.5076 - output_1_loss: 3.0096 - output_2_loss: 1.4505 - output_3_loss: 0.0400 - output_4_loss: 8.8780 - output_3_precision: 0.7501 - output_3_recall: 0.3535 - output_3_true_negatives: 124248776.0000 - output_3_true_positives: 95122.0000 - output_3_false_negatives: 173930.0000 - output_3_false_positives: 31696.0000 - val_loss: 11.6612 - val_output_1_loss: 1.7755 - val_output_2_loss: 0.6105 - val_output_3_loss: 0.0351 - val_output_4_loss: 7.3593 - val_output_3_precision: 0.8182 - val_output_3_recall: 0.4433 - val_output_3_true_negatives: 5057060.0000 - val_output_3_true_positives: 5222.0000 - val_output_3_false_negatives: 6558.0000 - val_output_3_false_positives: 1160.0000\n",
      "Epoch 35/50\n",
      "4607/4607 [==============================] - 549s 119ms/step - loss: 16.5485 - output_1_loss: 3.0352 - output_2_loss: 1.5190 - output_3_loss: 0.0398 - output_4_loss: 8.8000 - output_3_precision: 0.7508 - output_3_recall: 0.3594 - output_3_true_negatives: 124248336.0000 - output_3_true_positives: 96732.0000 - output_3_false_negatives: 172398.0000 - output_3_false_positives: 32115.0000 - val_loss: 11.1906 - val_output_1_loss: 1.7086 - val_output_2_loss: 0.4988 - val_output_3_loss: 0.0343 - val_output_4_loss: 7.1377 - val_output_3_precision: 0.8142 - val_output_3_recall: 0.4774 - val_output_3_true_negatives: 5056937.0000 - val_output_3_true_positives: 5624.0000 - val_output_3_false_negatives: 6156.0000 - val_output_3_false_positives: 1283.0000\n",
      "Epoch 36/50\n",
      "4607/4607 [==============================] - 559s 121ms/step - loss: 16.2142 - output_1_loss: 2.9759 - output_2_loss: 1.4114 - output_3_loss: 0.0393 - output_4_loss: 8.6937 - output_3_precision: 0.7557 - output_3_recall: 0.3681 - output_3_true_negatives: 124248368.0000 - output_3_true_positives: 99103.0000 - output_3_false_negatives: 170116.0000 - output_3_false_positives: 32044.0000 - val_loss: 11.3452 - val_output_1_loss: 1.7798 - val_output_2_loss: 0.4951 - val_output_3_loss: 0.0345 - val_output_4_loss: 7.1526 - val_output_3_precision: 0.8146 - val_output_3_recall: 0.4703 - val_output_3_true_negatives: 5056959.0000 - val_output_3_true_positives: 5540.0000 - val_output_3_false_negatives: 6240.0000 - val_output_3_false_positives: 1261.0000\n",
      "Epoch 37/50\n",
      "4607/4607 [==============================] - 560s 122ms/step - loss: 16.3536 - output_1_loss: 2.9845 - output_2_loss: 1.5623 - output_3_loss: 0.0393 - output_4_loss: 8.6650 - output_3_precision: 0.7586 - output_3_recall: 0.3720 - output_3_true_negatives: 124248608.0000 - output_3_true_positives: 100081.0000 - output_3_false_negatives: 168965.0000 - output_3_false_positives: 31843.0000 - val_loss: 11.1330 - val_output_1_loss: 1.7247 - val_output_2_loss: 0.5850 - val_output_3_loss: 0.0334 - val_output_4_loss: 6.9650 - val_output_3_precision: 0.8183 - val_output_3_recall: 0.4914 - val_output_3_true_negatives: 5056935.0000 - val_output_3_true_positives: 5789.0000 - val_output_3_false_negatives: 5991.0000 - val_output_3_false_positives: 1285.0000\n",
      "Epoch 38/50\n",
      "4607/4607 [==============================] - 538s 117ms/step - loss: 16.0215 - output_1_loss: 2.9527 - output_2_loss: 1.4323 - output_3_loss: 0.0387 - output_4_loss: 8.5291 - output_3_precision: 0.7623 - output_3_recall: 0.3814 - output_3_true_negatives: 124248496.0000 - output_3_true_positives: 102633.0000 - output_3_false_negatives: 166463.0000 - output_3_false_positives: 32006.0000 - val_loss: 10.8659 - val_output_1_loss: 1.6708 - val_output_2_loss: 0.4915 - val_output_3_loss: 0.0334 - val_output_4_loss: 6.8993 - val_output_3_precision: 0.8167 - val_output_3_recall: 0.5057 - val_output_3_true_negatives: 5056883.0000 - val_output_3_true_positives: 5957.0000 - val_output_3_false_negatives: 5823.0000 - val_output_3_false_positives: 1337.0000\n",
      "Epoch 39/50\n",
      "4607/4607 [==============================] - 547s 119ms/step - loss: 15.8990 - output_1_loss: 2.8918 - output_2_loss: 1.5076 - output_3_loss: 0.0384 - output_4_loss: 8.4541 - output_3_precision: 0.7640 - output_3_recall: 0.3883 - output_3_true_negatives: 124248080.0000 - output_3_true_positives: 104483.0000 - output_3_false_negatives: 164591.0000 - output_3_false_positives: 32271.0000 - val_loss: 10.8330 - val_output_1_loss: 1.6595 - val_output_2_loss: 0.5491 - val_output_3_loss: 0.0330 - val_output_4_loss: 6.8328 - val_output_3_precision: 0.8043 - val_output_3_recall: 0.5238 - val_output_3_true_negatives: 5056719.0000 - val_output_3_true_positives: 6170.0000 - val_output_3_false_negatives: 5610.0000 - val_output_3_false_positives: 1501.0000\n",
      "Epoch 40/50\n",
      "4607/4607 [==============================] - 550s 119ms/step - loss: 15.8148 - output_1_loss: 2.9044 - output_2_loss: 1.4661 - output_3_loss: 0.0381 - output_4_loss: 8.3875 - output_3_precision: 0.7686 - output_3_recall: 0.3955 - output_3_true_negatives: 124248304.0000 - output_3_true_positives: 106461.0000 - output_3_false_negatives: 162713.0000 - output_3_false_positives: 32060.0000 - val_loss: 10.4330 - val_output_1_loss: 1.5830 - val_output_2_loss: 0.5571 - val_output_3_loss: 0.0320 - val_output_4_loss: 6.5820 - val_output_3_precision: 0.8273 - val_output_3_recall: 0.5272 - val_output_3_true_negatives: 5056924.0000 - val_output_3_true_positives: 6210.0000 - val_output_3_false_negatives: 5570.0000 - val_output_3_false_positives: 1296.0000\n",
      "Epoch 41/50\n",
      "4607/4607 [==============================] - 559s 121ms/step - loss: 15.6500 - output_1_loss: 2.8575 - output_2_loss: 1.4621 - output_3_loss: 0.0378 - output_4_loss: 8.3215 - output_3_precision: 0.7692 - output_3_recall: 0.3992 - output_3_true_negatives: 124248112.0000 - output_3_true_positives: 107418.0000 - output_3_false_negatives: 161646.0000 - output_3_false_positives: 32230.0000 - val_loss: 10.0506 - val_output_1_loss: 1.5641 - val_output_2_loss: 0.5003 - val_output_3_loss: 0.0306 - val_output_4_loss: 6.2998 - val_output_3_precision: 0.8349 - val_output_3_recall: 0.5522 - val_output_3_true_negatives: 5056934.0000 - val_output_3_true_positives: 6505.0000 - val_output_3_false_negatives: 5275.0000 - val_output_3_false_positives: 1286.0000\n",
      "Epoch 42/50\n",
      "4607/4607 [==============================] - 542s 118ms/step - loss: 15.6526 - output_1_loss: 2.8588 - output_2_loss: 1.5331 - output_3_loss: 0.0375 - output_4_loss: 8.2520 - output_3_precision: 0.7725 - output_3_recall: 0.4064 - output_3_true_negatives: 124248336.0000 - output_3_true_positives: 109339.0000 - output_3_false_negatives: 159701.0000 - output_3_false_positives: 32193.0000 - val_loss: 10.8751 - val_output_1_loss: 1.6690 - val_output_2_loss: 0.5911 - val_output_3_loss: 0.0325 - val_output_4_loss: 6.8160 - val_output_3_precision: 0.8214 - val_output_3_recall: 0.5112 - val_output_3_true_negatives: 5056911.0000 - val_output_3_true_positives: 6022.0000 - val_output_3_false_negatives: 5758.0000 - val_output_3_false_positives: 1309.0000\n",
      "Epoch 43/50\n",
      "4607/4607 [==============================] - 549s 119ms/step - loss: 15.5918 - output_1_loss: 2.8787 - output_2_loss: 1.4545 - output_3_loss: 0.0375 - output_4_loss: 8.2301 - output_3_precision: 0.7737 - output_3_recall: 0.4086 - output_3_true_negatives: 124248456.0000 - output_3_true_positives: 109961.0000 - output_3_false_negatives: 159136.0000 - output_3_false_positives: 32167.0000 - val_loss: 10.2464 - val_output_1_loss: 1.5915 - val_output_2_loss: 0.5755 - val_output_3_loss: 0.0309 - val_output_4_loss: 6.3644 - val_output_3_precision: 0.8372 - val_output_3_recall: 0.5364 - val_output_3_true_negatives: 5056991.0000 - val_output_3_true_positives: 6319.0000 - val_output_3_false_negatives: 5461.0000 - val_output_3_false_positives: 1229.0000\n",
      "Epoch 44/50\n",
      "4607/4607 [==============================] - 533s 116ms/step - loss: 15.3926 - output_1_loss: 2.8412 - output_2_loss: 1.4528 - output_3_loss: 0.0370 - output_4_loss: 8.1094 - output_3_precision: 0.7775 - output_3_recall: 0.4180 - output_3_true_negatives: 124248208.0000 - output_3_true_positives: 112476.0000 - output_3_false_negatives: 156602.0000 - output_3_false_positives: 32182.0000 - val_loss: 9.5531 - val_output_1_loss: 1.4629 - val_output_2_loss: 0.4810 - val_output_3_loss: 0.0295 - val_output_4_loss: 6.0284 - val_output_3_precision: 0.8450 - val_output_3_recall: 0.5527 - val_output_3_true_negatives: 5057026.0000 - val_output_3_true_positives: 6511.0000 - val_output_3_false_negatives: 5269.0000 - val_output_3_false_positives: 1194.0000\n",
      "Epoch 45/50\n",
      "4607/4607 [==============================] - 519s 113ms/step - loss: 15.2834 - output_1_loss: 2.8037 - output_2_loss: 1.4615 - output_3_loss: 0.0368 - output_4_loss: 8.0671 - output_3_precision: 0.7791 - output_3_recall: 0.4220 - output_3_true_negatives: 124248280.0000 - output_3_true_positives: 113567.0000 - output_3_false_negatives: 155575.0000 - output_3_false_positives: 32204.0000 - val_loss: 9.4942 - val_output_1_loss: 1.4694 - val_output_2_loss: 0.5156 - val_output_3_loss: 0.0292 - val_output_4_loss: 5.9230 - val_output_3_precision: 0.8449 - val_output_3_recall: 0.5733 - val_output_3_true_negatives: 5056980.0000 - val_output_3_true_positives: 6754.0000 - val_output_3_false_negatives: 5026.0000 - val_output_3_false_positives: 1240.0000\n",
      "Epoch 46/50\n",
      "4607/4607 [==============================] - 525s 114ms/step - loss: 15.2318 - output_1_loss: 2.8147 - output_2_loss: 1.4718 - output_3_loss: 0.0365 - output_4_loss: 7.9847 - output_3_precision: 0.7812 - output_3_recall: 0.4280 - output_3_true_negatives: 124248136.0000 - output_3_true_positives: 115196.0000 - output_3_false_negatives: 153959.0000 - output_3_false_positives: 32255.0000 - val_loss: 9.4621 - val_output_1_loss: 1.4462 - val_output_2_loss: 0.5189 - val_output_3_loss: 0.0292 - val_output_4_loss: 5.9340 - val_output_3_precision: 0.8515 - val_output_3_recall: 0.5598 - val_output_3_true_negatives: 5057070.0000 - val_output_3_true_positives: 6594.0000 - val_output_3_false_negatives: 5186.0000 - val_output_3_false_positives: 1150.0000\n",
      "Epoch 47/50\n",
      "4607/4607 [==============================] - 525s 114ms/step - loss: 15.1767 - output_1_loss: 2.7884 - output_2_loss: 1.4844 - output_3_loss: 0.0364 - output_4_loss: 7.9698 - output_3_precision: 0.7839 - output_3_recall: 0.4317 - output_3_true_negatives: 124248392.0000 - output_3_true_positives: 116184.0000 - output_3_false_negatives: 152942.0000 - output_3_false_positives: 32032.0000 - val_loss: 9.3795 - val_output_1_loss: 1.4544 - val_output_2_loss: 0.4953 - val_output_3_loss: 0.0287 - val_output_4_loss: 5.8605 - val_output_3_precision: 0.8377 - val_output_3_recall: 0.5828 - val_output_3_true_negatives: 5056890.0000 - val_output_3_true_positives: 6865.0000 - val_output_3_false_negatives: 4915.0000 - val_output_3_false_positives: 1330.0000\n",
      "Epoch 48/50\n",
      "4607/4607 [==============================] - 521s 113ms/step - loss: 15.0709 - output_1_loss: 2.8150 - output_2_loss: 1.4033 - output_3_loss: 0.0362 - output_4_loss: 7.8929 - output_3_precision: 0.7876 - output_3_recall: 0.4371 - output_3_true_negatives: 124248840.0000 - output_3_true_positives: 117646.0000 - output_3_false_negatives: 151515.0000 - output_3_false_positives: 31718.0000 - val_loss: 9.0685 - val_output_1_loss: 1.3989 - val_output_2_loss: 0.5384 - val_output_3_loss: 0.0280 - val_output_4_loss: 5.6203 - val_output_3_precision: 0.8445 - val_output_3_recall: 0.6021 - val_output_3_true_negatives: 5056914.0000 - val_output_3_true_positives: 7093.0000 - val_output_3_false_negatives: 4687.0000 - val_output_3_false_positives: 1306.0000\n",
      "Epoch 49/50\n",
      "4607/4607 [==============================] - 516s 112ms/step - loss: 14.8635 - output_1_loss: 2.7516 - output_2_loss: 1.4384 - output_3_loss: 0.0356 - output_4_loss: 7.7798 - output_3_precision: 0.7877 - output_3_recall: 0.4441 - output_3_true_negatives: 124248424.0000 - output_3_true_positives: 119506.0000 - output_3_false_negatives: 149616.0000 - output_3_false_positives: 32201.0000 - val_loss: 8.9987 - val_output_1_loss: 1.3760 - val_output_2_loss: 0.4656 - val_output_3_loss: 0.0279 - val_output_4_loss: 5.6695 - val_output_3_precision: 0.8224 - val_output_3_recall: 0.6324 - val_output_3_true_negatives: 5056611.0000 - val_output_3_true_positives: 7450.0000 - val_output_3_false_negatives: 4330.0000 - val_output_3_false_positives: 1609.0000\n",
      "Epoch 50/50\n",
      "4607/4607 [==============================] - 559s 121ms/step - loss: 14.8312 - output_1_loss: 2.7637 - output_2_loss: 1.4360 - output_3_loss: 0.0354 - output_4_loss: 7.7263 - output_3_precision: 0.7915 - output_3_recall: 0.4502 - output_3_true_negatives: 124248856.0000 - output_3_true_positives: 121193.0000 - output_3_false_negatives: 147992.0000 - output_3_false_positives: 31925.0000 - val_loss: 8.7695 - val_output_1_loss: 1.3715 - val_output_2_loss: 0.4962 - val_output_3_loss: 0.0270 - val_output_4_loss: 5.4224 - val_output_3_precision: 0.8550 - val_output_3_recall: 0.6160 - val_output_3_true_negatives: 5056989.0000 - val_output_3_true_positives: 7257.0000 - val_output_3_false_negatives: 4523.0000 - val_output_3_false_positives: 1231.0000\n"
     ]
    }
   ],
   "source": [
    "history = model.fit(train_dataset, epochs=50,validation_data=val_dataset)"
   ]
  },
  {
   "cell_type": "code",
   "execution_count": 13,
   "metadata": {},
   "outputs": [],
   "source": [
    "os.chdir(\"/home/sergio/Documents/json_experiments\")\n",
    "import json\n",
    "#json.dumps(str(a))\n",
    "with open('history_finetuning_2141_50_epoch_nadam_0dot001.json', 'w') as fp:\n",
    "    json.dump(str(history.history), fp)"
   ]
  },
  {
   "cell_type": "code",
   "execution_count": 14,
   "metadata": {},
   "outputs": [],
   "source": [
    "model.save_weights('/home/sergio/Documents/weights_saved/pesos_50_epochs_nadam_2_1_4_1_0dot001_el_bueno')"
   ]
  },
  {
   "cell_type": "code",
   "execution_count": 15,
   "metadata": {},
   "outputs": [],
   "source": [
    "os.chdir(\"/home/sergio/Documents/pedestrian_dataset_train_tfr\")"
   ]
  },
  {
   "cell_type": "code",
   "execution_count": null,
   "metadata": {},
   "outputs": [],
   "source": []
  },
  {
   "cell_type": "code",
   "execution_count": 16,
   "metadata": {},
   "outputs": [
    {
     "name": "stdout",
     "output_type": "stream",
     "text": [
      "Epoch 1/30\n",
      "4607/4607 [==============================] - 509s 110ms/step - loss: 14.6874 - output_1_loss: 2.7555 - output_2_loss: 1.3629 - output_3_loss: 0.0352 - output_4_loss: 7.6727 - output_3_precision: 0.7940 - output_3_recall: 0.4551 - output_3_true_negatives: 124248656.0000 - output_3_true_positives: 122467.0000 - output_3_false_negatives: 146625.0000 - output_3_false_positives: 31777.0000 - val_loss: 8.7461 - val_output_1_loss: 1.3432 - val_output_2_loss: 0.5087 - val_output_3_loss: 0.0269 - val_output_4_loss: 5.4434 - val_output_3_precision: 0.8510 - val_output_3_recall: 0.6226 - val_output_3_true_negatives: 5056936.0000 - val_output_3_true_positives: 7334.0000 - val_output_3_false_negatives: 4446.0000 - val_output_3_false_positives: 1284.0000\n",
      "Epoch 2/30\n",
      "4607/4607 [==============================] - 528s 115ms/step - loss: 14.6643 - output_1_loss: 2.7374 - output_2_loss: 1.4411 - output_3_loss: 0.0349 - output_4_loss: 7.6090 - output_3_precision: 0.7955 - output_3_recall: 0.4589 - output_3_true_negatives: 124248656.0000 - output_3_true_positives: 123501.0000 - output_3_false_negatives: 145609.0000 - output_3_false_positives: 31755.0000 - val_loss: 8.6794 - val_output_1_loss: 1.3706 - val_output_2_loss: 0.4785 - val_output_3_loss: 0.0266 - val_output_4_loss: 5.3533 - val_output_3_precision: 0.8494 - val_output_3_recall: 0.6228 - val_output_3_true_negatives: 5056919.0000 - val_output_3_true_positives: 7336.0000 - val_output_3_false_negatives: 4444.0000 - val_output_3_false_positives: 1301.0000\n",
      "Epoch 3/30\n",
      "4607/4607 [==============================] - 520s 113ms/step - loss: 14.5807 - output_1_loss: 2.7230 - output_2_loss: 1.3972 - output_3_loss: 0.0348 - output_4_loss: 7.5983 - output_3_precision: 0.7960 - output_3_recall: 0.4616 - output_3_true_negatives: 124248896.0000 - output_3_true_positives: 124176.0000 - output_3_false_negatives: 144854.0000 - output_3_false_positives: 31831.0000 - val_loss: 8.5649 - val_output_1_loss: 1.3394 - val_output_2_loss: 0.5094 - val_output_3_loss: 0.0263 - val_output_4_loss: 5.2715 - val_output_3_precision: 0.8626 - val_output_3_recall: 0.6166 - val_output_3_true_negatives: 5057063.0000 - val_output_3_true_positives: 7263.0000 - val_output_3_false_negatives: 4517.0000 - val_output_3_false_positives: 1157.0000\n",
      "Epoch 4/30\n",
      "4607/4607 [==============================] - 524s 114ms/step - loss: 14.3649 - output_1_loss: 2.6875 - output_2_loss: 1.3359 - output_3_loss: 0.0345 - output_4_loss: 7.5160 - output_3_precision: 0.7984 - output_3_recall: 0.4673 - output_3_true_negatives: 124248704.0000 - output_3_true_positives: 125749.0000 - output_3_false_negatives: 143367.0000 - output_3_false_positives: 31754.0000 - val_loss: 8.4125 - val_output_1_loss: 1.3403 - val_output_2_loss: 0.4702 - val_output_3_loss: 0.0258 - val_output_4_loss: 5.1582 - val_output_3_precision: 0.8614 - val_output_3_recall: 0.6350 - val_output_3_true_negatives: 5057016.0000 - val_output_3_true_positives: 7480.0000 - val_output_3_false_negatives: 4300.0000 - val_output_3_false_positives: 1204.0000\n",
      "Epoch 5/30\n",
      "4607/4607 [==============================] - 515s 112ms/step - loss: 14.4387 - output_1_loss: 2.6960 - output_2_loss: 1.3977 - output_3_loss: 0.0344 - output_4_loss: 7.5112 - output_3_precision: 0.8002 - output_3_recall: 0.4693 - output_3_true_negatives: 124249048.0000 - output_3_true_positives: 126276.0000 - output_3_false_negatives: 142791.0000 - output_3_false_positives: 31520.0000 - val_loss: 8.5350 - val_output_1_loss: 1.3620 - val_output_2_loss: 0.4903 - val_output_3_loss: 0.0259 - val_output_4_loss: 5.2173 - val_output_3_precision: 0.8500 - val_output_3_recall: 0.6450 - val_output_3_true_negatives: 5056879.0000 - val_output_3_true_positives: 7598.0000 - val_output_3_false_negatives: 4182.0000 - val_output_3_false_positives: 1341.0000\n",
      "Epoch 6/30\n",
      "4607/4607 [==============================] - 527s 114ms/step - loss: 14.4735 - output_1_loss: 2.7040 - output_2_loss: 1.4633 - output_3_loss: 0.0343 - output_4_loss: 7.4650 - output_3_precision: 0.8010 - output_3_recall: 0.4724 - output_3_true_negatives: 124248848.0000 - output_3_true_positives: 127123.0000 - output_3_false_negatives: 141995.0000 - output_3_false_positives: 31573.0000 - val_loss: 8.4887 - val_output_1_loss: 1.3624 - val_output_2_loss: 0.4824 - val_output_3_loss: 0.0259 - val_output_4_loss: 5.1778 - val_output_3_precision: 0.8638 - val_output_3_recall: 0.6271 - val_output_3_true_negatives: 5057055.0000 - val_output_3_true_positives: 7387.0000 - val_output_3_false_negatives: 4393.0000 - val_output_3_false_positives: 1165.0000\n",
      "Epoch 7/30\n",
      "4607/4607 [==============================] - 519s 113ms/step - loss: 14.2066 - output_1_loss: 2.6730 - output_2_loss: 1.3675 - output_3_loss: 0.0338 - output_4_loss: 7.3579 - output_3_precision: 0.8034 - output_3_recall: 0.4805 - output_3_true_negatives: 124249024.0000 - output_3_true_positives: 129324.0000 - output_3_false_negatives: 139831.0000 - output_3_false_positives: 31656.0000 - val_loss: 8.3577 - val_output_1_loss: 1.3239 - val_output_2_loss: 0.4791 - val_output_3_loss: 0.0254 - val_output_4_loss: 5.1290 - val_output_3_precision: 0.8666 - val_output_3_recall: 0.6379 - val_output_3_true_negatives: 5057063.0000 - val_output_3_true_positives: 7514.0000 - val_output_3_false_negatives: 4266.0000 - val_output_3_false_positives: 1157.0000\n",
      "Epoch 8/30\n",
      "4607/4607 [==============================] - 528s 115ms/step - loss: 14.1411 - output_1_loss: 2.6854 - output_2_loss: 1.3222 - output_3_loss: 0.0335 - output_4_loss: 7.3141 - output_3_precision: 0.8050 - output_3_recall: 0.4847 - output_3_true_negatives: 124248848.0000 - output_3_true_positives: 130420.0000 - output_3_false_negatives: 138676.0000 - output_3_false_positives: 31588.0000 - val_loss: 8.1184 - val_output_1_loss: 1.2952 - val_output_2_loss: 0.4853 - val_output_3_loss: 0.0246 - val_output_4_loss: 4.9441 - val_output_3_precision: 0.8712 - val_output_3_recall: 0.6458 - val_output_3_true_negatives: 5057095.0000 - val_output_3_true_positives: 7608.0000 - val_output_3_false_negatives: 4172.0000 - val_output_3_false_positives: 1125.0000\n",
      "Epoch 9/30\n",
      "4607/4607 [==============================] - 523s 114ms/step - loss: 14.1043 - output_1_loss: 2.6652 - output_2_loss: 1.3351 - output_3_loss: 0.0336 - output_4_loss: 7.3043 - output_3_precision: 0.8061 - output_3_recall: 0.4859 - output_3_true_negatives: 124249112.0000 - output_3_true_positives: 130779.0000 - output_3_false_negatives: 138382.0000 - output_3_false_positives: 31463.0000 - val_loss: 8.0200 - val_output_1_loss: 1.2670 - val_output_2_loss: 0.4477 - val_output_3_loss: 0.0245 - val_output_4_loss: 4.9402 - val_output_3_precision: 0.8525 - val_output_3_recall: 0.6713 - val_output_3_true_negatives: 5056852.0000 - val_output_3_true_positives: 7908.0000 - val_output_3_false_negatives: 3872.0000 - val_output_3_false_positives: 1368.0000\n",
      "Epoch 10/30\n",
      "4607/4607 [==============================] - 533s 116ms/step - loss: 13.9919 - output_1_loss: 2.6314 - output_2_loss: 1.3603 - output_3_loss: 0.0333 - output_4_loss: 7.2355 - output_3_precision: 0.8071 - output_3_recall: 0.4908 - output_3_true_negatives: 124248928.0000 - output_3_true_positives: 132084.0000 - output_3_false_negatives: 137053.0000 - output_3_false_positives: 31566.0000 - val_loss: 7.7251 - val_output_1_loss: 1.2651 - val_output_2_loss: 0.4476 - val_output_3_loss: 0.0234 - val_output_4_loss: 4.6537 - val_output_3_precision: 0.8675 - val_output_3_recall: 0.6622 - val_output_3_true_negatives: 5057029.0000 - val_output_3_true_positives: 7801.0000 - val_output_3_false_negatives: 3979.0000 - val_output_3_false_positives: 1191.0000\n",
      "Epoch 11/30\n",
      "4607/4607 [==============================] - 517s 112ms/step - loss: 13.9707 - output_1_loss: 2.6427 - output_2_loss: 1.3410 - output_3_loss: 0.0331 - output_4_loss: 7.2120 - output_3_precision: 0.8097 - output_3_recall: 0.4934 - output_3_true_negatives: 124249200.0000 - output_3_true_positives: 132774.0000 - output_3_false_negatives: 136336.0000 - output_3_false_positives: 31207.0000 - val_loss: 7.6785 - val_output_1_loss: 1.2420 - val_output_2_loss: 0.4569 - val_output_3_loss: 0.0230 - val_output_4_loss: 4.6456 - val_output_3_precision: 0.8547 - val_output_3_recall: 0.6982 - val_output_3_true_negatives: 5056822.0000 - val_output_3_true_positives: 8225.0000 - val_output_3_false_negatives: 3555.0000 - val_output_3_false_positives: 1398.0000\n",
      "Epoch 12/30\n",
      "4607/4607 [==============================] - 519s 113ms/step - loss: 13.9648 - output_1_loss: 2.6571 - output_2_loss: 1.3155 - output_3_loss: 0.0332 - output_4_loss: 7.2024 - output_3_precision: 0.8107 - output_3_recall: 0.4949 - output_3_true_negatives: 124249488.0000 - output_3_true_positives: 133182.0000 - output_3_false_negatives: 135909.0000 - output_3_false_positives: 31103.0000 - val_loss: 7.7160 - val_output_1_loss: 1.2327 - val_output_2_loss: 0.4761 - val_output_3_loss: 0.0231 - val_output_4_loss: 4.6819 - val_output_3_precision: 0.8617 - val_output_3_recall: 0.6896 - val_output_3_true_negatives: 5056916.0000 - val_output_3_true_positives: 8123.0000 - val_output_3_false_negatives: 3657.0000 - val_output_3_false_positives: 1304.0000\n",
      "Epoch 13/30\n",
      "4607/4607 [==============================] - 562s 122ms/step - loss: 13.8460 - output_1_loss: 2.6148 - output_2_loss: 1.3765 - output_3_loss: 0.0326 - output_4_loss: 7.1094 - output_3_precision: 0.8121 - output_3_recall: 0.5017 - output_3_true_negatives: 124249104.0000 - output_3_true_positives: 134993.0000 - output_3_false_negatives: 134102.0000 - output_3_false_positives: 31232.0000 - val_loss: 7.5597 - val_output_1_loss: 1.2101 - val_output_2_loss: 0.5006 - val_output_3_loss: 0.0227 - val_output_4_loss: 4.5480 - val_output_3_precision: 0.8887 - val_output_3_recall: 0.6717 - val_output_3_true_negatives: 5057229.0000 - val_output_3_true_positives: 7913.0000 - val_output_3_false_negatives: 3867.0000 - val_output_3_false_positives: 991.0000\n",
      "Epoch 14/30\n",
      "4607/4607 [==============================] - 539s 117ms/step - loss: 13.8630 - output_1_loss: 2.6182 - output_2_loss: 1.3798 - output_3_loss: 0.0328 - output_4_loss: 7.1158 - output_3_precision: 0.8138 - output_3_recall: 0.5025 - output_3_true_negatives: 124249216.0000 - output_3_true_positives: 135289.0000 - output_3_false_negatives: 133942.0000 - output_3_false_positives: 30951.0000 - val_loss: 7.3858 - val_output_1_loss: 1.1835 - val_output_2_loss: 0.4655 - val_output_3_loss: 0.0223 - val_output_4_loss: 4.4643 - val_output_3_precision: 0.8768 - val_output_3_recall: 0.7011 - val_output_3_true_negatives: 5057060.0000 - val_output_3_true_positives: 8259.0000 - val_output_3_false_negatives: 3521.0000 - val_output_3_false_positives: 1160.0000\n",
      "Epoch 15/30\n",
      "4607/4607 [==============================] - 498s 108ms/step - loss: 13.7328 - output_1_loss: 2.6037 - output_2_loss: 1.3491 - output_3_loss: 0.0324 - output_4_loss: 7.0467 - output_3_precision: 0.8155 - output_3_recall: 0.5080 - output_3_true_negatives: 124249656.0000 - output_3_true_positives: 136718.0000 - output_3_false_negatives: 132412.0000 - output_3_false_positives: 30925.0000 - val_loss: 7.3695 - val_output_1_loss: 1.1766 - val_output_2_loss: 0.4742 - val_output_3_loss: 0.0223 - val_output_4_loss: 4.4530 - val_output_3_precision: 0.8792 - val_output_3_recall: 0.6842 - val_output_3_true_negatives: 5057113.0000 - val_output_3_true_positives: 8060.0000 - val_output_3_false_negatives: 3720.0000 - val_output_3_false_positives: 1107.0000\n",
      "Epoch 16/30\n",
      "4607/4607 [==============================] - 468s 102ms/step - loss: 13.7019 - output_1_loss: 2.6194 - output_2_loss: 1.3299 - output_3_loss: 0.0323 - output_4_loss: 7.0042 - output_3_precision: 0.8162 - output_3_recall: 0.5121 - output_3_true_negatives: 124249360.0000 - output_3_true_positives: 137800.0000 - output_3_false_negatives: 131270.0000 - output_3_false_positives: 31024.0000 - val_loss: 7.3203 - val_output_1_loss: 1.1732 - val_output_2_loss: 0.5092 - val_output_3_loss: 0.0218 - val_output_4_loss: 4.3772 - val_output_3_precision: 0.8611 - val_output_3_recall: 0.7207 - val_output_3_true_negatives: 5056851.0000 - val_output_3_true_positives: 8490.0000 - val_output_3_false_negatives: 3290.0000 - val_output_3_false_positives: 1369.0000\n",
      "Epoch 17/30\n",
      "4607/4607 [==============================] - 479s 104ms/step - loss: 13.8027 - output_1_loss: 2.6232 - output_2_loss: 1.3739 - output_3_loss: 0.0325 - output_4_loss: 7.0525 - output_3_precision: 0.8152 - output_3_recall: 0.5079 - output_3_true_negatives: 124249384.0000 - output_3_true_positives: 136698.0000 - output_3_false_negatives: 132459.0000 - output_3_false_positives: 30996.0000 - val_loss: 7.3249 - val_output_1_loss: 1.1799 - val_output_2_loss: 0.4709 - val_output_3_loss: 0.0220 - val_output_4_loss: 4.4062 - val_output_3_precision: 0.9057 - val_output_3_recall: 0.6714 - val_output_3_true_negatives: 5057397.0000 - val_output_3_true_positives: 7909.0000 - val_output_3_false_negatives: 3871.0000 - val_output_3_false_positives: 823.0000\n",
      "Epoch 18/30\n",
      "4607/4607 [==============================] - 468s 102ms/step - loss: 13.6664 - output_1_loss: 2.5961 - output_2_loss: 1.3701 - output_3_loss: 0.0321 - output_4_loss: 6.9756 - output_3_precision: 0.8184 - output_3_recall: 0.5145 - output_3_true_negatives: 124249592.0000 - output_3_true_positives: 138471.0000 - output_3_false_negatives: 130669.0000 - output_3_false_positives: 30717.0000 - val_loss: 7.0741 - val_output_1_loss: 1.1524 - val_output_2_loss: 0.4477 - val_output_3_loss: 0.0212 - val_output_4_loss: 4.2368 - val_output_3_precision: 0.8742 - val_output_3_recall: 0.7232 - val_output_3_true_negatives: 5056994.0000 - val_output_3_true_positives: 8519.0000 - val_output_3_false_negatives: 3261.0000 - val_output_3_false_positives: 1226.0000\n",
      "Epoch 19/30\n",
      "4607/4607 [==============================] - 456s 99ms/step - loss: 13.4668 - output_1_loss: 2.5725 - output_2_loss: 1.3048 - output_3_loss: 0.0316 - output_4_loss: 6.8906 - output_3_precision: 0.8210 - output_3_recall: 0.5216 - output_3_true_negatives: 124249880.0000 - output_3_true_positives: 140360.0000 - output_3_false_negatives: 128733.0000 - output_3_false_positives: 30596.0000 - val_loss: 6.9449 - val_output_1_loss: 1.1321 - val_output_2_loss: 0.4432 - val_output_3_loss: 0.0208 - val_output_4_loss: 4.1542 - val_output_3_precision: 0.8896 - val_output_3_recall: 0.7124 - val_output_3_true_negatives: 5057179.0000 - val_output_3_true_positives: 8392.0000 - val_output_3_false_negatives: 3388.0000 - val_output_3_false_positives: 1041.0000\n",
      "Epoch 20/30\n",
      "4607/4607 [==============================] - 453s 98ms/step - loss: 13.4312 - output_1_loss: 2.5685 - output_2_loss: 1.3219 - output_3_loss: 0.0315 - output_4_loss: 6.8464 - output_3_precision: 0.8212 - output_3_recall: 0.5241 - output_3_true_negatives: 124249848.0000 - output_3_true_positives: 141048.0000 - output_3_false_negatives: 128085.0000 - output_3_false_positives: 30701.0000 - val_loss: 6.8588 - val_output_1_loss: 1.1359 - val_output_2_loss: 0.4624 - val_output_3_loss: 0.0204 - val_output_4_loss: 4.0428 - val_output_3_precision: 0.8928 - val_output_3_recall: 0.7201 - val_output_3_true_negatives: 5057201.0000 - val_output_3_true_positives: 8483.0000 - val_output_3_false_negatives: 3297.0000 - val_output_3_false_positives: 1019.0000\n",
      "Epoch 21/30\n",
      "4607/4607 [==============================] - 450s 98ms/step - loss: 13.4616 - output_1_loss: 2.5898 - output_2_loss: 1.3065 - output_3_loss: 0.0315 - output_4_loss: 6.8495 - output_3_precision: 0.8226 - output_3_recall: 0.5254 - output_3_true_negatives: 124250088.0000 - output_3_true_positives: 141409.0000 - output_3_false_negatives: 127717.0000 - output_3_false_positives: 30500.0000 - val_loss: 7.0956 - val_output_1_loss: 1.1626 - val_output_2_loss: 0.4818 - val_output_3_loss: 0.0209 - val_output_4_loss: 4.2049 - val_output_3_precision: 0.8724 - val_output_3_recall: 0.7312 - val_output_3_true_negatives: 5056960.0000 - val_output_3_true_positives: 8614.0000 - val_output_3_false_negatives: 3166.0000 - val_output_3_false_positives: 1260.0000\n",
      "Epoch 22/30\n",
      "4607/4607 [==============================] - 445s 97ms/step - loss: 13.3343 - output_1_loss: 2.5557 - output_2_loss: 1.3296 - output_3_loss: 0.0311 - output_4_loss: 6.7689 - output_3_precision: 0.8232 - output_3_recall: 0.5306 - output_3_true_negatives: 124249616.0000 - output_3_true_positives: 142822.0000 - output_3_false_negatives: 126352.0000 - output_3_false_positives: 30683.0000 - val_loss: 6.9713 - val_output_1_loss: 1.1318 - val_output_2_loss: 0.4590 - val_output_3_loss: 0.0207 - val_output_4_loss: 4.1659 - val_output_3_precision: 0.8846 - val_output_3_recall: 0.7314 - val_output_3_true_negatives: 5057096.0000 - val_output_3_true_positives: 8616.0000 - val_output_3_false_negatives: 3164.0000 - val_output_3_false_positives: 1124.0000\n",
      "Epoch 23/30\n",
      "4607/4607 [==============================] - 442s 96ms/step - loss: 13.2916 - output_1_loss: 2.5381 - output_2_loss: 1.3420 - output_3_loss: 0.0311 - output_4_loss: 6.7491 - output_3_precision: 0.8237 - output_3_recall: 0.5321 - output_3_true_negatives: 124249904.0000 - output_3_true_positives: 143188.0000 - output_3_false_negatives: 125888.0000 - output_3_false_positives: 30646.0000 - val_loss: 6.6199 - val_output_1_loss: 1.0997 - val_output_2_loss: 0.4583 - val_output_3_loss: 0.0195 - val_output_4_loss: 3.8841 - val_output_3_precision: 0.8792 - val_output_3_recall: 0.7480 - val_output_3_true_negatives: 5057009.0000 - val_output_3_true_positives: 8812.0000 - val_output_3_false_negatives: 2968.0000 - val_output_3_false_positives: 1211.0000\n",
      "Epoch 24/30\n",
      "4607/4607 [==============================] - 436s 95ms/step - loss: 13.2195 - output_1_loss: 2.5303 - output_2_loss: 1.3218 - output_3_loss: 0.0308 - output_4_loss: 6.7140 - output_3_precision: 0.8250 - output_3_recall: 0.5357 - output_3_true_negatives: 124249800.0000 - output_3_true_positives: 144181.0000 - output_3_false_negatives: 124957.0000 - output_3_false_positives: 30575.0000 - val_loss: 6.5029 - val_output_1_loss: 1.0778 - val_output_2_loss: 0.4689 - val_output_3_loss: 0.0192 - val_output_4_loss: 3.8016 - val_output_3_precision: 0.8818 - val_output_3_recall: 0.7489 - val_output_3_true_negatives: 5057037.0000 - val_output_3_true_positives: 8822.0000 - val_output_3_false_negatives: 2958.0000 - val_output_3_false_positives: 1183.0000\n",
      "Epoch 25/30\n",
      "4607/4607 [==============================] - 435s 95ms/step - loss: 13.2154 - output_1_loss: 2.5399 - output_2_loss: 1.3157 - output_3_loss: 0.0307 - output_4_loss: 6.6970 - output_3_precision: 0.8283 - output_3_recall: 0.5390 - output_3_true_negatives: 124250312.0000 - output_3_true_positives: 145043.0000 - output_3_false_negatives: 124067.0000 - output_3_false_positives: 30069.0000 - val_loss: 6.7198 - val_output_1_loss: 1.0993 - val_output_2_loss: 0.4831 - val_output_3_loss: 0.0197 - val_output_4_loss: 3.9595 - val_output_3_precision: 0.8929 - val_output_3_recall: 0.7340 - val_output_3_true_negatives: 5057183.0000 - val_output_3_true_positives: 8646.0000 - val_output_3_false_negatives: 3134.0000 - val_output_3_false_positives: 1037.0000\n",
      "Epoch 26/30\n",
      "4607/4607 [==============================] - 434s 94ms/step - loss: 13.4358 - output_1_loss: 2.5717 - output_2_loss: 1.4289 - output_3_loss: 0.0310 - output_4_loss: 6.7392 - output_3_precision: 0.8285 - output_3_recall: 0.5357 - output_3_true_negatives: 124250824.0000 - output_3_true_positives: 144126.0000 - output_3_false_negatives: 124917.0000 - output_3_false_positives: 29828.0000 - val_loss: 6.5205 - val_output_1_loss: 1.0802 - val_output_2_loss: 0.4569 - val_output_3_loss: 0.0191 - val_output_4_loss: 3.8268 - val_output_3_precision: 0.8897 - val_output_3_recall: 0.7468 - val_output_3_true_negatives: 5057129.0000 - val_output_3_true_positives: 8797.0000 - val_output_3_false_negatives: 2983.0000 - val_output_3_false_positives: 1091.0000\n",
      "Epoch 27/30\n",
      "4607/4607 [==============================] - 433s 94ms/step - loss: 13.0808 - output_1_loss: 2.5158 - output_2_loss: 1.3045 - output_3_loss: 0.0304 - output_4_loss: 6.6232 - output_3_precision: 0.8299 - output_3_recall: 0.5435 - output_3_true_negatives: 124250472.0000 - output_3_true_positives: 146242.0000 - output_3_false_negatives: 122843.0000 - output_3_false_positives: 29975.0000 - val_loss: 6.6892 - val_output_1_loss: 1.1374 - val_output_2_loss: 0.4581 - val_output_3_loss: 0.0194 - val_output_4_loss: 3.8789 - val_output_3_precision: 0.8841 - val_output_3_recall: 0.7398 - val_output_3_true_negatives: 5057078.0000 - val_output_3_true_positives: 8715.0000 - val_output_3_false_negatives: 3065.0000 - val_output_3_false_positives: 1142.0000\n",
      "Epoch 28/30\n",
      "4607/4607 [==============================] - 431s 94ms/step - loss: 13.1864 - output_1_loss: 2.5261 - output_2_loss: 1.3441 - output_3_loss: 0.0308 - output_4_loss: 6.6671 - output_3_precision: 0.8296 - output_3_recall: 0.5407 - output_3_true_negatives: 124250568.0000 - output_3_true_positives: 145562.0000 - output_3_false_negatives: 123629.0000 - output_3_false_positives: 29897.0000 - val_loss: 6.5561 - val_output_1_loss: 1.0675 - val_output_2_loss: 0.4595 - val_output_3_loss: 0.0191 - val_output_4_loss: 3.8852 - val_output_3_precision: 0.8552 - val_output_3_recall: 0.7898 - val_output_3_true_negatives: 5056645.0000 - val_output_3_true_positives: 9304.0000 - val_output_3_false_negatives: 2476.0000 - val_output_3_false_positives: 1575.0000\n",
      "Epoch 29/30\n",
      "4607/4607 [==============================] - 422s 92ms/step - loss: 13.0624 - output_1_loss: 2.4964 - output_2_loss: 1.3354 - output_3_loss: 0.0305 - output_4_loss: 6.6123 - output_3_precision: 0.8305 - output_3_recall: 0.5461 - output_3_true_negatives: 124250544.0000 - output_3_true_positives: 146953.0000 - output_3_false_negatives: 122139.0000 - output_3_false_positives: 29997.0000 - val_loss: 6.5093 - val_output_1_loss: 1.0904 - val_output_2_loss: 0.4506 - val_output_3_loss: 0.0189 - val_output_4_loss: 3.8022 - val_output_3_precision: 0.8971 - val_output_3_recall: 0.7456 - val_output_3_true_negatives: 5057213.0000 - val_output_3_true_positives: 8783.0000 - val_output_3_false_negatives: 2997.0000 - val_output_3_false_positives: 1007.0000\n",
      "Epoch 30/30\n",
      "4607/4607 [==============================] - 415s 90ms/step - loss: 13.1145 - output_1_loss: 2.5465 - output_2_loss: 1.3041 - output_3_loss: 0.0304 - output_4_loss: 6.5957 - output_3_precision: 0.8329 - output_3_recall: 0.5471 - output_3_true_negatives: 124250968.0000 - output_3_true_positives: 147232.0000 - output_3_false_negatives: 121873.0000 - output_3_false_positives: 29530.0000 - val_loss: 6.2104 - val_output_1_loss: 1.0611 - val_output_2_loss: 0.4532 - val_output_3_loss: 0.0179 - val_output_4_loss: 3.5635 - val_output_3_precision: 0.8944 - val_output_3_recall: 0.7772 - val_output_3_true_negatives: 5057139.0000 - val_output_3_true_positives: 9155.0000 - val_output_3_false_negatives: 2625.0000 - val_output_3_false_positives: 1081.0000\n"
     ]
    }
   ],
   "source": [
    "history_part2 = model.fit(train_dataset, epochs=30,validation_data=val_dataset)"
   ]
  },
  {
   "cell_type": "code",
   "execution_count": null,
   "metadata": {},
   "outputs": [],
   "source": []
  },
  {
   "cell_type": "code",
   "execution_count": 18,
   "metadata": {},
   "outputs": [],
   "source": [
    "os.chdir(\"/home/sergio/Documents/json_experiments\")\n",
    "import json\n",
    "#json.dumps(str(a))\n",
    "with open('history_finetuning_2141_50_to_80_epoch_nadam_0dot001.json', 'w') as fp:\n",
    "    json.dump(str(history_part2.history), fp)"
   ]
  },
  {
   "cell_type": "code",
   "execution_count": 19,
   "metadata": {},
   "outputs": [],
   "source": [
    "model.save_weights('/home/sergio/Documents/weights_saved/pesos_50_to_80_epochs_nadam_2_1_4_1_0dot001_el_bueno')"
   ]
  },
  {
   "cell_type": "code",
   "execution_count": 20,
   "metadata": {},
   "outputs": [],
   "source": [
    "os.chdir(\"/home/sergio/Documents/pedestrian_dataset_train_tfr\")"
   ]
  },
  {
   "cell_type": "code",
   "execution_count": null,
   "metadata": {},
   "outputs": [],
   "source": []
  },
  {
   "cell_type": "code",
   "execution_count": 21,
   "metadata": {},
   "outputs": [
    {
     "name": "stdout",
     "output_type": "stream",
     "text": [
      "Epoch 1/10\n",
      "4607/4607 [==============================] - 522s 113ms/step - loss: 13.0215 - output_1_loss: 2.5013 - output_2_loss: 1.3627 - output_3_loss: 0.0301 - output_4_loss: 6.5360 - output_3_precision: 0.8338 - output_3_recall: 0.5523 - output_3_true_negatives: 124251008.0000 - output_3_true_positives: 148666.0000 - output_3_false_negatives: 120500.0000 - output_3_false_positives: 29632.0000 - val_loss: 6.3861 - val_output_1_loss: 1.0648 - val_output_2_loss: 0.4577 - val_output_3_loss: 0.0187 - val_output_4_loss: 3.7241 - val_output_3_precision: 0.8922 - val_output_3_recall: 0.7635 - val_output_3_true_negatives: 5057133.0000 - val_output_3_true_positives: 8994.0000 - val_output_3_false_negatives: 2786.0000 - val_output_3_false_positives: 1087.0000 511s 112ms/step - loss: 13.0014 - output_1_loss: 2.4981 - output_2_loss: 1.3597 - output_3_loss: 0.0300 - output_4_loss: 6.5255 - output_3_precision: 0.8339 - output_3_recall: 0.5526 - output_3_true_negatives: 122683408.00\n",
      "Epoch 2/10\n",
      "4607/4607 [==============================] - 526s 114ms/step - loss: 12.9531 - output_1_loss: 2.5017 - output_2_loss: 1.3134 - output_3_loss: 0.0301 - output_4_loss: 6.5160 - output_3_precision: 0.8348 - output_3_recall: 0.5543 - output_3_true_negatives: 124251104.0000 - output_3_true_positives: 149161.0000 - output_3_false_negatives: 119946.0000 - output_3_false_positives: 29527.0000 - val_loss: 6.0953 - val_output_1_loss: 1.0152 - val_output_2_loss: 0.4535 - val_output_3_loss: 0.0177 - val_output_4_loss: 3.5408 - val_output_3_precision: 0.8951 - val_output_3_recall: 0.7711 - val_output_3_true_negatives: 5057155.0000 - val_output_3_true_positives: 9084.0000 - val_output_3_false_negatives: 2696.0000 - val_output_3_false_positives: 1065.0000\n",
      "Epoch 3/10\n",
      "4607/4607 [==============================] - 524s 114ms/step - loss: 12.9165 - output_1_loss: 2.5074 - output_2_loss: 1.2835 - output_3_loss: 0.0300 - output_4_loss: 6.4983 - output_3_precision: 0.8359 - output_3_recall: 0.5559 - output_3_true_negatives: 124251224.0000 - output_3_true_positives: 149597.0000 - output_3_false_negatives: 119503.0000 - output_3_false_positives: 29377.0000 - val_loss: 6.1750 - val_output_1_loss: 1.0531 - val_output_2_loss: 0.4343 - val_output_3_loss: 0.0178 - val_output_4_loss: 3.5631 - val_output_3_precision: 0.8988 - val_output_3_recall: 0.7585 - val_output_3_true_negatives: 5057214.0000 - val_output_3_true_positives: 8935.0000 - val_output_3_false_negatives: 2845.0000 - val_output_3_false_positives: 1006.0000\n",
      "Epoch 4/10\n",
      "4607/4607 [==============================] - 529s 115ms/step - loss: 12.7986 - output_1_loss: 2.4582 - output_2_loss: 1.3314 - output_3_loss: 0.0295 - output_4_loss: 6.4327 - output_3_precision: 0.8388 - output_3_recall: 0.5607 - output_3_true_negatives: 124251640.0000 - output_3_true_positives: 150852.0000 - output_3_false_negatives: 118212.0000 - output_3_false_positives: 28994.0000 - val_loss: 5.9781 - val_output_1_loss: 1.0243 - val_output_2_loss: 0.4223 - val_output_3_loss: 0.0172 - val_output_4_loss: 3.4382 - val_output_3_precision: 0.9093 - val_output_3_recall: 0.7710 - val_output_3_true_negatives: 5057314.0000 - val_output_3_true_positives: 9082.0000 - val_output_3_false_negatives: 2698.0000 - val_output_3_false_positives: 906.0000\n",
      "Epoch 5/10\n",
      "4607/4607 [==============================] - 536s 116ms/step - loss: 12.7554 - output_1_loss: 2.4436 - output_2_loss: 1.3505 - output_3_loss: 0.0293 - output_4_loss: 6.4003 - output_3_precision: 0.8365 - output_3_recall: 0.5629 - output_3_true_negatives: 124250576.0000 - output_3_true_positives: 151518.0000 - output_3_false_negatives: 117648.0000 - output_3_false_positives: 29620.0000 - val_loss: 5.8885 - val_output_1_loss: 1.0432 - val_output_2_loss: 0.4304 - val_output_3_loss: 0.0167 - val_output_4_loss: 3.3049 - val_output_3_precision: 0.9172 - val_output_3_recall: 0.7737 - val_output_3_true_negatives: 5057397.0000 - val_output_3_true_positives: 9114.0000 - val_output_3_false_negatives: 2666.0000 - val_output_3_false_positives: 823.0000\n",
      "Epoch 6/10\n",
      "4607/4607 [==============================] - 535s 116ms/step - loss: 12.8499 - output_1_loss: 2.4871 - output_2_loss: 1.3559 - output_3_loss: 0.0294 - output_4_loss: 6.4021 - output_3_precision: 0.8393 - output_3_recall: 0.5638 - output_3_true_negatives: 124251496.0000 - output_3_true_positives: 151681.0000 - output_3_false_negatives: 117357.0000 - output_3_false_positives: 29041.0000 - val_loss: 5.9687 - val_output_1_loss: 1.0386 - val_output_2_loss: 0.4244 - val_output_3_loss: 0.0169 - val_output_4_loss: 3.3995 - val_output_3_precision: 0.9084 - val_output_3_recall: 0.7593 - val_output_3_true_negatives: 5057318.0000 - val_output_3_true_positives: 8945.0000 - val_output_3_false_negatives: 2835.0000 - val_output_3_false_positives: 902.0000\n",
      "Epoch 7/10\n",
      "4607/4607 [==============================] - 530s 115ms/step - loss: 12.7607 - output_1_loss: 2.4661 - output_2_loss: 1.2949 - output_3_loss: 0.0296 - output_4_loss: 6.4154 - output_3_precision: 0.8390 - output_3_recall: 0.5635 - output_3_true_negatives: 124251320.0000 - output_3_true_positives: 151677.0000 - output_3_false_negatives: 117498.0000 - output_3_false_positives: 29110.0000 - val_loss: 6.2321 - val_output_1_loss: 1.0819 - val_output_2_loss: 0.4427 - val_output_3_loss: 0.0174 - val_output_4_loss: 3.5559 - val_output_3_precision: 0.8997 - val_output_3_recall: 0.7683 - val_output_3_true_negatives: 5057211.0000 - val_output_3_true_positives: 9050.0000 - val_output_3_false_negatives: 2730.0000 - val_output_3_false_positives: 1009.0000\n",
      "Epoch 8/10\n",
      "4607/4607 [==============================] - 516s 112ms/step - loss: 12.8417 - output_1_loss: 2.5024 - output_2_loss: 1.2957 - output_3_loss: 0.0296 - output_4_loss: 6.4229 - output_3_precision: 0.8392 - output_3_recall: 0.5632 - output_3_true_negatives: 124251472.0000 - output_3_true_positives: 151482.0000 - output_3_false_negatives: 117506.0000 - output_3_false_positives: 29036.0000 - val_loss: 5.8852 - val_output_1_loss: 1.0162 - val_output_2_loss: 0.4307 - val_output_3_loss: 0.0167 - val_output_4_loss: 3.3551 - val_output_3_precision: 0.8996 - val_output_3_recall: 0.7937 - val_output_3_true_negatives: 5057177.0000 - val_output_3_true_positives: 9350.0000 - val_output_3_false_negatives: 2430.0000 - val_output_3_false_positives: 1043.0000\n",
      "Epoch 9/10\n",
      "4607/4607 [==============================] - 524s 114ms/step - loss: 12.7661 - output_1_loss: 2.4772 - output_2_loss: 1.3291 - output_3_loss: 0.0293 - output_4_loss: 6.3656 - output_3_precision: 0.8402 - output_3_recall: 0.5676 - output_3_true_negatives: 124251216.0000 - output_3_true_positives: 152764.0000 - output_3_false_negatives: 116395.0000 - output_3_false_positives: 29045.0000 - val_loss: 5.8184 - val_output_1_loss: 0.9997 - val_output_2_loss: 0.4436 - val_output_3_loss: 0.0165 - val_output_4_loss: 3.3092 - val_output_3_precision: 0.9000 - val_output_3_recall: 0.8003 - val_output_3_true_negatives: 5057172.0000 - val_output_3_true_positives: 9428.0000 - val_output_3_false_negatives: 2352.0000 - val_output_3_false_positives: 1048.0000\n",
      "Epoch 10/10\n",
      "4607/4607 [==============================] - 520s 113ms/step - loss: 12.6535 - output_1_loss: 2.4627 - output_2_loss: 1.2687 - output_3_loss: 0.0292 - output_4_loss: 6.3426 - output_3_precision: 0.8413 - output_3_recall: 0.5694 - output_3_true_negatives: 124251608.0000 - output_3_true_positives: 153259.0000 - output_3_false_negatives: 115914.0000 - output_3_false_positives: 28919.0000 - val_loss: 5.8685 - val_output_1_loss: 0.9950 - val_output_2_loss: 0.4241 - val_output_3_loss: 0.0168 - val_output_4_loss: 3.3873 - val_output_3_precision: 0.9062 - val_output_3_recall: 0.7940 - val_output_3_true_negatives: 5057252.0000 - val_output_3_true_positives: 9353.0000 - val_output_3_false_negatives: 2427.0000 - val_output_3_false_positives: 968.0000\n"
     ]
    }
   ],
   "source": [
    "history_part3 = model.fit(train_dataset, epochs=10,validation_data=val_dataset)"
   ]
  },
  {
   "cell_type": "code",
   "execution_count": null,
   "metadata": {},
   "outputs": [],
   "source": []
  },
  {
   "cell_type": "code",
   "execution_count": null,
   "metadata": {},
   "outputs": [],
   "source": []
  },
  {
   "cell_type": "code",
   "execution_count": 22,
   "metadata": {},
   "outputs": [],
   "source": [
    "os.chdir(\"/home/sergio/Documents/json_experiments\")\n",
    "import json\n",
    "#json.dumps(str(a))\n",
    "with open('history_finetuning_2141_80_to_90_epoch_nadam_0dot001.json', 'w') as fp:\n",
    "    json.dump(str(history_part3.history), fp)"
   ]
  },
  {
   "cell_type": "code",
   "execution_count": 23,
   "metadata": {},
   "outputs": [],
   "source": [
    "model.save_weights('/home/sergio/Documents/weights_saved/pesos_80_to_90_epochs_nadam_2_1_4_1_0dot001_el_bueno')"
   ]
  },
  {
   "cell_type": "code",
   "execution_count": null,
   "metadata": {},
   "outputs": [],
   "source": []
  },
  {
   "cell_type": "code",
   "execution_count": null,
   "metadata": {},
   "outputs": [],
   "source": []
  },
  {
   "cell_type": "code",
   "execution_count": 6,
   "metadata": {},
   "outputs": [
    {
     "name": "stdout",
     "output_type": "stream",
     "text": [
      "Pesos de la convolucion (432,)\n",
      "CONV SHAPE (16, 3, 3, 3)\n",
      "Pesos de la convolucion (4608,)\n",
      "CONV SHAPE (32, 16, 3, 3)\n",
      "Pesos de la convolucion (18432,)\n",
      "CONV SHAPE (64, 32, 3, 3)\n",
      "Pesos de la convolucion (73728,)\n",
      "CONV SHAPE (128, 64, 3, 3)\n",
      "Pesos de la convolucion (294912,)\n",
      "CONV SHAPE (256, 128, 3, 3)\n",
      "Pesos de la convolucion (1179648,)\n",
      "CONV SHAPE (512, 256, 3, 3)\n",
      "Pesos de la convolucion (4718592,)\n",
      "CONV SHAPE (1024, 512, 3, 3)\n",
      "Pesos de la convolucion (262144,)\n",
      "CONV SHAPE (256, 1024, 1, 1)\n",
      "Pesos de la convolucion (1179648,)\n",
      "CONV SHAPE (512, 256, 3, 3)\n",
      "Pesos de la convolucion (130560,)\n",
      "CONV SHAPE (255, 512, 1, 1)\n",
      "Pesos de la convolucion (32768,)\n",
      "CONV SHAPE (128, 256, 1, 1)\n",
      "Pesos de la convolucion (884736,)\n",
      "CONV SHAPE (256, 384, 3, 3)\n",
      "Pesos de la convolucion (65280,)\n",
      "CONV SHAPE (255, 256, 1, 1)\n",
      "8858734\n"
     ]
    },
    {
     "data": {
      "text/plain": [
       "<tensorflow.python.training.tracking.util.CheckpointLoadStatus at 0x7fccb05caef0>"
      ]
     },
     "execution_count": 6,
     "metadata": {},
     "output_type": "execute_result"
    }
   ],
   "source": [
    "anchors =[[0.015,0.037],[0.043,0.104],[0.11,0.278],[0.351,0.66]]\n",
    "model = TinyYOLOv3(1,anchor_boxes=anchors,train=True,mode = \"finetuning\")\n",
    "model.build(batch_input_shape=(None,416,416,3))\n",
    "print(model.load_weights_darknet(\"/home/sergio/TinyYOLOv3-Pedestrian-Detection/yolov3-tiny.weights\"))\n",
    "model.load_weights('/home/sergio/Documents/weights_saved/pesos_80_to_90_epochs_nadam_2_1_4_1_0dot001_el_bueno')"
   ]
  },
  {
   "cell_type": "code",
   "execution_count": 7,
   "metadata": {},
   "outputs": [],
   "source": [
    "os.chdir(\"/home/sergio/Documents/pedestrian_dataset_train_tfr\")"
   ]
  },
  {
   "cell_type": "code",
   "execution_count": 8,
   "metadata": {},
   "outputs": [
    {
     "name": "stdout",
     "output_type": "stream",
     "text": [
      "BasicBlock1 True\n",
      "BasicBlock2 True\n",
      "BasicBlock3 True\n",
      "BasicBlock4 True\n",
      "BasicBlock5 True\n",
      "BasicBlock6 True\n",
      "BasicBlock7 True\n",
      "BasicBlock8 True\n",
      "BasicBlock9 True\n",
      "FinalBlock1 True\n",
      "BasicBlock11 True\n",
      "BasicBlock12 True\n",
      "FinalBlock2 True\n",
      "Concatenate True\n",
      "Upsampling True\n",
      "Prediction1 True\n",
      "Prediction2 True\n",
      "Concatenate_BBOX True\n"
     ]
    }
   ],
   "source": [
    "for l in model.layers:\n",
    "    print(l.name, l.trainable)\n",
    "    pass"
   ]
  },
  {
   "cell_type": "code",
   "execution_count": 9,
   "metadata": {},
   "outputs": [],
   "source": [
    "tf.random.set_seed(0)\n",
    "\n",
    "from tensorflow.keras.metrics import TrueNegatives,TruePositives,FalseNegatives,FalsePositives,Precision,Recall\n",
    "\n",
    "opt = tf.keras.optimizers.Nadam(learning_rate=0.001)\n",
    "\n",
    "losses = {\"output_1\": loss_xy,\n",
    "          \"output_2\": loss_wh,\n",
    "          \"output_3\":loss_objectness,\n",
    "          \"output_4\":loss_no_objectness  \n",
    "}\n",
    "\n",
    "metrics = {\"output_3\":[Precision(),Recall(),TrueNegatives(),TruePositives(),FalseNegatives(),FalsePositives()]}\n",
    "model.compile(optimizer=opt, loss=losses,metrics=metrics,loss_weights=[2,1,4,1])\n",
    "os.chdir(\"/home/sergio/Documents/pedestrian_dataset_train_tfr\")"
   ]
  },
  {
   "cell_type": "code",
   "execution_count": 10,
   "metadata": {},
   "outputs": [
    {
     "name": "stdout",
     "output_type": "stream",
     "text": [
      "Epoch 1/50\n",
      "4607/4607 [==============================] - 533s 116ms/step - loss: 12.5533 - output_1_loss: 2.4457 - output_2_loss: 1.2728 - output_3_loss: 0.0288 - output_4_loss: 6.2741 - output_3_precision: 0.8434 - output_3_recall: 0.5742 - output_3_true_negatives: 124251872.0000 - output_3_true_positives: 154503.0000 - output_3_false_negatives: 114565.0000 - output_3_false_positives: 28687.0000 - val_loss: 5.6376 - val_output_1_loss: 0.9970 - val_output_2_loss: 0.4249 - val_output_3_loss: 0.0158 - val_output_4_loss: 3.1556 - val_output_3_precision: 0.9072 - val_output_3_recall: 0.8126 - val_output_3_true_negatives: 5057241.0000 - val_output_3_true_positives: 9572.0000 - val_output_3_false_negatives: 2208.0000 - val_output_3_false_positives: 979.0000\n",
      "Epoch 2/50\n",
      "4607/4607 [==============================] - 532s 115ms/step - loss: 12.5383 - output_1_loss: 2.4540 - output_2_loss: 1.2919 - output_3_loss: 0.0285 - output_4_loss: 6.2243 - output_3_precision: 0.8451 - output_3_recall: 0.5787 - output_3_true_negatives: 124252152.0000 - output_3_true_positives: 155724.0000 - output_3_false_negatives: 113360.0000 - output_3_false_positives: 28533.0000 - val_loss: 5.6810 - val_output_1_loss: 0.9932 - val_output_2_loss: 0.4470 - val_output_3_loss: 0.0161 - val_output_4_loss: 3.1834 - val_output_3_precision: 0.8889 - val_output_3_recall: 0.8107 - val_output_3_true_negatives: 5057026.0000 - val_output_3_true_positives: 9550.0000 - val_output_3_false_negatives: 2230.0000 - val_output_3_false_positives: 1194.0000\n",
      "Epoch 3/50\n",
      "4607/4607 [==============================] - 541s 117ms/step - loss: 12.5693 - output_1_loss: 2.4557 - output_2_loss: 1.2665 - output_3_loss: 0.0289 - output_4_loss: 6.2761 - output_3_precision: 0.8455 - output_3_recall: 0.5758 - output_3_true_negatives: 124252224.0000 - output_3_true_positives: 154971.0000 - output_3_false_negatives: 114148.0000 - output_3_false_positives: 28316.0000 - val_loss: 5.8080 - val_output_1_loss: 1.0227 - val_output_2_loss: 0.4304 - val_output_3_loss: 0.0162 - val_output_4_loss: 3.2674 - val_output_3_precision: 0.8988 - val_output_3_recall: 0.8004 - val_output_3_true_negatives: 5057158.0000 - val_output_3_true_positives: 9429.0000 - val_output_3_false_negatives: 2351.0000 - val_output_3_false_positives: 1062.0000\n",
      "Epoch 4/50\n",
      "4607/4607 [==============================] - 527s 114ms/step - loss: 12.5059 - output_1_loss: 2.4421 - output_2_loss: 1.2904 - output_3_loss: 0.0286 - output_4_loss: 6.2171 - output_3_precision: 0.8466 - output_3_recall: 0.5796 - output_3_true_negatives: 124252152.0000 - output_3_true_positives: 156004.0000 - output_3_false_negatives: 113166.0000 - output_3_false_positives: 28257.0000 - val_loss: 5.6416 - val_output_1_loss: 0.9445 - val_output_2_loss: 0.4058 - val_output_3_loss: 0.0160 - val_output_4_loss: 3.2830 - val_output_3_precision: 0.8742 - val_output_3_recall: 0.8392 - val_output_3_true_negatives: 5056797.0000 - val_output_3_true_positives: 9886.0000 - val_output_3_false_negatives: 1894.0000 - val_output_3_false_positives: 1423.0000\n",
      "Epoch 5/50\n",
      "4607/4607 [==============================] - 546s 119ms/step - loss: 12.4687 - output_1_loss: 2.4361 - output_2_loss: 1.2665 - output_3_loss: 0.0287 - output_4_loss: 6.2153 - output_3_precision: 0.8461 - output_3_recall: 0.5799 - output_3_true_negatives: 124252088.0000 - output_3_true_positives: 156066.0000 - output_3_false_negatives: 113069.0000 - output_3_false_positives: 28381.0000 - val_loss: 5.5909 - val_output_1_loss: 0.9844 - val_output_2_loss: 0.4227 - val_output_3_loss: 0.0157 - val_output_4_loss: 3.1367 - val_output_3_precision: 0.8978 - val_output_3_recall: 0.8150 - val_output_3_true_negatives: 5057127.0000 - val_output_3_true_positives: 9601.0000 - val_output_3_false_negatives: 2179.0000 - val_output_3_false_positives: 1093.0000\n",
      "Epoch 6/50\n",
      "4607/4607 [==============================] - 536s 116ms/step - loss: 12.5459 - output_1_loss: 2.4425 - output_2_loss: 1.3217 - output_3_loss: 0.0287 - output_4_loss: 6.2246 - output_3_precision: 0.8456 - output_3_recall: 0.5793 - output_3_true_negatives: 124252096.0000 - output_3_true_positives: 155900.0000 - output_3_false_negatives: 113234.0000 - output_3_false_positives: 28468.0000 - val_loss: 5.6229 - val_output_1_loss: 0.9752 - val_output_2_loss: 0.4401 - val_output_3_loss: 0.0156 - val_output_4_loss: 3.1701 - val_output_3_precision: 0.9144 - val_output_3_recall: 0.7944 - val_output_3_true_negatives: 5057344.0000 - val_output_3_true_positives: 9358.0000 - val_output_3_false_negatives: 2422.0000 - val_output_3_false_positives: 876.0000\n",
      "Epoch 7/50\n",
      "4607/4607 [==============================] - 554s 120ms/step - loss: 12.4109 - output_1_loss: 2.4265 - output_2_loss: 1.2838 - output_3_loss: 0.0282 - output_4_loss: 6.1612 - output_3_precision: 0.8485 - output_3_recall: 0.5846 - output_3_true_negatives: 124252416.0000 - output_3_true_positives: 157376.0000 - output_3_false_negatives: 111816.0000 - output_3_false_positives: 28105.0000 - val_loss: 5.3862 - val_output_1_loss: 0.9854 - val_output_2_loss: 0.4228 - val_output_3_loss: 0.0147 - val_output_4_loss: 2.9336 - val_output_3_precision: 0.9250 - val_output_3_recall: 0.8115 - val_output_3_true_negatives: 5057445.0000 - val_output_3_true_positives: 9560.0000 - val_output_3_false_negatives: 2220.0000 - val_output_3_false_positives: 775.0000\n",
      "Epoch 8/50\n",
      "4607/4607 [==============================] - 534s 116ms/step - loss: 12.5350 - output_1_loss: 2.4436 - output_2_loss: 1.3042 - output_3_loss: 0.0286 - output_4_loss: 6.2294 - output_3_precision: 0.8489 - output_3_recall: 0.5802 - output_3_true_negatives: 124252568.0000 - output_3_true_positives: 156086.0000 - output_3_false_negatives: 112951.0000 - output_3_false_positives: 27790.0000 - val_loss: 5.6505 - val_output_1_loss: 0.9877 - val_output_2_loss: 0.4284 - val_output_3_loss: 0.0157 - val_output_4_loss: 3.1838 - val_output_3_precision: 0.9044 - val_output_3_recall: 0.8051 - val_output_3_true_negatives: 5057218.0000 - val_output_3_true_positives: 9484.0000 - val_output_3_false_negatives: 2296.0000 - val_output_3_false_positives: 1002.0000\n",
      "Epoch 9/50\n",
      "4607/4607 [==============================] - 543s 118ms/step - loss: 12.5199 - output_1_loss: 2.4545 - output_2_loss: 1.2974 - output_3_loss: 0.0285 - output_4_loss: 6.1996 - output_3_precision: 0.8487 - output_3_recall: 0.5832 - output_3_true_negatives: 124252360.0000 - output_3_true_positives: 156944.0000 - output_3_false_negatives: 112176.0000 - output_3_false_positives: 27987.0000 - val_loss: 5.3575 - val_output_1_loss: 0.9708 - val_output_2_loss: 0.4269 - val_output_3_loss: 0.0147 - val_output_4_loss: 2.9303 - val_output_3_precision: 0.9153 - val_output_3_recall: 0.8147 - val_output_3_true_negatives: 5057332.0000 - val_output_3_true_positives: 9597.0000 - val_output_3_false_negatives: 2183.0000 - val_output_3_false_positives: 888.0000\n",
      "Epoch 10/50\n",
      "4607/4607 [==============================] - 544s 118ms/step - loss: 12.2854 - output_1_loss: 2.4168 - output_2_loss: 1.2530 - output_3_loss: 0.0279 - output_4_loss: 6.0871 - output_3_precision: 0.8510 - output_3_recall: 0.5896 - output_3_true_negatives: 124252760.0000 - output_3_true_positives: 158731.0000 - output_3_false_negatives: 110499.0000 - output_3_false_positives: 27797.0000 - val_loss: 5.4075 - val_output_1_loss: 0.9925 - val_output_2_loss: 0.4166 - val_output_3_loss: 0.0148 - val_output_4_loss: 2.9469 - val_output_3_precision: 0.9228 - val_output_3_recall: 0.8023 - val_output_3_true_negatives: 5057429.0000 - val_output_3_true_positives: 9451.0000 - val_output_3_false_negatives: 2329.0000 - val_output_3_false_positives: 791.0000\n",
      "Epoch 11/50\n",
      "4607/4607 [==============================] - 542s 118ms/step - loss: 12.3337 - output_1_loss: 2.4210 - output_2_loss: 1.2694 - output_3_loss: 0.0281 - output_4_loss: 6.1097 - output_3_precision: 0.8513 - output_3_recall: 0.5891 - output_3_true_negatives: 124252464.0000 - output_3_true_positives: 158569.0000 - output_3_false_negatives: 110593.0000 - output_3_false_positives: 27697.0000 - val_loss: 5.3524 - val_output_1_loss: 0.9661 - val_output_2_loss: 0.4173 - val_output_3_loss: 0.0146 - val_output_4_loss: 2.9446 - val_output_3_precision: 0.9144 - val_output_3_recall: 0.8093 - val_output_3_true_negatives: 5057328.0000 - val_output_3_true_positives: 9533.0000 - val_output_3_false_negatives: 2247.0000 - val_output_3_false_positives: 892.0000\n",
      "Epoch 12/50\n",
      "4607/4607 [==============================] - 542s 118ms/step - loss: 12.2613 - output_1_loss: 2.3998 - output_2_loss: 1.2718 - output_3_loss: 0.0279 - output_4_loss: 6.0782 - output_3_precision: 0.8519 - output_3_recall: 0.5913 - output_3_true_negatives: 124253024.0000 - output_3_true_positives: 159136.0000 - output_3_false_negatives: 110005.0000 - output_3_false_positives: 27660.0000 - val_loss: 5.4306 - val_output_1_loss: 0.9520 - val_output_2_loss: 0.4159 - val_output_3_loss: 0.0153 - val_output_4_loss: 3.0497 - val_output_3_precision: 0.9099 - val_output_3_recall: 0.8125 - val_output_3_true_negatives: 5057272.0000 - val_output_3_true_positives: 9571.0000 - val_output_3_false_negatives: 2209.0000 - val_output_3_false_positives: 948.0000\n",
      "Epoch 13/50\n",
      "4607/4607 [==============================] - 541s 117ms/step - loss: 12.2287 - output_1_loss: 2.4149 - output_2_loss: 1.2411 - output_3_loss: 0.0278 - output_4_loss: 6.0467 - output_3_precision: 0.8524 - output_3_recall: 0.5939 - output_3_true_negatives: 124252792.0000 - output_3_true_positives: 159842.0000 - output_3_false_negatives: 109275.0000 - output_3_false_positives: 27683.0000 - val_loss: 5.1794 - val_output_1_loss: 0.9308 - val_output_2_loss: 0.4246 - val_output_3_loss: 0.0140 - val_output_4_loss: 2.8372 - val_output_3_precision: 0.9166 - val_output_3_recall: 0.8300 - val_output_3_true_negatives: 5057330.0000 - val_output_3_true_positives: 9777.0000 - val_output_3_false_negatives: 2003.0000 - val_output_3_false_positives: 890.0000\n",
      "Epoch 14/50\n",
      "4607/4607 [==============================] - 540s 117ms/step - loss: 12.2028 - output_1_loss: 2.4028 - output_2_loss: 1.2674 - output_3_loss: 0.0276 - output_4_loss: 6.0196 - output_3_precision: 0.8541 - output_3_recall: 0.5967 - output_3_true_negatives: 124253152.0000 - output_3_true_positives: 160573.0000 - output_3_false_negatives: 108513.0000 - output_3_false_positives: 27438.0000 - val_loss: 5.2223 - val_output_1_loss: 0.9682 - val_output_2_loss: 0.4111 - val_output_3_loss: 0.0139 - val_output_4_loss: 2.8192 - val_output_3_precision: 0.9120 - val_output_3_recall: 0.8463 - val_output_3_true_negatives: 5057258.0000 - val_output_3_true_positives: 9970.0000 - val_output_3_false_negatives: 1810.0000 - val_output_3_false_positives: 962.0000\n",
      "Epoch 15/50\n",
      "4607/4607 [==============================] - 544s 118ms/step - loss: 12.3743 - output_1_loss: 2.4547 - output_2_loss: 1.2563 - output_3_loss: 0.0281 - output_4_loss: 6.0963 - output_3_precision: 0.8521 - output_3_recall: 0.5907 - output_3_true_negatives: 124253000.0000 - output_3_true_positives: 158989.0000 - output_3_false_negatives: 110165.0000 - output_3_false_positives: 27594.0000 - val_loss: 5.2713 - val_output_1_loss: 0.9502 - val_output_2_loss: 0.4237 - val_output_3_loss: 0.0143 - val_output_4_loss: 2.8901 - val_output_3_precision: 0.9154 - val_output_3_recall: 0.8216 - val_output_3_true_negatives: 5057326.0000 - val_output_3_true_positives: 9678.0000 - val_output_3_false_negatives: 2102.0000 - val_output_3_false_positives: 894.0000\n",
      "Epoch 16/50\n",
      "4607/4607 [==============================] - 556s 121ms/step - loss: 12.1048 - output_1_loss: 2.3848 - output_2_loss: 1.2144 - output_3_loss: 0.0275 - output_4_loss: 6.0106 - output_3_precision: 0.8542 - output_3_recall: 0.5966 - output_3_true_negatives: 124252880.0000 - output_3_true_positives: 160539.0000 - output_3_false_negatives: 108557.0000 - output_3_false_positives: 27408.0000 - val_loss: 5.1376 - val_output_1_loss: 0.9286 - val_output_2_loss: 0.4064 - val_output_3_loss: 0.0139 - val_output_4_loss: 2.8185 - val_output_3_precision: 0.9157 - val_output_3_recall: 0.8250 - val_output_3_true_negatives: 5057325.0000 - val_output_3_true_positives: 9719.0000 - val_output_3_false_negatives: 2061.0000 - val_output_3_false_positives: 895.0000\n",
      "Epoch 17/50\n",
      "4607/4607 [==============================] - 543s 118ms/step - loss: 12.1183 - output_1_loss: 2.3743 - output_2_loss: 1.2856 - output_3_loss: 0.0273 - output_4_loss: 5.9748 - output_3_precision: 0.8531 - output_3_recall: 0.5991 - output_3_true_negatives: 124252752.0000 - output_3_true_positives: 161202.0000 - output_3_false_negatives: 107867.0000 - output_3_false_positives: 27765.0000 - val_loss: 5.2975 - val_output_1_loss: 0.9503 - val_output_2_loss: 0.4356 - val_output_3_loss: 0.0142 - val_output_4_loss: 2.9046 - val_output_3_precision: 0.9005 - val_output_3_recall: 0.8554 - val_output_3_true_negatives: 5057107.0000 - val_output_3_true_positives: 10077.0000 - val_output_3_false_negatives: 1703.0000 - val_output_3_false_positives: 1113.0000\n",
      "Epoch 18/50\n",
      "4607/4607 [==============================] - 538s 117ms/step - loss: 12.1745 - output_1_loss: 2.3913 - output_2_loss: 1.2587 - output_3_loss: 0.0277 - output_4_loss: 6.0226 - output_3_precision: 0.8548 - output_3_recall: 0.5957 - output_3_true_negatives: 124253584.0000 - output_3_true_positives: 160252.0000 - output_3_false_negatives: 108767.0000 - output_3_false_positives: 27229.0000 - val_loss: 5.3054 - val_output_1_loss: 0.9478 - val_output_2_loss: 0.4172 - val_output_3_loss: 0.0144 - val_output_4_loss: 2.9351 - val_output_3_precision: 0.9076 - val_output_3_recall: 0.8377 - val_output_3_true_negatives: 5057215.0000 - val_output_3_true_positives: 9868.0000 - val_output_3_false_negatives: 1912.0000 - val_output_3_false_positives: 1005.0000\n",
      "Epoch 19/50\n",
      "4607/4607 [==============================] - 538s 117ms/step - loss: 12.2002 - output_1_loss: 2.4179 - output_2_loss: 1.2813 - output_3_loss: 0.0274 - output_4_loss: 5.9735 - output_3_precision: 0.8562 - output_3_recall: 0.5998 - output_3_true_negatives: 124253712.0000 - output_3_true_positives: 161443.0000 - output_3_false_negatives: 107698.0000 - output_3_false_positives: 27122.0000 - val_loss: 5.2645 - val_output_1_loss: 0.9782 - val_output_2_loss: 0.4364 - val_output_3_loss: 0.0139 - val_output_4_loss: 2.8161 - val_output_3_precision: 0.9221 - val_output_3_recall: 0.8177 - val_output_3_true_negatives: 5057406.0000 - val_output_3_true_positives: 9632.0000 - val_output_3_false_negatives: 2148.0000 - val_output_3_false_positives: 814.0000\n",
      "Epoch 20/50\n",
      "4607/4607 [==============================] - 532s 116ms/step - loss: 12.0154 - output_1_loss: 2.3681 - output_2_loss: 1.2304 - output_3_loss: 0.0272 - output_4_loss: 5.9399 - output_3_precision: 0.8573 - output_3_recall: 0.6040 - output_3_true_negatives: 124253520.0000 - output_3_true_positives: 162602.0000 - output_3_false_negatives: 106591.0000 - output_3_false_positives: 27075.0000 - val_loss: 5.1608 - val_output_1_loss: 0.9461 - val_output_2_loss: 0.4261 - val_output_3_loss: 0.0139 - val_output_4_loss: 2.7871 - val_output_3_precision: 0.9142 - val_output_3_recall: 0.8380 - val_output_3_true_negatives: 5057293.0000 - val_output_3_true_positives: 9872.0000 - val_output_3_false_negatives: 1908.0000 - val_output_3_false_positives: 927.0000\n",
      "Epoch 21/50\n",
      "4607/4607 [==============================] - 539s 117ms/step - loss: 12.0155 - output_1_loss: 2.3613 - output_2_loss: 1.2653 - output_3_loss: 0.0271 - output_4_loss: 5.9192 - output_3_precision: 0.8578 - output_3_recall: 0.6046 - output_3_true_negatives: 124253384.0000 - output_3_true_positives: 162740.0000 - output_3_false_negatives: 106447.0000 - output_3_false_positives: 26985.0000 - val_loss: 4.9265 - val_output_1_loss: 0.9024 - val_output_2_loss: 0.4107 - val_output_3_loss: 0.0133 - val_output_4_loss: 2.6580 - val_output_3_precision: 0.9286 - val_output_3_recall: 0.8316 - val_output_3_true_negatives: 5057467.0000 - val_output_3_true_positives: 9796.0000 - val_output_3_false_negatives: 1984.0000 - val_output_3_false_positives: 753.0000\n",
      "Epoch 22/50\n",
      "4607/4607 [==============================] - 545s 118ms/step - loss: 12.1016 - output_1_loss: 2.3796 - output_2_loss: 1.2662 - output_3_loss: 0.0275 - output_4_loss: 5.9662 - output_3_precision: 0.8572 - output_3_recall: 0.6023 - output_3_true_negatives: 124253480.0000 - output_3_true_positives: 162085.0000 - output_3_false_negatives: 107028.0000 - output_3_false_positives: 26991.0000 - val_loss: 5.3242 - val_output_1_loss: 0.9498 - val_output_2_loss: 0.4184 - val_output_3_loss: 0.0146 - val_output_4_loss: 2.9478 - val_output_3_precision: 0.9386 - val_output_3_recall: 0.7924 - val_output_3_true_negatives: 5057609.0000 - val_output_3_true_positives: 9335.0000 - val_output_3_false_negatives: 2445.0000 - val_output_3_false_positives: 611.0000\n",
      "Epoch 23/50\n",
      "4607/4607 [==============================] - 550s 119ms/step - loss: 11.9843 - output_1_loss: 2.3823 - output_2_loss: 1.2340 - output_3_loss: 0.0270 - output_4_loss: 5.8777 - output_3_precision: 0.8591 - output_3_recall: 0.6084 - output_3_true_negatives: 124253488.0000 - output_3_true_positives: 163797.0000 - output_3_false_negatives: 105450.0000 - output_3_false_positives: 26856.0000 - val_loss: 5.2065 - val_output_1_loss: 0.9205 - val_output_2_loss: 0.4457 - val_output_3_loss: 0.0141 - val_output_4_loss: 2.8633 - val_output_3_precision: 0.9040 - val_output_3_recall: 0.8357 - val_output_3_true_negatives: 5057174.0000 - val_output_3_true_positives: 9845.0000 - val_output_3_false_negatives: 1935.0000 - val_output_3_false_positives: 1046.0000\n",
      "Epoch 24/50\n",
      "4607/4607 [==============================] - 547s 119ms/step - loss: 11.9807 - output_1_loss: 2.3929 - output_2_loss: 1.2388 - output_3_loss: 0.0268 - output_4_loss: 5.8489 - output_3_precision: 0.8590 - output_3_recall: 0.6104 - output_3_true_negatives: 124253640.0000 - output_3_true_positives: 164250.0000 - output_3_false_negatives: 104845.0000 - output_3_false_positives: 26957.0000 - val_loss: 5.1084 - val_output_1_loss: 0.9434 - val_output_2_loss: 0.4590 - val_output_3_loss: 0.0135 - val_output_4_loss: 2.7088 - val_output_3_precision: 0.9340 - val_output_3_recall: 0.8197 - val_output_3_true_negatives: 5057538.0000 - val_output_3_true_positives: 9656.0000 - val_output_3_false_negatives: 2124.0000 - val_output_3_false_positives: 682.0000\n",
      "Epoch 25/50\n",
      "4607/4607 [==============================] - 539s 117ms/step - loss: 12.0495 - output_1_loss: 2.3806 - output_2_loss: 1.2688 - output_3_loss: 0.0271 - output_4_loss: 5.9109 - output_3_precision: 0.8596 - output_3_recall: 0.6058 - output_3_true_negatives: 124253944.0000 - output_3_true_positives: 163016.0000 - output_3_false_negatives: 106066.0000 - output_3_false_positives: 26632.0000 - val_loss: 4.8865 - val_output_1_loss: 0.8994 - val_output_2_loss: 0.4078 - val_output_3_loss: 0.0131 - val_output_4_loss: 2.6275 - val_output_3_precision: 0.9290 - val_output_3_recall: 0.8329 - val_output_3_true_negatives: 5057470.0000 - val_output_3_true_positives: 9811.0000 - val_output_3_false_negatives: 1969.0000 - val_output_3_false_positives: 750.0000\n",
      "Epoch 26/50\n",
      "4607/4607 [==============================] - 541s 117ms/step - loss: 11.9757 - output_1_loss: 2.3889 - output_2_loss: 1.2183 - output_3_loss: 0.0270 - output_4_loss: 5.8718 - output_3_precision: 0.8602 - output_3_recall: 0.6082 - output_3_true_negatives: 124253880.0000 - output_3_true_positives: 163683.0000 - output_3_false_negatives: 105446.0000 - output_3_false_positives: 26594.0000 - val_loss: 4.8832 - val_output_1_loss: 0.8848 - val_output_2_loss: 0.4360 - val_output_3_loss: 0.0130 - val_output_4_loss: 2.6254 - val_output_3_precision: 0.9406 - val_output_3_recall: 0.8205 - val_output_3_true_negatives: 5057610.0000 - val_output_3_true_positives: 9665.0000 - val_output_3_false_negatives: 2115.0000 - val_output_3_false_positives: 610.0000\n",
      "Epoch 27/50\n",
      "4607/4607 [==============================] - 544s 118ms/step - loss: 11.9025 - output_1_loss: 2.3796 - output_2_loss: 1.1982 - output_3_loss: 0.0268 - output_4_loss: 5.8379 - output_3_precision: 0.8604 - output_3_recall: 0.6116 - output_3_true_negatives: 124253568.0000 - output_3_true_positives: 164596.0000 - output_3_false_negatives: 104514.0000 - output_3_false_positives: 26708.0000 - val_loss: 4.9253 - val_output_1_loss: 0.9153 - val_output_2_loss: 0.4360 - val_output_3_loss: 0.0129 - val_output_4_loss: 2.6072 - val_output_3_precision: 0.9344 - val_output_3_recall: 0.8228 - val_output_3_true_negatives: 5057539.0000 - val_output_3_true_positives: 9693.0000 - val_output_3_false_negatives: 2087.0000 - val_output_3_false_positives: 681.0000\n",
      "Epoch 28/50\n",
      "4607/4607 [==============================] - 552s 120ms/step - loss: 11.9024 - output_1_loss: 2.3469 - output_2_loss: 1.2560 - output_3_loss: 0.0268 - output_4_loss: 5.8453 - output_3_precision: 0.8611 - output_3_recall: 0.6109 - output_3_true_negatives: 124253880.0000 - output_3_true_positives: 164398.0000 - output_3_false_negatives: 104692.0000 - output_3_false_positives: 26516.0000 - val_loss: 4.6735 - val_output_1_loss: 0.8765 - val_output_2_loss: 0.4178 - val_output_3_loss: 0.0122 - val_output_4_loss: 2.4539 - val_output_3_precision: 0.9315 - val_output_3_recall: 0.8520 - val_output_3_true_negatives: 5057482.0000 - val_output_3_true_positives: 10036.0000 - val_output_3_false_negatives: 1744.0000 - val_output_3_false_positives: 738.0000\n",
      "Epoch 29/50\n",
      "4607/4607 [==============================] - 543s 118ms/step - loss: 11.8152 - output_1_loss: 2.3458 - output_2_loss: 1.1910 - output_3_loss: 0.0268 - output_4_loss: 5.8255 - output_3_precision: 0.8621 - output_3_recall: 0.6128 - output_3_true_negatives: 124254032.0000 - output_3_true_positives: 164954.0000 - output_3_false_negatives: 104230.0000 - output_3_false_positives: 26390.0000 - val_loss: 5.0092 - val_output_1_loss: 0.9043 - val_output_2_loss: 0.4103 - val_output_3_loss: 0.0133 - val_output_4_loss: 2.7371 - val_output_3_precision: 0.9289 - val_output_3_recall: 0.8255 - val_output_3_true_negatives: 5057476.0000 - val_output_3_true_positives: 9724.0000 - val_output_3_false_negatives: 2056.0000 - val_output_3_false_positives: 744.0000\n",
      "Epoch 30/50\n",
      "4607/4607 [==============================] - 545s 118ms/step - loss: 11.7850 - output_1_loss: 2.3330 - output_2_loss: 1.2172 - output_3_loss: 0.0266 - output_4_loss: 5.7956 - output_3_precision: 0.8627 - output_3_recall: 0.6143 - output_3_true_negatives: 124254000.0000 - output_3_true_positives: 165392.0000 - output_3_false_negatives: 103840.0000 - output_3_false_positives: 26330.0000 - val_loss: 4.6799 - val_output_1_loss: 0.8301 - val_output_2_loss: 0.4136 - val_output_3_loss: 0.0126 - val_output_4_loss: 2.5557 - val_output_3_precision: 0.9132 - val_output_3_recall: 0.8686 - val_output_3_true_negatives: 5057248.0000 - val_output_3_true_positives: 10232.0000 - val_output_3_false_negatives: 1548.0000 - val_output_3_false_positives: 972.0000\n",
      "Epoch 31/50\n",
      "4607/4607 [==============================] - 536s 116ms/step - loss: 11.8353 - output_1_loss: 2.3310 - output_2_loss: 1.2697 - output_3_loss: 0.0266 - output_4_loss: 5.7973 - output_3_precision: 0.8614 - output_3_recall: 0.6143 - output_3_true_negatives: 124253704.0000 - output_3_true_positives: 165347.0000 - output_3_false_negatives: 103835.0000 - output_3_false_positives: 26597.0000 - val_loss: 4.6595 - val_output_1_loss: 0.8500 - val_output_2_loss: 0.4121 - val_output_3_loss: 0.0123 - val_output_4_loss: 2.4984 - val_output_3_precision: 0.9282 - val_output_3_recall: 0.8543 - val_output_3_true_negatives: 5057442.0000 - val_output_3_true_positives: 10064.0000 - val_output_3_false_negatives: 1716.0000 - val_output_3_false_positives: 778.0000\n",
      "Epoch 32/50\n",
      "4607/4607 [==============================] - 546s 119ms/step - loss: 11.8439 - output_1_loss: 2.3509 - output_2_loss: 1.2493 - output_3_loss: 0.0265 - output_4_loss: 5.7866 - output_3_precision: 0.8637 - output_3_recall: 0.6159 - output_3_true_negatives: 124254312.0000 - output_3_true_positives: 165786.0000 - output_3_false_negatives: 103380.0000 - output_3_false_positives: 26173.0000 - val_loss: 4.6021 - val_output_1_loss: 0.8497 - val_output_2_loss: 0.4163 - val_output_3_loss: 0.0121 - val_output_4_loss: 2.4381 - val_output_3_precision: 0.9380 - val_output_3_recall: 0.8508 - val_output_3_true_negatives: 5057557.0000 - val_output_3_true_positives: 10022.0000 - val_output_3_false_negatives: 1758.0000 - val_output_3_false_positives: 663.0000\n",
      "Epoch 33/50\n",
      "4607/4607 [==============================] - 544s 118ms/step - loss: 11.9247 - output_1_loss: 2.3803 - output_2_loss: 1.2163 - output_3_loss: 0.0269 - output_4_loss: 5.8404 - output_3_precision: 0.8634 - output_3_recall: 0.6130 - output_3_true_negatives: 124254304.0000 - output_3_true_positives: 165030.0000 - output_3_false_negatives: 104185.0000 - output_3_false_positives: 26110.0000 - val_loss: 4.6674 - val_output_1_loss: 0.8672 - val_output_2_loss: 0.4237 - val_output_3_loss: 0.0123 - val_output_4_loss: 2.4600 - val_output_3_precision: 0.9141 - val_output_3_recall: 0.8660 - val_output_3_true_negatives: 5057261.0000 - val_output_3_true_positives: 10202.0000 - val_output_3_false_negatives: 1578.0000 - val_output_3_false_positives: 959.0000\n",
      "Epoch 34/50\n",
      "4607/4607 [==============================] - 546s 118ms/step - loss: 11.7348 - output_1_loss: 2.2965 - output_2_loss: 1.3093 - output_3_loss: 0.0261 - output_4_loss: 5.7280 - output_3_precision: 0.8644 - output_3_recall: 0.6198 - output_3_true_negatives: 124254592.0000 - output_3_true_positives: 166769.0000 - output_3_false_negatives: 102310.0000 - output_3_false_positives: 26153.0000 - val_loss: 4.6612 - val_output_1_loss: 0.8654 - val_output_2_loss: 0.3977 - val_output_3_loss: 0.0121 - val_output_4_loss: 2.4843 - val_output_3_precision: 0.9227 - val_output_3_recall: 0.8609 - val_output_3_true_negatives: 5057371.0000 - val_output_3_true_positives: 10141.0000 - val_output_3_false_negatives: 1639.0000 - val_output_3_false_positives: 849.0000\n",
      "Epoch 35/50\n",
      "4607/4607 [==============================] - 441s 96ms/step - loss: 11.8166 - output_1_loss: 2.3741 - output_2_loss: 1.2071 - output_3_loss: 0.0264 - output_4_loss: 5.7557 - output_3_precision: 0.8655 - output_3_recall: 0.6188 - output_3_true_negatives: 124254696.0000 - output_3_true_positives: 166544.0000 - output_3_false_negatives: 102583.0000 - output_3_false_positives: 25876.0000 - val_loss: 4.4791 - val_output_1_loss: 0.8338 - val_output_2_loss: 0.4005 - val_output_3_loss: 0.0118 - val_output_4_loss: 2.3636 - val_output_3_precision: 0.9364 - val_output_3_recall: 0.8545 - val_output_3_true_negatives: 5057536.0000 - val_output_3_true_positives: 10066.0000 - val_output_3_false_negatives: 1714.0000 - val_output_3_false_positives: 684.0000\n",
      "Epoch 36/50\n",
      "4607/4607 [==============================] - 405s 88ms/step - loss: 11.7195 - output_1_loss: 2.3294 - output_2_loss: 1.2457 - output_3_loss: 0.0260 - output_4_loss: 5.7110 - output_3_precision: 0.8656 - output_3_recall: 0.6217 - output_3_true_negatives: 124254456.0000 - output_3_true_positives: 167342.0000 - output_3_false_negatives: 101811.0000 - output_3_false_positives: 25990.0000 - val_loss: 4.6653 - val_output_1_loss: 0.8719 - val_output_2_loss: 0.4267 - val_output_3_loss: 0.0122 - val_output_4_loss: 2.4461 - val_output_3_precision: 0.9231 - val_output_3_recall: 0.8716 - val_output_3_true_negatives: 5057365.0000 - val_output_3_true_positives: 10267.0000 - val_output_3_false_negatives: 1513.0000 - val_output_3_false_positives: 855.0000\n",
      "Epoch 37/50\n",
      "4607/4607 [==============================] - 403s 87ms/step - loss: 11.7756 - output_1_loss: 2.3581 - output_2_loss: 1.2032 - output_3_loss: 0.0264 - output_4_loss: 5.7505 - output_3_precision: 0.8648 - output_3_recall: 0.6188 - output_3_true_negatives: 124254200.0000 - output_3_true_positives: 166557.0000 - output_3_false_negatives: 102610.0000 - output_3_false_positives: 26046.0000 - val_loss: 4.6692 - val_output_1_loss: 0.8798 - val_output_2_loss: 0.4082 - val_output_3_loss: 0.0121 - val_output_4_loss: 2.4531 - val_output_3_precision: 0.9396 - val_output_3_recall: 0.8546 - val_output_3_true_negatives: 5057573.0000 - val_output_3_true_positives: 10067.0000 - val_output_3_false_negatives: 1713.0000 - val_output_3_false_positives: 647.0000\n",
      "Epoch 38/50\n",
      "4607/4607 [==============================] - 409s 89ms/step - loss: 11.6791 - output_1_loss: 2.3303 - output_2_loss: 1.2434 - output_3_loss: 0.0258 - output_4_loss: 5.6718 - output_3_precision: 0.8660 - output_3_recall: 0.6245 - output_3_true_negatives: 124254408.0000 - output_3_true_positives: 168063.0000 - output_3_false_negatives: 101056.0000 - output_3_false_positives: 26013.0000 - val_loss: 4.7767 - val_output_1_loss: 0.8822 - val_output_2_loss: 0.3960 - val_output_3_loss: 0.0124 - val_output_4_loss: 2.5665 - val_output_3_precision: 0.9189 - val_output_3_recall: 0.8581 - val_output_3_true_negatives: 5057328.0000 - val_output_3_true_positives: 10109.0000 - val_output_3_false_negatives: 1671.0000 - val_output_3_false_positives: 892.0000\n",
      "Epoch 39/50\n",
      "4607/4607 [==============================] - 401s 87ms/step - loss: 11.5762 - output_1_loss: 2.3125 - output_2_loss: 1.1842 - output_3_loss: 0.0258 - output_4_loss: 5.6638 - output_3_precision: 0.8677 - output_3_recall: 0.6252 - output_3_true_negatives: 124254856.0000 - output_3_true_positives: 168309.0000 - output_3_false_negatives: 100903.0000 - output_3_false_positives: 25658.0000 - val_loss: 4.5477 - val_output_1_loss: 0.8864 - val_output_2_loss: 0.4114 - val_output_3_loss: 0.0114 - val_output_4_loss: 2.3178 - val_output_3_precision: 0.9313 - val_output_3_recall: 0.8729 - val_output_3_true_negatives: 5057462.0000 - val_output_3_true_positives: 10283.0000 - val_output_3_false_negatives: 1497.0000 - val_output_3_false_positives: 758.0000\n",
      "Epoch 40/50\n",
      "4607/4607 [==============================] - 399s 87ms/step - loss: 11.6959 - output_1_loss: 2.3386 - output_2_loss: 1.2419 - output_3_loss: 0.0260 - output_4_loss: 5.6730 - output_3_precision: 0.8673 - output_3_recall: 0.6255 - output_3_true_negatives: 124254704.0000 - output_3_true_positives: 168288.0000 - output_3_false_negatives: 100773.0000 - output_3_false_positives: 25749.0000 - val_loss: 4.4739 - val_output_1_loss: 0.8449 - val_output_2_loss: 0.3938 - val_output_3_loss: 0.0114 - val_output_4_loss: 2.3447 - val_output_3_precision: 0.9342 - val_output_3_recall: 0.8736 - val_output_3_true_negatives: 5057495.0000 - val_output_3_true_positives: 10291.0000 - val_output_3_false_negatives: 1489.0000 - val_output_3_false_positives: 725.0000\n",
      "Epoch 41/50\n",
      "4607/4607 [==============================] - 406s 88ms/step - loss: 11.6983 - output_1_loss: 2.3433 - output_2_loss: 1.2253 - output_3_loss: 0.0261 - output_4_loss: 5.6820 - output_3_precision: 0.8678 - output_3_recall: 0.6232 - output_3_true_negatives: 124254760.0000 - output_3_true_positives: 167711.0000 - output_3_false_negatives: 101410.0000 - output_3_false_positives: 25556.0000 - val_loss: 4.5464 - val_output_1_loss: 0.8467 - val_output_2_loss: 0.4716 - val_output_3_loss: 0.0115 - val_output_4_loss: 2.3355 - val_output_3_precision: 0.9399 - val_output_3_recall: 0.8516 - val_output_3_true_negatives: 5057578.0000 - val_output_3_true_positives: 10032.0000 - val_output_3_false_negatives: 1748.0000 - val_output_3_false_positives: 642.0000\n",
      "Epoch 42/50\n",
      "4607/4607 [==============================] - 398s 86ms/step - loss: 11.5758 - output_1_loss: 2.3193 - output_2_loss: 1.1807 - output_3_loss: 0.0258 - output_4_loss: 5.6532 - output_3_precision: 0.8677 - output_3_recall: 0.6265 - output_3_true_negatives: 124254816.0000 - output_3_true_positives: 168600.0000 - output_3_false_negatives: 100511.0000 - output_3_false_positives: 25703.0000 - val_loss: 4.5311 - val_output_1_loss: 0.8712 - val_output_2_loss: 0.4032 - val_output_3_loss: 0.0116 - val_output_4_loss: 2.3390 - val_output_3_precision: 0.9289 - val_output_3_recall: 0.8623 - val_output_3_true_negatives: 5057443.0000 - val_output_3_true_positives: 10158.0000 - val_output_3_false_negatives: 1622.0000 - val_output_3_false_positives: 777.0000\n",
      "Epoch 43/50\n",
      "4607/4607 [==============================] - 396s 86ms/step - loss: 11.4718 - output_1_loss: 2.2877 - output_2_loss: 1.2010 - output_3_loss: 0.0256 - output_4_loss: 5.5931 - output_3_precision: 0.8697 - output_3_recall: 0.6300 - output_3_true_negatives: 124255136.0000 - output_3_true_positives: 169579.0000 - output_3_false_negatives: 99574.0000 - output_3_false_positives: 25400.0000 - val_loss: 4.3347 - val_output_1_loss: 0.8266 - val_output_2_loss: 0.4037 - val_output_3_loss: 0.0109 - val_output_4_loss: 2.2342 - val_output_3_precision: 0.9390 - val_output_3_recall: 0.8679 - val_output_3_true_negatives: 5057556.0000 - val_output_3_true_positives: 10224.0000 - val_output_3_false_negatives: 1556.0000 - val_output_3_false_positives: 664.0000\n",
      "Epoch 44/50\n",
      "4607/4607 [==============================] - 395s 86ms/step - loss: 11.6798 - output_1_loss: 2.3312 - output_2_loss: 1.2336 - output_3_loss: 0.0260 - output_4_loss: 5.6799 - output_3_precision: 0.8675 - output_3_recall: 0.6251 - output_3_true_negatives: 124254808.0000 - output_3_true_positives: 168198.0000 - output_3_false_negatives: 100877.0000 - output_3_false_positives: 25680.0000 - val_loss: 4.3579 - val_output_1_loss: 0.8321 - val_output_2_loss: 0.4037 - val_output_3_loss: 0.0110 - val_output_4_loss: 2.2459 - val_output_3_precision: 0.9255 - val_output_3_recall: 0.8767 - val_output_3_true_negatives: 5057389.0000 - val_output_3_true_positives: 10328.0000 - val_output_3_false_negatives: 1452.0000 - val_output_3_false_positives: 831.0000\n",
      "Epoch 45/50\n",
      "4607/4607 [==============================] - 398s 86ms/step - loss: 11.3905 - output_1_loss: 2.2864 - output_2_loss: 1.1473 - output_3_loss: 0.0255 - output_4_loss: 5.5685 - output_3_precision: 0.8713 - output_3_recall: 0.6328 - output_3_true_negatives: 124255104.0000 - output_3_true_positives: 170308.0000 - output_3_false_negatives: 98844.0000 - output_3_false_positives: 25159.0000 - val_loss: 4.6243 - val_output_1_loss: 0.8654 - val_output_2_loss: 0.4207 - val_output_3_loss: 0.0119 - val_output_4_loss: 2.4254 - val_output_3_precision: 0.9433 - val_output_3_recall: 0.8362 - val_output_3_true_negatives: 5057628.0000 - val_output_3_true_positives: 9851.0000 - val_output_3_false_negatives: 1929.0000 - val_output_3_false_positives: 592.0000\n",
      "Epoch 46/50\n",
      "4607/4607 [==============================] - 397s 86ms/step - loss: 11.4971 - output_1_loss: 2.2870 - output_2_loss: 1.2025 - output_3_loss: 0.0258 - output_4_loss: 5.6175 - output_3_precision: 0.8691 - output_3_recall: 0.6296 - output_3_true_negatives: 124254752.0000 - output_3_true_positives: 169476.0000 - output_3_false_negatives: 99725.0000 - output_3_false_positives: 25523.0000 - val_loss: 4.2135 - val_output_1_loss: 0.8085 - val_output_2_loss: 0.4045 - val_output_3_loss: 0.0106 - val_output_4_loss: 2.1498 - val_output_3_precision: 0.9431 - val_output_3_recall: 0.8670 - val_output_3_true_negatives: 5057604.0000 - val_output_3_true_positives: 10213.0000 - val_output_3_false_negatives: 1567.0000 - val_output_3_false_positives: 616.0000\n",
      "Epoch 47/50\n",
      "4607/4607 [==============================] - 393s 85ms/step - loss: 11.4585 - output_1_loss: 2.2825 - output_2_loss: 1.1759 - output_3_loss: 0.0257 - output_4_loss: 5.6148 - output_3_precision: 0.8701 - output_3_recall: 0.6295 - output_3_true_negatives: 124255232.0000 - output_3_true_positives: 169405.0000 - output_3_false_negatives: 99709.0000 - output_3_false_positives: 25290.0000 - val_loss: 4.2954 - val_output_1_loss: 0.8182 - val_output_2_loss: 0.3996 - val_output_3_loss: 0.0108 - val_output_4_loss: 2.2163 - val_output_3_precision: 0.9404 - val_output_3_recall: 0.8705 - val_output_3_true_negatives: 5057570.0000 - val_output_3_true_positives: 10254.0000 - val_output_3_false_negatives: 1526.0000 - val_output_3_false_positives: 650.0000\n",
      "Epoch 48/50\n",
      "4607/4607 [==============================] - 393s 85ms/step - loss: 11.5408 - output_1_loss: 2.3100 - output_2_loss: 1.2607 - output_3_loss: 0.0254 - output_4_loss: 5.5583 - output_3_precision: 0.8726 - output_3_recall: 0.6334 - output_3_true_negatives: 124255696.0000 - output_3_true_positives: 170394.0000 - output_3_false_negatives: 98624.0000 - output_3_false_positives: 24873.0000 - val_loss: 4.3643 - val_output_1_loss: 0.8338 - val_output_2_loss: 0.4229 - val_output_3_loss: 0.0109 - val_output_4_loss: 2.2301 - val_output_3_precision: 0.9531 - val_output_3_recall: 0.8503 - val_output_3_true_negatives: 5057727.0000 - val_output_3_true_positives: 10017.0000 - val_output_3_false_negatives: 1763.0000 - val_output_3_false_positives: 493.0000\n",
      "Epoch 49/50\n",
      "4607/4607 [==============================] - 392s 85ms/step - loss: 11.4627 - output_1_loss: 2.2950 - output_2_loss: 1.1964 - output_3_loss: 0.0255 - output_4_loss: 5.5743 - output_3_precision: 0.8714 - output_3_recall: 0.6326 - output_3_true_negatives: 124255232.0000 - output_3_true_positives: 170242.0000 - output_3_false_negatives: 98875.0000 - output_3_false_positives: 25126.0000 - val_loss: 4.3172 - val_output_1_loss: 0.8241 - val_output_2_loss: 0.4276 - val_output_3_loss: 0.0107 - val_output_4_loss: 2.1983 - val_output_3_precision: 0.9424 - val_output_3_recall: 0.8701 - val_output_3_true_negatives: 5057594.0000 - val_output_3_true_positives: 10250.0000 - val_output_3_false_negatives: 1530.0000 - val_output_3_false_positives: 626.0000\n",
      "Epoch 50/50\n",
      "4607/4607 [==============================] - 392s 85ms/step - loss: 11.5371 - output_1_loss: 2.3247 - output_2_loss: 1.1858 - output_3_loss: 0.0256 - output_4_loss: 5.5992 - output_3_precision: 0.8696 - output_3_recall: 0.6304 - output_3_true_negatives: 124255200.0000 - output_3_true_positives: 169718.0000 - output_3_false_negatives: 99498.0000 - output_3_false_positives: 25444.0000 - val_loss: 4.2518 - val_output_1_loss: 0.8130 - val_output_2_loss: 0.3991 - val_output_3_loss: 0.0107 - val_output_4_loss: 2.1841 - val_output_3_precision: 0.9372 - val_output_3_recall: 0.8777 - val_output_3_true_negatives: 5057527.0000 - val_output_3_true_positives: 10339.0000 - val_output_3_false_negatives: 1441.0000 - val_output_3_false_positives: 693.0000\n"
     ]
    }
   ],
   "source": [
    "history_part4 = model.fit(train_dataset, epochs=50,validation_data=val_dataset)"
   ]
  },
  {
   "cell_type": "code",
   "execution_count": 13,
   "metadata": {},
   "outputs": [
    {
     "data": {
      "text/plain": [
       "0.9048079889655172"
      ]
     },
     "execution_count": 13,
     "metadata": {},
     "output_type": "execute_result"
    }
   ],
   "source": [
    "(2*0.9424*0.8701)/(0.9424+0.8701)"
   ]
  },
  {
   "cell_type": "code",
   "execution_count": 14,
   "metadata": {},
   "outputs": [
    {
     "data": {
      "text/plain": [
       "0.9064746707807593"
      ]
     },
     "execution_count": 14,
     "metadata": {},
     "output_type": "execute_result"
    }
   ],
   "source": [
    "(2*0.9372*0.8777)/(0.9372+0.8777)"
   ]
  },
  {
   "cell_type": "code",
   "execution_count": 11,
   "metadata": {},
   "outputs": [],
   "source": [
    "os.chdir(\"/home/sergio/Documents/json_experiments\")\n",
    "import json\n",
    "#json.dumps(str(a))\n",
    "with open('history_finetuning_2141_90_to_140_epoch_nadam_0dot001.json', 'w') as fp:\n",
    "    json.dump(str(history_part4.history), fp)"
   ]
  },
  {
   "cell_type": "code",
   "execution_count": 12,
   "metadata": {},
   "outputs": [],
   "source": [
    "model.save_weights('/home/sergio/Documents/weights_saved/pesos_90_to_140_epochs_nadam_2_1_4_1_0dot001_el_bueno')"
   ]
  },
  {
   "cell_type": "code",
   "execution_count": 15,
   "metadata": {},
   "outputs": [],
   "source": [
    "model_checkpoint_callback = tf.keras.callbacks.ModelCheckpoint(\n",
    "    filepath='/home/sergio/Documents/best_weights_saved',\n",
    "    save_weights_only=True,\n",
    "    monitor='val_output_3_recall',\n",
    "    mode='max',\n",
    "    save_best_only=True)"
   ]
  },
  {
   "cell_type": "code",
   "execution_count": 17,
   "metadata": {},
   "outputs": [
    {
     "name": "stdout",
     "output_type": "stream",
     "text": [
      "Epoch 1/20\n",
      "4607/4607 [==============================] - 550s 119ms/step - loss: 11.4285 - output_1_loss: 2.3045 - output_2_loss: 1.1677 - output_3_loss: 0.0254 - output_4_loss: 5.5505 - output_3_precision: 0.8719 - output_3_recall: 0.6337 - output_3_true_negatives: 124255568.0000 - output_3_true_positives: 170498.0000 - output_3_false_negatives: 98536.0000 - output_3_false_positives: 25051.0000 - val_loss: 4.3978 - val_output_1_loss: 0.8296 - val_output_2_loss: 0.4226 - val_output_3_loss: 0.0109 - val_output_4_loss: 2.2724 - val_output_3_precision: 0.9320 - val_output_3_recall: 0.8781 - val_output_3_true_negatives: 5057465.0000 - val_output_3_true_positives: 10344.0000 - val_output_3_false_negatives: 1436.0000 - val_output_3_false_positives: 755.0000\n",
      "Epoch 2/20\n",
      "4607/4607 [==============================] - 538s 117ms/step - loss: 11.5216 - output_1_loss: 2.3269 - output_2_loss: 1.1737 - output_3_loss: 0.0256 - output_4_loss: 5.5916 - output_3_precision: 0.8704 - output_3_recall: 0.6313 - output_3_true_negatives: 124255104.0000 - output_3_true_positives: 169896.0000 - output_3_false_negatives: 99238.0000 - output_3_false_positives: 25293.0000 - val_loss: 4.2600 - val_output_1_loss: 0.7960 - val_output_2_loss: 0.4162 - val_output_3_loss: 0.0107 - val_output_4_loss: 2.2090 - val_output_3_precision: 0.9314 - val_output_3_recall: 0.8943 - val_output_3_true_negatives: 5057444.0000 - val_output_3_true_positives: 10535.0000 - val_output_3_false_negatives: 1245.0000 - val_output_3_false_positives: 776.0000\n",
      "Epoch 3/20\n",
      "4607/4607 [==============================] - 529s 115ms/step - loss: 11.4851 - output_1_loss: 2.3014 - output_2_loss: 1.2470 - output_3_loss: 0.0252 - output_4_loss: 5.5344 - output_3_precision: 0.8729 - output_3_recall: 0.6361 - output_3_true_negatives: 124255440.0000 - output_3_true_positives: 171251.0000 - output_3_false_negatives: 97989.0000 - output_3_false_positives: 24936.0000 - val_loss: 4.1802 - val_output_1_loss: 0.8170 - val_output_2_loss: 0.4020 - val_output_3_loss: 0.0103 - val_output_4_loss: 2.1031 - val_output_3_precision: 0.9425 - val_output_3_recall: 0.8746 - val_output_3_true_negatives: 5057591.0000 - val_output_3_true_positives: 10303.0000 - val_output_3_false_negatives: 1477.0000 - val_output_3_false_positives: 629.0000\n",
      "Epoch 4/20\n",
      "4607/4607 [==============================] - 532s 115ms/step - loss: 11.3663 - output_1_loss: 2.2768 - output_2_loss: 1.2065 - output_3_loss: 0.0251 - output_4_loss: 5.5056 - output_3_precision: 0.8732 - output_3_recall: 0.6374 - output_3_true_negatives: 124255560.0000 - output_3_true_positives: 171478.0000 - output_3_false_negatives: 97563.0000 - output_3_false_positives: 24910.0000 - val_loss: 4.1601 - val_output_1_loss: 0.7949 - val_output_2_loss: 0.3910 - val_output_3_loss: 0.0104 - val_output_4_loss: 2.1376 - val_output_3_precision: 0.9315 - val_output_3_recall: 0.8930 - val_output_3_true_negatives: 5057446.0000 - val_output_3_true_positives: 10519.0000 - val_output_3_false_negatives: 1261.0000 - val_output_3_false_positives: 774.0000\n",
      "Epoch 5/20\n",
      "4607/4607 [==============================] - 522s 113ms/step - loss: 11.3388 - output_1_loss: 2.2541 - output_2_loss: 1.1909 - output_3_loss: 0.0254 - output_4_loss: 5.5380 - output_3_precision: 0.8744 - output_3_recall: 0.6365 - output_3_true_negatives: 124255944.0000 - output_3_true_positives: 171301.0000 - output_3_false_negatives: 97826.0000 - output_3_false_positives: 24608.0000 - val_loss: 4.0569 - val_output_1_loss: 0.7780 - val_output_2_loss: 0.3883 - val_output_3_loss: 0.0101 - val_output_4_loss: 2.0719 - val_output_3_precision: 0.9468 - val_output_3_recall: 0.8773 - val_output_3_true_negatives: 5057639.0000 - val_output_3_true_positives: 10335.0000 - val_output_3_false_negatives: 1445.0000 - val_output_3_false_positives: 581.0000\n",
      "Epoch 6/20\n",
      "4607/4607 [==============================] - 526s 114ms/step - loss: 11.3381 - output_1_loss: 2.2741 - output_2_loss: 1.1793 - output_3_loss: 0.0251 - output_4_loss: 5.5100 - output_3_precision: 0.8733 - output_3_recall: 0.6382 - output_3_true_negatives: 124255736.0000 - output_3_true_positives: 171725.0000 - output_3_false_negatives: 97336.0000 - output_3_false_positives: 24914.0000 - val_loss: 4.1471 - val_output_1_loss: 0.8002 - val_output_2_loss: 0.3880 - val_output_3_loss: 0.0105 - val_output_4_loss: 2.1168 - val_output_3_precision: 0.9433 - val_output_3_recall: 0.8797 - val_output_3_true_negatives: 5057597.0000 - val_output_3_true_positives: 10363.0000 - val_output_3_false_negatives: 1417.0000 - val_output_3_false_positives: 623.0000\n",
      "Epoch 7/20\n",
      "4607/4607 [==============================] - 518s 112ms/step - loss: 11.2914 - output_1_loss: 2.2750 - output_2_loss: 1.1386 - output_3_loss: 0.0252 - output_4_loss: 5.5020 - output_3_precision: 0.8742 - output_3_recall: 0.6389 - output_3_true_negatives: 124255464.0000 - output_3_true_positives: 171973.0000 - output_3_false_negatives: 97195.0000 - output_3_false_positives: 24757.0000 - val_loss: 3.9863 - val_output_1_loss: 0.7685 - val_output_2_loss: 0.3876 - val_output_3_loss: 0.0101 - val_output_4_loss: 2.0213 - val_output_3_precision: 0.9523 - val_output_3_recall: 0.8745 - val_output_3_true_negatives: 5057704.0000 - val_output_3_true_positives: 10302.0000 - val_output_3_false_negatives: 1478.0000 - val_output_3_false_positives: 516.0000\n",
      "Epoch 8/20\n",
      "4607/4607 [==============================] - 529s 115ms/step - loss: 11.3251 - output_1_loss: 2.2754 - output_2_loss: 1.1859 - output_3_loss: 0.0252 - output_4_loss: 5.4876 - output_3_precision: 0.8749 - output_3_recall: 0.6389 - output_3_true_negatives: 124256048.0000 - output_3_true_positives: 171909.0000 - output_3_false_negatives: 97166.0000 - output_3_false_positives: 24575.0000 - val_loss: 4.0994 - val_output_1_loss: 0.8008 - val_output_2_loss: 0.4051 - val_output_3_loss: 0.0100 - val_output_4_loss: 2.0525 - val_output_3_precision: 0.9382 - val_output_3_recall: 0.8886 - val_output_3_true_negatives: 5057530.0000 - val_output_3_true_positives: 10468.0000 - val_output_3_false_negatives: 1312.0000 - val_output_3_false_positives: 690.0000\n",
      "Epoch 9/20\n",
      "4607/4607 [==============================] - 518s 112ms/step - loss: 11.3619 - output_1_loss: 2.3033 - output_2_loss: 1.1561 - output_3_loss: 0.0251 - output_4_loss: 5.4986 - output_3_precision: 0.8737 - output_3_recall: 0.6378 - output_3_true_negatives: 124255576.0000 - output_3_true_positives: 171666.0000 - output_3_false_negatives: 97487.0000 - output_3_false_positives: 24807.0000 - val_loss: 4.1205 - val_output_1_loss: 0.8084 - val_output_2_loss: 0.3918 - val_output_3_loss: 0.0102 - val_output_4_loss: 2.0712 - val_output_3_precision: 0.9423 - val_output_3_recall: 0.8795 - val_output_3_true_negatives: 5057586.0000 - val_output_3_true_positives: 10361.0000 - val_output_3_false_negatives: 1419.0000 - val_output_3_false_positives: 634.0000\n",
      "Epoch 10/20\n",
      "4607/4607 [==============================] - 508s 110ms/step - loss: 11.2610 - output_1_loss: 2.2526 - output_2_loss: 1.1800 - output_3_loss: 0.0251 - output_4_loss: 5.4756 - output_3_precision: 0.8756 - output_3_recall: 0.6396 - output_3_true_negatives: 124256064.0000 - output_3_true_positives: 172139.0000 - output_3_false_negatives: 96992.0000 - output_3_false_positives: 24466.0000 - val_loss: 4.2564 - val_output_1_loss: 0.8168 - val_output_2_loss: 0.4034 - val_output_3_loss: 0.0106 - val_output_4_loss: 2.1768 - val_output_3_precision: 0.9307 - val_output_3_recall: 0.8925 - val_output_3_true_negatives: 5057437.0000 - val_output_3_true_positives: 10514.0000 - val_output_3_false_negatives: 1266.0000 - val_output_3_false_positives: 783.0000\n",
      "Epoch 11/20\n",
      "4607/4607 [==============================] - 493s 107ms/step - loss: 11.2776 - output_1_loss: 2.2624 - output_2_loss: 1.1771 - output_3_loss: 0.0250 - output_4_loss: 5.4755 - output_3_precision: 0.8749 - output_3_recall: 0.6401 - output_3_true_negatives: 124255832.0000 - output_3_true_positives: 172328.0000 - output_3_false_negatives: 96895.0000 - output_3_false_positives: 24633.0000 - val_loss: 4.3483 - val_output_1_loss: 0.8368 - val_output_2_loss: 0.4015 - val_output_3_loss: 0.0109 - val_output_4_loss: 2.2293 - val_output_3_precision: 0.9189 - val_output_3_recall: 0.8992 - val_output_3_true_negatives: 5057285.0000 - val_output_3_true_positives: 10592.0000 - val_output_3_false_negatives: 1188.0000 - val_output_3_false_positives: 935.0000\n",
      "Epoch 12/20\n",
      "4607/4607 [==============================] - 486s 106ms/step - loss: 11.2686 - output_1_loss: 2.2693 - output_2_loss: 1.1765 - output_3_loss: 0.0249 - output_4_loss: 5.4539 - output_3_precision: 0.8766 - output_3_recall: 0.6414 - output_3_true_negatives: 124256288.0000 - output_3_true_positives: 172626.0000 - output_3_false_negatives: 96533.0000 - output_3_false_positives: 24294.0000 - val_loss: 4.4671 - val_output_1_loss: 0.8336 - val_output_2_loss: 0.3938 - val_output_3_loss: 0.0113 - val_output_4_loss: 2.3611 - val_output_3_precision: 0.9573 - val_output_3_recall: 0.8460 - val_output_3_true_negatives: 5057776.0000 - val_output_3_true_positives: 9966.0000 - val_output_3_false_negatives: 1814.0000 - val_output_3_false_positives: 444.0000\n",
      "Epoch 13/20\n",
      "4607/4607 [==============================] - 509s 111ms/step - loss: 11.3301 - output_1_loss: 2.2955 - output_2_loss: 1.1891 - output_3_loss: 0.0250 - output_4_loss: 5.4502 - output_3_precision: 0.8750 - output_3_recall: 0.6415 - output_3_true_negatives: 124255912.0000 - output_3_true_positives: 172674.0000 - output_3_false_negatives: 96505.0000 - output_3_false_positives: 24672.0000 - val_loss: 4.1371 - val_output_1_loss: 0.8048 - val_output_2_loss: 0.3885 - val_output_3_loss: 0.0102 - val_output_4_loss: 2.0984 - val_output_3_precision: 0.9412 - val_output_3_recall: 0.8862 - val_output_3_true_negatives: 5057568.0000 - val_output_3_true_positives: 10439.0000 - val_output_3_false_negatives: 1341.0000 - val_output_3_false_positives: 652.0000\n",
      "Epoch 14/20\n",
      "4607/4607 [==============================] - 496s 108ms/step - loss: 11.2664 - output_1_loss: 2.2614 - output_2_loss: 1.1741 - output_3_loss: 0.0250 - output_4_loss: 5.4696 - output_3_precision: 0.8747 - output_3_recall: 0.6408 - output_3_true_negatives: 124255760.0000 - output_3_true_positives: 172460.0000 - output_3_false_negatives: 96684.0000 - output_3_false_positives: 24698.0000 - val_loss: 4.0455 - val_output_1_loss: 0.7788 - val_output_2_loss: 0.3850 - val_output_3_loss: 0.0100 - val_output_4_loss: 2.0629 - val_output_3_precision: 0.9378 - val_output_3_recall: 0.8911 - val_output_3_true_negatives: 5057524.0000 - val_output_3_true_positives: 10497.0000 - val_output_3_false_negatives: 1283.0000 - val_output_3_false_positives: 696.0000\n",
      "Epoch 15/20\n",
      "4607/4607 [==============================] - 479s 104ms/step - loss: 11.2391 - output_1_loss: 2.2432 - output_2_loss: 1.2265 - output_3_loss: 0.0248 - output_4_loss: 5.4270 - output_3_precision: 0.8769 - output_3_recall: 0.6449 - output_3_true_negatives: 124256288.0000 - output_3_true_positives: 173540.0000 - output_3_false_negatives: 95538.0000 - output_3_false_positives: 24354.0000 - val_loss: 3.9290 - val_output_1_loss: 0.7692 - val_output_2_loss: 0.4114 - val_output_3_loss: 0.0095 - val_output_4_loss: 1.9412 - val_output_3_precision: 0.9484 - val_output_3_recall: 0.8801 - val_output_3_true_negatives: 5057656.0000 - val_output_3_true_positives: 10368.0000 - val_output_3_false_negatives: 1412.0000 - val_output_3_false_positives: 564.0000\n",
      "Epoch 16/20\n",
      "4607/4607 [==============================] - 479s 104ms/step - loss: 11.2177 - output_1_loss: 2.2576 - output_2_loss: 1.1753 - output_3_loss: 0.0248 - output_4_loss: 5.4280 - output_3_precision: 0.8773 - output_3_recall: 0.6439 - output_3_true_negatives: 124256320.0000 - output_3_true_positives: 173276.0000 - output_3_false_negatives: 95838.0000 - output_3_false_positives: 24226.0000 - val_loss: 3.9037 - val_output_1_loss: 0.7564 - val_output_2_loss: 0.3756 - val_output_3_loss: 0.0096 - val_output_4_loss: 1.9766 - val_output_3_precision: 0.9462 - val_output_3_recall: 0.8890 - val_output_3_true_negatives: 5057624.0000 - val_output_3_true_positives: 10472.0000 - val_output_3_false_negatives: 1308.0000 - val_output_3_false_positives: 596.0000\n",
      "Epoch 17/20\n",
      "4607/4607 [==============================] - 471s 102ms/step - loss: 11.1014 - output_1_loss: 2.2403 - output_2_loss: 1.1448 - output_3_loss: 0.0246 - output_4_loss: 5.3777 - output_3_precision: 0.8780 - output_3_recall: 0.6471 - output_3_true_negatives: 124256424.0000 - output_3_true_positives: 174133.0000 - output_3_false_negatives: 94976.0000 - output_3_false_positives: 24185.0000 - val_loss: 3.9484 - val_output_1_loss: 0.7742 - val_output_2_loss: 0.3864 - val_output_3_loss: 0.0096 - val_output_4_loss: 1.9751 - val_output_3_precision: 0.9484 - val_output_3_recall: 0.8863 - val_output_3_true_negatives: 5057652.0000 - val_output_3_true_positives: 10441.0000 - val_output_3_false_negatives: 1339.0000 - val_output_3_false_positives: 568.0000\n",
      "Epoch 18/20\n",
      "4607/4607 [==============================] - 468s 102ms/step - loss: 11.1881 - output_1_loss: 2.2696 - output_2_loss: 1.1508 - output_3_loss: 0.0246 - output_4_loss: 5.3997 - output_3_precision: 0.8781 - output_3_recall: 0.6457 - output_3_true_negatives: 124256288.0000 - output_3_true_positives: 173777.0000 - output_3_false_negatives: 95358.0000 - output_3_false_positives: 24115.0000 - val_loss: 3.9658 - val_output_1_loss: 0.7977 - val_output_2_loss: 0.4039 - val_output_3_loss: 0.0095 - val_output_4_loss: 1.9282 - val_output_3_precision: 0.9483 - val_output_3_recall: 0.8914 - val_output_3_true_negatives: 5057648.0000 - val_output_3_true_positives: 10501.0000 - val_output_3_false_negatives: 1279.0000 - val_output_3_false_positives: 572.0000\n",
      "Epoch 19/20\n",
      "4607/4607 [==============================] - 458s 99ms/step - loss: 11.1378 - output_1_loss: 2.2479 - output_2_loss: 1.1211 - output_3_loss: 0.0248 - output_4_loss: 5.4216 - output_3_precision: 0.8787 - output_3_recall: 0.6448 - output_3_true_negatives: 124256592.0000 - output_3_true_positives: 173470.0000 - output_3_false_negatives: 95577.0000 - output_3_false_positives: 23957.0000 - val_loss: 3.9402 - val_output_1_loss: 0.7841 - val_output_2_loss: 0.4047 - val_output_3_loss: 0.0094 - val_output_4_loss: 1.9296 - val_output_3_precision: 0.9473 - val_output_3_recall: 0.8895 - val_output_3_true_negatives: 5057637.0000 - val_output_3_true_positives: 10478.0000 - val_output_3_false_negatives: 1302.0000 - val_output_3_false_positives: 583.0000\n",
      "Epoch 20/20\n",
      "4607/4607 [==============================] - 458s 99ms/step - loss: 11.1883 - output_1_loss: 2.2698 - output_2_loss: 1.1356 - output_3_loss: 0.0249 - output_4_loss: 5.4134 - output_3_precision: 0.8782 - output_3_recall: 0.6440 - output_3_true_negatives: 124256296.0000 - output_3_true_positives: 173336.0000 - output_3_false_negatives: 95820.0000 - output_3_false_positives: 24047.0000 - val_loss: 3.8219 - val_output_1_loss: 0.7467 - val_output_2_loss: 0.3748 - val_output_3_loss: 0.0093 - val_output_4_loss: 1.9164 - val_output_3_precision: 0.9424 - val_output_3_recall: 0.9083 - val_output_3_true_negatives: 5057566.0000 - val_output_3_true_positives: 10700.0000 - val_output_3_false_negatives: 1080.0000 - val_output_3_false_positives: 654.0000\n"
     ]
    }
   ],
   "source": [
    "os.chdir(\"/home/sergio/Documents/pedestrian_dataset_train_tfr\")\n",
    "history_part5 = model.fit(train_dataset, epochs=20,validation_data=val_dataset,callbacks=[model_checkpoint_callback])"
   ]
  },
  {
   "cell_type": "code",
   "execution_count": null,
   "metadata": {},
   "outputs": [],
   "source": []
  },
  {
   "cell_type": "code",
   "execution_count": null,
   "metadata": {},
   "outputs": [],
   "source": []
  },
  {
   "cell_type": "code",
   "execution_count": 18,
   "metadata": {},
   "outputs": [],
   "source": [
    "os.chdir(\"/home/sergio/Documents/json_experiments\")\n",
    "import json\n",
    "#json.dumps(str(a))\n",
    "with open('history_finetuning_2141_140_to_160_epoch_nadam_0dot001.json', 'w') as fp:\n",
    "    json.dump(str(history_part5.history), fp)"
   ]
  },
  {
   "cell_type": "code",
   "execution_count": 19,
   "metadata": {},
   "outputs": [],
   "source": [
    "model.save_weights('/home/sergio/Documents/weights_saved/pesos_140_to_160_epochs_nadam_2_1_4_1_0dot001_el_bueno')"
   ]
  },
  {
   "cell_type": "code",
   "execution_count": null,
   "metadata": {},
   "outputs": [],
   "source": []
  },
  {
   "cell_type": "markdown",
   "metadata": {},
   "source": [
    "### Experimento disminuyendo el learning rate por 10 osea 0.00001"
   ]
  },
  {
   "cell_type": "code",
   "execution_count": 20,
   "metadata": {},
   "outputs": [],
   "source": [
    "tf.random.set_seed(0)\n",
    "\n",
    "from tensorflow.keras.metrics import TrueNegatives,TruePositives,FalseNegatives,FalsePositives,Precision,Recall\n",
    "\n",
    "opt = tf.keras.optimizers.Nadam(learning_rate=0.0001)\n",
    "\n",
    "losses = {\"output_1\": loss_xy,\n",
    "          \"output_2\": loss_wh,\n",
    "          \"output_3\":loss_objectness,\n",
    "          \"output_4\":loss_no_objectness  \n",
    "}\n",
    "\n",
    "metrics = {\"output_3\":[Precision(),Recall(),TrueNegatives(),TruePositives(),FalseNegatives(),FalsePositives()]}\n",
    "model.compile(optimizer=opt, loss=losses,metrics=metrics,loss_weights=[2,1,4,1])\n",
    "os.chdir(\"/home/sergio/Documents/pedestrian_dataset_train_tfr\")"
   ]
  },
  {
   "cell_type": "code",
   "execution_count": 21,
   "metadata": {},
   "outputs": [
    {
     "name": "stdout",
     "output_type": "stream",
     "text": [
      "Epoch 1/20\n",
      "4607/4607 [==============================] - 505s 110ms/step - loss: 10.7274 - output_1_loss: 2.1723 - output_2_loss: 1.1206 - output_3_loss: 0.0236 - output_4_loss: 5.1680 - output_3_precision_1: 0.8876 - output_3_recall_1: 0.6616 - output_3_true_negatives_1: 124257792.0000 - output_3_true_positives_1: 178110.0000 - output_3_false_negatives_1: 91088.0000 - output_3_false_positives_1: 22563.0000 - val_loss: 2.9575 - val_output_1_loss: 0.5964 - val_output_2_loss: 0.3481 - val_output_3_loss: 0.0069 - val_output_4_loss: 1.3889 - val_output_3_precision_1: 0.9694 - val_output_3_recall_1: 0.9358 - val_output_3_true_negatives_1: 5057872.0000 - val_output_3_true_positives_1: 11024.0000 - val_output_3_false_negatives_1: 756.0000 - val_output_3_false_positives_1: 348.0000\n",
      "Epoch 2/20\n",
      "4607/4607 [==============================] - 510s 111ms/step - loss: 10.4405 - output_1_loss: 2.1064 - output_2_loss: 1.0877 - output_3_loss: 0.0230 - output_4_loss: 5.0479 - output_3_precision_1: 0.8932 - output_3_recall_1: 0.6697 - output_3_true_negatives_1: 124258824.0000 - output_3_true_positives_1: 180238.0000 - output_3_false_negatives_1: 88888.0000 - output_3_false_positives_1: 21541.0000 - val_loss: 2.8096 - val_output_1_loss: 0.5736 - val_output_2_loss: 0.3456 - val_output_3_loss: 0.0064 - val_output_4_loss: 1.2912 - val_output_3_precision_1: 0.9732 - val_output_3_recall_1: 0.9412 - val_output_3_true_negatives_1: 5057915.0000 - val_output_3_true_positives_1: 11087.0000 - val_output_3_false_negatives_1: 693.0000 - val_output_3_false_positives_1: 305.0000\n",
      "Epoch 3/20\n",
      "4607/4607 [==============================] - 538s 117ms/step - loss: 10.4375 - output_1_loss: 2.1161 - output_2_loss: 1.0916 - output_3_loss: 0.0230 - output_4_loss: 5.0218 - output_3_precision_1: 0.8954 - output_3_recall_1: 0.6734 - output_3_true_negatives_1: 124259464.0000 - output_3_true_positives_1: 181195.0000 - output_3_false_negatives_1: 87878.0000 - output_3_false_positives_1: 21173.0000 - val_loss: 2.7361 - val_output_1_loss: 0.5541 - val_output_2_loss: 0.3429 - val_output_3_loss: 0.0063 - val_output_4_loss: 1.2600 - val_output_3_precision_1: 0.9740 - val_output_3_recall_1: 0.9468 - val_output_3_true_negatives_1: 5057922.0000 - val_output_3_true_positives_1: 11153.0000 - val_output_3_false_negatives_1: 627.0000 - val_output_3_false_positives_1: 298.0000\n",
      "Epoch 4/20\n",
      "4607/4607 [==============================] - 544s 118ms/step - loss: 10.2785 - output_1_loss: 2.0836 - output_2_loss: 1.0675 - output_3_loss: 0.0226 - output_4_loss: 4.9536 - output_3_precision_1: 0.8969 - output_3_recall_1: 0.6779 - output_3_true_negatives_1: 124259648.0000 - output_3_true_positives_1: 182338.0000 - output_3_false_negatives_1: 86647.0000 - output_3_false_positives_1: 20958.0000 - val_loss: 2.6494 - val_output_1_loss: 0.5366 - val_output_2_loss: 0.3427 - val_output_3_loss: 0.0060 - val_output_4_loss: 1.2094 - val_output_3_precision_1: 0.9767 - val_output_3_recall_1: 0.9491 - val_output_3_true_negatives_1: 5057953.0000 - val_output_3_true_positives_1: 11180.0000 - val_output_3_false_negatives_1: 600.0000 - val_output_3_false_positives_1: 267.0000\n",
      "Epoch 5/20\n",
      "4607/4607 [==============================] - 547s 119ms/step - loss: 10.2536 - output_1_loss: 2.0651 - output_2_loss: 1.1028 - output_3_loss: 0.0225 - output_4_loss: 4.9306 - output_3_precision_1: 0.8994 - output_3_recall_1: 0.6789 - output_3_true_negatives_1: 124259968.0000 - output_3_true_positives_1: 182716.0000 - output_3_false_negatives_1: 86401.0000 - output_3_false_positives_1: 20445.0000 - val_loss: 2.5618 - val_output_1_loss: 0.5243 - val_output_2_loss: 0.3407 - val_output_3_loss: 0.0057 - val_output_4_loss: 1.1495 - val_output_3_precision_1: 0.9738 - val_output_3_recall_1: 0.9575 - val_output_3_true_negatives_1: 5057917.0000 - val_output_3_true_positives_1: 11279.0000 - val_output_3_false_negatives_1: 501.0000 - val_output_3_false_positives_1: 303.0000\n",
      "Epoch 6/20\n",
      "4607/4607 [==============================] - 538s 117ms/step - loss: 10.3238 - output_1_loss: 2.0913 - output_2_loss: 1.1099 - output_3_loss: 0.0227 - output_4_loss: 4.9404 - output_3_precision_1: 0.8982 - output_3_recall_1: 0.6780 - output_3_true_negatives_1: 124259808.0000 - output_3_true_positives_1: 182476.0000 - output_3_false_negatives_1: 86671.0000 - output_3_false_positives_1: 20681.0000 - val_loss: 2.5360 - val_output_1_loss: 0.5141 - val_output_2_loss: 0.3405 - val_output_3_loss: 0.0057 - val_output_4_loss: 1.1444 - val_output_3_precision_1: 0.9765 - val_output_3_recall_1: 0.9536 - val_output_3_true_negatives_1: 5057950.0000 - val_output_3_true_positives_1: 11233.0000 - val_output_3_false_negatives_1: 547.0000 - val_output_3_false_positives_1: 270.0000\n",
      "Epoch 7/20\n",
      "4607/4607 [==============================] - 555s 121ms/step - loss: 10.3166 - output_1_loss: 2.0872 - output_2_loss: 1.1442 - output_3_loss: 0.0226 - output_4_loss: 4.9077 - output_3_precision_1: 0.8995 - output_3_recall_1: 0.6811 - output_3_true_negatives_1: 124259992.0000 - output_3_true_positives_1: 183286.0000 - output_3_false_negatives_1: 85833.0000 - output_3_false_positives_1: 20484.0000 - val_loss: 2.5069 - val_output_1_loss: 0.5068 - val_output_2_loss: 0.3389 - val_output_3_loss: 0.0056 - val_output_4_loss: 1.1317 - val_output_3_precision_1: 0.9739 - val_output_3_recall_1: 0.9597 - val_output_3_true_negatives_1: 5057917.0000 - val_output_3_true_positives_1: 11305.0000 - val_output_3_false_negatives_1: 475.0000 - val_output_3_false_positives_1: 303.0000\n",
      "Epoch 8/20\n",
      "4607/4607 [==============================] - 551s 120ms/step - loss: 10.2004 - output_1_loss: 2.0772 - output_2_loss: 1.0576 - output_3_loss: 0.0224 - output_4_loss: 4.8988 - output_3_precision_1: 0.8999 - output_3_recall_1: 0.6820 - output_3_true_negatives_1: 124260216.0000 - output_3_true_positives_1: 183493.0000 - output_3_false_negatives_1: 85564.0000 - output_3_false_positives_1: 20400.0000 - val_loss: 2.4562 - val_output_1_loss: 0.4998 - val_output_2_loss: 0.3363 - val_output_3_loss: 0.0055 - val_output_4_loss: 1.0985 - val_output_3_precision_1: 0.9763 - val_output_3_recall_1: 0.9598 - val_output_3_true_negatives_1: 5057945.0000 - val_output_3_true_positives_1: 11307.0000 - val_output_3_false_negatives_1: 473.0000 - val_output_3_false_positives_1: 275.0000\n",
      "Epoch 9/20\n",
      "4607/4607 [==============================] - 547s 119ms/step - loss: 10.2650 - output_1_loss: 2.0877 - output_2_loss: 1.1113 - output_3_loss: 0.0224 - output_4_loss: 4.8887 - output_3_precision_1: 0.9003 - output_3_recall_1: 0.6830 - output_3_true_negatives_1: 124259904.0000 - output_3_true_positives_1: 183790.0000 - output_3_false_negatives_1: 85318.0000 - output_3_false_positives_1: 20361.0000 - val_loss: 2.4541 - val_output_1_loss: 0.4976 - val_output_2_loss: 0.3371 - val_output_3_loss: 0.0055 - val_output_4_loss: 1.1001 - val_output_3_precision_1: 0.9765 - val_output_3_recall_1: 0.9626 - val_output_3_true_negatives_1: 5057947.0000 - val_output_3_true_positives_1: 11339.0000 - val_output_3_false_negatives_1: 441.0000 - val_output_3_false_positives_1: 273.0000\n",
      "Epoch 10/20\n",
      "4607/4607 [==============================] - 526s 114ms/step - loss: 10.2140 - output_1_loss: 2.0782 - output_2_loss: 1.0847 - output_3_loss: 0.0224 - output_4_loss: 4.8835 - output_3_precision_1: 0.9004 - output_3_recall_1: 0.6823 - output_3_true_negatives_1: 124260176.0000 - output_3_true_positives_1: 183590.0000 - output_3_false_negatives_1: 85467.0000 - output_3_false_positives_1: 20298.0000 - val_loss: 2.4395 - val_output_1_loss: 0.4918 - val_output_2_loss: 0.3378 - val_output_3_loss: 0.0055 - val_output_4_loss: 1.0964 - val_output_3_precision_1: 0.9781 - val_output_3_recall_1: 0.9624 - val_output_3_true_negatives_1: 5057966.0000 - val_output_3_true_positives_1: 11337.0000 - val_output_3_false_negatives_1: 443.0000 - val_output_3_false_positives_1: 254.0000\n",
      "Epoch 11/20\n",
      "4607/4607 [==============================] - 507s 110ms/step - loss: 10.0065 - output_1_loss: 2.0540 - output_2_loss: 1.0147 - output_3_loss: 0.0219 - output_4_loss: 4.7962 - output_3_precision_1: 0.9023 - output_3_recall_1: 0.6889 - output_3_true_negatives_1: 124260456.0000 - output_3_true_positives_1: 185400.0000 - output_3_false_negatives_1: 83709.0000 - output_3_false_positives_1: 20066.0000 - val_loss: 2.3662 - val_output_1_loss: 0.4834 - val_output_2_loss: 0.3358 - val_output_3_loss: 0.0052 - val_output_4_loss: 1.0427 - val_output_3_precision_1: 0.9796 - val_output_3_recall_1: 0.9623 - val_output_3_true_negatives_1: 5057984.0000 - val_output_3_true_positives_1: 11336.0000 - val_output_3_false_negatives_1: 444.0000 - val_output_3_false_positives_1: 236.0000\n",
      "Epoch 12/20\n",
      "4607/4607 [==============================] - 485s 105ms/step - loss: 10.0001 - output_1_loss: 2.0236 - output_2_loss: 1.0334 - output_3_loss: 0.0220 - output_4_loss: 4.8313 - output_3_precision_1: 0.9009 - output_3_recall_1: 0.6863 - output_3_true_negatives_1: 124260032.0000 - output_3_true_positives_1: 184662.0000 - output_3_false_negatives_1: 84402.0000 - output_3_false_positives_1: 20323.0000 - val_loss: 2.3244 - val_output_1_loss: 0.4789 - val_output_2_loss: 0.3330 - val_output_3_loss: 0.0051 - val_output_4_loss: 1.0133 - val_output_3_precision_1: 0.9820 - val_output_3_recall_1: 0.9612 - val_output_3_true_negatives_1: 5058013.0000 - val_output_3_true_positives_1: 11323.0000 - val_output_3_false_negatives_1: 457.0000 - val_output_3_false_positives_1: 207.0000\n",
      "Epoch 13/20\n",
      "4607/4607 [==============================] - 467s 101ms/step - loss: 10.1146 - output_1_loss: 2.0517 - output_2_loss: 1.0701 - output_3_loss: 0.0224 - output_4_loss: 4.8517 - output_3_precision_1: 0.8999 - output_3_recall_1: 0.6843 - output_3_true_negatives_1: 124260120.0000 - output_3_true_positives_1: 184107.0000 - output_3_false_negatives_1: 84933.0000 - output_3_false_positives_1: 20476.0000 - val_loss: 2.3375 - val_output_1_loss: 0.4774 - val_output_2_loss: 0.3317 - val_output_3_loss: 0.0051 - val_output_4_loss: 1.0306 - val_output_3_precision_1: 0.9836 - val_output_3_recall_1: 0.9603 - val_output_3_true_negatives_1: 5058031.0000 - val_output_3_true_positives_1: 11312.0000 - val_output_3_false_negatives_1: 468.0000 - val_output_3_false_positives_1: 189.0000\n",
      "Epoch 14/20\n",
      "4607/4607 [==============================] - 464s 101ms/step - loss: 10.1321 - output_1_loss: 2.0621 - output_2_loss: 1.0840 - output_3_loss: 0.0221 - output_4_loss: 4.8354 - output_3_precision_1: 0.9009 - output_3_recall_1: 0.6853 - output_3_true_negatives_1: 124260200.0000 - output_3_true_positives_1: 184428.0000 - output_3_false_negatives_1: 84685.0000 - output_3_false_positives_1: 20280.0000 - val_loss: 2.3117 - val_output_1_loss: 0.4743 - val_output_2_loss: 0.3321 - val_output_3_loss: 0.0050 - val_output_4_loss: 1.0109 - val_output_3_precision_1: 0.9821 - val_output_3_recall_1: 0.9644 - val_output_3_true_negatives_1: 5058013.0000 - val_output_3_true_positives_1: 11361.0000 - val_output_3_false_negatives_1: 419.0000 - val_output_3_false_positives_1: 207.0000\n",
      "Epoch 15/20\n",
      "4607/4607 [==============================] - 458s 99ms/step - loss: 10.0506 - output_1_loss: 2.0408 - output_2_loss: 1.0868 - output_3_loss: 0.0218 - output_4_loss: 4.7950 - output_3_precision_1: 0.9035 - output_3_recall_1: 0.6900 - output_3_true_negatives_1: 124260816.0000 - output_3_true_positives_1: 185638.0000 - output_3_false_negatives_1: 83418.0000 - output_3_false_positives_1: 19838.0000 - val_loss: 2.2914 - val_output_1_loss: 0.4673 - val_output_2_loss: 0.3328 - val_output_3_loss: 0.0050 - val_output_4_loss: 1.0041 - val_output_3_precision_1: 0.9832 - val_output_3_recall_1: 0.9617 - val_output_3_true_negatives_1: 5058026.0000 - val_output_3_true_positives_1: 11329.0000 - val_output_3_false_negatives_1: 451.0000 - val_output_3_false_positives_1: 194.0000\n",
      "Epoch 16/20\n",
      "4607/4607 [==============================] - 457s 99ms/step - loss: 9.9912 - output_1_loss: 2.0434 - output_2_loss: 1.0250 - output_3_loss: 0.0219 - output_4_loss: 4.7918 - output_3_precision_1: 0.9036 - output_3_recall_1: 0.6885 - output_3_true_negatives_1: 124260872.0000 - output_3_true_positives_1: 185302.0000 - output_3_false_negatives_1: 83851.0000 - output_3_false_positives_1: 19762.0000 - val_loss: 2.3042 - val_output_1_loss: 0.4673 - val_output_2_loss: 0.3308 - val_output_3_loss: 0.0050 - val_output_4_loss: 1.0187 - val_output_3_precision_1: 0.9798 - val_output_3_recall_1: 0.9696 - val_output_3_true_negatives_1: 5057985.0000 - val_output_3_true_positives_1: 11422.0000 - val_output_3_false_negatives_1: 358.0000 - val_output_3_false_positives_1: 235.0000\n",
      "Epoch 17/20\n",
      "4607/4607 [==============================] - 450s 98ms/step - loss: 9.9828 - output_1_loss: 2.0290 - output_2_loss: 1.0804 - output_3_loss: 0.0217 - output_4_loss: 4.7576 - output_3_precision_1: 0.9040 - output_3_recall_1: 0.6903 - output_3_true_negatives_1: 124260656.0000 - output_3_true_positives_1: 185828.0000 - output_3_false_negatives_1: 83367.0000 - output_3_false_positives_1: 19744.0000 - val_loss: 2.2860 - val_output_1_loss: 0.4675 - val_output_2_loss: 0.3313 - val_output_3_loss: 0.0050 - val_output_4_loss: 0.9999 - val_output_3_precision_1: 0.9804 - val_output_3_recall_1: 0.9679 - val_output_3_true_negatives_1: 5057992.0000 - val_output_3_true_positives_1: 11402.0000 - val_output_3_false_negatives_1: 378.0000 - val_output_3_false_positives_1: 228.0000\n",
      "Epoch 18/20\n",
      "4607/4607 [==============================] - 442s 96ms/step - loss: 9.9785 - output_1_loss: 2.0407 - output_2_loss: 1.0615 - output_3_loss: 0.0218 - output_4_loss: 4.7485 - output_3_precision_1: 0.9035 - output_3_recall_1: 0.6903 - output_3_true_negatives_1: 124260800.0000 - output_3_true_positives_1: 185746.0000 - output_3_false_negatives_1: 83351.0000 - output_3_false_positives_1: 19833.0000 - val_loss: 2.2453 - val_output_1_loss: 0.4643 - val_output_2_loss: 0.3294 - val_output_3_loss: 0.0048 - val_output_4_loss: 0.9681 - val_output_3_precision_1: 0.9812 - val_output_3_recall_1: 0.9669 - val_output_3_true_negatives_1: 5058002.0000 - val_output_3_true_positives_1: 11390.0000 - val_output_3_false_negatives_1: 390.0000 - val_output_3_false_positives_1: 218.0000\n",
      "Epoch 19/20\n",
      "4607/4607 [==============================] - 441s 96ms/step - loss: 9.8772 - output_1_loss: 2.0288 - output_2_loss: 0.9944 - output_3_loss: 0.0216 - output_4_loss: 4.7388 - output_3_precision_1: 0.9032 - output_3_recall_1: 0.6923 - output_3_true_negatives_1: 124260512.0000 - output_3_true_positives_1: 186329.0000 - output_3_false_negatives_1: 82801.0000 - output_3_false_positives_1: 19974.0000 - val_loss: 2.2546 - val_output_1_loss: 0.4586 - val_output_2_loss: 0.3298 - val_output_3_loss: 0.0049 - val_output_4_loss: 0.9882 - val_output_3_precision_1: 0.9811 - val_output_3_recall_1: 0.9711 - val_output_3_true_negatives_1: 5058000.0000 - val_output_3_true_positives_1: 11440.0000 - val_output_3_false_negatives_1: 340.0000 - val_output_3_false_positives_1: 220.0000\n",
      "Epoch 20/20\n",
      "4607/4607 [==============================] - 440s 95ms/step - loss: 10.0334 - output_1_loss: 2.0649 - output_2_loss: 1.0299 - output_3_loss: 0.0220 - output_4_loss: 4.7855 - output_3_precision_1: 0.9036 - output_3_recall_1: 0.6897 - output_3_true_negatives_1: 124260736.0000 - output_3_true_positives_1: 185646.0000 - output_3_false_negatives_1: 83518.0000 - output_3_false_positives_1: 19812.0000 - val_loss: 2.2410 - val_output_1_loss: 0.4548 - val_output_2_loss: 0.3293 - val_output_3_loss: 0.0049 - val_output_4_loss: 0.9826 - val_output_3_precision_1: 0.9802 - val_output_3_recall_1: 0.9735 - val_output_3_true_negatives_1: 5057988.0000 - val_output_3_true_positives_1: 11468.0000 - val_output_3_false_negatives_1: 312.0000 - val_output_3_false_positives_1: 232.0000\n"
     ]
    }
   ],
   "source": [
    "os.chdir(\"/home/sergio/Documents/pedestrian_dataset_train_tfr\")\n",
    "history_part5 = model.fit(train_dataset, epochs=20,validation_data=val_dataset)"
   ]
  },
  {
   "cell_type": "code",
   "execution_count": null,
   "metadata": {},
   "outputs": [],
   "source": []
  },
  {
   "cell_type": "code",
   "execution_count": 22,
   "metadata": {},
   "outputs": [],
   "source": [
    "os.chdir(\"/home/sergio/Documents/json_experiments\")\n",
    "import json\n",
    "#json.dumps(str(a))\n",
    "with open('history_finetuning_2141_160_to_180_epoch_nadam_0dot0001.json', 'w') as fp:\n",
    "    json.dump(str(history_part5.history), fp)"
   ]
  },
  {
   "cell_type": "code",
   "execution_count": 23,
   "metadata": {},
   "outputs": [],
   "source": [
    "model.save_weights('/home/sergio/Documents/weights_saved/pesos_160_to_180_epochs_nadam_2_1_4_1_0dot0001_el_bueno')"
   ]
  },
  {
   "cell_type": "code",
   "execution_count": null,
   "metadata": {},
   "outputs": [],
   "source": []
  },
  {
   "cell_type": "code",
   "execution_count": null,
   "metadata": {},
   "outputs": [],
   "source": []
  },
  {
   "cell_type": "code",
   "execution_count": null,
   "metadata": {},
   "outputs": [],
   "source": []
  },
  {
   "cell_type": "code",
   "execution_count": null,
   "metadata": {},
   "outputs": [],
   "source": []
  },
  {
   "cell_type": "markdown",
   "metadata": {},
   "source": [
    "## CON DATA AUGMENTATION ERRONEO"
   ]
  },
  {
   "cell_type": "code",
   "execution_count": 80,
   "metadata": {},
   "outputs": [
    {
     "name": "stdout",
     "output_type": "stream",
     "text": [
      "Se redimensiona la salida de la CNN a: (None, 338, 5)\n",
      "Se redimensiona la salida de la CNN a: (None, 1352, 5)\n",
      "Epoch 1/10\n",
      "Se redimensiona la salida de la CNN a: (None, 338, 5)\n",
      "Se redimensiona la salida de la CNN a: (None, 1352, 5)\n",
      "Se redimensiona la salida de la CNN a: (None, 338, 5)\n",
      "Se redimensiona la salida de la CNN a: (None, 1352, 5)\n",
      "   9213/Unknown - 538s 58ms/step - loss: 43.1109 - output_1_loss: 6.2505 - output_2_loss: 2.3600 - output_3_loss: 0.2201 - output_4_loss: 27.3695 - output_3_precision_4: 0.4815 - output_3_recall_4: 0.0769 - output_3_true_negatives_3: 123971768.0000 - output_3_true_positives_3: 41017.0000 - output_3_false_negatives_3: 492613.0000 - output_3_false_positives_3: 44173.0000Se redimensiona la salida de la CNN a: (None, 338, 5)\n",
      "Se redimensiona la salida de la CNN a: (None, 1352, 5)\n",
      "9213/9213 [==============================] - 547s 59ms/step - loss: 43.1109 - output_1_loss: 6.2505 - output_2_loss: 2.3600 - output_3_loss: 0.2201 - output_4_loss: 27.3695 - output_3_precision_4: 0.4815 - output_3_recall_4: 0.0769 - output_3_true_negatives_3: 123971768.0000 - output_3_true_positives_3: 41017.0000 - output_3_false_negatives_3: 492613.0000 - output_3_false_positives_3: 44173.0000 - val_loss: 37.7787 - val_output_1_loss: 5.4737 - val_output_2_loss: 0.9389 - val_output_3_loss: 0.2174 - val_output_4_loss: 25.0230 - val_output_3_precision_4: 0.6929 - val_output_3_recall_4: 0.1170 - val_output_3_true_negatives_3: 5045412.0000 - val_output_3_true_positives_3: 2735.0000 - val_output_3_false_negatives_3: 20641.0000 - val_output_3_false_positives_3: 1212.0000\n",
      "Epoch 2/10\n",
      "9213/9213 [==============================] - 567s 61ms/step - loss: 38.0538 - output_1_loss: 5.5638 - output_2_loss: 2.0651 - output_3_loss: 0.2021 - output_4_loss: 24.0526 - output_3_precision_4: 0.6600 - output_3_recall_4: 0.1263 - output_3_true_negatives_3: 123981416.0000 - output_3_true_positives_3: 67356.0000 - output_3_false_negatives_3: 466116.0000 - output_3_false_positives_3: 34695.0000 - val_loss: 36.2495 - val_output_1_loss: 5.3746 - val_output_2_loss: 0.9648 - val_output_3_loss: 0.2067 - val_output_4_loss: 23.7088 - val_output_3_precision_4: 0.7105 - val_output_3_recall_4: 0.1553 - val_output_3_true_negatives_3: 5045145.0000 - val_output_3_true_positives_3: 3630.0000 - val_output_3_false_negatives_3: 19746.0000 - val_output_3_false_positives_3: 1479.0000\n",
      "Epoch 3/10\n",
      "9213/9213 [==============================] - 614s 67ms/step - loss: 35.8233 - output_1_loss: 5.2616 - output_2_loss: 1.8125 - output_3_loss: 0.1919 - output_4_loss: 22.7198 - output_3_precision_4: 0.6719 - output_3_recall_4: 0.1614 - output_3_true_negatives_3: 123973992.0000 - output_3_true_positives_3: 86109.0000 - output_3_false_negatives_3: 447403.0000 - output_3_false_positives_3: 42057.0000 - val_loss: 34.7658 - val_output_1_loss: 5.0687 - val_output_2_loss: 0.9713 - val_output_3_loss: 0.2009 - val_output_4_loss: 22.8535 - val_output_3_precision_4: 0.7113 - val_output_3_recall_4: 0.1754 - val_output_3_true_negatives_3: 5044960.0000 - val_output_3_true_positives_3: 4099.0000 - val_output_3_false_negatives_3: 19277.0000 - val_output_3_false_positives_3: 1664.0000\n",
      "Epoch 4/10\n",
      "9213/9213 [==============================] - 629s 68ms/step - loss: 34.5499 - output_1_loss: 5.0595 - output_2_loss: 1.7307 - output_3_loss: 0.1860 - output_4_loss: 21.9560 - output_3_precision_4: 0.6830 - output_3_recall_4: 0.1835 - output_3_true_negatives_3: 123970408.0000 - output_3_true_positives_3: 97907.0000 - output_3_false_negatives_3: 435663.0000 - output_3_false_positives_3: 45439.0000 - val_loss: 33.3633 - val_output_1_loss: 4.9675 - val_output_2_loss: 1.0213 - val_output_3_loss: 0.1884 - val_output_4_loss: 21.6535 - val_output_3_precision_4: 0.7583 - val_output_3_recall_4: 0.1898 - val_output_3_true_negatives_3: 5045210.0000 - val_output_3_true_positives_3: 4436.0000 - val_output_3_false_negatives_3: 18940.0000 - val_output_3_false_positives_3: 1414.0000\n",
      "Epoch 5/10\n",
      "9213/9213 [==============================] - 635s 69ms/step - loss: 33.5872 - output_1_loss: 4.9815 - output_2_loss: 1.6832 - output_3_loss: 0.1802 - output_4_loss: 21.2203 - output_3_precision_4: 0.6910 - output_3_recall_4: 0.2062 - output_3_true_negatives_3: 123967192.0000 - output_3_true_positives_3: 110002.0000 - output_3_false_negatives_3: 423376.0000 - output_3_false_positives_3: 49186.0000 - val_loss: 32.1311 - val_output_1_loss: 4.7405 - val_output_2_loss: 0.8151 - val_output_3_loss: 0.1847 - val_output_4_loss: 21.0962 - val_output_3_precision_4: 0.7516 - val_output_3_recall_4: 0.2162 - val_output_3_true_negatives_3: 5044954.0000 - val_output_3_true_positives_3: 5054.0000 - val_output_3_false_negatives_3: 18322.0000 - val_output_3_false_positives_3: 1670.0000\n",
      "Epoch 6/10\n",
      "9213/9213 [==============================] - 645s 70ms/step - loss: 32.8731 - output_1_loss: 4.8742 - output_2_loss: 1.6065 - output_3_loss: 0.1774 - output_4_loss: 20.8085 - output_3_precision_4: 0.6948 - output_3_recall_4: 0.2200 - output_3_true_negatives_3: 123964032.0000 - output_3_true_positives_3: 117425.0000 - output_3_false_negatives_3: 416291.0000 - output_3_false_positives_3: 51588.0000 - val_loss: 31.3932 - val_output_1_loss: 4.5846 - val_output_2_loss: 0.8440 - val_output_3_loss: 0.1819 - val_output_4_loss: 20.6524 - val_output_3_precision_4: 0.7843 - val_output_3_recall_4: 0.2036 - val_output_3_true_negatives_3: 5045315.0000 - val_output_3_true_positives_3: 4760.0000 - val_output_3_false_negatives_3: 18616.0000 - val_output_3_false_positives_3: 1309.0000\n",
      "Epoch 7/10\n",
      "9213/9213 [==============================] - 646s 70ms/step - loss: 32.1519 - output_1_loss: 4.7482 - output_2_loss: 1.5803 - output_3_loss: 0.1740 - output_4_loss: 20.3792 - output_3_precision_4: 0.7002 - output_3_recall_4: 0.2326 - output_3_true_negatives_3: 123962584.0000 - output_3_true_positives_3: 124127.0000 - output_3_false_negatives_3: 409463.0000 - output_3_false_positives_3: 53159.0000 - val_loss: 30.4526 - val_output_1_loss: 4.3944 - val_output_2_loss: 0.7223 - val_output_3_loss: 0.1774 - val_output_4_loss: 20.2320 - val_output_3_precision_4: 0.7410 - val_output_3_recall_4: 0.2461 - val_output_3_true_negatives_3: 5044613.0000 - val_output_3_true_positives_3: 5754.0000 - val_output_3_false_negatives_3: 17622.0000 - val_output_3_false_positives_3: 2011.0000\n",
      "Epoch 8/10\n",
      "9213/9213 [==============================] - 630s 68ms/step - loss: 31.6722 - output_1_loss: 4.6854 - output_2_loss: 1.5470 - output_3_loss: 0.1715 - output_4_loss: 20.0684 - output_3_precision_4: 0.7050 - output_3_recall_4: 0.2434 - output_3_true_negatives_3: 123961664.0000 - output_3_true_positives_3: 129879.0000 - output_3_false_negatives_3: 403713.0000 - output_3_false_positives_3: 54352.0000 - val_loss: 30.4947 - val_output_1_loss: 4.3851 - val_output_2_loss: 0.9896 - val_output_3_loss: 0.1756 - val_output_4_loss: 20.0325 - val_output_3_precision_4: 0.7584 - val_output_3_recall_4: 0.2527 - val_output_3_true_negatives_3: 5044742.0000 - val_output_3_true_positives_3: 5907.0000 - val_output_3_false_negatives_3: 17469.0000 - val_output_3_false_positives_3: 1882.0000\n",
      "Epoch 9/10\n",
      "9213/9213 [==============================] - 628s 68ms/step - loss: 31.0566 - output_1_loss: 4.5791 - output_2_loss: 1.5654 - output_3_loss: 0.1682 - output_4_loss: 19.6602 - output_3_precision_4: 0.7090 - output_3_recall_4: 0.2564 - output_3_true_negatives_3: 123959808.0000 - output_3_true_positives_3: 136818.0000 - output_3_false_negatives_3: 396780.0000 - output_3_false_positives_3: 56145.0000 - val_loss: 29.8103 - val_output_1_loss: 4.2784 - val_output_2_loss: 0.7174 - val_output_3_loss: 0.1735 - val_output_4_loss: 19.8420 - val_output_3_precision_4: 0.7476 - val_output_3_recall_4: 0.2716 - val_output_3_true_negatives_3: 5044480.0000 - val_output_3_true_positives_3: 6349.0000 - val_output_3_false_negatives_3: 17027.0000 - val_output_3_false_positives_3: 2144.0000\n",
      "Epoch 10/10\n",
      "9213/9213 [==============================] - 642s 70ms/step - loss: 30.4077 - output_1_loss: 4.4851 - output_2_loss: 1.4456 - output_3_loss: 0.1657 - output_4_loss: 19.3290 - output_3_precision_4: 0.7107 - output_3_recall_4: 0.2669 - output_3_true_negatives_3: 123958072.0000 - output_3_true_positives_3: 142418.0000 - output_3_false_negatives_3: 391162.0000 - output_3_false_positives_3: 57980.0000 - val_loss: 29.0544 - val_output_1_loss: 4.0916 - val_output_2_loss: 0.8412 - val_output_3_loss: 0.1712 - val_output_4_loss: 19.3454 - val_output_3_precision_4: 0.7816 - val_output_3_recall_4: 0.2653 - val_output_3_true_negatives_3: 5044891.0000 - val_output_3_true_positives_3: 6202.0000 - val_output_3_false_negatives_3: 17174.0000 - val_output_3_false_positives_3: 1733.0000\n"
     ]
    }
   ],
   "source": [
    "history = model.fit(train_dataset, epochs=10,validation_data=val_dataset)"
   ]
  },
  {
   "cell_type": "code",
   "execution_count": 12,
   "metadata": {},
   "outputs": [
    {
     "name": "stdout",
     "output_type": "stream",
     "text": [
      "{'loss': [1730360.2240532888, 570.973998115753, 12400.711475089698, 45.28717758845188, 23.66998835732427, 22.33506023619514, 21.47033319496818, 21.10717370287593, 20.694593455213106, 20.383880133182274, 20.186747138893406, 19.956230268571822, 19.701506302526173, 19.54467439458679, 19.544134786408573, 19.464470668694275, 19.211783719388254, 19.194032366212575, 19.06527896271512, 18.987476273512637], 'output_1_loss': [580977.9, 162.7661, 6504.514, 6.6845803, 6.0172386, 5.834253, 5.665129, 5.6135855, 5.5386586, 5.4822116, 5.4661098, 5.3750067, 5.350316, 5.3225904, 5.326665, 5.2719526, 5.220171, 5.2109375, 5.200909, 5.1678624], 'output_2_loss': [1149076.4, 326.75598, 5845.039, 3.1532123, 2.3503883, 2.2387094, 2.0652702, 2.1025445, 2.0269985, 1.983707, 1.9550353, 1.9173115, 1.8504103, 1.8376346, 1.8716666, 1.9434427, 1.8292828, 1.8468119, 1.804593, 1.8206726], 'output_3_loss': [1.3264735, 1.1011581, 0.69467604, 0.5170728, 0.23785977, 0.22278126, 0.2154919, 0.2102615, 0.20636734, 0.20310973, 0.20097947, 0.19952647, 0.19722416, 0.19532138, 0.19496775, 0.19358735, 0.19204709, 0.1920567, 0.1909254, 0.19017446], 'output_4_loss': [189.36407, 154.0099, 94.11817, 66.75658, 28.699467, 26.739714, 25.757788, 25.097975, 24.604868, 24.209328, 23.921276, 23.72943, 23.421476, 23.204887, 23.129995, 22.94762, 22.785988, 22.734041, 22.590002, 22.474428], 'output_3_precision': [0.010531268, 0.012190254, 0.024498798, 0.22424078, 0.5456283, 0.60044605, 0.62772286, 0.6452117, 0.6488795, 0.65815794, 0.6604635, 0.6612665, 0.66750693, 0.6680975, 0.66851103, 0.6710187, 0.67620224, 0.68022865, 0.6757757, 0.67826366], 'output_3_recall': [0.008096347, 0.0072098267, 0.003454283, 0.016984867, 0.060985804, 0.08929348, 0.108951315, 0.12150823, 0.13384318, 0.1436886, 0.15101653, 0.15704134, 0.16476074, 0.17063722, 0.17232816, 0.17869902, 0.18236998, 0.18338901, 0.1861959, 0.19131279], 'output_3_true_negatives': [123609990.0, 123703770.0, 123942570.0, 123984870.0, 123989010.0, 123984536.0, 123981650.0, 123980056.0, 123977530.0, 123976056.0, 123974640.0, 123973570.0, 123971976.0, 123971180.0, 123970264.0, 123969270.0, 123969310.0, 123970060.0, 123968490.0, 123967760.0], 'output_3_true_positives': [4320.0, 3848.0, 1844.0, 9060.0, 32538.0, 47652.0, 58124.0, 64847.0, 71404.0, 76655.0, 80564.0, 83758.0, 87916.0, 91051.0, 91945.0, 95337.0, 97317.0, 97823.0, 99337.0, 102078.0], 'output_3_false_negatives': [529254.0, 529868.0, 531986.0, 524356.0, 500996.0, 486004.0, 475362.0, 468837.0, 462086.0, 456825.0, 452914.0, 449592.0, 445682.0, 442543.0, 441601.0, 438169.0, 436307.0, 435595.0, 434171.0, 431488.0], 'output_3_false_positives': [405887.0, 311814.0, 73425.0, 31343.0, 27096.0, 31709.0, 34471.0, 35658.0, 38638.0, 39814.0, 41417.0, 42905.0, 43792.0, 45233.0, 45592.0, 46741.0, 46600.0, 45986.0, 47660.0, 48421.0], 'val_loss': [145.45707245890299, 56.24348451741537, 52.65217436218262, 25.996739270528156, 23.76839606221517, 22.858866002400717, 24.27738298924764, 21.71710850906372, 21.74274696858724, 21.91662636566162, 21.256689282735188, 20.888582665761312, 20.626797894795736, 21.15322360610962, 20.264232765197754, 20.450645203908284, 19.71602665837606, 20.809125455220542, 19.827819849650066, 20.598933050791423], 'val_output_1_loss': [39.068848, 7.7162814, 6.967191, 6.3650327, 6.263222, 5.923195, 6.128488, 5.754397, 5.7569323, 5.7268744, 5.6563735, 5.668267, 5.5599923, 5.6407847, 5.641263, 5.754744, 5.464965, 5.322533, 5.438993, 5.676507], 'val_output_2_loss': [42.452755, 3.8104863, 2.6931465, 2.5769966, 2.3781965, 2.1917946, 3.199534, 2.127393, 2.1880984, 2.4042275, 2.185268, 1.9728929, 1.966886, 2.1398215, 1.7209316, 1.734752, 1.6170591, 2.2382295, 1.599436, 2.181623], 'val_output_3_loss': [1.0970273, 0.6866088, 0.65675825, 0.2693989, 0.24553852, 0.24166518, 0.24488501, 0.22426729, 0.22361295, 0.22613208, 0.22022255, 0.21856505, 0.21439953, 0.22068603, 0.21166536, 0.21013747, 0.20634748, 0.21807487, 0.21010605, 0.20935225], 'val_output_4_loss': [119.09472, 83.94056, 80.72959, 31.954235, 28.289633, 27.554451, 27.93964, 25.876509, 25.806541, 25.761984, 25.068321, 24.746336, 24.484652, 24.979744, 24.110748, 24.241196, 23.617226, 24.75213, 23.897938, 23.806795], 'val_output_3_precision': [0.03125, 0.22916667, 0.5301205, 0.41948882, 0.6199616, 0.664497, 0.7158333, 0.7268594, 0.63654417, 0.72031665, 0.71877104, 0.73132426, 0.6852603, 0.7177632, 0.7537778, 0.6996124, 0.67, 0.68763524, 0.6539774, 0.6579429], 'val_output_3_recall': [8.566778e-05, 0.00047226515, 0.0018892229, 0.056318093, 0.083175965, 0.096246146, 0.07360123, 0.09612576, 0.16472504, 0.116896465, 0.13756545, 0.14784624, 0.17384219, 0.14048417, 0.1456169, 0.17003511, 0.20675467, 0.17743044, 0.21385646, 0.20073839], 'val_output_3_true_negatives': [5046592.0, 5046671.0, 5046671.0, 5044869.0, 5045512.0, 5045530.0, 5045976.0, 5045877.0, 5044456.0, 5045586.0, 5045448.0, 5045426.0, 5044818.0, 5045415.0, 5045598.0, 5044941.0, 5044292.0, 5044835.0, 5044068.0, 5044275.0], 'val_output_3_true_positives': [2.0, 11.0, 44.0, 1313.0, 1938.0, 2246.0, 1718.0, 2238.0, 3846.0, 2730.0, 3205.0, 3446.0, 4054.0, 3273.0, 3392.0, 3971.0, 4824.0, 4132.0, 4982.0, 4676.0], 'val_output_3_false_negatives': [23344.0, 23281.0, 23246.0, 22001.0, 21362.0, 21090.0, 21624.0, 21044.0, 19502.0, 20624.0, 20093.0, 19862.0, 19266.0, 20025.0, 19902.0, 19383.0, 18508.0, 19156.0, 18314.0, 18618.0], 'val_output_3_false_positives': [62.0, 37.0, 39.0, 1817.0, 1188.0, 1134.0, 682.0, 841.0, 2196.0, 1060.0, 1254.0, 1266.0, 1862.0, 1287.0, 1108.0, 1705.0, 2376.0, 1877.0, 2636.0, 2431.0]}\n"
     ]
    }
   ],
   "source": [
    "history_finetuning_4_0dot5_20_epoch_rmsprop_0dot001 = history.history\n",
    "print(history_finetuning_4_0dot5_20_epoch_rmsprop_0dot001)"
   ]
  },
  {
   "cell_type": "code",
   "execution_count": null,
   "metadata": {},
   "outputs": [],
   "source": []
  },
  {
   "cell_type": "code",
   "execution_count": null,
   "metadata": {},
   "outputs": [],
   "source": []
  },
  {
   "cell_type": "code",
   "execution_count": 13,
   "metadata": {},
   "outputs": [
    {
     "name": "stdout",
     "output_type": "stream",
     "text": [
      "Se redimensiona la salida de la CNN a: (None, 338, 5)\n",
      "Se redimensiona la salida de la CNN a: (None, 1352, 5)\n",
      "Se redimensiona la salida de la CNN a: (None, 338, 5)\n",
      "Se redimensiona la salida de la CNN a: (None, 1352, 5)\n",
      "Se redimensiona la salida de la CNN a: (None, 338, 5)\n",
      "Se redimensiona la salida de la CNN a: (None, 1352, 5)\n",
      "Se redimensiona la salida de la CNN a: (None, 338, 5)\n",
      "Se redimensiona la salida de la CNN a: (None, 1352, 5)\n",
      "WARNING:tensorflow:From /home/sergio/miniconda3/envs/tesis/lib/python3.6/site-packages/tensorflow_core/python/ops/resource_variable_ops.py:1786: calling BaseResourceVariable.__init__ (from tensorflow.python.ops.resource_variable_ops) with constraint is deprecated and will be removed in a future version.\n",
      "Instructions for updating:\n",
      "If using Keras pass *_constraint arguments to layers.\n",
      "INFO:tensorflow:Assets written to: /home/sergio/Documents/models_saved/history_finetuning_4_0dot5_20_epoch_rmsprop_0dot001/assets\n"
     ]
    }
   ],
   "source": [
    "model_save_path = \"/home/sergio/Documents/models_saved/history_finetuning_4_0dot5_20_epoch_rmsprop_0dot001\"\n",
    "\n",
    "tf.keras.models.save_model(model, model_save_path, include_optimizer=True)"
   ]
  },
  {
   "cell_type": "code",
   "execution_count": 14,
   "metadata": {},
   "outputs": [],
   "source": [
    "os.chdir(\"/home/sergio/Documents/Checkpoints_experiements\")\n",
    "import json\n",
    "#json.dumps(str(a))\n",
    "with open('history_finetuning_4_0dot5_20_epoch_rmsprop_0dot001.json', 'w') as fp:\n",
    "    json.dump(str(history_finetuning_4_0dot5_20_epoch_rmsprop_0dot001), fp)"
   ]
  },
  {
   "cell_type": "code",
   "execution_count": 15,
   "metadata": {},
   "outputs": [
    {
     "name": "stdout",
     "output_type": "stream",
     "text": [
      "<YOLOblocks.BasicBlock object at 0x7f6f41beacf8> True\n",
      "<YOLOblocks.BasicBlock object at 0x7f6f4020cbe0> True\n",
      "<YOLOblocks.BasicBlock object at 0x7f6f41b4d780> True\n",
      "<YOLOblocks.BasicBlock object at 0x7f6f41b4dda0> True\n",
      "<YOLOblocks.BasicBlock object at 0x7f6f40180320> True\n",
      "<YOLOblocks.BasicBlock object at 0x7f6f40180908> True\n",
      "<YOLOblocks.BasicBlock object at 0x7f6f41b90198> True\n",
      "<YOLOblocks.BasicBlock object at 0x7f6f41b90710> True\n",
      "<YOLOblocks.BasicBlock object at 0x7f6f41b90c88> True\n",
      "<YOLOblocks.BasicBlock object at 0x7f6f400fa240> True\n",
      "<YOLOblocks.BasicBlock object at 0x7f6f400fa5c0> True\n",
      "<YOLOblocks.BasicBlock object at 0x7f6f400fab38> True\n",
      "<YOLOblocks.BasicBlock object at 0x7f6f401160f0> True\n",
      "<tensorflow.python.keras.layers.merge.Concatenate object at 0x7f6f40116470> True\n",
      "<tensorflow.python.keras.layers.convolutional.UpSampling2D object at 0x7f6f40116588> True\n",
      "<YOLOblocks.PredictionLayer object at 0x7f6f401166d8> True\n",
      "<YOLOblocks.PredictionLayer object at 0x7f6f40138400> True\n",
      "<tensorflow.python.keras.layers.merge.Concatenate object at 0x7f6f40116b00> True\n"
     ]
    }
   ],
   "source": [
    "for i in model.layers:\n",
    "    print(i,i.trainable)"
   ]
  },
  {
   "cell_type": "markdown",
   "metadata": {},
   "source": [
    "## Restart the training"
   ]
  },
  {
   "cell_type": "code",
   "execution_count": null,
   "metadata": {},
   "outputs": [],
   "source": []
  },
  {
   "cell_type": "code",
   "execution_count": 6,
   "metadata": {},
   "outputs": [
    {
     "data": {
      "text/plain": [
       "0.42265426880811496"
      ]
     },
     "execution_count": 6,
     "metadata": {},
     "output_type": "execute_result"
    }
   ],
   "source": [
    "500000*100/(1690*70000)"
   ]
  },
  {
   "cell_type": "code",
   "execution_count": 7,
   "metadata": {},
   "outputs": [
    {
     "data": {
      "text/plain": [
       "6.2948508120357545"
      ]
     },
     "execution_count": 7,
     "metadata": {},
     "output_type": "execute_result"
    }
   ],
   "source": [
    "500000*100/(1690*4700)"
   ]
  },
  {
   "cell_type": "markdown",
   "metadata": {},
   "source": [
    "## Saving a model"
   ]
  },
  {
   "cell_type": "code",
   "execution_count": 10,
   "metadata": {},
   "outputs": [],
   "source": [
    "import sys\n",
    "sys.path.append(\"/home/sergio/TinyYOLOv3-Pedestrian-Detection\")\n",
    "\n",
    "from YOLOblocks import TinyYOLOv3#,YOLOLoss\n",
    "import numpy as np\n",
    "import matplotlib.pyplot as plt\n",
    "%matplotlib inline\n",
    "import tensorflow as tf\n",
    "#from tensorflow.python.tools import freeze_graph\n",
    "#from skimage.io import imread,imshow\n",
    "#from skimage.transform import resize \n",
    "import time\n",
    "#from tensorflow.compat.v1.image import decode_image\n",
    "import imgaug.augmenters as iaa\n",
    "from imgaug.augmentables.bbs import BoundingBox, BoundingBoxesOnImage\n",
    "import os"
   ]
  },
  {
   "cell_type": "code",
   "execution_count": 11,
   "metadata": {},
   "outputs": [],
   "source": [
    "from tensorflow.keras.losses import Loss,BinaryCrossentropy,MeanSquaredError\n",
    "\n",
    "def loss_xy(y_true,y_pred):\n",
    "    \n",
    "    mse = MeanSquaredError(reduction=tf.keras.losses.Reduction.NONE)\n",
    "    \n",
    "    tx_true,ty_true,obj_mask = tf.split(y_true, [1,1,1], axis=-1)\n",
    "    tx_pred,ty_pred = tf.split(y_pred, [1,1], axis=-1)\n",
    "    \n",
    "    loss_x = tf.reduce_mean(tf.reduce_sum(obj_mask*(mse(tx_true,tx_pred)[:,:,tf.newaxis]),axis=1))\n",
    "    loss_y = tf.reduce_mean(tf.reduce_sum(obj_mask*(mse(ty_true,ty_pred)[:,:,tf.newaxis]),axis=1))\n",
    "\n",
    "    return loss_x+loss_y\n",
    "\n",
    "def loss_wh(y_true,y_pred):\n",
    "    \n",
    "    mse = MeanSquaredError(reduction=tf.keras.losses.Reduction.NONE)\n",
    "    \n",
    "    tw_true,th_true,obj_mask = tf.split(y_true, [1,1,1], axis=-1)\n",
    "    tw_pred,th_pred = tf.split(y_pred, [1,1], axis=-1)\n",
    "    \n",
    "    loss_w = tf.reduce_mean(tf.reduce_sum(obj_mask*(mse(tw_true,tw_pred)[:,:,tf.newaxis]),axis=1))\n",
    "    loss_h = tf.reduce_mean(tf.reduce_sum(obj_mask*(mse(th_true,th_pred)[:,:,tf.newaxis]),axis=1))\n",
    "\n",
    "\n",
    "    return loss_w+loss_h\n",
    "\n",
    "def loss_objectness(y_true,y_pred):\n",
    "    bce = BinaryCrossentropy(reduction=tf.keras.losses.Reduction.NONE)\n",
    "    \n",
    "    #tw_true,th_true,obj_mask = tf.split(y_true, [1,1,1], axis=-1)\n",
    "    #tw_pred,th_pred = tf.split(y_pred, [1,1], axis=-1)   \n",
    "    \n",
    "    loss_obj =tf.reduce_mean(tf.reduce_sum( y_true*bce(y_true,y_pred)[:,tf.newaxis],axis=1))\n",
    "    \n",
    "    return loss_obj\n",
    "\n",
    "def loss_no_objectness(y_true,y_pred):\n",
    "    bce = BinaryCrossentropy(reduction=tf.keras.losses.Reduction.NONE)\n",
    "    \n",
    "    \n",
    "    loss_noobj =tf.reduce_mean(tf.reduce_sum((1-y_true)*bce(y_true,y_pred)[:,tf.newaxis],axis=1))\n",
    "    \n",
    "    return loss_noobj"
   ]
  },
  {
   "cell_type": "code",
   "execution_count": 12,
   "metadata": {},
   "outputs": [],
   "source": [
    "anchors =[[0.015,0.037],[0.043,0.104],[0.11,0.278],[0.351,0.66]]"
   ]
  },
  {
   "cell_type": "code",
   "execution_count": 13,
   "metadata": {},
   "outputs": [
    {
     "name": "stdout",
     "output_type": "stream",
     "text": [
      "Se redimensiona la salida de la CNN a: (None, 338, 5)\n",
      "Se redimensiona la salida de la CNN a: (None, 1352, 5)\n",
      "Pesos de la convolucion (432,)\n",
      "CONV SHAPE (16, 3, 3, 3)\n",
      "Pesos de la convolucion (4608,)\n",
      "CONV SHAPE (32, 16, 3, 3)\n",
      "Pesos de la convolucion (18432,)\n",
      "CONV SHAPE (64, 32, 3, 3)\n",
      "Pesos de la convolucion (73728,)\n",
      "CONV SHAPE (128, 64, 3, 3)\n",
      "Pesos de la convolucion (294912,)\n",
      "CONV SHAPE (256, 128, 3, 3)\n",
      "Pesos de la convolucion (1179648,)\n",
      "CONV SHAPE (512, 256, 3, 3)\n",
      "Pesos de la convolucion (4718592,)\n",
      "CONV SHAPE (1024, 512, 3, 3)\n",
      "Pesos de la convolucion (262144,)\n",
      "CONV SHAPE (256, 1024, 1, 1)\n",
      "Pesos de la convolucion (1179648,)\n",
      "CONV SHAPE (512, 256, 3, 3)\n",
      "Pesos de la convolucion (130560,)\n",
      "CONV SHAPE (255, 512, 1, 1)\n",
      "Pesos de la convolucion (32768,)\n",
      "CONV SHAPE (128, 256, 1, 1)\n",
      "Pesos de la convolucion (884736,)\n",
      "CONV SHAPE (256, 384, 3, 3)\n",
      "Pesos de la convolucion (65280,)\n",
      "CONV SHAPE (255, 256, 1, 1)\n",
      "8858734\n"
     ]
    }
   ],
   "source": [
    "model = TinyYOLOv3(1,anchor_boxes=anchors,train=True,mode = \"finetuning\")\n",
    "model.build(batch_input_shape=(None,416,416,3))\n",
    "print(model.load_weights(\"/home/sergio/TinyYOLOv3-Pedestrian-Detection/yolov3-tiny.weights\"))"
   ]
  },
  {
   "cell_type": "code",
   "execution_count": 15,
   "metadata": {},
   "outputs": [],
   "source": [
    "tf.random.set_seed(0)\n",
    "\n",
    "from tensorflow.keras.metrics import TrueNegatives,TruePositives,FalseNegatives,FalsePositives,Precision,Recall\n",
    "\n",
    "opt = tf.keras.optimizers.Nadam(learning_rate=0.001)\n",
    "\n",
    "#opt = tf.keras.optimizers.SGD(learning_rate=0.0000001, momentum=0.9, nesterov=True)\n",
    "\n",
    "losses = {\"output_1\": loss_xy,\n",
    "          \"output_2\": loss_wh,\n",
    "          \"output_3\":loss_objectness,\n",
    "          \"output_4\":loss_no_objectness\n",
    "          \n",
    "}\n",
    "\n",
    "metrics = {\"output_3\":[Precision(),Recall(),TrueNegatives(0.5),TruePositives(0.5),FalseNegatives(0.5),FalsePositives(0.5)]}\n",
    "model.compile(optimizer=opt, loss=losses,metrics=metrics,loss_weights=[2,1,4,1])\n",
    "os.chdir(\"/home/sergio/Documents/pedestrian_dataset_train_tfr\")\n",
    "\n",
    "#model._set_inputs((None,416,416,3))"
   ]
  },
  {
   "cell_type": "code",
   "execution_count": 16,
   "metadata": {},
   "outputs": [
    {
     "data": {
      "text/plain": [
       "'/home/sergio/Documents/optimizers_saved/ckpt-1'"
      ]
     },
     "execution_count": 16,
     "metadata": {},
     "output_type": "execute_result"
    }
   ],
   "source": [
    "checkpoint = tf.train.Checkpoint(optimizer=opt)\n",
    "checkpoint_directory = \"/home/sergio/Documents/optimizers_saved\"\n",
    "checkpoint_prefix = os.path.join(checkpoint_directory, \"ckpt\")\n",
    "\n",
    "checkpoint.save(file_prefix=checkpoint_prefix)"
   ]
  },
  {
   "cell_type": "code",
   "execution_count": 17,
   "metadata": {},
   "outputs": [
    {
     "name": "stdout",
     "output_type": "stream",
     "text": [
      "tf.Tensor(0.001, shape=(), dtype=float32)\n",
      "<tf.Variable 'iter:0' shape=() dtype=int64, numpy=0>\n",
      "None\n"
     ]
    }
   ],
   "source": [
    "print(opt._decayed_lr(tf.float32))\n",
    "print(opt._iterations)\n",
    "print(opt._m_cache)"
   ]
  },
  {
   "cell_type": "code",
   "execution_count": 18,
   "metadata": {},
   "outputs": [
    {
     "name": "stdout",
     "output_type": "stream",
     "text": [
      "Se redimensiona la salida de la CNN a: (None, 338, 5)\n",
      "Se redimensiona la salida de la CNN a: (None, 1352, 5)\n",
      "Epoch 1/25\n",
      "Se redimensiona la salida de la CNN a: (None, 338, 5)\n",
      "Se redimensiona la salida de la CNN a: (None, 1352, 5)\n",
      "Se redimensiona la salida de la CNN a: (None, 338, 5)\n",
      "Se redimensiona la salida de la CNN a: (None, 1352, 5)\n",
      "   9213/Unknown - 579s 63ms/step - loss: 42.8893 - output_1_loss: 6.2392 - output_2_loss: 2.2733 - output_3_loss: 0.2197 - output_4_loss: 27.2587 - output_3_precision_1: 0.4851 - output_3_recall_1: 0.0791 - output_3_true_negatives_1: 123971224.0000 - output_3_true_positives_1: 42198.0000 - output_3_false_negatives_1: 491348.0000 - output_3_false_positives_1: 44792.0000Se redimensiona la salida de la CNN a: (None, 338, 5)\n",
      "Se redimensiona la salida de la CNN a: (None, 1352, 5)\n",
      "9213/9213 [==============================] - 588s 64ms/step - loss: 42.8893 - output_1_loss: 6.2392 - output_2_loss: 2.2733 - output_3_loss: 0.2197 - output_4_loss: 27.2587 - output_3_precision_1: 0.4851 - output_3_recall_1: 0.0791 - output_3_true_negatives_1: 123971224.0000 - output_3_true_positives_1: 42198.0000 - output_3_false_negatives_1: 491348.0000 - output_3_false_positives_1: 44792.0000 - val_loss: 40.6474 - val_output_1_loss: 5.8998 - val_output_2_loss: 2.2859 - val_output_3_loss: 0.2246 - val_output_4_loss: 25.6636 - val_output_3_precision_1: 0.7072 - val_output_3_recall_1: 0.1071 - val_output_3_true_negatives_1: 5045654.0000 - val_output_3_true_positives_1: 2497.0000 - val_output_3_false_negatives_1: 20815.0000 - val_output_3_false_positives_1: 1034.0000\n",
      "Epoch 2/25\n",
      "9213/9213 [==============================] - 584s 63ms/step - loss: 38.4994 - output_1_loss: 5.6868 - output_2_loss: 2.1430 - output_3_loss: 0.2030 - output_4_loss: 24.1710 - output_3_precision_1: 0.6584 - output_3_recall_1: 0.1251 - output_3_true_negatives_1: 123981312.0000 - output_3_true_positives_1: 66702.0000 - output_3_false_negatives_1: 466688.0000 - output_3_false_positives_1: 34609.0000 - val_loss: 38.0452 - val_output_1_loss: 5.5308 - val_output_2_loss: 1.8760 - val_output_3_loss: 0.2129 - val_output_4_loss: 24.2561 - val_output_3_precision_1: 0.6937 - val_output_3_recall_1: 0.1434 - val_output_3_true_negatives_1: 5045223.0000 - val_output_3_true_positives_1: 3341.0000 - val_output_3_false_negatives_1: 19961.0000 - val_output_3_false_positives_1: 1475.0000\n",
      "Epoch 3/25\n",
      "9213/9213 [==============================] - 594s 65ms/step - loss: 36.9268 - output_1_loss: 5.4011 - output_2_loss: 1.9590 - output_3_loss: 0.1970 - output_4_loss: 23.3774 - output_3_precision_1: 0.6680 - output_3_recall_1: 0.1478 - output_3_true_negatives_1: 123977016.0000 - output_3_true_positives_1: 78839.0000 - output_3_false_negatives_1: 454519.0000 - output_3_false_positives_1: 39191.0000 - val_loss: 36.8053 - val_output_1_loss: 5.2953 - val_output_2_loss: 2.2089 - val_output_3_loss: 0.2041 - val_output_4_loss: 23.1895 - val_output_3_precision_1: 0.7219 - val_output_3_recall_1: 0.1689 - val_output_3_true_negatives_1: 5045173.0000 - val_output_3_true_positives_1: 3937.0000 - val_output_3_false_negatives_1: 19373.0000 - val_output_3_false_positives_1: 1517.0000\n",
      "Epoch 4/25\n",
      "9213/9213 [==============================] - 604s 66ms/step - loss: 34.7859 - output_1_loss: 5.1170 - output_2_loss: 1.7719 - output_3_loss: 0.1864 - output_4_loss: 22.0343 - output_3_precision_1: 0.6806 - output_3_recall_1: 0.1813 - output_3_true_negatives_1: 123970616.0000 - output_3_true_positives_1: 96735.0000 - output_3_false_negatives_1: 436691.0000 - output_3_false_positives_1: 45401.0000 - val_loss: 35.2747 - val_output_1_loss: 5.1179 - val_output_2_loss: 1.8909 - val_output_3_loss: 0.1948 - val_output_4_loss: 22.3686 - val_output_3_precision_1: 0.7115 - val_output_3_recall_1: 0.2200 - val_output_3_true_negatives_1: 5044602.0000 - val_output_3_true_positives_1: 5130.0000 - val_output_3_false_negatives_1: 18188.0000 - val_output_3_false_positives_1: 2080.0000\n",
      "Epoch 5/25\n",
      "9213/9213 [==============================] - 604s 66ms/step - loss: 33.7023 - output_1_loss: 4.9700 - output_2_loss: 1.6747 - output_3_loss: 0.1815 - output_4_loss: 21.3616 - output_3_precision_1: 0.6882 - output_3_recall_1: 0.2018 - output_3_true_negatives_1: 123967280.0000 - output_3_true_positives_1: 107698.0000 - output_3_false_negatives_1: 425942.0000 - output_3_false_positives_1: 48784.0000 - val_loss: 34.2841 - val_output_1_loss: 5.1552 - val_output_2_loss: 1.7027 - val_output_3_loss: 0.1907 - val_output_4_loss: 21.5080 - val_output_3_precision_1: 0.7398 - val_output_3_recall_1: 0.2089 - val_output_3_true_negatives_1: 5044949.0000 - val_output_3_true_positives_1: 4876.0000 - val_output_3_false_negatives_1: 18460.0000 - val_output_3_false_positives_1: 1715.0000\n",
      "Epoch 6/25\n",
      "9213/9213 [==============================] - 603s 65ms/step - loss: 33.3558 - output_1_loss: 4.9139 - output_2_loss: 1.6898 - output_3_loss: 0.1796 - output_4_loss: 21.1200 - output_3_precision_1: 0.6933 - output_3_recall_1: 0.2118 - output_3_true_negatives_1: 123965816.0000 - output_3_true_positives_1: 113039.0000 - output_3_false_negatives_1: 420569.0000 - output_3_false_positives_1: 50001.0000 - val_loss: 34.5309 - val_output_1_loss: 5.1031 - val_output_2_loss: 1.7731 - val_output_3_loss: 0.1929 - val_output_4_loss: 21.7802 - val_output_3_precision_1: 0.7545 - val_output_3_recall_1: 0.1984 - val_output_3_true_negatives_1: 5045168.0000 - val_output_3_true_positives_1: 4628.0000 - val_output_3_false_negatives_1: 18698.0000 - val_output_3_false_positives_1: 1506.0000\n",
      "Epoch 7/25\n",
      "9213/9213 [==============================] - 600s 65ms/step - loss: 32.4413 - output_1_loss: 4.8011 - output_2_loss: 1.5873 - output_3_loss: 0.1749 - output_4_loss: 20.5521 - output_3_precision_1: 0.6968 - output_3_recall_1: 0.2269 - output_3_true_negatives_1: 123963632.0000 - output_3_true_positives_1: 120989.0000 - output_3_false_negatives_1: 412327.0000 - output_3_false_positives_1: 52646.0000 - val_loss: 33.4119 - val_output_1_loss: 4.8448 - val_output_2_loss: 1.5900 - val_output_3_loss: 0.1901 - val_output_4_loss: 21.3720 - val_output_3_precision_1: 0.7438 - val_output_3_recall_1: 0.2231 - val_output_3_true_negatives_1: 5044896.0000 - val_output_3_true_positives_1: 5202.0000 - val_output_3_false_negatives_1: 18110.0000 - val_output_3_false_positives_1: 1792.0000\n",
      "Epoch 8/25\n",
      "9213/9213 [==============================] - 605s 66ms/step - loss: 31.8050 - output_1_loss: 4.6909 - output_2_loss: 1.5917 - output_3_loss: 0.1722 - output_4_loss: 20.1428 - output_3_precision_1: 0.6997 - output_3_recall_1: 0.2388 - output_3_true_negatives_1: 123961440.0000 - output_3_true_positives_1: 127417.0000 - output_3_false_negatives_1: 406249.0000 - output_3_false_positives_1: 54694.0000 - val_loss: 32.3607 - val_output_1_loss: 4.7591 - val_output_2_loss: 1.5360 - val_output_3_loss: 0.1808 - val_output_4_loss: 20.5833 - val_output_3_precision_1: 0.7131 - val_output_3_recall_1: 0.2687 - val_output_3_true_negatives_1: 5044235.0000 - val_output_3_true_positives_1: 6247.0000 - val_output_3_false_negatives_1: 17005.0000 - val_output_3_false_positives_1: 2513.0000\n",
      "Epoch 9/25\n",
      "9213/9213 [==============================] - 603s 66ms/step - loss: 31.1108 - output_1_loss: 4.5825 - output_2_loss: 1.4959 - output_3_loss: 0.1692 - output_4_loss: 19.7729 - output_3_precision_1: 0.7047 - output_3_recall_1: 0.2518 - output_3_true_negatives_1: 123959816.0000 - output_3_true_positives_1: 134339.0000 - output_3_false_negatives_1: 399231.0000 - output_3_false_positives_1: 56284.0000 - val_loss: 33.1270 - val_output_1_loss: 4.7416 - val_output_2_loss: 1.9750 - val_output_3_loss: 0.1848 - val_output_4_loss: 20.9297 - val_output_3_precision_1: 0.7357 - val_output_3_recall_1: 0.2358 - val_output_3_true_negatives_1: 5044756.0000 - val_output_3_true_positives_1: 5488.0000 - val_output_3_false_negatives_1: 17784.0000 - val_output_3_false_positives_1: 1972.0000\n",
      "Epoch 10/25\n",
      "9213/9213 [==============================] - 604s 66ms/step - loss: 30.6550 - output_1_loss: 4.5065 - output_2_loss: 1.4858 - output_3_loss: 0.1670 - output_4_loss: 19.4881 - output_3_precision_1: 0.7098 - output_3_recall_1: 0.2634 - output_3_true_negatives_1: 123958936.0000 - output_3_true_positives_1: 140514.0000 - output_3_false_negatives_1: 393032.0000 - output_3_false_positives_1: 57450.0000 - val_loss: 31.6495 - val_output_1_loss: 4.6242 - val_output_2_loss: 1.6130 - val_output_3_loss: 0.1800 - val_output_4_loss: 20.0682 - val_output_3_precision_1: 0.7367 - val_output_3_recall_1: 0.2769 - val_output_3_true_negatives_1: 5044332.0000 - val_output_3_true_positives_1: 6468.0000 - val_output_3_false_negatives_1: 16888.0000 - val_output_3_false_positives_1: 2312.0000\n",
      "Epoch 11/25\n",
      "9213/9213 [==============================] - 585s 63ms/step - loss: 30.2067 - output_1_loss: 4.4411 - output_2_loss: 1.5011 - output_3_loss: 0.1645 - output_4_loss: 19.1654 - output_3_precision_1: 0.7119 - output_3_recall_1: 0.2721 - output_3_true_negatives_1: 123957256.0000 - output_3_true_positives_1: 145185.0000 - output_3_false_negatives_1: 388399.0000 - output_3_false_positives_1: 58748.0000 - val_loss: 31.1369 - val_output_1_loss: 4.7073 - val_output_2_loss: 1.4443 - val_output_3_loss: 0.1746 - val_output_4_loss: 19.5794 - val_output_3_precision_1: 0.7135 - val_output_3_recall_1: 0.3058 - val_output_3_true_negatives_1: 5043814.0000 - val_output_3_true_positives_1: 7131.0000 - val_output_3_false_negatives_1: 16191.0000 - val_output_3_false_positives_1: 2864.0000\n",
      "Epoch 12/25\n",
      "9213/9213 [==============================] - 606s 66ms/step - loss: 29.5927 - output_1_loss: 4.3290 - output_2_loss: 1.4458 - output_3_loss: 0.1619 - output_4_loss: 18.8411 - output_3_precision_1: 0.7151 - output_3_recall_1: 0.2834 - output_3_true_negatives_1: 123955512.0000 - output_3_true_positives_1: 151273.0000 - output_3_false_negatives_1: 382449.0000 - output_3_false_positives_1: 60266.0000 - val_loss: 30.5141 - val_output_1_loss: 4.3899 - val_output_2_loss: 1.5267 - val_output_3_loss: 0.1735 - val_output_4_loss: 19.5136 - val_output_3_precision_1: 0.7491 - val_output_3_recall_1: 0.2860 - val_output_3_true_negatives_1: 5044483.0000 - val_output_3_true_positives_1: 6660.0000 - val_output_3_false_negatives_1: 16626.0000 - val_output_3_false_positives_1: 2231.0000\n",
      "Epoch 13/25\n",
      "9213/9213 [==============================] - 610s 66ms/step - loss: 29.1233 - output_1_loss: 4.2470 - output_2_loss: 1.4070 - output_3_loss: 0.1601 - output_4_loss: 18.5820 - output_3_precision_1: 0.7211 - output_3_recall_1: 0.2929 - output_3_true_negatives_1: 123955840.0000 - output_3_true_positives_1: 156300.0000 - output_3_false_negatives_1: 377354.0000 - output_3_false_positives_1: 60465.0000 - val_loss: 30.3216 - val_output_1_loss: 4.4121 - val_output_2_loss: 1.2915 - val_output_3_loss: 0.1753 - val_output_4_loss: 19.5049 - val_output_3_precision_1: 0.7472 - val_output_3_recall_1: 0.2915 - val_output_3_true_negatives_1: 5044314.0000 - val_output_3_true_positives_1: 6816.0000 - val_output_3_false_negatives_1: 16564.0000 - val_output_3_false_positives_1: 2306.0000\n",
      "Epoch 14/25\n",
      "9213/9213 [==============================] - 620s 67ms/step - loss: 28.6685 - output_1_loss: 4.1663 - output_2_loss: 1.3458 - output_3_loss: 0.1581 - output_4_loss: 18.3578 - output_3_precision_1: 0.7226 - output_3_recall_1: 0.3010 - output_3_true_negatives_1: 123954128.0000 - output_3_true_positives_1: 160685.0000 - output_3_false_negatives_1: 373123.0000 - output_3_false_positives_1: 61690.0000 - val_loss: 30.1868 - val_output_1_loss: 4.3972 - val_output_2_loss: 1.5300 - val_output_3_loss: 0.1750 - val_output_4_loss: 19.1623 - val_output_3_precision_1: 0.7655 - val_output_3_recall_1: 0.2938 - val_output_3_true_negatives_1: 5044573.0000 - val_output_3_true_positives_1: 6853.0000 - val_output_3_false_negatives_1: 16475.0000 - val_output_3_false_positives_1: 2099.0000\n",
      "Epoch 15/25\n",
      "9213/9213 [==============================] - 623s 68ms/step - loss: 28.2922 - output_1_loss: 4.1163 - output_2_loss: 1.3614 - output_3_loss: 0.1559 - output_4_loss: 18.0743 - output_3_precision_1: 0.7263 - output_3_recall_1: 0.3095 - output_3_true_negatives_1: 123954120.0000 - output_3_true_positives_1: 165075.0000 - output_3_false_negatives_1: 368227.0000 - output_3_false_positives_1: 62218.0000 - val_loss: 30.1838 - val_output_1_loss: 4.3796 - val_output_2_loss: 1.5089 - val_output_3_loss: 0.1711 - val_output_4_loss: 19.2312 - val_output_3_precision_1: 0.7167 - val_output_3_recall_1: 0.3243 - val_output_3_true_negatives_1: 5043689.0000 - val_output_3_true_positives_1: 7563.0000 - val_output_3_false_negatives_1: 15759.0000 - val_output_3_false_positives_1: 2989.0000\n",
      "Epoch 16/25\n",
      "9213/9213 [==============================] - 640s 69ms/step - loss: 27.8615 - output_1_loss: 4.0654 - output_2_loss: 1.3295 - output_3_loss: 0.1535 - output_4_loss: 17.7871 - output_3_precision_1: 0.7320 - output_3_recall_1: 0.3221 - output_3_true_negatives_1: 123952952.0000 - output_3_true_positives_1: 171857.0000 - output_3_false_negatives_1: 361735.0000 - output_3_false_positives_1: 62928.0000 - val_loss: 30.3985 - val_output_1_loss: 4.2735 - val_output_2_loss: 1.5449 - val_output_3_loss: 0.1735 - val_output_4_loss: 19.6126 - val_output_3_precision_1: 0.6984 - val_output_3_recall_1: 0.3487 - val_output_3_true_negatives_1: 5043171.0000 - val_output_3_true_positives_1: 8130.0000 - val_output_3_false_negatives_1: 15188.0000 - val_output_3_false_positives_1: 3511.0000\n",
      "Epoch 17/25\n",
      "9213/9213 [==============================] - 633s 69ms/step - loss: 27.4667 - output_1_loss: 3.9902 - output_2_loss: 1.3089 - output_3_loss: 0.1521 - output_4_loss: 17.5691 - output_3_precision_1: 0.7340 - output_3_recall_1: 0.3311 - output_3_true_negatives_1: 123951792.0000 - output_3_true_positives_1: 176635.0000 - output_3_false_negatives_1: 356871.0000 - output_3_false_positives_1: 64026.0000 - val_loss: 29.1259 - val_output_1_loss: 4.2392 - val_output_2_loss: 1.3964 - val_output_3_loss: 0.1666 - val_output_4_loss: 18.5848 - val_output_3_precision_1: 0.7418 - val_output_3_recall_1: 0.3232 - val_output_3_true_negatives_1: 5044045.0000 - val_output_3_true_positives_1: 7540.0000 - val_output_3_false_negatives_1: 15790.0000 - val_output_3_false_positives_1: 2625.0000\n",
      "Epoch 18/25\n",
      "9213/9213 [==============================] - 639s 69ms/step - loss: 26.9929 - output_1_loss: 3.9205 - output_2_loss: 1.2622 - output_3_loss: 0.1499 - output_4_loss: 17.2900 - output_3_precision_1: 0.7377 - output_3_recall_1: 0.3396 - output_3_true_negatives_1: 123951920.0000 - output_3_true_positives_1: 181135.0000 - output_3_false_negatives_1: 352321.0000 - output_3_false_positives_1: 64389.0000 - val_loss: 28.4875 - val_output_1_loss: 4.1570 - val_output_2_loss: 1.3760 - val_output_3_loss: 0.1609 - val_output_4_loss: 18.1538 - val_output_3_precision_1: 0.7377 - val_output_3_recall_1: 0.3678 - val_output_3_true_negatives_1: 5043673.0000 - val_output_3_true_positives_1: 8563.0000 - val_output_3_false_negatives_1: 14719.0000 - val_output_3_false_positives_1: 3045.0000\n",
      "Epoch 19/25\n",
      "9213/9213 [==============================] - 641s 70ms/step - loss: 26.7127 - output_1_loss: 3.8764 - output_2_loss: 1.2837 - output_3_loss: 0.1483 - output_4_loss: 17.0832 - output_3_precision_1: 0.7412 - output_3_recall_1: 0.3493 - output_3_true_negatives_1: 123950984.0000 - output_3_true_positives_1: 186358.0000 - output_3_false_negatives_1: 347198.0000 - output_3_false_positives_1: 65071.0000 - val_loss: 28.5547 - val_output_1_loss: 4.2261 - val_output_2_loss: 1.4236 - val_output_3_loss: 0.1608 - val_output_4_loss: 18.0358 - val_output_3_precision_1: 0.7535 - val_output_3_recall_1: 0.3474 - val_output_3_true_negatives_1: 5044050.0000 - val_output_3_true_positives_1: 8095.0000 - val_output_3_false_negatives_1: 15207.0000 - val_output_3_false_positives_1: 2648.0000\n",
      "Epoch 20/25\n",
      "9213/9213 [==============================] - 635s 69ms/step - loss: 26.3214 - output_1_loss: 3.8121 - output_2_loss: 1.2671 - output_3_loss: 0.1466 - output_4_loss: 16.8437 - output_3_precision_1: 0.7447 - output_3_recall_1: 0.3588 - output_3_true_negatives_1: 123950312.0000 - output_3_true_positives_1: 191455.0000 - output_3_false_negatives_1: 342157.0000 - output_3_false_positives_1: 65650.0000 - val_loss: 28.2951 - val_output_1_loss: 4.0971 - val_output_2_loss: 1.6322 - val_output_3_loss: 0.1587 - val_output_4_loss: 17.8340 - val_output_3_precision_1: 0.7289 - val_output_3_recall_1: 0.3811 - val_output_3_true_negatives_1: 5043432.0000 - val_output_3_true_positives_1: 8869.0000 - val_output_3_false_negatives_1: 14401.0000 - val_output_3_false_positives_1: 3298.0000\n",
      "Epoch 21/25\n",
      "9213/9213 [==============================] - 635s 69ms/step - loss: 25.8738 - output_1_loss: 3.7475 - output_2_loss: 1.2435 - output_3_loss: 0.1440 - output_4_loss: 16.5595 - output_3_precision_1: 0.7492 - output_3_recall_1: 0.3698 - output_3_true_negatives_1: 123950152.0000 - output_3_true_positives_1: 197344.0000 - output_3_false_negatives_1: 336272.0000 - output_3_false_positives_1: 66078.0000 - val_loss: 28.2879 - val_output_1_loss: 4.0934 - val_output_2_loss: 1.6493 - val_output_3_loss: 0.1612 - val_output_4_loss: 17.8070 - val_output_3_precision_1: 0.7487 - val_output_3_recall_1: 0.3755 - val_output_3_true_negatives_1: 5043754.0000 - val_output_3_true_positives_1: 8753.0000 - val_output_3_false_negatives_1: 14555.0000 - val_output_3_false_positives_1: 2938.0000\n",
      "Epoch 22/25\n",
      "9213/9213 [==============================] - 639s 69ms/step - loss: 25.6445 - output_1_loss: 3.7353 - output_2_loss: 1.2150 - output_3_loss: 0.1431 - output_4_loss: 16.3867 - output_3_precision_1: 0.7531 - output_3_recall_1: 0.3770 - output_3_true_negatives_1: 123950248.0000 - output_3_true_positives_1: 201135.0000 - output_3_false_negatives_1: 332391.0000 - output_3_false_positives_1: 65954.0000 - val_loss: 27.4062 - val_output_1_loss: 3.9248 - val_output_2_loss: 1.2973 - val_output_3_loss: 0.1587 - val_output_4_loss: 17.6245 - val_output_3_precision_1: 0.7448 - val_output_3_recall_1: 0.3673 - val_output_3_true_negatives_1: 5043792.0000 - val_output_3_true_positives_1: 8549.0000 - val_output_3_false_negatives_1: 14729.0000 - val_output_3_false_positives_1: 2930.0000\n",
      "Epoch 23/25\n",
      "9213/9213 [==============================] - 645s 70ms/step - loss: 25.2796 - output_1_loss: 3.6788 - output_2_loss: 1.2494 - output_3_loss: 0.1407 - output_4_loss: 16.1098 - output_3_precision_1: 0.7573 - output_3_recall_1: 0.3898 - output_3_true_negatives_1: 123949184.0000 - output_3_true_positives_1: 207958.0000 - output_3_false_negatives_1: 325604.0000 - output_3_false_positives_1: 66647.0000 - val_loss: 26.6231 - val_output_1_loss: 3.7775 - val_output_2_loss: 1.4930 - val_output_3_loss: 0.1533 - val_output_4_loss: 16.9620 - val_output_3_precision_1: 0.7477 - val_output_3_recall_1: 0.4103 - val_output_3_true_negatives_1: 5043404.0000 - val_output_3_true_positives_1: 9585.0000 - val_output_3_false_negatives_1: 13777.0000 - val_output_3_false_positives_1: 3234.0000\n",
      "Epoch 24/25\n",
      "9213/9213 [==============================] - 639s 69ms/step - loss: 24.9736 - output_1_loss: 3.6262 - output_2_loss: 1.2571 - output_3_loss: 0.1390 - output_4_loss: 15.9081 - output_3_precision_1: 0.7598 - output_3_recall_1: 0.3983 - output_3_true_negatives_1: 123948856.0000 - output_3_true_positives_1: 212484.0000 - output_3_false_negatives_1: 321048.0000 - output_3_false_positives_1: 67189.0000 - val_loss: 26.2001 - val_output_1_loss: 3.8386 - val_output_2_loss: 1.2932 - val_output_3_loss: 0.1508 - val_output_4_loss: 16.6263 - val_output_3_precision_1: 0.7764 - val_output_3_recall_1: 0.4043 - val_output_3_true_negatives_1: 5044016.0000 - val_output_3_true_positives_1: 9410.0000 - val_output_3_false_negatives_1: 13864.0000 - val_output_3_false_positives_1: 2710.0000\n",
      "Epoch 25/25\n",
      "9213/9213 [==============================] - 616s 67ms/step - loss: 24.6458 - output_1_loss: 3.5906 - output_2_loss: 1.2224 - output_3_loss: 0.1373 - output_4_loss: 15.6929 - output_3_precision_1: 0.7624 - output_3_recall_1: 0.4073 - output_3_true_negatives_1: 123948320.0000 - output_3_true_positives_1: 217287.0000 - output_3_false_negatives_1: 316233.0000 - output_3_false_positives_1: 67730.0000 - val_loss: 26.6247 - val_output_1_loss: 3.8793 - val_output_2_loss: 1.5481 - val_output_3_loss: 0.1525 - val_output_4_loss: 16.7078 - val_output_3_precision_1: 0.7578 - val_output_3_recall_1: 0.4109 - val_output_3_true_negatives_1: 5043640.0000 - val_output_3_true_positives_1: 9574.0000 - val_output_3_false_negatives_1: 13726.0000 - val_output_3_false_positives_1: 3060.0000\n"
     ]
    }
   ],
   "source": [
    "history = model.fit(train_dataset, epochs=25,validation_data=val_dataset)"
   ]
  },
  {
   "cell_type": "code",
   "execution_count": 19,
   "metadata": {},
   "outputs": [],
   "source": [
    "model.save_weights('/home/sergio/Documents/models_saved/pesos_25_epochs_nadam_2_1_4_1_0dot001')"
   ]
  },
  {
   "cell_type": "code",
   "execution_count": 20,
   "metadata": {},
   "outputs": [],
   "source": [
    "import json\n",
    "\n",
    "os.chdir(\"/home/sergio/Documents/Checkpoints_experiements\")\n",
    "\n",
    "history_finetuning_good_bn_nadam_25_epochs_0dot001 = history.history\n",
    "with open('history_finetuning_good_bn_nadam_25_epochs_0dot001.json', 'w') as outfile:\n",
    "    json.dump(str(history_finetuning_good_bn_nadam_25_epochs_0dot001), outfile)"
   ]
  },
  {
   "cell_type": "code",
   "execution_count": 22,
   "metadata": {},
   "outputs": [
    {
     "name": "stdout",
     "output_type": "stream",
     "text": [
      "Epoch 1/35\n",
      "9213/9213 [==============================] - 556s 60ms/step - loss: 24.2648 - output_1_loss: 3.5414 - output_2_loss: 1.1958 - output_3_loss: 0.1356 - output_4_loss: 15.4437 - output_3_precision_1: 0.7666 - output_3_recall_1: 0.4164 - output_3_true_negatives_1: 123947880.0000 - output_3_true_positives_1: 222232.0000 - output_3_false_negatives_1: 311446.0000 - output_3_false_positives_1: 67649.0000 - val_loss: 26.6281 - val_output_1_loss: 3.8407 - val_output_2_loss: 1.5473 - val_output_3_loss: 0.1538 - val_output_4_loss: 16.7841 - val_output_3_precision_1: 0.7553 - val_output_3_recall_1: 0.4112 - val_output_3_true_negatives_1: 5043607.0000 - val_output_3_true_positives_1: 9577.0000 - val_output_3_false_negatives_1: 13713.0000 - val_output_3_false_positives_1: 3103.0000\n",
      "Epoch 2/35\n",
      "9213/9213 [==============================] - 540s 59ms/step - loss: 24.0947 - output_1_loss: 3.5258 - output_2_loss: 1.2152 - output_3_loss: 0.1342 - output_4_loss: 15.2913 - output_3_precision_1: 0.7720 - output_3_recall_1: 0.4251 - output_3_true_negatives_1: 123948952.0000 - output_3_true_positives_1: 226797.0000 - output_3_false_negatives_1: 306733.0000 - output_3_false_positives_1: 67000.0000 - val_loss: 25.6567 - val_output_1_loss: 3.8356 - val_output_2_loss: 1.3220 - val_output_3_loss: 0.1468 - val_output_4_loss: 16.0764 - val_output_3_precision_1: 0.7829 - val_output_3_recall_1: 0.4230 - val_output_3_true_negatives_1: 5043980.0000 - val_output_3_true_positives_1: 9851.0000 - val_output_3_false_negatives_1: 13437.0000 - val_output_3_false_positives_1: 2732.0000\n",
      "Epoch 3/35\n",
      "9213/9213 [==============================] - 556s 60ms/step - loss: 23.7333 - output_1_loss: 3.4948 - output_2_loss: 1.1467 - output_3_loss: 0.1326 - output_4_loss: 15.0666 - output_3_precision_1: 0.7761 - output_3_recall_1: 0.4350 - output_3_true_negatives_1: 123949368.0000 - output_3_true_positives_1: 232077.0000 - output_3_false_negatives_1: 301389.0000 - output_3_false_positives_1: 66968.0000 - val_loss: 26.0242 - val_output_1_loss: 3.8015 - val_output_2_loss: 1.3826 - val_output_3_loss: 0.1500 - val_output_4_loss: 16.4386 - val_output_3_precision_1: 0.7764 - val_output_3_recall_1: 0.4090 - val_output_3_true_negatives_1: 5043983.0000 - val_output_3_true_positives_1: 9520.0000 - val_output_3_false_negatives_1: 13756.0000 - val_output_3_false_positives_1: 2741.0000\n",
      "Epoch 4/35\n",
      "9213/9213 [==============================] - 567s 62ms/step - loss: 23.4624 - output_1_loss: 3.4427 - output_2_loss: 1.2011 - output_3_loss: 0.1309 - output_4_loss: 14.8522 - output_3_precision_1: 0.7780 - output_3_recall_1: 0.4425 - output_3_true_negatives_1: 123948792.0000 - output_3_true_positives_1: 236067.0000 - output_3_false_negatives_1: 297405.0000 - output_3_false_positives_1: 67356.0000 - val_loss: 26.5207 - val_output_1_loss: 3.9317 - val_output_2_loss: 1.4494 - val_output_3_loss: 0.1496 - val_output_4_loss: 16.6096 - val_output_3_precision_1: 0.7325 - val_output_3_recall_1: 0.4549 - val_output_3_true_negatives_1: 5042813.0000 - val_output_3_true_positives_1: 10605.0000 - val_output_3_false_negatives_1: 12709.0000 - val_output_3_false_positives_1: 3873.0000\n",
      "Epoch 5/35\n",
      "9213/9213 [==============================] - 575s 62ms/step - loss: 23.1296 - output_1_loss: 3.3926 - output_2_loss: 1.1658 - output_3_loss: 0.1295 - output_4_loss: 14.6607 - output_3_precision_1: 0.7824 - output_3_recall_1: 0.4517 - output_3_true_negatives_1: 123949096.0000 - output_3_true_positives_1: 241013.0000 - output_3_false_negatives_1: 292533.0000 - output_3_false_positives_1: 67047.0000 - val_loss: 25.0953 - val_output_1_loss: 3.6974 - val_output_2_loss: 1.1594 - val_output_3_loss: 0.1455 - val_output_4_loss: 15.9591 - val_output_3_precision_1: 0.7610 - val_output_3_recall_1: 0.4500 - val_output_3_true_negatives_1: 5043357.0000 - val_output_3_true_positives_1: 10505.0000 - val_output_3_false_negatives_1: 12839.0000 - val_output_3_false_positives_1: 3299.0000\n",
      "Epoch 6/35\n",
      "9213/9213 [==============================] - 578s 63ms/step - loss: 23.0261 - output_1_loss: 3.3794 - output_2_loss: 1.2451 - output_3_loss: 0.1281 - output_4_loss: 14.5100 - output_3_precision_1: 0.7843 - output_3_recall_1: 0.4582 - output_3_true_negatives_1: 123948632.0000 - output_3_true_positives_1: 244478.0000 - output_3_false_negatives_1: 289112.0000 - output_3_false_positives_1: 67250.0000 - val_loss: 25.4645 - val_output_1_loss: 3.6710 - val_output_2_loss: 1.4671 - val_output_3_loss: 0.1474 - val_output_4_loss: 16.0659 - val_output_3_precision_1: 0.7259 - val_output_3_recall_1: 0.4919 - val_output_3_true_negatives_1: 5042335.0000 - val_output_3_true_positives_1: 11477.0000 - val_output_3_false_negatives_1: 11855.0000 - val_output_3_false_positives_1: 4333.0000\n",
      "Epoch 7/35\n",
      "9213/9213 [==============================] - 567s 62ms/step - loss: 22.7774 - output_1_loss: 3.3656 - output_2_loss: 1.1712 - output_3_loss: 0.1273 - output_4_loss: 14.3657 - output_3_precision_1: 0.7864 - output_3_recall_1: 0.4646 - output_3_true_negatives_1: 123948848.0000 - output_3_true_positives_1: 247794.0000 - output_3_false_negatives_1: 285600.0000 - output_3_false_positives_1: 67307.0000 - val_loss: 25.4579 - val_output_1_loss: 3.8001 - val_output_2_loss: 1.4820 - val_output_3_loss: 0.1452 - val_output_4_loss: 15.7949 - val_output_3_precision_1: 0.7720 - val_output_3_recall_1: 0.4548 - val_output_3_true_negatives_1: 5043570.0000 - val_output_3_true_positives_1: 10598.0000 - val_output_3_false_negatives_1: 12702.0000 - val_output_3_false_positives_1: 3130.0000\n",
      "Epoch 8/35\n",
      "9213/9213 [==============================] - 575s 62ms/step - loss: 22.4970 - output_1_loss: 3.3339 - output_2_loss: 1.1594 - output_3_loss: 0.1253 - output_4_loss: 14.1686 - output_3_precision_1: 0.7902 - output_3_recall_1: 0.4733 - output_3_true_negatives_1: 123948856.0000 - output_3_true_positives_1: 252532.0000 - output_3_false_negatives_1: 280972.0000 - output_3_false_positives_1: 67066.0000 - val_loss: 24.6871 - val_output_1_loss: 3.6597 - val_output_2_loss: 1.2961 - val_output_3_loss: 0.1428 - val_output_4_loss: 15.5004 - val_output_3_precision_1: 0.7658 - val_output_3_recall_1: 0.4735 - val_output_3_true_negatives_1: 5043296.0000 - val_output_3_true_positives_1: 11046.0000 - val_output_3_false_negatives_1: 12280.0000 - val_output_3_false_positives_1: 3378.0000\n",
      "Epoch 9/35\n",
      "9213/9213 [==============================] - 567s 62ms/step - loss: 22.2669 - output_1_loss: 3.3178 - output_2_loss: 1.1154 - output_3_loss: 0.1244 - output_4_loss: 14.0184 - output_3_precision_1: 0.7935 - output_3_recall_1: 0.4791 - output_3_true_negatives_1: 123949288.0000 - output_3_true_positives_1: 255653.0000 - output_3_false_negatives_1: 277935.0000 - output_3_false_positives_1: 66544.0000 - val_loss: 23.9994 - val_output_1_loss: 3.5827 - val_output_2_loss: 1.2491 - val_output_3_loss: 0.1376 - val_output_4_loss: 15.0344 - val_output_3_precision_1: 0.7661 - val_output_3_recall_1: 0.4932 - val_output_3_true_negatives_1: 5043161.0000 - val_output_3_true_positives_1: 11505.0000 - val_output_3_false_negatives_1: 11821.0000 - val_output_3_false_positives_1: 3513.0000\n",
      "Epoch 10/35\n",
      "9213/9213 [==============================] - 556s 60ms/step - loss: 22.0970 - output_1_loss: 3.2789 - output_2_loss: 1.1761 - output_3_loss: 0.1231 - output_4_loss: 13.8707 - output_3_precision_1: 0.7959 - output_3_recall_1: 0.4858 - output_3_true_negatives_1: 123949816.0000 - output_3_true_positives_1: 259196.0000 - output_3_false_negatives_1: 274306.0000 - output_3_false_positives_1: 66487.0000 - val_loss: 23.9600 - val_output_1_loss: 3.4811 - val_output_2_loss: 1.4218 - val_output_3_loss: 0.1371 - val_output_4_loss: 15.0277 - val_output_3_precision_1: 0.7707 - val_output_3_recall_1: 0.4949 - val_output_3_true_negatives_1: 5043262.0000 - val_output_3_true_positives_1: 11534.0000 - val_output_3_false_negatives_1: 11772.0000 - val_output_3_false_positives_1: 3432.0000\n",
      "Epoch 11/35\n",
      "9213/9213 [==============================] - 552s 60ms/step - loss: 21.9822 - output_1_loss: 3.2738 - output_2_loss: 1.1739 - output_3_loss: 0.1227 - output_4_loss: 13.7699 - output_3_precision_1: 0.7966 - output_3_recall_1: 0.4896 - output_3_true_negatives_1: 123949296.0000 - output_3_true_positives_1: 261290.0000 - output_3_false_negatives_1: 272420.0000 - output_3_false_positives_1: 66732.0000 - val_loss: 23.6689 - val_output_1_loss: 3.4359 - val_output_2_loss: 1.3044 - val_output_3_loss: 0.1376 - val_output_4_loss: 14.9425 - val_output_3_precision_1: 0.7729 - val_output_3_recall_1: 0.5120 - val_output_3_true_negatives_1: 5043183.0000 - val_output_3_true_positives_1: 11934.0000 - val_output_3_false_negatives_1: 11376.0000 - val_output_3_false_positives_1: 3507.0000\n",
      "Epoch 12/35\n",
      "9213/9213 [==============================] - 549s 60ms/step - loss: 21.6253 - output_1_loss: 3.2270 - output_2_loss: 1.1676 - output_3_loss: 0.1203 - output_4_loss: 13.5225 - output_3_precision_1: 0.8011 - output_3_recall_1: 0.5005 - output_3_true_negatives_1: 123949832.0000 - output_3_true_positives_1: 267045.0000 - output_3_false_negatives_1: 266519.0000 - output_3_false_positives_1: 66310.0000 - val_loss: 23.0048 - val_output_1_loss: 3.2502 - val_output_2_loss: 1.1084 - val_output_3_loss: 0.1335 - val_output_4_loss: 14.8618 - val_output_3_precision_1: 0.7674 - val_output_3_recall_1: 0.5100 - val_output_3_true_negatives_1: 5043119.0000 - val_output_3_true_positives_1: 11874.0000 - val_output_3_false_negatives_1: 11408.0000 - val_output_3_false_positives_1: 3599.0000\n",
      "Epoch 13/35\n",
      "9213/9213 [==============================] - 533s 58ms/step - loss: 21.4917 - output_1_loss: 3.1926 - output_2_loss: 1.2247 - output_3_loss: 0.1192 - output_4_loss: 13.4050 - output_3_precision_1: 0.8042 - output_3_recall_1: 0.5065 - output_3_true_negatives_1: 123950336.0000 - output_3_true_positives_1: 270267.0000 - output_3_false_negatives_1: 263307.0000 - output_3_false_positives_1: 65794.0000 - val_loss: 23.9428 - val_output_1_loss: 3.6513 - val_output_2_loss: 1.2941 - val_output_3_loss: 0.1372 - val_output_4_loss: 14.7973 - val_output_3_precision_1: 0.7744 - val_output_3_recall_1: 0.5078 - val_output_3_true_negatives_1: 5043255.0000 - val_output_3_true_positives_1: 11831.0000 - val_output_3_false_negatives_1: 11467.0000 - val_output_3_false_positives_1: 3447.0000\n",
      "Epoch 14/35\n",
      "9213/9213 [==============================] - 534s 58ms/step - loss: 21.2701 - output_1_loss: 3.1678 - output_2_loss: 1.1361 - output_3_loss: 0.1188 - output_4_loss: 13.3230 - output_3_precision_1: 0.8052 - output_3_recall_1: 0.5097 - output_3_true_negatives_1: 123950240.0000 - output_3_true_positives_1: 271981.0000 - output_3_false_negatives_1: 261651.0000 - output_3_false_positives_1: 65790.0000 - val_loss: 23.6612 - val_output_1_loss: 3.5115 - val_output_2_loss: 1.1977 - val_output_3_loss: 0.1378 - val_output_4_loss: 14.8891 - val_output_3_precision_1: 0.7827 - val_output_3_recall_1: 0.4963 - val_output_3_true_negatives_1: 5043451.0000 - val_output_3_true_positives_1: 11581.0000 - val_output_3_false_negatives_1: 11753.0000 - val_output_3_false_positives_1: 3215.0000\n",
      "Epoch 15/35\n",
      "9213/9213 [==============================] - 522s 57ms/step - loss: 20.9742 - output_1_loss: 3.1391 - output_2_loss: 1.1196 - output_3_loss: 0.1165 - output_4_loss: 13.1105 - output_3_precision_1: 0.8080 - output_3_recall_1: 0.5193 - output_3_true_negatives_1: 123950088.0000 - output_3_true_positives_1: 277140.0000 - output_3_false_negatives_1: 256528.0000 - output_3_false_positives_1: 65837.0000 - val_loss: 23.2280 - val_output_1_loss: 3.4029 - val_output_2_loss: 1.2614 - val_output_3_loss: 0.1342 - val_output_4_loss: 14.6239 - val_output_3_precision_1: 0.7901 - val_output_3_recall_1: 0.5000 - val_output_3_true_negatives_1: 5043585.0000 - val_output_3_true_positives_1: 11658.0000 - val_output_3_false_negatives_1: 11660.0000 - val_output_3_false_positives_1: 3097.0000\n",
      "Epoch 16/35\n",
      "9213/9213 [==============================] - 515s 56ms/step - loss: 21.0029 - output_1_loss: 3.1446 - output_2_loss: 1.1636 - output_3_loss: 0.1168 - output_4_loss: 13.0827 - output_3_precision_1: 0.8096 - output_3_recall_1: 0.5203 - output_3_true_negatives_1: 123950904.0000 - output_3_true_positives_1: 277534.0000 - output_3_false_negatives_1: 255928.0000 - output_3_false_positives_1: 65272.0000 - val_loss: 23.1716 - val_output_1_loss: 3.4179 - val_output_2_loss: 1.1966 - val_output_3_loss: 0.1344 - val_output_4_loss: 14.6016 - val_output_3_precision_1: 0.7915 - val_output_3_recall_1: 0.4932 - val_output_3_true_negatives_1: 5043634.0000 - val_output_3_true_positives_1: 11508.0000 - val_output_3_false_negatives_1: 11826.0000 - val_output_3_false_positives_1: 3032.0000\n",
      "Epoch 17/35\n",
      "9213/9213 [==============================] - 514s 56ms/step - loss: 20.8186 - output_1_loss: 3.1409 - output_2_loss: 1.1667 - output_3_loss: 0.1150 - output_4_loss: 12.9101 - output_3_precision_1: 0.8128 - output_3_recall_1: 0.5283 - output_3_true_negatives_1: 123951072.0000 - output_3_true_positives_1: 281921.0000 - output_3_false_negatives_1: 251709.0000 - output_3_false_positives_1: 64945.0000 - val_loss: 23.1081 - val_output_1_loss: 3.3373 - val_output_2_loss: 1.2950 - val_output_3_loss: 0.1351 - val_output_4_loss: 14.5981 - val_output_3_precision_1: 0.7629 - val_output_3_recall_1: 0.5324 - val_output_3_true_negatives_1: 5042823.0000 - val_output_3_true_positives_1: 12414.0000 - val_output_3_false_negatives_1: 10904.0000 - val_output_3_false_positives_1: 3859.0000\n",
      "Epoch 18/35\n",
      "9213/9213 [==============================] - 507s 55ms/step - loss: 20.5821 - output_1_loss: 3.1067 - output_2_loss: 1.1320 - output_3_loss: 0.1139 - output_4_loss: 12.7812 - output_3_precision_1: 0.8148 - output_3_recall_1: 0.5325 - output_3_true_negatives_1: 123951064.0000 - output_3_true_positives_1: 284191.0000 - output_3_false_negatives_1: 249485.0000 - output_3_false_positives_1: 64578.0000 - val_loss: 22.2939 - val_output_1_loss: 3.3873 - val_output_2_loss: 1.1280 - val_output_3_loss: 0.1277 - val_output_4_loss: 13.8808 - val_output_3_precision_1: 0.8026 - val_output_3_recall_1: 0.5227 - val_output_3_true_negatives_1: 5043746.0000 - val_output_3_true_positives_1: 12160.0000 - val_output_3_false_negatives_1: 11104.0000 - val_output_3_false_positives_1: 2990.0000\n",
      "Epoch 19/35\n",
      "9213/9213 [==============================] - 511s 55ms/step - loss: 20.4063 - output_1_loss: 3.0692 - output_2_loss: 1.1308 - output_3_loss: 0.1131 - output_4_loss: 12.6847 - output_3_precision_1: 0.8163 - output_3_recall_1: 0.5378 - output_3_true_negatives_1: 123951688.0000 - output_3_true_positives_1: 286913.0000 - output_3_false_negatives_1: 246585.0000 - output_3_false_positives_1: 64580.0000 - val_loss: 23.1119 - val_output_1_loss: 3.3718 - val_output_2_loss: 1.4507 - val_output_3_loss: 0.1337 - val_output_4_loss: 14.3828 - val_output_3_precision_1: 0.7580 - val_output_3_recall_1: 0.5437 - val_output_3_true_negatives_1: 5042601.0000 - val_output_3_true_positives_1: 12693.0000 - val_output_3_false_negatives_1: 10653.0000 - val_output_3_false_positives_1: 4053.0000\n",
      "Epoch 20/35\n",
      "9213/9213 [==============================] - 509s 55ms/step - loss: 20.2860 - output_1_loss: 3.0739 - output_2_loss: 1.1250 - output_3_loss: 0.1119 - output_4_loss: 12.5655 - output_3_precision_1: 0.8187 - output_3_recall_1: 0.5430 - output_3_true_negatives_1: 123952544.0000 - output_3_true_positives_1: 289446.0000 - output_3_false_negatives_1: 243652.0000 - output_3_false_positives_1: 64101.0000 - val_loss: 23.0289 - val_output_1_loss: 3.4565 - val_output_2_loss: 1.2342 - val_output_3_loss: 0.1327 - val_output_4_loss: 14.3508 - val_output_3_precision_1: 0.7895 - val_output_3_recall_1: 0.5072 - val_output_3_true_negatives_1: 5043497.0000 - val_output_3_true_positives_1: 11840.0000 - val_output_3_false_negatives_1: 11506.0000 - val_output_3_false_positives_1: 3157.0000\n",
      "Epoch 21/35\n",
      "9213/9213 [==============================] - 510s 55ms/step - loss: 20.0317 - output_1_loss: 3.0179 - output_2_loss: 1.1068 - output_3_loss: 0.1112 - output_4_loss: 12.4444 - output_3_precision_1: 0.8209 - output_3_recall_1: 0.5483 - output_3_true_negatives_1: 123952352.0000 - output_3_true_positives_1: 292479.0000 - output_3_false_negatives_1: 240971.0000 - output_3_false_positives_1: 63818.0000 - val_loss: 23.0364 - val_output_1_loss: 3.4562 - val_output_2_loss: 1.4043 - val_output_3_loss: 0.1308 - val_output_4_loss: 14.1967 - val_output_3_precision_1: 0.7855 - val_output_3_recall_1: 0.5355 - val_output_3_true_negatives_1: 5043294.0000 - val_output_3_true_positives_1: 12476.0000 - val_output_3_false_negatives_1: 10824.0000 - val_output_3_false_positives_1: 3406.0000\n",
      "Epoch 22/35\n",
      "9213/9213 [==============================] - 506s 55ms/step - loss: 20.0800 - output_1_loss: 3.0659 - output_2_loss: 1.1318 - output_3_loss: 0.1107 - output_4_loss: 12.3738 - output_3_precision_1: 0.8222 - output_3_recall_1: 0.5514 - output_3_true_negatives_1: 123952584.0000 - output_3_true_positives_1: 294237.0000 - output_3_false_negatives_1: 239369.0000 - output_3_false_positives_1: 63630.0000 - val_loss: 22.3563 - val_output_1_loss: 3.3058 - val_output_2_loss: 1.3473 - val_output_3_loss: 0.1283 - val_output_4_loss: 13.8843 - val_output_3_precision_1: 0.8019 - val_output_3_recall_1: 0.5279 - val_output_3_true_negatives_1: 5043649.0000 - val_output_3_true_positives_1: 12306.0000 - val_output_3_false_negatives_1: 11004.0000 - val_output_3_false_positives_1: 3041.0000\n",
      "Epoch 23/35\n",
      "9213/9213 [==============================] - 515s 56ms/step - loss: 19.8853 - output_1_loss: 3.0091 - output_2_loss: 1.1491 - output_3_loss: 0.1100 - output_4_loss: 12.2779 - output_3_precision_1: 0.8241 - output_3_recall_1: 0.5563 - output_3_true_negatives_1: 123952680.0000 - output_3_true_positives_1: 296824.0000 - output_3_false_negatives_1: 236766.0000 - output_3_false_positives_1: 63361.0000 - val_loss: 21.6518 - val_output_1_loss: 3.2645 - val_output_2_loss: 1.1435 - val_output_3_loss: 0.1236 - val_output_4_loss: 13.4848 - val_output_3_precision_1: 0.8067 - val_output_3_recall_1: 0.5359 - val_output_3_true_negatives_1: 5043659.0000 - val_output_3_true_positives_1: 12511.0000 - val_output_3_false_negatives_1: 10833.0000 - val_output_3_false_positives_1: 2997.0000\n",
      "Epoch 24/35\n",
      "9213/9213 [==============================] - 509s 55ms/step - loss: 19.8182 - output_1_loss: 3.0088 - output_2_loss: 1.1274 - output_3_loss: 0.1094 - output_4_loss: 12.2357 - output_3_precision_1: 0.8264 - output_3_recall_1: 0.5580 - output_3_true_negatives_1: 123953568.0000 - output_3_true_positives_1: 297594.0000 - output_3_false_negatives_1: 235756.0000 - output_3_false_positives_1: 62519.0000 - val_loss: 22.2936 - val_output_1_loss: 3.3400 - val_output_2_loss: 1.2587 - val_output_3_loss: 0.1281 - val_output_4_loss: 13.8428 - val_output_3_precision_1: 0.7782 - val_output_3_recall_1: 0.5648 - val_output_3_true_negatives_1: 5042921.0000 - val_output_3_true_positives_1: 13173.0000 - val_output_3_false_negatives_1: 10151.0000 - val_output_3_false_positives_1: 3755.0000\n",
      "Epoch 25/35\n",
      "9213/9213 [==============================] - 512s 56ms/step - loss: 19.6565 - output_1_loss: 2.9822 - output_2_loss: 1.1507 - output_3_loss: 0.1087 - output_4_loss: 12.1068 - output_3_precision_1: 0.8269 - output_3_recall_1: 0.5626 - output_3_true_negatives_1: 123952936.0000 - output_3_true_positives_1: 300240.0000 - output_3_false_negatives_1: 233438.0000 - output_3_false_positives_1: 62854.0000 - val_loss: 21.7787 - val_output_1_loss: 3.1871 - val_output_2_loss: 1.2046 - val_output_3_loss: 0.1274 - val_output_4_loss: 13.6902 - val_output_3_precision_1: 0.7753 - val_output_3_recall_1: 0.5740 - val_output_3_true_negatives_1: 5042805.0000 - val_output_3_true_positives_1: 13384.0000 - val_output_3_false_negatives_1: 9932.0000 - val_output_3_false_positives_1: 3879.0000\n",
      "Epoch 26/35\n",
      "9213/9213 [==============================] - 508s 55ms/step - loss: 19.5611 - output_1_loss: 2.9957 - output_2_loss: 1.1227 - output_3_loss: 0.1079 - output_4_loss: 12.0155 - output_3_precision_1: 0.8285 - output_3_recall_1: 0.5673 - output_3_true_negatives_1: 123953336.0000 - output_3_true_positives_1: 302601.0000 - output_3_false_negatives_1: 230845.0000 - output_3_false_positives_1: 62653.0000 - val_loss: 23.0459 - val_output_1_loss: 3.5880 - val_output_2_loss: 1.5209 - val_output_3_loss: 0.1284 - val_output_4_loss: 13.8355 - val_output_3_precision_1: 0.7993 - val_output_3_recall_1: 0.5283 - val_output_3_true_negatives_1: 5043596.0000 - val_output_3_true_positives_1: 12316.0000 - val_output_3_false_negatives_1: 10996.0000 - val_output_3_false_positives_1: 3092.0000\n",
      "Epoch 27/35\n",
      "9213/9213 [==============================] - 509s 55ms/step - loss: 19.4633 - output_1_loss: 2.9589 - output_2_loss: 1.1491 - output_3_loss: 0.1071 - output_4_loss: 11.9678 - output_3_precision_1: 0.8302 - output_3_recall_1: 0.5688 - output_3_true_negatives_1: 123954192.0000 - output_3_true_positives_1: 303442.0000 - output_3_false_negatives_1: 230052.0000 - output_3_false_positives_1: 62082.0000 - val_loss: 21.6843 - val_output_1_loss: 3.2200 - val_output_2_loss: 1.2030 - val_output_3_loss: 0.1264 - val_output_4_loss: 13.5357 - val_output_3_precision_1: 0.8143 - val_output_3_recall_1: 0.5469 - val_output_3_true_negatives_1: 5043758.0000 - val_output_3_true_positives_1: 12760.0000 - val_output_3_false_negatives_1: 10572.0000 - val_output_3_false_positives_1: 2910.0000\n",
      "Epoch 28/35\n",
      "9213/9213 [==============================] - 513s 56ms/step - loss: 19.4147 - output_1_loss: 2.9699 - output_2_loss: 1.1191 - output_3_loss: 0.1068 - output_4_loss: 11.9286 - output_3_precision_1: 0.8317 - output_3_recall_1: 0.5710 - output_3_true_negatives_1: 123954536.0000 - output_3_true_positives_1: 304664.0000 - output_3_false_negatives_1: 228854.0000 - output_3_false_positives_1: 61634.0000 - val_loss: 21.7685 - val_output_1_loss: 3.3785 - val_output_2_loss: 1.0712 - val_output_3_loss: 0.1258 - val_output_4_loss: 13.4372 - val_output_3_precision_1: 0.7945 - val_output_3_recall_1: 0.5637 - val_output_3_true_negatives_1: 5043283.0000 - val_output_3_true_positives_1: 13145.0000 - val_output_3_false_negatives_1: 10173.0000 - val_output_3_false_positives_1: 3399.0000\n",
      "Epoch 29/35\n",
      "9213/9213 [==============================] - 515s 56ms/step - loss: 19.3418 - output_1_loss: 2.9704 - output_2_loss: 1.1431 - output_3_loss: 0.1059 - output_4_loss: 11.8343 - output_3_precision_1: 0.8332 - output_3_recall_1: 0.5757 - output_3_true_negatives_1: 123955064.0000 - output_3_true_positives_1: 307106.0000 - output_3_false_negatives_1: 226370.0000 - output_3_false_positives_1: 61486.0000 - val_loss: 22.6499 - val_output_1_loss: 3.3965 - val_output_2_loss: 1.6985 - val_output_3_loss: 0.1250 - val_output_4_loss: 13.6586 - val_output_3_precision_1: 0.7851 - val_output_3_recall_1: 0.5799 - val_output_3_true_negatives_1: 5042911.0000 - val_output_3_true_positives_1: 13557.0000 - val_output_3_false_negatives_1: 9821.0000 - val_output_3_false_positives_1: 3711.0000\n",
      "Epoch 30/35\n",
      "9213/9213 [==============================] - 518s 56ms/step - loss: 19.1613 - output_1_loss: 2.9304 - output_2_loss: 1.1606 - output_3_loss: 0.1052 - output_4_loss: 11.7192 - output_3_precision_1: 0.8337 - output_3_recall_1: 0.5794 - output_3_true_negatives_1: 123954384.0000 - output_3_true_positives_1: 309085.0000 - output_3_false_negatives_1: 224371.0000 - output_3_false_positives_1: 61634.0000 - val_loss: 21.7495 - val_output_1_loss: 3.2865 - val_output_2_loss: 1.2551 - val_output_3_loss: 0.1242 - val_output_4_loss: 13.4248 - val_output_3_precision_1: 0.7998 - val_output_3_recall_1: 0.5597 - val_output_3_true_negatives_1: 5043390.0000 - val_output_3_true_positives_1: 13063.0000 - val_output_3_false_negatives_1: 10277.0000 - val_output_3_false_positives_1: 3270.0000\n",
      "Epoch 31/35\n",
      "9213/9213 [==============================] - 520s 56ms/step - loss: 19.0444 - output_1_loss: 2.9197 - output_2_loss: 1.1075 - output_3_loss: 0.1045 - output_4_loss: 11.6795 - output_3_precision_1: 0.8359 - output_3_recall_1: 0.5809 - output_3_true_negatives_1: 123954984.0000 - output_3_true_positives_1: 309963.0000 - output_3_false_negatives_1: 223633.0000 - output_3_false_positives_1: 60867.0000 - val_loss: 21.9682 - val_output_1_loss: 3.2801 - val_output_2_loss: 1.3283 - val_output_3_loss: 0.1245 - val_output_4_loss: 13.5819 - val_output_3_precision_1: 0.7819 - val_output_3_recall_1: 0.5829 - val_output_3_true_negatives_1: 5042919.0000 - val_output_3_true_positives_1: 13578.0000 - val_output_3_false_negatives_1: 9716.0000 - val_output_3_false_positives_1: 3787.0000\n",
      "Epoch 32/35\n",
      "9213/9213 [==============================] - 518s 56ms/step - loss: 19.0102 - output_1_loss: 2.8994 - output_2_loss: 1.1647 - output_3_loss: 0.1043 - output_4_loss: 11.6295 - output_3_precision_1: 0.8379 - output_3_recall_1: 0.5843 - output_3_true_negatives_1: 123955664.0000 - output_3_true_positives_1: 311724.0000 - output_3_false_negatives_1: 221782.0000 - output_3_false_positives_1: 60319.0000 - val_loss: 21.6578 - val_output_1_loss: 3.2295 - val_output_2_loss: 1.4462 - val_output_3_loss: 0.1212 - val_output_4_loss: 13.2677 - val_output_3_precision_1: 0.8101 - val_output_3_recall_1: 0.5602 - val_output_3_true_negatives_1: 5043657.0000 - val_output_3_true_positives_1: 13044.0000 - val_output_3_false_negatives_1: 10242.0000 - val_output_3_false_positives_1: 3057.0000\n",
      "Epoch 33/35\n",
      "9213/9213 [==============================] - 517s 56ms/step - loss: 18.7727 - output_1_loss: 2.8991 - output_2_loss: 1.0637 - output_3_loss: 0.1029 - output_4_loss: 11.4990 - output_3_precision_1: 0.8380 - output_3_recall_1: 0.5897 - output_3_true_negatives_1: 123955128.0000 - output_3_true_positives_1: 314626.0000 - output_3_false_negatives_1: 218934.0000 - output_3_false_positives_1: 60840.0000 - val_loss: 21.4205 - val_output_1_loss: 3.2799 - val_output_2_loss: 1.0127 - val_output_3_loss: 0.1249 - val_output_4_loss: 13.3486 - val_output_3_precision_1: 0.7710 - val_output_3_recall_1: 0.5975 - val_output_3_true_negatives_1: 5042509.0000 - val_output_3_true_positives_1: 13951.0000 - val_output_3_false_negatives_1: 9397.0000 - val_output_3_false_positives_1: 4143.0000\n",
      "Epoch 34/35\n",
      "9213/9213 [==============================] - 514s 56ms/step - loss: 18.5389 - output_1_loss: 2.8661 - output_2_loss: 1.0758 - output_3_loss: 0.1013 - output_4_loss: 11.3258 - output_3_precision_1: 0.8415 - output_3_recall_1: 0.5967 - output_3_true_negatives_1: 123956080.0000 - output_3_true_positives_1: 318483.0000 - output_3_false_negatives_1: 215213.0000 - output_3_false_positives_1: 59974.0000 - val_loss: 21.0085 - val_output_1_loss: 3.1245 - val_output_2_loss: 1.1499 - val_output_3_loss: 0.1234 - val_output_4_loss: 13.1160 - val_output_3_precision_1: 0.8013 - val_output_3_recall_1: 0.5725 - val_output_3_true_negatives_1: 5043345.0000 - val_output_3_true_positives_1: 13363.0000 - val_output_3_false_negatives_1: 9979.0000 - val_output_3_false_positives_1: 3313.0000\n",
      "Epoch 35/35\n",
      "9213/9213 [==============================] - 512s 56ms/step - loss: 18.5544 - output_1_loss: 2.8588 - output_2_loss: 1.1204 - output_3_loss: 0.1012 - output_4_loss: 11.3116 - output_3_precision_1: 0.8428 - output_3_recall_1: 0.5979 - output_3_true_negatives_1: 123956728.0000 - output_3_true_positives_1: 318972.0000 - output_3_false_negatives_1: 214516.0000 - output_3_false_positives_1: 59500.0000 - val_loss: 20.8494 - val_output_1_loss: 3.1967 - val_output_2_loss: 0.9944 - val_output_3_loss: 0.1196 - val_output_4_loss: 12.9833 - val_output_3_precision_1: 0.7932 - val_output_3_recall_1: 0.5967 - val_output_3_true_negatives_1: 5043048.0000 - val_output_3_true_positives_1: 13917.0000 - val_output_3_false_negatives_1: 9407.0000 - val_output_3_false_positives_1: 3628.0000\n"
     ]
    }
   ],
   "source": [
    "os.chdir(\"/home/sergio/Documents/pedestrian_dataset_train_tfr\")\n",
    "history_part2 = model.fit(train_dataset, epochs=35,validation_data=val_dataset)"
   ]
  },
  {
   "cell_type": "code",
   "execution_count": 23,
   "metadata": {},
   "outputs": [],
   "source": [
    "model.save_weights('/home/sergio/Documents/models_saved/pesos_60_epochs_nadam_2_1_4_1_0dot001')"
   ]
  },
  {
   "cell_type": "code",
   "execution_count": 24,
   "metadata": {},
   "outputs": [],
   "source": [
    "import json\n",
    "\n",
    "os.chdir(\"/home/sergio/Documents/Checkpoints_experiements\")\n",
    "\n",
    "history_finetuning_good_bn_nadam_25_to_60_epochs_0dot001 = history_part2.history\n",
    "with open('history_finetuning_good_bn_nadam_25_to_60_epochs_0dot001.json', 'w') as outfile:\n",
    "    json.dump(str(history_finetuning_good_bn_nadam_25_to_60_epochs_0dot001), outfile)"
   ]
  },
  {
   "cell_type": "code",
   "execution_count": null,
   "metadata": {},
   "outputs": [],
   "source": []
  },
  {
   "cell_type": "code",
   "execution_count": null,
   "metadata": {},
   "outputs": [],
   "source": [
    "#Probando leer los pesos"
   ]
  },
  {
   "cell_type": "code",
   "execution_count": null,
   "metadata": {},
   "outputs": [],
   "source": []
  },
  {
   "cell_type": "code",
   "execution_count": 85,
   "metadata": {},
   "outputs": [
    {
     "name": "stdout",
     "output_type": "stream",
     "text": [
      "Se redimensiona la salida de la CNN a: (None, 338, 5)\n",
      "Se redimensiona la salida de la CNN a: (None, 1352, 5)\n",
      "Pesos de la convolucion (432,)\n",
      "CONV SHAPE (16, 3, 3, 3)\n",
      "Pesos de la convolucion (4608,)\n",
      "CONV SHAPE (32, 16, 3, 3)\n",
      "Pesos de la convolucion (18432,)\n",
      "CONV SHAPE (64, 32, 3, 3)\n",
      "Pesos de la convolucion (73728,)\n",
      "CONV SHAPE (128, 64, 3, 3)\n",
      "Pesos de la convolucion (294912,)\n",
      "CONV SHAPE (256, 128, 3, 3)\n",
      "Pesos de la convolucion (1179648,)\n",
      "CONV SHAPE (512, 256, 3, 3)\n",
      "Pesos de la convolucion (4718592,)\n",
      "CONV SHAPE (1024, 512, 3, 3)\n",
      "Pesos de la convolucion (262144,)\n",
      "CONV SHAPE (256, 1024, 1, 1)\n",
      "Pesos de la convolucion (1179648,)\n",
      "CONV SHAPE (512, 256, 3, 3)\n",
      "Pesos de la convolucion (130560,)\n",
      "CONV SHAPE (255, 512, 1, 1)\n",
      "Pesos de la convolucion (32768,)\n",
      "CONV SHAPE (128, 256, 1, 1)\n",
      "Pesos de la convolucion (884736,)\n",
      "CONV SHAPE (256, 384, 3, 3)\n",
      "Pesos de la convolucion (65280,)\n",
      "CONV SHAPE (255, 256, 1, 1)\n",
      "8858734\n"
     ]
    }
   ],
   "source": [
    "anchors =[[0.015,0.037],[0.043,0.104],[0.11,0.278],[0.351,0.66]]\n",
    "model_prueba = TinyYOLOv3(1,anchor_boxes=anchors,train=True,mode = \"finetuning\")\n",
    "model_prueba.build(batch_input_shape=(None,416,416,3))\n",
    "print(model_prueba.load_weights_darknet(\"/home/sergio/TinyYOLOv3-Pedestrian-Detection/yolov3-tiny.weights\"))"
   ]
  },
  {
   "cell_type": "code",
   "execution_count": 86,
   "metadata": {},
   "outputs": [
    {
     "data": {
      "text/plain": [
       "<tensorflow.python.training.tracking.util.CheckpointLoadStatus at 0x7f63b116a4a8>"
      ]
     },
     "execution_count": 86,
     "metadata": {},
     "output_type": "execute_result"
    }
   ],
   "source": [
    "model_prueba.load_weights('/home/sergio/Documents/models_saved/pesos_60_epochs/pesos_60_epochs_nadam_2_1_4_1_0dot001')"
   ]
  },
  {
   "cell_type": "code",
   "execution_count": 87,
   "metadata": {},
   "outputs": [],
   "source": [
    "tf.random.set_seed(0)\n",
    "\n",
    "from tensorflow.keras.metrics import TrueNegatives,TruePositives,FalseNegatives,FalsePositives,Precision,Recall\n",
    "\n",
    "opt = tf.keras.optimizers.Nadam(learning_rate=0.001)\n",
    "#opt = tf.keras.optimizers.SGD(learning_rate=0.0000001, momentum=0.9, nesterov=True)\n",
    "\n",
    "losses = {\"output_1\": loss_xy,\n",
    "          \"output_2\": loss_wh,\n",
    "          \"output_3\":loss_objectness,\n",
    "          \"output_4\":loss_no_objectness\n",
    "          \n",
    "}\n",
    "\n",
    "metrics = {\"output_3\":[Precision(),Recall(),TrueNegatives(0.5),TruePositives(0.5),FalseNegatives(0.5),FalsePositives(0.5)]}\n",
    "model_prueba.compile(optimizer=opt, loss=losses,metrics=metrics,loss_weights=[2,1,4,1])\n",
    "os.chdir(\"/home/sergio/Documents/pedestrian_dataset_train_tfr\")\n"
   ]
  },
  {
   "cell_type": "code",
   "execution_count": 88,
   "metadata": {},
   "outputs": [
    {
     "name": "stdout",
     "output_type": "stream",
     "text": [
      "Se redimensiona la salida de la CNN a: (None, 338, 5)\n",
      "Se redimensiona la salida de la CNN a: (None, 1352, 5)\n",
      "Epoch 1/20\n",
      "Se redimensiona la salida de la CNN a: (None, 338, 5)\n",
      "Se redimensiona la salida de la CNN a: (None, 1352, 5)\n",
      "Se redimensiona la salida de la CNN a: (None, 338, 5)\n",
      "Se redimensiona la salida de la CNN a: (None, 1352, 5)\n",
      "   9213/Unknown - 560s 61ms/step - loss: 18.3994 - output_1_loss: 2.8569 - output_2_loss: 1.0551 - output_3_loss: 0.1005 - output_4_loss: 11.2283 - output_3_precision_6: 0.8440 - output_3_recall_6: 0.6001 - output_3_true_negatives_5: 123956824.0000 - output_3_true_positives_5: 320130.0000 - output_3_false_negatives_5: 213350.0000 - output_3_false_positives_5: 59163.0000Se redimensiona la salida de la CNN a: (None, 338, 5)\n",
      "Se redimensiona la salida de la CNN a: (None, 1352, 5)\n",
      "9213/9213 [==============================] - 569s 62ms/step - loss: 18.3994 - output_1_loss: 2.8569 - output_2_loss: 1.0551 - output_3_loss: 0.1005 - output_4_loss: 11.2283 - output_3_precision_6: 0.8440 - output_3_recall_6: 0.6001 - output_3_true_negatives_5: 123956824.0000 - output_3_true_positives_5: 320130.0000 - output_3_false_negatives_5: 213350.0000 - output_3_false_positives_5: 59163.0000 - val_loss: 11.3308 - val_output_1_loss: 1.7241 - val_output_2_loss: 0.4858 - val_output_3_loss: 0.0683 - val_output_4_loss: 7.1238 - val_output_3_precision_6: 0.8581 - val_output_3_recall_6: 0.8039 - val_output_3_true_negatives_5: 5043516.0000 - val_output_3_true_positives_5: 18792.0000 - val_output_3_false_negatives_5: 4584.0000 - val_output_3_false_positives_5: 3108.0000\n",
      "Epoch 2/20\n",
      "9213/9213 [==============================] - 563s 61ms/step - loss: 18.4211 - output_1_loss: 2.8831 - output_2_loss: 1.0199 - output_3_loss: 0.1004 - output_4_loss: 11.2333 - output_3_precision_6: 0.8440 - output_3_recall_6: 0.6017 - output_3_true_negatives_5: 123956336.0000 - output_3_true_positives_5: 321088.0000 - output_3_false_negatives_5: 212510.0000 - output_3_false_positives_5: 59370.0000 - val_loss: 11.0223 - val_output_1_loss: 1.7031 - val_output_2_loss: 0.5010 - val_output_3_loss: 0.0652 - val_output_4_loss: 6.8541 - val_output_3_precision_6: 0.8945 - val_output_3_recall_6: 0.7679 - val_output_3_true_negatives_5: 5044508.0000 - val_output_3_true_positives_5: 17950.0000 - val_output_3_false_negatives_5: 5426.0000 - val_output_3_false_positives_5: 2116.0000\n",
      "Epoch 3/20\n",
      "9213/9213 [==============================] - 560s 61ms/step - loss: 18.3272 - output_1_loss: 2.8443 - output_2_loss: 1.1203 - output_3_loss: 0.0997 - output_4_loss: 11.1195 - output_3_precision_6: 0.8453 - output_3_recall_6: 0.6051 - output_3_true_negatives_5: 123957096.0000 - output_3_true_positives_5: 322893.0000 - output_3_false_negatives_5: 210695.0000 - output_3_false_positives_5: 59111.0000 - val_loss: 11.0003 - val_output_1_loss: 1.7287 - val_output_2_loss: 0.5016 - val_output_3_loss: 0.0656 - val_output_4_loss: 6.7791 - val_output_3_precision_6: 0.8907 - val_output_3_recall_6: 0.7759 - val_output_3_true_negatives_5: 5044398.0000 - val_output_3_true_positives_5: 18138.0000 - val_output_3_false_negatives_5: 5238.0000 - val_output_3_false_positives_5: 2226.0000\n",
      "Epoch 4/20\n",
      "9213/9213 [==============================] - 546s 59ms/step - loss: 18.1767 - output_1_loss: 2.8236 - output_2_loss: 1.0803 - output_3_loss: 0.0989 - output_4_loss: 11.0538 - output_3_precision_6: 0.8455 - output_3_recall_6: 0.6083 - output_3_true_negatives_5: 123956760.0000 - output_3_true_positives_5: 324564.0000 - output_3_false_negatives_5: 209018.0000 - output_3_false_positives_5: 59313.0000 - val_loss: 10.7179 - val_output_1_loss: 1.6833 - val_output_2_loss: 0.4729 - val_output_3_loss: 0.0642 - val_output_4_loss: 6.6218 - val_output_3_precision_6: 0.9013 - val_output_3_recall_6: 0.7731 - val_output_3_true_negatives_5: 5044646.0000 - val_output_3_true_positives_5: 18072.0000 - val_output_3_false_negatives_5: 5304.0000 - val_output_3_false_positives_5: 1978.0000\n",
      "Epoch 5/20\n",
      "9213/9213 [==============================] - 552s 60ms/step - loss: 18.1115 - output_1_loss: 2.8268 - output_2_loss: 1.1075 - output_3_loss: 0.0981 - output_4_loss: 10.9579 - output_3_precision_6: 0.8485 - output_3_recall_6: 0.6109 - output_3_true_negatives_5: 123958072.0000 - output_3_true_positives_5: 325910.0000 - output_3_false_negatives_5: 207576.0000 - output_3_false_positives_5: 58175.0000 - val_loss: 10.4515 - val_output_1_loss: 1.6796 - val_output_2_loss: 0.4737 - val_output_3_loss: 0.0626 - val_output_4_loss: 6.3683 - val_output_3_precision_6: 0.9058 - val_output_3_recall_6: 0.7784 - val_output_3_true_negatives_5: 5044732.0000 - val_output_3_true_positives_5: 18196.0000 - val_output_3_false_negatives_5: 5180.0000 - val_output_3_false_positives_5: 1892.0000\n",
      "Epoch 6/20\n",
      "9213/9213 [==============================] - 576s 63ms/step - loss: 18.0835 - output_1_loss: 2.8203 - output_2_loss: 1.0623 - output_3_loss: 0.0987 - output_4_loss: 10.9858 - output_3_precision_6: 0.8497 - output_3_recall_6: 0.6112 - output_3_true_negatives_5: 123958320.0000 - output_3_true_positives_5: 326274.0000 - output_3_false_negatives_5: 207524.0000 - output_3_false_positives_5: 57693.0000 - val_loss: 11.8524 - val_output_1_loss: 1.8212 - val_output_2_loss: 0.4915 - val_output_3_loss: 0.0697 - val_output_4_loss: 7.4397 - val_output_3_precision_6: 0.8949 - val_output_3_recall_6: 0.7397 - val_output_3_true_negatives_5: 5044593.0000 - val_output_3_true_positives_5: 17291.0000 - val_output_3_false_negatives_5: 6085.0000 - val_output_3_false_positives_5: 2031.0000\n",
      "Epoch 7/20\n",
      "9213/9213 [==============================] - 641s 70ms/step - loss: 18.1030 - output_1_loss: 2.8301 - output_2_loss: 1.1428 - output_3_loss: 0.0976 - output_4_loss: 10.9097 - output_3_precision_6: 0.8497 - output_3_recall_6: 0.6143 - output_3_true_negatives_5: 123957760.0000 - output_3_true_positives_5: 327820.0000 - output_3_false_negatives_5: 205864.0000 - output_3_false_positives_5: 57979.0000 - val_loss: 10.4600 - val_output_1_loss: 1.6966 - val_output_2_loss: 0.4819 - val_output_3_loss: 0.0619 - val_output_4_loss: 6.3374 - val_output_3_precision_6: 0.8920 - val_output_3_recall_6: 0.8030 - val_output_3_true_negatives_5: 5044352.0000 - val_output_3_true_positives_5: 18772.0000 - val_output_3_false_negatives_5: 4604.0000 - val_output_3_false_positives_5: 2272.0000\n",
      "Epoch 8/20\n",
      "9213/9213 [==============================] - 587s 64ms/step - loss: 17.9424 - output_1_loss: 2.7963 - output_2_loss: 1.0569 - output_3_loss: 0.0976 - output_4_loss: 10.9026 - output_3_precision_6: 0.8493 - output_3_recall_6: 0.6147 - output_3_true_negatives_5: 123957744.0000 - output_3_true_positives_5: 327980.0000 - output_3_false_negatives_5: 205590.0000 - output_3_false_positives_5: 58210.0000 - val_loss: 10.1941 - val_output_1_loss: 1.6317 - val_output_2_loss: 0.4673 - val_output_3_loss: 0.0594 - val_output_4_loss: 6.2256 - val_output_3_precision_6: 0.8843 - val_output_3_recall_6: 0.8187 - val_output_3_true_negatives_5: 5044119.0000 - val_output_3_true_positives_5: 19139.0000 - val_output_3_false_negatives_5: 4237.0000 - val_output_3_false_positives_5: 2505.0000\n",
      "Epoch 9/20\n",
      "9213/9213 [==============================] - 544s 59ms/step - loss: 17.7651 - output_1_loss: 2.7866 - output_2_loss: 1.0665 - output_3_loss: 0.0960 - output_4_loss: 10.7413 - output_3_precision_6: 0.8531 - output_3_recall_6: 0.6213 - output_3_true_negatives_5: 123959048.0000 - output_3_true_positives_5: 331544.0000 - output_3_false_negatives_5: 202084.0000 - output_3_false_positives_5: 57081.0000 - val_loss: 9.9907 - val_output_1_loss: 1.5875 - val_output_2_loss: 0.5047 - val_output_3_loss: 0.0588 - val_output_4_loss: 6.0757 - val_output_3_precision_6: 0.8862 - val_output_3_recall_6: 0.8190 - val_output_3_true_negatives_5: 5044166.0000 - val_output_3_true_positives_5: 19144.0000 - val_output_3_false_negatives_5: 4232.0000 - val_output_3_false_positives_5: 2458.0000\n",
      "Epoch 10/20\n",
      "9213/9213 [==============================] - 546s 59ms/step - loss: 17.6987 - output_1_loss: 2.7396 - output_2_loss: 1.0959 - output_3_loss: 0.0959 - output_4_loss: 10.7398 - output_3_precision_6: 0.8530 - output_3_recall_6: 0.6219 - output_3_true_negatives_5: 123958864.0000 - output_3_true_positives_5: 331768.0000 - output_3_false_negatives_5: 201706.0000 - output_3_false_positives_5: 57183.0000 - val_loss: 10.3283 - val_output_1_loss: 1.6154 - val_output_2_loss: 0.5293 - val_output_3_loss: 0.0605 - val_output_4_loss: 6.3263 - val_output_3_precision_6: 0.8795 - val_output_3_recall_6: 0.8235 - val_output_3_true_negatives_5: 5043987.0000 - val_output_3_true_positives_5: 19250.0000 - val_output_3_false_negatives_5: 4126.0000 - val_output_3_false_positives_5: 2637.0000\n",
      "Epoch 11/20\n",
      "9213/9213 [==============================] - 568s 62ms/step - loss: 17.6497 - output_1_loss: 2.7740 - output_2_loss: 1.0460 - output_3_loss: 0.0954 - output_4_loss: 10.6741 - output_3_precision_6: 0.8558 - output_3_recall_6: 0.6249 - output_3_true_negatives_5: 123959688.0000 - output_3_true_positives_5: 333459.0000 - output_3_false_negatives_5: 200141.0000 - output_3_false_positives_5: 56188.0000 - val_loss: 10.0250 - val_output_1_loss: 1.5868 - val_output_2_loss: 0.5043 - val_output_3_loss: 0.0589 - val_output_4_loss: 6.1113 - val_output_3_precision_6: 0.8979 - val_output_3_recall_6: 0.8031 - val_output_3_true_negatives_5: 5044489.0000 - val_output_3_true_positives_5: 18773.0000 - val_output_3_false_negatives_5: 4603.0000 - val_output_3_false_positives_5: 2135.0000\n",
      "Epoch 12/20\n",
      "9213/9213 [==============================] - 554s 60ms/step - loss: 17.5404 - output_1_loss: 2.7447 - output_2_loss: 1.0432 - output_3_loss: 0.0948 - output_4_loss: 10.6286 - output_3_precision_6: 0.8552 - output_3_recall_6: 0.6268 - output_3_true_negatives_5: 123959560.0000 - output_3_true_positives_5: 334409.0000 - output_3_false_negatives_5: 199117.0000 - output_3_false_positives_5: 56610.0000 - val_loss: 10.0460 - val_output_1_loss: 1.5749 - val_output_2_loss: 0.5256 - val_output_3_loss: 0.0588 - val_output_4_loss: 6.1353 - val_output_3_precision_6: 0.9011 - val_output_3_recall_6: 0.8077 - val_output_3_true_negatives_5: 5044552.0000 - val_output_3_true_positives_5: 18880.0000 - val_output_3_false_negatives_5: 4496.0000 - val_output_3_false_positives_5: 2072.0000\n",
      "Epoch 13/20\n",
      "9213/9213 [==============================] - 574s 62ms/step - loss: 17.6445 - output_1_loss: 2.8035 - output_2_loss: 1.0455 - output_3_loss: 0.0950 - output_4_loss: 10.6122 - output_3_precision_6: 0.8564 - output_3_recall_6: 0.6277 - output_3_true_negatives_5: 123959960.0000 - output_3_true_positives_5: 334768.0000 - output_3_false_negatives_5: 198556.0000 - output_3_false_positives_5: 56145.0000 - val_loss: 9.8816 - val_output_1_loss: 1.5859 - val_output_2_loss: 0.4770 - val_output_3_loss: 0.0580 - val_output_4_loss: 6.0008 - val_output_3_precision_6: 0.8953 - val_output_3_recall_6: 0.8217 - val_output_3_true_negatives_5: 5044378.0000 - val_output_3_true_positives_5: 19209.0000 - val_output_3_false_negatives_5: 4167.0000 - val_output_3_false_positives_5: 2246.0000\n",
      "Epoch 14/20\n",
      "9213/9213 [==============================] - 616s 67ms/step - loss: 17.5227 - output_1_loss: 2.7261 - output_2_loss: 1.1089 - output_3_loss: 0.0944 - output_4_loss: 10.5839 - output_3_precision_6: 0.8571 - output_3_recall_6: 0.6288 - output_3_true_negatives_5: 123960104.0000 - output_3_true_positives_5: 335435.0000 - output_3_false_negatives_5: 197993.0000 - output_3_false_positives_5: 55932.0000 - val_loss: 9.8598 - val_output_1_loss: 1.5924 - val_output_2_loss: 0.4782 - val_output_3_loss: 0.0570 - val_output_4_loss: 5.9688 - val_output_3_precision_6: 0.9054 - val_output_3_recall_6: 0.8150 - val_output_3_true_negatives_5: 5044634.0000 - val_output_3_true_positives_5: 19051.0000 - val_output_3_false_negatives_5: 4325.0000 - val_output_3_false_positives_5: 1990.0000\n",
      "Epoch 15/20\n",
      "9213/9213 [==============================] - 668s 72ms/step - loss: 17.5095 - output_1_loss: 2.7735 - output_2_loss: 1.0675 - output_3_loss: 0.0941 - output_4_loss: 10.5187 - output_3_precision_6: 0.8595 - output_3_recall_6: 0.6324 - output_3_true_negatives_5: 123961072.0000 - output_3_true_positives_5: 337340.0000 - output_3_false_negatives_5: 196098.0000 - output_3_false_positives_5: 55139.0000 - val_loss: 9.7710 - val_output_1_loss: 1.5786 - val_output_2_loss: 0.4891 - val_output_3_loss: 0.0568 - val_output_4_loss: 5.8974 - val_output_3_precision_6: 0.9030 - val_output_3_recall_6: 0.8242 - val_output_3_true_negatives_5: 5044555.0000 - val_output_3_true_positives_5: 19267.0000 - val_output_3_false_negatives_5: 4109.0000 - val_output_3_false_positives_5: 2069.0000\n",
      "Epoch 16/20\n",
      "9213/9213 [==============================] - 666s 72ms/step - loss: 17.3725 - output_1_loss: 2.7368 - output_2_loss: 1.0396 - output_3_loss: 0.0935 - output_4_loss: 10.4855 - output_3_precision_6: 0.8586 - output_3_recall_6: 0.6336 - output_3_true_negatives_5: 123960424.0000 - output_3_true_positives_5: 338111.0000 - output_3_false_negatives_5: 195521.0000 - output_3_false_positives_5: 55662.0000 - val_loss: 9.5500 - val_output_1_loss: 1.5445 - val_output_2_loss: 0.4642 - val_output_3_loss: 0.0554 - val_output_4_loss: 5.7751 - val_output_3_precision_6: 0.9283 - val_output_3_recall_6: 0.7905 - val_output_3_true_negatives_5: 5045196.0000 - val_output_3_true_positives_5: 18478.0000 - val_output_3_false_negatives_5: 4898.0000 - val_output_3_false_positives_5: 1428.0000\n",
      "Epoch 17/20\n",
      "9213/9213 [==============================] - 646s 70ms/step - loss: 17.3033 - output_1_loss: 2.7466 - output_2_loss: 1.0515 - output_3_loss: 0.0928 - output_4_loss: 10.3875 - output_3_precision_6: 0.8608 - output_3_recall_6: 0.6372 - output_3_true_negatives_5: 123960904.0000 - output_3_true_positives_5: 340041.0000 - output_3_false_negatives_5: 193593.0000 - output_3_false_positives_5: 55006.0000 - val_loss: 9.5861 - val_output_1_loss: 1.5184 - val_output_2_loss: 0.5646 - val_output_3_loss: 0.0556 - val_output_4_loss: 5.7625 - val_output_3_precision_6: 0.8906 - val_output_3_recall_6: 0.8378 - val_output_3_true_negatives_5: 5044219.0000 - val_output_3_true_positives_5: 19585.0000 - val_output_3_false_negatives_5: 3791.0000 - val_output_3_false_positives_5: 2405.0000\n",
      "Epoch 18/20\n",
      "9213/9213 [==============================] - 662s 72ms/step - loss: 17.1061 - output_1_loss: 2.7008 - output_2_loss: 1.0669 - output_3_loss: 0.0914 - output_4_loss: 10.2720 - output_3_precision_6: 0.8628 - output_3_recall_6: 0.6412 - output_3_true_negatives_5: 123961872.0000 - output_3_true_positives_5: 342004.0000 - output_3_false_negatives_5: 191396.0000 - output_3_false_positives_5: 54380.0000 - val_loss: 9.3807 - val_output_1_loss: 1.5430 - val_output_2_loss: 0.4698 - val_output_3_loss: 0.0532 - val_output_4_loss: 5.6122 - val_output_3_precision_6: 0.9007 - val_output_3_recall_6: 0.8343 - val_output_3_true_negatives_5: 5044474.0000 - val_output_3_true_positives_5: 19503.0000 - val_output_3_false_negatives_5: 3873.0000 - val_output_3_false_positives_5: 2150.0000\n",
      "Epoch 19/20\n",
      "9213/9213 [==============================] - 663s 72ms/step - loss: 17.0937 - output_1_loss: 2.6895 - output_2_loss: 1.0938 - output_3_loss: 0.0915 - output_4_loss: 10.2548 - output_3_precision_6: 0.8625 - output_3_recall_6: 0.6427 - output_3_true_negatives_5: 123961320.0000 - output_3_true_positives_5: 342948.0000 - output_3_false_negatives_5: 190646.0000 - output_3_false_positives_5: 54684.0000 - val_loss: 9.1806 - val_output_1_loss: 1.5071 - val_output_2_loss: 0.5057 - val_output_3_loss: 0.0523 - val_output_4_loss: 5.4518 - val_output_3_precision_6: 0.9073 - val_output_3_recall_6: 0.8304 - val_output_3_true_negatives_5: 5044641.0000 - val_output_3_true_positives_5: 19412.0000 - val_output_3_false_negatives_5: 3964.0000 - val_output_3_false_positives_5: 1983.0000\n",
      "Epoch 20/20\n",
      "9213/9213 [==============================] - 658s 71ms/step - loss: 17.2684 - output_1_loss: 2.7190 - output_2_loss: 1.0980 - output_3_loss: 0.0928 - output_4_loss: 10.3612 - output_3_precision_6: 0.8619 - output_3_recall_6: 0.6378 - output_3_true_negatives_5: 123961400.0000 - output_3_true_positives_5: 340245.0000 - output_3_false_negatives_5: 193245.0000 - output_3_false_positives_5: 54514.0000 - val_loss: 9.3004 - val_output_1_loss: 1.5659 - val_output_2_loss: 0.5157 - val_output_3_loss: 0.0523 - val_output_4_loss: 5.4439 - val_output_3_precision_6: 0.9148 - val_output_3_recall_6: 0.8277 - val_output_3_true_negatives_5: 5044821.0000 - val_output_3_true_positives_5: 19349.0000 - val_output_3_false_negatives_5: 4027.0000 - val_output_3_false_positives_5: 1803.0000\n"
     ]
    },
    {
     "data": {
      "text/plain": [
       "<tensorflow.python.keras.callbacks.History at 0x7f63585c0278>"
      ]
     },
     "execution_count": 88,
     "metadata": {},
     "output_type": "execute_result"
    }
   ],
   "source": [
    "model_prueba.fit(train_dataset, epochs=20,validation_data=val_dataset)"
   ]
  },
  {
   "cell_type": "code",
   "execution_count": null,
   "metadata": {},
   "outputs": [],
   "source": []
  },
  {
   "cell_type": "code",
   "execution_count": null,
   "metadata": {},
   "outputs": [],
   "source": []
  },
  {
   "cell_type": "code",
   "execution_count": 66,
   "metadata": {},
   "outputs": [
    {
     "name": "stdout",
     "output_type": "stream",
     "text": [
      "Epoch 1/5\n",
      "Se redimensiona la salida de la CNN a: (None, 338, 5)\n",
      "Se redimensiona la salida de la CNN a: (None, 1352, 5)\n",
      "Se redimensiona la salida de la CNN a: (None, 338, 5)\n",
      "Se redimensiona la salida de la CNN a: (None, 1352, 5)\n",
      "   9213/Unknown - 546s 59ms/step - loss: 25.4485 - output_1_loss: 3.6778 - output_2_loss: 1.2129 - output_3_loss: 0.1420 - output_4_loss: 16.3123 - output_3_precision_3: 0.7524 - output_3_recall_3: 0.3807 - output_3_true_negatives_3: 123949296.0000 - output_3_true_positives_3: 203099.0000 - output_3_false_negatives_3: 330447.0000 - output_3_false_positives_3: 66826.0000Se redimensiona la salida de la CNN a: (None, 338, 5)\n",
      "Se redimensiona la salida de la CNN a: (None, 1352, 5)\n",
      "9213/9213 [==============================] - 556s 60ms/step - loss: 25.4485 - output_1_loss: 3.6778 - output_2_loss: 1.2129 - output_3_loss: 0.1420 - output_4_loss: 16.3123 - output_3_precision_3: 0.7524 - output_3_recall_3: 0.3807 - output_3_true_negatives_3: 123949296.0000 - output_3_true_positives_3: 203099.0000 - output_3_false_negatives_3: 330447.0000 - output_3_false_positives_3: 66826.0000 - val_loss: 26.7343 - val_output_1_loss: 3.7392 - val_output_2_loss: 1.2911 - val_output_3_loss: 0.1559 - val_output_4_loss: 17.3413 - val_output_3_precision_3: 0.7391 - val_output_3_recall_3: 0.4027 - val_output_3_true_negatives_3: 5043410.0000 - val_output_3_true_positives_3: 9376.0000 - val_output_3_false_negatives_3: 13904.0000 - val_output_3_false_positives_3: 3310.0000\n",
      "Epoch 2/5\n",
      "9213/9213 [==============================] - 547s 59ms/step - loss: 25.1998 - output_1_loss: 3.6718 - output_2_loss: 1.2219 - output_3_loss: 0.1401 - output_4_loss: 16.0741 - output_3_precision_3: 0.7550 - output_3_recall_3: 0.3898 - output_3_true_negatives_3: 123948768.0000 - output_3_true_positives_3: 207913.0000 - output_3_false_negatives_3: 325493.0000 - output_3_false_positives_3: 67458.0000 - val_loss: 26.9898 - val_output_1_loss: 3.9369 - val_output_2_loss: 1.3816 - val_output_3_loss: 0.1543 - val_output_4_loss: 17.1172 - val_output_3_precision_3: 0.7280 - val_output_3_recall_3: 0.4170 - val_output_3_true_negatives_3: 5043012.0000 - val_output_3_true_positives_3: 9738.0000 - val_output_3_false_negatives_3: 13612.0000 - val_output_3_false_positives_3: 3638.0000\n",
      "Epoch 3/5\n",
      "9213/9213 [==============================] - 557s 60ms/step - loss: 24.9412 - output_1_loss: 3.6497 - output_2_loss: 1.2158 - output_3_loss: 0.1388 - output_4_loss: 15.8708 - output_3_precision_3: 0.7585 - output_3_recall_3: 0.3982 - output_3_true_negatives_3: 123948664.0000 - output_3_true_positives_3: 212385.0000 - output_3_false_negatives_3: 320981.0000 - output_3_false_positives_3: 67627.0000 - val_loss: 26.8293 - val_output_1_loss: 3.8609 - val_output_2_loss: 1.4217 - val_output_3_loss: 0.1551 - val_output_4_loss: 17.0657 - val_output_3_precision_3: 0.7474 - val_output_3_recall_3: 0.4071 - val_output_3_true_negatives_3: 5043472.0000 - val_output_3_true_positives_3: 9493.0000 - val_output_3_false_negatives_3: 13827.0000 - val_output_3_false_positives_3: 3208.0000\n",
      "Epoch 4/5\n",
      "9213/9213 [==============================] - 553s 60ms/step - loss: 24.6473 - output_1_loss: 3.6013 - output_2_loss: 1.1847 - output_3_loss: 0.1375 - output_4_loss: 15.7101 - output_3_precision_3: 0.7615 - output_3_recall_3: 0.4057 - output_3_true_negatives_3: 123948320.0000 - output_3_true_positives_3: 216439.0000 - output_3_false_negatives_3: 317089.0000 - output_3_false_positives_3: 67772.0000 - val_loss: 26.5383 - val_output_1_loss: 3.8523 - val_output_2_loss: 1.5376 - val_output_3_loss: 0.1508 - val_output_4_loss: 16.6928 - val_output_3_precision_3: 0.7492 - val_output_3_recall_3: 0.4215 - val_output_3_true_negatives_3: 5043412.0000 - val_output_3_true_positives_3: 9821.0000 - val_output_3_false_negatives_3: 13479.0000 - val_output_3_false_positives_3: 3288.0000\n",
      "Epoch 5/5\n",
      "9213/9213 [==============================] - 534s 58ms/step - loss: 24.2378 - output_1_loss: 3.5551 - output_2_loss: 1.1753 - output_3_loss: 0.1351 - output_4_loss: 15.4117 - output_3_precision_3: 0.7676 - output_3_recall_3: 0.4190 - output_3_true_negatives_3: 123948528.0000 - output_3_true_positives_3: 223499.0000 - output_3_false_negatives_3: 309973.0000 - output_3_false_positives_3: 67677.0000 - val_loss: 26.0936 - val_output_1_loss: 3.8667 - val_output_2_loss: 1.2846 - val_output_3_loss: 0.1507 - val_output_4_loss: 16.4728 - val_output_3_precision_3: 0.7695 - val_output_3_recall_3: 0.4139 - val_output_3_true_negatives_3: 5043761.0000 - val_output_3_true_positives_3: 9663.0000 - val_output_3_false_negatives_3: 13681.0000 - val_output_3_false_positives_3: 2895.0000\n"
     ]
    }
   ],
   "source": [
    "history_part3_reseted_optimizer = model.fit(train_dataset, epochs=5,validation_data=val_dataset)"
   ]
  },
  {
   "cell_type": "code",
   "execution_count": 69,
   "metadata": {},
   "outputs": [],
   "source": [
    "import json\n",
    "\n",
    "os.chdir(\"/home/sergio/Documents/Checkpoints_experiements\")\n",
    "\n",
    "history_finetuning_good_bn_nadam_first_10_epochs_0dot001 = history.history\n",
    "with open('history_finetuning_good_bn_nadam_first_10_epochs_0dot001.json', 'w') as outfile:\n",
    "    json.dump(str(history_finetuning_good_bn_nadam_first_10_epochs_0dot001), outfile)"
   ]
  },
  {
   "cell_type": "code",
   "execution_count": 74,
   "metadata": {},
   "outputs": [],
   "source": [
    "os.chdir(\"/home/sergio/Documents/Checkpoints_experiements\")\n",
    "\n",
    "history_finetuning_good_bn_nadam_second_10_epochs_0dot001 = history_part2.history\n",
    "with open('history_finetuning_good_bn_nadam_second_10_epochs_0dot001.json', 'w') as outfile:\n",
    "    json.dump(str(history_finetuning_good_bn_nadam_second_10_epochs_0dot001), outfile)"
   ]
  },
  {
   "cell_type": "code",
   "execution_count": 75,
   "metadata": {},
   "outputs": [],
   "source": [
    "os.chdir(\"/home/sergio/Documents/Checkpoints_experiements\")\n",
    "\n",
    "history_finetuning_good_bn_nadam_next_5_epochs_0dot001_reset_nadam = history_part3_reseted_optimizer.history\n",
    "with open('history_finetuning_good_bn_nadam_next_5_epochs_0dot001_reset_nadam.json', 'w') as outfile:\n",
    "    json.dump(str(history_finetuning_good_bn_nadam_next_5_epochs_0dot001_reset_nadam), outfile)"
   ]
  },
  {
   "cell_type": "code",
   "execution_count": 62,
   "metadata": {},
   "outputs": [
    {
     "name": "stdout",
     "output_type": "stream",
     "text": [
      "tf.Tensor(1.3549401e-06, shape=(), dtype=float32)\n",
      "<tf.Variable 'Nadam/iter:0' shape=() dtype=int64, numpy=184260>\n",
      "<tf.Variable 'Nadam/momentum_cache:0' shape=() dtype=float32, numpy=0.0>\n"
     ]
    }
   ],
   "source": [
    "print(opt._decayed_lr(tf.float32))\n",
    "print(opt._iterations)\n",
    "print(opt._m_cache)"
   ]
  },
  {
   "cell_type": "code",
   "execution_count": 17,
   "metadata": {},
   "outputs": [
    {
     "data": {
      "text/plain": [
       "'/home/sergio/Documents/optimizers_saved/ckpt-2'"
      ]
     },
     "execution_count": 17,
     "metadata": {},
     "output_type": "execute_result"
    }
   ],
   "source": [
    "checkpoint.save(file_prefix=checkpoint_prefix)"
   ]
  },
  {
   "cell_type": "code",
   "execution_count": 30,
   "metadata": {},
   "outputs": [
    {
     "name": "stdout",
     "output_type": "stream",
     "text": [
      "tf.Tensor(0.001, shape=(), dtype=float32)\n",
      "<tf.Variable 'iter:0' shape=() dtype=int64, numpy=0>\n"
     ]
    }
   ],
   "source": [
    "to_restore = tf.keras.optimizers.Nadam(learning_rate=0.001)\n",
    "print(opt._decayed_lr(tf.float32))\n",
    "print(opt._iterations)"
   ]
  },
  {
   "cell_type": "code",
   "execution_count": 42,
   "metadata": {},
   "outputs": [
    {
     "data": {
      "text/plain": [
       "[<tf.Variable 'iter:0' shape=() dtype=int64, numpy=0>]"
      ]
     },
     "execution_count": 42,
     "metadata": {},
     "output_type": "execute_result"
    }
   ],
   "source": [
    "opt.variables()"
   ]
  },
  {
   "cell_type": "code",
   "execution_count": 47,
   "metadata": {},
   "outputs": [
    {
     "name": "stdout",
     "output_type": "stream",
     "text": [
      "None\n"
     ]
    }
   ],
   "source": [
    "print(opt._m_cache)"
   ]
  },
  {
   "cell_type": "code",
   "execution_count": 35,
   "metadata": {},
   "outputs": [
    {
     "ename": "AssertionError",
     "evalue": "Some Python objects were not bound to checkpointed values, likely due to changes in the Python program: [<tf.Variable 'iter:0' shape=() dtype=int64, numpy=0>, <tf.Variable 'beta_1:0' shape=() dtype=float32, numpy=0.9>, <tf.Variable 'learning_rate:0' shape=() dtype=float32, numpy=0.001>, <tf.Variable 'decay:0' shape=() dtype=float32, numpy=0.004>, <tf.Variable 'beta_2:0' shape=() dtype=float32, numpy=0.999>]",
     "output_type": "error",
     "traceback": [
      "\u001b[0;31m---------------------------------------------------------------------------\u001b[0m",
      "\u001b[0;31mAssertionError\u001b[0m                            Traceback (most recent call last)",
      "\u001b[0;32m<ipython-input-35-70c23252f616>\u001b[0m in \u001b[0;36m<module>\u001b[0;34m\u001b[0m\n\u001b[1;32m      1\u001b[0m \u001b[0mnew_root\u001b[0m \u001b[0;34m=\u001b[0m \u001b[0mtf\u001b[0m\u001b[0;34m.\u001b[0m\u001b[0mtrain\u001b[0m\u001b[0;34m.\u001b[0m\u001b[0mCheckpoint\u001b[0m\u001b[0;34m(\u001b[0m\u001b[0mopt\u001b[0m\u001b[0;34m=\u001b[0m\u001b[0mto_restore\u001b[0m\u001b[0;34m)\u001b[0m\u001b[0;34m\u001b[0m\u001b[0;34m\u001b[0m\u001b[0m\n\u001b[0;32m----> 2\u001b[0;31m \u001b[0mstatus\u001b[0m \u001b[0;34m=\u001b[0m \u001b[0mnew_root\u001b[0m\u001b[0;34m.\u001b[0m\u001b[0mrestore\u001b[0m\u001b[0;34m(\u001b[0m\u001b[0mtf\u001b[0m\u001b[0;34m.\u001b[0m\u001b[0mtrain\u001b[0m\u001b[0;34m.\u001b[0m\u001b[0mlatest_checkpoint\u001b[0m\u001b[0;34m(\u001b[0m\u001b[0;34m'/home/sergio/Documents/optimizers_saved'\u001b[0m\u001b[0;34m)\u001b[0m\u001b[0;34m)\u001b[0m\u001b[0;34m.\u001b[0m\u001b[0massert_existing_objects_matched\u001b[0m\u001b[0;34m(\u001b[0m\u001b[0;34m)\u001b[0m\u001b[0;34m\u001b[0m\u001b[0;34m\u001b[0m\u001b[0m\n\u001b[0m",
      "\u001b[0;32m~/miniconda3/envs/tesis/lib/python3.6/site-packages/tensorflow_core/python/training/tracking/util.py\u001b[0m in \u001b[0;36massert_existing_objects_matched\u001b[0;34m(self)\u001b[0m\n\u001b[1;32m    781\u001b[0m           (\"Some Python objects were not bound to checkpointed values, likely \"\n\u001b[1;32m    782\u001b[0m            \"due to changes in the Python program: %s\") %\n\u001b[0;32m--> 783\u001b[0;31m           (list(unused_python_objects),))\n\u001b[0m\u001b[1;32m    784\u001b[0m     \u001b[0;32mreturn\u001b[0m \u001b[0mself\u001b[0m\u001b[0;34m\u001b[0m\u001b[0;34m\u001b[0m\u001b[0m\n\u001b[1;32m    785\u001b[0m \u001b[0;34m\u001b[0m\u001b[0m\n",
      "\u001b[0;31mAssertionError\u001b[0m: Some Python objects were not bound to checkpointed values, likely due to changes in the Python program: [<tf.Variable 'iter:0' shape=() dtype=int64, numpy=0>, <tf.Variable 'beta_1:0' shape=() dtype=float32, numpy=0.9>, <tf.Variable 'learning_rate:0' shape=() dtype=float32, numpy=0.001>, <tf.Variable 'decay:0' shape=() dtype=float32, numpy=0.004>, <tf.Variable 'beta_2:0' shape=() dtype=float32, numpy=0.999>]"
     ]
    }
   ],
   "source": [
    "new_root = tf.train.Checkpoint(opt=to_restore)\n",
    "status = new_root.restore(tf.train.latest_checkpoint('/home/sergio/Documents/optimizers_saved')).assert_existing_objects_matched()"
   ]
  },
  {
   "cell_type": "code",
   "execution_count": 39,
   "metadata": {},
   "outputs": [
    {
     "data": {
      "text/plain": [
       "[('_CHECKPOINTABLE_OBJECT_GRAPH', []),\n",
       " ('optimizer/beta_1/.ATTRIBUTES/VARIABLE_VALUE', []),\n",
       " ('optimizer/beta_2/.ATTRIBUTES/VARIABLE_VALUE', []),\n",
       " ('optimizer/decay/.ATTRIBUTES/VARIABLE_VALUE', []),\n",
       " ('optimizer/iter/.ATTRIBUTES/VARIABLE_VALUE', []),\n",
       " ('optimizer/learning_rate/.ATTRIBUTES/VARIABLE_VALUE', []),\n",
       " ('optimizer/momentum_cache/.ATTRIBUTES/VARIABLE_VALUE', []),\n",
       " ('save_counter/.ATTRIBUTES/VARIABLE_VALUE', [])]"
      ]
     },
     "execution_count": 39,
     "metadata": {},
     "output_type": "execute_result"
    }
   ],
   "source": [
    "tf.train.list_variables(tf.train.latest_checkpoint('/home/sergio/Documents/optimizers_saved'))"
   ]
  },
  {
   "cell_type": "code",
   "execution_count": 32,
   "metadata": {},
   "outputs": [
    {
     "data": {
      "text/plain": [
       "<tensorflow.python.training.tracking.util.CheckpointLoadStatus at 0x7f5fd8125668>"
      ]
     },
     "execution_count": 32,
     "metadata": {},
     "output_type": "execute_result"
    }
   ],
   "source": [
    "status"
   ]
  },
  {
   "cell_type": "code",
   "execution_count": 34,
   "metadata": {},
   "outputs": [
    {
     "name": "stdout",
     "output_type": "stream",
     "text": [
      "tf.Tensor(0.001, shape=(), dtype=float32)\n",
      "<tf.Variable 'iter:0' shape=() dtype=int64, numpy=0>\n"
     ]
    }
   ],
   "source": [
    "print(to_restore._decayed_lr(tf.float32))\n",
    "print(to_restore._iterations)"
   ]
  },
  {
   "cell_type": "code",
   "execution_count": 37,
   "metadata": {},
   "outputs": [],
   "source": [
    "history_finetuning_good_bn_nadam_10_epochs_0dot001 = history.history"
   ]
  },
  {
   "cell_type": "code",
   "execution_count": 38,
   "metadata": {},
   "outputs": [],
   "source": [
    "import json\n",
    "import os\n",
    "\n",
    "os.chdir(\"/home/sergio/Documents/Checkpoints_experiements\")\n",
    "\n",
    "with open('history_finetuning_good_bn_nadam_10_epochs_0dot001.json', 'w') as outfile:\n",
    "    json.dump(str(history_finetuning_good_bn_nadam_10_epochs_0dot001), outfile)"
   ]
  },
  {
   "cell_type": "code",
   "execution_count": 8,
   "metadata": {},
   "outputs": [
    {
     "ename": "NameError",
     "evalue": "name 'losses' is not defined",
     "output_type": "error",
     "traceback": [
      "\u001b[0;31m---------------------------------------------------------------------------\u001b[0m",
      "\u001b[0;31mNameError\u001b[0m                                 Traceback (most recent call last)",
      "\u001b[0;32m<ipython-input-8-d45de6055e36>\u001b[0m in \u001b[0;36m<module>\u001b[0;34m\u001b[0m\n\u001b[1;32m      1\u001b[0m \u001b[0mmodel_save_path\u001b[0m \u001b[0;34m=\u001b[0m \u001b[0;34m\"/home/sergio/Documents/models_saved/modelo_prueba\"\u001b[0m\u001b[0;34m\u001b[0m\u001b[0;34m\u001b[0m\u001b[0m\n\u001b[1;32m      2\u001b[0m \u001b[0;34m\u001b[0m\u001b[0m\n\u001b[0;32m----> 3\u001b[0;31m \u001b[0mcustom_objects\u001b[0m \u001b[0;34m=\u001b[0m \u001b[0;34m{\u001b[0m\u001b[0;34m\"TinyYOLOv3\"\u001b[0m\u001b[0;34m:\u001b[0m\u001b[0mTinyYOLOv3\u001b[0m\u001b[0;34m,\u001b[0m\u001b[0;34m\"losses\"\u001b[0m\u001b[0;34m:\u001b[0m\u001b[0mlosses\u001b[0m\u001b[0;34m,\u001b[0m\u001b[0;34m\"loss_xy\"\u001b[0m\u001b[0;34m:\u001b[0m\u001b[0mloss_xy\u001b[0m\u001b[0;34m,\u001b[0m\u001b[0;34m\"loss_wh\"\u001b[0m\u001b[0;34m:\u001b[0m\u001b[0mloss_wh\u001b[0m\u001b[0;34m,\u001b[0m\u001b[0;34m\"loss_objectness\"\u001b[0m\u001b[0;34m:\u001b[0m\u001b[0mloss_objectness\u001b[0m\u001b[0;34m,\u001b[0m\u001b[0;34m\"loss_no_objectness\"\u001b[0m\u001b[0;34m:\u001b[0m\u001b[0mloss_no_objectness\u001b[0m\u001b[0;34m}\u001b[0m\u001b[0;34m\u001b[0m\u001b[0;34m\u001b[0m\u001b[0m\n\u001b[0m\u001b[1;32m      4\u001b[0m \u001b[0;34m\u001b[0m\u001b[0m\n\u001b[1;32m      5\u001b[0m \u001b[0mtf\u001b[0m\u001b[0;34m.\u001b[0m\u001b[0mkeras\u001b[0m\u001b[0;34m.\u001b[0m\u001b[0mmodels\u001b[0m\u001b[0;34m.\u001b[0m\u001b[0msave_model\u001b[0m\u001b[0;34m(\u001b[0m\u001b[0mmodel\u001b[0m\u001b[0;34m,\u001b[0m \u001b[0mmodel_save_path\u001b[0m\u001b[0;34m,\u001b[0m \u001b[0minclude_optimizer\u001b[0m\u001b[0;34m=\u001b[0m\u001b[0;32mTrue\u001b[0m\u001b[0;34m)\u001b[0m\u001b[0;34m\u001b[0m\u001b[0;34m\u001b[0m\u001b[0m\n",
      "\u001b[0;31mNameError\u001b[0m: name 'losses' is not defined"
     ]
    }
   ],
   "source": [
    "model_save_path = \"/home/sergio/Documents/models_saved/modelo_prueba\"\n",
    "\n",
    "custom_objects = {\"TinyYOLOv3\":TinyYOLOv3,\"losses\":losses,\"loss_xy\":loss_xy,\"loss_wh\":loss_wh,\"loss_objectness\":loss_objectness,\"loss_no_objectness\":loss_no_objectness}\n",
    "          \n",
    "tf.keras.models.save_model(model, model_save_path, include_optimizer=True)"
   ]
  },
  {
   "cell_type": "code",
   "execution_count": 27,
   "metadata": {
    "collapsed": true,
    "jupyter": {
     "outputs_hidden": true
    }
   },
   "outputs": [
    {
     "ename": "ValueError",
     "evalue": "Could not find matching function to call loaded from the SavedModel. Got:\n  Positional arguments (2 total):\n    * Tensor(\"inputs:0\", shape=(None, 416, 416, 3), dtype=float32)\n    * Tensor(\"training:0\", shape=(), dtype=bool)\n  Keyword arguments: {}\n\nExpected these arguments to match one of the following 4 option(s):\n\nOption 1:\n  Positional arguments (2 total):\n    * TensorSpec(shape=(None, 416, 416, 3), dtype=tf.float32, name='input_1')\n    * False\n  Keyword arguments: {}\n\nOption 2:\n  Positional arguments (2 total):\n    * TensorSpec(shape=(None, 416, 416, 3), dtype=tf.float32, name='inputs')\n    * False\n  Keyword arguments: {}\n\nOption 3:\n  Positional arguments (2 total):\n    * TensorSpec(shape=(None, 416, 416, 3), dtype=tf.float32, name='inputs')\n    * True\n  Keyword arguments: {}\n\nOption 4:\n  Positional arguments (2 total):\n    * TensorSpec(shape=(None, 416, 416, 3), dtype=tf.float32, name='input_1')\n    * True\n  Keyword arguments: {}",
     "output_type": "error",
     "traceback": [
      "\u001b[0;31m---------------------------------------------------------------------------\u001b[0m",
      "\u001b[0;31mValueError\u001b[0m                                Traceback (most recent call last)",
      "\u001b[0;32m<ipython-input-27-a7dc8bbb812f>\u001b[0m in \u001b[0;36m<module>\u001b[0;34m\u001b[0m\n\u001b[0;32m----> 1\u001b[0;31m \u001b[0mnew_model\u001b[0m \u001b[0;34m=\u001b[0m \u001b[0mtf\u001b[0m\u001b[0;34m.\u001b[0m\u001b[0mkeras\u001b[0m\u001b[0;34m.\u001b[0m\u001b[0mmodels\u001b[0m\u001b[0;34m.\u001b[0m\u001b[0mload_model\u001b[0m\u001b[0;34m(\u001b[0m\u001b[0;34m'/home/sergio/Documents/models_saved/modelo_prueba'\u001b[0m\u001b[0;34m,\u001b[0m\u001b[0mcustom_objects\u001b[0m\u001b[0;34m,\u001b[0m\u001b[0mtf\u001b[0m\u001b[0;34m.\u001b[0m\u001b[0mTensorSpec\u001b[0m\u001b[0;34m(\u001b[0m\u001b[0mshape\u001b[0m\u001b[0;34m=\u001b[0m\u001b[0;34m(\u001b[0m\u001b[0;32mNone\u001b[0m\u001b[0;34m,\u001b[0m \u001b[0;36m416\u001b[0m\u001b[0;34m,\u001b[0m \u001b[0;36m416\u001b[0m\u001b[0;34m,\u001b[0m \u001b[0;36m3\u001b[0m\u001b[0;34m)\u001b[0m\u001b[0;34m,\u001b[0m \u001b[0mdtype\u001b[0m\u001b[0;34m=\u001b[0m\u001b[0mtf\u001b[0m\u001b[0;34m.\u001b[0m\u001b[0mfloat32\u001b[0m\u001b[0;34m,\u001b[0m \u001b[0mname\u001b[0m\u001b[0;34m=\u001b[0m\u001b[0;34m'inputs'\u001b[0m\u001b[0;34m)\u001b[0m\u001b[0;34m)\u001b[0m\u001b[0;34m\u001b[0m\u001b[0;34m\u001b[0m\u001b[0m\n\u001b[0m",
      "\u001b[0;32m~/miniconda3/envs/tesis/lib/python3.6/site-packages/tensorflow_core/python/keras/saving/save.py\u001b[0m in \u001b[0;36mload_model\u001b[0;34m(filepath, custom_objects, compile)\u001b[0m\n\u001b[1;32m    148\u001b[0m   \u001b[0;32mif\u001b[0m \u001b[0misinstance\u001b[0m\u001b[0;34m(\u001b[0m\u001b[0mfilepath\u001b[0m\u001b[0;34m,\u001b[0m \u001b[0msix\u001b[0m\u001b[0;34m.\u001b[0m\u001b[0mstring_types\u001b[0m\u001b[0;34m)\u001b[0m\u001b[0;34m:\u001b[0m\u001b[0;34m\u001b[0m\u001b[0;34m\u001b[0m\u001b[0m\n\u001b[1;32m    149\u001b[0m     \u001b[0mloader_impl\u001b[0m\u001b[0;34m.\u001b[0m\u001b[0mparse_saved_model\u001b[0m\u001b[0;34m(\u001b[0m\u001b[0mfilepath\u001b[0m\u001b[0;34m)\u001b[0m\u001b[0;34m\u001b[0m\u001b[0;34m\u001b[0m\u001b[0m\n\u001b[0;32m--> 150\u001b[0;31m     \u001b[0;32mreturn\u001b[0m \u001b[0msaved_model_load\u001b[0m\u001b[0;34m.\u001b[0m\u001b[0mload\u001b[0m\u001b[0;34m(\u001b[0m\u001b[0mfilepath\u001b[0m\u001b[0;34m,\u001b[0m \u001b[0mcompile\u001b[0m\u001b[0;34m)\u001b[0m\u001b[0;34m\u001b[0m\u001b[0;34m\u001b[0m\u001b[0m\n\u001b[0m\u001b[1;32m    151\u001b[0m \u001b[0;34m\u001b[0m\u001b[0m\n\u001b[1;32m    152\u001b[0m   raise IOError(\n",
      "\u001b[0;32m~/miniconda3/envs/tesis/lib/python3.6/site-packages/tensorflow_core/python/keras/saving/saved_model/load.py\u001b[0m in \u001b[0;36mload\u001b[0;34m(path, compile)\u001b[0m\n\u001b[1;32m     87\u001b[0m   \u001b[0;31m# TODO(kathywu): Add saving/loading of optimizer, compiled losses and metrics.\u001b[0m\u001b[0;34m\u001b[0m\u001b[0;34m\u001b[0m\u001b[0;34m\u001b[0m\u001b[0m\n\u001b[1;32m     88\u001b[0m   \u001b[0;31m# TODO(kathywu): Add code to load from objects that contain all endpoints\u001b[0m\u001b[0;34m\u001b[0m\u001b[0;34m\u001b[0m\u001b[0;34m\u001b[0m\u001b[0m\n\u001b[0;32m---> 89\u001b[0;31m   \u001b[0mmodel\u001b[0m \u001b[0;34m=\u001b[0m \u001b[0mtf_load\u001b[0m\u001b[0;34m.\u001b[0m\u001b[0mload_internal\u001b[0m\u001b[0;34m(\u001b[0m\u001b[0mpath\u001b[0m\u001b[0;34m,\u001b[0m \u001b[0mloader_cls\u001b[0m\u001b[0;34m=\u001b[0m\u001b[0mKerasObjectLoader\u001b[0m\u001b[0;34m)\u001b[0m\u001b[0;34m\u001b[0m\u001b[0;34m\u001b[0m\u001b[0m\n\u001b[0m\u001b[1;32m     90\u001b[0m \u001b[0;34m\u001b[0m\u001b[0m\n\u001b[1;32m     91\u001b[0m   \u001b[0;31m# pylint: disable=protected-access\u001b[0m\u001b[0;34m\u001b[0m\u001b[0;34m\u001b[0m\u001b[0;34m\u001b[0m\u001b[0m\n",
      "\u001b[0;32m~/miniconda3/envs/tesis/lib/python3.6/site-packages/tensorflow_core/python/saved_model/load.py\u001b[0m in \u001b[0;36mload_internal\u001b[0;34m(export_dir, tags, loader_cls)\u001b[0m\n\u001b[1;32m    550\u001b[0m       loader = loader_cls(object_graph_proto,\n\u001b[1;32m    551\u001b[0m                           \u001b[0msaved_model_proto\u001b[0m\u001b[0;34m,\u001b[0m\u001b[0;34m\u001b[0m\u001b[0;34m\u001b[0m\u001b[0m\n\u001b[0;32m--> 552\u001b[0;31m                           export_dir)\n\u001b[0m\u001b[1;32m    553\u001b[0m       \u001b[0mroot\u001b[0m \u001b[0;34m=\u001b[0m \u001b[0mloader\u001b[0m\u001b[0;34m.\u001b[0m\u001b[0mget\u001b[0m\u001b[0;34m(\u001b[0m\u001b[0;36m0\u001b[0m\u001b[0;34m)\u001b[0m\u001b[0;34m\u001b[0m\u001b[0;34m\u001b[0m\u001b[0m\n\u001b[1;32m    554\u001b[0m     \u001b[0mroot\u001b[0m\u001b[0;34m.\u001b[0m\u001b[0mtensorflow_version\u001b[0m \u001b[0;34m=\u001b[0m \u001b[0mmeta_graph_def\u001b[0m\u001b[0;34m.\u001b[0m\u001b[0mmeta_info_def\u001b[0m\u001b[0;34m.\u001b[0m\u001b[0mtensorflow_version\u001b[0m\u001b[0;34m\u001b[0m\u001b[0;34m\u001b[0m\u001b[0m\n",
      "\u001b[0;32m~/miniconda3/envs/tesis/lib/python3.6/site-packages/tensorflow_core/python/keras/saving/saved_model/load.py\u001b[0m in \u001b[0;36m__init__\u001b[0;34m(self, *args, **kwargs)\u001b[0m\n\u001b[1;32m    117\u001b[0m   \u001b[0;32mdef\u001b[0m \u001b[0m__init__\u001b[0m\u001b[0;34m(\u001b[0m\u001b[0mself\u001b[0m\u001b[0;34m,\u001b[0m \u001b[0;34m*\u001b[0m\u001b[0margs\u001b[0m\u001b[0;34m,\u001b[0m \u001b[0;34m**\u001b[0m\u001b[0mkwargs\u001b[0m\u001b[0;34m)\u001b[0m\u001b[0;34m:\u001b[0m\u001b[0;34m\u001b[0m\u001b[0;34m\u001b[0m\u001b[0m\n\u001b[1;32m    118\u001b[0m     \u001b[0msuper\u001b[0m\u001b[0;34m(\u001b[0m\u001b[0mKerasObjectLoader\u001b[0m\u001b[0;34m,\u001b[0m \u001b[0mself\u001b[0m\u001b[0;34m)\u001b[0m\u001b[0;34m.\u001b[0m\u001b[0m__init__\u001b[0m\u001b[0;34m(\u001b[0m\u001b[0;34m*\u001b[0m\u001b[0margs\u001b[0m\u001b[0;34m,\u001b[0m \u001b[0;34m**\u001b[0m\u001b[0mkwargs\u001b[0m\u001b[0;34m)\u001b[0m\u001b[0;34m\u001b[0m\u001b[0;34m\u001b[0m\u001b[0m\n\u001b[0;32m--> 119\u001b[0;31m     \u001b[0mself\u001b[0m\u001b[0;34m.\u001b[0m\u001b[0m_finalize\u001b[0m\u001b[0;34m(\u001b[0m\u001b[0;34m)\u001b[0m\u001b[0;34m\u001b[0m\u001b[0;34m\u001b[0m\u001b[0m\n\u001b[0m\u001b[1;32m    120\u001b[0m \u001b[0;34m\u001b[0m\u001b[0m\n\u001b[1;32m    121\u001b[0m   \u001b[0;32mdef\u001b[0m \u001b[0m_finalize\u001b[0m\u001b[0;34m(\u001b[0m\u001b[0mself\u001b[0m\u001b[0;34m)\u001b[0m\u001b[0;34m:\u001b[0m\u001b[0;34m\u001b[0m\u001b[0;34m\u001b[0m\u001b[0m\n",
      "\u001b[0;32m~/miniconda3/envs/tesis/lib/python3.6/site-packages/tensorflow_core/python/keras/saving/saved_model/load.py\u001b[0m in \u001b[0;36m_finalize\u001b[0;34m(self)\u001b[0m\n\u001b[1;32m    163\u001b[0m           \u001b[0m_set_network_attributes_from_metadata\u001b[0m\u001b[0;34m(\u001b[0m\u001b[0mnode\u001b[0m\u001b[0;34m)\u001b[0m\u001b[0;34m\u001b[0m\u001b[0;34m\u001b[0m\u001b[0m\n\u001b[1;32m    164\u001b[0m         \u001b[0;32melse\u001b[0m\u001b[0;34m:\u001b[0m  \u001b[0;31m# Model is subclassed.\u001b[0m\u001b[0;34m\u001b[0m\u001b[0;34m\u001b[0m\u001b[0m\n\u001b[0;32m--> 165\u001b[0;31m           \u001b[0mnode\u001b[0m\u001b[0;34m.\u001b[0m\u001b[0m_set_inputs\u001b[0m\u001b[0;34m(\u001b[0m\u001b[0minputs\u001b[0m\u001b[0;34m)\u001b[0m\u001b[0;34m\u001b[0m\u001b[0;34m\u001b[0m\u001b[0m\n\u001b[0m\u001b[1;32m    166\u001b[0m \u001b[0;34m\u001b[0m\u001b[0m\n\u001b[1;32m    167\u001b[0m       \u001b[0;31m# Add unconditional losses.\u001b[0m\u001b[0;34m\u001b[0m\u001b[0;34m\u001b[0m\u001b[0;34m\u001b[0m\u001b[0m\n",
      "\u001b[0;32m~/miniconda3/envs/tesis/lib/python3.6/site-packages/tensorflow_core/python/keras/engine/training.py\u001b[0m in \u001b[0;36m_set_inputs\u001b[0;34m(self, inputs, outputs, training)\u001b[0m\n\u001b[1;32m   2657\u001b[0m           \u001b[0mkwargs\u001b[0m\u001b[0;34m[\u001b[0m\u001b[0;34m'training'\u001b[0m\u001b[0;34m]\u001b[0m \u001b[0;34m=\u001b[0m \u001b[0mtraining\u001b[0m\u001b[0;34m\u001b[0m\u001b[0;34m\u001b[0m\u001b[0m\n\u001b[1;32m   2658\u001b[0m       \u001b[0;32mtry\u001b[0m\u001b[0;34m:\u001b[0m\u001b[0;34m\u001b[0m\u001b[0;34m\u001b[0m\u001b[0m\n\u001b[0;32m-> 2659\u001b[0;31m         \u001b[0moutputs\u001b[0m \u001b[0;34m=\u001b[0m \u001b[0mself\u001b[0m\u001b[0;34m(\u001b[0m\u001b[0minputs\u001b[0m\u001b[0;34m,\u001b[0m \u001b[0;34m**\u001b[0m\u001b[0mkwargs\u001b[0m\u001b[0;34m)\u001b[0m\u001b[0;34m\u001b[0m\u001b[0;34m\u001b[0m\u001b[0m\n\u001b[0m\u001b[1;32m   2660\u001b[0m       \u001b[0;32mexcept\u001b[0m \u001b[0mNotImplementedError\u001b[0m\u001b[0;34m:\u001b[0m\u001b[0;34m\u001b[0m\u001b[0;34m\u001b[0m\u001b[0m\n\u001b[1;32m   2661\u001b[0m         \u001b[0;31m# This Model or a submodel is dynamic and hasn't overridden\u001b[0m\u001b[0;34m\u001b[0m\u001b[0;34m\u001b[0m\u001b[0;34m\u001b[0m\u001b[0m\n",
      "\u001b[0;32m~/miniconda3/envs/tesis/lib/python3.6/site-packages/tensorflow_core/python/keras/engine/base_layer.py\u001b[0m in \u001b[0;36m__call__\u001b[0;34m(self, inputs, *args, **kwargs)\u001b[0m\n\u001b[1;32m    771\u001b[0m                     not base_layer_utils.is_in_eager_or_tf_function()):\n\u001b[1;32m    772\u001b[0m                   \u001b[0;32mwith\u001b[0m \u001b[0mauto_control_deps\u001b[0m\u001b[0;34m.\u001b[0m\u001b[0mAutomaticControlDependencies\u001b[0m\u001b[0;34m(\u001b[0m\u001b[0;34m)\u001b[0m \u001b[0;32mas\u001b[0m \u001b[0macd\u001b[0m\u001b[0;34m:\u001b[0m\u001b[0;34m\u001b[0m\u001b[0;34m\u001b[0m\u001b[0m\n\u001b[0;32m--> 773\u001b[0;31m                     \u001b[0moutputs\u001b[0m \u001b[0;34m=\u001b[0m \u001b[0mcall_fn\u001b[0m\u001b[0;34m(\u001b[0m\u001b[0mcast_inputs\u001b[0m\u001b[0;34m,\u001b[0m \u001b[0;34m*\u001b[0m\u001b[0margs\u001b[0m\u001b[0;34m,\u001b[0m \u001b[0;34m**\u001b[0m\u001b[0mkwargs\u001b[0m\u001b[0;34m)\u001b[0m\u001b[0;34m\u001b[0m\u001b[0;34m\u001b[0m\u001b[0m\n\u001b[0m\u001b[1;32m    774\u001b[0m                     \u001b[0;31m# Wrap Tensors in `outputs` in `tf.identity` to avoid\u001b[0m\u001b[0;34m\u001b[0m\u001b[0;34m\u001b[0m\u001b[0;34m\u001b[0m\u001b[0m\n\u001b[1;32m    775\u001b[0m                     \u001b[0;31m# circular dependencies.\u001b[0m\u001b[0;34m\u001b[0m\u001b[0;34m\u001b[0m\u001b[0;34m\u001b[0m\u001b[0m\n",
      "\u001b[0;32m~/miniconda3/envs/tesis/lib/python3.6/site-packages/tensorflow_core/python/keras/saving/saved_model/utils.py\u001b[0m in \u001b[0;36mreturn_outputs_and_add_losses\u001b[0;34m(*args, **kwargs)\u001b[0m\n\u001b[1;32m     57\u001b[0m     \u001b[0minputs\u001b[0m \u001b[0;34m=\u001b[0m \u001b[0margs\u001b[0m\u001b[0;34m[\u001b[0m\u001b[0minputs_arg_index\u001b[0m\u001b[0;34m]\u001b[0m\u001b[0;34m\u001b[0m\u001b[0;34m\u001b[0m\u001b[0m\n\u001b[1;32m     58\u001b[0m     \u001b[0margs\u001b[0m \u001b[0;34m=\u001b[0m \u001b[0margs\u001b[0m\u001b[0;34m[\u001b[0m\u001b[0minputs_arg_index\u001b[0m \u001b[0;34m+\u001b[0m \u001b[0;36m1\u001b[0m\u001b[0;34m:\u001b[0m\u001b[0;34m]\u001b[0m\u001b[0;34m\u001b[0m\u001b[0;34m\u001b[0m\u001b[0m\n\u001b[0;32m---> 59\u001b[0;31m     \u001b[0moutputs\u001b[0m\u001b[0;34m,\u001b[0m \u001b[0mlosses\u001b[0m \u001b[0;34m=\u001b[0m \u001b[0mfn\u001b[0m\u001b[0;34m(\u001b[0m\u001b[0minputs\u001b[0m\u001b[0;34m,\u001b[0m \u001b[0;34m*\u001b[0m\u001b[0margs\u001b[0m\u001b[0;34m,\u001b[0m \u001b[0;34m**\u001b[0m\u001b[0mkwargs\u001b[0m\u001b[0;34m)\u001b[0m\u001b[0;34m\u001b[0m\u001b[0;34m\u001b[0m\u001b[0m\n\u001b[0m\u001b[1;32m     60\u001b[0m     \u001b[0mlayer\u001b[0m\u001b[0;34m.\u001b[0m\u001b[0madd_loss\u001b[0m\u001b[0;34m(\u001b[0m\u001b[0mlosses\u001b[0m\u001b[0;34m,\u001b[0m \u001b[0minputs\u001b[0m\u001b[0;34m)\u001b[0m\u001b[0;34m\u001b[0m\u001b[0;34m\u001b[0m\u001b[0m\n\u001b[1;32m     61\u001b[0m     \u001b[0;32mreturn\u001b[0m \u001b[0moutputs\u001b[0m\u001b[0;34m\u001b[0m\u001b[0;34m\u001b[0m\u001b[0m\n",
      "\u001b[0;32m~/miniconda3/envs/tesis/lib/python3.6/site-packages/tensorflow_core/python/eager/def_function.py\u001b[0m in \u001b[0;36m__call__\u001b[0;34m(self, *args, **kwds)\u001b[0m\n\u001b[1;32m    566\u001b[0m         \u001b[0mxla_context\u001b[0m\u001b[0;34m.\u001b[0m\u001b[0mExit\u001b[0m\u001b[0;34m(\u001b[0m\u001b[0;34m)\u001b[0m\u001b[0;34m\u001b[0m\u001b[0;34m\u001b[0m\u001b[0m\n\u001b[1;32m    567\u001b[0m     \u001b[0;32melse\u001b[0m\u001b[0;34m:\u001b[0m\u001b[0;34m\u001b[0m\u001b[0;34m\u001b[0m\u001b[0m\n\u001b[0;32m--> 568\u001b[0;31m       \u001b[0mresult\u001b[0m \u001b[0;34m=\u001b[0m \u001b[0mself\u001b[0m\u001b[0;34m.\u001b[0m\u001b[0m_call\u001b[0m\u001b[0;34m(\u001b[0m\u001b[0;34m*\u001b[0m\u001b[0margs\u001b[0m\u001b[0;34m,\u001b[0m \u001b[0;34m**\u001b[0m\u001b[0mkwds\u001b[0m\u001b[0;34m)\u001b[0m\u001b[0;34m\u001b[0m\u001b[0;34m\u001b[0m\u001b[0m\n\u001b[0m\u001b[1;32m    569\u001b[0m \u001b[0;34m\u001b[0m\u001b[0m\n\u001b[1;32m    570\u001b[0m     \u001b[0;32mif\u001b[0m \u001b[0mtracing_count\u001b[0m \u001b[0;34m==\u001b[0m \u001b[0mself\u001b[0m\u001b[0;34m.\u001b[0m\u001b[0m_get_tracing_count\u001b[0m\u001b[0;34m(\u001b[0m\u001b[0;34m)\u001b[0m\u001b[0;34m:\u001b[0m\u001b[0;34m\u001b[0m\u001b[0;34m\u001b[0m\u001b[0m\n",
      "\u001b[0;32m~/miniconda3/envs/tesis/lib/python3.6/site-packages/tensorflow_core/python/eager/def_function.py\u001b[0m in \u001b[0;36m_call\u001b[0;34m(self, *args, **kwds)\u001b[0m\n\u001b[1;32m    613\u001b[0m       \u001b[0;31m# This is the first call of __call__, so we have to initialize.\u001b[0m\u001b[0;34m\u001b[0m\u001b[0;34m\u001b[0m\u001b[0;34m\u001b[0m\u001b[0m\n\u001b[1;32m    614\u001b[0m       \u001b[0minitializers\u001b[0m \u001b[0;34m=\u001b[0m \u001b[0;34m[\u001b[0m\u001b[0;34m]\u001b[0m\u001b[0;34m\u001b[0m\u001b[0;34m\u001b[0m\u001b[0m\n\u001b[0;32m--> 615\u001b[0;31m       \u001b[0mself\u001b[0m\u001b[0;34m.\u001b[0m\u001b[0m_initialize\u001b[0m\u001b[0;34m(\u001b[0m\u001b[0margs\u001b[0m\u001b[0;34m,\u001b[0m \u001b[0mkwds\u001b[0m\u001b[0;34m,\u001b[0m \u001b[0madd_initializers_to\u001b[0m\u001b[0;34m=\u001b[0m\u001b[0minitializers\u001b[0m\u001b[0;34m)\u001b[0m\u001b[0;34m\u001b[0m\u001b[0;34m\u001b[0m\u001b[0m\n\u001b[0m\u001b[1;32m    616\u001b[0m     \u001b[0;32mfinally\u001b[0m\u001b[0;34m:\u001b[0m\u001b[0;34m\u001b[0m\u001b[0;34m\u001b[0m\u001b[0m\n\u001b[1;32m    617\u001b[0m       \u001b[0;31m# At this point we know that the initialization is complete (or less\u001b[0m\u001b[0;34m\u001b[0m\u001b[0;34m\u001b[0m\u001b[0;34m\u001b[0m\u001b[0m\n",
      "\u001b[0;32m~/miniconda3/envs/tesis/lib/python3.6/site-packages/tensorflow_core/python/eager/def_function.py\u001b[0m in \u001b[0;36m_initialize\u001b[0;34m(self, args, kwds, add_initializers_to)\u001b[0m\n\u001b[1;32m    495\u001b[0m     self._concrete_stateful_fn = (\n\u001b[1;32m    496\u001b[0m         self._stateful_fn._get_concrete_function_internal_garbage_collected(  # pylint: disable=protected-access\n\u001b[0;32m--> 497\u001b[0;31m             *args, **kwds))\n\u001b[0m\u001b[1;32m    498\u001b[0m \u001b[0;34m\u001b[0m\u001b[0m\n\u001b[1;32m    499\u001b[0m     \u001b[0;32mdef\u001b[0m \u001b[0minvalid_creator_scope\u001b[0m\u001b[0;34m(\u001b[0m\u001b[0;34m*\u001b[0m\u001b[0munused_args\u001b[0m\u001b[0;34m,\u001b[0m \u001b[0;34m**\u001b[0m\u001b[0munused_kwds\u001b[0m\u001b[0;34m)\u001b[0m\u001b[0;34m:\u001b[0m\u001b[0;34m\u001b[0m\u001b[0;34m\u001b[0m\u001b[0m\n",
      "\u001b[0;32m~/miniconda3/envs/tesis/lib/python3.6/site-packages/tensorflow_core/python/eager/function.py\u001b[0m in \u001b[0;36m_get_concrete_function_internal_garbage_collected\u001b[0;34m(self, *args, **kwargs)\u001b[0m\n\u001b[1;32m   2387\u001b[0m       \u001b[0margs\u001b[0m\u001b[0;34m,\u001b[0m \u001b[0mkwargs\u001b[0m \u001b[0;34m=\u001b[0m \u001b[0;32mNone\u001b[0m\u001b[0;34m,\u001b[0m \u001b[0;32mNone\u001b[0m\u001b[0;34m\u001b[0m\u001b[0;34m\u001b[0m\u001b[0m\n\u001b[1;32m   2388\u001b[0m     \u001b[0;32mwith\u001b[0m \u001b[0mself\u001b[0m\u001b[0;34m.\u001b[0m\u001b[0m_lock\u001b[0m\u001b[0;34m:\u001b[0m\u001b[0;34m\u001b[0m\u001b[0;34m\u001b[0m\u001b[0m\n\u001b[0;32m-> 2389\u001b[0;31m       \u001b[0mgraph_function\u001b[0m\u001b[0;34m,\u001b[0m \u001b[0m_\u001b[0m\u001b[0;34m,\u001b[0m \u001b[0m_\u001b[0m \u001b[0;34m=\u001b[0m \u001b[0mself\u001b[0m\u001b[0;34m.\u001b[0m\u001b[0m_maybe_define_function\u001b[0m\u001b[0;34m(\u001b[0m\u001b[0margs\u001b[0m\u001b[0;34m,\u001b[0m \u001b[0mkwargs\u001b[0m\u001b[0;34m)\u001b[0m\u001b[0;34m\u001b[0m\u001b[0;34m\u001b[0m\u001b[0m\n\u001b[0m\u001b[1;32m   2390\u001b[0m     \u001b[0;32mreturn\u001b[0m \u001b[0mgraph_function\u001b[0m\u001b[0;34m\u001b[0m\u001b[0;34m\u001b[0m\u001b[0m\n\u001b[1;32m   2391\u001b[0m \u001b[0;34m\u001b[0m\u001b[0m\n",
      "\u001b[0;32m~/miniconda3/envs/tesis/lib/python3.6/site-packages/tensorflow_core/python/eager/function.py\u001b[0m in \u001b[0;36m_maybe_define_function\u001b[0;34m(self, args, kwargs)\u001b[0m\n\u001b[1;32m   2701\u001b[0m \u001b[0;34m\u001b[0m\u001b[0m\n\u001b[1;32m   2702\u001b[0m       \u001b[0mself\u001b[0m\u001b[0;34m.\u001b[0m\u001b[0m_function_cache\u001b[0m\u001b[0;34m.\u001b[0m\u001b[0mmissed\u001b[0m\u001b[0;34m.\u001b[0m\u001b[0madd\u001b[0m\u001b[0;34m(\u001b[0m\u001b[0mcall_context_key\u001b[0m\u001b[0;34m)\u001b[0m\u001b[0;34m\u001b[0m\u001b[0;34m\u001b[0m\u001b[0m\n\u001b[0;32m-> 2703\u001b[0;31m       \u001b[0mgraph_function\u001b[0m \u001b[0;34m=\u001b[0m \u001b[0mself\u001b[0m\u001b[0;34m.\u001b[0m\u001b[0m_create_graph_function\u001b[0m\u001b[0;34m(\u001b[0m\u001b[0margs\u001b[0m\u001b[0;34m,\u001b[0m \u001b[0mkwargs\u001b[0m\u001b[0;34m)\u001b[0m\u001b[0;34m\u001b[0m\u001b[0;34m\u001b[0m\u001b[0m\n\u001b[0m\u001b[1;32m   2704\u001b[0m       \u001b[0mself\u001b[0m\u001b[0;34m.\u001b[0m\u001b[0m_function_cache\u001b[0m\u001b[0;34m.\u001b[0m\u001b[0mprimary\u001b[0m\u001b[0;34m[\u001b[0m\u001b[0mcache_key\u001b[0m\u001b[0;34m]\u001b[0m \u001b[0;34m=\u001b[0m \u001b[0mgraph_function\u001b[0m\u001b[0;34m\u001b[0m\u001b[0;34m\u001b[0m\u001b[0m\n\u001b[1;32m   2705\u001b[0m       \u001b[0;32mreturn\u001b[0m \u001b[0mgraph_function\u001b[0m\u001b[0;34m,\u001b[0m \u001b[0margs\u001b[0m\u001b[0;34m,\u001b[0m \u001b[0mkwargs\u001b[0m\u001b[0;34m\u001b[0m\u001b[0;34m\u001b[0m\u001b[0m\n",
      "\u001b[0;32m~/miniconda3/envs/tesis/lib/python3.6/site-packages/tensorflow_core/python/eager/function.py\u001b[0m in \u001b[0;36m_create_graph_function\u001b[0;34m(self, args, kwargs, override_flat_arg_shapes)\u001b[0m\n\u001b[1;32m   2591\u001b[0m             \u001b[0marg_names\u001b[0m\u001b[0;34m=\u001b[0m\u001b[0marg_names\u001b[0m\u001b[0;34m,\u001b[0m\u001b[0;34m\u001b[0m\u001b[0;34m\u001b[0m\u001b[0m\n\u001b[1;32m   2592\u001b[0m             \u001b[0moverride_flat_arg_shapes\u001b[0m\u001b[0;34m=\u001b[0m\u001b[0moverride_flat_arg_shapes\u001b[0m\u001b[0;34m,\u001b[0m\u001b[0;34m\u001b[0m\u001b[0;34m\u001b[0m\u001b[0m\n\u001b[0;32m-> 2593\u001b[0;31m             capture_by_value=self._capture_by_value),\n\u001b[0m\u001b[1;32m   2594\u001b[0m         \u001b[0mself\u001b[0m\u001b[0;34m.\u001b[0m\u001b[0m_function_attributes\u001b[0m\u001b[0;34m,\u001b[0m\u001b[0;34m\u001b[0m\u001b[0;34m\u001b[0m\u001b[0m\n\u001b[1;32m   2595\u001b[0m         \u001b[0;31m# Tell the ConcreteFunction to clean up its graph once it goes out of\u001b[0m\u001b[0;34m\u001b[0m\u001b[0;34m\u001b[0m\u001b[0;34m\u001b[0m\u001b[0m\n",
      "\u001b[0;32m~/miniconda3/envs/tesis/lib/python3.6/site-packages/tensorflow_core/python/framework/func_graph.py\u001b[0m in \u001b[0;36mfunc_graph_from_py_func\u001b[0;34m(name, python_func, args, kwargs, signature, func_graph, autograph, autograph_options, add_control_dependencies, arg_names, op_return_value, collections, capture_by_value, override_flat_arg_shapes)\u001b[0m\n\u001b[1;32m    976\u001b[0m                                           converted_func)\n\u001b[1;32m    977\u001b[0m \u001b[0;34m\u001b[0m\u001b[0m\n\u001b[0;32m--> 978\u001b[0;31m       \u001b[0mfunc_outputs\u001b[0m \u001b[0;34m=\u001b[0m \u001b[0mpython_func\u001b[0m\u001b[0;34m(\u001b[0m\u001b[0;34m*\u001b[0m\u001b[0mfunc_args\u001b[0m\u001b[0;34m,\u001b[0m \u001b[0;34m**\u001b[0m\u001b[0mfunc_kwargs\u001b[0m\u001b[0;34m)\u001b[0m\u001b[0;34m\u001b[0m\u001b[0;34m\u001b[0m\u001b[0m\n\u001b[0m\u001b[1;32m    979\u001b[0m \u001b[0;34m\u001b[0m\u001b[0m\n\u001b[1;32m    980\u001b[0m       \u001b[0;31m# invariant: `func_outputs` contains only Tensors, CompositeTensors,\u001b[0m\u001b[0;34m\u001b[0m\u001b[0;34m\u001b[0m\u001b[0;34m\u001b[0m\u001b[0m\n",
      "\u001b[0;32m~/miniconda3/envs/tesis/lib/python3.6/site-packages/tensorflow_core/python/eager/def_function.py\u001b[0m in \u001b[0;36mwrapped_fn\u001b[0;34m(*args, **kwds)\u001b[0m\n\u001b[1;32m    437\u001b[0m         \u001b[0;31m# __wrapped__ allows AutoGraph to swap in a converted function. We give\u001b[0m\u001b[0;34m\u001b[0m\u001b[0;34m\u001b[0m\u001b[0;34m\u001b[0m\u001b[0m\n\u001b[1;32m    438\u001b[0m         \u001b[0;31m# the function a weak reference to itself to avoid a reference cycle.\u001b[0m\u001b[0;34m\u001b[0m\u001b[0;34m\u001b[0m\u001b[0;34m\u001b[0m\u001b[0m\n\u001b[0;32m--> 439\u001b[0;31m         \u001b[0;32mreturn\u001b[0m \u001b[0mweak_wrapped_fn\u001b[0m\u001b[0;34m(\u001b[0m\u001b[0;34m)\u001b[0m\u001b[0;34m.\u001b[0m\u001b[0m__wrapped__\u001b[0m\u001b[0;34m(\u001b[0m\u001b[0;34m*\u001b[0m\u001b[0margs\u001b[0m\u001b[0;34m,\u001b[0m \u001b[0;34m**\u001b[0m\u001b[0mkwds\u001b[0m\u001b[0;34m)\u001b[0m\u001b[0;34m\u001b[0m\u001b[0;34m\u001b[0m\u001b[0m\n\u001b[0m\u001b[1;32m    440\u001b[0m     \u001b[0mweak_wrapped_fn\u001b[0m \u001b[0;34m=\u001b[0m \u001b[0mweakref\u001b[0m\u001b[0;34m.\u001b[0m\u001b[0mref\u001b[0m\u001b[0;34m(\u001b[0m\u001b[0mwrapped_fn\u001b[0m\u001b[0;34m)\u001b[0m\u001b[0;34m\u001b[0m\u001b[0;34m\u001b[0m\u001b[0m\n\u001b[1;32m    441\u001b[0m \u001b[0;34m\u001b[0m\u001b[0m\n",
      "\u001b[0;32m~/miniconda3/envs/tesis/lib/python3.6/site-packages/tensorflow_core/python/saved_model/function_deserialization.py\u001b[0m in \u001b[0;36mrestored_function_body\u001b[0;34m(*args, **kwargs)\u001b[0m\n\u001b[1;32m    260\u001b[0m         .format(_pretty_format_positional(args), kwargs,\n\u001b[1;32m    261\u001b[0m                 \u001b[0mlen\u001b[0m\u001b[0;34m(\u001b[0m\u001b[0msaved_function\u001b[0m\u001b[0;34m.\u001b[0m\u001b[0mconcrete_functions\u001b[0m\u001b[0;34m)\u001b[0m\u001b[0;34m,\u001b[0m\u001b[0;34m\u001b[0m\u001b[0;34m\u001b[0m\u001b[0m\n\u001b[0;32m--> 262\u001b[0;31m                 \"\\n\\n\".join(signature_descriptions)))\n\u001b[0m\u001b[1;32m    263\u001b[0m \u001b[0;34m\u001b[0m\u001b[0m\n\u001b[1;32m    264\u001b[0m   \u001b[0mconcrete_function_objects\u001b[0m \u001b[0;34m=\u001b[0m \u001b[0;34m[\u001b[0m\u001b[0;34m]\u001b[0m\u001b[0;34m\u001b[0m\u001b[0;34m\u001b[0m\u001b[0m\n",
      "\u001b[0;31mValueError\u001b[0m: Could not find matching function to call loaded from the SavedModel. Got:\n  Positional arguments (2 total):\n    * Tensor(\"inputs:0\", shape=(None, 416, 416, 3), dtype=float32)\n    * Tensor(\"training:0\", shape=(), dtype=bool)\n  Keyword arguments: {}\n\nExpected these arguments to match one of the following 4 option(s):\n\nOption 1:\n  Positional arguments (2 total):\n    * TensorSpec(shape=(None, 416, 416, 3), dtype=tf.float32, name='input_1')\n    * False\n  Keyword arguments: {}\n\nOption 2:\n  Positional arguments (2 total):\n    * TensorSpec(shape=(None, 416, 416, 3), dtype=tf.float32, name='inputs')\n    * False\n  Keyword arguments: {}\n\nOption 3:\n  Positional arguments (2 total):\n    * TensorSpec(shape=(None, 416, 416, 3), dtype=tf.float32, name='inputs')\n    * True\n  Keyword arguments: {}\n\nOption 4:\n  Positional arguments (2 total):\n    * TensorSpec(shape=(None, 416, 416, 3), dtype=tf.float32, name='input_1')\n    * True\n  Keyword arguments: {}"
     ]
    }
   ],
   "source": [
    "new_model = tf.keras.models.load_model('/home/sergio/Documents/models_saved/modelo_prueba',custom_objects,tf.TensorSpec(shape=(None, 416, 416, 3), dtype=tf.float32, name='inputs'))"
   ]
  },
  {
   "cell_type": "code",
   "execution_count": 8,
   "metadata": {},
   "outputs": [],
   "source": [
    "import sys\n",
    "sys.path.append(\"/home/sergio/TinyYOLOv3-Pedestrian-Detection\")\n",
    "\n",
    "from YOLOblocks import TinyYOLOv3,BasicBlock,PredictionLayer#,YOLOLossBasicBlock\n",
    "import numpy as np\n",
    "import matplotlib.pyplot as plt\n",
    "%matplotlib inline\n",
    "import tensorflow as tf\n",
    "#from tensorflow.python.tools import freeze_graph\n",
    "#from skimage.io import imread,imshow\n",
    "#from skimage.transform import resize \n",
    "import time\n",
    "#from tensorflow.compat.v1.image import decode_image\n",
    "import imgaug.augmenters as iaa\n",
    "from imgaug.augmentables.bbs import BoundingBox, BoundingBoxesOnImage\n",
    "import os"
   ]
  },
  {
   "cell_type": "code",
   "execution_count": 9,
   "metadata": {},
   "outputs": [],
   "source": [
    "a =BasicBlock(num_filters = 16, kernel_size = 3,name=\"BasicBlock1\",trainable=True)"
   ]
  },
  {
   "cell_type": "code",
   "execution_count": 10,
   "metadata": {},
   "outputs": [],
   "source": [
    "anchors =[[0.015,0.037],[0.043,0.104],[0.11,0.278],[0.351,0.66]]\n",
    "b = PredictionLayer(anchors[len(anchors)//2:],conf_thresh=0.5,grid_size=13,num_classes=1,name=\"Prediction1\",training=True)"
   ]
  },
  {
   "cell_type": "code",
   "execution_count": 11,
   "metadata": {},
   "outputs": [
    {
     "name": "stdout",
     "output_type": "stream",
     "text": [
      "Se redimensiona la salida de la CNN a: (None, 338, 5)\n",
      "Se redimensiona la salida de la CNN a: (None, 1352, 5)\n",
      "Pesos de la convolucion (432,)\n",
      "CONV SHAPE (16, 3, 3, 3)\n",
      "Pesos de la convolucion (4608,)\n",
      "CONV SHAPE (32, 16, 3, 3)\n",
      "Pesos de la convolucion (18432,)\n",
      "CONV SHAPE (64, 32, 3, 3)\n",
      "Pesos de la convolucion (73728,)\n",
      "CONV SHAPE (128, 64, 3, 3)\n",
      "Pesos de la convolucion (294912,)\n",
      "CONV SHAPE (256, 128, 3, 3)\n",
      "Pesos de la convolucion (1179648,)\n",
      "CONV SHAPE (512, 256, 3, 3)\n",
      "Pesos de la convolucion (4718592,)\n",
      "CONV SHAPE (1024, 512, 3, 3)\n",
      "Pesos de la convolucion (262144,)\n",
      "CONV SHAPE (256, 1024, 1, 1)\n",
      "Pesos de la convolucion (1179648,)\n",
      "CONV SHAPE (512, 256, 3, 3)\n",
      "Pesos de la convolucion (130560,)\n",
      "CONV SHAPE (255, 512, 1, 1)\n",
      "Pesos de la convolucion (32768,)\n",
      "CONV SHAPE (128, 256, 1, 1)\n",
      "Pesos de la convolucion (884736,)\n",
      "CONV SHAPE (256, 384, 3, 3)\n",
      "Pesos de la convolucion (65280,)\n",
      "CONV SHAPE (255, 256, 1, 1)\n",
      "8858734\n"
     ]
    }
   ],
   "source": [
    "model = TinyYOLOv3(1,anchor_boxes=anchors,train=True,mode = \"finetuning\")\n",
    "model.build(batch_input_shape=(None,416,416,3))\n",
    "print(model.load_weights(\"/home/sergio/TinyYOLOv3-Pedestrian-Detection/yolov3-tiny.weights\"))"
   ]
  },
  {
   "cell_type": "code",
   "execution_count": 12,
   "metadata": {},
   "outputs": [
    {
     "data": {
      "text/plain": [
       "{'train': True,\n",
       " 'num_classes': 1,\n",
       " 'num_anchors': 4,\n",
       " 'filter_prediction_layer': 10,\n",
       " 'block1': <YOLOblocks.BasicBlock at 0x7f87b4302128>,\n",
       " 'block2': <YOLOblocks.BasicBlock at 0x7f87b4302a58>,\n",
       " 'block3': <YOLOblocks.BasicBlock at 0x7f87b424dbe0>,\n",
       " 'block4': <YOLOblocks.BasicBlock at 0x7f87b424d278>,\n",
       " 'block5': <YOLOblocks.BasicBlock at 0x7f87b42c9550>,\n",
       " 'block6': <YOLOblocks.BasicBlock at 0x7f87b42c95f8>,\n",
       " 'block7': <YOLOblocks.BasicBlock at 0x7f87b42dd4a8>,\n",
       " 'block8': <YOLOblocks.BasicBlock at 0x7f87b42dd2b0>,\n",
       " 'block9': <YOLOblocks.BasicBlock at 0x7f87b42dde80>,\n",
       " 'block10': <YOLOblocks.BasicBlock at 0x7f87b4228400>,\n",
       " 'block11': <YOLOblocks.BasicBlock at 0x7f87b42285f8>,\n",
       " 'block12': <YOLOblocks.BasicBlock at 0x7f87b4228d30>,\n",
       " 'block13': <YOLOblocks.BasicBlock at 0x7f87b4302518>,\n",
       " 'concat_block': <tensorflow.python.keras.layers.merge.Concatenate at 0x7f87b423e278>,\n",
       " 'upsamp': <tensorflow.python.keras.layers.convolutional.UpSampling2D at 0x7f87b423e2e8>,\n",
       " 'yolo1': <YOLOblocks.PredictionLayer at 0x7f87b423e978>,\n",
       " 'yolo2': <YOLOblocks.PredictionLayer at 0x7f87b424d630>,\n",
       " 'concat_bbox': <tensorflow.python.keras.layers.merge.Concatenate at 0x7f87b423ef98>,\n",
       " 'nms_layer': None}"
      ]
     },
     "execution_count": 12,
     "metadata": {},
     "output_type": "execute_result"
    }
   ],
   "source": [
    "model.get_config()"
   ]
  },
  {
   "cell_type": "code",
   "execution_count": 13,
   "metadata": {},
   "outputs": [],
   "source": [
    "tf.random.set_seed(0)\n",
    "\n",
    "from tensorflow.keras.metrics import TrueNegatives,TruePositives,FalseNegatives,FalsePositives,Precision,Recall\n",
    "\n",
    "opt = tf.keras.optimizers.Nadam(learning_rate=0.001)\n",
    "#opt = tf.keras.optimizers.SGD(learning_rate=0.0000001, momentum=0.9, nesterov=True)\n",
    "\n",
    "losses = {\"output_1\": loss_xy,\n",
    "          \"output_2\": loss_wh,\n",
    "          \"output_3\":loss_objectness,\n",
    "          \"output_4\":loss_no_objectness\n",
    "          \n",
    "}\n",
    "\n",
    "metrics = {\"output_3\":[Precision(),Recall(),TrueNegatives(0.5),TruePositives(0.5),FalseNegatives(0.5),FalsePositives(0.5)]}\n",
    "model.compile(optimizer=opt, loss=losses,metrics=metrics,loss_weights=[2,1,4,1])\n",
    "os.chdir(\"/home/sergio/Documents/pedestrian_dataset_train_tfr\")\n"
   ]
  },
  {
   "cell_type": "code",
   "execution_count": 14,
   "metadata": {
    "collapsed": true,
    "jupyter": {
     "outputs_hidden": true
    }
   },
   "outputs": [
    {
     "name": "stdout",
     "output_type": "stream",
     "text": [
      "Se redimensiona la salida de la CNN a: (None, 338, 5)\n",
      "Se redimensiona la salida de la CNN a: (None, 1352, 5)\n",
      "Epoch 1/10\n",
      "Se redimensiona la salida de la CNN a: (None, 338, 5)\n",
      "Se redimensiona la salida de la CNN a: (None, 1352, 5)\n",
      "Se redimensiona la salida de la CNN a: (None, 338, 5)\n",
      "Se redimensiona la salida de la CNN a: (None, 1352, 5)\n",
      "    235/Unknown - 19s 81ms/step - loss: 134.0872 - output_1_loss: 10.1854 - output_2_loss: 2.9031 - output_3_loss: 0.3720 - output_4_loss: 109.3252 - output_3_precision: 0.0023 - output_3_recall: 0.0107 - output_3_true_negatives: 3097573.0000 - output_3_true_positives: 126.0000 - output_3_false_negatives: 11624.0000 - output_3_false_positives: 54357.0000"
     ]
    },
    {
     "ename": "KeyboardInterrupt",
     "evalue": "",
     "output_type": "error",
     "traceback": [
      "\u001b[0;31m---------------------------------------------------------------------------\u001b[0m",
      "\u001b[0;31mKeyboardInterrupt\u001b[0m                         Traceback (most recent call last)",
      "\u001b[0;32m<ipython-input-14-a1d6d430cdd1>\u001b[0m in \u001b[0;36m<module>\u001b[0;34m\u001b[0m\n\u001b[0;32m----> 1\u001b[0;31m \u001b[0mhistory\u001b[0m \u001b[0;34m=\u001b[0m \u001b[0mmodel\u001b[0m\u001b[0;34m.\u001b[0m\u001b[0mfit\u001b[0m\u001b[0;34m(\u001b[0m\u001b[0mtrain_dataset\u001b[0m\u001b[0;34m,\u001b[0m \u001b[0mepochs\u001b[0m\u001b[0;34m=\u001b[0m\u001b[0;36m10\u001b[0m\u001b[0;34m,\u001b[0m\u001b[0mvalidation_data\u001b[0m\u001b[0;34m=\u001b[0m\u001b[0mval_dataset\u001b[0m\u001b[0;34m)\u001b[0m\u001b[0;34m\u001b[0m\u001b[0;34m\u001b[0m\u001b[0m\n\u001b[0m",
      "\u001b[0;32m~/miniconda3/envs/tesis/lib/python3.6/site-packages/tensorflow_core/python/keras/engine/training.py\u001b[0m in \u001b[0;36mfit\u001b[0;34m(self, x, y, batch_size, epochs, verbose, callbacks, validation_split, validation_data, shuffle, class_weight, sample_weight, initial_epoch, steps_per_epoch, validation_steps, validation_freq, max_queue_size, workers, use_multiprocessing, **kwargs)\u001b[0m\n\u001b[1;32m    817\u001b[0m         \u001b[0mmax_queue_size\u001b[0m\u001b[0;34m=\u001b[0m\u001b[0mmax_queue_size\u001b[0m\u001b[0;34m,\u001b[0m\u001b[0;34m\u001b[0m\u001b[0;34m\u001b[0m\u001b[0m\n\u001b[1;32m    818\u001b[0m         \u001b[0mworkers\u001b[0m\u001b[0;34m=\u001b[0m\u001b[0mworkers\u001b[0m\u001b[0;34m,\u001b[0m\u001b[0;34m\u001b[0m\u001b[0;34m\u001b[0m\u001b[0m\n\u001b[0;32m--> 819\u001b[0;31m         use_multiprocessing=use_multiprocessing)\n\u001b[0m\u001b[1;32m    820\u001b[0m \u001b[0;34m\u001b[0m\u001b[0m\n\u001b[1;32m    821\u001b[0m   def evaluate(self,\n",
      "\u001b[0;32m~/miniconda3/envs/tesis/lib/python3.6/site-packages/tensorflow_core/python/keras/engine/training_v2.py\u001b[0m in \u001b[0;36mfit\u001b[0;34m(self, model, x, y, batch_size, epochs, verbose, callbacks, validation_split, validation_data, shuffle, class_weight, sample_weight, initial_epoch, steps_per_epoch, validation_steps, validation_freq, max_queue_size, workers, use_multiprocessing, **kwargs)\u001b[0m\n\u001b[1;32m    340\u001b[0m                 \u001b[0mmode\u001b[0m\u001b[0;34m=\u001b[0m\u001b[0mModeKeys\u001b[0m\u001b[0;34m.\u001b[0m\u001b[0mTRAIN\u001b[0m\u001b[0;34m,\u001b[0m\u001b[0;34m\u001b[0m\u001b[0;34m\u001b[0m\u001b[0m\n\u001b[1;32m    341\u001b[0m                 \u001b[0mtraining_context\u001b[0m\u001b[0;34m=\u001b[0m\u001b[0mtraining_context\u001b[0m\u001b[0;34m,\u001b[0m\u001b[0;34m\u001b[0m\u001b[0;34m\u001b[0m\u001b[0m\n\u001b[0;32m--> 342\u001b[0;31m                 total_epochs=epochs)\n\u001b[0m\u001b[1;32m    343\u001b[0m             \u001b[0mcbks\u001b[0m\u001b[0;34m.\u001b[0m\u001b[0mmake_logs\u001b[0m\u001b[0;34m(\u001b[0m\u001b[0mmodel\u001b[0m\u001b[0;34m,\u001b[0m \u001b[0mepoch_logs\u001b[0m\u001b[0;34m,\u001b[0m \u001b[0mtraining_result\u001b[0m\u001b[0;34m,\u001b[0m \u001b[0mModeKeys\u001b[0m\u001b[0;34m.\u001b[0m\u001b[0mTRAIN\u001b[0m\u001b[0;34m)\u001b[0m\u001b[0;34m\u001b[0m\u001b[0;34m\u001b[0m\u001b[0m\n\u001b[1;32m    344\u001b[0m \u001b[0;34m\u001b[0m\u001b[0m\n",
      "\u001b[0;32m~/miniconda3/envs/tesis/lib/python3.6/site-packages/tensorflow_core/python/keras/engine/training_v2.py\u001b[0m in \u001b[0;36mrun_one_epoch\u001b[0;34m(model, iterator, execution_function, dataset_size, batch_size, strategy, steps_per_epoch, num_samples, mode, training_context, total_epochs)\u001b[0m\n\u001b[1;32m    126\u001b[0m         step=step, mode=mode, size=current_batch_size) as batch_logs:\n\u001b[1;32m    127\u001b[0m       \u001b[0;32mtry\u001b[0m\u001b[0;34m:\u001b[0m\u001b[0;34m\u001b[0m\u001b[0;34m\u001b[0m\u001b[0m\n\u001b[0;32m--> 128\u001b[0;31m         \u001b[0mbatch_outs\u001b[0m \u001b[0;34m=\u001b[0m \u001b[0mexecution_function\u001b[0m\u001b[0;34m(\u001b[0m\u001b[0miterator\u001b[0m\u001b[0;34m)\u001b[0m\u001b[0;34m\u001b[0m\u001b[0;34m\u001b[0m\u001b[0m\n\u001b[0m\u001b[1;32m    129\u001b[0m       \u001b[0;32mexcept\u001b[0m \u001b[0;34m(\u001b[0m\u001b[0mStopIteration\u001b[0m\u001b[0;34m,\u001b[0m \u001b[0merrors\u001b[0m\u001b[0;34m.\u001b[0m\u001b[0mOutOfRangeError\u001b[0m\u001b[0;34m)\u001b[0m\u001b[0;34m:\u001b[0m\u001b[0;34m\u001b[0m\u001b[0;34m\u001b[0m\u001b[0m\n\u001b[1;32m    130\u001b[0m         \u001b[0;31m# TODO(kaftan): File bug about tf function and errors.OutOfRangeError?\u001b[0m\u001b[0;34m\u001b[0m\u001b[0;34m\u001b[0m\u001b[0;34m\u001b[0m\u001b[0m\n",
      "\u001b[0;32m~/miniconda3/envs/tesis/lib/python3.6/site-packages/tensorflow_core/python/keras/engine/training_v2_utils.py\u001b[0m in \u001b[0;36mexecution_function\u001b[0;34m(input_fn)\u001b[0m\n\u001b[1;32m     96\u001b[0m     \u001b[0;31m# `numpy` translates Tensors to values in Eager mode.\u001b[0m\u001b[0;34m\u001b[0m\u001b[0;34m\u001b[0m\u001b[0;34m\u001b[0m\u001b[0m\n\u001b[1;32m     97\u001b[0m     return nest.map_structure(_non_none_constant_value,\n\u001b[0;32m---> 98\u001b[0;31m                               distributed_function(input_fn))\n\u001b[0m\u001b[1;32m     99\u001b[0m \u001b[0;34m\u001b[0m\u001b[0m\n\u001b[1;32m    100\u001b[0m   \u001b[0;32mreturn\u001b[0m \u001b[0mexecution_function\u001b[0m\u001b[0;34m\u001b[0m\u001b[0;34m\u001b[0m\u001b[0m\n",
      "\u001b[0;32m~/miniconda3/envs/tesis/lib/python3.6/site-packages/tensorflow_core/python/eager/def_function.py\u001b[0m in \u001b[0;36m__call__\u001b[0;34m(self, *args, **kwds)\u001b[0m\n\u001b[1;32m    566\u001b[0m         \u001b[0mxla_context\u001b[0m\u001b[0;34m.\u001b[0m\u001b[0mExit\u001b[0m\u001b[0;34m(\u001b[0m\u001b[0;34m)\u001b[0m\u001b[0;34m\u001b[0m\u001b[0;34m\u001b[0m\u001b[0m\n\u001b[1;32m    567\u001b[0m     \u001b[0;32melse\u001b[0m\u001b[0;34m:\u001b[0m\u001b[0;34m\u001b[0m\u001b[0;34m\u001b[0m\u001b[0m\n\u001b[0;32m--> 568\u001b[0;31m       \u001b[0mresult\u001b[0m \u001b[0;34m=\u001b[0m \u001b[0mself\u001b[0m\u001b[0;34m.\u001b[0m\u001b[0m_call\u001b[0m\u001b[0;34m(\u001b[0m\u001b[0;34m*\u001b[0m\u001b[0margs\u001b[0m\u001b[0;34m,\u001b[0m \u001b[0;34m**\u001b[0m\u001b[0mkwds\u001b[0m\u001b[0;34m)\u001b[0m\u001b[0;34m\u001b[0m\u001b[0;34m\u001b[0m\u001b[0m\n\u001b[0m\u001b[1;32m    569\u001b[0m \u001b[0;34m\u001b[0m\u001b[0m\n\u001b[1;32m    570\u001b[0m     \u001b[0;32mif\u001b[0m \u001b[0mtracing_count\u001b[0m \u001b[0;34m==\u001b[0m \u001b[0mself\u001b[0m\u001b[0;34m.\u001b[0m\u001b[0m_get_tracing_count\u001b[0m\u001b[0;34m(\u001b[0m\u001b[0;34m)\u001b[0m\u001b[0;34m:\u001b[0m\u001b[0;34m\u001b[0m\u001b[0;34m\u001b[0m\u001b[0m\n",
      "\u001b[0;32m~/miniconda3/envs/tesis/lib/python3.6/site-packages/tensorflow_core/python/eager/def_function.py\u001b[0m in \u001b[0;36m_call\u001b[0;34m(self, *args, **kwds)\u001b[0m\n\u001b[1;32m    597\u001b[0m       \u001b[0;31m# In this case we have created variables on the first call, so we run the\u001b[0m\u001b[0;34m\u001b[0m\u001b[0;34m\u001b[0m\u001b[0;34m\u001b[0m\u001b[0m\n\u001b[1;32m    598\u001b[0m       \u001b[0;31m# defunned version which is guaranteed to never create variables.\u001b[0m\u001b[0;34m\u001b[0m\u001b[0;34m\u001b[0m\u001b[0;34m\u001b[0m\u001b[0m\n\u001b[0;32m--> 599\u001b[0;31m       \u001b[0;32mreturn\u001b[0m \u001b[0mself\u001b[0m\u001b[0;34m.\u001b[0m\u001b[0m_stateless_fn\u001b[0m\u001b[0;34m(\u001b[0m\u001b[0;34m*\u001b[0m\u001b[0margs\u001b[0m\u001b[0;34m,\u001b[0m \u001b[0;34m**\u001b[0m\u001b[0mkwds\u001b[0m\u001b[0;34m)\u001b[0m  \u001b[0;31m# pylint: disable=not-callable\u001b[0m\u001b[0;34m\u001b[0m\u001b[0;34m\u001b[0m\u001b[0m\n\u001b[0m\u001b[1;32m    600\u001b[0m     \u001b[0;32melif\u001b[0m \u001b[0mself\u001b[0m\u001b[0;34m.\u001b[0m\u001b[0m_stateful_fn\u001b[0m \u001b[0;32mis\u001b[0m \u001b[0;32mnot\u001b[0m \u001b[0;32mNone\u001b[0m\u001b[0;34m:\u001b[0m\u001b[0;34m\u001b[0m\u001b[0;34m\u001b[0m\u001b[0m\n\u001b[1;32m    601\u001b[0m       \u001b[0;31m# Release the lock early so that multiple threads can perform the call\u001b[0m\u001b[0;34m\u001b[0m\u001b[0;34m\u001b[0m\u001b[0;34m\u001b[0m\u001b[0m\n",
      "\u001b[0;32m~/miniconda3/envs/tesis/lib/python3.6/site-packages/tensorflow_core/python/eager/function.py\u001b[0m in \u001b[0;36m__call__\u001b[0;34m(self, *args, **kwargs)\u001b[0m\n\u001b[1;32m   2361\u001b[0m     \u001b[0;32mwith\u001b[0m \u001b[0mself\u001b[0m\u001b[0;34m.\u001b[0m\u001b[0m_lock\u001b[0m\u001b[0;34m:\u001b[0m\u001b[0;34m\u001b[0m\u001b[0;34m\u001b[0m\u001b[0m\n\u001b[1;32m   2362\u001b[0m       \u001b[0mgraph_function\u001b[0m\u001b[0;34m,\u001b[0m \u001b[0margs\u001b[0m\u001b[0;34m,\u001b[0m \u001b[0mkwargs\u001b[0m \u001b[0;34m=\u001b[0m \u001b[0mself\u001b[0m\u001b[0;34m.\u001b[0m\u001b[0m_maybe_define_function\u001b[0m\u001b[0;34m(\u001b[0m\u001b[0margs\u001b[0m\u001b[0;34m,\u001b[0m \u001b[0mkwargs\u001b[0m\u001b[0;34m)\u001b[0m\u001b[0;34m\u001b[0m\u001b[0;34m\u001b[0m\u001b[0m\n\u001b[0;32m-> 2363\u001b[0;31m     \u001b[0;32mreturn\u001b[0m \u001b[0mgraph_function\u001b[0m\u001b[0;34m.\u001b[0m\u001b[0m_filtered_call\u001b[0m\u001b[0;34m(\u001b[0m\u001b[0margs\u001b[0m\u001b[0;34m,\u001b[0m \u001b[0mkwargs\u001b[0m\u001b[0;34m)\u001b[0m  \u001b[0;31m# pylint: disable=protected-access\u001b[0m\u001b[0;34m\u001b[0m\u001b[0;34m\u001b[0m\u001b[0m\n\u001b[0m\u001b[1;32m   2364\u001b[0m \u001b[0;34m\u001b[0m\u001b[0m\n\u001b[1;32m   2365\u001b[0m   \u001b[0;34m@\u001b[0m\u001b[0mproperty\u001b[0m\u001b[0;34m\u001b[0m\u001b[0;34m\u001b[0m\u001b[0m\n",
      "\u001b[0;32m~/miniconda3/envs/tesis/lib/python3.6/site-packages/tensorflow_core/python/eager/function.py\u001b[0m in \u001b[0;36m_filtered_call\u001b[0;34m(self, args, kwargs)\u001b[0m\n\u001b[1;32m   1609\u001b[0m          if isinstance(t, (ops.Tensor,\n\u001b[1;32m   1610\u001b[0m                            resource_variable_ops.BaseResourceVariable))),\n\u001b[0;32m-> 1611\u001b[0;31m         self.captured_inputs)\n\u001b[0m\u001b[1;32m   1612\u001b[0m \u001b[0;34m\u001b[0m\u001b[0m\n\u001b[1;32m   1613\u001b[0m   \u001b[0;32mdef\u001b[0m \u001b[0m_call_flat\u001b[0m\u001b[0;34m(\u001b[0m\u001b[0mself\u001b[0m\u001b[0;34m,\u001b[0m \u001b[0margs\u001b[0m\u001b[0;34m,\u001b[0m \u001b[0mcaptured_inputs\u001b[0m\u001b[0;34m,\u001b[0m \u001b[0mcancellation_manager\u001b[0m\u001b[0;34m=\u001b[0m\u001b[0;32mNone\u001b[0m\u001b[0;34m)\u001b[0m\u001b[0;34m:\u001b[0m\u001b[0;34m\u001b[0m\u001b[0;34m\u001b[0m\u001b[0m\n",
      "\u001b[0;32m~/miniconda3/envs/tesis/lib/python3.6/site-packages/tensorflow_core/python/eager/function.py\u001b[0m in \u001b[0;36m_call_flat\u001b[0;34m(self, args, captured_inputs, cancellation_manager)\u001b[0m\n\u001b[1;32m   1690\u001b[0m       \u001b[0;31m# No tape is watching; skip to running the function.\u001b[0m\u001b[0;34m\u001b[0m\u001b[0;34m\u001b[0m\u001b[0;34m\u001b[0m\u001b[0m\n\u001b[1;32m   1691\u001b[0m       return self._build_call_outputs(self._inference_function.call(\n\u001b[0;32m-> 1692\u001b[0;31m           ctx, args, cancellation_manager=cancellation_manager))\n\u001b[0m\u001b[1;32m   1693\u001b[0m     forward_backward = self._select_forward_and_backward_functions(\n\u001b[1;32m   1694\u001b[0m         \u001b[0margs\u001b[0m\u001b[0;34m,\u001b[0m\u001b[0;34m\u001b[0m\u001b[0;34m\u001b[0m\u001b[0m\n",
      "\u001b[0;32m~/miniconda3/envs/tesis/lib/python3.6/site-packages/tensorflow_core/python/eager/function.py\u001b[0m in \u001b[0;36mcall\u001b[0;34m(self, ctx, args, cancellation_manager)\u001b[0m\n\u001b[1;32m    543\u001b[0m               \u001b[0minputs\u001b[0m\u001b[0;34m=\u001b[0m\u001b[0margs\u001b[0m\u001b[0;34m,\u001b[0m\u001b[0;34m\u001b[0m\u001b[0;34m\u001b[0m\u001b[0m\n\u001b[1;32m    544\u001b[0m               \u001b[0mattrs\u001b[0m\u001b[0;34m=\u001b[0m\u001b[0;34m(\u001b[0m\u001b[0;34m\"executor_type\"\u001b[0m\u001b[0;34m,\u001b[0m \u001b[0mexecutor_type\u001b[0m\u001b[0;34m,\u001b[0m \u001b[0;34m\"config_proto\"\u001b[0m\u001b[0;34m,\u001b[0m \u001b[0mconfig\u001b[0m\u001b[0;34m)\u001b[0m\u001b[0;34m,\u001b[0m\u001b[0;34m\u001b[0m\u001b[0;34m\u001b[0m\u001b[0m\n\u001b[0;32m--> 545\u001b[0;31m               ctx=ctx)\n\u001b[0m\u001b[1;32m    546\u001b[0m         \u001b[0;32melse\u001b[0m\u001b[0;34m:\u001b[0m\u001b[0;34m\u001b[0m\u001b[0;34m\u001b[0m\u001b[0m\n\u001b[1;32m    547\u001b[0m           outputs = execute.execute_with_cancellation(\n",
      "\u001b[0;32m~/miniconda3/envs/tesis/lib/python3.6/site-packages/tensorflow_core/python/eager/execute.py\u001b[0m in \u001b[0;36mquick_execute\u001b[0;34m(op_name, num_outputs, inputs, attrs, ctx, name)\u001b[0m\n\u001b[1;32m     59\u001b[0m     tensors = pywrap_tensorflow.TFE_Py_Execute(ctx._handle, device_name,\n\u001b[1;32m     60\u001b[0m                                                \u001b[0mop_name\u001b[0m\u001b[0;34m,\u001b[0m \u001b[0minputs\u001b[0m\u001b[0;34m,\u001b[0m \u001b[0mattrs\u001b[0m\u001b[0;34m,\u001b[0m\u001b[0;34m\u001b[0m\u001b[0;34m\u001b[0m\u001b[0m\n\u001b[0;32m---> 61\u001b[0;31m                                                num_outputs)\n\u001b[0m\u001b[1;32m     62\u001b[0m   \u001b[0;32mexcept\u001b[0m \u001b[0mcore\u001b[0m\u001b[0;34m.\u001b[0m\u001b[0m_NotOkStatusException\u001b[0m \u001b[0;32mas\u001b[0m \u001b[0me\u001b[0m\u001b[0;34m:\u001b[0m\u001b[0;34m\u001b[0m\u001b[0;34m\u001b[0m\u001b[0m\n\u001b[1;32m     63\u001b[0m     \u001b[0;32mif\u001b[0m \u001b[0mname\u001b[0m \u001b[0;32mis\u001b[0m \u001b[0;32mnot\u001b[0m \u001b[0;32mNone\u001b[0m\u001b[0;34m:\u001b[0m\u001b[0;34m\u001b[0m\u001b[0;34m\u001b[0m\u001b[0m\n",
      "\u001b[0;31mKeyboardInterrupt\u001b[0m: "
     ]
    }
   ],
   "source": [
    "history = model.fit(train_dataset, epochs=10,validation_data=val_dataset)"
   ]
  },
  {
   "cell_type": "code",
   "execution_count": 15,
   "metadata": {},
   "outputs": [],
   "source": [
    "model.save_weights('/home/sergio/Documents/models_saved/pesos_prueba')"
   ]
  },
  {
   "cell_type": "code",
   "execution_count": 33,
   "metadata": {},
   "outputs": [
    {
     "name": "stdout",
     "output_type": "stream",
     "text": [
      "Se redimensiona la salida de la CNN a: (None, 338, 5)\n",
      "Se redimensiona la salida de la CNN a: (None, 1352, 5)\n",
      "Se redimensiona la salida de la CNN a: (None, 338, 5)\n",
      "Se redimensiona la salida de la CNN a: (None, 1352, 5)\n",
      "Se redimensiona la salida de la CNN a: (None, 338, 5)\n",
      "Se redimensiona la salida de la CNN a: (None, 1352, 5)\n",
      "Se redimensiona la salida de la CNN a: (None, 338, 5)\n",
      "Se redimensiona la salida de la CNN a: (None, 1352, 5)\n",
      "Se redimensiona la salida de la CNN a: (None, 338, 5)\n",
      "Se redimensiona la salida de la CNN a: (None, 1352, 5)\n",
      "INFO:tensorflow:Assets written to: /home/sergio/Documents/models_saved/modelo_prueba/assets\n"
     ]
    }
   ],
   "source": [
    "model_save_path = \"/home/sergio/Documents/models_saved/modelo_prueba\"\n",
    "#tf.keras.models.save_model(model, model_save_path, include_optimizer=True)\n",
    "tf.saved_model.save(model, model_save_path)"
   ]
  },
  {
   "cell_type": "code",
   "execution_count": 35,
   "metadata": {},
   "outputs": [],
   "source": [
    "#tf.TensorSpec(shape=(None, 416, 416, 3), dtype=tf.float32, name='inputs')\n",
    "#,\"loss_xy\":loss_xy,\"loss_wh\":loss_wh,\"loss_objectness\":loss_objectness,\"loss_no_objectness\":loss_no_objectness\n",
    "#custom_objects = {\"TinyYOLOv3\":TinyYOLOv3,\"BasicBlock\":BasicBlock,\"PredictionLayer\":PredictionLayer,\"losses\":losses}\n",
    "custom_objects = {\"loss_xy\":loss_xy,\"loss_wh\":loss_wh,\"loss_objectness\":loss_objectness,\"loss_no_objectness\":loss_no_objectness} \n",
    "\n",
    "new_model = tf.keras.models.load_model(filepath='/home/sergio/Documents/models_saved/modelo_prueba',custom_objects=custom_objects,compile=False)"
   ]
  },
  {
   "cell_type": "code",
   "execution_count": 38,
   "metadata": {},
   "outputs": [
    {
     "ename": "AttributeError",
     "evalue": "'TinyYOLOv3' object has no attribute 'sample_weight_mode'",
     "output_type": "error",
     "traceback": [
      "\u001b[0;31m---------------------------------------------------------------------------\u001b[0m",
      "\u001b[0;31mAttributeError\u001b[0m                            Traceback (most recent call last)",
      "\u001b[0;32m<ipython-input-38-922e5c345333>\u001b[0m in \u001b[0;36m<module>\u001b[0;34m\u001b[0m\n\u001b[0;32m----> 1\u001b[0;31m \u001b[0mhistory\u001b[0m \u001b[0;34m=\u001b[0m \u001b[0mnew_model\u001b[0m\u001b[0;34m.\u001b[0m\u001b[0mfit\u001b[0m\u001b[0;34m(\u001b[0m\u001b[0mtrain_dataset\u001b[0m\u001b[0;34m,\u001b[0m \u001b[0mepochs\u001b[0m\u001b[0;34m=\u001b[0m\u001b[0;36m10\u001b[0m\u001b[0;34m,\u001b[0m\u001b[0mvalidation_data\u001b[0m\u001b[0;34m=\u001b[0m\u001b[0mval_dataset\u001b[0m\u001b[0;34m)\u001b[0m\u001b[0;34m\u001b[0m\u001b[0;34m\u001b[0m\u001b[0m\n\u001b[0m",
      "\u001b[0;32m~/miniconda3/envs/tesis/lib/python3.6/site-packages/tensorflow_core/python/keras/engine/training.py\u001b[0m in \u001b[0;36mfit\u001b[0;34m(self, x, y, batch_size, epochs, verbose, callbacks, validation_split, validation_data, shuffle, class_weight, sample_weight, initial_epoch, steps_per_epoch, validation_steps, validation_freq, max_queue_size, workers, use_multiprocessing, **kwargs)\u001b[0m\n\u001b[1;32m    817\u001b[0m         \u001b[0mmax_queue_size\u001b[0m\u001b[0;34m=\u001b[0m\u001b[0mmax_queue_size\u001b[0m\u001b[0;34m,\u001b[0m\u001b[0;34m\u001b[0m\u001b[0;34m\u001b[0m\u001b[0m\n\u001b[1;32m    818\u001b[0m         \u001b[0mworkers\u001b[0m\u001b[0;34m=\u001b[0m\u001b[0mworkers\u001b[0m\u001b[0;34m,\u001b[0m\u001b[0;34m\u001b[0m\u001b[0;34m\u001b[0m\u001b[0m\n\u001b[0;32m--> 819\u001b[0;31m         use_multiprocessing=use_multiprocessing)\n\u001b[0m\u001b[1;32m    820\u001b[0m \u001b[0;34m\u001b[0m\u001b[0m\n\u001b[1;32m    821\u001b[0m   def evaluate(self,\n",
      "\u001b[0;32m~/miniconda3/envs/tesis/lib/python3.6/site-packages/tensorflow_core/python/keras/engine/training_v2.py\u001b[0m in \u001b[0;36mfit\u001b[0;34m(self, model, x, y, batch_size, epochs, verbose, callbacks, validation_split, validation_data, shuffle, class_weight, sample_weight, initial_epoch, steps_per_epoch, validation_steps, validation_freq, max_queue_size, workers, use_multiprocessing, **kwargs)\u001b[0m\n\u001b[1;32m    233\u001b[0m           \u001b[0mmax_queue_size\u001b[0m\u001b[0;34m=\u001b[0m\u001b[0mmax_queue_size\u001b[0m\u001b[0;34m,\u001b[0m\u001b[0;34m\u001b[0m\u001b[0;34m\u001b[0m\u001b[0m\n\u001b[1;32m    234\u001b[0m           \u001b[0mworkers\u001b[0m\u001b[0;34m=\u001b[0m\u001b[0mworkers\u001b[0m\u001b[0;34m,\u001b[0m\u001b[0;34m\u001b[0m\u001b[0;34m\u001b[0m\u001b[0m\n\u001b[0;32m--> 235\u001b[0;31m           use_multiprocessing=use_multiprocessing)\n\u001b[0m\u001b[1;32m    236\u001b[0m \u001b[0;34m\u001b[0m\u001b[0m\n\u001b[1;32m    237\u001b[0m       \u001b[0mtotal_samples\u001b[0m \u001b[0;34m=\u001b[0m \u001b[0m_get_total_number_of_samples\u001b[0m\u001b[0;34m(\u001b[0m\u001b[0mtraining_data_adapter\u001b[0m\u001b[0;34m)\u001b[0m\u001b[0;34m\u001b[0m\u001b[0;34m\u001b[0m\u001b[0m\n",
      "\u001b[0;32m~/miniconda3/envs/tesis/lib/python3.6/site-packages/tensorflow_core/python/keras/engine/training_v2.py\u001b[0m in \u001b[0;36m_process_training_inputs\u001b[0;34m(model, x, y, batch_size, epochs, sample_weights, class_weights, steps_per_epoch, validation_split, validation_data, validation_steps, shuffle, distribution_strategy, max_queue_size, workers, use_multiprocessing)\u001b[0m\n\u001b[1;32m    591\u001b[0m         \u001b[0mmax_queue_size\u001b[0m\u001b[0;34m=\u001b[0m\u001b[0mmax_queue_size\u001b[0m\u001b[0;34m,\u001b[0m\u001b[0;34m\u001b[0m\u001b[0;34m\u001b[0m\u001b[0m\n\u001b[1;32m    592\u001b[0m         \u001b[0mworkers\u001b[0m\u001b[0;34m=\u001b[0m\u001b[0mworkers\u001b[0m\u001b[0;34m,\u001b[0m\u001b[0;34m\u001b[0m\u001b[0;34m\u001b[0m\u001b[0m\n\u001b[0;32m--> 593\u001b[0;31m         use_multiprocessing=use_multiprocessing)\n\u001b[0m\u001b[1;32m    594\u001b[0m     \u001b[0mval_adapter\u001b[0m \u001b[0;34m=\u001b[0m \u001b[0;32mNone\u001b[0m\u001b[0;34m\u001b[0m\u001b[0;34m\u001b[0m\u001b[0m\n\u001b[1;32m    595\u001b[0m     \u001b[0;32mif\u001b[0m \u001b[0mvalidation_data\u001b[0m\u001b[0;34m:\u001b[0m\u001b[0;34m\u001b[0m\u001b[0;34m\u001b[0m\u001b[0m\n",
      "\u001b[0;32m~/miniconda3/envs/tesis/lib/python3.6/site-packages/tensorflow_core/python/keras/engine/training_v2.py\u001b[0m in \u001b[0;36m_process_inputs\u001b[0;34m(model, mode, x, y, batch_size, epochs, sample_weights, class_weights, shuffle, steps, distribution_strategy, max_queue_size, workers, use_multiprocessing)\u001b[0m\n\u001b[1;32m    689\u001b[0m     sample_weight_modes = [\n\u001b[1;32m    690\u001b[0m         \u001b[0me\u001b[0m\u001b[0;34m.\u001b[0m\u001b[0msample_weight_mode\u001b[0m \u001b[0;32mfor\u001b[0m \u001b[0me\u001b[0m \u001b[0;32min\u001b[0m \u001b[0mmodel\u001b[0m\u001b[0;34m.\u001b[0m\u001b[0m_training_endpoints\u001b[0m\u001b[0;34m\u001b[0m\u001b[0;34m\u001b[0m\u001b[0m\n\u001b[0;32m--> 691\u001b[0;31m     ] or model.sample_weight_mode\n\u001b[0m\u001b[1;32m    692\u001b[0m \u001b[0;34m\u001b[0m\u001b[0m\n\u001b[1;32m    693\u001b[0m   adapter = adapter_cls(\n",
      "\u001b[0;31mAttributeError\u001b[0m: 'TinyYOLOv3' object has no attribute 'sample_weight_mode'"
     ]
    }
   ],
   "source": [
    "history = new_model.fit(train_dataset, epochs=10,validation_data=val_dataset)"
   ]
  },
  {
   "cell_type": "code",
   "execution_count": 54,
   "metadata": {},
   "outputs": [],
   "source": [
    "opt = tf.keras.optimizers.Nadam(learning_rate=0.001)"
   ]
  },
  {
   "cell_type": "code",
   "execution_count": 55,
   "metadata": {},
   "outputs": [],
   "source": [
    "checkpoint = tf.train.Checkpoint(optimizer=opt)"
   ]
  },
  {
   "cell_type": "code",
   "execution_count": 56,
   "metadata": {},
   "outputs": [
    {
     "data": {
      "text/plain": [
       "'/home/sergio/Documents/optimizers_saved/ckpt-1'"
      ]
     },
     "execution_count": 56,
     "metadata": {},
     "output_type": "execute_result"
    }
   ],
   "source": [
    "checkpoint_directory = \"/home/sergio/Documents/optimizers_saved\"\n",
    "checkpoint_prefix = os.path.join(checkpoint_directory, \"ckpt\")\n",
    "\n",
    "checkpoint.save(file_prefix=checkpoint_prefix)"
   ]
  },
  {
   "cell_type": "code",
   "execution_count": null,
   "metadata": {},
   "outputs": [],
   "source": []
  }
 ],
 "metadata": {
  "kernelspec": {
   "display_name": "Python 3",
   "language": "python",
   "name": "python3"
  },
  "language_info": {
   "codemirror_mode": {
    "name": "ipython",
    "version": 3
   },
   "file_extension": ".py",
   "mimetype": "text/x-python",
   "name": "python",
   "nbconvert_exporter": "python",
   "pygments_lexer": "ipython3",
   "version": "3.6.10"
  }
 },
 "nbformat": 4,
 "nbformat_minor": 4
}
