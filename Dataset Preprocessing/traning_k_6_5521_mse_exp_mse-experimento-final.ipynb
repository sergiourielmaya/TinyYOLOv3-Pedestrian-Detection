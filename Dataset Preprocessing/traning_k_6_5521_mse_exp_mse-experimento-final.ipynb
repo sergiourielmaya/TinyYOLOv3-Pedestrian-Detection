{
 "cells": [
  {
   "cell_type": "code",
   "execution_count": 1,
   "metadata": {},
   "outputs": [],
   "source": [
    "root_path = \"/tf/home/sergio/Tesis\""
   ]
  },
  {
   "cell_type": "code",
   "execution_count": 2,
   "metadata": {},
   "outputs": [],
   "source": [
    "import sys\n",
    "sys.path.append(root_path+\"/TinyYOLOv3-Pedestrian-Detection\")\n",
    "\n",
    "from YOLOblocks import TinyYOLOv3,BasicBlock,PredictionLayer#,YOLOLossBasicBlock\n",
    "import numpy as np\n",
    "import matplotlib.pyplot as plt\n",
    "import tensorflow as tf\n",
    "#from tensorflow.python.tools import freeze_graph\n",
    "#from skimage.io import imread,imshow\n",
    "#from skimage.transform import resize \n",
    "import time\n",
    "#from tensorflow.compat.v1.image import decode_image\n",
    "import imgaug.augmenters as iaa\n",
    "from imgaug.augmentables.bbs import BoundingBox, BoundingBoxesOnImage\n",
    "import os"
   ]
  },
  {
   "cell_type": "markdown",
   "metadata": {},
   "source": [
    "## Dataset preparation"
   ]
  },
  {
   "cell_type": "code",
   "execution_count": 3,
   "metadata": {},
   "outputs": [],
   "source": [
    "image_feature_description = {\n",
    "    'bboxes': tf.io.FixedLenFeature([], tf.string),\n",
    "    'image_raw': tf.io.FixedLenFeature([], tf.string),\n",
    "    'num_real_boxes':tf.io.FixedLenFeature([], tf.int64),\n",
    "}"
   ]
  },
  {
   "cell_type": "code",
   "execution_count": 4,
   "metadata": {},
   "outputs": [],
   "source": [
    "def get_iou_matrix_tf(box_arr1, box_arr2):\n",
    "    \n",
    "    box_arr1 = box_arr1 -tf.tile(box_arr1[:,:2],[1,2])\n",
    "    #print(box_arr1)\n",
    "    x11, y11, x12, y12 = tf.split(box_arr1, 4, axis=1)\n",
    "    x21, y21, x22, y22 = tf.split(box_arr2, 4, axis=1)\n",
    "    xA = tf.maximum(x11, tf.transpose(x21))\n",
    "    yA = tf.maximum(y11, tf.transpose(y21))\n",
    "    xB = tf.minimum(x12, tf.transpose(x22))\n",
    "    yB = tf.minimum(y12, tf.transpose(y22))\n",
    "    interArea = tf.maximum((xB - xA + 1e-9), 0) * tf.maximum((yB - yA + 1e-9), 0)\n",
    "    boxAArea = (x12 - x11 + 1e-9) * (y12 - y11 + 1e-9)\n",
    "    boxBArea = (x22 - x21 + 1e-9) * (y22 - y21 + 1e-9)\n",
    "    iou = interArea / (boxAArea + tf.transpose(boxBArea) - interArea)\n",
    "    return iou,tf.argmax(iou,axis=1)#[:,tf.newaxis]\n",
    "\n",
    "\n",
    "def fill_yolo_output(boxes,grid_size,num_anchors,which_anchor_box,which_anchor_box_index):\n",
    "    #print(boxes.shape)\n",
    "    #noobj_mask = tf.ones((1,grid_size*grid_size*num_anchors))\n",
    "    #print(noobj_mask.shape)\n",
    "    \n",
    "    x_min,y_min,x_max,y_max =tf.split(boxes,4,axis=1)\n",
    "\n",
    "    #Transforma las coordenadas de (xmin,ymin,xmax,ymax) --> (xcenter,ycenter,width,height)\n",
    "    width = x_max-x_min\n",
    "    height = y_max-y_min\n",
    "    x_global =x_min + tf.math.divide(x_max - x_min,2)\n",
    "    y_global =y_min + tf.math.divide(y_max - y_min,2)\n",
    "    \n",
    "    \n",
    "    x_min_anchor,y_min_anchor,x_max_anchor,y_max_anchor =tf.split(which_anchor_box,4,axis=1)\n",
    "    \n",
    "    width_anchor = x_max_anchor-x_min_anchor\n",
    "    height_anchor = y_max_anchor-y_min_anchor\n",
    "    x_global_anchor =x_min_anchor + tf.math.divide(x_max_anchor - x_min_anchor,2)\n",
    "    y_global_anchor =y_min_anchor + tf.math.divide(y_max_anchor - y_min_anchor,2)   \n",
    "\n",
    "    \n",
    "    #print(\"el x original\",x_global)\n",
    "    #print(\"el y original\",y_global)\n",
    "    #print(\"el w original\",width)\n",
    "    #print(\"el h original\",height)\n",
    "    \n",
    "    #porción de la imagen que hay en cada celda\n",
    "    pixel_per_grid = tf.math.divide(1.,grid_size)\n",
    "    #print(pixel_per_grid)\n",
    "    \n",
    "    #Obtenemos la coordenada de la celda donde están los boundingboxes\n",
    "    offset_grid_x = x_global//pixel_per_grid\n",
    "    offset_grid_y = y_global//pixel_per_grid\n",
    "    \n",
    "    #Obtenemos el el centro locacon referencia  al celda encontrada previamente\n",
    "    x_local =tf.math.floormod(x_global,pixel_per_grid)\n",
    "    y_local =tf.math.floormod(y_global,pixel_per_grid)\n",
    "    #print(x_local,y_local)\n",
    "    \n",
    "    #Valores tx e ty del groudtruth\n",
    "    tx = tf.math.log(x_local + 1e-07/(1-x_local))\n",
    "    ty = tf.math.log(y_local+1e-07/(1-y_local))\n",
    "    tw = tf.math.log(tf.math.divide(width+1e-07,width_anchor))\n",
    "    th = tf.math.log(tf.math.divide(height+1e-07,height_anchor))\n",
    "    tobj_mask = tf.ones_like(tx)\n",
    "    tobj = tf.concat([tobj_mask,tobj_mask],axis=0)\n",
    "    \n",
    "    #tnoobj = tf.zeros_like(tx)    \n",
    "    #tobj = tf.ones((grid_size*grid_size*num_anchors,1))\n",
    "    #tnoobj = tf.zeros((grid_size*grid_size*num_anchors,1))\n",
    "    #print(\"Lo que la red debe predecir\",tx.numpy(),ty.numpy(),tw.numpy(),th.numpy())\n",
    "    #x_global = (offset_grid_x * pixel_per_grid) + tf.math.sigmoid(tx)\n",
    "    #y_global = (offset_grid_y * pixel_per_grid) + tf.math.sigmoid(ty)\n",
    "    #w = width_anchor*tf.math.exp(tw)\n",
    "    #h = height_anchor*tf.math.exp(th)\n",
    "    #print(\"obtnemos el x_real\",x_global)\n",
    "    #print(\"obtenemos el y_real\",y_global)\n",
    "    #print(\"obtenemos el w real\",w)\n",
    "    #print(\"obtenemos el h real\",h)\n",
    "    \n",
    "    #anchor_boxes_per_output = num_anchors//2\n",
    "\n",
    "    #Residuo indica cual de los 3 anchor boxes de la coordenada es la que llevara el 1\n",
    "    #Coord representa la coordenada del grid\n",
    "    \n",
    "    residuo = tf.math.floormod(which_anchor_box_index,num_anchors)[:,tf.newaxis]\n",
    "    coord = tf.cast(num_anchors*(offset_grid_y*grid_size + offset_grid_x),dtype=tf.int64)\n",
    "    \n",
    "    coord_objectness = tf.cast(2*(offset_grid_y*grid_size + offset_grid_x),dtype=tf.int64)\n",
    "    coord_objectness2 = coord_objectness+1\n",
    "    coord_objectess_global = tf.concat([coord_objectness,coord_objectness2],axis=0)\n",
    "    \n",
    "    output_position = residuo+coord\n",
    "    print(\"tipo de aoutput_positivon\",output_position)\n",
    "    \n",
    "    print(output_position)\n",
    "    \n",
    "    dense_shape = grid_size*grid_size*num_anchors\n",
    "    print(dense_shape)\n",
    "    tx_vector = tf.sparse.reorder(tf.sparse.SparseTensor(indices=output_position, values=tx[:,0], dense_shape=[dense_shape]))\n",
    "    ty_vector = tf.sparse.reorder(tf.sparse.SparseTensor(indices=output_position, values=ty[:,0], dense_shape=[dense_shape]))\n",
    "    tw_vector = tf.sparse.reorder(tf.sparse.SparseTensor(indices=output_position, values=tw[:,0], dense_shape=[dense_shape]))\n",
    "    th_vector = tf.sparse.reorder(tf.sparse.SparseTensor(indices=output_position, values=th[:,0], dense_shape=[dense_shape]))\n",
    "    obj_mask = tf.sparse.reorder(tf.sparse.SparseTensor(indices=output_position, values=tobj_mask[:,0], dense_shape=[dense_shape]))\n",
    "    objectness_vector = tf.sparse.reorder(tf.sparse.SparseTensor(indices=coord_objectess_global, values=tobj[:,0], dense_shape=[dense_shape]))\n",
    "    #noobj_mask = tf.sparse.reorder(tf.sparse.SparseTensor(indices=output_position, values=tnoobj[:,0], dense_shape=[dense_shape]))\n",
    "    #obj_mask =tx_vector=ty_vector=tw_vector=th_vector = tf.zeros((1,grid_size*grid_size*num_anchors))\n",
    "    \n",
    "    tx_vector_dense = tf.sparse.to_dense(tx_vector, default_value=0, validate_indices=False, name=\"Dense_tx\")\n",
    "    ty_vector_dense = tf.sparse.to_dense(ty_vector, default_value=0, validate_indices=False, name=\"Dense_ty\")\n",
    "    tw_vector_dense = tf.sparse.to_dense(tw_vector, default_value=0, validate_indices=False, name=\"Dense_tw\")\n",
    "    th_vector_dense = tf.sparse.to_dense(th_vector, default_value=0, validate_indices=False, name=\"Dense_th\")\n",
    "    obj_mask_dense =  tf.sparse.to_dense(obj_mask, default_value=0, validate_indices=False, name=\"Dense_obj\")\n",
    "    #noobj_mask_dense = 1-obj_mask_dense\n",
    "    objectness_vector_dense =  tf.sparse.to_dense(objectness_vector, default_value=0, validate_indices=False)\n",
    "    \n",
    "    #noobj_mask_dense= tf.sparse.to_dense(noobj_mask, default_value=1, validate_indices=False, name=\"Dense_noobj\")\n",
    "    ##print(tx_vector.to_dense)\n",
    "    #print(tf.sparse.to_dense(tx_vector, default_value=0, validate_indices=True, name=None)\n",
    "    #tx_vector=tx_vector[[3,2],]\n",
    "    #tx_vector[output_position[:,0]] = tx\n",
    "    #print(\"coordenada de la salida:\",output_position)\n",
    "    \n",
    "    #return ((tx_vector_dense,ty_vector_dense,obj_mask_dense),(tw_vector_dense,th_vector_dense,obj_mask_dense),(objectness),(objectness))\n",
    "    \n",
    "    return tx_vector_dense,ty_vector_dense,tw_vector_dense,th_vector_dense,obj_mask_dense,objectness_vector_dense\n",
    "\n",
    "def build_targets(image,image_bboxes,num_real_boxes,anchor_boxes):\n",
    "    \n",
    "    images_bboxes_original = image_bboxes\n",
    "    #Obtenemos los boduing boxes que son reales\n",
    "    image_bboxes = image_bboxes[:num_real_boxes,:]\n",
    "    #print(\"Bouding boxes de la imagen\",image_bboxes)\n",
    "    #Obteneos  la matriz de IoU , y el índice del anchor box que dió mejor resultado\n",
    "    \n",
    "    #Nprmalizamos con respecto al tamaño de la imagen y obtenemos la Iou con los anchor boxes\n",
    "    image_bboxes = tf.math.divide(image_bboxes,416)\n",
    "    iou_matrix,which_anchor_box_index = get_iou_matrix_tf(image_bboxes,anchor_boxes)\n",
    "    \n",
    "    print(which_anchor_box_index)\n",
    "\n",
    "    anchor_boxes_per_output = len(anchor_boxes)//2\n",
    "    #Indices de los bouding boxes que irian en cada salida, index_best_ yolo nos dice que bouding boxes de la imagen van a la salida YOLO1,\n",
    "    #porque su mejor IoU fue con los len(anchor_boxes)//2 anchor boxes mas grandes\n",
    "    index_best_yolo1 = tf.where(which_anchor_box_index>=anchor_boxes_per_output)[:,0]\n",
    "    index_best_yolo2 = tf.where(which_anchor_box_index<anchor_boxes_per_output)[:,0]\n",
    "    index_best_anchor_yolo1 = tf.gather(which_anchor_box_index,index_best_yolo1,axis=0)\n",
    "    index_best_anchor_yolo2 = tf.gather(which_anchor_box_index,index_best_yolo2,axis=0)\n",
    "    \n",
    "    print(index_best_yolo1)\n",
    "    print(index_best_anchor_yolo1)\n",
    "\n",
    "    print(index_best_yolo2)\n",
    "    print(index_best_anchor_yolo2)\n",
    "\n",
    "    \n",
    "    best_bboxes_yolo1 = tf.gather(image_bboxes,index_best_yolo1,axis =0)\n",
    "    best_anchors_yolo1 = tf.gather(anchor_boxes,index_best_anchor_yolo1, axis =0) #LOs dos anchor boxes grandes corrsponden a YOLO1\n",
    "    best_bboxes_yolo2 = tf.gather(image_bboxes,index_best_yolo2,axis =0)\n",
    "    best_anchors_yolo2 = tf.gather(anchor_boxes,index_best_anchor_yolo2, axis =0) #Los dos anchor boxes pequeños corresponden a YOLO2\n",
    "    \n",
    "    \n",
    "    if best_anchors_yolo1.shape[0] !=0:\n",
    "        tx_vector_yolo1,ty_vector_yolo1,tw_vector_yolo1,th_vector_yolo1,obj_mask_yolo1,obj_vector_yolo1= fill_yolo_output(best_bboxes_yolo1,13,anchor_boxes_per_output,best_anchors_yolo1,index_best_anchor_yolo1)\n",
    "    else:\n",
    "        tx_vector_yolo1=ty_vector_yolo1=tw_vector_yolo1=th_vector_yolo1=obj_mask_yolo1= obj_vector_yolo1=tf.zeros((1,grid_size*grid_size*num_anchors))\n",
    "        #noobj_mask_yolo1 = tf.ones((1,13*13*num_anchors))\n",
    "    \n",
    "    if best_anchors_yolo2.shape[0] != 0:\n",
    "        tx_vector_yolo2,ty_vector_yolo2,tw_vector_yolo2,th_vector_yolo2,obj_mask_yolo2,obj_vector_yolo2 = fill_yolo_output(best_bboxes_yolo2,26,anchor_boxes_per_output,best_anchors_yolo2,index_best_anchor_yolo2)\n",
    "    else:\n",
    "        tx_vector_yolo2=ty_vector_yolo2=tw_vector_yolo2=th_vector_yolo2=obj_mask_yolo2 = obj_vector_yolo2=tf.zeros((1,grid_size*grid_size*num_anchors))\n",
    "        #noobj_mask_yolo2 = tf.ones((1,26*26*num_anchors))\n",
    "        \n",
    "    tx_vector = tf.concat([tx_vector_yolo1,tx_vector_yolo2],axis=0)[:,tf.newaxis]\n",
    "    ty_vector = tf.concat([ty_vector_yolo1,ty_vector_yolo2],axis=0)[:,tf.newaxis]\n",
    "    tw_vector = tf.concat([tw_vector_yolo1,tw_vector_yolo2],axis=0)[:,tf.newaxis]\n",
    "    th_vector = tf.concat([th_vector_yolo1,th_vector_yolo2],axis=0)[:,tf.newaxis]\n",
    "    obj_mask = tf.concat([obj_mask_yolo1,obj_mask_yolo2],axis=0)[:,tf.newaxis]\n",
    "    #noobj_mask = tf.concat([noobj_mask_yolo1,noobj_mask_yolo2],axis=0)[:,tf.newaxis]\n",
    "    obj_vector = tf.concat([obj_vector_yolo1,obj_vector_yolo2],axis=0)[:,tf.newaxis]\n",
    "    \n",
    "    #output = tf.concat([tx_vector,ty_vector,tw_vector,th_vector,obj_mask,noobj_mask,obj_vector],axis=1)\n",
    "    #images_bboxes_original\n",
    "    #return image,output\n",
    "    #Vamos a regresar obj mask que es 1 cuando hay objeto en grid y el anchor box especifico\n",
    "    return tf.cast(image,tf.float32)/255,(tf.concat([tx_vector,ty_vector,obj_mask],axis=1),tf.concat([tw_vector,th_vector,obj_mask],axis=1),(obj_mask),(obj_mask))\n",
    "\n",
    "def imgaug_data_augmentation(image,bboxes,num_real_boxes):\n",
    "    im_shape = image.shape\n",
    "    bbs = BoundingBoxesOnImage.from_xyxy_array(bboxes*416, shape=(416,416))\n",
    "    \n",
    "    policy = np.random.randint(5)\n",
    "    \n",
    "    #policy = 2\n",
    "    if policy == 0:\n",
    "        \n",
    "        p = np.random.random()\n",
    "        if p<=0.6:\n",
    "            aug = iaa.TranslateX(px=(-60, 60),cval=128)\n",
    "            image, bbs = aug(image=image, bounding_boxes=bbs)\n",
    "            #bbs.remove_out_of_image().clip_out_of_image()\n",
    "    \n",
    "        p = np.random.random()\n",
    "        if p<=0.8:\n",
    "            aug = iaa.HistogramEqualization()\n",
    "            image, bbs = aug(image=image, bounding_boxes=bbs)\n",
    "            #bbs.remove_out_of_image().clip_out_of_image()\n",
    "    \n",
    "    elif policy==1:\n",
    "        \n",
    "        p=np.random.random()\n",
    "        if p<=0.2:\n",
    "            aug = iaa.TranslateY(px=(int(-0.18*416), int(0.18*416)),cval=128)\n",
    "            for i in bbs.to_xyxy_array(np.int32)[:num_real_boxes,:]:\n",
    "                bbox = image[i[1]:i[3],i[0]:i[2]]\n",
    "                bbox_augmented = aug(image=bbox)\n",
    "                image[i[1]:i[3],i[0]:i[2]] = bbox_augmented\n",
    "        \n",
    "        p=np.random.random()\n",
    "        if p<=0.8:\n",
    "            square_size = np.random.randint(48)\n",
    "            aug = iaa.Cutout(nb_iterations=1, size=square_size/416, squared=True)\n",
    "            image, bbs = aug(image=image, bounding_boxes=bbs)\n",
    "            #bbs.remove_out_of_image().clip_out_of_image()\n",
    "            \n",
    "    elif policy==2:\n",
    "        p=np.random.random()\n",
    "        if p<=1:\n",
    "            aug = iaa.ShearY(shear=(int(-0.06*416), int(0.06*416)), order=1, cval=128)\n",
    "            image, bbs = aug(image=image, bounding_boxes=bbs)\n",
    "            #bbs.remove_out_of_image().clip_out_of_image()\n",
    "            \n",
    "        p=np.random.random()\n",
    "        if p<=0.6:\n",
    "            aug = iaa.TranslateY(px=(int(-0.18*416), int(0.18*416)),cval=128)\n",
    "            for i in bbs.to_xyxy_array(np.int32)[:num_real_boxes,:]:\n",
    "                bbox = image[i[1]:i[3],i[0]:i[2]]\n",
    "                bbox_augmented = aug(image=bbox)\n",
    "                image[i[1]:i[3],i[0]:i[2]] = bbox_augmented\n",
    "            \n",
    "    elif policy==3:\n",
    "        p=np.random.random()\n",
    "        if p<=0.6:    \n",
    "            aug = iaa.Rotate(rotate=(-30, 30), order=1, cval=128)\n",
    "            image, bbs = aug(image=image, bounding_boxes=bbs)\n",
    "            #bbs_aug.remove_out_of_image().clip_out_of_image()\n",
    "        \n",
    "        p=np.random.random()\n",
    "        if p<=1:\n",
    "            aug = iaa.MultiplySaturation((0.54, 1.54))\n",
    "            image, bbs = aug(image=image, bounding_boxes=bbs)\n",
    "            #bbs.remove_out_of_image().clip_out_of_image()\n",
    "            \n",
    "    bbs.remove_out_of_image()\n",
    "    \n",
    "    return image,np.clip(bbs.to_xyxy_array(np.float32),1,415),num_real_boxes\n",
    "    \n",
    "    \n",
    "def preprocessing(example_proto):\n",
    "    image_features = tf.io.parse_single_example(example_proto, image_feature_description)\n",
    "    image = tf.image.decode_jpeg(image_features['image_raw'],channels = 3)\n",
    "    image = tf.cast(tf.image.resize(image,size=(416,416)), tf.uint8)\n",
    "    bboxes =  tf.io.parse_tensor(image_features['bboxes'], out_type=tf.float32)\n",
    "    \n",
    "    num_real_boxes = image_features['num_real_boxes']\n",
    "    return image,bboxes,num_real_boxes\n",
    "\n",
    "def preprocessing_validation_set(example_proto):\n",
    "    image_features = tf.io.parse_single_example(example_proto, image_feature_description)\n",
    "    image = tf.image.decode_jpeg(image_features['image_raw'],channels = 3)\n",
    "    image = tf.cast(tf.image.resize(image,size=(416,416)), tf.uint8)\n",
    "    bboxes =  tf.io.parse_tensor(image_features['bboxes'], out_type=tf.float32)\n",
    "    bboxes = tf.clip_by_value(bboxes*416,1,415)\n",
    "    \n",
    "    num_real_boxes = image_features['num_real_boxes']\n",
    "    return image,bboxes,tf.cast(num_real_boxes,tf.int64)\n",
    "    \n",
    "@tf.function(input_signature=[tf.TensorSpec((416,416,3), tf.uint8),tf.TensorSpec((None,4), tf.float32),tf.TensorSpec((), tf.int64)]) \n",
    "def tf_numpy_albumentations_real(image,bboxes,num_real_boxes):\n",
    "    \n",
    "    boxes_shape = bboxes.shape\n",
    "    im_shape = image.shape\n",
    "\n",
    "    image,bboxes,num_real_boxes = tf.numpy_function(imgaug_data_augmentation,[image,bboxes,num_real_boxes],Tout =[tf.uint8,tf.float32,tf.int64])\n",
    " \n",
    "    image.set_shape(im_shape)\n",
    "    bboxes.set_shape(boxes_shape)\n",
    "    print(\"Imagen data type\",image.dtype)\n",
    "    print(\"Bboxes data type\",bboxes.dtype)\n",
    "    print(\"num_real_boxes\",num_real_boxes.dtype)\n",
    "\n",
    "    return image,bboxes,num_real_boxes"
   ]
  },
  {
   "cell_type": "code",
   "execution_count": null,
   "metadata": {},
   "outputs": [],
   "source": []
  },
  {
   "cell_type": "code",
   "execution_count": 5,
   "metadata": {},
   "outputs": [
    {
     "name": "stdout",
     "output_type": "stream",
     "text": [
      "Tensor(\"ArgMax:0\", dtype=int64)\n",
      "Tensor(\"strided_slice_2:0\", shape=(None,), dtype=int64)\n",
      "Tensor(\"GatherV2:0\", dtype=int64)\n",
      "Tensor(\"strided_slice_3:0\", shape=(None,), dtype=int64)\n",
      "Tensor(\"GatherV2_1:0\", dtype=int64)\n",
      "tipo de aoutput_positivon Tensor(\"add_18:0\", dtype=int64)\n",
      "Tensor(\"add_18:0\", dtype=int64)\n",
      "507\n",
      "tipo de aoutput_positivon Tensor(\"add_30:0\", dtype=int64)\n",
      "Tensor(\"add_30:0\", dtype=int64)\n",
      "2028\n",
      "Tensor(\"ArgMax:0\", dtype=int64)\n",
      "Tensor(\"strided_slice_2:0\", shape=(None,), dtype=int64)\n",
      "Tensor(\"GatherV2:0\", dtype=int64)\n",
      "Tensor(\"strided_slice_3:0\", shape=(None,), dtype=int64)\n",
      "Tensor(\"GatherV2_1:0\", dtype=int64)\n",
      "tipo de aoutput_positivon Tensor(\"add_18:0\", dtype=int64)\n",
      "Tensor(\"add_18:0\", dtype=int64)\n",
      "507\n",
      "tipo de aoutput_positivon Tensor(\"add_30:0\", dtype=int64)\n",
      "Tensor(\"add_30:0\", dtype=int64)\n",
      "2028\n"
     ]
    }
   ],
   "source": [
    "#USANDO TF.IMAGE MODULE\n",
    "#anchors =tf.constant(np.array([[0,0,0.015,0.037],[0,0,0.043,0.104],[0,0,0.11,0.278],[0,0,0.351,0.66]]),dtype=tf.float32)\n",
    "#anchors =tf.constant(np.array([[0,0,0.026,0.062],[0,0,0.067,0.183],[0,0,0.128,0.323],[0,0,0.343,0.650]]),dtype=tf.float32)\n",
    "anchors =tf.constant(np.array([[0,0,0.02078,0.049],[0,0,0.0426,0.128],[0,0,0.08523,0.19356],[0,0,0.1506,0.4163],[0,0,0.27835,0.58651],[0,0,0.5632,0.78614]]),dtype=tf.float32)\n",
    "\n",
    "\n",
    "\n",
    "os.chdir(root_path+\"/pedestrian_dataset_train_tfr\")\n",
    "filenames = os. listdir()\n",
    "raw_image_dataset = tf.data.TFRecordDataset(filenames)\n",
    "\n",
    "os.chdir(root_path+\"/pedestrian_dataset_val_tfr_fixed\")\n",
    "filenames = os. listdir()\n",
    "raw_image_dataset_val =tf.data.TFRecordDataset(filenames)\n",
    "\n",
    "os.chdir(root_path+\"/pedestrian_dataset_train_tfr\")\n",
    "#.shuffle(70000)\n",
    "\n",
    "#VAMOS A HACER UN ENTRENAMIENTO SIN DATA AUGMENTATION, ADEMAS DE USAR MSE Y EXP MSE Y REZAR PARA QUE MEJORE\n",
    "\n",
    "train_dataset = raw_image_dataset.map(preprocessing_validation_set,num_parallel_calls=8)\n",
    "#train_dataset = train_dataset.map(tf_numpy_albumentations_real,num_parallel_calls=8)\n",
    "train_dataset = train_dataset.map(lambda x,y,z:build_targets(x,y,z,anchors),num_parallel_calls=8)\n",
    "train_dataset = train_dataset.batch(16)\n",
    "\n",
    "val_dataset = raw_image_dataset_val.map(preprocessing_validation_set,num_parallel_calls=8)\n",
    "val_dataset = val_dataset.map(lambda x,y,z:build_targets(x,y,z,anchors),num_parallel_calls=8)\n",
    "val_dataset = val_dataset.batch(16)"
   ]
  },
  {
   "cell_type": "code",
   "execution_count": null,
   "metadata": {},
   "outputs": [],
   "source": []
  },
  {
   "cell_type": "markdown",
   "metadata": {},
   "source": [
    "### Loss Function"
   ]
  },
  {
   "cell_type": "code",
   "execution_count": 6,
   "metadata": {},
   "outputs": [
    {
     "data": {
      "text/plain": [
       "'\\ndef loss_bce_objectness(y_true,y_pred):\\n    #bce = BinaryCrossentropy(reduction=tf.keras.losses.Reduction.NONE)\\n    #tw_true,th_true,obj_mask = tf.split(y_true, [1,1,1], axis=-1)\\n    #tw_pred,th_pred = tf.split(y_pred, [1,1], axis=-1)   \\n    \\n    loss_obj =tf.reduce_mean(tf.reduce_sum( y_true*tf.math.log(y_pred+1e-7)[:,tf.newaxis],axis=1))\\n    \\n    return loss_obj\\n\\ndef loss_bce_no_objectness(y_true,y_pred):\\n    #bce = BinaryCrossentropy(reduction=tf.keras.losses.Reduction.NONE)\\n    loss_noobj =tf.reduce_mean(tf.reduce_sum((1-y_true)*tf.math.log(1-y_pred+1e-7)[:,tf.newaxis],axis=1))\\n    \\n    return loss_noobj\\n'"
      ]
     },
     "execution_count": 6,
     "metadata": {},
     "output_type": "execute_result"
    }
   ],
   "source": [
    "from tensorflow.keras.losses import Loss,BinaryCrossentropy,MeanSquaredError,MeanSquaredLogarithmicError\n",
    "'''\n",
    "def loss_xy(y_true,y_pred):\n",
    "    \n",
    "    mse = MeanSquaredError(reduction=tf.keras.losses.Reduction.NONE)\n",
    "    \n",
    "    tx_true,ty_true,obj_mask = tf.split(y_true, [1,1,1], axis=-1)\n",
    "    tx_pred,ty_pred = tf.split(y_pred, [1,1], axis=-1)\n",
    "    \n",
    "    loss_x = tf.reduce_mean(tf.reduce_sum(obj_mask*(mse(tx_true,tx_pred)[:,:,tf.newaxis]),axis=1))\n",
    "    loss_y = tf.reduce_mean(tf.reduce_sum(obj_mask*(mse(ty_true,ty_pred)[:,:,tf.newaxis]),axis=1))\n",
    "\n",
    "    return loss_x+loss_y\n",
    "\n",
    "def loss_wh(y_true,y_pred):\n",
    "    \n",
    "    mse = MeanSquaredError(reduction=tf.keras.losses.Reduction.NONE)\n",
    "    \n",
    "    tw_true,th_true,obj_mask = tf.split(y_true, [1,1,1], axis=-1)\n",
    "    tw_pred,th_pred = tf.split(y_pred, [1,1], axis=-1)\n",
    "    \n",
    "    loss_w = tf.reduce_mean(tf.reduce_sum(obj_mask*(mse(tw_true,tw_pred)[:,:,tf.newaxis]),axis=1))\n",
    "    loss_h = tf.reduce_mean(tf.reduce_sum(obj_mask*(mse(th_true,th_pred)[:,:,tf.newaxis]),axis=1))\n",
    "\n",
    "\n",
    "    return loss_w+loss_h\n",
    "\n",
    "\n",
    "def loss_xy(y_true,y_pred):\n",
    "    \n",
    "    msle = MeanSquaredLogarithmicError(reduction=tf.keras.losses.Reduction.NONE)\n",
    "\n",
    "    tx_true,ty_true,obj_mask = tf.split(y_true, [1,1,1], axis=-1)\n",
    "    tx_pred,ty_pred = tf.split(y_pred, [1,1], axis=-1)\n",
    "    \n",
    "    #print(tf.math.square(tx_true-tx_pred))  \n",
    "    \n",
    "    loss_x = tf.reduce_mean(tf.reduce_sum(obj_mask*(msle(tx_true,tx_pred)[:,:,tf.newaxis]),axis=1))\n",
    "    loss_y = tf.reduce_mean(tf.reduce_sum(obj_mask*(msle(ty_true,ty_pred)[:,:,tf.newaxis]),axis=1))\n",
    "\n",
    "    return loss_x+loss_y\n",
    "\n",
    "def loss_wh(y_true,y_pred):\n",
    "\n",
    "    msle = MeanSquaredLogarithmicError(reduction=tf.keras.losses.Reduction.NONE)\n",
    "    \n",
    "    tw_true,th_true,obj_mask = tf.split(y_true, [1,1,1], axis=-1)\n",
    "    tw_pred,th_pred = tf.split(y_pred, [1,1], axis=-1)\n",
    "    \n",
    "    #print(tf.math.square(tw_true-tw_pred))\n",
    "\n",
    "    \n",
    "    loss_w = tf.reduce_mean(tf.reduce_sum(obj_mask*(msle(tw_true,tw_pred)[:,:,tf.newaxis]),axis=1))\n",
    "    loss_h = tf.reduce_mean(tf.reduce_sum(obj_mask*(msle(th_true,th_pred)[:,:,tf.newaxis]),axis=1))\n",
    "\n",
    "\n",
    "    return loss_w+loss_h\n",
    "    \n",
    "def loss_xy(y_true,y_pred):\n",
    "    \n",
    "    msle = MeanSquaredLogarithmicError(reduction=tf.keras.losses.Reduction.NONE)\n",
    "\n",
    "    tx_true,ty_true,obj_mask = tf.split(y_true, [1,1,1], axis=-1)\n",
    "    tx_pred,ty_pred = tf.split(y_pred, [1,1], axis=-1)\n",
    "    \n",
    "    #print(tf.math.square(tx_true-tx_pred))  \n",
    "    \n",
    "    loss_x = tf.reduce_mean(tf.reduce_sum(obj_mask*(msle(tx_true,tx_pred)[:,:,tf.newaxis]),axis=1))\n",
    "    loss_y = tf.reduce_mean(tf.reduce_sum(obj_mask*(msle(ty_true,ty_pred)[:,:,tf.newaxis]),axis=1))\n",
    "\n",
    "    return loss_x+loss_y\n",
    "    \n",
    "'''\n",
    "def loss_xy(y_true,y_pred):\n",
    "    \n",
    "    mse = MeanSquaredError(reduction=tf.keras.losses.Reduction.NONE)\n",
    "    \n",
    "    tx_true,ty_true,obj_mask = tf.split(y_true, [1,1,1], axis=-1)\n",
    "    tx_pred,ty_pred = tf.split(y_pred, [1,1], axis=-1)\n",
    "    \n",
    "    loss_x = tf.reduce_mean(tf.reduce_sum(obj_mask*(mse(tx_true,tx_pred)[:,:,tf.newaxis]),axis=1))\n",
    "    loss_y = tf.reduce_mean(tf.reduce_sum(obj_mask*(mse(ty_true,ty_pred)[:,:,tf.newaxis]),axis=1))\n",
    "\n",
    "    return loss_x+loss_y\n",
    "\n",
    "\n",
    "def loss_wh(y_true,y_pred):\n",
    "\n",
    "    mse = MeanSquaredError(reduction=tf.keras.losses.Reduction.NONE)\n",
    "    \n",
    "    tw_true,th_true,obj_mask = tf.split(y_true, [1,1,1], axis=-1)\n",
    "    tw_pred,th_pred = tf.split(y_pred, [1,1], axis=-1)\n",
    "    \n",
    "    #print(tf.math.square(tw_true-tw_pred))\n",
    "\n",
    "    \n",
    "    loss_w = tf.reduce_mean(tf.reduce_sum(obj_mask*(mse(tf.math.exp(tw_true),tf.math.exp(tw_pred))[:,:,tf.newaxis]),axis=1))\n",
    "    loss_h = tf.reduce_mean(tf.reduce_sum(obj_mask*(mse(tf.math.exp(th_true),tf.math.exp(th_pred))[:,:,tf.newaxis]),axis=1))\n",
    "\n",
    "\n",
    "    return loss_w+loss_h\n",
    "\n",
    "\n",
    "def loss_objectness(y_true,y_pred):\n",
    "    bce = BinaryCrossentropy(reduction=tf.keras.losses.Reduction.NONE)\n",
    "    \n",
    "    #tw_true,th_true,obj_mask = tf.split(y_true, [1,1,1], axis=-1)\n",
    "    #tw_pred,th_pred = tf.split(y_pred, [1,1], axis=-1)   \n",
    "    \n",
    "    loss_obj =tf.reduce_mean(tf.reduce_sum( y_true*bce(y_true,y_pred)[:,tf.newaxis],axis=1))\n",
    "    \n",
    "    return loss_obj\n",
    "\n",
    "def loss_no_objectness(y_true,y_pred):\n",
    "    bce = BinaryCrossentropy(reduction=tf.keras.losses.Reduction.NONE)\n",
    "    \n",
    "    \n",
    "    loss_noobj =tf.reduce_mean(tf.reduce_sum((1-y_true)*bce(y_true,y_pred)[:,tf.newaxis],axis=1))\n",
    "    \n",
    "    return loss_noobj\n",
    "'''\n",
    "def loss_bce_objectness(y_true,y_pred):\n",
    "    #bce = BinaryCrossentropy(reduction=tf.keras.losses.Reduction.NONE)\n",
    "    #tw_true,th_true,obj_mask = tf.split(y_true, [1,1,1], axis=-1)\n",
    "    #tw_pred,th_pred = tf.split(y_pred, [1,1], axis=-1)   \n",
    "    \n",
    "    loss_obj =tf.reduce_mean(tf.reduce_sum( y_true*tf.math.log(y_pred+1e-7)[:,tf.newaxis],axis=1))\n",
    "    \n",
    "    return loss_obj\n",
    "\n",
    "def loss_bce_no_objectness(y_true,y_pred):\n",
    "    #bce = BinaryCrossentropy(reduction=tf.keras.losses.Reduction.NONE)\n",
    "    loss_noobj =tf.reduce_mean(tf.reduce_sum((1-y_true)*tf.math.log(1-y_pred+1e-7)[:,tf.newaxis],axis=1))\n",
    "    \n",
    "    return loss_noobj\n",
    "'''"
   ]
  },
  {
   "cell_type": "markdown",
   "metadata": {},
   "source": [
    "## Training with Model.fit()"
   ]
  },
  {
   "cell_type": "code",
   "execution_count": 10,
   "metadata": {},
   "outputs": [
    {
     "name": "stdout",
     "output_type": "stream",
     "text": [
      "Modo entrenamiento\n",
      "Pesos de la convolucion (432,)\n",
      "CONV SHAPE (16, 3, 3, 3)\n",
      "Pesos de la convolucion (4608,)\n",
      "CONV SHAPE (32, 16, 3, 3)\n",
      "Pesos de la convolucion (18432,)\n",
      "CONV SHAPE (64, 32, 3, 3)\n",
      "Pesos de la convolucion (73728,)\n",
      "CONV SHAPE (128, 64, 3, 3)\n",
      "Pesos de la convolucion (294912,)\n",
      "CONV SHAPE (256, 128, 3, 3)\n",
      "Pesos de la convolucion (1179648,)\n",
      "CONV SHAPE (512, 256, 3, 3)\n",
      "Pesos de la convolucion (4718592,)\n",
      "CONV SHAPE (1024, 512, 3, 3)\n",
      "Pesos de la convolucion (262144,)\n",
      "CONV SHAPE (256, 1024, 1, 1)\n",
      "Pesos de la convolucion (1179648,)\n",
      "CONV SHAPE (512, 256, 3, 3)\n",
      "Pesos de la convolucion (130560,)\n",
      "CONV SHAPE (255, 512, 1, 1)\n",
      "Pesos de la convolucion (32768,)\n",
      "CONV SHAPE (128, 256, 1, 1)\n",
      "Pesos de la convolucion (884736,)\n",
      "CONV SHAPE (256, 384, 3, 3)\n",
      "Pesos de la convolucion (65280,)\n",
      "CONV SHAPE (255, 256, 1, 1)\n",
      "8858734\n"
     ]
    }
   ],
   "source": [
    "#anchors =tf.constant(np.array([[0.026,0.062],[0.067,0.183],[0.128,0.323],[0.343,0.650]]),dtype=tf.float32)\n",
    "anchors =tf.constant(np.array([[0,0,0.02078,0.049],[0,0,0.0426,0.128],[0,0,0.08523,0.19356],[0,0,0.1506,0.4163],[0,0,0.27835,0.58651],[0,0,0.5632,0.78614]]),dtype=tf.float32)\n",
    "\n",
    "model = TinyYOLOv3(1,anchor_boxes=anchors,train=True,mode = \"finetuning\")\n",
    "model.build(batch_input_shape=(None,416,416,3))\n",
    "print(model.load_weights_darknet(root_path+\"/TinyYOLOv3-Pedestrian-Detection/yolov3-tiny.weights\"))"
   ]
  },
  {
   "cell_type": "code",
   "execution_count": 11,
   "metadata": {},
   "outputs": [
    {
     "name": "stdout",
     "output_type": "stream",
     "text": [
      "BasicBlock1 True\n",
      "BasicBlock2 True\n",
      "BasicBlock3 True\n",
      "BasicBlock4 True\n",
      "BasicBlock5 True\n",
      "BasicBlock6 True\n",
      "BasicBlock7 True\n",
      "BasicBlock8 True\n",
      "BasicBlock9 True\n",
      "FinalBlock1 True\n",
      "BasicBlock11 True\n",
      "BasicBlock12 True\n",
      "FinalBlock2 True\n",
      "Concatenate True\n",
      "Upsampling True\n",
      "Prediction1 True\n",
      "Prediction2 True\n",
      "Concatenate_BBOX True\n"
     ]
    }
   ],
   "source": [
    "for l in model.layers:\n",
    "    print(l.name, l.trainable)#,l.weights[0].shape)\n",
    "    pass"
   ]
  },
  {
   "cell_type": "markdown",
   "metadata": {},
   "source": [
    "## Eager execution training (For debuging)"
   ]
  },
  {
   "cell_type": "code",
   "execution_count": 12,
   "metadata": {},
   "outputs": [],
   "source": [
    "debugging = False\n",
    "\n",
    "if debugging:\n",
    "    model = TinyYOLOv3(1,anchor_boxes=anchors,train=True)\n",
    "    model.build(batch_input_shape=(None,416,416,3))\n",
    "    model.summary()\n",
    "    model.load_weights_darknet(\"/home/sergio/TinyYOLOv3-Pedestrian-Detection/yolov3-tiny.weights\");\n",
    "    optimizer = tf.keras.optimizers.Adam()\n",
    "    #model_loss = YOLOLoss()\n",
    "\n",
    "    for epochs in range(1,2,1):\n",
    "        for (images,y_true) in train_dataset:\n",
    "            with tf.GradientTape() as tape:\n",
    "                outputs = model(images)\n",
    "                print(\"Tamaño de la etiqueta\",y_true[0].shape)\n",
    "                print(\"Salida\",outputs[0].shape)\n",
    "                loss_x_y = loss_xy(y_true[0],outputs[0])\n",
    "                loss_w_h = loss_wh(y_true[1],outputs[1])\n",
    "                loss_obj = loss_objectness(y_true[2],outputs[2])\n",
    "                loss_noobj = loss_no_objectness(y_true[3],outputs[3])\n",
    "\n",
    "                total_loss =loss_x_y+loss_w_h+loss_obj+loss_noobj\n",
    "            #print(epochs,(total_loss.numpy()))\n",
    "            grads = tape.gradient(total_loss, model.trainable_variables)\n",
    "            optimizer.apply_gradients(zip(grads, model.trainable_variables))\n",
    "\n",
    "                #logging.info(\"{}_train_{}, {}, {}\".format(\n",
    "                #    epoch, batch, total_loss.numpy()))\n",
    "                \n",
    "else:\n",
    "    pass"
   ]
  },
  {
   "cell_type": "code",
   "execution_count": 14,
   "metadata": {},
   "outputs": [],
   "source": [
    "tf.random.set_seed(0)\n",
    "\n",
    "from tensorflow.keras.metrics import TrueNegatives,TruePositives,FalseNegatives,FalsePositives,Precision,Recall\n",
    "\n",
    "opt = tf.keras.optimizers.Nadam(learning_rate=1e-4)\n",
    "\n",
    "losses = {\"output_1\": loss_xy,\n",
    "          \"output_2\": loss_wh,\n",
    "          \"output_3\":loss_objectness,\n",
    "          \"output_4\":loss_no_objectness  \n",
    "}\n",
    "\n",
    "metrics = {\"output_3\":[Precision(0.5),Recall(0.5),TrueNegatives(0.5),TruePositives(0.5),FalseNegatives(0.5),FalsePositives(0.5)]}\n",
    "model.compile(optimizer=opt, loss=losses,metrics=metrics,loss_weights=[5,5,2,1])\n",
    "os.chdir(root_path+ \"/pedestrian_dataset_train_tfr\")"
   ]
  },
  {
   "cell_type": "markdown",
   "metadata": {},
   "source": [
    "## Batch 16, con pesos 5,5,2,1 with lr=0.0001 y usando mse para el (x,y) y usando mse de las exponenciales para (w,h)"
   ]
  },
  {
   "cell_type": "code",
   "execution_count": 15,
   "metadata": {
    "scrolled": true
   },
   "outputs": [
    {
     "name": "stdout",
     "output_type": "stream",
     "text": [
      "Epoch 1/10\n",
      "Modo entrenamiento\n",
      "Modo entrenamiento\n",
      "   4607/Unknown - 498s 108ms/step - loss: 106.1031 - output_1_loss: 8.4929 - output_2_loss: 2.3167 - output_3_loss: 0.0993 - output_4_loss: 51.8567 - output_3_precision_1: 0.0113 - output_3_recall_1: 0.0218 - output_3_true_negatives_1: 186035616.0000 - output_3_true_positives_1: 5902.0000 - output_3_false_negatives_1: 264622.0000 - output_3_false_positives_1: 518298.0000Modo entrenamiento\n",
      "4607/4607 [==============================] - 506s 110ms/step - loss: 106.1031 - output_1_loss: 8.4929 - output_2_loss: 2.3167 - output_3_loss: 0.0993 - output_4_loss: 51.8567 - output_3_precision_1: 0.0113 - output_3_recall_1: 0.0218 - output_3_true_negatives_1: 186035616.0000 - output_3_true_positives_1: 5902.0000 - output_3_false_negatives_1: 264622.0000 - output_3_false_positives_1: 518298.0000 - val_loss: 48.1094 - val_output_1_loss: 5.5322 - val_output_2_loss: 0.8298 - val_output_3_loss: 0.0487 - val_output_4_loss: 16.2020 - val_output_3_precision_1: 0.7575 - val_output_3_recall_1: 0.0299 - val_output_3_true_negatives_1: 7593063.0000 - val_output_3_true_positives_1: 353.0000 - val_output_3_false_negatives_1: 11471.0000 - val_output_3_false_positives_1: 113.0000\n",
      "Epoch 2/10\n",
      "4607/4607 [==============================] - 499s 108ms/step - loss: 43.2501 - output_1_loss: 5.2556 - output_2_loss: 0.6201 - output_3_loss: 0.0399 - output_4_loss: 13.7917 - output_3_precision_1: 0.6560 - output_3_recall_1: 0.0695 - output_3_true_negatives_1: 186544224.0000 - output_3_true_positives_1: 18811.0000 - output_3_false_negatives_1: 251713.0000 - output_3_false_positives_1: 9864.0000 - val_loss: 42.6700 - val_output_1_loss: 4.8782 - val_output_2_loss: 0.6015 - val_output_3_loss: 0.0476 - val_output_4_loss: 15.1764 - val_output_3_precision_1: 0.7333 - val_output_3_recall_1: 0.0530 - val_output_3_true_negatives_1: 7592948.0000 - val_output_3_true_positives_1: 627.0000 - val_output_3_false_negatives_1: 11197.0000 - val_output_3_false_positives_1: 228.0000\n",
      "Epoch 3/10\n",
      "4607/4607 [==============================] - 501s 109ms/step - loss: 39.1757 - output_1_loss: 4.7270 - output_2_loss: 0.5140 - output_3_loss: 0.0377 - output_4_loss: 12.8951 - output_3_precision_1: 0.6439 - output_3_recall_1: 0.1076 - output_3_true_negatives_1: 186537760.0000 - output_3_true_positives_1: 29119.0000 - output_3_false_negatives_1: 241405.0000 - output_3_false_positives_1: 16105.0000 - val_loss: 41.6808 - val_output_1_loss: 4.6050 - val_output_2_loss: 0.6892 - val_output_3_loss: 0.0470 - val_output_4_loss: 15.1157 - val_output_3_precision_1: 0.7366 - val_output_3_recall_1: 0.0535 - val_output_3_true_negatives_1: 7592950.0000 - val_output_3_true_positives_1: 632.0000 - val_output_3_false_negatives_1: 11192.0000 - val_output_3_false_positives_1: 226.0000\n",
      "Epoch 4/10\n",
      "4607/4607 [==============================] - 509s 110ms/step - loss: 34.3584 - output_1_loss: 3.8712 - output_2_loss: 0.4764 - output_3_loss: 0.0367 - output_4_loss: 12.5471 - output_3_precision_1: 0.6450 - output_3_recall_1: 0.1250 - output_3_true_negatives_1: 186535264.0000 - output_3_true_positives_1: 33803.0000 - output_3_false_negatives_1: 236721.0000 - output_3_false_positives_1: 18602.0000 - val_loss: 36.8515 - val_output_1_loss: 3.7523 - val_output_2_loss: 0.6637 - val_output_3_loss: 0.0461 - val_output_4_loss: 14.6793 - val_output_3_precision_1: 0.7435 - val_output_3_recall_1: 0.0630 - val_output_3_true_negatives_1: 7592919.0000 - val_output_3_true_positives_1: 745.0000 - val_output_3_false_negatives_1: 11079.0000 - val_output_3_false_positives_1: 257.0000\n",
      "Epoch 5/10\n",
      "4607/4607 [==============================] - 496s 108ms/step - loss: 30.0991 - output_1_loss: 3.0964 - output_2_loss: 0.4526 - output_3_loss: 0.0360 - output_4_loss: 12.2819 - output_3_precision_1: 0.6497 - output_3_recall_1: 0.1370 - output_3_true_negatives_1: 186533680.0000 - output_3_true_positives_1: 37051.0000 - output_3_false_negatives_1: 233473.0000 - output_3_false_positives_1: 19974.0000 - val_loss: 31.7389 - val_output_1_loss: 2.9758 - val_output_2_loss: 0.4823 - val_output_3_loss: 0.0453 - val_output_4_loss: 14.3578 - val_output_3_precision_1: 0.7796 - val_output_3_recall_1: 0.0679 - val_output_3_true_negatives_1: 7592949.0000 - val_output_3_true_positives_1: 803.0000 - val_output_3_false_negatives_1: 11021.0000 - val_output_3_false_positives_1: 227.0000\n",
      "Epoch 6/10\n",
      "4607/4607 [==============================] - 500s 108ms/step - loss: 26.0264 - output_1_loss: 2.3948 - output_2_loss: 0.3934 - output_3_loss: 0.0353 - output_4_loss: 12.0145 - output_3_precision_1: 0.6564 - output_3_recall_1: 0.1479 - output_3_true_negatives_1: 186532672.0000 - output_3_true_positives_1: 40000.0000 - output_3_false_negatives_1: 230524.0000 - output_3_false_positives_1: 20940.0000 - val_loss: 30.1452 - val_output_1_loss: 2.6910 - val_output_2_loss: 0.4533 - val_output_3_loss: 0.0456 - val_output_4_loss: 14.3325 - val_output_3_precision_1: 0.7528 - val_output_3_recall_1: 0.0747 - val_output_3_true_negatives_1: 7592886.0000 - val_output_3_true_positives_1: 883.0000 - val_output_3_false_negatives_1: 10941.0000 - val_output_3_false_positives_1: 290.0000\n",
      "Epoch 7/10\n",
      "4607/4607 [==============================] - 475s 103ms/step - loss: 22.9852 - output_1_loss: 1.8691 - output_2_loss: 0.3647 - output_3_loss: 0.0346 - output_4_loss: 11.7466 - output_3_precision_1: 0.6624 - output_3_recall_1: 0.1594 - output_3_true_negatives_1: 186531808.0000 - output_3_true_positives_1: 43128.0000 - output_3_false_negatives_1: 227396.0000 - output_3_false_positives_1: 21982.0000 - val_loss: 28.3591 - val_output_1_loss: 2.3922 - val_output_2_loss: 0.4565 - val_output_3_loss: 0.0447 - val_output_4_loss: 14.0259 - val_output_3_precision_1: 0.7843 - val_output_3_recall_1: 0.0763 - val_output_3_true_negatives_1: 7592928.0000 - val_output_3_true_positives_1: 902.0000 - val_output_3_false_negatives_1: 10922.0000 - val_output_3_false_positives_1: 248.0000\n",
      "Epoch 8/10\n",
      "4607/4607 [==============================] - 500s 108ms/step - loss: 21.0620 - output_1_loss: 1.5453 - output_2_loss: 0.3570 - output_3_loss: 0.0340 - output_4_loss: 11.4828 - output_3_precision_1: 0.6673 - output_3_recall_1: 0.1702 - output_3_true_negatives_1: 186530976.0000 - output_3_true_positives_1: 46031.0000 - output_3_false_negatives_1: 224493.0000 - output_3_false_positives_1: 22954.0000 - val_loss: 26.0916 - val_output_1_loss: 2.0596 - val_output_2_loss: 0.3961 - val_output_3_loss: 0.0439 - val_output_4_loss: 13.7250 - val_output_3_precision_1: 0.7762 - val_output_3_recall_1: 0.0865 - val_output_3_true_negatives_1: 7592881.0000 - val_output_3_true_positives_1: 1023.0000 - val_output_3_false_negatives_1: 10801.0000 - val_output_3_false_positives_1: 295.0000\n",
      "Epoch 9/10\n",
      "4607/4607 [==============================] - 512s 111ms/step - loss: 19.2395 - output_1_loss: 1.2780 - output_2_loss: 0.3216 - output_3_loss: 0.0332 - output_4_loss: 11.1750 - output_3_precision_1: 0.6740 - output_3_recall_1: 0.1854 - output_3_true_negatives_1: 186529568.0000 - output_3_true_positives_1: 50150.0000 - output_3_false_negatives_1: 220374.0000 - output_3_false_positives_1: 24255.0000 - val_loss: 25.1771 - val_output_1_loss: 1.9789 - val_output_2_loss: 0.3841 - val_output_3_loss: 0.0425 - val_output_4_loss: 13.2769 - val_output_3_precision_1: 0.7888 - val_output_3_recall_1: 0.0967 - val_output_3_true_negatives_1: 7592870.0000 - val_output_3_true_positives_1: 1143.0000 - val_output_3_false_negatives_1: 10681.0000 - val_output_3_false_positives_1: 306.0000\n",
      "Epoch 10/10\n",
      "4607/4607 [==============================] - 503s 109ms/step - loss: 18.1258 - output_1_loss: 1.1239 - output_2_loss: 0.3125 - output_3_loss: 0.0324 - output_4_loss: 10.8788 - output_3_precision_1: 0.6823 - output_3_recall_1: 0.2001 - output_3_true_negatives_1: 186528384.0000 - output_3_true_positives_1: 54134.0000 - output_3_false_negatives_1: 216390.0000 - output_3_false_positives_1: 25209.0000 - val_loss: 23.8885 - val_output_1_loss: 1.7939 - val_output_2_loss: 0.3607 - val_output_3_loss: 0.0420 - val_output_4_loss: 13.0314 - val_output_3_precision_1: 0.7975 - val_output_3_recall_1: 0.1116 - val_output_3_true_negatives_1: 7592841.0000 - val_output_3_true_positives_1: 1319.0000 - val_output_3_false_negatives_1: 10505.0000 - val_output_3_false_positives_1: 335.0000\n"
     ]
    }
   ],
   "source": [
    "history = model.fit(train_dataset, epochs=10,validation_data=val_dataset)"
   ]
  },
  {
   "cell_type": "code",
   "execution_count": null,
   "metadata": {},
   "outputs": [],
   "source": []
  },
  {
   "cell_type": "code",
   "execution_count": 19,
   "metadata": {},
   "outputs": [],
   "source": [
    "os.chdir(root_path+\"/json_final_experiment\")\n",
    "import json\n",
    "#json.dumps(str(a))\n",
    "with open('history_finetuning_5521_10_epoch_nadam_0dot00001_mse_exp_mse_3anchors_final_experiment.json', 'w') as fp:\n",
    "    json.dump(str(history.history), fp)"
   ]
  },
  {
   "cell_type": "code",
   "execution_count": 20,
   "metadata": {},
   "outputs": [],
   "source": [
    "model.save_weights(root_path+'/last_weights/pesos_finetuning_5521_10_epoch_nadam_0dot00001_mse_exp_mse_3anchors_final_experiment')"
   ]
  },
  {
   "cell_type": "code",
   "execution_count": null,
   "metadata": {},
   "outputs": [],
   "source": []
  },
  {
   "cell_type": "code",
   "execution_count": null,
   "metadata": {},
   "outputs": [],
   "source": []
  },
  {
   "cell_type": "markdown",
   "metadata": {},
   "source": [
    "## CONTINUACIÓN"
   ]
  },
  {
   "cell_type": "code",
   "execution_count": 7,
   "metadata": {},
   "outputs": [
    {
     "name": "stdout",
     "output_type": "stream",
     "text": [
      "Modo entrenamiento\n"
     ]
    },
    {
     "data": {
      "text/plain": [
       "<tensorflow.python.training.tracking.util.CheckpointLoadStatus at 0x7f86419fa2b0>"
      ]
     },
     "execution_count": 7,
     "metadata": {},
     "output_type": "execute_result"
    }
   ],
   "source": [
    "anchors =tf.constant(np.array([[0,0,0.02078,0.049],[0,0,0.0426,0.128],[0,0,0.08523,0.19356],[0,0,0.1506,0.4163],[0,0,0.27835,0.58651],[0,0,0.5632,0.78614]]),dtype=tf.float32)\n",
    "model = TinyYOLOv3(1,anchor_boxes=anchors,train=True,mode = \"finetuning\")\n",
    "model.build(batch_input_shape=(None,416,416,3))\n",
    "#print(model.load_weights_darknet(\"/home/sergio/TinyYOLOv3-Pedestrian-Detection/yolov3-tiny.weights\"))\n",
    "model.load_weights(root_path+'/last_weights/pesos_finetuning_5521_10_epoch_nadam_0dot00001_mse_exp_mse_3anchors_final_experiment')"
   ]
  },
  {
   "cell_type": "code",
   "execution_count": 8,
   "metadata": {},
   "outputs": [
    {
     "name": "stdout",
     "output_type": "stream",
     "text": [
      "BasicBlock1 True\n",
      "BasicBlock2 True\n",
      "BasicBlock3 True\n",
      "BasicBlock4 True\n",
      "BasicBlock5 True\n",
      "BasicBlock6 True\n",
      "BasicBlock7 True\n",
      "BasicBlock8 True\n",
      "BasicBlock9 True\n",
      "FinalBlock1 True\n",
      "BasicBlock11 True\n",
      "BasicBlock12 True\n",
      "FinalBlock2 True\n",
      "Concatenate True\n",
      "Upsampling True\n",
      "Prediction1 True\n",
      "Prediction2 True\n",
      "Concatenate_BBOX True\n"
     ]
    }
   ],
   "source": [
    "for l in model.layers:\n",
    "    print(l.name, l.trainable)\n",
    "    pass"
   ]
  },
  {
   "cell_type": "code",
   "execution_count": 9,
   "metadata": {},
   "outputs": [],
   "source": [
    "tf.random.set_seed(0)\n",
    "\n",
    "from tensorflow.keras.metrics import TrueNegatives,TruePositives,FalseNegatives,FalsePositives,Precision,Recall\n",
    "\n",
    "opt = tf.keras.optimizers.Nadam(learning_rate=1e-4)\n",
    "\n",
    "losses = {\"output_1\": loss_xy,\n",
    "          \"output_2\": loss_wh,\n",
    "          \"output_3\":loss_objectness,\n",
    "          \"output_4\":loss_no_objectness  \n",
    "}\n",
    "\n",
    "metrics = {\"output_3\":[Precision(0.5),Recall(0.5),TrueNegatives(0.5),TruePositives(0.5),FalseNegatives(0.5),FalsePositives(0.5)]}\n",
    "model.compile(optimizer=opt, loss=losses,metrics=metrics,loss_weights=[5,5,2,1])\n",
    "os.chdir(root_path+ \"/pedestrian_dataset_train_tfr\")"
   ]
  },
  {
   "cell_type": "code",
   "execution_count": 10,
   "metadata": {},
   "outputs": [
    {
     "name": "stdout",
     "output_type": "stream",
     "text": [
      "Epoch 1/20\n",
      "Modo entrenamiento\n",
      "Modo entrenamiento\n",
      "   4607/Unknown - 497s 108ms/step - loss: 16.9269 - output_1_loss: 0.9766 - output_2_loss: 0.2925 - output_3_loss: 0.0315 - output_4_loss: 10.5188 - output_3_precision: 0.6888 - output_3_recall: 0.2191 - output_3_true_negatives: 186527072.0000 - output_3_true_positives: 59270.0000 - output_3_false_negatives: 211254.0000 - output_3_false_positives: 26783.0000Modo entrenamiento\n",
      "4607/4607 [==============================] - 505s 110ms/step - loss: 16.9269 - output_1_loss: 0.9766 - output_2_loss: 0.2925 - output_3_loss: 0.0315 - output_4_loss: 10.5188 - output_3_precision: 0.6888 - output_3_recall: 0.2191 - output_3_true_negatives: 186527072.0000 - output_3_true_positives: 59270.0000 - output_3_false_negatives: 211254.0000 - output_3_false_positives: 26783.0000 - val_loss: 22.4185 - val_output_1_loss: 1.5752 - val_output_2_loss: 0.3506 - val_output_3_loss: 0.0413 - val_output_4_loss: 12.7070 - val_output_3_precision: 0.8099 - val_output_3_recall: 0.1207 - val_output_3_true_negatives: 7592841.0000 - val_output_3_true_positives: 1427.0000 - val_output_3_false_negatives: 10397.0000 - val_output_3_false_positives: 335.0000\n",
      "Epoch 2/20\n",
      "4607/4607 [==============================] - 495s 107ms/step - loss: 15.9605 - output_1_loss: 0.8761 - output_2_loss: 0.2783 - output_3_loss: 0.0305 - output_4_loss: 10.1274 - output_3_precision: 0.6998 - output_3_recall: 0.2414 - output_3_true_negatives: 186526080.0000 - output_3_true_positives: 65310.0000 - output_3_false_negatives: 205214.0000 - output_3_false_positives: 28018.0000 - val_loss: 21.7768 - val_output_1_loss: 1.5341 - val_output_2_loss: 0.3445 - val_output_3_loss: 0.0401 - val_output_4_loss: 12.3036 - val_output_3_precision: 0.8170 - val_output_3_recall: 0.1344 - val_output_3_true_negatives: 7592820.0000 - val_output_3_true_positives: 1589.0000 - val_output_3_false_negatives: 10235.0000 - val_output_3_false_positives: 356.0000\n",
      "Epoch 3/20\n",
      "4607/4607 [==============================] - 495s 107ms/step - loss: 15.0777 - output_1_loss: 0.8004 - output_2_loss: 0.2677 - output_3_loss: 0.0294 - output_4_loss: 9.6786 - output_3_precision: 0.7137 - output_3_recall: 0.2678 - output_3_true_negatives: 186525056.0000 - output_3_true_positives: 72445.0000 - output_3_false_negatives: 198079.0000 - output_3_false_positives: 29063.0000 - val_loss: 20.9246 - val_output_1_loss: 1.4553 - val_output_2_loss: 0.3329 - val_output_3_loss: 0.0392 - val_output_4_loss: 11.9054 - val_output_3_precision: 0.8198 - val_output_3_recall: 0.1562 - val_output_3_true_negatives: 7592770.0000 - val_output_3_true_positives: 1847.0000 - val_output_3_false_negatives: 9977.0000 - val_output_3_false_positives: 406.0000\n",
      "Epoch 4/20\n",
      "4607/4607 [==============================] - 493s 107ms/step - loss: 14.1195 - output_1_loss: 0.7224 - output_2_loss: 0.2556 - output_3_loss: 0.0282 - output_4_loss: 9.1729 - output_3_precision: 0.7307 - output_3_recall: 0.3014 - output_3_true_negatives: 186523840.0000 - output_3_true_positives: 81540.0000 - output_3_false_negatives: 188984.0000 - output_3_false_positives: 30054.0000 - val_loss: 19.7525 - val_output_1_loss: 1.2959 - val_output_2_loss: 0.3398 - val_output_3_loss: 0.0382 - val_output_4_loss: 11.4973 - val_output_3_precision: 0.8464 - val_output_3_recall: 0.1799 - val_output_3_true_negatives: 7592790.0000 - val_output_3_true_positives: 2127.0000 - val_output_3_false_negatives: 9697.0000 - val_output_3_false_positives: 386.0000\n",
      "Epoch 5/20\n",
      "4607/4607 [==============================] - 493s 107ms/step - loss: 13.1852 - output_1_loss: 0.6643 - output_2_loss: 0.2451 - output_3_loss: 0.0267 - output_4_loss: 8.5846 - output_3_precision: 0.7504 - output_3_recall: 0.3413 - output_3_true_negatives: 186523520.0000 - output_3_true_positives: 92330.0000 - output_3_false_negatives: 178194.0000 - output_3_false_positives: 30705.0000 - val_loss: 19.2561 - val_output_1_loss: 1.2891 - val_output_2_loss: 0.3234 - val_output_3_loss: 0.0377 - val_output_4_loss: 11.1186 - val_output_3_precision: 0.8617 - val_output_3_recall: 0.2045 - val_output_3_true_negatives: 7592788.0000 - val_output_3_true_positives: 2418.0000 - val_output_3_false_negatives: 9406.0000 - val_output_3_false_positives: 388.0000\n",
      "Epoch 6/20\n",
      "4607/4607 [==============================] - 494s 107ms/step - loss: 12.2282 - output_1_loss: 0.6110 - output_2_loss: 0.2356 - output_3_loss: 0.0252 - output_4_loss: 7.9448 - output_3_precision: 0.7741 - output_3_recall: 0.3886 - output_3_true_negatives: 186523232.0000 - output_3_true_positives: 105115.0000 - output_3_false_negatives: 165409.0000 - output_3_false_positives: 30682.0000 - val_loss: 17.9511 - val_output_1_loss: 1.1628 - val_output_2_loss: 0.3065 - val_output_3_loss: 0.0359 - val_output_4_loss: 10.5332 - val_output_3_precision: 0.8744 - val_output_3_recall: 0.2338 - val_output_3_true_negatives: 7592779.0000 - val_output_3_true_positives: 2765.0000 - val_output_3_false_negatives: 9059.0000 - val_output_3_false_positives: 397.0000\n",
      "Epoch 7/20\n",
      "4607/4607 [==============================] - 495s 107ms/step - loss: 11.3079 - output_1_loss: 0.5706 - output_2_loss: 0.2295 - output_3_loss: 0.0235 - output_4_loss: 7.2605 - output_3_precision: 0.7963 - output_3_recall: 0.4409 - output_3_true_negatives: 186523680.0000 - output_3_true_positives: 119286.0000 - output_3_false_negatives: 151238.0000 - output_3_false_positives: 30513.0000 - val_loss: 17.4286 - val_output_1_loss: 1.1342 - val_output_2_loss: 0.3127 - val_output_3_loss: 0.0351 - val_output_4_loss: 10.1239 - val_output_3_precision: 0.8945 - val_output_3_recall: 0.2662 - val_output_3_true_negatives: 7592805.0000 - val_output_3_true_positives: 3147.0000 - val_output_3_false_negatives: 8677.0000 - val_output_3_false_positives: 371.0000\n",
      "Epoch 8/20\n",
      "4607/4607 [==============================] - 509s 110ms/step - loss: 10.3572 - output_1_loss: 0.5322 - output_2_loss: 0.2184 - output_3_loss: 0.0217 - output_4_loss: 6.5609 - output_3_precision: 0.8197 - output_3_recall: 0.4946 - output_3_true_negatives: 186524544.0000 - output_3_true_positives: 133799.0000 - output_3_false_negatives: 136725.0000 - output_3_false_positives: 29428.0000 - val_loss: 16.8149 - val_output_1_loss: 1.1046 - val_output_2_loss: 0.2952 - val_output_3_loss: 0.0341 - val_output_4_loss: 9.7473 - val_output_3_precision: 0.8833 - val_output_3_recall: 0.3028 - val_output_3_true_negatives: 7592703.0000 - val_output_3_true_positives: 3580.0000 - val_output_3_false_negatives: 8244.0000 - val_output_3_false_positives: 473.0000\n",
      "Epoch 9/20\n",
      "4607/4607 [==============================] - 504s 109ms/step - loss: 9.6213 - output_1_loss: 0.5135 - output_2_loss: 0.2125 - output_3_loss: 0.0201 - output_4_loss: 5.9511 - output_3_precision: 0.8369 - output_3_recall: 0.5401 - output_3_true_negatives: 186525632.0000 - output_3_true_positives: 146118.0000 - output_3_false_negatives: 124406.0000 - output_3_false_positives: 28482.0000 - val_loss: 16.6369 - val_output_1_loss: 1.0701 - val_output_2_loss: 0.3119 - val_output_3_loss: 0.0342 - val_output_4_loss: 9.6582 - val_output_3_precision: 0.9035 - val_output_3_recall: 0.3095 - val_output_3_true_negatives: 7592785.0000 - val_output_3_true_positives: 3660.0000 - val_output_3_false_negatives: 8164.0000 - val_output_3_false_positives: 391.0000\n",
      "Epoch 10/20\n",
      "4607/4607 [==============================] - 496s 108ms/step - loss: 8.9137 - output_1_loss: 0.4860 - output_2_loss: 0.2042 - output_3_loss: 0.0186 - output_4_loss: 5.4255 - output_3_precision: 0.8497 - output_3_recall: 0.5795 - output_3_true_negatives: 186526368.0000 - output_3_true_positives: 156779.0000 - output_3_false_negatives: 113745.0000 - output_3_false_positives: 27727.0000 - val_loss: 15.5559 - val_output_1_loss: 1.0012 - val_output_2_loss: 0.2737 - val_output_3_loss: 0.0322 - val_output_4_loss: 9.1170 - val_output_3_precision: 0.9153 - val_output_3_recall: 0.3380 - val_output_3_true_negatives: 7592806.0000 - val_output_3_true_positives: 3997.0000 - val_output_3_false_negatives: 7827.0000 - val_output_3_false_positives: 370.0000\n",
      "Epoch 11/20\n"
     ]
    },
    {
     "name": "stdout",
     "output_type": "stream",
     "text": [
      "4607/4607 [==============================] - 489s 106ms/step - loss: 8.3672 - output_1_loss: 0.4688 - output_2_loss: 0.1986 - output_3_loss: 0.0173 - output_4_loss: 4.9956 - output_3_precision: 0.8580 - output_3_recall: 0.6113 - output_3_true_negatives: 186526592.0000 - output_3_true_positives: 165362.0000 - output_3_false_negatives: 105162.0000 - output_3_false_positives: 27367.0000 - val_loss: 15.7061 - val_output_1_loss: 1.0018 - val_output_2_loss: 0.2833 - val_output_3_loss: 0.0329 - val_output_4_loss: 9.2144 - val_output_3_precision: 0.9081 - val_output_3_recall: 0.3509 - val_output_3_true_negatives: 7592756.0000 - val_output_3_true_positives: 4149.0000 - val_output_3_false_negatives: 7675.0000 - val_output_3_false_positives: 420.0000\n",
      "Epoch 12/20\n",
      "4607/4607 [==============================] - 490s 106ms/step - loss: 7.8745 - output_1_loss: 0.4543 - output_2_loss: 0.1922 - output_3_loss: 0.0161 - output_4_loss: 4.6100 - output_3_precision: 0.8644 - output_3_recall: 0.6414 - output_3_true_negatives: 186526720.0000 - output_3_true_positives: 173511.0000 - output_3_false_negatives: 97013.0000 - output_3_false_positives: 27227.0000 - val_loss: 14.7273 - val_output_1_loss: 0.9304 - val_output_2_loss: 0.2667 - val_output_3_loss: 0.0311 - val_output_4_loss: 8.6797 - val_output_3_precision: 0.9209 - val_output_3_recall: 0.3774 - val_output_3_true_negatives: 7592793.0000 - val_output_3_true_positives: 4462.0000 - val_output_3_false_negatives: 7362.0000 - val_output_3_false_positives: 383.0000\n",
      "Epoch 13/20\n",
      "4607/4607 [==============================] - 510s 111ms/step - loss: 7.4087 - output_1_loss: 0.4373 - output_2_loss: 0.1871 - output_3_loss: 0.0150 - output_4_loss: 4.2569 - output_3_precision: 0.8699 - output_3_recall: 0.6697 - output_3_true_negatives: 186527040.0000 - output_3_true_positives: 181163.0000 - output_3_false_negatives: 89361.0000 - output_3_false_positives: 27102.0000 - val_loss: 14.6192 - val_output_1_loss: 0.9331 - val_output_2_loss: 0.2863 - val_output_3_loss: 0.0302 - val_output_4_loss: 8.4617 - val_output_3_precision: 0.9154 - val_output_3_recall: 0.3978 - val_output_3_true_negatives: 7592741.0000 - val_output_3_true_positives: 4704.0000 - val_output_3_false_negatives: 7120.0000 - val_output_3_false_positives: 435.0000\n",
      "Epoch 14/20\n",
      "4607/4607 [==============================] - 488s 106ms/step - loss: 6.9895 - output_1_loss: 0.4219 - output_2_loss: 0.1854 - output_3_loss: 0.0139 - output_4_loss: 3.9252 - output_3_precision: 0.8763 - output_3_recall: 0.6980 - output_3_true_negatives: 186527392.0000 - output_3_true_positives: 188835.0000 - output_3_false_negatives: 81689.0000 - output_3_false_positives: 26661.0000 - val_loss: 14.2104 - val_output_1_loss: 0.8840 - val_output_2_loss: 0.2602 - val_output_3_loss: 0.0304 - val_output_4_loss: 8.4288 - val_output_3_precision: 0.9281 - val_output_3_recall: 0.3975 - val_output_3_true_negatives: 7592812.0000 - val_output_3_true_positives: 4700.0000 - val_output_3_false_negatives: 7124.0000 - val_output_3_false_positives: 364.0000\n",
      "Epoch 15/20\n",
      "4607/4607 [==============================] - 487s 106ms/step - loss: 6.5659 - output_1_loss: 0.4049 - output_2_loss: 0.1817 - output_3_loss: 0.0128 - output_4_loss: 3.6072 - output_3_precision: 0.8825 - output_3_recall: 0.7247 - output_3_true_negatives: 186527872.0000 - output_3_true_positives: 196062.0000 - output_3_false_negatives: 74462.0000 - output_3_false_positives: 26096.0000 - val_loss: 14.3310 - val_output_1_loss: 0.8987 - val_output_2_loss: 0.2628 - val_output_3_loss: 0.0306 - val_output_4_loss: 8.4625 - val_output_3_precision: 0.9194 - val_output_3_recall: 0.4157 - val_output_3_true_negatives: 7592745.0000 - val_output_3_true_positives: 4915.0000 - val_output_3_false_negatives: 6909.0000 - val_output_3_false_positives: 431.0000\n",
      "Epoch 16/20\n",
      "4607/4607 [==============================] - 496s 108ms/step - loss: 6.1490 - output_1_loss: 0.3915 - output_2_loss: 0.1736 - output_3_loss: 0.0118 - output_4_loss: 3.2995 - output_3_precision: 0.8893 - output_3_recall: 0.7521 - output_3_true_negatives: 186528960.0000 - output_3_true_positives: 203468.0000 - output_3_false_negatives: 67056.0000 - output_3_false_positives: 25336.0000 - val_loss: 13.9285 - val_output_1_loss: 0.8651 - val_output_2_loss: 0.2657 - val_output_3_loss: 0.0296 - val_output_4_loss: 8.2150 - val_output_3_precision: 0.9312 - val_output_3_recall: 0.4328 - val_output_3_true_negatives: 7592798.0000 - val_output_3_true_positives: 5118.0000 - val_output_3_false_negatives: 6706.0000 - val_output_3_false_positives: 378.0000\n",
      "Epoch 17/20\n",
      "4607/4607 [==============================] - 483s 105ms/step - loss: 5.7958 - output_1_loss: 0.3829 - output_2_loss: 0.1705 - output_3_loss: 0.0107 - output_4_loss: 3.0072 - output_3_precision: 0.8969 - output_3_recall: 0.7770 - output_3_true_negatives: 186529856.0000 - output_3_true_positives: 210207.0000 - output_3_false_negatives: 60317.0000 - output_3_false_positives: 24156.0000 - val_loss: 13.7306 - val_output_1_loss: 0.8559 - val_output_2_loss: 0.2562 - val_output_3_loss: 0.0294 - val_output_4_loss: 8.1113 - val_output_3_precision: 0.9327 - val_output_3_recall: 0.4493 - val_output_3_true_negatives: 7592793.0000 - val_output_3_true_positives: 5312.0000 - val_output_3_false_negatives: 6512.0000 - val_output_3_false_positives: 383.0000\n",
      "Epoch 18/20\n",
      "4607/4607 [==============================] - 488s 106ms/step - loss: 5.4640 - output_1_loss: 0.3739 - output_2_loss: 0.1665 - output_3_loss: 0.0098 - output_4_loss: 2.7426 - output_3_precision: 0.9037 - output_3_recall: 0.8008 - output_3_true_negatives: 186530720.0000 - output_3_true_positives: 216631.0000 - output_3_false_negatives: 53893.0000 - output_3_false_positives: 23080.0000 - val_loss: 13.3260 - val_output_1_loss: 0.8339 - val_output_2_loss: 0.2398 - val_output_3_loss: 0.0285 - val_output_4_loss: 7.9002 - val_output_3_precision: 0.9385 - val_output_3_recall: 0.4631 - val_output_3_true_negatives: 7592817.0000 - val_output_3_true_positives: 5476.0000 - val_output_3_false_negatives: 6348.0000 - val_output_3_false_positives: 359.0000\n",
      "Epoch 19/20\n",
      "4607/4607 [==============================] - 502s 109ms/step - loss: 5.1669 - output_1_loss: 0.3656 - output_2_loss: 0.1640 - output_3_loss: 0.0089 - output_4_loss: 2.5011 - output_3_precision: 0.9104 - output_3_recall: 0.8217 - output_3_true_negatives: 186532192.0000 - output_3_true_positives: 222283.0000 - output_3_false_negatives: 48241.0000 - output_3_false_positives: 21865.0000 - val_loss: 13.9245 - val_output_1_loss: 0.8647 - val_output_2_loss: 0.2567 - val_output_3_loss: 0.0299 - val_output_4_loss: 8.2577 - val_output_3_precision: 0.9372 - val_output_3_recall: 0.4610 - val_output_3_true_negatives: 7592811.0000 - val_output_3_true_positives: 5451.0000 - val_output_3_false_negatives: 6373.0000 - val_output_3_false_positives: 365.0000\n",
      "Epoch 20/20\n",
      "4607/4607 [==============================] - 490s 106ms/step - loss: 4.8614 - output_1_loss: 0.3542 - output_2_loss: 0.1607 - output_3_loss: 0.0081 - output_4_loss: 2.2706 - output_3_precision: 0.9178 - output_3_recall: 0.8414 - output_3_true_negatives: 186533184.0000 - output_3_true_positives: 227625.0000 - output_3_false_negatives: 42899.0000 - output_3_false_positives: 20390.0000 - val_loss: 12.8294 - val_output_1_loss: 0.7933 - val_output_2_loss: 0.2344 - val_output_3_loss: 0.0279 - val_output_4_loss: 7.6352 - val_output_3_precision: 0.9411 - val_output_3_recall: 0.4921 - val_output_3_true_negatives: 7592812.0000 - val_output_3_true_positives: 5819.0000 - val_output_3_false_negatives: 6005.0000 - val_output_3_false_positives: 364.0000\n"
     ]
    }
   ],
   "source": [
    "history = model.fit(train_dataset, epochs=20,validation_data=val_dataset)"
   ]
  },
  {
   "cell_type": "code",
   "execution_count": null,
   "metadata": {},
   "outputs": [],
   "source": []
  },
  {
   "cell_type": "code",
   "execution_count": null,
   "metadata": {},
   "outputs": [],
   "source": []
  },
  {
   "cell_type": "code",
   "execution_count": 12,
   "metadata": {},
   "outputs": [],
   "source": [
    "os.chdir(root_path+\"/json_final_experiment\")\n",
    "import json\n",
    "#json.dumps(str(a))\n",
    "with open('history_finetuning_5521_10_30_epoch_nadam_0dot00001_mse_exp_mse_3anchors_final_experiment.json', 'w') as fp:\n",
    "    json.dump(str(history.history), fp)"
   ]
  },
  {
   "cell_type": "code",
   "execution_count": 13,
   "metadata": {},
   "outputs": [],
   "source": [
    "model.save_weights(root_path+'/last_weights/pesos_finetuning_5521_10_30_epoch_nadam_0dot00001_mse_exp_mse_3anchors_final_experiment')"
   ]
  },
  {
   "cell_type": "markdown",
   "metadata": {},
   "source": [
    "## CONTINUACION OTRAS 20 EPOCAS (30-50)"
   ]
  },
  {
   "cell_type": "code",
   "execution_count": 15,
   "metadata": {},
   "outputs": [],
   "source": [
    "os.chdir(root_path+ \"/pedestrian_dataset_train_tfr\")"
   ]
  },
  {
   "cell_type": "code",
   "execution_count": 16,
   "metadata": {
    "scrolled": true
   },
   "outputs": [
    {
     "name": "stdout",
     "output_type": "stream",
     "text": [
      "Epoch 1/20\n",
      "4607/4607 [==============================] - 489s 106ms/step - loss: 4.5955 - output_1_loss: 0.3463 - output_2_loss: 0.1564 - output_3_loss: 0.0074 - output_4_loss: 2.0673 - output_3_precision: 0.9240 - output_3_recall: 0.8588 - output_3_true_negatives: 186534784.0000 - output_3_true_positives: 232313.0000 - output_3_false_negatives: 38211.0000 - output_3_false_positives: 19113.0000 - val_loss: 13.7536 - val_output_1_loss: 0.8184 - val_output_2_loss: 0.2467 - val_output_3_loss: 0.0303 - val_output_4_loss: 8.3676 - val_output_3_precision: 0.9418 - val_output_3_recall: 0.4707 - val_output_3_true_negatives: 7592832.0000 - val_output_3_true_positives: 5565.0000 - val_output_3_false_negatives: 6259.0000 - val_output_3_false_positives: 344.0000\n",
      "Epoch 2/20\n",
      "4607/4607 [==============================] - 489s 106ms/step - loss: 4.3818 - output_1_loss: 0.3409 - output_2_loss: 0.1547 - output_3_loss: 0.0067 - output_4_loss: 1.8900 - output_3_precision: 0.9299 - output_3_recall: 0.8740 - output_3_true_negatives: 186536096.0000 - output_3_true_positives: 236450.0000 - output_3_false_negatives: 34074.0000 - output_3_false_positives: 17812.0000 - val_loss: 12.6571 - val_output_1_loss: 0.7702 - val_output_2_loss: 0.2384 - val_output_3_loss: 0.0275 - val_output_4_loss: 7.5591 - val_output_3_precision: 0.9410 - val_output_3_recall: 0.5110 - val_output_3_true_negatives: 7592797.0000 - val_output_3_true_positives: 6042.0000 - val_output_3_false_negatives: 5782.0000 - val_output_3_false_positives: 379.0000\n",
      "Epoch 3/20\n",
      "4607/4607 [==============================] - 475s 103ms/step - loss: 4.1458 - output_1_loss: 0.3314 - output_2_loss: 0.1513 - output_3_loss: 0.0061 - output_4_loss: 1.7197 - output_3_precision: 0.9362 - output_3_recall: 0.8879 - output_3_true_negatives: 186537440.0000 - output_3_true_positives: 240190.0000 - output_3_false_negatives: 30334.0000 - output_3_false_positives: 16378.0000 - val_loss: 12.0285 - val_output_1_loss: 0.7568 - val_output_2_loss: 0.2140 - val_output_3_loss: 0.0258 - val_output_4_loss: 7.1231 - val_output_3_precision: 0.9482 - val_output_3_recall: 0.5353 - val_output_3_true_negatives: 7592830.0000 - val_output_3_true_positives: 6329.0000 - val_output_3_false_negatives: 5495.0000 - val_output_3_false_positives: 346.0000\n",
      "Epoch 4/20\n",
      "4607/4607 [==============================] - 482s 105ms/step - loss: 3.9635 - output_1_loss: 0.3258 - output_2_loss: 0.1470 - output_3_loss: 0.0056 - output_4_loss: 1.5882 - output_3_precision: 0.9400 - output_3_recall: 0.8978 - output_3_true_negatives: 186538624.0000 - output_3_true_positives: 242876.0000 - output_3_false_negatives: 27648.0000 - output_3_false_positives: 15493.0000 - val_loss: 12.2719 - val_output_1_loss: 0.7221 - val_output_2_loss: 0.2266 - val_output_3_loss: 0.0273 - val_output_4_loss: 7.4734 - val_output_3_precision: 0.9561 - val_output_3_recall: 0.5264 - val_output_3_true_negatives: 7592890.0000 - val_output_3_true_positives: 6224.0000 - val_output_3_false_negatives: 5600.0000 - val_output_3_false_positives: 286.0000\n",
      "Epoch 5/20\n",
      "4607/4607 [==============================] - 493s 107ms/step - loss: 3.7881 - output_1_loss: 0.3185 - output_2_loss: 0.1444 - output_3_loss: 0.0052 - output_4_loss: 1.4630 - output_3_precision: 0.9450 - output_3_recall: 0.9077 - output_3_true_negatives: 186539456.0000 - output_3_true_positives: 245549.0000 - output_3_false_negatives: 24975.0000 - output_3_false_positives: 14300.0000 - val_loss: 12.0236 - val_output_1_loss: 0.7096 - val_output_2_loss: 0.2142 - val_output_3_loss: 0.0267 - val_output_4_loss: 7.3514 - val_output_3_precision: 0.9575 - val_output_3_recall: 0.5354 - val_output_3_true_negatives: 7592895.0000 - val_output_3_true_positives: 6330.0000 - val_output_3_false_negatives: 5494.0000 - val_output_3_false_positives: 281.0000\n",
      "Epoch 6/20\n",
      "4607/4607 [==============================] - 491s 106ms/step - loss: 3.6341 - output_1_loss: 0.3122 - output_2_loss: 0.1430 - output_3_loss: 0.0047 - output_4_loss: 1.3486 - output_3_precision: 0.9491 - output_3_recall: 0.9159 - output_3_true_negatives: 186540640.0000 - output_3_true_positives: 247768.0000 - output_3_false_negatives: 22756.0000 - output_3_false_positives: 13296.0000 - val_loss: 11.7240 - val_output_1_loss: 0.7245 - val_output_2_loss: 0.2204 - val_output_3_loss: 0.0255 - val_output_4_loss: 6.9489 - val_output_3_precision: 0.9502 - val_output_3_recall: 0.5599 - val_output_3_true_negatives: 7592829.0000 - val_output_3_true_positives: 6620.0000 - val_output_3_false_negatives: 5204.0000 - val_output_3_false_positives: 347.0000\n",
      "Epoch 7/20\n",
      "4607/4607 [==============================] - 499s 108ms/step - loss: 3.4968 - output_1_loss: 0.3077 - output_2_loss: 0.1398 - output_3_loss: 0.0044 - output_4_loss: 1.2507 - output_3_precision: 0.9526 - output_3_recall: 0.9231 - output_3_true_negatives: 186541728.0000 - output_3_true_positives: 249731.0000 - output_3_false_negatives: 20793.0000 - output_3_false_positives: 12436.0000 - val_loss: 11.3949 - val_output_1_loss: 0.6928 - val_output_2_loss: 0.2058 - val_output_3_loss: 0.0248 - val_output_4_loss: 6.8526 - val_output_3_precision: 0.9588 - val_output_3_recall: 0.5631 - val_output_3_true_negatives: 7592890.0000 - val_output_3_true_positives: 6658.0000 - val_output_3_false_negatives: 5166.0000 - val_output_3_false_positives: 286.0000\n",
      "Epoch 8/20\n",
      "4607/4607 [==============================] - 507s 110ms/step - loss: 3.3694 - output_1_loss: 0.3026 - output_2_loss: 0.1364 - output_3_loss: 0.0040 - output_4_loss: 1.1660 - output_3_precision: 0.9555 - output_3_recall: 0.9298 - output_3_true_negatives: 186541888.0000 - output_3_true_positives: 251543.0000 - output_3_false_negatives: 18981.0000 - output_3_false_positives: 11708.0000 - val_loss: 11.5099 - val_output_1_loss: 0.6754 - val_output_2_loss: 0.2141 - val_output_3_loss: 0.0253 - val_output_4_loss: 7.0116 - val_output_3_precision: 0.9586 - val_output_3_recall: 0.5568 - val_output_3_true_negatives: 7592892.0000 - val_output_3_true_positives: 6584.0000 - val_output_3_false_negatives: 5240.0000 - val_output_3_false_positives: 284.0000\n",
      "Epoch 9/20\n",
      "4607/4607 [==============================] - 509s 111ms/step - loss: 3.2472 - output_1_loss: 0.2960 - output_2_loss: 0.1344 - output_3_loss: 0.0038 - output_4_loss: 1.0882 - output_3_precision: 0.9578 - output_3_recall: 0.9351 - output_3_true_negatives: 186542688.0000 - output_3_true_positives: 252965.0000 - output_3_false_negatives: 17559.0000 - output_3_false_positives: 11132.0000 - val_loss: 11.9271 - val_output_1_loss: 0.6707 - val_output_2_loss: 0.2084 - val_output_3_loss: 0.0270 - val_output_4_loss: 7.4776 - val_output_3_precision: 0.9675 - val_output_3_recall: 0.5540 - val_output_3_true_negatives: 7592956.0000 - val_output_3_true_positives: 6551.0000 - val_output_3_false_negatives: 5273.0000 - val_output_3_false_positives: 220.0000\n",
      "Epoch 10/20\n",
      "4607/4607 [==============================] - 491s 106ms/step - loss: 3.1401 - output_1_loss: 0.2901 - output_2_loss: 0.1312 - output_3_loss: 0.0035 - output_4_loss: 1.0267 - output_3_precision: 0.9605 - output_3_recall: 0.9395 - output_3_true_negatives: 186543520.0000 - output_3_true_positives: 254147.0000 - output_3_false_negatives: 16377.0000 - output_3_false_positives: 10440.0000 - val_loss: 11.1459 - val_output_1_loss: 0.6788 - val_output_2_loss: 0.1995 - val_output_3_loss: 0.0243 - val_output_4_loss: 6.7057 - val_output_3_precision: 0.9548 - val_output_3_recall: 0.5909 - val_output_3_true_negatives: 7592845.0000 - val_output_3_true_positives: 6987.0000 - val_output_3_false_negatives: 4837.0000 - val_output_3_false_positives: 331.0000\n",
      "Epoch 11/20\n",
      "4607/4607 [==============================] - 496s 108ms/step - loss: 3.0620 - output_1_loss: 0.2878 - output_2_loss: 0.1298 - output_3_loss: 0.0033 - output_4_loss: 0.9678 - output_3_precision: 0.9628 - output_3_recall: 0.9427 - output_3_true_negatives: 186543776.0000 - output_3_true_positives: 255031.0000 - output_3_false_negatives: 15493.0000 - output_3_false_positives: 9847.0000 - val_loss: 10.7564 - val_output_1_loss: 0.6407 - val_output_2_loss: 0.1973 - val_output_3_loss: 0.0235 - val_output_4_loss: 6.5197 - val_output_3_precision: 0.9632 - val_output_3_recall: 0.5907 - val_output_3_true_negatives: 7592909.0000 - val_output_3_true_positives: 6984.0000 - val_output_3_false_negatives: 4840.0000 - val_output_3_false_positives: 267.0000\n"
     ]
    },
    {
     "name": "stdout",
     "output_type": "stream",
     "text": [
      "Epoch 12/20\n",
      "4607/4607 [==============================] - 500s 109ms/step - loss: 2.9443 - output_1_loss: 0.2813 - output_2_loss: 0.1263 - output_3_loss: 0.0031 - output_4_loss: 0.9004 - output_3_precision: 0.9653 - output_3_recall: 0.9481 - output_3_true_negatives: 186544352.0000 - output_3_true_positives: 256496.0000 - output_3_false_negatives: 14028.0000 - output_3_false_positives: 9214.0000 - val_loss: 10.7186 - val_output_1_loss: 0.6591 - val_output_2_loss: 0.1955 - val_output_3_loss: 0.0230 - val_output_4_loss: 6.3995 - val_output_3_precision: 0.9645 - val_output_3_recall: 0.6002 - val_output_3_true_negatives: 7592915.0000 - val_output_3_true_positives: 7097.0000 - val_output_3_false_negatives: 4727.0000 - val_output_3_false_positives: 261.0000\n",
      "Epoch 13/20\n",
      "4607/4607 [==============================] - 489s 106ms/step - loss: 2.8927 - output_1_loss: 0.2796 - output_2_loss: 0.1252 - output_3_loss: 0.0029 - output_4_loss: 0.8631 - output_3_precision: 0.9668 - output_3_recall: 0.9501 - output_3_true_negatives: 186545152.0000 - output_3_true_positives: 257022.0000 - output_3_false_negatives: 13502.0000 - output_3_false_positives: 8833.0000 - val_loss: 10.7574 - val_output_1_loss: 0.6516 - val_output_2_loss: 0.1982 - val_output_3_loss: 0.0237 - val_output_4_loss: 6.4614 - val_output_3_precision: 0.9703 - val_output_3_recall: 0.5972 - val_output_3_true_negatives: 7592960.0000 - val_output_3_true_positives: 7061.0000 - val_output_3_false_negatives: 4763.0000 - val_output_3_false_positives: 216.0000\n",
      "Epoch 14/20\n",
      "4607/4607 [==============================] - 493s 107ms/step - loss: 2.8340 - output_1_loss: 0.2777 - output_2_loss: 0.1232 - output_3_loss: 0.0028 - output_4_loss: 0.8238 - output_3_precision: 0.9681 - output_3_recall: 0.9529 - output_3_true_negatives: 186545280.0000 - output_3_true_positives: 257772.0000 - output_3_false_negatives: 12752.0000 - output_3_false_positives: 8485.0000 - val_loss: 11.3278 - val_output_1_loss: 0.6293 - val_output_2_loss: 0.1976 - val_output_3_loss: 0.0258 - val_output_4_loss: 7.1415 - val_output_3_precision: 0.9736 - val_output_3_recall: 0.5826 - val_output_3_true_negatives: 7592989.0000 - val_output_3_true_positives: 6889.0000 - val_output_3_false_negatives: 4935.0000 - val_output_3_false_positives: 187.0000\n",
      "Epoch 15/20\n",
      "4607/4607 [==============================] - 503s 109ms/step - loss: 2.7432 - output_1_loss: 0.2697 - output_2_loss: 0.1213 - output_3_loss: 0.0026 - output_4_loss: 0.7827 - output_3_precision: 0.9694 - output_3_recall: 0.9562 - output_3_true_negatives: 186546048.0000 - output_3_true_positives: 258680.0000 - output_3_false_negatives: 11844.0000 - output_3_false_positives: 8152.0000 - val_loss: 10.3676 - val_output_1_loss: 0.6216 - val_output_2_loss: 0.1869 - val_output_3_loss: 0.0224 - val_output_4_loss: 6.2805 - val_output_3_precision: 0.9691 - val_output_3_recall: 0.6079 - val_output_3_true_negatives: 7592947.0000 - val_output_3_true_positives: 7188.0000 - val_output_3_false_negatives: 4636.0000 - val_output_3_false_positives: 229.0000\n",
      "Epoch 16/20\n",
      "4607/4607 [==============================] - 496s 108ms/step - loss: 2.6521 - output_1_loss: 0.2651 - output_2_loss: 0.1169 - output_3_loss: 0.0025 - output_4_loss: 0.7375 - output_3_precision: 0.9715 - output_3_recall: 0.9589 - output_3_true_negatives: 186546272.0000 - output_3_true_positives: 259401.0000 - output_3_false_negatives: 11123.0000 - output_3_false_positives: 7614.0000 - val_loss: 10.5079 - val_output_1_loss: 0.6012 - val_output_2_loss: 0.1863 - val_output_3_loss: 0.0234 - val_output_4_loss: 6.5237 - val_output_3_precision: 0.9715 - val_output_3_recall: 0.6131 - val_output_3_true_negatives: 7592963.0000 - val_output_3_true_positives: 7249.0000 - val_output_3_false_negatives: 4575.0000 - val_output_3_false_positives: 213.0000\n",
      "Epoch 17/20\n",
      "4607/4607 [==============================] - 485s 105ms/step - loss: 2.6163 - output_1_loss: 0.2624 - output_2_loss: 0.1158 - output_3_loss: 0.0024 - output_4_loss: 0.7201 - output_3_precision: 0.9718 - output_3_recall: 0.9597 - output_3_true_negatives: 186546496.0000 - output_3_true_positives: 259614.0000 - output_3_false_negatives: 10910.0000 - output_3_false_positives: 7544.0000 - val_loss: 10.1106 - val_output_1_loss: 0.6019 - val_output_2_loss: 0.1835 - val_output_3_loss: 0.0219 - val_output_4_loss: 6.1398 - val_output_3_precision: 0.9664 - val_output_3_recall: 0.6292 - val_output_3_true_negatives: 7592917.0000 - val_output_3_true_positives: 7440.0000 - val_output_3_false_negatives: 4384.0000 - val_output_3_false_positives: 259.0000\n",
      "Epoch 18/20\n",
      "4607/4607 [==============================] - 495s 107ms/step - loss: 2.5397 - output_1_loss: 0.2565 - output_2_loss: 0.1133 - output_3_loss: 0.0023 - output_4_loss: 0.6861 - output_3_precision: 0.9733 - output_3_recall: 0.9621 - output_3_true_negatives: 186546624.0000 - output_3_true_positives: 260278.0000 - output_3_false_negatives: 10246.0000 - output_3_false_positives: 7127.0000 - val_loss: 10.9238 - val_output_1_loss: 0.6044 - val_output_2_loss: 0.1826 - val_output_3_loss: 0.0253 - val_output_4_loss: 6.9383 - val_output_3_precision: 0.9686 - val_output_3_recall: 0.6053 - val_output_3_true_negatives: 7592944.0000 - val_output_3_true_positives: 7157.0000 - val_output_3_false_negatives: 4667.0000 - val_output_3_false_positives: 232.0000\n",
      "Epoch 19/20\n",
      "4607/4607 [==============================] - 489s 106ms/step - loss: 2.5042 - output_1_loss: 0.2557 - output_2_loss: 0.1115 - output_3_loss: 0.0022 - output_4_loss: 0.6639 - output_3_precision: 0.9740 - output_3_recall: 0.9631 - output_3_true_negatives: 186546592.0000 - output_3_true_positives: 260553.0000 - output_3_false_negatives: 9971.0000 - output_3_false_positives: 6951.0000 - val_loss: 9.9871 - val_output_1_loss: 0.5977 - val_output_2_loss: 0.1798 - val_output_3_loss: 0.0220 - val_output_4_loss: 6.0558 - val_output_3_precision: 0.9721 - val_output_3_recall: 0.6329 - val_output_3_true_negatives: 7592961.0000 - val_output_3_true_positives: 7483.0000 - val_output_3_false_negatives: 4341.0000 - val_output_3_false_positives: 215.0000\n",
      "Epoch 20/20\n",
      "4607/4607 [==============================] - 498s 108ms/step - loss: 2.4404 - output_1_loss: 0.2511 - output_2_loss: 0.1110 - output_3_loss: 0.0021 - output_4_loss: 0.6256 - output_3_precision: 0.9755 - output_3_recall: 0.9654 - output_3_true_negatives: 186547264.0000 - output_3_true_positives: 261171.0000 - output_3_false_negatives: 9353.0000 - output_3_false_positives: 6551.0000 - val_loss: 9.8934 - val_output_1_loss: 0.5651 - val_output_2_loss: 0.1772 - val_output_3_loss: 0.0220 - val_output_4_loss: 6.1381 - val_output_3_precision: 0.9742 - val_output_3_recall: 0.6324 - val_output_3_true_negatives: 7592978.0000 - val_output_3_true_positives: 7477.0000 - val_output_3_false_negatives: 4347.0000 - val_output_3_false_positives: 198.0000\n"
     ]
    }
   ],
   "source": [
    "history = model.fit(train_dataset, epochs=20,validation_data=val_dataset)"
   ]
  },
  {
   "cell_type": "code",
   "execution_count": null,
   "metadata": {},
   "outputs": [],
   "source": []
  },
  {
   "cell_type": "code",
   "execution_count": 17,
   "metadata": {},
   "outputs": [],
   "source": [
    "os.chdir(root_path+\"/json_final_experiment\")\n",
    "import json\n",
    "#json.dumps(str(a))\n",
    "with open('history_finetuning_5521_30_50_epoch_nadam_0dot00001_mse_exp_mse_3anchors_final_experiment.json', 'w') as fp:\n",
    "    json.dump(str(history.history), fp)"
   ]
  },
  {
   "cell_type": "code",
   "execution_count": 18,
   "metadata": {},
   "outputs": [],
   "source": [
    "model.save_weights(root_path+'/last_weights/pesos_finetuning_5521_30_50_epoch_nadam_0dot00001_mse_exp_mse_3anchors_final_experiment')"
   ]
  },
  {
   "cell_type": "code",
   "execution_count": null,
   "metadata": {},
   "outputs": [],
   "source": []
  },
  {
   "cell_type": "code",
   "execution_count": null,
   "metadata": {},
   "outputs": [],
   "source": []
  },
  {
   "cell_type": "code",
   "execution_count": null,
   "metadata": {},
   "outputs": [],
   "source": []
  },
  {
   "cell_type": "code",
   "execution_count": 6,
   "metadata": {},
   "outputs": [
    {
     "name": "stdout",
     "output_type": "stream",
     "text": [
      "Modo entrenamiento\n"
     ]
    },
    {
     "data": {
      "text/plain": [
       "<tensorflow.python.training.tracking.util.CheckpointLoadStatus at 0x7f7aac76f710>"
      ]
     },
     "execution_count": 6,
     "metadata": {},
     "output_type": "execute_result"
    }
   ],
   "source": [
    "anchors =tf.constant(np.array([[0,0,0.02078,0.049],[0,0,0.0426,0.128],[0,0,0.08523,0.19356],[0,0,0.1506,0.4163],[0,0,0.27835,0.58651],[0,0,0.5632,0.78614]]),dtype=tf.float32)\n",
    "model = TinyYOLOv3(1,anchor_boxes=anchors,train=True,mode = \"finetuning\")\n",
    "model.build(batch_input_shape=(None,416,416,3))\n",
    "#print(model.load_weights_darknet(\"/home/sergio/TinyYOLOv3-Pedestrian-Detection/yolov3-tiny.weights\"))\n",
    "model.load_weights('/home/sergio/Documents/weights_saved/pesos_finetuning_5521_30_30_epoch_nadam_0dot00001_msle_exp_mse_3anchors')"
   ]
  },
  {
   "cell_type": "code",
   "execution_count": 7,
   "metadata": {},
   "outputs": [
    {
     "name": "stdout",
     "output_type": "stream",
     "text": [
      "BasicBlock1 True\n",
      "BasicBlock2 True\n",
      "BasicBlock3 True\n",
      "BasicBlock4 True\n",
      "BasicBlock5 True\n",
      "BasicBlock6 True\n",
      "BasicBlock7 True\n",
      "BasicBlock8 True\n",
      "BasicBlock9 True\n",
      "FinalBlock1 True\n",
      "BasicBlock11 True\n",
      "BasicBlock12 True\n",
      "FinalBlock2 True\n",
      "Concatenate True\n",
      "Upsampling True\n",
      "Prediction1 True\n",
      "Prediction2 True\n",
      "Concatenate_BBOX True\n"
     ]
    }
   ],
   "source": [
    "for l in model.layers:\n",
    "    print(l.name, l.trainable)\n",
    "    pass"
   ]
  },
  {
   "cell_type": "code",
   "execution_count": 8,
   "metadata": {},
   "outputs": [],
   "source": [
    "tf.random.set_seed(0)\n",
    "\n",
    "from tensorflow.keras.metrics import TrueNegatives,TruePositives,FalseNegatives,FalsePositives,Precision,Recall\n",
    "\n",
    "opt = tf.keras.optimizers.Nadam(learning_rate=1e-4)\n",
    "\n",
    "losses = {\"output_1\": loss_xy,\n",
    "          \"output_2\": loss_wh,\n",
    "          \"output_3\":loss_objectness,\n",
    "          \"output_4\":loss_no_objectness  \n",
    "}\n",
    "\n",
    "metrics = {\"output_3\":[Precision(0.5),Recall(0.5),TrueNegatives(0.5),TruePositives(0.5),FalseNegatives(0.5),FalsePositives(0.5)]}\n",
    "model.compile(optimizer=opt, loss=losses,metrics=metrics,loss_weights=[5,5,2,1])\n",
    "os.chdir(\"/home/sergio/Documents/pedestrian_dataset_train_tfr\")"
   ]
  },
  {
   "cell_type": "code",
   "execution_count": 14,
   "metadata": {},
   "outputs": [
    {
     "name": "stdout",
     "output_type": "stream",
     "text": [
      "Epoch 1/20\n"
     ]
    },
    {
     "ename": "NotFoundError",
     "evalue": "2 root error(s) found.\n  (0) Not found:  tfr_3000; No such file or directory\n\t [[node IteratorGetNext (defined at <ipython-input-10-e2e0a40a2154>:1) ]]\n  (1) Not found:  tfr_3000; No such file or directory\n\t [[node IteratorGetNext (defined at <ipython-input-10-e2e0a40a2154>:1) ]]\n\t [[IteratorGetNext/_6]]\n0 successful operations.\n0 derived errors ignored. [Op:__inference_train_function_9569]\n\nFunction call stack:\ntrain_function -> train_function\n",
     "output_type": "error",
     "traceback": [
      "\u001b[0;31m---------------------------------------------------------------------------\u001b[0m",
      "\u001b[0;31mNotFoundError\u001b[0m                             Traceback (most recent call last)",
      "\u001b[0;32m<ipython-input-14-e2e0a40a2154>\u001b[0m in \u001b[0;36m<module>\u001b[0;34m\u001b[0m\n\u001b[0;32m----> 1\u001b[0;31m \u001b[0mhistory\u001b[0m \u001b[0;34m=\u001b[0m \u001b[0mmodel\u001b[0m\u001b[0;34m.\u001b[0m\u001b[0mfit\u001b[0m\u001b[0;34m(\u001b[0m\u001b[0mtrain_dataset\u001b[0m\u001b[0;34m,\u001b[0m \u001b[0mepochs\u001b[0m\u001b[0;34m=\u001b[0m\u001b[0;36m20\u001b[0m\u001b[0;34m,\u001b[0m\u001b[0mvalidation_data\u001b[0m\u001b[0;34m=\u001b[0m\u001b[0mval_dataset\u001b[0m\u001b[0;34m)\u001b[0m\u001b[0;34m\u001b[0m\u001b[0;34m\u001b[0m\u001b[0m\n\u001b[0m",
      "\u001b[0;32m/usr/local/lib/python3.6/dist-packages/tensorflow/python/keras/engine/training.py\u001b[0m in \u001b[0;36m_method_wrapper\u001b[0;34m(self, *args, **kwargs)\u001b[0m\n\u001b[1;32m     64\u001b[0m   \u001b[0;32mdef\u001b[0m \u001b[0m_method_wrapper\u001b[0m\u001b[0;34m(\u001b[0m\u001b[0mself\u001b[0m\u001b[0;34m,\u001b[0m \u001b[0;34m*\u001b[0m\u001b[0margs\u001b[0m\u001b[0;34m,\u001b[0m \u001b[0;34m**\u001b[0m\u001b[0mkwargs\u001b[0m\u001b[0;34m)\u001b[0m\u001b[0;34m:\u001b[0m\u001b[0;34m\u001b[0m\u001b[0;34m\u001b[0m\u001b[0m\n\u001b[1;32m     65\u001b[0m     \u001b[0;32mif\u001b[0m \u001b[0;32mnot\u001b[0m \u001b[0mself\u001b[0m\u001b[0;34m.\u001b[0m\u001b[0m_in_multi_worker_mode\u001b[0m\u001b[0;34m(\u001b[0m\u001b[0;34m)\u001b[0m\u001b[0;34m:\u001b[0m  \u001b[0;31m# pylint: disable=protected-access\u001b[0m\u001b[0;34m\u001b[0m\u001b[0;34m\u001b[0m\u001b[0m\n\u001b[0;32m---> 66\u001b[0;31m       \u001b[0;32mreturn\u001b[0m \u001b[0mmethod\u001b[0m\u001b[0;34m(\u001b[0m\u001b[0mself\u001b[0m\u001b[0;34m,\u001b[0m \u001b[0;34m*\u001b[0m\u001b[0margs\u001b[0m\u001b[0;34m,\u001b[0m \u001b[0;34m**\u001b[0m\u001b[0mkwargs\u001b[0m\u001b[0;34m)\u001b[0m\u001b[0;34m\u001b[0m\u001b[0;34m\u001b[0m\u001b[0m\n\u001b[0m\u001b[1;32m     67\u001b[0m \u001b[0;34m\u001b[0m\u001b[0m\n\u001b[1;32m     68\u001b[0m     \u001b[0;31m# Running inside `run_distribute_coordinator` already.\u001b[0m\u001b[0;34m\u001b[0m\u001b[0;34m\u001b[0m\u001b[0;34m\u001b[0m\u001b[0m\n",
      "\u001b[0;32m/usr/local/lib/python3.6/dist-packages/tensorflow/python/keras/engine/training.py\u001b[0m in \u001b[0;36mfit\u001b[0;34m(self, x, y, batch_size, epochs, verbose, callbacks, validation_split, validation_data, shuffle, class_weight, sample_weight, initial_epoch, steps_per_epoch, validation_steps, validation_batch_size, validation_freq, max_queue_size, workers, use_multiprocessing)\u001b[0m\n\u001b[1;32m    846\u001b[0m                 batch_size=batch_size):\n\u001b[1;32m    847\u001b[0m               \u001b[0mcallbacks\u001b[0m\u001b[0;34m.\u001b[0m\u001b[0mon_train_batch_begin\u001b[0m\u001b[0;34m(\u001b[0m\u001b[0mstep\u001b[0m\u001b[0;34m)\u001b[0m\u001b[0;34m\u001b[0m\u001b[0;34m\u001b[0m\u001b[0m\n\u001b[0;32m--> 848\u001b[0;31m               \u001b[0mtmp_logs\u001b[0m \u001b[0;34m=\u001b[0m \u001b[0mtrain_function\u001b[0m\u001b[0;34m(\u001b[0m\u001b[0miterator\u001b[0m\u001b[0;34m)\u001b[0m\u001b[0;34m\u001b[0m\u001b[0;34m\u001b[0m\u001b[0m\n\u001b[0m\u001b[1;32m    849\u001b[0m               \u001b[0;31m# Catch OutOfRangeError for Datasets of unknown size.\u001b[0m\u001b[0;34m\u001b[0m\u001b[0;34m\u001b[0m\u001b[0;34m\u001b[0m\u001b[0m\n\u001b[1;32m    850\u001b[0m               \u001b[0;31m# This blocks until the batch has finished executing.\u001b[0m\u001b[0;34m\u001b[0m\u001b[0;34m\u001b[0m\u001b[0;34m\u001b[0m\u001b[0m\n",
      "\u001b[0;32m/usr/local/lib/python3.6/dist-packages/tensorflow/python/eager/def_function.py\u001b[0m in \u001b[0;36m__call__\u001b[0;34m(self, *args, **kwds)\u001b[0m\n\u001b[1;32m    578\u001b[0m         \u001b[0mxla_context\u001b[0m\u001b[0;34m.\u001b[0m\u001b[0mExit\u001b[0m\u001b[0;34m(\u001b[0m\u001b[0;34m)\u001b[0m\u001b[0;34m\u001b[0m\u001b[0;34m\u001b[0m\u001b[0m\n\u001b[1;32m    579\u001b[0m     \u001b[0;32melse\u001b[0m\u001b[0;34m:\u001b[0m\u001b[0;34m\u001b[0m\u001b[0;34m\u001b[0m\u001b[0m\n\u001b[0;32m--> 580\u001b[0;31m       \u001b[0mresult\u001b[0m \u001b[0;34m=\u001b[0m \u001b[0mself\u001b[0m\u001b[0;34m.\u001b[0m\u001b[0m_call\u001b[0m\u001b[0;34m(\u001b[0m\u001b[0;34m*\u001b[0m\u001b[0margs\u001b[0m\u001b[0;34m,\u001b[0m \u001b[0;34m**\u001b[0m\u001b[0mkwds\u001b[0m\u001b[0;34m)\u001b[0m\u001b[0;34m\u001b[0m\u001b[0;34m\u001b[0m\u001b[0m\n\u001b[0m\u001b[1;32m    581\u001b[0m \u001b[0;34m\u001b[0m\u001b[0m\n\u001b[1;32m    582\u001b[0m     \u001b[0;32mif\u001b[0m \u001b[0mtracing_count\u001b[0m \u001b[0;34m==\u001b[0m \u001b[0mself\u001b[0m\u001b[0;34m.\u001b[0m\u001b[0m_get_tracing_count\u001b[0m\u001b[0;34m(\u001b[0m\u001b[0;34m)\u001b[0m\u001b[0;34m:\u001b[0m\u001b[0;34m\u001b[0m\u001b[0;34m\u001b[0m\u001b[0m\n",
      "\u001b[0;32m/usr/local/lib/python3.6/dist-packages/tensorflow/python/eager/def_function.py\u001b[0m in \u001b[0;36m_call\u001b[0;34m(self, *args, **kwds)\u001b[0m\n\u001b[1;32m    609\u001b[0m       \u001b[0;31m# In this case we have created variables on the first call, so we run the\u001b[0m\u001b[0;34m\u001b[0m\u001b[0;34m\u001b[0m\u001b[0;34m\u001b[0m\u001b[0m\n\u001b[1;32m    610\u001b[0m       \u001b[0;31m# defunned version which is guaranteed to never create variables.\u001b[0m\u001b[0;34m\u001b[0m\u001b[0;34m\u001b[0m\u001b[0;34m\u001b[0m\u001b[0m\n\u001b[0;32m--> 611\u001b[0;31m       \u001b[0;32mreturn\u001b[0m \u001b[0mself\u001b[0m\u001b[0;34m.\u001b[0m\u001b[0m_stateless_fn\u001b[0m\u001b[0;34m(\u001b[0m\u001b[0;34m*\u001b[0m\u001b[0margs\u001b[0m\u001b[0;34m,\u001b[0m \u001b[0;34m**\u001b[0m\u001b[0mkwds\u001b[0m\u001b[0;34m)\u001b[0m  \u001b[0;31m# pylint: disable=not-callable\u001b[0m\u001b[0;34m\u001b[0m\u001b[0;34m\u001b[0m\u001b[0m\n\u001b[0m\u001b[1;32m    612\u001b[0m     \u001b[0;32melif\u001b[0m \u001b[0mself\u001b[0m\u001b[0;34m.\u001b[0m\u001b[0m_stateful_fn\u001b[0m \u001b[0;32mis\u001b[0m \u001b[0;32mnot\u001b[0m \u001b[0;32mNone\u001b[0m\u001b[0;34m:\u001b[0m\u001b[0;34m\u001b[0m\u001b[0;34m\u001b[0m\u001b[0m\n\u001b[1;32m    613\u001b[0m       \u001b[0;31m# Release the lock early so that multiple threads can perform the call\u001b[0m\u001b[0;34m\u001b[0m\u001b[0;34m\u001b[0m\u001b[0;34m\u001b[0m\u001b[0m\n",
      "\u001b[0;32m/usr/local/lib/python3.6/dist-packages/tensorflow/python/eager/function.py\u001b[0m in \u001b[0;36m__call__\u001b[0;34m(self, *args, **kwargs)\u001b[0m\n\u001b[1;32m   2418\u001b[0m     \u001b[0;32mwith\u001b[0m \u001b[0mself\u001b[0m\u001b[0;34m.\u001b[0m\u001b[0m_lock\u001b[0m\u001b[0;34m:\u001b[0m\u001b[0;34m\u001b[0m\u001b[0;34m\u001b[0m\u001b[0m\n\u001b[1;32m   2419\u001b[0m       \u001b[0mgraph_function\u001b[0m\u001b[0;34m,\u001b[0m \u001b[0margs\u001b[0m\u001b[0;34m,\u001b[0m \u001b[0mkwargs\u001b[0m \u001b[0;34m=\u001b[0m \u001b[0mself\u001b[0m\u001b[0;34m.\u001b[0m\u001b[0m_maybe_define_function\u001b[0m\u001b[0;34m(\u001b[0m\u001b[0margs\u001b[0m\u001b[0;34m,\u001b[0m \u001b[0mkwargs\u001b[0m\u001b[0;34m)\u001b[0m\u001b[0;34m\u001b[0m\u001b[0;34m\u001b[0m\u001b[0m\n\u001b[0;32m-> 2420\u001b[0;31m     \u001b[0;32mreturn\u001b[0m \u001b[0mgraph_function\u001b[0m\u001b[0;34m.\u001b[0m\u001b[0m_filtered_call\u001b[0m\u001b[0;34m(\u001b[0m\u001b[0margs\u001b[0m\u001b[0;34m,\u001b[0m \u001b[0mkwargs\u001b[0m\u001b[0;34m)\u001b[0m  \u001b[0;31m# pylint: disable=protected-access\u001b[0m\u001b[0;34m\u001b[0m\u001b[0;34m\u001b[0m\u001b[0m\n\u001b[0m\u001b[1;32m   2421\u001b[0m \u001b[0;34m\u001b[0m\u001b[0m\n\u001b[1;32m   2422\u001b[0m   \u001b[0;34m@\u001b[0m\u001b[0mproperty\u001b[0m\u001b[0;34m\u001b[0m\u001b[0;34m\u001b[0m\u001b[0m\n",
      "\u001b[0;32m/usr/local/lib/python3.6/dist-packages/tensorflow/python/eager/function.py\u001b[0m in \u001b[0;36m_filtered_call\u001b[0;34m(self, args, kwargs)\u001b[0m\n\u001b[1;32m   1663\u001b[0m          if isinstance(t, (ops.Tensor,\n\u001b[1;32m   1664\u001b[0m                            resource_variable_ops.BaseResourceVariable))),\n\u001b[0;32m-> 1665\u001b[0;31m         self.captured_inputs)\n\u001b[0m\u001b[1;32m   1666\u001b[0m \u001b[0;34m\u001b[0m\u001b[0m\n\u001b[1;32m   1667\u001b[0m   \u001b[0;32mdef\u001b[0m \u001b[0m_call_flat\u001b[0m\u001b[0;34m(\u001b[0m\u001b[0mself\u001b[0m\u001b[0;34m,\u001b[0m \u001b[0margs\u001b[0m\u001b[0;34m,\u001b[0m \u001b[0mcaptured_inputs\u001b[0m\u001b[0;34m,\u001b[0m \u001b[0mcancellation_manager\u001b[0m\u001b[0;34m=\u001b[0m\u001b[0;32mNone\u001b[0m\u001b[0;34m)\u001b[0m\u001b[0;34m:\u001b[0m\u001b[0;34m\u001b[0m\u001b[0;34m\u001b[0m\u001b[0m\n",
      "\u001b[0;32m/usr/local/lib/python3.6/dist-packages/tensorflow/python/eager/function.py\u001b[0m in \u001b[0;36m_call_flat\u001b[0;34m(self, args, captured_inputs, cancellation_manager)\u001b[0m\n\u001b[1;32m   1744\u001b[0m       \u001b[0;31m# No tape is watching; skip to running the function.\u001b[0m\u001b[0;34m\u001b[0m\u001b[0;34m\u001b[0m\u001b[0;34m\u001b[0m\u001b[0m\n\u001b[1;32m   1745\u001b[0m       return self._build_call_outputs(self._inference_function.call(\n\u001b[0;32m-> 1746\u001b[0;31m           ctx, args, cancellation_manager=cancellation_manager))\n\u001b[0m\u001b[1;32m   1747\u001b[0m     forward_backward = self._select_forward_and_backward_functions(\n\u001b[1;32m   1748\u001b[0m         \u001b[0margs\u001b[0m\u001b[0;34m,\u001b[0m\u001b[0;34m\u001b[0m\u001b[0;34m\u001b[0m\u001b[0m\n",
      "\u001b[0;32m/usr/local/lib/python3.6/dist-packages/tensorflow/python/eager/function.py\u001b[0m in \u001b[0;36mcall\u001b[0;34m(self, ctx, args, cancellation_manager)\u001b[0m\n\u001b[1;32m    596\u001b[0m               \u001b[0minputs\u001b[0m\u001b[0;34m=\u001b[0m\u001b[0margs\u001b[0m\u001b[0;34m,\u001b[0m\u001b[0;34m\u001b[0m\u001b[0;34m\u001b[0m\u001b[0m\n\u001b[1;32m    597\u001b[0m               \u001b[0mattrs\u001b[0m\u001b[0;34m=\u001b[0m\u001b[0mattrs\u001b[0m\u001b[0;34m,\u001b[0m\u001b[0;34m\u001b[0m\u001b[0;34m\u001b[0m\u001b[0m\n\u001b[0;32m--> 598\u001b[0;31m               ctx=ctx)\n\u001b[0m\u001b[1;32m    599\u001b[0m         \u001b[0;32melse\u001b[0m\u001b[0;34m:\u001b[0m\u001b[0;34m\u001b[0m\u001b[0;34m\u001b[0m\u001b[0m\n\u001b[1;32m    600\u001b[0m           outputs = execute.execute_with_cancellation(\n",
      "\u001b[0;32m/usr/local/lib/python3.6/dist-packages/tensorflow/python/eager/execute.py\u001b[0m in \u001b[0;36mquick_execute\u001b[0;34m(op_name, num_outputs, inputs, attrs, ctx, name)\u001b[0m\n\u001b[1;32m     58\u001b[0m     \u001b[0mctx\u001b[0m\u001b[0;34m.\u001b[0m\u001b[0mensure_initialized\u001b[0m\u001b[0;34m(\u001b[0m\u001b[0;34m)\u001b[0m\u001b[0;34m\u001b[0m\u001b[0;34m\u001b[0m\u001b[0m\n\u001b[1;32m     59\u001b[0m     tensors = pywrap_tfe.TFE_Py_Execute(ctx._handle, device_name, op_name,\n\u001b[0;32m---> 60\u001b[0;31m                                         inputs, attrs, num_outputs)\n\u001b[0m\u001b[1;32m     61\u001b[0m   \u001b[0;32mexcept\u001b[0m \u001b[0mcore\u001b[0m\u001b[0;34m.\u001b[0m\u001b[0m_NotOkStatusException\u001b[0m \u001b[0;32mas\u001b[0m \u001b[0me\u001b[0m\u001b[0;34m:\u001b[0m\u001b[0;34m\u001b[0m\u001b[0;34m\u001b[0m\u001b[0m\n\u001b[1;32m     62\u001b[0m     \u001b[0;32mif\u001b[0m \u001b[0mname\u001b[0m \u001b[0;32mis\u001b[0m \u001b[0;32mnot\u001b[0m \u001b[0;32mNone\u001b[0m\u001b[0;34m:\u001b[0m\u001b[0;34m\u001b[0m\u001b[0;34m\u001b[0m\u001b[0m\n",
      "\u001b[0;31mNotFoundError\u001b[0m: 2 root error(s) found.\n  (0) Not found:  tfr_3000; No such file or directory\n\t [[node IteratorGetNext (defined at <ipython-input-10-e2e0a40a2154>:1) ]]\n  (1) Not found:  tfr_3000; No such file or directory\n\t [[node IteratorGetNext (defined at <ipython-input-10-e2e0a40a2154>:1) ]]\n\t [[IteratorGetNext/_6]]\n0 successful operations.\n0 derived errors ignored. [Op:__inference_train_function_9569]\n\nFunction call stack:\ntrain_function -> train_function\n"
     ]
    }
   ],
   "source": [
    "history = model.fit(train_dataset, epochs=20,validation_data=val_dataset)"
   ]
  },
  {
   "cell_type": "code",
   "execution_count": 10,
   "metadata": {},
   "outputs": [],
   "source": [
    "os.chdir(\"/home/sergio/Documents/json_experiments\")\n",
    "import json\n",
    "#json.dumps(str(a))\n",
    "with open('history_finetuning_5521_30_50_epoch_nadam_0dot00001_msle_exp_mse_3anchors.json', 'w') as fp:\n",
    "    json.dump(str(history.history), fp)"
   ]
  },
  {
   "cell_type": "code",
   "execution_count": null,
   "metadata": {},
   "outputs": [],
   "source": []
  },
  {
   "cell_type": "markdown",
   "metadata": {},
   "source": [
    "## CONTINUACION"
   ]
  },
  {
   "cell_type": "code",
   "execution_count": 11,
   "metadata": {},
   "outputs": [],
   "source": [
    "model.save_weights('/home/sergio/Documents/weights_saved/pesos_finetuning_5521_30_50_epoch_nadam_0dot00001_msle_exp_mse_3anchors')"
   ]
  },
  {
   "cell_type": "code",
   "execution_count": 13,
   "metadata": {},
   "outputs": [],
   "source": [
    "os.chdir(\"/home/sergio/Documents/pedestrian_dataset_train_tfr\")"
   ]
  },
  {
   "cell_type": "code",
   "execution_count": 14,
   "metadata": {},
   "outputs": [
    {
     "name": "stdout",
     "output_type": "stream",
     "text": [
      "Epoch 1/20\n",
      "4607/4607 [==============================] - 582s 126ms/step - loss: 8.8212 - output_1_loss: 7.3160e-06 - output_2_loss: 0.3153 - output_3_loss: 0.0226 - output_4_loss: 7.1994 - output_3_precision: 0.8232 - output_3_recall: 0.5077 - output_3_true_negatives: 186524448.0000 - output_3_true_positives: 137218.0000 - output_3_false_negatives: 133044.0000 - output_3_false_positives: 29466.0000 - val_loss: 5.3150 - val_output_1_loss: 0.0000e+00 - val_output_2_loss: 0.2074 - val_output_3_loss: 0.0144 - val_output_4_loss: 4.2491 - val_output_3_precision: 0.8998 - val_output_3_recall: 0.7053 - val_output_3_true_negatives: 7592247.0000 - val_output_3_true_positives: 8340.0000 - val_output_3_false_negatives: 3484.0000 - val_output_3_false_positives: 929.0000\n",
      "Epoch 2/20\n",
      "4607/4607 [==============================] - 576s 125ms/step - loss: 8.7506 - output_1_loss: 1.0512e-05 - output_2_loss: 0.3162 - output_3_loss: 0.0223 - output_4_loss: 7.1247 - output_3_precision: 0.8242 - output_3_recall: 0.5132 - output_3_true_negatives: 186524368.0000 - output_3_true_positives: 138692.0000 - output_3_false_negatives: 131541.0000 - output_3_false_positives: 29586.0000 - val_loss: 5.1426 - val_output_1_loss: 0.0000e+00 - val_output_2_loss: 0.2032 - val_output_3_loss: 0.0140 - val_output_4_loss: 4.0986 - val_output_3_precision: 0.8871 - val_output_3_recall: 0.7270 - val_output_3_true_negatives: 7592082.0000 - val_output_3_true_positives: 8596.0000 - val_output_3_false_negatives: 3228.0000 - val_output_3_false_positives: 1094.0000\n",
      "Epoch 3/20\n",
      "4607/4607 [==============================] - 574s 125ms/step - loss: 8.6723 - output_1_loss: 3.3029e-07 - output_2_loss: 0.3109 - output_3_loss: 0.0222 - output_4_loss: 7.0735 - output_3_precision: 0.8254 - output_3_recall: 0.5165 - output_3_true_negatives: 186524352.0000 - output_3_true_positives: 139529.0000 - output_3_false_negatives: 130616.0000 - output_3_false_positives: 29507.0000 - val_loss: 5.0969 - val_output_1_loss: 0.0000e+00 - val_output_2_loss: 0.2098 - val_output_3_loss: 0.0138 - val_output_4_loss: 4.0201 - val_output_3_precision: 0.8974 - val_output_3_recall: 0.7230 - val_output_3_true_negatives: 7592199.0000 - val_output_3_true_positives: 8549.0000 - val_output_3_false_negatives: 3275.0000 - val_output_3_false_positives: 977.0000\n",
      "Epoch 4/20\n",
      "4607/4607 [==============================] - 559s 121ms/step - loss: 8.5993 - output_1_loss: 2.6926e-07 - output_2_loss: 0.3047 - output_3_loss: 0.0220 - output_4_loss: 7.0319 - output_3_precision: 0.8270 - output_3_recall: 0.5198 - output_3_true_negatives: 186524608.0000 - output_3_true_positives: 140486.0000 - output_3_false_negatives: 129766.0000 - output_3_false_positives: 29383.0000 - val_loss: 4.9817 - val_output_1_loss: 0.0000e+00 - val_output_2_loss: 0.2025 - val_output_3_loss: 0.0135 - val_output_4_loss: 3.9422 - val_output_3_precision: 0.8893 - val_output_3_recall: 0.7430 - val_output_3_true_negatives: 7592082.0000 - val_output_3_true_positives: 8785.0000 - val_output_3_false_negatives: 3039.0000 - val_output_3_false_positives: 1094.0000\n",
      "Epoch 5/20\n",
      "4607/4607 [==============================] - 579s 126ms/step - loss: 8.6169 - output_1_loss: 1.3953e-05 - output_2_loss: 0.3122 - output_3_loss: 0.0220 - output_4_loss: 7.0116 - output_3_precision: 0.8285 - output_3_recall: 0.5238 - output_3_true_negatives: 186525184.0000 - output_3_true_positives: 141523.0000 - output_3_false_negatives: 128659.0000 - output_3_false_positives: 29299.0000 - val_loss: 5.1029 - val_output_1_loss: 0.0000e+00 - val_output_2_loss: 0.2056 - val_output_3_loss: 0.0139 - val_output_4_loss: 4.0473 - val_output_3_precision: 0.8909 - val_output_3_recall: 0.7312 - val_output_3_true_negatives: 7592117.0000 - val_output_3_true_positives: 8646.0000 - val_output_3_false_negatives: 3178.0000 - val_output_3_false_positives: 1059.0000\n",
      "Epoch 6/20\n",
      "4607/4607 [==============================] - 581s 126ms/step - loss: 8.4804 - output_1_loss: 2.1438e-06 - output_2_loss: 0.2999 - output_3_loss: 0.0217 - output_4_loss: 6.9377 - output_3_precision: 0.8319 - output_3_recall: 0.5280 - output_3_true_negatives: 186525744.0000 - output_3_true_positives: 142634.0000 - output_3_false_negatives: 127488.0000 - output_3_false_positives: 28814.0000 - val_loss: 4.7968 - val_output_1_loss: 0.0000e+00 - val_output_2_loss: 0.2029 - val_output_3_loss: 0.0129 - val_output_4_loss: 3.7564 - val_output_3_precision: 0.9017 - val_output_3_recall: 0.7450 - val_output_3_true_negatives: 7592216.0000 - val_output_3_true_positives: 8809.0000 - val_output_3_false_negatives: 3015.0000 - val_output_3_false_positives: 960.0000\n",
      "Epoch 7/20\n",
      "4607/4607 [==============================] - 581s 126ms/step - loss: 8.4642 - output_1_loss: 1.4308e-05 - output_2_loss: 0.3019 - output_3_loss: 0.0216 - output_4_loss: 6.9112 - output_3_precision: 0.8322 - output_3_recall: 0.5317 - output_3_true_negatives: 186525376.0000 - output_3_true_positives: 143618.0000 - output_3_false_negatives: 126518.0000 - output_3_false_positives: 28949.0000 - val_loss: 4.8699 - val_output_1_loss: 0.0000e+00 - val_output_2_loss: 0.2014 - val_output_3_loss: 0.0132 - val_output_4_loss: 3.8367 - val_output_3_precision: 0.8833 - val_output_3_recall: 0.7512 - val_output_3_true_negatives: 7592002.0000 - val_output_3_true_positives: 8882.0000 - val_output_3_false_negatives: 2942.0000 - val_output_3_false_positives: 1174.0000\n",
      "Epoch 8/20\n",
      "4607/4607 [==============================] - 580s 126ms/step - loss: 8.3991 - output_1_loss: 7.7589e-07 - output_2_loss: 0.2980 - output_3_loss: 0.0215 - output_4_loss: 6.8661 - output_3_precision: 0.8323 - output_3_recall: 0.5340 - output_3_true_negatives: 186524976.0000 - output_3_true_positives: 144304.0000 - output_3_false_negatives: 125905.0000 - output_3_false_positives: 29085.0000 - val_loss: 4.8458 - val_output_1_loss: 0.0000e+00 - val_output_2_loss: 0.2081 - val_output_3_loss: 0.0128 - val_output_4_loss: 3.7795 - val_output_3_precision: 0.8886 - val_output_3_recall: 0.7674 - val_output_3_true_negatives: 7592038.0000 - val_output_3_true_positives: 9074.0000 - val_output_3_false_negatives: 2750.0000 - val_output_3_false_positives: 1138.0000\n",
      "Epoch 9/20\n",
      "4607/4607 [==============================] - 578s 125ms/step - loss: 8.3533 - output_1_loss: 3.5748e-07 - output_2_loss: 0.2987 - output_3_loss: 0.0214 - output_4_loss: 6.8168 - output_3_precision: 0.8358 - output_3_recall: 0.5398 - output_3_true_negatives: 186525216.0000 - output_3_true_positives: 145920.0000 - output_3_false_negatives: 124398.0000 - output_3_false_positives: 28665.0000 - val_loss: 4.6268 - val_output_1_loss: 0.0000e+00 - val_output_2_loss: 0.1927 - val_output_3_loss: 0.0124 - val_output_4_loss: 3.6385 - val_output_3_precision: 0.9025 - val_output_3_recall: 0.7683 - val_output_3_true_negatives: 7592195.0000 - val_output_3_true_positives: 9084.0000 - val_output_3_false_negatives: 2740.0000 - val_output_3_false_positives: 981.0000\n",
      "Epoch 10/20\n",
      "4607/4607 [==============================] - 559s 121ms/step - loss: 8.3873 - output_1_loss: 2.4545e-07 - output_2_loss: 0.3062 - output_3_loss: 0.0213 - output_4_loss: 6.8139 - output_3_precision: 0.8350 - output_3_recall: 0.5393 - output_3_true_negatives: 186525088.0000 - output_3_true_positives: 145788.0000 - output_3_false_negatives: 124518.0000 - output_3_false_positives: 28815.0000 - val_loss: 4.7114 - val_output_1_loss: 0.0000e+00 - val_output_2_loss: 0.1946 - val_output_3_loss: 0.0126 - val_output_4_loss: 3.7131 - val_output_3_precision: 0.8853 - val_output_3_recall: 0.7740 - val_output_3_true_negatives: 7591990.0000 - val_output_3_true_positives: 9152.0000 - val_output_3_false_negatives: 2672.0000 - val_output_3_false_positives: 1186.0000\n",
      "Epoch 11/20\n",
      "4607/4607 [==============================] - 586s 127ms/step - loss: 8.3661 - output_1_loss: 7.5379e-06 - output_2_loss: 0.3098 - output_3_loss: 0.0213 - output_4_loss: 6.7747 - output_3_precision: 0.8370 - output_3_recall: 0.5442 - output_3_true_negatives: 186525888.0000 - output_3_true_positives: 147049.0000 - output_3_false_negatives: 123142.0000 - output_3_false_positives: 28643.0000 - val_loss: 4.5935 - val_output_1_loss: 0.0000e+00 - val_output_2_loss: 0.1920 - val_output_3_loss: 0.0123 - val_output_4_loss: 3.6089 - val_output_3_precision: 0.8925 - val_output_3_recall: 0.7886 - val_output_3_true_negatives: 7592053.0000 - val_output_3_true_positives: 9324.0000 - val_output_3_false_negatives: 2500.0000 - val_output_3_false_positives: 1123.0000\n",
      "Epoch 12/20\n",
      "4607/4607 [==============================] - 588s 128ms/step - loss: 8.2102 - output_1_loss: 2.3169e-07 - output_2_loss: 0.2903 - output_3_loss: 0.0210 - output_4_loss: 6.7168 - output_3_precision: 0.8381 - output_3_recall: 0.5489 - output_3_true_negatives: 186525264.0000 - output_3_true_positives: 148357.0000 - output_3_false_negatives: 121937.0000 - output_3_false_positives: 28652.0000 - val_loss: 4.4494 - val_output_1_loss: 0.0000e+00 - val_output_2_loss: 0.1939 - val_output_3_loss: 0.0117 - val_output_4_loss: 3.4562 - val_output_3_precision: 0.9065 - val_output_3_recall: 0.7728 - val_output_3_true_negatives: 7592233.0000 - val_output_3_true_positives: 9138.0000 - val_output_3_false_negatives: 2686.0000 - val_output_3_false_positives: 943.0000\n",
      "Epoch 13/20\n",
      "4607/4607 [==============================] - 574s 125ms/step - loss: 8.2296 - output_1_loss: 4.7083e-06 - output_2_loss: 0.3005 - output_3_loss: 0.0208 - output_4_loss: 6.6856 - output_3_precision: 0.8396 - output_3_recall: 0.5500 - output_3_true_negatives: 186525888.0000 - output_3_true_positives: 148616.0000 - output_3_false_negatives: 121581.0000 - output_3_false_positives: 28386.0000 - val_loss: 4.3257 - val_output_1_loss: 0.0000e+00 - val_output_2_loss: 0.1891 - val_output_3_loss: 0.0115 - val_output_4_loss: 3.3572 - val_output_3_precision: 0.9064 - val_output_3_recall: 0.7895 - val_output_3_true_negatives: 7592212.0000 - val_output_3_true_positives: 9335.0000 - val_output_3_false_negatives: 2489.0000 - val_output_3_false_positives: 964.0000\n",
      "Epoch 14/20\n",
      "4607/4607 [==============================] - 562s 122ms/step - loss: 8.1283 - output_1_loss: 5.2536e-07 - output_2_loss: 0.2922 - output_3_loss: 0.0207 - output_4_loss: 6.6259 - output_3_precision: 0.8404 - output_3_recall: 0.5550 - output_3_true_negatives: 186525824.0000 - output_3_true_positives: 149988.0000 - output_3_false_negatives: 120284.0000 - output_3_false_positives: 28478.0000 - val_loss: 4.2328 - val_output_1_loss: 0.0000e+00 - val_output_2_loss: 0.1927 - val_output_3_loss: 0.0112 - val_output_4_loss: 3.2468 - val_output_3_precision: 0.9041 - val_output_3_recall: 0.7967 - val_output_3_true_negatives: 7592177.0000 - val_output_3_true_positives: 9420.0000 - val_output_3_false_negatives: 2404.0000 - val_output_3_false_positives: 999.0000\n",
      "Epoch 15/20\n",
      "4607/4607 [==============================] - 579s 126ms/step - loss: 8.1800 - output_1_loss: 1.7150e-06 - output_2_loss: 0.2964 - output_3_loss: 0.0208 - output_4_loss: 6.6565 - output_3_precision: 0.8419 - output_3_recall: 0.5538 - output_3_true_negatives: 186526080.0000 - output_3_true_positives: 149762.0000 - output_3_false_negatives: 120652.0000 - output_3_false_positives: 28128.0000 - val_loss: 4.3726 - val_output_1_loss: 0.0000e+00 - val_output_2_loss: 0.1899 - val_output_3_loss: 0.0115 - val_output_4_loss: 3.4003 - val_output_3_precision: 0.9008 - val_output_3_recall: 0.7901 - val_output_3_true_negatives: 7592147.0000 - val_output_3_true_positives: 9342.0000 - val_output_3_false_negatives: 2482.0000 - val_output_3_false_positives: 1029.0000\n",
      "Epoch 16/20\n",
      "4607/4607 [==============================] - 565s 123ms/step - loss: 8.1386 - output_1_loss: 3.6460e-07 - output_2_loss: 0.2977 - output_3_loss: 0.0206 - output_4_loss: 6.6089 - output_3_precision: 0.8421 - output_3_recall: 0.5571 - output_3_true_negatives: 186526032.0000 - output_3_true_positives: 150542.0000 - output_3_false_negatives: 119697.0000 - output_3_false_positives: 28232.0000 - val_loss: 4.3593 - val_output_1_loss: 0.0000e+00 - val_output_2_loss: 0.1900 - val_output_3_loss: 0.0114 - val_output_4_loss: 3.3865 - val_output_3_precision: 0.8894 - val_output_3_recall: 0.8046 - val_output_3_true_negatives: 7591993.0000 - val_output_3_true_positives: 9514.0000 - val_output_3_false_negatives: 2310.0000 - val_output_3_false_positives: 1183.0000\n",
      "Epoch 17/20\n",
      "4607/4607 [==============================] - 576s 125ms/step - loss: 8.1154 - output_1_loss: 3.9200e-06 - output_2_loss: 0.2996 - output_3_loss: 0.0205 - output_4_loss: 6.5762 - output_3_precision: 0.8445 - output_3_recall: 0.5598 - output_3_true_negatives: 186526336.0000 - output_3_true_positives: 151312.0000 - output_3_false_negatives: 119002.0000 - output_3_false_positives: 27860.0000 - val_loss: 4.3130 - val_output_1_loss: 0.0000e+00 - val_output_2_loss: 0.1873 - val_output_3_loss: 0.0113 - val_output_4_loss: 3.3540 - val_output_3_precision: 0.8973 - val_output_3_recall: 0.8093 - val_output_3_true_negatives: 7592081.0000 - val_output_3_true_positives: 9569.0000 - val_output_3_false_negatives: 2255.0000 - val_output_3_false_positives: 1095.0000\n",
      "Epoch 18/20\n",
      "4607/4607 [==============================] - 575s 125ms/step - loss: 7.9569 - output_1_loss: 1.6687e-06 - output_2_loss: 0.2878 - output_3_loss: 0.0202 - output_4_loss: 6.4773 - output_3_precision: 0.8472 - output_3_recall: 0.5668 - output_3_true_negatives: 186526512.0000 - output_3_true_positives: 153182.0000 - output_3_false_negatives: 117075.0000 - output_3_false_positives: 27638.0000 - val_loss: 4.1355 - val_output_1_loss: 4.0181e-07 - val_output_2_loss: 0.1837 - val_output_3_loss: 0.0108 - val_output_4_loss: 3.1952 - val_output_3_precision: 0.9061 - val_output_3_recall: 0.8113 - val_output_3_true_negatives: 7592182.0000 - val_output_3_true_positives: 9593.0000 - val_output_3_false_negatives: 2231.0000 - val_output_3_false_positives: 994.0000\n",
      "Epoch 19/20\n",
      "4607/4607 [==============================] - 598s 130ms/step - loss: 7.9382 - output_1_loss: 4.1452e-06 - output_2_loss: 0.2786 - output_3_loss: 0.0203 - output_4_loss: 6.5045 - output_3_precision: 0.8461 - output_3_recall: 0.5669 - output_3_true_negatives: 186525872.0000 - output_3_true_positives: 153190.0000 - output_3_false_negatives: 117037.0000 - output_3_false_positives: 27857.0000 - val_loss: 4.2012 - val_output_1_loss: 0.0000e+00 - val_output_2_loss: 0.1858 - val_output_3_loss: 0.0110 - val_output_4_loss: 3.2500 - val_output_3_precision: 0.9148 - val_output_3_recall: 0.7953 - val_output_3_true_negatives: 7592300.0000 - val_output_3_true_positives: 9404.0000 - val_output_3_false_negatives: 2420.0000 - val_output_3_false_positives: 876.0000\n",
      "Epoch 20/20\n",
      "4607/4607 [==============================] - 606s 132ms/step - loss: 7.9299 - output_1_loss: 5.8917e-07 - output_2_loss: 0.2837 - output_3_loss: 0.0202 - output_4_loss: 6.4708 - output_3_precision: 0.8483 - output_3_recall: 0.5683 - output_3_true_negatives: 186526528.0000 - output_3_true_positives: 153560.0000 - output_3_false_negatives: 116626.0000 - output_3_false_positives: 27452.0000 - val_loss: 3.8616 - val_output_1_loss: 3.6984e-06 - val_output_2_loss: 0.1786 - val_output_3_loss: 0.0100 - val_output_4_loss: 2.9488 - val_output_3_precision: 0.9168 - val_output_3_recall: 0.8212 - val_output_3_true_negatives: 7592295.0000 - val_output_3_true_positives: 9710.0000 - val_output_3_false_negatives: 2114.0000 - val_output_3_false_positives: 881.0000\n"
     ]
    }
   ],
   "source": [
    "history = model.fit(train_dataset, epochs=20,validation_data=val_dataset)"
   ]
  },
  {
   "cell_type": "code",
   "execution_count": null,
   "metadata": {},
   "outputs": [],
   "source": []
  },
  {
   "cell_type": "code",
   "execution_count": 10,
   "metadata": {},
   "outputs": [],
   "source": [
    "os.chdir(\"/home/sergio/Documents/json_experiments\")\n",
    "import json\n",
    "#json.dumps(str(a))\n",
    "with open('history_finetuning_5521_50_70_epoch_nadam_0dot00001_msle_exp_mse_3anchors.json', 'w') as fp:\n",
    "    json.dump(str(history.history), fp)"
   ]
  },
  {
   "cell_type": "code",
   "execution_count": 11,
   "metadata": {},
   "outputs": [],
   "source": [
    "model.save_weights('/home/sergio/Documents/weights_saved/pesos_finetuning_5521_50_70_epoch_nadam_0dot00001_msle_exp_mse_3anchors')"
   ]
  },
  {
   "cell_type": "code",
   "execution_count": null,
   "metadata": {},
   "outputs": [],
   "source": []
  },
  {
   "cell_type": "markdown",
   "metadata": {},
   "source": [
    "## CONTINUACION DESPUES DE LA EPOCA 50 PERO CON MENOR LR"
   ]
  },
  {
   "cell_type": "code",
   "execution_count": null,
   "metadata": {},
   "outputs": [],
   "source": []
  },
  {
   "cell_type": "code",
   "execution_count": 6,
   "metadata": {},
   "outputs": [
    {
     "name": "stdout",
     "output_type": "stream",
     "text": [
      "Modo entrenamiento\n"
     ]
    },
    {
     "data": {
      "text/plain": [
       "<tensorflow.python.training.tracking.util.CheckpointLoadStatus at 0x7f9ba4abd710>"
      ]
     },
     "execution_count": 6,
     "metadata": {},
     "output_type": "execute_result"
    }
   ],
   "source": [
    "anchors =tf.constant(np.array([[0,0,0.02078,0.049],[0,0,0.0426,0.128],[0,0,0.08523,0.19356],[0,0,0.1506,0.4163],[0,0,0.27835,0.58651],[0,0,0.5632,0.78614]]),dtype=tf.float32)\n",
    "model = TinyYOLOv3(1,anchor_boxes=anchors,train=True,mode = \"finetuning\")\n",
    "model.build(batch_input_shape=(None,416,416,3))\n",
    "#print(model.load_weights_darknet(\"/home/sergio/TinyYOLOv3-Pedestrian-Detection/yolov3-tiny.weights\"))\n",
    "model.load_weights('/home/sergio/Documents/weights_saved/pesos_finetuning_5521_30_50_epoch_nadam_0dot00001_msle_exp_mse_3anchors')"
   ]
  },
  {
   "cell_type": "code",
   "execution_count": 7,
   "metadata": {},
   "outputs": [
    {
     "name": "stdout",
     "output_type": "stream",
     "text": [
      "BasicBlock1 True\n",
      "BasicBlock2 True\n",
      "BasicBlock3 True\n",
      "BasicBlock4 True\n",
      "BasicBlock5 True\n",
      "BasicBlock6 True\n",
      "BasicBlock7 True\n",
      "BasicBlock8 True\n",
      "BasicBlock9 True\n",
      "FinalBlock1 True\n",
      "BasicBlock11 True\n",
      "BasicBlock12 True\n",
      "FinalBlock2 True\n",
      "Concatenate True\n",
      "Upsampling True\n",
      "Prediction1 True\n",
      "Prediction2 True\n",
      "Concatenate_BBOX True\n"
     ]
    }
   ],
   "source": [
    "for l in model.layers:\n",
    "    print(l.name, l.trainable)\n",
    "    pass"
   ]
  },
  {
   "cell_type": "code",
   "execution_count": 8,
   "metadata": {},
   "outputs": [],
   "source": [
    "tf.random.set_seed(0)\n",
    "\n",
    "from tensorflow.keras.metrics import TrueNegatives,TruePositives,FalseNegatives,FalsePositives,Precision,Recall\n",
    "\n",
    "opt = tf.keras.optimizers.Nadam(learning_rate=1e-5)\n",
    "\n",
    "losses = {\"output_1\": loss_xy,\n",
    "          \"output_2\": loss_wh,\n",
    "          \"output_3\":loss_objectness,\n",
    "          \"output_4\":loss_no_objectness  \n",
    "}\n",
    "\n",
    "metrics = {\"output_3\":[Precision(0.5),Recall(0.5),TrueNegatives(0.5),TruePositives(0.5),FalseNegatives(0.5),FalsePositives(0.5)]}\n",
    "model.compile(optimizer=opt, loss=losses,metrics=metrics,loss_weights=[5,5,2,1])\n",
    "os.chdir(\"/home/sergio/Documents/pedestrian_dataset_train_tfr\")"
   ]
  },
  {
   "cell_type": "code",
   "execution_count": 9,
   "metadata": {},
   "outputs": [
    {
     "name": "stdout",
     "output_type": "stream",
     "text": [
      "Modo entrenamiento\n",
      "Epoch 1/20\n",
      "Modo entrenamiento\n",
      "Modo entrenamiento\n",
      "   4607/Unknown - 582s 126ms/step - loss: 8.7700 - output_1_loss: 1.7040e-08 - output_2_loss: 0.3105 - output_3_loss: 0.0225 - output_4_loss: 7.1724 - output_3_precision: 0.8223 - output_3_recall: 0.5098 - output_3_true_negatives: 186524256.0000 - output_3_true_positives: 137724.0000 - output_3_false_negatives: 132440.0000 - output_3_false_positives: 29772.0000- 574s 126ms/step - loss: 8.7613 - output_1_loss: 1.7250e-08 - output_2_loss: 0.3101 - output_3_loss: 0.0224 - output_4_loss: 7.1660 - output_3_precision: 0.8221 - output_3_recall: 0.5098 - output_3_true_negatives: 184292224.0000 - output_3_true_positives: 135931.0000 - output_3_false_negatModo entrenamiento\n",
      "4607/4607 [==============================] - 590s 128ms/step - loss: 8.7700 - output_1_loss: 1.7040e-08 - output_2_loss: 0.3105 - output_3_loss: 0.0225 - output_4_loss: 7.1724 - output_3_precision: 0.8223 - output_3_recall: 0.5098 - output_3_true_negatives: 186524256.0000 - output_3_true_positives: 137724.0000 - output_3_false_negatives: 132440.0000 - output_3_false_positives: 29772.0000 - val_loss: 5.3353 - val_output_1_loss: 0.0000e+00 - val_output_2_loss: 0.2054 - val_output_3_loss: 0.0145 - val_output_4_loss: 4.2793 - val_output_3_precision: 0.8851 - val_output_3_recall: 0.7163 - val_output_3_true_negatives: 7592077.0000 - val_output_3_true_positives: 8470.0000 - val_output_3_false_negatives: 3354.0000 - val_output_3_false_positives: 1099.0000\n",
      "Epoch 2/20\n",
      "4607/4607 [==============================] - 586s 127ms/step - loss: 8.7017 - output_1_loss: 1.0859e-06 - output_2_loss: 0.3136 - output_3_loss: 0.0222 - output_4_loss: 7.0894 - output_3_precision: 0.8277 - output_3_recall: 0.5163 - output_3_true_negatives: 186525200.0000 - output_3_true_positives: 139546.0000 - output_3_false_negatives: 130752.0000 - output_3_false_positives: 29040.0000 - val_loss: 5.0662 - val_output_1_loss: 0.0000e+00 - val_output_2_loss: 0.2078 - val_output_3_loss: 0.0138 - val_output_4_loss: 3.9997 - val_output_3_precision: 0.8850 - val_output_3_recall: 0.7287 - val_output_3_true_negatives: 7592056.0000 - val_output_3_true_positives: 8616.0000 - val_output_3_false_negatives: 3208.0000 - val_output_3_false_positives: 1120.0000\n",
      "Epoch 3/20\n",
      "4607/4607 [==============================] - 584s 127ms/step - loss: 8.6101 - output_1_loss: 1.9664e-06 - output_2_loss: 0.3019 - output_3_loss: 0.0220 - output_4_loss: 7.0565 - output_3_precision: 0.8276 - output_3_recall: 0.5194 - output_3_true_negatives: 186525152.0000 - output_3_true_positives: 140319.0000 - output_3_false_negatives: 129856.0000 - output_3_false_positives: 29236.0000 - val_loss: 5.0105 - val_output_1_loss: 0.0000e+00 - val_output_2_loss: 0.2030 - val_output_3_loss: 0.0135 - val_output_4_loss: 3.9686 - val_output_3_precision: 0.8813 - val_output_3_recall: 0.7465 - val_output_3_true_negatives: 7591987.0000 - val_output_3_true_positives: 8827.0000 - val_output_3_false_negatives: 2997.0000 - val_output_3_false_positives: 1189.0000\n",
      "Epoch 4/20\n",
      "4607/4607 [==============================] - 585s 127ms/step - loss: 8.8712 - output_1_loss: 1.4038e-05 - output_2_loss: 0.3439 - output_3_loss: 0.0223 - output_4_loss: 7.1071 - output_3_precision: 0.8262 - output_3_recall: 0.5159 - output_3_true_negatives: 186524576.0000 - output_3_true_positives: 139435.0000 - output_3_false_negatives: 130856.0000 - output_3_false_positives: 29324.0000 - val_loss: 6.3172 - val_output_1_loss: 0.0000e+00 - val_output_2_loss: 0.2355 - val_output_3_loss: 0.0168 - val_output_4_loss: 5.1061 - val_output_3_precision: 0.8779 - val_output_3_recall: 0.6322 - val_output_3_true_negatives: 7592136.0000 - val_output_3_true_positives: 7475.0000 - val_output_3_false_negatives: 4349.0000 - val_output_3_false_positives: 1040.0000\n",
      "Epoch 5/20\n",
      "4607/4607 [==============================] - 601s 130ms/step - loss: 8.5810 - output_1_loss: 1.5764e-05 - output_2_loss: 0.3031 - output_3_loss: 0.0219 - output_4_loss: 7.0216 - output_3_precision: 0.8288 - output_3_recall: 0.5221 - output_3_true_negatives: 186525360.0000 - output_3_true_positives: 141045.0000 - output_3_false_negatives: 129099.0000 - output_3_false_positives: 29143.0000 - val_loss: 4.9268 - val_output_1_loss: 0.0000e+00 - val_output_2_loss: 0.2012 - val_output_3_loss: 0.0134 - val_output_4_loss: 3.8939 - val_output_3_precision: 0.8909 - val_output_3_recall: 0.7459 - val_output_3_true_negatives: 7592096.0000 - val_output_3_true_positives: 8819.0000 - val_output_3_false_negatives: 3005.0000 - val_output_3_false_positives: 1080.0000\n",
      "Epoch 6/20\n",
      "4607/4607 [==============================] - 604s 131ms/step - loss: 8.4379 - output_1_loss: 2.1332e-06 - output_2_loss: 0.2947 - output_3_loss: 0.0217 - output_4_loss: 6.9211 - output_3_precision: 0.8318 - output_3_recall: 0.5303 - output_3_true_negatives: 186525056.0000 - output_3_true_positives: 143309.0000 - output_3_false_negatives: 126930.0000 - output_3_false_positives: 28979.0000 - val_loss: 5.0813 - val_output_1_loss: 0.0000e+00 - val_output_2_loss: 0.2076 - val_output_3_loss: 0.0138 - val_output_4_loss: 4.0155 - val_output_3_precision: 0.8843 - val_output_3_recall: 0.7490 - val_output_3_true_negatives: 7592017.0000 - val_output_3_true_positives: 8856.0000 - val_output_3_false_negatives: 2968.0000 - val_output_3_false_positives: 1159.0000\n",
      "Epoch 7/20\n",
      "4607/4607 [==============================] - 607s 132ms/step - loss: 8.3770 - output_1_loss: 2.1123e-06 - output_2_loss: 0.2971 - output_3_loss: 0.0213 - output_4_loss: 6.8487 - output_3_precision: 0.8326 - output_3_recall: 0.5355 - output_3_true_negatives: 186525504.0000 - output_3_true_positives: 144709.0000 - output_3_false_negatives: 125523.0000 - output_3_false_positives: 29103.0000 - val_loss: 4.7331 - val_output_1_loss: 0.0000e+00 - val_output_2_loss: 0.1983 - val_output_3_loss: 0.0127 - val_output_4_loss: 3.7163 - val_output_3_precision: 0.8879 - val_output_3_recall: 0.7700 - val_output_3_true_negatives: 7592027.0000 - val_output_3_true_positives: 9105.0000 - val_output_3_false_negatives: 2719.0000 - val_output_3_false_positives: 1149.0000\n",
      "Epoch 8/20\n",
      "4607/4607 [==============================] - 592s 128ms/step - loss: 8.4498 - output_1_loss: 8.6999e-06 - output_2_loss: 0.3039 - output_3_loss: 0.0215 - output_4_loss: 6.8872 - output_3_precision: 0.8323 - output_3_recall: 0.5336 - output_3_true_negatives: 186524992.0000 - output_3_true_positives: 144170.0000 - output_3_false_negatives: 126005.0000 - output_3_false_positives: 29054.0000 - val_loss: 4.7545 - val_output_1_loss: 0.0000e+00 - val_output_2_loss: 0.2049 - val_output_3_loss: 0.0126 - val_output_4_loss: 3.7049 - val_output_3_precision: 0.8907 - val_output_3_recall: 0.7565 - val_output_3_true_negatives: 7592078.0000 - val_output_3_true_positives: 8945.0000 - val_output_3_false_negatives: 2879.0000 - val_output_3_false_positives: 1098.0000\n",
      "Epoch 9/20\n",
      "4607/4607 [==============================] - 601s 130ms/step - loss: 8.3861 - output_1_loss: 2.5136e-06 - output_2_loss: 0.3007 - output_3_loss: 0.0214 - output_4_loss: 6.8400 - output_3_precision: 0.8341 - output_3_recall: 0.5373 - output_3_true_negatives: 186525440.0000 - output_3_true_positives: 145191.0000 - output_3_false_negatives: 125020.0000 - output_3_false_positives: 28881.0000 - val_loss: 4.7159 - val_output_1_loss: 0.0000e+00 - val_output_2_loss: 0.1964 - val_output_3_loss: 0.0125 - val_output_4_loss: 3.7087 - val_output_3_precision: 0.8864 - val_output_3_recall: 0.7870 - val_output_3_true_negatives: 7591983.0000 - val_output_3_true_positives: 9306.0000 - val_output_3_false_negatives: 2518.0000 - val_output_3_false_positives: 1193.0000\n",
      "Epoch 10/20\n",
      "4607/4607 [==============================] - 588s 128ms/step - loss: 8.4105 - output_1_loss: 0.0000e+00 - output_2_loss: 0.3084 - output_3_loss: 0.0213 - output_4_loss: 6.8260 - output_3_precision: 0.8347 - output_3_recall: 0.5397 - output_3_true_negatives: 186525088.0000 - output_3_true_positives: 145887.0000 - output_3_false_negatives: 124434.0000 - output_3_false_positives: 28897.0000 - val_loss: 4.5181 - val_output_1_loss: 0.0000e+00 - val_output_2_loss: 0.1942 - val_output_3_loss: 0.0120 - val_output_4_loss: 3.5231 - val_output_3_precision: 0.9077 - val_output_3_recall: 0.7726 - val_output_3_true_negatives: 7592247.0000 - val_output_3_true_positives: 9135.0000 - val_output_3_false_negatives: 2689.0000 - val_output_3_false_positives: 929.0000\n",
      "Epoch 11/20\n",
      "4607/4607 [==============================] - 583s 127ms/step - loss: 8.3187 - output_1_loss: 1.1415e-06 - output_2_loss: 0.3017 - output_3_loss: 0.0211 - output_4_loss: 6.7681 - output_3_precision: 0.8369 - output_3_recall: 0.5441 - output_3_true_negatives: 186525632.0000 - output_3_true_positives: 147019.0000 - output_3_false_negatives: 123202.0000 - output_3_false_positives: 28661.0000 - val_loss: 4.4566 - val_output_1_loss: 0.0000e+00 - val_output_2_loss: 0.1931 - val_output_3_loss: 0.0118 - val_output_4_loss: 3.4673 - val_output_3_precision: 0.9036 - val_output_3_recall: 0.7796 - val_output_3_true_negatives: 7592193.0000 - val_output_3_true_positives: 9218.0000 - val_output_3_false_negatives: 2606.0000 - val_output_3_false_positives: 983.0000\n",
      "Epoch 12/20\n",
      "4607/4607 [==============================] - 574s 125ms/step - loss: 8.2467 - output_1_loss: 2.8742e-06 - output_2_loss: 0.2949 - output_3_loss: 0.0211 - output_4_loss: 6.7302 - output_3_precision: 0.8398 - output_3_recall: 0.5475 - output_3_true_negatives: 186526048.0000 - output_3_true_positives: 147966.0000 - output_3_false_negatives: 122282.0000 - output_3_false_positives: 28233.0000 - val_loss: 4.4719 - val_output_1_loss: 0.0000e+00 - val_output_2_loss: 0.1917 - val_output_3_loss: 0.0119 - val_output_4_loss: 3.4897 - val_output_3_precision: 0.8937 - val_output_3_recall: 0.7857 - val_output_3_true_negatives: 7592071.0000 - val_output_3_true_positives: 9290.0000 - val_output_3_false_negatives: 2534.0000 - val_output_3_false_positives: 1105.0000\n",
      "Epoch 13/20\n",
      "4607/4607 [==============================] - 587s 127ms/step - loss: 8.1982 - output_1_loss: 1.5104e-07 - output_2_loss: 0.2929 - output_3_loss: 0.0209 - output_4_loss: 6.6917 - output_3_precision: 0.8408 - output_3_recall: 0.5494 - output_3_true_negatives: 186526144.0000 - output_3_true_positives: 148450.0000 - output_3_false_negatives: 121759.0000 - output_3_false_positives: 28110.0000 - val_loss: 4.4457 - val_output_1_loss: 0.0000e+00 - val_output_2_loss: 0.1918 - val_output_3_loss: 0.0117 - val_output_4_loss: 3.4633 - val_output_3_precision: 0.8820 - val_output_3_recall: 0.8067 - val_output_3_true_negatives: 7591900.0000 - val_output_3_true_positives: 9539.0000 - val_output_3_false_negatives: 2285.0000 - val_output_3_false_positives: 1276.0000\n",
      "Epoch 14/20\n",
      "4607/4607 [==============================] - 547s 119ms/step - loss: 8.1992 - output_1_loss: 2.6982e-06 - output_2_loss: 0.3006 - output_3_loss: 0.0208 - output_4_loss: 6.6546 - output_3_precision: 0.8411 - output_3_recall: 0.5525 - output_3_true_negatives: 186525824.0000 - output_3_true_positives: 149331.0000 - output_3_false_negatives: 120973.0000 - output_3_false_positives: 28207.0000 - val_loss: 4.3740 - val_output_1_loss: 0.0000e+00 - val_output_2_loss: 0.1866 - val_output_3_loss: 0.0115 - val_output_4_loss: 3.4182 - val_output_3_precision: 0.9053 - val_output_3_recall: 0.7794 - val_output_3_true_negatives: 7592212.0000 - val_output_3_true_positives: 9216.0000 - val_output_3_false_negatives: 2608.0000 - val_output_3_false_positives: 964.0000\n",
      "Epoch 15/20\n",
      "4607/4607 [==============================] - 569s 124ms/step - loss: 8.2297 - output_1_loss: 9.9456e-06 - output_2_loss: 0.3107 - output_3_loss: 0.0206 - output_4_loss: 6.6351 - output_3_precision: 0.8420 - output_3_recall: 0.5561 - output_3_true_negatives: 186525760.0000 - output_3_true_positives: 150309.0000 - output_3_false_negatives: 119979.0000 - output_3_false_positives: 28207.0000 - val_loss: 4.2950 - val_output_1_loss: 0.0000e+00 - val_output_2_loss: 0.1879 - val_output_3_loss: 0.0114 - val_output_4_loss: 3.3329 - val_output_3_precision: 0.9031 - val_output_3_recall: 0.7970 - val_output_3_true_negatives: 7592165.0000 - val_output_3_true_positives: 9424.0000 - val_output_3_false_negatives: 2400.0000 - val_output_3_false_positives: 1011.0000\n",
      "Epoch 16/20\n",
      "4607/4607 [==============================] - 567s 123ms/step - loss: 8.0944 - output_1_loss: 4.0059e-09 - output_2_loss: 0.2879 - output_3_loss: 0.0206 - output_4_loss: 6.6138 - output_3_precision: 0.8422 - output_3_recall: 0.5565 - output_3_true_negatives: 186525664.0000 - output_3_true_positives: 150367.0000 - output_3_false_negatives: 119827.0000 - output_3_false_positives: 28170.0000 - val_loss: 4.2075 - val_output_1_loss: 0.0000e+00 - val_output_2_loss: 0.1873 - val_output_3_loss: 0.0110 - val_output_4_loss: 3.2491 - val_output_3_precision: 0.9029 - val_output_3_recall: 0.8132 - val_output_3_true_negatives: 7592142.0000 - val_output_3_true_positives: 9615.0000 - val_output_3_false_negatives: 2209.0000 - val_output_3_false_positives: 1034.0000\n",
      "Epoch 17/20\n",
      "4607/4607 [==============================] - 571s 124ms/step - loss: 8.1222 - output_1_loss: 3.6174e-06 - output_2_loss: 0.2928 - output_3_loss: 0.0207 - output_4_loss: 6.6170 - output_3_precision: 0.8426 - output_3_recall: 0.5561 - output_3_true_negatives: 186526048.0000 - output_3_true_positives: 150279.0000 - output_3_false_negatives: 119962.0000 - output_3_false_positives: 28082.0000 - val_loss: 4.1644 - val_output_1_loss: 0.0000e+00 - val_output_2_loss: 0.1826 - val_output_3_loss: 0.0109 - val_output_4_loss: 3.2293 - val_output_3_precision: 0.9092 - val_output_3_recall: 0.8067 - val_output_3_true_negatives: 7592224.0000 - val_output_3_true_positives: 9538.0000 - val_output_3_false_negatives: 2286.0000 - val_output_3_false_positives: 952.0000\n",
      "Epoch 18/20\n",
      "4607/4607 [==============================] - 505s 110ms/step - loss: 7.9896 - output_1_loss: 7.9618e-07 - output_2_loss: 0.2897 - output_3_loss: 0.0203 - output_4_loss: 6.5002 - output_3_precision: 0.8474 - output_3_recall: 0.5661 - output_3_true_negatives: 186526464.0000 - output_3_true_positives: 152979.0000 - output_3_false_negatives: 117239.0000 - output_3_false_positives: 27555.0000 - val_loss: 4.1482 - val_output_1_loss: 0.0000e+00 - val_output_2_loss: 0.1858 - val_output_3_loss: 0.0110 - val_output_4_loss: 3.1971 - val_output_3_precision: 0.9048 - val_output_3_recall: 0.8072 - val_output_3_true_negatives: 7592172.0000 - val_output_3_true_positives: 9544.0000 - val_output_3_false_negatives: 2280.0000 - val_output_3_false_positives: 1004.0000\n",
      "Epoch 19/20\n",
      "4607/4607 [==============================] - 519s 113ms/step - loss: 8.0112 - output_1_loss: 1.3141e-05 - output_2_loss: 0.2994 - output_3_loss: 0.0202 - output_4_loss: 6.4736 - output_3_precision: 0.8467 - output_3_recall: 0.5680 - output_3_true_negatives: 186526032.0000 - output_3_true_positives: 153487.0000 - output_3_false_negatives: 116741.0000 - output_3_false_positives: 27800.0000 - val_loss: 4.1859 - val_output_1_loss: 0.0000e+00 - val_output_2_loss: 0.1855 - val_output_3_loss: 0.0110 - val_output_4_loss: 3.2364 - val_output_3_precision: 0.9118 - val_output_3_recall: 0.7999 - val_output_3_true_negatives: 7592261.0000 - val_output_3_true_positives: 9458.0000 - val_output_3_false_negatives: 2366.0000 - val_output_3_false_positives: 915.0000\n",
      "Epoch 20/20\n",
      "4607/4607 [==============================] - 552s 120ms/step - loss: 7.9511 - output_1_loss: 3.6633e-06 - output_2_loss: 0.2936 - output_3_loss: 0.0200 - output_4_loss: 6.4428 - output_3_precision: 0.8467 - output_3_recall: 0.5698 - output_3_true_negatives: 186526144.0000 - output_3_true_positives: 153943.0000 - output_3_false_negatives: 116234.0000 - output_3_false_positives: 27871.0000 - val_loss: 4.0006 - val_output_1_loss: 0.0000e+00 - val_output_2_loss: 0.1810 - val_output_3_loss: 0.0104 - val_output_4_loss: 3.0747 - val_output_3_precision: 0.9138 - val_output_3_recall: 0.8126 - val_output_3_true_negatives: 7592270.0000 - val_output_3_true_positives: 9608.0000 - val_output_3_false_negatives: 2216.0000 - val_output_3_false_positives: 906.0000\n"
     ]
    }
   ],
   "source": [
    "history = model.fit(train_dataset, epochs=20,validation_data=val_dataset)"
   ]
  },
  {
   "cell_type": "code",
   "execution_count": null,
   "metadata": {},
   "outputs": [],
   "source": []
  },
  {
   "cell_type": "code",
   "execution_count": 10,
   "metadata": {},
   "outputs": [],
   "source": [
    "os.chdir(\"/home/sergio/Documents/json_experiments\")\n",
    "import json\n",
    "#json.dumps(str(a))\n",
    "with open('history_finetuning_5521_50_70_epoch_nadam_1e-5_msle_exp_mse_3anchors_NUEVO_TRAIN.json', 'w') as fp:\n",
    "    json.dump(str(history.history), fp)"
   ]
  },
  {
   "cell_type": "code",
   "execution_count": 11,
   "metadata": {},
   "outputs": [],
   "source": [
    "model.save_weights('/home/sergio/Documents/weights_saved/pesos_finetuning_5521_50_70_epoch_nadam_1e-5_msle_exp_mse_3anchors_NUEVO_TRAIN')"
   ]
  },
  {
   "cell_type": "code",
   "execution_count": null,
   "metadata": {},
   "outputs": [],
   "source": []
  }
 ],
 "metadata": {
  "kernelspec": {
   "display_name": "Python 3",
   "language": "python",
   "name": "python3"
  },
  "language_info": {
   "codemirror_mode": {
    "name": "ipython",
    "version": 3
   },
   "file_extension": ".py",
   "mimetype": "text/x-python",
   "name": "python",
   "nbconvert_exporter": "python",
   "pygments_lexer": "ipython3",
   "version": "3.6.9"
  }
 },
 "nbformat": 4,
 "nbformat_minor": 4
}
