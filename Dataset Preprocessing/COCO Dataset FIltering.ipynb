{
 "cells": [
  {
   "cell_type": "code",
   "execution_count": 1,
   "metadata": {},
   "outputs": [],
   "source": [
    "import numpy as np\n",
    "import matplotlib.pyplot as plt\n",
    "import pandas as pd\n",
    "import os\n",
    "\n",
    "from albumentations import (\n",
    "    convert_bbox_to_albumentations,convert_bboxes_to_albumentations\n",
    ")"
   ]
  },
  {
   "cell_type": "markdown",
   "metadata": {},
   "source": [
    "# Filtrado del conjunto de entrenamiento"
   ]
  },
  {
   "cell_type": "code",
   "execution_count": 2,
   "metadata": {},
   "outputs": [
    {
     "name": "stdout",
     "output_type": "stream",
     "text": [
      "/home/sergio/Documents/COCODataset/annotations/instances_train2017.json\n"
     ]
    }
   ],
   "source": [
    "dataDir='/home/sergio/Documents/COCODataset'\n",
    "dataType='train2017'\n",
    "annFile='{}/annotations/instances_{}.json'.format(dataDir,dataType)\n",
    "print(annFile)"
   ]
  },
  {
   "cell_type": "code",
   "execution_count": 3,
   "metadata": {},
   "outputs": [
    {
     "name": "stdout",
     "output_type": "stream",
     "text": [
      "loading annotations into memory...\n",
      "Done (t=8.31s)\n",
      "creating index...\n",
      "index created!\n"
     ]
    }
   ],
   "source": [
    "from pycocotools.coco import COCO\n",
    "import numpy as np\n",
    "#import skimage.io as io\n",
    "import matplotlib.pyplot as plt\n",
    "#import pylab\n",
    "\n",
    "# initialize COCO api for instance annotations\n",
    "coco=COCO(annFile)"
   ]
  },
  {
   "cell_type": "code",
   "execution_count": 4,
   "metadata": {},
   "outputs": [],
   "source": [
    "catIds = coco.getCatIds(catNms=['person']);\n",
    "imgIds = coco.getImgIds(catIds=catIds );"
   ]
  },
  {
   "cell_type": "code",
   "execution_count": 5,
   "metadata": {},
   "outputs": [
    {
     "name": "stdout",
     "output_type": "stream",
     "text": [
      "64115\n",
      "['000000262145.jpg', '000000262146.jpg', '000000524291.jpg', '000000262148.jpg', '000000393223.jpg', '000000393224.jpg', '000000524297.jpg', '000000393227.jpg', '000000131084.jpg', '000000393230.jpg', '000000262161.jpg', '000000131089.jpg']\n"
     ]
    }
   ],
   "source": [
    "aux = coco.loadImgs(imgIds)\n",
    "real_names =[]\n",
    "for i in aux:\n",
    "    real_names.append(i[\"file_name\"])\n",
    "print(len(real_names))\n",
    "print(real_names[:12])"
   ]
  },
  {
   "cell_type": "code",
   "execution_count": 10,
   "metadata": {},
   "outputs": [],
   "source": [
    "import os\n",
    "os.chdir(\"/home/sergio/Documents/COCODataset\")\n",
    "os.mkdir(\"pedestrian_dataset_train\")"
   ]
  },
  {
   "cell_type": "code",
   "execution_count": 11,
   "metadata": {},
   "outputs": [],
   "source": [
    "from shutil import copyfile\n",
    "\n",
    "def get_class_images(SOURCE, NEW_LOC,CLASS_NAMES):\n",
    "\n",
    "    names_list =os.listdir(SOURCE)\n",
    "\n",
    "    for i in names_list:\n",
    "        if i in CLASS_NAMES:\n",
    "                copyfile(SOURCE + \"/\" + i, NEW_LOC + \"/\" + i)\n",
    "\n",
    "#dict_pedestrian = get_pedestrian(data) \n",
    "#pedestrian_names = list(dict_pedestrian.keys())\n",
    "#print(len(pedestrian_names))"
   ]
  },
  {
   "cell_type": "code",
   "execution_count": 12,
   "metadata": {},
   "outputs": [],
   "source": [
    "#get_class_images(\"/home/sergio/Documents/COCODataset/train2017\",\"/home/sergio/Documents/COCODataset/pedestrian_dataset_train\",real_names)"
   ]
  },
  {
   "cell_type": "markdown",
   "metadata": {},
   "source": [
    "# Filtrado de imágenes de validación"
   ]
  },
  {
   "cell_type": "code",
   "execution_count": 13,
   "metadata": {},
   "outputs": [
    {
     "name": "stdout",
     "output_type": "stream",
     "text": [
      "/home/sergio/Documents/COCODataset/annotations/instances_val2017.json\n"
     ]
    }
   ],
   "source": [
    "dataDir='/home/sergio/Documents/COCODataset'\n",
    "dataType='val2017'\n",
    "annFile='{}/annotations/instances_{}.json'.format(dataDir,dataType)\n",
    "print(annFile)"
   ]
  },
  {
   "cell_type": "code",
   "execution_count": 14,
   "metadata": {},
   "outputs": [
    {
     "name": "stdout",
     "output_type": "stream",
     "text": [
      "loading annotations into memory...\n",
      "Done (t=0.28s)\n",
      "creating index...\n",
      "index created!\n"
     ]
    }
   ],
   "source": [
    "from pycocotools.coco import COCO\n",
    "import numpy as np\n",
    "#import skimage.io as io\n",
    "import matplotlib.pyplot as plt\n",
    "#import pylab\n",
    "\n",
    "# initialize COCO api for instance annotations\n",
    "coco=COCO(annFile)"
   ]
  },
  {
   "cell_type": "code",
   "execution_count": 15,
   "metadata": {},
   "outputs": [],
   "source": [
    "catIds = coco.getCatIds(catNms=['person']);\n",
    "imgIds = coco.getImgIds(catIds=catIds );"
   ]
  },
  {
   "cell_type": "code",
   "execution_count": 16,
   "metadata": {},
   "outputs": [
    {
     "name": "stdout",
     "output_type": "stream",
     "text": [
      "2693\n",
      "['000000532481.jpg', '000000458755.jpg', '000000385029.jpg', '000000311303.jpg', '000000393226.jpg', '000000532493.jpg', '000000008211.jpg', '000000327701.jpg', '000000188439.jpg', '000000434204.jpg', '000000401446.jpg', '000000213033.jpg']\n"
     ]
    }
   ],
   "source": [
    "aux = coco.loadImgs(imgIds)\n",
    "real_names =[]\n",
    "for i in aux:\n",
    "    real_names.append(i[\"file_name\"])\n",
    "print(len(real_names))\n",
    "print(real_names[:12])"
   ]
  },
  {
   "cell_type": "code",
   "execution_count": 18,
   "metadata": {},
   "outputs": [],
   "source": [
    "import os\n",
    "os.chdir('/home/sergio/Documents/COCODataset')\n",
    "os.mkdir(\"pedestrian_dataset_val\")"
   ]
  },
  {
   "cell_type": "code",
   "execution_count": 19,
   "metadata": {},
   "outputs": [],
   "source": [
    "#get_class_images(\"/home/sergio/Documents/COCODataset/val2017\",\"/home/sergio/Documents/COCODataset/pedestrian_dataset_val\",real_names)"
   ]
  },
  {
   "cell_type": "markdown",
   "metadata": {},
   "source": [
    "## Creating Metadata train CSV"
   ]
  },
  {
   "cell_type": "code",
   "execution_count": 6,
   "metadata": {},
   "outputs": [
    {
     "name": "stdout",
     "output_type": "stream",
     "text": [
      "/home/sergio/Documents/COCODataset/annotations/instances_train2017.json\n",
      "loading annotations into memory...\n",
      "Done (t=8.60s)\n",
      "creating index...\n",
      "index created!\n"
     ]
    }
   ],
   "source": [
    "dataDir='/home/sergio/Documents/COCODataset'\n",
    "dataType='train2017'\n",
    "annFile='{}/annotations/instances_{}.json'.format(dataDir,dataType)\n",
    "print(annFile)\n",
    "coco=COCO(annFile)"
   ]
  },
  {
   "cell_type": "code",
   "execution_count": 7,
   "metadata": {},
   "outputs": [],
   "source": [
    "catIds = coco.getCatIds(catNms=['person']); #ID de la categoría persona\n",
    "imgIds = coco.getImgIds(catIds=catIds ); # IDS de las imagenes con la categoria persona\n",
    "annIds = coco.getAnnIds(imgIds=imgIds, catIds=catIds) #Anotaciones de las imágenes con la categoría persona\n",
    "img_metadata = coco.loadImgs(imgIds) # Metadatos de las images de la categoría persona\n",
    "img_annotations = coco.loadAnns(annIds) # Anotaciones de las instancias de la base de datos"
   ]
  },
  {
   "cell_type": "code",
   "execution_count": 8,
   "metadata": {},
   "outputs": [
    {
     "data": {
      "text/plain": [
       "{'license': 2,\n",
       " 'file_name': '000000262145.jpg',\n",
       " 'coco_url': 'http://images.cocodataset.org/train2017/000000262145.jpg',\n",
       " 'height': 427,\n",
       " 'width': 640,\n",
       " 'date_captured': '2013-11-20 02:07:55',\n",
       " 'flickr_url': 'http://farm8.staticflickr.com/7187/6967031859_5f08387bde_z.jpg',\n",
       " 'id': 262145}"
      ]
     },
     "execution_count": 8,
     "metadata": {},
     "output_type": "execute_result"
    }
   ],
   "source": [
    "img_metadata[0]"
   ]
  },
  {
   "cell_type": "code",
   "execution_count": 9,
   "metadata": {},
   "outputs": [],
   "source": [
    "id_to_file_name={}\n",
    "\n",
    "for i in img_metadata:\n",
    "    id_ = str(i[\"id\"])\n",
    "    file_name = i[\"file_name\"]\n",
    "    id_to_file_name[id_] = file_name"
   ]
  },
  {
   "cell_type": "code",
   "execution_count": 10,
   "metadata": {},
   "outputs": [
    {
     "data": {
      "text/plain": [
       "64115"
      ]
     },
     "execution_count": 10,
     "metadata": {},
     "output_type": "execute_result"
    }
   ],
   "source": [
    "len(id_to_file_name)"
   ]
  },
  {
   "cell_type": "code",
   "execution_count": 11,
   "metadata": {},
   "outputs": [],
   "source": [
    "img_metadata_dict = {}\n",
    "\n",
    "for i in img_metadata:\n",
    "    img_metadata_dict[i[\"file_name\"]] = {\"width\":i[\"width\"],\"height\":i[\"height\"]}"
   ]
  },
  {
   "cell_type": "code",
   "execution_count": 12,
   "metadata": {},
   "outputs": [],
   "source": [
    "metadata_df = pd.DataFrame(img_metadata_dict).T"
   ]
  },
  {
   "cell_type": "code",
   "execution_count": 13,
   "metadata": {},
   "outputs": [
    {
     "data": {
      "text/html": [
       "<div>\n",
       "<style scoped>\n",
       "    .dataframe tbody tr th:only-of-type {\n",
       "        vertical-align: middle;\n",
       "    }\n",
       "\n",
       "    .dataframe tbody tr th {\n",
       "        vertical-align: top;\n",
       "    }\n",
       "\n",
       "    .dataframe thead th {\n",
       "        text-align: right;\n",
       "    }\n",
       "</style>\n",
       "<table border=\"1\" class=\"dataframe\">\n",
       "  <thead>\n",
       "    <tr style=\"text-align: right;\">\n",
       "      <th></th>\n",
       "      <th>width</th>\n",
       "      <th>height</th>\n",
       "    </tr>\n",
       "  </thead>\n",
       "  <tbody>\n",
       "    <tr>\n",
       "      <th>000000262145.jpg</th>\n",
       "      <td>640</td>\n",
       "      <td>427</td>\n",
       "    </tr>\n",
       "    <tr>\n",
       "      <th>000000262146.jpg</th>\n",
       "      <td>480</td>\n",
       "      <td>640</td>\n",
       "    </tr>\n",
       "    <tr>\n",
       "      <th>000000524291.jpg</th>\n",
       "      <td>640</td>\n",
       "      <td>426</td>\n",
       "    </tr>\n",
       "    <tr>\n",
       "      <th>000000262148.jpg</th>\n",
       "      <td>640</td>\n",
       "      <td>512</td>\n",
       "    </tr>\n",
       "    <tr>\n",
       "      <th>000000393223.jpg</th>\n",
       "      <td>640</td>\n",
       "      <td>480</td>\n",
       "    </tr>\n",
       "  </tbody>\n",
       "</table>\n",
       "</div>"
      ],
      "text/plain": [
       "                  width  height\n",
       "000000262145.jpg    640     427\n",
       "000000262146.jpg    480     640\n",
       "000000524291.jpg    640     426\n",
       "000000262148.jpg    640     512\n",
       "000000393223.jpg    640     480"
      ]
     },
     "execution_count": 13,
     "metadata": {},
     "output_type": "execute_result"
    }
   ],
   "source": [
    "metadata_df.head()"
   ]
  },
  {
   "cell_type": "code",
   "execution_count": 14,
   "metadata": {},
   "outputs": [],
   "source": [
    "os.chdir(\"/home/sergio/Documents/COCODataset\")\n",
    "metadata_df.to_csv(\"COCO_metadata_train.csv\",index=True)"
   ]
  },
  {
   "cell_type": "code",
   "execution_count": 15,
   "metadata": {},
   "outputs": [
    {
     "data": {
      "text/plain": [
       "64115"
      ]
     },
     "execution_count": 15,
     "metadata": {},
     "output_type": "execute_result"
    }
   ],
   "source": [
    "len(img_metadata_dict)"
   ]
  },
  {
   "cell_type": "markdown",
   "metadata": {},
   "source": [
    "## Creating Annotations COCO train CSV"
   ]
  },
  {
   "cell_type": "code",
   "execution_count": 16,
   "metadata": {},
   "outputs": [],
   "source": [
    "#(img_annotations[0])"
   ]
  },
  {
   "cell_type": "code",
   "execution_count": 17,
   "metadata": {},
   "outputs": [],
   "source": [
    "dict_annotations = {}\n",
    "num_instance = 0\n",
    "\n",
    "#VER COMO SE GUARDARON LAS COORDENADAS DEL VOC DATASET, QUE CORDENADA (X,Y) SON\n",
    "\n",
    "for index,j in enumerate(img_annotations):\n",
    "    #print(j)\n",
    "    #print(id_to_file_name[str(j[\"image_id\"])])\n",
    "    \n",
    "    height = metadata_df.loc[id_to_file_name[str(j[\"image_id\"])],\"height\"]\n",
    "    #print(height)\n",
    "    width = metadata_df.loc[id_to_file_name[str(j[\"image_id\"])],\"width\"]\n",
    "    #print(width)\n",
    "    #print(j[\"bbox\"])\n",
    "    if j[\"bbox\"][2]>1 and j[\"bbox\"][3]>1: \n",
    "        [xmin,ymin,xmax,ymax]=list(convert_bbox_to_albumentations((j[\"bbox\"][0],j[\"bbox\"][1],j[\"bbox\"][2],j[\"bbox\"][3]),source_format=\"coco\",check_validity=True,rows = height,cols = width))\n",
    "    \n",
    "        dict_annotations[index] = {\"file_name\":id_to_file_name[str(j[\"image_id\"])],\n",
    "                                      \"xmin\":xmin,\n",
    "                                      \"ymin\":ymin,\n",
    "                                      \"xmax\":xmax,\n",
    "                                     \"ymax\": ymax}"
   ]
  },
  {
   "cell_type": "code",
   "execution_count": 18,
   "metadata": {},
   "outputs": [],
   "source": [
    "annotations_df = pd.DataFrame(dict_annotations).T"
   ]
  },
  {
   "cell_type": "code",
   "execution_count": 19,
   "metadata": {},
   "outputs": [
    {
     "data": {
      "text/html": [
       "<div>\n",
       "<style scoped>\n",
       "    .dataframe tbody tr th:only-of-type {\n",
       "        vertical-align: middle;\n",
       "    }\n",
       "\n",
       "    .dataframe tbody tr th {\n",
       "        vertical-align: top;\n",
       "    }\n",
       "\n",
       "    .dataframe thead th {\n",
       "        text-align: right;\n",
       "    }\n",
       "</style>\n",
       "<table border=\"1\" class=\"dataframe\">\n",
       "  <thead>\n",
       "    <tr style=\"text-align: right;\">\n",
       "      <th></th>\n",
       "      <th>file_name</th>\n",
       "      <th>xmin</th>\n",
       "      <th>ymin</th>\n",
       "      <th>xmax</th>\n",
       "      <th>ymax</th>\n",
       "    </tr>\n",
       "  </thead>\n",
       "  <tbody>\n",
       "    <tr>\n",
       "      <th>0</th>\n",
       "      <td>000000262145.jpg</td>\n",
       "      <td>0.604688</td>\n",
       "      <td>0.166511</td>\n",
       "      <td>0.83125</td>\n",
       "      <td>0.920609</td>\n",
       "    </tr>\n",
       "    <tr>\n",
       "      <th>1</th>\n",
       "      <td>000000262145.jpg</td>\n",
       "      <td>0.772359</td>\n",
       "      <td>0.213208</td>\n",
       "      <td>0.790641</td>\n",
       "      <td>0.251054</td>\n",
       "    </tr>\n",
       "    <tr>\n",
       "      <th>2</th>\n",
       "      <td>000000262145.jpg</td>\n",
       "      <td>0.441203</td>\n",
       "      <td>0.203255</td>\n",
       "      <td>0.491453</td>\n",
       "      <td>0.430468</td>\n",
       "    </tr>\n",
       "    <tr>\n",
       "      <th>3</th>\n",
       "      <td>000000262145.jpg</td>\n",
       "      <td>0.822141</td>\n",
       "      <td>0.103372</td>\n",
       "      <td>0.963547</td>\n",
       "      <td>0.543653</td>\n",
       "    </tr>\n",
       "    <tr>\n",
       "      <th>4</th>\n",
       "      <td>000000262145.jpg</td>\n",
       "      <td>0.767984</td>\n",
       "      <td>0.190141</td>\n",
       "      <td>0.831203</td>\n",
       "      <td>0.39</td>\n",
       "    </tr>\n",
       "  </tbody>\n",
       "</table>\n",
       "</div>"
      ],
      "text/plain": [
       "          file_name      xmin      ymin      xmax      ymax\n",
       "0  000000262145.jpg  0.604688  0.166511   0.83125  0.920609\n",
       "1  000000262145.jpg  0.772359  0.213208  0.790641  0.251054\n",
       "2  000000262145.jpg  0.441203  0.203255  0.491453  0.430468\n",
       "3  000000262145.jpg  0.822141  0.103372  0.963547  0.543653\n",
       "4  000000262145.jpg  0.767984  0.190141  0.831203      0.39"
      ]
     },
     "execution_count": 19,
     "metadata": {},
     "output_type": "execute_result"
    }
   ],
   "source": [
    "annotations_df.head()"
   ]
  },
  {
   "cell_type": "code",
   "execution_count": 20,
   "metadata": {},
   "outputs": [
    {
     "data": {
      "text/plain": [
       "(262461, 5)"
      ]
     },
     "execution_count": 20,
     "metadata": {},
     "output_type": "execute_result"
    }
   ],
   "source": [
    "annotations_df.shape"
   ]
  },
  {
   "cell_type": "code",
   "execution_count": 21,
   "metadata": {},
   "outputs": [],
   "source": [
    "os.chdir(\"/home/sergio/Documents/COCODataset\")\n",
    "annotations_df.to_csv(\"COCO_annotations_train.csv\",index=True)"
   ]
  },
  {
   "cell_type": "markdown",
   "metadata": {},
   "source": [
    "## Creating metadata validation COCO"
   ]
  },
  {
   "cell_type": "code",
   "execution_count": 22,
   "metadata": {},
   "outputs": [
    {
     "name": "stdout",
     "output_type": "stream",
     "text": [
      "/home/sergio/Documents/COCODataset/annotations/instances_val2017.json\n",
      "loading annotations into memory...\n",
      "Done (t=0.25s)\n",
      "creating index...\n",
      "index created!\n"
     ]
    }
   ],
   "source": [
    "dataDir='/home/sergio/Documents/COCODataset'\n",
    "dataType='val2017'\n",
    "annFile='{}/annotations/instances_{}.json'.format(dataDir,dataType)\n",
    "print(annFile)\n",
    "coco  =COCO(annFile)"
   ]
  },
  {
   "cell_type": "code",
   "execution_count": 23,
   "metadata": {},
   "outputs": [],
   "source": [
    "catIds = coco.getCatIds(catNms=['person']); #ID de la categoría persona\n",
    "imgIds = coco.getImgIds(catIds=catIds ); # IDS de las imagenes con la categoria persona\n",
    "annIds = coco.getAnnIds(imgIds=imgIds, catIds=catIds) #Anotaciones de las imágenes con la categoría persona\n",
    "img_metadata = coco.loadImgs(imgIds) # Metadatos de las images de la categoría persona\n",
    "img_annotations = coco.loadAnns(annIds) # Anotaciones de las instancias de la base de datos"
   ]
  },
  {
   "cell_type": "code",
   "execution_count": 24,
   "metadata": {},
   "outputs": [],
   "source": [
    "id_to_file_name={}\n",
    "\n",
    "for i in img_metadata:\n",
    "    id_ = i[\"id\"]\n",
    "    #print(id_)\n",
    "    file_name = i[\"file_name\"]\n",
    "    id_to_file_name[id_] = file_name"
   ]
  },
  {
   "cell_type": "code",
   "execution_count": 25,
   "metadata": {},
   "outputs": [],
   "source": [
    "img_metadata_dict = {}\n",
    "\n",
    "for i in img_metadata:\n",
    "    img_metadata_dict[i[\"file_name\"]] = {\"width\":i[\"width\"],\"height\":i[\"height\"]}"
   ]
  },
  {
   "cell_type": "code",
   "execution_count": 26,
   "metadata": {},
   "outputs": [],
   "source": [
    "metadata_df = pd.DataFrame(img_metadata_dict).T"
   ]
  },
  {
   "cell_type": "code",
   "execution_count": 27,
   "metadata": {},
   "outputs": [
    {
     "data": {
      "text/html": [
       "<div>\n",
       "<style scoped>\n",
       "    .dataframe tbody tr th:only-of-type {\n",
       "        vertical-align: middle;\n",
       "    }\n",
       "\n",
       "    .dataframe tbody tr th {\n",
       "        vertical-align: top;\n",
       "    }\n",
       "\n",
       "    .dataframe thead th {\n",
       "        text-align: right;\n",
       "    }\n",
       "</style>\n",
       "<table border=\"1\" class=\"dataframe\">\n",
       "  <thead>\n",
       "    <tr style=\"text-align: right;\">\n",
       "      <th></th>\n",
       "      <th>width</th>\n",
       "      <th>height</th>\n",
       "    </tr>\n",
       "  </thead>\n",
       "  <tbody>\n",
       "    <tr>\n",
       "      <th>000000532481.jpg</th>\n",
       "      <td>640</td>\n",
       "      <td>426</td>\n",
       "    </tr>\n",
       "    <tr>\n",
       "      <th>000000458755.jpg</th>\n",
       "      <td>640</td>\n",
       "      <td>480</td>\n",
       "    </tr>\n",
       "    <tr>\n",
       "      <th>000000385029.jpg</th>\n",
       "      <td>640</td>\n",
       "      <td>480</td>\n",
       "    </tr>\n",
       "    <tr>\n",
       "      <th>000000311303.jpg</th>\n",
       "      <td>640</td>\n",
       "      <td>427</td>\n",
       "    </tr>\n",
       "    <tr>\n",
       "      <th>000000393226.jpg</th>\n",
       "      <td>640</td>\n",
       "      <td>480</td>\n",
       "    </tr>\n",
       "  </tbody>\n",
       "</table>\n",
       "</div>"
      ],
      "text/plain": [
       "                  width  height\n",
       "000000532481.jpg    640     426\n",
       "000000458755.jpg    640     480\n",
       "000000385029.jpg    640     480\n",
       "000000311303.jpg    640     427\n",
       "000000393226.jpg    640     480"
      ]
     },
     "execution_count": 27,
     "metadata": {},
     "output_type": "execute_result"
    }
   ],
   "source": [
    "metadata_df.head()"
   ]
  },
  {
   "cell_type": "code",
   "execution_count": 28,
   "metadata": {},
   "outputs": [],
   "source": [
    "os.chdir(\"/home/sergio/Documents/COCODataset\")\n",
    "metadata_df.to_csv(\"COCO_metadata_val.csv\",index=True)"
   ]
  },
  {
   "cell_type": "markdown",
   "metadata": {},
   "source": [
    "## Creating annotatios val COCO"
   ]
  },
  {
   "cell_type": "code",
   "execution_count": 29,
   "metadata": {},
   "outputs": [],
   "source": [
    "id_to_file_name={}\n",
    "\n",
    "for i in img_metadata:\n",
    "    id_ = str(i[\"id\"])\n",
    "    file_name = i[\"file_name\"]\n",
    "    id_to_file_name[id_] = file_name"
   ]
  },
  {
   "cell_type": "code",
   "execution_count": 30,
   "metadata": {},
   "outputs": [],
   "source": [
    "dict_annotations = {}\n",
    "num_instance = 0\n",
    "\n",
    "#VER COMO SE GUARDARON LAS COORDENADAS DEL VOC DATASET, QUE CORDENADA (X,Y) SON\n",
    "\n",
    "for index,j in enumerate(img_annotations):\n",
    "    #print(j)\n",
    "    height = metadata_df.loc[id_to_file_name[str(j[\"image_id\"])],\"height\"]\n",
    "    #print(height)\n",
    "    width = metadata_df.loc[id_to_file_name[str(j[\"image_id\"])],\"width\"]\n",
    "    #print(width)\n",
    "    #print(j[\"bbox\"])\n",
    "    if j[\"bbox\"][2]>1 and j[\"bbox\"][3]>1: \n",
    "        [xmin,ymin,xmax,ymax]=list(convert_bbox_to_albumentations((j[\"bbox\"][0],j[\"bbox\"][1],j[\"bbox\"][2],j[\"bbox\"][3]),source_format=\"coco\",check_validity=True,rows = height,cols = width))\n",
    "    \n",
    "        dict_annotations[index] = {\"file_name\":id_to_file_name[str(j[\"image_id\"])],\n",
    "                                      \"xmin\":xmin,\n",
    "                                      \"ymin\":ymin,\n",
    "                                      \"xmax\":xmax,\n",
    "                                     \"ymax\": ymax}"
   ]
  },
  {
   "cell_type": "code",
   "execution_count": 31,
   "metadata": {},
   "outputs": [
    {
     "data": {
      "text/plain": [
       "11004"
      ]
     },
     "execution_count": 31,
     "metadata": {},
     "output_type": "execute_result"
    }
   ],
   "source": [
    "len(dict_annotations)"
   ]
  },
  {
   "cell_type": "code",
   "execution_count": 32,
   "metadata": {},
   "outputs": [],
   "source": [
    "annotations_df = pd.DataFrame(dict_annotations).T"
   ]
  },
  {
   "cell_type": "code",
   "execution_count": 33,
   "metadata": {},
   "outputs": [
    {
     "data": {
      "text/html": [
       "<div>\n",
       "<style scoped>\n",
       "    .dataframe tbody tr th:only-of-type {\n",
       "        vertical-align: middle;\n",
       "    }\n",
       "\n",
       "    .dataframe tbody tr th {\n",
       "        vertical-align: top;\n",
       "    }\n",
       "\n",
       "    .dataframe thead th {\n",
       "        text-align: right;\n",
       "    }\n",
       "</style>\n",
       "<table border=\"1\" class=\"dataframe\">\n",
       "  <thead>\n",
       "    <tr style=\"text-align: right;\">\n",
       "      <th></th>\n",
       "      <th>file_name</th>\n",
       "      <th>xmin</th>\n",
       "      <th>ymin</th>\n",
       "      <th>xmax</th>\n",
       "      <th>ymax</th>\n",
       "    </tr>\n",
       "  </thead>\n",
       "  <tbody>\n",
       "    <tr>\n",
       "      <th>0</th>\n",
       "      <td>000000532481.jpg</td>\n",
       "      <td>0.391906</td>\n",
       "      <td>0.394977</td>\n",
       "      <td>0.501453</td>\n",
       "      <td>0.547277</td>\n",
       "    </tr>\n",
       "    <tr>\n",
       "      <th>1</th>\n",
       "      <td>000000532481.jpg</td>\n",
       "      <td>0.446172</td>\n",
       "      <td>0.869859</td>\n",
       "      <td>0.465031</td>\n",
       "      <td>0.914953</td>\n",
       "    </tr>\n",
       "    <tr>\n",
       "      <th>2</th>\n",
       "      <td>000000458755.jpg</td>\n",
       "      <td>0.107859</td>\n",
       "      <td>0.0786458</td>\n",
       "      <td>0.901688</td>\n",
       "      <td>0.986521</td>\n",
       "    </tr>\n",
       "    <tr>\n",
       "      <th>3</th>\n",
       "      <td>000000458755.jpg</td>\n",
       "      <td>0.885938</td>\n",
       "      <td>0.00264583</td>\n",
       "      <td>1</td>\n",
       "      <td>0.183604</td>\n",
       "    </tr>\n",
       "    <tr>\n",
       "      <th>4</th>\n",
       "      <td>000000458755.jpg</td>\n",
       "      <td>0.921906</td>\n",
       "      <td>0.191021</td>\n",
       "      <td>0.999437</td>\n",
       "      <td>0.39325</td>\n",
       "    </tr>\n",
       "  </tbody>\n",
       "</table>\n",
       "</div>"
      ],
      "text/plain": [
       "          file_name      xmin        ymin      xmax      ymax\n",
       "0  000000532481.jpg  0.391906    0.394977  0.501453  0.547277\n",
       "1  000000532481.jpg  0.446172    0.869859  0.465031  0.914953\n",
       "2  000000458755.jpg  0.107859   0.0786458  0.901688  0.986521\n",
       "3  000000458755.jpg  0.885938  0.00264583         1  0.183604\n",
       "4  000000458755.jpg  0.921906    0.191021  0.999437   0.39325"
      ]
     },
     "execution_count": 33,
     "metadata": {},
     "output_type": "execute_result"
    }
   ],
   "source": [
    "annotations_df.head()"
   ]
  },
  {
   "cell_type": "code",
   "execution_count": 34,
   "metadata": {},
   "outputs": [],
   "source": [
    "os.chdir(\"/home/sergio/Documents/COCODataset\")\n",
    "annotations_df.to_csv(\"COCO_annotations_val.csv\",index=True)"
   ]
  },
  {
   "cell_type": "code",
   "execution_count": null,
   "metadata": {},
   "outputs": [],
   "source": [
    "augmented[\"bboxes\"]=convert_bboxes_from_albumentations(augmented[\"bboxes\"],\n",
    "target_format=\"pascal_voc\",\n",
    "rows=image.shape[0],\n",
    "cols=image.shape[1],\n",
    "check_validity=False)"
   ]
  }
 ],
 "metadata": {
  "kernelspec": {
   "display_name": "Python 3",
   "language": "python",
   "name": "python3"
  },
  "language_info": {
   "codemirror_mode": {
    "name": "ipython",
    "version": 3
   },
   "file_extension": ".py",
   "mimetype": "text/x-python",
   "name": "python",
   "nbconvert_exporter": "python",
   "pygments_lexer": "ipython3",
   "version": "3.6.10"
  }
 },
 "nbformat": 4,
 "nbformat_minor": 4
}
