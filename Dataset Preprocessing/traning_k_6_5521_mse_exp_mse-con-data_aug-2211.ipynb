{
 "cells": [
  {
   "cell_type": "code",
   "execution_count": 1,
   "metadata": {},
   "outputs": [],
   "source": [
    "root_path = \"/tf/home/sergio/Tesis\""
   ]
  },
  {
   "cell_type": "code",
   "execution_count": 2,
   "metadata": {},
   "outputs": [],
   "source": [
    "import sys\n",
    "sys.path.append(root_path+\"/TinyYOLOv3-Pedestrian-Detection\")\n",
    "\n",
    "from YOLOblocks import TinyYOLOv3,BasicBlock,PredictionLayer#,YOLOLossBasicBlock\n",
    "import numpy as np\n",
    "import matplotlib.pyplot as plt\n",
    "import tensorflow as tf\n",
    "#from tensorflow.python.tools import freeze_graph\n",
    "#from skimage.io import imread,imshow\n",
    "#from skimage.transform import resize \n",
    "import time\n",
    "#from tensorflow.compat.v1.image import decode_image\n",
    "import imgaug.augmenters as iaa\n",
    "from imgaug.augmentables.bbs import BoundingBox, BoundingBoxesOnImage\n",
    "import os"
   ]
  },
  {
   "cell_type": "markdown",
   "metadata": {},
   "source": [
    "## Dataset preparation"
   ]
  },
  {
   "cell_type": "code",
   "execution_count": 3,
   "metadata": {},
   "outputs": [],
   "source": [
    "image_feature_description = {\n",
    "    'bboxes': tf.io.FixedLenFeature([], tf.string),\n",
    "    'image_raw': tf.io.FixedLenFeature([], tf.string),\n",
    "    'num_real_boxes':tf.io.FixedLenFeature([], tf.int64),\n",
    "}"
   ]
  },
  {
   "cell_type": "code",
   "execution_count": 4,
   "metadata": {},
   "outputs": [],
   "source": [
    "def get_iou_matrix_tf(box_arr1, box_arr2):\n",
    "    \n",
    "    box_arr1 = box_arr1 -tf.tile(box_arr1[:,:2],[1,2])\n",
    "    #print(box_arr1)\n",
    "    x11, y11, x12, y12 = tf.split(box_arr1, 4, axis=1)\n",
    "    x21, y21, x22, y22 = tf.split(box_arr2, 4, axis=1)\n",
    "    xA = tf.maximum(x11, tf.transpose(x21))\n",
    "    yA = tf.maximum(y11, tf.transpose(y21))\n",
    "    xB = tf.minimum(x12, tf.transpose(x22))\n",
    "    yB = tf.minimum(y12, tf.transpose(y22))\n",
    "    interArea = tf.maximum((xB - xA + 1e-9), 0) * tf.maximum((yB - yA + 1e-9), 0)\n",
    "    boxAArea = (x12 - x11 + 1e-9) * (y12 - y11 + 1e-9)\n",
    "    boxBArea = (x22 - x21 + 1e-9) * (y22 - y21 + 1e-9)\n",
    "    iou = interArea / (boxAArea + tf.transpose(boxBArea) - interArea)\n",
    "    return iou,tf.argmax(iou,axis=1)#[:,tf.newaxis]\n",
    "\n",
    "\n",
    "def fill_yolo_output(boxes,grid_size,num_anchors,which_anchor_box,which_anchor_box_index):\n",
    "    #print(boxes.shape)\n",
    "    #noobj_mask = tf.ones((1,grid_size*grid_size*num_anchors))\n",
    "    #print(noobj_mask.shape)\n",
    "    \n",
    "    x_min,y_min,x_max,y_max =tf.split(boxes,4,axis=1)\n",
    "\n",
    "    #Transforma las coordenadas de (xmin,ymin,xmax,ymax) --> (xcenter,ycenter,width,height)\n",
    "    width = x_max-x_min\n",
    "    height = y_max-y_min\n",
    "    x_global =x_min + tf.math.divide(x_max - x_min,2)\n",
    "    y_global =y_min + tf.math.divide(y_max - y_min,2)\n",
    "    \n",
    "    \n",
    "    x_min_anchor,y_min_anchor,x_max_anchor,y_max_anchor =tf.split(which_anchor_box,4,axis=1)\n",
    "    \n",
    "    width_anchor = x_max_anchor-x_min_anchor\n",
    "    height_anchor = y_max_anchor-y_min_anchor\n",
    "    x_global_anchor =x_min_anchor + tf.math.divide(x_max_anchor - x_min_anchor,2)\n",
    "    y_global_anchor =y_min_anchor + tf.math.divide(y_max_anchor - y_min_anchor,2)   \n",
    "\n",
    "    \n",
    "    #print(\"el x original\",x_global)\n",
    "    #print(\"el y original\",y_global)\n",
    "    #print(\"el w original\",width)\n",
    "    #print(\"el h original\",height)\n",
    "    \n",
    "    #porción de la imagen que hay en cada celda\n",
    "    pixel_per_grid = tf.math.divide(1.,grid_size)\n",
    "    #print(pixel_per_grid)\n",
    "    \n",
    "    #Obtenemos la coordenada de la celda donde están los boundingboxes\n",
    "    offset_grid_x = x_global//pixel_per_grid\n",
    "    offset_grid_y = y_global//pixel_per_grid\n",
    "    \n",
    "    #Obtenemos el el centro locacon referencia  al celda encontrada previamente\n",
    "    x_local =tf.math.floormod(x_global,pixel_per_grid)\n",
    "    y_local =tf.math.floormod(y_global,pixel_per_grid)\n",
    "    #print(x_local,y_local)\n",
    "    \n",
    "    #Valores tx e ty del groudtruth\n",
    "    tx = tf.math.log(x_local + 1e-07/(1-x_local))\n",
    "    ty = tf.math.log(y_local+1e-07/(1-y_local))\n",
    "    tw = tf.math.log(tf.math.divide(width+1e-07,width_anchor))\n",
    "    th = tf.math.log(tf.math.divide(height+1e-07,height_anchor))\n",
    "    tobj_mask = tf.ones_like(tx)\n",
    "    tobj = tf.concat([tobj_mask,tobj_mask],axis=0)\n",
    "    \n",
    "    #tnoobj = tf.zeros_like(tx)    \n",
    "    #tobj = tf.ones((grid_size*grid_size*num_anchors,1))\n",
    "    #tnoobj = tf.zeros((grid_size*grid_size*num_anchors,1))\n",
    "    #print(\"Lo que la red debe predecir\",tx.numpy(),ty.numpy(),tw.numpy(),th.numpy())\n",
    "    #x_global = (offset_grid_x * pixel_per_grid) + tf.math.sigmoid(tx)\n",
    "    #y_global = (offset_grid_y * pixel_per_grid) + tf.math.sigmoid(ty)\n",
    "    #w = width_anchor*tf.math.exp(tw)\n",
    "    #h = height_anchor*tf.math.exp(th)\n",
    "    #print(\"obtnemos el x_real\",x_global)\n",
    "    #print(\"obtenemos el y_real\",y_global)\n",
    "    #print(\"obtenemos el w real\",w)\n",
    "    #print(\"obtenemos el h real\",h)\n",
    "    \n",
    "    #anchor_boxes_per_output = num_anchors//2\n",
    "\n",
    "    #Residuo indica cual de los 3 anchor boxes de la coordenada es la que llevara el 1\n",
    "    #Coord representa la coordenada del grid\n",
    "    \n",
    "    residuo = tf.math.floormod(which_anchor_box_index,num_anchors)[:,tf.newaxis]\n",
    "    coord = tf.cast(num_anchors*(offset_grid_y*grid_size + offset_grid_x),dtype=tf.int64)\n",
    "    \n",
    "    coord_objectness = tf.cast(2*(offset_grid_y*grid_size + offset_grid_x),dtype=tf.int64)\n",
    "    coord_objectness2 = coord_objectness+1\n",
    "    coord_objectess_global = tf.concat([coord_objectness,coord_objectness2],axis=0)\n",
    "    \n",
    "    output_position = residuo+coord\n",
    "    print(\"tipo de aoutput_positivon\",output_position)\n",
    "    \n",
    "    print(output_position)\n",
    "    \n",
    "    dense_shape = grid_size*grid_size*num_anchors\n",
    "    print(dense_shape)\n",
    "    tx_vector = tf.sparse.reorder(tf.sparse.SparseTensor(indices=output_position, values=tx[:,0], dense_shape=[dense_shape]))\n",
    "    ty_vector = tf.sparse.reorder(tf.sparse.SparseTensor(indices=output_position, values=ty[:,0], dense_shape=[dense_shape]))\n",
    "    tw_vector = tf.sparse.reorder(tf.sparse.SparseTensor(indices=output_position, values=tw[:,0], dense_shape=[dense_shape]))\n",
    "    th_vector = tf.sparse.reorder(tf.sparse.SparseTensor(indices=output_position, values=th[:,0], dense_shape=[dense_shape]))\n",
    "    obj_mask = tf.sparse.reorder(tf.sparse.SparseTensor(indices=output_position, values=tobj_mask[:,0], dense_shape=[dense_shape]))\n",
    "    objectness_vector = tf.sparse.reorder(tf.sparse.SparseTensor(indices=coord_objectess_global, values=tobj[:,0], dense_shape=[dense_shape]))\n",
    "    #noobj_mask = tf.sparse.reorder(tf.sparse.SparseTensor(indices=output_position, values=tnoobj[:,0], dense_shape=[dense_shape]))\n",
    "    #obj_mask =tx_vector=ty_vector=tw_vector=th_vector = tf.zeros((1,grid_size*grid_size*num_anchors))\n",
    "    \n",
    "    tx_vector_dense = tf.sparse.to_dense(tx_vector, default_value=0, validate_indices=False, name=\"Dense_tx\")\n",
    "    ty_vector_dense = tf.sparse.to_dense(ty_vector, default_value=0, validate_indices=False, name=\"Dense_ty\")\n",
    "    tw_vector_dense = tf.sparse.to_dense(tw_vector, default_value=0, validate_indices=False, name=\"Dense_tw\")\n",
    "    th_vector_dense = tf.sparse.to_dense(th_vector, default_value=0, validate_indices=False, name=\"Dense_th\")\n",
    "    obj_mask_dense =  tf.sparse.to_dense(obj_mask, default_value=0, validate_indices=False, name=\"Dense_obj\")\n",
    "    #noobj_mask_dense = 1-obj_mask_dense\n",
    "    objectness_vector_dense =  tf.sparse.to_dense(objectness_vector, default_value=0, validate_indices=False)\n",
    "    \n",
    "    #noobj_mask_dense= tf.sparse.to_dense(noobj_mask, default_value=1, validate_indices=False, name=\"Dense_noobj\")\n",
    "    ##print(tx_vector.to_dense)\n",
    "    #print(tf.sparse.to_dense(tx_vector, default_value=0, validate_indices=True, name=None)\n",
    "    #tx_vector=tx_vector[[3,2],]\n",
    "    #tx_vector[output_position[:,0]] = tx\n",
    "    #print(\"coordenada de la salida:\",output_position)\n",
    "    \n",
    "    #return ((tx_vector_dense,ty_vector_dense,obj_mask_dense),(tw_vector_dense,th_vector_dense,obj_mask_dense),(objectness),(objectness))\n",
    "    \n",
    "    return tx_vector_dense,ty_vector_dense,tw_vector_dense,th_vector_dense,obj_mask_dense,objectness_vector_dense\n",
    "\n",
    "def build_targets(image,image_bboxes,num_real_boxes,anchor_boxes):\n",
    "    \n",
    "    images_bboxes_original = image_bboxes\n",
    "    #Obtenemos los boduing boxes que son reales\n",
    "    image_bboxes = image_bboxes[:num_real_boxes,:]\n",
    "    #print(\"Bouding boxes de la imagen\",image_bboxes)\n",
    "    #Obteneos  la matriz de IoU , y el índice del anchor box que dió mejor resultado\n",
    "    \n",
    "    #Nprmalizamos con respecto al tamaño de la imagen y obtenemos la Iou con los anchor boxes\n",
    "    image_bboxes = tf.math.divide(image_bboxes,416)\n",
    "    iou_matrix,which_anchor_box_index = get_iou_matrix_tf(image_bboxes,anchor_boxes)\n",
    "    \n",
    "    print(which_anchor_box_index)\n",
    "\n",
    "    anchor_boxes_per_output = len(anchor_boxes)//2\n",
    "    #Indices de los bouding boxes que irian en cada salida, index_best_ yolo nos dice que bouding boxes de la imagen van a la salida YOLO1,\n",
    "    #porque su mejor IoU fue con los len(anchor_boxes)//2 anchor boxes mas grandes\n",
    "    index_best_yolo1 = tf.where(which_anchor_box_index>=anchor_boxes_per_output)[:,0]\n",
    "    index_best_yolo2 = tf.where(which_anchor_box_index<anchor_boxes_per_output)[:,0]\n",
    "    index_best_anchor_yolo1 = tf.gather(which_anchor_box_index,index_best_yolo1,axis=0)\n",
    "    index_best_anchor_yolo2 = tf.gather(which_anchor_box_index,index_best_yolo2,axis=0)\n",
    "    \n",
    "    print(index_best_yolo1)\n",
    "    print(index_best_anchor_yolo1)\n",
    "\n",
    "    print(index_best_yolo2)\n",
    "    print(index_best_anchor_yolo2)\n",
    "\n",
    "    \n",
    "    best_bboxes_yolo1 = tf.gather(image_bboxes,index_best_yolo1,axis =0)\n",
    "    best_anchors_yolo1 = tf.gather(anchor_boxes,index_best_anchor_yolo1, axis =0) #LOs dos anchor boxes grandes corrsponden a YOLO1\n",
    "    best_bboxes_yolo2 = tf.gather(image_bboxes,index_best_yolo2,axis =0)\n",
    "    best_anchors_yolo2 = tf.gather(anchor_boxes,index_best_anchor_yolo2, axis =0) #Los dos anchor boxes pequeños corresponden a YOLO2\n",
    "    \n",
    "    \n",
    "    if best_anchors_yolo1.shape[0] !=0:\n",
    "        tx_vector_yolo1,ty_vector_yolo1,tw_vector_yolo1,th_vector_yolo1,obj_mask_yolo1,obj_vector_yolo1= fill_yolo_output(best_bboxes_yolo1,13,anchor_boxes_per_output,best_anchors_yolo1,index_best_anchor_yolo1)\n",
    "    else:\n",
    "        tx_vector_yolo1=ty_vector_yolo1=tw_vector_yolo1=th_vector_yolo1=obj_mask_yolo1= obj_vector_yolo1=tf.zeros((1,grid_size*grid_size*num_anchors))\n",
    "        #noobj_mask_yolo1 = tf.ones((1,13*13*num_anchors))\n",
    "    \n",
    "    if best_anchors_yolo2.shape[0] != 0:\n",
    "        tx_vector_yolo2,ty_vector_yolo2,tw_vector_yolo2,th_vector_yolo2,obj_mask_yolo2,obj_vector_yolo2 = fill_yolo_output(best_bboxes_yolo2,26,anchor_boxes_per_output,best_anchors_yolo2,index_best_anchor_yolo2)\n",
    "    else:\n",
    "        tx_vector_yolo2=ty_vector_yolo2=tw_vector_yolo2=th_vector_yolo2=obj_mask_yolo2 = obj_vector_yolo2=tf.zeros((1,grid_size*grid_size*num_anchors))\n",
    "        #noobj_mask_yolo2 = tf.ones((1,26*26*num_anchors))\n",
    "        \n",
    "    tx_vector = tf.concat([tx_vector_yolo1,tx_vector_yolo2],axis=0)[:,tf.newaxis]\n",
    "    ty_vector = tf.concat([ty_vector_yolo1,ty_vector_yolo2],axis=0)[:,tf.newaxis]\n",
    "    tw_vector = tf.concat([tw_vector_yolo1,tw_vector_yolo2],axis=0)[:,tf.newaxis]\n",
    "    th_vector = tf.concat([th_vector_yolo1,th_vector_yolo2],axis=0)[:,tf.newaxis]\n",
    "    obj_mask = tf.concat([obj_mask_yolo1,obj_mask_yolo2],axis=0)[:,tf.newaxis]\n",
    "    #noobj_mask = tf.concat([noobj_mask_yolo1,noobj_mask_yolo2],axis=0)[:,tf.newaxis]\n",
    "    obj_vector = tf.concat([obj_vector_yolo1,obj_vector_yolo2],axis=0)[:,tf.newaxis]\n",
    "    \n",
    "    #output = tf.concat([tx_vector,ty_vector,tw_vector,th_vector,obj_mask,noobj_mask,obj_vector],axis=1)\n",
    "    #images_bboxes_original\n",
    "    #return image,output\n",
    "    #Vamos a regresar obj mask que es 1 cuando hay objeto en grid y el anchor box especifico\n",
    "    return tf.cast(image,tf.float32)/255,(tf.concat([tx_vector,ty_vector,obj_mask],axis=1),tf.concat([tw_vector,th_vector,obj_mask],axis=1),(obj_mask),(obj_mask))\n",
    "\n",
    "def imgaug_data_augmentation(image,bboxes,num_real_boxes):\n",
    "    im_shape = image.shape\n",
    "    bbs = BoundingBoxesOnImage.from_xyxy_array(bboxes*416, shape=(416,416))\n",
    "    \n",
    "    policy = np.random.randint(5)\n",
    "    \n",
    "    #policy = 2\n",
    "    if policy == 0:\n",
    "        \n",
    "        p = np.random.random()\n",
    "        if p<=0.6:\n",
    "            aug = iaa.TranslateX(px=(-60, 60),cval=128)\n",
    "            image, bbs = aug(image=image, bounding_boxes=bbs)\n",
    "            #bbs.remove_out_of_image().clip_out_of_image()\n",
    "    \n",
    "        p = np.random.random()\n",
    "        if p<=0.8:\n",
    "            aug = iaa.HistogramEqualization()\n",
    "            image, bbs = aug(image=image, bounding_boxes=bbs)\n",
    "            #bbs.remove_out_of_image().clip_out_of_image()\n",
    "    \n",
    "    elif policy==1:\n",
    "        \n",
    "        p=np.random.random()\n",
    "        if p<=0.2:\n",
    "            aug = iaa.TranslateY(px=(int(-0.18*416), int(0.18*416)),cval=128)\n",
    "            for i in bbs.to_xyxy_array(np.int32)[:num_real_boxes,:]:\n",
    "                bbox = image[i[1]:i[3],i[0]:i[2]]\n",
    "                bbox_augmented = aug(image=bbox)\n",
    "                image[i[1]:i[3],i[0]:i[2]] = bbox_augmented\n",
    "        \n",
    "        p=np.random.random()\n",
    "        if p<=0.8:\n",
    "            square_size = np.random.randint(48)\n",
    "            aug = iaa.Cutout(nb_iterations=1, size=square_size/416, squared=True)\n",
    "            image, bbs = aug(image=image, bounding_boxes=bbs)\n",
    "            #bbs.remove_out_of_image().clip_out_of_image()\n",
    "            \n",
    "    elif policy==2:\n",
    "        p=np.random.random()\n",
    "        if p<=1:\n",
    "            aug = iaa.ShearY(shear=(int(-0.06*416), int(0.06*416)), order=1, cval=128)\n",
    "            image, bbs = aug(image=image, bounding_boxes=bbs)\n",
    "            #bbs.remove_out_of_image().clip_out_of_image()\n",
    "            \n",
    "        p=np.random.random()\n",
    "        if p<=0.6:\n",
    "            aug = iaa.TranslateY(px=(int(-0.18*416), int(0.18*416)),cval=128)\n",
    "            for i in bbs.to_xyxy_array(np.int32)[:num_real_boxes,:]:\n",
    "                bbox = image[i[1]:i[3],i[0]:i[2]]\n",
    "                bbox_augmented = aug(image=bbox)\n",
    "                image[i[1]:i[3],i[0]:i[2]] = bbox_augmented\n",
    "            \n",
    "    elif policy==3:\n",
    "        p=np.random.random()\n",
    "        if p<=0.6:    \n",
    "            aug = iaa.Rotate(rotate=(-30, 30), order=1, cval=128)\n",
    "            image, bbs = aug(image=image, bounding_boxes=bbs)\n",
    "            #bbs_aug.remove_out_of_image().clip_out_of_image()\n",
    "        \n",
    "        p=np.random.random()\n",
    "        if p<=1:\n",
    "            aug = iaa.MultiplySaturation((0.54, 1.54))\n",
    "            image, bbs = aug(image=image, bounding_boxes=bbs)\n",
    "            #bbs.remove_out_of_image().clip_out_of_image()\n",
    "            \n",
    "    bbs.remove_out_of_image()\n",
    "    \n",
    "    return image,np.clip(bbs.to_xyxy_array(np.float32),1,415),num_real_boxes\n",
    "    \n",
    "    \n",
    "def preprocessing(example_proto):\n",
    "    image_features = tf.io.parse_single_example(example_proto, image_feature_description)\n",
    "    image = tf.image.decode_jpeg(image_features['image_raw'],channels = 3)\n",
    "    image = tf.cast(tf.image.resize(image,size=(416,416)), tf.uint8)\n",
    "    bboxes =  tf.io.parse_tensor(image_features['bboxes'], out_type=tf.float32)\n",
    "    \n",
    "    num_real_boxes = image_features['num_real_boxes']\n",
    "    return image,bboxes,num_real_boxes\n",
    "\n",
    "def preprocessing_validation_set(example_proto):\n",
    "    image_features = tf.io.parse_single_example(example_proto, image_feature_description)\n",
    "    image = tf.image.decode_jpeg(image_features['image_raw'],channels = 3)\n",
    "    image = tf.cast(tf.image.resize(image,size=(416,416)), tf.uint8)\n",
    "    bboxes =  tf.io.parse_tensor(image_features['bboxes'], out_type=tf.float32)\n",
    "    bboxes = tf.clip_by_value(bboxes*416,1,415)\n",
    "    \n",
    "    num_real_boxes = image_features['num_real_boxes']\n",
    "    return image,bboxes,tf.cast(num_real_boxes,tf.int64)\n",
    "    \n",
    "@tf.function(input_signature=[tf.TensorSpec((416,416,3), tf.uint8),tf.TensorSpec((None,4), tf.float32),tf.TensorSpec((), tf.int64)]) \n",
    "def tf_numpy_albumentations_real(image,bboxes,num_real_boxes):\n",
    "    \n",
    "    boxes_shape = bboxes.shape\n",
    "    im_shape = image.shape\n",
    "\n",
    "    image,bboxes,num_real_boxes = tf.numpy_function(imgaug_data_augmentation,[image,bboxes,num_real_boxes],Tout =[tf.uint8,tf.float32,tf.int64])\n",
    " \n",
    "    image.set_shape(im_shape)\n",
    "    bboxes.set_shape(boxes_shape)\n",
    "    print(\"Imagen data type\",image.dtype)\n",
    "    print(\"Bboxes data type\",bboxes.dtype)\n",
    "    print(\"num_real_boxes\",num_real_boxes.dtype)\n",
    "\n",
    "    return image,bboxes,num_real_boxes"
   ]
  },
  {
   "cell_type": "code",
   "execution_count": null,
   "metadata": {},
   "outputs": [],
   "source": []
  },
  {
   "cell_type": "code",
   "execution_count": 5,
   "metadata": {},
   "outputs": [
    {
     "name": "stdout",
     "output_type": "stream",
     "text": [
      "Imagen data type <dtype: 'uint8'>\n",
      "Bboxes data type <dtype: 'float32'>\n",
      "num_real_boxes <dtype: 'int64'>\n",
      "Tensor(\"ArgMax:0\", shape=(None,), dtype=int64)\n",
      "Tensor(\"strided_slice_2:0\", shape=(None,), dtype=int64)\n",
      "Tensor(\"GatherV2:0\", shape=(None,), dtype=int64)\n",
      "Tensor(\"strided_slice_3:0\", shape=(None,), dtype=int64)\n",
      "Tensor(\"GatherV2_1:0\", shape=(None,), dtype=int64)\n",
      "tipo de aoutput_positivon Tensor(\"add_18:0\", shape=(None, 1), dtype=int64)\n",
      "Tensor(\"add_18:0\", shape=(None, 1), dtype=int64)\n",
      "507\n",
      "tipo de aoutput_positivon Tensor(\"add_30:0\", shape=(None, 1), dtype=int64)\n",
      "Tensor(\"add_30:0\", shape=(None, 1), dtype=int64)\n",
      "2028\n",
      "Tensor(\"ArgMax:0\", dtype=int64)\n",
      "Tensor(\"strided_slice_2:0\", shape=(None,), dtype=int64)\n",
      "Tensor(\"GatherV2:0\", dtype=int64)\n",
      "Tensor(\"strided_slice_3:0\", shape=(None,), dtype=int64)\n",
      "Tensor(\"GatherV2_1:0\", dtype=int64)\n",
      "tipo de aoutput_positivon Tensor(\"add_18:0\", dtype=int64)\n",
      "Tensor(\"add_18:0\", dtype=int64)\n",
      "507\n",
      "tipo de aoutput_positivon Tensor(\"add_30:0\", dtype=int64)\n",
      "Tensor(\"add_30:0\", dtype=int64)\n",
      "2028\n"
     ]
    }
   ],
   "source": [
    "#USANDO TF.IMAGE MODULE\n",
    "#anchors =tf.constant(np.array([[0,0,0.015,0.037],[0,0,0.043,0.104],[0,0,0.11,0.278],[0,0,0.351,0.66]]),dtype=tf.float32)\n",
    "#anchors =tf.constant(np.array([[0,0,0.026,0.062],[0,0,0.067,0.183],[0,0,0.128,0.323],[0,0,0.343,0.650]]),dtype=tf.float32)\n",
    "anchors =tf.constant(np.array([[0,0,0.02078,0.049],[0,0,0.0426,0.128],[0,0,0.08523,0.19356],[0,0,0.1506,0.4163],[0,0,0.27835,0.58651],[0,0,0.5632,0.78614]]),dtype=tf.float32)\n",
    "\n",
    "\n",
    "\n",
    "os.chdir(root_path+\"/pedestrian_dataset_train_tfr\")\n",
    "filenames = os. listdir()\n",
    "raw_image_dataset = tf.data.TFRecordDataset(filenames)\n",
    "\n",
    "os.chdir(root_path+\"/pedestrian_dataset_val_tfr_fixed\")\n",
    "filenames = os. listdir()\n",
    "raw_image_dataset_val =tf.data.TFRecordDataset(filenames)\n",
    "\n",
    "os.chdir(root_path+\"/pedestrian_dataset_train_tfr\")\n",
    "#.shuffle(70000)\n",
    "\n",
    "#VAMOS A HACER UN ENTRENAMIENTO SIN DATA AUGMENTATION, ADEMAS DE USAR MSE Y EXP MSE Y REZAR PARA QUE MEJORE\n",
    "\n",
    "train_dataset = raw_image_dataset.map(preprocessing,num_parallel_calls=8)\n",
    "train_dataset = train_dataset.map(tf_numpy_albumentations_real,num_parallel_calls=8)\n",
    "train_dataset = train_dataset.map(lambda x,y,z:build_targets(x,y,z,anchors),num_parallel_calls=8)\n",
    "train_dataset = train_dataset.batch(16)\n",
    "\n",
    "val_dataset = raw_image_dataset_val.map(preprocessing_validation_set,num_parallel_calls=8)\n",
    "val_dataset = val_dataset.map(lambda x,y,z:build_targets(x,y,z,anchors),num_parallel_calls=8)\n",
    "val_dataset = val_dataset.batch(16)"
   ]
  },
  {
   "cell_type": "code",
   "execution_count": null,
   "metadata": {},
   "outputs": [],
   "source": []
  },
  {
   "cell_type": "markdown",
   "metadata": {},
   "source": [
    "### Loss Function"
   ]
  },
  {
   "cell_type": "code",
   "execution_count": 6,
   "metadata": {},
   "outputs": [
    {
     "data": {
      "text/plain": [
       "'\\ndef loss_bce_objectness(y_true,y_pred):\\n    #bce = BinaryCrossentropy(reduction=tf.keras.losses.Reduction.NONE)\\n    #tw_true,th_true,obj_mask = tf.split(y_true, [1,1,1], axis=-1)\\n    #tw_pred,th_pred = tf.split(y_pred, [1,1], axis=-1)   \\n    \\n    loss_obj =tf.reduce_mean(tf.reduce_sum( y_true*tf.math.log(y_pred+1e-7)[:,tf.newaxis],axis=1))\\n    \\n    return loss_obj\\n\\ndef loss_bce_no_objectness(y_true,y_pred):\\n    #bce = BinaryCrossentropy(reduction=tf.keras.losses.Reduction.NONE)\\n    loss_noobj =tf.reduce_mean(tf.reduce_sum((1-y_true)*tf.math.log(1-y_pred+1e-7)[:,tf.newaxis],axis=1))\\n    \\n    return loss_noobj\\n'"
      ]
     },
     "execution_count": 6,
     "metadata": {},
     "output_type": "execute_result"
    }
   ],
   "source": [
    "from tensorflow.keras.losses import Loss,BinaryCrossentropy,MeanSquaredError,MeanSquaredLogarithmicError\n",
    "'''\n",
    "def loss_xy(y_true,y_pred):\n",
    "    \n",
    "    mse = MeanSquaredError(reduction=tf.keras.losses.Reduction.NONE)\n",
    "    \n",
    "    tx_true,ty_true,obj_mask = tf.split(y_true, [1,1,1], axis=-1)\n",
    "    tx_pred,ty_pred = tf.split(y_pred, [1,1], axis=-1)\n",
    "    \n",
    "    loss_x = tf.reduce_mean(tf.reduce_sum(obj_mask*(mse(tx_true,tx_pred)[:,:,tf.newaxis]),axis=1))\n",
    "    loss_y = tf.reduce_mean(tf.reduce_sum(obj_mask*(mse(ty_true,ty_pred)[:,:,tf.newaxis]),axis=1))\n",
    "\n",
    "    return loss_x+loss_y\n",
    "\n",
    "def loss_wh(y_true,y_pred):\n",
    "    \n",
    "    mse = MeanSquaredError(reduction=tf.keras.losses.Reduction.NONE)\n",
    "    \n",
    "    tw_true,th_true,obj_mask = tf.split(y_true, [1,1,1], axis=-1)\n",
    "    tw_pred,th_pred = tf.split(y_pred, [1,1], axis=-1)\n",
    "    \n",
    "    loss_w = tf.reduce_mean(tf.reduce_sum(obj_mask*(mse(tw_true,tw_pred)[:,:,tf.newaxis]),axis=1))\n",
    "    loss_h = tf.reduce_mean(tf.reduce_sum(obj_mask*(mse(th_true,th_pred)[:,:,tf.newaxis]),axis=1))\n",
    "\n",
    "\n",
    "    return loss_w+loss_h\n",
    "\n",
    "\n",
    "def loss_xy(y_true,y_pred):\n",
    "    \n",
    "    msle = MeanSquaredLogarithmicError(reduction=tf.keras.losses.Reduction.NONE)\n",
    "\n",
    "    tx_true,ty_true,obj_mask = tf.split(y_true, [1,1,1], axis=-1)\n",
    "    tx_pred,ty_pred = tf.split(y_pred, [1,1], axis=-1)\n",
    "    \n",
    "    #print(tf.math.square(tx_true-tx_pred))  \n",
    "    \n",
    "    loss_x = tf.reduce_mean(tf.reduce_sum(obj_mask*(msle(tx_true,tx_pred)[:,:,tf.newaxis]),axis=1))\n",
    "    loss_y = tf.reduce_mean(tf.reduce_sum(obj_mask*(msle(ty_true,ty_pred)[:,:,tf.newaxis]),axis=1))\n",
    "\n",
    "    return loss_x+loss_y\n",
    "\n",
    "def loss_wh(y_true,y_pred):\n",
    "\n",
    "    msle = MeanSquaredLogarithmicError(reduction=tf.keras.losses.Reduction.NONE)\n",
    "    \n",
    "    tw_true,th_true,obj_mask = tf.split(y_true, [1,1,1], axis=-1)\n",
    "    tw_pred,th_pred = tf.split(y_pred, [1,1], axis=-1)\n",
    "    \n",
    "    #print(tf.math.square(tw_true-tw_pred))\n",
    "\n",
    "    \n",
    "    loss_w = tf.reduce_mean(tf.reduce_sum(obj_mask*(msle(tw_true,tw_pred)[:,:,tf.newaxis]),axis=1))\n",
    "    loss_h = tf.reduce_mean(tf.reduce_sum(obj_mask*(msle(th_true,th_pred)[:,:,tf.newaxis]),axis=1))\n",
    "\n",
    "\n",
    "    return loss_w+loss_h\n",
    "    \n",
    "def loss_xy(y_true,y_pred):\n",
    "    \n",
    "    msle = MeanSquaredLogarithmicError(reduction=tf.keras.losses.Reduction.NONE)\n",
    "\n",
    "    tx_true,ty_true,obj_mask = tf.split(y_true, [1,1,1], axis=-1)\n",
    "    tx_pred,ty_pred = tf.split(y_pred, [1,1], axis=-1)\n",
    "    \n",
    "    #print(tf.math.square(tx_true-tx_pred))  \n",
    "    \n",
    "    loss_x = tf.reduce_mean(tf.reduce_sum(obj_mask*(msle(tx_true,tx_pred)[:,:,tf.newaxis]),axis=1))\n",
    "    loss_y = tf.reduce_mean(tf.reduce_sum(obj_mask*(msle(ty_true,ty_pred)[:,:,tf.newaxis]),axis=1))\n",
    "\n",
    "    return loss_x+loss_y\n",
    "    \n",
    "'''\n",
    "def loss_xy(y_true,y_pred):\n",
    "    \n",
    "    mse = MeanSquaredError(reduction=tf.keras.losses.Reduction.NONE)\n",
    "    \n",
    "    tx_true,ty_true,obj_mask = tf.split(y_true, [1,1,1], axis=-1)\n",
    "    tx_pred,ty_pred = tf.split(y_pred, [1,1], axis=-1)\n",
    "    \n",
    "    loss_x = tf.reduce_mean(tf.reduce_sum(obj_mask*(mse(tx_true,tx_pred)[:,:,tf.newaxis]),axis=1))\n",
    "    loss_y = tf.reduce_mean(tf.reduce_sum(obj_mask*(mse(ty_true,ty_pred)[:,:,tf.newaxis]),axis=1))\n",
    "\n",
    "    return loss_x+loss_y\n",
    "\n",
    "\n",
    "def loss_wh(y_true,y_pred):\n",
    "\n",
    "    mse = MeanSquaredError(reduction=tf.keras.losses.Reduction.NONE)\n",
    "    \n",
    "    tw_true,th_true,obj_mask = tf.split(y_true, [1,1,1], axis=-1)\n",
    "    tw_pred,th_pred = tf.split(y_pred, [1,1], axis=-1)\n",
    "    \n",
    "    #print(tf.math.square(tw_true-tw_pred))\n",
    "\n",
    "    \n",
    "    loss_w = tf.reduce_mean(tf.reduce_sum(obj_mask*(mse(tf.math.exp(tw_true),tf.math.exp(tw_pred))[:,:,tf.newaxis]),axis=1))\n",
    "    loss_h = tf.reduce_mean(tf.reduce_sum(obj_mask*(mse(tf.math.exp(th_true),tf.math.exp(th_pred))[:,:,tf.newaxis]),axis=1))\n",
    "\n",
    "\n",
    "    return loss_w+loss_h\n",
    "\n",
    "\n",
    "def loss_objectness(y_true,y_pred):\n",
    "    bce = BinaryCrossentropy(reduction=tf.keras.losses.Reduction.NONE)\n",
    "    \n",
    "    #tw_true,th_true,obj_mask = tf.split(y_true, [1,1,1], axis=-1)\n",
    "    #tw_pred,th_pred = tf.split(y_pred, [1,1], axis=-1)   \n",
    "    \n",
    "    loss_obj =tf.reduce_mean(tf.reduce_sum( y_true*bce(y_true,y_pred)[:,tf.newaxis],axis=1))\n",
    "    \n",
    "    return loss_obj\n",
    "\n",
    "def loss_no_objectness(y_true,y_pred):\n",
    "    bce = BinaryCrossentropy(reduction=tf.keras.losses.Reduction.NONE)\n",
    "    \n",
    "    \n",
    "    loss_noobj =tf.reduce_mean(tf.reduce_sum((1-y_true)*bce(y_true,y_pred)[:,tf.newaxis],axis=1))\n",
    "    \n",
    "    return loss_noobj\n",
    "'''\n",
    "def loss_bce_objectness(y_true,y_pred):\n",
    "    #bce = BinaryCrossentropy(reduction=tf.keras.losses.Reduction.NONE)\n",
    "    #tw_true,th_true,obj_mask = tf.split(y_true, [1,1,1], axis=-1)\n",
    "    #tw_pred,th_pred = tf.split(y_pred, [1,1], axis=-1)   \n",
    "    \n",
    "    loss_obj =tf.reduce_mean(tf.reduce_sum( y_true*tf.math.log(y_pred+1e-7)[:,tf.newaxis],axis=1))\n",
    "    \n",
    "    return loss_obj\n",
    "\n",
    "def loss_bce_no_objectness(y_true,y_pred):\n",
    "    #bce = BinaryCrossentropy(reduction=tf.keras.losses.Reduction.NONE)\n",
    "    loss_noobj =tf.reduce_mean(tf.reduce_sum((1-y_true)*tf.math.log(1-y_pred+1e-7)[:,tf.newaxis],axis=1))\n",
    "    \n",
    "    return loss_noobj\n",
    "'''"
   ]
  },
  {
   "cell_type": "markdown",
   "metadata": {},
   "source": [
    "## Training with Model.fit()"
   ]
  },
  {
   "cell_type": "code",
   "execution_count": 7,
   "metadata": {},
   "outputs": [
    {
     "name": "stdout",
     "output_type": "stream",
     "text": [
      "Modo entrenamiento\n",
      "Pesos de la convolucion (432,)\n",
      "CONV SHAPE (16, 3, 3, 3)\n",
      "Pesos de la convolucion (4608,)\n",
      "CONV SHAPE (32, 16, 3, 3)\n",
      "Pesos de la convolucion (18432,)\n",
      "CONV SHAPE (64, 32, 3, 3)\n",
      "Pesos de la convolucion (73728,)\n",
      "CONV SHAPE (128, 64, 3, 3)\n",
      "Pesos de la convolucion (294912,)\n",
      "CONV SHAPE (256, 128, 3, 3)\n",
      "Pesos de la convolucion (1179648,)\n",
      "CONV SHAPE (512, 256, 3, 3)\n",
      "Pesos de la convolucion (4718592,)\n",
      "CONV SHAPE (1024, 512, 3, 3)\n",
      "Pesos de la convolucion (262144,)\n",
      "CONV SHAPE (256, 1024, 1, 1)\n",
      "Pesos de la convolucion (1179648,)\n",
      "CONV SHAPE (512, 256, 3, 3)\n",
      "Pesos de la convolucion (130560,)\n",
      "CONV SHAPE (255, 512, 1, 1)\n",
      "Pesos de la convolucion (32768,)\n",
      "CONV SHAPE (128, 256, 1, 1)\n",
      "Pesos de la convolucion (884736,)\n",
      "CONV SHAPE (256, 384, 3, 3)\n",
      "Pesos de la convolucion (65280,)\n",
      "CONV SHAPE (255, 256, 1, 1)\n",
      "8858734\n"
     ]
    }
   ],
   "source": [
    "#anchors =tf.constant(np.array([[0.026,0.062],[0.067,0.183],[0.128,0.323],[0.343,0.650]]),dtype=tf.float32)\n",
    "anchors =tf.constant(np.array([[0,0,0.02078,0.049],[0,0,0.0426,0.128],[0,0,0.08523,0.19356],[0,0,0.1506,0.4163],[0,0,0.27835,0.58651],[0,0,0.5632,0.78614]]),dtype=tf.float32)\n",
    "\n",
    "model = TinyYOLOv3(1,anchor_boxes=anchors,train=True,mode = \"finetuning\")\n",
    "model.build(batch_input_shape=(None,416,416,3))\n",
    "print(model.load_weights_darknet(root_path+\"/TinyYOLOv3-Pedestrian-Detection/yolov3-tiny.weights\"))"
   ]
  },
  {
   "cell_type": "code",
   "execution_count": 8,
   "metadata": {},
   "outputs": [
    {
     "name": "stdout",
     "output_type": "stream",
     "text": [
      "BasicBlock1 True\n",
      "BasicBlock2 True\n",
      "BasicBlock3 True\n",
      "BasicBlock4 True\n",
      "BasicBlock5 True\n",
      "BasicBlock6 True\n",
      "BasicBlock7 True\n",
      "BasicBlock8 True\n",
      "BasicBlock9 True\n",
      "FinalBlock1 True\n",
      "BasicBlock11 True\n",
      "BasicBlock12 True\n",
      "FinalBlock2 True\n",
      "Concatenate True\n",
      "Upsampling True\n",
      "Prediction1 True\n",
      "Prediction2 True\n",
      "Concatenate_BBOX True\n"
     ]
    }
   ],
   "source": [
    "for l in model.layers:\n",
    "    print(l.name, l.trainable)#,l.weights[0].shape)\n",
    "    pass"
   ]
  },
  {
   "cell_type": "markdown",
   "metadata": {},
   "source": [
    "## Eager execution training (For debuging)"
   ]
  },
  {
   "cell_type": "code",
   "execution_count": 9,
   "metadata": {},
   "outputs": [],
   "source": [
    "debugging = False\n",
    "\n",
    "if debugging:\n",
    "    model = TinyYOLOv3(1,anchor_boxes=anchors,train=True)\n",
    "    model.build(batch_input_shape=(None,416,416,3))\n",
    "    model.summary()\n",
    "    model.load_weights_darknet(\"/home/sergio/TinyYOLOv3-Pedestrian-Detection/yolov3-tiny.weights\");\n",
    "    optimizer = tf.keras.optimizers.Adam()\n",
    "    #model_loss = YOLOLoss()\n",
    "\n",
    "    for epochs in range(1,2,1):\n",
    "        for (images,y_true) in train_dataset:\n",
    "            with tf.GradientTape() as tape:\n",
    "                outputs = model(images)\n",
    "                print(\"Tamaño de la etiqueta\",y_true[0].shape)\n",
    "                print(\"Salida\",outputs[0].shape)\n",
    "                loss_x_y = loss_xy(y_true[0],outputs[0])\n",
    "                loss_w_h = loss_wh(y_true[1],outputs[1])\n",
    "                loss_obj = loss_objectness(y_true[2],outputs[2])\n",
    "                loss_noobj = loss_no_objectness(y_true[3],outputs[3])\n",
    "\n",
    "                total_loss =loss_x_y+loss_w_h+loss_obj+loss_noobj\n",
    "            #print(epochs,(total_loss.numpy()))\n",
    "            grads = tape.gradient(total_loss, model.trainable_variables)\n",
    "            optimizer.apply_gradients(zip(grads, model.trainable_variables))\n",
    "\n",
    "                #logging.info(\"{}_train_{}, {}, {}\".format(\n",
    "                #    epoch, batch, total_loss.numpy()))\n",
    "                \n",
    "else:\n",
    "    pass"
   ]
  },
  {
   "cell_type": "code",
   "execution_count": 12,
   "metadata": {},
   "outputs": [],
   "source": [
    "tf.random.set_seed(0)\n",
    "\n",
    "from tensorflow.keras.metrics import TrueNegatives,TruePositives,FalseNegatives,FalsePositives,Precision,Recall\n",
    "\n",
    "opt = tf.keras.optimizers.Nadam(learning_rate=1e-4)\n",
    "\n",
    "losses = {\"output_1\": loss_xy,\n",
    "          \"output_2\": loss_wh,\n",
    "          \"output_3\":loss_objectness,\n",
    "          \"output_4\":loss_no_objectness  \n",
    "}\n",
    "\n",
    "metrics = {\"output_3\":[Precision(0.5),Recall(0.5),TruePositives(0.5),FalsePositives(0.5)]}\n",
    "model.compile(optimizer=opt, loss=losses,metrics=metrics,loss_weights=[2,2,1,1])\n",
    "os.chdir(root_path+ \"/pedestrian_dataset_train_tfr\")"
   ]
  },
  {
   "cell_type": "markdown",
   "metadata": {},
   "source": [
    "## Batch 16, con pesos 2,2,1,1 with lr=0.0001 y usando mse para el (x,y) y usando mse de las exponenciales para (w,h)"
   ]
  },
  {
   "cell_type": "code",
   "execution_count": null,
   "metadata": {},
   "outputs": [],
   "source": []
  },
  {
   "cell_type": "code",
   "execution_count": 13,
   "metadata": {
    "scrolled": true
   },
   "outputs": [
    {
     "name": "stdout",
     "output_type": "stream",
     "text": [
      "Epoch 1/30\n",
      "Modo entrenamiento\n",
      "Modo entrenamiento\n",
      "   4607/Unknown - 581s 126ms/step - loss: 107.5875 - output_1_loss: 8.8930 - output_2_loss: 2.3609 - output_3_loss: 0.1497 - output_4_loss: 84.9300 - output_3_precision_2: 0.0054 - output_3_recall_2: 0.0298 - output_3_true_positives_2: 8056.0000 - output_3_false_positives_2: 1472451.0000Modo entrenamiento\n",
      "4607/4607 [==============================] - 589s 128ms/step - loss: 107.5875 - output_1_loss: 8.8930 - output_2_loss: 2.3609 - output_3_loss: 0.1497 - output_4_loss: 84.9300 - output_3_precision_2: 0.0054 - output_3_recall_2: 0.0298 - output_3_true_positives_2: 8056.0000 - output_3_false_positives_2: 1472451.0000 - val_loss: 30.4656 - val_output_1_loss: 5.7756 - val_output_2_loss: 0.9470 - val_output_3_loss: 0.0508 - val_output_4_loss: 16.9696 - val_output_3_precision_2: 0.8250 - val_output_3_recall_2: 0.0223 - val_output_3_true_positives_2: 264.0000 - val_output_3_false_positives_2: 56.0000\n",
      "Epoch 2/30\n",
      "4607/4607 [==============================] - 565s 123ms/step - loss: 27.6229 - output_1_loss: 5.6615 - output_2_loss: 0.8370 - output_3_loss: 0.0420 - output_4_loss: 14.5838 - output_3_precision_2: 0.6332 - output_3_recall_2: 0.0572 - output_3_true_positives_2: 15462.0000 - output_3_false_positives_2: 8955.0000 - val_loss: 27.4485 - val_output_1_loss: 5.2275 - val_output_2_loss: 0.6437 - val_output_3_loss: 0.0494 - val_output_4_loss: 15.6566 - val_output_3_precision_2: 0.7884 - val_output_3_recall_2: 0.0425 - val_output_3_true_positives_2: 503.0000 - val_output_3_false_positives_2: 135.0000\n",
      "Epoch 3/30\n",
      "4607/4607 [==============================] - 555s 120ms/step - loss: 25.6595 - output_1_loss: 5.3605 - output_2_loss: 0.6906 - output_3_loss: 0.0397 - output_4_loss: 13.5177 - output_3_precision_2: 0.6386 - output_3_recall_2: 0.0841 - output_3_true_positives_2: 22723.0000 - output_3_false_positives_2: 12861.0000 - val_loss: 26.1368 - val_output_1_loss: 4.8918 - val_output_2_loss: 0.5737 - val_output_3_loss: 0.0482 - val_output_4_loss: 15.1577 - val_output_3_precision_2: 0.7708 - val_output_3_recall_2: 0.0518 - val_output_3_true_positives_2: 612.0000 - val_output_3_false_positives_2: 182.0000\n",
      "Epoch 4/30\n",
      "4607/4607 [==============================] - 576s 125ms/step - loss: 24.4442 - output_1_loss: 5.0722 - output_2_loss: 0.6264 - output_3_loss: 0.0383 - output_4_loss: 13.0085 - output_3_precision_2: 0.6483 - output_3_recall_2: 0.1030 - output_3_true_positives_2: 27825.0000 - output_3_false_positives_2: 15094.0000 - val_loss: 25.1784 - val_output_1_loss: 4.5954 - val_output_2_loss: 0.5872 - val_output_3_loss: 0.0471 - val_output_4_loss: 14.7663 - val_output_3_precision_2: 0.7939 - val_output_3_recall_2: 0.0612 - val_output_3_true_positives_2: 724.0000 - val_output_3_false_positives_2: 188.0000\n",
      "Epoch 5/30\n",
      "4607/4607 [==============================] - 581s 126ms/step - loss: 23.6290 - output_1_loss: 4.8713 - output_2_loss: 0.5926 - output_3_loss: 0.0374 - output_4_loss: 12.6638 - output_3_precision_2: 0.6560 - output_3_recall_2: 0.1164 - output_3_true_positives_2: 31455.0000 - output_3_false_positives_2: 16492.0000 - val_loss: 23.7898 - val_output_1_loss: 4.2617 - val_output_2_loss: 0.4945 - val_output_3_loss: 0.0454 - val_output_4_loss: 14.2320 - val_output_3_precision_2: 0.7883 - val_output_3_recall_2: 0.0683 - val_output_3_true_positives_2: 808.0000 - val_output_3_false_positives_2: 217.0000\n",
      "Epoch 6/30\n",
      "4607/4607 [==============================] - 564s 122ms/step - loss: 23.0388 - output_1_loss: 4.7134 - output_2_loss: 0.5734 - output_3_loss: 0.0368 - output_4_loss: 12.4284 - output_3_precision_2: 0.6594 - output_3_recall_2: 0.1276 - output_3_true_positives_2: 34477.0000 - output_3_false_positives_2: 17807.0000 - val_loss: 23.0488 - val_output_1_loss: 4.0695 - val_output_2_loss: 0.4740 - val_output_3_loss: 0.0445 - val_output_4_loss: 13.9173 - val_output_3_precision_2: 0.7879 - val_output_3_recall_2: 0.0826 - val_output_3_true_positives_2: 977.0000 - val_output_3_false_positives_2: 263.0000\n",
      "Epoch 7/30\n",
      "4607/4607 [==============================] - 561s 122ms/step - loss: 22.2439 - output_1_loss: 4.4979 - output_2_loss: 0.5245 - output_3_loss: 0.0361 - output_4_loss: 12.1632 - output_3_precision_2: 0.6628 - output_3_recall_2: 0.1391 - output_3_true_positives_2: 37609.0000 - output_3_false_positives_2: 19132.0000 - val_loss: 22.5698 - val_output_1_loss: 3.8938 - val_output_2_loss: 0.4677 - val_output_3_loss: 0.0443 - val_output_4_loss: 13.8024 - val_output_3_precision_2: 0.8079 - val_output_3_recall_2: 0.0861 - val_output_3_true_positives_2: 1018.0000 - val_output_3_false_positives_2: 242.0000\n",
      "Epoch 8/30\n",
      "4607/4607 [==============================] - 572s 124ms/step - loss: 21.7094 - output_1_loss: 4.3251 - output_2_loss: 0.5240 - output_3_loss: 0.0356 - output_4_loss: 11.9755 - output_3_precision_2: 0.6682 - output_3_recall_2: 0.1488 - output_3_true_positives_2: 40188.0000 - output_3_false_positives_2: 19952.0000 - val_loss: 21.8801 - val_output_1_loss: 3.6486 - val_output_2_loss: 0.4878 - val_output_3_loss: 0.0436 - val_output_4_loss: 13.5639 - val_output_3_precision_2: 0.8154 - val_output_3_recall_2: 0.0893 - val_output_3_true_positives_2: 1056.0000 - val_output_3_false_positives_2: 239.0000\n",
      "Epoch 9/30\n",
      "4607/4607 [==============================] - 575s 125ms/step - loss: 21.2862 - output_1_loss: 4.2104 - output_2_loss: 0.5217 - output_3_loss: 0.0350 - output_4_loss: 11.7870 - output_3_precision_2: 0.6684 - output_3_recall_2: 0.1582 - output_3_true_positives_2: 42754.0000 - output_3_false_positives_2: 21212.0000 - val_loss: 21.1364 - val_output_1_loss: 3.4086 - val_output_2_loss: 0.4371 - val_output_3_loss: 0.0431 - val_output_4_loss: 13.4019 - val_output_3_precision_2: 0.8230 - val_output_3_recall_2: 0.0940 - val_output_3_true_positives_2: 1111.0000 - val_output_3_false_positives_2: 239.0000\n",
      "Epoch 10/30\n",
      "4607/4607 [==============================] - 568s 123ms/step - loss: 20.8716 - output_1_loss: 4.0605 - output_2_loss: 0.5284 - output_3_loss: 0.0347 - output_4_loss: 11.6593 - output_3_precision_2: 0.6715 - output_3_recall_2: 0.1642 - output_3_true_positives_2: 44363.0000 - output_3_false_positives_2: 21698.0000 - val_loss: 20.5806 - val_output_1_loss: 3.2479 - val_output_2_loss: 0.4770 - val_output_3_loss: 0.0422 - val_output_4_loss: 13.0887 - val_output_3_precision_2: 0.8319 - val_output_3_recall_2: 0.0962 - val_output_3_true_positives_2: 1138.0000 - val_output_3_false_positives_2: 230.0000\n",
      "Epoch 11/30\n",
      "4607/4607 [==============================] - 558s 121ms/step - loss: 20.4239 - output_1_loss: 3.9478 - output_2_loss: 0.5145 - output_3_loss: 0.0342 - output_4_loss: 11.4650 - output_3_precision_2: 0.6750 - output_3_recall_2: 0.1750 - output_3_true_positives_2: 47295.0000 - output_3_false_positives_2: 22772.0000 - val_loss: 19.8831 - val_output_1_loss: 3.0763 - val_output_2_loss: 0.4239 - val_output_3_loss: 0.0417 - val_output_4_loss: 12.8409 - val_output_3_precision_2: 0.8242 - val_output_3_recall_2: 0.1110 - val_output_3_true_positives_2: 1313.0000 - val_output_3_false_positives_2: 280.0000\n",
      "Epoch 12/30\n",
      "4607/4607 [==============================] - 564s 122ms/step - loss: 20.0576 - output_1_loss: 3.8541 - output_2_loss: 0.4899 - output_3_loss: 0.0339 - output_4_loss: 11.3357 - output_3_precision_2: 0.6767 - output_3_recall_2: 0.1813 - output_3_true_positives_2: 48981.0000 - output_3_false_positives_2: 23398.0000 - val_loss: 19.3810 - val_output_1_loss: 2.9201 - val_output_2_loss: 0.4462 - val_output_3_loss: 0.0409 - val_output_4_loss: 12.6074 - val_output_3_precision_2: 0.8350 - val_output_3_recall_2: 0.1087 - val_output_3_true_positives_2: 1285.0000 - val_output_3_false_positives_2: 254.0000\n",
      "Epoch 13/30\n",
      "4607/4607 [==============================] - 557s 121ms/step - loss: 19.6684 - output_1_loss: 3.7546 - output_2_loss: 0.4785 - output_3_loss: 0.0334 - output_4_loss: 11.1689 - output_3_precision_2: 0.6792 - output_3_recall_2: 0.1901 - output_3_true_positives_2: 51352.0000 - output_3_false_positives_2: 24250.0000 - val_loss: 19.0056 - val_output_1_loss: 2.7856 - val_output_2_loss: 0.4379 - val_output_3_loss: 0.0406 - val_output_4_loss: 12.5179 - val_output_3_precision_2: 0.8330 - val_output_3_recall_2: 0.1203 - val_output_3_true_positives_2: 1422.0000 - val_output_3_false_positives_2: 285.0000\n",
      "Epoch 14/30\n",
      "4607/4607 [==============================] - 562s 122ms/step - loss: 19.3715 - output_1_loss: 3.6618 - output_2_loss: 0.4765 - output_3_loss: 0.0331 - output_4_loss: 11.0618 - output_3_precision_2: 0.6828 - output_3_recall_2: 0.1974 - output_3_true_positives_2: 53346.0000 - output_3_false_positives_2: 24779.0000 - val_loss: 18.2010 - val_output_1_loss: 2.6242 - val_output_2_loss: 0.4112 - val_output_3_loss: 0.0394 - val_output_4_loss: 12.0910 - val_output_3_precision_2: 0.8331 - val_output_3_recall_2: 0.1246 - val_output_3_true_positives_2: 1473.0000 - val_output_3_false_positives_2: 295.0000\n",
      "Epoch 15/30\n",
      "4607/4607 [==============================] - 563s 122ms/step - loss: 19.0733 - output_1_loss: 3.5735 - output_2_loss: 0.4695 - output_3_loss: 0.0329 - output_4_loss: 10.9545 - output_3_precision_2: 0.6871 - output_3_recall_2: 0.2044 - output_3_true_positives_2: 55254.0000 - output_3_false_positives_2: 25164.0000 - val_loss: 17.7155 - val_output_1_loss: 2.4554 - val_output_2_loss: 0.4028 - val_output_3_loss: 0.0391 - val_output_4_loss: 11.9601 - val_output_3_precision_2: 0.8460 - val_output_3_recall_2: 0.1362 - val_output_3_true_positives_2: 1610.0000 - val_output_3_false_positives_2: 293.0000\n",
      "Epoch 16/30\n",
      "4607/4607 [==============================] - 567s 123ms/step - loss: 18.7944 - output_1_loss: 3.5114 - output_2_loss: 0.4531 - output_3_loss: 0.0326 - output_4_loss: 10.8330 - output_3_precision_2: 0.6889 - output_3_recall_2: 0.2113 - output_3_true_positives_2: 57090.0000 - output_3_false_positives_2: 25782.0000 - val_loss: 17.7039 - val_output_1_loss: 2.4288 - val_output_2_loss: 0.4145 - val_output_3_loss: 0.0391 - val_output_4_loss: 11.9781 - val_output_3_precision_2: 0.8330 - val_output_3_recall_2: 0.1392 - val_output_3_true_positives_2: 1646.0000 - val_output_3_false_positives_2: 330.0000\n",
      "Epoch 17/30\n",
      "4607/4607 [==============================] - 557s 121ms/step - loss: 18.4610 - output_1_loss: 3.4111 - output_2_loss: 0.4558 - output_3_loss: 0.0322 - output_4_loss: 10.6949 - output_3_precision_2: 0.6929 - output_3_recall_2: 0.2197 - output_3_true_positives_2: 59382.0000 - output_3_false_positives_2: 26314.0000 - val_loss: 16.9853 - val_output_1_loss: 2.2734 - val_output_2_loss: 0.4035 - val_output_3_loss: 0.0380 - val_output_4_loss: 11.5936 - val_output_3_precision_2: 0.8215 - val_output_3_recall_2: 0.1487 - val_output_3_true_positives_2: 1758.0000 - val_output_3_false_positives_2: 382.0000\n",
      "Epoch 18/30\n",
      "4607/4607 [==============================] - 566s 123ms/step - loss: 18.2520 - output_1_loss: 3.3607 - output_2_loss: 0.4608 - output_3_loss: 0.0319 - output_4_loss: 10.5769 - output_3_precision_2: 0.6973 - output_3_recall_2: 0.2292 - output_3_true_positives_2: 61945.0000 - output_3_false_positives_2: 26890.0000 - val_loss: 16.9130 - val_output_1_loss: 2.2517 - val_output_2_loss: 0.4031 - val_output_3_loss: 0.0383 - val_output_4_loss: 11.5651 - val_output_3_precision_2: 0.8606 - val_output_3_recall_2: 0.1566 - val_output_3_true_positives_2: 1852.0000 - val_output_3_false_positives_2: 300.0000\n",
      "Epoch 19/30\n",
      "4607/4607 [==============================] - 565s 123ms/step - loss: 17.9596 - output_1_loss: 3.2780 - output_2_loss: 0.4567 - output_3_loss: 0.0317 - output_4_loss: 10.4586 - output_3_precision_2: 0.6980 - output_3_recall_2: 0.2348 - output_3_true_positives_2: 63427.0000 - output_3_false_positives_2: 27445.0000 - val_loss: 16.5550 - val_output_1_loss: 2.1434 - val_output_2_loss: 0.3826 - val_output_3_loss: 0.0380 - val_output_4_loss: 11.4652 - val_output_3_precision_2: 0.8655 - val_output_3_recall_2: 0.1534 - val_output_3_true_positives_2: 1814.0000 - val_output_3_false_positives_2: 282.0000\n",
      "Epoch 20/30\n",
      "4607/4607 [==============================] - 567s 123ms/step - loss: 17.7211 - output_1_loss: 3.2360 - output_2_loss: 0.4341 - output_3_loss: 0.0314 - output_4_loss: 10.3494 - output_3_precision_2: 0.7065 - output_3_recall_2: 0.2452 - output_3_true_positives_2: 66256.0000 - output_3_false_positives_2: 27523.0000 - val_loss: 16.0300 - val_output_1_loss: 2.0468 - val_output_2_loss: 0.4073 - val_output_3_loss: 0.0367 - val_output_4_loss: 11.0850 - val_output_3_precision_2: 0.8560 - val_output_3_recall_2: 0.1700 - val_output_3_true_positives_2: 2010.0000 - val_output_3_false_positives_2: 338.0000\n",
      "Epoch 21/30\n",
      "4607/4607 [==============================] - 564s 122ms/step - loss: 17.5574 - output_1_loss: 3.2079 - output_2_loss: 0.4447 - output_3_loss: 0.0310 - output_4_loss: 10.2213 - output_3_precision_2: 0.7076 - output_3_recall_2: 0.2522 - output_3_true_positives_2: 68141.0000 - output_3_false_positives_2: 28152.0000 - val_loss: 15.8435 - val_output_1_loss: 1.9916 - val_output_2_loss: 0.3820 - val_output_3_loss: 0.0371 - val_output_4_loss: 11.0592 - val_output_3_precision_2: 0.8710 - val_output_3_recall_2: 0.1730 - val_output_3_true_positives_2: 2045.0000 - val_output_3_false_positives_2: 303.0000\n",
      "Epoch 22/30\n",
      "4607/4607 [==============================] - 561s 122ms/step - loss: 17.3137 - output_1_loss: 3.1567 - output_2_loss: 0.4460 - output_3_loss: 0.0307 - output_4_loss: 10.0778 - output_3_precision_2: 0.7123 - output_3_recall_2: 0.2634 - output_3_true_positives_2: 71173.0000 - output_3_false_positives_2: 28749.0000 - val_loss: 16.0219 - val_output_1_loss: 1.9996 - val_output_2_loss: 0.4109 - val_output_3_loss: 0.0375 - val_output_4_loss: 11.1634 - val_output_3_precision_2: 0.8744 - val_output_3_recall_2: 0.1814 - val_output_3_true_positives_2: 2145.0000 - val_output_3_false_positives_2: 308.0000\n",
      "Epoch 23/30\n",
      "4607/4607 [==============================] - 566s 123ms/step - loss: 17.1355 - output_1_loss: 3.1145 - output_2_loss: 0.4460 - output_3_loss: 0.0304 - output_4_loss: 9.9840 - output_3_precision_2: 0.7151 - output_3_recall_2: 0.2696 - output_3_true_positives_2: 72870.0000 - output_3_false_positives_2: 29028.0000 - val_loss: 15.4589 - val_output_1_loss: 1.9580 - val_output_2_loss: 0.4170 - val_output_3_loss: 0.0356 - val_output_4_loss: 10.6732 - val_output_3_precision_2: 0.8831 - val_output_3_recall_2: 0.1922 - val_output_3_true_positives_2: 2273.0000 - val_output_3_false_positives_2: 301.0000\n",
      "Epoch 24/30\n",
      "4607/4607 [==============================] - 564s 122ms/step - loss: 16.8576 - output_1_loss: 3.0505 - output_2_loss: 0.4235 - output_3_loss: 0.0302 - output_4_loss: 9.8794 - output_3_precision_2: 0.7183 - output_3_recall_2: 0.2768 - output_3_true_positives_2: 74801.0000 - output_3_false_positives_2: 29332.0000 - val_loss: 14.8226 - val_output_1_loss: 1.8241 - val_output_2_loss: 0.3613 - val_output_3_loss: 0.0351 - val_output_4_loss: 10.4167 - val_output_3_precision_2: 0.8777 - val_output_3_recall_2: 0.2137 - val_output_3_true_positives_2: 2527.0000 - val_output_3_false_positives_2: 352.0000\n",
      "Epoch 25/30\n",
      "4607/4607 [==============================] - 552s 120ms/step - loss: 16.7883 - output_1_loss: 3.0313 - output_2_loss: 0.4554 - output_3_loss: 0.0299 - output_4_loss: 9.7851 - output_3_precision_2: 0.7224 - output_3_recall_2: 0.2854 - output_3_true_positives_2: 77119.0000 - output_3_false_positives_2: 29641.0000 - val_loss: 14.6320 - val_output_1_loss: 1.7590 - val_output_2_loss: 0.3727 - val_output_3_loss: 0.0349 - val_output_4_loss: 10.3336 - val_output_3_precision_2: 0.8857 - val_output_3_recall_2: 0.2130 - val_output_3_true_positives_2: 2518.0000 - val_output_3_false_positives_2: 325.0000\n",
      "Epoch 26/30\n"
     ]
    },
    {
     "name": "stdout",
     "output_type": "stream",
     "text": [
      "4607/4607 [==============================] - 564s 122ms/step - loss: 16.4907 - output_1_loss: 2.9744 - output_2_loss: 0.4361 - output_3_loss: 0.0295 - output_4_loss: 9.6402 - output_3_precision_2: 0.7276 - output_3_recall_2: 0.2969 - output_3_true_positives_2: 80250.0000 - output_3_false_positives_2: 30043.0000 - val_loss: 13.9869 - val_output_1_loss: 1.6965 - val_output_2_loss: 0.3530 - val_output_3_loss: 0.0334 - val_output_4_loss: 9.8544 - val_output_3_precision_2: 0.8870 - val_output_3_recall_2: 0.2423 - val_output_3_true_positives_2: 2865.0000 - val_output_3_false_positives_2: 365.0000\n",
      "Epoch 27/30\n",
      "4607/4607 [==============================] - 551s 120ms/step - loss: 16.3595 - output_1_loss: 2.9681 - output_2_loss: 0.4278 - output_3_loss: 0.0292 - output_4_loss: 9.5386 - output_3_precision_2: 0.7315 - output_3_recall_2: 0.3047 - output_3_true_positives_2: 82315.0000 - output_3_false_positives_2: 30221.0000 - val_loss: 13.7625 - val_output_1_loss: 1.6309 - val_output_2_loss: 0.3565 - val_output_3_loss: 0.0332 - val_output_4_loss: 9.7545 - val_output_3_precision_2: 0.9005 - val_output_3_recall_2: 0.2471 - val_output_3_true_positives_2: 2922.0000 - val_output_3_false_positives_2: 323.0000\n",
      "Epoch 28/30\n",
      "4607/4607 [==============================] - 557s 121ms/step - loss: 16.1889 - output_1_loss: 2.9422 - output_2_loss: 0.4175 - output_3_loss: 0.0290 - output_4_loss: 9.4404 - output_3_precision_2: 0.7352 - output_3_recall_2: 0.3129 - output_3_true_positives_2: 84545.0000 - output_3_false_positives_2: 30455.0000 - val_loss: 13.5796 - val_output_1_loss: 1.6495 - val_output_2_loss: 0.3553 - val_output_3_loss: 0.0324 - val_output_4_loss: 9.5378 - val_output_3_precision_2: 0.8993 - val_output_3_recall_2: 0.2469 - val_output_3_true_positives_2: 2919.0000 - val_output_3_false_positives_2: 327.0000\n",
      "Epoch 29/30\n",
      "4607/4607 [==============================] - 556s 121ms/step - loss: 16.0634 - output_1_loss: 2.9310 - output_2_loss: 0.4165 - output_3_loss: 0.0287 - output_4_loss: 9.3396 - output_3_precision_2: 0.7410 - output_3_recall_2: 0.3212 - output_3_true_positives_2: 86809.0000 - output_3_false_positives_2: 30344.0000 - val_loss: 13.5705 - val_output_1_loss: 1.6278 - val_output_2_loss: 0.3530 - val_output_3_loss: 0.0326 - val_output_4_loss: 9.5763 - val_output_3_precision_2: 0.8976 - val_output_3_recall_2: 0.2513 - val_output_3_true_positives_2: 2971.0000 - val_output_3_false_positives_2: 339.0000\n",
      "Epoch 30/30\n",
      "4607/4607 [==============================] - 558s 121ms/step - loss: 15.9658 - output_1_loss: 2.9079 - output_2_loss: 0.4240 - output_3_loss: 0.0286 - output_4_loss: 9.2735 - output_3_precision_2: 0.7433 - output_3_recall_2: 0.3278 - output_3_true_positives_2: 88561.0000 - output_3_false_positives_2: 30589.0000 - val_loss: 13.4012 - val_output_1_loss: 1.5929 - val_output_2_loss: 0.3779 - val_output_3_loss: 0.0323 - val_output_4_loss: 9.4272 - val_output_3_precision_2: 0.9125 - val_output_3_recall_2: 0.2585 - val_output_3_true_positives_2: 3056.0000 - val_output_3_false_positives_2: 293.0000\n"
     ]
    }
   ],
   "source": [
    "history = model.fit(train_dataset, epochs=30,validation_data=val_dataset)"
   ]
  },
  {
   "cell_type": "code",
   "execution_count": null,
   "metadata": {},
   "outputs": [],
   "source": []
  },
  {
   "cell_type": "code",
   "execution_count": 14,
   "metadata": {},
   "outputs": [],
   "source": [
    "os.chdir(root_path+\"/json_final_experiment\")\n",
    "import json\n",
    "#json.dumps(str(a))\n",
    "with open('history_finetuning_2211_30_epoch_nadam_0dot00001_mse_exp_mse_3anchors_con_data_aug.json', 'w') as fp:\n",
    "    json.dump(str(history.history), fp)"
   ]
  },
  {
   "cell_type": "code",
   "execution_count": 15,
   "metadata": {},
   "outputs": [],
   "source": [
    "model.save_weights(root_path+'/last_weights/pesos_finetuning_2211_30_epoch_nadam_0dot00001_mse_exp_mse_3anchors_con_data_aug')"
   ]
  },
  {
   "cell_type": "code",
   "execution_count": null,
   "metadata": {},
   "outputs": [],
   "source": []
  },
  {
   "cell_type": "code",
   "execution_count": null,
   "metadata": {},
   "outputs": [],
   "source": []
  },
  {
   "cell_type": "markdown",
   "metadata": {},
   "source": [
    "## CONTINUACIÓN"
   ]
  },
  {
   "cell_type": "code",
   "execution_count": 8,
   "metadata": {},
   "outputs": [
    {
     "name": "stdout",
     "output_type": "stream",
     "text": [
      "Modo entrenamiento\n"
     ]
    },
    {
     "data": {
      "text/plain": [
       "<tensorflow.python.training.tracking.util.CheckpointLoadStatus at 0x7f129c3e8160>"
      ]
     },
     "execution_count": 8,
     "metadata": {},
     "output_type": "execute_result"
    }
   ],
   "source": [
    "anchors =tf.constant(np.array([[0,0,0.02078,0.049],[0,0,0.0426,0.128],[0,0,0.08523,0.19356],[0,0,0.1506,0.4163],[0,0,0.27835,0.58651],[0,0,0.5632,0.78614]]),dtype=tf.float32)\n",
    "model = TinyYOLOv3(1,anchor_boxes=anchors,train=True,mode = \"finetuning\")\n",
    "model.build(batch_input_shape=(None,416,416,3))\n",
    "#print(model.load_weights_darknet(\"/home/sergio/TinyYOLOv3-Pedestrian-Detection/yolov3-tiny.weights\"))\n",
    "model.load_weights(root_path+'/last_weights/pesos_finetuning_2211_30_epoch_nadam_0dot00001_mse_exp_mse_3anchors_con_data_aug')"
   ]
  },
  {
   "cell_type": "code",
   "execution_count": 9,
   "metadata": {},
   "outputs": [
    {
     "name": "stdout",
     "output_type": "stream",
     "text": [
      "BasicBlock1 True\n",
      "BasicBlock2 True\n",
      "BasicBlock3 True\n",
      "BasicBlock4 True\n",
      "BasicBlock5 True\n",
      "BasicBlock6 True\n",
      "BasicBlock7 True\n",
      "BasicBlock8 True\n",
      "BasicBlock9 True\n",
      "FinalBlock1 True\n",
      "BasicBlock11 True\n",
      "BasicBlock12 True\n",
      "FinalBlock2 True\n",
      "Concatenate True\n",
      "Upsampling True\n",
      "Prediction1 True\n",
      "Prediction2 True\n",
      "Concatenate_BBOX True\n"
     ]
    }
   ],
   "source": [
    "for l in model.layers:\n",
    "    print(l.name, l.trainable)\n",
    "    pass"
   ]
  },
  {
   "cell_type": "code",
   "execution_count": 10,
   "metadata": {},
   "outputs": [],
   "source": [
    "tf.random.set_seed(0)\n",
    "\n",
    "from tensorflow.keras.metrics import TrueNegatives,TruePositives,FalseNegatives,FalsePositives,Precision,Recall\n",
    "\n",
    "opt = tf.keras.optimizers.Nadam(learning_rate=1e-4)\n",
    "\n",
    "losses = {\"output_1\": loss_xy,\n",
    "          \"output_2\": loss_wh,\n",
    "          \"output_3\":loss_objectness,\n",
    "          \"output_4\":loss_no_objectness  \n",
    "}\n",
    "\n",
    "metrics = {\"output_3\":[Precision(0.5),Recall(0.5),TruePositives(0.5),FalsePositives(0.5)]}\n",
    "model.compile(optimizer=opt, loss=losses,metrics=metrics,loss_weights=[2,2,1,1])\n",
    "os.chdir(root_path+ \"/pedestrian_dataset_train_tfr\")"
   ]
  },
  {
   "cell_type": "code",
   "execution_count": null,
   "metadata": {},
   "outputs": [],
   "source": [
    "val_loss: 15.5969 - val_output_1_loss: 0.8771 - val_output_2_loss: 0.2821 - val_output_3_loss: 0.0319 - val_output_4_loss: 9.7367"
   ]
  },
  {
   "cell_type": "code",
   "execution_count": 11,
   "metadata": {
    "scrolled": true
   },
   "outputs": [
    {
     "name": "stdout",
     "output_type": "stream",
     "text": [
      "Epoch 1/10\n",
      "Modo entrenamiento\n",
      "Modo entrenamiento\n",
      "   4607/Unknown - 577s 125ms/step - loss: 15.7080 - output_1_loss: 2.8547 - output_2_loss: 0.4118 - output_3_loss: 0.0282 - output_4_loss: 9.1467 - output_3_precision: 0.7468 - output_3_recall: 0.3379 - output_3_true_positives: 91298.0000 - output_3_false_positives: 30958.0000- 514s 126msModo entrenamiento\n",
      "4607/4607 [==============================] - 584s 127ms/step - loss: 15.7080 - output_1_loss: 2.8547 - output_2_loss: 0.4118 - output_3_loss: 0.0282 - output_4_loss: 9.1467 - output_3_precision: 0.7468 - output_3_recall: 0.3379 - output_3_true_positives: 91298.0000 - output_3_false_positives: 30958.0000 - val_loss: 13.0493 - val_output_1_loss: 1.5427 - val_output_2_loss: 0.3432 - val_output_3_loss: 0.0319 - val_output_4_loss: 9.2457 - val_output_3_precision: 0.9091 - val_output_3_recall: 0.2639 - val_output_3_true_positives: 3120.0000 - val_output_3_false_positives: 312.0000\n",
      "Epoch 2/10\n",
      "4607/4607 [==============================] - 563s 122ms/step - loss: 15.6683 - output_1_loss: 2.8578 - output_2_loss: 0.4293 - output_3_loss: 0.0280 - output_4_loss: 9.0661 - output_3_precision: 0.7518 - output_3_recall: 0.3455 - output_3_true_positives: 93367.0000 - output_3_false_positives: 30822.0000 - val_loss: 13.1677 - val_output_1_loss: 1.5167 - val_output_2_loss: 0.3473 - val_output_3_loss: 0.0325 - val_output_4_loss: 9.4073 - val_output_3_precision: 0.9103 - val_output_3_recall: 0.2711 - val_output_3_true_positives: 3206.0000 - val_output_3_false_positives: 316.0000\n",
      "Epoch 3/10\n",
      "4607/4607 [==============================] - 561s 122ms/step - loss: 15.4830 - output_1_loss: 2.8290 - output_2_loss: 0.4130 - output_3_loss: 0.0278 - output_4_loss: 8.9713 - output_3_precision: 0.7543 - output_3_recall: 0.3533 - output_3_true_positives: 95505.0000 - output_3_false_positives: 31113.0000 - val_loss: 12.7949 - val_output_1_loss: 1.5002 - val_output_2_loss: 0.3451 - val_output_3_loss: 0.0313 - val_output_4_loss: 9.0729 - val_output_3_precision: 0.9087 - val_output_3_recall: 0.2937 - val_output_3_true_positives: 3473.0000 - val_output_3_false_positives: 349.0000\n",
      "Epoch 4/10\n",
      "4607/4607 [==============================] - 581s 126ms/step - loss: 15.4677 - output_1_loss: 2.8535 - output_2_loss: 0.4120 - output_3_loss: 0.0276 - output_4_loss: 8.9091 - output_3_precision: 0.7592 - output_3_recall: 0.3586 - output_3_true_positives: 96924.0000 - output_3_false_positives: 30736.0000 - val_loss: 12.5988 - val_output_1_loss: 1.4558 - val_output_2_loss: 0.3477 - val_output_3_loss: 0.0310 - val_output_4_loss: 8.9609 - val_output_3_precision: 0.9250 - val_output_3_recall: 0.2836 - val_output_3_true_positives: 3353.0000 - val_output_3_false_positives: 272.0000\n",
      "Epoch 5/10\n",
      "4607/4607 [==============================] - 569s 123ms/step - loss: 15.2800 - output_1_loss: 2.7958 - output_2_loss: 0.4297 - output_3_loss: 0.0273 - output_4_loss: 8.8017 - output_3_precision: 0.7609 - output_3_recall: 0.3673 - output_3_true_positives: 99282.0000 - output_3_false_positives: 31193.0000 - val_loss: 12.4996 - val_output_1_loss: 1.4585 - val_output_2_loss: 0.3489 - val_output_3_loss: 0.0308 - val_output_4_loss: 8.8540 - val_output_3_precision: 0.9269 - val_output_3_recall: 0.2980 - val_output_3_true_positives: 3524.0000 - val_output_3_false_positives: 278.0000\n",
      "Epoch 6/10\n",
      "4607/4607 [==============================] - 568s 123ms/step - loss: 15.1922 - output_1_loss: 2.7968 - output_2_loss: 0.4244 - output_3_loss: 0.0270 - output_4_loss: 8.7227 - output_3_precision: 0.7635 - output_3_recall: 0.3746 - output_3_true_positives: 101213.0000 - output_3_false_positives: 31354.0000 - val_loss: 12.2295 - val_output_1_loss: 1.4117 - val_output_2_loss: 0.3399 - val_output_3_loss: 0.0302 - val_output_4_loss: 8.6962 - val_output_3_precision: 0.9308 - val_output_3_recall: 0.3016 - val_output_3_true_positives: 3566.0000 - val_output_3_false_positives: 265.0000\n",
      "Epoch 7/10\n",
      "4607/4607 [==============================] - 564s 123ms/step - loss: 15.0036 - output_1_loss: 2.7518 - output_2_loss: 0.4127 - output_3_loss: 0.0268 - output_4_loss: 8.6478 - output_3_precision: 0.7655 - output_3_recall: 0.3806 - output_3_true_positives: 102885.0000 - output_3_false_positives: 31513.0000 - val_loss: 11.9054 - val_output_1_loss: 1.4128 - val_output_2_loss: 0.3513 - val_output_3_loss: 0.0291 - val_output_4_loss: 8.3479 - val_output_3_precision: 0.9125 - val_output_3_recall: 0.3255 - val_output_3_true_positives: 3849.0000 - val_output_3_false_positives: 369.0000\n",
      "Epoch 8/10\n",
      "4607/4607 [==============================] - 577s 125ms/step - loss: 14.9286 - output_1_loss: 2.7496 - output_2_loss: 0.4116 - output_3_loss: 0.0266 - output_4_loss: 8.5796 - output_3_precision: 0.7698 - output_3_recall: 0.3867 - output_3_true_positives: 104517.0000 - output_3_false_positives: 31262.0000 - val_loss: 11.9950 - val_output_1_loss: 1.4000 - val_output_2_loss: 0.3332 - val_output_3_loss: 0.0297 - val_output_4_loss: 8.4988 - val_output_3_precision: 0.9217 - val_output_3_recall: 0.3185 - val_output_3_true_positives: 3766.0000 - val_output_3_false_positives: 320.0000\n",
      "Epoch 9/10\n",
      "4607/4607 [==============================] - 558s 121ms/step - loss: 14.7298 - output_1_loss: 2.7199 - output_2_loss: 0.3972 - output_3_loss: 0.0263 - output_4_loss: 8.4692 - output_3_precision: 0.7735 - output_3_recall: 0.3957 - output_3_true_positives: 106932.0000 - output_3_false_positives: 31307.0000 - val_loss: 11.6408 - val_output_1_loss: 1.3706 - val_output_2_loss: 0.3304 - val_output_3_loss: 0.0287 - val_output_4_loss: 8.2101 - val_output_3_precision: 0.9344 - val_output_3_recall: 0.3287 - val_output_3_true_positives: 3887.0000 - val_output_3_false_positives: 273.0000\n",
      "Epoch 10/10\n",
      "4607/4607 [==============================] - 558s 121ms/step - loss: 14.7817 - output_1_loss: 2.7565 - output_2_loss: 0.4081 - output_3_loss: 0.0262 - output_4_loss: 8.4262 - output_3_precision: 0.7755 - output_3_recall: 0.4002 - output_3_true_positives: 108203.0000 - output_3_false_positives: 31321.0000 - val_loss: 11.3260 - val_output_1_loss: 1.3074 - val_output_2_loss: 0.3387 - val_output_3_loss: 0.0281 - val_output_4_loss: 8.0057 - val_output_3_precision: 0.9356 - val_output_3_recall: 0.3439 - val_output_3_true_positives: 4066.0000 - val_output_3_false_positives: 280.0000\n"
     ]
    }
   ],
   "source": [
    "os.chdir(root_path+ \"/pedestrian_dataset_train_tfr\")\n",
    "history = model.fit(train_dataset, epochs=10,validation_data=val_dataset)"
   ]
  },
  {
   "cell_type": "code",
   "execution_count": null,
   "metadata": {},
   "outputs": [],
   "source": []
  },
  {
   "cell_type": "code",
   "execution_count": null,
   "metadata": {},
   "outputs": [],
   "source": []
  },
  {
   "cell_type": "code",
   "execution_count": 12,
   "metadata": {},
   "outputs": [],
   "source": [
    "os.chdir(root_path+\"/json_final_experiment\")\n",
    "import json\n",
    "#json.dumps(str(a))\n",
    "with open('history_finetuning_2211_30_40_epoch_nadam_0dot00001_mse_exp_mse_3anchors_con_data_aug.json', 'w') as fp:\n",
    "    json.dump(str(history.history), fp)"
   ]
  },
  {
   "cell_type": "code",
   "execution_count": 13,
   "metadata": {},
   "outputs": [],
   "source": [
    "model.save_weights(root_path+'/last_weights/pesos_finetuning_2211_30_40_epoch_nadam_0dot00001_mse_exp_mse_3anchors_con_data_aug')"
   ]
  },
  {
   "cell_type": "code",
   "execution_count": null,
   "metadata": {},
   "outputs": [],
   "source": []
  },
  {
   "cell_type": "code",
   "execution_count": 14,
   "metadata": {},
   "outputs": [
    {
     "name": "stdout",
     "output_type": "stream",
     "text": [
      "Epoch 1/10\n",
      "4607/4607 [==============================] - 563s 122ms/step - loss: 14.5639 - output_1_loss: 2.7034 - output_2_loss: 0.3907 - output_3_loss: 0.0260 - output_4_loss: 8.3497 - output_3_precision: 0.7764 - output_3_recall: 0.4065 - output_3_true_positives: 109848.0000 - output_3_false_positives: 31637.0000 - val_loss: 11.2608 - val_output_1_loss: 1.3096 - val_output_2_loss: 0.3336 - val_output_3_loss: 0.0279 - val_output_4_loss: 7.9465 - val_output_3_precision: 0.9271 - val_output_3_recall: 0.3476 - val_output_3_true_positives: 4110.0000 - val_output_3_false_positives: 323.0000\n",
      "Epoch 2/10\n",
      "4607/4607 [==============================] - 572s 124ms/step - loss: 14.5093 - output_1_loss: 2.7082 - output_2_loss: 0.3946 - output_3_loss: 0.0258 - output_4_loss: 8.2779 - output_3_precision: 0.7805 - output_3_recall: 0.4142 - output_3_true_positives: 111960.0000 - output_3_false_positives: 31482.0000 - val_loss: 11.2473 - val_output_1_loss: 1.3106 - val_output_2_loss: 0.3317 - val_output_3_loss: 0.0282 - val_output_4_loss: 7.9347 - val_output_3_precision: 0.9442 - val_output_3_recall: 0.3503 - val_output_3_true_positives: 4142.0000 - val_output_3_false_positives: 245.0000\n",
      "Epoch 3/10\n",
      "4607/4607 [==============================] - 571s 124ms/step - loss: 14.4433 - output_1_loss: 2.6855 - output_2_loss: 0.4085 - output_3_loss: 0.0256 - output_4_loss: 8.2297 - output_3_precision: 0.7824 - output_3_recall: 0.4168 - output_3_true_positives: 112623.0000 - output_3_false_positives: 31328.0000 - val_loss: 11.2579 - val_output_1_loss: 1.3133 - val_output_2_loss: 0.3377 - val_output_3_loss: 0.0278 - val_output_4_loss: 7.9280 - val_output_3_precision: 0.9403 - val_output_3_recall: 0.3409 - val_output_3_true_positives: 4031.0000 - val_output_3_false_positives: 256.0000\n",
      "Epoch 4/10\n",
      "4607/4607 [==============================] - 559s 121ms/step - loss: 14.3334 - output_1_loss: 2.6854 - output_2_loss: 0.3978 - output_3_loss: 0.0254 - output_4_loss: 8.1416 - output_3_precision: 0.7890 - output_3_recall: 0.4259 - output_3_true_positives: 115073.0000 - output_3_false_positives: 30773.0000 - val_loss: 10.9854 - val_output_1_loss: 1.2919 - val_output_2_loss: 0.3336 - val_output_3_loss: 0.0272 - val_output_4_loss: 7.7073 - val_output_3_precision: 0.9507 - val_output_3_recall: 0.3606 - val_output_3_true_positives: 4264.0000 - val_output_3_false_positives: 221.0000\n",
      "Epoch 5/10\n",
      "4607/4607 [==============================] - 562s 122ms/step - loss: 14.2390 - output_1_loss: 2.6695 - output_2_loss: 0.4000 - output_3_loss: 0.0252 - output_4_loss: 8.0748 - output_3_precision: 0.7903 - output_3_recall: 0.4306 - output_3_true_positives: 116378.0000 - output_3_false_positives: 30884.0000 - val_loss: 11.0650 - val_output_1_loss: 1.3106 - val_output_2_loss: 0.3330 - val_output_3_loss: 0.0272 - val_output_4_loss: 7.7505 - val_output_3_precision: 0.9474 - val_output_3_recall: 0.3534 - val_output_3_true_positives: 4179.0000 - val_output_3_false_positives: 232.0000\n",
      "Epoch 6/10\n",
      "4607/4607 [==============================] - 538s 117ms/step - loss: 14.1737 - output_1_loss: 2.6601 - output_2_loss: 0.3951 - output_3_loss: 0.0251 - output_4_loss: 8.0382 - output_3_precision: 0.7894 - output_3_recall: 0.4352 - output_3_true_positives: 117634.0000 - output_3_false_positives: 31387.0000 - val_loss: 10.5932 - val_output_1_loss: 1.2485 - val_output_2_loss: 0.3251 - val_output_3_loss: 0.0261 - val_output_4_loss: 7.4198 - val_output_3_precision: 0.9432 - val_output_3_recall: 0.3803 - val_output_3_true_positives: 4497.0000 - val_output_3_false_positives: 271.0000\n",
      "Epoch 7/10\n",
      "4607/4607 [==============================] - 545s 118ms/step - loss: 14.1020 - output_1_loss: 2.6558 - output_2_loss: 0.3858 - output_3_loss: 0.0250 - output_4_loss: 7.9939 - output_3_precision: 0.7911 - output_3_recall: 0.4396 - output_3_true_positives: 118767.0000 - output_3_false_positives: 31361.0000 - val_loss: 10.4460 - val_output_1_loss: 1.2668 - val_output_2_loss: 0.3285 - val_output_3_loss: 0.0255 - val_output_4_loss: 7.2301 - val_output_3_precision: 0.9430 - val_output_3_recall: 0.3916 - val_output_3_true_positives: 4630.0000 - val_output_3_false_positives: 280.0000\n",
      "Epoch 8/10\n",
      "4607/4607 [==============================] - 572s 124ms/step - loss: 14.0001 - output_1_loss: 2.6433 - output_2_loss: 0.3963 - output_3_loss: 0.0246 - output_4_loss: 7.8962 - output_3_precision: 0.7948 - output_3_recall: 0.4473 - output_3_true_positives: 120807.0000 - output_3_false_positives: 31190.0000 - val_loss: 10.5560 - val_output_1_loss: 1.2745 - val_output_2_loss: 0.3314 - val_output_3_loss: 0.0260 - val_output_4_loss: 7.3180 - val_output_3_precision: 0.9280 - val_output_3_recall: 0.3937 - val_output_3_true_positives: 4655.0000 - val_output_3_false_positives: 361.0000\n",
      "Epoch 9/10\n",
      "4607/4607 [==============================] - 547s 119ms/step - loss: 13.9344 - output_1_loss: 2.6422 - output_2_loss: 0.3905 - output_3_loss: 0.0244 - output_4_loss: 7.8446 - output_3_precision: 0.7963 - output_3_recall: 0.4520 - output_3_true_positives: 122173.0000 - output_3_false_positives: 31259.0000 - val_loss: 10.2499 - val_output_1_loss: 1.2276 - val_output_2_loss: 0.3228 - val_output_3_loss: 0.0252 - val_output_4_loss: 7.1238 - val_output_3_precision: 0.9495 - val_output_3_recall: 0.4007 - val_output_3_true_positives: 4738.0000 - val_output_3_false_positives: 252.0000\n",
      "Epoch 10/10\n",
      "4607/4607 [==============================] - 539s 117ms/step - loss: 13.8149 - output_1_loss: 2.6073 - output_2_loss: 0.3895 - output_3_loss: 0.0244 - output_4_loss: 7.7969 - output_3_precision: 0.7978 - output_3_recall: 0.4556 - output_3_true_positives: 123132.0000 - output_3_false_positives: 31211.0000 - val_loss: 10.3121 - val_output_1_loss: 1.2348 - val_output_2_loss: 0.3207 - val_output_3_loss: 0.0255 - val_output_4_loss: 7.1755 - val_output_3_precision: 0.9503 - val_output_3_recall: 0.4057 - val_output_3_true_positives: 4797.0000 - val_output_3_false_positives: 251.0000\n"
     ]
    }
   ],
   "source": [
    "os.chdir(root_path+ \"/pedestrian_dataset_train_tfr\")\n",
    "history = model.fit(train_dataset, epochs=10,validation_data=val_dataset)"
   ]
  },
  {
   "cell_type": "code",
   "execution_count": null,
   "metadata": {},
   "outputs": [],
   "source": []
  },
  {
   "cell_type": "code",
   "execution_count": 15,
   "metadata": {},
   "outputs": [],
   "source": [
    "os.chdir(root_path+\"/json_final_experiment\")\n",
    "import json\n",
    "#json.dumps(str(a))\n",
    "with open('history_finetuning_2211_40_50_epoch_nadam_0dot00001_mse_exp_mse_3anchors_con_data_aug.json', 'w') as fp:\n",
    "    json.dump(str(history.history), fp)"
   ]
  },
  {
   "cell_type": "code",
   "execution_count": 16,
   "metadata": {},
   "outputs": [],
   "source": [
    "model.save_weights(root_path+'/last_weights/pesos_finetuning_2211_40_50_epoch_nadam_0dot00001_mse_exp_mse_3anchors_con_data_aug')"
   ]
  },
  {
   "cell_type": "markdown",
   "metadata": {},
   "source": [
    "## COntinuación de la época 50a 60"
   ]
  },
  {
   "cell_type": "code",
   "execution_count": 17,
   "metadata": {},
   "outputs": [
    {
     "name": "stdout",
     "output_type": "stream",
     "text": [
      "Epoch 1/10\n",
      "4607/4607 [==============================] - 550s 119ms/step - loss: 13.7476 - output_1_loss: 2.5876 - output_2_loss: 0.3939 - output_3_loss: 0.0242 - output_4_loss: 7.7604 - output_3_precision: 0.7989 - output_3_recall: 0.4587 - output_3_true_positives: 123928.0000 - output_3_false_positives: 31198.0000 - val_loss: 10.3146 - val_output_1_loss: 1.1917 - val_output_2_loss: 0.3236 - val_output_3_loss: 0.0259 - val_output_4_loss: 7.2581 - val_output_3_precision: 0.9560 - val_output_3_recall: 0.3929 - val_output_3_true_positives: 4646.0000 - val_output_3_false_positives: 214.0000\n",
      "Epoch 2/10\n",
      "4607/4607 [==============================] - 552s 120ms/step - loss: 13.6618 - output_1_loss: 2.5872 - output_2_loss: 0.3856 - output_3_loss: 0.0240 - output_4_loss: 7.6923 - output_3_precision: 0.8031 - output_3_recall: 0.4654 - output_3_true_positives: 125779.0000 - output_3_false_positives: 30835.0000 - val_loss: 9.7808 - val_output_1_loss: 1.1497 - val_output_2_loss: 0.3142 - val_output_3_loss: 0.0244 - val_output_4_loss: 6.8285 - val_output_3_precision: 0.9501 - val_output_3_recall: 0.4158 - val_output_3_true_positives: 4916.0000 - val_output_3_false_positives: 258.0000\n",
      "Epoch 3/10\n",
      "4607/4607 [==============================] - 543s 118ms/step - loss: 13.6624 - output_1_loss: 2.5993 - output_2_loss: 0.3837 - output_3_loss: 0.0239 - output_4_loss: 7.6724 - output_3_precision: 0.8028 - output_3_recall: 0.4675 - output_3_true_positives: 126320.0000 - output_3_false_positives: 31035.0000 - val_loss: 9.7897 - val_output_1_loss: 1.1643 - val_output_2_loss: 0.3223 - val_output_3_loss: 0.0242 - val_output_4_loss: 6.7923 - val_output_3_precision: 0.9480 - val_output_3_recall: 0.4165 - val_output_3_true_positives: 4925.0000 - val_output_3_false_positives: 270.0000\n",
      "Epoch 4/10\n",
      "4607/4607 [==============================] - 538s 117ms/step - loss: 26.9859 - output_1_loss: 2.9038 - output_2_loss: 6.2214 - output_3_loss: 0.0267 - output_4_loss: 8.7088 - output_3_precision: 0.7755 - output_3_recall: 0.3848 - output_3_true_positives: 104011.0000 - output_3_false_positives: 30110.0000 - val_loss: 11.6242 - val_output_1_loss: 1.6449 - val_output_2_loss: 0.3690 - val_output_3_loss: 0.0251 - val_output_4_loss: 7.5713 - val_output_3_precision: 0.9006 - val_output_3_recall: 0.3511 - val_output_3_true_positives: 4151.0000 - val_output_3_false_positives: 458.0000\n",
      "Epoch 5/10\n",
      "4607/4607 [==============================] - 564s 122ms/step - loss: 14.6688 - output_1_loss: 2.7773 - output_2_loss: 0.4276 - output_3_loss: 0.0254 - output_4_loss: 8.2335 - output_3_precision: 0.7858 - output_3_recall: 0.4191 - output_3_true_positives: 113245.0000 - output_3_false_positives: 30866.0000 - val_loss: 9.5702 - val_output_1_loss: 1.1786 - val_output_2_loss: 0.3222 - val_output_3_loss: 0.0226 - val_output_4_loss: 6.5460 - val_output_3_precision: 0.9535 - val_output_3_recall: 0.4076 - val_output_3_true_positives: 4820.0000 - val_output_3_false_positives: 235.0000\n",
      "Epoch 6/10\n",
      "4607/4607 [==============================] - 574s 125ms/step - loss: 13.5321 - output_1_loss: 2.5690 - output_2_loss: 0.3904 - output_3_loss: 0.0236 - output_4_loss: 7.5897 - output_3_precision: 0.8082 - output_3_recall: 0.4730 - output_3_true_positives: 127810.0000 - output_3_false_positives: 30328.0000 - val_loss: 9.3903 - val_output_1_loss: 1.0860 - val_output_2_loss: 0.3143 - val_output_3_loss: 0.0232 - val_output_4_loss: 6.5665 - val_output_3_precision: 0.9592 - val_output_3_recall: 0.4178 - val_output_3_true_positives: 4940.0000 - val_output_3_false_positives: 210.0000\n",
      "Epoch 7/10\n",
      "4607/4607 [==============================] - 575s 125ms/step - loss: 13.4912 - output_1_loss: 2.5660 - output_2_loss: 0.3943 - output_3_loss: 0.0236 - output_4_loss: 7.5471 - output_3_precision: 0.8094 - output_3_recall: 0.4793 - output_3_true_positives: 129564.0000 - output_3_false_positives: 30514.0000 - val_loss: 9.8895 - val_output_1_loss: 1.1723 - val_output_2_loss: 0.3136 - val_output_3_loss: 0.0247 - val_output_4_loss: 6.8930 - val_output_3_precision: 0.9587 - val_output_3_recall: 0.4137 - val_output_3_true_positives: 4892.0000 - val_output_3_false_positives: 211.0000\n",
      "Epoch 8/10\n",
      "4607/4607 [==============================] - 580s 126ms/step - loss: 13.3987 - output_1_loss: 2.5565 - output_2_loss: 0.3817 - output_3_loss: 0.0234 - output_4_loss: 7.4989 - output_3_precision: 0.8088 - output_3_recall: 0.4823 - output_3_true_positives: 130336.0000 - output_3_false_positives: 30811.0000 - val_loss: 9.8111 - val_output_1_loss: 1.1595 - val_output_2_loss: 0.3101 - val_output_3_loss: 0.0245 - val_output_4_loss: 6.8473 - val_output_3_precision: 0.9594 - val_output_3_recall: 0.4137 - val_output_3_true_positives: 4892.0000 - val_output_3_false_positives: 207.0000\n",
      "Epoch 9/10\n",
      "4607/4607 [==============================] - 580s 126ms/step - loss: 13.3581 - output_1_loss: 2.5695 - output_2_loss: 0.3810 - output_3_loss: 0.0232 - output_4_loss: 7.4339 - output_3_precision: 0.8116 - output_3_recall: 0.4876 - output_3_true_positives: 131743.0000 - output_3_false_positives: 30592.0000 - val_loss: 9.4446 - val_output_1_loss: 1.1745 - val_output_2_loss: 0.3095 - val_output_3_loss: 0.0231 - val_output_4_loss: 6.4536 - val_output_3_precision: 0.9573 - val_output_3_recall: 0.4436 - val_output_3_true_positives: 5245.0000 - val_output_3_false_positives: 234.0000\n",
      "Epoch 10/10\n",
      "4607/4607 [==============================] - 577s 125ms/step - loss: 13.2376 - output_1_loss: 2.5478 - output_2_loss: 0.3742 - output_3_loss: 0.0230 - output_4_loss: 7.3707 - output_3_precision: 0.8124 - output_3_recall: 0.4928 - output_3_true_positives: 133124.0000 - output_3_false_positives: 30741.0000 - val_loss: 9.3417 - val_output_1_loss: 1.1229 - val_output_2_loss: 0.3146 - val_output_3_loss: 0.0232 - val_output_4_loss: 6.4433 - val_output_3_precision: 0.9595 - val_output_3_recall: 0.4471 - val_output_3_true_positives: 5287.0000 - val_output_3_false_positives: 223.0000\n"
     ]
    }
   ],
   "source": [
    "os.chdir(root_path+ \"/pedestrian_dataset_train_tfr\")\n",
    "history = model.fit(train_dataset, epochs=10,validation_data=val_dataset)"
   ]
  },
  {
   "cell_type": "code",
   "execution_count": null,
   "metadata": {},
   "outputs": [],
   "source": []
  },
  {
   "cell_type": "code",
   "execution_count": 18,
   "metadata": {},
   "outputs": [],
   "source": [
    "os.chdir(root_path+\"/json_final_experiment\")\n",
    "import json\n",
    "#json.dumps(str(a))\n",
    "with open('history_finetuning_2211_50_60_epoch_nadam_0dot00001_mse_exp_mse_3anchors_con_data_aug.json', 'w') as fp:\n",
    "    json.dump(str(history.history), fp)"
   ]
  },
  {
   "cell_type": "code",
   "execution_count": 19,
   "metadata": {},
   "outputs": [],
   "source": [
    "model.save_weights(root_path+'/last_weights/pesos_finetuning_2211_50_60_epoch_nadam_0dot00001_mse_exp_mse_3anchors_con_data_aug')"
   ]
  },
  {
   "cell_type": "code",
   "execution_count": null,
   "metadata": {},
   "outputs": [],
   "source": []
  },
  {
   "cell_type": "markdown",
   "metadata": {},
   "source": []
  },
  {
   "cell_type": "code",
   "execution_count": null,
   "metadata": {},
   "outputs": [],
   "source": []
  },
  {
   "cell_type": "code",
   "execution_count": 7,
   "metadata": {},
   "outputs": [
    {
     "name": "stdout",
     "output_type": "stream",
     "text": [
      "Modo entrenamiento\n"
     ]
    },
    {
     "data": {
      "text/plain": [
       "<tensorflow.python.training.tracking.util.CheckpointLoadStatus at 0x7f6d103b80b8>"
      ]
     },
     "execution_count": 7,
     "metadata": {},
     "output_type": "execute_result"
    }
   ],
   "source": [
    "anchors =tf.constant(np.array([[0,0,0.02078,0.049],[0,0,0.0426,0.128],[0,0,0.08523,0.19356],[0,0,0.1506,0.4163],[0,0,0.27835,0.58651],[0,0,0.5632,0.78614]]),dtype=tf.float32)\n",
    "model = TinyYOLOv3(1,anchor_boxes=anchors,train=True,mode = \"finetuning\")\n",
    "model.build(batch_input_shape=(None,416,416,3))\n",
    "#print(model.load_weights_darknet(\"/home/sergio/TinyYOLOv3-Pedestrian-Detection/yolov3-tiny.weights\"))\n",
    "model.load_weights(root_path+'/last_weights/pesos_finetuning_2211_50_60_epoch_nadam_0dot00001_mse_exp_mse_3anchors_con_data_aug')"
   ]
  },
  {
   "cell_type": "code",
   "execution_count": 8,
   "metadata": {},
   "outputs": [],
   "source": [
    "tf.random.set_seed(0)\n",
    "\n",
    "from tensorflow.keras.metrics import TrueNegatives,TruePositives,FalseNegatives,FalsePositives,Precision,Recall\n",
    "\n",
    "opt = tf.keras.optimizers.Nadam(learning_rate=1e-4)\n",
    "\n",
    "losses = {\"output_1\": loss_xy,\n",
    "          \"output_2\": loss_wh,\n",
    "          \"output_3\":loss_objectness,\n",
    "          \"output_4\":loss_no_objectness  \n",
    "}\n",
    "\n",
    "metrics = {\"output_3\":[Precision(0.5),Recall(0.5),TruePositives(0.5),FalsePositives(0.5)]}\n",
    "model.compile(optimizer=opt, loss=losses,metrics=metrics,loss_weights=[2,2,1,1])\n",
    "os.chdir(root_path+ \"/pedestrian_dataset_train_tfr\")"
   ]
  },
  {
   "cell_type": "code",
   "execution_count": 9,
   "metadata": {},
   "outputs": [
    {
     "name": "stdout",
     "output_type": "stream",
     "text": [
      "Epoch 1/10\n",
      "Modo entrenamiento\n",
      "Modo entrenamiento\n",
      "   4607/Unknown - 575s 125ms/step - loss: 13.2636 - output_1_loss: 2.5612 - output_2_loss: 0.3688 - output_3_loss: 0.0231 - output_4_loss: 7.3805 - output_3_precision: 0.8139 - output_3_recall: 0.4931 - output_3_true_positives: 133248.0000 - output_3_false_positives: 30467.0000Modo entrenamiento\n",
      "4607/4607 [==============================] - 583s 127ms/step - loss: 13.2636 - output_1_loss: 2.5612 - output_2_loss: 0.3688 - output_3_loss: 0.0231 - output_4_loss: 7.3805 - output_3_precision: 0.8139 - output_3_recall: 0.4931 - output_3_true_positives: 133248.0000 - output_3_false_positives: 30467.0000 - val_loss: 9.3075 - val_output_1_loss: 1.1178 - val_output_2_loss: 0.3061 - val_output_3_loss: 0.0232 - val_output_4_loss: 6.4366 - val_output_3_precision: 0.9627 - val_output_3_recall: 0.4498 - val_output_3_true_positives: 5318.0000 - val_output_3_false_positives: 206.0000\n",
      "Epoch 2/10\n",
      "4607/4607 [==============================] - 553s 120ms/step - loss: 13.2428 - output_1_loss: 2.5535 - output_2_loss: 0.3713 - output_3_loss: 0.0230 - output_4_loss: 7.3703 - output_3_precision: 0.8142 - output_3_recall: 0.4942 - output_3_true_positives: 133518.0000 - output_3_false_positives: 30477.0000 - val_loss: 9.1459 - val_output_1_loss: 1.1087 - val_output_2_loss: 0.2960 - val_output_3_loss: 0.0226 - val_output_4_loss: 6.3140 - val_output_3_precision: 0.9620 - val_output_3_recall: 0.4413 - val_output_3_true_positives: 5218.0000 - val_output_3_false_positives: 206.0000\n",
      "Epoch 3/10\n",
      "4607/4607 [==============================] - 578s 125ms/step - loss: 13.1584 - output_1_loss: 2.5322 - output_2_loss: 0.3800 - output_3_loss: 0.0228 - output_4_loss: 7.3110 - output_3_precision: 0.8175 - output_3_recall: 0.5002 - output_3_true_positives: 135189.0000 - output_3_false_positives: 30183.0000 - val_loss: 9.1410 - val_output_1_loss: 1.1001 - val_output_2_loss: 0.3006 - val_output_3_loss: 0.0228 - val_output_4_loss: 6.3168 - val_output_3_precision: 0.9591 - val_output_3_recall: 0.4563 - val_output_3_true_positives: 5395.0000 - val_output_3_false_positives: 230.0000\n",
      "Epoch 4/10\n",
      "4607/4607 [==============================] - 591s 128ms/step - loss: 13.1032 - output_1_loss: 2.5421 - output_2_loss: 0.3732 - output_3_loss: 0.0226 - output_4_loss: 7.2500 - output_3_precision: 0.8184 - output_3_recall: 0.5040 - output_3_true_positives: 136151.0000 - output_3_false_positives: 30221.0000 - val_loss: 8.7750 - val_output_1_loss: 1.0569 - val_output_2_loss: 0.3058 - val_output_3_loss: 0.0215 - val_output_4_loss: 6.0281 - val_output_3_precision: 0.9571 - val_output_3_recall: 0.4734 - val_output_3_true_positives: 5598.0000 - val_output_3_false_positives: 251.0000\n",
      "Epoch 5/10\n",
      "4607/4607 [==============================] - 580s 126ms/step - loss: 13.0955 - output_1_loss: 2.5339 - output_2_loss: 0.3794 - output_3_loss: 0.0226 - output_4_loss: 7.2460 - output_3_precision: 0.8198 - output_3_recall: 0.5053 - output_3_true_positives: 136559.0000 - output_3_false_positives: 30021.0000 - val_loss: 9.1584 - val_output_1_loss: 1.1126 - val_output_2_loss: 0.3059 - val_output_3_loss: 0.0228 - val_output_4_loss: 6.2987 - val_output_3_precision: 0.9599 - val_output_3_recall: 0.4560 - val_output_3_true_positives: 5392.0000 - val_output_3_false_positives: 225.0000\n",
      "Epoch 6/10\n",
      "4607/4607 [==============================] - 579s 126ms/step - loss: 12.9291 - output_1_loss: 2.4958 - output_2_loss: 0.3728 - output_3_loss: 0.0223 - output_4_loss: 7.1694 - output_3_precision: 0.8221 - output_3_recall: 0.5110 - output_3_true_positives: 138032.0000 - output_3_false_positives: 29876.0000 - val_loss: 8.6987 - val_output_1_loss: 1.0797 - val_output_2_loss: 0.3026 - val_output_3_loss: 0.0212 - val_output_4_loss: 5.9128 - val_output_3_precision: 0.9670 - val_output_3_recall: 0.4827 - val_output_3_true_positives: 5707.0000 - val_output_3_false_positives: 195.0000\n",
      "Epoch 7/10\n",
      "4607/4607 [==============================] - 575s 125ms/step - loss: 12.9083 - output_1_loss: 2.5102 - output_2_loss: 0.3753 - output_3_loss: 0.0222 - output_4_loss: 7.1153 - output_3_precision: 0.8251 - output_3_recall: 0.5172 - output_3_true_positives: 139808.0000 - output_3_false_positives: 29639.0000 - val_loss: 8.9223 - val_output_1_loss: 1.1020 - val_output_2_loss: 0.3053 - val_output_3_loss: 0.0217 - val_output_4_loss: 6.0860 - val_output_3_precision: 0.9661 - val_output_3_recall: 0.4624 - val_output_3_true_positives: 5467.0000 - val_output_3_false_positives: 192.0000\n",
      "Epoch 8/10\n",
      "4607/4607 [==============================] - 572s 124ms/step - loss: 12.9167 - output_1_loss: 2.5018 - output_2_loss: 0.3767 - output_3_loss: 0.0223 - output_4_loss: 7.1374 - output_3_precision: 0.8233 - output_3_recall: 0.5153 - output_3_true_positives: 139249.0000 - output_3_false_positives: 29891.0000 - val_loss: 8.8800 - val_output_1_loss: 1.0737 - val_output_2_loss: 0.3079 - val_output_3_loss: 0.0216 - val_output_4_loss: 6.0952 - val_output_3_precision: 0.9653 - val_output_3_recall: 0.4681 - val_output_3_true_positives: 5535.0000 - val_output_3_false_positives: 199.0000\n",
      "Epoch 9/10\n",
      "4607/4607 [==============================] - 584s 127ms/step - loss: 12.7758 - output_1_loss: 2.4840 - output_2_loss: 0.3714 - output_3_loss: 0.0220 - output_4_loss: 7.0431 - output_3_precision: 0.8277 - output_3_recall: 0.5226 - output_3_true_positives: 141300.0000 - output_3_false_positives: 29411.0000 - val_loss: 8.4341 - val_output_1_loss: 1.0421 - val_output_2_loss: 0.2975 - val_output_3_loss: 0.0205 - val_output_4_loss: 5.7344 - val_output_3_precision: 0.9633 - val_output_3_recall: 0.4912 - val_output_3_true_positives: 5808.0000 - val_output_3_false_positives: 221.0000\n",
      "Epoch 10/10\n",
      "4607/4607 [==============================] - 563s 122ms/step - loss: 12.7576 - output_1_loss: 2.4873 - output_2_loss: 0.3663 - output_3_loss: 0.0219 - output_4_loss: 7.0284 - output_3_precision: 0.8269 - output_3_recall: 0.5243 - output_3_true_positives: 141675.0000 - output_3_false_positives: 29658.0000 - val_loss: 8.3584 - val_output_1_loss: 1.0742 - val_output_2_loss: 0.2989 - val_output_3_loss: 0.0200 - val_output_4_loss: 5.5922 - val_output_3_precision: 0.9668 - val_output_3_recall: 0.4948 - val_output_3_true_positives: 5851.0000 - val_output_3_false_positives: 201.0000\n"
     ]
    }
   ],
   "source": [
    "os.chdir(root_path+ \"/pedestrian_dataset_train_tfr\")\n",
    "history = model.fit(train_dataset, epochs=10,validation_data=val_dataset)"
   ]
  },
  {
   "cell_type": "code",
   "execution_count": null,
   "metadata": {},
   "outputs": [],
   "source": []
  },
  {
   "cell_type": "code",
   "execution_count": null,
   "metadata": {},
   "outputs": [],
   "source": []
  },
  {
   "cell_type": "code",
   "execution_count": 10,
   "metadata": {},
   "outputs": [],
   "source": [
    "os.chdir(root_path+\"/json_final_experiment\")\n",
    "import json\n",
    "#json.dumps(str(a))\n",
    "with open('history_finetuning_2211_60_70_epoch_nadam_0dot00001_mse_exp_mse_3anchors_con_data_aug.json', 'w') as fp:\n",
    "    json.dump(str(history.history), fp)"
   ]
  },
  {
   "cell_type": "code",
   "execution_count": 11,
   "metadata": {},
   "outputs": [],
   "source": [
    "model.save_weights(root_path+'/last_weights/pesos_finetuning_2211_60_70_epoch_nadam_0dot00001_mse_exp_mse_3anchors_con_data_aug')"
   ]
  },
  {
   "cell_type": "code",
   "execution_count": null,
   "metadata": {},
   "outputs": [],
   "source": []
  },
  {
   "cell_type": "code",
   "execution_count": 12,
   "metadata": {},
   "outputs": [
    {
     "name": "stdout",
     "output_type": "stream",
     "text": [
      "Epoch 1/10\n",
      "4607/4607 [==============================] - 588s 128ms/step - loss: 12.8216 - output_1_loss: 2.5075 - output_2_loss: 0.3691 - output_3_loss: 0.0220 - output_4_loss: 7.0462 - output_3_precision: 0.8268 - output_3_recall: 0.5244 - output_3_true_positives: 141741.0000 - output_3_false_positives: 29694.0000 - val_loss: 8.4937 - val_output_1_loss: 1.0252 - val_output_2_loss: 0.2947 - val_output_3_loss: 0.0211 - val_output_4_loss: 5.8329 - val_output_3_precision: 0.9735 - val_output_3_recall: 0.4794 - val_output_3_true_positives: 5668.0000 - val_output_3_false_positives: 154.0000\n",
      "Epoch 2/10\n",
      "4607/4607 [==============================] - 579s 126ms/step - loss: 12.7418 - output_1_loss: 2.4814 - output_2_loss: 0.3804 - output_3_loss: 0.0219 - output_4_loss: 6.9963 - output_3_precision: 0.8296 - output_3_recall: 0.5278 - output_3_true_positives: 142634.0000 - output_3_false_positives: 29306.0000 - val_loss: 8.3302 - val_output_1_loss: 1.0230 - val_output_2_loss: 0.2991 - val_output_3_loss: 0.0205 - val_output_4_loss: 5.6655 - val_output_3_precision: 0.9642 - val_output_3_recall: 0.4921 - val_output_3_true_positives: 5819.0000 - val_output_3_false_positives: 216.0000\n",
      "Epoch 3/10\n",
      "4607/4607 [==============================] - 570s 124ms/step - loss: 12.6124 - output_1_loss: 2.4657 - output_2_loss: 0.3700 - output_3_loss: 0.0216 - output_4_loss: 6.9194 - output_3_precision: 0.8319 - output_3_recall: 0.5344 - output_3_true_positives: 144449.0000 - output_3_false_positives: 29186.0000 - val_loss: 8.4040 - val_output_1_loss: 1.0341 - val_output_2_loss: 0.2926 - val_output_3_loss: 0.0205 - val_output_4_loss: 5.7302 - val_output_3_precision: 0.9662 - val_output_3_recall: 0.4958 - val_output_3_true_positives: 5862.0000 - val_output_3_false_positives: 205.0000\n",
      "Epoch 4/10\n",
      "4607/4607 [==============================] - 585s 127ms/step - loss: 12.5743 - output_1_loss: 2.4495 - output_2_loss: 0.3782 - output_3_loss: 0.0214 - output_4_loss: 6.8974 - output_3_precision: 0.8329 - output_3_recall: 0.5365 - output_3_true_positives: 145006.0000 - output_3_false_positives: 29082.0000 - val_loss: 8.4608 - val_output_1_loss: 1.0401 - val_output_2_loss: 0.2920 - val_output_3_loss: 0.0209 - val_output_4_loss: 5.7758 - val_output_3_precision: 0.9718 - val_output_3_recall: 0.4868 - val_output_3_true_positives: 5756.0000 - val_output_3_false_positives: 167.0000\n",
      "Epoch 5/10\n",
      "4607/4607 [==============================] - 584s 127ms/step - loss: 12.6351 - output_1_loss: 2.4703 - output_2_loss: 0.3715 - output_3_loss: 0.0217 - output_4_loss: 6.9299 - output_3_precision: 0.8311 - output_3_recall: 0.5339 - output_3_true_positives: 144269.0000 - output_3_false_positives: 29314.0000 - val_loss: 8.2992 - val_output_1_loss: 1.0487 - val_output_2_loss: 0.2912 - val_output_3_loss: 0.0200 - val_output_4_loss: 5.5994 - val_output_3_precision: 0.9651 - val_output_3_recall: 0.5047 - val_output_3_true_positives: 5968.0000 - val_output_3_false_positives: 216.0000\n",
      "Epoch 6/10\n",
      "4607/4607 [==============================] - 572s 124ms/step - loss: 12.5123 - output_1_loss: 2.4634 - output_2_loss: 0.3713 - output_3_loss: 0.0213 - output_4_loss: 6.8218 - output_3_precision: 0.8355 - output_3_recall: 0.5423 - output_3_true_positives: 146535.0000 - output_3_false_positives: 28844.0000 - val_loss: 8.0369 - val_output_1_loss: 1.0032 - val_output_2_loss: 0.2971 - val_output_3_loss: 0.0194 - val_output_4_loss: 5.4168 - val_output_3_precision: 0.9701 - val_output_3_recall: 0.5126 - val_output_3_true_positives: 6061.0000 - val_output_3_false_positives: 187.0000\n",
      "Epoch 7/10\n",
      "4607/4607 [==============================] - 559s 121ms/step - loss: 12.6025 - output_1_loss: 2.4773 - output_2_loss: 0.3654 - output_3_loss: 0.0215 - output_4_loss: 6.8957 - output_3_precision: 0.8354 - output_3_recall: 0.5373 - output_3_true_positives: 145146.0000 - output_3_false_positives: 28606.0000 - val_loss: 7.9172 - val_output_1_loss: 1.0114 - val_output_2_loss: 0.2829 - val_output_3_loss: 0.0191 - val_output_4_loss: 5.3096 - val_output_3_precision: 0.9673 - val_output_3_recall: 0.5233 - val_output_3_true_positives: 6188.0000 - val_output_3_false_positives: 209.0000\n",
      "Epoch 8/10\n",
      "4607/4607 [==============================] - 565s 123ms/step - loss: 12.4471 - output_1_loss: 2.4424 - output_2_loss: 0.3755 - output_3_loss: 0.0212 - output_4_loss: 6.7902 - output_3_precision: 0.8371 - output_3_recall: 0.5456 - output_3_true_positives: 147465.0000 - output_3_false_positives: 28703.0000 - val_loss: 7.9698 - val_output_1_loss: 1.0059 - val_output_2_loss: 0.2857 - val_output_3_loss: 0.0193 - val_output_4_loss: 5.3671 - val_output_3_precision: 0.9747 - val_output_3_recall: 0.5115 - val_output_3_true_positives: 6048.0000 - val_output_3_false_positives: 157.0000\n",
      "Epoch 9/10\n",
      "4607/4607 [==============================] - 567s 123ms/step - loss: 12.4191 - output_1_loss: 2.4399 - output_2_loss: 0.3715 - output_3_loss: 0.0212 - output_4_loss: 6.7752 - output_3_precision: 0.8374 - output_3_recall: 0.5482 - output_3_true_positives: 148133.0000 - output_3_false_positives: 28759.0000 - val_loss: 8.0272 - val_output_1_loss: 0.9973 - val_output_2_loss: 0.2905 - val_output_3_loss: 0.0195 - val_output_4_loss: 5.4320 - val_output_3_precision: 0.9713 - val_output_3_recall: 0.5088 - val_output_3_true_positives: 6016.0000 - val_output_3_false_positives: 178.0000\n",
      "Epoch 10/10\n",
      "4607/4607 [==============================] - 583s 127ms/step - loss: 12.2899 - output_1_loss: 2.4148 - output_2_loss: 0.3578 - output_3_loss: 0.0209 - output_4_loss: 6.7238 - output_3_precision: 0.8388 - output_3_recall: 0.5513 - output_3_true_positives: 148986.0000 - output_3_false_positives: 28630.0000 - val_loss: 7.6980 - val_output_1_loss: 0.9958 - val_output_2_loss: 0.2861 - val_output_3_loss: 0.0184 - val_output_4_loss: 5.1159 - val_output_3_precision: 0.9651 - val_output_3_recall: 0.5361 - val_output_3_true_positives: 6339.0000 - val_output_3_false_positives: 229.0000\n"
     ]
    }
   ],
   "source": [
    "os.chdir(root_path+ \"/pedestrian_dataset_train_tfr\")\n",
    "history = model.fit(train_dataset, epochs=10,validation_data=val_dataset)"
   ]
  },
  {
   "cell_type": "code",
   "execution_count": null,
   "metadata": {},
   "outputs": [],
   "source": []
  },
  {
   "cell_type": "code",
   "execution_count": 13,
   "metadata": {},
   "outputs": [],
   "source": [
    "os.chdir(root_path+\"/json_final_experiment\")\n",
    "import json\n",
    "#json.dumps(str(a))\n",
    "with open('history_finetuning_2211_70_80_epoch_nadam_0dot00001_mse_exp_mse_3anchors_con_data_aug.json', 'w') as fp:\n",
    "    json.dump(str(history.history), fp)"
   ]
  },
  {
   "cell_type": "code",
   "execution_count": 14,
   "metadata": {},
   "outputs": [],
   "source": [
    "model.save_weights(root_path+'/last_weights/pesos_finetuning_2211_70_80_epoch_nadam_0dot00001_mse_exp_mse_3anchors_con_data_aug')"
   ]
  },
  {
   "cell_type": "markdown",
   "metadata": {},
   "source": [
    "## CONTINUACIÓN DE ÉPOCAS DE LA 80 A LA 90"
   ]
  },
  {
   "cell_type": "code",
   "execution_count": null,
   "metadata": {},
   "outputs": [],
   "source": []
  },
  {
   "cell_type": "code",
   "execution_count": 7,
   "metadata": {},
   "outputs": [
    {
     "name": "stdout",
     "output_type": "stream",
     "text": [
      "Modo entrenamiento\n"
     ]
    },
    {
     "data": {
      "text/plain": [
       "<tensorflow.python.training.tracking.util.CheckpointLoadStatus at 0x7fd4c2549cf8>"
      ]
     },
     "execution_count": 7,
     "metadata": {},
     "output_type": "execute_result"
    }
   ],
   "source": [
    "anchors =tf.constant(np.array([[0,0,0.02078,0.049],[0,0,0.0426,0.128],[0,0,0.08523,0.19356],[0,0,0.1506,0.4163],[0,0,0.27835,0.58651],[0,0,0.5632,0.78614]]),dtype=tf.float32)\n",
    "model = TinyYOLOv3(1,anchor_boxes=anchors,train=True,mode = \"finetuning\")\n",
    "model.build(batch_input_shape=(None,416,416,3))\n",
    "#print(model.load_weights_darknet(\"/home/sergio/TinyYOLOv3-Pedestrian-Detection/yolov3-tiny.weights\"))\n",
    "model.load_weights(root_path+'/last_weights/pesos_finetuning_2211_70_80_epoch_nadam_0dot00001_mse_exp_mse_3anchors_con_data_aug')"
   ]
  },
  {
   "cell_type": "code",
   "execution_count": 8,
   "metadata": {},
   "outputs": [],
   "source": [
    "tf.random.set_seed(0)\n",
    "\n",
    "from tensorflow.keras.metrics import TrueNegatives,TruePositives,FalseNegatives,FalsePositives,Precision,Recall\n",
    "\n",
    "opt = tf.keras.optimizers.Nadam(learning_rate=1e-4)\n",
    "\n",
    "losses = {\"output_1\": loss_xy,\n",
    "          \"output_2\": loss_wh,\n",
    "          \"output_3\":loss_objectness,\n",
    "          \"output_4\":loss_no_objectness  \n",
    "}\n",
    "\n",
    "metrics = {\"output_3\":[Precision(0.5),Recall(0.5),TruePositives(0.5),FalsePositives(0.5)]}\n",
    "model.compile(optimizer=opt, loss=losses,metrics=metrics,loss_weights=[2,2,1,1])\n",
    "os.chdir(root_path+ \"/pedestrian_dataset_train_tfr\")"
   ]
  },
  {
   "cell_type": "code",
   "execution_count": 9,
   "metadata": {},
   "outputs": [
    {
     "name": "stdout",
     "output_type": "stream",
     "text": [
      "Epoch 1/10\n",
      "Modo entrenamiento\n",
      "Modo entrenamiento\n",
      "   4607/Unknown - 564s 123ms/step - loss: 12.3537 - output_1_loss: 2.4416 - output_2_loss: 0.3592 - output_3_loss: 0.0210 - output_4_loss: 6.7309 - output_3_precision: 0.8394 - output_3_recall: 0.5516 - output_3_true_positives: 149055.0000 - output_3_false_positives: 28524.0000Modo entrenamiento\n",
      "4607/4607 [==============================] - 572s 124ms/step - loss: 12.3537 - output_1_loss: 2.4416 - output_2_loss: 0.3592 - output_3_loss: 0.0210 - output_4_loss: 6.7309 - output_3_precision: 0.8394 - output_3_recall: 0.5516 - output_3_true_positives: 149055.0000 - output_3_false_positives: 28524.0000 - val_loss: 7.6248 - val_output_1_loss: 1.0014 - val_output_2_loss: 0.2881 - val_output_3_loss: 0.0181 - val_output_4_loss: 5.0277 - val_output_3_precision: 0.9746 - val_output_3_recall: 0.5318 - val_output_3_true_positives: 6288.0000 - val_output_3_false_positives: 164.0000\n",
      "Epoch 2/10\n",
      "4607/4607 [==============================] - 569s 123ms/step - loss: 12.3422 - output_1_loss: 2.4395 - output_2_loss: 0.3689 - output_3_loss: 0.0209 - output_4_loss: 6.7046 - output_3_precision: 0.8419 - output_3_recall: 0.5538 - output_3_true_positives: 149636.0000 - output_3_false_positives: 28098.0000 - val_loss: 7.5693 - val_output_1_loss: 0.9803 - val_output_2_loss: 0.2791 - val_output_3_loss: 0.0182 - val_output_4_loss: 5.0324 - val_output_3_precision: 0.9750 - val_output_3_recall: 0.5307 - val_output_3_true_positives: 6275.0000 - val_output_3_false_positives: 161.0000\n",
      "Epoch 3/10\n",
      "4607/4607 [==============================] - 580s 126ms/step - loss: 12.3684 - output_1_loss: 2.4586 - output_2_loss: 0.3644 - output_3_loss: 0.0209 - output_4_loss: 6.7016 - output_3_precision: 0.8411 - output_3_recall: 0.5540 - output_3_true_positives: 149679.0000 - output_3_false_positives: 28284.0000 - val_loss: 7.4437 - val_output_1_loss: 0.9554 - val_output_2_loss: 0.2835 - val_output_3_loss: 0.0179 - val_output_4_loss: 4.9479 - val_output_3_precision: 0.9720 - val_output_3_recall: 0.5494 - val_output_3_true_positives: 6496.0000 - val_output_3_false_positives: 187.0000\n",
      "Epoch 4/10\n",
      "4607/4607 [==============================] - 572s 124ms/step - loss: 12.2119 - output_1_loss: 2.4168 - output_2_loss: 0.3617 - output_3_loss: 0.0207 - output_4_loss: 6.6343 - output_3_precision: 0.8437 - output_3_recall: 0.5598 - output_3_true_positives: 151239.0000 - output_3_false_positives: 28010.0000 - val_loss: 7.5647 - val_output_1_loss: 0.9636 - val_output_2_loss: 0.2831 - val_output_3_loss: 0.0180 - val_output_4_loss: 5.0534 - val_output_3_precision: 0.9743 - val_output_3_recall: 0.5387 - val_output_3_true_positives: 6369.0000 - val_output_3_false_positives: 168.0000\n",
      "Epoch 5/10\n",
      "4607/4607 [==============================] - 588s 128ms/step - loss: 12.2977 - output_1_loss: 2.4579 - output_2_loss: 0.3602 - output_3_loss: 0.0208 - output_4_loss: 6.6408 - output_3_precision: 0.8421 - output_3_recall: 0.5598 - output_3_true_positives: 151312.0000 - output_3_false_positives: 28368.0000 - val_loss: 7.5342 - val_output_1_loss: 0.9934 - val_output_2_loss: 0.2818 - val_output_3_loss: 0.0178 - val_output_4_loss: 4.9659 - val_output_3_precision: 0.9745 - val_output_3_recall: 0.5430 - val_output_3_true_positives: 6420.0000 - val_output_3_false_positives: 168.0000\n",
      "Epoch 6/10\n",
      "4607/4607 [==============================] - 573s 124ms/step - loss: 12.1272 - output_1_loss: 2.3997 - output_2_loss: 0.3655 - output_3_loss: 0.0204 - output_4_loss: 6.5764 - output_3_precision: 0.8454 - output_3_recall: 0.5636 - output_3_true_positives: 152316.0000 - output_3_false_positives: 27857.0000 - val_loss: 7.7054 - val_output_1_loss: 0.9742 - val_output_2_loss: 0.2902 - val_output_3_loss: 0.0186 - val_output_4_loss: 5.1580 - val_output_3_precision: 0.9750 - val_output_3_recall: 0.5346 - val_output_3_true_positives: 6321.0000 - val_output_3_false_positives: 162.0000\n",
      "Epoch 7/10\n",
      "4607/4607 [==============================] - 577s 125ms/step - loss: 12.1343 - output_1_loss: 2.4183 - output_2_loss: 0.3517 - output_3_loss: 0.0205 - output_4_loss: 6.5739 - output_3_precision: 0.8468 - output_3_recall: 0.5656 - output_3_true_positives: 152834.0000 - output_3_false_positives: 27653.0000 - val_loss: 7.2563 - val_output_1_loss: 0.9414 - val_output_2_loss: 0.2845 - val_output_3_loss: 0.0172 - val_output_4_loss: 4.7873 - val_output_3_precision: 0.9770 - val_output_3_recall: 0.5496 - val_output_3_true_positives: 6498.0000 - val_output_3_false_positives: 153.0000\n",
      "Epoch 8/10\n",
      "4607/4607 [==============================] - 571s 124ms/step - loss: 11.9828 - output_1_loss: 2.3770 - output_2_loss: 0.3570 - output_3_loss: 0.0202 - output_4_loss: 6.4946 - output_3_precision: 0.8487 - output_3_recall: 0.5714 - output_3_true_positives: 154428.0000 - output_3_false_positives: 27534.0000 - val_loss: 7.2449 - val_output_1_loss: 0.9204 - val_output_2_loss: 0.2818 - val_output_3_loss: 0.0173 - val_output_4_loss: 4.8231 - val_output_3_precision: 0.9805 - val_output_3_recall: 0.5439 - val_output_3_true_positives: 6431.0000 - val_output_3_false_positives: 128.0000\n",
      "Epoch 9/10\n",
      "4607/4607 [==============================] - 578s 125ms/step - loss: 12.0050 - output_1_loss: 2.3920 - output_2_loss: 0.3531 - output_3_loss: 0.0202 - output_4_loss: 6.4947 - output_3_precision: 0.8492 - output_3_recall: 0.5713 - output_3_true_positives: 154363.0000 - output_3_false_positives: 27415.0000 - val_loss: 7.3710 - val_output_1_loss: 0.9332 - val_output_2_loss: 0.2841 - val_output_3_loss: 0.0178 - val_output_4_loss: 4.9186 - val_output_3_precision: 0.9740 - val_output_3_recall: 0.5487 - val_output_3_true_positives: 6488.0000 - val_output_3_false_positives: 173.0000\n",
      "Epoch 10/10\n",
      "4607/4607 [==============================] - 574s 125ms/step - loss: 12.0466 - output_1_loss: 2.4045 - output_2_loss: 0.3579 - output_3_loss: 0.0202 - output_4_loss: 6.5015 - output_3_precision: 0.8479 - output_3_recall: 0.5709 - output_3_true_positives: 154328.0000 - output_3_false_positives: 27691.0000 - val_loss: 7.3138 - val_output_1_loss: 0.9284 - val_output_2_loss: 0.2815 - val_output_3_loss: 0.0175 - val_output_4_loss: 4.8764 - val_output_3_precision: 0.9778 - val_output_3_recall: 0.5487 - val_output_3_true_positives: 6488.0000 - val_output_3_false_positives: 147.0000\n"
     ]
    }
   ],
   "source": [
    "os.chdir(root_path+ \"/pedestrian_dataset_train_tfr\")\n",
    "history = model.fit(train_dataset, epochs=10,validation_data=val_dataset)"
   ]
  },
  {
   "cell_type": "code",
   "execution_count": null,
   "metadata": {},
   "outputs": [],
   "source": []
  },
  {
   "cell_type": "code",
   "execution_count": null,
   "metadata": {},
   "outputs": [],
   "source": []
  },
  {
   "cell_type": "code",
   "execution_count": 10,
   "metadata": {},
   "outputs": [],
   "source": [
    "os.chdir(root_path+\"/json_final_experiment\")\n",
    "import json\n",
    "#json.dumps(str(a))\n",
    "with open('history_finetuning_2211_80_90_epoch_nadam_0dot00001_mse_exp_mse_3anchors_con_data_aug.json', 'w') as fp:\n",
    "    json.dump(str(history.history), fp)"
   ]
  },
  {
   "cell_type": "code",
   "execution_count": 11,
   "metadata": {},
   "outputs": [],
   "source": [
    "model.save_weights(root_path+'/last_weights/pesos_finetuning_2211_80_90_epoch_nadam_0dot00001_mse_exp_mse_3anchors_con_data_aug')"
   ]
  },
  {
   "cell_type": "code",
   "execution_count": null,
   "metadata": {},
   "outputs": [],
   "source": []
  },
  {
   "cell_type": "markdown",
   "metadata": {},
   "source": [
    "## Continuación épocas 90-100"
   ]
  },
  {
   "cell_type": "code",
   "execution_count": 12,
   "metadata": {},
   "outputs": [
    {
     "name": "stdout",
     "output_type": "stream",
     "text": [
      "Epoch 1/10\n",
      "4607/4607 [==============================] - 586s 127ms/step - loss: 11.8499 - output_1_loss: 2.3497 - output_2_loss: 0.3520 - output_3_loss: 0.0199 - output_4_loss: 6.4266 - output_3_precision: 0.8512 - output_3_recall: 0.5770 - output_3_true_positives: 155903.0000 - output_3_false_positives: 27253.0000 - val_loss: 6.9066 - val_output_1_loss: 0.9099 - val_output_2_loss: 0.2799 - val_output_3_loss: 0.0161 - val_output_4_loss: 4.5109 - val_output_3_precision: 0.9760 - val_output_3_recall: 0.5707 - val_output_3_true_positives: 6748.0000 - val_output_3_false_positives: 166.0000\n",
      "Epoch 2/10\n",
      "4607/4607 [==============================] - 571s 124ms/step - loss: 12.0930 - output_1_loss: 2.4100 - output_2_loss: 0.3799 - output_3_loss: 0.0202 - output_4_loss: 6.4932 - output_3_precision: 0.8501 - output_3_recall: 0.5720 - output_3_true_positives: 154586.0000 - output_3_false_positives: 27269.0000 - val_loss: 7.1948 - val_output_1_loss: 0.8991 - val_output_2_loss: 0.2783 - val_output_3_loss: 0.0175 - val_output_4_loss: 4.8225 - val_output_3_precision: 0.9763 - val_output_3_recall: 0.5540 - val_output_3_true_positives: 6550.0000 - val_output_3_false_positives: 159.0000\n",
      "Epoch 3/10\n",
      "4607/4607 [==============================] - 583s 127ms/step - loss: 11.8528 - output_1_loss: 2.3758 - output_2_loss: 0.3448 - output_3_loss: 0.0199 - output_4_loss: 6.3916 - output_3_precision: 0.8521 - output_3_recall: 0.5793 - output_3_true_positives: 156569.0000 - output_3_false_positives: 27175.0000 - val_loss: 6.9298 - val_output_1_loss: 0.9142 - val_output_2_loss: 0.2724 - val_output_3_loss: 0.0164 - val_output_4_loss: 4.5402 - val_output_3_precision: 0.9785 - val_output_3_recall: 0.5765 - val_output_3_true_positives: 6816.0000 - val_output_3_false_positives: 150.0000\n",
      "Epoch 4/10\n",
      "4607/4607 [==============================] - 573s 124ms/step - loss: 11.8455 - output_1_loss: 2.3642 - output_2_loss: 0.3452 - output_3_loss: 0.0199 - output_4_loss: 6.4069 - output_3_precision: 0.8527 - output_3_recall: 0.5804 - output_3_true_positives: 156809.0000 - output_3_false_positives: 27090.0000 - val_loss: 7.0228 - val_output_1_loss: 0.9060 - val_output_2_loss: 0.2882 - val_output_3_loss: 0.0166 - val_output_4_loss: 4.6178 - val_output_3_precision: 0.9744 - val_output_3_recall: 0.5699 - val_output_3_true_positives: 6739.0000 - val_output_3_false_positives: 177.0000\n",
      "Epoch 5/10\n",
      "4607/4607 [==============================] - 566s 123ms/step - loss: 11.8969 - output_1_loss: 2.3765 - output_2_loss: 0.3547 - output_3_loss: 0.0200 - output_4_loss: 6.4145 - output_3_precision: 0.8551 - output_3_recall: 0.5787 - output_3_true_positives: 156340.0000 - output_3_false_positives: 26503.0000 - val_loss: 6.7179 - val_output_1_loss: 0.8979 - val_output_2_loss: 0.2704 - val_output_3_loss: 0.0155 - val_output_4_loss: 4.3658 - val_output_3_precision: 0.9752 - val_output_3_recall: 0.5908 - val_output_3_true_positives: 6986.0000 - val_output_3_false_positives: 178.0000\n",
      "Epoch 6/10\n",
      "4607/4607 [==============================] - 598s 130ms/step - loss: 11.7427 - output_1_loss: 2.3579 - output_2_loss: 0.3448 - output_3_loss: 0.0196 - output_4_loss: 6.3178 - output_3_precision: 0.8549 - output_3_recall: 0.5860 - output_3_true_positives: 158371.0000 - output_3_false_positives: 26885.0000 - val_loss: 7.3183 - val_output_1_loss: 0.9082 - val_output_2_loss: 0.2814 - val_output_3_loss: 0.0178 - val_output_4_loss: 4.9213 - val_output_3_precision: 0.9805 - val_output_3_recall: 0.5499 - val_output_3_true_positives: 6502.0000 - val_output_3_false_positives: 129.0000\n",
      "Epoch 7/10\n",
      "4607/4607 [==============================] - 578s 125ms/step - loss: 11.8144 - output_1_loss: 2.3613 - output_2_loss: 0.3520 - output_3_loss: 0.0197 - output_4_loss: 6.3680 - output_3_precision: 0.8560 - output_3_recall: 0.5843 - output_3_true_positives: 157927.0000 - output_3_false_positives: 26559.0000 - val_loss: 6.8560 - val_output_1_loss: 0.9169 - val_output_2_loss: 0.2789 - val_output_3_loss: 0.0160 - val_output_4_loss: 4.4485 - val_output_3_precision: 0.9792 - val_output_3_recall: 0.5825 - val_output_3_true_positives: 6888.0000 - val_output_3_false_positives: 146.0000\n",
      "Epoch 8/10\n",
      "4607/4607 [==============================] - 573s 124ms/step - loss: 11.7857 - output_1_loss: 2.3788 - output_2_loss: 0.3474 - output_3_loss: 0.0196 - output_4_loss: 6.3135 - output_3_precision: 0.8572 - output_3_recall: 0.5863 - output_3_true_positives: 158433.0000 - output_3_false_positives: 26403.0000 - val_loss: 6.7407 - val_output_1_loss: 0.9246 - val_output_2_loss: 0.2761 - val_output_3_loss: 0.0155 - val_output_4_loss: 4.3237 - val_output_3_precision: 0.9763 - val_output_3_recall: 0.5955 - val_output_3_true_positives: 7041.0000 - val_output_3_false_positives: 171.0000\n",
      "Epoch 9/10\n",
      "4607/4607 [==============================] - 572s 124ms/step - loss: 11.6437 - output_1_loss: 2.3186 - output_2_loss: 0.3521 - output_3_loss: 0.0196 - output_4_loss: 6.2826 - output_3_precision: 0.8573 - output_3_recall: 0.5890 - output_3_true_positives: 159196.0000 - output_3_false_positives: 26500.0000 - val_loss: 6.8024 - val_output_1_loss: 0.9188 - val_output_2_loss: 0.2735 - val_output_3_loss: 0.0158 - val_output_4_loss: 4.4019 - val_output_3_precision: 0.9785 - val_output_3_recall: 0.5861 - val_output_3_true_positives: 6930.0000 - val_output_3_false_positives: 152.0000\n",
      "Epoch 10/10\n",
      "4607/4607 [==============================] - 583s 127ms/step - loss: 11.6864 - output_1_loss: 2.3420 - output_2_loss: 0.3595 - output_3_loss: 0.0193 - output_4_loss: 6.2641 - output_3_precision: 0.8580 - output_3_recall: 0.5906 - output_3_true_positives: 159538.0000 - output_3_false_positives: 26407.0000 - val_loss: 6.6533 - val_output_1_loss: 0.8811 - val_output_2_loss: 0.2807 - val_output_3_loss: 0.0155 - val_output_4_loss: 4.3141 - val_output_3_precision: 0.9810 - val_output_3_recall: 0.5969 - val_output_3_true_positives: 7058.0000 - val_output_3_false_positives: 137.0000\n"
     ]
    }
   ],
   "source": [
    "os.chdir(root_path+ \"/pedestrian_dataset_train_tfr\")\n",
    "history = model.fit(train_dataset, epochs=10,validation_data=val_dataset)"
   ]
  },
  {
   "cell_type": "code",
   "execution_count": null,
   "metadata": {},
   "outputs": [],
   "source": []
  },
  {
   "cell_type": "code",
   "execution_count": 13,
   "metadata": {},
   "outputs": [],
   "source": [
    "os.chdir(root_path+\"/json_final_experiment\")\n",
    "import json\n",
    "#json.dumps(str(a))\n",
    "with open('history_finetuning_2211_90_100_epoch_nadam_0dot00001_mse_exp_mse_3anchors_con_data_aug.json', 'w') as fp:\n",
    "    json.dump(str(history.history), fp)"
   ]
  },
  {
   "cell_type": "code",
   "execution_count": 14,
   "metadata": {},
   "outputs": [],
   "source": [
    "model.save_weights(root_path+'/last_weights/pesos_finetuning_2211_90_100_epoch_nadam_0dot00001_mse_exp_mse_3anchors_con_data_aug')"
   ]
  },
  {
   "cell_type": "code",
   "execution_count": null,
   "metadata": {},
   "outputs": [],
   "source": []
  },
  {
   "cell_type": "markdown",
   "metadata": {},
   "source": [
    "## NUEVO EXPERIMENTO A PARTIR DE LOS PESOS DE 80, VAMOS A SUBIR EL PESO PARA EL OBJECTNESS (2,2,2,1)"
   ]
  },
  {
   "cell_type": "code",
   "execution_count": null,
   "metadata": {},
   "outputs": [],
   "source": []
  },
  {
   "cell_type": "code",
   "execution_count": 7,
   "metadata": {},
   "outputs": [
    {
     "name": "stdout",
     "output_type": "stream",
     "text": [
      "Modo entrenamiento\n"
     ]
    },
    {
     "data": {
      "text/plain": [
       "<tensorflow.python.training.tracking.util.CheckpointLoadStatus at 0x7f63f6608eb8>"
      ]
     },
     "execution_count": 7,
     "metadata": {},
     "output_type": "execute_result"
    }
   ],
   "source": [
    "anchors =tf.constant(np.array([[0,0,0.02078,0.049],[0,0,0.0426,0.128],[0,0,0.08523,0.19356],[0,0,0.1506,0.4163],[0,0,0.27835,0.58651],[0,0,0.5632,0.78614]]),dtype=tf.float32)\n",
    "model = TinyYOLOv3(1,anchor_boxes=anchors,train=True,mode = \"finetuning\")\n",
    "model.build(batch_input_shape=(None,416,416,3))\n",
    "#print(model.load_weights_darknet(\"/home/sergio/TinyYOLOv3-Pedestrian-Detection/yolov3-tiny.weights\"))\n",
    "model.load_weights(root_path+'/last_weights/pesos_finetuning_2211_70_80_epoch_nadam_0dot00001_mse_exp_mse_3anchors_con_data_aug')"
   ]
  },
  {
   "cell_type": "code",
   "execution_count": 8,
   "metadata": {},
   "outputs": [],
   "source": [
    "tf.random.set_seed(0)\n",
    "\n",
    "from tensorflow.keras.metrics import TrueNegatives,TruePositives,FalseNegatives,FalsePositives,Precision,Recall\n",
    "\n",
    "opt = tf.keras.optimizers.Nadam(learning_rate=1e-4)\n",
    "\n",
    "losses = {\"output_1\": loss_xy,\n",
    "          \"output_2\": loss_wh,\n",
    "          \"output_3\":loss_objectness,\n",
    "          \"output_4\":loss_no_objectness  \n",
    "}\n",
    "\n",
    "metrics = {\"output_3\":[Precision(0.5),Recall(0.5),TruePositives(0.5),FalsePositives(0.5)]}\n",
    "model.compile(optimizer=opt, loss=losses,metrics=metrics,loss_weights=[2,2,2,1])\n",
    "os.chdir(root_path+ \"/pedestrian_dataset_train_tfr\")"
   ]
  },
  {
   "cell_type": "code",
   "execution_count": 9,
   "metadata": {},
   "outputs": [
    {
     "name": "stdout",
     "output_type": "stream",
     "text": [
      "Epoch 1/10\n",
      "Modo entrenamiento\n",
      "Modo entrenamiento\n",
      "   4607/Unknown - 576s 125ms/step - loss: 12.3207 - output_1_loss: 2.4217 - output_2_loss: 0.3586 - output_3_loss: 0.0210 - output_4_loss: 6.7181 - output_3_precision: 0.8413 - output_3_recall: 0.5527 - output_3_true_positives: 149400.0000 - output_3_false_positives: 28181.0000Modo entrenamiento\n",
      "4607/4607 [==============================] - 583s 127ms/step - loss: 12.3207 - output_1_loss: 2.4217 - output_2_loss: 0.3586 - output_3_loss: 0.0210 - output_4_loss: 6.7181 - output_3_precision: 0.8413 - output_3_recall: 0.5527 - output_3_true_positives: 149400.0000 - output_3_false_positives: 28181.0000 - val_loss: 7.6930 - val_output_1_loss: 0.9857 - val_output_2_loss: 0.2851 - val_output_3_loss: 0.0184 - val_output_4_loss: 5.1146 - val_output_3_precision: 0.9645 - val_output_3_recall: 0.5324 - val_output_3_true_positives: 6295.0000 - val_output_3_false_positives: 232.0000\n",
      "Epoch 2/10\n",
      "4607/4607 [==============================] - 587s 127ms/step - loss: 12.2847 - output_1_loss: 2.4077 - output_2_loss: 0.3691 - output_3_loss: 0.0208 - output_4_loss: 6.6895 - output_3_precision: 0.8417 - output_3_recall: 0.5544 - output_3_true_positives: 149822.0000 - output_3_false_positives: 28167.0000 - val_loss: 7.8893 - val_output_1_loss: 0.9791 - val_output_2_loss: 0.2945 - val_output_3_loss: 0.0193 - val_output_4_loss: 5.3036 - val_output_3_precision: 0.9710 - val_output_3_recall: 0.5218 - val_output_3_true_positives: 6170.0000 - val_output_3_false_positives: 184.0000\n",
      "Epoch 3/10\n",
      "4607/4607 [==============================] - 580s 126ms/step - loss: 12.1896 - output_1_loss: 2.4004 - output_2_loss: 0.3617 - output_3_loss: 0.0206 - output_4_loss: 6.6242 - output_3_precision: 0.8436 - output_3_recall: 0.5596 - output_3_true_positives: 151232.0000 - output_3_false_positives: 28029.0000 - val_loss: 7.4571 - val_output_1_loss: 0.9704 - val_output_2_loss: 0.2907 - val_output_3_loss: 0.0175 - val_output_4_loss: 4.9000 - val_output_3_precision: 0.9762 - val_output_3_recall: 0.5420 - val_output_3_true_positives: 6409.0000 - val_output_3_false_positives: 156.0000\n",
      "Epoch 4/10\n",
      "4607/4607 [==============================] - 572s 124ms/step - loss: 12.2137 - output_1_loss: 2.4279 - output_2_loss: 0.3504 - output_3_loss: 0.0206 - output_4_loss: 6.6157 - output_3_precision: 0.8436 - output_3_recall: 0.5608 - output_3_true_positives: 151524.0000 - output_3_false_positives: 28083.0000 - val_loss: 7.6714 - val_output_1_loss: 0.9748 - val_output_2_loss: 0.2925 - val_output_3_loss: 0.0184 - val_output_4_loss: 5.1001 - val_output_3_precision: 0.9735 - val_output_3_recall: 0.5283 - val_output_3_true_positives: 6247.0000 - val_output_3_false_positives: 170.0000\n",
      "Epoch 5/10\n",
      "4607/4607 [==============================] - 569s 124ms/step - loss: 12.1792 - output_1_loss: 2.4109 - output_2_loss: 0.3683 - output_3_loss: 0.0205 - output_4_loss: 6.5798 - output_3_precision: 0.8438 - output_3_recall: 0.5641 - output_3_true_positives: 152450.0000 - output_3_false_positives: 28231.0000 - val_loss: 7.8866 - val_output_1_loss: 0.9705 - val_output_2_loss: 0.2901 - val_output_3_loss: 0.0191 - val_output_4_loss: 5.3271 - val_output_3_precision: 0.9741 - val_output_3_recall: 0.5161 - val_output_3_true_positives: 6102.0000 - val_output_3_false_positives: 162.0000\n",
      "Epoch 6/10\n",
      "4607/4607 [==============================] - 588s 128ms/step - loss: 12.1960 - output_1_loss: 2.4251 - output_2_loss: 0.3578 - output_3_loss: 0.0205 - output_4_loss: 6.5891 - output_3_precision: 0.8444 - output_3_recall: 0.5633 - output_3_true_positives: 152266.0000 - output_3_false_positives: 28048.0000 - val_loss: 7.4178 - val_output_1_loss: 0.9415 - val_output_2_loss: 0.2856 - val_output_3_loss: 0.0177 - val_output_4_loss: 4.9282 - val_output_3_precision: 0.9797 - val_output_3_recall: 0.5389 - val_output_3_true_positives: 6372.0000 - val_output_3_false_positives: 132.0000\n",
      "Epoch 7/10\n",
      "4607/4607 [==============================] - 569s 124ms/step - loss: 12.0363 - output_1_loss: 2.3684 - output_2_loss: 0.3538 - output_3_loss: 0.0204 - output_4_loss: 6.5511 - output_3_precision: 0.8480 - output_3_recall: 0.5664 - output_3_true_positives: 153040.0000 - output_3_false_positives: 27441.0000 - val_loss: 7.1047 - val_output_1_loss: 0.9493 - val_output_2_loss: 0.2860 - val_output_3_loss: 0.0165 - val_output_4_loss: 4.6011 - val_output_3_precision: 0.9772 - val_output_3_recall: 0.5688 - val_output_3_true_positives: 6725.0000 - val_output_3_false_positives: 157.0000\n",
      "Epoch 8/10\n",
      "4607/4607 [==============================] - 573s 124ms/step - loss: 12.1050 - output_1_loss: 2.4141 - output_2_loss: 0.3500 - output_3_loss: 0.0203 - output_4_loss: 6.5362 - output_3_precision: 0.8474 - output_3_recall: 0.5689 - output_3_true_positives: 153657.0000 - output_3_false_positives: 27668.0000 - val_loss: 7.4878 - val_output_1_loss: 0.9500 - val_output_2_loss: 0.2839 - val_output_3_loss: 0.0178 - val_output_4_loss: 4.9843 - val_output_3_precision: 0.9777 - val_output_3_recall: 0.5333 - val_output_3_true_positives: 6306.0000 - val_output_3_false_positives: 144.0000\n",
      "Epoch 9/10\n",
      "4607/4607 [==============================] - 566s 123ms/step - loss: 12.2123 - output_1_loss: 2.4170 - output_2_loss: 0.3811 - output_3_loss: 0.0204 - output_4_loss: 6.5753 - output_3_precision: 0.8473 - output_3_recall: 0.5660 - output_3_true_positives: 152977.0000 - output_3_false_positives: 27562.0000 - val_loss: 6.9787 - val_output_1_loss: 0.9025 - val_output_2_loss: 0.2752 - val_output_3_loss: 0.0164 - val_output_4_loss: 4.5906 - val_output_3_precision: 0.9811 - val_output_3_recall: 0.5606 - val_output_3_true_positives: 6629.0000 - val_output_3_false_positives: 128.0000\n",
      "Epoch 10/10\n",
      "4607/4607 [==============================] - 570s 124ms/step - loss: 11.9766 - output_1_loss: 2.3724 - output_2_loss: 0.3584 - output_3_loss: 0.0201 - output_4_loss: 6.4748 - output_3_precision: 0.8495 - output_3_recall: 0.5735 - output_3_true_positives: 154981.0000 - output_3_false_positives: 27448.0000 - val_loss: 7.3900 - val_output_1_loss: 0.9437 - val_output_2_loss: 0.2787 - val_output_3_loss: 0.0176 - val_output_4_loss: 4.9100 - val_output_3_precision: 0.9754 - val_output_3_recall: 0.5473 - val_output_3_true_positives: 6471.0000 - val_output_3_false_positives: 163.0000\n"
     ]
    }
   ],
   "source": [
    "os.chdir(root_path+ \"/pedestrian_dataset_train_tfr\")\n",
    "history = model.fit(train_dataset, epochs=10,validation_data=val_dataset)"
   ]
  },
  {
   "cell_type": "code",
   "execution_count": 10,
   "metadata": {},
   "outputs": [],
   "source": [
    "os.chdir(root_path+\"/json_final_experiment\")\n",
    "import json\n",
    "#json.dumps(str(a))\n",
    "with open('history_finetuning_2211_80_90_epoch_nadam_0dot00001_mse_exp_mse_3anchors_con_data_aug_diff.json', 'w') as fp:\n",
    "    json.dump(str(history.history), fp)"
   ]
  },
  {
   "cell_type": "code",
   "execution_count": 11,
   "metadata": {},
   "outputs": [],
   "source": [
    "model.save_weights(root_path+'/last_weights/pesos_finetuning_2211_80_90_epoch_nadam_0dot00001_mse_exp_mse_3anchors_con_data_aug_diff')"
   ]
  },
  {
   "cell_type": "code",
   "execution_count": null,
   "metadata": {},
   "outputs": [],
   "source": []
  },
  {
   "cell_type": "code",
   "execution_count": null,
   "metadata": {},
   "outputs": [],
   "source": []
  },
  {
   "cell_type": "code",
   "execution_count": null,
   "metadata": {},
   "outputs": [],
   "source": []
  },
  {
   "cell_type": "markdown",
   "metadata": {},
   "source": [
    "## CONTINUACION OTRAS 20 EPOCAS (20-40)"
   ]
  },
  {
   "cell_type": "code",
   "execution_count": 12,
   "metadata": {},
   "outputs": [
    {
     "name": "stdout",
     "output_type": "stream",
     "text": [
      "Modo entrenamiento\n"
     ]
    },
    {
     "data": {
      "text/plain": [
       "<tensorflow.python.training.tracking.util.CheckpointLoadStatus at 0x7ff93b0919e8>"
      ]
     },
     "execution_count": 12,
     "metadata": {},
     "output_type": "execute_result"
    }
   ],
   "source": [
    "anchors =tf.constant(np.array([[0,0,0.02078,0.049],[0,0,0.0426,0.128],[0,0,0.08523,0.19356],[0,0,0.1506,0.4163],[0,0,0.27835,0.58651],[0,0,0.5632,0.78614]]),dtype=tf.float32)\n",
    "model = TinyYOLOv3(1,anchor_boxes=anchors,train=True,mode = \"finetuning\")\n",
    "model.build(batch_input_shape=(None,416,416,3))\n",
    "#print(model.load_weights_darknet(\"/home/sergio/TinyYOLOv3-Pedestrian-Detection/yolov3-tiny.weights\"))\n",
    "model.load_weights(root_path+'/last_weights/pesos_finetuning_5521_10_20_epoch_nadam_0dot00001_mse_exp_mse_3anchors_final_experiment_con_data_aug')"
   ]
  },
  {
   "cell_type": "code",
   "execution_count": 13,
   "metadata": {},
   "outputs": [],
   "source": [
    "tf.random.set_seed(0)\n",
    "\n",
    "from tensorflow.keras.metrics import TrueNegatives,TruePositives,FalseNegatives,FalsePositives,Precision,Recall\n",
    "\n",
    "opt = tf.keras.optimizers.Nadam(learning_rate=1e-4)\n",
    "\n",
    "losses = {\"output_1\": loss_xy,\n",
    "          \"output_2\": loss_wh,\n",
    "          \"output_3\":loss_objectness,\n",
    "          \"output_4\":loss_no_objectness  \n",
    "}\n",
    "\n",
    "metrics = {\"output_3\":[Precision(0.5),Recall(0.5),TrueNegatives(0.5),TruePositives(0.5),FalseNegatives(0.5),FalsePositives(0.5)]}\n",
    "model.compile(optimizer=opt, loss=losses,metrics=metrics,loss_weights=[5,5,2,1])\n",
    "os.chdir(root_path+ \"/pedestrian_dataset_train_tfr\")"
   ]
  },
  {
   "cell_type": "code",
   "execution_count": null,
   "metadata": {},
   "outputs": [],
   "source": []
  },
  {
   "cell_type": "code",
   "execution_count": 14,
   "metadata": {},
   "outputs": [],
   "source": [
    "os.chdir(root_path+ \"/pedestrian_dataset_train_tfr\")"
   ]
  },
  {
   "cell_type": "code",
   "execution_count": 15,
   "metadata": {
    "scrolled": true
   },
   "outputs": [
    {
     "name": "stdout",
     "output_type": "stream",
     "text": [
      "Epoch 1/20\n",
      "Modo entrenamiento\n",
      "Modo entrenamiento\n",
      "   4606/Unknown - 588s 128ms/step - loss: 30.1245 - output_1_loss: 3.1801 - output_2_loss: 0.4473 - output_3_loss: 0.0354 - output_4_loss: 11.9167 - output_3_precision_2: 0.6672 - output_3_recall_2: 0.1528 - output_3_true_negatives_2: 186528592.0000 - output_3_true_positives_2: 41286.0000 - output_3_false_negatives_2: 228917.0000 - output_3_false_positives_2: 20598.0000Modo entrenamiento\n",
      "4607/4607 [==============================] - 595s 129ms/step - loss: 30.1238 - output_1_loss: 3.1800 - output_2_loss: 0.4473 - output_3_loss: 0.0354 - output_4_loss: 11.9165 - output_3_precision_2: 0.6672 - output_3_recall_2: 0.1528 - output_3_true_negatives_2: 186533664.0000 - output_3_true_positives_2: 41290.0000 - output_3_false_negatives_2: 228919.0000 - output_3_false_positives_2: 20598.0000 - val_loss: 24.2625 - val_output_1_loss: 1.8366 - val_output_2_loss: 0.3715 - val_output_3_loss: 0.0418 - val_output_4_loss: 13.1384 - val_output_3_precision_2: 0.8062 - val_output_3_recall_2: 0.0968 - val_output_3_true_negatives_2: 7592901.0000 - val_output_3_true_positives_2: 1144.0000 - val_output_3_false_negatives_2: 10680.0000 - val_output_3_false_positives_2: 275.0000\n",
      "Epoch 2/20\n",
      "4607/4607 [==============================] - 587s 127ms/step - loss: 29.4558 - output_1_loss: 3.0779 - output_2_loss: 0.4378 - output_3_loss: 0.0350 - output_4_loss: 11.8072 - output_3_precision_2: 0.6693 - output_3_recall_2: 0.1577 - output_3_true_negatives_2: 186533392.0000 - output_3_true_positives_2: 42619.0000 - output_3_false_negatives_2: 227556.0000 - output_3_false_positives_2: 21057.0000 - val_loss: 23.9888 - val_output_1_loss: 1.8145 - val_output_2_loss: 0.3813 - val_output_3_loss: 0.0410 - val_output_4_loss: 12.9279 - val_output_3_precision_2: 0.8011 - val_output_3_recall_2: 0.1018 - val_output_3_true_negatives_2: 7592877.0000 - val_output_3_true_positives_2: 1204.0000 - val_output_3_false_negatives_2: 10620.0000 - val_output_3_false_positives_2: 299.0000\n",
      "Epoch 3/20\n",
      "4607/4607 [==============================] - 577s 125ms/step - loss: 29.2334 - output_1_loss: 3.0504 - output_2_loss: 0.4326 - output_3_loss: 0.0349 - output_4_loss: 11.7485 - output_3_precision_2: 0.6685 - output_3_recall_2: 0.1612 - output_3_true_negatives_2: 186532704.0000 - output_3_true_positives_2: 43557.0000 - output_3_false_negatives_2: 226693.0000 - output_3_false_positives_2: 21601.0000 - val_loss: 23.6755 - val_output_1_loss: 1.7513 - val_output_2_loss: 0.3829 - val_output_3_loss: 0.0411 - val_output_4_loss: 12.9225 - val_output_3_precision_2: 0.7934 - val_output_3_recall_2: 0.1029 - val_output_3_true_negatives_2: 7592859.0000 - val_output_3_true_positives_2: 1217.0000 - val_output_3_false_negatives_2: 10607.0000 - val_output_3_false_positives_2: 317.0000\n",
      "Epoch 4/20\n",
      "4607/4607 [==============================] - 571s 124ms/step - loss: 28.9846 - output_1_loss: 3.0095 - output_2_loss: 0.4305 - output_3_loss: 0.0348 - output_4_loss: 11.7152 - output_3_precision_2: 0.6698 - output_3_recall_2: 0.1633 - output_3_true_negatives_2: 186532512.0000 - output_3_true_positives_2: 44140.0000 - output_3_false_negatives_2: 226080.0000 - output_3_false_positives_2: 21762.0000 - val_loss: 22.7145 - val_output_1_loss: 1.6193 - val_output_2_loss: 0.3677 - val_output_3_loss: 0.0404 - val_output_4_loss: 12.6987 - val_output_3_precision_2: 0.7870 - val_output_3_recall_2: 0.1072 - val_output_3_true_negatives_2: 7592833.0000 - val_output_3_true_positives_2: 1267.0000 - val_output_3_false_negatives_2: 10557.0000 - val_output_3_false_positives_2: 343.0000\n",
      "Epoch 5/20\n",
      "4607/4607 [==============================] - 561s 122ms/step - loss: 28.6440 - output_1_loss: 2.9514 - output_2_loss: 0.4349 - output_3_loss: 0.0347 - output_4_loss: 11.6428 - output_3_precision_2: 0.6655 - output_3_recall_2: 0.1650 - output_3_true_negatives_2: 186531808.0000 - output_3_true_positives_2: 44567.0000 - output_3_false_negatives_2: 225560.0000 - output_3_false_positives_2: 22404.0000 - val_loss: 22.7363 - val_output_1_loss: 1.6088 - val_output_2_loss: 0.3742 - val_output_3_loss: 0.0406 - val_output_4_loss: 12.7402 - val_output_3_precision_2: 0.8061 - val_output_3_recall_2: 0.1069 - val_output_3_true_negatives_2: 7592872.0000 - val_output_3_true_positives_2: 1264.0000 - val_output_3_false_negatives_2: 10560.0000 - val_output_3_false_positives_2: 304.0000\n",
      "Epoch 6/20\n",
      "4607/4607 [==============================] - 567s 123ms/step - loss: 28.4979 - output_1_loss: 2.9453 - output_2_loss: 0.4205 - output_3_loss: 0.0346 - output_4_loss: 11.5997 - output_3_precision_2: 0.6729 - output_3_recall_2: 0.1693 - output_3_true_negatives_2: 186532096.0000 - output_3_true_positives_2: 45740.0000 - output_3_false_negatives_2: 224511.0000 - output_3_false_positives_2: 22239.0000 - val_loss: 22.3687 - val_output_1_loss: 1.5794 - val_output_2_loss: 0.3516 - val_output_3_loss: 0.0402 - val_output_4_loss: 12.6334 - val_output_3_precision_2: 0.7975 - val_output_3_recall_2: 0.1093 - val_output_3_true_negatives_2: 7592848.0000 - val_output_3_true_positives_2: 1292.0000 - val_output_3_false_negatives_2: 10532.0000 - val_output_3_false_positives_2: 328.0000\n",
      "Epoch 7/20\n",
      "4607/4607 [==============================] - 603s 131ms/step - loss: 28.3914 - output_1_loss: 2.9250 - output_2_loss: 0.4302 - output_3_loss: 0.0344 - output_4_loss: 11.5466 - output_3_precision_2: 0.6745 - output_3_recall_2: 0.1718 - output_3_true_negatives_2: 186531392.0000 - output_3_true_positives_2: 46429.0000 - output_3_false_negatives_2: 223845.0000 - output_3_false_positives_2: 22406.0000 - val_loss: 21.9410 - val_output_1_loss: 1.5055 - val_output_2_loss: 0.3537 - val_output_3_loss: 0.0401 - val_output_4_loss: 12.5645 - val_output_3_precision_2: 0.8190 - val_output_3_recall_2: 0.1140 - val_output_3_true_negatives_2: 7592878.0000 - val_output_3_true_positives_2: 1348.0000 - val_output_3_false_negatives_2: 10476.0000 - val_output_3_false_positives_2: 298.0000\n",
      "Epoch 8/20\n",
      "4607/4607 [==============================] - 615s 133ms/step - loss: 28.1371 - output_1_loss: 2.8978 - output_2_loss: 0.4235 - output_3_loss: 0.0342 - output_4_loss: 11.4620 - output_3_precision_2: 0.6751 - output_3_recall_2: 0.1775 - output_3_true_negatives_2: 186531264.0000 - output_3_true_positives_2: 47964.0000 - output_3_false_negatives_2: 222225.0000 - output_3_false_positives_2: 23085.0000 - val_loss: 21.9262 - val_output_1_loss: 1.5388 - val_output_2_loss: 0.3479 - val_output_3_loss: 0.0397 - val_output_4_loss: 12.4136 - val_output_3_precision_2: 0.8184 - val_output_3_recall_2: 0.1212 - val_output_3_true_negatives_2: 7592858.0000 - val_output_3_true_positives_2: 1433.0000 - val_output_3_false_negatives_2: 10391.0000 - val_output_3_false_positives_2: 318.0000\n",
      "Epoch 9/20\n",
      "4607/4607 [==============================] - 604s 131ms/step - loss: 27.8913 - output_1_loss: 2.8612 - output_2_loss: 0.4228 - output_3_loss: 0.0340 - output_4_loss: 11.4031 - output_3_precision_2: 0.6766 - output_3_recall_2: 0.1799 - output_3_true_negatives_2: 186530816.0000 - output_3_true_positives_2: 48621.0000 - output_3_false_negatives_2: 221591.0000 - output_3_false_positives_2: 23241.0000 - val_loss: 21.6069 - val_output_1_loss: 1.4630 - val_output_2_loss: 0.3551 - val_output_3_loss: 0.0398 - val_output_4_loss: 12.4369 - val_output_3_precision_2: 0.8245 - val_output_3_recall_2: 0.1121 - val_output_3_true_negatives_2: 7592894.0000 - val_output_3_true_positives_2: 1325.0000 - val_output_3_false_negatives_2: 10499.0000 - val_output_3_false_positives_2: 282.0000\n",
      "Epoch 10/20\n",
      "4607/4607 [==============================] - 586s 127ms/step - loss: 27.7813 - output_1_loss: 2.8507 - output_2_loss: 0.4210 - output_3_loss: 0.0339 - output_4_loss: 11.3550 - output_3_precision_2: 0.6764 - output_3_recall_2: 0.1825 - output_3_true_negatives_2: 186530720.0000 - output_3_true_positives_2: 49308.0000 - output_3_false_negatives_2: 220857.0000 - output_3_false_positives_2: 23593.0000 - val_loss: 21.0843 - val_output_1_loss: 1.4054 - val_output_2_loss: 0.3444 - val_output_3_loss: 0.0392 - val_output_4_loss: 12.2570 - val_output_3_precision_2: 0.8187 - val_output_3_recall_2: 0.1172 - val_output_3_true_negatives_2: 7592869.0000 - val_output_3_true_positives_2: 1386.0000 - val_output_3_false_negatives_2: 10438.0000 - val_output_3_false_positives_2: 307.0000\n",
      "Epoch 11/20\n",
      "4607/4607 [==============================] - 574s 125ms/step - loss: 27.3990 - output_1_loss: 2.7990 - output_2_loss: 0.4098 - output_3_loss: 0.0337 - output_4_loss: 11.2873 - output_3_precision_2: 0.6796 - output_3_recall_2: 0.1864 - output_3_true_negatives_2: 186530336.0000 - output_3_true_positives_2: 50382.0000 - output_3_false_negatives_2: 219870.0000 - output_3_false_positives_2: 23757.0000 - val_loss: 21.0586 - val_output_1_loss: 1.4321 - val_output_2_loss: 0.3438 - val_output_3_loss: 0.0386 - val_output_4_loss: 12.1021 - val_output_3_precision_2: 0.8182 - val_output_3_recall_2: 0.1210 - val_output_3_true_negatives_2: 7592858.0000 - val_output_3_true_positives_2: 1431.0000 - val_output_3_false_negatives_2: 10393.0000 - val_output_3_false_positives_2: 318.0000\n",
      "Epoch 12/20\n",
      "4607/4607 [==============================] - 583s 126ms/step - loss: 27.3454 - output_1_loss: 2.7887 - output_2_loss: 0.4224 - output_3_loss: 0.0335 - output_4_loss: 11.2227 - output_3_precision_2: 0.6819 - output_3_recall_2: 0.1909 - output_3_true_negatives_2: 186530176.0000 - output_3_true_positives_2: 51591.0000 - output_3_false_negatives_2: 218617.0000 - output_3_false_positives_2: 24064.0000 - val_loss: 20.5749 - val_output_1_loss: 1.3530 - val_output_2_loss: 0.3376 - val_output_3_loss: 0.0386 - val_output_4_loss: 12.0447 - val_output_3_precision_2: 0.8105 - val_output_3_recall_2: 0.1324 - val_output_3_true_negatives_2: 7592810.0000 - val_output_3_true_positives_2: 1565.0000 - val_output_3_false_negatives_2: 10259.0000 - val_output_3_false_positives_2: 366.0000\n",
      "Epoch 13/20\n",
      "4607/4607 [==============================] - 590s 128ms/step - loss: 27.2738 - output_1_loss: 2.7958 - output_2_loss: 0.4077 - output_3_loss: 0.0334 - output_4_loss: 11.1893 - output_3_precision_2: 0.6799 - output_3_recall_2: 0.1922 - output_3_true_negatives_2: 186529920.0000 - output_3_true_positives_2: 51951.0000 - output_3_false_negatives_2: 218319.0000 - output_3_false_positives_2: 24461.0000 - val_loss: 20.6354 - val_output_1_loss: 1.3580 - val_output_2_loss: 0.3397 - val_output_3_loss: 0.0387 - val_output_4_loss: 12.0693 - val_output_3_precision_2: 0.8175 - val_output_3_recall_2: 0.1349 - val_output_3_true_negatives_2: 7592820.0000 - val_output_3_true_positives_2: 1595.0000 - val_output_3_false_negatives_2: 10229.0000 - val_output_3_false_positives_2: 356.0000\n",
      "Epoch 14/20\n",
      "4607/4607 [==============================] - 576s 125ms/step - loss: 27.0782 - output_1_loss: 2.7669 - output_2_loss: 0.4106 - output_3_loss: 0.0333 - output_4_loss: 11.1240 - output_3_precision_2: 0.6824 - output_3_recall_2: 0.1957 - output_3_true_negatives_2: 186529696.0000 - output_3_true_positives_2: 52882.0000 - output_3_false_negatives_2: 217321.0000 - output_3_false_positives_2: 24617.0000 - val_loss: 20.1223 - val_output_1_loss: 1.3103 - val_output_2_loss: 0.3348 - val_output_3_loss: 0.0379 - val_output_4_loss: 11.8210 - val_output_3_precision_2: 0.8191 - val_output_3_recall_2: 0.1367 - val_output_3_true_negatives_2: 7592819.0000 - val_output_3_true_positives_2: 1616.0000 - val_output_3_false_negatives_2: 10208.0000 - val_output_3_false_positives_2: 357.0000\n",
      "Epoch 15/20\n",
      "4607/4607 [==============================] - 581s 126ms/step - loss: 27.1058 - output_1_loss: 2.7489 - output_2_loss: 0.4333 - output_3_loss: 0.0333 - output_4_loss: 11.1280 - output_3_precision_2: 0.6847 - output_3_recall_2: 0.1970 - output_3_true_negatives_2: 186529664.0000 - output_3_true_positives_2: 53243.0000 - output_3_false_negatives_2: 217063.0000 - output_3_false_positives_2: 24518.0000 - val_loss: 19.7743 - val_output_1_loss: 1.2555 - val_output_2_loss: 0.3405 - val_output_3_loss: 0.0377 - val_output_4_loss: 11.7191 - val_output_3_precision_2: 0.8311 - val_output_3_recall_2: 0.1395 - val_output_3_true_negatives_2: 7592841.0000 - val_output_3_true_positives_2: 1649.0000 - val_output_3_false_negatives_2: 10175.0000 - val_output_3_false_positives_2: 335.0000\n",
      "Epoch 16/20\n",
      "4607/4607 [==============================] - 592s 128ms/step - loss: 26.6926 - output_1_loss: 2.7140 - output_2_loss: 0.4039 - output_3_loss: 0.0331 - output_4_loss: 11.0371 - output_3_precision_2: 0.6862 - output_3_recall_2: 0.2025 - output_3_true_negatives_2: 186529120.0000 - output_3_true_positives_2: 54728.0000 - output_3_false_negatives_2: 215557.0000 - output_3_false_positives_2: 25023.0000 - val_loss: 20.1051 - val_output_1_loss: 1.3087 - val_output_2_loss: 0.3265 - val_output_3_loss: 0.0381 - val_output_4_loss: 11.8531 - val_output_3_precision_2: 0.8350 - val_output_3_recall_2: 0.1331 - val_output_3_true_negatives_2: 7592865.0000 - val_output_3_true_positives_2: 1574.0000 - val_output_3_false_negatives_2: 10250.0000 - val_output_3_false_positives_2: 311.0000\n",
      "Epoch 17/20\n",
      "4607/4607 [==============================] - 574s 125ms/step - loss: 26.4073 - output_1_loss: 2.6837 - output_2_loss: 0.3931 - output_3_loss: 0.0329 - output_4_loss: 10.9578 - output_3_precision_2: 0.6882 - output_3_recall_2: 0.2061 - output_3_true_negatives_2: 186528928.0000 - output_3_true_positives_2: 55688.0000 - output_3_false_negatives_2: 214547.0000 - output_3_false_positives_2: 25233.0000 - val_loss: 19.7485 - val_output_1_loss: 1.2678 - val_output_2_loss: 0.3194 - val_output_3_loss: 0.0379 - val_output_4_loss: 11.7368 - val_output_3_precision_2: 0.8389 - val_output_3_recall_2: 0.1401 - val_output_3_true_negatives_2: 7592858.0000 - val_output_3_true_positives_2: 1656.0000 - val_output_3_false_negatives_2: 10168.0000 - val_output_3_false_positives_2: 318.0000\n",
      "Epoch 18/20\n",
      "4607/4607 [==============================] - 584s 127ms/step - loss: 26.5751 - output_1_loss: 2.7180 - output_2_loss: 0.3961 - output_3_loss: 0.0329 - output_4_loss: 10.9386 - output_3_precision_2: 0.6883 - output_3_recall_2: 0.2082 - output_3_true_negatives_2: 186528816.0000 - output_3_true_positives_2: 56271.0000 - output_3_false_negatives_2: 213970.0000 - output_3_false_positives_2: 25478.0000 - val_loss: 19.4626 - val_output_1_loss: 1.2208 - val_output_2_loss: 0.3286 - val_output_3_loss: 0.0375 - val_output_4_loss: 11.6405 - val_output_3_precision_2: 0.8467 - val_output_3_recall_2: 0.1406 - val_output_3_true_negatives_2: 7592875.0000 - val_output_3_true_positives_2: 1663.0000 - val_output_3_false_negatives_2: 10161.0000 - val_output_3_false_positives_2: 301.0000\n",
      "Epoch 19/20\n",
      "4607/4607 [==============================] - 596s 129ms/step - loss: 26.1467 - output_1_loss: 2.6515 - output_2_loss: 0.3900 - output_3_loss: 0.0326 - output_4_loss: 10.8738 - output_3_precision_2: 0.6895 - output_3_recall_2: 0.2125 - output_3_true_negatives_2: 186528256.0000 - output_3_true_positives_2: 57438.0000 - output_3_false_negatives_2: 212845.0000 - output_3_false_positives_2: 25862.0000 - val_loss: 19.3539 - val_output_1_loss: 1.2064 - val_output_2_loss: 0.3321 - val_output_3_loss: 0.0375 - val_output_4_loss: 11.5867 - val_output_3_precision_2: 0.8362 - val_output_3_recall_2: 0.1460 - val_output_3_true_negatives_2: 7592838.0000 - val_output_3_true_positives_2: 1726.0000 - val_output_3_false_negatives_2: 10098.0000 - val_output_3_false_positives_2: 338.0000\n",
      "Epoch 20/20\n"
     ]
    },
    {
     "name": "stdout",
     "output_type": "stream",
     "text": [
      "4607/4607 [==============================] - 575s 125ms/step - loss: 26.3014 - output_1_loss: 2.6796 - output_2_loss: 0.4034 - output_3_loss: 0.0325 - output_4_loss: 10.8213 - output_3_precision_2: 0.6922 - output_3_recall_2: 0.2154 - output_3_true_negatives_2: 186528576.0000 - output_3_true_positives_2: 58212.0000 - output_3_false_negatives_2: 212018.0000 - output_3_false_positives_2: 25885.0000 - val_loss: 18.8800 - val_output_1_loss: 1.1689 - val_output_2_loss: 0.3181 - val_output_3_loss: 0.0366 - val_output_4_loss: 11.3715 - val_output_3_precision_2: 0.8351 - val_output_3_recall_2: 0.1627 - val_output_3_true_negatives_2: 7592796.0000 - val_output_3_true_positives_2: 1924.0000 - val_output_3_false_negatives_2: 9900.0000 - val_output_3_false_positives_2: 380.0000\n"
     ]
    }
   ],
   "source": [
    "history = model.fit(train_dataset, epochs=20,validation_data=val_dataset)"
   ]
  },
  {
   "cell_type": "code",
   "execution_count": null,
   "metadata": {},
   "outputs": [],
   "source": []
  },
  {
   "cell_type": "code",
   "execution_count": 16,
   "metadata": {},
   "outputs": [],
   "source": [
    "os.chdir(root_path+\"/json_final_experiment\")\n",
    "import json\n",
    "#json.dumps(str(a))\n",
    "with open('history_finetuning_5521_20_40_epoch_nadam_0dot00001_mse_exp_mse_3anchors_final_experiment_con_data_aug.json', 'w') as fp:\n",
    "    json.dump(str(history.history), fp)"
   ]
  },
  {
   "cell_type": "code",
   "execution_count": 17,
   "metadata": {},
   "outputs": [],
   "source": [
    "model.save_weights(root_path+'/last_weights/pesos_finetuning_5521_20_40_epoch_nadam_0dot00001_mse_exp_mse_3anchors_final_experiment_con_data_aug')"
   ]
  },
  {
   "cell_type": "code",
   "execution_count": null,
   "metadata": {},
   "outputs": [],
   "source": []
  },
  {
   "cell_type": "markdown",
   "metadata": {},
   "source": [
    "## CONTINUACION 40-60 EPOCHS"
   ]
  },
  {
   "cell_type": "code",
   "execution_count": 18,
   "metadata": {},
   "outputs": [],
   "source": [
    "os.chdir(root_path+ \"/pedestrian_dataset_train_tfr\")"
   ]
  },
  {
   "cell_type": "code",
   "execution_count": 19,
   "metadata": {},
   "outputs": [
    {
     "name": "stdout",
     "output_type": "stream",
     "text": [
      "Epoch 1/20\n",
      "4607/4607 [==============================] - 596s 129ms/step - loss: 27.0456 - output_1_loss: 2.6820 - output_2_loss: 0.5259 - output_3_loss: 0.0327 - output_4_loss: 10.9406 - output_3_precision_2: 0.6897 - output_3_recall_2: 0.2097 - output_3_true_negatives_2: 186528736.0000 - output_3_true_positives_2: 56665.0000 - output_3_false_negatives_2: 213593.0000 - output_3_false_positives_2: 25497.0000 - val_loss: 18.3760 - val_output_1_loss: 1.1350 - val_output_2_loss: 0.3170 - val_output_3_loss: 0.0355 - val_output_4_loss: 11.0450 - val_output_3_precision_2: 0.8197 - val_output_3_recall_2: 0.1673 - val_output_3_true_negatives_2: 7592741.0000 - val_output_3_true_positives_2: 1978.0000 - val_output_3_false_negatives_2: 9846.0000 - val_output_3_false_positives_2: 435.0000\n",
      "Epoch 2/20\n",
      "4607/4607 [==============================] - 591s 128ms/step - loss: 25.6297 - output_1_loss: 2.6105 - output_2_loss: 0.3653 - output_3_loss: 0.0322 - output_4_loss: 10.6861 - output_3_precision_2: 0.6951 - output_3_recall_2: 0.2244 - output_3_true_negatives_2: 186527904.0000 - output_3_true_positives_2: 60637.0000 - output_3_false_negatives_2: 209568.0000 - output_3_false_positives_2: 26602.0000 - val_loss: 18.2923 - val_output_1_loss: 1.1029 - val_output_2_loss: 0.3084 - val_output_3_loss: 0.0360 - val_output_4_loss: 11.1635 - val_output_3_precision_2: 0.8331 - val_output_3_recall_2: 0.1587 - val_output_3_true_negatives_2: 7592800.0000 - val_output_3_true_positives_2: 1877.0000 - val_output_3_false_negatives_2: 9947.0000 - val_output_3_false_positives_2: 376.0000\n",
      "Epoch 3/20\n",
      "4607/4607 [==============================] - 578s 125ms/step - loss: 25.6800 - output_1_loss: 2.6074 - output_2_loss: 0.3843 - output_3_loss: 0.0321 - output_4_loss: 10.6575 - output_3_precision_2: 0.6966 - output_3_recall_2: 0.2267 - output_3_true_negatives_2: 186527728.0000 - output_3_true_positives_2: 61246.0000 - output_3_false_negatives_2: 208968.0000 - output_3_false_positives_2: 26681.0000 - val_loss: 18.5065 - val_output_1_loss: 1.1045 - val_output_2_loss: 0.3158 - val_output_3_loss: 0.0368 - val_output_4_loss: 11.3315 - val_output_3_precision_2: 0.8418 - val_output_3_recall_2: 0.1603 - val_output_3_true_negatives_2: 7592820.0000 - val_output_3_true_positives_2: 1895.0000 - val_output_3_false_negatives_2: 9929.0000 - val_output_3_false_positives_2: 356.0000\n",
      "Epoch 4/20\n",
      "4607/4607 [==============================] - 566s 123ms/step - loss: 25.5348 - output_1_loss: 2.5794 - output_2_loss: 0.3915 - output_3_loss: 0.0320 - output_4_loss: 10.6163 - output_3_precision_2: 0.6974 - output_3_recall_2: 0.2289 - output_3_true_negatives_2: 186527264.0000 - output_3_true_positives_2: 61841.0000 - output_3_false_negatives_2: 208357.0000 - output_3_false_positives_2: 26837.0000 - val_loss: 18.2488 - val_output_1_loss: 1.0991 - val_output_2_loss: 0.3131 - val_output_3_loss: 0.0361 - val_output_4_loss: 11.1159 - val_output_3_precision_2: 0.8438 - val_output_3_recall_2: 0.1641 - val_output_3_true_negatives_2: 7592817.0000 - val_output_3_true_positives_2: 1940.0000 - val_output_3_false_negatives_2: 9884.0000 - val_output_3_false_positives_2: 359.0000\n",
      "Epoch 5/20\n",
      "4607/4607 [==============================] - 565s 123ms/step - loss: 25.5348 - output_1_loss: 2.5875 - output_2_loss: 0.3920 - output_3_loss: 0.0319 - output_4_loss: 10.5739 - output_3_precision_2: 0.6996 - output_3_recall_2: 0.2332 - output_3_true_negatives_2: 186526752.0000 - output_3_true_positives_2: 63016.0000 - output_3_false_negatives_2: 207213.0000 - output_3_false_positives_2: 27058.0000 - val_loss: 18.3465 - val_output_1_loss: 1.1286 - val_output_2_loss: 0.3105 - val_output_3_loss: 0.0359 - val_output_4_loss: 11.0794 - val_output_3_precision_2: 0.8499 - val_output_3_recall_2: 0.1666 - val_output_3_true_negatives_2: 7592828.0000 - val_output_3_true_positives_2: 1970.0000 - val_output_3_false_negatives_2: 9854.0000 - val_output_3_false_positives_2: 348.0000\n",
      "Epoch 6/20\n",
      "4607/4607 [==============================] - 574s 125ms/step - loss: 25.4014 - output_1_loss: 2.5836 - output_2_loss: 0.3839 - output_3_loss: 0.0317 - output_4_loss: 10.5002 - output_3_precision_2: 0.6997 - output_3_recall_2: 0.2367 - output_3_true_negatives_2: 186526560.0000 - output_3_true_positives_2: 63979.0000 - output_3_false_negatives_2: 206343.0000 - output_3_false_positives_2: 27454.0000 - val_loss: 18.1211 - val_output_1_loss: 1.0867 - val_output_2_loss: 0.3092 - val_output_3_loss: 0.0361 - val_output_4_loss: 11.0696 - val_output_3_precision_2: 0.8524 - val_output_3_recall_2: 0.1729 - val_output_3_true_negatives_2: 7592822.0000 - val_output_3_true_positives_2: 2044.0000 - val_output_3_false_negatives_2: 9780.0000 - val_output_3_false_positives_2: 354.0000\n",
      "Epoch 7/20\n",
      "4607/4607 [==============================] - 548s 119ms/step - loss: 25.9253 - output_1_loss: 2.6171 - output_2_loss: 0.4406 - output_3_loss: 0.0318 - output_4_loss: 10.5732 - output_3_precision_2: 0.7005 - output_3_recall_2: 0.2333 - output_3_true_negatives_2: 186527504.0000 - output_3_true_positives_2: 63066.0000 - output_3_false_negatives_2: 207199.0000 - output_3_false_positives_2: 26966.0000 - val_loss: 17.4981 - val_output_1_loss: 1.0386 - val_output_2_loss: 0.3044 - val_output_3_loss: 0.0346 - val_output_4_loss: 10.7139 - val_output_3_precision_2: 0.8599 - val_output_3_recall_2: 0.1760 - val_output_3_true_negatives_2: 7592837.0000 - val_output_3_true_positives_2: 2081.0000 - val_output_3_false_negatives_2: 9743.0000 - val_output_3_false_positives_2: 339.0000\n",
      "Epoch 8/20\n",
      "4607/4607 [==============================] - 587s 127ms/step - loss: 24.8567 - output_1_loss: 2.5062 - output_2_loss: 0.3753 - output_3_loss: 0.0313 - output_4_loss: 10.3862 - output_3_precision_2: 0.7037 - output_3_recall_2: 0.2452 - output_3_true_negatives_2: 186526448.0000 - output_3_true_positives_2: 66267.0000 - output_3_false_negatives_2: 203998.0000 - output_3_false_positives_2: 27909.0000 - val_loss: 17.5562 - val_output_1_loss: 1.0491 - val_output_2_loss: 0.2978 - val_output_3_loss: 0.0349 - val_output_4_loss: 10.7516 - val_output_3_precision_2: 0.8491 - val_output_3_recall_2: 0.1770 - val_output_3_true_negatives_2: 7592804.0000 - val_output_3_true_positives_2: 2093.0000 - val_output_3_false_negatives_2: 9731.0000 - val_output_3_false_positives_2: 372.0000\n",
      "Epoch 9/20\n",
      "4607/4607 [==============================] - 581s 126ms/step - loss: 24.9065 - output_1_loss: 2.5311 - output_2_loss: 0.3705 - output_3_loss: 0.0312 - output_4_loss: 10.3356 - output_3_precision_2: 0.7048 - output_3_recall_2: 0.2497 - output_3_true_negatives_2: 186526176.0000 - output_3_true_positives_2: 67480.0000 - output_3_false_negatives_2: 202812.0000 - output_3_false_positives_2: 28265.0000 - val_loss: 17.4617 - val_output_1_loss: 1.0258 - val_output_2_loss: 0.3000 - val_output_3_loss: 0.0349 - val_output_4_loss: 10.7627 - val_output_3_precision_2: 0.8559 - val_output_3_recall_2: 0.1813 - val_output_3_true_negatives_2: 7592815.0000 - val_output_3_true_positives_2: 2144.0000 - val_output_3_false_negatives_2: 9680.0000 - val_output_3_false_positives_2: 361.0000\n",
      "Epoch 10/20\n",
      "4607/4607 [==============================] - 579s 126ms/step - loss: 24.9392 - output_1_loss: 2.5384 - output_2_loss: 0.3777 - output_3_loss: 0.0311 - output_4_loss: 10.2963 - output_3_precision_2: 0.7071 - output_3_recall_2: 0.2509 - output_3_true_negatives_2: 186526192.0000 - output_3_true_positives_2: 67799.0000 - output_3_false_negatives_2: 202477.0000 - output_3_false_positives_2: 28087.0000 - val_loss: 17.3396 - val_output_1_loss: 1.0329 - val_output_2_loss: 0.2988 - val_output_3_loss: 0.0345 - val_output_4_loss: 10.6120 - val_output_3_precision_2: 0.8510 - val_output_3_recall_2: 0.1923 - val_output_3_true_negatives_2: 7592778.0000 - val_output_3_true_positives_2: 2274.0000 - val_output_3_false_negatives_2: 9550.0000 - val_output_3_false_positives_2: 398.0000\n",
      "Epoch 11/20\n",
      "4607/4607 [==============================] - 574s 125ms/step - loss: 24.6564 - output_1_loss: 2.4908 - output_2_loss: 0.3765 - output_3_loss: 0.0310 - output_4_loss: 10.2583 - output_3_precision_2: 0.7083 - output_3_recall_2: 0.2555 - output_3_true_negatives_2: 186525696.0000 - output_3_true_positives_2: 69062.0000 - output_3_false_negatives_2: 201229.0000 - output_3_false_positives_2: 28442.0000 - val_loss: 17.1401 - val_output_1_loss: 1.0104 - val_output_2_loss: 0.2949 - val_output_3_loss: 0.0345 - val_output_4_loss: 10.5444 - val_output_3_precision_2: 0.8711 - val_output_3_recall_2: 0.1857 - val_output_3_true_negatives_2: 7592851.0000 - val_output_3_true_positives_2: 2196.0000 - val_output_3_false_negatives_2: 9628.0000 - val_output_3_false_positives_2: 325.0000\n",
      "Epoch 12/20\n",
      "4607/4607 [==============================] - 593s 129ms/step - loss: 24.8604 - output_1_loss: 2.5392 - output_2_loss: 0.3764 - output_3_loss: 0.0310 - output_4_loss: 10.2204 - output_3_precision_2: 0.7104 - output_3_recall_2: 0.2584 - output_3_true_negatives_2: 186526000.0000 - output_3_true_positives_2: 69830.0000 - output_3_false_negatives_2: 200442.0000 - output_3_false_positives_2: 28465.0000 - val_loss: 17.4357 - val_output_1_loss: 1.0513 - val_output_2_loss: 0.3061 - val_output_3_loss: 0.0346 - val_output_4_loss: 10.5796 - val_output_3_precision_2: 0.8703 - val_output_3_recall_2: 0.1850 - val_output_3_true_negatives_2: 7592850.0000 - val_output_3_true_positives_2: 2187.0000 - val_output_3_false_negatives_2: 9637.0000 - val_output_3_false_positives_2: 326.0000\n",
      "Epoch 13/20\n",
      "4607/4607 [==============================] - 582s 126ms/step - loss: 24.7881 - output_1_loss: 2.5323 - output_2_loss: 0.3759 - output_3_loss: 0.0309 - output_4_loss: 10.1857 - output_3_precision_2: 0.7130 - output_3_recall_2: 0.2610 - output_3_true_negatives_2: 186525744.0000 - output_3_true_positives_2: 70536.0000 - output_3_false_negatives_2: 199768.0000 - output_3_false_positives_2: 28398.0000 - val_loss: 16.9557 - val_output_1_loss: 1.0105 - val_output_2_loss: 0.2928 - val_output_3_loss: 0.0339 - val_output_4_loss: 10.3710 - val_output_3_precision_2: 0.8639 - val_output_3_recall_2: 0.2029 - val_output_3_true_negatives_2: 7592798.0000 - val_output_3_true_positives_2: 2399.0000 - val_output_3_false_negatives_2: 9425.0000 - val_output_3_false_positives_2: 378.0000\n",
      "Epoch 14/20\n",
      "4607/4607 [==============================] - 604s 131ms/step - loss: 24.4315 - output_1_loss: 2.4834 - output_2_loss: 0.3711 - output_3_loss: 0.0306 - output_4_loss: 10.0976 - output_3_precision_2: 0.7134 - output_3_recall_2: 0.2652 - output_3_true_negatives_2: 186525344.0000 - output_3_true_positives_2: 71689.0000 - output_3_false_negatives_2: 198582.0000 - output_3_false_positives_2: 28796.0000 - val_loss: 16.4583 - val_output_1_loss: 0.9570 - val_output_2_loss: 0.2889 - val_output_3_loss: 0.0332 - val_output_4_loss: 10.1627 - val_output_3_precision_2: 0.8609 - val_output_3_recall_2: 0.2042 - val_output_3_true_negatives_2: 7592786.0000 - val_output_3_true_positives_2: 2414.0000 - val_output_3_false_negatives_2: 9410.0000 - val_output_3_false_positives_2: 390.0000\n",
      "Epoch 15/20\n",
      "4607/4607 [==============================] - 635s 138ms/step - loss: 24.3072 - output_1_loss: 2.4684 - output_2_loss: 0.3675 - output_3_loss: 0.0305 - output_4_loss: 10.0663 - output_3_precision_2: 0.7151 - output_3_recall_2: 0.2698 - output_3_true_negatives_2: 186525440.0000 - output_3_true_positives_2: 72925.0000 - output_3_false_negatives_2: 197343.0000 - output_3_false_positives_2: 29052.0000 - val_loss: 16.3925 - val_output_1_loss: 0.9479 - val_output_2_loss: 0.2856 - val_output_3_loss: 0.0333 - val_output_4_loss: 10.1582 - val_output_3_precision_2: 0.8816 - val_output_3_recall_2: 0.2002 - val_output_3_true_negatives_2: 7592858.0000 - val_output_3_true_positives_2: 2367.0000 - val_output_3_false_negatives_2: 9457.0000 - val_output_3_false_positives_2: 318.0000\n",
      "Epoch 16/20\n",
      "4607/4607 [==============================] - 606s 132ms/step - loss: 24.2861 - output_1_loss: 2.4692 - output_2_loss: 0.3726 - output_3_loss: 0.0304 - output_4_loss: 10.0165 - output_3_precision_2: 0.7177 - output_3_recall_2: 0.2713 - output_3_true_negatives_2: 186525408.0000 - output_3_true_positives_2: 73310.0000 - output_3_false_negatives_2: 196893.0000 - output_3_false_positives_2: 28831.0000 - val_loss: 16.3811 - val_output_1_loss: 0.9692 - val_output_2_loss: 0.2845 - val_output_3_loss: 0.0331 - val_output_4_loss: 10.0462 - val_output_3_precision_2: 0.8706 - val_output_3_recall_2: 0.2157 - val_output_3_true_negatives_2: 7592797.0000 - val_output_3_true_positives_2: 2551.0000 - val_output_3_false_negatives_2: 9273.0000 - val_output_3_false_positives_2: 379.0000\n",
      "Epoch 17/20\n",
      "4607/4607 [==============================] - 594s 129ms/step - loss: 81.3787 - output_1_loss: 2.6147 - output_2_loss: 11.5582 - output_3_loss: 0.0315 - output_4_loss: 10.4513 - output_3_precision_2: 0.7052 - output_3_recall_2: 0.2558 - output_3_true_negatives_2: 186525408.0000 - output_3_true_positives_2: 69113.0000 - output_3_false_negatives_2: 201115.0000 - output_3_false_positives_2: 28897.0000 - val_loss: 20.7306 - val_output_1_loss: 1.6008 - val_output_2_loss: 0.3968 - val_output_3_loss: 0.0332 - val_output_4_loss: 10.6763 - val_output_3_precision_2: 0.7896 - val_output_3_recall_2: 0.2097 - val_output_3_true_negatives_2: 7592515.0000 - val_output_3_true_positives_2: 2480.0000 - val_output_3_false_negatives_2: 9344.0000 - val_output_3_false_positives_2: 661.0000\n",
      "Epoch 18/20\n",
      "4607/4607 [==============================] - 611s 133ms/step - loss: 26.7018 - output_1_loss: 2.7312 - output_2_loss: 0.4313 - output_3_loss: 0.0324 - output_4_loss: 10.8241 - output_3_precision_2: 0.6955 - output_3_recall_2: 0.2332 - output_3_true_negatives_2: 186526608.0000 - output_3_true_positives_2: 63029.0000 - output_3_false_negatives_2: 207238.0000 - output_3_false_positives_2: 27599.0000 - val_loss: 17.5633 - val_output_1_loss: 1.1835 - val_output_2_loss: 0.3256 - val_output_3_loss: 0.0314 - val_output_4_loss: 9.9547 - val_output_3_precision_2: 0.8317 - val_output_3_recall_2: 0.2173 - val_output_3_true_negatives_2: 7592656.0000 - val_output_3_true_positives_2: 2569.0000 - val_output_3_false_negatives_2: 9255.0000 - val_output_3_false_positives_2: 520.0000\n",
      "Epoch 19/20\n",
      "4607/4607 [==============================] - 522s 113ms/step - loss: 25.0423 - output_1_loss: 2.5545 - output_2_loss: 0.3898 - output_3_loss: 0.0309 - output_4_loss: 10.2594 - output_3_precision_2: 0.7153 - output_3_recall_2: 0.2575 - output_3_true_negatives_2: 186526704.0000 - output_3_true_positives_2: 69576.0000 - output_3_false_negatives_2: 200617.0000 - output_3_false_positives_2: 27696.0000 - val_loss: 15.7938 - val_output_1_loss: 0.9203 - val_output_2_loss: 0.2925 - val_output_3_loss: 0.0311 - val_output_4_loss: 9.6674 - val_output_3_precision_2: 0.8649 - val_output_3_recall_2: 0.2154 - val_output_3_true_negatives_2: 7592778.0000 - val_output_3_true_positives_2: 2547.0000 - val_output_3_false_negatives_2: 9277.0000 - val_output_3_false_positives_2: 398.0000\n",
      "Epoch 20/20\n",
      "4607/4607 [==============================] - 451s 98ms/step - loss: 23.8987 - output_1_loss: 2.4245 - output_2_loss: 0.3630 - output_3_loss: 0.0300 - output_4_loss: 9.9011 - output_3_precision_2: 0.7241 - output_3_recall_2: 0.2804 - output_3_true_negatives_2: 186525184.0000 - output_3_true_positives_2: 75766.0000 - output_3_false_negatives_2: 194433.0000 - output_3_false_positives_2: 28867.0000 - val_loss: 15.5969 - val_output_1_loss: 0.8771 - val_output_2_loss: 0.2821 - val_output_3_loss: 0.0319 - val_output_4_loss: 9.7367 - val_output_3_precision_2: 0.8611 - val_output_3_recall_2: 0.2280 - val_output_3_true_negatives_2: 7592741.0000 - val_output_3_true_positives_2: 2696.0000 - val_output_3_false_negatives_2: 9128.0000 - val_output_3_false_positives_2: 435.0000\n"
     ]
    }
   ],
   "source": [
    "history = model.fit(train_dataset, epochs=20,validation_data=val_dataset)"
   ]
  },
  {
   "cell_type": "code",
   "execution_count": null,
   "metadata": {},
   "outputs": [],
   "source": []
  },
  {
   "cell_type": "code",
   "execution_count": 20,
   "metadata": {},
   "outputs": [],
   "source": [
    "os.chdir(root_path+\"/json_final_experiment\")\n",
    "import json\n",
    "#json.dumps(str(a))\n",
    "with open('history_finetuning_5521_40_60_epoch_nadam_0dot00001_mse_exp_mse_3anchors_final_experiment_con_data_aug.json', 'w') as fp:\n",
    "    json.dump(str(history.history), fp)"
   ]
  },
  {
   "cell_type": "code",
   "execution_count": 21,
   "metadata": {},
   "outputs": [],
   "source": [
    "model.save_weights(root_path+'/last_weights/pesos_finetuning_5521_40_60_epoch_nadam_0dot00001_mse_exp_mse_3anchors_final_experiment_con_data_aug')"
   ]
  },
  {
   "cell_type": "code",
   "execution_count": null,
   "metadata": {},
   "outputs": [],
   "source": []
  },
  {
   "cell_type": "code",
   "execution_count": null,
   "metadata": {},
   "outputs": [],
   "source": []
  },
  {
   "cell_type": "code",
   "execution_count": 13,
   "metadata": {},
   "outputs": [],
   "source": [
    "os.chdir(\"/home/sergio/Documents/pedestrian_dataset_train_tfr\")"
   ]
  },
  {
   "cell_type": "markdown",
   "metadata": {},
   "source": [
    "## CONTINUACION"
   ]
  },
  {
   "cell_type": "code",
   "execution_count": 14,
   "metadata": {},
   "outputs": [
    {
     "name": "stdout",
     "output_type": "stream",
     "text": [
      "Epoch 1/20\n",
      "4607/4607 [==============================] - 582s 126ms/step - loss: 8.8212 - output_1_loss: 7.3160e-06 - output_2_loss: 0.3153 - output_3_loss: 0.0226 - output_4_loss: 7.1994 - output_3_precision: 0.8232 - output_3_recall: 0.5077 - output_3_true_negatives: 186524448.0000 - output_3_true_positives: 137218.0000 - output_3_false_negatives: 133044.0000 - output_3_false_positives: 29466.0000 - val_loss: 5.3150 - val_output_1_loss: 0.0000e+00 - val_output_2_loss: 0.2074 - val_output_3_loss: 0.0144 - val_output_4_loss: 4.2491 - val_output_3_precision: 0.8998 - val_output_3_recall: 0.7053 - val_output_3_true_negatives: 7592247.0000 - val_output_3_true_positives: 8340.0000 - val_output_3_false_negatives: 3484.0000 - val_output_3_false_positives: 929.0000\n",
      "Epoch 2/20\n",
      "4607/4607 [==============================] - 576s 125ms/step - loss: 8.7506 - output_1_loss: 1.0512e-05 - output_2_loss: 0.3162 - output_3_loss: 0.0223 - output_4_loss: 7.1247 - output_3_precision: 0.8242 - output_3_recall: 0.5132 - output_3_true_negatives: 186524368.0000 - output_3_true_positives: 138692.0000 - output_3_false_negatives: 131541.0000 - output_3_false_positives: 29586.0000 - val_loss: 5.1426 - val_output_1_loss: 0.0000e+00 - val_output_2_loss: 0.2032 - val_output_3_loss: 0.0140 - val_output_4_loss: 4.0986 - val_output_3_precision: 0.8871 - val_output_3_recall: 0.7270 - val_output_3_true_negatives: 7592082.0000 - val_output_3_true_positives: 8596.0000 - val_output_3_false_negatives: 3228.0000 - val_output_3_false_positives: 1094.0000\n",
      "Epoch 3/20\n",
      "4607/4607 [==============================] - 574s 125ms/step - loss: 8.6723 - output_1_loss: 3.3029e-07 - output_2_loss: 0.3109 - output_3_loss: 0.0222 - output_4_loss: 7.0735 - output_3_precision: 0.8254 - output_3_recall: 0.5165 - output_3_true_negatives: 186524352.0000 - output_3_true_positives: 139529.0000 - output_3_false_negatives: 130616.0000 - output_3_false_positives: 29507.0000 - val_loss: 5.0969 - val_output_1_loss: 0.0000e+00 - val_output_2_loss: 0.2098 - val_output_3_loss: 0.0138 - val_output_4_loss: 4.0201 - val_output_3_precision: 0.8974 - val_output_3_recall: 0.7230 - val_output_3_true_negatives: 7592199.0000 - val_output_3_true_positives: 8549.0000 - val_output_3_false_negatives: 3275.0000 - val_output_3_false_positives: 977.0000\n",
      "Epoch 4/20\n",
      "4607/4607 [==============================] - 559s 121ms/step - loss: 8.5993 - output_1_loss: 2.6926e-07 - output_2_loss: 0.3047 - output_3_loss: 0.0220 - output_4_loss: 7.0319 - output_3_precision: 0.8270 - output_3_recall: 0.5198 - output_3_true_negatives: 186524608.0000 - output_3_true_positives: 140486.0000 - output_3_false_negatives: 129766.0000 - output_3_false_positives: 29383.0000 - val_loss: 4.9817 - val_output_1_loss: 0.0000e+00 - val_output_2_loss: 0.2025 - val_output_3_loss: 0.0135 - val_output_4_loss: 3.9422 - val_output_3_precision: 0.8893 - val_output_3_recall: 0.7430 - val_output_3_true_negatives: 7592082.0000 - val_output_3_true_positives: 8785.0000 - val_output_3_false_negatives: 3039.0000 - val_output_3_false_positives: 1094.0000\n",
      "Epoch 5/20\n",
      "4607/4607 [==============================] - 579s 126ms/step - loss: 8.6169 - output_1_loss: 1.3953e-05 - output_2_loss: 0.3122 - output_3_loss: 0.0220 - output_4_loss: 7.0116 - output_3_precision: 0.8285 - output_3_recall: 0.5238 - output_3_true_negatives: 186525184.0000 - output_3_true_positives: 141523.0000 - output_3_false_negatives: 128659.0000 - output_3_false_positives: 29299.0000 - val_loss: 5.1029 - val_output_1_loss: 0.0000e+00 - val_output_2_loss: 0.2056 - val_output_3_loss: 0.0139 - val_output_4_loss: 4.0473 - val_output_3_precision: 0.8909 - val_output_3_recall: 0.7312 - val_output_3_true_negatives: 7592117.0000 - val_output_3_true_positives: 8646.0000 - val_output_3_false_negatives: 3178.0000 - val_output_3_false_positives: 1059.0000\n",
      "Epoch 6/20\n",
      "4607/4607 [==============================] - 581s 126ms/step - loss: 8.4804 - output_1_loss: 2.1438e-06 - output_2_loss: 0.2999 - output_3_loss: 0.0217 - output_4_loss: 6.9377 - output_3_precision: 0.8319 - output_3_recall: 0.5280 - output_3_true_negatives: 186525744.0000 - output_3_true_positives: 142634.0000 - output_3_false_negatives: 127488.0000 - output_3_false_positives: 28814.0000 - val_loss: 4.7968 - val_output_1_loss: 0.0000e+00 - val_output_2_loss: 0.2029 - val_output_3_loss: 0.0129 - val_output_4_loss: 3.7564 - val_output_3_precision: 0.9017 - val_output_3_recall: 0.7450 - val_output_3_true_negatives: 7592216.0000 - val_output_3_true_positives: 8809.0000 - val_output_3_false_negatives: 3015.0000 - val_output_3_false_positives: 960.0000\n",
      "Epoch 7/20\n",
      "4607/4607 [==============================] - 581s 126ms/step - loss: 8.4642 - output_1_loss: 1.4308e-05 - output_2_loss: 0.3019 - output_3_loss: 0.0216 - output_4_loss: 6.9112 - output_3_precision: 0.8322 - output_3_recall: 0.5317 - output_3_true_negatives: 186525376.0000 - output_3_true_positives: 143618.0000 - output_3_false_negatives: 126518.0000 - output_3_false_positives: 28949.0000 - val_loss: 4.8699 - val_output_1_loss: 0.0000e+00 - val_output_2_loss: 0.2014 - val_output_3_loss: 0.0132 - val_output_4_loss: 3.8367 - val_output_3_precision: 0.8833 - val_output_3_recall: 0.7512 - val_output_3_true_negatives: 7592002.0000 - val_output_3_true_positives: 8882.0000 - val_output_3_false_negatives: 2942.0000 - val_output_3_false_positives: 1174.0000\n",
      "Epoch 8/20\n",
      "4607/4607 [==============================] - 580s 126ms/step - loss: 8.3991 - output_1_loss: 7.7589e-07 - output_2_loss: 0.2980 - output_3_loss: 0.0215 - output_4_loss: 6.8661 - output_3_precision: 0.8323 - output_3_recall: 0.5340 - output_3_true_negatives: 186524976.0000 - output_3_true_positives: 144304.0000 - output_3_false_negatives: 125905.0000 - output_3_false_positives: 29085.0000 - val_loss: 4.8458 - val_output_1_loss: 0.0000e+00 - val_output_2_loss: 0.2081 - val_output_3_loss: 0.0128 - val_output_4_loss: 3.7795 - val_output_3_precision: 0.8886 - val_output_3_recall: 0.7674 - val_output_3_true_negatives: 7592038.0000 - val_output_3_true_positives: 9074.0000 - val_output_3_false_negatives: 2750.0000 - val_output_3_false_positives: 1138.0000\n",
      "Epoch 9/20\n",
      "4607/4607 [==============================] - 578s 125ms/step - loss: 8.3533 - output_1_loss: 3.5748e-07 - output_2_loss: 0.2987 - output_3_loss: 0.0214 - output_4_loss: 6.8168 - output_3_precision: 0.8358 - output_3_recall: 0.5398 - output_3_true_negatives: 186525216.0000 - output_3_true_positives: 145920.0000 - output_3_false_negatives: 124398.0000 - output_3_false_positives: 28665.0000 - val_loss: 4.6268 - val_output_1_loss: 0.0000e+00 - val_output_2_loss: 0.1927 - val_output_3_loss: 0.0124 - val_output_4_loss: 3.6385 - val_output_3_precision: 0.9025 - val_output_3_recall: 0.7683 - val_output_3_true_negatives: 7592195.0000 - val_output_3_true_positives: 9084.0000 - val_output_3_false_negatives: 2740.0000 - val_output_3_false_positives: 981.0000\n",
      "Epoch 10/20\n",
      "4607/4607 [==============================] - 559s 121ms/step - loss: 8.3873 - output_1_loss: 2.4545e-07 - output_2_loss: 0.3062 - output_3_loss: 0.0213 - output_4_loss: 6.8139 - output_3_precision: 0.8350 - output_3_recall: 0.5393 - output_3_true_negatives: 186525088.0000 - output_3_true_positives: 145788.0000 - output_3_false_negatives: 124518.0000 - output_3_false_positives: 28815.0000 - val_loss: 4.7114 - val_output_1_loss: 0.0000e+00 - val_output_2_loss: 0.1946 - val_output_3_loss: 0.0126 - val_output_4_loss: 3.7131 - val_output_3_precision: 0.8853 - val_output_3_recall: 0.7740 - val_output_3_true_negatives: 7591990.0000 - val_output_3_true_positives: 9152.0000 - val_output_3_false_negatives: 2672.0000 - val_output_3_false_positives: 1186.0000\n",
      "Epoch 11/20\n",
      "4607/4607 [==============================] - 586s 127ms/step - loss: 8.3661 - output_1_loss: 7.5379e-06 - output_2_loss: 0.3098 - output_3_loss: 0.0213 - output_4_loss: 6.7747 - output_3_precision: 0.8370 - output_3_recall: 0.5442 - output_3_true_negatives: 186525888.0000 - output_3_true_positives: 147049.0000 - output_3_false_negatives: 123142.0000 - output_3_false_positives: 28643.0000 - val_loss: 4.5935 - val_output_1_loss: 0.0000e+00 - val_output_2_loss: 0.1920 - val_output_3_loss: 0.0123 - val_output_4_loss: 3.6089 - val_output_3_precision: 0.8925 - val_output_3_recall: 0.7886 - val_output_3_true_negatives: 7592053.0000 - val_output_3_true_positives: 9324.0000 - val_output_3_false_negatives: 2500.0000 - val_output_3_false_positives: 1123.0000\n",
      "Epoch 12/20\n",
      "4607/4607 [==============================] - 588s 128ms/step - loss: 8.2102 - output_1_loss: 2.3169e-07 - output_2_loss: 0.2903 - output_3_loss: 0.0210 - output_4_loss: 6.7168 - output_3_precision: 0.8381 - output_3_recall: 0.5489 - output_3_true_negatives: 186525264.0000 - output_3_true_positives: 148357.0000 - output_3_false_negatives: 121937.0000 - output_3_false_positives: 28652.0000 - val_loss: 4.4494 - val_output_1_loss: 0.0000e+00 - val_output_2_loss: 0.1939 - val_output_3_loss: 0.0117 - val_output_4_loss: 3.4562 - val_output_3_precision: 0.9065 - val_output_3_recall: 0.7728 - val_output_3_true_negatives: 7592233.0000 - val_output_3_true_positives: 9138.0000 - val_output_3_false_negatives: 2686.0000 - val_output_3_false_positives: 943.0000\n",
      "Epoch 13/20\n",
      "4607/4607 [==============================] - 574s 125ms/step - loss: 8.2296 - output_1_loss: 4.7083e-06 - output_2_loss: 0.3005 - output_3_loss: 0.0208 - output_4_loss: 6.6856 - output_3_precision: 0.8396 - output_3_recall: 0.5500 - output_3_true_negatives: 186525888.0000 - output_3_true_positives: 148616.0000 - output_3_false_negatives: 121581.0000 - output_3_false_positives: 28386.0000 - val_loss: 4.3257 - val_output_1_loss: 0.0000e+00 - val_output_2_loss: 0.1891 - val_output_3_loss: 0.0115 - val_output_4_loss: 3.3572 - val_output_3_precision: 0.9064 - val_output_3_recall: 0.7895 - val_output_3_true_negatives: 7592212.0000 - val_output_3_true_positives: 9335.0000 - val_output_3_false_negatives: 2489.0000 - val_output_3_false_positives: 964.0000\n",
      "Epoch 14/20\n",
      "4607/4607 [==============================] - 562s 122ms/step - loss: 8.1283 - output_1_loss: 5.2536e-07 - output_2_loss: 0.2922 - output_3_loss: 0.0207 - output_4_loss: 6.6259 - output_3_precision: 0.8404 - output_3_recall: 0.5550 - output_3_true_negatives: 186525824.0000 - output_3_true_positives: 149988.0000 - output_3_false_negatives: 120284.0000 - output_3_false_positives: 28478.0000 - val_loss: 4.2328 - val_output_1_loss: 0.0000e+00 - val_output_2_loss: 0.1927 - val_output_3_loss: 0.0112 - val_output_4_loss: 3.2468 - val_output_3_precision: 0.9041 - val_output_3_recall: 0.7967 - val_output_3_true_negatives: 7592177.0000 - val_output_3_true_positives: 9420.0000 - val_output_3_false_negatives: 2404.0000 - val_output_3_false_positives: 999.0000\n",
      "Epoch 15/20\n",
      "4607/4607 [==============================] - 579s 126ms/step - loss: 8.1800 - output_1_loss: 1.7150e-06 - output_2_loss: 0.2964 - output_3_loss: 0.0208 - output_4_loss: 6.6565 - output_3_precision: 0.8419 - output_3_recall: 0.5538 - output_3_true_negatives: 186526080.0000 - output_3_true_positives: 149762.0000 - output_3_false_negatives: 120652.0000 - output_3_false_positives: 28128.0000 - val_loss: 4.3726 - val_output_1_loss: 0.0000e+00 - val_output_2_loss: 0.1899 - val_output_3_loss: 0.0115 - val_output_4_loss: 3.4003 - val_output_3_precision: 0.9008 - val_output_3_recall: 0.7901 - val_output_3_true_negatives: 7592147.0000 - val_output_3_true_positives: 9342.0000 - val_output_3_false_negatives: 2482.0000 - val_output_3_false_positives: 1029.0000\n",
      "Epoch 16/20\n",
      "4607/4607 [==============================] - 565s 123ms/step - loss: 8.1386 - output_1_loss: 3.6460e-07 - output_2_loss: 0.2977 - output_3_loss: 0.0206 - output_4_loss: 6.6089 - output_3_precision: 0.8421 - output_3_recall: 0.5571 - output_3_true_negatives: 186526032.0000 - output_3_true_positives: 150542.0000 - output_3_false_negatives: 119697.0000 - output_3_false_positives: 28232.0000 - val_loss: 4.3593 - val_output_1_loss: 0.0000e+00 - val_output_2_loss: 0.1900 - val_output_3_loss: 0.0114 - val_output_4_loss: 3.3865 - val_output_3_precision: 0.8894 - val_output_3_recall: 0.8046 - val_output_3_true_negatives: 7591993.0000 - val_output_3_true_positives: 9514.0000 - val_output_3_false_negatives: 2310.0000 - val_output_3_false_positives: 1183.0000\n",
      "Epoch 17/20\n",
      "4607/4607 [==============================] - 576s 125ms/step - loss: 8.1154 - output_1_loss: 3.9200e-06 - output_2_loss: 0.2996 - output_3_loss: 0.0205 - output_4_loss: 6.5762 - output_3_precision: 0.8445 - output_3_recall: 0.5598 - output_3_true_negatives: 186526336.0000 - output_3_true_positives: 151312.0000 - output_3_false_negatives: 119002.0000 - output_3_false_positives: 27860.0000 - val_loss: 4.3130 - val_output_1_loss: 0.0000e+00 - val_output_2_loss: 0.1873 - val_output_3_loss: 0.0113 - val_output_4_loss: 3.3540 - val_output_3_precision: 0.8973 - val_output_3_recall: 0.8093 - val_output_3_true_negatives: 7592081.0000 - val_output_3_true_positives: 9569.0000 - val_output_3_false_negatives: 2255.0000 - val_output_3_false_positives: 1095.0000\n",
      "Epoch 18/20\n",
      "4607/4607 [==============================] - 575s 125ms/step - loss: 7.9569 - output_1_loss: 1.6687e-06 - output_2_loss: 0.2878 - output_3_loss: 0.0202 - output_4_loss: 6.4773 - output_3_precision: 0.8472 - output_3_recall: 0.5668 - output_3_true_negatives: 186526512.0000 - output_3_true_positives: 153182.0000 - output_3_false_negatives: 117075.0000 - output_3_false_positives: 27638.0000 - val_loss: 4.1355 - val_output_1_loss: 4.0181e-07 - val_output_2_loss: 0.1837 - val_output_3_loss: 0.0108 - val_output_4_loss: 3.1952 - val_output_3_precision: 0.9061 - val_output_3_recall: 0.8113 - val_output_3_true_negatives: 7592182.0000 - val_output_3_true_positives: 9593.0000 - val_output_3_false_negatives: 2231.0000 - val_output_3_false_positives: 994.0000\n",
      "Epoch 19/20\n",
      "4607/4607 [==============================] - 598s 130ms/step - loss: 7.9382 - output_1_loss: 4.1452e-06 - output_2_loss: 0.2786 - output_3_loss: 0.0203 - output_4_loss: 6.5045 - output_3_precision: 0.8461 - output_3_recall: 0.5669 - output_3_true_negatives: 186525872.0000 - output_3_true_positives: 153190.0000 - output_3_false_negatives: 117037.0000 - output_3_false_positives: 27857.0000 - val_loss: 4.2012 - val_output_1_loss: 0.0000e+00 - val_output_2_loss: 0.1858 - val_output_3_loss: 0.0110 - val_output_4_loss: 3.2500 - val_output_3_precision: 0.9148 - val_output_3_recall: 0.7953 - val_output_3_true_negatives: 7592300.0000 - val_output_3_true_positives: 9404.0000 - val_output_3_false_negatives: 2420.0000 - val_output_3_false_positives: 876.0000\n",
      "Epoch 20/20\n",
      "4607/4607 [==============================] - 606s 132ms/step - loss: 7.9299 - output_1_loss: 5.8917e-07 - output_2_loss: 0.2837 - output_3_loss: 0.0202 - output_4_loss: 6.4708 - output_3_precision: 0.8483 - output_3_recall: 0.5683 - output_3_true_negatives: 186526528.0000 - output_3_true_positives: 153560.0000 - output_3_false_negatives: 116626.0000 - output_3_false_positives: 27452.0000 - val_loss: 3.8616 - val_output_1_loss: 3.6984e-06 - val_output_2_loss: 0.1786 - val_output_3_loss: 0.0100 - val_output_4_loss: 2.9488 - val_output_3_precision: 0.9168 - val_output_3_recall: 0.8212 - val_output_3_true_negatives: 7592295.0000 - val_output_3_true_positives: 9710.0000 - val_output_3_false_negatives: 2114.0000 - val_output_3_false_positives: 881.0000\n"
     ]
    }
   ],
   "source": [
    "history = model.fit(train_dataset, epochs=20,validation_data=val_dataset)"
   ]
  },
  {
   "cell_type": "code",
   "execution_count": null,
   "metadata": {},
   "outputs": [],
   "source": []
  },
  {
   "cell_type": "code",
   "execution_count": 10,
   "metadata": {},
   "outputs": [],
   "source": [
    "os.chdir(\"/home/sergio/Documents/json_experiments\")\n",
    "import json\n",
    "#json.dumps(str(a))\n",
    "with open('history_finetuning_5521_50_70_epoch_nadam_0dot00001_msle_exp_mse_3anchors.json', 'w') as fp:\n",
    "    json.dump(str(history.history), fp)"
   ]
  },
  {
   "cell_type": "code",
   "execution_count": 11,
   "metadata": {},
   "outputs": [],
   "source": [
    "model.save_weights('/home/sergio/Documents/weights_saved/pesos_finetuning_5521_50_70_epoch_nadam_0dot00001_msle_exp_mse_3anchors')"
   ]
  },
  {
   "cell_type": "code",
   "execution_count": null,
   "metadata": {},
   "outputs": [],
   "source": []
  },
  {
   "cell_type": "markdown",
   "metadata": {},
   "source": [
    "## CONTINUACION DESPUES DE LA EPOCA 50 PERO CON MENOR LR"
   ]
  },
  {
   "cell_type": "code",
   "execution_count": null,
   "metadata": {},
   "outputs": [],
   "source": []
  },
  {
   "cell_type": "code",
   "execution_count": 6,
   "metadata": {},
   "outputs": [
    {
     "name": "stdout",
     "output_type": "stream",
     "text": [
      "Modo entrenamiento\n"
     ]
    },
    {
     "data": {
      "text/plain": [
       "<tensorflow.python.training.tracking.util.CheckpointLoadStatus at 0x7f9ba4abd710>"
      ]
     },
     "execution_count": 6,
     "metadata": {},
     "output_type": "execute_result"
    }
   ],
   "source": [
    "anchors =tf.constant(np.array([[0,0,0.02078,0.049],[0,0,0.0426,0.128],[0,0,0.08523,0.19356],[0,0,0.1506,0.4163],[0,0,0.27835,0.58651],[0,0,0.5632,0.78614]]),dtype=tf.float32)\n",
    "model = TinyYOLOv3(1,anchor_boxes=anchors,train=True,mode = \"finetuning\")\n",
    "model.build(batch_input_shape=(None,416,416,3))\n",
    "#print(model.load_weights_darknet(\"/home/sergio/TinyYOLOv3-Pedestrian-Detection/yolov3-tiny.weights\"))\n",
    "model.load_weights('/home/sergio/Documents/weights_saved/pesos_finetuning_5521_30_50_epoch_nadam_0dot00001_msle_exp_mse_3anchors')"
   ]
  },
  {
   "cell_type": "code",
   "execution_count": 7,
   "metadata": {},
   "outputs": [
    {
     "name": "stdout",
     "output_type": "stream",
     "text": [
      "BasicBlock1 True\n",
      "BasicBlock2 True\n",
      "BasicBlock3 True\n",
      "BasicBlock4 True\n",
      "BasicBlock5 True\n",
      "BasicBlock6 True\n",
      "BasicBlock7 True\n",
      "BasicBlock8 True\n",
      "BasicBlock9 True\n",
      "FinalBlock1 True\n",
      "BasicBlock11 True\n",
      "BasicBlock12 True\n",
      "FinalBlock2 True\n",
      "Concatenate True\n",
      "Upsampling True\n",
      "Prediction1 True\n",
      "Prediction2 True\n",
      "Concatenate_BBOX True\n"
     ]
    }
   ],
   "source": [
    "for l in model.layers:\n",
    "    print(l.name, l.trainable)\n",
    "    pass"
   ]
  },
  {
   "cell_type": "code",
   "execution_count": 8,
   "metadata": {},
   "outputs": [],
   "source": [
    "tf.random.set_seed(0)\n",
    "\n",
    "from tensorflow.keras.metrics import TrueNegatives,TruePositives,FalseNegatives,FalsePositives,Precision,Recall\n",
    "\n",
    "opt = tf.keras.optimizers.Nadam(learning_rate=1e-5)\n",
    "\n",
    "losses = {\"output_1\": loss_xy,\n",
    "          \"output_2\": loss_wh,\n",
    "          \"output_3\":loss_objectness,\n",
    "          \"output_4\":loss_no_objectness  \n",
    "}\n",
    "\n",
    "metrics = {\"output_3\":[Precision(0.5),Recall(0.5),TrueNegatives(0.5),TruePositives(0.5),FalseNegatives(0.5),FalsePositives(0.5)]}\n",
    "model.compile(optimizer=opt, loss=losses,metrics=metrics,loss_weights=[5,5,2,1])\n",
    "os.chdir(\"/home/sergio/Documents/pedestrian_dataset_train_tfr\")"
   ]
  },
  {
   "cell_type": "code",
   "execution_count": 9,
   "metadata": {},
   "outputs": [
    {
     "name": "stdout",
     "output_type": "stream",
     "text": [
      "Modo entrenamiento\n",
      "Epoch 1/20\n",
      "Modo entrenamiento\n",
      "Modo entrenamiento\n",
      "   4607/Unknown - 582s 126ms/step - loss: 8.7700 - output_1_loss: 1.7040e-08 - output_2_loss: 0.3105 - output_3_loss: 0.0225 - output_4_loss: 7.1724 - output_3_precision: 0.8223 - output_3_recall: 0.5098 - output_3_true_negatives: 186524256.0000 - output_3_true_positives: 137724.0000 - output_3_false_negatives: 132440.0000 - output_3_false_positives: 29772.0000- 574s 126ms/step - loss: 8.7613 - output_1_loss: 1.7250e-08 - output_2_loss: 0.3101 - output_3_loss: 0.0224 - output_4_loss: 7.1660 - output_3_precision: 0.8221 - output_3_recall: 0.5098 - output_3_true_negatives: 184292224.0000 - output_3_true_positives: 135931.0000 - output_3_false_negatModo entrenamiento\n",
      "4607/4607 [==============================] - 590s 128ms/step - loss: 8.7700 - output_1_loss: 1.7040e-08 - output_2_loss: 0.3105 - output_3_loss: 0.0225 - output_4_loss: 7.1724 - output_3_precision: 0.8223 - output_3_recall: 0.5098 - output_3_true_negatives: 186524256.0000 - output_3_true_positives: 137724.0000 - output_3_false_negatives: 132440.0000 - output_3_false_positives: 29772.0000 - val_loss: 5.3353 - val_output_1_loss: 0.0000e+00 - val_output_2_loss: 0.2054 - val_output_3_loss: 0.0145 - val_output_4_loss: 4.2793 - val_output_3_precision: 0.8851 - val_output_3_recall: 0.7163 - val_output_3_true_negatives: 7592077.0000 - val_output_3_true_positives: 8470.0000 - val_output_3_false_negatives: 3354.0000 - val_output_3_false_positives: 1099.0000\n",
      "Epoch 2/20\n",
      "4607/4607 [==============================] - 586s 127ms/step - loss: 8.7017 - output_1_loss: 1.0859e-06 - output_2_loss: 0.3136 - output_3_loss: 0.0222 - output_4_loss: 7.0894 - output_3_precision: 0.8277 - output_3_recall: 0.5163 - output_3_true_negatives: 186525200.0000 - output_3_true_positives: 139546.0000 - output_3_false_negatives: 130752.0000 - output_3_false_positives: 29040.0000 - val_loss: 5.0662 - val_output_1_loss: 0.0000e+00 - val_output_2_loss: 0.2078 - val_output_3_loss: 0.0138 - val_output_4_loss: 3.9997 - val_output_3_precision: 0.8850 - val_output_3_recall: 0.7287 - val_output_3_true_negatives: 7592056.0000 - val_output_3_true_positives: 8616.0000 - val_output_3_false_negatives: 3208.0000 - val_output_3_false_positives: 1120.0000\n",
      "Epoch 3/20\n",
      "4607/4607 [==============================] - 584s 127ms/step - loss: 8.6101 - output_1_loss: 1.9664e-06 - output_2_loss: 0.3019 - output_3_loss: 0.0220 - output_4_loss: 7.0565 - output_3_precision: 0.8276 - output_3_recall: 0.5194 - output_3_true_negatives: 186525152.0000 - output_3_true_positives: 140319.0000 - output_3_false_negatives: 129856.0000 - output_3_false_positives: 29236.0000 - val_loss: 5.0105 - val_output_1_loss: 0.0000e+00 - val_output_2_loss: 0.2030 - val_output_3_loss: 0.0135 - val_output_4_loss: 3.9686 - val_output_3_precision: 0.8813 - val_output_3_recall: 0.7465 - val_output_3_true_negatives: 7591987.0000 - val_output_3_true_positives: 8827.0000 - val_output_3_false_negatives: 2997.0000 - val_output_3_false_positives: 1189.0000\n",
      "Epoch 4/20\n",
      "4607/4607 [==============================] - 585s 127ms/step - loss: 8.8712 - output_1_loss: 1.4038e-05 - output_2_loss: 0.3439 - output_3_loss: 0.0223 - output_4_loss: 7.1071 - output_3_precision: 0.8262 - output_3_recall: 0.5159 - output_3_true_negatives: 186524576.0000 - output_3_true_positives: 139435.0000 - output_3_false_negatives: 130856.0000 - output_3_false_positives: 29324.0000 - val_loss: 6.3172 - val_output_1_loss: 0.0000e+00 - val_output_2_loss: 0.2355 - val_output_3_loss: 0.0168 - val_output_4_loss: 5.1061 - val_output_3_precision: 0.8779 - val_output_3_recall: 0.6322 - val_output_3_true_negatives: 7592136.0000 - val_output_3_true_positives: 7475.0000 - val_output_3_false_negatives: 4349.0000 - val_output_3_false_positives: 1040.0000\n",
      "Epoch 5/20\n",
      "4607/4607 [==============================] - 601s 130ms/step - loss: 8.5810 - output_1_loss: 1.5764e-05 - output_2_loss: 0.3031 - output_3_loss: 0.0219 - output_4_loss: 7.0216 - output_3_precision: 0.8288 - output_3_recall: 0.5221 - output_3_true_negatives: 186525360.0000 - output_3_true_positives: 141045.0000 - output_3_false_negatives: 129099.0000 - output_3_false_positives: 29143.0000 - val_loss: 4.9268 - val_output_1_loss: 0.0000e+00 - val_output_2_loss: 0.2012 - val_output_3_loss: 0.0134 - val_output_4_loss: 3.8939 - val_output_3_precision: 0.8909 - val_output_3_recall: 0.7459 - val_output_3_true_negatives: 7592096.0000 - val_output_3_true_positives: 8819.0000 - val_output_3_false_negatives: 3005.0000 - val_output_3_false_positives: 1080.0000\n",
      "Epoch 6/20\n",
      "4607/4607 [==============================] - 604s 131ms/step - loss: 8.4379 - output_1_loss: 2.1332e-06 - output_2_loss: 0.2947 - output_3_loss: 0.0217 - output_4_loss: 6.9211 - output_3_precision: 0.8318 - output_3_recall: 0.5303 - output_3_true_negatives: 186525056.0000 - output_3_true_positives: 143309.0000 - output_3_false_negatives: 126930.0000 - output_3_false_positives: 28979.0000 - val_loss: 5.0813 - val_output_1_loss: 0.0000e+00 - val_output_2_loss: 0.2076 - val_output_3_loss: 0.0138 - val_output_4_loss: 4.0155 - val_output_3_precision: 0.8843 - val_output_3_recall: 0.7490 - val_output_3_true_negatives: 7592017.0000 - val_output_3_true_positives: 8856.0000 - val_output_3_false_negatives: 2968.0000 - val_output_3_false_positives: 1159.0000\n",
      "Epoch 7/20\n",
      "4607/4607 [==============================] - 607s 132ms/step - loss: 8.3770 - output_1_loss: 2.1123e-06 - output_2_loss: 0.2971 - output_3_loss: 0.0213 - output_4_loss: 6.8487 - output_3_precision: 0.8326 - output_3_recall: 0.5355 - output_3_true_negatives: 186525504.0000 - output_3_true_positives: 144709.0000 - output_3_false_negatives: 125523.0000 - output_3_false_positives: 29103.0000 - val_loss: 4.7331 - val_output_1_loss: 0.0000e+00 - val_output_2_loss: 0.1983 - val_output_3_loss: 0.0127 - val_output_4_loss: 3.7163 - val_output_3_precision: 0.8879 - val_output_3_recall: 0.7700 - val_output_3_true_negatives: 7592027.0000 - val_output_3_true_positives: 9105.0000 - val_output_3_false_negatives: 2719.0000 - val_output_3_false_positives: 1149.0000\n",
      "Epoch 8/20\n",
      "4607/4607 [==============================] - 592s 128ms/step - loss: 8.4498 - output_1_loss: 8.6999e-06 - output_2_loss: 0.3039 - output_3_loss: 0.0215 - output_4_loss: 6.8872 - output_3_precision: 0.8323 - output_3_recall: 0.5336 - output_3_true_negatives: 186524992.0000 - output_3_true_positives: 144170.0000 - output_3_false_negatives: 126005.0000 - output_3_false_positives: 29054.0000 - val_loss: 4.7545 - val_output_1_loss: 0.0000e+00 - val_output_2_loss: 0.2049 - val_output_3_loss: 0.0126 - val_output_4_loss: 3.7049 - val_output_3_precision: 0.8907 - val_output_3_recall: 0.7565 - val_output_3_true_negatives: 7592078.0000 - val_output_3_true_positives: 8945.0000 - val_output_3_false_negatives: 2879.0000 - val_output_3_false_positives: 1098.0000\n",
      "Epoch 9/20\n",
      "4607/4607 [==============================] - 601s 130ms/step - loss: 8.3861 - output_1_loss: 2.5136e-06 - output_2_loss: 0.3007 - output_3_loss: 0.0214 - output_4_loss: 6.8400 - output_3_precision: 0.8341 - output_3_recall: 0.5373 - output_3_true_negatives: 186525440.0000 - output_3_true_positives: 145191.0000 - output_3_false_negatives: 125020.0000 - output_3_false_positives: 28881.0000 - val_loss: 4.7159 - val_output_1_loss: 0.0000e+00 - val_output_2_loss: 0.1964 - val_output_3_loss: 0.0125 - val_output_4_loss: 3.7087 - val_output_3_precision: 0.8864 - val_output_3_recall: 0.7870 - val_output_3_true_negatives: 7591983.0000 - val_output_3_true_positives: 9306.0000 - val_output_3_false_negatives: 2518.0000 - val_output_3_false_positives: 1193.0000\n",
      "Epoch 10/20\n",
      "4607/4607 [==============================] - 588s 128ms/step - loss: 8.4105 - output_1_loss: 0.0000e+00 - output_2_loss: 0.3084 - output_3_loss: 0.0213 - output_4_loss: 6.8260 - output_3_precision: 0.8347 - output_3_recall: 0.5397 - output_3_true_negatives: 186525088.0000 - output_3_true_positives: 145887.0000 - output_3_false_negatives: 124434.0000 - output_3_false_positives: 28897.0000 - val_loss: 4.5181 - val_output_1_loss: 0.0000e+00 - val_output_2_loss: 0.1942 - val_output_3_loss: 0.0120 - val_output_4_loss: 3.5231 - val_output_3_precision: 0.9077 - val_output_3_recall: 0.7726 - val_output_3_true_negatives: 7592247.0000 - val_output_3_true_positives: 9135.0000 - val_output_3_false_negatives: 2689.0000 - val_output_3_false_positives: 929.0000\n",
      "Epoch 11/20\n",
      "4607/4607 [==============================] - 583s 127ms/step - loss: 8.3187 - output_1_loss: 1.1415e-06 - output_2_loss: 0.3017 - output_3_loss: 0.0211 - output_4_loss: 6.7681 - output_3_precision: 0.8369 - output_3_recall: 0.5441 - output_3_true_negatives: 186525632.0000 - output_3_true_positives: 147019.0000 - output_3_false_negatives: 123202.0000 - output_3_false_positives: 28661.0000 - val_loss: 4.4566 - val_output_1_loss: 0.0000e+00 - val_output_2_loss: 0.1931 - val_output_3_loss: 0.0118 - val_output_4_loss: 3.4673 - val_output_3_precision: 0.9036 - val_output_3_recall: 0.7796 - val_output_3_true_negatives: 7592193.0000 - val_output_3_true_positives: 9218.0000 - val_output_3_false_negatives: 2606.0000 - val_output_3_false_positives: 983.0000\n",
      "Epoch 12/20\n",
      "4607/4607 [==============================] - 574s 125ms/step - loss: 8.2467 - output_1_loss: 2.8742e-06 - output_2_loss: 0.2949 - output_3_loss: 0.0211 - output_4_loss: 6.7302 - output_3_precision: 0.8398 - output_3_recall: 0.5475 - output_3_true_negatives: 186526048.0000 - output_3_true_positives: 147966.0000 - output_3_false_negatives: 122282.0000 - output_3_false_positives: 28233.0000 - val_loss: 4.4719 - val_output_1_loss: 0.0000e+00 - val_output_2_loss: 0.1917 - val_output_3_loss: 0.0119 - val_output_4_loss: 3.4897 - val_output_3_precision: 0.8937 - val_output_3_recall: 0.7857 - val_output_3_true_negatives: 7592071.0000 - val_output_3_true_positives: 9290.0000 - val_output_3_false_negatives: 2534.0000 - val_output_3_false_positives: 1105.0000\n",
      "Epoch 13/20\n",
      "4607/4607 [==============================] - 587s 127ms/step - loss: 8.1982 - output_1_loss: 1.5104e-07 - output_2_loss: 0.2929 - output_3_loss: 0.0209 - output_4_loss: 6.6917 - output_3_precision: 0.8408 - output_3_recall: 0.5494 - output_3_true_negatives: 186526144.0000 - output_3_true_positives: 148450.0000 - output_3_false_negatives: 121759.0000 - output_3_false_positives: 28110.0000 - val_loss: 4.4457 - val_output_1_loss: 0.0000e+00 - val_output_2_loss: 0.1918 - val_output_3_loss: 0.0117 - val_output_4_loss: 3.4633 - val_output_3_precision: 0.8820 - val_output_3_recall: 0.8067 - val_output_3_true_negatives: 7591900.0000 - val_output_3_true_positives: 9539.0000 - val_output_3_false_negatives: 2285.0000 - val_output_3_false_positives: 1276.0000\n",
      "Epoch 14/20\n",
      "4607/4607 [==============================] - 547s 119ms/step - loss: 8.1992 - output_1_loss: 2.6982e-06 - output_2_loss: 0.3006 - output_3_loss: 0.0208 - output_4_loss: 6.6546 - output_3_precision: 0.8411 - output_3_recall: 0.5525 - output_3_true_negatives: 186525824.0000 - output_3_true_positives: 149331.0000 - output_3_false_negatives: 120973.0000 - output_3_false_positives: 28207.0000 - val_loss: 4.3740 - val_output_1_loss: 0.0000e+00 - val_output_2_loss: 0.1866 - val_output_3_loss: 0.0115 - val_output_4_loss: 3.4182 - val_output_3_precision: 0.9053 - val_output_3_recall: 0.7794 - val_output_3_true_negatives: 7592212.0000 - val_output_3_true_positives: 9216.0000 - val_output_3_false_negatives: 2608.0000 - val_output_3_false_positives: 964.0000\n",
      "Epoch 15/20\n",
      "4607/4607 [==============================] - 569s 124ms/step - loss: 8.2297 - output_1_loss: 9.9456e-06 - output_2_loss: 0.3107 - output_3_loss: 0.0206 - output_4_loss: 6.6351 - output_3_precision: 0.8420 - output_3_recall: 0.5561 - output_3_true_negatives: 186525760.0000 - output_3_true_positives: 150309.0000 - output_3_false_negatives: 119979.0000 - output_3_false_positives: 28207.0000 - val_loss: 4.2950 - val_output_1_loss: 0.0000e+00 - val_output_2_loss: 0.1879 - val_output_3_loss: 0.0114 - val_output_4_loss: 3.3329 - val_output_3_precision: 0.9031 - val_output_3_recall: 0.7970 - val_output_3_true_negatives: 7592165.0000 - val_output_3_true_positives: 9424.0000 - val_output_3_false_negatives: 2400.0000 - val_output_3_false_positives: 1011.0000\n",
      "Epoch 16/20\n",
      "4607/4607 [==============================] - 567s 123ms/step - loss: 8.0944 - output_1_loss: 4.0059e-09 - output_2_loss: 0.2879 - output_3_loss: 0.0206 - output_4_loss: 6.6138 - output_3_precision: 0.8422 - output_3_recall: 0.5565 - output_3_true_negatives: 186525664.0000 - output_3_true_positives: 150367.0000 - output_3_false_negatives: 119827.0000 - output_3_false_positives: 28170.0000 - val_loss: 4.2075 - val_output_1_loss: 0.0000e+00 - val_output_2_loss: 0.1873 - val_output_3_loss: 0.0110 - val_output_4_loss: 3.2491 - val_output_3_precision: 0.9029 - val_output_3_recall: 0.8132 - val_output_3_true_negatives: 7592142.0000 - val_output_3_true_positives: 9615.0000 - val_output_3_false_negatives: 2209.0000 - val_output_3_false_positives: 1034.0000\n",
      "Epoch 17/20\n",
      "4607/4607 [==============================] - 571s 124ms/step - loss: 8.1222 - output_1_loss: 3.6174e-06 - output_2_loss: 0.2928 - output_3_loss: 0.0207 - output_4_loss: 6.6170 - output_3_precision: 0.8426 - output_3_recall: 0.5561 - output_3_true_negatives: 186526048.0000 - output_3_true_positives: 150279.0000 - output_3_false_negatives: 119962.0000 - output_3_false_positives: 28082.0000 - val_loss: 4.1644 - val_output_1_loss: 0.0000e+00 - val_output_2_loss: 0.1826 - val_output_3_loss: 0.0109 - val_output_4_loss: 3.2293 - val_output_3_precision: 0.9092 - val_output_3_recall: 0.8067 - val_output_3_true_negatives: 7592224.0000 - val_output_3_true_positives: 9538.0000 - val_output_3_false_negatives: 2286.0000 - val_output_3_false_positives: 952.0000\n",
      "Epoch 18/20\n",
      "4607/4607 [==============================] - 505s 110ms/step - loss: 7.9896 - output_1_loss: 7.9618e-07 - output_2_loss: 0.2897 - output_3_loss: 0.0203 - output_4_loss: 6.5002 - output_3_precision: 0.8474 - output_3_recall: 0.5661 - output_3_true_negatives: 186526464.0000 - output_3_true_positives: 152979.0000 - output_3_false_negatives: 117239.0000 - output_3_false_positives: 27555.0000 - val_loss: 4.1482 - val_output_1_loss: 0.0000e+00 - val_output_2_loss: 0.1858 - val_output_3_loss: 0.0110 - val_output_4_loss: 3.1971 - val_output_3_precision: 0.9048 - val_output_3_recall: 0.8072 - val_output_3_true_negatives: 7592172.0000 - val_output_3_true_positives: 9544.0000 - val_output_3_false_negatives: 2280.0000 - val_output_3_false_positives: 1004.0000\n",
      "Epoch 19/20\n",
      "4607/4607 [==============================] - 519s 113ms/step - loss: 8.0112 - output_1_loss: 1.3141e-05 - output_2_loss: 0.2994 - output_3_loss: 0.0202 - output_4_loss: 6.4736 - output_3_precision: 0.8467 - output_3_recall: 0.5680 - output_3_true_negatives: 186526032.0000 - output_3_true_positives: 153487.0000 - output_3_false_negatives: 116741.0000 - output_3_false_positives: 27800.0000 - val_loss: 4.1859 - val_output_1_loss: 0.0000e+00 - val_output_2_loss: 0.1855 - val_output_3_loss: 0.0110 - val_output_4_loss: 3.2364 - val_output_3_precision: 0.9118 - val_output_3_recall: 0.7999 - val_output_3_true_negatives: 7592261.0000 - val_output_3_true_positives: 9458.0000 - val_output_3_false_negatives: 2366.0000 - val_output_3_false_positives: 915.0000\n",
      "Epoch 20/20\n",
      "4607/4607 [==============================] - 552s 120ms/step - loss: 7.9511 - output_1_loss: 3.6633e-06 - output_2_loss: 0.2936 - output_3_loss: 0.0200 - output_4_loss: 6.4428 - output_3_precision: 0.8467 - output_3_recall: 0.5698 - output_3_true_negatives: 186526144.0000 - output_3_true_positives: 153943.0000 - output_3_false_negatives: 116234.0000 - output_3_false_positives: 27871.0000 - val_loss: 4.0006 - val_output_1_loss: 0.0000e+00 - val_output_2_loss: 0.1810 - val_output_3_loss: 0.0104 - val_output_4_loss: 3.0747 - val_output_3_precision: 0.9138 - val_output_3_recall: 0.8126 - val_output_3_true_negatives: 7592270.0000 - val_output_3_true_positives: 9608.0000 - val_output_3_false_negatives: 2216.0000 - val_output_3_false_positives: 906.0000\n"
     ]
    }
   ],
   "source": [
    "history = model.fit(train_dataset, epochs=20,validation_data=val_dataset)"
   ]
  },
  {
   "cell_type": "code",
   "execution_count": null,
   "metadata": {},
   "outputs": [],
   "source": []
  },
  {
   "cell_type": "code",
   "execution_count": 10,
   "metadata": {},
   "outputs": [],
   "source": [
    "os.chdir(\"/home/sergio/Documents/json_experiments\")\n",
    "import json\n",
    "#json.dumps(str(a))\n",
    "with open('history_finetuning_5521_50_70_epoch_nadam_1e-5_msle_exp_mse_3anchors_NUEVO_TRAIN.json', 'w') as fp:\n",
    "    json.dump(str(history.history), fp)"
   ]
  },
  {
   "cell_type": "code",
   "execution_count": 11,
   "metadata": {},
   "outputs": [],
   "source": [
    "model.save_weights('/home/sergio/Documents/weights_saved/pesos_finetuning_5521_50_70_epoch_nadam_1e-5_msle_exp_mse_3anchors_NUEVO_TRAIN')"
   ]
  },
  {
   "cell_type": "code",
   "execution_count": null,
   "metadata": {},
   "outputs": [],
   "source": []
  }
 ],
 "metadata": {
  "kernelspec": {
   "display_name": "Python 3",
   "language": "python",
   "name": "python3"
  },
  "language_info": {
   "codemirror_mode": {
    "name": "ipython",
    "version": 3
   },
   "file_extension": ".py",
   "mimetype": "text/x-python",
   "name": "python",
   "nbconvert_exporter": "python",
   "pygments_lexer": "ipython3",
   "version": "3.6.9"
  }
 },
 "nbformat": 4,
 "nbformat_minor": 4
}
