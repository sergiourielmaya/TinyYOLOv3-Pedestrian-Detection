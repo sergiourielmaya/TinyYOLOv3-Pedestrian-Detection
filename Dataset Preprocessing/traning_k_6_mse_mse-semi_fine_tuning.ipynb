{
 "cells": [
  {
   "cell_type": "code",
   "execution_count": 1,
   "metadata": {},
   "outputs": [],
   "source": [
    "root_path = \"/tf/home/sergio/Tesis\""
   ]
  },
  {
   "cell_type": "code",
   "execution_count": 2,
   "metadata": {},
   "outputs": [],
   "source": [
    "import sys\n",
    "sys.path.append(root_path+\"/TinyYOLOv3-Pedestrian-Detection\")\n",
    "\n",
    "from YOLOblocks import TinyYOLOv3,BasicBlock,PredictionLayer#,YOLOLossBasicBlock\n",
    "import numpy as np\n",
    "import matplotlib.pyplot as plt\n",
    "import tensorflow as tf\n",
    "#from tensorflow.python.tools import freeze_graph\n",
    "#from skimage.io import imread,imshow\n",
    "#from skimage.transform import resize \n",
    "import time\n",
    "#from tensorflow.compat.v1.image import decode_image\n",
    "import imgaug.augmenters as iaa\n",
    "from imgaug.augmentables.bbs import BoundingBox, BoundingBoxesOnImage\n",
    "import os"
   ]
  },
  {
   "cell_type": "markdown",
   "metadata": {},
   "source": [
    "## Dataset preparation"
   ]
  },
  {
   "cell_type": "code",
   "execution_count": 3,
   "metadata": {},
   "outputs": [],
   "source": [
    "image_feature_description = {\n",
    "    'bboxes': tf.io.FixedLenFeature([], tf.string),\n",
    "    'image_raw': tf.io.FixedLenFeature([], tf.string),\n",
    "    'num_real_boxes':tf.io.FixedLenFeature([], tf.int64),\n",
    "}"
   ]
  },
  {
   "cell_type": "code",
   "execution_count": 4,
   "metadata": {},
   "outputs": [],
   "source": [
    "def get_iou_matrix_tf(box_arr1, box_arr2):\n",
    "    \n",
    "    box_arr1 = box_arr1 -tf.tile(box_arr1[:,:2],[1,2])\n",
    "    #print(box_arr1)\n",
    "    x11, y11, x12, y12 = tf.split(box_arr1, 4, axis=1)\n",
    "    x21, y21, x22, y22 = tf.split(box_arr2, 4, axis=1)\n",
    "    xA = tf.maximum(x11, tf.transpose(x21))\n",
    "    yA = tf.maximum(y11, tf.transpose(y21))\n",
    "    xB = tf.minimum(x12, tf.transpose(x22))\n",
    "    yB = tf.minimum(y12, tf.transpose(y22))\n",
    "    interArea = tf.maximum((xB - xA + 1e-9), 0) * tf.maximum((yB - yA + 1e-9), 0)\n",
    "    boxAArea = (x12 - x11 + 1e-9) * (y12 - y11 + 1e-9)\n",
    "    boxBArea = (x22 - x21 + 1e-9) * (y22 - y21 + 1e-9)\n",
    "    iou = interArea / (boxAArea + tf.transpose(boxBArea) - interArea)\n",
    "    return iou,tf.argmax(iou,axis=1)#[:,tf.newaxis]\n",
    "\n",
    "\n",
    "def fill_yolo_output(boxes,grid_size,num_anchors,which_anchor_box,which_anchor_box_index):\n",
    "    #print(boxes.shape)\n",
    "    #noobj_mask = tf.ones((1,grid_size*grid_size*num_anchors))\n",
    "    #print(noobj_mask.shape)\n",
    "    \n",
    "    x_min,y_min,x_max,y_max =tf.split(boxes,4,axis=1)\n",
    "\n",
    "    #Transforma las coordenadas de (xmin,ymin,xmax,ymax) --> (xcenter,ycenter,width,height)\n",
    "    width = x_max-x_min\n",
    "    height = y_max-y_min\n",
    "    x_global =x_min + tf.math.divide(x_max - x_min,2)\n",
    "    y_global =y_min + tf.math.divide(y_max - y_min,2)\n",
    "    \n",
    "    \n",
    "    x_min_anchor,y_min_anchor,x_max_anchor,y_max_anchor =tf.split(which_anchor_box,4,axis=1)\n",
    "    \n",
    "    width_anchor = x_max_anchor-x_min_anchor\n",
    "    height_anchor = y_max_anchor-y_min_anchor\n",
    "    x_global_anchor =x_min_anchor + tf.math.divide(x_max_anchor - x_min_anchor,2)\n",
    "    y_global_anchor =y_min_anchor + tf.math.divide(y_max_anchor - y_min_anchor,2)   \n",
    "\n",
    "    \n",
    "    #print(\"el x original\",x_global)\n",
    "    #print(\"el y original\",y_global)\n",
    "    #print(\"el w original\",width)\n",
    "    #print(\"el h original\",height)\n",
    "    \n",
    "    #porción de la imagen que hay en cada celda\n",
    "    pixel_per_grid = tf.math.divide(1.,grid_size)\n",
    "    #print(pixel_per_grid)\n",
    "    \n",
    "    #Obtenemos la coordenada de la celda donde están los boundingboxes\n",
    "    offset_grid_x = x_global//pixel_per_grid\n",
    "    offset_grid_y = y_global//pixel_per_grid\n",
    "    \n",
    "    #Obtenemos el el centro locacon referencia  al celda encontrada previamente\n",
    "    x_local =tf.math.floormod(x_global,pixel_per_grid)\n",
    "    y_local =tf.math.floormod(y_global,pixel_per_grid)\n",
    "    #print(x_local,y_local)\n",
    "    \n",
    "    #Valores tx e ty del groudtruth\n",
    "    tx = tf.math.log(x_local + 1e-07/(1-x_local))\n",
    "    ty = tf.math.log(y_local+1e-07/(1-y_local))\n",
    "    tw = tf.math.log(tf.math.divide(width+1e-07,width_anchor))\n",
    "    th = tf.math.log(tf.math.divide(height+1e-07,height_anchor))\n",
    "    tobj_mask = tf.ones_like(tx)\n",
    "    tobj = tf.concat([tobj_mask,tobj_mask],axis=0)\n",
    "    \n",
    "    #tnoobj = tf.zeros_like(tx)    \n",
    "    #tobj = tf.ones((grid_size*grid_size*num_anchors,1))\n",
    "    #tnoobj = tf.zeros((grid_size*grid_size*num_anchors,1))\n",
    "    #print(\"Lo que la red debe predecir\",tx.numpy(),ty.numpy(),tw.numpy(),th.numpy())\n",
    "    #x_global = (offset_grid_x * pixel_per_grid) + tf.math.sigmoid(tx)\n",
    "    #y_global = (offset_grid_y * pixel_per_grid) + tf.math.sigmoid(ty)\n",
    "    #w = width_anchor*tf.math.exp(tw)\n",
    "    #h = height_anchor*tf.math.exp(th)\n",
    "    #print(\"obtnemos el x_real\",x_global)\n",
    "    #print(\"obtenemos el y_real\",y_global)\n",
    "    #print(\"obtenemos el w real\",w)\n",
    "    #print(\"obtenemos el h real\",h)\n",
    "    \n",
    "    #anchor_boxes_per_output = num_anchors//2\n",
    "\n",
    "    #Residuo indica cual de los 3 anchor boxes de la coordenada es la que llevara el 1\n",
    "    #Coord representa la coordenada del grid\n",
    "    \n",
    "    residuo = tf.math.floormod(which_anchor_box_index,num_anchors)[:,tf.newaxis]\n",
    "    coord = tf.cast(num_anchors*(offset_grid_y*grid_size + offset_grid_x),dtype=tf.int64)\n",
    "    \n",
    "    coord_objectness = tf.cast(2*(offset_grid_y*grid_size + offset_grid_x),dtype=tf.int64)\n",
    "    coord_objectness2 = coord_objectness+1\n",
    "    coord_objectess_global = tf.concat([coord_objectness,coord_objectness2],axis=0)\n",
    "    \n",
    "    output_position = residuo+coord\n",
    "    print(\"tipo de aoutput_positivon\",output_position)\n",
    "    \n",
    "    print(output_position)\n",
    "    \n",
    "    dense_shape = grid_size*grid_size*num_anchors\n",
    "    print(dense_shape)\n",
    "    tx_vector = tf.sparse.reorder(tf.sparse.SparseTensor(indices=output_position, values=tx[:,0], dense_shape=[dense_shape]))\n",
    "    ty_vector = tf.sparse.reorder(tf.sparse.SparseTensor(indices=output_position, values=ty[:,0], dense_shape=[dense_shape]))\n",
    "    tw_vector = tf.sparse.reorder(tf.sparse.SparseTensor(indices=output_position, values=tw[:,0], dense_shape=[dense_shape]))\n",
    "    th_vector = tf.sparse.reorder(tf.sparse.SparseTensor(indices=output_position, values=th[:,0], dense_shape=[dense_shape]))\n",
    "    obj_mask = tf.sparse.reorder(tf.sparse.SparseTensor(indices=output_position, values=tobj_mask[:,0], dense_shape=[dense_shape]))\n",
    "    objectness_vector = tf.sparse.reorder(tf.sparse.SparseTensor(indices=coord_objectess_global, values=tobj[:,0], dense_shape=[dense_shape]))\n",
    "    #noobj_mask = tf.sparse.reorder(tf.sparse.SparseTensor(indices=output_position, values=tnoobj[:,0], dense_shape=[dense_shape]))\n",
    "    #obj_mask =tx_vector=ty_vector=tw_vector=th_vector = tf.zeros((1,grid_size*grid_size*num_anchors))\n",
    "    \n",
    "    tx_vector_dense = tf.sparse.to_dense(tx_vector, default_value=0, validate_indices=False, name=\"Dense_tx\")\n",
    "    ty_vector_dense = tf.sparse.to_dense(ty_vector, default_value=0, validate_indices=False, name=\"Dense_ty\")\n",
    "    tw_vector_dense = tf.sparse.to_dense(tw_vector, default_value=0, validate_indices=False, name=\"Dense_tw\")\n",
    "    th_vector_dense = tf.sparse.to_dense(th_vector, default_value=0, validate_indices=False, name=\"Dense_th\")\n",
    "    obj_mask_dense =  tf.sparse.to_dense(obj_mask, default_value=0, validate_indices=False, name=\"Dense_obj\")\n",
    "    #noobj_mask_dense = 1-obj_mask_dense\n",
    "    objectness_vector_dense =  tf.sparse.to_dense(objectness_vector, default_value=0, validate_indices=False)\n",
    "    \n",
    "    #noobj_mask_dense= tf.sparse.to_dense(noobj_mask, default_value=1, validate_indices=False, name=\"Dense_noobj\")\n",
    "    ##print(tx_vector.to_dense)\n",
    "    #print(tf.sparse.to_dense(tx_vector, default_value=0, validate_indices=True, name=None)\n",
    "    #tx_vector=tx_vector[[3,2],]\n",
    "    #tx_vector[output_position[:,0]] = tx\n",
    "    #print(\"coordenada de la salida:\",output_position)\n",
    "    \n",
    "    #return ((tx_vector_dense,ty_vector_dense,obj_mask_dense),(tw_vector_dense,th_vector_dense,obj_mask_dense),(objectness),(objectness))\n",
    "    \n",
    "    return tx_vector_dense,ty_vector_dense,tw_vector_dense,th_vector_dense,obj_mask_dense,objectness_vector_dense\n",
    "\n",
    "def build_targets(image,image_bboxes,num_real_boxes,anchor_boxes):\n",
    "    \n",
    "    images_bboxes_original = image_bboxes\n",
    "    #Obtenemos los boduing boxes que son reales\n",
    "    image_bboxes = image_bboxes[:num_real_boxes,:]\n",
    "    #print(\"Bouding boxes de la imagen\",image_bboxes)\n",
    "    #Obteneos  la matriz de IoU , y el índice del anchor box que dió mejor resultado\n",
    "    \n",
    "    #Nprmalizamos con respecto al tamaño de la imagen y obtenemos la Iou con los anchor boxes\n",
    "    image_bboxes = tf.math.divide(image_bboxes,416)\n",
    "    iou_matrix,which_anchor_box_index = get_iou_matrix_tf(image_bboxes,anchor_boxes)\n",
    "    \n",
    "    print(which_anchor_box_index)\n",
    "\n",
    "    anchor_boxes_per_output = len(anchor_boxes)//2\n",
    "    #Indices de los bouding boxes que irian en cada salida, index_best_ yolo nos dice que bouding boxes de la imagen van a la salida YOLO1,\n",
    "    #porque su mejor IoU fue con los len(anchor_boxes)//2 anchor boxes mas grandes\n",
    "    index_best_yolo1 = tf.where(which_anchor_box_index>=anchor_boxes_per_output)[:,0]\n",
    "    index_best_yolo2 = tf.where(which_anchor_box_index<anchor_boxes_per_output)[:,0]\n",
    "    index_best_anchor_yolo1 = tf.gather(which_anchor_box_index,index_best_yolo1,axis=0)\n",
    "    index_best_anchor_yolo2 = tf.gather(which_anchor_box_index,index_best_yolo2,axis=0)\n",
    "    \n",
    "    print(index_best_yolo1)\n",
    "    print(index_best_anchor_yolo1)\n",
    "\n",
    "    print(index_best_yolo2)\n",
    "    print(index_best_anchor_yolo2)\n",
    "\n",
    "    \n",
    "    best_bboxes_yolo1 = tf.gather(image_bboxes,index_best_yolo1,axis =0)\n",
    "    best_anchors_yolo1 = tf.gather(anchor_boxes,index_best_anchor_yolo1, axis =0) #LOs dos anchor boxes grandes corrsponden a YOLO1\n",
    "    best_bboxes_yolo2 = tf.gather(image_bboxes,index_best_yolo2,axis =0)\n",
    "    best_anchors_yolo2 = tf.gather(anchor_boxes,index_best_anchor_yolo2, axis =0) #Los dos anchor boxes pequeños corresponden a YOLO2\n",
    "    \n",
    "    \n",
    "    if best_anchors_yolo1.shape[0] !=0:\n",
    "        tx_vector_yolo1,ty_vector_yolo1,tw_vector_yolo1,th_vector_yolo1,obj_mask_yolo1,obj_vector_yolo1= fill_yolo_output(best_bboxes_yolo1,13,anchor_boxes_per_output,best_anchors_yolo1,index_best_anchor_yolo1)\n",
    "    else:\n",
    "        tx_vector_yolo1=ty_vector_yolo1=tw_vector_yolo1=th_vector_yolo1=obj_mask_yolo1= obj_vector_yolo1=tf.zeros((1,grid_size*grid_size*num_anchors))\n",
    "        #noobj_mask_yolo1 = tf.ones((1,13*13*num_anchors))\n",
    "    \n",
    "    if best_anchors_yolo2.shape[0] != 0:\n",
    "        tx_vector_yolo2,ty_vector_yolo2,tw_vector_yolo2,th_vector_yolo2,obj_mask_yolo2,obj_vector_yolo2 = fill_yolo_output(best_bboxes_yolo2,26,anchor_boxes_per_output,best_anchors_yolo2,index_best_anchor_yolo2)\n",
    "    else:\n",
    "        tx_vector_yolo2=ty_vector_yolo2=tw_vector_yolo2=th_vector_yolo2=obj_mask_yolo2 = obj_vector_yolo2=tf.zeros((1,grid_size*grid_size*num_anchors))\n",
    "        #noobj_mask_yolo2 = tf.ones((1,26*26*num_anchors))\n",
    "        \n",
    "    tx_vector = tf.concat([tx_vector_yolo1,tx_vector_yolo2],axis=0)[:,tf.newaxis]\n",
    "    ty_vector = tf.concat([ty_vector_yolo1,ty_vector_yolo2],axis=0)[:,tf.newaxis]\n",
    "    tw_vector = tf.concat([tw_vector_yolo1,tw_vector_yolo2],axis=0)[:,tf.newaxis]\n",
    "    th_vector = tf.concat([th_vector_yolo1,th_vector_yolo2],axis=0)[:,tf.newaxis]\n",
    "    obj_mask = tf.concat([obj_mask_yolo1,obj_mask_yolo2],axis=0)[:,tf.newaxis]\n",
    "    #noobj_mask = tf.concat([noobj_mask_yolo1,noobj_mask_yolo2],axis=0)[:,tf.newaxis]\n",
    "    obj_vector = tf.concat([obj_vector_yolo1,obj_vector_yolo2],axis=0)[:,tf.newaxis]\n",
    "    \n",
    "    #output = tf.concat([tx_vector,ty_vector,tw_vector,th_vector,obj_mask,noobj_mask,obj_vector],axis=1)\n",
    "    #images_bboxes_original\n",
    "    #return image,output\n",
    "    #Vamos a regresar obj mask que es 1 cuando hay objeto en grid y el anchor box especifico\n",
    "    return tf.cast(image,tf.float32)/255,(tf.concat([tx_vector,ty_vector,obj_mask],axis=1),tf.concat([tw_vector,th_vector,obj_mask],axis=1),(obj_mask),(obj_mask))\n",
    "\n",
    "def imgaug_data_augmentation(image,bboxes,num_real_boxes):\n",
    "    im_shape = image.shape\n",
    "    bbs = BoundingBoxesOnImage.from_xyxy_array(bboxes*416, shape=(416,416))\n",
    "    \n",
    "    policy = np.random.randint(5)\n",
    "    \n",
    "    #policy = 2\n",
    "    if policy == 0:\n",
    "        \n",
    "        p = np.random.random()\n",
    "        if p<=0.6:\n",
    "            aug = iaa.TranslateX(px=(-60, 60),cval=128)\n",
    "            image, bbs = aug(image=image, bounding_boxes=bbs)\n",
    "            #bbs.remove_out_of_image().clip_out_of_image()\n",
    "    \n",
    "        p = np.random.random()\n",
    "        if p<=0.8:\n",
    "            aug = iaa.HistogramEqualization()\n",
    "            image, bbs = aug(image=image, bounding_boxes=bbs)\n",
    "            #bbs.remove_out_of_image().clip_out_of_image()\n",
    "    \n",
    "    elif policy==1:\n",
    "        \n",
    "        p=np.random.random()\n",
    "        if p<=0.2:\n",
    "            aug = iaa.TranslateY(px=(int(-0.18*416), int(0.18*416)),cval=128)\n",
    "            for i in bbs.to_xyxy_array(np.int32)[:num_real_boxes,:]:\n",
    "                bbox = image[i[1]:i[3],i[0]:i[2]]\n",
    "                bbox_augmented = aug(image=bbox)\n",
    "                image[i[1]:i[3],i[0]:i[2]] = bbox_augmented\n",
    "        \n",
    "        p=np.random.random()\n",
    "        if p<=0.8:\n",
    "            square_size = np.random.randint(48)\n",
    "            aug = iaa.Cutout(nb_iterations=1, size=square_size/416, squared=True)\n",
    "            image, bbs = aug(image=image, bounding_boxes=bbs)\n",
    "            #bbs.remove_out_of_image().clip_out_of_image()\n",
    "            \n",
    "    elif policy==2:\n",
    "        p=np.random.random()\n",
    "        if p<=1:\n",
    "            aug = iaa.ShearY(shear=(int(-0.06*416), int(0.06*416)), order=1, cval=128)\n",
    "            image, bbs = aug(image=image, bounding_boxes=bbs)\n",
    "            #bbs.remove_out_of_image().clip_out_of_image()\n",
    "            \n",
    "        p=np.random.random()\n",
    "        if p<=0.6:\n",
    "            aug = iaa.TranslateY(px=(int(-0.18*416), int(0.18*416)),cval=128)\n",
    "            for i in bbs.to_xyxy_array(np.int32)[:num_real_boxes,:]:\n",
    "                bbox = image[i[1]:i[3],i[0]:i[2]]\n",
    "                bbox_augmented = aug(image=bbox)\n",
    "                image[i[1]:i[3],i[0]:i[2]] = bbox_augmented\n",
    "            \n",
    "    elif policy==3:\n",
    "        p=np.random.random()\n",
    "        if p<=0.6:    \n",
    "            aug = iaa.Rotate(rotate=(-30, 30), order=1, cval=128)\n",
    "            image, bbs = aug(image=image, bounding_boxes=bbs)\n",
    "            #bbs_aug.remove_out_of_image().clip_out_of_image()\n",
    "        \n",
    "        p=np.random.random()\n",
    "        if p<=1:\n",
    "            aug = iaa.MultiplySaturation((0.54, 1.54))\n",
    "            image, bbs = aug(image=image, bounding_boxes=bbs)\n",
    "            #bbs.remove_out_of_image().clip_out_of_image()\n",
    "            \n",
    "    bbs.remove_out_of_image()\n",
    "    \n",
    "    return image,np.clip(bbs.to_xyxy_array(np.float32),1,415),num_real_boxes\n",
    "    \n",
    "    \n",
    "def preprocessing(example_proto):\n",
    "    image_features = tf.io.parse_single_example(example_proto, image_feature_description)\n",
    "    image = tf.image.decode_jpeg(image_features['image_raw'],channels = 3)\n",
    "    image = tf.cast(tf.image.resize(image,size=(416,416)), tf.uint8)\n",
    "    bboxes =  tf.io.parse_tensor(image_features['bboxes'], out_type=tf.float32)\n",
    "    \n",
    "    num_real_boxes = image_features['num_real_boxes']\n",
    "    return image,bboxes,num_real_boxes\n",
    "\n",
    "def preprocessing_validation_set(example_proto):\n",
    "    image_features = tf.io.parse_single_example(example_proto, image_feature_description)\n",
    "    image = tf.image.decode_jpeg(image_features['image_raw'],channels = 3)\n",
    "    image = tf.cast(tf.image.resize(image,size=(416,416)), tf.uint8)\n",
    "    bboxes =  tf.io.parse_tensor(image_features['bboxes'], out_type=tf.float32)\n",
    "    bboxes = tf.clip_by_value(bboxes*416,1,415)\n",
    "    \n",
    "    num_real_boxes = image_features['num_real_boxes']\n",
    "    return image,bboxes,tf.cast(num_real_boxes,tf.int64)\n",
    "    \n",
    "@tf.function(input_signature=[tf.TensorSpec((416,416,3), tf.uint8),tf.TensorSpec((None,4), tf.float32),tf.TensorSpec((), tf.int64)]) \n",
    "def tf_numpy_albumentations_real(image,bboxes,num_real_boxes):\n",
    "    \n",
    "    boxes_shape = bboxes.shape\n",
    "    im_shape = image.shape\n",
    "\n",
    "    image,bboxes,num_real_boxes = tf.numpy_function(imgaug_data_augmentation,[image,bboxes,num_real_boxes],Tout =[tf.uint8,tf.float32,tf.int64])\n",
    " \n",
    "    image.set_shape(im_shape)\n",
    "    bboxes.set_shape(boxes_shape)\n",
    "    print(\"Imagen data type\",image.dtype)\n",
    "    print(\"Bboxes data type\",bboxes.dtype)\n",
    "    print(\"num_real_boxes\",num_real_boxes.dtype)\n",
    "\n",
    "    return image,bboxes,num_real_boxes"
   ]
  },
  {
   "cell_type": "code",
   "execution_count": null,
   "metadata": {},
   "outputs": [],
   "source": []
  },
  {
   "cell_type": "code",
   "execution_count": 5,
   "metadata": {},
   "outputs": [
    {
     "name": "stdout",
     "output_type": "stream",
     "text": [
      "Imagen data type <dtype: 'uint8'>\n",
      "Bboxes data type <dtype: 'float32'>\n",
      "num_real_boxes <dtype: 'int64'>\n",
      "Tensor(\"ArgMax:0\", shape=(None,), dtype=int64)\n",
      "Tensor(\"strided_slice_2:0\", shape=(None,), dtype=int64)\n",
      "Tensor(\"GatherV2:0\", shape=(None,), dtype=int64)\n",
      "Tensor(\"strided_slice_3:0\", shape=(None,), dtype=int64)\n",
      "Tensor(\"GatherV2_1:0\", shape=(None,), dtype=int64)\n",
      "tipo de aoutput_positivon Tensor(\"add_18:0\", shape=(None, 1), dtype=int64)\n",
      "Tensor(\"add_18:0\", shape=(None, 1), dtype=int64)\n",
      "507\n",
      "tipo de aoutput_positivon Tensor(\"add_30:0\", shape=(None, 1), dtype=int64)\n",
      "Tensor(\"add_30:0\", shape=(None, 1), dtype=int64)\n",
      "2028\n",
      "Tensor(\"ArgMax:0\", dtype=int64)\n",
      "Tensor(\"strided_slice_2:0\", shape=(None,), dtype=int64)\n",
      "Tensor(\"GatherV2:0\", dtype=int64)\n",
      "Tensor(\"strided_slice_3:0\", shape=(None,), dtype=int64)\n",
      "Tensor(\"GatherV2_1:0\", dtype=int64)\n",
      "tipo de aoutput_positivon Tensor(\"add_18:0\", dtype=int64)\n",
      "Tensor(\"add_18:0\", dtype=int64)\n",
      "507\n",
      "tipo de aoutput_positivon Tensor(\"add_30:0\", dtype=int64)\n",
      "Tensor(\"add_30:0\", dtype=int64)\n",
      "2028\n"
     ]
    }
   ],
   "source": [
    "#USANDO TF.IMAGE MODULE\n",
    "#anchors =tf.constant(np.array([[0,0,0.015,0.037],[0,0,0.043,0.104],[0,0,0.11,0.278],[0,0,0.351,0.66]]),dtype=tf.float32)\n",
    "#anchors =tf.constant(np.array([[0,0,0.026,0.062],[0,0,0.067,0.183],[0,0,0.128,0.323],[0,0,0.343,0.650]]),dtype=tf.float32)\n",
    "anchors =tf.constant(np.array([[0,0,0.02078,0.049],[0,0,0.0426,0.128],[0,0,0.08523,0.19356],[0,0,0.1506,0.4163],[0,0,0.27835,0.58651],[0,0,0.5632,0.78614]]),dtype=tf.float32)\n",
    "\n",
    "\n",
    "\n",
    "os.chdir(root_path+\"/pedestrian_dataset_train_tfr\")\n",
    "filenames = os. listdir()\n",
    "raw_image_dataset = tf.data.TFRecordDataset(filenames)\n",
    "\n",
    "os.chdir(root_path+\"/pedestrian_dataset_val_tfr_fixed\")\n",
    "filenames = os. listdir()\n",
    "raw_image_dataset_val =tf.data.TFRecordDataset(filenames)\n",
    "\n",
    "os.chdir(root_path+\"/pedestrian_dataset_train_tfr\")\n",
    "#.shuffle(70000)\n",
    "\n",
    "#VAMOS A HACER UN ENTRENAMIENTO SIN DATA AUGMENTATION, ADEMAS DE USAR MSE Y EXP MSE Y REZAR PARA QUE MEJORE\n",
    "\n",
    "train_dataset = raw_image_dataset.map(preprocessing,num_parallel_calls=8)\n",
    "train_dataset = train_dataset.map(tf_numpy_albumentations_real,num_parallel_calls=8)\n",
    "train_dataset = train_dataset.map(lambda x,y,z:build_targets(x,y,z,anchors),num_parallel_calls=8)\n",
    "train_dataset = train_dataset.batch(16)\n",
    "\n",
    "val_dataset = raw_image_dataset_val.map(preprocessing_validation_set,num_parallel_calls=8)\n",
    "val_dataset = val_dataset.map(lambda x,y,z:build_targets(x,y,z,anchors),num_parallel_calls=8)\n",
    "val_dataset = val_dataset.batch(16)"
   ]
  },
  {
   "cell_type": "code",
   "execution_count": null,
   "metadata": {},
   "outputs": [],
   "source": []
  },
  {
   "cell_type": "markdown",
   "metadata": {},
   "source": [
    "### Loss Function"
   ]
  },
  {
   "cell_type": "code",
   "execution_count": 6,
   "metadata": {},
   "outputs": [
    {
     "data": {
      "text/plain": [
       "'\\ndef loss_bce_objectness(y_true,y_pred):\\n    #bce = BinaryCrossentropy(reduction=tf.keras.losses.Reduction.NONE)\\n    #tw_true,th_true,obj_mask = tf.split(y_true, [1,1,1], axis=-1)\\n    #tw_pred,th_pred = tf.split(y_pred, [1,1], axis=-1)   \\n    \\n    loss_obj =tf.reduce_mean(tf.reduce_sum( y_true*tf.math.log(y_pred+1e-7)[:,tf.newaxis],axis=1))\\n    \\n    return loss_obj\\n\\ndef loss_bce_no_objectness(y_true,y_pred):\\n    #bce = BinaryCrossentropy(reduction=tf.keras.losses.Reduction.NONE)\\n    loss_noobj =tf.reduce_mean(tf.reduce_sum((1-y_true)*tf.math.log(1-y_pred+1e-7)[:,tf.newaxis],axis=1))\\n    \\n    return loss_noobj\\n'"
      ]
     },
     "execution_count": 6,
     "metadata": {},
     "output_type": "execute_result"
    }
   ],
   "source": [
    "from tensorflow.keras.losses import Loss,BinaryCrossentropy,MeanSquaredError,MeanSquaredLogarithmicError\n",
    "'''\n",
    "def loss_xy(y_true,y_pred):\n",
    "    \n",
    "    mse = MeanSquaredError(reduction=tf.keras.losses.Reduction.NONE)\n",
    "    \n",
    "    tx_true,ty_true,obj_mask = tf.split(y_true, [1,1,1], axis=-1)\n",
    "    tx_pred,ty_pred = tf.split(y_pred, [1,1], axis=-1)\n",
    "    \n",
    "    loss_x = tf.reduce_mean(tf.reduce_sum(obj_mask*(mse(tx_true,tx_pred)[:,:,tf.newaxis]),axis=1))\n",
    "    loss_y = tf.reduce_mean(tf.reduce_sum(obj_mask*(mse(ty_true,ty_pred)[:,:,tf.newaxis]),axis=1))\n",
    "\n",
    "    return loss_x+loss_y\n",
    "\n",
    "def loss_wh(y_true,y_pred):\n",
    "    \n",
    "    mse = MeanSquaredError(reduction=tf.keras.losses.Reduction.NONE)\n",
    "    \n",
    "    tw_true,th_true,obj_mask = tf.split(y_true, [1,1,1], axis=-1)\n",
    "    tw_pred,th_pred = tf.split(y_pred, [1,1], axis=-1)\n",
    "    \n",
    "    loss_w = tf.reduce_mean(tf.reduce_sum(obj_mask*(mse(tw_true,tw_pred)[:,:,tf.newaxis]),axis=1))\n",
    "    loss_h = tf.reduce_mean(tf.reduce_sum(obj_mask*(mse(th_true,th_pred)[:,:,tf.newaxis]),axis=1))\n",
    "\n",
    "\n",
    "    return loss_w+loss_h\n",
    "\n",
    "\n",
    "def loss_xy(y_true,y_pred):\n",
    "    \n",
    "    msle = MeanSquaredLogarithmicError(reduction=tf.keras.losses.Reduction.NONE)\n",
    "\n",
    "    tx_true,ty_true,obj_mask = tf.split(y_true, [1,1,1], axis=-1)\n",
    "    tx_pred,ty_pred = tf.split(y_pred, [1,1], axis=-1)\n",
    "    \n",
    "    #print(tf.math.square(tx_true-tx_pred))  \n",
    "    \n",
    "    loss_x = tf.reduce_mean(tf.reduce_sum(obj_mask*(msle(tx_true,tx_pred)[:,:,tf.newaxis]),axis=1))\n",
    "    loss_y = tf.reduce_mean(tf.reduce_sum(obj_mask*(msle(ty_true,ty_pred)[:,:,tf.newaxis]),axis=1))\n",
    "\n",
    "    return loss_x+loss_y\n",
    "\n",
    "def loss_wh(y_true,y_pred):\n",
    "\n",
    "    msle = MeanSquaredLogarithmicError(reduction=tf.keras.losses.Reduction.NONE)\n",
    "    \n",
    "    tw_true,th_true,obj_mask = tf.split(y_true, [1,1,1], axis=-1)\n",
    "    tw_pred,th_pred = tf.split(y_pred, [1,1], axis=-1)\n",
    "    \n",
    "    #print(tf.math.square(tw_true-tw_pred))\n",
    "\n",
    "    \n",
    "    loss_w = tf.reduce_mean(tf.reduce_sum(obj_mask*(msle(tw_true,tw_pred)[:,:,tf.newaxis]),axis=1))\n",
    "    loss_h = tf.reduce_mean(tf.reduce_sum(obj_mask*(msle(th_true,th_pred)[:,:,tf.newaxis]),axis=1))\n",
    "\n",
    "\n",
    "    return loss_w+loss_h\n",
    "    \n",
    "def loss_xy(y_true,y_pred):\n",
    "    \n",
    "    msle = MeanSquaredLogarithmicError(reduction=tf.keras.losses.Reduction.NONE)\n",
    "\n",
    "    tx_true,ty_true,obj_mask = tf.split(y_true, [1,1,1], axis=-1)\n",
    "    tx_pred,ty_pred = tf.split(y_pred, [1,1], axis=-1)\n",
    "    \n",
    "    #print(tf.math.square(tx_true-tx_pred))  \n",
    "    \n",
    "    loss_x = tf.reduce_mean(tf.reduce_sum(obj_mask*(msle(tx_true,tx_pred)[:,:,tf.newaxis]),axis=1))\n",
    "    loss_y = tf.reduce_mean(tf.reduce_sum(obj_mask*(msle(ty_true,ty_pred)[:,:,tf.newaxis]),axis=1))\n",
    "\n",
    "    return loss_x+loss_y\n",
    "    \n",
    "def loss_wh(y_true,y_pred):\n",
    "\n",
    "    mse = MeanSquaredError(reduction=tf.keras.losses.Reduction.NONE)\n",
    "    \n",
    "    tw_true,th_true,obj_mask = tf.split(y_true, [1,1,1], axis=-1)\n",
    "    tw_pred,th_pred = tf.split(y_pred, [1,1], axis=-1)\n",
    "    \n",
    "    #print(tf.math.square(tw_true-tw_pred))\n",
    "\n",
    "    \n",
    "    loss_w = tf.reduce_mean(tf.reduce_sum(obj_mask*(mse(tf.math.exp(tw_true),tf.math.exp(tw_pred))[:,:,tf.newaxis]),axis=1))\n",
    "    loss_h = tf.reduce_mean(tf.reduce_sum(obj_mask*(mse(tf.math.exp(th_true),tf.math.exp(th_pred))[:,:,tf.newaxis]),axis=1))\n",
    "\n",
    "\n",
    "    return loss_w+loss_h\n",
    "    \n",
    "'''\n",
    "\n",
    "\n",
    "def loss_xy(y_true,y_pred):\n",
    "    \n",
    "    mse = MeanSquaredError(reduction=tf.keras.losses.Reduction.NONE)\n",
    "    \n",
    "    tx_true,ty_true,obj_mask = tf.split(y_true, [1,1,1], axis=-1)\n",
    "    tx_pred,ty_pred = tf.split(y_pred, [1,1], axis=-1)\n",
    "    \n",
    "    loss_x = tf.reduce_mean(tf.reduce_sum(obj_mask*(mse(tx_true,tx_pred)[:,:,tf.newaxis]),axis=1))\n",
    "    loss_y = tf.reduce_mean(tf.reduce_sum(obj_mask*(mse(ty_true,ty_pred)[:,:,tf.newaxis]),axis=1))\n",
    "\n",
    "    return loss_x+loss_y\n",
    "\n",
    "\n",
    "\n",
    "\n",
    "def loss_wh(y_true,y_pred):\n",
    "    \n",
    "    mse = MeanSquaredError(reduction=tf.keras.losses.Reduction.NONE)\n",
    "    \n",
    "    tw_true,th_true,obj_mask = tf.split(y_true, [1,1,1], axis=-1)\n",
    "    tw_pred,th_pred = tf.split(y_pred, [1,1], axis=-1)\n",
    "    \n",
    "    loss_w = tf.reduce_mean(tf.reduce_sum(obj_mask*(mse(tw_true,tw_pred)[:,:,tf.newaxis]),axis=1))\n",
    "    loss_h = tf.reduce_mean(tf.reduce_sum(obj_mask*(mse(th_true,th_pred)[:,:,tf.newaxis]),axis=1))\n",
    "\n",
    "\n",
    "    return loss_w+loss_h\n",
    "\n",
    "def loss_objectness(y_true,y_pred):\n",
    "    bce = BinaryCrossentropy(reduction=tf.keras.losses.Reduction.NONE)\n",
    "    \n",
    "    #tw_true,th_true,obj_mask = tf.split(y_true, [1,1,1], axis=-1)\n",
    "    #tw_pred,th_pred = tf.split(y_pred, [1,1], axis=-1)   \n",
    "    \n",
    "    loss_obj =tf.reduce_mean(tf.reduce_sum( y_true*bce(y_true,y_pred)[:,tf.newaxis],axis=1))\n",
    "    \n",
    "    return loss_obj\n",
    "\n",
    "def loss_no_objectness(y_true,y_pred):\n",
    "    bce = BinaryCrossentropy(reduction=tf.keras.losses.Reduction.NONE)\n",
    "    \n",
    "    \n",
    "    loss_noobj =tf.reduce_mean(tf.reduce_sum((1-y_true)*bce(y_true,y_pred)[:,tf.newaxis],axis=1))\n",
    "    \n",
    "    return loss_noobj\n",
    "'''\n",
    "def loss_bce_objectness(y_true,y_pred):\n",
    "    #bce = BinaryCrossentropy(reduction=tf.keras.losses.Reduction.NONE)\n",
    "    #tw_true,th_true,obj_mask = tf.split(y_true, [1,1,1], axis=-1)\n",
    "    #tw_pred,th_pred = tf.split(y_pred, [1,1], axis=-1)   \n",
    "    \n",
    "    loss_obj =tf.reduce_mean(tf.reduce_sum( y_true*tf.math.log(y_pred+1e-7)[:,tf.newaxis],axis=1))\n",
    "    \n",
    "    return loss_obj\n",
    "\n",
    "def loss_bce_no_objectness(y_true,y_pred):\n",
    "    #bce = BinaryCrossentropy(reduction=tf.keras.losses.Reduction.NONE)\n",
    "    loss_noobj =tf.reduce_mean(tf.reduce_sum((1-y_true)*tf.math.log(1-y_pred+1e-7)[:,tf.newaxis],axis=1))\n",
    "    \n",
    "    return loss_noobj\n",
    "'''"
   ]
  },
  {
   "cell_type": "markdown",
   "metadata": {},
   "source": [
    "## Training with Model.fit()"
   ]
  },
  {
   "cell_type": "code",
   "execution_count": 7,
   "metadata": {},
   "outputs": [
    {
     "name": "stdout",
     "output_type": "stream",
     "text": [
      "Modo entrenamiento\n",
      "Pesos de la convolucion (432,)\n",
      "CONV SHAPE (16, 3, 3, 3)\n",
      "Pesos de la convolucion (4608,)\n",
      "CONV SHAPE (32, 16, 3, 3)\n",
      "Pesos de la convolucion (18432,)\n",
      "CONV SHAPE (64, 32, 3, 3)\n",
      "Pesos de la convolucion (73728,)\n",
      "CONV SHAPE (128, 64, 3, 3)\n",
      "Pesos de la convolucion (294912,)\n",
      "CONV SHAPE (256, 128, 3, 3)\n",
      "Pesos de la convolucion (1179648,)\n",
      "CONV SHAPE (512, 256, 3, 3)\n",
      "Pesos de la convolucion (4718592,)\n",
      "CONV SHAPE (1024, 512, 3, 3)\n",
      "Pesos de la convolucion (262144,)\n",
      "CONV SHAPE (256, 1024, 1, 1)\n",
      "Pesos de la convolucion (1179648,)\n",
      "CONV SHAPE (512, 256, 3, 3)\n",
      "Pesos de la convolucion (130560,)\n",
      "CONV SHAPE (255, 512, 1, 1)\n",
      "Pesos de la convolucion (32768,)\n",
      "CONV SHAPE (128, 256, 1, 1)\n",
      "Pesos de la convolucion (884736,)\n",
      "CONV SHAPE (256, 384, 3, 3)\n",
      "Pesos de la convolucion (65280,)\n",
      "CONV SHAPE (255, 256, 1, 1)\n",
      "8858734\n"
     ]
    }
   ],
   "source": [
    "#anchors =tf.constant(np.array([[0.026,0.062],[0.067,0.183],[0.128,0.323],[0.343,0.650]]),dtype=tf.float32)\n",
    "anchors =tf.constant(np.array([[0,0,0.02078,0.049],[0,0,0.0426,0.128],[0,0,0.08523,0.19356],[0,0,0.1506,0.4163],[0,0,0.27835,0.58651],[0,0,0.5632,0.78614]]),dtype=tf.float32)\n",
    "\n",
    "model = TinyYOLOv3(1,anchor_boxes=anchors,train=True,mode = \"transfer\")\n",
    "model.build(batch_input_shape=(None,416,416,3))\n",
    "print(model.load_weights_darknet(root_path+\"/TinyYOLOv3-Pedestrian-Detection/yolov3-tiny.weights\"))"
   ]
  },
  {
   "cell_type": "code",
   "execution_count": 8,
   "metadata": {},
   "outputs": [
    {
     "name": "stdout",
     "output_type": "stream",
     "text": [
      "BasicBlock1 False\n",
      "BasicBlock2 False\n",
      "BasicBlock3 False\n",
      "BasicBlock4 False\n",
      "BasicBlock5 False\n",
      "BasicBlock6 False\n",
      "BasicBlock7 False\n",
      "BasicBlock8 False\n",
      "BasicBlock9 True\n",
      "FinalBlock1 True\n",
      "BasicBlock11 False\n",
      "BasicBlock12 True\n",
      "FinalBlock2 True\n",
      "Concatenate True\n",
      "Upsampling True\n",
      "Prediction1 True\n",
      "Prediction2 True\n",
      "Concatenate_BBOX True\n"
     ]
    }
   ],
   "source": [
    "for l in model.layers:\n",
    "    print(l.name, l.trainable)#,l.weights[0].shape)\n",
    "    pass"
   ]
  },
  {
   "cell_type": "markdown",
   "metadata": {},
   "source": [
    "## Eager execution training (For debuging)"
   ]
  },
  {
   "cell_type": "code",
   "execution_count": 9,
   "metadata": {},
   "outputs": [],
   "source": [
    "debugging = False\n",
    "\n",
    "if debugging:\n",
    "    model = TinyYOLOv3(1,anchor_boxes=anchors,train=True)\n",
    "    model.build(batch_input_shape=(None,416,416,3))\n",
    "    model.summary()\n",
    "    model.load_weights_darknet(\"/home/sergio/TinyYOLOv3-Pedestrian-Detection/yolov3-tiny.weights\");\n",
    "    optimizer = tf.keras.optimizers.Adam()\n",
    "    #model_loss = YOLOLoss()\n",
    "\n",
    "    for epochs in range(1,2,1):\n",
    "        for (images,y_true) in train_dataset:\n",
    "            with tf.GradientTape() as tape:\n",
    "                outputs = model(images)\n",
    "                print(\"Tamaño de la etiqueta\",y_true[0].shape)\n",
    "                print(\"Salida\",outputs[0].shape)\n",
    "                loss_x_y = loss_xy(y_true[0],outputs[0])\n",
    "                loss_w_h = loss_wh(y_true[1],outputs[1])\n",
    "                loss_obj = loss_objectness(y_true[2],outputs[2])\n",
    "                loss_noobj = loss_no_objectness(y_true[3],outputs[3])\n",
    "\n",
    "                total_loss =loss_x_y+loss_w_h+loss_obj+loss_noobj\n",
    "            #print(epochs,(total_loss.numpy()))\n",
    "            grads = tape.gradient(total_loss, model.trainable_variables)\n",
    "            optimizer.apply_gradients(zip(grads, model.trainable_variables))\n",
    "\n",
    "                #logging.info(\"{}_train_{}, {}, {}\".format(\n",
    "                #    epoch, batch, total_loss.numpy()))\n",
    "                \n",
    "else:\n",
    "    pass"
   ]
  },
  {
   "cell_type": "code",
   "execution_count": 10,
   "metadata": {},
   "outputs": [],
   "source": [
    "tf.random.set_seed(0)\n",
    "\n",
    "from tensorflow.keras.metrics import TrueNegatives,TruePositives,FalseNegatives,FalsePositives,Precision,Recall\n",
    "\n",
    "opt = tf.keras.optimizers.Nadam(learning_rate=1e-4)\n",
    "\n",
    "losses = {\"output_1\": loss_xy,\n",
    "          \"output_2\": loss_wh,\n",
    "          \"output_3\":loss_objectness,\n",
    "          \"output_4\":loss_no_objectness  \n",
    "}\n",
    "\n",
    "metrics = {\"output_3\":[Precision(0.5),Recall(0.5),TruePositives(0.5),FalsePositives(0.5)]}\n",
    "model.compile(optimizer=opt, loss=losses,metrics=metrics,loss_weights=[2,2,4,1])\n",
    "os.chdir(root_path+ \"/pedestrian_dataset_train_tfr\")"
   ]
  },
  {
   "cell_type": "markdown",
   "metadata": {},
   "source": [
    "## Batch 16, con pesos 1,1,1,1 with lr=0.0001 y usando mse para el (x,y) y usando mse para (w,h)"
   ]
  },
  {
   "cell_type": "code",
   "execution_count": null,
   "metadata": {},
   "outputs": [],
   "source": []
  },
  {
   "cell_type": "code",
   "execution_count": 11,
   "metadata": {
    "scrolled": true
   },
   "outputs": [
    {
     "name": "stdout",
     "output_type": "stream",
     "text": [
      "Epoch 1/20\n",
      "Modo entrenamiento\n",
      "Modo entrenamiento\n",
      "   4607/Unknown - 255s 55ms/step - loss: 128.4236 - output_1_loss: 8.3816 - output_2_loss: 3.2937 - output_3_loss: 0.1763 - output_4_loss: 104.3676 - output_3_precision: 0.0052 - output_3_recall: 0.0427 - output_3_true_positives: 11539.0000 - output_3_false_positives: 2190311.0000Modo entrenamiento\n",
      "4607/4607 [==============================] - 262s 57ms/step - loss: 128.4236 - output_1_loss: 8.3816 - output_2_loss: 3.2937 - output_3_loss: 0.1763 - output_4_loss: 104.3676 - output_3_precision: 0.0052 - output_3_recall: 0.0427 - output_3_true_positives: 11539.0000 - output_3_false_positives: 2190311.0000 - val_loss: 31.3811 - val_output_1_loss: 6.0053 - val_output_2_loss: 1.3535 - val_output_3_loss: 0.0482 - val_output_4_loss: 16.4706 - val_output_3_precision: 0.7791 - val_output_3_recall: 0.0334 - val_output_3_true_positives: 395.0000 - val_output_3_false_positives: 112.0000\n",
      "Epoch 2/20\n",
      "4607/4607 [==============================] - 271s 59ms/step - loss: 31.6279 - output_1_loss: 5.9904 - output_2_loss: 2.2803 - output_3_loss: 0.0428 - output_4_loss: 14.9152 - output_3_precision: 0.6024 - output_3_recall: 0.0637 - output_3_true_positives: 17210.0000 - output_3_false_positives: 11360.0000 - val_loss: 27.8087 - val_output_1_loss: 5.4552 - val_output_2_loss: 0.9354 - val_output_3_loss: 0.0457 - val_output_4_loss: 14.8447 - val_output_3_precision: 0.7781 - val_output_3_recall: 0.0433 - val_output_3_true_positives: 512.0000 - val_output_3_false_positives: 146.0000\n",
      "Epoch 3/20\n",
      "4607/4607 [==============================] - 271s 59ms/step - loss: 29.7111 - output_1_loss: 5.7165 - output_2_loss: 1.9911 - output_3_loss: 0.0414 - output_4_loss: 14.1303 - output_3_precision: 0.6117 - output_3_recall: 0.0773 - output_3_true_positives: 20900.0000 - output_3_false_positives: 13268.0000 - val_loss: 27.0934 - val_output_1_loss: 5.2816 - val_output_2_loss: 0.8519 - val_output_3_loss: 0.0455 - val_output_4_loss: 14.6443 - val_output_3_precision: 0.7938 - val_output_3_recall: 0.0475 - val_output_3_true_positives: 562.0000 - val_output_3_false_positives: 146.0000\n",
      "Epoch 4/20\n",
      "4607/4607 [==============================] - 273s 59ms/step - loss: 29.1322 - output_1_loss: 5.5436 - output_2_loss: 1.9806 - output_3_loss: 0.0408 - output_4_loss: 13.9205 - output_3_precision: 0.6157 - output_3_recall: 0.0826 - output_3_true_positives: 22306.0000 - output_3_false_positives: 13924.0000 - val_loss: 26.6463 - val_output_1_loss: 5.2382 - val_output_2_loss: 0.7369 - val_output_3_loss: 0.0452 - val_output_4_loss: 14.5152 - val_output_3_precision: 0.7720 - val_output_3_recall: 0.0541 - val_output_3_true_positives: 640.0000 - val_output_3_false_positives: 189.0000\n",
      "Epoch 5/20\n",
      "4607/4607 [==============================] - 269s 58ms/step - loss: 28.5363 - output_1_loss: 5.4485 - output_2_loss: 1.8431 - output_3_loss: 0.0405 - output_4_loss: 13.7910 - output_3_precision: 0.6212 - output_3_recall: 0.0849 - output_3_true_positives: 22931.0000 - output_3_false_positives: 13986.0000 - val_loss: 26.1595 - val_output_1_loss: 5.0225 - val_output_2_loss: 0.7498 - val_output_3_loss: 0.0451 - val_output_4_loss: 14.4345 - val_output_3_precision: 0.7898 - val_output_3_recall: 0.0508 - val_output_3_true_positives: 601.0000 - val_output_3_false_positives: 160.0000\n",
      "Epoch 6/20\n",
      "4607/4607 [==============================] - 258s 56ms/step - loss: 28.2184 - output_1_loss: 5.3632 - output_2_loss: 1.8200 - output_3_loss: 0.0403 - output_4_loss: 13.6910 - output_3_precision: 0.6213 - output_3_recall: 0.0894 - output_3_true_positives: 24168.0000 - output_3_false_positives: 14731.0000 - val_loss: 26.0179 - val_output_1_loss: 4.9380 - val_output_2_loss: 0.7893 - val_output_3_loss: 0.0449 - val_output_4_loss: 14.3835 - val_output_3_precision: 0.7888 - val_output_3_recall: 0.0562 - val_output_3_true_positives: 665.0000 - val_output_3_false_positives: 178.0000\n",
      "Epoch 7/20\n",
      "4607/4607 [==============================] - 258s 56ms/step - loss: 27.8811 - output_1_loss: 5.3002 - output_2_loss: 1.7718 - output_3_loss: 0.0399 - output_4_loss: 13.5773 - output_3_precision: 0.6237 - output_3_recall: 0.0913 - output_3_true_positives: 24683.0000 - output_3_false_positives: 14891.0000 - val_loss: 25.6958 - val_output_1_loss: 4.8772 - val_output_2_loss: 0.7366 - val_output_3_loss: 0.0446 - val_output_4_loss: 14.2897 - val_output_3_precision: 0.7889 - val_output_3_recall: 0.0575 - val_output_3_true_positives: 680.0000 - val_output_3_false_positives: 182.0000\n",
      "Epoch 8/20\n",
      "4607/4607 [==============================] - 260s 56ms/step - loss: 27.8693 - output_1_loss: 5.2345 - output_2_loss: 1.8565 - output_3_loss: 0.0398 - output_4_loss: 13.5280 - output_3_precision: 0.6301 - output_3_recall: 0.0937 - output_3_true_positives: 25337.0000 - output_3_false_positives: 14875.0000 - val_loss: 25.4608 - val_output_1_loss: 4.7402 - val_output_2_loss: 0.7961 - val_output_3_loss: 0.0444 - val_output_4_loss: 14.2107 - val_output_3_precision: 0.7909 - val_output_3_recall: 0.0585 - val_output_3_true_positives: 692.0000 - val_output_3_false_positives: 183.0000\n",
      "Epoch 9/20\n",
      "4607/4607 [==============================] - 259s 56ms/step - loss: 27.5012 - output_1_loss: 5.1663 - output_2_loss: 1.7897 - output_3_loss: 0.0395 - output_4_loss: 13.4311 - output_3_precision: 0.6313 - output_3_recall: 0.0968 - output_3_true_positives: 26171.0000 - output_3_false_positives: 15283.0000 - val_loss: 25.3110 - val_output_1_loss: 4.7143 - val_output_2_loss: 0.6920 - val_output_3_loss: 0.0449 - val_output_4_loss: 14.3188 - val_output_3_precision: 0.7895 - val_output_3_recall: 0.0571 - val_output_3_true_positives: 675.0000 - val_output_3_false_positives: 180.0000\n",
      "Epoch 10/20\n",
      "4607/4607 [==============================] - 262s 57ms/step - loss: 27.2127 - output_1_loss: 5.1015 - output_2_loss: 1.7463 - output_3_loss: 0.0392 - output_4_loss: 13.3600 - output_3_precision: 0.6323 - output_3_recall: 0.0992 - output_3_true_positives: 26803.0000 - output_3_false_positives: 15588.0000 - val_loss: 25.0759 - val_output_1_loss: 4.6653 - val_output_2_loss: 0.6860 - val_output_3_loss: 0.0445 - val_output_4_loss: 14.1952 - val_output_3_precision: 0.7798 - val_output_3_recall: 0.0626 - val_output_3_true_positives: 740.0000 - val_output_3_false_positives: 209.0000\n",
      "Epoch 11/20\n",
      "4607/4607 [==============================] - 263s 57ms/step - loss: 27.0319 - output_1_loss: 5.0518 - output_2_loss: 1.7208 - output_3_loss: 0.0392 - output_4_loss: 13.3297 - output_3_precision: 0.6328 - output_3_recall: 0.1009 - output_3_true_positives: 27286.0000 - output_3_false_positives: 15835.0000 - val_loss: 24.8624 - val_output_1_loss: 4.5542 - val_output_2_loss: 0.7182 - val_output_3_loss: 0.0443 - val_output_4_loss: 14.1405 - val_output_3_precision: 0.7982 - val_output_3_recall: 0.0609 - val_output_3_true_positives: 720.0000 - val_output_3_false_positives: 182.0000\n",
      "Epoch 12/20\n",
      "4607/4607 [==============================] - 268s 58ms/step - loss: 26.8320 - output_1_loss: 5.0312 - output_2_loss: 1.6613 - output_3_loss: 0.0391 - output_4_loss: 13.2904 - output_3_precision: 0.6323 - output_3_recall: 0.1020 - output_3_true_positives: 27579.0000 - output_3_false_positives: 16039.0000 - val_loss: 24.5793 - val_output_1_loss: 4.4975 - val_output_2_loss: 0.6309 - val_output_3_loss: 0.0444 - val_output_4_loss: 14.1451 - val_output_3_precision: 0.7986 - val_output_3_recall: 0.0560 - val_output_3_true_positives: 662.0000 - val_output_3_false_positives: 167.0000\n",
      "Epoch 13/20\n",
      "4607/4607 [==============================] - 268s 58ms/step - loss: 26.8179 - output_1_loss: 5.0199 - output_2_loss: 1.7003 - output_3_loss: 0.0389 - output_4_loss: 13.2218 - output_3_precision: 0.6341 - output_3_recall: 0.1038 - output_3_true_positives: 28053.0000 - output_3_false_positives: 16187.0000 - val_loss: 24.2868 - val_output_1_loss: 4.4246 - val_output_2_loss: 0.6250 - val_output_3_loss: 0.0439 - val_output_4_loss: 14.0119 - val_output_3_precision: 0.7784 - val_output_3_recall: 0.0639 - val_output_3_true_positives: 755.0000 - val_output_3_false_positives: 215.0000\n",
      "Epoch 14/20\n",
      "4607/4607 [==============================] - 267s 58ms/step - loss: 26.7706 - output_1_loss: 4.9583 - output_2_loss: 1.7516 - output_3_loss: 0.0388 - output_4_loss: 13.1955 - output_3_precision: 0.6359 - output_3_recall: 0.1055 - output_3_true_positives: 28521.0000 - output_3_false_positives: 16333.0000 - val_loss: 24.3854 - val_output_1_loss: 4.4006 - val_output_2_loss: 0.7100 - val_output_3_loss: 0.0439 - val_output_4_loss: 13.9889 - val_output_3_precision: 0.7851 - val_output_3_recall: 0.0661 - val_output_3_true_positives: 782.0000 - val_output_3_false_positives: 214.0000\n",
      "Epoch 15/20\n",
      "4607/4607 [==============================] - 267s 58ms/step - loss: 26.5696 - output_1_loss: 4.9047 - output_2_loss: 1.7231 - output_3_loss: 0.0388 - output_4_loss: 13.1589 - output_3_precision: 0.6343 - output_3_recall: 0.1069 - output_3_true_positives: 28895.0000 - output_3_false_positives: 16656.0000 - val_loss: 24.1385 - val_output_1_loss: 4.3404 - val_output_2_loss: 0.6434 - val_output_3_loss: 0.0439 - val_output_4_loss: 13.9953 - val_output_3_precision: 0.7891 - val_output_3_recall: 0.0627 - val_output_3_true_positives: 741.0000 - val_output_3_false_positives: 198.0000\n",
      "Epoch 16/20\n",
      "4607/4607 [==============================] - 267s 58ms/step - loss: 26.3844 - output_1_loss: 4.8789 - output_2_loss: 1.6730 - output_3_loss: 0.0387 - output_4_loss: 13.1259 - output_3_precision: 0.6346 - output_3_recall: 0.1084 - output_3_true_positives: 29297.0000 - output_3_false_positives: 16868.0000 - val_loss: 24.1332 - val_output_1_loss: 4.2847 - val_output_2_loss: 0.6835 - val_output_3_loss: 0.0440 - val_output_4_loss: 14.0205 - val_output_3_precision: 0.8065 - val_output_3_recall: 0.0655 - val_output_3_true_positives: 775.0000 - val_output_3_false_positives: 186.0000\n",
      "Epoch 17/20\n",
      "4607/4607 [==============================] - 274s 59ms/step - loss: 26.2210 - output_1_loss: 4.8541 - output_2_loss: 1.6335 - output_3_loss: 0.0386 - output_4_loss: 13.0914 - output_3_precision: 0.6354 - output_3_recall: 0.1101 - output_3_true_positives: 29763.0000 - output_3_false_positives: 17078.0000 - val_loss: 23.7330 - val_output_1_loss: 4.2123 - val_output_2_loss: 0.5952 - val_output_3_loss: 0.0438 - val_output_4_loss: 13.9428 - val_output_3_precision: 0.8019 - val_output_3_recall: 0.0640 - val_output_3_true_positives: 757.0000 - val_output_3_false_positives: 187.0000\n",
      "Epoch 18/20\n",
      "4607/4607 [==============================] - 280s 61ms/step - loss: 26.2165 - output_1_loss: 4.8009 - output_2_loss: 1.7067 - output_3_loss: 0.0385 - output_4_loss: 13.0474 - output_3_precision: 0.6354 - output_3_recall: 0.1105 - output_3_true_positives: 29862.0000 - output_3_false_positives: 17133.0000 - val_loss: 23.6578 - val_output_1_loss: 4.1809 - val_output_2_loss: 0.6381 - val_output_3_loss: 0.0435 - val_output_4_loss: 13.8460 - val_output_3_precision: 0.7875 - val_output_3_recall: 0.0671 - val_output_3_true_positives: 793.0000 - val_output_3_false_positives: 214.0000\n",
      "Epoch 19/20\n",
      "4607/4607 [==============================] - 281s 61ms/step - loss: 25.9997 - output_1_loss: 4.7843 - output_2_loss: 1.6310 - output_3_loss: 0.0384 - output_4_loss: 13.0155 - output_3_precision: 0.6385 - output_3_recall: 0.1124 - output_3_true_positives: 30374.0000 - output_3_false_positives: 17200.0000 - val_loss: 23.4975 - val_output_1_loss: 4.0835 - val_output_2_loss: 0.6323 - val_output_3_loss: 0.0437 - val_output_4_loss: 13.8911 - val_output_3_precision: 0.7800 - val_output_3_recall: 0.0639 - val_output_3_true_positives: 755.0000 - val_output_3_false_positives: 213.0000\n",
      "Epoch 20/20\n",
      "4607/4607 [==============================] - 277s 60ms/step - loss: 25.9816 - output_1_loss: 4.7517 - output_2_loss: 1.6735 - output_3_loss: 0.0383 - output_4_loss: 12.9783 - output_3_precision: 0.6382 - output_3_recall: 0.1132 - output_3_true_positives: 30573.0000 - output_3_false_positives: 17330.0000 - val_loss: 23.2753 - val_output_1_loss: 4.0469 - val_output_2_loss: 0.6102 - val_output_3_loss: 0.0433 - val_output_4_loss: 13.7879 - val_output_3_precision: 0.7884 - val_output_3_recall: 0.0668 - val_output_3_true_positives: 790.0000 - val_output_3_false_positives: 212.0000\n"
     ]
    }
   ],
   "source": [
    "history = model.fit(train_dataset, epochs=20,validation_data=val_dataset)"
   ]
  },
  {
   "cell_type": "code",
   "execution_count": null,
   "metadata": {},
   "outputs": [],
   "source": []
  },
  {
   "cell_type": "code",
   "execution_count": 12,
   "metadata": {},
   "outputs": [],
   "source": [
    "os.chdir(root_path+\"/json_final_experiment\")\n",
    "import json\n",
    "#json.dumps(str(a))\n",
    "with open('history_semi_finetuning_2221_20_epoch_nadam_0dot00001_mse_mse_3anchors_con_data_aug.json', 'w') as fp:\n",
    "    json.dump(str(history.history), fp)"
   ]
  },
  {
   "cell_type": "code",
   "execution_count": 13,
   "metadata": {},
   "outputs": [],
   "source": [
    "model.save_weights(root_path+'/last_weights/pesos_semi_finetuning_2221_20_epoch_nadam_0dot00001_mse_mse_3anchors_con_data_aug')"
   ]
  },
  {
   "cell_type": "code",
   "execution_count": null,
   "metadata": {},
   "outputs": [],
   "source": []
  },
  {
   "cell_type": "code",
   "execution_count": null,
   "metadata": {},
   "outputs": [],
   "source": []
  },
  {
   "cell_type": "markdown",
   "metadata": {},
   "source": [
    "## CONTINUACIÓN"
   ]
  },
  {
   "cell_type": "code",
   "execution_count": 7,
   "metadata": {},
   "outputs": [
    {
     "name": "stdout",
     "output_type": "stream",
     "text": [
      "Modo entrenamiento\n"
     ]
    },
    {
     "data": {
      "text/plain": [
       "<tensorflow.python.training.tracking.util.CheckpointLoadStatus at 0x7faff4512d68>"
      ]
     },
     "execution_count": 7,
     "metadata": {},
     "output_type": "execute_result"
    }
   ],
   "source": [
    "anchors =tf.constant(np.array([[0,0,0.02078,0.049],[0,0,0.0426,0.128],[0,0,0.08523,0.19356],[0,0,0.1506,0.4163],[0,0,0.27835,0.58651],[0,0,0.5632,0.78614]]),dtype=tf.float32)\n",
    "model = TinyYOLOv3(1,anchor_boxes=anchors,train=True,mode = \"finetuning\")\n",
    "model.build(batch_input_shape=(None,416,416,3))\n",
    "#print(model.load_weights_darknet(\"/home/sergio/TinyYOLOv3-Pedestrian-Detection/yolov3-tiny.weights\"))\n",
    "model.load_weights(root_path+'/last_weights/pesos_finetuning_1121_20_epoch_nadam_0dot00001_mse_mse_3anchors_con_data_aug')"
   ]
  },
  {
   "cell_type": "code",
   "execution_count": 8,
   "metadata": {},
   "outputs": [
    {
     "name": "stdout",
     "output_type": "stream",
     "text": [
      "BasicBlock1 True\n",
      "BasicBlock2 True\n",
      "BasicBlock3 True\n",
      "BasicBlock4 True\n",
      "BasicBlock5 True\n",
      "BasicBlock6 True\n",
      "BasicBlock7 True\n",
      "BasicBlock8 True\n",
      "BasicBlock9 True\n",
      "FinalBlock1 True\n",
      "BasicBlock11 True\n",
      "BasicBlock12 True\n",
      "FinalBlock2 True\n",
      "Concatenate True\n",
      "Upsampling True\n",
      "Prediction1 True\n",
      "Prediction2 True\n",
      "Concatenate_BBOX True\n"
     ]
    }
   ],
   "source": [
    "for l in model.layers:\n",
    "    print(l.name, l.trainable)\n",
    "    pass"
   ]
  },
  {
   "cell_type": "code",
   "execution_count": 9,
   "metadata": {},
   "outputs": [],
   "source": [
    "tf.random.set_seed(0)\n",
    "\n",
    "from tensorflow.keras.metrics import TrueNegatives,TruePositives,FalseNegatives,FalsePositives,Precision,Recall\n",
    "\n",
    "opt = tf.keras.optimizers.Nadam(learning_rate=3e-4)\n",
    "\n",
    "losses = {\"output_1\": loss_xy,\n",
    "          \"output_2\": loss_wh,\n",
    "          \"output_3\":loss_objectness,\n",
    "          \"output_4\":loss_no_objectness  \n",
    "}\n",
    "\n",
    "metrics = {\"output_3\":[Precision(0.5),Recall(0.5),TruePositives(0.5),FalsePositives(0.5)]}\n",
    "model.compile(optimizer=opt, loss=losses,metrics=metrics,loss_weights=[1,1,2,1])\n",
    "os.chdir(root_path+ \"/pedestrian_dataset_train_tfr\")"
   ]
  },
  {
   "cell_type": "code",
   "execution_count": 10,
   "metadata": {},
   "outputs": [],
   "source": [
    "#val_loss: 15.5969 - val_output_1_loss: 0.8771 - val_output_2_loss: 0.2821 - val_output_3_loss: 0.0319 - val_output_4_loss: 9.7367"
   ]
  },
  {
   "cell_type": "code",
   "execution_count": 11,
   "metadata": {
    "scrolled": true
   },
   "outputs": [
    {
     "name": "stdout",
     "output_type": "stream",
     "text": [
      "Epoch 1/10\n",
      "Modo entrenamiento\n",
      "Modo entrenamiento\n",
      "   4607/Unknown - 590s 128ms/step - loss: 14.6349 - output_1_loss: 3.7127 - output_2_loss: 1.2422 - output_3_loss: 0.0294 - output_4_loss: 9.6212 - output_3_precision: 0.7354 - output_3_recall: 0.3089 - output_3_true_positives: 83465.0000 - output_3_false_positives: 30024.0000Modo entrenamiento\n",
      "4607/4607 [==============================] - 597s 130ms/step - loss: 14.6349 - output_1_loss: 3.7127 - output_2_loss: 1.2422 - output_3_loss: 0.0294 - output_4_loss: 9.6212 - output_3_precision: 0.7354 - output_3_recall: 0.3089 - output_3_true_positives: 83465.0000 - output_3_false_positives: 30024.0000 - val_loss: 13.6064 - val_output_1_loss: 2.9289 - val_output_2_loss: 0.4978 - val_output_3_loss: 0.0341 - val_output_4_loss: 10.1114 - val_output_3_precision: 0.9018 - val_output_3_recall: 0.2431 - val_output_3_true_positives: 2875.0000 - val_output_3_false_positives: 313.0000\n",
      "Epoch 2/10\n",
      "4607/4607 [==============================] - 576s 125ms/step - loss: 14.4029 - output_1_loss: 3.6842 - output_2_loss: 1.1946 - output_3_loss: 0.0290 - output_4_loss: 9.4661 - output_3_precision: 0.7395 - output_3_recall: 0.3209 - output_3_true_positives: 86725.0000 - output_3_false_positives: 30553.0000 - val_loss: 13.3406 - val_output_1_loss: 2.8021 - val_output_2_loss: 0.4655 - val_output_3_loss: 0.0340 - val_output_4_loss: 10.0049 - val_output_3_precision: 0.9059 - val_output_3_recall: 0.2411 - val_output_3_true_positives: 2851.0000 - val_output_3_false_positives: 296.0000\n",
      "Epoch 3/10\n",
      "4607/4607 [==============================] - 564s 122ms/step - loss: 14.3827 - output_1_loss: 3.6855 - output_2_loss: 1.2476 - output_3_loss: 0.0288 - output_4_loss: 9.3919 - output_3_precision: 0.7448 - output_3_recall: 0.3280 - output_3_true_positives: 88639.0000 - output_3_false_positives: 30379.0000 - val_loss: 12.9184 - val_output_1_loss: 2.7029 - val_output_2_loss: 0.4441 - val_output_3_loss: 0.0330 - val_output_4_loss: 9.7054 - val_output_3_precision: 0.9020 - val_output_3_recall: 0.2569 - val_output_3_true_positives: 3037.0000 - val_output_3_false_positives: 330.0000\n",
      "Epoch 4/10\n",
      "4607/4607 [==============================] - 577s 125ms/step - loss: 14.1614 - output_1_loss: 3.6074 - output_2_loss: 1.2141 - output_3_loss: 0.0285 - output_4_loss: 9.2828 - output_3_precision: 0.7471 - output_3_recall: 0.3359 - output_3_true_positives: 90792.0000 - output_3_false_positives: 30741.0000 - val_loss: 12.8330 - val_output_1_loss: 2.7133 - val_output_2_loss: 0.4741 - val_output_3_loss: 0.0327 - val_output_4_loss: 9.5801 - val_output_3_precision: 0.9011 - val_output_3_recall: 0.2698 - val_output_3_true_positives: 3190.0000 - val_output_3_false_positives: 350.0000\n",
      "Epoch 5/10\n",
      "4607/4607 [==============================] - 562s 122ms/step - loss: 13.9495 - output_1_loss: 3.5575 - output_2_loss: 1.2000 - output_3_loss: 0.0281 - output_4_loss: 9.1358 - output_3_precision: 0.7505 - output_3_recall: 0.3464 - output_3_true_positives: 93628.0000 - output_3_false_positives: 31120.0000 - val_loss: 12.5208 - val_output_1_loss: 2.6507 - val_output_2_loss: 0.4819 - val_output_3_loss: 0.0317 - val_output_4_loss: 9.3248 - val_output_3_precision: 0.9080 - val_output_3_recall: 0.2721 - val_output_3_true_positives: 3217.0000 - val_output_3_false_positives: 326.0000\n",
      "Epoch 6/10\n",
      "4607/4607 [==============================] - 559s 121ms/step - loss: 13.8199 - output_1_loss: 3.5383 - output_2_loss: 1.1921 - output_3_loss: 0.0278 - output_4_loss: 9.0338 - output_3_precision: 0.7559 - output_3_recall: 0.3558 - output_3_true_positives: 96166.0000 - output_3_false_positives: 31058.0000 - val_loss: 12.3132 - val_output_1_loss: 2.5594 - val_output_2_loss: 0.4475 - val_output_3_loss: 0.0319 - val_output_4_loss: 9.2425 - val_output_3_precision: 0.9225 - val_output_3_recall: 0.2848 - val_output_3_true_positives: 3368.0000 - val_output_3_false_positives: 283.0000\n",
      "Epoch 7/10\n",
      "4607/4607 [==============================] - 575s 125ms/step - loss: 13.6386 - output_1_loss: 3.4892 - output_2_loss: 1.1934 - output_3_loss: 0.0274 - output_4_loss: 8.9011 - output_3_precision: 0.7579 - output_3_recall: 0.3649 - output_3_true_positives: 98630.0000 - output_3_false_positives: 31499.0000 - val_loss: 12.1749 - val_output_1_loss: 2.5119 - val_output_2_loss: 0.4933 - val_output_3_loss: 0.0314 - val_output_4_loss: 9.1068 - val_output_3_precision: 0.9231 - val_output_3_recall: 0.2912 - val_output_3_true_positives: 3443.0000 - val_output_3_false_positives: 287.0000\n",
      "Epoch 8/10\n",
      "4607/4607 [==============================] - 565s 123ms/step - loss: 13.4750 - output_1_loss: 3.4558 - output_2_loss: 1.1350 - output_3_loss: 0.0273 - output_4_loss: 8.8297 - output_3_precision: 0.7621 - output_3_recall: 0.3719 - output_3_true_positives: 100478.0000 - output_3_false_positives: 31372.0000 - val_loss: 11.8947 - val_output_1_loss: 2.4681 - val_output_2_loss: 0.4388 - val_output_3_loss: 0.0306 - val_output_4_loss: 8.9265 - val_output_3_precision: 0.9251 - val_output_3_recall: 0.3021 - val_output_3_true_positives: 3572.0000 - val_output_3_false_positives: 289.0000\n",
      "Epoch 9/10\n",
      "4607/4607 [==============================] - 545s 118ms/step - loss: 13.3577 - output_1_loss: 3.4272 - output_2_loss: 1.1652 - output_3_loss: 0.0269 - output_4_loss: 8.7115 - output_3_precision: 0.7665 - output_3_recall: 0.3822 - output_3_true_positives: 103275.0000 - output_3_false_positives: 31465.0000 - val_loss: 11.6058 - val_output_1_loss: 2.4759 - val_output_2_loss: 0.4598 - val_output_3_loss: 0.0297 - val_output_4_loss: 8.6108 - val_output_3_precision: 0.9251 - val_output_3_recall: 0.3092 - val_output_3_true_positives: 3656.0000 - val_output_3_false_positives: 296.0000\n",
      "Epoch 10/10\n",
      "4607/4607 [==============================] - 577s 125ms/step - loss: 13.2691 - output_1_loss: 3.3825 - output_2_loss: 1.2037 - output_3_loss: 0.0267 - output_4_loss: 8.6296 - output_3_precision: 0.7703 - output_3_recall: 0.3889 - output_3_true_positives: 105094.0000 - output_3_false_positives: 31340.0000 - val_loss: 11.3791 - val_output_1_loss: 2.3551 - val_output_2_loss: 0.4338 - val_output_3_loss: 0.0294 - val_output_4_loss: 8.5314 - val_output_3_precision: 0.9201 - val_output_3_recall: 0.3167 - val_output_3_true_positives: 3745.0000 - val_output_3_false_positives: 325.0000\n"
     ]
    }
   ],
   "source": [
    "os.chdir(root_path+ \"/pedestrian_dataset_train_tfr\")\n",
    "history = model.fit(train_dataset, epochs=10,validation_data=val_dataset)"
   ]
  },
  {
   "cell_type": "code",
   "execution_count": null,
   "metadata": {},
   "outputs": [],
   "source": []
  },
  {
   "cell_type": "code",
   "execution_count": null,
   "metadata": {},
   "outputs": [],
   "source": []
  },
  {
   "cell_type": "code",
   "execution_count": 12,
   "metadata": {},
   "outputs": [],
   "source": [
    "os.chdir(root_path+\"/json_final_experiment\")\n",
    "import json\n",
    "#json.dumps(str(a))\n",
    "with open('history_finetuning_1121_20_30_epoch_nadam_0dot00001_mse_mse_3anchors_con_data_aug.json', 'w') as fp:\n",
    "    json.dump(str(history.history), fp)"
   ]
  },
  {
   "cell_type": "code",
   "execution_count": 13,
   "metadata": {},
   "outputs": [],
   "source": [
    "model.save_weights(root_path+'/last_weights/pesos_finetuning_1121_20_30_epoch_nadam_0dot00001_mse_mse_3anchors_con_data_aug')"
   ]
  },
  {
   "cell_type": "code",
   "execution_count": null,
   "metadata": {},
   "outputs": [],
   "source": []
  },
  {
   "cell_type": "code",
   "execution_count": 14,
   "metadata": {
    "scrolled": false
   },
   "outputs": [
    {
     "name": "stdout",
     "output_type": "stream",
     "text": [
      "Epoch 1/10\n",
      "4607/4607 [==============================] - 578s 126ms/step - loss: 13.0990 - output_1_loss: 3.3636 - output_2_loss: 1.1667 - output_3_loss: 0.0264 - output_4_loss: 8.5159 - output_3_precision: 0.7726 - output_3_recall: 0.3974 - output_3_true_positives: 107377.0000 - output_3_false_positives: 31607.0000 - val_loss: 11.4555 - val_output_1_loss: 2.3725 - val_output_2_loss: 0.4888 - val_output_3_loss: 0.0295 - val_output_4_loss: 8.5352 - val_output_3_precision: 0.9198 - val_output_3_recall: 0.3296 - val_output_3_true_positives: 3897.0000 - val_output_3_false_positives: 340.0000\n",
      "Epoch 2/10\n",
      "4607/4607 [==============================] - 562s 122ms/step - loss: 12.9967 - output_1_loss: 3.3036 - output_2_loss: 1.2075 - output_3_loss: 0.0262 - output_4_loss: 8.4332 - output_3_precision: 0.7771 - output_3_recall: 0.4055 - output_3_true_positives: 109555.0000 - output_3_false_positives: 31422.0000 - val_loss: 10.8464 - val_output_1_loss: 2.2558 - val_output_2_loss: 0.4254 - val_output_3_loss: 0.0284 - val_output_4_loss: 8.1085 - val_output_3_precision: 0.9266 - val_output_3_recall: 0.3514 - val_output_3_true_positives: 4155.0000 - val_output_3_false_positives: 329.0000\n",
      "Epoch 3/10\n",
      "4607/4607 [==============================] - 597s 129ms/step - loss: 12.9178 - output_1_loss: 3.3294 - output_2_loss: 1.1373 - output_3_loss: 0.0261 - output_4_loss: 8.3989 - output_3_precision: 0.7800 - output_3_recall: 0.4089 - output_3_true_positives: 110510.0000 - output_3_false_positives: 31166.0000 - val_loss: 10.9222 - val_output_1_loss: 2.2732 - val_output_2_loss: 0.4861 - val_output_3_loss: 0.0284 - val_output_4_loss: 8.1062 - val_output_3_precision: 0.9354 - val_output_3_recall: 0.3477 - val_output_3_true_positives: 4111.0000 - val_output_3_false_positives: 284.0000\n",
      "Epoch 4/10\n",
      "4607/4607 [==============================] - 585s 127ms/step - loss: 12.8128 - output_1_loss: 3.2878 - output_2_loss: 1.2045 - output_3_loss: 0.0257 - output_4_loss: 8.2691 - output_3_precision: 0.7820 - output_3_recall: 0.4185 - output_3_true_positives: 113076.0000 - output_3_false_positives: 31525.0000 - val_loss: 10.9125 - val_output_1_loss: 2.2375 - val_output_2_loss: 0.4534 - val_output_3_loss: 0.0286 - val_output_4_loss: 8.1645 - val_output_3_precision: 0.9423 - val_output_3_recall: 0.3341 - val_output_3_true_positives: 3950.0000 - val_output_3_false_positives: 242.0000\n",
      "Epoch 5/10\n",
      "4607/4607 [==============================] - 579s 126ms/step - loss: 12.7513 - output_1_loss: 3.2987 - output_2_loss: 1.1648 - output_3_loss: 0.0256 - output_4_loss: 8.2365 - output_3_precision: 0.7842 - output_3_recall: 0.4222 - output_3_true_positives: 114103.0000 - output_3_false_positives: 31392.0000 - val_loss: 10.6958 - val_output_1_loss: 2.2063 - val_output_2_loss: 0.4199 - val_output_3_loss: 0.0279 - val_output_4_loss: 8.0137 - val_output_3_precision: 0.9306 - val_output_3_recall: 0.3563 - val_output_3_true_positives: 4213.0000 - val_output_3_false_positives: 314.0000\n",
      "Epoch 6/10\n",
      "4607/4607 [==============================] - 572s 124ms/step - loss: 12.5267 - output_1_loss: 3.2363 - output_2_loss: 1.1134 - output_3_loss: 0.0253 - output_4_loss: 8.1265 - output_3_precision: 0.7890 - output_3_recall: 0.4316 - output_3_true_positives: 116655.0000 - output_3_false_positives: 31196.0000 - val_loss: 10.7474 - val_output_1_loss: 2.1707 - val_output_2_loss: 0.4639 - val_output_3_loss: 0.0284 - val_output_4_loss: 8.0561 - val_output_3_precision: 0.9426 - val_output_3_recall: 0.3584 - val_output_3_true_positives: 4238.0000 - val_output_3_false_positives: 258.0000\n",
      "Epoch 7/10\n",
      "4607/4607 [==============================] - 574s 125ms/step - loss: 12.4950 - output_1_loss: 3.1931 - output_2_loss: 1.1619 - output_3_loss: 0.0252 - output_4_loss: 8.0896 - output_3_precision: 0.7897 - output_3_recall: 0.4353 - output_3_true_positives: 117646.0000 - output_3_false_positives: 31332.0000 - val_loss: 10.2689 - val_output_1_loss: 2.1159 - val_output_2_loss: 0.4189 - val_output_3_loss: 0.0270 - val_output_4_loss: 7.6801 - val_output_3_precision: 0.9427 - val_output_3_recall: 0.3631 - val_output_3_true_positives: 4293.0000 - val_output_3_false_positives: 261.0000\n",
      "Epoch 8/10\n",
      "4607/4607 [==============================] - 576s 125ms/step - loss: 12.4608 - output_1_loss: 3.2285 - output_2_loss: 1.1779 - output_3_loss: 0.0249 - output_4_loss: 8.0046 - output_3_precision: 0.7915 - output_3_recall: 0.4413 - output_3_true_positives: 119226.0000 - output_3_false_positives: 31416.0000 - val_loss: 10.2760 - val_output_1_loss: 2.1025 - val_output_2_loss: 0.4433 - val_output_3_loss: 0.0269 - val_output_4_loss: 7.6765 - val_output_3_precision: 0.9516 - val_output_3_recall: 0.3626 - val_output_3_true_positives: 4287.0000 - val_output_3_false_positives: 218.0000\n",
      "Epoch 9/10\n",
      "4607/4607 [==============================] - 593s 129ms/step - loss: 12.2985 - output_1_loss: 3.1760 - output_2_loss: 1.1576 - output_3_loss: 0.0246 - output_4_loss: 7.9157 - output_3_precision: 0.7950 - output_3_recall: 0.4478 - output_3_true_positives: 121024.0000 - output_3_false_positives: 31210.0000 - val_loss: 10.0373 - val_output_1_loss: 2.0735 - val_output_2_loss: 0.4452 - val_output_3_loss: 0.0262 - val_output_4_loss: 7.4663 - val_output_3_precision: 0.9407 - val_output_3_recall: 0.3785 - val_output_3_true_positives: 4475.0000 - val_output_3_false_positives: 282.0000\n",
      "Epoch 10/10\n",
      "4607/4607 [==============================] - 564s 122ms/step - loss: 12.2417 - output_1_loss: 3.1931 - output_2_loss: 1.1244 - output_3_loss: 0.0245 - output_4_loss: 7.8752 - output_3_precision: 0.7967 - output_3_recall: 0.4513 - output_3_true_positives: 121903.0000 - output_3_false_positives: 31114.0000 - val_loss: 9.6836 - val_output_1_loss: 2.0192 - val_output_2_loss: 0.4153 - val_output_3_loss: 0.0254 - val_output_4_loss: 7.1983 - val_output_3_precision: 0.9464 - val_output_3_recall: 0.4032 - val_output_3_true_positives: 4768.0000 - val_output_3_false_positives: 270.0000\n"
     ]
    }
   ],
   "source": [
    "os.chdir(root_path+ \"/pedestrian_dataset_train_tfr\")\n",
    "history = model.fit(train_dataset, epochs=10,validation_data=val_dataset)"
   ]
  },
  {
   "cell_type": "code",
   "execution_count": null,
   "metadata": {},
   "outputs": [],
   "source": []
  },
  {
   "cell_type": "code",
   "execution_count": 15,
   "metadata": {},
   "outputs": [],
   "source": [
    "os.chdir(root_path+\"/json_final_experiment\")\n",
    "import json\n",
    "#json.dumps(str(a))\n",
    "with open('history_finetuning_1121_30_40_epoch_nadam_0dot00001_mse_mse_3anchors_con_data_aug.json', 'w') as fp:\n",
    "    json.dump(str(history.history), fp)"
   ]
  },
  {
   "cell_type": "code",
   "execution_count": 16,
   "metadata": {},
   "outputs": [],
   "source": [
    "model.save_weights(root_path+'/last_weights/pesos_finetuning_1121_30_40_epoch_nadam_0dot00001_mse_mse_3anchors_con_data_aug')"
   ]
  },
  {
   "cell_type": "code",
   "execution_count": null,
   "metadata": {},
   "outputs": [],
   "source": []
  },
  {
   "cell_type": "code",
   "execution_count": 17,
   "metadata": {},
   "outputs": [
    {
     "name": "stdout",
     "output_type": "stream",
     "text": [
      "Epoch 1/10\n",
      "4607/4607 [==============================] - 568s 123ms/step - loss: 12.1393 - output_1_loss: 3.1615 - output_2_loss: 1.1372 - output_3_loss: 0.0243 - output_4_loss: 7.7921 - output_3_precision: 0.7993 - output_3_recall: 0.4601 - output_3_true_positives: 124395.0000 - output_3_false_positives: 31230.0000 - val_loss: 9.6893 - val_output_1_loss: 2.0382 - val_output_2_loss: 0.4126 - val_output_3_loss: 0.0253 - val_output_4_loss: 7.1880 - val_output_3_precision: 0.9515 - val_output_3_recall: 0.3936 - val_output_3_true_positives: 4654.0000 - val_output_3_false_positives: 237.0000\n",
      "Epoch 2/10\n",
      "4607/4607 [==============================] - 571s 124ms/step - loss: 12.0319 - output_1_loss: 3.1279 - output_2_loss: 1.1231 - output_3_loss: 0.0240 - output_4_loss: 7.7328 - output_3_precision: 0.8012 - output_3_recall: 0.4644 - output_3_true_positives: 125488.0000 - output_3_false_positives: 31139.0000 - val_loss: 9.2925 - val_output_1_loss: 1.9870 - val_output_2_loss: 0.4186 - val_output_3_loss: 0.0242 - val_output_4_loss: 6.8385 - val_output_3_precision: 0.9527 - val_output_3_recall: 0.4271 - val_output_3_true_positives: 5050.0000 - val_output_3_false_positives: 251.0000\n",
      "Epoch 3/10\n",
      "4607/4607 [==============================] - 578s 125ms/step - loss: 11.8888 - output_1_loss: 3.1006 - output_2_loss: 1.1098 - output_3_loss: 0.0238 - output_4_loss: 7.6308 - output_3_precision: 0.8036 - output_3_recall: 0.4733 - output_3_true_positives: 127941.0000 - output_3_false_positives: 31278.0000 - val_loss: 9.4241 - val_output_1_loss: 2.0082 - val_output_2_loss: 0.4208 - val_output_3_loss: 0.0246 - val_output_4_loss: 6.9459 - val_output_3_precision: 0.9534 - val_output_3_recall: 0.4151 - val_output_3_true_positives: 4908.0000 - val_output_3_false_positives: 240.0000\n",
      "Epoch 4/10\n",
      "4607/4607 [==============================] - 572s 124ms/step - loss: 11.9030 - output_1_loss: 3.0876 - output_2_loss: 1.1343 - output_3_loss: 0.0238 - output_4_loss: 7.6334 - output_3_precision: 0.8058 - output_3_recall: 0.4736 - output_3_true_positives: 127983.0000 - output_3_false_positives: 30846.0000 - val_loss: 9.1122 - val_output_1_loss: 2.0155 - val_output_2_loss: 0.4209 - val_output_3_loss: 0.0234 - val_output_4_loss: 6.6290 - val_output_3_precision: 0.9565 - val_output_3_recall: 0.4198 - val_output_3_true_positives: 4964.0000 - val_output_3_false_positives: 226.0000\n",
      "Epoch 5/10\n",
      "4607/4607 [==============================] - 569s 124ms/step - loss: 11.8374 - output_1_loss: 3.0667 - output_2_loss: 1.1437 - output_3_loss: 0.0237 - output_4_loss: 7.5797 - output_3_precision: 0.8071 - output_3_recall: 0.4777 - output_3_true_positives: 129086.0000 - output_3_false_positives: 30851.0000 - val_loss: 9.3051 - val_output_1_loss: 1.9388 - val_output_2_loss: 0.4757 - val_output_3_loss: 0.0244 - val_output_4_loss: 6.8419 - val_output_3_precision: 0.9548 - val_output_3_recall: 0.4306 - val_output_3_true_positives: 5091.0000 - val_output_3_false_positives: 241.0000\n",
      "Epoch 6/10\n",
      "4607/4607 [==============================] - 559s 121ms/step - loss: 11.7160 - output_1_loss: 3.0870 - output_2_loss: 1.1059 - output_3_loss: 0.0233 - output_4_loss: 7.4765 - output_3_precision: 0.8104 - output_3_recall: 0.4860 - output_3_true_positives: 131319.0000 - output_3_false_positives: 30730.0000 - val_loss: 8.8283 - val_output_1_loss: 1.8982 - val_output_2_loss: 0.4020 - val_output_3_loss: 0.0229 - val_output_4_loss: 6.4823 - val_output_3_precision: 0.9611 - val_output_3_recall: 0.4364 - val_output_3_true_positives: 5160.0000 - val_output_3_false_positives: 209.0000\n",
      "Epoch 7/10\n",
      "4607/4607 [==============================] - 608s 132ms/step - loss: 11.6284 - output_1_loss: 3.0380 - output_2_loss: 1.1140 - output_3_loss: 0.0232 - output_4_loss: 7.4301 - output_3_precision: 0.8131 - output_3_recall: 0.4894 - output_3_true_positives: 132280.0000 - output_3_false_positives: 30406.0000 - val_loss: 8.8308 - val_output_1_loss: 1.9031 - val_output_2_loss: 0.4036 - val_output_3_loss: 0.0231 - val_output_4_loss: 6.4780 - val_output_3_precision: 0.9563 - val_output_3_recall: 0.4446 - val_output_3_true_positives: 5257.0000 - val_output_3_false_positives: 240.0000\n",
      "Epoch 8/10\n",
      "4607/4607 [==============================] - 629s 136ms/step - loss: 11.5526 - output_1_loss: 3.0144 - output_2_loss: 1.1149 - output_3_loss: 0.0229 - output_4_loss: 7.3774 - output_3_precision: 0.8143 - output_3_recall: 0.4944 - output_3_true_positives: 133609.0000 - output_3_false_positives: 30464.0000 - val_loss: 8.6948 - val_output_1_loss: 1.8838 - val_output_2_loss: 0.4126 - val_output_3_loss: 0.0224 - val_output_4_loss: 6.3536 - val_output_3_precision: 0.9508 - val_output_3_recall: 0.4509 - val_output_3_true_positives: 5331.0000 - val_output_3_false_positives: 276.0000\n",
      "Epoch 9/10\n",
      "4607/4607 [==============================] - 599s 130ms/step - loss: 11.5912 - output_1_loss: 3.0539 - output_2_loss: 1.1192 - output_3_loss: 0.0230 - output_4_loss: 7.3720 - output_3_precision: 0.8150 - output_3_recall: 0.4952 - output_3_true_positives: 133824.0000 - output_3_false_positives: 30376.0000 - val_loss: 8.5004 - val_output_1_loss: 1.8541 - val_output_2_loss: 0.4238 - val_output_3_loss: 0.0221 - val_output_4_loss: 6.1783 - val_output_3_precision: 0.9607 - val_output_3_recall: 0.4569 - val_output_3_true_positives: 5402.0000 - val_output_3_false_positives: 221.0000\n",
      "Epoch 10/10\n",
      "4607/4607 [==============================] - 608s 132ms/step - loss: 11.4480 - output_1_loss: 3.0083 - output_2_loss: 1.1329 - output_3_loss: 0.0226 - output_4_loss: 7.2616 - output_3_precision: 0.8179 - output_3_recall: 0.5032 - output_3_true_positives: 135961.0000 - output_3_false_positives: 30278.0000 - val_loss: 8.5790 - val_output_1_loss: 1.8337 - val_output_2_loss: 0.3974 - val_output_3_loss: 0.0225 - val_output_4_loss: 6.3029 - val_output_3_precision: 0.9592 - val_output_3_recall: 0.4539 - val_output_3_true_positives: 5367.0000 - val_output_3_false_positives: 228.0000\n"
     ]
    }
   ],
   "source": [
    "os.chdir(root_path+ \"/pedestrian_dataset_train_tfr\")\n",
    "history = model.fit(train_dataset, epochs=10,validation_data=val_dataset)"
   ]
  },
  {
   "cell_type": "code",
   "execution_count": null,
   "metadata": {},
   "outputs": [],
   "source": []
  },
  {
   "cell_type": "code",
   "execution_count": 18,
   "metadata": {},
   "outputs": [],
   "source": [
    "os.chdir(root_path+\"/json_final_experiment\")\n",
    "import json\n",
    "#json.dumps(str(a))\n",
    "with open('history_finetuning_1121_40_50_epoch_nadam_0dot00001_mse_mse_3anchors_con_data_aug.json', 'w') as fp:\n",
    "    json.dump(str(history.history), fp)"
   ]
  },
  {
   "cell_type": "code",
   "execution_count": 19,
   "metadata": {},
   "outputs": [],
   "source": [
    "model.save_weights(root_path+'/last_weights/pesos_finetuning_1121_40_50_epoch_nadam_0dot00001_mse_mse_3anchors_con_data_aug')"
   ]
  },
  {
   "cell_type": "code",
   "execution_count": null,
   "metadata": {},
   "outputs": [],
   "source": []
  },
  {
   "cell_type": "markdown",
   "metadata": {},
   "source": [
    "## repetir el experimento a partir de la epoca 50"
   ]
  },
  {
   "cell_type": "code",
   "execution_count": 9,
   "metadata": {},
   "outputs": [
    {
     "name": "stdout",
     "output_type": "stream",
     "text": [
      "Modo entrenamiento\n"
     ]
    },
    {
     "data": {
      "text/plain": [
       "<tensorflow.python.training.tracking.util.CheckpointLoadStatus at 0x7f1b37926e10>"
      ]
     },
     "execution_count": 9,
     "metadata": {},
     "output_type": "execute_result"
    }
   ],
   "source": [
    "anchors =tf.constant(np.array([[0,0,0.02078,0.049],[0,0,0.0426,0.128],[0,0,0.08523,0.19356],[0,0,0.1506,0.4163],[0,0,0.27835,0.58651],[0,0,0.5632,0.78614]]),dtype=tf.float32)\n",
    "model = TinyYOLOv3(1,anchor_boxes=anchors,train=True,mode = \"finetuning\")\n",
    "model.build(batch_input_shape=(None,416,416,3))\n",
    "#print(model.load_weights_darknet(\"/home/sergio/TinyYOLOv3-Pedestrian-Detection/yolov3-tiny.weights\"))\n",
    "model.load_weights(root_path+'/last_weights/pesos_finetuning_1121_40_50_epoch_nadam_0dot00001_mse_mse_3anchors_con_data_aug')"
   ]
  },
  {
   "cell_type": "code",
   "execution_count": 10,
   "metadata": {},
   "outputs": [
    {
     "name": "stdout",
     "output_type": "stream",
     "text": [
      "BasicBlock1 True\n",
      "BasicBlock2 True\n",
      "BasicBlock3 True\n",
      "BasicBlock4 True\n",
      "BasicBlock5 True\n",
      "BasicBlock6 True\n",
      "BasicBlock7 True\n",
      "BasicBlock8 True\n",
      "BasicBlock9 True\n",
      "FinalBlock1 True\n",
      "BasicBlock11 True\n",
      "BasicBlock12 True\n",
      "FinalBlock2 True\n",
      "Concatenate True\n",
      "Upsampling True\n",
      "Prediction1 True\n",
      "Prediction2 True\n",
      "Concatenate_BBOX True\n"
     ]
    }
   ],
   "source": [
    "for l in model.layers:\n",
    "    print(l.name, l.trainable)\n",
    "    pass"
   ]
  },
  {
   "cell_type": "code",
   "execution_count": 11,
   "metadata": {},
   "outputs": [],
   "source": [
    "tf.random.set_seed(0)\n",
    "\n",
    "from tensorflow.keras.metrics import TrueNegatives,TruePositives,FalseNegatives,FalsePositives,Precision,Recall\n",
    "\n",
    "opt = tf.keras.optimizers.Nadam(learning_rate=3e-4)\n",
    "\n",
    "losses = {\"output_1\": loss_xy,\n",
    "          \"output_2\": loss_wh,\n",
    "          \"output_3\":loss_objectness,\n",
    "          \"output_4\":loss_no_objectness  \n",
    "}\n",
    "\n",
    "metrics = {\"output_3\":[Precision(0.5),Recall(0.5),TruePositives(0.5),FalsePositives(0.5)]}\n",
    "model.compile(optimizer=opt, loss=losses,metrics=metrics,loss_weights=[1,1,2,1])\n",
    "os.chdir(root_path+ \"/pedestrian_dataset_train_tfr\")"
   ]
  },
  {
   "cell_type": "code",
   "execution_count": 12,
   "metadata": {},
   "outputs": [],
   "source": [
    "#val_loss: 15.5969 - val_output_1_loss: 0.8771 - val_output_2_loss: 0.2821 - val_output_3_loss: 0.0319 - val_output_4_loss: 9.7367"
   ]
  },
  {
   "cell_type": "code",
   "execution_count": 13,
   "metadata": {
    "scrolled": true
   },
   "outputs": [
    {
     "name": "stdout",
     "output_type": "stream",
     "text": [
      "Epoch 1/10\n",
      "Modo entrenamiento\n",
      "Modo entrenamiento\n",
      "   4607/Unknown - 565s 123ms/step - loss: 11.4797 - output_1_loss: 3.0330 - output_2_loss: 1.1180 - output_3_loss: 0.0227 - output_4_loss: 7.2832 - output_3_precision: 0.8187 - output_3_recall: 0.5030 - output_3_true_positives: 135941.0000 - output_3_false_positives: 30099.0000Modo entrenamiento\n",
      "4607/4607 [==============================] - 573s 124ms/step - loss: 11.4797 - output_1_loss: 3.0330 - output_2_loss: 1.1180 - output_3_loss: 0.0227 - output_4_loss: 7.2832 - output_3_precision: 0.8187 - output_3_recall: 0.5030 - output_3_true_positives: 135941.0000 - output_3_false_positives: 30099.0000 - val_loss: 8.2701 - val_output_1_loss: 1.7938 - val_output_2_loss: 0.3982 - val_output_3_loss: 0.0214 - val_output_4_loss: 6.0352 - val_output_3_precision: 0.9617 - val_output_3_recall: 0.4647 - val_output_3_true_positives: 5495.0000 - val_output_3_false_positives: 219.0000\n",
      "Epoch 2/10\n",
      "4607/4607 [==============================] - 617s 134ms/step - loss: 11.3295 - output_1_loss: 3.0042 - output_2_loss: 1.0683 - output_3_loss: 0.0224 - output_4_loss: 7.2121 - output_3_precision: 0.8205 - output_3_recall: 0.5083 - output_3_true_positives: 137306.0000 - output_3_false_positives: 30029.0000 - val_loss: 8.2702 - val_output_1_loss: 1.8215 - val_output_2_loss: 0.3881 - val_output_3_loss: 0.0215 - val_output_4_loss: 6.0175 - val_output_3_precision: 0.9646 - val_output_3_recall: 0.4612 - val_output_3_true_positives: 5453.0000 - val_output_3_false_positives: 200.0000\n",
      "Epoch 3/10\n",
      "4607/4607 [==============================] - 608s 132ms/step - loss: 11.4092 - output_1_loss: 3.0046 - output_2_loss: 1.1381 - output_3_loss: 0.0225 - output_4_loss: 7.2215 - output_3_precision: 0.8214 - output_3_recall: 0.5095 - output_3_true_positives: 137685.0000 - output_3_false_positives: 29939.0000 - val_loss: 8.3234 - val_output_1_loss: 1.7684 - val_output_2_loss: 0.3937 - val_output_3_loss: 0.0218 - val_output_4_loss: 6.1177 - val_output_3_precision: 0.9623 - val_output_3_recall: 0.4666 - val_output_3_true_positives: 5517.0000 - val_output_3_false_positives: 216.0000\n",
      "Epoch 4/10\n",
      "4607/4607 [==============================] - 572s 124ms/step - loss: 11.2695 - output_1_loss: 2.9765 - output_2_loss: 1.1059 - output_3_loss: 0.0223 - output_4_loss: 7.1426 - output_3_precision: 0.8217 - output_3_recall: 0.5140 - output_3_true_positives: 138925.0000 - output_3_false_positives: 30155.0000 - val_loss: 8.1734 - val_output_1_loss: 1.7685 - val_output_2_loss: 0.4076 - val_output_3_loss: 0.0210 - val_output_4_loss: 5.9553 - val_output_3_precision: 0.9643 - val_output_3_recall: 0.4731 - val_output_3_true_positives: 5594.0000 - val_output_3_false_positives: 207.0000\n",
      "Epoch 5/10\n",
      "4607/4607 [==============================] - 553s 120ms/step - loss: 11.1099 - output_1_loss: 2.9510 - output_2_loss: 1.0738 - output_3_loss: 0.0219 - output_4_loss: 7.0412 - output_3_precision: 0.8273 - output_3_recall: 0.5234 - output_3_true_positives: 141413.0000 - output_3_false_positives: 29528.0000 - val_loss: 8.1963 - val_output_1_loss: 1.7174 - val_output_2_loss: 0.4054 - val_output_3_loss: 0.0214 - val_output_4_loss: 6.0308 - val_output_3_precision: 0.9680 - val_output_3_recall: 0.4624 - val_output_3_true_positives: 5468.0000 - val_output_3_false_positives: 181.0000\n",
      "Epoch 6/10\n",
      "4607/4607 [==============================] - 544s 118ms/step - loss: 11.1353 - output_1_loss: 2.9507 - output_2_loss: 1.0866 - output_3_loss: 0.0219 - output_4_loss: 7.0540 - output_3_precision: 0.8269 - output_3_recall: 0.5230 - output_3_true_positives: 141303.0000 - output_3_false_positives: 29573.0000 - val_loss: 7.8041 - val_output_1_loss: 1.7343 - val_output_2_loss: 0.3895 - val_output_3_loss: 0.0201 - val_output_4_loss: 5.6401 - val_output_3_precision: 0.9681 - val_output_3_recall: 0.4849 - val_output_3_true_positives: 5734.0000 - val_output_3_false_positives: 189.0000\n",
      "Epoch 7/10\n",
      "4607/4607 [==============================] - 564s 122ms/step - loss: 11.0978 - output_1_loss: 2.9459 - output_2_loss: 1.0751 - output_3_loss: 0.0219 - output_4_loss: 7.0331 - output_3_precision: 0.8283 - output_3_recall: 0.5240 - output_3_true_positives: 141614.0000 - output_3_false_positives: 29365.0000 - val_loss: 7.8102 - val_output_1_loss: 1.6986 - val_output_2_loss: 0.3804 - val_output_3_loss: 0.0203 - val_output_4_loss: 5.6906 - val_output_3_precision: 0.9708 - val_output_3_recall: 0.4897 - val_output_3_true_positives: 5790.0000 - val_output_3_false_positives: 174.0000\n",
      "Epoch 8/10\n",
      "4607/4607 [==============================] - 546s 119ms/step - loss: 11.0213 - output_1_loss: 2.9259 - output_2_loss: 1.0983 - output_3_loss: 0.0217 - output_4_loss: 6.9536 - output_3_precision: 0.8301 - output_3_recall: 0.5307 - output_3_true_positives: 143374.0000 - output_3_false_positives: 29348.0000 - val_loss: 7.6767 - val_output_1_loss: 1.6925 - val_output_2_loss: 0.3848 - val_output_3_loss: 0.0196 - val_output_4_loss: 5.5602 - val_output_3_precision: 0.9695 - val_output_3_recall: 0.4967 - val_output_3_true_positives: 5873.0000 - val_output_3_false_positives: 185.0000\n",
      "Epoch 9/10\n",
      "4607/4607 [==============================] - 553s 120ms/step - loss: 10.9410 - output_1_loss: 2.9065 - output_2_loss: 1.0639 - output_3_loss: 0.0216 - output_4_loss: 6.9274 - output_3_precision: 0.8318 - output_3_recall: 0.5337 - output_3_true_positives: 144263.0000 - output_3_false_positives: 29182.0000 - val_loss: 7.5114 - val_output_1_loss: 1.6673 - val_output_2_loss: 0.3969 - val_output_3_loss: 0.0192 - val_output_4_loss: 5.4089 - val_output_3_precision: 0.9734 - val_output_3_recall: 0.5111 - val_output_3_true_positives: 6043.0000 - val_output_3_false_positives: 165.0000\n",
      "Epoch 10/10\n",
      "4607/4607 [==============================] - 561s 122ms/step - loss: 10.9512 - output_1_loss: 2.9020 - output_2_loss: 1.0882 - output_3_loss: 0.0215 - output_4_loss: 6.9180 - output_3_precision: 0.8321 - output_3_recall: 0.5350 - output_3_true_positives: 144562.0000 - output_3_false_positives: 29171.0000 - val_loss: 7.4197 - val_output_1_loss: 1.6946 - val_output_2_loss: 0.4036 - val_output_3_loss: 0.0187 - val_output_4_loss: 5.2841 - val_output_3_precision: 0.9637 - val_output_3_recall: 0.5225 - val_output_3_true_positives: 6178.0000 - val_output_3_false_positives: 233.0000\n"
     ]
    }
   ],
   "source": [
    "os.chdir(root_path+ \"/pedestrian_dataset_train_tfr\")\n",
    "history = model.fit(train_dataset, epochs=10,validation_data=val_dataset)"
   ]
  },
  {
   "cell_type": "code",
   "execution_count": null,
   "metadata": {},
   "outputs": [],
   "source": []
  },
  {
   "cell_type": "code",
   "execution_count": 14,
   "metadata": {},
   "outputs": [],
   "source": [
    "os.chdir(root_path+\"/json_final_experiment\")\n",
    "import json\n",
    "#json.dumps(str(a))\n",
    "with open('history_finetuning_1121_50_60_epoch_nadam_0dot00001_mse_mse_3anchors_con_data_aug.json', 'w') as fp:\n",
    "    json.dump(str(history.history), fp)"
   ]
  },
  {
   "cell_type": "code",
   "execution_count": 15,
   "metadata": {},
   "outputs": [],
   "source": [
    "model.save_weights(root_path+'/last_weights/pesos_finetuning_1121_50_60_epoch_nadam_0dot00001_mse_mse_3anchors_con_data_aug')"
   ]
  },
  {
   "cell_type": "code",
   "execution_count": null,
   "metadata": {},
   "outputs": [],
   "source": []
  },
  {
   "cell_type": "code",
   "execution_count": 16,
   "metadata": {},
   "outputs": [
    {
     "name": "stdout",
     "output_type": "stream",
     "text": [
      "Epoch 1/10\n",
      "4607/4607 [==============================] - 567s 123ms/step - loss: 10.8897 - output_1_loss: 2.9298 - output_2_loss: 1.0477 - output_3_loss: 0.0214 - output_4_loss: 6.8693 - output_3_precision: 0.8344 - output_3_recall: 0.5388 - output_3_true_positives: 145653.0000 - output_3_false_positives: 28916.0000 - val_loss: 7.5805 - val_output_1_loss: 1.6542 - val_output_2_loss: 0.3987 - val_output_3_loss: 0.0196 - val_output_4_loss: 5.4885 - val_output_3_precision: 0.9725 - val_output_3_recall: 0.5079 - val_output_3_true_positives: 6006.0000 - val_output_3_false_positives: 170.0000\n",
      "Epoch 2/10\n",
      "4607/4607 [==============================] - 552s 120ms/step - loss: 10.8366 - output_1_loss: 2.9071 - output_2_loss: 1.0937 - output_3_loss: 0.0211 - output_4_loss: 6.7935 - output_3_precision: 0.8362 - output_3_recall: 0.5442 - output_3_true_positives: 147070.0000 - output_3_false_positives: 28817.0000 - val_loss: 7.5400 - val_output_1_loss: 1.6393 - val_output_2_loss: 0.3899 - val_output_3_loss: 0.0196 - val_output_4_loss: 5.4715 - val_output_3_precision: 0.9676 - val_output_3_recall: 0.5174 - val_output_3_true_positives: 6118.0000 - val_output_3_false_positives: 205.0000\n",
      "Epoch 3/10\n",
      "4607/4607 [==============================] - 557s 121ms/step - loss: 10.7709 - output_1_loss: 2.8793 - output_2_loss: 1.0684 - output_3_loss: 0.0211 - output_4_loss: 6.7810 - output_3_precision: 0.8373 - output_3_recall: 0.5463 - output_3_true_positives: 147581.0000 - output_3_false_positives: 28674.0000 - val_loss: 7.2052 - val_output_1_loss: 1.6028 - val_output_2_loss: 0.3856 - val_output_3_loss: 0.0184 - val_output_4_loss: 5.1799 - val_output_3_precision: 0.9751 - val_output_3_recall: 0.5223 - val_output_3_true_positives: 6176.0000 - val_output_3_false_positives: 158.0000\n",
      "Epoch 4/10\n",
      "4607/4607 [==============================] - 564s 122ms/step - loss: 10.8725 - output_1_loss: 2.9186 - output_2_loss: 1.1042 - output_3_loss: 0.0212 - output_4_loss: 6.8073 - output_3_precision: 0.8384 - output_3_recall: 0.5455 - output_3_true_positives: 147433.0000 - output_3_false_positives: 28422.0000 - val_loss: 7.2983 - val_output_1_loss: 1.6433 - val_output_2_loss: 0.4057 - val_output_3_loss: 0.0183 - val_output_4_loss: 5.2128 - val_output_3_precision: 0.9678 - val_output_3_recall: 0.5266 - val_output_3_true_positives: 6227.0000 - val_output_3_false_positives: 207.0000\n",
      "Epoch 5/10\n",
      "4607/4607 [==============================] - 567s 123ms/step - loss: 10.7161 - output_1_loss: 2.8716 - output_2_loss: 1.0370 - output_3_loss: 0.0211 - output_4_loss: 6.7652 - output_3_precision: 0.8397 - output_3_recall: 0.5480 - output_3_true_positives: 148053.0000 - output_3_false_positives: 28262.0000 - val_loss: 7.3643 - val_output_1_loss: 1.6236 - val_output_2_loss: 0.3972 - val_output_3_loss: 0.0187 - val_output_4_loss: 5.3060 - val_output_3_precision: 0.9727 - val_output_3_recall: 0.5123 - val_output_3_true_positives: 6058.0000 - val_output_3_false_positives: 170.0000t_2_loss: 1.0481 - output_3_loss: 0.0213 - output_4_loss: 6.8120 - output_3_precision: 0.8397 - output_3_recall: 0.5478 - outp\n",
      "Epoch 6/10\n",
      "4607/4607 [==============================] - 563s 122ms/step - loss: 10.7444 - output_1_loss: 2.8608 - output_2_loss: 1.0954 - output_3_loss: 0.0210 - output_4_loss: 6.7462 - output_3_precision: 0.8395 - output_3_recall: 0.5505 - output_3_true_positives: 148742.0000 - output_3_false_positives: 28429.0000 - val_loss: 7.0750 - val_output_1_loss: 1.6016 - val_output_2_loss: 0.3933 - val_output_3_loss: 0.0179 - val_output_4_loss: 5.0442 - val_output_3_precision: 0.9753 - val_output_3_recall: 0.5343 - val_output_3_true_positives: 6318.0000 - val_output_3_false_positives: 160.0000 - output_2_loss: 1.1092 - output_3_loss: 0.0212 - output_4_loss:\n",
      "Epoch 7/10\n",
      "4607/4607 [==============================] - 563s 122ms/step - loss: 10.6215 - output_1_loss: 2.8765 - output_2_loss: 1.0306 - output_3_loss: 0.0207 - output_4_loss: 6.6729 - output_3_precision: 0.8406 - output_3_recall: 0.5544 - output_3_true_positives: 149812.0000 - output_3_false_positives: 28413.0000 - val_loss: 7.3003 - val_output_1_loss: 1.6215 - val_output_2_loss: 0.4120 - val_output_3_loss: 0.0187 - val_output_4_loss: 5.2295 - val_output_3_precision: 0.9748 - val_output_3_recall: 0.5232 - val_output_3_true_positives: 6186.0000 - val_output_3_false_positives: 160.0000\n",
      "Epoch 8/10\n",
      "4607/4607 [==============================] - 558s 121ms/step - loss: 10.5237 - output_1_loss: 2.8468 - output_2_loss: 1.0165 - output_3_loss: 0.0206 - output_4_loss: 6.6192 - output_3_precision: 0.8429 - output_3_recall: 0.5592 - output_3_true_positives: 151125.0000 - output_3_false_positives: 28172.0000 - val_loss: 6.8562 - val_output_1_loss: 1.5444 - val_output_2_loss: 0.3726 - val_output_3_loss: 0.0174 - val_output_4_loss: 4.9045 - val_output_3_precision: 0.9780 - val_output_3_recall: 0.5527 - val_output_3_true_positives: 6535.0000 - val_output_3_false_positives: 147.0000\n",
      "Epoch 9/10\n",
      "4607/4607 [==============================] - 527s 114ms/step - loss: 10.5785 - output_1_loss: 2.8557 - output_2_loss: 1.0715 - output_3_loss: 0.0206 - output_4_loss: 6.6100 - output_3_precision: 0.8449 - output_3_recall: 0.5610 - output_3_true_positives: 151610.0000 - output_3_false_positives: 27833.0000 - val_loss: 7.0341 - val_output_1_loss: 1.5701 - val_output_2_loss: 0.4095 - val_output_3_loss: 0.0178 - val_output_4_loss: 5.0189 - val_output_3_precision: 0.9746 - val_output_3_recall: 0.5410 - val_output_3_true_positives: 6397.0000 - val_output_3_false_positives: 167.0000\n",
      "Epoch 10/10\n",
      "4607/4607 [==============================] - 581s 126ms/step - loss: 10.4791 - output_1_loss: 2.8385 - output_2_loss: 1.0323 - output_3_loss: 0.0204 - output_4_loss: 6.5676 - output_3_precision: 0.8458 - output_3_recall: 0.5646 - output_3_true_positives: 152543.0000 - output_3_false_positives: 27803.0000 - val_loss: 7.0489 - val_output_1_loss: 1.5476 - val_output_2_loss: 0.3737 - val_output_3_loss: 0.0181 - val_output_4_loss: 5.0913 - val_output_3_precision: 0.9758 - val_output_3_recall: 0.5363 - val_output_3_true_positives: 6341.0000 - val_output_3_false_positives: 157.0000\n"
     ]
    }
   ],
   "source": [
    "os.chdir(root_path+ \"/pedestrian_dataset_train_tfr\")\n",
    "history = model.fit(train_dataset, epochs=10,validation_data=val_dataset)"
   ]
  },
  {
   "cell_type": "code",
   "execution_count": null,
   "metadata": {},
   "outputs": [],
   "source": []
  },
  {
   "cell_type": "code",
   "execution_count": 17,
   "metadata": {},
   "outputs": [],
   "source": [
    "os.chdir(root_path+\"/json_final_experiment\")\n",
    "import json\n",
    "#json.dumps(str(a))\n",
    "with open('history_finetuning_1121_60_70_epoch_nadam_0dot00001_mse_mse_3anchors_con_data_aug.json', 'w') as fp:\n",
    "    json.dump(str(history.history), fp)"
   ]
  },
  {
   "cell_type": "code",
   "execution_count": 18,
   "metadata": {},
   "outputs": [],
   "source": [
    "model.save_weights(root_path+'/last_weights/pesos_finetuning_1121_60_70_epoch_nadam_0dot00001_mse_mse_3anchors_con_data_aug')"
   ]
  },
  {
   "cell_type": "code",
   "execution_count": null,
   "metadata": {},
   "outputs": [],
   "source": []
  },
  {
   "cell_type": "code",
   "execution_count": 19,
   "metadata": {},
   "outputs": [
    {
     "name": "stdout",
     "output_type": "stream",
     "text": [
      "Epoch 1/10\n",
      "4607/4607 [==============================] - 553s 120ms/step - loss: 10.5094 - output_1_loss: 2.8288 - output_2_loss: 1.0403 - output_3_loss: 0.0205 - output_4_loss: 6.5992 - output_3_precision: 0.8470 - output_3_recall: 0.5628 - output_3_true_positives: 152070.0000 - output_3_false_positives: 27471.0000 - val_loss: 7.0605 - val_output_1_loss: 1.5645 - val_output_2_loss: 0.3827 - val_output_3_loss: 0.0178 - val_output_4_loss: 5.0777 - val_output_3_precision: 0.9706 - val_output_3_recall: 0.5365 - val_output_3_true_positives: 6344.0000 - val_output_3_false_positives: 192.0000\n",
      "Epoch 2/10\n",
      "4607/4607 [==============================] - 575s 125ms/step - loss: 10.4543 - output_1_loss: 2.7961 - output_2_loss: 1.0883 - output_3_loss: 0.0202 - output_4_loss: 6.5294 - output_3_precision: 0.8473 - output_3_recall: 0.5666 - output_3_true_positives: 153050.0000 - output_3_false_positives: 27573.0000 - val_loss: 7.0354 - val_output_1_loss: 1.5733 - val_output_2_loss: 0.3863 - val_output_3_loss: 0.0181 - val_output_4_loss: 5.0395 - val_output_3_precision: 0.9747 - val_output_3_recall: 0.5412 - val_output_3_true_positives: 6399.0000 - val_output_3_false_positives: 166.0000\n",
      "Epoch 3/10\n",
      "4607/4607 [==============================] - 618s 134ms/step - loss: 10.4674 - output_1_loss: 2.8265 - output_2_loss: 1.0602 - output_3_loss: 0.0203 - output_4_loss: 6.5400 - output_3_precision: 0.8472 - output_3_recall: 0.5668 - output_3_true_positives: 153188.0000 - output_3_false_positives: 27622.0000 - val_loss: 6.9863 - val_output_1_loss: 1.5798 - val_output_2_loss: 0.3966 - val_output_3_loss: 0.0177 - val_output_4_loss: 4.9744 - val_output_3_precision: 0.9735 - val_output_3_recall: 0.5447 - val_output_3_true_positives: 6440.0000 - val_output_3_false_positives: 175.0000\n",
      "Epoch 4/10\n",
      "4607/4607 [==============================] - 595s 129ms/step - loss: 10.4181 - output_1_loss: 2.8122 - output_2_loss: 1.0281 - output_3_loss: 0.0203 - output_4_loss: 6.5371 - output_3_precision: 0.8491 - output_3_recall: 0.5672 - output_3_true_positives: 153264.0000 - output_3_false_positives: 27240.0000 - val_loss: 7.0385 - val_output_1_loss: 1.5684 - val_output_2_loss: 0.4020 - val_output_3_loss: 0.0180 - val_output_4_loss: 5.0323 - val_output_3_precision: 0.9777 - val_output_3_recall: 0.5373 - val_output_3_true_positives: 6353.0000 - val_output_3_false_positives: 145.0000\n",
      "Epoch 5/10\n",
      "4607/4607 [==============================] - 566s 123ms/step - loss: 10.3473 - output_1_loss: 2.7817 - output_2_loss: 1.0845 - output_3_loss: 0.0199 - output_4_loss: 6.4412 - output_3_precision: 0.8511 - output_3_recall: 0.5748 - output_3_true_positives: 155298.0000 - output_3_false_positives: 27176.0000 - val_loss: 7.0637 - val_output_1_loss: 1.5581 - val_output_2_loss: 0.3716 - val_output_3_loss: 0.0185 - val_output_4_loss: 5.0970 - val_output_3_precision: 0.9733 - val_output_3_recall: 0.5431 - val_output_3_true_positives: 6422.0000 - val_output_3_false_positives: 176.0000\n",
      "Epoch 6/10\n",
      "4607/4607 [==============================] - 575s 125ms/step - loss: 10.4107 - output_1_loss: 2.8155 - output_2_loss: 1.0866 - output_3_loss: 0.0201 - output_4_loss: 6.4684 - output_3_precision: 0.8516 - output_3_recall: 0.5738 - output_3_true_positives: 155020.0000 - output_3_false_positives: 27009.0000 - val_loss: 6.6584 - val_output_1_loss: 1.5283 - val_output_2_loss: 0.3874 - val_output_3_loss: 0.0165 - val_output_4_loss: 4.7097 - val_output_3_precision: 0.9769 - val_output_3_recall: 0.5585 - val_output_3_true_positives: 6604.0000 - val_output_3_false_positives: 156.0000\n",
      "Epoch 7/10\n",
      "4607/4607 [==============================] - 601s 131ms/step - loss: 10.2408 - output_1_loss: 2.7770 - output_2_loss: 1.0329 - output_3_loss: 0.0198 - output_4_loss: 6.3913 - output_3_precision: 0.8528 - output_3_recall: 0.5782 - output_3_true_positives: 156223.0000 - output_3_false_positives: 26963.0000 - val_loss: 6.6783 - val_output_1_loss: 1.5352 - val_output_2_loss: 0.3646 - val_output_3_loss: 0.0170 - val_output_4_loss: 4.7445 - val_output_3_precision: 0.9806 - val_output_3_recall: 0.5519 - val_output_3_true_positives: 6526.0000 - val_output_3_false_positives: 129.0000\n",
      "Epoch 8/10\n",
      "4607/4607 [==============================] - 568s 123ms/step - loss: 10.2273 - output_1_loss: 2.7530 - output_2_loss: 1.0494 - output_3_loss: 0.0198 - output_4_loss: 6.3854 - output_3_precision: 0.8531 - output_3_recall: 0.5806 - output_3_true_positives: 156876.0000 - output_3_false_positives: 27010.0000 - val_loss: 6.3310 - val_output_1_loss: 1.5322 - val_output_2_loss: 0.3746 - val_output_3_loss: 0.0155 - val_output_4_loss: 4.3932 - val_output_3_precision: 0.9784 - val_output_3_recall: 0.5874 - val_output_3_true_positives: 6946.0000 - val_output_3_false_positives: 153.0000\n",
      "Epoch 9/10\n",
      "4607/4607 [==============================] - 577s 125ms/step - loss: 10.2038 - output_1_loss: 2.7465 - output_2_loss: 1.0889 - output_3_loss: 0.0196 - output_4_loss: 6.3292 - output_3_precision: 0.8542 - output_3_recall: 0.5840 - output_3_true_positives: 157803.0000 - output_3_false_positives: 26926.0000 - val_loss: 6.5355 - val_output_1_loss: 1.4851 - val_output_2_loss: 0.3782 - val_output_3_loss: 0.0166 - val_output_4_loss: 4.6389 - val_output_3_precision: 0.9771 - val_output_3_recall: 0.5766 - val_output_3_true_positives: 6818.0000 - val_output_3_false_positives: 160.0000\n",
      "Epoch 10/10\n",
      "4607/4607 [==============================] - 602s 131ms/step - loss: 10.1935 - output_1_loss: 2.7515 - output_2_loss: 1.0469 - output_3_loss: 0.0198 - output_4_loss: 6.3555 - output_3_precision: 0.8551 - output_3_recall: 0.5818 - output_3_true_positives: 157222.0000 - output_3_false_positives: 26650.0000 - val_loss: 6.4307 - val_output_1_loss: 1.4756 - val_output_2_loss: 0.3773 - val_output_3_loss: 0.0163 - val_output_4_loss: 4.5453 - val_output_3_precision: 0.9764 - val_output_3_recall: 0.5748 - val_output_3_true_positives: 6796.0000 - val_output_3_false_positives: 164.0000\n"
     ]
    }
   ],
   "source": [
    "os.chdir(root_path+ \"/pedestrian_dataset_train_tfr\")\n",
    "history = model.fit(train_dataset, epochs=10,validation_data=val_dataset)"
   ]
  },
  {
   "cell_type": "code",
   "execution_count": null,
   "metadata": {},
   "outputs": [],
   "source": []
  },
  {
   "cell_type": "code",
   "execution_count": 20,
   "metadata": {},
   "outputs": [],
   "source": [
    "os.chdir(root_path+\"/json_final_experiment\")\n",
    "import json\n",
    "#json.dumps(str(a))\n",
    "with open('history_finetuning_1121_70_80_epoch_nadam_0dot00001_mse_mse_3anchors_con_data_aug.json', 'w') as fp:\n",
    "    json.dump(str(history.history), fp)"
   ]
  },
  {
   "cell_type": "code",
   "execution_count": 21,
   "metadata": {},
   "outputs": [],
   "source": [
    "model.save_weights(root_path+'/last_weights/pesos_finetuning_1121_70_80_epoch_nadam_0dot00001_mse_mse_3anchors_con_data_aug')"
   ]
  },
  {
   "cell_type": "markdown",
   "metadata": {},
   "source": [
    "## CONTNUACION DESDE EPOCA 80"
   ]
  },
  {
   "cell_type": "code",
   "execution_count": 7,
   "metadata": {
    "scrolled": true
   },
   "outputs": [
    {
     "name": "stdout",
     "output_type": "stream",
     "text": [
      "Modo entrenamiento\n"
     ]
    },
    {
     "data": {
      "text/plain": [
       "<tensorflow.python.training.tracking.util.CheckpointLoadStatus at 0x7f3562eb9e80>"
      ]
     },
     "execution_count": 7,
     "metadata": {},
     "output_type": "execute_result"
    }
   ],
   "source": [
    "anchors =tf.constant(np.array([[0,0,0.02078,0.049],[0,0,0.0426,0.128],[0,0,0.08523,0.19356],[0,0,0.1506,0.4163],[0,0,0.27835,0.58651],[0,0,0.5632,0.78614]]),dtype=tf.float32)\n",
    "model = TinyYOLOv3(1,anchor_boxes=anchors,train=True,mode = \"finetuning\")\n",
    "model.build(batch_input_shape=(None,416,416,3))\n",
    "#print(model.load_weights_darknet(\"/home/sergio/TinyYOLOv3-Pedestrian-Detection/yolov3-tiny.weights\"))\n",
    "model.load_weights(root_path+'/last_weights/pesos_finetuning_1121_70_80_epoch_nadam_0dot00001_mse_mse_3anchors_con_data_aug')"
   ]
  },
  {
   "cell_type": "code",
   "execution_count": 8,
   "metadata": {},
   "outputs": [
    {
     "name": "stdout",
     "output_type": "stream",
     "text": [
      "BasicBlock1 True\n",
      "BasicBlock2 True\n",
      "BasicBlock3 True\n",
      "BasicBlock4 True\n",
      "BasicBlock5 True\n",
      "BasicBlock6 True\n",
      "BasicBlock7 True\n",
      "BasicBlock8 True\n",
      "BasicBlock9 True\n",
      "FinalBlock1 True\n",
      "BasicBlock11 True\n",
      "BasicBlock12 True\n",
      "FinalBlock2 True\n",
      "Concatenate True\n",
      "Upsampling True\n",
      "Prediction1 True\n",
      "Prediction2 True\n",
      "Concatenate_BBOX True\n"
     ]
    }
   ],
   "source": [
    "for l in model.layers:\n",
    "    print(l.name, l.trainable)\n",
    "    pass"
   ]
  },
  {
   "cell_type": "code",
   "execution_count": 9,
   "metadata": {},
   "outputs": [],
   "source": [
    "tf.random.set_seed(0)\n",
    "\n",
    "from tensorflow.keras.metrics import TrueNegatives,TruePositives,FalseNegatives,FalsePositives,Precision,Recall\n",
    "\n",
    "opt = tf.keras.optimizers.Nadam(learning_rate=3e-4)\n",
    "\n",
    "losses = {\"output_1\": loss_xy,\n",
    "          \"output_2\": loss_wh,\n",
    "          \"output_3\":loss_objectness,\n",
    "          \"output_4\":loss_no_objectness  \n",
    "}\n",
    "\n",
    "metrics = {\"output_3\":[Precision(0.5),Recall(0.5),TruePositives(0.5),FalsePositives(0.5)]}\n",
    "model.compile(optimizer=opt, loss=losses,metrics=metrics,loss_weights=[1,1,2,1])\n",
    "os.chdir(root_path+ \"/pedestrian_dataset_train_tfr\")"
   ]
  },
  {
   "cell_type": "code",
   "execution_count": 10,
   "metadata": {},
   "outputs": [],
   "source": [
    "#val_loss: 15.5969 - val_output_1_loss: 0.8771 - val_output_2_loss: 0.2821 - val_output_3_loss: 0.0319 - val_output_4_loss: 9.7367"
   ]
  },
  {
   "cell_type": "code",
   "execution_count": 11,
   "metadata": {
    "scrolled": true
   },
   "outputs": [
    {
     "name": "stdout",
     "output_type": "stream",
     "text": [
      "Epoch 1/10\n",
      "Modo entrenamiento\n",
      "Modo entrenamiento\n",
      "   4607/Unknown - 556s 121ms/step - loss: 10.1637 - output_1_loss: 2.7599 - output_2_loss: 1.0363 - output_3_loss: 0.0196 - output_4_loss: 6.3282 - output_3_precision: 0.8569 - output_3_recall: 0.5845 - output_3_true_positives: 157983.0000 - output_3_false_positives: 26391.0000Modo entrenamiento\n",
      "4607/4607 [==============================] - 564s 122ms/step - loss: 10.1637 - output_1_loss: 2.7599 - output_2_loss: 1.0363 - output_3_loss: 0.0196 - output_4_loss: 6.3282 - output_3_precision: 0.8569 - output_3_recall: 0.5845 - output_3_true_positives: 157983.0000 - output_3_false_positives: 26391.0000 - val_loss: 6.3997 - val_output_1_loss: 1.4494 - val_output_2_loss: 0.3623 - val_output_3_loss: 0.0164 - val_output_4_loss: 4.5553 - val_output_3_precision: 0.9776 - val_output_3_recall: 0.5793 - val_output_3_true_positives: 6850.0000 - val_output_3_false_positives: 157.0000\n",
      "Epoch 2/10\n",
      "4607/4607 [==============================] - 552s 120ms/step - loss: 10.0397 - output_1_loss: 2.7140 - output_2_loss: 1.0330 - output_3_loss: 0.0193 - output_4_loss: 6.2541 - output_3_precision: 0.8577 - output_3_recall: 0.5910 - output_3_true_positives: 159715.0000 - output_3_false_positives: 26500.0000 - val_loss: 6.1277 - val_output_1_loss: 1.4369 - val_output_2_loss: 0.3668 - val_output_3_loss: 0.0154 - val_output_4_loss: 4.2931 - val_output_3_precision: 0.9802 - val_output_3_recall: 0.5934 - val_output_3_true_positives: 7016.0000 - val_output_3_false_positives: 142.0000\n",
      "Epoch 3/10\n",
      "4607/4607 [==============================] - 568s 123ms/step - loss: 9.9833 - output_1_loss: 2.7280 - output_2_loss: 0.9940 - output_3_loss: 0.0192 - output_4_loss: 6.2229 - output_3_precision: 0.8596 - output_3_recall: 0.5937 - output_3_true_positives: 160421.0000 - output_3_false_positives: 26196.0000 - val_loss: 6.2877 - val_output_1_loss: 1.4226 - val_output_2_loss: 0.3710 - val_output_3_loss: 0.0159 - val_output_4_loss: 4.4622 - val_output_3_precision: 0.9792 - val_output_3_recall: 0.5803 - val_output_3_true_positives: 6861.0000 - val_output_3_false_positives: 146.0000\n",
      "Epoch 4/10\n",
      "4607/4607 [==============================] - 571s 124ms/step - loss: 10.0977 - output_1_loss: 2.7615 - output_2_loss: 1.0151 - output_3_loss: 0.0195 - output_4_loss: 6.2822 - output_3_precision: 0.8576 - output_3_recall: 0.5884 - output_3_true_positives: 158998.0000 - output_3_false_positives: 26409.0000 - val_loss: 6.5181 - val_output_1_loss: 1.4831 - val_output_2_loss: 0.4061 - val_output_3_loss: 0.0164 - val_output_4_loss: 4.5960 - val_output_3_precision: 0.9756 - val_output_3_recall: 0.5817 - val_output_3_true_positives: 6878.0000 - val_output_3_false_positives: 172.0000\n",
      "Epoch 5/10\n",
      "4607/4607 [==============================] - 552s 120ms/step - loss: 10.0510 - output_1_loss: 2.7549 - output_2_loss: 0.9957 - output_3_loss: 0.0194 - output_4_loss: 6.2615 - output_3_precision: 0.8577 - output_3_recall: 0.5892 - output_3_true_positives: 159266.0000 - output_3_false_positives: 26431.0000 - val_loss: 6.0569 - val_output_1_loss: 1.4290 - val_output_2_loss: 0.3695 - val_output_3_loss: 0.0150 - val_output_4_loss: 4.2284 - val_output_3_precision: 0.9774 - val_output_3_recall: 0.5991 - val_output_3_true_positives: 7084.0000 - val_output_3_false_positives: 164.0000\n",
      "Epoch 6/10\n",
      "4607/4607 [==============================] - 555s 120ms/step - loss: 9.9768 - output_1_loss: 2.7240 - output_2_loss: 1.0132 - output_3_loss: 0.0192 - output_4_loss: 6.2011 - output_3_precision: 0.8609 - output_3_recall: 0.5946 - output_3_true_positives: 160682.0000 - output_3_false_positives: 25954.0000 - val_loss: 6.0562 - val_output_1_loss: 1.4268 - val_output_2_loss: 0.3585 - val_output_3_loss: 0.0151 - val_output_4_loss: 4.2406 - val_output_3_precision: 0.9819 - val_output_3_recall: 0.5951 - val_output_3_true_positives: 7037.0000 - val_output_3_false_positives: 130.0000\n",
      "Epoch 7/10\n",
      "4607/4607 [==============================] - 575s 125ms/step - loss: 9.9317 - output_1_loss: 2.6925 - output_2_loss: 1.0173 - output_3_loss: 0.0192 - output_4_loss: 6.1836 - output_3_precision: 0.8607 - output_3_recall: 0.5952 - output_3_true_positives: 160809.0000 - output_3_false_positives: 26031.0000 - val_loss: 6.1225 - val_output_1_loss: 1.4244 - val_output_2_loss: 0.3606 - val_output_3_loss: 0.0155 - val_output_4_loss: 4.3065 - val_output_3_precision: 0.9784 - val_output_3_recall: 0.5924 - val_output_3_true_positives: 7005.0000 - val_output_3_false_positives: 155.0000\n",
      "Epoch 8/10\n",
      "4607/4607 [==============================] - 557s 121ms/step - loss: 9.9605 - output_1_loss: 2.7127 - output_2_loss: 1.0245 - output_3_loss: 0.0192 - output_4_loss: 6.1848 - output_3_precision: 0.8610 - output_3_recall: 0.5957 - output_3_true_positives: 161002.0000 - output_3_false_positives: 25995.0000 - val_loss: 6.1525 - val_output_1_loss: 1.4159 - val_output_2_loss: 0.3804 - val_output_3_loss: 0.0156 - val_output_4_loss: 4.3250 - val_output_3_precision: 0.9780 - val_output_3_recall: 0.5964 - val_output_3_true_positives: 7052.0000 - val_output_3_false_positives: 159.0000\n",
      "Epoch 9/10\n",
      "4607/4607 [==============================] - 559s 121ms/step - loss: 9.9791 - output_1_loss: 2.7460 - output_2_loss: 1.0077 - output_3_loss: 0.0193 - output_4_loss: 6.1869 - output_3_precision: 0.8612 - output_3_recall: 0.5956 - output_3_true_positives: 160946.0000 - output_3_false_positives: 25948.0000 - val_loss: 5.9797 - val_output_1_loss: 1.3943 - val_output_2_loss: 0.3843 - val_output_3_loss: 0.0149 - val_output_4_loss: 4.1713 - val_output_3_precision: 0.9809 - val_output_3_recall: 0.5990 - val_output_3_true_positives: 7083.0000 - val_output_3_false_positives: 138.0000\n",
      "Epoch 10/10\n",
      "4607/4607 [==============================] - 550s 119ms/step - loss: 9.8308 - output_1_loss: 2.6907 - output_2_loss: 0.9980 - output_3_loss: 0.0188 - output_4_loss: 6.1044 - output_3_precision: 0.8632 - output_3_recall: 0.6028 - output_3_true_positives: 162915.0000 - output_3_false_positives: 25826.0000 - val_loss: 5.7591 - val_output_1_loss: 1.3914 - val_output_2_loss: 0.3680 - val_output_3_loss: 0.0144 - val_output_4_loss: 3.9710 - val_output_3_precision: 0.9814 - val_output_3_recall: 0.6235 - val_output_3_true_positives: 7372.0000 - val_output_3_false_positives: 140.0000\n"
     ]
    }
   ],
   "source": [
    "os.chdir(root_path+ \"/pedestrian_dataset_train_tfr\")\n",
    "history = model.fit(train_dataset, epochs=10,validation_data=val_dataset)"
   ]
  },
  {
   "cell_type": "code",
   "execution_count": null,
   "metadata": {},
   "outputs": [],
   "source": []
  },
  {
   "cell_type": "code",
   "execution_count": 12,
   "metadata": {},
   "outputs": [],
   "source": [
    "os.chdir(root_path+\"/json_final_experiment\")\n",
    "import json\n",
    "#json.dumps(str(a))\n",
    "with open('history_finetuning_1121_80_90_epoch_nadam_0dot00001_mse_mse_3anchors_con_data_aug.json', 'w') as fp:\n",
    "    json.dump(str(history.history), fp)"
   ]
  },
  {
   "cell_type": "code",
   "execution_count": 13,
   "metadata": {},
   "outputs": [],
   "source": [
    "model.save_weights(root_path+'/last_weights/pesos_finetuning_1121_80_90_epoch_nadam_0dot00001_mse_mse_3anchors_con_data_aug')"
   ]
  },
  {
   "cell_type": "code",
   "execution_count": null,
   "metadata": {},
   "outputs": [],
   "source": []
  },
  {
   "cell_type": "markdown",
   "metadata": {},
   "source": [
    "# CONTINUACION EPOCAS DE LA 90 A LA 100"
   ]
  },
  {
   "cell_type": "code",
   "execution_count": null,
   "metadata": {},
   "outputs": [],
   "source": []
  },
  {
   "cell_type": "code",
   "execution_count": 7,
   "metadata": {},
   "outputs": [
    {
     "name": "stdout",
     "output_type": "stream",
     "text": [
      "Modo entrenamiento\n"
     ]
    },
    {
     "data": {
      "text/plain": [
       "<tensorflow.python.training.tracking.util.CheckpointLoadStatus at 0x7fc08bedb4e0>"
      ]
     },
     "execution_count": 7,
     "metadata": {},
     "output_type": "execute_result"
    }
   ],
   "source": [
    "anchors =tf.constant(np.array([[0,0,0.02078,0.049],[0,0,0.0426,0.128],[0,0,0.08523,0.19356],[0,0,0.1506,0.4163],[0,0,0.27835,0.58651],[0,0,0.5632,0.78614]]),dtype=tf.float32)\n",
    "model = TinyYOLOv3(1,anchor_boxes=anchors,train=True,mode = \"finetuning\")\n",
    "model.build(batch_input_shape=(None,416,416,3))\n",
    "#print(model.load_weights_darknet(\"/home/sergio/TinyYOLOv3-Pedestrian-Detection/yolov3-tiny.weights\"))\n",
    "model.load_weights(root_path+'/last_weights/pesos_finetuning_1121_80_90_epoch_nadam_0dot00001_mse_mse_3anchors_con_data_aug')"
   ]
  },
  {
   "cell_type": "code",
   "execution_count": 8,
   "metadata": {},
   "outputs": [],
   "source": [
    "tf.random.set_seed(0)\n",
    "\n",
    "from tensorflow.keras.metrics import TrueNegatives,TruePositives,FalseNegatives,FalsePositives,Precision,Recall\n",
    "\n",
    "opt = tf.keras.optimizers.Nadam(learning_rate=3e-4)\n",
    "\n",
    "losses = {\"output_1\": loss_xy,\n",
    "          \"output_2\": loss_wh,\n",
    "          \"output_3\":loss_objectness,\n",
    "          \"output_4\":loss_no_objectness  \n",
    "}\n",
    "\n",
    "metrics = {\"output_3\":[Precision(0.5),Recall(0.5),TruePositives(0.5),FalsePositives(0.5)]}\n",
    "model.compile(optimizer=opt, loss=losses,metrics=metrics,loss_weights=[1,1,2,1])\n",
    "os.chdir(root_path+ \"/pedestrian_dataset_train_tfr\")"
   ]
  },
  {
   "cell_type": "code",
   "execution_count": 9,
   "metadata": {},
   "outputs": [
    {
     "name": "stdout",
     "output_type": "stream",
     "text": [
      "Epoch 1/10\n",
      "Modo entrenamiento\n",
      "Modo entrenamiento\n",
      "   4607/Unknown - 579s 126ms/step - loss: 9.8747 - output_1_loss: 2.6954 - output_2_loss: 1.0173 - output_3_loss: 0.0189 - output_4_loss: 6.1242 - output_3_precision: 0.8630 - output_3_recall: 0.6006 - output_3_true_positives: 162368.0000 - output_3_false_positives: 25780.0000- 546s 126ms/step - loss: 9.8828 - output_1_loss: 2.7033 - output_2_loss: 1.01 - 566s 125ms/step - loss: 9.9384 - output_1_loss: 2.7149 - output_2_loss: 1.0277 - output_3_loss: 0.0191 - output_4_loss: 6.1577 - output_3_precision: 0.8631 - outputModo entrenamiento\n",
      "4607/4607 [==============================] - 586s 127ms/step - loss: 9.8747 - output_1_loss: 2.6954 - output_2_loss: 1.0173 - output_3_loss: 0.0189 - output_4_loss: 6.1242 - output_3_precision: 0.8630 - output_3_recall: 0.6006 - output_3_true_positives: 162368.0000 - output_3_false_positives: 25780.0000 - val_loss: 5.8917 - val_output_1_loss: 1.4194 - val_output_2_loss: 0.3791 - val_output_3_loss: 0.0144 - val_output_4_loss: 4.0643 - val_output_3_precision: 0.9791 - val_output_3_recall: 0.6129 - val_output_3_true_positives: 7247.0000 - val_output_3_false_positives: 155.0000\n",
      "Epoch 2/10\n",
      "4607/4607 [==============================] - 566s 123ms/step - loss: 9.8829 - output_1_loss: 2.7021 - output_2_loss: 1.0160 - output_3_loss: 0.0190 - output_4_loss: 6.1268 - output_3_precision: 0.8644 - output_3_recall: 0.5991 - output_3_true_positives: 161886.0000 - output_3_false_positives: 25400.0000 - val_loss: 6.0954 - val_output_1_loss: 1.3866 - val_output_2_loss: 0.3637 - val_output_3_loss: 0.0156 - val_output_4_loss: 4.3139 - val_output_3_precision: 0.9839 - val_output_3_recall: 0.5934 - val_output_3_true_positives: 7016.0000 - val_output_3_false_positives: 115.0000\n",
      "Epoch 3/10\n",
      "4607/4607 [==============================] - 565s 123ms/step - loss: 9.8138 - output_1_loss: 2.6894 - output_2_loss: 0.9649 - output_3_loss: 0.0190 - output_4_loss: 6.1215 - output_3_precision: 0.8637 - output_3_recall: 0.6002 - output_3_true_positives: 162177.0000 - output_3_false_positives: 25584.0000 - val_loss: 5.5700 - val_output_1_loss: 1.3538 - val_output_2_loss: 0.3663 - val_output_3_loss: 0.0136 - val_output_4_loss: 3.8227 - val_output_3_precision: 0.9793 - val_output_3_recall: 0.6428 - val_output_3_true_positives: 7601.0000 - val_output_3_false_positives: 161.0000\n",
      "Epoch 4/10\n",
      "4607/4607 [==============================] - 569s 124ms/step - loss: 9.8280 - output_1_loss: 2.6811 - output_2_loss: 1.0109 - output_3_loss: 0.0189 - output_4_loss: 6.0981 - output_3_precision: 0.8654 - output_3_recall: 0.6034 - output_3_true_positives: 163066.0000 - output_3_false_positives: 25357.0000 - val_loss: 5.8943 - val_output_1_loss: 1.3806 - val_output_2_loss: 0.3676 - val_output_3_loss: 0.0145 - val_output_4_loss: 4.1171 - val_output_3_precision: 0.9785 - val_output_3_recall: 0.6048 - val_output_3_true_positives: 7151.0000 - val_output_3_false_positives: 157.0000\n",
      "Epoch 5/10\n",
      "4607/4607 [==============================] - 568s 123ms/step - loss: 9.7522 - output_1_loss: 2.6577 - output_2_loss: 1.0072 - output_3_loss: 0.0187 - output_4_loss: 6.0498 - output_3_precision: 0.8670 - output_3_recall: 0.6065 - output_3_true_positives: 163858.0000 - output_3_false_positives: 25142.0000 - val_loss: 5.7603 - val_output_1_loss: 1.3680 - val_output_2_loss: 0.3573 - val_output_3_loss: 0.0143 - val_output_4_loss: 4.0063 - val_output_3_precision: 0.9832 - val_output_3_recall: 0.6184 - val_output_3_true_positives: 7312.0000 - val_output_3_false_positives: 125.0000\n",
      "Epoch 6/10\n",
      "4607/4607 [==============================] - 571s 124ms/step - loss: 9.7983 - output_1_loss: 2.6853 - output_2_loss: 1.0158 - output_3_loss: 0.0188 - output_4_loss: 6.0597 - output_3_precision: 0.8672 - output_3_recall: 0.6062 - output_3_true_positives: 163794.0000 - output_3_false_positives: 25087.0000 - val_loss: 5.7389 - val_output_1_loss: 1.3756 - val_output_2_loss: 0.3659 - val_output_3_loss: 0.0141 - val_output_4_loss: 3.9691 - val_output_3_precision: 0.9823 - val_output_3_recall: 0.6234 - val_output_3_true_positives: 7371.0000 - val_output_3_false_positives: 133.0000\n",
      "Epoch 7/10\n",
      "4607/4607 [==============================] - 571s 124ms/step - loss: 9.7918 - output_1_loss: 2.6471 - output_2_loss: 1.0622 - output_3_loss: 0.0188 - output_4_loss: 6.0450 - output_3_precision: 0.8670 - output_3_recall: 0.6072 - output_3_true_positives: 164063.0000 - output_3_false_positives: 25172.0000 - val_loss: 5.8696 - val_output_1_loss: 1.3482 - val_output_2_loss: 0.3838 - val_output_3_loss: 0.0147 - val_output_4_loss: 4.1082 - val_output_3_precision: 0.9840 - val_output_3_recall: 0.6078 - val_output_3_true_positives: 7187.0000 - val_output_3_false_positives: 117.0000\n",
      "Epoch 8/10\n",
      "4607/4607 [==============================] - 564s 122ms/step - loss: 9.6080 - output_1_loss: 2.6239 - output_2_loss: 0.9678 - output_3_loss: 0.0184 - output_4_loss: 5.9794 - output_3_precision: 0.8697 - output_3_recall: 0.6132 - output_3_true_positives: 165722.0000 - output_3_false_positives: 24820.0000 - val_loss: 5.8741 - val_output_1_loss: 1.3600 - val_output_2_loss: 0.3629 - val_output_3_loss: 0.0147 - val_output_4_loss: 4.1217 - val_output_3_precision: 0.9849 - val_output_3_recall: 0.6117 - val_output_3_true_positives: 7233.0000 - val_output_3_false_positives: 111.0000\n",
      "Epoch 9/10\n",
      "4607/4607 [==============================] - 566s 123ms/step - loss: 9.7446 - output_1_loss: 2.6578 - output_2_loss: 1.0244 - output_3_loss: 0.0186 - output_4_loss: 6.0251 - output_3_precision: 0.8681 - output_3_recall: 0.6089 - output_3_true_positives: 164511.0000 - output_3_false_positives: 25000.0000 - val_loss: 5.5011 - val_output_1_loss: 1.2898 - val_output_2_loss: 0.3490 - val_output_3_loss: 0.0137 - val_output_4_loss: 3.8350 - val_output_3_precision: 0.9874 - val_output_3_recall: 0.6252 - val_output_3_true_positives: 7392.0000 - val_output_3_false_positives: 94.0000\n",
      "Epoch 10/10\n",
      "4607/4607 [==============================] - 563s 122ms/step - loss: 9.6277 - output_1_loss: 2.6187 - output_2_loss: 0.9900 - output_3_loss: 0.0185 - output_4_loss: 5.9820 - output_3_precision: 0.8689 - output_3_recall: 0.6108 - output_3_true_positives: 165057.0000 - output_3_false_positives: 24901.0000 - val_loss: 5.5137 - val_output_1_loss: 1.3150 - val_output_2_loss: 0.3670 - val_output_3_loss: 0.0135 - val_output_4_loss: 3.8048 - val_output_3_precision: 0.9836 - val_output_3_recall: 0.6357 - val_output_3_true_positives: 7517.0000 - val_output_3_false_positives: 125.0000\n"
     ]
    }
   ],
   "source": [
    "os.chdir(root_path+ \"/pedestrian_dataset_train_tfr\")\n",
    "history = model.fit(train_dataset, epochs=10,validation_data=val_dataset)"
   ]
  },
  {
   "cell_type": "code",
   "execution_count": null,
   "metadata": {},
   "outputs": [],
   "source": []
  },
  {
   "cell_type": "code",
   "execution_count": 10,
   "metadata": {},
   "outputs": [],
   "source": [
    "os.chdir(root_path+\"/json_final_experiment\")\n",
    "import json\n",
    "#json.dumps(str(a))\n",
    "with open('history_finetuning_1121_90_100_epoch_nadam_0dot00001_mse_mse_3anchors_con_data_aug.json', 'w') as fp:\n",
    "    json.dump(str(history.history), fp)"
   ]
  },
  {
   "cell_type": "code",
   "execution_count": 11,
   "metadata": {},
   "outputs": [],
   "source": [
    "model.save_weights(root_path+'/last_weights/pesos_finetuning_1121_90_100_epoch_nadam_0dot00001_mse_mse_3anchors_con_data_aug')"
   ]
  },
  {
   "cell_type": "code",
   "execution_count": null,
   "metadata": {},
   "outputs": [],
   "source": []
  },
  {
   "cell_type": "code",
   "execution_count": 12,
   "metadata": {},
   "outputs": [
    {
     "name": "stdout",
     "output_type": "stream",
     "text": [
      "Epoch 1/10\n",
      "4607/4607 [==============================] - 565s 123ms/step - loss: 9.6942 - output_1_loss: 2.6375 - output_2_loss: 1.0554 - output_3_loss: 0.0184 - output_4_loss: 5.9645 - output_3_precision: 0.8701 - output_3_recall: 0.6133 - output_3_true_positives: 165784.0000 - output_3_false_positives: 24753.0000 - val_loss: 5.4641 - val_output_1_loss: 1.3145 - val_output_2_loss: 0.3600 - val_output_3_loss: 0.0133 - val_output_4_loss: 3.7629 - val_output_3_precision: 0.9854 - val_output_3_recall: 0.6269 - val_output_3_true_positives: 7413.0000 - val_output_3_false_positives: 110.0000\n",
      "Epoch 2/10\n",
      "4607/4607 [==============================] - 582s 126ms/step - loss: 9.6190 - output_1_loss: 2.6500 - output_2_loss: 0.9813 - output_3_loss: 0.0184 - output_4_loss: 5.9510 - output_3_precision: 0.8700 - output_3_recall: 0.6143 - output_3_true_positives: 166045.0000 - output_3_false_positives: 24811.0000 - val_loss: 5.3775 - val_output_1_loss: 1.2691 - val_output_2_loss: 0.3465 - val_output_3_loss: 0.0133 - val_output_4_loss: 3.7353 - val_output_3_precision: 0.9821 - val_output_3_recall: 0.6403 - val_output_3_true_positives: 7571.0000 - val_output_3_false_positives: 138.0000\n",
      "Epoch 3/10\n",
      "4607/4607 [==============================] - 560s 122ms/step - loss: 9.5986 - output_1_loss: 2.6303 - output_2_loss: 0.9798 - output_3_loss: 0.0185 - output_4_loss: 5.9515 - output_3_precision: 0.8710 - output_3_recall: 0.6143 - output_3_true_positives: 165959.0000 - output_3_false_positives: 24581.0000 - val_loss: 5.3362 - val_output_1_loss: 1.3087 - val_output_2_loss: 0.3629 - val_output_3_loss: 0.0129 - val_output_4_loss: 3.6387 - val_output_3_precision: 0.9800 - val_output_3_recall: 0.6577 - val_output_3_true_positives: 7777.0000 - val_output_3_false_positives: 159.0000\n",
      "Epoch 4/10\n",
      "4607/4607 [==============================] - 558s 121ms/step - loss: 9.5698 - output_1_loss: 2.6114 - output_2_loss: 1.0027 - output_3_loss: 0.0183 - output_4_loss: 5.9191 - output_3_precision: 0.8715 - output_3_recall: 0.6159 - output_3_true_positives: 166474.0000 - output_3_false_positives: 24556.0000 - val_loss: 5.1655 - val_output_1_loss: 1.3285 - val_output_2_loss: 0.3587 - val_output_3_loss: 0.0121 - val_output_4_loss: 3.4541 - val_output_3_precision: 0.9835 - val_output_3_recall: 0.6641 - val_output_3_true_positives: 7852.0000 - val_output_3_false_positives: 132.0000\n",
      "Epoch 5/10\n",
      "4607/4607 [==============================] - 574s 124ms/step - loss: 9.5297 - output_1_loss: 2.6330 - output_2_loss: 0.9743 - output_3_loss: 0.0182 - output_4_loss: 5.8859 - output_3_precision: 0.8726 - output_3_recall: 0.6186 - output_3_true_positives: 167133.0000 - output_3_false_positives: 24395.0000 - val_loss: 5.5773 - val_output_1_loss: 1.3477 - val_output_2_loss: 0.3624 - val_output_3_loss: 0.0135 - val_output_4_loss: 3.8403 - val_output_3_precision: 0.9851 - val_output_3_recall: 0.6424 - val_output_3_true_positives: 7596.0000 - val_output_3_false_positives: 115.0000\n",
      "Epoch 6/10\n",
      "4607/4607 [==============================] - 564s 122ms/step - loss: 9.5097 - output_1_loss: 2.6226 - output_2_loss: 0.9722 - output_3_loss: 0.0181 - output_4_loss: 5.8787 - output_3_precision: 0.8726 - output_3_recall: 0.6202 - output_3_true_positives: 167675.0000 - output_3_false_positives: 24485.0000 - val_loss: 5.2881 - val_output_1_loss: 1.3105 - val_output_2_loss: 0.3569 - val_output_3_loss: 0.0127 - val_output_4_loss: 3.5953 - val_output_3_precision: 0.9862 - val_output_3_recall: 0.6454 - val_output_3_true_positives: 7631.0000 - val_output_3_false_positives: 107.0000\n",
      "Epoch 7/10\n",
      "4607/4607 [==============================] - 554s 120ms/step - loss: 9.5008 - output_1_loss: 2.6091 - output_2_loss: 0.9798 - output_3_loss: 0.0181 - output_4_loss: 5.8756 - output_3_precision: 0.8730 - output_3_recall: 0.6202 - output_3_true_positives: 167635.0000 - output_3_false_positives: 24395.0000 - val_loss: 5.5639 - val_output_1_loss: 1.2795 - val_output_2_loss: 0.3533 - val_output_3_loss: 0.0139 - val_output_4_loss: 3.9034 - val_output_3_precision: 0.9826 - val_output_3_recall: 0.6302 - val_output_3_true_positives: 7451.0000 - val_output_3_false_positives: 132.0000\n",
      "Epoch 8/10\n",
      "4607/4607 [==============================] - 565s 123ms/step - loss: 9.6049 - output_1_loss: 2.6368 - output_2_loss: 0.9880 - output_3_loss: 0.0185 - output_4_loss: 5.9432 - output_3_precision: 0.8720 - output_3_recall: 0.6144 - output_3_true_positives: 166011.0000 - output_3_false_positives: 24378.0000 - val_loss: 5.2216 - val_output_1_loss: 1.2837 - val_output_2_loss: 0.3452 - val_output_3_loss: 0.0126 - val_output_4_loss: 3.5676 - val_output_3_precision: 0.9826 - val_output_3_recall: 0.6503 - val_output_3_true_positives: 7689.0000 - val_output_3_false_positives: 136.0000\n",
      "Epoch 9/10\n",
      "4607/4607 [==============================] - 585s 127ms/step - loss: 9.4758 - output_1_loss: 2.6158 - output_2_loss: 0.9703 - output_3_loss: 0.0181 - output_4_loss: 5.8536 - output_3_precision: 0.8737 - output_3_recall: 0.6218 - output_3_true_positives: 168040.0000 - output_3_false_positives: 24297.0000 - val_loss: 5.2024 - val_output_1_loss: 1.2586 - val_output_2_loss: 0.3536 - val_output_3_loss: 0.0126 - val_output_4_loss: 3.5650 - val_output_3_precision: 0.9840 - val_output_3_recall: 0.6571 - val_output_3_true_positives: 7769.0000 - val_output_3_false_positives: 126.0000\n",
      "Epoch 10/10\n",
      "4607/4607 [==============================] - 594s 129ms/step - loss: 9.4652 - output_1_loss: 2.6141 - output_2_loss: 0.9713 - output_3_loss: 0.0181 - output_4_loss: 5.8435 - output_3_precision: 0.8750 - output_3_recall: 0.6221 - output_3_true_positives: 168113.0000 - output_3_false_positives: 24012.0000 - val_loss: 5.1181 - val_output_1_loss: 1.2628 - val_output_2_loss: 0.3575 - val_output_3_loss: 0.0122 - val_output_4_loss: 3.4734 - val_output_3_precision: 0.9885 - val_output_3_recall: 0.6557 - val_output_3_true_positives: 7753.0000 - val_output_3_false_positives: 90.0000\n"
     ]
    }
   ],
   "source": [
    "os.chdir(root_path+ \"/pedestrian_dataset_train_tfr\")\n",
    "history = model.fit(train_dataset, epochs=10,validation_data=val_dataset)"
   ]
  },
  {
   "cell_type": "code",
   "execution_count": null,
   "metadata": {},
   "outputs": [],
   "source": []
  },
  {
   "cell_type": "code",
   "execution_count": 13,
   "metadata": {},
   "outputs": [],
   "source": [
    "os.chdir(root_path+\"/json_final_experiment\")\n",
    "import json\n",
    "#json.dumps(str(a))\n",
    "with open('history_finetuning_1121_100_110_epoch_nadam_0dot00001_mse_mse_3anchors_con_data_aug.json', 'w') as fp:\n",
    "    json.dump(str(history.history), fp)"
   ]
  },
  {
   "cell_type": "code",
   "execution_count": 14,
   "metadata": {},
   "outputs": [],
   "source": [
    "model.save_weights(root_path+'/last_weights/pesos_finetuning_1121_100_110_epoch_nadam_0dot00001_mse_mse_3anchors_con_data_aug')"
   ]
  },
  {
   "cell_type": "markdown",
   "metadata": {},
   "source": [
    "## CONTINUACIÓN DE ÉPOCAS DE LA 80 A LA 90"
   ]
  },
  {
   "cell_type": "code",
   "execution_count": null,
   "metadata": {},
   "outputs": [],
   "source": []
  },
  {
   "cell_type": "code",
   "execution_count": 7,
   "metadata": {},
   "outputs": [
    {
     "name": "stdout",
     "output_type": "stream",
     "text": [
      "Modo entrenamiento\n"
     ]
    },
    {
     "data": {
      "text/plain": [
       "<tensorflow.python.training.tracking.util.CheckpointLoadStatus at 0x7fd4c2549cf8>"
      ]
     },
     "execution_count": 7,
     "metadata": {},
     "output_type": "execute_result"
    }
   ],
   "source": [
    "anchors =tf.constant(np.array([[0,0,0.02078,0.049],[0,0,0.0426,0.128],[0,0,0.08523,0.19356],[0,0,0.1506,0.4163],[0,0,0.27835,0.58651],[0,0,0.5632,0.78614]]),dtype=tf.float32)\n",
    "model = TinyYOLOv3(1,anchor_boxes=anchors,train=True,mode = \"finetuning\")\n",
    "model.build(batch_input_shape=(None,416,416,3))\n",
    "#print(model.load_weights_darknet(\"/home/sergio/TinyYOLOv3-Pedestrian-Detection/yolov3-tiny.weights\"))\n",
    "model.load_weights(root_path+'/last_weights/pesos_finetuning_2211_70_80_epoch_nadam_0dot00001_mse_exp_mse_3anchors_con_data_aug')"
   ]
  },
  {
   "cell_type": "code",
   "execution_count": 8,
   "metadata": {},
   "outputs": [],
   "source": [
    "tf.random.set_seed(0)\n",
    "\n",
    "from tensorflow.keras.metrics import TrueNegatives,TruePositives,FalseNegatives,FalsePositives,Precision,Recall\n",
    "\n",
    "opt = tf.keras.optimizers.Nadam(learning_rate=1e-4)\n",
    "\n",
    "losses = {\"output_1\": loss_xy,\n",
    "          \"output_2\": loss_wh,\n",
    "          \"output_3\":loss_objectness,\n",
    "          \"output_4\":loss_no_objectness  \n",
    "}\n",
    "\n",
    "metrics = {\"output_3\":[Precision(0.5),Recall(0.5),TruePositives(0.5),FalsePositives(0.5)]}\n",
    "model.compile(optimizer=opt, loss=losses,metrics=metrics,loss_weights=[2,2,1,1])\n",
    "os.chdir(root_path+ \"/pedestrian_dataset_train_tfr\")"
   ]
  },
  {
   "cell_type": "code",
   "execution_count": 9,
   "metadata": {},
   "outputs": [
    {
     "name": "stdout",
     "output_type": "stream",
     "text": [
      "Epoch 1/10\n",
      "Modo entrenamiento\n",
      "Modo entrenamiento\n",
      "   4607/Unknown - 564s 123ms/step - loss: 12.3537 - output_1_loss: 2.4416 - output_2_loss: 0.3592 - output_3_loss: 0.0210 - output_4_loss: 6.7309 - output_3_precision: 0.8394 - output_3_recall: 0.5516 - output_3_true_positives: 149055.0000 - output_3_false_positives: 28524.0000Modo entrenamiento\n",
      "4607/4607 [==============================] - 572s 124ms/step - loss: 12.3537 - output_1_loss: 2.4416 - output_2_loss: 0.3592 - output_3_loss: 0.0210 - output_4_loss: 6.7309 - output_3_precision: 0.8394 - output_3_recall: 0.5516 - output_3_true_positives: 149055.0000 - output_3_false_positives: 28524.0000 - val_loss: 7.6248 - val_output_1_loss: 1.0014 - val_output_2_loss: 0.2881 - val_output_3_loss: 0.0181 - val_output_4_loss: 5.0277 - val_output_3_precision: 0.9746 - val_output_3_recall: 0.5318 - val_output_3_true_positives: 6288.0000 - val_output_3_false_positives: 164.0000\n",
      "Epoch 2/10\n",
      "4607/4607 [==============================] - 569s 123ms/step - loss: 12.3422 - output_1_loss: 2.4395 - output_2_loss: 0.3689 - output_3_loss: 0.0209 - output_4_loss: 6.7046 - output_3_precision: 0.8419 - output_3_recall: 0.5538 - output_3_true_positives: 149636.0000 - output_3_false_positives: 28098.0000 - val_loss: 7.5693 - val_output_1_loss: 0.9803 - val_output_2_loss: 0.2791 - val_output_3_loss: 0.0182 - val_output_4_loss: 5.0324 - val_output_3_precision: 0.9750 - val_output_3_recall: 0.5307 - val_output_3_true_positives: 6275.0000 - val_output_3_false_positives: 161.0000\n",
      "Epoch 3/10\n",
      "4607/4607 [==============================] - 580s 126ms/step - loss: 12.3684 - output_1_loss: 2.4586 - output_2_loss: 0.3644 - output_3_loss: 0.0209 - output_4_loss: 6.7016 - output_3_precision: 0.8411 - output_3_recall: 0.5540 - output_3_true_positives: 149679.0000 - output_3_false_positives: 28284.0000 - val_loss: 7.4437 - val_output_1_loss: 0.9554 - val_output_2_loss: 0.2835 - val_output_3_loss: 0.0179 - val_output_4_loss: 4.9479 - val_output_3_precision: 0.9720 - val_output_3_recall: 0.5494 - val_output_3_true_positives: 6496.0000 - val_output_3_false_positives: 187.0000\n",
      "Epoch 4/10\n",
      "4607/4607 [==============================] - 572s 124ms/step - loss: 12.2119 - output_1_loss: 2.4168 - output_2_loss: 0.3617 - output_3_loss: 0.0207 - output_4_loss: 6.6343 - output_3_precision: 0.8437 - output_3_recall: 0.5598 - output_3_true_positives: 151239.0000 - output_3_false_positives: 28010.0000 - val_loss: 7.5647 - val_output_1_loss: 0.9636 - val_output_2_loss: 0.2831 - val_output_3_loss: 0.0180 - val_output_4_loss: 5.0534 - val_output_3_precision: 0.9743 - val_output_3_recall: 0.5387 - val_output_3_true_positives: 6369.0000 - val_output_3_false_positives: 168.0000\n",
      "Epoch 5/10\n",
      "4607/4607 [==============================] - 588s 128ms/step - loss: 12.2977 - output_1_loss: 2.4579 - output_2_loss: 0.3602 - output_3_loss: 0.0208 - output_4_loss: 6.6408 - output_3_precision: 0.8421 - output_3_recall: 0.5598 - output_3_true_positives: 151312.0000 - output_3_false_positives: 28368.0000 - val_loss: 7.5342 - val_output_1_loss: 0.9934 - val_output_2_loss: 0.2818 - val_output_3_loss: 0.0178 - val_output_4_loss: 4.9659 - val_output_3_precision: 0.9745 - val_output_3_recall: 0.5430 - val_output_3_true_positives: 6420.0000 - val_output_3_false_positives: 168.0000\n",
      "Epoch 6/10\n",
      "4607/4607 [==============================] - 573s 124ms/step - loss: 12.1272 - output_1_loss: 2.3997 - output_2_loss: 0.3655 - output_3_loss: 0.0204 - output_4_loss: 6.5764 - output_3_precision: 0.8454 - output_3_recall: 0.5636 - output_3_true_positives: 152316.0000 - output_3_false_positives: 27857.0000 - val_loss: 7.7054 - val_output_1_loss: 0.9742 - val_output_2_loss: 0.2902 - val_output_3_loss: 0.0186 - val_output_4_loss: 5.1580 - val_output_3_precision: 0.9750 - val_output_3_recall: 0.5346 - val_output_3_true_positives: 6321.0000 - val_output_3_false_positives: 162.0000\n",
      "Epoch 7/10\n",
      "4607/4607 [==============================] - 577s 125ms/step - loss: 12.1343 - output_1_loss: 2.4183 - output_2_loss: 0.3517 - output_3_loss: 0.0205 - output_4_loss: 6.5739 - output_3_precision: 0.8468 - output_3_recall: 0.5656 - output_3_true_positives: 152834.0000 - output_3_false_positives: 27653.0000 - val_loss: 7.2563 - val_output_1_loss: 0.9414 - val_output_2_loss: 0.2845 - val_output_3_loss: 0.0172 - val_output_4_loss: 4.7873 - val_output_3_precision: 0.9770 - val_output_3_recall: 0.5496 - val_output_3_true_positives: 6498.0000 - val_output_3_false_positives: 153.0000\n",
      "Epoch 8/10\n",
      "4607/4607 [==============================] - 571s 124ms/step - loss: 11.9828 - output_1_loss: 2.3770 - output_2_loss: 0.3570 - output_3_loss: 0.0202 - output_4_loss: 6.4946 - output_3_precision: 0.8487 - output_3_recall: 0.5714 - output_3_true_positives: 154428.0000 - output_3_false_positives: 27534.0000 - val_loss: 7.2449 - val_output_1_loss: 0.9204 - val_output_2_loss: 0.2818 - val_output_3_loss: 0.0173 - val_output_4_loss: 4.8231 - val_output_3_precision: 0.9805 - val_output_3_recall: 0.5439 - val_output_3_true_positives: 6431.0000 - val_output_3_false_positives: 128.0000\n",
      "Epoch 9/10\n",
      "4607/4607 [==============================] - 578s 125ms/step - loss: 12.0050 - output_1_loss: 2.3920 - output_2_loss: 0.3531 - output_3_loss: 0.0202 - output_4_loss: 6.4947 - output_3_precision: 0.8492 - output_3_recall: 0.5713 - output_3_true_positives: 154363.0000 - output_3_false_positives: 27415.0000 - val_loss: 7.3710 - val_output_1_loss: 0.9332 - val_output_2_loss: 0.2841 - val_output_3_loss: 0.0178 - val_output_4_loss: 4.9186 - val_output_3_precision: 0.9740 - val_output_3_recall: 0.5487 - val_output_3_true_positives: 6488.0000 - val_output_3_false_positives: 173.0000\n",
      "Epoch 10/10\n",
      "4607/4607 [==============================] - 574s 125ms/step - loss: 12.0466 - output_1_loss: 2.4045 - output_2_loss: 0.3579 - output_3_loss: 0.0202 - output_4_loss: 6.5015 - output_3_precision: 0.8479 - output_3_recall: 0.5709 - output_3_true_positives: 154328.0000 - output_3_false_positives: 27691.0000 - val_loss: 7.3138 - val_output_1_loss: 0.9284 - val_output_2_loss: 0.2815 - val_output_3_loss: 0.0175 - val_output_4_loss: 4.8764 - val_output_3_precision: 0.9778 - val_output_3_recall: 0.5487 - val_output_3_true_positives: 6488.0000 - val_output_3_false_positives: 147.0000\n"
     ]
    }
   ],
   "source": [
    "os.chdir(root_path+ \"/pedestrian_dataset_train_tfr\")\n",
    "history = model.fit(train_dataset, epochs=10,validation_data=val_dataset)"
   ]
  },
  {
   "cell_type": "code",
   "execution_count": null,
   "metadata": {},
   "outputs": [],
   "source": []
  },
  {
   "cell_type": "code",
   "execution_count": null,
   "metadata": {},
   "outputs": [],
   "source": []
  },
  {
   "cell_type": "code",
   "execution_count": 10,
   "metadata": {},
   "outputs": [],
   "source": [
    "os.chdir(root_path+\"/json_final_experiment\")\n",
    "import json\n",
    "#json.dumps(str(a))\n",
    "with open('history_finetuning_2211_80_90_epoch_nadam_0dot00001_mse_exp_mse_3anchors_con_data_aug.json', 'w') as fp:\n",
    "    json.dump(str(history.history), fp)"
   ]
  },
  {
   "cell_type": "code",
   "execution_count": 11,
   "metadata": {},
   "outputs": [],
   "source": [
    "model.save_weights(root_path+'/last_weights/pesos_finetuning_2211_80_90_epoch_nadam_0dot00001_mse_exp_mse_3anchors_con_data_aug')"
   ]
  },
  {
   "cell_type": "code",
   "execution_count": null,
   "metadata": {},
   "outputs": [],
   "source": []
  },
  {
   "cell_type": "markdown",
   "metadata": {},
   "source": [
    "## Continuación épocas 90-100"
   ]
  },
  {
   "cell_type": "code",
   "execution_count": 12,
   "metadata": {},
   "outputs": [
    {
     "name": "stdout",
     "output_type": "stream",
     "text": [
      "Epoch 1/10\n",
      "4607/4607 [==============================] - 586s 127ms/step - loss: 11.8499 - output_1_loss: 2.3497 - output_2_loss: 0.3520 - output_3_loss: 0.0199 - output_4_loss: 6.4266 - output_3_precision: 0.8512 - output_3_recall: 0.5770 - output_3_true_positives: 155903.0000 - output_3_false_positives: 27253.0000 - val_loss: 6.9066 - val_output_1_loss: 0.9099 - val_output_2_loss: 0.2799 - val_output_3_loss: 0.0161 - val_output_4_loss: 4.5109 - val_output_3_precision: 0.9760 - val_output_3_recall: 0.5707 - val_output_3_true_positives: 6748.0000 - val_output_3_false_positives: 166.0000\n",
      "Epoch 2/10\n",
      "4607/4607 [==============================] - 571s 124ms/step - loss: 12.0930 - output_1_loss: 2.4100 - output_2_loss: 0.3799 - output_3_loss: 0.0202 - output_4_loss: 6.4932 - output_3_precision: 0.8501 - output_3_recall: 0.5720 - output_3_true_positives: 154586.0000 - output_3_false_positives: 27269.0000 - val_loss: 7.1948 - val_output_1_loss: 0.8991 - val_output_2_loss: 0.2783 - val_output_3_loss: 0.0175 - val_output_4_loss: 4.8225 - val_output_3_precision: 0.9763 - val_output_3_recall: 0.5540 - val_output_3_true_positives: 6550.0000 - val_output_3_false_positives: 159.0000\n",
      "Epoch 3/10\n",
      "4607/4607 [==============================] - 583s 127ms/step - loss: 11.8528 - output_1_loss: 2.3758 - output_2_loss: 0.3448 - output_3_loss: 0.0199 - output_4_loss: 6.3916 - output_3_precision: 0.8521 - output_3_recall: 0.5793 - output_3_true_positives: 156569.0000 - output_3_false_positives: 27175.0000 - val_loss: 6.9298 - val_output_1_loss: 0.9142 - val_output_2_loss: 0.2724 - val_output_3_loss: 0.0164 - val_output_4_loss: 4.5402 - val_output_3_precision: 0.9785 - val_output_3_recall: 0.5765 - val_output_3_true_positives: 6816.0000 - val_output_3_false_positives: 150.0000\n",
      "Epoch 4/10\n",
      "4607/4607 [==============================] - 573s 124ms/step - loss: 11.8455 - output_1_loss: 2.3642 - output_2_loss: 0.3452 - output_3_loss: 0.0199 - output_4_loss: 6.4069 - output_3_precision: 0.8527 - output_3_recall: 0.5804 - output_3_true_positives: 156809.0000 - output_3_false_positives: 27090.0000 - val_loss: 7.0228 - val_output_1_loss: 0.9060 - val_output_2_loss: 0.2882 - val_output_3_loss: 0.0166 - val_output_4_loss: 4.6178 - val_output_3_precision: 0.9744 - val_output_3_recall: 0.5699 - val_output_3_true_positives: 6739.0000 - val_output_3_false_positives: 177.0000\n",
      "Epoch 5/10\n",
      "4607/4607 [==============================] - 566s 123ms/step - loss: 11.8969 - output_1_loss: 2.3765 - output_2_loss: 0.3547 - output_3_loss: 0.0200 - output_4_loss: 6.4145 - output_3_precision: 0.8551 - output_3_recall: 0.5787 - output_3_true_positives: 156340.0000 - output_3_false_positives: 26503.0000 - val_loss: 6.7179 - val_output_1_loss: 0.8979 - val_output_2_loss: 0.2704 - val_output_3_loss: 0.0155 - val_output_4_loss: 4.3658 - val_output_3_precision: 0.9752 - val_output_3_recall: 0.5908 - val_output_3_true_positives: 6986.0000 - val_output_3_false_positives: 178.0000\n",
      "Epoch 6/10\n",
      "4607/4607 [==============================] - 598s 130ms/step - loss: 11.7427 - output_1_loss: 2.3579 - output_2_loss: 0.3448 - output_3_loss: 0.0196 - output_4_loss: 6.3178 - output_3_precision: 0.8549 - output_3_recall: 0.5860 - output_3_true_positives: 158371.0000 - output_3_false_positives: 26885.0000 - val_loss: 7.3183 - val_output_1_loss: 0.9082 - val_output_2_loss: 0.2814 - val_output_3_loss: 0.0178 - val_output_4_loss: 4.9213 - val_output_3_precision: 0.9805 - val_output_3_recall: 0.5499 - val_output_3_true_positives: 6502.0000 - val_output_3_false_positives: 129.0000\n",
      "Epoch 7/10\n",
      "4607/4607 [==============================] - 578s 125ms/step - loss: 11.8144 - output_1_loss: 2.3613 - output_2_loss: 0.3520 - output_3_loss: 0.0197 - output_4_loss: 6.3680 - output_3_precision: 0.8560 - output_3_recall: 0.5843 - output_3_true_positives: 157927.0000 - output_3_false_positives: 26559.0000 - val_loss: 6.8560 - val_output_1_loss: 0.9169 - val_output_2_loss: 0.2789 - val_output_3_loss: 0.0160 - val_output_4_loss: 4.4485 - val_output_3_precision: 0.9792 - val_output_3_recall: 0.5825 - val_output_3_true_positives: 6888.0000 - val_output_3_false_positives: 146.0000\n",
      "Epoch 8/10\n",
      "4607/4607 [==============================] - 573s 124ms/step - loss: 11.7857 - output_1_loss: 2.3788 - output_2_loss: 0.3474 - output_3_loss: 0.0196 - output_4_loss: 6.3135 - output_3_precision: 0.8572 - output_3_recall: 0.5863 - output_3_true_positives: 158433.0000 - output_3_false_positives: 26403.0000 - val_loss: 6.7407 - val_output_1_loss: 0.9246 - val_output_2_loss: 0.2761 - val_output_3_loss: 0.0155 - val_output_4_loss: 4.3237 - val_output_3_precision: 0.9763 - val_output_3_recall: 0.5955 - val_output_3_true_positives: 7041.0000 - val_output_3_false_positives: 171.0000\n",
      "Epoch 9/10\n",
      "4607/4607 [==============================] - 572s 124ms/step - loss: 11.6437 - output_1_loss: 2.3186 - output_2_loss: 0.3521 - output_3_loss: 0.0196 - output_4_loss: 6.2826 - output_3_precision: 0.8573 - output_3_recall: 0.5890 - output_3_true_positives: 159196.0000 - output_3_false_positives: 26500.0000 - val_loss: 6.8024 - val_output_1_loss: 0.9188 - val_output_2_loss: 0.2735 - val_output_3_loss: 0.0158 - val_output_4_loss: 4.4019 - val_output_3_precision: 0.9785 - val_output_3_recall: 0.5861 - val_output_3_true_positives: 6930.0000 - val_output_3_false_positives: 152.0000\n",
      "Epoch 10/10\n",
      "4607/4607 [==============================] - 583s 127ms/step - loss: 11.6864 - output_1_loss: 2.3420 - output_2_loss: 0.3595 - output_3_loss: 0.0193 - output_4_loss: 6.2641 - output_3_precision: 0.8580 - output_3_recall: 0.5906 - output_3_true_positives: 159538.0000 - output_3_false_positives: 26407.0000 - val_loss: 6.6533 - val_output_1_loss: 0.8811 - val_output_2_loss: 0.2807 - val_output_3_loss: 0.0155 - val_output_4_loss: 4.3141 - val_output_3_precision: 0.9810 - val_output_3_recall: 0.5969 - val_output_3_true_positives: 7058.0000 - val_output_3_false_positives: 137.0000\n"
     ]
    }
   ],
   "source": [
    "os.chdir(root_path+ \"/pedestrian_dataset_train_tfr\")\n",
    "history = model.fit(train_dataset, epochs=10,validation_data=val_dataset)"
   ]
  },
  {
   "cell_type": "code",
   "execution_count": null,
   "metadata": {},
   "outputs": [],
   "source": []
  },
  {
   "cell_type": "code",
   "execution_count": 13,
   "metadata": {},
   "outputs": [],
   "source": [
    "os.chdir(root_path+\"/json_final_experiment\")\n",
    "import json\n",
    "#json.dumps(str(a))\n",
    "with open('history_finetuning_2211_90_100_epoch_nadam_0dot00001_mse_exp_mse_3anchors_con_data_aug.json', 'w') as fp:\n",
    "    json.dump(str(history.history), fp)"
   ]
  },
  {
   "cell_type": "code",
   "execution_count": 14,
   "metadata": {},
   "outputs": [],
   "source": [
    "model.save_weights(root_path+'/last_weights/pesos_finetuning_2211_90_100_epoch_nadam_0dot00001_mse_exp_mse_3anchors_con_data_aug')"
   ]
  },
  {
   "cell_type": "code",
   "execution_count": null,
   "metadata": {},
   "outputs": [],
   "source": []
  },
  {
   "cell_type": "markdown",
   "metadata": {},
   "source": [
    "## NUEVO EXPERIMENTO A PARTIR DE LOS PESOS DE 80, VAMOS A SUBIR EL PESO PARA EL OBJECTNESS (2,2,2,1)"
   ]
  },
  {
   "cell_type": "code",
   "execution_count": null,
   "metadata": {},
   "outputs": [],
   "source": []
  },
  {
   "cell_type": "code",
   "execution_count": 7,
   "metadata": {},
   "outputs": [
    {
     "name": "stdout",
     "output_type": "stream",
     "text": [
      "Modo entrenamiento\n"
     ]
    },
    {
     "data": {
      "text/plain": [
       "<tensorflow.python.training.tracking.util.CheckpointLoadStatus at 0x7f63f6608eb8>"
      ]
     },
     "execution_count": 7,
     "metadata": {},
     "output_type": "execute_result"
    }
   ],
   "source": [
    "anchors =tf.constant(np.array([[0,0,0.02078,0.049],[0,0,0.0426,0.128],[0,0,0.08523,0.19356],[0,0,0.1506,0.4163],[0,0,0.27835,0.58651],[0,0,0.5632,0.78614]]),dtype=tf.float32)\n",
    "model = TinyYOLOv3(1,anchor_boxes=anchors,train=True,mode = \"finetuning\")\n",
    "model.build(batch_input_shape=(None,416,416,3))\n",
    "#print(model.load_weights_darknet(\"/home/sergio/TinyYOLOv3-Pedestrian-Detection/yolov3-tiny.weights\"))\n",
    "model.load_weights(root_path+'/last_weights/pesos_finetuning_2211_70_80_epoch_nadam_0dot00001_mse_exp_mse_3anchors_con_data_aug')"
   ]
  },
  {
   "cell_type": "code",
   "execution_count": 8,
   "metadata": {},
   "outputs": [],
   "source": [
    "tf.random.set_seed(0)\n",
    "\n",
    "from tensorflow.keras.metrics import TrueNegatives,TruePositives,FalseNegatives,FalsePositives,Precision,Recall\n",
    "\n",
    "opt = tf.keras.optimizers.Nadam(learning_rate=1e-4)\n",
    "\n",
    "losses = {\"output_1\": loss_xy,\n",
    "          \"output_2\": loss_wh,\n",
    "          \"output_3\":loss_objectness,\n",
    "          \"output_4\":loss_no_objectness  \n",
    "}\n",
    "\n",
    "metrics = {\"output_3\":[Precision(0.5),Recall(0.5),TruePositives(0.5),FalsePositives(0.5)]}\n",
    "model.compile(optimizer=opt, loss=losses,metrics=metrics,loss_weights=[2,2,2,1])\n",
    "os.chdir(root_path+ \"/pedestrian_dataset_train_tfr\")"
   ]
  },
  {
   "cell_type": "code",
   "execution_count": 9,
   "metadata": {},
   "outputs": [
    {
     "name": "stdout",
     "output_type": "stream",
     "text": [
      "Epoch 1/10\n",
      "Modo entrenamiento\n",
      "Modo entrenamiento\n",
      "   4607/Unknown - 576s 125ms/step - loss: 12.3207 - output_1_loss: 2.4217 - output_2_loss: 0.3586 - output_3_loss: 0.0210 - output_4_loss: 6.7181 - output_3_precision: 0.8413 - output_3_recall: 0.5527 - output_3_true_positives: 149400.0000 - output_3_false_positives: 28181.0000Modo entrenamiento\n",
      "4607/4607 [==============================] - 583s 127ms/step - loss: 12.3207 - output_1_loss: 2.4217 - output_2_loss: 0.3586 - output_3_loss: 0.0210 - output_4_loss: 6.7181 - output_3_precision: 0.8413 - output_3_recall: 0.5527 - output_3_true_positives: 149400.0000 - output_3_false_positives: 28181.0000 - val_loss: 7.6930 - val_output_1_loss: 0.9857 - val_output_2_loss: 0.2851 - val_output_3_loss: 0.0184 - val_output_4_loss: 5.1146 - val_output_3_precision: 0.9645 - val_output_3_recall: 0.5324 - val_output_3_true_positives: 6295.0000 - val_output_3_false_positives: 232.0000\n",
      "Epoch 2/10\n",
      "4607/4607 [==============================] - 587s 127ms/step - loss: 12.2847 - output_1_loss: 2.4077 - output_2_loss: 0.3691 - output_3_loss: 0.0208 - output_4_loss: 6.6895 - output_3_precision: 0.8417 - output_3_recall: 0.5544 - output_3_true_positives: 149822.0000 - output_3_false_positives: 28167.0000 - val_loss: 7.8893 - val_output_1_loss: 0.9791 - val_output_2_loss: 0.2945 - val_output_3_loss: 0.0193 - val_output_4_loss: 5.3036 - val_output_3_precision: 0.9710 - val_output_3_recall: 0.5218 - val_output_3_true_positives: 6170.0000 - val_output_3_false_positives: 184.0000\n",
      "Epoch 3/10\n",
      "4607/4607 [==============================] - 580s 126ms/step - loss: 12.1896 - output_1_loss: 2.4004 - output_2_loss: 0.3617 - output_3_loss: 0.0206 - output_4_loss: 6.6242 - output_3_precision: 0.8436 - output_3_recall: 0.5596 - output_3_true_positives: 151232.0000 - output_3_false_positives: 28029.0000 - val_loss: 7.4571 - val_output_1_loss: 0.9704 - val_output_2_loss: 0.2907 - val_output_3_loss: 0.0175 - val_output_4_loss: 4.9000 - val_output_3_precision: 0.9762 - val_output_3_recall: 0.5420 - val_output_3_true_positives: 6409.0000 - val_output_3_false_positives: 156.0000\n",
      "Epoch 4/10\n",
      "4607/4607 [==============================] - 572s 124ms/step - loss: 12.2137 - output_1_loss: 2.4279 - output_2_loss: 0.3504 - output_3_loss: 0.0206 - output_4_loss: 6.6157 - output_3_precision: 0.8436 - output_3_recall: 0.5608 - output_3_true_positives: 151524.0000 - output_3_false_positives: 28083.0000 - val_loss: 7.6714 - val_output_1_loss: 0.9748 - val_output_2_loss: 0.2925 - val_output_3_loss: 0.0184 - val_output_4_loss: 5.1001 - val_output_3_precision: 0.9735 - val_output_3_recall: 0.5283 - val_output_3_true_positives: 6247.0000 - val_output_3_false_positives: 170.0000\n",
      "Epoch 5/10\n",
      "4607/4607 [==============================] - 569s 124ms/step - loss: 12.1792 - output_1_loss: 2.4109 - output_2_loss: 0.3683 - output_3_loss: 0.0205 - output_4_loss: 6.5798 - output_3_precision: 0.8438 - output_3_recall: 0.5641 - output_3_true_positives: 152450.0000 - output_3_false_positives: 28231.0000 - val_loss: 7.8866 - val_output_1_loss: 0.9705 - val_output_2_loss: 0.2901 - val_output_3_loss: 0.0191 - val_output_4_loss: 5.3271 - val_output_3_precision: 0.9741 - val_output_3_recall: 0.5161 - val_output_3_true_positives: 6102.0000 - val_output_3_false_positives: 162.0000\n",
      "Epoch 6/10\n",
      "4607/4607 [==============================] - 588s 128ms/step - loss: 12.1960 - output_1_loss: 2.4251 - output_2_loss: 0.3578 - output_3_loss: 0.0205 - output_4_loss: 6.5891 - output_3_precision: 0.8444 - output_3_recall: 0.5633 - output_3_true_positives: 152266.0000 - output_3_false_positives: 28048.0000 - val_loss: 7.4178 - val_output_1_loss: 0.9415 - val_output_2_loss: 0.2856 - val_output_3_loss: 0.0177 - val_output_4_loss: 4.9282 - val_output_3_precision: 0.9797 - val_output_3_recall: 0.5389 - val_output_3_true_positives: 6372.0000 - val_output_3_false_positives: 132.0000\n",
      "Epoch 7/10\n",
      "4607/4607 [==============================] - 569s 124ms/step - loss: 12.0363 - output_1_loss: 2.3684 - output_2_loss: 0.3538 - output_3_loss: 0.0204 - output_4_loss: 6.5511 - output_3_precision: 0.8480 - output_3_recall: 0.5664 - output_3_true_positives: 153040.0000 - output_3_false_positives: 27441.0000 - val_loss: 7.1047 - val_output_1_loss: 0.9493 - val_output_2_loss: 0.2860 - val_output_3_loss: 0.0165 - val_output_4_loss: 4.6011 - val_output_3_precision: 0.9772 - val_output_3_recall: 0.5688 - val_output_3_true_positives: 6725.0000 - val_output_3_false_positives: 157.0000\n",
      "Epoch 8/10\n",
      "4607/4607 [==============================] - 573s 124ms/step - loss: 12.1050 - output_1_loss: 2.4141 - output_2_loss: 0.3500 - output_3_loss: 0.0203 - output_4_loss: 6.5362 - output_3_precision: 0.8474 - output_3_recall: 0.5689 - output_3_true_positives: 153657.0000 - output_3_false_positives: 27668.0000 - val_loss: 7.4878 - val_output_1_loss: 0.9500 - val_output_2_loss: 0.2839 - val_output_3_loss: 0.0178 - val_output_4_loss: 4.9843 - val_output_3_precision: 0.9777 - val_output_3_recall: 0.5333 - val_output_3_true_positives: 6306.0000 - val_output_3_false_positives: 144.0000\n",
      "Epoch 9/10\n",
      "4607/4607 [==============================] - 566s 123ms/step - loss: 12.2123 - output_1_loss: 2.4170 - output_2_loss: 0.3811 - output_3_loss: 0.0204 - output_4_loss: 6.5753 - output_3_precision: 0.8473 - output_3_recall: 0.5660 - output_3_true_positives: 152977.0000 - output_3_false_positives: 27562.0000 - val_loss: 6.9787 - val_output_1_loss: 0.9025 - val_output_2_loss: 0.2752 - val_output_3_loss: 0.0164 - val_output_4_loss: 4.5906 - val_output_3_precision: 0.9811 - val_output_3_recall: 0.5606 - val_output_3_true_positives: 6629.0000 - val_output_3_false_positives: 128.0000\n",
      "Epoch 10/10\n",
      "4607/4607 [==============================] - 570s 124ms/step - loss: 11.9766 - output_1_loss: 2.3724 - output_2_loss: 0.3584 - output_3_loss: 0.0201 - output_4_loss: 6.4748 - output_3_precision: 0.8495 - output_3_recall: 0.5735 - output_3_true_positives: 154981.0000 - output_3_false_positives: 27448.0000 - val_loss: 7.3900 - val_output_1_loss: 0.9437 - val_output_2_loss: 0.2787 - val_output_3_loss: 0.0176 - val_output_4_loss: 4.9100 - val_output_3_precision: 0.9754 - val_output_3_recall: 0.5473 - val_output_3_true_positives: 6471.0000 - val_output_3_false_positives: 163.0000\n"
     ]
    }
   ],
   "source": [
    "os.chdir(root_path+ \"/pedestrian_dataset_train_tfr\")\n",
    "history = model.fit(train_dataset, epochs=10,validation_data=val_dataset)"
   ]
  },
  {
   "cell_type": "code",
   "execution_count": 10,
   "metadata": {},
   "outputs": [],
   "source": [
    "os.chdir(root_path+\"/json_final_experiment\")\n",
    "import json\n",
    "#json.dumps(str(a))\n",
    "with open('history_finetuning_2211_80_90_epoch_nadam_0dot00001_mse_exp_mse_3anchors_con_data_aug_diff.json', 'w') as fp:\n",
    "    json.dump(str(history.history), fp)"
   ]
  },
  {
   "cell_type": "code",
   "execution_count": 11,
   "metadata": {},
   "outputs": [],
   "source": [
    "model.save_weights(root_path+'/last_weights/pesos_finetuning_2211_80_90_epoch_nadam_0dot00001_mse_exp_mse_3anchors_con_data_aug_diff')"
   ]
  },
  {
   "cell_type": "code",
   "execution_count": null,
   "metadata": {},
   "outputs": [],
   "source": []
  },
  {
   "cell_type": "code",
   "execution_count": null,
   "metadata": {},
   "outputs": [],
   "source": []
  },
  {
   "cell_type": "code",
   "execution_count": null,
   "metadata": {},
   "outputs": [],
   "source": []
  },
  {
   "cell_type": "markdown",
   "metadata": {},
   "source": [
    "## CONTINUACION OTRAS 20 EPOCAS (20-40)"
   ]
  },
  {
   "cell_type": "code",
   "execution_count": 12,
   "metadata": {},
   "outputs": [
    {
     "name": "stdout",
     "output_type": "stream",
     "text": [
      "Modo entrenamiento\n"
     ]
    },
    {
     "data": {
      "text/plain": [
       "<tensorflow.python.training.tracking.util.CheckpointLoadStatus at 0x7ff93b0919e8>"
      ]
     },
     "execution_count": 12,
     "metadata": {},
     "output_type": "execute_result"
    }
   ],
   "source": [
    "anchors =tf.constant(np.array([[0,0,0.02078,0.049],[0,0,0.0426,0.128],[0,0,0.08523,0.19356],[0,0,0.1506,0.4163],[0,0,0.27835,0.58651],[0,0,0.5632,0.78614]]),dtype=tf.float32)\n",
    "model = TinyYOLOv3(1,anchor_boxes=anchors,train=True,mode = \"finetuning\")\n",
    "model.build(batch_input_shape=(None,416,416,3))\n",
    "#print(model.load_weights_darknet(\"/home/sergio/TinyYOLOv3-Pedestrian-Detection/yolov3-tiny.weights\"))\n",
    "model.load_weights(root_path+'/last_weights/pesos_finetuning_5521_10_20_epoch_nadam_0dot00001_mse_exp_mse_3anchors_final_experiment_con_data_aug')"
   ]
  },
  {
   "cell_type": "code",
   "execution_count": 13,
   "metadata": {},
   "outputs": [],
   "source": [
    "tf.random.set_seed(0)\n",
    "\n",
    "from tensorflow.keras.metrics import TrueNegatives,TruePositives,FalseNegatives,FalsePositives,Precision,Recall\n",
    "\n",
    "opt = tf.keras.optimizers.Nadam(learning_rate=1e-4)\n",
    "\n",
    "losses = {\"output_1\": loss_xy,\n",
    "          \"output_2\": loss_wh,\n",
    "          \"output_3\":loss_objectness,\n",
    "          \"output_4\":loss_no_objectness  \n",
    "}\n",
    "\n",
    "metrics = {\"output_3\":[Precision(0.5),Recall(0.5),TrueNegatives(0.5),TruePositives(0.5),FalseNegatives(0.5),FalsePositives(0.5)]}\n",
    "model.compile(optimizer=opt, loss=losses,metrics=metrics,loss_weights=[5,5,2,1])\n",
    "os.chdir(root_path+ \"/pedestrian_dataset_train_tfr\")"
   ]
  },
  {
   "cell_type": "code",
   "execution_count": null,
   "metadata": {},
   "outputs": [],
   "source": []
  },
  {
   "cell_type": "code",
   "execution_count": 14,
   "metadata": {},
   "outputs": [],
   "source": [
    "os.chdir(root_path+ \"/pedestrian_dataset_train_tfr\")"
   ]
  },
  {
   "cell_type": "code",
   "execution_count": 15,
   "metadata": {
    "scrolled": true
   },
   "outputs": [
    {
     "name": "stdout",
     "output_type": "stream",
     "text": [
      "Epoch 1/20\n",
      "Modo entrenamiento\n",
      "Modo entrenamiento\n",
      "   4606/Unknown - 588s 128ms/step - loss: 30.1245 - output_1_loss: 3.1801 - output_2_loss: 0.4473 - output_3_loss: 0.0354 - output_4_loss: 11.9167 - output_3_precision_2: 0.6672 - output_3_recall_2: 0.1528 - output_3_true_negatives_2: 186528592.0000 - output_3_true_positives_2: 41286.0000 - output_3_false_negatives_2: 228917.0000 - output_3_false_positives_2: 20598.0000Modo entrenamiento\n",
      "4607/4607 [==============================] - 595s 129ms/step - loss: 30.1238 - output_1_loss: 3.1800 - output_2_loss: 0.4473 - output_3_loss: 0.0354 - output_4_loss: 11.9165 - output_3_precision_2: 0.6672 - output_3_recall_2: 0.1528 - output_3_true_negatives_2: 186533664.0000 - output_3_true_positives_2: 41290.0000 - output_3_false_negatives_2: 228919.0000 - output_3_false_positives_2: 20598.0000 - val_loss: 24.2625 - val_output_1_loss: 1.8366 - val_output_2_loss: 0.3715 - val_output_3_loss: 0.0418 - val_output_4_loss: 13.1384 - val_output_3_precision_2: 0.8062 - val_output_3_recall_2: 0.0968 - val_output_3_true_negatives_2: 7592901.0000 - val_output_3_true_positives_2: 1144.0000 - val_output_3_false_negatives_2: 10680.0000 - val_output_3_false_positives_2: 275.0000\n",
      "Epoch 2/20\n",
      "4607/4607 [==============================] - 587s 127ms/step - loss: 29.4558 - output_1_loss: 3.0779 - output_2_loss: 0.4378 - output_3_loss: 0.0350 - output_4_loss: 11.8072 - output_3_precision_2: 0.6693 - output_3_recall_2: 0.1577 - output_3_true_negatives_2: 186533392.0000 - output_3_true_positives_2: 42619.0000 - output_3_false_negatives_2: 227556.0000 - output_3_false_positives_2: 21057.0000 - val_loss: 23.9888 - val_output_1_loss: 1.8145 - val_output_2_loss: 0.3813 - val_output_3_loss: 0.0410 - val_output_4_loss: 12.9279 - val_output_3_precision_2: 0.8011 - val_output_3_recall_2: 0.1018 - val_output_3_true_negatives_2: 7592877.0000 - val_output_3_true_positives_2: 1204.0000 - val_output_3_false_negatives_2: 10620.0000 - val_output_3_false_positives_2: 299.0000\n",
      "Epoch 3/20\n",
      "4607/4607 [==============================] - 577s 125ms/step - loss: 29.2334 - output_1_loss: 3.0504 - output_2_loss: 0.4326 - output_3_loss: 0.0349 - output_4_loss: 11.7485 - output_3_precision_2: 0.6685 - output_3_recall_2: 0.1612 - output_3_true_negatives_2: 186532704.0000 - output_3_true_positives_2: 43557.0000 - output_3_false_negatives_2: 226693.0000 - output_3_false_positives_2: 21601.0000 - val_loss: 23.6755 - val_output_1_loss: 1.7513 - val_output_2_loss: 0.3829 - val_output_3_loss: 0.0411 - val_output_4_loss: 12.9225 - val_output_3_precision_2: 0.7934 - val_output_3_recall_2: 0.1029 - val_output_3_true_negatives_2: 7592859.0000 - val_output_3_true_positives_2: 1217.0000 - val_output_3_false_negatives_2: 10607.0000 - val_output_3_false_positives_2: 317.0000\n",
      "Epoch 4/20\n",
      "4607/4607 [==============================] - 571s 124ms/step - loss: 28.9846 - output_1_loss: 3.0095 - output_2_loss: 0.4305 - output_3_loss: 0.0348 - output_4_loss: 11.7152 - output_3_precision_2: 0.6698 - output_3_recall_2: 0.1633 - output_3_true_negatives_2: 186532512.0000 - output_3_true_positives_2: 44140.0000 - output_3_false_negatives_2: 226080.0000 - output_3_false_positives_2: 21762.0000 - val_loss: 22.7145 - val_output_1_loss: 1.6193 - val_output_2_loss: 0.3677 - val_output_3_loss: 0.0404 - val_output_4_loss: 12.6987 - val_output_3_precision_2: 0.7870 - val_output_3_recall_2: 0.1072 - val_output_3_true_negatives_2: 7592833.0000 - val_output_3_true_positives_2: 1267.0000 - val_output_3_false_negatives_2: 10557.0000 - val_output_3_false_positives_2: 343.0000\n",
      "Epoch 5/20\n",
      "4607/4607 [==============================] - 561s 122ms/step - loss: 28.6440 - output_1_loss: 2.9514 - output_2_loss: 0.4349 - output_3_loss: 0.0347 - output_4_loss: 11.6428 - output_3_precision_2: 0.6655 - output_3_recall_2: 0.1650 - output_3_true_negatives_2: 186531808.0000 - output_3_true_positives_2: 44567.0000 - output_3_false_negatives_2: 225560.0000 - output_3_false_positives_2: 22404.0000 - val_loss: 22.7363 - val_output_1_loss: 1.6088 - val_output_2_loss: 0.3742 - val_output_3_loss: 0.0406 - val_output_4_loss: 12.7402 - val_output_3_precision_2: 0.8061 - val_output_3_recall_2: 0.1069 - val_output_3_true_negatives_2: 7592872.0000 - val_output_3_true_positives_2: 1264.0000 - val_output_3_false_negatives_2: 10560.0000 - val_output_3_false_positives_2: 304.0000\n",
      "Epoch 6/20\n",
      "4607/4607 [==============================] - 567s 123ms/step - loss: 28.4979 - output_1_loss: 2.9453 - output_2_loss: 0.4205 - output_3_loss: 0.0346 - output_4_loss: 11.5997 - output_3_precision_2: 0.6729 - output_3_recall_2: 0.1693 - output_3_true_negatives_2: 186532096.0000 - output_3_true_positives_2: 45740.0000 - output_3_false_negatives_2: 224511.0000 - output_3_false_positives_2: 22239.0000 - val_loss: 22.3687 - val_output_1_loss: 1.5794 - val_output_2_loss: 0.3516 - val_output_3_loss: 0.0402 - val_output_4_loss: 12.6334 - val_output_3_precision_2: 0.7975 - val_output_3_recall_2: 0.1093 - val_output_3_true_negatives_2: 7592848.0000 - val_output_3_true_positives_2: 1292.0000 - val_output_3_false_negatives_2: 10532.0000 - val_output_3_false_positives_2: 328.0000\n",
      "Epoch 7/20\n",
      "4607/4607 [==============================] - 603s 131ms/step - loss: 28.3914 - output_1_loss: 2.9250 - output_2_loss: 0.4302 - output_3_loss: 0.0344 - output_4_loss: 11.5466 - output_3_precision_2: 0.6745 - output_3_recall_2: 0.1718 - output_3_true_negatives_2: 186531392.0000 - output_3_true_positives_2: 46429.0000 - output_3_false_negatives_2: 223845.0000 - output_3_false_positives_2: 22406.0000 - val_loss: 21.9410 - val_output_1_loss: 1.5055 - val_output_2_loss: 0.3537 - val_output_3_loss: 0.0401 - val_output_4_loss: 12.5645 - val_output_3_precision_2: 0.8190 - val_output_3_recall_2: 0.1140 - val_output_3_true_negatives_2: 7592878.0000 - val_output_3_true_positives_2: 1348.0000 - val_output_3_false_negatives_2: 10476.0000 - val_output_3_false_positives_2: 298.0000\n",
      "Epoch 8/20\n",
      "4607/4607 [==============================] - 615s 133ms/step - loss: 28.1371 - output_1_loss: 2.8978 - output_2_loss: 0.4235 - output_3_loss: 0.0342 - output_4_loss: 11.4620 - output_3_precision_2: 0.6751 - output_3_recall_2: 0.1775 - output_3_true_negatives_2: 186531264.0000 - output_3_true_positives_2: 47964.0000 - output_3_false_negatives_2: 222225.0000 - output_3_false_positives_2: 23085.0000 - val_loss: 21.9262 - val_output_1_loss: 1.5388 - val_output_2_loss: 0.3479 - val_output_3_loss: 0.0397 - val_output_4_loss: 12.4136 - val_output_3_precision_2: 0.8184 - val_output_3_recall_2: 0.1212 - val_output_3_true_negatives_2: 7592858.0000 - val_output_3_true_positives_2: 1433.0000 - val_output_3_false_negatives_2: 10391.0000 - val_output_3_false_positives_2: 318.0000\n",
      "Epoch 9/20\n",
      "4607/4607 [==============================] - 604s 131ms/step - loss: 27.8913 - output_1_loss: 2.8612 - output_2_loss: 0.4228 - output_3_loss: 0.0340 - output_4_loss: 11.4031 - output_3_precision_2: 0.6766 - output_3_recall_2: 0.1799 - output_3_true_negatives_2: 186530816.0000 - output_3_true_positives_2: 48621.0000 - output_3_false_negatives_2: 221591.0000 - output_3_false_positives_2: 23241.0000 - val_loss: 21.6069 - val_output_1_loss: 1.4630 - val_output_2_loss: 0.3551 - val_output_3_loss: 0.0398 - val_output_4_loss: 12.4369 - val_output_3_precision_2: 0.8245 - val_output_3_recall_2: 0.1121 - val_output_3_true_negatives_2: 7592894.0000 - val_output_3_true_positives_2: 1325.0000 - val_output_3_false_negatives_2: 10499.0000 - val_output_3_false_positives_2: 282.0000\n",
      "Epoch 10/20\n",
      "4607/4607 [==============================] - 586s 127ms/step - loss: 27.7813 - output_1_loss: 2.8507 - output_2_loss: 0.4210 - output_3_loss: 0.0339 - output_4_loss: 11.3550 - output_3_precision_2: 0.6764 - output_3_recall_2: 0.1825 - output_3_true_negatives_2: 186530720.0000 - output_3_true_positives_2: 49308.0000 - output_3_false_negatives_2: 220857.0000 - output_3_false_positives_2: 23593.0000 - val_loss: 21.0843 - val_output_1_loss: 1.4054 - val_output_2_loss: 0.3444 - val_output_3_loss: 0.0392 - val_output_4_loss: 12.2570 - val_output_3_precision_2: 0.8187 - val_output_3_recall_2: 0.1172 - val_output_3_true_negatives_2: 7592869.0000 - val_output_3_true_positives_2: 1386.0000 - val_output_3_false_negatives_2: 10438.0000 - val_output_3_false_positives_2: 307.0000\n",
      "Epoch 11/20\n",
      "4607/4607 [==============================] - 574s 125ms/step - loss: 27.3990 - output_1_loss: 2.7990 - output_2_loss: 0.4098 - output_3_loss: 0.0337 - output_4_loss: 11.2873 - output_3_precision_2: 0.6796 - output_3_recall_2: 0.1864 - output_3_true_negatives_2: 186530336.0000 - output_3_true_positives_2: 50382.0000 - output_3_false_negatives_2: 219870.0000 - output_3_false_positives_2: 23757.0000 - val_loss: 21.0586 - val_output_1_loss: 1.4321 - val_output_2_loss: 0.3438 - val_output_3_loss: 0.0386 - val_output_4_loss: 12.1021 - val_output_3_precision_2: 0.8182 - val_output_3_recall_2: 0.1210 - val_output_3_true_negatives_2: 7592858.0000 - val_output_3_true_positives_2: 1431.0000 - val_output_3_false_negatives_2: 10393.0000 - val_output_3_false_positives_2: 318.0000\n",
      "Epoch 12/20\n",
      "4607/4607 [==============================] - 583s 126ms/step - loss: 27.3454 - output_1_loss: 2.7887 - output_2_loss: 0.4224 - output_3_loss: 0.0335 - output_4_loss: 11.2227 - output_3_precision_2: 0.6819 - output_3_recall_2: 0.1909 - output_3_true_negatives_2: 186530176.0000 - output_3_true_positives_2: 51591.0000 - output_3_false_negatives_2: 218617.0000 - output_3_false_positives_2: 24064.0000 - val_loss: 20.5749 - val_output_1_loss: 1.3530 - val_output_2_loss: 0.3376 - val_output_3_loss: 0.0386 - val_output_4_loss: 12.0447 - val_output_3_precision_2: 0.8105 - val_output_3_recall_2: 0.1324 - val_output_3_true_negatives_2: 7592810.0000 - val_output_3_true_positives_2: 1565.0000 - val_output_3_false_negatives_2: 10259.0000 - val_output_3_false_positives_2: 366.0000\n",
      "Epoch 13/20\n",
      "4607/4607 [==============================] - 590s 128ms/step - loss: 27.2738 - output_1_loss: 2.7958 - output_2_loss: 0.4077 - output_3_loss: 0.0334 - output_4_loss: 11.1893 - output_3_precision_2: 0.6799 - output_3_recall_2: 0.1922 - output_3_true_negatives_2: 186529920.0000 - output_3_true_positives_2: 51951.0000 - output_3_false_negatives_2: 218319.0000 - output_3_false_positives_2: 24461.0000 - val_loss: 20.6354 - val_output_1_loss: 1.3580 - val_output_2_loss: 0.3397 - val_output_3_loss: 0.0387 - val_output_4_loss: 12.0693 - val_output_3_precision_2: 0.8175 - val_output_3_recall_2: 0.1349 - val_output_3_true_negatives_2: 7592820.0000 - val_output_3_true_positives_2: 1595.0000 - val_output_3_false_negatives_2: 10229.0000 - val_output_3_false_positives_2: 356.0000\n",
      "Epoch 14/20\n",
      "4607/4607 [==============================] - 576s 125ms/step - loss: 27.0782 - output_1_loss: 2.7669 - output_2_loss: 0.4106 - output_3_loss: 0.0333 - output_4_loss: 11.1240 - output_3_precision_2: 0.6824 - output_3_recall_2: 0.1957 - output_3_true_negatives_2: 186529696.0000 - output_3_true_positives_2: 52882.0000 - output_3_false_negatives_2: 217321.0000 - output_3_false_positives_2: 24617.0000 - val_loss: 20.1223 - val_output_1_loss: 1.3103 - val_output_2_loss: 0.3348 - val_output_3_loss: 0.0379 - val_output_4_loss: 11.8210 - val_output_3_precision_2: 0.8191 - val_output_3_recall_2: 0.1367 - val_output_3_true_negatives_2: 7592819.0000 - val_output_3_true_positives_2: 1616.0000 - val_output_3_false_negatives_2: 10208.0000 - val_output_3_false_positives_2: 357.0000\n",
      "Epoch 15/20\n",
      "4607/4607 [==============================] - 581s 126ms/step - loss: 27.1058 - output_1_loss: 2.7489 - output_2_loss: 0.4333 - output_3_loss: 0.0333 - output_4_loss: 11.1280 - output_3_precision_2: 0.6847 - output_3_recall_2: 0.1970 - output_3_true_negatives_2: 186529664.0000 - output_3_true_positives_2: 53243.0000 - output_3_false_negatives_2: 217063.0000 - output_3_false_positives_2: 24518.0000 - val_loss: 19.7743 - val_output_1_loss: 1.2555 - val_output_2_loss: 0.3405 - val_output_3_loss: 0.0377 - val_output_4_loss: 11.7191 - val_output_3_precision_2: 0.8311 - val_output_3_recall_2: 0.1395 - val_output_3_true_negatives_2: 7592841.0000 - val_output_3_true_positives_2: 1649.0000 - val_output_3_false_negatives_2: 10175.0000 - val_output_3_false_positives_2: 335.0000\n",
      "Epoch 16/20\n",
      "4607/4607 [==============================] - 592s 128ms/step - loss: 26.6926 - output_1_loss: 2.7140 - output_2_loss: 0.4039 - output_3_loss: 0.0331 - output_4_loss: 11.0371 - output_3_precision_2: 0.6862 - output_3_recall_2: 0.2025 - output_3_true_negatives_2: 186529120.0000 - output_3_true_positives_2: 54728.0000 - output_3_false_negatives_2: 215557.0000 - output_3_false_positives_2: 25023.0000 - val_loss: 20.1051 - val_output_1_loss: 1.3087 - val_output_2_loss: 0.3265 - val_output_3_loss: 0.0381 - val_output_4_loss: 11.8531 - val_output_3_precision_2: 0.8350 - val_output_3_recall_2: 0.1331 - val_output_3_true_negatives_2: 7592865.0000 - val_output_3_true_positives_2: 1574.0000 - val_output_3_false_negatives_2: 10250.0000 - val_output_3_false_positives_2: 311.0000\n",
      "Epoch 17/20\n",
      "4607/4607 [==============================] - 574s 125ms/step - loss: 26.4073 - output_1_loss: 2.6837 - output_2_loss: 0.3931 - output_3_loss: 0.0329 - output_4_loss: 10.9578 - output_3_precision_2: 0.6882 - output_3_recall_2: 0.2061 - output_3_true_negatives_2: 186528928.0000 - output_3_true_positives_2: 55688.0000 - output_3_false_negatives_2: 214547.0000 - output_3_false_positives_2: 25233.0000 - val_loss: 19.7485 - val_output_1_loss: 1.2678 - val_output_2_loss: 0.3194 - val_output_3_loss: 0.0379 - val_output_4_loss: 11.7368 - val_output_3_precision_2: 0.8389 - val_output_3_recall_2: 0.1401 - val_output_3_true_negatives_2: 7592858.0000 - val_output_3_true_positives_2: 1656.0000 - val_output_3_false_negatives_2: 10168.0000 - val_output_3_false_positives_2: 318.0000\n",
      "Epoch 18/20\n",
      "4607/4607 [==============================] - 584s 127ms/step - loss: 26.5751 - output_1_loss: 2.7180 - output_2_loss: 0.3961 - output_3_loss: 0.0329 - output_4_loss: 10.9386 - output_3_precision_2: 0.6883 - output_3_recall_2: 0.2082 - output_3_true_negatives_2: 186528816.0000 - output_3_true_positives_2: 56271.0000 - output_3_false_negatives_2: 213970.0000 - output_3_false_positives_2: 25478.0000 - val_loss: 19.4626 - val_output_1_loss: 1.2208 - val_output_2_loss: 0.3286 - val_output_3_loss: 0.0375 - val_output_4_loss: 11.6405 - val_output_3_precision_2: 0.8467 - val_output_3_recall_2: 0.1406 - val_output_3_true_negatives_2: 7592875.0000 - val_output_3_true_positives_2: 1663.0000 - val_output_3_false_negatives_2: 10161.0000 - val_output_3_false_positives_2: 301.0000\n",
      "Epoch 19/20\n",
      "4607/4607 [==============================] - 596s 129ms/step - loss: 26.1467 - output_1_loss: 2.6515 - output_2_loss: 0.3900 - output_3_loss: 0.0326 - output_4_loss: 10.8738 - output_3_precision_2: 0.6895 - output_3_recall_2: 0.2125 - output_3_true_negatives_2: 186528256.0000 - output_3_true_positives_2: 57438.0000 - output_3_false_negatives_2: 212845.0000 - output_3_false_positives_2: 25862.0000 - val_loss: 19.3539 - val_output_1_loss: 1.2064 - val_output_2_loss: 0.3321 - val_output_3_loss: 0.0375 - val_output_4_loss: 11.5867 - val_output_3_precision_2: 0.8362 - val_output_3_recall_2: 0.1460 - val_output_3_true_negatives_2: 7592838.0000 - val_output_3_true_positives_2: 1726.0000 - val_output_3_false_negatives_2: 10098.0000 - val_output_3_false_positives_2: 338.0000\n",
      "Epoch 20/20\n"
     ]
    },
    {
     "name": "stdout",
     "output_type": "stream",
     "text": [
      "4607/4607 [==============================] - 575s 125ms/step - loss: 26.3014 - output_1_loss: 2.6796 - output_2_loss: 0.4034 - output_3_loss: 0.0325 - output_4_loss: 10.8213 - output_3_precision_2: 0.6922 - output_3_recall_2: 0.2154 - output_3_true_negatives_2: 186528576.0000 - output_3_true_positives_2: 58212.0000 - output_3_false_negatives_2: 212018.0000 - output_3_false_positives_2: 25885.0000 - val_loss: 18.8800 - val_output_1_loss: 1.1689 - val_output_2_loss: 0.3181 - val_output_3_loss: 0.0366 - val_output_4_loss: 11.3715 - val_output_3_precision_2: 0.8351 - val_output_3_recall_2: 0.1627 - val_output_3_true_negatives_2: 7592796.0000 - val_output_3_true_positives_2: 1924.0000 - val_output_3_false_negatives_2: 9900.0000 - val_output_3_false_positives_2: 380.0000\n"
     ]
    }
   ],
   "source": [
    "history = model.fit(train_dataset, epochs=20,validation_data=val_dataset)"
   ]
  },
  {
   "cell_type": "code",
   "execution_count": null,
   "metadata": {},
   "outputs": [],
   "source": []
  },
  {
   "cell_type": "code",
   "execution_count": 16,
   "metadata": {},
   "outputs": [],
   "source": [
    "os.chdir(root_path+\"/json_final_experiment\")\n",
    "import json\n",
    "#json.dumps(str(a))\n",
    "with open('history_finetuning_5521_20_40_epoch_nadam_0dot00001_mse_exp_mse_3anchors_final_experiment_con_data_aug.json', 'w') as fp:\n",
    "    json.dump(str(history.history), fp)"
   ]
  },
  {
   "cell_type": "code",
   "execution_count": 17,
   "metadata": {},
   "outputs": [],
   "source": [
    "model.save_weights(root_path+'/last_weights/pesos_finetuning_5521_20_40_epoch_nadam_0dot00001_mse_exp_mse_3anchors_final_experiment_con_data_aug')"
   ]
  },
  {
   "cell_type": "code",
   "execution_count": null,
   "metadata": {},
   "outputs": [],
   "source": []
  },
  {
   "cell_type": "markdown",
   "metadata": {},
   "source": [
    "## CONTINUACION 40-60 EPOCHS"
   ]
  },
  {
   "cell_type": "code",
   "execution_count": 18,
   "metadata": {},
   "outputs": [],
   "source": [
    "os.chdir(root_path+ \"/pedestrian_dataset_train_tfr\")"
   ]
  },
  {
   "cell_type": "code",
   "execution_count": 19,
   "metadata": {},
   "outputs": [
    {
     "name": "stdout",
     "output_type": "stream",
     "text": [
      "Epoch 1/20\n",
      "4607/4607 [==============================] - 596s 129ms/step - loss: 27.0456 - output_1_loss: 2.6820 - output_2_loss: 0.5259 - output_3_loss: 0.0327 - output_4_loss: 10.9406 - output_3_precision_2: 0.6897 - output_3_recall_2: 0.2097 - output_3_true_negatives_2: 186528736.0000 - output_3_true_positives_2: 56665.0000 - output_3_false_negatives_2: 213593.0000 - output_3_false_positives_2: 25497.0000 - val_loss: 18.3760 - val_output_1_loss: 1.1350 - val_output_2_loss: 0.3170 - val_output_3_loss: 0.0355 - val_output_4_loss: 11.0450 - val_output_3_precision_2: 0.8197 - val_output_3_recall_2: 0.1673 - val_output_3_true_negatives_2: 7592741.0000 - val_output_3_true_positives_2: 1978.0000 - val_output_3_false_negatives_2: 9846.0000 - val_output_3_false_positives_2: 435.0000\n",
      "Epoch 2/20\n",
      "4607/4607 [==============================] - 591s 128ms/step - loss: 25.6297 - output_1_loss: 2.6105 - output_2_loss: 0.3653 - output_3_loss: 0.0322 - output_4_loss: 10.6861 - output_3_precision_2: 0.6951 - output_3_recall_2: 0.2244 - output_3_true_negatives_2: 186527904.0000 - output_3_true_positives_2: 60637.0000 - output_3_false_negatives_2: 209568.0000 - output_3_false_positives_2: 26602.0000 - val_loss: 18.2923 - val_output_1_loss: 1.1029 - val_output_2_loss: 0.3084 - val_output_3_loss: 0.0360 - val_output_4_loss: 11.1635 - val_output_3_precision_2: 0.8331 - val_output_3_recall_2: 0.1587 - val_output_3_true_negatives_2: 7592800.0000 - val_output_3_true_positives_2: 1877.0000 - val_output_3_false_negatives_2: 9947.0000 - val_output_3_false_positives_2: 376.0000\n",
      "Epoch 3/20\n",
      "4607/4607 [==============================] - 578s 125ms/step - loss: 25.6800 - output_1_loss: 2.6074 - output_2_loss: 0.3843 - output_3_loss: 0.0321 - output_4_loss: 10.6575 - output_3_precision_2: 0.6966 - output_3_recall_2: 0.2267 - output_3_true_negatives_2: 186527728.0000 - output_3_true_positives_2: 61246.0000 - output_3_false_negatives_2: 208968.0000 - output_3_false_positives_2: 26681.0000 - val_loss: 18.5065 - val_output_1_loss: 1.1045 - val_output_2_loss: 0.3158 - val_output_3_loss: 0.0368 - val_output_4_loss: 11.3315 - val_output_3_precision_2: 0.8418 - val_output_3_recall_2: 0.1603 - val_output_3_true_negatives_2: 7592820.0000 - val_output_3_true_positives_2: 1895.0000 - val_output_3_false_negatives_2: 9929.0000 - val_output_3_false_positives_2: 356.0000\n",
      "Epoch 4/20\n",
      "4607/4607 [==============================] - 566s 123ms/step - loss: 25.5348 - output_1_loss: 2.5794 - output_2_loss: 0.3915 - output_3_loss: 0.0320 - output_4_loss: 10.6163 - output_3_precision_2: 0.6974 - output_3_recall_2: 0.2289 - output_3_true_negatives_2: 186527264.0000 - output_3_true_positives_2: 61841.0000 - output_3_false_negatives_2: 208357.0000 - output_3_false_positives_2: 26837.0000 - val_loss: 18.2488 - val_output_1_loss: 1.0991 - val_output_2_loss: 0.3131 - val_output_3_loss: 0.0361 - val_output_4_loss: 11.1159 - val_output_3_precision_2: 0.8438 - val_output_3_recall_2: 0.1641 - val_output_3_true_negatives_2: 7592817.0000 - val_output_3_true_positives_2: 1940.0000 - val_output_3_false_negatives_2: 9884.0000 - val_output_3_false_positives_2: 359.0000\n",
      "Epoch 5/20\n",
      "4607/4607 [==============================] - 565s 123ms/step - loss: 25.5348 - output_1_loss: 2.5875 - output_2_loss: 0.3920 - output_3_loss: 0.0319 - output_4_loss: 10.5739 - output_3_precision_2: 0.6996 - output_3_recall_2: 0.2332 - output_3_true_negatives_2: 186526752.0000 - output_3_true_positives_2: 63016.0000 - output_3_false_negatives_2: 207213.0000 - output_3_false_positives_2: 27058.0000 - val_loss: 18.3465 - val_output_1_loss: 1.1286 - val_output_2_loss: 0.3105 - val_output_3_loss: 0.0359 - val_output_4_loss: 11.0794 - val_output_3_precision_2: 0.8499 - val_output_3_recall_2: 0.1666 - val_output_3_true_negatives_2: 7592828.0000 - val_output_3_true_positives_2: 1970.0000 - val_output_3_false_negatives_2: 9854.0000 - val_output_3_false_positives_2: 348.0000\n",
      "Epoch 6/20\n",
      "4607/4607 [==============================] - 574s 125ms/step - loss: 25.4014 - output_1_loss: 2.5836 - output_2_loss: 0.3839 - output_3_loss: 0.0317 - output_4_loss: 10.5002 - output_3_precision_2: 0.6997 - output_3_recall_2: 0.2367 - output_3_true_negatives_2: 186526560.0000 - output_3_true_positives_2: 63979.0000 - output_3_false_negatives_2: 206343.0000 - output_3_false_positives_2: 27454.0000 - val_loss: 18.1211 - val_output_1_loss: 1.0867 - val_output_2_loss: 0.3092 - val_output_3_loss: 0.0361 - val_output_4_loss: 11.0696 - val_output_3_precision_2: 0.8524 - val_output_3_recall_2: 0.1729 - val_output_3_true_negatives_2: 7592822.0000 - val_output_3_true_positives_2: 2044.0000 - val_output_3_false_negatives_2: 9780.0000 - val_output_3_false_positives_2: 354.0000\n",
      "Epoch 7/20\n",
      "4607/4607 [==============================] - 548s 119ms/step - loss: 25.9253 - output_1_loss: 2.6171 - output_2_loss: 0.4406 - output_3_loss: 0.0318 - output_4_loss: 10.5732 - output_3_precision_2: 0.7005 - output_3_recall_2: 0.2333 - output_3_true_negatives_2: 186527504.0000 - output_3_true_positives_2: 63066.0000 - output_3_false_negatives_2: 207199.0000 - output_3_false_positives_2: 26966.0000 - val_loss: 17.4981 - val_output_1_loss: 1.0386 - val_output_2_loss: 0.3044 - val_output_3_loss: 0.0346 - val_output_4_loss: 10.7139 - val_output_3_precision_2: 0.8599 - val_output_3_recall_2: 0.1760 - val_output_3_true_negatives_2: 7592837.0000 - val_output_3_true_positives_2: 2081.0000 - val_output_3_false_negatives_2: 9743.0000 - val_output_3_false_positives_2: 339.0000\n",
      "Epoch 8/20\n",
      "4607/4607 [==============================] - 587s 127ms/step - loss: 24.8567 - output_1_loss: 2.5062 - output_2_loss: 0.3753 - output_3_loss: 0.0313 - output_4_loss: 10.3862 - output_3_precision_2: 0.7037 - output_3_recall_2: 0.2452 - output_3_true_negatives_2: 186526448.0000 - output_3_true_positives_2: 66267.0000 - output_3_false_negatives_2: 203998.0000 - output_3_false_positives_2: 27909.0000 - val_loss: 17.5562 - val_output_1_loss: 1.0491 - val_output_2_loss: 0.2978 - val_output_3_loss: 0.0349 - val_output_4_loss: 10.7516 - val_output_3_precision_2: 0.8491 - val_output_3_recall_2: 0.1770 - val_output_3_true_negatives_2: 7592804.0000 - val_output_3_true_positives_2: 2093.0000 - val_output_3_false_negatives_2: 9731.0000 - val_output_3_false_positives_2: 372.0000\n",
      "Epoch 9/20\n",
      "4607/4607 [==============================] - 581s 126ms/step - loss: 24.9065 - output_1_loss: 2.5311 - output_2_loss: 0.3705 - output_3_loss: 0.0312 - output_4_loss: 10.3356 - output_3_precision_2: 0.7048 - output_3_recall_2: 0.2497 - output_3_true_negatives_2: 186526176.0000 - output_3_true_positives_2: 67480.0000 - output_3_false_negatives_2: 202812.0000 - output_3_false_positives_2: 28265.0000 - val_loss: 17.4617 - val_output_1_loss: 1.0258 - val_output_2_loss: 0.3000 - val_output_3_loss: 0.0349 - val_output_4_loss: 10.7627 - val_output_3_precision_2: 0.8559 - val_output_3_recall_2: 0.1813 - val_output_3_true_negatives_2: 7592815.0000 - val_output_3_true_positives_2: 2144.0000 - val_output_3_false_negatives_2: 9680.0000 - val_output_3_false_positives_2: 361.0000\n",
      "Epoch 10/20\n",
      "4607/4607 [==============================] - 579s 126ms/step - loss: 24.9392 - output_1_loss: 2.5384 - output_2_loss: 0.3777 - output_3_loss: 0.0311 - output_4_loss: 10.2963 - output_3_precision_2: 0.7071 - output_3_recall_2: 0.2509 - output_3_true_negatives_2: 186526192.0000 - output_3_true_positives_2: 67799.0000 - output_3_false_negatives_2: 202477.0000 - output_3_false_positives_2: 28087.0000 - val_loss: 17.3396 - val_output_1_loss: 1.0329 - val_output_2_loss: 0.2988 - val_output_3_loss: 0.0345 - val_output_4_loss: 10.6120 - val_output_3_precision_2: 0.8510 - val_output_3_recall_2: 0.1923 - val_output_3_true_negatives_2: 7592778.0000 - val_output_3_true_positives_2: 2274.0000 - val_output_3_false_negatives_2: 9550.0000 - val_output_3_false_positives_2: 398.0000\n",
      "Epoch 11/20\n",
      "4607/4607 [==============================] - 574s 125ms/step - loss: 24.6564 - output_1_loss: 2.4908 - output_2_loss: 0.3765 - output_3_loss: 0.0310 - output_4_loss: 10.2583 - output_3_precision_2: 0.7083 - output_3_recall_2: 0.2555 - output_3_true_negatives_2: 186525696.0000 - output_3_true_positives_2: 69062.0000 - output_3_false_negatives_2: 201229.0000 - output_3_false_positives_2: 28442.0000 - val_loss: 17.1401 - val_output_1_loss: 1.0104 - val_output_2_loss: 0.2949 - val_output_3_loss: 0.0345 - val_output_4_loss: 10.5444 - val_output_3_precision_2: 0.8711 - val_output_3_recall_2: 0.1857 - val_output_3_true_negatives_2: 7592851.0000 - val_output_3_true_positives_2: 2196.0000 - val_output_3_false_negatives_2: 9628.0000 - val_output_3_false_positives_2: 325.0000\n",
      "Epoch 12/20\n",
      "4607/4607 [==============================] - 593s 129ms/step - loss: 24.8604 - output_1_loss: 2.5392 - output_2_loss: 0.3764 - output_3_loss: 0.0310 - output_4_loss: 10.2204 - output_3_precision_2: 0.7104 - output_3_recall_2: 0.2584 - output_3_true_negatives_2: 186526000.0000 - output_3_true_positives_2: 69830.0000 - output_3_false_negatives_2: 200442.0000 - output_3_false_positives_2: 28465.0000 - val_loss: 17.4357 - val_output_1_loss: 1.0513 - val_output_2_loss: 0.3061 - val_output_3_loss: 0.0346 - val_output_4_loss: 10.5796 - val_output_3_precision_2: 0.8703 - val_output_3_recall_2: 0.1850 - val_output_3_true_negatives_2: 7592850.0000 - val_output_3_true_positives_2: 2187.0000 - val_output_3_false_negatives_2: 9637.0000 - val_output_3_false_positives_2: 326.0000\n",
      "Epoch 13/20\n",
      "4607/4607 [==============================] - 582s 126ms/step - loss: 24.7881 - output_1_loss: 2.5323 - output_2_loss: 0.3759 - output_3_loss: 0.0309 - output_4_loss: 10.1857 - output_3_precision_2: 0.7130 - output_3_recall_2: 0.2610 - output_3_true_negatives_2: 186525744.0000 - output_3_true_positives_2: 70536.0000 - output_3_false_negatives_2: 199768.0000 - output_3_false_positives_2: 28398.0000 - val_loss: 16.9557 - val_output_1_loss: 1.0105 - val_output_2_loss: 0.2928 - val_output_3_loss: 0.0339 - val_output_4_loss: 10.3710 - val_output_3_precision_2: 0.8639 - val_output_3_recall_2: 0.2029 - val_output_3_true_negatives_2: 7592798.0000 - val_output_3_true_positives_2: 2399.0000 - val_output_3_false_negatives_2: 9425.0000 - val_output_3_false_positives_2: 378.0000\n",
      "Epoch 14/20\n",
      "4607/4607 [==============================] - 604s 131ms/step - loss: 24.4315 - output_1_loss: 2.4834 - output_2_loss: 0.3711 - output_3_loss: 0.0306 - output_4_loss: 10.0976 - output_3_precision_2: 0.7134 - output_3_recall_2: 0.2652 - output_3_true_negatives_2: 186525344.0000 - output_3_true_positives_2: 71689.0000 - output_3_false_negatives_2: 198582.0000 - output_3_false_positives_2: 28796.0000 - val_loss: 16.4583 - val_output_1_loss: 0.9570 - val_output_2_loss: 0.2889 - val_output_3_loss: 0.0332 - val_output_4_loss: 10.1627 - val_output_3_precision_2: 0.8609 - val_output_3_recall_2: 0.2042 - val_output_3_true_negatives_2: 7592786.0000 - val_output_3_true_positives_2: 2414.0000 - val_output_3_false_negatives_2: 9410.0000 - val_output_3_false_positives_2: 390.0000\n",
      "Epoch 15/20\n",
      "4607/4607 [==============================] - 635s 138ms/step - loss: 24.3072 - output_1_loss: 2.4684 - output_2_loss: 0.3675 - output_3_loss: 0.0305 - output_4_loss: 10.0663 - output_3_precision_2: 0.7151 - output_3_recall_2: 0.2698 - output_3_true_negatives_2: 186525440.0000 - output_3_true_positives_2: 72925.0000 - output_3_false_negatives_2: 197343.0000 - output_3_false_positives_2: 29052.0000 - val_loss: 16.3925 - val_output_1_loss: 0.9479 - val_output_2_loss: 0.2856 - val_output_3_loss: 0.0333 - val_output_4_loss: 10.1582 - val_output_3_precision_2: 0.8816 - val_output_3_recall_2: 0.2002 - val_output_3_true_negatives_2: 7592858.0000 - val_output_3_true_positives_2: 2367.0000 - val_output_3_false_negatives_2: 9457.0000 - val_output_3_false_positives_2: 318.0000\n",
      "Epoch 16/20\n",
      "4607/4607 [==============================] - 606s 132ms/step - loss: 24.2861 - output_1_loss: 2.4692 - output_2_loss: 0.3726 - output_3_loss: 0.0304 - output_4_loss: 10.0165 - output_3_precision_2: 0.7177 - output_3_recall_2: 0.2713 - output_3_true_negatives_2: 186525408.0000 - output_3_true_positives_2: 73310.0000 - output_3_false_negatives_2: 196893.0000 - output_3_false_positives_2: 28831.0000 - val_loss: 16.3811 - val_output_1_loss: 0.9692 - val_output_2_loss: 0.2845 - val_output_3_loss: 0.0331 - val_output_4_loss: 10.0462 - val_output_3_precision_2: 0.8706 - val_output_3_recall_2: 0.2157 - val_output_3_true_negatives_2: 7592797.0000 - val_output_3_true_positives_2: 2551.0000 - val_output_3_false_negatives_2: 9273.0000 - val_output_3_false_positives_2: 379.0000\n",
      "Epoch 17/20\n",
      "4607/4607 [==============================] - 594s 129ms/step - loss: 81.3787 - output_1_loss: 2.6147 - output_2_loss: 11.5582 - output_3_loss: 0.0315 - output_4_loss: 10.4513 - output_3_precision_2: 0.7052 - output_3_recall_2: 0.2558 - output_3_true_negatives_2: 186525408.0000 - output_3_true_positives_2: 69113.0000 - output_3_false_negatives_2: 201115.0000 - output_3_false_positives_2: 28897.0000 - val_loss: 20.7306 - val_output_1_loss: 1.6008 - val_output_2_loss: 0.3968 - val_output_3_loss: 0.0332 - val_output_4_loss: 10.6763 - val_output_3_precision_2: 0.7896 - val_output_3_recall_2: 0.2097 - val_output_3_true_negatives_2: 7592515.0000 - val_output_3_true_positives_2: 2480.0000 - val_output_3_false_negatives_2: 9344.0000 - val_output_3_false_positives_2: 661.0000\n",
      "Epoch 18/20\n",
      "4607/4607 [==============================] - 611s 133ms/step - loss: 26.7018 - output_1_loss: 2.7312 - output_2_loss: 0.4313 - output_3_loss: 0.0324 - output_4_loss: 10.8241 - output_3_precision_2: 0.6955 - output_3_recall_2: 0.2332 - output_3_true_negatives_2: 186526608.0000 - output_3_true_positives_2: 63029.0000 - output_3_false_negatives_2: 207238.0000 - output_3_false_positives_2: 27599.0000 - val_loss: 17.5633 - val_output_1_loss: 1.1835 - val_output_2_loss: 0.3256 - val_output_3_loss: 0.0314 - val_output_4_loss: 9.9547 - val_output_3_precision_2: 0.8317 - val_output_3_recall_2: 0.2173 - val_output_3_true_negatives_2: 7592656.0000 - val_output_3_true_positives_2: 2569.0000 - val_output_3_false_negatives_2: 9255.0000 - val_output_3_false_positives_2: 520.0000\n",
      "Epoch 19/20\n",
      "4607/4607 [==============================] - 522s 113ms/step - loss: 25.0423 - output_1_loss: 2.5545 - output_2_loss: 0.3898 - output_3_loss: 0.0309 - output_4_loss: 10.2594 - output_3_precision_2: 0.7153 - output_3_recall_2: 0.2575 - output_3_true_negatives_2: 186526704.0000 - output_3_true_positives_2: 69576.0000 - output_3_false_negatives_2: 200617.0000 - output_3_false_positives_2: 27696.0000 - val_loss: 15.7938 - val_output_1_loss: 0.9203 - val_output_2_loss: 0.2925 - val_output_3_loss: 0.0311 - val_output_4_loss: 9.6674 - val_output_3_precision_2: 0.8649 - val_output_3_recall_2: 0.2154 - val_output_3_true_negatives_2: 7592778.0000 - val_output_3_true_positives_2: 2547.0000 - val_output_3_false_negatives_2: 9277.0000 - val_output_3_false_positives_2: 398.0000\n",
      "Epoch 20/20\n",
      "4607/4607 [==============================] - 451s 98ms/step - loss: 23.8987 - output_1_loss: 2.4245 - output_2_loss: 0.3630 - output_3_loss: 0.0300 - output_4_loss: 9.9011 - output_3_precision_2: 0.7241 - output_3_recall_2: 0.2804 - output_3_true_negatives_2: 186525184.0000 - output_3_true_positives_2: 75766.0000 - output_3_false_negatives_2: 194433.0000 - output_3_false_positives_2: 28867.0000 - val_loss: 15.5969 - val_output_1_loss: 0.8771 - val_output_2_loss: 0.2821 - val_output_3_loss: 0.0319 - val_output_4_loss: 9.7367 - val_output_3_precision_2: 0.8611 - val_output_3_recall_2: 0.2280 - val_output_3_true_negatives_2: 7592741.0000 - val_output_3_true_positives_2: 2696.0000 - val_output_3_false_negatives_2: 9128.0000 - val_output_3_false_positives_2: 435.0000\n"
     ]
    }
   ],
   "source": [
    "history = model.fit(train_dataset, epochs=20,validation_data=val_dataset)"
   ]
  },
  {
   "cell_type": "code",
   "execution_count": null,
   "metadata": {},
   "outputs": [],
   "source": []
  },
  {
   "cell_type": "code",
   "execution_count": 20,
   "metadata": {},
   "outputs": [],
   "source": [
    "os.chdir(root_path+\"/json_final_experiment\")\n",
    "import json\n",
    "#json.dumps(str(a))\n",
    "with open('history_finetuning_5521_40_60_epoch_nadam_0dot00001_mse_exp_mse_3anchors_final_experiment_con_data_aug.json', 'w') as fp:\n",
    "    json.dump(str(history.history), fp)"
   ]
  },
  {
   "cell_type": "code",
   "execution_count": 21,
   "metadata": {},
   "outputs": [],
   "source": [
    "model.save_weights(root_path+'/last_weights/pesos_finetuning_5521_40_60_epoch_nadam_0dot00001_mse_exp_mse_3anchors_final_experiment_con_data_aug')"
   ]
  },
  {
   "cell_type": "code",
   "execution_count": null,
   "metadata": {},
   "outputs": [],
   "source": []
  },
  {
   "cell_type": "code",
   "execution_count": null,
   "metadata": {},
   "outputs": [],
   "source": []
  },
  {
   "cell_type": "code",
   "execution_count": 13,
   "metadata": {},
   "outputs": [],
   "source": [
    "os.chdir(\"/home/sergio/Documents/pedestrian_dataset_train_tfr\")"
   ]
  },
  {
   "cell_type": "markdown",
   "metadata": {},
   "source": [
    "## CONTINUACION"
   ]
  },
  {
   "cell_type": "code",
   "execution_count": 14,
   "metadata": {},
   "outputs": [
    {
     "name": "stdout",
     "output_type": "stream",
     "text": [
      "Epoch 1/20\n",
      "4607/4607 [==============================] - 582s 126ms/step - loss: 8.8212 - output_1_loss: 7.3160e-06 - output_2_loss: 0.3153 - output_3_loss: 0.0226 - output_4_loss: 7.1994 - output_3_precision: 0.8232 - output_3_recall: 0.5077 - output_3_true_negatives: 186524448.0000 - output_3_true_positives: 137218.0000 - output_3_false_negatives: 133044.0000 - output_3_false_positives: 29466.0000 - val_loss: 5.3150 - val_output_1_loss: 0.0000e+00 - val_output_2_loss: 0.2074 - val_output_3_loss: 0.0144 - val_output_4_loss: 4.2491 - val_output_3_precision: 0.8998 - val_output_3_recall: 0.7053 - val_output_3_true_negatives: 7592247.0000 - val_output_3_true_positives: 8340.0000 - val_output_3_false_negatives: 3484.0000 - val_output_3_false_positives: 929.0000\n",
      "Epoch 2/20\n",
      "4607/4607 [==============================] - 576s 125ms/step - loss: 8.7506 - output_1_loss: 1.0512e-05 - output_2_loss: 0.3162 - output_3_loss: 0.0223 - output_4_loss: 7.1247 - output_3_precision: 0.8242 - output_3_recall: 0.5132 - output_3_true_negatives: 186524368.0000 - output_3_true_positives: 138692.0000 - output_3_false_negatives: 131541.0000 - output_3_false_positives: 29586.0000 - val_loss: 5.1426 - val_output_1_loss: 0.0000e+00 - val_output_2_loss: 0.2032 - val_output_3_loss: 0.0140 - val_output_4_loss: 4.0986 - val_output_3_precision: 0.8871 - val_output_3_recall: 0.7270 - val_output_3_true_negatives: 7592082.0000 - val_output_3_true_positives: 8596.0000 - val_output_3_false_negatives: 3228.0000 - val_output_3_false_positives: 1094.0000\n",
      "Epoch 3/20\n",
      "4607/4607 [==============================] - 574s 125ms/step - loss: 8.6723 - output_1_loss: 3.3029e-07 - output_2_loss: 0.3109 - output_3_loss: 0.0222 - output_4_loss: 7.0735 - output_3_precision: 0.8254 - output_3_recall: 0.5165 - output_3_true_negatives: 186524352.0000 - output_3_true_positives: 139529.0000 - output_3_false_negatives: 130616.0000 - output_3_false_positives: 29507.0000 - val_loss: 5.0969 - val_output_1_loss: 0.0000e+00 - val_output_2_loss: 0.2098 - val_output_3_loss: 0.0138 - val_output_4_loss: 4.0201 - val_output_3_precision: 0.8974 - val_output_3_recall: 0.7230 - val_output_3_true_negatives: 7592199.0000 - val_output_3_true_positives: 8549.0000 - val_output_3_false_negatives: 3275.0000 - val_output_3_false_positives: 977.0000\n",
      "Epoch 4/20\n",
      "4607/4607 [==============================] - 559s 121ms/step - loss: 8.5993 - output_1_loss: 2.6926e-07 - output_2_loss: 0.3047 - output_3_loss: 0.0220 - output_4_loss: 7.0319 - output_3_precision: 0.8270 - output_3_recall: 0.5198 - output_3_true_negatives: 186524608.0000 - output_3_true_positives: 140486.0000 - output_3_false_negatives: 129766.0000 - output_3_false_positives: 29383.0000 - val_loss: 4.9817 - val_output_1_loss: 0.0000e+00 - val_output_2_loss: 0.2025 - val_output_3_loss: 0.0135 - val_output_4_loss: 3.9422 - val_output_3_precision: 0.8893 - val_output_3_recall: 0.7430 - val_output_3_true_negatives: 7592082.0000 - val_output_3_true_positives: 8785.0000 - val_output_3_false_negatives: 3039.0000 - val_output_3_false_positives: 1094.0000\n",
      "Epoch 5/20\n",
      "4607/4607 [==============================] - 579s 126ms/step - loss: 8.6169 - output_1_loss: 1.3953e-05 - output_2_loss: 0.3122 - output_3_loss: 0.0220 - output_4_loss: 7.0116 - output_3_precision: 0.8285 - output_3_recall: 0.5238 - output_3_true_negatives: 186525184.0000 - output_3_true_positives: 141523.0000 - output_3_false_negatives: 128659.0000 - output_3_false_positives: 29299.0000 - val_loss: 5.1029 - val_output_1_loss: 0.0000e+00 - val_output_2_loss: 0.2056 - val_output_3_loss: 0.0139 - val_output_4_loss: 4.0473 - val_output_3_precision: 0.8909 - val_output_3_recall: 0.7312 - val_output_3_true_negatives: 7592117.0000 - val_output_3_true_positives: 8646.0000 - val_output_3_false_negatives: 3178.0000 - val_output_3_false_positives: 1059.0000\n",
      "Epoch 6/20\n",
      "4607/4607 [==============================] - 581s 126ms/step - loss: 8.4804 - output_1_loss: 2.1438e-06 - output_2_loss: 0.2999 - output_3_loss: 0.0217 - output_4_loss: 6.9377 - output_3_precision: 0.8319 - output_3_recall: 0.5280 - output_3_true_negatives: 186525744.0000 - output_3_true_positives: 142634.0000 - output_3_false_negatives: 127488.0000 - output_3_false_positives: 28814.0000 - val_loss: 4.7968 - val_output_1_loss: 0.0000e+00 - val_output_2_loss: 0.2029 - val_output_3_loss: 0.0129 - val_output_4_loss: 3.7564 - val_output_3_precision: 0.9017 - val_output_3_recall: 0.7450 - val_output_3_true_negatives: 7592216.0000 - val_output_3_true_positives: 8809.0000 - val_output_3_false_negatives: 3015.0000 - val_output_3_false_positives: 960.0000\n",
      "Epoch 7/20\n",
      "4607/4607 [==============================] - 581s 126ms/step - loss: 8.4642 - output_1_loss: 1.4308e-05 - output_2_loss: 0.3019 - output_3_loss: 0.0216 - output_4_loss: 6.9112 - output_3_precision: 0.8322 - output_3_recall: 0.5317 - output_3_true_negatives: 186525376.0000 - output_3_true_positives: 143618.0000 - output_3_false_negatives: 126518.0000 - output_3_false_positives: 28949.0000 - val_loss: 4.8699 - val_output_1_loss: 0.0000e+00 - val_output_2_loss: 0.2014 - val_output_3_loss: 0.0132 - val_output_4_loss: 3.8367 - val_output_3_precision: 0.8833 - val_output_3_recall: 0.7512 - val_output_3_true_negatives: 7592002.0000 - val_output_3_true_positives: 8882.0000 - val_output_3_false_negatives: 2942.0000 - val_output_3_false_positives: 1174.0000\n",
      "Epoch 8/20\n",
      "4607/4607 [==============================] - 580s 126ms/step - loss: 8.3991 - output_1_loss: 7.7589e-07 - output_2_loss: 0.2980 - output_3_loss: 0.0215 - output_4_loss: 6.8661 - output_3_precision: 0.8323 - output_3_recall: 0.5340 - output_3_true_negatives: 186524976.0000 - output_3_true_positives: 144304.0000 - output_3_false_negatives: 125905.0000 - output_3_false_positives: 29085.0000 - val_loss: 4.8458 - val_output_1_loss: 0.0000e+00 - val_output_2_loss: 0.2081 - val_output_3_loss: 0.0128 - val_output_4_loss: 3.7795 - val_output_3_precision: 0.8886 - val_output_3_recall: 0.7674 - val_output_3_true_negatives: 7592038.0000 - val_output_3_true_positives: 9074.0000 - val_output_3_false_negatives: 2750.0000 - val_output_3_false_positives: 1138.0000\n",
      "Epoch 9/20\n",
      "4607/4607 [==============================] - 578s 125ms/step - loss: 8.3533 - output_1_loss: 3.5748e-07 - output_2_loss: 0.2987 - output_3_loss: 0.0214 - output_4_loss: 6.8168 - output_3_precision: 0.8358 - output_3_recall: 0.5398 - output_3_true_negatives: 186525216.0000 - output_3_true_positives: 145920.0000 - output_3_false_negatives: 124398.0000 - output_3_false_positives: 28665.0000 - val_loss: 4.6268 - val_output_1_loss: 0.0000e+00 - val_output_2_loss: 0.1927 - val_output_3_loss: 0.0124 - val_output_4_loss: 3.6385 - val_output_3_precision: 0.9025 - val_output_3_recall: 0.7683 - val_output_3_true_negatives: 7592195.0000 - val_output_3_true_positives: 9084.0000 - val_output_3_false_negatives: 2740.0000 - val_output_3_false_positives: 981.0000\n",
      "Epoch 10/20\n",
      "4607/4607 [==============================] - 559s 121ms/step - loss: 8.3873 - output_1_loss: 2.4545e-07 - output_2_loss: 0.3062 - output_3_loss: 0.0213 - output_4_loss: 6.8139 - output_3_precision: 0.8350 - output_3_recall: 0.5393 - output_3_true_negatives: 186525088.0000 - output_3_true_positives: 145788.0000 - output_3_false_negatives: 124518.0000 - output_3_false_positives: 28815.0000 - val_loss: 4.7114 - val_output_1_loss: 0.0000e+00 - val_output_2_loss: 0.1946 - val_output_3_loss: 0.0126 - val_output_4_loss: 3.7131 - val_output_3_precision: 0.8853 - val_output_3_recall: 0.7740 - val_output_3_true_negatives: 7591990.0000 - val_output_3_true_positives: 9152.0000 - val_output_3_false_negatives: 2672.0000 - val_output_3_false_positives: 1186.0000\n",
      "Epoch 11/20\n",
      "4607/4607 [==============================] - 586s 127ms/step - loss: 8.3661 - output_1_loss: 7.5379e-06 - output_2_loss: 0.3098 - output_3_loss: 0.0213 - output_4_loss: 6.7747 - output_3_precision: 0.8370 - output_3_recall: 0.5442 - output_3_true_negatives: 186525888.0000 - output_3_true_positives: 147049.0000 - output_3_false_negatives: 123142.0000 - output_3_false_positives: 28643.0000 - val_loss: 4.5935 - val_output_1_loss: 0.0000e+00 - val_output_2_loss: 0.1920 - val_output_3_loss: 0.0123 - val_output_4_loss: 3.6089 - val_output_3_precision: 0.8925 - val_output_3_recall: 0.7886 - val_output_3_true_negatives: 7592053.0000 - val_output_3_true_positives: 9324.0000 - val_output_3_false_negatives: 2500.0000 - val_output_3_false_positives: 1123.0000\n",
      "Epoch 12/20\n",
      "4607/4607 [==============================] - 588s 128ms/step - loss: 8.2102 - output_1_loss: 2.3169e-07 - output_2_loss: 0.2903 - output_3_loss: 0.0210 - output_4_loss: 6.7168 - output_3_precision: 0.8381 - output_3_recall: 0.5489 - output_3_true_negatives: 186525264.0000 - output_3_true_positives: 148357.0000 - output_3_false_negatives: 121937.0000 - output_3_false_positives: 28652.0000 - val_loss: 4.4494 - val_output_1_loss: 0.0000e+00 - val_output_2_loss: 0.1939 - val_output_3_loss: 0.0117 - val_output_4_loss: 3.4562 - val_output_3_precision: 0.9065 - val_output_3_recall: 0.7728 - val_output_3_true_negatives: 7592233.0000 - val_output_3_true_positives: 9138.0000 - val_output_3_false_negatives: 2686.0000 - val_output_3_false_positives: 943.0000\n",
      "Epoch 13/20\n",
      "4607/4607 [==============================] - 574s 125ms/step - loss: 8.2296 - output_1_loss: 4.7083e-06 - output_2_loss: 0.3005 - output_3_loss: 0.0208 - output_4_loss: 6.6856 - output_3_precision: 0.8396 - output_3_recall: 0.5500 - output_3_true_negatives: 186525888.0000 - output_3_true_positives: 148616.0000 - output_3_false_negatives: 121581.0000 - output_3_false_positives: 28386.0000 - val_loss: 4.3257 - val_output_1_loss: 0.0000e+00 - val_output_2_loss: 0.1891 - val_output_3_loss: 0.0115 - val_output_4_loss: 3.3572 - val_output_3_precision: 0.9064 - val_output_3_recall: 0.7895 - val_output_3_true_negatives: 7592212.0000 - val_output_3_true_positives: 9335.0000 - val_output_3_false_negatives: 2489.0000 - val_output_3_false_positives: 964.0000\n",
      "Epoch 14/20\n",
      "4607/4607 [==============================] - 562s 122ms/step - loss: 8.1283 - output_1_loss: 5.2536e-07 - output_2_loss: 0.2922 - output_3_loss: 0.0207 - output_4_loss: 6.6259 - output_3_precision: 0.8404 - output_3_recall: 0.5550 - output_3_true_negatives: 186525824.0000 - output_3_true_positives: 149988.0000 - output_3_false_negatives: 120284.0000 - output_3_false_positives: 28478.0000 - val_loss: 4.2328 - val_output_1_loss: 0.0000e+00 - val_output_2_loss: 0.1927 - val_output_3_loss: 0.0112 - val_output_4_loss: 3.2468 - val_output_3_precision: 0.9041 - val_output_3_recall: 0.7967 - val_output_3_true_negatives: 7592177.0000 - val_output_3_true_positives: 9420.0000 - val_output_3_false_negatives: 2404.0000 - val_output_3_false_positives: 999.0000\n",
      "Epoch 15/20\n",
      "4607/4607 [==============================] - 579s 126ms/step - loss: 8.1800 - output_1_loss: 1.7150e-06 - output_2_loss: 0.2964 - output_3_loss: 0.0208 - output_4_loss: 6.6565 - output_3_precision: 0.8419 - output_3_recall: 0.5538 - output_3_true_negatives: 186526080.0000 - output_3_true_positives: 149762.0000 - output_3_false_negatives: 120652.0000 - output_3_false_positives: 28128.0000 - val_loss: 4.3726 - val_output_1_loss: 0.0000e+00 - val_output_2_loss: 0.1899 - val_output_3_loss: 0.0115 - val_output_4_loss: 3.4003 - val_output_3_precision: 0.9008 - val_output_3_recall: 0.7901 - val_output_3_true_negatives: 7592147.0000 - val_output_3_true_positives: 9342.0000 - val_output_3_false_negatives: 2482.0000 - val_output_3_false_positives: 1029.0000\n",
      "Epoch 16/20\n",
      "4607/4607 [==============================] - 565s 123ms/step - loss: 8.1386 - output_1_loss: 3.6460e-07 - output_2_loss: 0.2977 - output_3_loss: 0.0206 - output_4_loss: 6.6089 - output_3_precision: 0.8421 - output_3_recall: 0.5571 - output_3_true_negatives: 186526032.0000 - output_3_true_positives: 150542.0000 - output_3_false_negatives: 119697.0000 - output_3_false_positives: 28232.0000 - val_loss: 4.3593 - val_output_1_loss: 0.0000e+00 - val_output_2_loss: 0.1900 - val_output_3_loss: 0.0114 - val_output_4_loss: 3.3865 - val_output_3_precision: 0.8894 - val_output_3_recall: 0.8046 - val_output_3_true_negatives: 7591993.0000 - val_output_3_true_positives: 9514.0000 - val_output_3_false_negatives: 2310.0000 - val_output_3_false_positives: 1183.0000\n",
      "Epoch 17/20\n",
      "4607/4607 [==============================] - 576s 125ms/step - loss: 8.1154 - output_1_loss: 3.9200e-06 - output_2_loss: 0.2996 - output_3_loss: 0.0205 - output_4_loss: 6.5762 - output_3_precision: 0.8445 - output_3_recall: 0.5598 - output_3_true_negatives: 186526336.0000 - output_3_true_positives: 151312.0000 - output_3_false_negatives: 119002.0000 - output_3_false_positives: 27860.0000 - val_loss: 4.3130 - val_output_1_loss: 0.0000e+00 - val_output_2_loss: 0.1873 - val_output_3_loss: 0.0113 - val_output_4_loss: 3.3540 - val_output_3_precision: 0.8973 - val_output_3_recall: 0.8093 - val_output_3_true_negatives: 7592081.0000 - val_output_3_true_positives: 9569.0000 - val_output_3_false_negatives: 2255.0000 - val_output_3_false_positives: 1095.0000\n",
      "Epoch 18/20\n",
      "4607/4607 [==============================] - 575s 125ms/step - loss: 7.9569 - output_1_loss: 1.6687e-06 - output_2_loss: 0.2878 - output_3_loss: 0.0202 - output_4_loss: 6.4773 - output_3_precision: 0.8472 - output_3_recall: 0.5668 - output_3_true_negatives: 186526512.0000 - output_3_true_positives: 153182.0000 - output_3_false_negatives: 117075.0000 - output_3_false_positives: 27638.0000 - val_loss: 4.1355 - val_output_1_loss: 4.0181e-07 - val_output_2_loss: 0.1837 - val_output_3_loss: 0.0108 - val_output_4_loss: 3.1952 - val_output_3_precision: 0.9061 - val_output_3_recall: 0.8113 - val_output_3_true_negatives: 7592182.0000 - val_output_3_true_positives: 9593.0000 - val_output_3_false_negatives: 2231.0000 - val_output_3_false_positives: 994.0000\n",
      "Epoch 19/20\n",
      "4607/4607 [==============================] - 598s 130ms/step - loss: 7.9382 - output_1_loss: 4.1452e-06 - output_2_loss: 0.2786 - output_3_loss: 0.0203 - output_4_loss: 6.5045 - output_3_precision: 0.8461 - output_3_recall: 0.5669 - output_3_true_negatives: 186525872.0000 - output_3_true_positives: 153190.0000 - output_3_false_negatives: 117037.0000 - output_3_false_positives: 27857.0000 - val_loss: 4.2012 - val_output_1_loss: 0.0000e+00 - val_output_2_loss: 0.1858 - val_output_3_loss: 0.0110 - val_output_4_loss: 3.2500 - val_output_3_precision: 0.9148 - val_output_3_recall: 0.7953 - val_output_3_true_negatives: 7592300.0000 - val_output_3_true_positives: 9404.0000 - val_output_3_false_negatives: 2420.0000 - val_output_3_false_positives: 876.0000\n",
      "Epoch 20/20\n",
      "4607/4607 [==============================] - 606s 132ms/step - loss: 7.9299 - output_1_loss: 5.8917e-07 - output_2_loss: 0.2837 - output_3_loss: 0.0202 - output_4_loss: 6.4708 - output_3_precision: 0.8483 - output_3_recall: 0.5683 - output_3_true_negatives: 186526528.0000 - output_3_true_positives: 153560.0000 - output_3_false_negatives: 116626.0000 - output_3_false_positives: 27452.0000 - val_loss: 3.8616 - val_output_1_loss: 3.6984e-06 - val_output_2_loss: 0.1786 - val_output_3_loss: 0.0100 - val_output_4_loss: 2.9488 - val_output_3_precision: 0.9168 - val_output_3_recall: 0.8212 - val_output_3_true_negatives: 7592295.0000 - val_output_3_true_positives: 9710.0000 - val_output_3_false_negatives: 2114.0000 - val_output_3_false_positives: 881.0000\n"
     ]
    }
   ],
   "source": [
    "history = model.fit(train_dataset, epochs=20,validation_data=val_dataset)"
   ]
  },
  {
   "cell_type": "code",
   "execution_count": null,
   "metadata": {},
   "outputs": [],
   "source": []
  },
  {
   "cell_type": "code",
   "execution_count": 10,
   "metadata": {},
   "outputs": [],
   "source": [
    "os.chdir(\"/home/sergio/Documents/json_experiments\")\n",
    "import json\n",
    "#json.dumps(str(a))\n",
    "with open('history_finetuning_5521_50_70_epoch_nadam_0dot00001_msle_exp_mse_3anchors.json', 'w') as fp:\n",
    "    json.dump(str(history.history), fp)"
   ]
  },
  {
   "cell_type": "code",
   "execution_count": 11,
   "metadata": {},
   "outputs": [],
   "source": [
    "model.save_weights('/home/sergio/Documents/weights_saved/pesos_finetuning_5521_50_70_epoch_nadam_0dot00001_msle_exp_mse_3anchors')"
   ]
  },
  {
   "cell_type": "code",
   "execution_count": null,
   "metadata": {},
   "outputs": [],
   "source": []
  },
  {
   "cell_type": "markdown",
   "metadata": {},
   "source": [
    "## CONTINUACION DESPUES DE LA EPOCA 50 PERO CON MENOR LR"
   ]
  },
  {
   "cell_type": "code",
   "execution_count": null,
   "metadata": {},
   "outputs": [],
   "source": []
  },
  {
   "cell_type": "code",
   "execution_count": 6,
   "metadata": {},
   "outputs": [
    {
     "name": "stdout",
     "output_type": "stream",
     "text": [
      "Modo entrenamiento\n"
     ]
    },
    {
     "data": {
      "text/plain": [
       "<tensorflow.python.training.tracking.util.CheckpointLoadStatus at 0x7f9ba4abd710>"
      ]
     },
     "execution_count": 6,
     "metadata": {},
     "output_type": "execute_result"
    }
   ],
   "source": [
    "anchors =tf.constant(np.array([[0,0,0.02078,0.049],[0,0,0.0426,0.128],[0,0,0.08523,0.19356],[0,0,0.1506,0.4163],[0,0,0.27835,0.58651],[0,0,0.5632,0.78614]]),dtype=tf.float32)\n",
    "model = TinyYOLOv3(1,anchor_boxes=anchors,train=True,mode = \"finetuning\")\n",
    "model.build(batch_input_shape=(None,416,416,3))\n",
    "#print(model.load_weights_darknet(\"/home/sergio/TinyYOLOv3-Pedestrian-Detection/yolov3-tiny.weights\"))\n",
    "model.load_weights('/home/sergio/Documents/weights_saved/pesos_finetuning_5521_30_50_epoch_nadam_0dot00001_msle_exp_mse_3anchors')"
   ]
  },
  {
   "cell_type": "code",
   "execution_count": 7,
   "metadata": {},
   "outputs": [
    {
     "name": "stdout",
     "output_type": "stream",
     "text": [
      "BasicBlock1 True\n",
      "BasicBlock2 True\n",
      "BasicBlock3 True\n",
      "BasicBlock4 True\n",
      "BasicBlock5 True\n",
      "BasicBlock6 True\n",
      "BasicBlock7 True\n",
      "BasicBlock8 True\n",
      "BasicBlock9 True\n",
      "FinalBlock1 True\n",
      "BasicBlock11 True\n",
      "BasicBlock12 True\n",
      "FinalBlock2 True\n",
      "Concatenate True\n",
      "Upsampling True\n",
      "Prediction1 True\n",
      "Prediction2 True\n",
      "Concatenate_BBOX True\n"
     ]
    }
   ],
   "source": [
    "for l in model.layers:\n",
    "    print(l.name, l.trainable)\n",
    "    pass"
   ]
  },
  {
   "cell_type": "code",
   "execution_count": 8,
   "metadata": {},
   "outputs": [],
   "source": [
    "tf.random.set_seed(0)\n",
    "\n",
    "from tensorflow.keras.metrics import TrueNegatives,TruePositives,FalseNegatives,FalsePositives,Precision,Recall\n",
    "\n",
    "opt = tf.keras.optimizers.Nadam(learning_rate=1e-5)\n",
    "\n",
    "losses = {\"output_1\": loss_xy,\n",
    "          \"output_2\": loss_wh,\n",
    "          \"output_3\":loss_objectness,\n",
    "          \"output_4\":loss_no_objectness  \n",
    "}\n",
    "\n",
    "metrics = {\"output_3\":[Precision(0.5),Recall(0.5),TrueNegatives(0.5),TruePositives(0.5),FalseNegatives(0.5),FalsePositives(0.5)]}\n",
    "model.compile(optimizer=opt, loss=losses,metrics=metrics,loss_weights=[5,5,2,1])\n",
    "os.chdir(\"/home/sergio/Documents/pedestrian_dataset_train_tfr\")"
   ]
  },
  {
   "cell_type": "code",
   "execution_count": 9,
   "metadata": {},
   "outputs": [
    {
     "name": "stdout",
     "output_type": "stream",
     "text": [
      "Modo entrenamiento\n",
      "Epoch 1/20\n",
      "Modo entrenamiento\n",
      "Modo entrenamiento\n",
      "   4607/Unknown - 582s 126ms/step - loss: 8.7700 - output_1_loss: 1.7040e-08 - output_2_loss: 0.3105 - output_3_loss: 0.0225 - output_4_loss: 7.1724 - output_3_precision: 0.8223 - output_3_recall: 0.5098 - output_3_true_negatives: 186524256.0000 - output_3_true_positives: 137724.0000 - output_3_false_negatives: 132440.0000 - output_3_false_positives: 29772.0000- 574s 126ms/step - loss: 8.7613 - output_1_loss: 1.7250e-08 - output_2_loss: 0.3101 - output_3_loss: 0.0224 - output_4_loss: 7.1660 - output_3_precision: 0.8221 - output_3_recall: 0.5098 - output_3_true_negatives: 184292224.0000 - output_3_true_positives: 135931.0000 - output_3_false_negatModo entrenamiento\n",
      "4607/4607 [==============================] - 590s 128ms/step - loss: 8.7700 - output_1_loss: 1.7040e-08 - output_2_loss: 0.3105 - output_3_loss: 0.0225 - output_4_loss: 7.1724 - output_3_precision: 0.8223 - output_3_recall: 0.5098 - output_3_true_negatives: 186524256.0000 - output_3_true_positives: 137724.0000 - output_3_false_negatives: 132440.0000 - output_3_false_positives: 29772.0000 - val_loss: 5.3353 - val_output_1_loss: 0.0000e+00 - val_output_2_loss: 0.2054 - val_output_3_loss: 0.0145 - val_output_4_loss: 4.2793 - val_output_3_precision: 0.8851 - val_output_3_recall: 0.7163 - val_output_3_true_negatives: 7592077.0000 - val_output_3_true_positives: 8470.0000 - val_output_3_false_negatives: 3354.0000 - val_output_3_false_positives: 1099.0000\n",
      "Epoch 2/20\n",
      "4607/4607 [==============================] - 586s 127ms/step - loss: 8.7017 - output_1_loss: 1.0859e-06 - output_2_loss: 0.3136 - output_3_loss: 0.0222 - output_4_loss: 7.0894 - output_3_precision: 0.8277 - output_3_recall: 0.5163 - output_3_true_negatives: 186525200.0000 - output_3_true_positives: 139546.0000 - output_3_false_negatives: 130752.0000 - output_3_false_positives: 29040.0000 - val_loss: 5.0662 - val_output_1_loss: 0.0000e+00 - val_output_2_loss: 0.2078 - val_output_3_loss: 0.0138 - val_output_4_loss: 3.9997 - val_output_3_precision: 0.8850 - val_output_3_recall: 0.7287 - val_output_3_true_negatives: 7592056.0000 - val_output_3_true_positives: 8616.0000 - val_output_3_false_negatives: 3208.0000 - val_output_3_false_positives: 1120.0000\n",
      "Epoch 3/20\n",
      "4607/4607 [==============================] - 584s 127ms/step - loss: 8.6101 - output_1_loss: 1.9664e-06 - output_2_loss: 0.3019 - output_3_loss: 0.0220 - output_4_loss: 7.0565 - output_3_precision: 0.8276 - output_3_recall: 0.5194 - output_3_true_negatives: 186525152.0000 - output_3_true_positives: 140319.0000 - output_3_false_negatives: 129856.0000 - output_3_false_positives: 29236.0000 - val_loss: 5.0105 - val_output_1_loss: 0.0000e+00 - val_output_2_loss: 0.2030 - val_output_3_loss: 0.0135 - val_output_4_loss: 3.9686 - val_output_3_precision: 0.8813 - val_output_3_recall: 0.7465 - val_output_3_true_negatives: 7591987.0000 - val_output_3_true_positives: 8827.0000 - val_output_3_false_negatives: 2997.0000 - val_output_3_false_positives: 1189.0000\n",
      "Epoch 4/20\n",
      "4607/4607 [==============================] - 585s 127ms/step - loss: 8.8712 - output_1_loss: 1.4038e-05 - output_2_loss: 0.3439 - output_3_loss: 0.0223 - output_4_loss: 7.1071 - output_3_precision: 0.8262 - output_3_recall: 0.5159 - output_3_true_negatives: 186524576.0000 - output_3_true_positives: 139435.0000 - output_3_false_negatives: 130856.0000 - output_3_false_positives: 29324.0000 - val_loss: 6.3172 - val_output_1_loss: 0.0000e+00 - val_output_2_loss: 0.2355 - val_output_3_loss: 0.0168 - val_output_4_loss: 5.1061 - val_output_3_precision: 0.8779 - val_output_3_recall: 0.6322 - val_output_3_true_negatives: 7592136.0000 - val_output_3_true_positives: 7475.0000 - val_output_3_false_negatives: 4349.0000 - val_output_3_false_positives: 1040.0000\n",
      "Epoch 5/20\n",
      "4607/4607 [==============================] - 601s 130ms/step - loss: 8.5810 - output_1_loss: 1.5764e-05 - output_2_loss: 0.3031 - output_3_loss: 0.0219 - output_4_loss: 7.0216 - output_3_precision: 0.8288 - output_3_recall: 0.5221 - output_3_true_negatives: 186525360.0000 - output_3_true_positives: 141045.0000 - output_3_false_negatives: 129099.0000 - output_3_false_positives: 29143.0000 - val_loss: 4.9268 - val_output_1_loss: 0.0000e+00 - val_output_2_loss: 0.2012 - val_output_3_loss: 0.0134 - val_output_4_loss: 3.8939 - val_output_3_precision: 0.8909 - val_output_3_recall: 0.7459 - val_output_3_true_negatives: 7592096.0000 - val_output_3_true_positives: 8819.0000 - val_output_3_false_negatives: 3005.0000 - val_output_3_false_positives: 1080.0000\n",
      "Epoch 6/20\n",
      "4607/4607 [==============================] - 604s 131ms/step - loss: 8.4379 - output_1_loss: 2.1332e-06 - output_2_loss: 0.2947 - output_3_loss: 0.0217 - output_4_loss: 6.9211 - output_3_precision: 0.8318 - output_3_recall: 0.5303 - output_3_true_negatives: 186525056.0000 - output_3_true_positives: 143309.0000 - output_3_false_negatives: 126930.0000 - output_3_false_positives: 28979.0000 - val_loss: 5.0813 - val_output_1_loss: 0.0000e+00 - val_output_2_loss: 0.2076 - val_output_3_loss: 0.0138 - val_output_4_loss: 4.0155 - val_output_3_precision: 0.8843 - val_output_3_recall: 0.7490 - val_output_3_true_negatives: 7592017.0000 - val_output_3_true_positives: 8856.0000 - val_output_3_false_negatives: 2968.0000 - val_output_3_false_positives: 1159.0000\n",
      "Epoch 7/20\n",
      "4607/4607 [==============================] - 607s 132ms/step - loss: 8.3770 - output_1_loss: 2.1123e-06 - output_2_loss: 0.2971 - output_3_loss: 0.0213 - output_4_loss: 6.8487 - output_3_precision: 0.8326 - output_3_recall: 0.5355 - output_3_true_negatives: 186525504.0000 - output_3_true_positives: 144709.0000 - output_3_false_negatives: 125523.0000 - output_3_false_positives: 29103.0000 - val_loss: 4.7331 - val_output_1_loss: 0.0000e+00 - val_output_2_loss: 0.1983 - val_output_3_loss: 0.0127 - val_output_4_loss: 3.7163 - val_output_3_precision: 0.8879 - val_output_3_recall: 0.7700 - val_output_3_true_negatives: 7592027.0000 - val_output_3_true_positives: 9105.0000 - val_output_3_false_negatives: 2719.0000 - val_output_3_false_positives: 1149.0000\n",
      "Epoch 8/20\n",
      "4607/4607 [==============================] - 592s 128ms/step - loss: 8.4498 - output_1_loss: 8.6999e-06 - output_2_loss: 0.3039 - output_3_loss: 0.0215 - output_4_loss: 6.8872 - output_3_precision: 0.8323 - output_3_recall: 0.5336 - output_3_true_negatives: 186524992.0000 - output_3_true_positives: 144170.0000 - output_3_false_negatives: 126005.0000 - output_3_false_positives: 29054.0000 - val_loss: 4.7545 - val_output_1_loss: 0.0000e+00 - val_output_2_loss: 0.2049 - val_output_3_loss: 0.0126 - val_output_4_loss: 3.7049 - val_output_3_precision: 0.8907 - val_output_3_recall: 0.7565 - val_output_3_true_negatives: 7592078.0000 - val_output_3_true_positives: 8945.0000 - val_output_3_false_negatives: 2879.0000 - val_output_3_false_positives: 1098.0000\n",
      "Epoch 9/20\n",
      "4607/4607 [==============================] - 601s 130ms/step - loss: 8.3861 - output_1_loss: 2.5136e-06 - output_2_loss: 0.3007 - output_3_loss: 0.0214 - output_4_loss: 6.8400 - output_3_precision: 0.8341 - output_3_recall: 0.5373 - output_3_true_negatives: 186525440.0000 - output_3_true_positives: 145191.0000 - output_3_false_negatives: 125020.0000 - output_3_false_positives: 28881.0000 - val_loss: 4.7159 - val_output_1_loss: 0.0000e+00 - val_output_2_loss: 0.1964 - val_output_3_loss: 0.0125 - val_output_4_loss: 3.7087 - val_output_3_precision: 0.8864 - val_output_3_recall: 0.7870 - val_output_3_true_negatives: 7591983.0000 - val_output_3_true_positives: 9306.0000 - val_output_3_false_negatives: 2518.0000 - val_output_3_false_positives: 1193.0000\n",
      "Epoch 10/20\n",
      "4607/4607 [==============================] - 588s 128ms/step - loss: 8.4105 - output_1_loss: 0.0000e+00 - output_2_loss: 0.3084 - output_3_loss: 0.0213 - output_4_loss: 6.8260 - output_3_precision: 0.8347 - output_3_recall: 0.5397 - output_3_true_negatives: 186525088.0000 - output_3_true_positives: 145887.0000 - output_3_false_negatives: 124434.0000 - output_3_false_positives: 28897.0000 - val_loss: 4.5181 - val_output_1_loss: 0.0000e+00 - val_output_2_loss: 0.1942 - val_output_3_loss: 0.0120 - val_output_4_loss: 3.5231 - val_output_3_precision: 0.9077 - val_output_3_recall: 0.7726 - val_output_3_true_negatives: 7592247.0000 - val_output_3_true_positives: 9135.0000 - val_output_3_false_negatives: 2689.0000 - val_output_3_false_positives: 929.0000\n",
      "Epoch 11/20\n",
      "4607/4607 [==============================] - 583s 127ms/step - loss: 8.3187 - output_1_loss: 1.1415e-06 - output_2_loss: 0.3017 - output_3_loss: 0.0211 - output_4_loss: 6.7681 - output_3_precision: 0.8369 - output_3_recall: 0.5441 - output_3_true_negatives: 186525632.0000 - output_3_true_positives: 147019.0000 - output_3_false_negatives: 123202.0000 - output_3_false_positives: 28661.0000 - val_loss: 4.4566 - val_output_1_loss: 0.0000e+00 - val_output_2_loss: 0.1931 - val_output_3_loss: 0.0118 - val_output_4_loss: 3.4673 - val_output_3_precision: 0.9036 - val_output_3_recall: 0.7796 - val_output_3_true_negatives: 7592193.0000 - val_output_3_true_positives: 9218.0000 - val_output_3_false_negatives: 2606.0000 - val_output_3_false_positives: 983.0000\n",
      "Epoch 12/20\n",
      "4607/4607 [==============================] - 574s 125ms/step - loss: 8.2467 - output_1_loss: 2.8742e-06 - output_2_loss: 0.2949 - output_3_loss: 0.0211 - output_4_loss: 6.7302 - output_3_precision: 0.8398 - output_3_recall: 0.5475 - output_3_true_negatives: 186526048.0000 - output_3_true_positives: 147966.0000 - output_3_false_negatives: 122282.0000 - output_3_false_positives: 28233.0000 - val_loss: 4.4719 - val_output_1_loss: 0.0000e+00 - val_output_2_loss: 0.1917 - val_output_3_loss: 0.0119 - val_output_4_loss: 3.4897 - val_output_3_precision: 0.8937 - val_output_3_recall: 0.7857 - val_output_3_true_negatives: 7592071.0000 - val_output_3_true_positives: 9290.0000 - val_output_3_false_negatives: 2534.0000 - val_output_3_false_positives: 1105.0000\n",
      "Epoch 13/20\n",
      "4607/4607 [==============================] - 587s 127ms/step - loss: 8.1982 - output_1_loss: 1.5104e-07 - output_2_loss: 0.2929 - output_3_loss: 0.0209 - output_4_loss: 6.6917 - output_3_precision: 0.8408 - output_3_recall: 0.5494 - output_3_true_negatives: 186526144.0000 - output_3_true_positives: 148450.0000 - output_3_false_negatives: 121759.0000 - output_3_false_positives: 28110.0000 - val_loss: 4.4457 - val_output_1_loss: 0.0000e+00 - val_output_2_loss: 0.1918 - val_output_3_loss: 0.0117 - val_output_4_loss: 3.4633 - val_output_3_precision: 0.8820 - val_output_3_recall: 0.8067 - val_output_3_true_negatives: 7591900.0000 - val_output_3_true_positives: 9539.0000 - val_output_3_false_negatives: 2285.0000 - val_output_3_false_positives: 1276.0000\n",
      "Epoch 14/20\n",
      "4607/4607 [==============================] - 547s 119ms/step - loss: 8.1992 - output_1_loss: 2.6982e-06 - output_2_loss: 0.3006 - output_3_loss: 0.0208 - output_4_loss: 6.6546 - output_3_precision: 0.8411 - output_3_recall: 0.5525 - output_3_true_negatives: 186525824.0000 - output_3_true_positives: 149331.0000 - output_3_false_negatives: 120973.0000 - output_3_false_positives: 28207.0000 - val_loss: 4.3740 - val_output_1_loss: 0.0000e+00 - val_output_2_loss: 0.1866 - val_output_3_loss: 0.0115 - val_output_4_loss: 3.4182 - val_output_3_precision: 0.9053 - val_output_3_recall: 0.7794 - val_output_3_true_negatives: 7592212.0000 - val_output_3_true_positives: 9216.0000 - val_output_3_false_negatives: 2608.0000 - val_output_3_false_positives: 964.0000\n",
      "Epoch 15/20\n",
      "4607/4607 [==============================] - 569s 124ms/step - loss: 8.2297 - output_1_loss: 9.9456e-06 - output_2_loss: 0.3107 - output_3_loss: 0.0206 - output_4_loss: 6.6351 - output_3_precision: 0.8420 - output_3_recall: 0.5561 - output_3_true_negatives: 186525760.0000 - output_3_true_positives: 150309.0000 - output_3_false_negatives: 119979.0000 - output_3_false_positives: 28207.0000 - val_loss: 4.2950 - val_output_1_loss: 0.0000e+00 - val_output_2_loss: 0.1879 - val_output_3_loss: 0.0114 - val_output_4_loss: 3.3329 - val_output_3_precision: 0.9031 - val_output_3_recall: 0.7970 - val_output_3_true_negatives: 7592165.0000 - val_output_3_true_positives: 9424.0000 - val_output_3_false_negatives: 2400.0000 - val_output_3_false_positives: 1011.0000\n",
      "Epoch 16/20\n",
      "4607/4607 [==============================] - 567s 123ms/step - loss: 8.0944 - output_1_loss: 4.0059e-09 - output_2_loss: 0.2879 - output_3_loss: 0.0206 - output_4_loss: 6.6138 - output_3_precision: 0.8422 - output_3_recall: 0.5565 - output_3_true_negatives: 186525664.0000 - output_3_true_positives: 150367.0000 - output_3_false_negatives: 119827.0000 - output_3_false_positives: 28170.0000 - val_loss: 4.2075 - val_output_1_loss: 0.0000e+00 - val_output_2_loss: 0.1873 - val_output_3_loss: 0.0110 - val_output_4_loss: 3.2491 - val_output_3_precision: 0.9029 - val_output_3_recall: 0.8132 - val_output_3_true_negatives: 7592142.0000 - val_output_3_true_positives: 9615.0000 - val_output_3_false_negatives: 2209.0000 - val_output_3_false_positives: 1034.0000\n",
      "Epoch 17/20\n",
      "4607/4607 [==============================] - 571s 124ms/step - loss: 8.1222 - output_1_loss: 3.6174e-06 - output_2_loss: 0.2928 - output_3_loss: 0.0207 - output_4_loss: 6.6170 - output_3_precision: 0.8426 - output_3_recall: 0.5561 - output_3_true_negatives: 186526048.0000 - output_3_true_positives: 150279.0000 - output_3_false_negatives: 119962.0000 - output_3_false_positives: 28082.0000 - val_loss: 4.1644 - val_output_1_loss: 0.0000e+00 - val_output_2_loss: 0.1826 - val_output_3_loss: 0.0109 - val_output_4_loss: 3.2293 - val_output_3_precision: 0.9092 - val_output_3_recall: 0.8067 - val_output_3_true_negatives: 7592224.0000 - val_output_3_true_positives: 9538.0000 - val_output_3_false_negatives: 2286.0000 - val_output_3_false_positives: 952.0000\n",
      "Epoch 18/20\n",
      "4607/4607 [==============================] - 505s 110ms/step - loss: 7.9896 - output_1_loss: 7.9618e-07 - output_2_loss: 0.2897 - output_3_loss: 0.0203 - output_4_loss: 6.5002 - output_3_precision: 0.8474 - output_3_recall: 0.5661 - output_3_true_negatives: 186526464.0000 - output_3_true_positives: 152979.0000 - output_3_false_negatives: 117239.0000 - output_3_false_positives: 27555.0000 - val_loss: 4.1482 - val_output_1_loss: 0.0000e+00 - val_output_2_loss: 0.1858 - val_output_3_loss: 0.0110 - val_output_4_loss: 3.1971 - val_output_3_precision: 0.9048 - val_output_3_recall: 0.8072 - val_output_3_true_negatives: 7592172.0000 - val_output_3_true_positives: 9544.0000 - val_output_3_false_negatives: 2280.0000 - val_output_3_false_positives: 1004.0000\n",
      "Epoch 19/20\n",
      "4607/4607 [==============================] - 519s 113ms/step - loss: 8.0112 - output_1_loss: 1.3141e-05 - output_2_loss: 0.2994 - output_3_loss: 0.0202 - output_4_loss: 6.4736 - output_3_precision: 0.8467 - output_3_recall: 0.5680 - output_3_true_negatives: 186526032.0000 - output_3_true_positives: 153487.0000 - output_3_false_negatives: 116741.0000 - output_3_false_positives: 27800.0000 - val_loss: 4.1859 - val_output_1_loss: 0.0000e+00 - val_output_2_loss: 0.1855 - val_output_3_loss: 0.0110 - val_output_4_loss: 3.2364 - val_output_3_precision: 0.9118 - val_output_3_recall: 0.7999 - val_output_3_true_negatives: 7592261.0000 - val_output_3_true_positives: 9458.0000 - val_output_3_false_negatives: 2366.0000 - val_output_3_false_positives: 915.0000\n",
      "Epoch 20/20\n",
      "4607/4607 [==============================] - 552s 120ms/step - loss: 7.9511 - output_1_loss: 3.6633e-06 - output_2_loss: 0.2936 - output_3_loss: 0.0200 - output_4_loss: 6.4428 - output_3_precision: 0.8467 - output_3_recall: 0.5698 - output_3_true_negatives: 186526144.0000 - output_3_true_positives: 153943.0000 - output_3_false_negatives: 116234.0000 - output_3_false_positives: 27871.0000 - val_loss: 4.0006 - val_output_1_loss: 0.0000e+00 - val_output_2_loss: 0.1810 - val_output_3_loss: 0.0104 - val_output_4_loss: 3.0747 - val_output_3_precision: 0.9138 - val_output_3_recall: 0.8126 - val_output_3_true_negatives: 7592270.0000 - val_output_3_true_positives: 9608.0000 - val_output_3_false_negatives: 2216.0000 - val_output_3_false_positives: 906.0000\n"
     ]
    }
   ],
   "source": [
    "history = model.fit(train_dataset, epochs=20,validation_data=val_dataset)"
   ]
  },
  {
   "cell_type": "code",
   "execution_count": null,
   "metadata": {},
   "outputs": [],
   "source": []
  },
  {
   "cell_type": "code",
   "execution_count": 10,
   "metadata": {},
   "outputs": [],
   "source": [
    "os.chdir(\"/home/sergio/Documents/json_experiments\")\n",
    "import json\n",
    "#json.dumps(str(a))\n",
    "with open('history_finetuning_5521_50_70_epoch_nadam_1e-5_msle_exp_mse_3anchors_NUEVO_TRAIN.json', 'w') as fp:\n",
    "    json.dump(str(history.history), fp)"
   ]
  },
  {
   "cell_type": "code",
   "execution_count": 11,
   "metadata": {},
   "outputs": [],
   "source": [
    "model.save_weights('/home/sergio/Documents/weights_saved/pesos_finetuning_5521_50_70_epoch_nadam_1e-5_msle_exp_mse_3anchors_NUEVO_TRAIN')"
   ]
  },
  {
   "cell_type": "code",
   "execution_count": null,
   "metadata": {},
   "outputs": [],
   "source": []
  }
 ],
 "metadata": {
  "kernelspec": {
   "display_name": "Python 3",
   "language": "python",
   "name": "python3"
  },
  "language_info": {
   "codemirror_mode": {
    "name": "ipython",
    "version": 3
   },
   "file_extension": ".py",
   "mimetype": "text/x-python",
   "name": "python",
   "nbconvert_exporter": "python",
   "pygments_lexer": "ipython3",
   "version": "3.6.9"
  }
 },
 "nbformat": 4,
 "nbformat_minor": 4
}
