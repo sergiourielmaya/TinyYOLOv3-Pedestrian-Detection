{
 "cells": [
  {
   "cell_type": "code",
   "execution_count": 1,
   "metadata": {},
   "outputs": [],
   "source": [
    "import os\n",
    "import xml.etree.ElementTree as ET\n",
    "import pandas as pd"
   ]
  },
  {
   "cell_type": "code",
   "execution_count": 2,
   "metadata": {},
   "outputs": [
    {
     "name": "stdout",
     "output_type": "stream",
     "text": [
      "['2011_001728.xml', '2011_006503.xml', '2008_004545.xml', '2012_000625.xml', '2011_000404.xml', '2010_000702.xml', '2007_008256.xml', '2008_007623.xml', '2012_000363.xml', '2012_001451.xml']\n"
     ]
    }
   ],
   "source": [
    "os.chdir(\"/home/sergio/Documentos/VOC2012/Annotations\")\n",
    "xml_files = os.listdir()\n",
    "print(xml_files[:10])"
   ]
  },
  {
   "cell_type": "code",
   "execution_count": 3,
   "metadata": {},
   "outputs": [],
   "source": [
    "def read_content(xml_file: str):\n",
    "\n",
    "    tree = ET.parse(xml_file)\n",
    "    root = tree.getroot()\n",
    "\n",
    "    list_with_all_boxes = []\n",
    "    list_with_all_classes = []\n",
    "    for boxes in root.iter('object'):\n",
    "        \n",
    "        #name = root.find(\"name\").text\n",
    "        filename = root.find('filename').text\n",
    "\n",
    "        ymin, xmin, ymax, xmax = None, None, None, None\n",
    "\n",
    "        for names in boxes.findall(\"name\"):\n",
    "            list_with_all_classes.append(names.text)\n",
    "        for box in boxes.findall(\"bndbox\"):\n",
    "            \n",
    "            ymin = int(float(box.find(\"ymin\").text))\n",
    "            xmin = int(float(box.find(\"xmin\").text))\n",
    "            ymax = int(float(box.find(\"ymax\").text))\n",
    "            xmax = int(float(box.find(\"xmax\").text))\n",
    "\n",
    "        list_with_single_boxes = [xmin, ymin, xmax, ymax]\n",
    "        list_with_all_boxes.append(list_with_single_boxes)\n",
    "\n",
    "    return filename, list_with_all_boxes,list_with_all_classes\n",
    "\n",
    "file_name, boxes, classes = read_content(\"2011_006503.xml\")\n"
   ]
  },
  {
   "cell_type": "code",
   "execution_count": 4,
   "metadata": {},
   "outputs": [
    {
     "name": "stdout",
     "output_type": "stream",
     "text": [
      "2011_006503.jpg\n",
      "[[186, 135, 250, 288], [104, 251, 321, 409], [166, 109, 216, 207]]\n",
      "['person', 'person', 'person']\n"
     ]
    }
   ],
   "source": [
    "print(file_name)\n",
    "print(boxes)\n",
    "print(classes)"
   ]
  },
  {
   "cell_type": "code",
   "execution_count": 5,
   "metadata": {},
   "outputs": [
    {
     "data": {
      "text/plain": [
       "True"
      ]
     },
     "execution_count": 5,
     "metadata": {},
     "output_type": "execute_result"
    }
   ],
   "source": [
    "\"person\" in classes"
   ]
  },
  {
   "cell_type": "code",
   "execution_count": 6,
   "metadata": {},
   "outputs": [
    {
     "name": "stdout",
     "output_type": "stream",
     "text": [
      "Total images: 17125\n",
      "Images with person instances: 9583\n",
      "Person instances: 17401\n",
      "Total instances: 40138\n"
     ]
    }
   ],
   "source": [
    "kept_files = []\n",
    "person_instances =0\n",
    "total_instances = 0\n",
    "\n",
    "for i in xml_files:\n",
    "    file_name, boxes, classes = read_content(i)\n",
    "    total_instances += len(boxes)\n",
    "    if \"person\" in classes:\n",
    "        kept_files.append(file_name)\n",
    "        num_person = classes.count(\"person\")\n",
    "        person_instances +=num_person\n",
    "        \n",
    "print(\"Total images: \" + str(len(xml_files)))\n",
    "print(\"Images with person instances: \" + str(len(kept_files)))\n",
    "print(\"Person instances: \" + str(person_instances))\n",
    "print(\"Total instances: \" + str(total_instances))\n"
   ]
  },
  {
   "cell_type": "markdown",
   "metadata": {},
   "source": [
    "### Creating the metadata file(CVS)"
   ]
  },
  {
   "cell_type": "code",
   "execution_count": 7,
   "metadata": {},
   "outputs": [],
   "source": [
    "from PIL import Image, ExifTags\n",
    "os.chdir(\"/home/sergio/Documentos/VOC2012/JPEGImages\")\n",
    "\n",
    "voc_img_metadata = {}\n",
    "\n",
    "for i in kept_files:\n",
    "    img = Image.open(i)\n",
    "    width,height = img.size\n",
    "    voc_img_metadata[i]={\"width\":width,\"height\":height}"
   ]
  },
  {
   "cell_type": "code",
   "execution_count": 8,
   "metadata": {},
   "outputs": [],
   "source": [
    "metadata_df = pd.DataFrame(voc_img_metadata).T"
   ]
  },
  {
   "cell_type": "code",
   "execution_count": 9,
   "metadata": {},
   "outputs": [
    {
     "data": {
      "text/html": [
       "<div>\n",
       "<style scoped>\n",
       "    .dataframe tbody tr th:only-of-type {\n",
       "        vertical-align: middle;\n",
       "    }\n",
       "\n",
       "    .dataframe tbody tr th {\n",
       "        vertical-align: top;\n",
       "    }\n",
       "\n",
       "    .dataframe thead th {\n",
       "        text-align: right;\n",
       "    }\n",
       "</style>\n",
       "<table border=\"1\" class=\"dataframe\">\n",
       "  <thead>\n",
       "    <tr style=\"text-align: right;\">\n",
       "      <th></th>\n",
       "      <th>width</th>\n",
       "      <th>height</th>\n",
       "    </tr>\n",
       "  </thead>\n",
       "  <tbody>\n",
       "    <tr>\n",
       "      <th>2011_001728.jpg</th>\n",
       "      <td>500</td>\n",
       "      <td>375</td>\n",
       "    </tr>\n",
       "    <tr>\n",
       "      <th>2011_006503.jpg</th>\n",
       "      <td>375</td>\n",
       "      <td>500</td>\n",
       "    </tr>\n",
       "    <tr>\n",
       "      <th>2008_004545.jpg</th>\n",
       "      <td>375</td>\n",
       "      <td>500</td>\n",
       "    </tr>\n",
       "    <tr>\n",
       "      <th>2012_000625.jpg</th>\n",
       "      <td>500</td>\n",
       "      <td>333</td>\n",
       "    </tr>\n",
       "    <tr>\n",
       "      <th>2007_008256.jpg</th>\n",
       "      <td>480</td>\n",
       "      <td>423</td>\n",
       "    </tr>\n",
       "  </tbody>\n",
       "</table>\n",
       "</div>"
      ],
      "text/plain": [
       "                 width  height\n",
       "2011_001728.jpg    500     375\n",
       "2011_006503.jpg    375     500\n",
       "2008_004545.jpg    375     500\n",
       "2012_000625.jpg    500     333\n",
       "2007_008256.jpg    480     423"
      ]
     },
     "execution_count": 9,
     "metadata": {},
     "output_type": "execute_result"
    }
   ],
   "source": [
    "metadata_df.head()"
   ]
  },
  {
   "cell_type": "code",
   "execution_count": 10,
   "metadata": {},
   "outputs": [
    {
     "data": {
      "text/plain": [
       "(9583, 2)"
      ]
     },
     "execution_count": 10,
     "metadata": {},
     "output_type": "execute_result"
    }
   ],
   "source": [
    "metadata_df.shape"
   ]
  },
  {
   "cell_type": "code",
   "execution_count": 17,
   "metadata": {},
   "outputs": [],
   "source": [
    "os.chdir(\"/home/sergio/Documentos/VOC2012\")\n",
    "metadata_df.to_csv(\"VOC_metadata.csv\",index=True)"
   ]
  },
  {
   "cell_type": "markdown",
   "metadata": {},
   "source": [
    "## Filtering the images"
   ]
  },
  {
   "cell_type": "code",
   "execution_count": 46,
   "metadata": {},
   "outputs": [],
   "source": [
    "os.chdir(\"/home/sergio/Documentos/VOC2012\")\n",
    "\n",
    "try:\n",
    "    os.mkdir(\"pedestrian_dataset_voc\")\n",
    "except:\n",
    "    pass"
   ]
  },
  {
   "cell_type": "code",
   "execution_count": 66,
   "metadata": {},
   "outputs": [],
   "source": [
    "from shutil import copyfile\n",
    "\n",
    "def get_class_images(SOURCE, NEW_LOC,CLASS_NAMES):\n",
    "\n",
    "    names_list =os.listdir(SOURCE)\n",
    "\n",
    "    for i in names_list:\n",
    "        if i in CLASS_NAMES:\n",
    "                copyfile(SOURCE + \"/\" + i, NEW_LOC + \"/\" + i)"
   ]
  },
  {
   "cell_type": "code",
   "execution_count": 67,
   "metadata": {},
   "outputs": [],
   "source": [
    "get_class_images(\"/home/sergio/Documentos/VOC2012/JPEGImages\",\"/home/sergio/Documentos/VOC2012/pedestrian_dataset_voc\",kept_files)"
   ]
  },
  {
   "cell_type": "code",
   "execution_count": 9,
   "metadata": {},
   "outputs": [
    {
     "name": "stdout",
     "output_type": "stream",
     "text": [
      "['2009_004581.jpg', '2011_000627.jpg', '2008_002198.jpg', '2010_002728.jpg', '2011_003942.jpg']\n"
     ]
    }
   ],
   "source": [
    "os.chdir(\"/home/sergio/Documentos/VOC2012/JPEGImages\")\n",
    "#print(os.listdir()[:5])"
   ]
  },
  {
   "cell_type": "markdown",
   "metadata": {},
   "source": [
    "## Creating the Annotations file (CSV)"
   ]
  },
  {
   "cell_type": "code",
   "execution_count": 11,
   "metadata": {},
   "outputs": [],
   "source": [
    "os.chdir(\"/home/sergio/Documentos/VOC2012/Annotations\")\n",
    "xml_files = os.listdir()\n",
    "\n",
    "def read_content(xml_file: str):\n",
    "\n",
    "    tree = ET.parse(xml_file)\n",
    "    root = tree.getroot()\n",
    "\n",
    "    list_with_all_boxes = []\n",
    "    list_with_all_classes = []\n",
    "    for boxes in root.iter('object'):\n",
    "        \n",
    "        #name = root.find(\"name\").text\n",
    "        filename = root.find('filename').text\n",
    "\n",
    "        ymin, xmin, ymax, xmax = None, None, None, None\n",
    "\n",
    "        for names in boxes.findall(\"name\"):\n",
    "            list_with_all_classes.append(names.text)\n",
    "        for box in boxes.findall(\"bndbox\"):\n",
    "            \n",
    "            ymin = int(float(box.find(\"ymin\").text))\n",
    "            xmin = int(float(box.find(\"xmin\").text))\n",
    "            ymax = int(float(box.find(\"ymax\").text))\n",
    "            xmax = int(float(box.find(\"xmax\").text))\n",
    "\n",
    "        list_with_single_boxes = [xmin, ymin, xmax, ymax]\n",
    "        list_with_all_boxes.append(list_with_single_boxes)\n",
    "\n",
    "    return filename, list_with_all_boxes,list_with_all_classes"
   ]
  },
  {
   "cell_type": "code",
   "execution_count": 12,
   "metadata": {},
   "outputs": [],
   "source": [
    "dict_annotations = {}\n",
    "num_instance = 0\n",
    "for i in xml_files:\n",
    "    file_name,list_bbox,list_classes = read_content(i)\n",
    "    \n",
    "    for index,j in enumerate(list_classes):\n",
    "        if j == \"person\":\n",
    "            dict_annotations[num_instance] = {\"file_name\":file_name, \"x_min\":list_bbox[index][1],\"y_min\":list_bbox[index][0],\n",
    "                                              \"delta_x\":list_bbox[index][2]-list_bbox[index][0],\n",
    "                                             \"delta_y\": list_bbox[index][3]-list_bbox[index][1]}\n",
    "            num_instance +=1"
   ]
  },
  {
   "cell_type": "code",
   "execution_count": 13,
   "metadata": {},
   "outputs": [
    {
     "data": {
      "text/html": [
       "<div>\n",
       "<style scoped>\n",
       "    .dataframe tbody tr th:only-of-type {\n",
       "        vertical-align: middle;\n",
       "    }\n",
       "\n",
       "    .dataframe tbody tr th {\n",
       "        vertical-align: top;\n",
       "    }\n",
       "\n",
       "    .dataframe thead th {\n",
       "        text-align: right;\n",
       "    }\n",
       "</style>\n",
       "<table border=\"1\" class=\"dataframe\">\n",
       "  <thead>\n",
       "    <tr style=\"text-align: right;\">\n",
       "      <th></th>\n",
       "      <th>file_name</th>\n",
       "      <th>x_min</th>\n",
       "      <th>y_min</th>\n",
       "      <th>delta_x</th>\n",
       "      <th>delta_y</th>\n",
       "    </tr>\n",
       "  </thead>\n",
       "  <tbody>\n",
       "    <tr>\n",
       "      <th>0</th>\n",
       "      <td>2011_001728.jpg</td>\n",
       "      <td>62</td>\n",
       "      <td>313</td>\n",
       "      <td>116</td>\n",
       "      <td>181</td>\n",
       "    </tr>\n",
       "    <tr>\n",
       "      <th>1</th>\n",
       "      <td>2011_006503.jpg</td>\n",
       "      <td>135</td>\n",
       "      <td>186</td>\n",
       "      <td>64</td>\n",
       "      <td>153</td>\n",
       "    </tr>\n",
       "    <tr>\n",
       "      <th>2</th>\n",
       "      <td>2011_006503.jpg</td>\n",
       "      <td>251</td>\n",
       "      <td>104</td>\n",
       "      <td>217</td>\n",
       "      <td>158</td>\n",
       "    </tr>\n",
       "    <tr>\n",
       "      <th>3</th>\n",
       "      <td>2011_006503.jpg</td>\n",
       "      <td>109</td>\n",
       "      <td>166</td>\n",
       "      <td>50</td>\n",
       "      <td>98</td>\n",
       "    </tr>\n",
       "    <tr>\n",
       "      <th>4</th>\n",
       "      <td>2008_004545.jpg</td>\n",
       "      <td>173</td>\n",
       "      <td>2</td>\n",
       "      <td>23</td>\n",
       "      <td>30</td>\n",
       "    </tr>\n",
       "  </tbody>\n",
       "</table>\n",
       "</div>"
      ],
      "text/plain": [
       "         file_name x_min y_min delta_x delta_y\n",
       "0  2011_001728.jpg    62   313     116     181\n",
       "1  2011_006503.jpg   135   186      64     153\n",
       "2  2011_006503.jpg   251   104     217     158\n",
       "3  2011_006503.jpg   109   166      50      98\n",
       "4  2008_004545.jpg   173     2      23      30"
      ]
     },
     "execution_count": 13,
     "metadata": {},
     "output_type": "execute_result"
    }
   ],
   "source": [
    "annotations_df = pd.DataFrame(dict_annotations).T\n",
    "annotations_df.head()"
   ]
  },
  {
   "cell_type": "code",
   "execution_count": 16,
   "metadata": {},
   "outputs": [
    {
     "data": {
      "text/plain": [
       "(17401, 5)"
      ]
     },
     "execution_count": 16,
     "metadata": {},
     "output_type": "execute_result"
    }
   ],
   "source": [
    "annotations_df.shape"
   ]
  },
  {
   "cell_type": "code",
   "execution_count": 14,
   "metadata": {},
   "outputs": [],
   "source": [
    "os.chdir(\"/home/sergio/Documentos/VOC2012\")\n",
    "annotations_df.to_csv(\"VOC_annotations.csv\",index=False)"
   ]
  },
  {
   "cell_type": "code",
   "execution_count": 15,
   "metadata": {},
   "outputs": [
    {
     "data": {
      "text/plain": [
       "[1, 2, 3]"
      ]
     },
     "execution_count": 15,
     "metadata": {},
     "output_type": "execute_result"
    }
   ],
   "source": [
    "annotations_df.index[annotations_df[\"file_name\"] == \"2011_006503.jpg\"].tolist()"
   ]
  },
  {
   "cell_type": "code",
   "execution_count": null,
   "metadata": {},
   "outputs": [],
   "source": [
    "os.chdir(\"/home/sergio/Documentos/VOC2012/Annotations\")\n",
    "xml_files = os.listdir()"
   ]
  }
 ],
 "metadata": {
  "kernelspec": {
   "display_name": "Python 3",
   "language": "python",
   "name": "python3"
  },
  "language_info": {
   "codemirror_mode": {
    "name": "ipython",
    "version": 3
   },
   "file_extension": ".py",
   "mimetype": "text/x-python",
   "name": "python",
   "nbconvert_exporter": "python",
   "pygments_lexer": "ipython3",
   "version": "3.7.6"
  }
 },
 "nbformat": 4,
 "nbformat_minor": 4
}
