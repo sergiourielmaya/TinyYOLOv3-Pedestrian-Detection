{
 "cells": [
  {
   "cell_type": "code",
   "execution_count": 1,
   "metadata": {},
   "outputs": [],
   "source": [
    "import numpy as np\n",
    "import matplotlib.pyplot as plt\n",
    "import pandas as pd\n",
    "import os"
   ]
  },
  {
   "cell_type": "markdown",
   "metadata": {},
   "source": [
    "# Filtrado del conjunto de entrenamiento"
   ]
  },
  {
   "cell_type": "code",
   "execution_count": 47,
   "metadata": {},
   "outputs": [
    {
     "name": "stdout",
     "output_type": "stream",
     "text": [
      "/home/sergio/Documentos/COCO_Dataset/annotations/instances_train2017.json\n"
     ]
    }
   ],
   "source": [
    "dataDir='/home/sergio/Documentos/COCO_Dataset'\n",
    "dataType='train2017'\n",
    "annFile='{}/annotations/instances_{}.json'.format(dataDir,dataType)\n",
    "print(annFile)"
   ]
  },
  {
   "cell_type": "code",
   "execution_count": 48,
   "metadata": {},
   "outputs": [
    {
     "name": "stdout",
     "output_type": "stream",
     "text": [
      "loading annotations into memory...\n",
      "Done (t=8.69s)\n",
      "creating index...\n",
      "index created!\n"
     ]
    }
   ],
   "source": [
    "from pycocotools.coco import COCO\n",
    "import numpy as np\n",
    "#import skimage.io as io\n",
    "import matplotlib.pyplot as plt\n",
    "#import pylab\n",
    "\n",
    "# initialize COCO api for instance annotations\n",
    "coco=COCO(annFile)"
   ]
  },
  {
   "cell_type": "code",
   "execution_count": 4,
   "metadata": {},
   "outputs": [],
   "source": [
    "catIds = coco.getCatIds(catNms=['person']);\n",
    "imgIds = coco.getImgIds(catIds=catIds );"
   ]
  },
  {
   "cell_type": "code",
   "execution_count": 5,
   "metadata": {},
   "outputs": [
    {
     "name": "stdout",
     "output_type": "stream",
     "text": [
      "64115\n",
      "['000000262145.jpg', '000000262146.jpg', '000000524291.jpg', '000000262148.jpg', '000000393223.jpg', '000000393224.jpg', '000000524297.jpg', '000000393227.jpg', '000000131084.jpg', '000000393230.jpg', '000000262161.jpg', '000000131089.jpg']\n"
     ]
    }
   ],
   "source": [
    "aux = coco.loadImgs(imgIds)\n",
    "real_names =[]\n",
    "for i in aux:\n",
    "    real_names.append(i[\"file_name\"])\n",
    "print(len(real_names))\n",
    "print(real_names[:12])"
   ]
  },
  {
   "cell_type": "code",
   "execution_count": 6,
   "metadata": {},
   "outputs": [
    {
     "ename": "FileExistsError",
     "evalue": "[Errno 17] File exists: 'pedestrian_dataset_train'",
     "output_type": "error",
     "traceback": [
      "\u001b[0;31m---------------------------------------------------------------------------\u001b[0m",
      "\u001b[0;31mFileExistsError\u001b[0m                           Traceback (most recent call last)",
      "\u001b[0;32m<ipython-input-6-5bcc1e29e195>\u001b[0m in \u001b[0;36m<module>\u001b[0;34m\u001b[0m\n\u001b[1;32m      1\u001b[0m \u001b[0;32mimport\u001b[0m \u001b[0mos\u001b[0m\u001b[0;34m\u001b[0m\u001b[0;34m\u001b[0m\u001b[0m\n\u001b[1;32m      2\u001b[0m \u001b[0mos\u001b[0m\u001b[0;34m.\u001b[0m\u001b[0mchdir\u001b[0m\u001b[0;34m(\u001b[0m\u001b[0;34m\"/home/sergio/Documentos/COCO_Dataset\"\u001b[0m\u001b[0;34m)\u001b[0m\u001b[0;34m\u001b[0m\u001b[0;34m\u001b[0m\u001b[0m\n\u001b[0;32m----> 3\u001b[0;31m \u001b[0mos\u001b[0m\u001b[0;34m.\u001b[0m\u001b[0mmkdir\u001b[0m\u001b[0;34m(\u001b[0m\u001b[0;34m\"pedestrian_dataset_train\"\u001b[0m\u001b[0;34m)\u001b[0m\u001b[0;34m\u001b[0m\u001b[0;34m\u001b[0m\u001b[0m\n\u001b[0m",
      "\u001b[0;31mFileExistsError\u001b[0m: [Errno 17] File exists: 'pedestrian_dataset_train'"
     ]
    }
   ],
   "source": [
    "import os\n",
    "os.chdir(\"/home/sergio/Documentos/COCO_Dataset\")\n",
    "os.mkdir(\"pedestrian_dataset_train\")"
   ]
  },
  {
   "cell_type": "code",
   "execution_count": 10,
   "metadata": {},
   "outputs": [],
   "source": [
    "from shutil import copyfile\n",
    "\n",
    "def get_class_images(SOURCE, NEW_LOC,CLASS_NAMES):\n",
    "\n",
    "    names_list =os.listdir(SOURCE)\n",
    "\n",
    "    for i in names_list:\n",
    "        if i in CLASS_NAMES:\n",
    "                copyfile(SOURCE + \"/\" + i, NEW_LOC + \"/\" + i)\n",
    "\n",
    "#dict_pedestrian = get_pedestrian(data) \n",
    "#pedestrian_names = list(dict_pedestrian.keys())\n",
    "#print(len(pedestrian_names))"
   ]
  },
  {
   "cell_type": "code",
   "execution_count": 17,
   "metadata": {},
   "outputs": [],
   "source": [
    "#get_class_images(\"/home/sergio/Documentos/COCO_Dataset/train2017\",\"/home/sergio/Documentos/COCO_Dataset/pedestrian_dataset_train\",real_names)"
   ]
  },
  {
   "cell_type": "markdown",
   "metadata": {},
   "source": [
    "# Filtrado de imágenes de validación"
   ]
  },
  {
   "cell_type": "code",
   "execution_count": 1,
   "metadata": {},
   "outputs": [
    {
     "name": "stdout",
     "output_type": "stream",
     "text": [
      "/home/sergio/Documentos/COCO_Dataset/annotations/instances_val2017.json\n"
     ]
    }
   ],
   "source": [
    "dataDir='/home/sergio/Documentos/COCO_Dataset'\n",
    "dataType='val2017'\n",
    "annFile='{}/annotations/instances_{}.json'.format(dataDir,dataType)\n",
    "print(annFile)"
   ]
  },
  {
   "cell_type": "code",
   "execution_count": 3,
   "metadata": {},
   "outputs": [
    {
     "name": "stdout",
     "output_type": "stream",
     "text": [
      "loading annotations into memory...\n",
      "Done (t=0.32s)\n",
      "creating index...\n",
      "index created!\n"
     ]
    }
   ],
   "source": [
    "from pycocotools.coco import COCO\n",
    "import numpy as np\n",
    "#import skimage.io as io\n",
    "import matplotlib.pyplot as plt\n",
    "#import pylab\n",
    "\n",
    "# initialize COCO api for instance annotations\n",
    "coco=COCO(annFile)"
   ]
  },
  {
   "cell_type": "code",
   "execution_count": 7,
   "metadata": {},
   "outputs": [],
   "source": [
    "catIds = coco.getCatIds(catNms=['person']);\n",
    "imgIds = coco.getImgIds(catIds=catIds );"
   ]
  },
  {
   "cell_type": "code",
   "execution_count": 12,
   "metadata": {},
   "outputs": [
    {
     "name": "stdout",
     "output_type": "stream",
     "text": [
      "2693\n",
      "['000000532481.jpg', '000000458755.jpg', '000000385029.jpg', '000000311303.jpg', '000000393226.jpg', '000000532493.jpg', '000000008211.jpg', '000000327701.jpg', '000000188439.jpg', '000000434204.jpg', '000000401446.jpg', '000000213033.jpg']\n"
     ]
    }
   ],
   "source": [
    "aux = coco.loadImgs(imgIds)\n",
    "real_names =[]\n",
    "for i in aux:\n",
    "    real_names.append(i[\"file_name\"])\n",
    "print(len(real_names))\n",
    "print(real_names[:12])"
   ]
  },
  {
   "cell_type": "code",
   "execution_count": 13,
   "metadata": {},
   "outputs": [],
   "source": [
    "import os\n",
    "os.chdir(\"/home/sergio/Documentos/COCO_Dataset\")\n",
    "os.mkdir(\"pedestrian_dataset_val\")"
   ]
  },
  {
   "cell_type": "code",
   "execution_count": 14,
   "metadata": {},
   "outputs": [],
   "source": [
    "#get_class_images(\"/home/sergio/Documentos/COCO_Dataset/val2017\",\"/home/sergio/Documentos/COCO_Dataset/pedestrian_dataset_val\",real_names)"
   ]
  },
  {
   "cell_type": "markdown",
   "metadata": {},
   "source": [
    "## Creating Metadata train CSV"
   ]
  },
  {
   "cell_type": "code",
   "execution_count": 50,
   "metadata": {},
   "outputs": [],
   "source": [
    "catIds = coco.getCatIds(catNms=['person']); #ID de la categoría persona\n",
    "imgIds = coco.getImgIds(catIds=catIds ); # IDS de las imagenes con la categoria persona\n",
    "annIds = coco.getAnnIds(imgIds=imgIds, catIds=catIds) #Anotaciones de las imágenes con la categoría persona\n",
    "img_metadata = coco.loadImgs(imgIds) # Metadatos de las images de la categoría persona\n",
    "img_annotations = coco.loadAnns(annIds) # Anotaciones de las instancias de la base de datos"
   ]
  },
  {
   "cell_type": "code",
   "execution_count": 51,
   "metadata": {},
   "outputs": [
    {
     "data": {
      "text/plain": [
       "{'license': 2,\n",
       " 'file_name': '000000262145.jpg',\n",
       " 'coco_url': 'http://images.cocodataset.org/train2017/000000262145.jpg',\n",
       " 'height': 427,\n",
       " 'width': 640,\n",
       " 'date_captured': '2013-11-20 02:07:55',\n",
       " 'flickr_url': 'http://farm8.staticflickr.com/7187/6967031859_5f08387bde_z.jpg',\n",
       " 'id': 262145}"
      ]
     },
     "execution_count": 51,
     "metadata": {},
     "output_type": "execute_result"
    }
   ],
   "source": [
    "img_metadata[0]"
   ]
  },
  {
   "cell_type": "code",
   "execution_count": 65,
   "metadata": {},
   "outputs": [],
   "source": [
    "id_to_file_name={}\n",
    "\n",
    "for i in img_metadata:\n",
    "    id_ = str(i[\"id\"])\n",
    "    file_name = i[\"file_name\"]\n",
    "    id_to_file_name[id_] = file_name"
   ]
  },
  {
   "cell_type": "code",
   "execution_count": 75,
   "metadata": {},
   "outputs": [
    {
     "data": {
      "text/plain": [
       "64115"
      ]
     },
     "execution_count": 75,
     "metadata": {},
     "output_type": "execute_result"
    }
   ],
   "source": [
    "len(id_to_file_name)"
   ]
  },
  {
   "cell_type": "code",
   "execution_count": 67,
   "metadata": {},
   "outputs": [],
   "source": [
    "img_metadata_dict = {}\n",
    "\n",
    "for i in img_metadata:\n",
    "    img_metadata_dict[i[\"file_name\"]] = {\"width\":i[\"width\"],\"height\":i[\"height\"]}"
   ]
  },
  {
   "cell_type": "code",
   "execution_count": 68,
   "metadata": {},
   "outputs": [],
   "source": [
    "metadata_df = pd.DataFrame(img_metadata_dict).T"
   ]
  },
  {
   "cell_type": "code",
   "execution_count": 69,
   "metadata": {},
   "outputs": [
    {
     "data": {
      "text/html": [
       "<div>\n",
       "<style scoped>\n",
       "    .dataframe tbody tr th:only-of-type {\n",
       "        vertical-align: middle;\n",
       "    }\n",
       "\n",
       "    .dataframe tbody tr th {\n",
       "        vertical-align: top;\n",
       "    }\n",
       "\n",
       "    .dataframe thead th {\n",
       "        text-align: right;\n",
       "    }\n",
       "</style>\n",
       "<table border=\"1\" class=\"dataframe\">\n",
       "  <thead>\n",
       "    <tr style=\"text-align: right;\">\n",
       "      <th></th>\n",
       "      <th>width</th>\n",
       "      <th>height</th>\n",
       "    </tr>\n",
       "  </thead>\n",
       "  <tbody>\n",
       "    <tr>\n",
       "      <th>000000262145.jpg</th>\n",
       "      <td>640</td>\n",
       "      <td>427</td>\n",
       "    </tr>\n",
       "    <tr>\n",
       "      <th>000000262146.jpg</th>\n",
       "      <td>480</td>\n",
       "      <td>640</td>\n",
       "    </tr>\n",
       "    <tr>\n",
       "      <th>000000524291.jpg</th>\n",
       "      <td>640</td>\n",
       "      <td>426</td>\n",
       "    </tr>\n",
       "    <tr>\n",
       "      <th>000000262148.jpg</th>\n",
       "      <td>640</td>\n",
       "      <td>512</td>\n",
       "    </tr>\n",
       "    <tr>\n",
       "      <th>000000393223.jpg</th>\n",
       "      <td>640</td>\n",
       "      <td>480</td>\n",
       "    </tr>\n",
       "  </tbody>\n",
       "</table>\n",
       "</div>"
      ],
      "text/plain": [
       "                  width  height\n",
       "000000262145.jpg    640     427\n",
       "000000262146.jpg    480     640\n",
       "000000524291.jpg    640     426\n",
       "000000262148.jpg    640     512\n",
       "000000393223.jpg    640     480"
      ]
     },
     "execution_count": 69,
     "metadata": {},
     "output_type": "execute_result"
    }
   ],
   "source": [
    "metadata_df.head()"
   ]
  },
  {
   "cell_type": "code",
   "execution_count": 70,
   "metadata": {},
   "outputs": [],
   "source": [
    "os.chdir(\"/home/sergio/Documentos/COCO_Dataset\")\n",
    "metadata_df.to_csv(\"COCO_metadata_train.csv\",index=True)"
   ]
  },
  {
   "cell_type": "code",
   "execution_count": 71,
   "metadata": {},
   "outputs": [
    {
     "data": {
      "text/plain": [
       "64115"
      ]
     },
     "execution_count": 71,
     "metadata": {},
     "output_type": "execute_result"
    }
   ],
   "source": [
    "len(img_metadata_dict)"
   ]
  },
  {
   "cell_type": "markdown",
   "metadata": {},
   "source": [
    "## Creating Annotations COCO train CSV"
   ]
  },
  {
   "cell_type": "code",
   "execution_count": 72,
   "metadata": {},
   "outputs": [
    {
     "data": {
      "text/plain": [
       "262465"
      ]
     },
     "execution_count": 72,
     "metadata": {},
     "output_type": "execute_result"
    }
   ],
   "source": [
    "len(img_annotations)"
   ]
  },
  {
   "cell_type": "code",
   "execution_count": 76,
   "metadata": {},
   "outputs": [],
   "source": [
    "dict_annotations = {}\n",
    "num_instance = 0\n",
    "\n",
    "#VER COMO SE GUARDARON LAS COORDENADAS DEL VOC DATASET, QUE CORDENADA (X,Y) SON\n",
    "\n",
    "for index,j in enumerate(img_annotations):\n",
    "    #print(j)\n",
    "    dict_annotations[index] = {\"file_name\":id_to_file_name[str(j[\"image_id\"])],\n",
    "                                      \"x\":j[\"bbox\"][0],\n",
    "                                      \"y\":j[\"bbox\"][1],\n",
    "                                      \"delta_x\":j[\"bbox\"][2],\n",
    "                                     \"delta_y\": j[\"bbox\"][3]}"
   ]
  },
  {
   "cell_type": "code",
   "execution_count": 78,
   "metadata": {},
   "outputs": [],
   "source": [
    "annotations_df = pd.DataFrame(dict_annotations).T"
   ]
  },
  {
   "cell_type": "code",
   "execution_count": 79,
   "metadata": {},
   "outputs": [
    {
     "data": {
      "text/html": [
       "<div>\n",
       "<style scoped>\n",
       "    .dataframe tbody tr th:only-of-type {\n",
       "        vertical-align: middle;\n",
       "    }\n",
       "\n",
       "    .dataframe tbody tr th {\n",
       "        vertical-align: top;\n",
       "    }\n",
       "\n",
       "    .dataframe thead th {\n",
       "        text-align: right;\n",
       "    }\n",
       "</style>\n",
       "<table border=\"1\" class=\"dataframe\">\n",
       "  <thead>\n",
       "    <tr style=\"text-align: right;\">\n",
       "      <th></th>\n",
       "      <th>file_name</th>\n",
       "      <th>x</th>\n",
       "      <th>y</th>\n",
       "      <th>delta_x</th>\n",
       "      <th>delta_y</th>\n",
       "    </tr>\n",
       "  </thead>\n",
       "  <tbody>\n",
       "    <tr>\n",
       "      <th>0</th>\n",
       "      <td>000000262145.jpg</td>\n",
       "      <td>387</td>\n",
       "      <td>71.1</td>\n",
       "      <td>145</td>\n",
       "      <td>322</td>\n",
       "    </tr>\n",
       "    <tr>\n",
       "      <th>1</th>\n",
       "      <td>000000262145.jpg</td>\n",
       "      <td>494.31</td>\n",
       "      <td>91.04</td>\n",
       "      <td>11.7</td>\n",
       "      <td>16.16</td>\n",
       "    </tr>\n",
       "    <tr>\n",
       "      <th>2</th>\n",
       "      <td>000000262145.jpg</td>\n",
       "      <td>282.37</td>\n",
       "      <td>86.79</td>\n",
       "      <td>32.16</td>\n",
       "      <td>97.02</td>\n",
       "    </tr>\n",
       "    <tr>\n",
       "      <th>3</th>\n",
       "      <td>000000262145.jpg</td>\n",
       "      <td>526.17</td>\n",
       "      <td>44.14</td>\n",
       "      <td>90.5</td>\n",
       "      <td>188</td>\n",
       "    </tr>\n",
       "    <tr>\n",
       "      <th>4</th>\n",
       "      <td>000000262145.jpg</td>\n",
       "      <td>491.51</td>\n",
       "      <td>81.19</td>\n",
       "      <td>40.46</td>\n",
       "      <td>85.34</td>\n",
       "    </tr>\n",
       "  </tbody>\n",
       "</table>\n",
       "</div>"
      ],
      "text/plain": [
       "          file_name       x      y delta_x delta_y\n",
       "0  000000262145.jpg     387   71.1     145     322\n",
       "1  000000262145.jpg  494.31  91.04    11.7   16.16\n",
       "2  000000262145.jpg  282.37  86.79   32.16   97.02\n",
       "3  000000262145.jpg  526.17  44.14    90.5     188\n",
       "4  000000262145.jpg  491.51  81.19   40.46   85.34"
      ]
     },
     "execution_count": 79,
     "metadata": {},
     "output_type": "execute_result"
    }
   ],
   "source": [
    "annotations_df.head()"
   ]
  },
  {
   "cell_type": "code",
   "execution_count": 80,
   "metadata": {},
   "outputs": [],
   "source": [
    "os.chdir(\"/home/sergio/Documentos/COCO_Dataset\")\n",
    "metadata_df.to_csv(\"COCO_annotations_train.csv\",index=True)"
   ]
  },
  {
   "cell_type": "markdown",
   "metadata": {},
   "source": [
    "## Creating metadata validation COCO"
   ]
  },
  {
   "cell_type": "code",
   "execution_count": 81,
   "metadata": {},
   "outputs": [
    {
     "name": "stdout",
     "output_type": "stream",
     "text": [
      "/home/sergio/Documentos/COCO_Dataset/annotations/instances_val2017.json\n",
      "loading annotations into memory...\n",
      "Done (t=0.27s)\n",
      "creating index...\n",
      "index created!\n"
     ]
    }
   ],
   "source": [
    "dataDir='/home/sergio/Documentos/COCO_Dataset'\n",
    "dataType='val2017'\n",
    "annFile='{}/annotations/instances_{}.json'.format(dataDir,dataType)\n",
    "print(annFile)\n",
    "coco  =COCO(annFile)"
   ]
  },
  {
   "cell_type": "code",
   "execution_count": 82,
   "metadata": {},
   "outputs": [],
   "source": [
    "catIds = coco.getCatIds(catNms=['person']); #ID de la categoría persona\n",
    "imgIds = coco.getImgIds(catIds=catIds ); # IDS de las imagenes con la categoria persona\n",
    "annIds = coco.getAnnIds(imgIds=imgIds, catIds=catIds) #Anotaciones de las imágenes con la categoría persona\n",
    "img_metadata = coco.loadImgs(imgIds) # Metadatos de las images de la categoría persona\n",
    "img_annotations = coco.loadAnns(annIds) # Anotaciones de las instancias de la base de datos"
   ]
  },
  {
   "cell_type": "code",
   "execution_count": 83,
   "metadata": {},
   "outputs": [],
   "source": [
    "id_to_file_name={}\n",
    "\n",
    "for i in img_metadata:\n",
    "    id_ = i[\"id\"]\n",
    "    file_name = i[\"file_name\"]\n",
    "    id_to_file_name[id_] = file_name"
   ]
  },
  {
   "cell_type": "code",
   "execution_count": 84,
   "metadata": {},
   "outputs": [],
   "source": [
    "img_metadata_dict = {}\n",
    "\n",
    "for i in img_metadata:\n",
    "    img_metadata_dict[i[\"file_name\"]] = {\"width\":i[\"width\"],\"height\":i[\"height\"]}"
   ]
  },
  {
   "cell_type": "code",
   "execution_count": 85,
   "metadata": {},
   "outputs": [],
   "source": [
    "metadata_df = pd.DataFrame(img_metadata_dict).T"
   ]
  },
  {
   "cell_type": "code",
   "execution_count": 86,
   "metadata": {},
   "outputs": [
    {
     "data": {
      "text/html": [
       "<div>\n",
       "<style scoped>\n",
       "    .dataframe tbody tr th:only-of-type {\n",
       "        vertical-align: middle;\n",
       "    }\n",
       "\n",
       "    .dataframe tbody tr th {\n",
       "        vertical-align: top;\n",
       "    }\n",
       "\n",
       "    .dataframe thead th {\n",
       "        text-align: right;\n",
       "    }\n",
       "</style>\n",
       "<table border=\"1\" class=\"dataframe\">\n",
       "  <thead>\n",
       "    <tr style=\"text-align: right;\">\n",
       "      <th></th>\n",
       "      <th>width</th>\n",
       "      <th>height</th>\n",
       "    </tr>\n",
       "  </thead>\n",
       "  <tbody>\n",
       "    <tr>\n",
       "      <th>000000532481.jpg</th>\n",
       "      <td>640</td>\n",
       "      <td>426</td>\n",
       "    </tr>\n",
       "    <tr>\n",
       "      <th>000000458755.jpg</th>\n",
       "      <td>640</td>\n",
       "      <td>480</td>\n",
       "    </tr>\n",
       "    <tr>\n",
       "      <th>000000385029.jpg</th>\n",
       "      <td>640</td>\n",
       "      <td>480</td>\n",
       "    </tr>\n",
       "    <tr>\n",
       "      <th>000000311303.jpg</th>\n",
       "      <td>640</td>\n",
       "      <td>427</td>\n",
       "    </tr>\n",
       "    <tr>\n",
       "      <th>000000393226.jpg</th>\n",
       "      <td>640</td>\n",
       "      <td>480</td>\n",
       "    </tr>\n",
       "  </tbody>\n",
       "</table>\n",
       "</div>"
      ],
      "text/plain": [
       "                  width  height\n",
       "000000532481.jpg    640     426\n",
       "000000458755.jpg    640     480\n",
       "000000385029.jpg    640     480\n",
       "000000311303.jpg    640     427\n",
       "000000393226.jpg    640     480"
      ]
     },
     "execution_count": 86,
     "metadata": {},
     "output_type": "execute_result"
    }
   ],
   "source": [
    "metadata_df.head()"
   ]
  },
  {
   "cell_type": "code",
   "execution_count": 87,
   "metadata": {},
   "outputs": [],
   "source": [
    "os.chdir(\"/home/sergio/Documentos/COCO_Dataset\")\n",
    "metadata_df.to_csv(\"COCO_metadata_val.csv\",index=True)"
   ]
  },
  {
   "cell_type": "markdown",
   "metadata": {},
   "source": [
    "## Creating annotatios val COCO"
   ]
  },
  {
   "cell_type": "code",
   "execution_count": 89,
   "metadata": {},
   "outputs": [],
   "source": [
    "id_to_file_name={}\n",
    "\n",
    "for i in img_metadata:\n",
    "    id_ = str(i[\"id\"])\n",
    "    file_name = i[\"file_name\"]\n",
    "    id_to_file_name[id_] = file_name"
   ]
  },
  {
   "cell_type": "code",
   "execution_count": 90,
   "metadata": {},
   "outputs": [],
   "source": [
    "dict_annotations = {}\n",
    "num_instance = 0\n",
    "\n",
    "#VER COMO SE GUARDARON LAS COORDENADAS DEL VOC DATASET, QUE CORDENADA (X,Y) SON\n",
    "\n",
    "for index,j in enumerate(img_annotations):\n",
    "    #print(j)\n",
    "    dict_annotations[index] = {\"file_name\":id_to_file_name[str(j[\"image_id\"])],\n",
    "                                      \"x\":j[\"bbox\"][0],\n",
    "                                      \"y\":j[\"bbox\"][1],\n",
    "                                      \"delta_x\":j[\"bbox\"][2],\n",
    "                                     \"delta_y\": j[\"bbox\"][3]}"
   ]
  },
  {
   "cell_type": "code",
   "execution_count": 92,
   "metadata": {},
   "outputs": [
    {
     "data": {
      "text/plain": [
       "11004"
      ]
     },
     "execution_count": 92,
     "metadata": {},
     "output_type": "execute_result"
    }
   ],
   "source": [
    "len(dict_annotations)"
   ]
  },
  {
   "cell_type": "code",
   "execution_count": 93,
   "metadata": {},
   "outputs": [],
   "source": [
    "annotations_df = pd.DataFrame(dict_annotations).T"
   ]
  },
  {
   "cell_type": "code",
   "execution_count": 94,
   "metadata": {},
   "outputs": [
    {
     "data": {
      "text/html": [
       "<div>\n",
       "<style scoped>\n",
       "    .dataframe tbody tr th:only-of-type {\n",
       "        vertical-align: middle;\n",
       "    }\n",
       "\n",
       "    .dataframe tbody tr th {\n",
       "        vertical-align: top;\n",
       "    }\n",
       "\n",
       "    .dataframe thead th {\n",
       "        text-align: right;\n",
       "    }\n",
       "</style>\n",
       "<table border=\"1\" class=\"dataframe\">\n",
       "  <thead>\n",
       "    <tr style=\"text-align: right;\">\n",
       "      <th></th>\n",
       "      <th>file_name</th>\n",
       "      <th>x</th>\n",
       "      <th>y</th>\n",
       "      <th>delta_x</th>\n",
       "      <th>delta_y</th>\n",
       "    </tr>\n",
       "  </thead>\n",
       "  <tbody>\n",
       "    <tr>\n",
       "      <th>0</th>\n",
       "      <td>000000532481.jpg</td>\n",
       "      <td>250.82</td>\n",
       "      <td>168.26</td>\n",
       "      <td>70.11</td>\n",
       "      <td>64.88</td>\n",
       "    </tr>\n",
       "    <tr>\n",
       "      <th>1</th>\n",
       "      <td>000000532481.jpg</td>\n",
       "      <td>285.55</td>\n",
       "      <td>370.56</td>\n",
       "      <td>12.07</td>\n",
       "      <td>19.21</td>\n",
       "    </tr>\n",
       "    <tr>\n",
       "      <th>2</th>\n",
       "      <td>000000458755.jpg</td>\n",
       "      <td>69.03</td>\n",
       "      <td>37.75</td>\n",
       "      <td>508.05</td>\n",
       "      <td>435.78</td>\n",
       "    </tr>\n",
       "    <tr>\n",
       "      <th>3</th>\n",
       "      <td>000000458755.jpg</td>\n",
       "      <td>567</td>\n",
       "      <td>1.27</td>\n",
       "      <td>73</td>\n",
       "      <td>86.86</td>\n",
       "    </tr>\n",
       "    <tr>\n",
       "      <th>4</th>\n",
       "      <td>000000458755.jpg</td>\n",
       "      <td>590.02</td>\n",
       "      <td>91.69</td>\n",
       "      <td>49.62</td>\n",
       "      <td>97.07</td>\n",
       "    </tr>\n",
       "  </tbody>\n",
       "</table>\n",
       "</div>"
      ],
      "text/plain": [
       "          file_name       x       y delta_x delta_y\n",
       "0  000000532481.jpg  250.82  168.26   70.11   64.88\n",
       "1  000000532481.jpg  285.55  370.56   12.07   19.21\n",
       "2  000000458755.jpg   69.03   37.75  508.05  435.78\n",
       "3  000000458755.jpg     567    1.27      73   86.86\n",
       "4  000000458755.jpg  590.02   91.69   49.62   97.07"
      ]
     },
     "execution_count": 94,
     "metadata": {},
     "output_type": "execute_result"
    }
   ],
   "source": [
    "annotations_df.head()"
   ]
  },
  {
   "cell_type": "code",
   "execution_count": 95,
   "metadata": {},
   "outputs": [],
   "source": [
    "os.chdir(\"/home/sergio/Documentos/COCO_Dataset\")\n",
    "metadata_df.to_csv(\"COCO_annotations_val.csv\",index=True)"
   ]
  },
  {
   "cell_type": "code",
   "execution_count": null,
   "metadata": {},
   "outputs": [],
   "source": []
  }
 ],
 "metadata": {
  "kernelspec": {
   "display_name": "Python 3",
   "language": "python",
   "name": "python3"
  },
  "language_info": {
   "codemirror_mode": {
    "name": "ipython",
    "version": 3
   },
   "file_extension": ".py",
   "mimetype": "text/x-python",
   "name": "python",
   "nbconvert_exporter": "python",
   "pygments_lexer": "ipython3",
   "version": "3.7.6"
  }
 },
 "nbformat": 4,
 "nbformat_minor": 4
}
