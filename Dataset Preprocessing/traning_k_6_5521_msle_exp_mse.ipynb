{
 "cells": [
  {
   "cell_type": "code",
   "execution_count": 1,
   "metadata": {},
   "outputs": [],
   "source": [
    "import sys\n",
    "sys.path.append(\"/home/sergio/TinyYOLOv3-Pedestrian-Detection\")\n",
    "\n",
    "from YOLOblocks import TinyYOLOv3,BasicBlock,PredictionLayer#,YOLOLossBasicBlock\n",
    "import numpy as np\n",
    "import matplotlib.pyplot as plt\n",
    "import tensorflow as tf\n",
    "#from tensorflow.python.tools import freeze_graph\n",
    "#from skimage.io import imread,imshow\n",
    "#from skimage.transform import resize \n",
    "import time\n",
    "#from tensorflow.compat.v1.image import decode_image\n",
    "import imgaug.augmenters as iaa\n",
    "from imgaug.augmentables.bbs import BoundingBox, BoundingBoxesOnImage\n",
    "import os"
   ]
  },
  {
   "cell_type": "markdown",
   "metadata": {},
   "source": [
    "## Dataset preparation"
   ]
  },
  {
   "cell_type": "code",
   "execution_count": 2,
   "metadata": {},
   "outputs": [],
   "source": [
    "image_feature_description = {\n",
    "    'bboxes': tf.io.FixedLenFeature([], tf.string),\n",
    "    'image_raw': tf.io.FixedLenFeature([], tf.string),\n",
    "    'num_real_boxes':tf.io.FixedLenFeature([], tf.int64),\n",
    "}"
   ]
  },
  {
   "cell_type": "code",
   "execution_count": 3,
   "metadata": {},
   "outputs": [],
   "source": [
    "def get_iou_matrix_tf(box_arr1, box_arr2):\n",
    "    \n",
    "    box_arr1 = box_arr1 -tf.tile(box_arr1[:,:2],[1,2])\n",
    "    #print(box_arr1)\n",
    "    x11, y11, x12, y12 = tf.split(box_arr1, 4, axis=1)\n",
    "    x21, y21, x22, y22 = tf.split(box_arr2, 4, axis=1)\n",
    "    xA = tf.maximum(x11, tf.transpose(x21))\n",
    "    yA = tf.maximum(y11, tf.transpose(y21))\n",
    "    xB = tf.minimum(x12, tf.transpose(x22))\n",
    "    yB = tf.minimum(y12, tf.transpose(y22))\n",
    "    interArea = tf.maximum((xB - xA + 1e-9), 0) * tf.maximum((yB - yA + 1e-9), 0)\n",
    "    boxAArea = (x12 - x11 + 1e-9) * (y12 - y11 + 1e-9)\n",
    "    boxBArea = (x22 - x21 + 1e-9) * (y22 - y21 + 1e-9)\n",
    "    iou = interArea / (boxAArea + tf.transpose(boxBArea) - interArea)\n",
    "    return iou,tf.argmax(iou,axis=1)#[:,tf.newaxis]\n",
    "\n",
    "\n",
    "def fill_yolo_output(boxes,grid_size,num_anchors,which_anchor_box,which_anchor_box_index):\n",
    "    #print(boxes.shape)\n",
    "    #noobj_mask = tf.ones((1,grid_size*grid_size*num_anchors))\n",
    "    #print(noobj_mask.shape)\n",
    "    \n",
    "    x_min,y_min,x_max,y_max =tf.split(boxes,4,axis=1)\n",
    "\n",
    "    #Transforma las coordenadas de (xmin,ymin,xmax,ymax) --> (xcenter,ycenter,width,height)\n",
    "    width = x_max-x_min\n",
    "    height = y_max-y_min\n",
    "    x_global =x_min + tf.math.divide(x_max - x_min,2)\n",
    "    y_global =y_min + tf.math.divide(y_max - y_min,2)\n",
    "    \n",
    "    \n",
    "    x_min_anchor,y_min_anchor,x_max_anchor,y_max_anchor =tf.split(which_anchor_box,4,axis=1)\n",
    "    \n",
    "    width_anchor = x_max_anchor-x_min_anchor\n",
    "    height_anchor = y_max_anchor-y_min_anchor\n",
    "    x_global_anchor =x_min_anchor + tf.math.divide(x_max_anchor - x_min_anchor,2)\n",
    "    y_global_anchor =y_min_anchor + tf.math.divide(y_max_anchor - y_min_anchor,2)   \n",
    "\n",
    "    \n",
    "    #print(\"el x original\",x_global)\n",
    "    #print(\"el y original\",y_global)\n",
    "    #print(\"el w original\",width)\n",
    "    #print(\"el h original\",height)\n",
    "    \n",
    "    #porción de la imagen que hay en cada celda\n",
    "    pixel_per_grid = tf.math.divide(1.,grid_size)\n",
    "    #print(pixel_per_grid)\n",
    "    \n",
    "    #Obtenemos la coordenada de la celda donde están los boundingboxes\n",
    "    offset_grid_x = x_global//pixel_per_grid\n",
    "    offset_grid_y = y_global//pixel_per_grid\n",
    "    \n",
    "    #Obtenemos el el centro locacon referencia  al celda encontrada previamente\n",
    "    x_local =tf.math.floormod(x_global,pixel_per_grid)\n",
    "    y_local =tf.math.floormod(y_global,pixel_per_grid)\n",
    "    #print(x_local,y_local)\n",
    "    \n",
    "    #Valores tx e ty del groudtruth\n",
    "    tx = tf.math.log(x_local + 1e-07/(1-x_local))\n",
    "    ty = tf.math.log(y_local+1e-07/(1-y_local))\n",
    "    tw = tf.math.log(tf.math.divide(width+1e-07,width_anchor))\n",
    "    th = tf.math.log(tf.math.divide(height+1e-07,height_anchor))\n",
    "    tobj_mask = tf.ones_like(tx)\n",
    "    tobj = tf.concat([tobj_mask,tobj_mask],axis=0)\n",
    "    \n",
    "    #tnoobj = tf.zeros_like(tx)    \n",
    "    #tobj = tf.ones((grid_size*grid_size*num_anchors,1))\n",
    "    #tnoobj = tf.zeros((grid_size*grid_size*num_anchors,1))\n",
    "    #print(\"Lo que la red debe predecir\",tx.numpy(),ty.numpy(),tw.numpy(),th.numpy())\n",
    "    #x_global = (offset_grid_x * pixel_per_grid) + tf.math.sigmoid(tx)\n",
    "    #y_global = (offset_grid_y * pixel_per_grid) + tf.math.sigmoid(ty)\n",
    "    #w = width_anchor*tf.math.exp(tw)\n",
    "    #h = height_anchor*tf.math.exp(th)\n",
    "    #print(\"obtnemos el x_real\",x_global)\n",
    "    #print(\"obtenemos el y_real\",y_global)\n",
    "    #print(\"obtenemos el w real\",w)\n",
    "    #print(\"obtenemos el h real\",h)\n",
    "    \n",
    "    #anchor_boxes_per_output = num_anchors//2\n",
    "\n",
    "    #Residuo indica cual de los 3 anchor boxes de la coordenada es la que llevara el 1\n",
    "    #Coord representa la coordenada del grid\n",
    "    \n",
    "    residuo = tf.math.floormod(which_anchor_box_index,num_anchors)[:,tf.newaxis]\n",
    "    coord = tf.cast(num_anchors*(offset_grid_y*grid_size + offset_grid_x),dtype=tf.int64)\n",
    "    \n",
    "    coord_objectness = tf.cast(2*(offset_grid_y*grid_size + offset_grid_x),dtype=tf.int64)\n",
    "    coord_objectness2 = coord_objectness+1\n",
    "    coord_objectess_global = tf.concat([coord_objectness,coord_objectness2],axis=0)\n",
    "    \n",
    "    output_position = residuo+coord\n",
    "    print(\"tipo de aoutput_positivon\",output_position)\n",
    "    \n",
    "    print(output_position)\n",
    "    \n",
    "    dense_shape = grid_size*grid_size*num_anchors\n",
    "    print(dense_shape)\n",
    "    tx_vector = tf.sparse.reorder(tf.sparse.SparseTensor(indices=output_position, values=tx[:,0], dense_shape=[dense_shape]))\n",
    "    ty_vector = tf.sparse.reorder(tf.sparse.SparseTensor(indices=output_position, values=ty[:,0], dense_shape=[dense_shape]))\n",
    "    tw_vector = tf.sparse.reorder(tf.sparse.SparseTensor(indices=output_position, values=tw[:,0], dense_shape=[dense_shape]))\n",
    "    th_vector = tf.sparse.reorder(tf.sparse.SparseTensor(indices=output_position, values=th[:,0], dense_shape=[dense_shape]))\n",
    "    obj_mask = tf.sparse.reorder(tf.sparse.SparseTensor(indices=output_position, values=tobj_mask[:,0], dense_shape=[dense_shape]))\n",
    "    objectness_vector = tf.sparse.reorder(tf.sparse.SparseTensor(indices=coord_objectess_global, values=tobj[:,0], dense_shape=[dense_shape]))\n",
    "    #noobj_mask = tf.sparse.reorder(tf.sparse.SparseTensor(indices=output_position, values=tnoobj[:,0], dense_shape=[dense_shape]))\n",
    "    #obj_mask =tx_vector=ty_vector=tw_vector=th_vector = tf.zeros((1,grid_size*grid_size*num_anchors))\n",
    "    \n",
    "    tx_vector_dense = tf.sparse.to_dense(tx_vector, default_value=0, validate_indices=False, name=\"Dense_tx\")\n",
    "    ty_vector_dense = tf.sparse.to_dense(ty_vector, default_value=0, validate_indices=False, name=\"Dense_ty\")\n",
    "    tw_vector_dense = tf.sparse.to_dense(tw_vector, default_value=0, validate_indices=False, name=\"Dense_tw\")\n",
    "    th_vector_dense = tf.sparse.to_dense(th_vector, default_value=0, validate_indices=False, name=\"Dense_th\")\n",
    "    obj_mask_dense =  tf.sparse.to_dense(obj_mask, default_value=0, validate_indices=False, name=\"Dense_obj\")\n",
    "    #noobj_mask_dense = 1-obj_mask_dense\n",
    "    objectness_vector_dense =  tf.sparse.to_dense(objectness_vector, default_value=0, validate_indices=False)\n",
    "    \n",
    "    #noobj_mask_dense= tf.sparse.to_dense(noobj_mask, default_value=1, validate_indices=False, name=\"Dense_noobj\")\n",
    "    ##print(tx_vector.to_dense)\n",
    "    #print(tf.sparse.to_dense(tx_vector, default_value=0, validate_indices=True, name=None)\n",
    "    #tx_vector=tx_vector[[3,2],]\n",
    "    #tx_vector[output_position[:,0]] = tx\n",
    "    #print(\"coordenada de la salida:\",output_position)\n",
    "    \n",
    "    #return ((tx_vector_dense,ty_vector_dense,obj_mask_dense),(tw_vector_dense,th_vector_dense,obj_mask_dense),(objectness),(objectness))\n",
    "    \n",
    "    return tx_vector_dense,ty_vector_dense,tw_vector_dense,th_vector_dense,obj_mask_dense,objectness_vector_dense\n",
    "\n",
    "def build_targets(image,image_bboxes,num_real_boxes,anchor_boxes):\n",
    "    \n",
    "    images_bboxes_original = image_bboxes\n",
    "    #Obtenemos los boduing boxes que son reales\n",
    "    image_bboxes = image_bboxes[:num_real_boxes,:]\n",
    "    #print(\"Bouding boxes de la imagen\",image_bboxes)\n",
    "    #Obteneos  la matriz de IoU , y el índice del anchor box que dió mejor resultado\n",
    "    \n",
    "    #Nprmalizamos con respecto al tamaño de la imagen y obtenemos la Iou con los anchor boxes\n",
    "    image_bboxes = tf.math.divide(image_bboxes,416)\n",
    "    iou_matrix,which_anchor_box_index = get_iou_matrix_tf(image_bboxes,anchor_boxes)\n",
    "    \n",
    "    print(which_anchor_box_index)\n",
    "\n",
    "    anchor_boxes_per_output = len(anchor_boxes)//2\n",
    "    #Indices de los bouding boxes que irian en cada salida, index_best_ yolo nos dice que bouding boxes de la imagen van a la salida YOLO1,\n",
    "    #porque su mejor IoU fue con los len(anchor_boxes)//2 anchor boxes mas grandes\n",
    "    index_best_yolo1 = tf.where(which_anchor_box_index>=anchor_boxes_per_output)[:,0]\n",
    "    index_best_yolo2 = tf.where(which_anchor_box_index<anchor_boxes_per_output)[:,0]\n",
    "    index_best_anchor_yolo1 = tf.gather(which_anchor_box_index,index_best_yolo1,axis=0)\n",
    "    index_best_anchor_yolo2 = tf.gather(which_anchor_box_index,index_best_yolo2,axis=0)\n",
    "    \n",
    "    print(index_best_yolo1)\n",
    "    print(index_best_anchor_yolo1)\n",
    "\n",
    "    print(index_best_yolo2)\n",
    "    print(index_best_anchor_yolo2)\n",
    "\n",
    "    \n",
    "    best_bboxes_yolo1 = tf.gather(image_bboxes,index_best_yolo1,axis =0)\n",
    "    best_anchors_yolo1 = tf.gather(anchor_boxes,index_best_anchor_yolo1, axis =0) #LOs dos anchor boxes grandes corrsponden a YOLO1\n",
    "    best_bboxes_yolo2 = tf.gather(image_bboxes,index_best_yolo2,axis =0)\n",
    "    best_anchors_yolo2 = tf.gather(anchor_boxes,index_best_anchor_yolo2, axis =0) #Los dos anchor boxes pequeños corresponden a YOLO2\n",
    "    \n",
    "    \n",
    "    if best_anchors_yolo1.shape[0] !=0:\n",
    "        tx_vector_yolo1,ty_vector_yolo1,tw_vector_yolo1,th_vector_yolo1,obj_mask_yolo1,obj_vector_yolo1= fill_yolo_output(best_bboxes_yolo1,13,anchor_boxes_per_output,best_anchors_yolo1,index_best_anchor_yolo1)\n",
    "    else:\n",
    "        tx_vector_yolo1=ty_vector_yolo1=tw_vector_yolo1=th_vector_yolo1=obj_mask_yolo1= obj_vector_yolo1=tf.zeros((1,grid_size*grid_size*num_anchors))\n",
    "        #noobj_mask_yolo1 = tf.ones((1,13*13*num_anchors))\n",
    "    \n",
    "    if best_anchors_yolo2.shape[0] != 0:\n",
    "        tx_vector_yolo2,ty_vector_yolo2,tw_vector_yolo2,th_vector_yolo2,obj_mask_yolo2,obj_vector_yolo2 = fill_yolo_output(best_bboxes_yolo2,26,anchor_boxes_per_output,best_anchors_yolo2,index_best_anchor_yolo2)\n",
    "    else:\n",
    "        tx_vector_yolo2=ty_vector_yolo2=tw_vector_yolo2=th_vector_yolo2=obj_mask_yolo2 = obj_vector_yolo2=tf.zeros((1,grid_size*grid_size*num_anchors))\n",
    "        #noobj_mask_yolo2 = tf.ones((1,26*26*num_anchors))\n",
    "        \n",
    "    tx_vector = tf.concat([tx_vector_yolo1,tx_vector_yolo2],axis=0)[:,tf.newaxis]\n",
    "    ty_vector = tf.concat([ty_vector_yolo1,ty_vector_yolo2],axis=0)[:,tf.newaxis]\n",
    "    tw_vector = tf.concat([tw_vector_yolo1,tw_vector_yolo2],axis=0)[:,tf.newaxis]\n",
    "    th_vector = tf.concat([th_vector_yolo1,th_vector_yolo2],axis=0)[:,tf.newaxis]\n",
    "    obj_mask = tf.concat([obj_mask_yolo1,obj_mask_yolo2],axis=0)[:,tf.newaxis]\n",
    "    #noobj_mask = tf.concat([noobj_mask_yolo1,noobj_mask_yolo2],axis=0)[:,tf.newaxis]\n",
    "    obj_vector = tf.concat([obj_vector_yolo1,obj_vector_yolo2],axis=0)[:,tf.newaxis]\n",
    "    \n",
    "    #output = tf.concat([tx_vector,ty_vector,tw_vector,th_vector,obj_mask,noobj_mask,obj_vector],axis=1)\n",
    "    #images_bboxes_original\n",
    "    #return image,output\n",
    "    #Vamos a regresar obj mask que es 1 cuando hay objeto en grid y el anchor box especifico\n",
    "    return tf.cast(image,tf.float32)/255,(tf.concat([tx_vector,ty_vector,obj_mask],axis=1),tf.concat([tw_vector,th_vector,obj_mask],axis=1),(obj_mask),(obj_mask))\n",
    "\n",
    "def imgaug_data_augmentation(image,bboxes,num_real_boxes):\n",
    "    im_shape = image.shape\n",
    "    bbs = BoundingBoxesOnImage.from_xyxy_array(bboxes*416, shape=(416,416))\n",
    "    \n",
    "    policy = np.random.randint(5)\n",
    "    \n",
    "    #policy = 2\n",
    "    if policy == 0:\n",
    "        \n",
    "        p = np.random.random()\n",
    "        if p<=0.6:\n",
    "            aug = iaa.TranslateX(px=(-60, 60),cval=128)\n",
    "            image, bbs = aug(image=image, bounding_boxes=bbs)\n",
    "            #bbs.remove_out_of_image().clip_out_of_image()\n",
    "    \n",
    "        p = np.random.random()\n",
    "        if p<=0.8:\n",
    "            aug = iaa.HistogramEqualization()\n",
    "            image, bbs = aug(image=image, bounding_boxes=bbs)\n",
    "            #bbs.remove_out_of_image().clip_out_of_image()\n",
    "    \n",
    "    elif policy==1:\n",
    "        \n",
    "        p=np.random.random()\n",
    "        if p<=0.2:\n",
    "            aug = iaa.TranslateY(px=(int(-0.18*416), int(0.18*416)),cval=128)\n",
    "            for i in bbs.to_xyxy_array(np.int32)[:num_real_boxes,:]:\n",
    "                bbox = image[i[1]:i[3],i[0]:i[2]]\n",
    "                bbox_augmented = aug(image=bbox)\n",
    "                image[i[1]:i[3],i[0]:i[2]] = bbox_augmented\n",
    "        \n",
    "        p=np.random.random()\n",
    "        if p<=0.8:\n",
    "            square_size = np.random.randint(48)\n",
    "            aug = iaa.Cutout(nb_iterations=1, size=square_size/416, squared=True)\n",
    "            image, bbs = aug(image=image, bounding_boxes=bbs)\n",
    "            #bbs.remove_out_of_image().clip_out_of_image()\n",
    "            \n",
    "    elif policy==2:\n",
    "        p=np.random.random()\n",
    "        if p<=1:\n",
    "            aug = iaa.ShearY(shear=(int(-0.06*416), int(0.06*416)), order=1, cval=128)\n",
    "            image, bbs = aug(image=image, bounding_boxes=bbs)\n",
    "            #bbs.remove_out_of_image().clip_out_of_image()\n",
    "            \n",
    "        p=np.random.random()\n",
    "        if p<=0.6:\n",
    "            aug = iaa.TranslateY(px=(int(-0.18*416), int(0.18*416)),cval=128)\n",
    "            for i in bbs.to_xyxy_array(np.int32)[:num_real_boxes,:]:\n",
    "                bbox = image[i[1]:i[3],i[0]:i[2]]\n",
    "                bbox_augmented = aug(image=bbox)\n",
    "                image[i[1]:i[3],i[0]:i[2]] = bbox_augmented\n",
    "            \n",
    "    elif policy==3:\n",
    "        p=np.random.random()\n",
    "        if p<=0.6:    \n",
    "            aug = iaa.Rotate(rotate=(-30, 30), order=1, cval=128)\n",
    "            image, bbs = aug(image=image, bounding_boxes=bbs)\n",
    "            #bbs_aug.remove_out_of_image().clip_out_of_image()\n",
    "        \n",
    "        p=np.random.random()\n",
    "        if p<=1:\n",
    "            aug = iaa.MultiplySaturation((0.54, 1.54))\n",
    "            image, bbs = aug(image=image, bounding_boxes=bbs)\n",
    "            #bbs.remove_out_of_image().clip_out_of_image()\n",
    "            \n",
    "    bbs.remove_out_of_image()\n",
    "    \n",
    "    return image,np.clip(bbs.to_xyxy_array(np.float32),1,415),num_real_boxes\n",
    "    \n",
    "    \n",
    "def preprocessing(example_proto):\n",
    "    image_features = tf.io.parse_single_example(example_proto, image_feature_description)\n",
    "    image = tf.image.decode_jpeg(image_features['image_raw'],channels = 3)\n",
    "    image = tf.cast(tf.image.resize(image,size=(416,416)), tf.uint8)\n",
    "    bboxes =  tf.io.parse_tensor(image_features['bboxes'], out_type=tf.float32)\n",
    "    \n",
    "    num_real_boxes = image_features['num_real_boxes']\n",
    "    return image,bboxes,num_real_boxes\n",
    "\n",
    "def preprocessing_validation_set(example_proto):\n",
    "    image_features = tf.io.parse_single_example(example_proto, image_feature_description)\n",
    "    image = tf.image.decode_jpeg(image_features['image_raw'],channels = 3)\n",
    "    image = tf.cast(tf.image.resize(image,size=(416,416)), tf.uint8)\n",
    "    bboxes =  tf.io.parse_tensor(image_features['bboxes'], out_type=tf.float32)\n",
    "    bboxes = tf.clip_by_value(bboxes*416,1,415)\n",
    "    \n",
    "    num_real_boxes = image_features['num_real_boxes']\n",
    "    return image,bboxes,tf.cast(num_real_boxes,tf.int64)\n",
    "    \n",
    "@tf.function(input_signature=[tf.TensorSpec((416,416,3), tf.uint8),tf.TensorSpec((None,4), tf.float32),tf.TensorSpec((), tf.int64)]) \n",
    "def tf_numpy_albumentations_real(image,bboxes,num_real_boxes):\n",
    "    \n",
    "    boxes_shape = bboxes.shape\n",
    "    im_shape = image.shape\n",
    "\n",
    "    image,bboxes,num_real_boxes = tf.numpy_function(imgaug_data_augmentation,[image,bboxes,num_real_boxes],Tout =[tf.uint8,tf.float32,tf.int64])\n",
    " \n",
    "    image.set_shape(im_shape)\n",
    "    bboxes.set_shape(boxes_shape)\n",
    "    print(\"Imagen data type\",image.dtype)\n",
    "    print(\"Bboxes data type\",bboxes.dtype)\n",
    "    print(\"num_real_boxes\",num_real_boxes.dtype)\n",
    "\n",
    "    return image,bboxes,num_real_boxes"
   ]
  },
  {
   "cell_type": "code",
   "execution_count": 4,
   "metadata": {},
   "outputs": [
    {
     "name": "stdout",
     "output_type": "stream",
     "text": [
      "Imagen data type <dtype: 'uint8'>\n",
      "Bboxes data type <dtype: 'float32'>\n",
      "num_real_boxes <dtype: 'int64'>\n",
      "Tensor(\"ArgMax:0\", shape=(None,), dtype=int64)\n",
      "Tensor(\"strided_slice_2:0\", shape=(None,), dtype=int64)\n",
      "Tensor(\"GatherV2:0\", shape=(None,), dtype=int64)\n",
      "Tensor(\"strided_slice_3:0\", shape=(None,), dtype=int64)\n",
      "Tensor(\"GatherV2_1:0\", shape=(None,), dtype=int64)\n",
      "tipo de aoutput_positivon Tensor(\"add_18:0\", shape=(None, 1), dtype=int64)\n",
      "Tensor(\"add_18:0\", shape=(None, 1), dtype=int64)\n",
      "507\n",
      "tipo de aoutput_positivon Tensor(\"add_30:0\", shape=(None, 1), dtype=int64)\n",
      "Tensor(\"add_30:0\", shape=(None, 1), dtype=int64)\n",
      "2028\n",
      "Tensor(\"ArgMax:0\", dtype=int64)\n",
      "Tensor(\"strided_slice_2:0\", shape=(None,), dtype=int64)\n",
      "Tensor(\"GatherV2:0\", dtype=int64)\n",
      "Tensor(\"strided_slice_3:0\", shape=(None,), dtype=int64)\n",
      "Tensor(\"GatherV2_1:0\", dtype=int64)\n",
      "tipo de aoutput_positivon Tensor(\"add_18:0\", dtype=int64)\n",
      "Tensor(\"add_18:0\", dtype=int64)\n",
      "507\n",
      "tipo de aoutput_positivon Tensor(\"add_30:0\", dtype=int64)\n",
      "Tensor(\"add_30:0\", dtype=int64)\n",
      "2028\n"
     ]
    }
   ],
   "source": [
    "#USANDO TF.IMAGE MODULE\n",
    "#anchors =tf.constant(np.array([[0,0,0.015,0.037],[0,0,0.043,0.104],[0,0,0.11,0.278],[0,0,0.351,0.66]]),dtype=tf.float32)\n",
    "#anchors =tf.constant(np.array([[0,0,0.026,0.062],[0,0,0.067,0.183],[0,0,0.128,0.323],[0,0,0.343,0.650]]),dtype=tf.float32)\n",
    "anchors =tf.constant(np.array([[0,0,0.02078,0.049],[0,0,0.0426,0.128],[0,0,0.08523,0.19356],[0,0,0.1506,0.4163],[0,0,0.27835,0.58651],[0,0,0.5632,0.78614]]),dtype=tf.float32)\n",
    "\n",
    "os.chdir(\"/home/sergio/Documents/pedestrian_dataset_train_tfr\")\n",
    "filenames = os. listdir()\n",
    "raw_image_dataset = tf.data.TFRecordDataset(filenames)\n",
    "\n",
    "os.chdir(\"/home/sergio/Documents/pedestrian_dataset_val_tfr\")\n",
    "filenames = os. listdir()\n",
    "raw_image_dataset_val =tf.data.TFRecordDataset(filenames)\n",
    "\n",
    "os.chdir(\"/home/sergio/Documents/pedestrian_dataset_train_tfr\")\n",
    "#.shuffle(70000)\n",
    "train_dataset = raw_image_dataset.map(preprocessing,num_parallel_calls=8)\n",
    "train_dataset = train_dataset.map(tf_numpy_albumentations_real,num_parallel_calls=8)\n",
    "train_dataset = train_dataset.map(lambda x,y,z:build_targets(x,y,z,anchors),num_parallel_calls=8)\n",
    "train_dataset = train_dataset.batch(16)\n",
    "\n",
    "val_dataset = raw_image_dataset_val.map(preprocessing_validation_set,num_parallel_calls=8)\n",
    "val_dataset = val_dataset.map(lambda x,y,z:build_targets(x,y,z,anchors),num_parallel_calls=8)\n",
    "val_dataset = val_dataset.batch(16)"
   ]
  },
  {
   "cell_type": "code",
   "execution_count": null,
   "metadata": {},
   "outputs": [],
   "source": []
  },
  {
   "cell_type": "markdown",
   "metadata": {},
   "source": [
    "### Loss Function"
   ]
  },
  {
   "cell_type": "code",
   "execution_count": 5,
   "metadata": {},
   "outputs": [
    {
     "data": {
      "text/plain": [
       "'\\ndef loss_bce_objectness(y_true,y_pred):\\n    #bce = BinaryCrossentropy(reduction=tf.keras.losses.Reduction.NONE)\\n    #tw_true,th_true,obj_mask = tf.split(y_true, [1,1,1], axis=-1)\\n    #tw_pred,th_pred = tf.split(y_pred, [1,1], axis=-1)   \\n    \\n    loss_obj =tf.reduce_mean(tf.reduce_sum( y_true*tf.math.log(y_pred+1e-7)[:,tf.newaxis],axis=1))\\n    \\n    return loss_obj\\n\\ndef loss_bce_no_objectness(y_true,y_pred):\\n    #bce = BinaryCrossentropy(reduction=tf.keras.losses.Reduction.NONE)\\n    loss_noobj =tf.reduce_mean(tf.reduce_sum((1-y_true)*tf.math.log(1-y_pred+1e-7)[:,tf.newaxis],axis=1))\\n    \\n    return loss_noobj\\n'"
      ]
     },
     "execution_count": 5,
     "metadata": {},
     "output_type": "execute_result"
    }
   ],
   "source": [
    "from tensorflow.keras.losses import Loss,BinaryCrossentropy,MeanSquaredError,MeanSquaredLogarithmicError\n",
    "'''\n",
    "def loss_xy(y_true,y_pred):\n",
    "    \n",
    "    mse = MeanSquaredError(reduction=tf.keras.losses.Reduction.NONE)\n",
    "    \n",
    "    tx_true,ty_true,obj_mask = tf.split(y_true, [1,1,1], axis=-1)\n",
    "    tx_pred,ty_pred = tf.split(y_pred, [1,1], axis=-1)\n",
    "    \n",
    "    loss_x = tf.reduce_mean(tf.reduce_sum(obj_mask*(mse(tx_true,tx_pred)[:,:,tf.newaxis]),axis=1))\n",
    "    loss_y = tf.reduce_mean(tf.reduce_sum(obj_mask*(mse(ty_true,ty_pred)[:,:,tf.newaxis]),axis=1))\n",
    "\n",
    "    return loss_x+loss_y\n",
    "\n",
    "def loss_wh(y_true,y_pred):\n",
    "    \n",
    "    mse = MeanSquaredError(reduction=tf.keras.losses.Reduction.NONE)\n",
    "    \n",
    "    tw_true,th_true,obj_mask = tf.split(y_true, [1,1,1], axis=-1)\n",
    "    tw_pred,th_pred = tf.split(y_pred, [1,1], axis=-1)\n",
    "    \n",
    "    loss_w = tf.reduce_mean(tf.reduce_sum(obj_mask*(mse(tw_true,tw_pred)[:,:,tf.newaxis]),axis=1))\n",
    "    loss_h = tf.reduce_mean(tf.reduce_sum(obj_mask*(mse(th_true,th_pred)[:,:,tf.newaxis]),axis=1))\n",
    "\n",
    "\n",
    "    return loss_w+loss_h\n",
    "\n",
    "\n",
    "def loss_xy(y_true,y_pred):\n",
    "    \n",
    "    msle = MeanSquaredLogarithmicError(reduction=tf.keras.losses.Reduction.NONE)\n",
    "\n",
    "    tx_true,ty_true,obj_mask = tf.split(y_true, [1,1,1], axis=-1)\n",
    "    tx_pred,ty_pred = tf.split(y_pred, [1,1], axis=-1)\n",
    "    \n",
    "    #print(tf.math.square(tx_true-tx_pred))  \n",
    "    \n",
    "    loss_x = tf.reduce_mean(tf.reduce_sum(obj_mask*(msle(tx_true,tx_pred)[:,:,tf.newaxis]),axis=1))\n",
    "    loss_y = tf.reduce_mean(tf.reduce_sum(obj_mask*(msle(ty_true,ty_pred)[:,:,tf.newaxis]),axis=1))\n",
    "\n",
    "    return loss_x+loss_y\n",
    "\n",
    "def loss_wh(y_true,y_pred):\n",
    "\n",
    "    msle = MeanSquaredLogarithmicError(reduction=tf.keras.losses.Reduction.NONE)\n",
    "    \n",
    "    tw_true,th_true,obj_mask = tf.split(y_true, [1,1,1], axis=-1)\n",
    "    tw_pred,th_pred = tf.split(y_pred, [1,1], axis=-1)\n",
    "    \n",
    "    #print(tf.math.square(tw_true-tw_pred))\n",
    "\n",
    "    \n",
    "    loss_w = tf.reduce_mean(tf.reduce_sum(obj_mask*(msle(tw_true,tw_pred)[:,:,tf.newaxis]),axis=1))\n",
    "    loss_h = tf.reduce_mean(tf.reduce_sum(obj_mask*(msle(th_true,th_pred)[:,:,tf.newaxis]),axis=1))\n",
    "\n",
    "\n",
    "    return loss_w+loss_h\n",
    "'''\n",
    "\n",
    "def loss_xy(y_true,y_pred):\n",
    "    \n",
    "    msle = MeanSquaredLogarithmicError(reduction=tf.keras.losses.Reduction.NONE)\n",
    "\n",
    "    tx_true,ty_true,obj_mask = tf.split(y_true, [1,1,1], axis=-1)\n",
    "    tx_pred,ty_pred = tf.split(y_pred, [1,1], axis=-1)\n",
    "    \n",
    "    #print(tf.math.square(tx_true-tx_pred))  \n",
    "    \n",
    "    loss_x = tf.reduce_mean(tf.reduce_sum(obj_mask*(msle(tx_true,tx_pred)[:,:,tf.newaxis]),axis=1))\n",
    "    loss_y = tf.reduce_mean(tf.reduce_sum(obj_mask*(msle(ty_true,ty_pred)[:,:,tf.newaxis]),axis=1))\n",
    "\n",
    "    return loss_x+loss_y\n",
    "\n",
    "def loss_wh(y_true,y_pred):\n",
    "\n",
    "    mse = MeanSquaredError(reduction=tf.keras.losses.Reduction.NONE)\n",
    "    \n",
    "    tw_true,th_true,obj_mask = tf.split(y_true, [1,1,1], axis=-1)\n",
    "    tw_pred,th_pred = tf.split(y_pred, [1,1], axis=-1)\n",
    "    \n",
    "    #print(tf.math.square(tw_true-tw_pred))\n",
    "\n",
    "    \n",
    "    loss_w = tf.reduce_mean(tf.reduce_sum(obj_mask*(mse(tf.math.exp(tw_true),tf.math.exp(tw_pred))[:,:,tf.newaxis]),axis=1))\n",
    "    loss_h = tf.reduce_mean(tf.reduce_sum(obj_mask*(mse(tf.math.exp(th_true),tf.math.exp(th_pred))[:,:,tf.newaxis]),axis=1))\n",
    "\n",
    "\n",
    "    return loss_w+loss_h\n",
    "\n",
    "\n",
    "def loss_objectness(y_true,y_pred):\n",
    "    bce = BinaryCrossentropy(reduction=tf.keras.losses.Reduction.NONE)\n",
    "    \n",
    "    #tw_true,th_true,obj_mask = tf.split(y_true, [1,1,1], axis=-1)\n",
    "    #tw_pred,th_pred = tf.split(y_pred, [1,1], axis=-1)   \n",
    "    \n",
    "    loss_obj =tf.reduce_mean(tf.reduce_sum( y_true*bce(y_true,y_pred)[:,tf.newaxis],axis=1))\n",
    "    \n",
    "    return loss_obj\n",
    "\n",
    "def loss_no_objectness(y_true,y_pred):\n",
    "    bce = BinaryCrossentropy(reduction=tf.keras.losses.Reduction.NONE)\n",
    "    \n",
    "    \n",
    "    loss_noobj =tf.reduce_mean(tf.reduce_sum((1-y_true)*bce(y_true,y_pred)[:,tf.newaxis],axis=1))\n",
    "    \n",
    "    return loss_noobj\n",
    "'''\n",
    "def loss_bce_objectness(y_true,y_pred):\n",
    "    #bce = BinaryCrossentropy(reduction=tf.keras.losses.Reduction.NONE)\n",
    "    #tw_true,th_true,obj_mask = tf.split(y_true, [1,1,1], axis=-1)\n",
    "    #tw_pred,th_pred = tf.split(y_pred, [1,1], axis=-1)   \n",
    "    \n",
    "    loss_obj =tf.reduce_mean(tf.reduce_sum( y_true*tf.math.log(y_pred+1e-7)[:,tf.newaxis],axis=1))\n",
    "    \n",
    "    return loss_obj\n",
    "\n",
    "def loss_bce_no_objectness(y_true,y_pred):\n",
    "    #bce = BinaryCrossentropy(reduction=tf.keras.losses.Reduction.NONE)\n",
    "    loss_noobj =tf.reduce_mean(tf.reduce_sum((1-y_true)*tf.math.log(1-y_pred+1e-7)[:,tf.newaxis],axis=1))\n",
    "    \n",
    "    return loss_noobj\n",
    "'''"
   ]
  },
  {
   "cell_type": "markdown",
   "metadata": {},
   "source": [
    "## Training with Model.fit()"
   ]
  },
  {
   "cell_type": "code",
   "execution_count": 6,
   "metadata": {},
   "outputs": [
    {
     "name": "stdout",
     "output_type": "stream",
     "text": [
      "Modo entrenamiento\n",
      "Pesos de la convolucion (432,)\n",
      "CONV SHAPE (16, 3, 3, 3)\n",
      "Pesos de la convolucion (4608,)\n",
      "CONV SHAPE (32, 16, 3, 3)\n",
      "Pesos de la convolucion (18432,)\n",
      "CONV SHAPE (64, 32, 3, 3)\n",
      "Pesos de la convolucion (73728,)\n",
      "CONV SHAPE (128, 64, 3, 3)\n",
      "Pesos de la convolucion (294912,)\n",
      "CONV SHAPE (256, 128, 3, 3)\n",
      "Pesos de la convolucion (1179648,)\n",
      "CONV SHAPE (512, 256, 3, 3)\n",
      "Pesos de la convolucion (4718592,)\n",
      "CONV SHAPE (1024, 512, 3, 3)\n",
      "Pesos de la convolucion (262144,)\n",
      "CONV SHAPE (256, 1024, 1, 1)\n",
      "Pesos de la convolucion (1179648,)\n",
      "CONV SHAPE (512, 256, 3, 3)\n",
      "Pesos de la convolucion (130560,)\n",
      "CONV SHAPE (255, 512, 1, 1)\n",
      "Pesos de la convolucion (32768,)\n",
      "CONV SHAPE (128, 256, 1, 1)\n",
      "Pesos de la convolucion (884736,)\n",
      "CONV SHAPE (256, 384, 3, 3)\n",
      "Pesos de la convolucion (65280,)\n",
      "CONV SHAPE (255, 256, 1, 1)\n",
      "8858734\n"
     ]
    }
   ],
   "source": [
    "#anchors =tf.constant(np.array([[0.026,0.062],[0.067,0.183],[0.128,0.323],[0.343,0.650]]),dtype=tf.float32)\n",
    "anchors =tf.constant(np.array([[0,0,0.02078,0.049],[0,0,0.0426,0.128],[0,0,0.08523,0.19356],[0,0,0.1506,0.4163],[0,0,0.27835,0.58651],[0,0,0.5632,0.78614]]),dtype=tf.float32)\n",
    "\n",
    "model = TinyYOLOv3(1,anchor_boxes=anchors,train=True,mode = \"finetuning\")\n",
    "model.build(batch_input_shape=(None,416,416,3))\n",
    "print(model.load_weights_darknet(\"/home/sergio/TinyYOLOv3-Pedestrian-Detection/yolov3-tiny.weights\"))"
   ]
  },
  {
   "cell_type": "code",
   "execution_count": 7,
   "metadata": {},
   "outputs": [
    {
     "name": "stdout",
     "output_type": "stream",
     "text": [
      "BasicBlock1 True\n",
      "BasicBlock2 True\n",
      "BasicBlock3 True\n",
      "BasicBlock4 True\n",
      "BasicBlock5 True\n",
      "BasicBlock6 True\n",
      "BasicBlock7 True\n",
      "BasicBlock8 True\n",
      "BasicBlock9 True\n",
      "FinalBlock1 True\n",
      "BasicBlock11 True\n",
      "BasicBlock12 True\n",
      "FinalBlock2 True\n",
      "Concatenate True\n",
      "Upsampling True\n",
      "Prediction1 True\n",
      "Prediction2 True\n",
      "Concatenate_BBOX True\n"
     ]
    }
   ],
   "source": [
    "for l in model.layers:\n",
    "    print(l.name, l.trainable)#,l.weights[0].shape)\n",
    "    pass"
   ]
  },
  {
   "cell_type": "markdown",
   "metadata": {},
   "source": [
    "## Eager execution training (For debuging)"
   ]
  },
  {
   "cell_type": "code",
   "execution_count": 8,
   "metadata": {},
   "outputs": [],
   "source": [
    "debugging = False\n",
    "\n",
    "if debugging:\n",
    "    model = TinyYOLOv3(1,anchor_boxes=anchors,train=True)\n",
    "    model.build(batch_input_shape=(None,416,416,3))\n",
    "    model.summary()\n",
    "    model.load_weights_darknet(\"/home/sergio/TinyYOLOv3-Pedestrian-Detection/yolov3-tiny.weights\");\n",
    "    optimizer = tf.keras.optimizers.Adam()\n",
    "    #model_loss = YOLOLoss()\n",
    "\n",
    "    for epochs in range(1,2,1):\n",
    "        for (images,y_true) in train_dataset:\n",
    "            with tf.GradientTape() as tape:\n",
    "                outputs = model(images)\n",
    "                print(\"Tamaño de la etiqueta\",y_true[0].shape)\n",
    "                print(\"Salida\",outputs[0].shape)\n",
    "                loss_x_y = loss_xy(y_true[0],outputs[0])\n",
    "                loss_w_h = loss_wh(y_true[1],outputs[1])\n",
    "                loss_obj = loss_objectness(y_true[2],outputs[2])\n",
    "                loss_noobj = loss_no_objectness(y_true[3],outputs[3])\n",
    "\n",
    "                total_loss =loss_x_y+loss_w_h+loss_obj+loss_noobj\n",
    "            #print(epochs,(total_loss.numpy()))\n",
    "            grads = tape.gradient(total_loss, model.trainable_variables)\n",
    "            optimizer.apply_gradients(zip(grads, model.trainable_variables))\n",
    "\n",
    "                #logging.info(\"{}_train_{}, {}, {}\".format(\n",
    "                #    epoch, batch, total_loss.numpy()))\n",
    "                \n",
    "else:\n",
    "    pass"
   ]
  },
  {
   "cell_type": "code",
   "execution_count": 9,
   "metadata": {},
   "outputs": [],
   "source": [
    "tf.random.set_seed(0)\n",
    "\n",
    "from tensorflow.keras.metrics import TrueNegatives,TruePositives,FalseNegatives,FalsePositives,Precision,Recall\n",
    "\n",
    "opt = tf.keras.optimizers.Nadam(learning_rate=1e-4)\n",
    "\n",
    "losses = {\"output_1\": loss_xy,\n",
    "          \"output_2\": loss_wh,\n",
    "          \"output_3\":loss_objectness,\n",
    "          \"output_4\":loss_no_objectness  \n",
    "}\n",
    "\n",
    "metrics = {\"output_3\":[Precision(0.5),Recall(0.5),TrueNegatives(0.5),TruePositives(0.5),FalseNegatives(0.5),FalsePositives(0.5)]}\n",
    "model.compile(optimizer=opt, loss=losses,metrics=metrics,loss_weights=[5,5,2,1])\n",
    "os.chdir(\"/home/sergio/Documents/pedestrian_dataset_train_tfr\")"
   ]
  },
  {
   "cell_type": "markdown",
   "metadata": {},
   "source": [
    "## Batch 16, con pesos 5,5,2,1 with lr=0.0001 y usando msle para el (x,y) y usando mse de las exponenciales para (w,h)"
   ]
  },
  {
   "cell_type": "code",
   "execution_count": 10,
   "metadata": {},
   "outputs": [
    {
     "name": "stdout",
     "output_type": "stream",
     "text": [
      "Modo entrenamiento\n",
      "Epoch 1/10\n",
      "Modo entrenamiento\n",
      "Modo entrenamiento\n",
      "     19/Unknown - 7s 390ms/step - loss: 2039.2979 - output_1_loss: 0.9523 - output_2_loss: 18.8307 - output_3_loss: 1.2843 - output_4_loss: 1937.8145 - output_3_precision: 7.6342e-04 - output_3_recall: 0.5144 - output_3_true_negatives: 402372.0000 - output_3_true_positives: 250.0000 - output_3_false_negatives: 236.0000 - output_3_false_positives: 327222.0000"
     ]
    },
    {
     "name": "stderr",
     "output_type": "stream",
     "text": [
      "ERROR:root:Internal Python error in the inspect module.\n",
      "Below is the traceback from this internal error.\n",
      "\n"
     ]
    },
    {
     "name": "stdout",
     "output_type": "stream",
     "text": [
      "Traceback (most recent call last):\n",
      "  File \"/home/sergio/miniconda3/envs/tesis/lib/python3.6/site-packages/IPython/core/interactiveshell.py\", line 3331, in run_code\n",
      "    exec(code_obj, self.user_global_ns, self.user_ns)\n",
      "  File \"<ipython-input-10-a1d6d430cdd1>\", line 1, in <module>\n",
      "    history = model.fit(train_dataset, epochs=10,validation_data=val_dataset)\n",
      "  File \"/home/sergio/miniconda3/envs/tesis/lib/python3.6/site-packages/tensorflow_core/python/keras/engine/training.py\", line 819, in fit\n",
      "    use_multiprocessing=use_multiprocessing)\n",
      "  File \"/home/sergio/miniconda3/envs/tesis/lib/python3.6/site-packages/tensorflow_core/python/keras/engine/training_v2.py\", line 342, in fit\n",
      "    total_epochs=epochs)\n",
      "  File \"/home/sergio/miniconda3/envs/tesis/lib/python3.6/site-packages/tensorflow_core/python/keras/engine/training_v2.py\", line 128, in run_one_epoch\n",
      "    batch_outs = execution_function(iterator)\n",
      "  File \"/home/sergio/miniconda3/envs/tesis/lib/python3.6/site-packages/tensorflow_core/python/keras/engine/training_v2_utils.py\", line 98, in execution_function\n",
      "    distributed_function(input_fn))\n",
      "  File \"/home/sergio/miniconda3/envs/tesis/lib/python3.6/site-packages/tensorflow_core/python/eager/def_function.py\", line 568, in __call__\n",
      "    result = self._call(*args, **kwds)\n",
      "  File \"/home/sergio/miniconda3/envs/tesis/lib/python3.6/site-packages/tensorflow_core/python/eager/def_function.py\", line 599, in _call\n",
      "    return self._stateless_fn(*args, **kwds)  # pylint: disable=not-callable\n",
      "  File \"/home/sergio/miniconda3/envs/tesis/lib/python3.6/site-packages/tensorflow_core/python/eager/function.py\", line 2363, in __call__\n",
      "    return graph_function._filtered_call(args, kwargs)  # pylint: disable=protected-access\n",
      "  File \"/home/sergio/miniconda3/envs/tesis/lib/python3.6/site-packages/tensorflow_core/python/eager/function.py\", line 1611, in _filtered_call\n",
      "    self.captured_inputs)\n",
      "  File \"/home/sergio/miniconda3/envs/tesis/lib/python3.6/site-packages/tensorflow_core/python/eager/function.py\", line 1692, in _call_flat\n",
      "    ctx, args, cancellation_manager=cancellation_manager))\n",
      "  File \"/home/sergio/miniconda3/envs/tesis/lib/python3.6/site-packages/tensorflow_core/python/eager/function.py\", line 545, in call\n",
      "    ctx=ctx)\n",
      "  File \"/home/sergio/miniconda3/envs/tesis/lib/python3.6/site-packages/tensorflow_core/python/eager/execute.py\", line 61, in quick_execute\n",
      "    num_outputs)\n",
      "KeyboardInterrupt\n",
      "\n",
      "During handling of the above exception, another exception occurred:\n",
      "\n",
      "Traceback (most recent call last):\n",
      "  File \"/home/sergio/miniconda3/envs/tesis/lib/python3.6/site-packages/IPython/core/interactiveshell.py\", line 2044, in showtraceback\n",
      "    stb = value._render_traceback_()\n",
      "AttributeError: 'KeyboardInterrupt' object has no attribute '_render_traceback_'\n",
      "\n",
      "During handling of the above exception, another exception occurred:\n",
      "\n",
      "Traceback (most recent call last):\n",
      "  File \"/home/sergio/miniconda3/envs/tesis/lib/python3.6/site-packages/IPython/core/ultratb.py\", line 1148, in get_records\n",
      "    return _fixed_getinnerframes(etb, number_of_lines_of_context, tb_offset)\n",
      "  File \"/home/sergio/miniconda3/envs/tesis/lib/python3.6/site-packages/IPython/core/ultratb.py\", line 316, in wrapped\n",
      "    return f(*args, **kwargs)\n",
      "  File \"/home/sergio/miniconda3/envs/tesis/lib/python3.6/site-packages/IPython/core/ultratb.py\", line 350, in _fixed_getinnerframes\n",
      "    records = fix_frame_records_filenames(inspect.getinnerframes(etb, context))\n",
      "  File \"/home/sergio/miniconda3/envs/tesis/lib/python3.6/inspect.py\", line 1490, in getinnerframes\n",
      "    frameinfo = (tb.tb_frame,) + getframeinfo(tb, context)\n",
      "  File \"/home/sergio/miniconda3/envs/tesis/lib/python3.6/inspect.py\", line 1448, in getframeinfo\n",
      "    filename = getsourcefile(frame) or getfile(frame)\n",
      "  File \"/home/sergio/miniconda3/envs/tesis/lib/python3.6/inspect.py\", line 696, in getsourcefile\n",
      "    if getattr(getmodule(object, filename), '__loader__', None) is not None:\n",
      "  File \"/home/sergio/miniconda3/envs/tesis/lib/python3.6/inspect.py\", line 742, in getmodule\n",
      "    os.path.realpath(f)] = module.__name__\n",
      "  File \"/home/sergio/miniconda3/envs/tesis/lib/python3.6/posixpath.py\", line 396, in realpath\n",
      "    return abspath(path)\n",
      "  File \"/home/sergio/miniconda3/envs/tesis/lib/python3.6/posixpath.py\", line 385, in abspath\n",
      "    return normpath(path)\n",
      "  File \"/home/sergio/miniconda3/envs/tesis/lib/python3.6/posixpath.py\", line 362, in normpath\n",
      "    if comp in (empty, dot):\n",
      "KeyboardInterrupt\n"
     ]
    },
    {
     "ename": "KeyboardInterrupt",
     "evalue": "",
     "output_type": "error",
     "traceback": [
      "\u001b[0;31m---------------------------------------------------------------------------\u001b[0m"
     ]
    }
   ],
   "source": [
    "history = model.fit(train_dataset, epochs=10,validation_data=val_dataset)"
   ]
  },
  {
   "cell_type": "code",
   "execution_count": null,
   "metadata": {},
   "outputs": [],
   "source": []
  },
  {
   "cell_type": "code",
   "execution_count": null,
   "metadata": {},
   "outputs": [],
   "source": [
    "os.chdir(\"/home/sergio/Documents/json_experiments\")\n",
    "import json\n",
    "#json.dumps(str(a))\n",
    "with open('history_finetuning_5521_10_epoch_nadam_0dot00001_msle_exp_mse_3anchors.json', 'w') as fp:\n",
    "    json.dump(str(history.history), fp)"
   ]
  },
  {
   "cell_type": "code",
   "execution_count": null,
   "metadata": {},
   "outputs": [],
   "source": [
    "model.save_weights('/home/sergio/Documents/weights_saved/pesos_finetuning_5521_10_epoch_nadam_0dot00001_msle_exp_mse_3anchors')"
   ]
  },
  {
   "cell_type": "code",
   "execution_count": null,
   "metadata": {},
   "outputs": [],
   "source": []
  },
  {
   "cell_type": "code",
   "execution_count": null,
   "metadata": {},
   "outputs": [],
   "source": []
  },
  {
   "cell_type": "markdown",
   "metadata": {},
   "source": [
    "## CONTINUACIÓN"
   ]
  },
  {
   "cell_type": "code",
   "execution_count": 6,
   "metadata": {},
   "outputs": [
    {
     "name": "stdout",
     "output_type": "stream",
     "text": [
      "Modo entrenamiento\n"
     ]
    },
    {
     "data": {
      "text/plain": [
       "<tensorflow.python.training.tracking.util.CheckpointLoadStatus at 0x7f14f8549208>"
      ]
     },
     "execution_count": 6,
     "metadata": {},
     "output_type": "execute_result"
    }
   ],
   "source": [
    "anchors =tf.constant(np.array([[0,0,0.02078,0.049],[0,0,0.0426,0.128],[0,0,0.08523,0.19356],[0,0,0.1506,0.4163],[0,0,0.27835,0.58651],[0,0,0.5632,0.78614]]),dtype=tf.float32)\n",
    "model = TinyYOLOv3(1,anchor_boxes=anchors,train=True,mode = \"finetuning\")\n",
    "model.build(batch_input_shape=(None,416,416,3))\n",
    "#print(model.load_weights_darknet(\"/home/sergio/TinyYOLOv3-Pedestrian-Detection/yolov3-tiny.weights\"))\n",
    "model.load_weights('/home/sergio/Documents/weights_saved/pesos_finetuning_5521_10_epoch_nadam_0dot00001_msle_exp_mse_3anchors')"
   ]
  },
  {
   "cell_type": "code",
   "execution_count": 7,
   "metadata": {},
   "outputs": [
    {
     "name": "stdout",
     "output_type": "stream",
     "text": [
      "BasicBlock1 True\n",
      "BasicBlock2 True\n",
      "BasicBlock3 True\n",
      "BasicBlock4 True\n",
      "BasicBlock5 True\n",
      "BasicBlock6 True\n",
      "BasicBlock7 True\n",
      "BasicBlock8 True\n",
      "BasicBlock9 True\n",
      "FinalBlock1 True\n",
      "BasicBlock11 True\n",
      "BasicBlock12 True\n",
      "FinalBlock2 True\n",
      "Concatenate True\n",
      "Upsampling True\n",
      "Prediction1 True\n",
      "Prediction2 True\n",
      "Concatenate_BBOX True\n"
     ]
    }
   ],
   "source": [
    "for l in model.layers:\n",
    "    print(l.name, l.trainable)\n",
    "    pass"
   ]
  },
  {
   "cell_type": "code",
   "execution_count": 8,
   "metadata": {},
   "outputs": [],
   "source": [
    "tf.random.set_seed(0)\n",
    "\n",
    "from tensorflow.keras.metrics import TrueNegatives,TruePositives,FalseNegatives,FalsePositives,Precision,Recall\n",
    "\n",
    "opt = tf.keras.optimizers.Nadam(learning_rate=1e-4)\n",
    "\n",
    "losses = {\"output_1\": loss_xy,\n",
    "          \"output_2\": loss_wh,\n",
    "          \"output_3\":loss_objectness,\n",
    "          \"output_4\":loss_no_objectness  \n",
    "}\n",
    "\n",
    "metrics = {\"output_3\":[Precision(0.5),Recall(0.5),TrueNegatives(0.5),TruePositives(0.5),FalseNegatives(0.5),FalsePositives(0.5)]}\n",
    "model.compile(optimizer=opt, loss=losses,metrics=metrics,loss_weights=[5,5,2,1])\n",
    "os.chdir(\"/home/sergio/Documents/pedestrian_dataset_train_tfr\")"
   ]
  },
  {
   "cell_type": "code",
   "execution_count": 9,
   "metadata": {},
   "outputs": [
    {
     "name": "stdout",
     "output_type": "stream",
     "text": [
      "Modo entrenamiento\n",
      "Epoch 1/20\n",
      "Modo entrenamiento\n",
      "Modo entrenamiento\n",
      "   4607/Unknown - 560s 122ms/step - loss: 13.8917 - output_1_loss: 6.9915e-07 - output_2_loss: 0.4780 - output_3_loss: 0.0343 - output_4_loss: 11.4333 - output_3_precision: 0.6826 - output_3_recall: 0.1780 - output_3_true_negatives: 186531824.0000 - output_3_true_positives: 48121.0000 - output_3_false_negatives: 222189.0000 - output_3_false_positives: 22377.0000Modo entrenamiento\n",
      "4607/4607 [==============================] - 568s 123ms/step - loss: 13.8917 - output_1_loss: 6.9915e-07 - output_2_loss: 0.4780 - output_3_loss: 0.0343 - output_4_loss: 11.4333 - output_3_precision: 0.6826 - output_3_recall: 0.1780 - output_3_true_negatives: 186531824.0000 - output_3_true_positives: 48121.0000 - output_3_false_negatives: 222189.0000 - output_3_false_positives: 22377.0000 - val_loss: 12.3160 - val_output_1_loss: 0.0000e+00 - val_output_2_loss: 0.3503 - val_output_3_loss: 0.0328 - val_output_4_loss: 10.4988 - val_output_3_precision: 0.7526 - val_output_3_recall: 0.2316 - val_output_3_true_negatives: 7592276.0000 - val_output_3_true_positives: 2738.0000 - val_output_3_false_negatives: 9086.0000 - val_output_3_false_positives: 900.0000\n",
      "Epoch 2/20\n",
      "4607/4607 [==============================] - 580s 126ms/step - loss: 13.5945 - output_1_loss: 6.3324e-07 - output_2_loss: 0.4596 - output_3_loss: 0.0338 - output_4_loss: 11.2291 - output_3_precision: 0.6867 - output_3_recall: 0.1920 - output_3_true_negatives: 186530528.0000 - output_3_true_positives: 51864.0000 - output_3_false_negatives: 218327.0000 - output_3_false_positives: 23662.0000 - val_loss: 11.9653 - val_output_1_loss: 0.0000e+00 - val_output_2_loss: 0.3470 - val_output_3_loss: 0.0319 - val_output_4_loss: 10.1666 - val_output_3_precision: 0.7574 - val_output_3_recall: 0.2606 - val_output_3_true_negatives: 7592189.0000 - val_output_3_true_positives: 3081.0000 - val_output_3_false_negatives: 8743.0000 - val_output_3_false_positives: 987.0000\n",
      "Epoch 3/20\n",
      "4607/4607 [==============================] - 605s 131ms/step - loss: 13.2567 - output_1_loss: 3.1112e-05 - output_2_loss: 0.4317 - output_3_loss: 0.0333 - output_4_loss: 11.0312 - output_3_precision: 0.6934 - output_3_recall: 0.2022 - output_3_true_negatives: 186530032.0000 - output_3_true_positives: 54657.0000 - output_3_false_negatives: 215651.0000 - output_3_false_positives: 24164.0000 - val_loss: 11.6126 - val_output_1_loss: 0.0000e+00 - val_output_2_loss: 0.3355 - val_output_3_loss: 0.0312 - val_output_4_loss: 9.8729 - val_output_3_precision: 0.7602 - val_output_3_recall: 0.2818 - val_output_3_true_negatives: 7592125.0000 - val_output_3_true_positives: 3332.0000 - val_output_3_false_negatives: 8492.0000 - val_output_3_false_positives: 1051.0000\n",
      "Epoch 4/20\n",
      "4607/4607 [==============================] - 599s 130ms/step - loss: 13.1238 - output_1_loss: 1.9975e-05 - output_2_loss: 0.4424 - output_3_loss: 0.0328 - output_4_loss: 10.8461 - output_3_precision: 0.6968 - output_3_recall: 0.2164 - output_3_true_negatives: 186529200.0000 - output_3_true_positives: 58478.0000 - output_3_false_negatives: 211720.0000 - output_3_false_positives: 25445.0000 - val_loss: 11.2380 - val_output_1_loss: 0.0000e+00 - val_output_2_loss: 0.3203 - val_output_3_loss: 0.0303 - val_output_4_loss: 9.5758 - val_output_3_precision: 0.7672 - val_output_3_recall: 0.2985 - val_output_3_true_negatives: 7592105.0000 - val_output_3_true_positives: 3530.0000 - val_output_3_false_negatives: 8294.0000 - val_output_3_false_positives: 1071.0000\n",
      "Epoch 5/20\n",
      "4607/4607 [==============================] - 571s 124ms/step - loss: 12.7697 - output_1_loss: 8.4377e-07 - output_2_loss: 0.4156 - output_3_loss: 0.0323 - output_4_loss: 10.6271 - output_3_precision: 0.7035 - output_3_recall: 0.2284 - output_3_true_negatives: 186528176.0000 - output_3_true_positives: 61708.0000 - output_3_false_negatives: 208474.0000 - output_3_false_positives: 26007.0000 - val_loss: 10.9425 - val_output_1_loss: 0.0000e+00 - val_output_2_loss: 0.3155 - val_output_3_loss: 0.0297 - val_output_4_loss: 9.3056 - val_output_3_precision: 0.7784 - val_output_3_recall: 0.3199 - val_output_3_true_negatives: 7592099.0000 - val_output_3_true_positives: 3783.0000 - val_output_3_false_negatives: 8041.0000 - val_output_3_false_positives: 1077.0000\n",
      "Epoch 6/20\n",
      "4607/4607 [==============================] - 613s 133ms/step - loss: 12.6485 - output_1_loss: 4.7303e-06 - output_2_loss: 0.4218 - output_3_loss: 0.0319 - output_4_loss: 10.4759 - output_3_precision: 0.7100 - output_3_recall: 0.2408 - output_3_true_negatives: 186527296.0000 - output_3_true_positives: 65094.0000 - output_3_false_negatives: 205192.0000 - output_3_false_positives: 26592.0000 - val_loss: 10.7919 - val_output_1_loss: 0.0000e+00 - val_output_2_loss: 0.3121 - val_output_3_loss: 0.0293 - val_output_4_loss: 9.1729 - val_output_3_precision: 0.7836 - val_output_3_recall: 0.3176 - val_output_3_true_negatives: 7592139.0000 - val_output_3_true_positives: 3755.0000 - val_output_3_false_negatives: 8069.0000 - val_output_3_false_positives: 1037.0000\n",
      "Epoch 7/20\n",
      "4607/4607 [==============================] - 607s 132ms/step - loss: 12.8121 - output_1_loss: 2.6498e-06 - output_2_loss: 0.4740 - output_3_loss: 0.0316 - output_4_loss: 10.3786 - output_3_precision: 0.7121 - output_3_recall: 0.2482 - output_3_true_negatives: 186526912.0000 - output_3_true_positives: 67086.0000 - output_3_false_negatives: 203211.0000 - output_3_false_positives: 27120.0000 - val_loss: 11.4350 - val_output_1_loss: 3.0531e-05 - val_output_2_loss: 0.3370 - val_output_3_loss: 0.0306 - val_output_4_loss: 9.6887 - val_output_3_precision: 0.7753 - val_output_3_recall: 0.2862 - val_output_3_true_negatives: 7592195.0000 - val_output_3_true_positives: 3384.0000 - val_output_3_false_negatives: 8440.0000 - val_output_3_false_positives: 981.0000\n",
      "Epoch 8/20\n",
      "4607/4607 [==============================] - 611s 133ms/step - loss: 12.2550 - output_1_loss: 2.8836e-06 - output_2_loss: 0.4028 - output_3_loss: 0.0311 - output_4_loss: 10.1787 - output_3_precision: 0.7199 - output_3_recall: 0.2615 - output_3_true_negatives: 186526240.0000 - output_3_true_positives: 70689.0000 - output_3_false_negatives: 199588.0000 - output_3_false_positives: 27509.0000 - val_loss: 10.0251 - val_output_1_loss: 0.0000e+00 - val_output_2_loss: 0.2954 - val_output_3_loss: 0.0275 - val_output_4_loss: 8.4931 - val_output_3_precision: 0.8119 - val_output_3_recall: 0.3640 - val_output_3_true_negatives: 7592179.0000 - val_output_3_true_positives: 4304.0000 - val_output_3_false_negatives: 7520.0000 - val_output_3_false_positives: 997.0000ru\n",
      "Epoch 9/20\n",
      "4607/4607 [==============================] - 603s 131ms/step - loss: 12.0167 - output_1_loss: 3.6136e-05 - output_2_loss: 0.3981 - output_3_loss: 0.0305 - output_4_loss: 9.9650 - output_3_precision: 0.7266 - output_3_recall: 0.2770 - output_3_true_negatives: 186525872.0000 - output_3_true_positives: 74858.0000 - output_3_false_negatives: 195379.0000 - output_3_false_positives: 28160.0000 - val_loss: 9.9277 - val_output_1_loss: 1.2014e-05 - val_output_2_loss: 0.2987 - val_output_3_loss: 0.0273 - val_output_4_loss: 8.3796 - val_output_3_precision: 0.8080 - val_output_3_recall: 0.3790 - val_output_3_true_negatives: 7592111.0000 - val_output_3_true_positives: 4481.0000 - val_output_3_false_negatives: 7343.0000 - val_output_3_false_positives: 1065.0000\n",
      "Epoch 10/20\n",
      "4607/4607 [==============================] - 591s 128ms/step - loss: 11.9580 - output_1_loss: 1.3971e-06 - output_2_loss: 0.4089 - output_3_loss: 0.0302 - output_4_loss: 9.8529 - output_3_precision: 0.7278 - output_3_recall: 0.2855 - output_3_true_negatives: 186525184.0000 - output_3_true_positives: 77167.0000 - output_3_false_negatives: 193126.0000 - output_3_false_positives: 28856.0000 - val_loss: 9.7087 - val_output_1_loss: 0.0000e+00 - val_output_2_loss: 0.2963 - val_output_3_loss: 0.0267 - val_output_4_loss: 8.1740 - val_output_3_precision: 0.8111 - val_output_3_recall: 0.3900 - val_output_3_true_negatives: 7592102.0000 - val_output_3_true_positives: 4611.0000 - val_output_3_false_negatives: 7213.0000 - val_output_3_false_positives: 1074.0000\n",
      "Epoch 11/20\n",
      "4607/4607 [==============================] - 575s 125ms/step - loss: 11.7121 - output_1_loss: 2.9685e-06 - output_2_loss: 0.3881 - output_3_loss: 0.0299 - output_4_loss: 9.7120 - output_3_precision: 0.7369 - output_3_recall: 0.2972 - output_3_true_negatives: 186525632.0000 - output_3_true_positives: 80282.0000 - output_3_false_negatives: 189867.0000 - output_3_false_positives: 28658.0000 - val_loss: 9.4743 - val_output_1_loss: 0.0000e+00 - val_output_2_loss: 0.2867 - val_output_3_loss: 0.0262 - val_output_4_loss: 7.9882 - val_output_3_precision: 0.8001 - val_output_3_recall: 0.4116 - val_output_3_true_negatives: 7591960.0000 - val_output_3_true_positives: 4867.0000 - val_output_3_false_negatives: 6957.0000 - val_output_3_false_positives: 1216.0000\n",
      "Epoch 12/20\n",
      "4607/4607 [==============================] - 585s 127ms/step - loss: 11.6237 - output_1_loss: 3.2955e-06 - output_2_loss: 0.3980 - output_3_loss: 0.0295 - output_4_loss: 9.5745 - output_3_precision: 0.7399 - output_3_recall: 0.3077 - output_3_true_negatives: 186525152.0000 - output_3_true_positives: 83138.0000 - output_3_false_negatives: 187032.0000 - output_3_false_positives: 29231.0000 - val_loss: 9.3826 - val_output_1_loss: 0.0000e+00 - val_output_2_loss: 0.2867 - val_output_3_loss: 0.0258 - val_output_4_loss: 7.8974 - val_output_3_precision: 0.8351 - val_output_3_recall: 0.3931 - val_output_3_true_negatives: 7592258.0000 - val_output_3_true_positives: 4648.0000 - val_output_3_false_negatives: 7176.0000 - val_output_3_false_positives: 918.0000\n",
      "Epoch 13/20\n",
      "4607/4607 [==============================] - 593s 129ms/step - loss: 11.5259 - output_1_loss: 1.2206e-06 - output_2_loss: 0.4023 - output_3_loss: 0.0292 - output_4_loss: 9.4560 - output_3_precision: 0.7453 - output_3_recall: 0.3174 - output_3_true_negatives: 186525136.0000 - output_3_true_positives: 85767.0000 - output_3_false_negatives: 184462.0000 - output_3_false_positives: 29308.0000 - val_loss: 8.9090 - val_output_1_loss: 0.0000e+00 - val_output_2_loss: 0.2736 - val_output_3_loss: 0.0248 - val_output_4_loss: 7.4913 - val_output_3_precision: 0.8095 - val_output_3_recall: 0.4635 - val_output_3_true_negatives: 7591886.0000 - val_output_3_true_positives: 5480.0000 - val_output_3_false_negatives: 6344.0000 - val_output_3_false_positives: 1290.0000\n",
      "Epoch 14/20\n",
      "4607/4607 [==============================] - 572s 124ms/step - loss: 11.3150 - output_1_loss: 2.5384e-07 - output_2_loss: 0.3943 - output_3_loss: 0.0288 - output_4_loss: 9.2858 - output_3_precision: 0.7500 - output_3_recall: 0.3307 - output_3_true_negatives: 186524448.0000 - output_3_true_positives: 89351.0000 - output_3_false_negatives: 180839.0000 - output_3_false_positives: 29785.0000 - val_loss: 8.7705 - val_output_1_loss: 0.0000e+00 - val_output_2_loss: 0.2739 - val_output_3_loss: 0.0243 - val_output_4_loss: 7.3524 - val_output_3_precision: 0.8182 - val_output_3_recall: 0.4822 - val_output_3_true_negatives: 7591909.0000 - val_output_3_true_positives: 5702.0000 - val_output_3_false_negatives: 6122.0000 - val_output_3_false_positives: 1267.0000\n",
      "Epoch 15/20\n",
      "4607/4607 [==============================] - 590s 128ms/step - loss: 11.2016 - output_1_loss: 1.5223e-09 - output_2_loss: 0.3856 - output_3_loss: 0.0286 - output_4_loss: 9.2166 - output_3_precision: 0.7537 - output_3_recall: 0.3367 - output_3_true_negatives: 186524352.0000 - output_3_true_positives: 90989.0000 - output_3_false_negatives: 179254.0000 - output_3_false_positives: 29735.0000 - val_loss: 8.5327 - val_output_1_loss: 0.0000e+00 - val_output_2_loss: 0.2664 - val_output_3_loss: 0.0239 - val_output_4_loss: 7.1528 - val_output_3_precision: 0.8372 - val_output_3_recall: 0.4657 - val_output_3_true_negatives: 7592105.0000 - val_output_3_true_positives: 5507.0000 - val_output_3_false_negatives: 6317.0000 - val_output_3_false_positives: 1071.0000\n",
      "Epoch 16/20\n",
      "4607/4607 [==============================] - 587s 127ms/step - loss: 10.9400 - output_1_loss: 1.4686e-06 - output_2_loss: 0.3692 - output_3_loss: 0.0281 - output_4_loss: 9.0378 - output_3_precision: 0.7589 - output_3_recall: 0.3504 - output_3_true_negatives: 186524320.0000 - output_3_true_positives: 94679.0000 - output_3_false_negatives: 175496.0000 - output_3_false_positives: 30077.0000 - val_loss: 8.2405 - val_output_1_loss: 0.0000e+00 - val_output_2_loss: 0.2634 - val_output_3_loss: 0.0231 - val_output_4_loss: 6.8776 - val_output_3_precision: 0.8343 - val_output_3_recall: 0.4953 - val_output_3_true_negatives: 7592013.0000 - val_output_3_true_positives: 5856.0000 - val_output_3_false_negatives: 5968.0000 - val_output_3_false_positives: 1163.0000\n",
      "Epoch 17/20\n",
      "4607/4607 [==============================] - 581s 126ms/step - loss: 10.7239 - output_1_loss: 7.9326e-06 - output_2_loss: 0.3581 - output_3_loss: 0.0276 - output_4_loss: 8.8780 - output_3_precision: 0.7640 - output_3_recall: 0.3633 - output_3_true_negatives: 186523712.0000 - output_3_true_positives: 98196.0000 - output_3_false_negatives: 172072.0000 - output_3_false_positives: 30339.0000 - val_loss: 8.1712 - val_output_1_loss: 0.0000e+00 - val_output_2_loss: 0.2595 - val_output_3_loss: 0.0228 - val_output_4_loss: 6.8279 - val_output_3_precision: 0.8250 - val_output_3_recall: 0.5132 - val_output_3_true_negatives: 7591889.0000 - val_output_3_true_positives: 6068.0000 - val_output_3_false_negatives: 5756.0000 - val_output_3_false_positives: 1287.0000\n",
      "Epoch 18/20\n",
      "4607/4607 [==============================] - 595s 129ms/step - loss: 10.6752 - output_1_loss: 2.0456e-08 - output_2_loss: 0.3642 - output_3_loss: 0.0274 - output_4_loss: 8.7996 - output_3_precision: 0.7648 - output_3_recall: 0.3698 - output_3_true_negatives: 186523552.0000 - output_3_true_positives: 99910.0000 - output_3_false_negatives: 170298.0000 - output_3_false_positives: 30723.0000 - val_loss: 8.0264 - val_output_1_loss: 0.0000e+00 - val_output_2_loss: 0.2577 - val_output_3_loss: 0.0223 - val_output_4_loss: 6.6931 - val_output_3_precision: 0.8345 - val_output_3_recall: 0.5224 - val_output_3_true_negatives: 7591951.0000 - val_output_3_true_positives: 6177.0000 - val_output_3_false_negatives: 5647.0000 - val_output_3_false_positives: 1225.0000\n",
      "Epoch 19/20\n",
      "4607/4607 [==============================] - 588s 128ms/step - loss: 10.5771 - output_1_loss: 2.1647e-06 - output_2_loss: 0.3631 - output_3_loss: 0.0272 - output_4_loss: 8.7070 - output_3_precision: 0.7724 - output_3_recall: 0.3788 - output_3_true_negatives: 186523808.0000 - output_3_true_positives: 102371.0000 - output_3_false_negatives: 167853.0000 - output_3_false_positives: 30171.0000 - val_loss: 7.7969 - val_output_1_loss: 0.0000e+00 - val_output_2_loss: 0.2552 - val_output_3_loss: 0.0218 - val_output_4_loss: 6.4773 - val_output_3_precision: 0.8428 - val_output_3_recall: 0.5247 - val_output_3_true_negatives: 7592019.0000 - val_output_3_true_positives: 6204.0000 - val_output_3_false_negatives: 5620.0000 - val_output_3_false_positives: 1157.0000\n",
      "Epoch 20/20\n",
      "4607/4607 [==============================] - 614s 133ms/step - loss: 10.4245 - output_1_loss: 7.0374e-06 - output_2_loss: 0.3569 - output_3_loss: 0.0267 - output_4_loss: 8.5867 - output_3_precision: 0.7738 - output_3_recall: 0.3885 - output_3_true_negatives: 186523344.0000 - output_3_true_positives: 104940.0000 - output_3_false_negatives: 165207.0000 - output_3_false_positives: 30682.0000 - val_loss: 7.6658 - val_output_1_loss: 0.0000e+00 - val_output_2_loss: 0.2559 - val_output_3_loss: 0.0214 - val_output_4_loss: 6.3437 - val_output_3_precision: 0.8541 - val_output_3_recall: 0.5287 - val_output_3_true_negatives: 7592108.0000 - val_output_3_true_positives: 6251.0000 - val_output_3_false_negatives: 5573.0000 - val_output_3_false_positives: 1068.0000\n"
     ]
    }
   ],
   "source": [
    "history = model.fit(train_dataset, epochs=20,validation_data=val_dataset)"
   ]
  },
  {
   "cell_type": "code",
   "execution_count": null,
   "metadata": {},
   "outputs": [],
   "source": []
  },
  {
   "cell_type": "code",
   "execution_count": null,
   "metadata": {},
   "outputs": [],
   "source": []
  },
  {
   "cell_type": "code",
   "execution_count": 10,
   "metadata": {},
   "outputs": [],
   "source": [
    "os.chdir(\"/home/sergio/Documents/json_experiments\")\n",
    "import json\n",
    "#json.dumps(str(a))\n",
    "with open('history_finetuning_5521_10_30_epoch_nadam_0dot00001_msle_exp_mse_3anchors.json', 'w') as fp:\n",
    "    json.dump(str(history.history), fp)"
   ]
  },
  {
   "cell_type": "code",
   "execution_count": 11,
   "metadata": {},
   "outputs": [],
   "source": [
    "model.save_weights('/home/sergio/Documents/weights_saved/pesos_finetuning_5521_10_30_epoch_nadam_0dot00001_msle_exp_mse_3anchors')"
   ]
  },
  {
   "cell_type": "code",
   "execution_count": null,
   "metadata": {},
   "outputs": [],
   "source": []
  },
  {
   "cell_type": "markdown",
   "metadata": {},
   "source": [
    "## CONTINUACION OTRAS 20 EPOCAS"
   ]
  },
  {
   "cell_type": "code",
   "execution_count": 6,
   "metadata": {},
   "outputs": [
    {
     "name": "stdout",
     "output_type": "stream",
     "text": [
      "Modo entrenamiento\n"
     ]
    },
    {
     "data": {
      "text/plain": [
       "<tensorflow.python.training.tracking.util.CheckpointLoadStatus at 0x7f7aac76f710>"
      ]
     },
     "execution_count": 6,
     "metadata": {},
     "output_type": "execute_result"
    }
   ],
   "source": [
    "anchors =tf.constant(np.array([[0,0,0.02078,0.049],[0,0,0.0426,0.128],[0,0,0.08523,0.19356],[0,0,0.1506,0.4163],[0,0,0.27835,0.58651],[0,0,0.5632,0.78614]]),dtype=tf.float32)\n",
    "model = TinyYOLOv3(1,anchor_boxes=anchors,train=True,mode = \"finetuning\")\n",
    "model.build(batch_input_shape=(None,416,416,3))\n",
    "#print(model.load_weights_darknet(\"/home/sergio/TinyYOLOv3-Pedestrian-Detection/yolov3-tiny.weights\"))\n",
    "model.load_weights('/home/sergio/Documents/weights_saved/pesos_finetuning_5521_10_30_epoch_nadam_0dot00001_msle_exp_mse_3anchors')"
   ]
  },
  {
   "cell_type": "code",
   "execution_count": 7,
   "metadata": {},
   "outputs": [
    {
     "name": "stdout",
     "output_type": "stream",
     "text": [
      "BasicBlock1 True\n",
      "BasicBlock2 True\n",
      "BasicBlock3 True\n",
      "BasicBlock4 True\n",
      "BasicBlock5 True\n",
      "BasicBlock6 True\n",
      "BasicBlock7 True\n",
      "BasicBlock8 True\n",
      "BasicBlock9 True\n",
      "FinalBlock1 True\n",
      "BasicBlock11 True\n",
      "BasicBlock12 True\n",
      "FinalBlock2 True\n",
      "Concatenate True\n",
      "Upsampling True\n",
      "Prediction1 True\n",
      "Prediction2 True\n",
      "Concatenate_BBOX True\n"
     ]
    }
   ],
   "source": [
    "for l in model.layers:\n",
    "    print(l.name, l.trainable)\n",
    "    pass"
   ]
  },
  {
   "cell_type": "code",
   "execution_count": 8,
   "metadata": {},
   "outputs": [],
   "source": [
    "tf.random.set_seed(0)\n",
    "\n",
    "from tensorflow.keras.metrics import TrueNegatives,TruePositives,FalseNegatives,FalsePositives,Precision,Recall\n",
    "\n",
    "opt = tf.keras.optimizers.Nadam(learning_rate=1e-4)\n",
    "\n",
    "losses = {\"output_1\": loss_xy,\n",
    "          \"output_2\": loss_wh,\n",
    "          \"output_3\":loss_objectness,\n",
    "          \"output_4\":loss_no_objectness  \n",
    "}\n",
    "\n",
    "metrics = {\"output_3\":[Precision(0.5),Recall(0.5),TrueNegatives(0.5),TruePositives(0.5),FalseNegatives(0.5),FalsePositives(0.5)]}\n",
    "model.compile(optimizer=opt, loss=losses,metrics=metrics,loss_weights=[5,5,2,1])\n",
    "os.chdir(\"/home/sergio/Documents/pedestrian_dataset_train_tfr\")"
   ]
  },
  {
   "cell_type": "code",
   "execution_count": 9,
   "metadata": {},
   "outputs": [
    {
     "name": "stdout",
     "output_type": "stream",
     "text": [
      "Modo entrenamiento\n",
      "Epoch 1/20\n",
      "Modo entrenamiento\n",
      "Modo entrenamiento\n",
      "   4607/Unknown - 592s 129ms/step - loss: 10.3781 - output_1_loss: 7.2257e-07 - output_2_loss: 0.3678 - output_3_loss: 0.0265 - output_4_loss: 8.4859 - output_3_precision: 0.7767 - output_3_recall: 0.3950 - output_3_true_negatives: 186523216.0000 - output_3_true_positives: 106729.0000 - output_3_false_negatives: 163471.0000 - output_3_false_positives: 30690.0000Modo entrenamiento\n",
      "4607/4607 [==============================] - 600s 130ms/step - loss: 10.3781 - output_1_loss: 7.2257e-07 - output_2_loss: 0.3678 - output_3_loss: 0.0265 - output_4_loss: 8.4859 - output_3_precision: 0.7767 - output_3_recall: 0.3950 - output_3_true_negatives: 186523216.0000 - output_3_true_positives: 106729.0000 - output_3_false_negatives: 163471.0000 - output_3_false_positives: 30690.0000 - val_loss: 7.4410 - val_output_1_loss: 0.0000e+00 - val_output_2_loss: 0.2567 - val_output_3_loss: 0.0207 - val_output_4_loss: 6.1159 - val_output_3_precision: 0.8476 - val_output_3_recall: 0.5611 - val_output_3_true_negatives: 7591983.0000 - val_output_3_true_positives: 6635.0000 - val_output_3_false_negatives: 5189.0000 - val_output_3_false_positives: 1193.0000\n",
      "Epoch 2/20\n",
      "4607/4607 [==============================] - 586s 127ms/step - loss: 10.1601 - output_1_loss: 9.2531e-08 - output_2_loss: 0.3463 - output_3_loss: 0.0261 - output_4_loss: 8.3762 - output_3_precision: 0.7820 - output_3_recall: 0.4058 - output_3_true_negatives: 186523888.0000 - output_3_true_positives: 109662.0000 - output_3_false_negatives: 160552.0000 - output_3_false_positives: 30573.0000 - val_loss: 7.2605 - val_output_1_loss: 0.0000e+00 - val_output_2_loss: 0.2456 - val_output_3_loss: 0.0203 - val_output_4_loss: 5.9919 - val_output_3_precision: 0.8573 - val_output_3_recall: 0.5600 - val_output_3_true_negatives: 7592074.0000 - val_output_3_true_positives: 6621.0000 - val_output_3_false_negatives: 5203.0000 - val_output_3_false_positives: 1102.0000\n",
      "Epoch 3/20\n",
      "4607/4607 [==============================] - 584s 127ms/step - loss: 10.1787 - output_1_loss: 1.2484e-06 - output_2_loss: 0.3626 - output_3_loss: 0.0261 - output_4_loss: 8.3138 - output_3_precision: 0.7836 - output_3_recall: 0.4110 - output_3_true_negatives: 186523456.0000 - output_3_true_positives: 111083.0000 - output_3_false_negatives: 159179.0000 - output_3_false_positives: 30676.0000 - val_loss: 7.1219 - val_output_1_loss: 0.0000e+00 - val_output_2_loss: 0.2425 - val_output_3_loss: 0.0198 - val_output_4_loss: 5.8697 - val_output_3_precision: 0.8472 - val_output_3_recall: 0.5877 - val_output_3_true_negatives: 7591923.0000 - val_output_3_true_positives: 6949.0000 - val_output_3_false_negatives: 4875.0000 - val_output_3_false_positives: 1253.0000\n",
      "Epoch 4/20\n",
      "4607/4607 [==============================] - 571s 124ms/step - loss: 9.8874 - output_1_loss: 9.0484e-07 - output_2_loss: 0.3333 - output_3_loss: 0.0255 - output_4_loss: 8.1700 - output_3_precision: 0.7881 - output_3_recall: 0.4241 - output_3_true_negatives: 186523296.0000 - output_3_true_positives: 114547.0000 - output_3_false_negatives: 155569.0000 - output_3_false_positives: 30806.0000 - val_loss: 6.8551 - val_output_1_loss: 0.0000e+00 - val_output_2_loss: 0.2380 - val_output_3_loss: 0.0191 - val_output_4_loss: 5.6267 - val_output_3_precision: 0.8675 - val_output_3_recall: 0.5851 - val_output_3_true_negatives: 7592119.0000 - val_output_3_true_positives: 6918.0000 - val_output_3_false_negatives: 4906.0000 - val_output_3_false_positives: 1057.0000\n",
      "Epoch 5/20\n",
      "4607/4607 [==============================] - 557s 121ms/step - loss: 9.9253 - output_1_loss: 5.5471e-06 - output_2_loss: 0.3461 - output_3_loss: 0.0255 - output_4_loss: 8.1439 - output_3_precision: 0.7897 - output_3_recall: 0.4255 - output_3_true_negatives: 186523728.0000 - output_3_true_positives: 114974.0000 - output_3_false_negatives: 155246.0000 - output_3_false_positives: 30622.0000 - val_loss: 6.7952 - val_output_1_loss: 0.0000e+00 - val_output_2_loss: 0.2353 - val_output_3_loss: 0.0189 - val_output_4_loss: 5.5808 - val_output_3_precision: 0.8622 - val_output_3_recall: 0.5940 - val_output_3_true_negatives: 7592053.0000 - val_output_3_true_positives: 7024.0000 - val_output_3_false_negatives: 4800.0000 - val_output_3_false_positives: 1123.0000\n",
      "Epoch 6/20\n",
      "4607/4607 [==============================] - 577s 125ms/step - loss: 9.7615 - output_1_loss: 1.7606e-05 - output_2_loss: 0.3311 - output_3_loss: 0.0252 - output_4_loss: 8.0557 - output_3_precision: 0.7935 - output_3_recall: 0.4332 - output_3_true_negatives: 186523744.0000 - output_3_true_positives: 117058.0000 - output_3_false_negatives: 153146.0000 - output_3_false_positives: 30460.0000 - val_loss: 6.6510 - val_output_1_loss: 0.0000e+00 - val_output_2_loss: 0.2360 - val_output_3_loss: 0.0184 - val_output_4_loss: 5.4340 - val_output_3_precision: 0.8688 - val_output_3_recall: 0.6039 - val_output_3_true_negatives: 7592098.0000 - val_output_3_true_positives: 7140.0000 - val_output_3_false_negatives: 4684.0000 - val_output_3_false_positives: 1078.0000\n",
      "Epoch 7/20\n",
      "4607/4607 [==============================] - 580s 126ms/step - loss: 9.7016 - output_1_loss: 3.3781e-06 - output_2_loss: 0.3366 - output_3_loss: 0.0250 - output_4_loss: 7.9689 - output_3_precision: 0.7952 - output_3_recall: 0.4408 - output_3_true_negatives: 186523392.0000 - output_3_true_positives: 119124.0000 - output_3_false_negatives: 151141.0000 - output_3_false_positives: 30681.0000 - val_loss: 6.6767 - val_output_1_loss: 0.0000e+00 - val_output_2_loss: 0.2360 - val_output_3_loss: 0.0185 - val_output_4_loss: 5.4597 - val_output_3_precision: 0.8627 - val_output_3_recall: 0.6094 - val_output_3_true_negatives: 7592029.0000 - val_output_3_true_positives: 7206.0000 - val_output_3_false_negatives: 4618.0000 - val_output_3_false_positives: 1147.0000\n",
      "Epoch 8/20\n",
      "4607/4607 [==============================] - 575s 125ms/step - loss: 9.6497 - output_1_loss: 4.7299e-07 - output_2_loss: 0.3379 - output_3_loss: 0.0247 - output_4_loss: 7.9110 - output_3_precision: 0.7967 - output_3_recall: 0.4462 - output_3_true_negatives: 186523360.0000 - output_3_true_positives: 120588.0000 - output_3_false_negatives: 149668.0000 - output_3_false_positives: 30766.0000 - val_loss: 6.5483 - val_output_1_loss: 0.0000e+00 - val_output_2_loss: 0.2303 - val_output_3_loss: 0.0182 - val_output_4_loss: 5.3606 - val_output_3_precision: 0.8662 - val_output_3_recall: 0.6220 - val_output_3_true_negatives: 7592040.0000 - val_output_3_true_positives: 7354.0000 - val_output_3_false_negatives: 4470.0000 - val_output_3_false_positives: 1136.0000\n",
      "Epoch 9/20\n",
      "4607/4607 [==============================] - 575s 125ms/step - loss: 9.5035 - output_1_loss: 1.4893e-08 - output_2_loss: 0.3261 - output_3_loss: 0.0245 - output_4_loss: 7.8241 - output_3_precision: 0.8006 - output_3_recall: 0.4532 - output_3_true_negatives: 186523296.0000 - output_3_true_positives: 122489.0000 - output_3_false_negatives: 147764.0000 - output_3_false_positives: 30514.0000 - val_loss: 6.3681 - val_output_1_loss: 0.0000e+00 - val_output_2_loss: 0.2303 - val_output_3_loss: 0.0177 - val_output_4_loss: 5.1813 - val_output_3_precision: 0.8769 - val_output_3_recall: 0.6289 - val_output_3_true_negatives: 7592132.0000 - val_output_3_true_positives: 7436.0000 - val_output_3_false_negatives: 4388.0000 - val_output_3_false_positives: 1044.0000\n",
      "Epoch 10/20\n",
      "4607/4607 [==============================] - 575s 125ms/step - loss: 9.4801 - output_1_loss: 1.5783e-07 - output_2_loss: 0.3257 - output_3_loss: 0.0245 - output_4_loss: 7.8026 - output_3_precision: 0.8012 - output_3_recall: 0.4552 - output_3_true_negatives: 186523712.0000 - output_3_true_positives: 123036.0000 - output_3_false_negatives: 147230.0000 - output_3_false_positives: 30530.0000 - val_loss: 6.2014 - val_output_1_loss: 0.0000e+00 - val_output_2_loss: 0.2284 - val_output_3_loss: 0.0172 - val_output_4_loss: 5.0252 - val_output_3_precision: 0.8904 - val_output_3_recall: 0.6220 - val_output_3_true_negatives: 7592271.0000 - val_output_3_true_positives: 7354.0000 - val_output_3_false_negatives: 4470.0000 - val_output_3_false_positives: 905.0000\n",
      "Epoch 11/20\n",
      "4607/4607 [==============================] - 583s 126ms/step - loss: 9.3654 - output_1_loss: 1.7054e-06 - output_2_loss: 0.3213 - output_3_loss: 0.0242 - output_4_loss: 7.7107 - output_3_precision: 0.8023 - output_3_recall: 0.4625 - output_3_true_negatives: 186523296.0000 - output_3_true_positives: 125000.0000 - output_3_false_negatives: 145296.0000 - output_3_false_positives: 30810.0000 - val_loss: 6.5502 - val_output_1_loss: 0.0000e+00 - val_output_2_loss: 0.2415 - val_output_3_loss: 0.0179 - val_output_4_loss: 5.3067 - val_output_3_precision: 0.8658 - val_output_3_recall: 0.6217 - val_output_3_true_negatives: 7592037.0000 - val_output_3_true_positives: 7351.0000 - val_output_3_false_negatives: 4473.0000 - val_output_3_false_positives: 1139.0000\n",
      "Epoch 12/20\n",
      "4607/4607 [==============================] - 573s 124ms/step - loss: 9.3929 - output_1_loss: 2.8605e-06 - output_2_loss: 0.3311 - output_3_loss: 0.0242 - output_4_loss: 7.6890 - output_3_precision: 0.8034 - output_3_recall: 0.4648 - output_3_true_negatives: 186523440.0000 - output_3_true_positives: 125629.0000 - output_3_false_negatives: 144660.0000 - output_3_false_positives: 30740.0000 - val_loss: 6.0526 - val_output_1_loss: 0.0000e+00 - val_output_2_loss: 0.2252 - val_output_3_loss: 0.0167 - val_output_4_loss: 4.8931 - val_output_3_precision: 0.8774 - val_output_3_recall: 0.6547 - val_output_3_true_negatives: 7592094.0000 - val_output_3_true_positives: 7741.0000 - val_output_3_false_negatives: 4083.0000 - val_output_3_false_positives: 1082.0000\n",
      "Epoch 13/20\n",
      "4607/4607 [==============================] - 575s 125ms/step - loss: 9.2516 - output_1_loss: 1.7861e-06 - output_2_loss: 0.3301 - output_3_loss: 0.0237 - output_4_loss: 7.5538 - output_3_precision: 0.8097 - output_3_recall: 0.4764 - output_3_true_negatives: 186523744.0000 - output_3_true_positives: 128775.0000 - output_3_false_negatives: 141531.0000 - output_3_false_positives: 30267.0000 - val_loss: 6.0242 - val_output_1_loss: 0.0000e+00 - val_output_2_loss: 0.2206 - val_output_3_loss: 0.0167 - val_output_4_loss: 4.8879 - val_output_3_precision: 0.8752 - val_output_3_recall: 0.6572 - val_output_3_true_negatives: 7592068.0000 - val_output_3_true_positives: 7771.0000 - val_output_3_false_negatives: 4053.0000 - val_output_3_false_positives: 1108.0000\n",
      "Epoch 14/20\n",
      "4607/4607 [==============================] - 576s 125ms/step - loss: 9.1538 - output_1_loss: 7.3081e-07 - output_2_loss: 0.3189 - output_3_loss: 0.0236 - output_4_loss: 7.5120 - output_3_precision: 0.8097 - output_3_recall: 0.4802 - output_3_true_negatives: 186523536.0000 - output_3_true_positives: 129783.0000 - output_3_false_negatives: 140485.0000 - output_3_false_positives: 30504.0000 - val_loss: 5.7808 - val_output_1_loss: 0.0000e+00 - val_output_2_loss: 0.2181 - val_output_3_loss: 0.0159 - val_output_4_loss: 4.6585 - val_output_3_precision: 0.8811 - val_output_3_recall: 0.6764 - val_output_3_true_negatives: 7592097.0000 - val_output_3_true_positives: 7998.0000 - val_output_3_false_negatives: 3826.0000 - val_output_3_false_positives: 1079.0000\n",
      "Epoch 15/20\n",
      "4607/4607 [==============================] - 566s 123ms/step - loss: 9.0915 - output_1_loss: 4.9130e-06 - output_2_loss: 0.3251 - output_3_loss: 0.0232 - output_4_loss: 7.4195 - output_3_precision: 0.8124 - output_3_recall: 0.4873 - output_3_true_negatives: 186523552.0000 - output_3_true_positives: 131675.0000 - output_3_false_negatives: 138561.0000 - output_3_false_positives: 30411.0000 - val_loss: 5.6544 - val_output_1_loss: 0.0000e+00 - val_output_2_loss: 0.2185 - val_output_3_loss: 0.0155 - val_output_4_loss: 4.5307 - val_output_3_precision: 0.8828 - val_output_3_recall: 0.6792 - val_output_3_true_negatives: 7592110.0000 - val_output_3_true_positives: 8031.0000 - val_output_3_false_negatives: 3793.0000 - val_output_3_false_positives: 1066.0000\n",
      "Epoch 16/20\n",
      "4607/4607 [==============================] - 565s 123ms/step - loss: 9.0718 - output_1_loss: 2.7652e-06 - output_2_loss: 0.3279 - output_3_loss: 0.0231 - output_4_loss: 7.3859 - output_3_precision: 0.8147 - output_3_recall: 0.4901 - output_3_true_negatives: 186523696.0000 - output_3_true_positives: 132428.0000 - output_3_false_negatives: 137801.0000 - output_3_false_positives: 30126.0000 - val_loss: 5.5438 - val_output_1_loss: 0.0000e+00 - val_output_2_loss: 0.2087 - val_output_3_loss: 0.0153 - val_output_4_loss: 4.4699 - val_output_3_precision: 0.8960 - val_output_3_recall: 0.6811 - val_output_3_true_negatives: 7592241.0000 - val_output_3_true_positives: 8053.0000 - val_output_3_false_negatives: 3771.0000 - val_output_3_false_positives: 935.0000\n",
      "Epoch 17/20\n",
      "4607/4607 [==============================] - 569s 124ms/step - loss: 8.9835 - output_1_loss: 3.3042e-07 - output_2_loss: 0.3209 - output_3_loss: 0.0230 - output_4_loss: 7.3332 - output_3_precision: 0.8166 - output_3_recall: 0.4962 - output_3_true_negatives: 186524320.0000 - output_3_true_positives: 134074.0000 - output_3_false_negatives: 136145.0000 - output_3_false_positives: 30116.0000 - val_loss: 5.6912 - val_output_1_loss: 0.0000e+00 - val_output_2_loss: 0.2157 - val_output_3_loss: 0.0156 - val_output_4_loss: 4.5815 - val_output_3_precision: 0.8721 - val_output_3_recall: 0.7037 - val_output_3_true_negatives: 7591956.0000 - val_output_3_true_positives: 8320.0000 - val_output_3_false_negatives: 3504.0000 - val_output_3_false_positives: 1220.0000\n",
      "Epoch 18/20\n",
      "4607/4607 [==============================] - 567s 123ms/step - loss: 8.8902 - output_1_loss: 7.1553e-07 - output_2_loss: 0.3127 - output_3_loss: 0.0228 - output_4_loss: 7.2808 - output_3_precision: 0.8186 - output_3_recall: 0.4995 - output_3_true_negatives: 186524464.0000 - output_3_true_positives: 135014.0000 - output_3_false_negatives: 135286.0000 - output_3_false_positives: 29916.0000 - val_loss: 5.4745 - val_output_1_loss: 0.0000e+00 - val_output_2_loss: 0.2085 - val_output_3_loss: 0.0151 - val_output_4_loss: 4.4018 - val_output_3_precision: 0.8874 - val_output_3_recall: 0.6951 - val_output_3_true_negatives: 7592133.0000 - val_output_3_true_positives: 8219.0000 - val_output_3_false_negatives: 3605.0000 - val_output_3_false_positives: 1043.0000\n",
      "Epoch 19/20\n",
      "4607/4607 [==============================] - 565s 123ms/step - loss: 8.8908 - output_1_loss: 5.9135e-07 - output_2_loss: 0.3187 - output_3_loss: 0.0228 - output_4_loss: 7.2517 - output_3_precision: 0.8202 - output_3_recall: 0.5020 - output_3_true_negatives: 186524336.0000 - output_3_true_positives: 135648.0000 - output_3_false_negatives: 134573.0000 - output_3_false_positives: 29742.0000 - val_loss: 5.5185 - val_output_1_loss: 0.0000e+00 - val_output_2_loss: 0.2070 - val_output_3_loss: 0.0151 - val_output_4_loss: 4.4534 - val_output_3_precision: 0.8783 - val_output_3_recall: 0.7178 - val_output_3_true_negatives: 7592000.0000 - val_output_3_true_positives: 8487.0000 - val_output_3_false_negatives: 3337.0000 - val_output_3_false_positives: 1176.0000\n",
      "Epoch 20/20\n",
      "4607/4607 [==============================] - 569s 123ms/step - loss: 8.8593 - output_1_loss: 1.7737e-06 - output_2_loss: 0.3222 - output_3_loss: 0.0226 - output_4_loss: 7.2032 - output_3_precision: 0.8222 - output_3_recall: 0.5070 - output_3_true_negatives: 186524384.0000 - output_3_true_positives: 137052.0000 - output_3_false_negatives: 133294.0000 - output_3_false_positives: 29636.0000 - val_loss: 5.2835 - val_output_1_loss: 0.0000e+00 - val_output_2_loss: 0.2083 - val_output_3_loss: 0.0144 - val_output_4_loss: 4.2129 - val_output_3_precision: 0.8868 - val_output_3_recall: 0.7234 - val_output_3_true_negatives: 7592084.0000 - val_output_3_true_positives: 8553.0000 - val_output_3_false_negatives: 3271.0000 - val_output_3_false_positives: 1092.0000\n"
     ]
    }
   ],
   "source": [
    "history = model.fit(train_dataset, epochs=20,validation_data=val_dataset)"
   ]
  },
  {
   "cell_type": "code",
   "execution_count": 10,
   "metadata": {},
   "outputs": [],
   "source": [
    "os.chdir(\"/home/sergio/Documents/json_experiments\")\n",
    "import json\n",
    "#json.dumps(str(a))\n",
    "with open('history_finetuning_5521_30_50_epoch_nadam_0dot00001_msle_exp_mse_3anchors.json', 'w') as fp:\n",
    "    json.dump(str(history.history), fp)"
   ]
  },
  {
   "cell_type": "code",
   "execution_count": null,
   "metadata": {},
   "outputs": [],
   "source": []
  },
  {
   "cell_type": "markdown",
   "metadata": {},
   "source": [
    "## CONTINUACION"
   ]
  },
  {
   "cell_type": "code",
   "execution_count": 11,
   "metadata": {},
   "outputs": [],
   "source": [
    "model.save_weights('/home/sergio/Documents/weights_saved/pesos_finetuning_5521_30_50_epoch_nadam_0dot00001_msle_exp_mse_3anchors')"
   ]
  },
  {
   "cell_type": "code",
   "execution_count": 13,
   "metadata": {},
   "outputs": [],
   "source": [
    "os.chdir(\"/home/sergio/Documents/pedestrian_dataset_train_tfr\")"
   ]
  },
  {
   "cell_type": "code",
   "execution_count": 14,
   "metadata": {},
   "outputs": [
    {
     "name": "stdout",
     "output_type": "stream",
     "text": [
      "Epoch 1/20\n",
      "4607/4607 [==============================] - 582s 126ms/step - loss: 8.8212 - output_1_loss: 7.3160e-06 - output_2_loss: 0.3153 - output_3_loss: 0.0226 - output_4_loss: 7.1994 - output_3_precision: 0.8232 - output_3_recall: 0.5077 - output_3_true_negatives: 186524448.0000 - output_3_true_positives: 137218.0000 - output_3_false_negatives: 133044.0000 - output_3_false_positives: 29466.0000 - val_loss: 5.3150 - val_output_1_loss: 0.0000e+00 - val_output_2_loss: 0.2074 - val_output_3_loss: 0.0144 - val_output_4_loss: 4.2491 - val_output_3_precision: 0.8998 - val_output_3_recall: 0.7053 - val_output_3_true_negatives: 7592247.0000 - val_output_3_true_positives: 8340.0000 - val_output_3_false_negatives: 3484.0000 - val_output_3_false_positives: 929.0000\n",
      "Epoch 2/20\n",
      "4607/4607 [==============================] - 576s 125ms/step - loss: 8.7506 - output_1_loss: 1.0512e-05 - output_2_loss: 0.3162 - output_3_loss: 0.0223 - output_4_loss: 7.1247 - output_3_precision: 0.8242 - output_3_recall: 0.5132 - output_3_true_negatives: 186524368.0000 - output_3_true_positives: 138692.0000 - output_3_false_negatives: 131541.0000 - output_3_false_positives: 29586.0000 - val_loss: 5.1426 - val_output_1_loss: 0.0000e+00 - val_output_2_loss: 0.2032 - val_output_3_loss: 0.0140 - val_output_4_loss: 4.0986 - val_output_3_precision: 0.8871 - val_output_3_recall: 0.7270 - val_output_3_true_negatives: 7592082.0000 - val_output_3_true_positives: 8596.0000 - val_output_3_false_negatives: 3228.0000 - val_output_3_false_positives: 1094.0000\n",
      "Epoch 3/20\n",
      "4607/4607 [==============================] - 574s 125ms/step - loss: 8.6723 - output_1_loss: 3.3029e-07 - output_2_loss: 0.3109 - output_3_loss: 0.0222 - output_4_loss: 7.0735 - output_3_precision: 0.8254 - output_3_recall: 0.5165 - output_3_true_negatives: 186524352.0000 - output_3_true_positives: 139529.0000 - output_3_false_negatives: 130616.0000 - output_3_false_positives: 29507.0000 - val_loss: 5.0969 - val_output_1_loss: 0.0000e+00 - val_output_2_loss: 0.2098 - val_output_3_loss: 0.0138 - val_output_4_loss: 4.0201 - val_output_3_precision: 0.8974 - val_output_3_recall: 0.7230 - val_output_3_true_negatives: 7592199.0000 - val_output_3_true_positives: 8549.0000 - val_output_3_false_negatives: 3275.0000 - val_output_3_false_positives: 977.0000\n",
      "Epoch 4/20\n",
      "4607/4607 [==============================] - 559s 121ms/step - loss: 8.5993 - output_1_loss: 2.6926e-07 - output_2_loss: 0.3047 - output_3_loss: 0.0220 - output_4_loss: 7.0319 - output_3_precision: 0.8270 - output_3_recall: 0.5198 - output_3_true_negatives: 186524608.0000 - output_3_true_positives: 140486.0000 - output_3_false_negatives: 129766.0000 - output_3_false_positives: 29383.0000 - val_loss: 4.9817 - val_output_1_loss: 0.0000e+00 - val_output_2_loss: 0.2025 - val_output_3_loss: 0.0135 - val_output_4_loss: 3.9422 - val_output_3_precision: 0.8893 - val_output_3_recall: 0.7430 - val_output_3_true_negatives: 7592082.0000 - val_output_3_true_positives: 8785.0000 - val_output_3_false_negatives: 3039.0000 - val_output_3_false_positives: 1094.0000\n",
      "Epoch 5/20\n",
      "4607/4607 [==============================] - 579s 126ms/step - loss: 8.6169 - output_1_loss: 1.3953e-05 - output_2_loss: 0.3122 - output_3_loss: 0.0220 - output_4_loss: 7.0116 - output_3_precision: 0.8285 - output_3_recall: 0.5238 - output_3_true_negatives: 186525184.0000 - output_3_true_positives: 141523.0000 - output_3_false_negatives: 128659.0000 - output_3_false_positives: 29299.0000 - val_loss: 5.1029 - val_output_1_loss: 0.0000e+00 - val_output_2_loss: 0.2056 - val_output_3_loss: 0.0139 - val_output_4_loss: 4.0473 - val_output_3_precision: 0.8909 - val_output_3_recall: 0.7312 - val_output_3_true_negatives: 7592117.0000 - val_output_3_true_positives: 8646.0000 - val_output_3_false_negatives: 3178.0000 - val_output_3_false_positives: 1059.0000\n",
      "Epoch 6/20\n",
      "4607/4607 [==============================] - 581s 126ms/step - loss: 8.4804 - output_1_loss: 2.1438e-06 - output_2_loss: 0.2999 - output_3_loss: 0.0217 - output_4_loss: 6.9377 - output_3_precision: 0.8319 - output_3_recall: 0.5280 - output_3_true_negatives: 186525744.0000 - output_3_true_positives: 142634.0000 - output_3_false_negatives: 127488.0000 - output_3_false_positives: 28814.0000 - val_loss: 4.7968 - val_output_1_loss: 0.0000e+00 - val_output_2_loss: 0.2029 - val_output_3_loss: 0.0129 - val_output_4_loss: 3.7564 - val_output_3_precision: 0.9017 - val_output_3_recall: 0.7450 - val_output_3_true_negatives: 7592216.0000 - val_output_3_true_positives: 8809.0000 - val_output_3_false_negatives: 3015.0000 - val_output_3_false_positives: 960.0000\n",
      "Epoch 7/20\n",
      "4607/4607 [==============================] - 581s 126ms/step - loss: 8.4642 - output_1_loss: 1.4308e-05 - output_2_loss: 0.3019 - output_3_loss: 0.0216 - output_4_loss: 6.9112 - output_3_precision: 0.8322 - output_3_recall: 0.5317 - output_3_true_negatives: 186525376.0000 - output_3_true_positives: 143618.0000 - output_3_false_negatives: 126518.0000 - output_3_false_positives: 28949.0000 - val_loss: 4.8699 - val_output_1_loss: 0.0000e+00 - val_output_2_loss: 0.2014 - val_output_3_loss: 0.0132 - val_output_4_loss: 3.8367 - val_output_3_precision: 0.8833 - val_output_3_recall: 0.7512 - val_output_3_true_negatives: 7592002.0000 - val_output_3_true_positives: 8882.0000 - val_output_3_false_negatives: 2942.0000 - val_output_3_false_positives: 1174.0000\n",
      "Epoch 8/20\n",
      "4607/4607 [==============================] - 580s 126ms/step - loss: 8.3991 - output_1_loss: 7.7589e-07 - output_2_loss: 0.2980 - output_3_loss: 0.0215 - output_4_loss: 6.8661 - output_3_precision: 0.8323 - output_3_recall: 0.5340 - output_3_true_negatives: 186524976.0000 - output_3_true_positives: 144304.0000 - output_3_false_negatives: 125905.0000 - output_3_false_positives: 29085.0000 - val_loss: 4.8458 - val_output_1_loss: 0.0000e+00 - val_output_2_loss: 0.2081 - val_output_3_loss: 0.0128 - val_output_4_loss: 3.7795 - val_output_3_precision: 0.8886 - val_output_3_recall: 0.7674 - val_output_3_true_negatives: 7592038.0000 - val_output_3_true_positives: 9074.0000 - val_output_3_false_negatives: 2750.0000 - val_output_3_false_positives: 1138.0000\n",
      "Epoch 9/20\n",
      "4607/4607 [==============================] - 578s 125ms/step - loss: 8.3533 - output_1_loss: 3.5748e-07 - output_2_loss: 0.2987 - output_3_loss: 0.0214 - output_4_loss: 6.8168 - output_3_precision: 0.8358 - output_3_recall: 0.5398 - output_3_true_negatives: 186525216.0000 - output_3_true_positives: 145920.0000 - output_3_false_negatives: 124398.0000 - output_3_false_positives: 28665.0000 - val_loss: 4.6268 - val_output_1_loss: 0.0000e+00 - val_output_2_loss: 0.1927 - val_output_3_loss: 0.0124 - val_output_4_loss: 3.6385 - val_output_3_precision: 0.9025 - val_output_3_recall: 0.7683 - val_output_3_true_negatives: 7592195.0000 - val_output_3_true_positives: 9084.0000 - val_output_3_false_negatives: 2740.0000 - val_output_3_false_positives: 981.0000\n",
      "Epoch 10/20\n",
      "4607/4607 [==============================] - 559s 121ms/step - loss: 8.3873 - output_1_loss: 2.4545e-07 - output_2_loss: 0.3062 - output_3_loss: 0.0213 - output_4_loss: 6.8139 - output_3_precision: 0.8350 - output_3_recall: 0.5393 - output_3_true_negatives: 186525088.0000 - output_3_true_positives: 145788.0000 - output_3_false_negatives: 124518.0000 - output_3_false_positives: 28815.0000 - val_loss: 4.7114 - val_output_1_loss: 0.0000e+00 - val_output_2_loss: 0.1946 - val_output_3_loss: 0.0126 - val_output_4_loss: 3.7131 - val_output_3_precision: 0.8853 - val_output_3_recall: 0.7740 - val_output_3_true_negatives: 7591990.0000 - val_output_3_true_positives: 9152.0000 - val_output_3_false_negatives: 2672.0000 - val_output_3_false_positives: 1186.0000\n",
      "Epoch 11/20\n",
      "4607/4607 [==============================] - 586s 127ms/step - loss: 8.3661 - output_1_loss: 7.5379e-06 - output_2_loss: 0.3098 - output_3_loss: 0.0213 - output_4_loss: 6.7747 - output_3_precision: 0.8370 - output_3_recall: 0.5442 - output_3_true_negatives: 186525888.0000 - output_3_true_positives: 147049.0000 - output_3_false_negatives: 123142.0000 - output_3_false_positives: 28643.0000 - val_loss: 4.5935 - val_output_1_loss: 0.0000e+00 - val_output_2_loss: 0.1920 - val_output_3_loss: 0.0123 - val_output_4_loss: 3.6089 - val_output_3_precision: 0.8925 - val_output_3_recall: 0.7886 - val_output_3_true_negatives: 7592053.0000 - val_output_3_true_positives: 9324.0000 - val_output_3_false_negatives: 2500.0000 - val_output_3_false_positives: 1123.0000\n",
      "Epoch 12/20\n",
      "4607/4607 [==============================] - 588s 128ms/step - loss: 8.2102 - output_1_loss: 2.3169e-07 - output_2_loss: 0.2903 - output_3_loss: 0.0210 - output_4_loss: 6.7168 - output_3_precision: 0.8381 - output_3_recall: 0.5489 - output_3_true_negatives: 186525264.0000 - output_3_true_positives: 148357.0000 - output_3_false_negatives: 121937.0000 - output_3_false_positives: 28652.0000 - val_loss: 4.4494 - val_output_1_loss: 0.0000e+00 - val_output_2_loss: 0.1939 - val_output_3_loss: 0.0117 - val_output_4_loss: 3.4562 - val_output_3_precision: 0.9065 - val_output_3_recall: 0.7728 - val_output_3_true_negatives: 7592233.0000 - val_output_3_true_positives: 9138.0000 - val_output_3_false_negatives: 2686.0000 - val_output_3_false_positives: 943.0000\n",
      "Epoch 13/20\n",
      "4607/4607 [==============================] - 574s 125ms/step - loss: 8.2296 - output_1_loss: 4.7083e-06 - output_2_loss: 0.3005 - output_3_loss: 0.0208 - output_4_loss: 6.6856 - output_3_precision: 0.8396 - output_3_recall: 0.5500 - output_3_true_negatives: 186525888.0000 - output_3_true_positives: 148616.0000 - output_3_false_negatives: 121581.0000 - output_3_false_positives: 28386.0000 - val_loss: 4.3257 - val_output_1_loss: 0.0000e+00 - val_output_2_loss: 0.1891 - val_output_3_loss: 0.0115 - val_output_4_loss: 3.3572 - val_output_3_precision: 0.9064 - val_output_3_recall: 0.7895 - val_output_3_true_negatives: 7592212.0000 - val_output_3_true_positives: 9335.0000 - val_output_3_false_negatives: 2489.0000 - val_output_3_false_positives: 964.0000\n",
      "Epoch 14/20\n",
      "4607/4607 [==============================] - 562s 122ms/step - loss: 8.1283 - output_1_loss: 5.2536e-07 - output_2_loss: 0.2922 - output_3_loss: 0.0207 - output_4_loss: 6.6259 - output_3_precision: 0.8404 - output_3_recall: 0.5550 - output_3_true_negatives: 186525824.0000 - output_3_true_positives: 149988.0000 - output_3_false_negatives: 120284.0000 - output_3_false_positives: 28478.0000 - val_loss: 4.2328 - val_output_1_loss: 0.0000e+00 - val_output_2_loss: 0.1927 - val_output_3_loss: 0.0112 - val_output_4_loss: 3.2468 - val_output_3_precision: 0.9041 - val_output_3_recall: 0.7967 - val_output_3_true_negatives: 7592177.0000 - val_output_3_true_positives: 9420.0000 - val_output_3_false_negatives: 2404.0000 - val_output_3_false_positives: 999.0000\n",
      "Epoch 15/20\n",
      "4607/4607 [==============================] - 579s 126ms/step - loss: 8.1800 - output_1_loss: 1.7150e-06 - output_2_loss: 0.2964 - output_3_loss: 0.0208 - output_4_loss: 6.6565 - output_3_precision: 0.8419 - output_3_recall: 0.5538 - output_3_true_negatives: 186526080.0000 - output_3_true_positives: 149762.0000 - output_3_false_negatives: 120652.0000 - output_3_false_positives: 28128.0000 - val_loss: 4.3726 - val_output_1_loss: 0.0000e+00 - val_output_2_loss: 0.1899 - val_output_3_loss: 0.0115 - val_output_4_loss: 3.4003 - val_output_3_precision: 0.9008 - val_output_3_recall: 0.7901 - val_output_3_true_negatives: 7592147.0000 - val_output_3_true_positives: 9342.0000 - val_output_3_false_negatives: 2482.0000 - val_output_3_false_positives: 1029.0000\n",
      "Epoch 16/20\n",
      "4607/4607 [==============================] - 565s 123ms/step - loss: 8.1386 - output_1_loss: 3.6460e-07 - output_2_loss: 0.2977 - output_3_loss: 0.0206 - output_4_loss: 6.6089 - output_3_precision: 0.8421 - output_3_recall: 0.5571 - output_3_true_negatives: 186526032.0000 - output_3_true_positives: 150542.0000 - output_3_false_negatives: 119697.0000 - output_3_false_positives: 28232.0000 - val_loss: 4.3593 - val_output_1_loss: 0.0000e+00 - val_output_2_loss: 0.1900 - val_output_3_loss: 0.0114 - val_output_4_loss: 3.3865 - val_output_3_precision: 0.8894 - val_output_3_recall: 0.8046 - val_output_3_true_negatives: 7591993.0000 - val_output_3_true_positives: 9514.0000 - val_output_3_false_negatives: 2310.0000 - val_output_3_false_positives: 1183.0000\n",
      "Epoch 17/20\n",
      "4607/4607 [==============================] - 576s 125ms/step - loss: 8.1154 - output_1_loss: 3.9200e-06 - output_2_loss: 0.2996 - output_3_loss: 0.0205 - output_4_loss: 6.5762 - output_3_precision: 0.8445 - output_3_recall: 0.5598 - output_3_true_negatives: 186526336.0000 - output_3_true_positives: 151312.0000 - output_3_false_negatives: 119002.0000 - output_3_false_positives: 27860.0000 - val_loss: 4.3130 - val_output_1_loss: 0.0000e+00 - val_output_2_loss: 0.1873 - val_output_3_loss: 0.0113 - val_output_4_loss: 3.3540 - val_output_3_precision: 0.8973 - val_output_3_recall: 0.8093 - val_output_3_true_negatives: 7592081.0000 - val_output_3_true_positives: 9569.0000 - val_output_3_false_negatives: 2255.0000 - val_output_3_false_positives: 1095.0000\n",
      "Epoch 18/20\n",
      "4607/4607 [==============================] - 575s 125ms/step - loss: 7.9569 - output_1_loss: 1.6687e-06 - output_2_loss: 0.2878 - output_3_loss: 0.0202 - output_4_loss: 6.4773 - output_3_precision: 0.8472 - output_3_recall: 0.5668 - output_3_true_negatives: 186526512.0000 - output_3_true_positives: 153182.0000 - output_3_false_negatives: 117075.0000 - output_3_false_positives: 27638.0000 - val_loss: 4.1355 - val_output_1_loss: 4.0181e-07 - val_output_2_loss: 0.1837 - val_output_3_loss: 0.0108 - val_output_4_loss: 3.1952 - val_output_3_precision: 0.9061 - val_output_3_recall: 0.8113 - val_output_3_true_negatives: 7592182.0000 - val_output_3_true_positives: 9593.0000 - val_output_3_false_negatives: 2231.0000 - val_output_3_false_positives: 994.0000\n",
      "Epoch 19/20\n",
      "4607/4607 [==============================] - 598s 130ms/step - loss: 7.9382 - output_1_loss: 4.1452e-06 - output_2_loss: 0.2786 - output_3_loss: 0.0203 - output_4_loss: 6.5045 - output_3_precision: 0.8461 - output_3_recall: 0.5669 - output_3_true_negatives: 186525872.0000 - output_3_true_positives: 153190.0000 - output_3_false_negatives: 117037.0000 - output_3_false_positives: 27857.0000 - val_loss: 4.2012 - val_output_1_loss: 0.0000e+00 - val_output_2_loss: 0.1858 - val_output_3_loss: 0.0110 - val_output_4_loss: 3.2500 - val_output_3_precision: 0.9148 - val_output_3_recall: 0.7953 - val_output_3_true_negatives: 7592300.0000 - val_output_3_true_positives: 9404.0000 - val_output_3_false_negatives: 2420.0000 - val_output_3_false_positives: 876.0000\n",
      "Epoch 20/20\n",
      "4607/4607 [==============================] - 606s 132ms/step - loss: 7.9299 - output_1_loss: 5.8917e-07 - output_2_loss: 0.2837 - output_3_loss: 0.0202 - output_4_loss: 6.4708 - output_3_precision: 0.8483 - output_3_recall: 0.5683 - output_3_true_negatives: 186526528.0000 - output_3_true_positives: 153560.0000 - output_3_false_negatives: 116626.0000 - output_3_false_positives: 27452.0000 - val_loss: 3.8616 - val_output_1_loss: 3.6984e-06 - val_output_2_loss: 0.1786 - val_output_3_loss: 0.0100 - val_output_4_loss: 2.9488 - val_output_3_precision: 0.9168 - val_output_3_recall: 0.8212 - val_output_3_true_negatives: 7592295.0000 - val_output_3_true_positives: 9710.0000 - val_output_3_false_negatives: 2114.0000 - val_output_3_false_positives: 881.0000\n"
     ]
    }
   ],
   "source": [
    "history = model.fit(train_dataset, epochs=20,validation_data=val_dataset)"
   ]
  },
  {
   "cell_type": "code",
   "execution_count": null,
   "metadata": {},
   "outputs": [],
   "source": []
  },
  {
   "cell_type": "code",
   "execution_count": 10,
   "metadata": {},
   "outputs": [],
   "source": [
    "os.chdir(\"/home/sergio/Documents/json_experiments\")\n",
    "import json\n",
    "#json.dumps(str(a))\n",
    "with open('history_finetuning_5521_50_70_epoch_nadam_0dot00001_msle_exp_mse_3anchors.json', 'w') as fp:\n",
    "    json.dump(str(history.history), fp)"
   ]
  },
  {
   "cell_type": "code",
   "execution_count": 11,
   "metadata": {},
   "outputs": [],
   "source": [
    "model.save_weights('/home/sergio/Documents/weights_saved/pesos_finetuning_5521_50_70_epoch_nadam_0dot00001_msle_exp_mse_3anchors')"
   ]
  },
  {
   "cell_type": "code",
   "execution_count": null,
   "metadata": {},
   "outputs": [],
   "source": []
  },
  {
   "cell_type": "markdown",
   "metadata": {},
   "source": [
    "## CONTINUACION DESPUES DE LA EPOCA 50 PERO CON MENOR LR"
   ]
  },
  {
   "cell_type": "code",
   "execution_count": null,
   "metadata": {},
   "outputs": [],
   "source": []
  },
  {
   "cell_type": "code",
   "execution_count": 6,
   "metadata": {},
   "outputs": [
    {
     "name": "stdout",
     "output_type": "stream",
     "text": [
      "Modo entrenamiento\n"
     ]
    },
    {
     "data": {
      "text/plain": [
       "<tensorflow.python.training.tracking.util.CheckpointLoadStatus at 0x7f9ba4abd710>"
      ]
     },
     "execution_count": 6,
     "metadata": {},
     "output_type": "execute_result"
    }
   ],
   "source": [
    "anchors =tf.constant(np.array([[0,0,0.02078,0.049],[0,0,0.0426,0.128],[0,0,0.08523,0.19356],[0,0,0.1506,0.4163],[0,0,0.27835,0.58651],[0,0,0.5632,0.78614]]),dtype=tf.float32)\n",
    "model = TinyYOLOv3(1,anchor_boxes=anchors,train=True,mode = \"finetuning\")\n",
    "model.build(batch_input_shape=(None,416,416,3))\n",
    "#print(model.load_weights_darknet(\"/home/sergio/TinyYOLOv3-Pedestrian-Detection/yolov3-tiny.weights\"))\n",
    "model.load_weights('/home/sergio/Documents/weights_saved/pesos_finetuning_5521_30_50_epoch_nadam_0dot00001_msle_exp_mse_3anchors')"
   ]
  },
  {
   "cell_type": "code",
   "execution_count": 7,
   "metadata": {},
   "outputs": [
    {
     "name": "stdout",
     "output_type": "stream",
     "text": [
      "BasicBlock1 True\n",
      "BasicBlock2 True\n",
      "BasicBlock3 True\n",
      "BasicBlock4 True\n",
      "BasicBlock5 True\n",
      "BasicBlock6 True\n",
      "BasicBlock7 True\n",
      "BasicBlock8 True\n",
      "BasicBlock9 True\n",
      "FinalBlock1 True\n",
      "BasicBlock11 True\n",
      "BasicBlock12 True\n",
      "FinalBlock2 True\n",
      "Concatenate True\n",
      "Upsampling True\n",
      "Prediction1 True\n",
      "Prediction2 True\n",
      "Concatenate_BBOX True\n"
     ]
    }
   ],
   "source": [
    "for l in model.layers:\n",
    "    print(l.name, l.trainable)\n",
    "    pass"
   ]
  },
  {
   "cell_type": "code",
   "execution_count": 8,
   "metadata": {},
   "outputs": [],
   "source": [
    "tf.random.set_seed(0)\n",
    "\n",
    "from tensorflow.keras.metrics import TrueNegatives,TruePositives,FalseNegatives,FalsePositives,Precision,Recall\n",
    "\n",
    "opt = tf.keras.optimizers.Nadam(learning_rate=1e-5)\n",
    "\n",
    "losses = {\"output_1\": loss_xy,\n",
    "          \"output_2\": loss_wh,\n",
    "          \"output_3\":loss_objectness,\n",
    "          \"output_4\":loss_no_objectness  \n",
    "}\n",
    "\n",
    "metrics = {\"output_3\":[Precision(0.5),Recall(0.5),TrueNegatives(0.5),TruePositives(0.5),FalseNegatives(0.5),FalsePositives(0.5)]}\n",
    "model.compile(optimizer=opt, loss=losses,metrics=metrics,loss_weights=[5,5,2,1])\n",
    "os.chdir(\"/home/sergio/Documents/pedestrian_dataset_train_tfr\")"
   ]
  },
  {
   "cell_type": "code",
   "execution_count": 9,
   "metadata": {},
   "outputs": [
    {
     "name": "stdout",
     "output_type": "stream",
     "text": [
      "Modo entrenamiento\n",
      "Epoch 1/20\n",
      "Modo entrenamiento\n",
      "Modo entrenamiento\n",
      "   4607/Unknown - 582s 126ms/step - loss: 8.7700 - output_1_loss: 1.7040e-08 - output_2_loss: 0.3105 - output_3_loss: 0.0225 - output_4_loss: 7.1724 - output_3_precision: 0.8223 - output_3_recall: 0.5098 - output_3_true_negatives: 186524256.0000 - output_3_true_positives: 137724.0000 - output_3_false_negatives: 132440.0000 - output_3_false_positives: 29772.0000- 574s 126ms/step - loss: 8.7613 - output_1_loss: 1.7250e-08 - output_2_loss: 0.3101 - output_3_loss: 0.0224 - output_4_loss: 7.1660 - output_3_precision: 0.8221 - output_3_recall: 0.5098 - output_3_true_negatives: 184292224.0000 - output_3_true_positives: 135931.0000 - output_3_false_negatModo entrenamiento\n",
      "4607/4607 [==============================] - 590s 128ms/step - loss: 8.7700 - output_1_loss: 1.7040e-08 - output_2_loss: 0.3105 - output_3_loss: 0.0225 - output_4_loss: 7.1724 - output_3_precision: 0.8223 - output_3_recall: 0.5098 - output_3_true_negatives: 186524256.0000 - output_3_true_positives: 137724.0000 - output_3_false_negatives: 132440.0000 - output_3_false_positives: 29772.0000 - val_loss: 5.3353 - val_output_1_loss: 0.0000e+00 - val_output_2_loss: 0.2054 - val_output_3_loss: 0.0145 - val_output_4_loss: 4.2793 - val_output_3_precision: 0.8851 - val_output_3_recall: 0.7163 - val_output_3_true_negatives: 7592077.0000 - val_output_3_true_positives: 8470.0000 - val_output_3_false_negatives: 3354.0000 - val_output_3_false_positives: 1099.0000\n",
      "Epoch 2/20\n",
      "4607/4607 [==============================] - 586s 127ms/step - loss: 8.7017 - output_1_loss: 1.0859e-06 - output_2_loss: 0.3136 - output_3_loss: 0.0222 - output_4_loss: 7.0894 - output_3_precision: 0.8277 - output_3_recall: 0.5163 - output_3_true_negatives: 186525200.0000 - output_3_true_positives: 139546.0000 - output_3_false_negatives: 130752.0000 - output_3_false_positives: 29040.0000 - val_loss: 5.0662 - val_output_1_loss: 0.0000e+00 - val_output_2_loss: 0.2078 - val_output_3_loss: 0.0138 - val_output_4_loss: 3.9997 - val_output_3_precision: 0.8850 - val_output_3_recall: 0.7287 - val_output_3_true_negatives: 7592056.0000 - val_output_3_true_positives: 8616.0000 - val_output_3_false_negatives: 3208.0000 - val_output_3_false_positives: 1120.0000\n",
      "Epoch 3/20\n",
      "4607/4607 [==============================] - 584s 127ms/step - loss: 8.6101 - output_1_loss: 1.9664e-06 - output_2_loss: 0.3019 - output_3_loss: 0.0220 - output_4_loss: 7.0565 - output_3_precision: 0.8276 - output_3_recall: 0.5194 - output_3_true_negatives: 186525152.0000 - output_3_true_positives: 140319.0000 - output_3_false_negatives: 129856.0000 - output_3_false_positives: 29236.0000 - val_loss: 5.0105 - val_output_1_loss: 0.0000e+00 - val_output_2_loss: 0.2030 - val_output_3_loss: 0.0135 - val_output_4_loss: 3.9686 - val_output_3_precision: 0.8813 - val_output_3_recall: 0.7465 - val_output_3_true_negatives: 7591987.0000 - val_output_3_true_positives: 8827.0000 - val_output_3_false_negatives: 2997.0000 - val_output_3_false_positives: 1189.0000\n",
      "Epoch 4/20\n",
      "4607/4607 [==============================] - 585s 127ms/step - loss: 8.8712 - output_1_loss: 1.4038e-05 - output_2_loss: 0.3439 - output_3_loss: 0.0223 - output_4_loss: 7.1071 - output_3_precision: 0.8262 - output_3_recall: 0.5159 - output_3_true_negatives: 186524576.0000 - output_3_true_positives: 139435.0000 - output_3_false_negatives: 130856.0000 - output_3_false_positives: 29324.0000 - val_loss: 6.3172 - val_output_1_loss: 0.0000e+00 - val_output_2_loss: 0.2355 - val_output_3_loss: 0.0168 - val_output_4_loss: 5.1061 - val_output_3_precision: 0.8779 - val_output_3_recall: 0.6322 - val_output_3_true_negatives: 7592136.0000 - val_output_3_true_positives: 7475.0000 - val_output_3_false_negatives: 4349.0000 - val_output_3_false_positives: 1040.0000\n",
      "Epoch 5/20\n",
      "4607/4607 [==============================] - 601s 130ms/step - loss: 8.5810 - output_1_loss: 1.5764e-05 - output_2_loss: 0.3031 - output_3_loss: 0.0219 - output_4_loss: 7.0216 - output_3_precision: 0.8288 - output_3_recall: 0.5221 - output_3_true_negatives: 186525360.0000 - output_3_true_positives: 141045.0000 - output_3_false_negatives: 129099.0000 - output_3_false_positives: 29143.0000 - val_loss: 4.9268 - val_output_1_loss: 0.0000e+00 - val_output_2_loss: 0.2012 - val_output_3_loss: 0.0134 - val_output_4_loss: 3.8939 - val_output_3_precision: 0.8909 - val_output_3_recall: 0.7459 - val_output_3_true_negatives: 7592096.0000 - val_output_3_true_positives: 8819.0000 - val_output_3_false_negatives: 3005.0000 - val_output_3_false_positives: 1080.0000\n",
      "Epoch 6/20\n",
      "4607/4607 [==============================] - 604s 131ms/step - loss: 8.4379 - output_1_loss: 2.1332e-06 - output_2_loss: 0.2947 - output_3_loss: 0.0217 - output_4_loss: 6.9211 - output_3_precision: 0.8318 - output_3_recall: 0.5303 - output_3_true_negatives: 186525056.0000 - output_3_true_positives: 143309.0000 - output_3_false_negatives: 126930.0000 - output_3_false_positives: 28979.0000 - val_loss: 5.0813 - val_output_1_loss: 0.0000e+00 - val_output_2_loss: 0.2076 - val_output_3_loss: 0.0138 - val_output_4_loss: 4.0155 - val_output_3_precision: 0.8843 - val_output_3_recall: 0.7490 - val_output_3_true_negatives: 7592017.0000 - val_output_3_true_positives: 8856.0000 - val_output_3_false_negatives: 2968.0000 - val_output_3_false_positives: 1159.0000\n",
      "Epoch 7/20\n",
      "4607/4607 [==============================] - 607s 132ms/step - loss: 8.3770 - output_1_loss: 2.1123e-06 - output_2_loss: 0.2971 - output_3_loss: 0.0213 - output_4_loss: 6.8487 - output_3_precision: 0.8326 - output_3_recall: 0.5355 - output_3_true_negatives: 186525504.0000 - output_3_true_positives: 144709.0000 - output_3_false_negatives: 125523.0000 - output_3_false_positives: 29103.0000 - val_loss: 4.7331 - val_output_1_loss: 0.0000e+00 - val_output_2_loss: 0.1983 - val_output_3_loss: 0.0127 - val_output_4_loss: 3.7163 - val_output_3_precision: 0.8879 - val_output_3_recall: 0.7700 - val_output_3_true_negatives: 7592027.0000 - val_output_3_true_positives: 9105.0000 - val_output_3_false_negatives: 2719.0000 - val_output_3_false_positives: 1149.0000\n",
      "Epoch 8/20\n",
      "4607/4607 [==============================] - 592s 128ms/step - loss: 8.4498 - output_1_loss: 8.6999e-06 - output_2_loss: 0.3039 - output_3_loss: 0.0215 - output_4_loss: 6.8872 - output_3_precision: 0.8323 - output_3_recall: 0.5336 - output_3_true_negatives: 186524992.0000 - output_3_true_positives: 144170.0000 - output_3_false_negatives: 126005.0000 - output_3_false_positives: 29054.0000 - val_loss: 4.7545 - val_output_1_loss: 0.0000e+00 - val_output_2_loss: 0.2049 - val_output_3_loss: 0.0126 - val_output_4_loss: 3.7049 - val_output_3_precision: 0.8907 - val_output_3_recall: 0.7565 - val_output_3_true_negatives: 7592078.0000 - val_output_3_true_positives: 8945.0000 - val_output_3_false_negatives: 2879.0000 - val_output_3_false_positives: 1098.0000\n",
      "Epoch 9/20\n",
      "4607/4607 [==============================] - 601s 130ms/step - loss: 8.3861 - output_1_loss: 2.5136e-06 - output_2_loss: 0.3007 - output_3_loss: 0.0214 - output_4_loss: 6.8400 - output_3_precision: 0.8341 - output_3_recall: 0.5373 - output_3_true_negatives: 186525440.0000 - output_3_true_positives: 145191.0000 - output_3_false_negatives: 125020.0000 - output_3_false_positives: 28881.0000 - val_loss: 4.7159 - val_output_1_loss: 0.0000e+00 - val_output_2_loss: 0.1964 - val_output_3_loss: 0.0125 - val_output_4_loss: 3.7087 - val_output_3_precision: 0.8864 - val_output_3_recall: 0.7870 - val_output_3_true_negatives: 7591983.0000 - val_output_3_true_positives: 9306.0000 - val_output_3_false_negatives: 2518.0000 - val_output_3_false_positives: 1193.0000\n",
      "Epoch 10/20\n",
      "4607/4607 [==============================] - 588s 128ms/step - loss: 8.4105 - output_1_loss: 0.0000e+00 - output_2_loss: 0.3084 - output_3_loss: 0.0213 - output_4_loss: 6.8260 - output_3_precision: 0.8347 - output_3_recall: 0.5397 - output_3_true_negatives: 186525088.0000 - output_3_true_positives: 145887.0000 - output_3_false_negatives: 124434.0000 - output_3_false_positives: 28897.0000 - val_loss: 4.5181 - val_output_1_loss: 0.0000e+00 - val_output_2_loss: 0.1942 - val_output_3_loss: 0.0120 - val_output_4_loss: 3.5231 - val_output_3_precision: 0.9077 - val_output_3_recall: 0.7726 - val_output_3_true_negatives: 7592247.0000 - val_output_3_true_positives: 9135.0000 - val_output_3_false_negatives: 2689.0000 - val_output_3_false_positives: 929.0000\n",
      "Epoch 11/20\n",
      "4607/4607 [==============================] - 583s 127ms/step - loss: 8.3187 - output_1_loss: 1.1415e-06 - output_2_loss: 0.3017 - output_3_loss: 0.0211 - output_4_loss: 6.7681 - output_3_precision: 0.8369 - output_3_recall: 0.5441 - output_3_true_negatives: 186525632.0000 - output_3_true_positives: 147019.0000 - output_3_false_negatives: 123202.0000 - output_3_false_positives: 28661.0000 - val_loss: 4.4566 - val_output_1_loss: 0.0000e+00 - val_output_2_loss: 0.1931 - val_output_3_loss: 0.0118 - val_output_4_loss: 3.4673 - val_output_3_precision: 0.9036 - val_output_3_recall: 0.7796 - val_output_3_true_negatives: 7592193.0000 - val_output_3_true_positives: 9218.0000 - val_output_3_false_negatives: 2606.0000 - val_output_3_false_positives: 983.0000\n",
      "Epoch 12/20\n",
      "4607/4607 [==============================] - 574s 125ms/step - loss: 8.2467 - output_1_loss: 2.8742e-06 - output_2_loss: 0.2949 - output_3_loss: 0.0211 - output_4_loss: 6.7302 - output_3_precision: 0.8398 - output_3_recall: 0.5475 - output_3_true_negatives: 186526048.0000 - output_3_true_positives: 147966.0000 - output_3_false_negatives: 122282.0000 - output_3_false_positives: 28233.0000 - val_loss: 4.4719 - val_output_1_loss: 0.0000e+00 - val_output_2_loss: 0.1917 - val_output_3_loss: 0.0119 - val_output_4_loss: 3.4897 - val_output_3_precision: 0.8937 - val_output_3_recall: 0.7857 - val_output_3_true_negatives: 7592071.0000 - val_output_3_true_positives: 9290.0000 - val_output_3_false_negatives: 2534.0000 - val_output_3_false_positives: 1105.0000\n",
      "Epoch 13/20\n",
      "4607/4607 [==============================] - 587s 127ms/step - loss: 8.1982 - output_1_loss: 1.5104e-07 - output_2_loss: 0.2929 - output_3_loss: 0.0209 - output_4_loss: 6.6917 - output_3_precision: 0.8408 - output_3_recall: 0.5494 - output_3_true_negatives: 186526144.0000 - output_3_true_positives: 148450.0000 - output_3_false_negatives: 121759.0000 - output_3_false_positives: 28110.0000 - val_loss: 4.4457 - val_output_1_loss: 0.0000e+00 - val_output_2_loss: 0.1918 - val_output_3_loss: 0.0117 - val_output_4_loss: 3.4633 - val_output_3_precision: 0.8820 - val_output_3_recall: 0.8067 - val_output_3_true_negatives: 7591900.0000 - val_output_3_true_positives: 9539.0000 - val_output_3_false_negatives: 2285.0000 - val_output_3_false_positives: 1276.0000\n",
      "Epoch 14/20\n",
      "4607/4607 [==============================] - 547s 119ms/step - loss: 8.1992 - output_1_loss: 2.6982e-06 - output_2_loss: 0.3006 - output_3_loss: 0.0208 - output_4_loss: 6.6546 - output_3_precision: 0.8411 - output_3_recall: 0.5525 - output_3_true_negatives: 186525824.0000 - output_3_true_positives: 149331.0000 - output_3_false_negatives: 120973.0000 - output_3_false_positives: 28207.0000 - val_loss: 4.3740 - val_output_1_loss: 0.0000e+00 - val_output_2_loss: 0.1866 - val_output_3_loss: 0.0115 - val_output_4_loss: 3.4182 - val_output_3_precision: 0.9053 - val_output_3_recall: 0.7794 - val_output_3_true_negatives: 7592212.0000 - val_output_3_true_positives: 9216.0000 - val_output_3_false_negatives: 2608.0000 - val_output_3_false_positives: 964.0000\n",
      "Epoch 15/20\n",
      "4607/4607 [==============================] - 569s 124ms/step - loss: 8.2297 - output_1_loss: 9.9456e-06 - output_2_loss: 0.3107 - output_3_loss: 0.0206 - output_4_loss: 6.6351 - output_3_precision: 0.8420 - output_3_recall: 0.5561 - output_3_true_negatives: 186525760.0000 - output_3_true_positives: 150309.0000 - output_3_false_negatives: 119979.0000 - output_3_false_positives: 28207.0000 - val_loss: 4.2950 - val_output_1_loss: 0.0000e+00 - val_output_2_loss: 0.1879 - val_output_3_loss: 0.0114 - val_output_4_loss: 3.3329 - val_output_3_precision: 0.9031 - val_output_3_recall: 0.7970 - val_output_3_true_negatives: 7592165.0000 - val_output_3_true_positives: 9424.0000 - val_output_3_false_negatives: 2400.0000 - val_output_3_false_positives: 1011.0000\n",
      "Epoch 16/20\n",
      "4607/4607 [==============================] - 567s 123ms/step - loss: 8.0944 - output_1_loss: 4.0059e-09 - output_2_loss: 0.2879 - output_3_loss: 0.0206 - output_4_loss: 6.6138 - output_3_precision: 0.8422 - output_3_recall: 0.5565 - output_3_true_negatives: 186525664.0000 - output_3_true_positives: 150367.0000 - output_3_false_negatives: 119827.0000 - output_3_false_positives: 28170.0000 - val_loss: 4.2075 - val_output_1_loss: 0.0000e+00 - val_output_2_loss: 0.1873 - val_output_3_loss: 0.0110 - val_output_4_loss: 3.2491 - val_output_3_precision: 0.9029 - val_output_3_recall: 0.8132 - val_output_3_true_negatives: 7592142.0000 - val_output_3_true_positives: 9615.0000 - val_output_3_false_negatives: 2209.0000 - val_output_3_false_positives: 1034.0000\n",
      "Epoch 17/20\n",
      "4607/4607 [==============================] - 571s 124ms/step - loss: 8.1222 - output_1_loss: 3.6174e-06 - output_2_loss: 0.2928 - output_3_loss: 0.0207 - output_4_loss: 6.6170 - output_3_precision: 0.8426 - output_3_recall: 0.5561 - output_3_true_negatives: 186526048.0000 - output_3_true_positives: 150279.0000 - output_3_false_negatives: 119962.0000 - output_3_false_positives: 28082.0000 - val_loss: 4.1644 - val_output_1_loss: 0.0000e+00 - val_output_2_loss: 0.1826 - val_output_3_loss: 0.0109 - val_output_4_loss: 3.2293 - val_output_3_precision: 0.9092 - val_output_3_recall: 0.8067 - val_output_3_true_negatives: 7592224.0000 - val_output_3_true_positives: 9538.0000 - val_output_3_false_negatives: 2286.0000 - val_output_3_false_positives: 952.0000\n",
      "Epoch 18/20\n",
      "4607/4607 [==============================] - 505s 110ms/step - loss: 7.9896 - output_1_loss: 7.9618e-07 - output_2_loss: 0.2897 - output_3_loss: 0.0203 - output_4_loss: 6.5002 - output_3_precision: 0.8474 - output_3_recall: 0.5661 - output_3_true_negatives: 186526464.0000 - output_3_true_positives: 152979.0000 - output_3_false_negatives: 117239.0000 - output_3_false_positives: 27555.0000 - val_loss: 4.1482 - val_output_1_loss: 0.0000e+00 - val_output_2_loss: 0.1858 - val_output_3_loss: 0.0110 - val_output_4_loss: 3.1971 - val_output_3_precision: 0.9048 - val_output_3_recall: 0.8072 - val_output_3_true_negatives: 7592172.0000 - val_output_3_true_positives: 9544.0000 - val_output_3_false_negatives: 2280.0000 - val_output_3_false_positives: 1004.0000\n",
      "Epoch 19/20\n",
      "4607/4607 [==============================] - 519s 113ms/step - loss: 8.0112 - output_1_loss: 1.3141e-05 - output_2_loss: 0.2994 - output_3_loss: 0.0202 - output_4_loss: 6.4736 - output_3_precision: 0.8467 - output_3_recall: 0.5680 - output_3_true_negatives: 186526032.0000 - output_3_true_positives: 153487.0000 - output_3_false_negatives: 116741.0000 - output_3_false_positives: 27800.0000 - val_loss: 4.1859 - val_output_1_loss: 0.0000e+00 - val_output_2_loss: 0.1855 - val_output_3_loss: 0.0110 - val_output_4_loss: 3.2364 - val_output_3_precision: 0.9118 - val_output_3_recall: 0.7999 - val_output_3_true_negatives: 7592261.0000 - val_output_3_true_positives: 9458.0000 - val_output_3_false_negatives: 2366.0000 - val_output_3_false_positives: 915.0000\n",
      "Epoch 20/20\n",
      "4607/4607 [==============================] - 552s 120ms/step - loss: 7.9511 - output_1_loss: 3.6633e-06 - output_2_loss: 0.2936 - output_3_loss: 0.0200 - output_4_loss: 6.4428 - output_3_precision: 0.8467 - output_3_recall: 0.5698 - output_3_true_negatives: 186526144.0000 - output_3_true_positives: 153943.0000 - output_3_false_negatives: 116234.0000 - output_3_false_positives: 27871.0000 - val_loss: 4.0006 - val_output_1_loss: 0.0000e+00 - val_output_2_loss: 0.1810 - val_output_3_loss: 0.0104 - val_output_4_loss: 3.0747 - val_output_3_precision: 0.9138 - val_output_3_recall: 0.8126 - val_output_3_true_negatives: 7592270.0000 - val_output_3_true_positives: 9608.0000 - val_output_3_false_negatives: 2216.0000 - val_output_3_false_positives: 906.0000\n"
     ]
    }
   ],
   "source": [
    "history = model.fit(train_dataset, epochs=20,validation_data=val_dataset)"
   ]
  },
  {
   "cell_type": "code",
   "execution_count": null,
   "metadata": {},
   "outputs": [],
   "source": []
  },
  {
   "cell_type": "code",
   "execution_count": 10,
   "metadata": {},
   "outputs": [],
   "source": [
    "os.chdir(\"/home/sergio/Documents/json_experiments\")\n",
    "import json\n",
    "#json.dumps(str(a))\n",
    "with open('history_finetuning_5521_50_70_epoch_nadam_1e-5_msle_exp_mse_3anchors_NUEVO_TRAIN.json', 'w') as fp:\n",
    "    json.dump(str(history.history), fp)"
   ]
  },
  {
   "cell_type": "code",
   "execution_count": 11,
   "metadata": {},
   "outputs": [],
   "source": [
    "model.save_weights('/home/sergio/Documents/weights_saved/pesos_finetuning_5521_50_70_epoch_nadam_1e-5_msle_exp_mse_3anchors_NUEVO_TRAIN')"
   ]
  },
  {
   "cell_type": "code",
   "execution_count": null,
   "metadata": {},
   "outputs": [],
   "source": []
  }
 ],
 "metadata": {
  "kernelspec": {
   "display_name": "Python 3",
   "language": "python",
   "name": "python3"
  },
  "language_info": {
   "codemirror_mode": {
    "name": "ipython",
    "version": 3
   },
   "file_extension": ".py",
   "mimetype": "text/x-python",
   "name": "python",
   "nbconvert_exporter": "python",
   "pygments_lexer": "ipython3",
   "version": "3.6.9"
  }
 },
 "nbformat": 4,
 "nbformat_minor": 4
}
