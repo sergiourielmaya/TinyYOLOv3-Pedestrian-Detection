{
 "cells": [
  {
   "cell_type": "code",
   "execution_count": 1,
   "metadata": {},
   "outputs": [],
   "source": [
    "import numpy as np\n",
    "import matplotlib.pyplot as plt\n",
    "import pandas as pd\n",
    "import os"
   ]
  },
  {
   "cell_type": "code",
   "execution_count": 2,
   "metadata": {},
   "outputs": [],
   "source": [
    "root_path=\"/tf/home/sergio/Tesis\""
   ]
  },
  {
   "cell_type": "code",
   "execution_count": 3,
   "metadata": {},
   "outputs": [],
   "source": [
    "def compute_ap(recall, precision):\n",
    "    \"\"\" Compute the average precision, given the recall and precision curves.\n",
    "    Code originally from https://github.com/rbgirshick/py-faster-rcnn.\n",
    "    # Arguments\n",
    "        recall:    The recall curve (list).\n",
    "        precision: The precision curve (list).\n",
    "    # Returns\n",
    "        The average precision as computed in py-faster-rcnn.\n",
    "    \"\"\"\n",
    "    # correct AP calculation\n",
    "    # first append sentinel values at the end\n",
    "\n",
    "    mrec = np.concatenate(([0.], recall, [1.]))\n",
    "    mpre = np.concatenate(([0.], precision, [0.]))\n",
    "\n",
    "    # compute the precision envelope\n",
    "    for i in range(mpre.size - 1, 0, -1):\n",
    "        mpre[i - 1] = np.maximum(mpre[i - 1], mpre[i])\n",
    "\n",
    "    # to calculate area under PR curve, look for points\n",
    "    # where X axis (recall) changes value\n",
    "    i = np.where(mrec[1:] != mrec[:-1])[0]\n",
    "\n",
    "    # and sum (\\Delta recall) * prec\n",
    "    ap = np.sum((mrec[i + 1] - mrec[i]) * mpre[i + 1])\n",
    "    return ap"
   ]
  },
  {
   "cell_type": "code",
   "execution_count": 4,
   "metadata": {},
   "outputs": [
    {
     "data": {
      "text/plain": [
       "['detections_df_best_result_2_anchors',\n",
       " 'confusion_matrix_best_2_anchors',\n",
       " 'json_final_experiment',\n",
       " 'Atropellan a 7 peatones al día en la CDMX.mp4',\n",
       " 'ap_results.png',\n",
       " 'pedestrian_dataset_val_tfr_fixed',\n",
       " '.ipynb_checkpoints',\n",
       " 'detections_df_original',\n",
       " 'ap_results',\n",
       " 'COCODataset',\n",
       " 'yolo_darknet',\n",
       " 'training_2',\n",
       " 'confusion_matrix_original',\n",
       " 'weights_transfer_learning',\n",
       " 'training_3',\n",
       " 'VOC2012',\n",
       " 'weights_saved',\n",
       " 'pedestrian_dataset_train_tfr',\n",
       " 'training_1',\n",
       " 'Madeo_peatones.mp4',\n",
       " 'confusion_matrix_best_3_anchors',\n",
       " 'imagenes_estudio_caso',\n",
       " 'detections_df_best_result_3_anchors',\n",
       " 'training_4',\n",
       " 'TinyYOLOv3-Pedestrian-Detection',\n",
       " 'last_weights']"
      ]
     },
     "execution_count": 4,
     "metadata": {},
     "output_type": "execute_result"
    }
   ],
   "source": [
    "os.chdir(root_path)\n",
    "os.listdir()"
   ]
  },
  {
   "cell_type": "code",
   "execution_count": 5,
   "metadata": {},
   "outputs": [],
   "source": [
    "best_3_anchors_df = pd.read_csv(\"detections_df_best_result_3_anchors\").iloc[:,2:]\n",
    "best_2_anchors_df = pd.read_csv(\"detections_df_best_result_2_anchors\").iloc[:,2:]\n",
    "original_df = pd.read_csv(\"detections_df_original\").iloc[:,2:]"
   ]
  },
  {
   "cell_type": "code",
   "execution_count": 6,
   "metadata": {},
   "outputs": [
    {
     "data": {
      "text/html": [
       "<div>\n",
       "<style scoped>\n",
       "    .dataframe tbody tr th:only-of-type {\n",
       "        vertical-align: middle;\n",
       "    }\n",
       "\n",
       "    .dataframe tbody tr th {\n",
       "        vertical-align: top;\n",
       "    }\n",
       "\n",
       "    .dataframe thead th {\n",
       "        text-align: right;\n",
       "    }\n",
       "</style>\n",
       "<table border=\"1\" class=\"dataframe\">\n",
       "  <thead>\n",
       "    <tr style=\"text-align: right;\">\n",
       "      <th></th>\n",
       "      <th>xmin</th>\n",
       "      <th>ymin</th>\n",
       "      <th>xmax</th>\n",
       "      <th>ymax</th>\n",
       "      <th>score</th>\n",
       "      <th>xy_error</th>\n",
       "      <th>wh_error</th>\n",
       "      <th>TP</th>\n",
       "      <th>FP</th>\n",
       "      <th>iou</th>\n",
       "      <th>cum TP</th>\n",
       "      <th>cum FP</th>\n",
       "      <th>Precision</th>\n",
       "      <th>Recall</th>\n",
       "    </tr>\n",
       "  </thead>\n",
       "  <tbody>\n",
       "    <tr>\n",
       "      <th>0</th>\n",
       "      <td>0.743972</td>\n",
       "      <td>0.339459</td>\n",
       "      <td>0.857438</td>\n",
       "      <td>0.746418</td>\n",
       "      <td>0.999998</td>\n",
       "      <td>0.000718</td>\n",
       "      <td>0.002778</td>\n",
       "      <td>1</td>\n",
       "      <td>0</td>\n",
       "      <td>0.747773</td>\n",
       "      <td>1</td>\n",
       "      <td>0</td>\n",
       "      <td>1.000000</td>\n",
       "      <td>0.000091</td>\n",
       "    </tr>\n",
       "    <tr>\n",
       "      <th>1</th>\n",
       "      <td>0.480169</td>\n",
       "      <td>0.006170</td>\n",
       "      <td>0.618323</td>\n",
       "      <td>0.386322</td>\n",
       "      <td>0.999948</td>\n",
       "      <td>0.000750</td>\n",
       "      <td>0.000032</td>\n",
       "      <td>1</td>\n",
       "      <td>0</td>\n",
       "      <td>0.660039</td>\n",
       "      <td>2</td>\n",
       "      <td>0</td>\n",
       "      <td>1.000000</td>\n",
       "      <td>0.000182</td>\n",
       "    </tr>\n",
       "    <tr>\n",
       "      <th>2</th>\n",
       "      <td>0.581002</td>\n",
       "      <td>0.263253</td>\n",
       "      <td>0.703770</td>\n",
       "      <td>0.741898</td>\n",
       "      <td>0.999923</td>\n",
       "      <td>0.000004</td>\n",
       "      <td>0.000205</td>\n",
       "      <td>1</td>\n",
       "      <td>0</td>\n",
       "      <td>0.935711</td>\n",
       "      <td>3</td>\n",
       "      <td>0</td>\n",
       "      <td>1.000000</td>\n",
       "      <td>0.000273</td>\n",
       "    </tr>\n",
       "    <tr>\n",
       "      <th>3</th>\n",
       "      <td>0.813451</td>\n",
       "      <td>0.312248</td>\n",
       "      <td>0.960474</td>\n",
       "      <td>0.659337</td>\n",
       "      <td>0.999903</td>\n",
       "      <td>0.000055</td>\n",
       "      <td>0.000083</td>\n",
       "      <td>1</td>\n",
       "      <td>0</td>\n",
       "      <td>0.899746</td>\n",
       "      <td>4</td>\n",
       "      <td>0</td>\n",
       "      <td>1.000000</td>\n",
       "      <td>0.000364</td>\n",
       "    </tr>\n",
       "    <tr>\n",
       "      <th>4</th>\n",
       "      <td>0.355499</td>\n",
       "      <td>0.170107</td>\n",
       "      <td>0.511371</td>\n",
       "      <td>0.533397</td>\n",
       "      <td>0.999898</td>\n",
       "      <td>0.000351</td>\n",
       "      <td>0.002991</td>\n",
       "      <td>1</td>\n",
       "      <td>0</td>\n",
       "      <td>0.678627</td>\n",
       "      <td>5</td>\n",
       "      <td>0</td>\n",
       "      <td>1.000000</td>\n",
       "      <td>0.000454</td>\n",
       "    </tr>\n",
       "    <tr>\n",
       "      <th>...</th>\n",
       "      <td>...</td>\n",
       "      <td>...</td>\n",
       "      <td>...</td>\n",
       "      <td>...</td>\n",
       "      <td>...</td>\n",
       "      <td>...</td>\n",
       "      <td>...</td>\n",
       "      <td>...</td>\n",
       "      <td>...</td>\n",
       "      <td>...</td>\n",
       "      <td>...</td>\n",
       "      <td>...</td>\n",
       "      <td>...</td>\n",
       "      <td>...</td>\n",
       "    </tr>\n",
       "    <tr>\n",
       "      <th>4287</th>\n",
       "      <td>0.388805</td>\n",
       "      <td>0.236340</td>\n",
       "      <td>0.424325</td>\n",
       "      <td>0.357725</td>\n",
       "      <td>0.500512</td>\n",
       "      <td>0.000344</td>\n",
       "      <td>0.003302</td>\n",
       "      <td>0</td>\n",
       "      <td>1</td>\n",
       "      <td>0.321055</td>\n",
       "      <td>2893</td>\n",
       "      <td>1395</td>\n",
       "      <td>0.674673</td>\n",
       "      <td>0.262904</td>\n",
       "    </tr>\n",
       "    <tr>\n",
       "      <th>4288</th>\n",
       "      <td>0.291121</td>\n",
       "      <td>0.169906</td>\n",
       "      <td>0.578895</td>\n",
       "      <td>0.869067</td>\n",
       "      <td>0.500449</td>\n",
       "      <td>0.001453</td>\n",
       "      <td>0.001689</td>\n",
       "      <td>1</td>\n",
       "      <td>0</td>\n",
       "      <td>0.796074</td>\n",
       "      <td>2894</td>\n",
       "      <td>1395</td>\n",
       "      <td>0.674749</td>\n",
       "      <td>0.262995</td>\n",
       "    </tr>\n",
       "    <tr>\n",
       "      <th>4289</th>\n",
       "      <td>0.455849</td>\n",
       "      <td>0.162589</td>\n",
       "      <td>0.483670</td>\n",
       "      <td>0.235058</td>\n",
       "      <td>0.500250</td>\n",
       "      <td>0.000051</td>\n",
       "      <td>0.000044</td>\n",
       "      <td>1</td>\n",
       "      <td>0</td>\n",
       "      <td>0.536381</td>\n",
       "      <td>2895</td>\n",
       "      <td>1395</td>\n",
       "      <td>0.674825</td>\n",
       "      <td>0.263086</td>\n",
       "    </tr>\n",
       "    <tr>\n",
       "      <th>4290</th>\n",
       "      <td>0.749914</td>\n",
       "      <td>0.749281</td>\n",
       "      <td>0.763947</td>\n",
       "      <td>0.794428</td>\n",
       "      <td>0.500231</td>\n",
       "      <td>0.000133</td>\n",
       "      <td>0.000096</td>\n",
       "      <td>0</td>\n",
       "      <td>1</td>\n",
       "      <td>0.201625</td>\n",
       "      <td>2895</td>\n",
       "      <td>1396</td>\n",
       "      <td>0.674668</td>\n",
       "      <td>0.263086</td>\n",
       "    </tr>\n",
       "    <tr>\n",
       "      <th>4291</th>\n",
       "      <td>0.856446</td>\n",
       "      <td>0.204278</td>\n",
       "      <td>0.865972</td>\n",
       "      <td>0.229712</td>\n",
       "      <td>0.500069</td>\n",
       "      <td>-1.000000</td>\n",
       "      <td>-1.000000</td>\n",
       "      <td>0</td>\n",
       "      <td>1</td>\n",
       "      <td>0.000000</td>\n",
       "      <td>2895</td>\n",
       "      <td>1397</td>\n",
       "      <td>0.674511</td>\n",
       "      <td>0.263086</td>\n",
       "    </tr>\n",
       "  </tbody>\n",
       "</table>\n",
       "<p>4292 rows × 14 columns</p>\n",
       "</div>"
      ],
      "text/plain": [
       "          xmin      ymin      xmax      ymax     score  xy_error  wh_error  \\\n",
       "0     0.743972  0.339459  0.857438  0.746418  0.999998  0.000718  0.002778   \n",
       "1     0.480169  0.006170  0.618323  0.386322  0.999948  0.000750  0.000032   \n",
       "2     0.581002  0.263253  0.703770  0.741898  0.999923  0.000004  0.000205   \n",
       "3     0.813451  0.312248  0.960474  0.659337  0.999903  0.000055  0.000083   \n",
       "4     0.355499  0.170107  0.511371  0.533397  0.999898  0.000351  0.002991   \n",
       "...        ...       ...       ...       ...       ...       ...       ...   \n",
       "4287  0.388805  0.236340  0.424325  0.357725  0.500512  0.000344  0.003302   \n",
       "4288  0.291121  0.169906  0.578895  0.869067  0.500449  0.001453  0.001689   \n",
       "4289  0.455849  0.162589  0.483670  0.235058  0.500250  0.000051  0.000044   \n",
       "4290  0.749914  0.749281  0.763947  0.794428  0.500231  0.000133  0.000096   \n",
       "4291  0.856446  0.204278  0.865972  0.229712  0.500069 -1.000000 -1.000000   \n",
       "\n",
       "      TP  FP       iou  cum TP  cum FP  Precision    Recall  \n",
       "0      1   0  0.747773       1       0   1.000000  0.000091  \n",
       "1      1   0  0.660039       2       0   1.000000  0.000182  \n",
       "2      1   0  0.935711       3       0   1.000000  0.000273  \n",
       "3      1   0  0.899746       4       0   1.000000  0.000364  \n",
       "4      1   0  0.678627       5       0   1.000000  0.000454  \n",
       "...   ..  ..       ...     ...     ...        ...       ...  \n",
       "4287   0   1  0.321055    2893    1395   0.674673  0.262904  \n",
       "4288   1   0  0.796074    2894    1395   0.674749  0.262995  \n",
       "4289   1   0  0.536381    2895    1395   0.674825  0.263086  \n",
       "4290   0   1  0.201625    2895    1396   0.674668  0.263086  \n",
       "4291   0   1  0.000000    2895    1397   0.674511  0.263086  \n",
       "\n",
       "[4292 rows x 14 columns]"
      ]
     },
     "execution_count": 6,
     "metadata": {},
     "output_type": "execute_result"
    }
   ],
   "source": [
    "best_3_anchors_df"
   ]
  },
  {
   "cell_type": "code",
   "execution_count": 7,
   "metadata": {},
   "outputs": [],
   "source": [
    "best_3_ap = compute_ap(best_3_anchors_df[\"Recall\"].values, best_3_anchors_df[\"Precision\"].values)\n",
    "best_2_ap = compute_ap(best_2_anchors_df[\"Recall\"].values, best_2_anchors_df[\"Precision\"].values)\n",
    "original_ap = compute_ap(original_df[\"Recall\"].values, original_df[\"Precision\"].values)"
   ]
  },
  {
   "cell_type": "code",
   "execution_count": 8,
   "metadata": {},
   "outputs": [
    {
     "data": {
      "text/plain": [
       "'/tf/home/sergio/Tesis'"
      ]
     },
     "execution_count": 8,
     "metadata": {},
     "output_type": "execute_result"
    }
   ],
   "source": [
    "os.getcwd()"
   ]
  },
  {
   "cell_type": "code",
   "execution_count": 9,
   "metadata": {},
   "outputs": [
    {
     "data": {
      "image/png": "[encoded data removed]",
      "text/plain": [
       "<Figure size 1440x720 with 1 Axes>"
      ]
     },
     "metadata": {
      "needs_background": "light"
     },
     "output_type": "display_data"
    }
   ],
   "source": [
    "from matplotlib import rcParams\n",
    "import matplotlib\n",
    "import matplotlib.colors as mcolors\n",
    "\n",
    "rcParams['figure.figsize'] = 20, 10\n",
    "\n",
    "font = {'size'   : 15}\n",
    "\n",
    "matplotlib.rc('font', **font)\n",
    "\n",
    "coord_3 =[best_3_anchors_df.Recall.iloc[-1],best_3_anchors_df.Precision.iloc[-1]]\n",
    "coord_2 =[best_2_anchors_df.Recall.iloc[-1],best_2_anchors_df.Precision.iloc[-1]]\n",
    "coord_o =[original_df.Recall.iloc[-1],original_df.Precision.iloc[-1]]\n",
    "\n",
    "plt.plot(best_3_anchors_df.Recall,best_3_anchors_df.Precision, label = \"Best with 6 AB, AP={0:.3f}\".format(best_3_ap),linewidth=2)\n",
    "plt.plot(best_2_anchors_df.Recall,best_2_anchors_df.Precision, label = \"Best with 4 AB, AP={0:.3f}\".format(best_2_ap),linewidth=2)\n",
    "plt.plot(original_df.Recall,original_df.Precision, label = \"Original with 6 AB, AP={0:.3f}\".format(original_ap),linewidth=2)\n",
    "\n",
    "plt.text(coord_3[0]+0.003,coord_3[1],s=\"(\"+str(coord_3[0])[:5] + \",\" +  str(coord_3[1])[:5] + \")\" )\n",
    "plt.text(coord_2[0]+0.003,coord_2[1]-0.05,s=\"(\"+str(coord_2[0])[:5] + \",\" +  str(coord_2[1])[:5] + \")\" )\n",
    "plt.text(coord_o[0]+0.003,coord_o[1],s=\"(\"+str(coord_o[0])[:5] + \",\" +  str(coord_o[1])[:5] + \")\" )\n",
    "\n",
    "plt.plot(best_3_anchors_df.Recall.iloc[-1],best_3_anchors_df.Precision.iloc[-1],'o',color=mcolors.TABLEAU_COLORS[\"tab:blue\"])\n",
    "plt.plot(best_2_anchors_df.Recall.iloc[-1],best_2_anchors_df.Precision.iloc[-1],'o',color=mcolors.TABLEAU_COLORS[\"tab:orange\"])\n",
    "plt.plot(original_df.Recall.iloc[-1],original_df.Precision.iloc[-1],'o',color=mcolors.TABLEAU_COLORS[\"tab:green\"])\n",
    "\n",
    "plt.grid()\n",
    "plt.legend()\n",
    "plt.xlabel(\"Recall\")\n",
    "plt.ylabel(\"Precision\")\n",
    "plt.xlim([-0.005,0.32])\n",
    "plt.ylim([0,1.01])\n",
    "plt.title(\"\")\n",
    "\n",
    "plt.savefig(\"ap_results\",format=\"png\",dpi=200)"
   ]
  },
  {
   "cell_type": "code",
   "execution_count": 10,
   "metadata": {},
   "outputs": [
    {
     "data": {
      "text/plain": [
       "['detections_df_best_result_2_anchors',\n",
       " 'confusion_matrix_best_2_anchors',\n",
       " 'json_final_experiment',\n",
       " 'Atropellan a 7 peatones al día en la CDMX.mp4',\n",
       " 'ap_results.png',\n",
       " 'pedestrian_dataset_val_tfr_fixed',\n",
       " '.ipynb_checkpoints',\n",
       " 'detections_df_original',\n",
       " 'ap_results',\n",
       " 'COCODataset',\n",
       " 'yolo_darknet',\n",
       " 'training_2',\n",
       " 'confusion_matrix_original',\n",
       " 'weights_transfer_learning',\n",
       " 'training_3',\n",
       " 'VOC2012',\n",
       " 'weights_saved',\n",
       " 'pedestrian_dataset_train_tfr',\n",
       " 'training_1',\n",
       " 'Madeo_peatones.mp4',\n",
       " 'confusion_matrix_best_3_anchors',\n",
       " 'imagenes_estudio_caso',\n",
       " 'detections_df_best_result_3_anchors',\n",
       " 'training_4',\n",
       " 'TinyYOLOv3-Pedestrian-Detection',\n",
       " 'last_weights']"
      ]
     },
     "execution_count": 10,
     "metadata": {},
     "output_type": "execute_result"
    }
   ],
   "source": [
    "os.listdir()"
   ]
  },
  {
   "cell_type": "markdown",
   "metadata": {},
   "source": [
    "## CONFUSION MATRIX"
   ]
  },
  {
   "cell_type": "code",
   "execution_count": 13,
   "metadata": {},
   "outputs": [],
   "source": [
    "total_objects = 11004\n",
    "total_no_objects = 2693*2535 - total_objects"
   ]
  },
  {
   "cell_type": "code",
   "execution_count": 46,
   "metadata": {},
   "outputs": [],
   "source": [
    "def get_confusion_matrix(results_df):\n",
    "\n",
    "    TP = results_df[\"cum TP\"].iloc[-1]\n",
    "    FP =  results_df[\"cum FP\"].iloc[-1]\n",
    "    FN = total_objects - TP\n",
    "    TN = total_no_objects - FP\n",
    "\n",
    "    conf_matrix = np.array([[TP,FN],[FP,TN]])\n",
    "    print(conf_matrix)\n",
    "    print(conf_matrix.sum())\n",
    "    #conf_matrix=np.divide(conf_matrix,conf_matrix.sum(axis=0))\n",
    "    \n",
    "    return conf_matrix"
   ]
  },
  {
   "cell_type": "code",
   "execution_count": 47,
   "metadata": {},
   "outputs": [
    {
     "name": "stdout",
     "output_type": "stream",
     "text": [
      "Requirement already satisfied: seaborn in /usr/local/lib/python3.6/dist-packages (0.10.1)\n",
      "Requirement already satisfied: scipy>=1.0.1 in /usr/local/lib/python3.6/dist-packages (from seaborn) (1.4.1)\n",
      "Requirement already satisfied: matplotlib>=2.1.2 in /usr/local/lib/python3.6/dist-packages (from seaborn) (3.2.1)\n",
      "Requirement already satisfied: numpy>=1.13.3 in /usr/local/lib/python3.6/dist-packages (from seaborn) (1.18.4)\n",
      "Requirement already satisfied: pandas>=0.22.0 in /usr/local/lib/python3.6/dist-packages (from seaborn) (1.0.5)\n",
      "Requirement already satisfied: kiwisolver>=1.0.1 in /usr/local/lib/python3.6/dist-packages (from matplotlib>=2.1.2->seaborn) (1.2.0)\n",
      "Requirement already satisfied: python-dateutil>=2.1 in /usr/local/lib/python3.6/dist-packages (from matplotlib>=2.1.2->seaborn) (2.8.1)\n",
      "Requirement already satisfied: cycler>=0.10 in /usr/local/lib/python3.6/dist-packages (from matplotlib>=2.1.2->seaborn) (0.10.0)\n",
      "Requirement already satisfied: pyparsing!=2.0.4,!=2.1.2,!=2.1.6,>=2.0.1 in /usr/local/lib/python3.6/dist-packages (from matplotlib>=2.1.2->seaborn) (2.4.7)\n",
      "Requirement already satisfied: pytz>=2017.2 in /usr/local/lib/python3.6/dist-packages (from pandas>=0.22.0->seaborn) (2020.1)\n",
      "Requirement already satisfied: six>=1.5 in /usr/local/lib/python3.6/dist-packages (from python-dateutil>=2.1->matplotlib>=2.1.2->seaborn) (1.14.0)\n",
      "\u001b[33mWARNING: You are using pip version 20.1; however, version 20.1.1 is available.\n",
      "You should consider upgrading via the '/usr/bin/python3 -m pip install --upgrade pip' command.\u001b[0m\n"
     ]
    }
   ],
   "source": [
    "!pip install seaborn"
   ]
  },
  {
   "cell_type": "code",
   "execution_count": 48,
   "metadata": {},
   "outputs": [],
   "source": [
    "import seaborn as sn\n",
    "import pandas as pd\n",
    "\n",
    "sn.set(font_scale=1.3)"
   ]
  },
  {
   "cell_type": "code",
   "execution_count": 53,
   "metadata": {
    "scrolled": false
   },
   "outputs": [
    {
     "name": "stdout",
     "output_type": "stream",
     "text": [
      "[[   1744    9260]\n",
      " [   1529 6814222]]\n",
      "6826755\n"
     ]
    },
    {
     "data": {
      "image/png": "[encoded data removed]",
      "text/plain": [
       "<Figure size 720x504 with 2 Axes>"
      ]
     },
     "metadata": {},
     "output_type": "display_data"
    }
   ],
   "source": [
    "from matplotlib.colors import ListedColormap\n",
    "\n",
    "\n",
    "conf_matrix = get_confusion_matrix(original_df)\n",
    "\n",
    "\n",
    "plt.rcParams['xtick.top'] = plt.rcParams['xtick.labeltop'] = True\n",
    "\n",
    "df_cm = pd.DataFrame(conf_matrix, index = [i for i in \"10\"],\n",
    "                  columns = [i for i in \"10\"])\n",
    "plt.figure(figsize = (10,7))\n",
    "plot = sn.heatmap(df_cm, annot=True,cmap=\"Greys\", fmt='g')#,xticklabels=[\"Predicted labels\"], yticklabels=[\"True labels\"])\n",
    "\n",
    "plot.xaxis.tick_top()\n",
    "plot.set_ylabel(\"True labels\",)\n",
    "plot.set_title(\"Predicted labels\")\n",
    "\n",
    "plt.savefig(\"confusion_matrix_original\",dpi=200,format=\"png\")"
   ]
  },
  {
   "cell_type": "code",
   "execution_count": null,
   "metadata": {},
   "outputs": [],
   "source": []
  },
  {
   "cell_type": "code",
   "execution_count": null,
   "metadata": {},
   "outputs": [],
   "source": []
  }
 ],
 "metadata": {
  "kernelspec": {
   "display_name": "Python 3",
   "language": "python",
   "name": "python3"
  },
  "language_info": {
   "codemirror_mode": {
    "name": "ipython",
    "version": 3
   },
   "file_extension": ".py",
   "mimetype": "text/x-python",
   "name": "python",
   "nbconvert_exporter": "python",
   "pygments_lexer": "ipython3",
   "version": "3.6.9"
  }
 },
 "nbformat": 4,
 "nbformat_minor": 2
}
