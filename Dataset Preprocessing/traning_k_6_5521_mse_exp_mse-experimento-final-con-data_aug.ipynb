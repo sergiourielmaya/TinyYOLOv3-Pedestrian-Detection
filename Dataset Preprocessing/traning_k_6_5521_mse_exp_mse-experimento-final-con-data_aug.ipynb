{
 "cells": [
  {
   "cell_type": "code",
   "execution_count": 1,
   "metadata": {},
   "outputs": [],
   "source": [
    "root_path = \"/tf/home/sergio/Tesis\""
   ]
  },
  {
   "cell_type": "code",
   "execution_count": 2,
   "metadata": {},
   "outputs": [],
   "source": [
    "import sys\n",
    "sys.path.append(root_path+\"/TinyYOLOv3-Pedestrian-Detection\")\n",
    "\n",
    "from YOLOblocks import TinyYOLOv3,BasicBlock,PredictionLayer#,YOLOLossBasicBlock\n",
    "import numpy as np\n",
    "import matplotlib.pyplot as plt\n",
    "import tensorflow as tf\n",
    "#from tensorflow.python.tools import freeze_graph\n",
    "#from skimage.io import imread,imshow\n",
    "#from skimage.transform import resize \n",
    "import time\n",
    "#from tensorflow.compat.v1.image import decode_image\n",
    "import imgaug.augmenters as iaa\n",
    "from imgaug.augmentables.bbs import BoundingBox, BoundingBoxesOnImage\n",
    "import os"
   ]
  },
  {
   "cell_type": "markdown",
   "metadata": {},
   "source": [
    "## Dataset preparation"
   ]
  },
  {
   "cell_type": "code",
   "execution_count": 3,
   "metadata": {},
   "outputs": [],
   "source": [
    "image_feature_description = {\n",
    "    'bboxes': tf.io.FixedLenFeature([], tf.string),\n",
    "    'image_raw': tf.io.FixedLenFeature([], tf.string),\n",
    "    'num_real_boxes':tf.io.FixedLenFeature([], tf.int64),\n",
    "}"
   ]
  },
  {
   "cell_type": "code",
   "execution_count": 4,
   "metadata": {},
   "outputs": [],
   "source": [
    "def get_iou_matrix_tf(box_arr1, box_arr2):\n",
    "    \n",
    "    box_arr1 = box_arr1 -tf.tile(box_arr1[:,:2],[1,2])\n",
    "    #print(box_arr1)\n",
    "    x11, y11, x12, y12 = tf.split(box_arr1, 4, axis=1)\n",
    "    x21, y21, x22, y22 = tf.split(box_arr2, 4, axis=1)\n",
    "    xA = tf.maximum(x11, tf.transpose(x21))\n",
    "    yA = tf.maximum(y11, tf.transpose(y21))\n",
    "    xB = tf.minimum(x12, tf.transpose(x22))\n",
    "    yB = tf.minimum(y12, tf.transpose(y22))\n",
    "    interArea = tf.maximum((xB - xA + 1e-9), 0) * tf.maximum((yB - yA + 1e-9), 0)\n",
    "    boxAArea = (x12 - x11 + 1e-9) * (y12 - y11 + 1e-9)\n",
    "    boxBArea = (x22 - x21 + 1e-9) * (y22 - y21 + 1e-9)\n",
    "    iou = interArea / (boxAArea + tf.transpose(boxBArea) - interArea)\n",
    "    return iou,tf.argmax(iou,axis=1)#[:,tf.newaxis]\n",
    "\n",
    "\n",
    "def fill_yolo_output(boxes,grid_size,num_anchors,which_anchor_box,which_anchor_box_index):\n",
    "    #print(boxes.shape)\n",
    "    #noobj_mask = tf.ones((1,grid_size*grid_size*num_anchors))\n",
    "    #print(noobj_mask.shape)\n",
    "    \n",
    "    x_min,y_min,x_max,y_max =tf.split(boxes,4,axis=1)\n",
    "\n",
    "    #Transforma las coordenadas de (xmin,ymin,xmax,ymax) --> (xcenter,ycenter,width,height)\n",
    "    width = x_max-x_min\n",
    "    height = y_max-y_min\n",
    "    x_global =x_min + tf.math.divide(x_max - x_min,2)\n",
    "    y_global =y_min + tf.math.divide(y_max - y_min,2)\n",
    "    \n",
    "    \n",
    "    x_min_anchor,y_min_anchor,x_max_anchor,y_max_anchor =tf.split(which_anchor_box,4,axis=1)\n",
    "    \n",
    "    width_anchor = x_max_anchor-x_min_anchor\n",
    "    height_anchor = y_max_anchor-y_min_anchor\n",
    "    x_global_anchor =x_min_anchor + tf.math.divide(x_max_anchor - x_min_anchor,2)\n",
    "    y_global_anchor =y_min_anchor + tf.math.divide(y_max_anchor - y_min_anchor,2)   \n",
    "\n",
    "    \n",
    "    #print(\"el x original\",x_global)\n",
    "    #print(\"el y original\",y_global)\n",
    "    #print(\"el w original\",width)\n",
    "    #print(\"el h original\",height)\n",
    "    \n",
    "    #porción de la imagen que hay en cada celda\n",
    "    pixel_per_grid = tf.math.divide(1.,grid_size)\n",
    "    #print(pixel_per_grid)\n",
    "    \n",
    "    #Obtenemos la coordenada de la celda donde están los boundingboxes\n",
    "    offset_grid_x = x_global//pixel_per_grid\n",
    "    offset_grid_y = y_global//pixel_per_grid\n",
    "    \n",
    "    #Obtenemos el el centro locacon referencia  al celda encontrada previamente\n",
    "    x_local =tf.math.floormod(x_global,pixel_per_grid)\n",
    "    y_local =tf.math.floormod(y_global,pixel_per_grid)\n",
    "    #print(x_local,y_local)\n",
    "    \n",
    "    #Valores tx e ty del groudtruth\n",
    "    tx = tf.math.log(x_local + 1e-07/(1-x_local))\n",
    "    ty = tf.math.log(y_local+1e-07/(1-y_local))\n",
    "    tw = tf.math.log(tf.math.divide(width+1e-07,width_anchor))\n",
    "    th = tf.math.log(tf.math.divide(height+1e-07,height_anchor))\n",
    "    tobj_mask = tf.ones_like(tx)\n",
    "    tobj = tf.concat([tobj_mask,tobj_mask],axis=0)\n",
    "    \n",
    "    #tnoobj = tf.zeros_like(tx)    \n",
    "    #tobj = tf.ones((grid_size*grid_size*num_anchors,1))\n",
    "    #tnoobj = tf.zeros((grid_size*grid_size*num_anchors,1))\n",
    "    #print(\"Lo que la red debe predecir\",tx.numpy(),ty.numpy(),tw.numpy(),th.numpy())\n",
    "    #x_global = (offset_grid_x * pixel_per_grid) + tf.math.sigmoid(tx)\n",
    "    #y_global = (offset_grid_y * pixel_per_grid) + tf.math.sigmoid(ty)\n",
    "    #w = width_anchor*tf.math.exp(tw)\n",
    "    #h = height_anchor*tf.math.exp(th)\n",
    "    #print(\"obtnemos el x_real\",x_global)\n",
    "    #print(\"obtenemos el y_real\",y_global)\n",
    "    #print(\"obtenemos el w real\",w)\n",
    "    #print(\"obtenemos el h real\",h)\n",
    "    \n",
    "    #anchor_boxes_per_output = num_anchors//2\n",
    "\n",
    "    #Residuo indica cual de los 3 anchor boxes de la coordenada es la que llevara el 1\n",
    "    #Coord representa la coordenada del grid\n",
    "    \n",
    "    residuo = tf.math.floormod(which_anchor_box_index,num_anchors)[:,tf.newaxis]\n",
    "    coord = tf.cast(num_anchors*(offset_grid_y*grid_size + offset_grid_x),dtype=tf.int64)\n",
    "    \n",
    "    coord_objectness = tf.cast(2*(offset_grid_y*grid_size + offset_grid_x),dtype=tf.int64)\n",
    "    coord_objectness2 = coord_objectness+1\n",
    "    coord_objectess_global = tf.concat([coord_objectness,coord_objectness2],axis=0)\n",
    "    \n",
    "    output_position = residuo+coord\n",
    "    print(\"tipo de aoutput_positivon\",output_position)\n",
    "    \n",
    "    print(output_position)\n",
    "    \n",
    "    dense_shape = grid_size*grid_size*num_anchors\n",
    "    print(dense_shape)\n",
    "    tx_vector = tf.sparse.reorder(tf.sparse.SparseTensor(indices=output_position, values=tx[:,0], dense_shape=[dense_shape]))\n",
    "    ty_vector = tf.sparse.reorder(tf.sparse.SparseTensor(indices=output_position, values=ty[:,0], dense_shape=[dense_shape]))\n",
    "    tw_vector = tf.sparse.reorder(tf.sparse.SparseTensor(indices=output_position, values=tw[:,0], dense_shape=[dense_shape]))\n",
    "    th_vector = tf.sparse.reorder(tf.sparse.SparseTensor(indices=output_position, values=th[:,0], dense_shape=[dense_shape]))\n",
    "    obj_mask = tf.sparse.reorder(tf.sparse.SparseTensor(indices=output_position, values=tobj_mask[:,0], dense_shape=[dense_shape]))\n",
    "    objectness_vector = tf.sparse.reorder(tf.sparse.SparseTensor(indices=coord_objectess_global, values=tobj[:,0], dense_shape=[dense_shape]))\n",
    "    #noobj_mask = tf.sparse.reorder(tf.sparse.SparseTensor(indices=output_position, values=tnoobj[:,0], dense_shape=[dense_shape]))\n",
    "    #obj_mask =tx_vector=ty_vector=tw_vector=th_vector = tf.zeros((1,grid_size*grid_size*num_anchors))\n",
    "    \n",
    "    tx_vector_dense = tf.sparse.to_dense(tx_vector, default_value=0, validate_indices=False, name=\"Dense_tx\")\n",
    "    ty_vector_dense = tf.sparse.to_dense(ty_vector, default_value=0, validate_indices=False, name=\"Dense_ty\")\n",
    "    tw_vector_dense = tf.sparse.to_dense(tw_vector, default_value=0, validate_indices=False, name=\"Dense_tw\")\n",
    "    th_vector_dense = tf.sparse.to_dense(th_vector, default_value=0, validate_indices=False, name=\"Dense_th\")\n",
    "    obj_mask_dense =  tf.sparse.to_dense(obj_mask, default_value=0, validate_indices=False, name=\"Dense_obj\")\n",
    "    #noobj_mask_dense = 1-obj_mask_dense\n",
    "    objectness_vector_dense =  tf.sparse.to_dense(objectness_vector, default_value=0, validate_indices=False)\n",
    "    \n",
    "    #noobj_mask_dense= tf.sparse.to_dense(noobj_mask, default_value=1, validate_indices=False, name=\"Dense_noobj\")\n",
    "    ##print(tx_vector.to_dense)\n",
    "    #print(tf.sparse.to_dense(tx_vector, default_value=0, validate_indices=True, name=None)\n",
    "    #tx_vector=tx_vector[[3,2],]\n",
    "    #tx_vector[output_position[:,0]] = tx\n",
    "    #print(\"coordenada de la salida:\",output_position)\n",
    "    \n",
    "    #return ((tx_vector_dense,ty_vector_dense,obj_mask_dense),(tw_vector_dense,th_vector_dense,obj_mask_dense),(objectness),(objectness))\n",
    "    \n",
    "    return tx_vector_dense,ty_vector_dense,tw_vector_dense,th_vector_dense,obj_mask_dense,objectness_vector_dense\n",
    "\n",
    "def build_targets(image,image_bboxes,num_real_boxes,anchor_boxes):\n",
    "    \n",
    "    images_bboxes_original = image_bboxes\n",
    "    #Obtenemos los boduing boxes que son reales\n",
    "    image_bboxes = image_bboxes[:num_real_boxes,:]\n",
    "    #print(\"Bouding boxes de la imagen\",image_bboxes)\n",
    "    #Obteneos  la matriz de IoU , y el índice del anchor box que dió mejor resultado\n",
    "    \n",
    "    #Nprmalizamos con respecto al tamaño de la imagen y obtenemos la Iou con los anchor boxes\n",
    "    image_bboxes = tf.math.divide(image_bboxes,416)\n",
    "    iou_matrix,which_anchor_box_index = get_iou_matrix_tf(image_bboxes,anchor_boxes)\n",
    "    \n",
    "    print(which_anchor_box_index)\n",
    "\n",
    "    anchor_boxes_per_output = len(anchor_boxes)//2\n",
    "    #Indices de los bouding boxes que irian en cada salida, index_best_ yolo nos dice que bouding boxes de la imagen van a la salida YOLO1,\n",
    "    #porque su mejor IoU fue con los len(anchor_boxes)//2 anchor boxes mas grandes\n",
    "    index_best_yolo1 = tf.where(which_anchor_box_index>=anchor_boxes_per_output)[:,0]\n",
    "    index_best_yolo2 = tf.where(which_anchor_box_index<anchor_boxes_per_output)[:,0]\n",
    "    index_best_anchor_yolo1 = tf.gather(which_anchor_box_index,index_best_yolo1,axis=0)\n",
    "    index_best_anchor_yolo2 = tf.gather(which_anchor_box_index,index_best_yolo2,axis=0)\n",
    "    \n",
    "    print(index_best_yolo1)\n",
    "    print(index_best_anchor_yolo1)\n",
    "\n",
    "    print(index_best_yolo2)\n",
    "    print(index_best_anchor_yolo2)\n",
    "\n",
    "    \n",
    "    best_bboxes_yolo1 = tf.gather(image_bboxes,index_best_yolo1,axis =0)\n",
    "    best_anchors_yolo1 = tf.gather(anchor_boxes,index_best_anchor_yolo1, axis =0) #LOs dos anchor boxes grandes corrsponden a YOLO1\n",
    "    best_bboxes_yolo2 = tf.gather(image_bboxes,index_best_yolo2,axis =0)\n",
    "    best_anchors_yolo2 = tf.gather(anchor_boxes,index_best_anchor_yolo2, axis =0) #Los dos anchor boxes pequeños corresponden a YOLO2\n",
    "    \n",
    "    \n",
    "    if best_anchors_yolo1.shape[0] !=0:\n",
    "        tx_vector_yolo1,ty_vector_yolo1,tw_vector_yolo1,th_vector_yolo1,obj_mask_yolo1,obj_vector_yolo1= fill_yolo_output(best_bboxes_yolo1,13,anchor_boxes_per_output,best_anchors_yolo1,index_best_anchor_yolo1)\n",
    "    else:\n",
    "        tx_vector_yolo1=ty_vector_yolo1=tw_vector_yolo1=th_vector_yolo1=obj_mask_yolo1= obj_vector_yolo1=tf.zeros((1,grid_size*grid_size*num_anchors))\n",
    "        #noobj_mask_yolo1 = tf.ones((1,13*13*num_anchors))\n",
    "    \n",
    "    if best_anchors_yolo2.shape[0] != 0:\n",
    "        tx_vector_yolo2,ty_vector_yolo2,tw_vector_yolo2,th_vector_yolo2,obj_mask_yolo2,obj_vector_yolo2 = fill_yolo_output(best_bboxes_yolo2,26,anchor_boxes_per_output,best_anchors_yolo2,index_best_anchor_yolo2)\n",
    "    else:\n",
    "        tx_vector_yolo2=ty_vector_yolo2=tw_vector_yolo2=th_vector_yolo2=obj_mask_yolo2 = obj_vector_yolo2=tf.zeros((1,grid_size*grid_size*num_anchors))\n",
    "        #noobj_mask_yolo2 = tf.ones((1,26*26*num_anchors))\n",
    "        \n",
    "    tx_vector = tf.concat([tx_vector_yolo1,tx_vector_yolo2],axis=0)[:,tf.newaxis]\n",
    "    ty_vector = tf.concat([ty_vector_yolo1,ty_vector_yolo2],axis=0)[:,tf.newaxis]\n",
    "    tw_vector = tf.concat([tw_vector_yolo1,tw_vector_yolo2],axis=0)[:,tf.newaxis]\n",
    "    th_vector = tf.concat([th_vector_yolo1,th_vector_yolo2],axis=0)[:,tf.newaxis]\n",
    "    obj_mask = tf.concat([obj_mask_yolo1,obj_mask_yolo2],axis=0)[:,tf.newaxis]\n",
    "    #noobj_mask = tf.concat([noobj_mask_yolo1,noobj_mask_yolo2],axis=0)[:,tf.newaxis]\n",
    "    obj_vector = tf.concat([obj_vector_yolo1,obj_vector_yolo2],axis=0)[:,tf.newaxis]\n",
    "    \n",
    "    #output = tf.concat([tx_vector,ty_vector,tw_vector,th_vector,obj_mask,noobj_mask,obj_vector],axis=1)\n",
    "    #images_bboxes_original\n",
    "    #return image,output\n",
    "    #Vamos a regresar obj mask que es 1 cuando hay objeto en grid y el anchor box especifico\n",
    "    return tf.cast(image,tf.float32)/255,(tf.concat([tx_vector,ty_vector,obj_mask],axis=1),tf.concat([tw_vector,th_vector,obj_mask],axis=1),(obj_mask),(obj_mask))\n",
    "\n",
    "def imgaug_data_augmentation(image,bboxes,num_real_boxes):\n",
    "    im_shape = image.shape\n",
    "    bbs = BoundingBoxesOnImage.from_xyxy_array(bboxes*416, shape=(416,416))\n",
    "    \n",
    "    policy = np.random.randint(5)\n",
    "    \n",
    "    #policy = 2\n",
    "    if policy == 0:\n",
    "        \n",
    "        p = np.random.random()\n",
    "        if p<=0.6:\n",
    "            aug = iaa.TranslateX(px=(-60, 60),cval=128)\n",
    "            image, bbs = aug(image=image, bounding_boxes=bbs)\n",
    "            #bbs.remove_out_of_image().clip_out_of_image()\n",
    "    \n",
    "        p = np.random.random()\n",
    "        if p<=0.8:\n",
    "            aug = iaa.HistogramEqualization()\n",
    "            image, bbs = aug(image=image, bounding_boxes=bbs)\n",
    "            #bbs.remove_out_of_image().clip_out_of_image()\n",
    "    \n",
    "    elif policy==1:\n",
    "        \n",
    "        p=np.random.random()\n",
    "        if p<=0.2:\n",
    "            aug = iaa.TranslateY(px=(int(-0.18*416), int(0.18*416)),cval=128)\n",
    "            for i in bbs.to_xyxy_array(np.int32)[:num_real_boxes,:]:\n",
    "                bbox = image[i[1]:i[3],i[0]:i[2]]\n",
    "                bbox_augmented = aug(image=bbox)\n",
    "                image[i[1]:i[3],i[0]:i[2]] = bbox_augmented\n",
    "        \n",
    "        p=np.random.random()\n",
    "        if p<=0.8:\n",
    "            square_size = np.random.randint(48)\n",
    "            aug = iaa.Cutout(nb_iterations=1, size=square_size/416, squared=True)\n",
    "            image, bbs = aug(image=image, bounding_boxes=bbs)\n",
    "            #bbs.remove_out_of_image().clip_out_of_image()\n",
    "            \n",
    "    elif policy==2:\n",
    "        p=np.random.random()\n",
    "        if p<=1:\n",
    "            aug = iaa.ShearY(shear=(int(-0.06*416), int(0.06*416)), order=1, cval=128)\n",
    "            image, bbs = aug(image=image, bounding_boxes=bbs)\n",
    "            #bbs.remove_out_of_image().clip_out_of_image()\n",
    "            \n",
    "        p=np.random.random()\n",
    "        if p<=0.6:\n",
    "            aug = iaa.TranslateY(px=(int(-0.18*416), int(0.18*416)),cval=128)\n",
    "            for i in bbs.to_xyxy_array(np.int32)[:num_real_boxes,:]:\n",
    "                bbox = image[i[1]:i[3],i[0]:i[2]]\n",
    "                bbox_augmented = aug(image=bbox)\n",
    "                image[i[1]:i[3],i[0]:i[2]] = bbox_augmented\n",
    "            \n",
    "    elif policy==3:\n",
    "        p=np.random.random()\n",
    "        if p<=0.6:    \n",
    "            aug = iaa.Rotate(rotate=(-30, 30), order=1, cval=128)\n",
    "            image, bbs = aug(image=image, bounding_boxes=bbs)\n",
    "            #bbs_aug.remove_out_of_image().clip_out_of_image()\n",
    "        \n",
    "        p=np.random.random()\n",
    "        if p<=1:\n",
    "            aug = iaa.MultiplySaturation((0.54, 1.54))\n",
    "            image, bbs = aug(image=image, bounding_boxes=bbs)\n",
    "            #bbs.remove_out_of_image().clip_out_of_image()\n",
    "            \n",
    "    bbs.remove_out_of_image()\n",
    "    \n",
    "    return image,np.clip(bbs.to_xyxy_array(np.float32),1,415),num_real_boxes\n",
    "    \n",
    "    \n",
    "def preprocessing(example_proto):\n",
    "    image_features = tf.io.parse_single_example(example_proto, image_feature_description)\n",
    "    image = tf.image.decode_jpeg(image_features['image_raw'],channels = 3)\n",
    "    image = tf.cast(tf.image.resize(image,size=(416,416)), tf.uint8)\n",
    "    bboxes =  tf.io.parse_tensor(image_features['bboxes'], out_type=tf.float32)\n",
    "    \n",
    "    num_real_boxes = image_features['num_real_boxes']\n",
    "    return image,bboxes,num_real_boxes\n",
    "\n",
    "def preprocessing_validation_set(example_proto):\n",
    "    image_features = tf.io.parse_single_example(example_proto, image_feature_description)\n",
    "    image = tf.image.decode_jpeg(image_features['image_raw'],channels = 3)\n",
    "    image = tf.cast(tf.image.resize(image,size=(416,416)), tf.uint8)\n",
    "    bboxes =  tf.io.parse_tensor(image_features['bboxes'], out_type=tf.float32)\n",
    "    bboxes = tf.clip_by_value(bboxes*416,1,415)\n",
    "    \n",
    "    num_real_boxes = image_features['num_real_boxes']\n",
    "    return image,bboxes,tf.cast(num_real_boxes,tf.int64)\n",
    "    \n",
    "@tf.function(input_signature=[tf.TensorSpec((416,416,3), tf.uint8),tf.TensorSpec((None,4), tf.float32),tf.TensorSpec((), tf.int64)]) \n",
    "def tf_numpy_albumentations_real(image,bboxes,num_real_boxes):\n",
    "    \n",
    "    boxes_shape = bboxes.shape\n",
    "    im_shape = image.shape\n",
    "\n",
    "    image,bboxes,num_real_boxes = tf.numpy_function(imgaug_data_augmentation,[image,bboxes,num_real_boxes],Tout =[tf.uint8,tf.float32,tf.int64])\n",
    " \n",
    "    image.set_shape(im_shape)\n",
    "    bboxes.set_shape(boxes_shape)\n",
    "    print(\"Imagen data type\",image.dtype)\n",
    "    print(\"Bboxes data type\",bboxes.dtype)\n",
    "    print(\"num_real_boxes\",num_real_boxes.dtype)\n",
    "\n",
    "    return image,bboxes,num_real_boxes"
   ]
  },
  {
   "cell_type": "code",
   "execution_count": null,
   "metadata": {},
   "outputs": [],
   "source": []
  },
  {
   "cell_type": "code",
   "execution_count": 5,
   "metadata": {},
   "outputs": [
    {
     "name": "stdout",
     "output_type": "stream",
     "text": [
      "Imagen data type <dtype: 'uint8'>\n",
      "Bboxes data type <dtype: 'float32'>\n",
      "num_real_boxes <dtype: 'int64'>\n",
      "Tensor(\"ArgMax:0\", shape=(None,), dtype=int64)\n",
      "Tensor(\"strided_slice_2:0\", shape=(None,), dtype=int64)\n",
      "Tensor(\"GatherV2:0\", shape=(None,), dtype=int64)\n",
      "Tensor(\"strided_slice_3:0\", shape=(None,), dtype=int64)\n",
      "Tensor(\"GatherV2_1:0\", shape=(None,), dtype=int64)\n",
      "tipo de aoutput_positivon Tensor(\"add_18:0\", shape=(None, 1), dtype=int64)\n",
      "Tensor(\"add_18:0\", shape=(None, 1), dtype=int64)\n",
      "507\n",
      "tipo de aoutput_positivon Tensor(\"add_30:0\", shape=(None, 1), dtype=int64)\n",
      "Tensor(\"add_30:0\", shape=(None, 1), dtype=int64)\n",
      "2028\n",
      "Tensor(\"ArgMax:0\", dtype=int64)\n",
      "Tensor(\"strided_slice_2:0\", shape=(None,), dtype=int64)\n",
      "Tensor(\"GatherV2:0\", dtype=int64)\n",
      "Tensor(\"strided_slice_3:0\", shape=(None,), dtype=int64)\n",
      "Tensor(\"GatherV2_1:0\", dtype=int64)\n",
      "tipo de aoutput_positivon Tensor(\"add_18:0\", dtype=int64)\n",
      "Tensor(\"add_18:0\", dtype=int64)\n",
      "507\n",
      "tipo de aoutput_positivon Tensor(\"add_30:0\", dtype=int64)\n",
      "Tensor(\"add_30:0\", dtype=int64)\n",
      "2028\n"
     ]
    }
   ],
   "source": [
    "#USANDO TF.IMAGE MODULE\n",
    "#anchors =tf.constant(np.array([[0,0,0.015,0.037],[0,0,0.043,0.104],[0,0,0.11,0.278],[0,0,0.351,0.66]]),dtype=tf.float32)\n",
    "#anchors =tf.constant(np.array([[0,0,0.026,0.062],[0,0,0.067,0.183],[0,0,0.128,0.323],[0,0,0.343,0.650]]),dtype=tf.float32)\n",
    "anchors =tf.constant(np.array([[0,0,0.02078,0.049],[0,0,0.0426,0.128],[0,0,0.08523,0.19356],[0,0,0.1506,0.4163],[0,0,0.27835,0.58651],[0,0,0.5632,0.78614]]),dtype=tf.float32)\n",
    "\n",
    "\n",
    "\n",
    "os.chdir(root_path+\"/pedestrian_dataset_train_tfr\")\n",
    "filenames = os. listdir()\n",
    "raw_image_dataset = tf.data.TFRecordDataset(filenames)\n",
    "\n",
    "os.chdir(root_path+\"/pedestrian_dataset_val_tfr_fixed\")\n",
    "filenames = os. listdir()\n",
    "raw_image_dataset_val =tf.data.TFRecordDataset(filenames)\n",
    "\n",
    "os.chdir(root_path+\"/pedestrian_dataset_train_tfr\")\n",
    "#.shuffle(70000)\n",
    "\n",
    "#VAMOS A HACER UN ENTRENAMIENTO SIN DATA AUGMENTATION, ADEMAS DE USAR MSE Y EXP MSE Y REZAR PARA QUE MEJORE\n",
    "\n",
    "train_dataset = raw_image_dataset.map(preprocessing,num_parallel_calls=8)\n",
    "train_dataset = train_dataset.map(tf_numpy_albumentations_real,num_parallel_calls=8)\n",
    "train_dataset = train_dataset.map(lambda x,y,z:build_targets(x,y,z,anchors),num_parallel_calls=8)\n",
    "train_dataset = train_dataset.batch(16)\n",
    "\n",
    "val_dataset = raw_image_dataset_val.map(preprocessing_validation_set,num_parallel_calls=8)\n",
    "val_dataset = val_dataset.map(lambda x,y,z:build_targets(x,y,z,anchors),num_parallel_calls=8)\n",
    "val_dataset = val_dataset.batch(16)"
   ]
  },
  {
   "cell_type": "code",
   "execution_count": null,
   "metadata": {},
   "outputs": [],
   "source": []
  },
  {
   "cell_type": "markdown",
   "metadata": {},
   "source": [
    "### Loss Function"
   ]
  },
  {
   "cell_type": "code",
   "execution_count": 6,
   "metadata": {},
   "outputs": [
    {
     "data": {
      "text/plain": [
       "'\\ndef loss_bce_objectness(y_true,y_pred):\\n    #bce = BinaryCrossentropy(reduction=tf.keras.losses.Reduction.NONE)\\n    #tw_true,th_true,obj_mask = tf.split(y_true, [1,1,1], axis=-1)\\n    #tw_pred,th_pred = tf.split(y_pred, [1,1], axis=-1)   \\n    \\n    loss_obj =tf.reduce_mean(tf.reduce_sum( y_true*tf.math.log(y_pred+1e-7)[:,tf.newaxis],axis=1))\\n    \\n    return loss_obj\\n\\ndef loss_bce_no_objectness(y_true,y_pred):\\n    #bce = BinaryCrossentropy(reduction=tf.keras.losses.Reduction.NONE)\\n    loss_noobj =tf.reduce_mean(tf.reduce_sum((1-y_true)*tf.math.log(1-y_pred+1e-7)[:,tf.newaxis],axis=1))\\n    \\n    return loss_noobj\\n'"
      ]
     },
     "execution_count": 6,
     "metadata": {},
     "output_type": "execute_result"
    }
   ],
   "source": [
    "from tensorflow.keras.losses import Loss,BinaryCrossentropy,MeanSquaredError,MeanSquaredLogarithmicError\n",
    "'''\n",
    "def loss_xy(y_true,y_pred):\n",
    "    \n",
    "    mse = MeanSquaredError(reduction=tf.keras.losses.Reduction.NONE)\n",
    "    \n",
    "    tx_true,ty_true,obj_mask = tf.split(y_true, [1,1,1], axis=-1)\n",
    "    tx_pred,ty_pred = tf.split(y_pred, [1,1], axis=-1)\n",
    "    \n",
    "    loss_x = tf.reduce_mean(tf.reduce_sum(obj_mask*(mse(tx_true,tx_pred)[:,:,tf.newaxis]),axis=1))\n",
    "    loss_y = tf.reduce_mean(tf.reduce_sum(obj_mask*(mse(ty_true,ty_pred)[:,:,tf.newaxis]),axis=1))\n",
    "\n",
    "    return loss_x+loss_y\n",
    "\n",
    "def loss_wh(y_true,y_pred):\n",
    "    \n",
    "    mse = MeanSquaredError(reduction=tf.keras.losses.Reduction.NONE)\n",
    "    \n",
    "    tw_true,th_true,obj_mask = tf.split(y_true, [1,1,1], axis=-1)\n",
    "    tw_pred,th_pred = tf.split(y_pred, [1,1], axis=-1)\n",
    "    \n",
    "    loss_w = tf.reduce_mean(tf.reduce_sum(obj_mask*(mse(tw_true,tw_pred)[:,:,tf.newaxis]),axis=1))\n",
    "    loss_h = tf.reduce_mean(tf.reduce_sum(obj_mask*(mse(th_true,th_pred)[:,:,tf.newaxis]),axis=1))\n",
    "\n",
    "\n",
    "    return loss_w+loss_h\n",
    "\n",
    "\n",
    "def loss_xy(y_true,y_pred):\n",
    "    \n",
    "    msle = MeanSquaredLogarithmicError(reduction=tf.keras.losses.Reduction.NONE)\n",
    "\n",
    "    tx_true,ty_true,obj_mask = tf.split(y_true, [1,1,1], axis=-1)\n",
    "    tx_pred,ty_pred = tf.split(y_pred, [1,1], axis=-1)\n",
    "    \n",
    "    #print(tf.math.square(tx_true-tx_pred))  \n",
    "    \n",
    "    loss_x = tf.reduce_mean(tf.reduce_sum(obj_mask*(msle(tx_true,tx_pred)[:,:,tf.newaxis]),axis=1))\n",
    "    loss_y = tf.reduce_mean(tf.reduce_sum(obj_mask*(msle(ty_true,ty_pred)[:,:,tf.newaxis]),axis=1))\n",
    "\n",
    "    return loss_x+loss_y\n",
    "\n",
    "def loss_wh(y_true,y_pred):\n",
    "\n",
    "    msle = MeanSquaredLogarithmicError(reduction=tf.keras.losses.Reduction.NONE)\n",
    "    \n",
    "    tw_true,th_true,obj_mask = tf.split(y_true, [1,1,1], axis=-1)\n",
    "    tw_pred,th_pred = tf.split(y_pred, [1,1], axis=-1)\n",
    "    \n",
    "    #print(tf.math.square(tw_true-tw_pred))\n",
    "\n",
    "    \n",
    "    loss_w = tf.reduce_mean(tf.reduce_sum(obj_mask*(msle(tw_true,tw_pred)[:,:,tf.newaxis]),axis=1))\n",
    "    loss_h = tf.reduce_mean(tf.reduce_sum(obj_mask*(msle(th_true,th_pred)[:,:,tf.newaxis]),axis=1))\n",
    "\n",
    "\n",
    "    return loss_w+loss_h\n",
    "    \n",
    "def loss_xy(y_true,y_pred):\n",
    "    \n",
    "    msle = MeanSquaredLogarithmicError(reduction=tf.keras.losses.Reduction.NONE)\n",
    "\n",
    "    tx_true,ty_true,obj_mask = tf.split(y_true, [1,1,1], axis=-1)\n",
    "    tx_pred,ty_pred = tf.split(y_pred, [1,1], axis=-1)\n",
    "    \n",
    "    #print(tf.math.square(tx_true-tx_pred))  \n",
    "    \n",
    "    loss_x = tf.reduce_mean(tf.reduce_sum(obj_mask*(msle(tx_true,tx_pred)[:,:,tf.newaxis]),axis=1))\n",
    "    loss_y = tf.reduce_mean(tf.reduce_sum(obj_mask*(msle(ty_true,ty_pred)[:,:,tf.newaxis]),axis=1))\n",
    "\n",
    "    return loss_x+loss_y\n",
    "    \n",
    "'''\n",
    "def loss_xy(y_true,y_pred):\n",
    "    \n",
    "    mse = MeanSquaredError(reduction=tf.keras.losses.Reduction.NONE)\n",
    "    \n",
    "    tx_true,ty_true,obj_mask = tf.split(y_true, [1,1,1], axis=-1)\n",
    "    tx_pred,ty_pred = tf.split(y_pred, [1,1], axis=-1)\n",
    "    \n",
    "    loss_x = tf.reduce_mean(tf.reduce_sum(obj_mask*(mse(tx_true,tx_pred)[:,:,tf.newaxis]),axis=1))\n",
    "    loss_y = tf.reduce_mean(tf.reduce_sum(obj_mask*(mse(ty_true,ty_pred)[:,:,tf.newaxis]),axis=1))\n",
    "\n",
    "    return loss_x+loss_y\n",
    "\n",
    "\n",
    "def loss_wh(y_true,y_pred):\n",
    "\n",
    "    mse = MeanSquaredError(reduction=tf.keras.losses.Reduction.NONE)\n",
    "    \n",
    "    tw_true,th_true,obj_mask = tf.split(y_true, [1,1,1], axis=-1)\n",
    "    tw_pred,th_pred = tf.split(y_pred, [1,1], axis=-1)\n",
    "    \n",
    "    #print(tf.math.square(tw_true-tw_pred))\n",
    "\n",
    "    \n",
    "    loss_w = tf.reduce_mean(tf.reduce_sum(obj_mask*(mse(tf.math.exp(tw_true),tf.math.exp(tw_pred))[:,:,tf.newaxis]),axis=1))\n",
    "    loss_h = tf.reduce_mean(tf.reduce_sum(obj_mask*(mse(tf.math.exp(th_true),tf.math.exp(th_pred))[:,:,tf.newaxis]),axis=1))\n",
    "\n",
    "\n",
    "    return loss_w+loss_h\n",
    "\n",
    "\n",
    "def loss_objectness(y_true,y_pred):\n",
    "    bce = BinaryCrossentropy(reduction=tf.keras.losses.Reduction.NONE)\n",
    "    \n",
    "    #tw_true,th_true,obj_mask = tf.split(y_true, [1,1,1], axis=-1)\n",
    "    #tw_pred,th_pred = tf.split(y_pred, [1,1], axis=-1)   \n",
    "    \n",
    "    loss_obj =tf.reduce_mean(tf.reduce_sum( y_true*bce(y_true,y_pred)[:,tf.newaxis],axis=1))\n",
    "    \n",
    "    return loss_obj\n",
    "\n",
    "def loss_no_objectness(y_true,y_pred):\n",
    "    bce = BinaryCrossentropy(reduction=tf.keras.losses.Reduction.NONE)\n",
    "    \n",
    "    \n",
    "    loss_noobj =tf.reduce_mean(tf.reduce_sum((1-y_true)*bce(y_true,y_pred)[:,tf.newaxis],axis=1))\n",
    "    \n",
    "    return loss_noobj\n",
    "'''\n",
    "def loss_bce_objectness(y_true,y_pred):\n",
    "    #bce = BinaryCrossentropy(reduction=tf.keras.losses.Reduction.NONE)\n",
    "    #tw_true,th_true,obj_mask = tf.split(y_true, [1,1,1], axis=-1)\n",
    "    #tw_pred,th_pred = tf.split(y_pred, [1,1], axis=-1)   \n",
    "    \n",
    "    loss_obj =tf.reduce_mean(tf.reduce_sum( y_true*tf.math.log(y_pred+1e-7)[:,tf.newaxis],axis=1))\n",
    "    \n",
    "    return loss_obj\n",
    "\n",
    "def loss_bce_no_objectness(y_true,y_pred):\n",
    "    #bce = BinaryCrossentropy(reduction=tf.keras.losses.Reduction.NONE)\n",
    "    loss_noobj =tf.reduce_mean(tf.reduce_sum((1-y_true)*tf.math.log(1-y_pred+1e-7)[:,tf.newaxis],axis=1))\n",
    "    \n",
    "    return loss_noobj\n",
    "'''"
   ]
  },
  {
   "cell_type": "markdown",
   "metadata": {},
   "source": [
    "## Training with Model.fit()"
   ]
  },
  {
   "cell_type": "code",
   "execution_count": 36,
   "metadata": {},
   "outputs": [
    {
     "name": "stdout",
     "output_type": "stream",
     "text": [
      "Modo entrenamiento\n",
      "Pesos de la convolucion (432,)\n",
      "CONV SHAPE (16, 3, 3, 3)\n",
      "Pesos de la convolucion (4608,)\n",
      "CONV SHAPE (32, 16, 3, 3)\n",
      "Pesos de la convolucion (18432,)\n",
      "CONV SHAPE (64, 32, 3, 3)\n",
      "Pesos de la convolucion (73728,)\n",
      "CONV SHAPE (128, 64, 3, 3)\n",
      "Pesos de la convolucion (294912,)\n",
      "CONV SHAPE (256, 128, 3, 3)\n",
      "Pesos de la convolucion (1179648,)\n",
      "CONV SHAPE (512, 256, 3, 3)\n",
      "Pesos de la convolucion (4718592,)\n",
      "CONV SHAPE (1024, 512, 3, 3)\n",
      "Pesos de la convolucion (262144,)\n",
      "CONV SHAPE (256, 1024, 1, 1)\n",
      "Pesos de la convolucion (1179648,)\n",
      "CONV SHAPE (512, 256, 3, 3)\n",
      "Pesos de la convolucion (130560,)\n",
      "CONV SHAPE (255, 512, 1, 1)\n",
      "Pesos de la convolucion (32768,)\n",
      "CONV SHAPE (128, 256, 1, 1)\n",
      "Pesos de la convolucion (884736,)\n",
      "CONV SHAPE (256, 384, 3, 3)\n",
      "Pesos de la convolucion (65280,)\n",
      "CONV SHAPE (255, 256, 1, 1)\n",
      "8858734\n"
     ]
    }
   ],
   "source": [
    "#anchors =tf.constant(np.array([[0.026,0.062],[0.067,0.183],[0.128,0.323],[0.343,0.650]]),dtype=tf.float32)\n",
    "anchors =tf.constant(np.array([[0,0,0.02078,0.049],[0,0,0.0426,0.128],[0,0,0.08523,0.19356],[0,0,0.1506,0.4163],[0,0,0.27835,0.58651],[0,0,0.5632,0.78614]]),dtype=tf.float32)\n",
    "\n",
    "model = TinyYOLOv3(1,anchor_boxes=anchors,train=True,mode = \"finetuning\")\n",
    "model.build(batch_input_shape=(None,416,416,3))\n",
    "print(model.load_weights_darknet(root_path+\"/TinyYOLOv3-Pedestrian-Detection/yolov3-tiny.weights\"))"
   ]
  },
  {
   "cell_type": "code",
   "execution_count": 37,
   "metadata": {},
   "outputs": [
    {
     "name": "stdout",
     "output_type": "stream",
     "text": [
      "BasicBlock1 True\n",
      "BasicBlock2 True\n",
      "BasicBlock3 True\n",
      "BasicBlock4 True\n",
      "BasicBlock5 True\n",
      "BasicBlock6 True\n",
      "BasicBlock7 True\n",
      "BasicBlock8 True\n",
      "BasicBlock9 True\n",
      "FinalBlock1 True\n",
      "BasicBlock11 True\n",
      "BasicBlock12 True\n",
      "FinalBlock2 True\n",
      "Concatenate True\n",
      "Upsampling True\n",
      "Prediction1 True\n",
      "Prediction2 True\n",
      "Concatenate_BBOX True\n"
     ]
    }
   ],
   "source": [
    "for l in model.layers:\n",
    "    print(l.name, l.trainable)#,l.weights[0].shape)\n",
    "    pass"
   ]
  },
  {
   "cell_type": "markdown",
   "metadata": {},
   "source": [
    "## Eager execution training (For debuging)"
   ]
  },
  {
   "cell_type": "code",
   "execution_count": 38,
   "metadata": {},
   "outputs": [],
   "source": [
    "debugging = False\n",
    "\n",
    "if debugging:\n",
    "    model = TinyYOLOv3(1,anchor_boxes=anchors,train=True)\n",
    "    model.build(batch_input_shape=(None,416,416,3))\n",
    "    model.summary()\n",
    "    model.load_weights_darknet(\"/home/sergio/TinyYOLOv3-Pedestrian-Detection/yolov3-tiny.weights\");\n",
    "    optimizer = tf.keras.optimizers.Adam()\n",
    "    #model_loss = YOLOLoss()\n",
    "\n",
    "    for epochs in range(1,2,1):\n",
    "        for (images,y_true) in train_dataset:\n",
    "            with tf.GradientTape() as tape:\n",
    "                outputs = model(images)\n",
    "                print(\"Tamaño de la etiqueta\",y_true[0].shape)\n",
    "                print(\"Salida\",outputs[0].shape)\n",
    "                loss_x_y = loss_xy(y_true[0],outputs[0])\n",
    "                loss_w_h = loss_wh(y_true[1],outputs[1])\n",
    "                loss_obj = loss_objectness(y_true[2],outputs[2])\n",
    "                loss_noobj = loss_no_objectness(y_true[3],outputs[3])\n",
    "\n",
    "                total_loss =loss_x_y+loss_w_h+loss_obj+loss_noobj\n",
    "            #print(epochs,(total_loss.numpy()))\n",
    "            grads = tape.gradient(total_loss, model.trainable_variables)\n",
    "            optimizer.apply_gradients(zip(grads, model.trainable_variables))\n",
    "\n",
    "                #logging.info(\"{}_train_{}, {}, {}\".format(\n",
    "                #    epoch, batch, total_loss.numpy()))\n",
    "                \n",
    "else:\n",
    "    pass"
   ]
  },
  {
   "cell_type": "code",
   "execution_count": 41,
   "metadata": {},
   "outputs": [],
   "source": [
    "tf.random.set_seed(0)\n",
    "\n",
    "from tensorflow.keras.metrics import TrueNegatives,TruePositives,FalseNegatives,FalsePositives,Precision,Recall\n",
    "\n",
    "opt = tf.keras.optimizers.Nadam(learning_rate=1e-4)\n",
    "\n",
    "losses = {\"output_1\": loss_xy,\n",
    "          \"output_2\": loss_wh,\n",
    "          \"output_3\":loss_objectness,\n",
    "          \"output_4\":loss_no_objectness  \n",
    "}\n",
    "\n",
    "metrics = {\"output_3\":[Precision(0.5),Recall(0.5),TrueNegatives(0.5),TruePositives(0.5),FalseNegatives(0.5),FalsePositives(0.5)]}\n",
    "model.compile(optimizer=opt, loss=losses,metrics=metrics,loss_weights=[5,5,2,1])\n",
    "os.chdir(root_path+ \"/pedestrian_dataset_train_tfr\")"
   ]
  },
  {
   "cell_type": "markdown",
   "metadata": {},
   "source": [
    "## Batch 16, con pesos 5,5,2,1 with lr=0.0001 y usando mse para el (x,y) y usando mse de las exponenciales para (w,h)"
   ]
  },
  {
   "cell_type": "code",
   "execution_count": 42,
   "metadata": {
    "scrolled": true
   },
   "outputs": [
    {
     "name": "stdout",
     "output_type": "stream",
     "text": [
      "Epoch 1/10\n",
      "Modo entrenamiento\n",
      "Modo entrenamiento\n",
      "   4606/Unknown - 597s 130ms/step - loss: 47.6188 - output_1_loss: 5.7102 - output_2_loss: 0.8372 - output_3_loss: 0.0431 - output_4_loss: 14.7956 - output_3_precision_6: 0.6185 - output_3_recall_6: 0.0440 - output_3_true_negatives_6: 186541808.0000 - output_3_true_positives_6: 11883.0000 - output_3_false_negatives_6: 258418.0000 - output_3_false_positives_6: 7329.0000- 574s 129ms/step - loss: 47.9540 - output_1_loss: 5.7503 - output_2_loss: 0.8477 - output_3_loss: 0.0434 - output_4_loss: 14.8772 - output_3_precision_6: 0.6198 - output_3_recall_6: 0.0437 - output_3_true_negatives_6: 179817568.0000 - output_3_true_positives_6: 114 - 588s 130ms/step - loss: 47.9879 - output_1_loss: 5.7558 - output_2_loss: 0.8457 - output_3_loss: 0.0435 - output_4_loss: 14.8933 - output_3_precision_6: 0.6195 - output_3_recall_6: 0.0439 - output_3_true_negatives_6: 183421600.0000 - output_3_true_positives_6: 11739.0000 - ouModo entrenamiento\n",
      "4607/4607 [==============================] - 604s 131ms/step - loss: 47.6182 - output_1_loss: 5.7101 - output_2_loss: 0.8372 - output_3_loss: 0.0431 - output_4_loss: 14.7955 - output_3_precision_6: 0.6185 - output_3_recall_6: 0.0440 - output_3_true_negatives_6: 186546880.0000 - output_3_true_positives_6: 11883.0000 - output_3_false_negatives_6: 258424.0000 - output_3_false_positives_6: 7329.0000 - val_loss: 44.9446 - val_output_1_loss: 5.2394 - val_output_2_loss: 0.6177 - val_output_3_loss: 0.0485 - val_output_4_loss: 15.5618 - val_output_3_precision_6: 0.7365 - val_output_3_recall_6: 0.0437 - val_output_3_true_negatives_6: 7592991.0000 - val_output_3_true_positives_6: 517.0000 - val_output_3_false_negatives_6: 11307.0000 - val_output_3_false_positives_6: 185.0000\n",
      "Epoch 2/10\n",
      "4607/4607 [==============================] - 600s 130ms/step - loss: 44.1599 - output_1_loss: 5.3072 - output_2_loss: 0.6940 - output_3_loss: 0.0412 - output_4_loss: 14.0717 - output_3_precision_6: 0.6259 - output_3_recall_6: 0.0654 - output_3_true_negatives_6: 186543776.0000 - output_3_true_positives_6: 17661.0000 - output_3_false_negatives_6: 252519.0000 - output_3_false_positives_6: 10557.0000 - val_loss: 42.7554 - val_output_1_loss: 4.9405 - val_output_2_loss: 0.5560 - val_output_3_loss: 0.0475 - val_output_4_loss: 15.1778 - val_output_3_precision_6: 0.7283 - val_output_3_recall_6: 0.0503 - val_output_3_true_negatives_6: 7592954.0000 - val_output_3_true_positives_6: 595.0000 - val_output_3_false_negatives_6: 11229.0000 - val_output_3_false_positives_6: 222.0000\n",
      "Epoch 3/10\n",
      "4607/4607 [==============================] - 586s 127ms/step - loss: 42.6855 - output_1_loss: 5.1256 - output_2_loss: 0.6515 - output_3_loss: 0.0402 - output_4_loss: 13.7193 - output_3_precision_6: 0.6365 - output_3_recall_6: 0.0776 - output_3_true_negatives_6: 186542336.0000 - output_3_true_positives_6: 20977.0000 - output_3_false_negatives_6: 249246.0000 - output_3_false_positives_6: 11978.0000 - val_loss: 41.9679 - val_output_1_loss: 4.7377 - val_output_2_loss: 0.5801 - val_output_3_loss: 0.0483 - val_output_4_loss: 15.2823 - val_output_3_precision_6: 0.7536 - val_output_3_recall_6: 0.0533 - val_output_3_true_negatives_6: 7592970.0000 - val_output_3_true_positives_6: 630.0000 - val_output_3_false_negatives_6: 11194.0000 - val_output_3_false_positives_6: 206.0000\n",
      "Epoch 4/10\n",
      "4607/4607 [==============================] - 582s 126ms/step - loss: 41.3848 - output_1_loss: 4.9673 - output_2_loss: 0.6041 - output_3_loss: 0.0395 - output_4_loss: 13.4487 - output_3_precision_6: 0.6427 - output_3_recall_6: 0.0860 - output_3_true_negatives_6: 186541440.0000 - output_3_true_positives_6: 23245.0000 - output_3_false_negatives_6: 246895.0000 - output_3_false_positives_6: 12921.0000 - val_loss: 39.7388 - val_output_1_loss: 4.4580 - val_output_2_loss: 0.5076 - val_output_3_loss: 0.0467 - val_output_4_loss: 14.8173 - val_output_3_precision_6: 0.7694 - val_output_3_recall_6: 0.0553 - val_output_3_true_negatives_6: 7592980.0000 - val_output_3_true_positives_6: 654.0000 - val_output_3_false_negatives_6: 11170.0000 - val_output_3_false_positives_6: 196.0000\n",
      "Epoch 5/10\n",
      "4607/4607 [==============================] - 589s 128ms/step - loss: 40.0100 - output_1_loss: 4.7785 - output_2_loss: 0.5609 - output_3_loss: 0.0389 - output_4_loss: 13.2353 - output_3_precision_6: 0.6451 - output_3_recall_6: 0.0932 - output_3_true_negatives_6: 186540384.0000 - output_3_true_positives_6: 25188.0000 - output_3_false_negatives_6: 244982.0000 - output_3_false_positives_6: 13857.0000 - val_loss: 38.1150 - val_output_1_loss: 4.1868 - val_output_2_loss: 0.4767 - val_output_3_loss: 0.0463 - val_output_4_loss: 14.7052 - val_output_3_precision_6: 0.7985 - val_output_3_recall_6: 0.0543 - val_output_3_true_negatives_6: 7593014.0000 - val_output_3_true_positives_6: 642.0000 - val_output_3_false_negatives_6: 11182.0000 - val_output_3_false_positives_6: 162.0000\n",
      "Epoch 6/10\n",
      "4607/4607 [==============================] - 598s 130ms/step - loss: 38.9629 - output_1_loss: 4.5990 - output_2_loss: 0.5619 - output_3_loss: 0.0385 - output_4_loss: 13.0817 - output_3_precision_6: 0.6489 - output_3_recall_6: 0.1001 - output_3_true_negatives_6: 186539360.0000 - output_3_true_positives_6: 27046.0000 - output_3_false_negatives_6: 243196.0000 - output_3_false_positives_6: 14633.0000 - val_loss: 36.5806 - val_output_1_loss: 3.9422 - val_output_2_loss: 0.4708 - val_output_3_loss: 0.0454 - val_output_4_loss: 14.4246 - val_output_3_precision_6: 0.7678 - val_output_3_recall_6: 0.0646 - val_output_3_true_negatives_6: 7592945.0000 - val_output_3_true_positives_6: 764.0000 - val_output_3_false_negatives_6: 11060.0000 - val_output_3_false_positives_6: 231.0000\n",
      "Epoch 7/10\n",
      "4607/4607 [==============================] - 556s 121ms/step - loss: 37.6382 - output_1_loss: 4.4024 - output_2_loss: 0.5243 - output_3_loss: 0.0380 - output_4_loss: 12.9287 - output_3_precision_6: 0.6506 - output_3_recall_6: 0.1066 - output_3_true_negatives_6: 186538720.0000 - output_3_true_positives_6: 28806.0000 - output_3_false_negatives_6: 241475.0000 - output_3_false_positives_6: 15469.0000 - val_loss: 34.8955 - val_output_1_loss: 3.6238 - val_output_2_loss: 0.4403 - val_output_3_loss: 0.0457 - val_output_4_loss: 14.4835 - val_output_3_precision_6: 0.7887 - val_output_3_recall_6: 0.0625 - val_output_3_true_negatives_6: 7592978.0000 - val_output_3_true_positives_6: 739.0000 - val_output_3_false_negatives_6: 11085.0000 - val_output_3_false_positives_6: 198.0000\n",
      "Epoch 8/10\n",
      "4607/4607 [==============================] - 585s 127ms/step - loss: 36.9220 - output_1_loss: 4.2724 - output_2_loss: 0.5307 - output_3_loss: 0.0378 - output_4_loss: 12.8309 - output_3_precision_6: 0.6491 - output_3_recall_6: 0.1111 - output_3_true_negatives_6: 186537776.0000 - output_3_true_positives_6: 30040.0000 - output_3_false_negatives_6: 240262.0000 - output_3_false_positives_6: 16236.0000 - val_loss: 33.7559 - val_output_1_loss: 3.4262 - val_output_2_loss: 0.4401 - val_output_3_loss: 0.0453 - val_output_4_loss: 14.3336 - val_output_3_precision_6: 0.7658 - val_output_3_recall_6: 0.0686 - val_output_3_true_negatives_6: 7592928.0000 - val_output_3_true_positives_6: 811.0000 - val_output_3_false_negatives_6: 11013.0000 - val_output_3_false_positives_6: 248.0000\n",
      "Epoch 9/10\n",
      "4607/4607 [==============================] - 580s 126ms/step - loss: 35.9027 - output_1_loss: 4.1033 - output_2_loss: 0.5178 - output_3_loss: 0.0374 - output_4_loss: 12.7225 - output_3_precision_6: 0.6562 - output_3_recall_6: 0.1152 - output_3_true_negatives_6: 186538080.0000 - output_3_true_positives_6: 31109.0000 - output_3_false_negatives_6: 239017.0000 - output_3_false_positives_6: 16299.0000 - val_loss: 33.6300 - val_output_1_loss: 3.3898 - val_output_2_loss: 0.4896 - val_output_3_loss: 0.0444 - val_output_4_loss: 14.1444 - val_output_3_precision_6: 0.7844 - val_output_3_recall_6: 0.0671 - val_output_3_true_negatives_6: 7592958.0000 - val_output_3_true_positives_6: 793.0000 - val_output_3_false_negatives_6: 11031.0000 - val_output_3_false_positives_6: 218.0000\n",
      "Epoch 10/10\n",
      "4607/4607 [==============================] - 580s 126ms/step - loss: 35.0265 - output_1_loss: 3.9676 - output_2_loss: 0.4955 - output_3_loss: 0.0372 - output_4_loss: 12.6366 - output_3_precision_6: 0.6536 - output_3_recall_6: 0.1189 - output_3_true_negatives_6: 186537120.0000 - output_3_true_positives_6: 32115.0000 - output_3_false_negatives_6: 238093.0000 - output_3_false_positives_6: 17021.0000 - val_loss: 31.4801 - val_output_1_loss: 3.0542 - val_output_2_loss: 0.4212 - val_output_3_loss: 0.0442 - val_output_4_loss: 14.0148 - val_output_3_precision_6: 0.7781 - val_output_3_recall_6: 0.0732 - val_output_3_true_negatives_6: 7592929.0000 - val_output_3_true_positives_6: 866.0000 - val_output_3_false_negatives_6: 10958.0000 - val_output_3_false_positives_6: 247.0000\n"
     ]
    }
   ],
   "source": [
    "history = model.fit(train_dataset, epochs=10,validation_data=val_dataset)"
   ]
  },
  {
   "cell_type": "code",
   "execution_count": null,
   "metadata": {},
   "outputs": [],
   "source": []
  },
  {
   "cell_type": "code",
   "execution_count": 43,
   "metadata": {},
   "outputs": [],
   "source": [
    "os.chdir(root_path+\"/json_final_experiment\")\n",
    "import json\n",
    "#json.dumps(str(a))\n",
    "with open('history_finetuning_5521_10_epoch_nadam_0dot00001_mse_exp_mse_3anchors_final_experiment_con_data_aug.json', 'w') as fp:\n",
    "    json.dump(str(history.history), fp)"
   ]
  },
  {
   "cell_type": "code",
   "execution_count": 44,
   "metadata": {},
   "outputs": [],
   "source": [
    "model.save_weights(root_path+'/last_weights/pesos_finetuning_5521_10_epoch_nadam_0dot00001_mse_exp_mse_3anchors_final_experiment_con_data_aug')"
   ]
  },
  {
   "cell_type": "code",
   "execution_count": null,
   "metadata": {},
   "outputs": [],
   "source": []
  },
  {
   "cell_type": "code",
   "execution_count": null,
   "metadata": {},
   "outputs": [],
   "source": []
  },
  {
   "cell_type": "markdown",
   "metadata": {},
   "source": [
    "## CONTINUACIÓN"
   ]
  },
  {
   "cell_type": "code",
   "execution_count": 7,
   "metadata": {},
   "outputs": [
    {
     "name": "stdout",
     "output_type": "stream",
     "text": [
      "Modo entrenamiento\n"
     ]
    },
    {
     "data": {
      "text/plain": [
       "<tensorflow.python.training.tracking.util.CheckpointLoadStatus at 0x7f86419fa2b0>"
      ]
     },
     "execution_count": 7,
     "metadata": {},
     "output_type": "execute_result"
    }
   ],
   "source": [
    "anchors =tf.constant(np.array([[0,0,0.02078,0.049],[0,0,0.0426,0.128],[0,0,0.08523,0.19356],[0,0,0.1506,0.4163],[0,0,0.27835,0.58651],[0,0,0.5632,0.78614]]),dtype=tf.float32)\n",
    "model = TinyYOLOv3(1,anchor_boxes=anchors,train=True,mode = \"finetuning\")\n",
    "model.build(batch_input_shape=(None,416,416,3))\n",
    "#print(model.load_weights_darknet(\"/home/sergio/TinyYOLOv3-Pedestrian-Detection/yolov3-tiny.weights\"))\n",
    "model.load_weights(root_path+'/last_weights/pesos_finetuning_5521_10_epoch_nadam_0dot00001_mse_exp_mse_3anchors_final_experiment_con_data_aug-con_data_aug')"
   ]
  },
  {
   "cell_type": "code",
   "execution_count": 8,
   "metadata": {},
   "outputs": [
    {
     "name": "stdout",
     "output_type": "stream",
     "text": [
      "BasicBlock1 True\n",
      "BasicBlock2 True\n",
      "BasicBlock3 True\n",
      "BasicBlock4 True\n",
      "BasicBlock5 True\n",
      "BasicBlock6 True\n",
      "BasicBlock7 True\n",
      "BasicBlock8 True\n",
      "BasicBlock9 True\n",
      "FinalBlock1 True\n",
      "BasicBlock11 True\n",
      "BasicBlock12 True\n",
      "FinalBlock2 True\n",
      "Concatenate True\n",
      "Upsampling True\n",
      "Prediction1 True\n",
      "Prediction2 True\n",
      "Concatenate_BBOX True\n"
     ]
    }
   ],
   "source": [
    "for l in model.layers:\n",
    "    print(l.name, l.trainable)\n",
    "    pass"
   ]
  },
  {
   "cell_type": "code",
   "execution_count": 9,
   "metadata": {},
   "outputs": [],
   "source": [
    "tf.random.set_seed(0)\n",
    "\n",
    "from tensorflow.keras.metrics import TrueNegatives,TruePositives,FalseNegatives,FalsePositives,Precision,Recall\n",
    "\n",
    "opt = tf.keras.optimizers.Nadam(learning_rate=1e-4)\n",
    "\n",
    "losses = {\"output_1\": loss_xy,\n",
    "          \"output_2\": loss_wh,\n",
    "          \"output_3\":loss_objectness,\n",
    "          \"output_4\":loss_no_objectness  \n",
    "}\n",
    "\n",
    "metrics = {\"output_3\":[Precision(0.5),Recall(0.5),TrueNegatives(0.5),TruePositives(0.5),FalseNegatives(0.5),FalsePositives(0.5)]}\n",
    "model.compile(optimizer=opt, loss=losses,metrics=metrics,loss_weights=[5,5,2,1])\n",
    "os.chdir(root_path+ \"/pedestrian_dataset_train_tfr\")"
   ]
  },
  {
   "cell_type": "code",
   "execution_count": 46,
   "metadata": {
    "scrolled": true
   },
   "outputs": [
    {
     "name": "stdout",
     "output_type": "stream",
     "text": [
      "Epoch 1/10\n",
      "4607/4607 [==============================] - 589s 128ms/step - loss: 34.5397 - output_1_loss: 3.8854 - output_2_loss: 0.4945 - output_3_loss: 0.0371 - output_4_loss: 12.5663 - output_3_precision_6: 0.6545 - output_3_recall_6: 0.1217 - output_3_true_negatives_6: 186537024.0000 - output_3_true_positives_6: 32883.0000 - output_3_false_negatives_6: 237381.0000 - output_3_false_positives_6: 17360.0000 - val_loss: 30.4480 - val_output_1_loss: 2.9129 - val_output_2_loss: 0.4089 - val_output_3_loss: 0.0432 - val_output_4_loss: 13.7526 - val_output_3_precision_6: 0.7748 - val_output_3_recall_6: 0.0748 - val_output_3_true_negatives_6: 7592919.0000 - val_output_3_true_positives_6: 884.0000 - val_output_3_false_negatives_6: 10940.0000 - val_output_3_false_positives_6: 257.0000\n",
      "Epoch 2/10\n",
      "4607/4607 [==============================] - 572s 124ms/step - loss: 33.6880 - output_1_loss: 3.7302 - output_2_loss: 0.4956 - output_3_loss: 0.0369 - output_4_loss: 12.4850 - output_3_precision_6: 0.6542 - output_3_recall_6: 0.1245 - output_3_true_negatives_6: 186536704.0000 - output_3_true_positives_6: 33639.0000 - output_3_false_negatives_6: 236562.0000 - output_3_false_positives_6: 17780.0000 - val_loss: 29.6053 - val_output_1_loss: 2.6776 - val_output_2_loss: 0.4330 - val_output_3_loss: 0.0441 - val_output_4_loss: 13.9643 - val_output_3_precision_6: 0.7908 - val_output_3_recall_6: 0.0738 - val_output_3_true_negatives_6: 7592945.0000 - val_output_3_true_positives_6: 873.0000 - val_output_3_false_negatives_6: 10951.0000 - val_output_3_false_positives_6: 231.0000\n",
      "Epoch 3/10\n",
      "4607/4607 [==============================] - 564s 122ms/step - loss: 33.1029 - output_1_loss: 3.6501 - output_2_loss: 0.4726 - output_3_loss: 0.0366 - output_4_loss: 12.4160 - output_3_precision_6: 0.6565 - output_3_recall_6: 0.1287 - output_3_true_negatives_6: 186536032.0000 - output_3_true_positives_6: 34792.0000 - output_3_false_negatives_6: 235493.0000 - output_3_false_positives_6: 18205.0000 - val_loss: 28.5087 - val_output_1_loss: 2.5494 - val_output_2_loss: 0.4148 - val_output_3_loss: 0.0427 - val_output_4_loss: 13.6020 - val_output_3_precision_6: 0.8062 - val_output_3_recall_6: 0.0774 - val_output_3_true_negatives_6: 7592956.0000 - val_output_3_true_positives_6: 915.0000 - val_output_3_false_negatives_6: 10909.0000 - val_output_3_false_positives_6: 220.0000\n",
      "Epoch 4/10\n",
      "4607/4607 [==============================] - 569s 123ms/step - loss: 32.6595 - output_1_loss: 3.5671 - output_2_loss: 0.4805 - output_3_loss: 0.0365 - output_4_loss: 12.3485 - output_3_precision_6: 0.6588 - output_3_recall_6: 0.1329 - output_3_true_negatives_6: 186535648.0000 - output_3_true_positives_6: 35903.0000 - output_3_false_negatives_6: 234339.0000 - output_3_false_positives_6: 18596.0000 - val_loss: 28.1707 - val_output_1_loss: 2.4509 - val_output_2_loss: 0.4158 - val_output_3_loss: 0.0434 - val_output_4_loss: 13.7508 - val_output_3_precision_6: 0.7632 - val_output_3_recall_6: 0.0834 - val_output_3_true_negatives_6: 7592870.0000 - val_output_3_true_positives_6: 986.0000 - val_output_3_false_negatives_6: 10838.0000 - val_output_3_false_positives_6: 306.0000\n",
      "Epoch 5/10\n",
      "4607/4607 [==============================] - 573s 124ms/step - loss: 32.2025 - output_1_loss: 3.4909 - output_2_loss: 0.4811 - output_3_loss: 0.0363 - output_4_loss: 12.2704 - output_3_precision_6: 0.6563 - output_3_recall_6: 0.1352 - output_3_true_negatives_6: 186534848.0000 - output_3_true_positives_6: 36546.0000 - output_3_false_negatives_6: 233690.0000 - output_3_false_positives_6: 19138.0000 - val_loss: 27.3618 - val_output_1_loss: 2.3184 - val_output_2_loss: 0.4055 - val_output_3_loss: 0.0432 - val_output_4_loss: 13.6561 - val_output_3_precision_6: 0.8015 - val_output_3_recall_6: 0.0796 - val_output_3_true_negatives_6: 7592943.0000 - val_output_3_true_positives_6: 941.0000 - val_output_3_false_negatives_6: 10883.0000 - val_output_3_false_positives_6: 233.0000\n",
      "Epoch 6/10\n",
      "4607/4607 [==============================] - 609s 132ms/step - loss: 31.6053 - output_1_loss: 3.4230 - output_2_loss: 0.4453 - output_3_loss: 0.0361 - output_4_loss: 12.1919 - output_3_precision_6: 0.6597 - output_3_recall_6: 0.1385 - output_3_true_negatives_6: 186534640.0000 - output_3_true_positives_6: 37407.0000 - output_3_false_negatives_6: 232760.0000 - output_3_false_positives_6: 19296.0000 - val_loss: 26.6246 - val_output_1_loss: 2.2171 - val_output_2_loss: 0.4030 - val_output_3_loss: 0.0424 - val_output_4_loss: 13.4396 - val_output_3_precision_6: 0.7755 - val_output_3_recall_6: 0.0818 - val_output_3_true_negatives_6: 7592896.0000 - val_output_3_true_positives_6: 967.0000 - val_output_3_false_negatives_6: 10857.0000 - val_output_3_false_positives_6: 280.0000\n",
      "Epoch 7/10\n",
      "4607/4607 [==============================] - 605s 131ms/step - loss: 31.3636 - output_1_loss: 3.3547 - output_2_loss: 0.4726 - output_3_loss: 0.0360 - output_4_loss: 12.1553 - output_3_precision_6: 0.6647 - output_3_recall_6: 0.1405 - output_3_true_negatives_6: 186534848.0000 - output_3_true_positives_6: 37966.0000 - output_3_false_negatives_6: 232292.0000 - output_3_false_positives_6: 19151.0000 - val_loss: 26.2798 - val_output_1_loss: 2.1269 - val_output_2_loss: 0.4115 - val_output_3_loss: 0.0428 - val_output_4_loss: 13.5025 - val_output_3_precision_6: 0.7976 - val_output_3_recall_6: 0.0833 - val_output_3_true_negatives_6: 7592926.0000 - val_output_3_true_positives_6: 985.0000 - val_output_3_false_negatives_6: 10839.0000 - val_output_3_false_positives_6: 250.0000\n",
      "Epoch 8/10\n",
      "4607/4607 [==============================] - 592s 129ms/step - loss: 31.0101 - output_1_loss: 3.3084 - output_2_loss: 0.4617 - output_3_loss: 0.0358 - output_4_loss: 12.0880 - output_3_precision_6: 0.6615 - output_3_recall_6: 0.1430 - output_3_true_negatives_6: 186534176.0000 - output_3_true_positives_6: 38641.0000 - output_3_false_negatives_6: 231632.0000 - output_3_false_positives_6: 19776.0000 - val_loss: 25.5611 - val_output_1_loss: 2.0411 - val_output_2_loss: 0.3910 - val_output_3_loss: 0.0422 - val_output_4_loss: 13.3159 - val_output_3_precision_6: 0.7920 - val_output_3_recall_6: 0.0892 - val_output_3_true_negatives_6: 7592899.0000 - val_output_3_true_positives_6: 1055.0000 - val_output_3_false_negatives_6: 10769.0000 - val_output_3_false_positives_6: 277.0000\n",
      "Epoch 9/10\n",
      "4607/4607 [==============================] - 575s 125ms/step - loss: 30.5592 - output_1_loss: 3.2361 - output_2_loss: 0.4591 - output_3_loss: 0.0356 - output_4_loss: 12.0121 - output_3_precision_6: 0.6638 - output_3_recall_6: 0.1470 - output_3_true_negatives_6: 186534112.0000 - output_3_true_positives_6: 39728.0000 - output_3_false_negatives_6: 230489.0000 - output_3_false_positives_6: 20124.0000 - val_loss: 24.9054 - val_output_1_loss: 1.9526 - val_output_2_loss: 0.3816 - val_output_3_loss: 0.0416 - val_output_4_loss: 13.1512 - val_output_3_precision_6: 0.7959 - val_output_3_recall_6: 0.0943 - val_output_3_true_negatives_6: 7592890.0000 - val_output_3_true_positives_6: 1115.0000 - val_output_3_false_negatives_6: 10709.0000 - val_output_3_false_positives_6: 286.0000\n",
      "Epoch 10/10\n",
      "4607/4607 [==============================] - 572s 124ms/step - loss: 30.1366 - output_1_loss: 3.1813 - output_2_loss: 0.4448 - output_3_loss: 0.0354 - output_4_loss: 11.9357 - output_3_precision_6: 0.6653 - output_3_recall_6: 0.1506 - output_3_true_negatives_6: 186533952.0000 - output_3_true_positives_6: 40691.0000 - output_3_false_negatives_6: 229460.0000 - output_3_false_positives_6: 20472.0000 - val_loss: 24.3975 - val_output_1_loss: 1.8686 - val_output_2_loss: 0.3844 - val_output_3_loss: 0.0415 - val_output_4_loss: 13.0496 - val_output_3_precision_6: 0.7989 - val_output_3_recall_6: 0.1015 - val_output_3_true_negatives_6: 7592874.0000 - val_output_3_true_positives_6: 1200.0000 - val_output_3_false_negatives_6: 10624.0000 - val_output_3_false_positives_6: 302.0000\n"
     ]
    }
   ],
   "source": [
    "os.chdir(root_path+ \"/pedestrian_dataset_train_tfr\")\n",
    "history = model.fit(train_dataset, epochs=10,validation_data=val_dataset)"
   ]
  },
  {
   "cell_type": "code",
   "execution_count": null,
   "metadata": {},
   "outputs": [],
   "source": []
  },
  {
   "cell_type": "code",
   "execution_count": null,
   "metadata": {},
   "outputs": [],
   "source": []
  },
  {
   "cell_type": "code",
   "execution_count": 47,
   "metadata": {},
   "outputs": [],
   "source": [
    "os.chdir(root_path+\"/json_final_experiment\")\n",
    "import json\n",
    "#json.dumps(str(a))\n",
    "with open('history_finetuning_5521_10_20_epoch_nadam_0dot00001_mse_exp_mse_3anchors_final_experiment_con_data_aug.json', 'w') as fp:\n",
    "    json.dump(str(history.history), fp)"
   ]
  },
  {
   "cell_type": "code",
   "execution_count": 48,
   "metadata": {},
   "outputs": [],
   "source": [
    "model.save_weights(root_path+'/last_weights/pesos_finetuning_5521_10_20_epoch_nadam_0dot00001_mse_exp_mse_3anchors_final_experiment_con_data_aug')"
   ]
  },
  {
   "cell_type": "code",
   "execution_count": null,
   "metadata": {},
   "outputs": [],
   "source": []
  },
  {
   "cell_type": "markdown",
   "metadata": {},
   "source": [
    "## CONTINUACION OTRAS 20 EPOCAS (20-40)"
   ]
  },
  {
   "cell_type": "code",
   "execution_count": 12,
   "metadata": {},
   "outputs": [
    {
     "name": "stdout",
     "output_type": "stream",
     "text": [
      "Modo entrenamiento\n"
     ]
    },
    {
     "data": {
      "text/plain": [
       "<tensorflow.python.training.tracking.util.CheckpointLoadStatus at 0x7ff93b0919e8>"
      ]
     },
     "execution_count": 12,
     "metadata": {},
     "output_type": "execute_result"
    }
   ],
   "source": [
    "anchors =tf.constant(np.array([[0,0,0.02078,0.049],[0,0,0.0426,0.128],[0,0,0.08523,0.19356],[0,0,0.1506,0.4163],[0,0,0.27835,0.58651],[0,0,0.5632,0.78614]]),dtype=tf.float32)\n",
    "model = TinyYOLOv3(1,anchor_boxes=anchors,train=True,mode = \"finetuning\")\n",
    "model.build(batch_input_shape=(None,416,416,3))\n",
    "#print(model.load_weights_darknet(\"/home/sergio/TinyYOLOv3-Pedestrian-Detection/yolov3-tiny.weights\"))\n",
    "model.load_weights(root_path+'/last_weights/pesos_finetuning_5521_10_20_epoch_nadam_0dot00001_mse_exp_mse_3anchors_final_experiment_con_data_aug')"
   ]
  },
  {
   "cell_type": "code",
   "execution_count": 13,
   "metadata": {},
   "outputs": [],
   "source": [
    "tf.random.set_seed(0)\n",
    "\n",
    "from tensorflow.keras.metrics import TrueNegatives,TruePositives,FalseNegatives,FalsePositives,Precision,Recall\n",
    "\n",
    "opt = tf.keras.optimizers.Nadam(learning_rate=1e-4)\n",
    "\n",
    "losses = {\"output_1\": loss_xy,\n",
    "          \"output_2\": loss_wh,\n",
    "          \"output_3\":loss_objectness,\n",
    "          \"output_4\":loss_no_objectness  \n",
    "}\n",
    "\n",
    "metrics = {\"output_3\":[Precision(0.5),Recall(0.5),TrueNegatives(0.5),TruePositives(0.5),FalseNegatives(0.5),FalsePositives(0.5)]}\n",
    "model.compile(optimizer=opt, loss=losses,metrics=metrics,loss_weights=[5,5,2,1])\n",
    "os.chdir(root_path+ \"/pedestrian_dataset_train_tfr\")"
   ]
  },
  {
   "cell_type": "code",
   "execution_count": null,
   "metadata": {},
   "outputs": [],
   "source": []
  },
  {
   "cell_type": "code",
   "execution_count": 14,
   "metadata": {},
   "outputs": [],
   "source": [
    "os.chdir(root_path+ \"/pedestrian_dataset_train_tfr\")"
   ]
  },
  {
   "cell_type": "code",
   "execution_count": 15,
   "metadata": {
    "scrolled": true
   },
   "outputs": [
    {
     "name": "stdout",
     "output_type": "stream",
     "text": [
      "Epoch 1/20\n",
      "Modo entrenamiento\n",
      "Modo entrenamiento\n",
      "   4606/Unknown - 588s 128ms/step - loss: 30.1245 - output_1_loss: 3.1801 - output_2_loss: 0.4473 - output_3_loss: 0.0354 - output_4_loss: 11.9167 - output_3_precision_2: 0.6672 - output_3_recall_2: 0.1528 - output_3_true_negatives_2: 186528592.0000 - output_3_true_positives_2: 41286.0000 - output_3_false_negatives_2: 228917.0000 - output_3_false_positives_2: 20598.0000Modo entrenamiento\n",
      "4607/4607 [==============================] - 595s 129ms/step - loss: 30.1238 - output_1_loss: 3.1800 - output_2_loss: 0.4473 - output_3_loss: 0.0354 - output_4_loss: 11.9165 - output_3_precision_2: 0.6672 - output_3_recall_2: 0.1528 - output_3_true_negatives_2: 186533664.0000 - output_3_true_positives_2: 41290.0000 - output_3_false_negatives_2: 228919.0000 - output_3_false_positives_2: 20598.0000 - val_loss: 24.2625 - val_output_1_loss: 1.8366 - val_output_2_loss: 0.3715 - val_output_3_loss: 0.0418 - val_output_4_loss: 13.1384 - val_output_3_precision_2: 0.8062 - val_output_3_recall_2: 0.0968 - val_output_3_true_negatives_2: 7592901.0000 - val_output_3_true_positives_2: 1144.0000 - val_output_3_false_negatives_2: 10680.0000 - val_output_3_false_positives_2: 275.0000\n",
      "Epoch 2/20\n",
      "4607/4607 [==============================] - 587s 127ms/step - loss: 29.4558 - output_1_loss: 3.0779 - output_2_loss: 0.4378 - output_3_loss: 0.0350 - output_4_loss: 11.8072 - output_3_precision_2: 0.6693 - output_3_recall_2: 0.1577 - output_3_true_negatives_2: 186533392.0000 - output_3_true_positives_2: 42619.0000 - output_3_false_negatives_2: 227556.0000 - output_3_false_positives_2: 21057.0000 - val_loss: 23.9888 - val_output_1_loss: 1.8145 - val_output_2_loss: 0.3813 - val_output_3_loss: 0.0410 - val_output_4_loss: 12.9279 - val_output_3_precision_2: 0.8011 - val_output_3_recall_2: 0.1018 - val_output_3_true_negatives_2: 7592877.0000 - val_output_3_true_positives_2: 1204.0000 - val_output_3_false_negatives_2: 10620.0000 - val_output_3_false_positives_2: 299.0000\n",
      "Epoch 3/20\n",
      "4607/4607 [==============================] - 577s 125ms/step - loss: 29.2334 - output_1_loss: 3.0504 - output_2_loss: 0.4326 - output_3_loss: 0.0349 - output_4_loss: 11.7485 - output_3_precision_2: 0.6685 - output_3_recall_2: 0.1612 - output_3_true_negatives_2: 186532704.0000 - output_3_true_positives_2: 43557.0000 - output_3_false_negatives_2: 226693.0000 - output_3_false_positives_2: 21601.0000 - val_loss: 23.6755 - val_output_1_loss: 1.7513 - val_output_2_loss: 0.3829 - val_output_3_loss: 0.0411 - val_output_4_loss: 12.9225 - val_output_3_precision_2: 0.7934 - val_output_3_recall_2: 0.1029 - val_output_3_true_negatives_2: 7592859.0000 - val_output_3_true_positives_2: 1217.0000 - val_output_3_false_negatives_2: 10607.0000 - val_output_3_false_positives_2: 317.0000\n",
      "Epoch 4/20\n",
      "4607/4607 [==============================] - 571s 124ms/step - loss: 28.9846 - output_1_loss: 3.0095 - output_2_loss: 0.4305 - output_3_loss: 0.0348 - output_4_loss: 11.7152 - output_3_precision_2: 0.6698 - output_3_recall_2: 0.1633 - output_3_true_negatives_2: 186532512.0000 - output_3_true_positives_2: 44140.0000 - output_3_false_negatives_2: 226080.0000 - output_3_false_positives_2: 21762.0000 - val_loss: 22.7145 - val_output_1_loss: 1.6193 - val_output_2_loss: 0.3677 - val_output_3_loss: 0.0404 - val_output_4_loss: 12.6987 - val_output_3_precision_2: 0.7870 - val_output_3_recall_2: 0.1072 - val_output_3_true_negatives_2: 7592833.0000 - val_output_3_true_positives_2: 1267.0000 - val_output_3_false_negatives_2: 10557.0000 - val_output_3_false_positives_2: 343.0000\n",
      "Epoch 5/20\n",
      "4607/4607 [==============================] - 561s 122ms/step - loss: 28.6440 - output_1_loss: 2.9514 - output_2_loss: 0.4349 - output_3_loss: 0.0347 - output_4_loss: 11.6428 - output_3_precision_2: 0.6655 - output_3_recall_2: 0.1650 - output_3_true_negatives_2: 186531808.0000 - output_3_true_positives_2: 44567.0000 - output_3_false_negatives_2: 225560.0000 - output_3_false_positives_2: 22404.0000 - val_loss: 22.7363 - val_output_1_loss: 1.6088 - val_output_2_loss: 0.3742 - val_output_3_loss: 0.0406 - val_output_4_loss: 12.7402 - val_output_3_precision_2: 0.8061 - val_output_3_recall_2: 0.1069 - val_output_3_true_negatives_2: 7592872.0000 - val_output_3_true_positives_2: 1264.0000 - val_output_3_false_negatives_2: 10560.0000 - val_output_3_false_positives_2: 304.0000\n",
      "Epoch 6/20\n",
      "4607/4607 [==============================] - 567s 123ms/step - loss: 28.4979 - output_1_loss: 2.9453 - output_2_loss: 0.4205 - output_3_loss: 0.0346 - output_4_loss: 11.5997 - output_3_precision_2: 0.6729 - output_3_recall_2: 0.1693 - output_3_true_negatives_2: 186532096.0000 - output_3_true_positives_2: 45740.0000 - output_3_false_negatives_2: 224511.0000 - output_3_false_positives_2: 22239.0000 - val_loss: 22.3687 - val_output_1_loss: 1.5794 - val_output_2_loss: 0.3516 - val_output_3_loss: 0.0402 - val_output_4_loss: 12.6334 - val_output_3_precision_2: 0.7975 - val_output_3_recall_2: 0.1093 - val_output_3_true_negatives_2: 7592848.0000 - val_output_3_true_positives_2: 1292.0000 - val_output_3_false_negatives_2: 10532.0000 - val_output_3_false_positives_2: 328.0000\n",
      "Epoch 7/20\n",
      "4607/4607 [==============================] - 603s 131ms/step - loss: 28.3914 - output_1_loss: 2.9250 - output_2_loss: 0.4302 - output_3_loss: 0.0344 - output_4_loss: 11.5466 - output_3_precision_2: 0.6745 - output_3_recall_2: 0.1718 - output_3_true_negatives_2: 186531392.0000 - output_3_true_positives_2: 46429.0000 - output_3_false_negatives_2: 223845.0000 - output_3_false_positives_2: 22406.0000 - val_loss: 21.9410 - val_output_1_loss: 1.5055 - val_output_2_loss: 0.3537 - val_output_3_loss: 0.0401 - val_output_4_loss: 12.5645 - val_output_3_precision_2: 0.8190 - val_output_3_recall_2: 0.1140 - val_output_3_true_negatives_2: 7592878.0000 - val_output_3_true_positives_2: 1348.0000 - val_output_3_false_negatives_2: 10476.0000 - val_output_3_false_positives_2: 298.0000\n",
      "Epoch 8/20\n",
      "4607/4607 [==============================] - 615s 133ms/step - loss: 28.1371 - output_1_loss: 2.8978 - output_2_loss: 0.4235 - output_3_loss: 0.0342 - output_4_loss: 11.4620 - output_3_precision_2: 0.6751 - output_3_recall_2: 0.1775 - output_3_true_negatives_2: 186531264.0000 - output_3_true_positives_2: 47964.0000 - output_3_false_negatives_2: 222225.0000 - output_3_false_positives_2: 23085.0000 - val_loss: 21.9262 - val_output_1_loss: 1.5388 - val_output_2_loss: 0.3479 - val_output_3_loss: 0.0397 - val_output_4_loss: 12.4136 - val_output_3_precision_2: 0.8184 - val_output_3_recall_2: 0.1212 - val_output_3_true_negatives_2: 7592858.0000 - val_output_3_true_positives_2: 1433.0000 - val_output_3_false_negatives_2: 10391.0000 - val_output_3_false_positives_2: 318.0000\n",
      "Epoch 9/20\n",
      "4607/4607 [==============================] - 604s 131ms/step - loss: 27.8913 - output_1_loss: 2.8612 - output_2_loss: 0.4228 - output_3_loss: 0.0340 - output_4_loss: 11.4031 - output_3_precision_2: 0.6766 - output_3_recall_2: 0.1799 - output_3_true_negatives_2: 186530816.0000 - output_3_true_positives_2: 48621.0000 - output_3_false_negatives_2: 221591.0000 - output_3_false_positives_2: 23241.0000 - val_loss: 21.6069 - val_output_1_loss: 1.4630 - val_output_2_loss: 0.3551 - val_output_3_loss: 0.0398 - val_output_4_loss: 12.4369 - val_output_3_precision_2: 0.8245 - val_output_3_recall_2: 0.1121 - val_output_3_true_negatives_2: 7592894.0000 - val_output_3_true_positives_2: 1325.0000 - val_output_3_false_negatives_2: 10499.0000 - val_output_3_false_positives_2: 282.0000\n",
      "Epoch 10/20\n"
     ]
    },
    {
     "name": "stdout",
     "output_type": "stream",
     "text": [
      "4607/4607 [==============================] - 586s 127ms/step - loss: 27.7813 - output_1_loss: 2.8507 - output_2_loss: 0.4210 - output_3_loss: 0.0339 - output_4_loss: 11.3550 - output_3_precision_2: 0.6764 - output_3_recall_2: 0.1825 - output_3_true_negatives_2: 186530720.0000 - output_3_true_positives_2: 49308.0000 - output_3_false_negatives_2: 220857.0000 - output_3_false_positives_2: 23593.0000 - val_loss: 21.0843 - val_output_1_loss: 1.4054 - val_output_2_loss: 0.3444 - val_output_3_loss: 0.0392 - val_output_4_loss: 12.2570 - val_output_3_precision_2: 0.8187 - val_output_3_recall_2: 0.1172 - val_output_3_true_negatives_2: 7592869.0000 - val_output_3_true_positives_2: 1386.0000 - val_output_3_false_negatives_2: 10438.0000 - val_output_3_false_positives_2: 307.0000\n",
      "Epoch 11/20\n",
      "4607/4607 [==============================] - 574s 125ms/step - loss: 27.3990 - output_1_loss: 2.7990 - output_2_loss: 0.4098 - output_3_loss: 0.0337 - output_4_loss: 11.2873 - output_3_precision_2: 0.6796 - output_3_recall_2: 0.1864 - output_3_true_negatives_2: 186530336.0000 - output_3_true_positives_2: 50382.0000 - output_3_false_negatives_2: 219870.0000 - output_3_false_positives_2: 23757.0000 - val_loss: 21.0586 - val_output_1_loss: 1.4321 - val_output_2_loss: 0.3438 - val_output_3_loss: 0.0386 - val_output_4_loss: 12.1021 - val_output_3_precision_2: 0.8182 - val_output_3_recall_2: 0.1210 - val_output_3_true_negatives_2: 7592858.0000 - val_output_3_true_positives_2: 1431.0000 - val_output_3_false_negatives_2: 10393.0000 - val_output_3_false_positives_2: 318.0000\n",
      "Epoch 12/20\n",
      "4607/4607 [==============================] - 583s 126ms/step - loss: 27.3454 - output_1_loss: 2.7887 - output_2_loss: 0.4224 - output_3_loss: 0.0335 - output_4_loss: 11.2227 - output_3_precision_2: 0.6819 - output_3_recall_2: 0.1909 - output_3_true_negatives_2: 186530176.0000 - output_3_true_positives_2: 51591.0000 - output_3_false_negatives_2: 218617.0000 - output_3_false_positives_2: 24064.0000 - val_loss: 20.5749 - val_output_1_loss: 1.3530 - val_output_2_loss: 0.3376 - val_output_3_loss: 0.0386 - val_output_4_loss: 12.0447 - val_output_3_precision_2: 0.8105 - val_output_3_recall_2: 0.1324 - val_output_3_true_negatives_2: 7592810.0000 - val_output_3_true_positives_2: 1565.0000 - val_output_3_false_negatives_2: 10259.0000 - val_output_3_false_positives_2: 366.0000\n",
      "Epoch 13/20\n",
      "4607/4607 [==============================] - 590s 128ms/step - loss: 27.2738 - output_1_loss: 2.7958 - output_2_loss: 0.4077 - output_3_loss: 0.0334 - output_4_loss: 11.1893 - output_3_precision_2: 0.6799 - output_3_recall_2: 0.1922 - output_3_true_negatives_2: 186529920.0000 - output_3_true_positives_2: 51951.0000 - output_3_false_negatives_2: 218319.0000 - output_3_false_positives_2: 24461.0000 - val_loss: 20.6354 - val_output_1_loss: 1.3580 - val_output_2_loss: 0.3397 - val_output_3_loss: 0.0387 - val_output_4_loss: 12.0693 - val_output_3_precision_2: 0.8175 - val_output_3_recall_2: 0.1349 - val_output_3_true_negatives_2: 7592820.0000 - val_output_3_true_positives_2: 1595.0000 - val_output_3_false_negatives_2: 10229.0000 - val_output_3_false_positives_2: 356.0000\n",
      "Epoch 14/20\n",
      "4607/4607 [==============================] - 576s 125ms/step - loss: 27.0782 - output_1_loss: 2.7669 - output_2_loss: 0.4106 - output_3_loss: 0.0333 - output_4_loss: 11.1240 - output_3_precision_2: 0.6824 - output_3_recall_2: 0.1957 - output_3_true_negatives_2: 186529696.0000 - output_3_true_positives_2: 52882.0000 - output_3_false_negatives_2: 217321.0000 - output_3_false_positives_2: 24617.0000 - val_loss: 20.1223 - val_output_1_loss: 1.3103 - val_output_2_loss: 0.3348 - val_output_3_loss: 0.0379 - val_output_4_loss: 11.8210 - val_output_3_precision_2: 0.8191 - val_output_3_recall_2: 0.1367 - val_output_3_true_negatives_2: 7592819.0000 - val_output_3_true_positives_2: 1616.0000 - val_output_3_false_negatives_2: 10208.0000 - val_output_3_false_positives_2: 357.0000\n",
      "Epoch 15/20\n",
      "4607/4607 [==============================] - 581s 126ms/step - loss: 27.1058 - output_1_loss: 2.7489 - output_2_loss: 0.4333 - output_3_loss: 0.0333 - output_4_loss: 11.1280 - output_3_precision_2: 0.6847 - output_3_recall_2: 0.1970 - output_3_true_negatives_2: 186529664.0000 - output_3_true_positives_2: 53243.0000 - output_3_false_negatives_2: 217063.0000 - output_3_false_positives_2: 24518.0000 - val_loss: 19.7743 - val_output_1_loss: 1.2555 - val_output_2_loss: 0.3405 - val_output_3_loss: 0.0377 - val_output_4_loss: 11.7191 - val_output_3_precision_2: 0.8311 - val_output_3_recall_2: 0.1395 - val_output_3_true_negatives_2: 7592841.0000 - val_output_3_true_positives_2: 1649.0000 - val_output_3_false_negatives_2: 10175.0000 - val_output_3_false_positives_2: 335.0000\n",
      "Epoch 16/20\n",
      "4607/4607 [==============================] - 592s 128ms/step - loss: 26.6926 - output_1_loss: 2.7140 - output_2_loss: 0.4039 - output_3_loss: 0.0331 - output_4_loss: 11.0371 - output_3_precision_2: 0.6862 - output_3_recall_2: 0.2025 - output_3_true_negatives_2: 186529120.0000 - output_3_true_positives_2: 54728.0000 - output_3_false_negatives_2: 215557.0000 - output_3_false_positives_2: 25023.0000 - val_loss: 20.1051 - val_output_1_loss: 1.3087 - val_output_2_loss: 0.3265 - val_output_3_loss: 0.0381 - val_output_4_loss: 11.8531 - val_output_3_precision_2: 0.8350 - val_output_3_recall_2: 0.1331 - val_output_3_true_negatives_2: 7592865.0000 - val_output_3_true_positives_2: 1574.0000 - val_output_3_false_negatives_2: 10250.0000 - val_output_3_false_positives_2: 311.0000\n",
      "Epoch 17/20\n",
      "4607/4607 [==============================] - 574s 125ms/step - loss: 26.4073 - output_1_loss: 2.6837 - output_2_loss: 0.3931 - output_3_loss: 0.0329 - output_4_loss: 10.9578 - output_3_precision_2: 0.6882 - output_3_recall_2: 0.2061 - output_3_true_negatives_2: 186528928.0000 - output_3_true_positives_2: 55688.0000 - output_3_false_negatives_2: 214547.0000 - output_3_false_positives_2: 25233.0000 - val_loss: 19.7485 - val_output_1_loss: 1.2678 - val_output_2_loss: 0.3194 - val_output_3_loss: 0.0379 - val_output_4_loss: 11.7368 - val_output_3_precision_2: 0.8389 - val_output_3_recall_2: 0.1401 - val_output_3_true_negatives_2: 7592858.0000 - val_output_3_true_positives_2: 1656.0000 - val_output_3_false_negatives_2: 10168.0000 - val_output_3_false_positives_2: 318.0000\n",
      "Epoch 18/20\n",
      "4607/4607 [==============================] - 584s 127ms/step - loss: 26.5751 - output_1_loss: 2.7180 - output_2_loss: 0.3961 - output_3_loss: 0.0329 - output_4_loss: 10.9386 - output_3_precision_2: 0.6883 - output_3_recall_2: 0.2082 - output_3_true_negatives_2: 186528816.0000 - output_3_true_positives_2: 56271.0000 - output_3_false_negatives_2: 213970.0000 - output_3_false_positives_2: 25478.0000 - val_loss: 19.4626 - val_output_1_loss: 1.2208 - val_output_2_loss: 0.3286 - val_output_3_loss: 0.0375 - val_output_4_loss: 11.6405 - val_output_3_precision_2: 0.8467 - val_output_3_recall_2: 0.1406 - val_output_3_true_negatives_2: 7592875.0000 - val_output_3_true_positives_2: 1663.0000 - val_output_3_false_negatives_2: 10161.0000 - val_output_3_false_positives_2: 301.0000\n",
      "Epoch 19/20\n",
      "4607/4607 [==============================] - 596s 129ms/step - loss: 26.1467 - output_1_loss: 2.6515 - output_2_loss: 0.3900 - output_3_loss: 0.0326 - output_4_loss: 10.8738 - output_3_precision_2: 0.6895 - output_3_recall_2: 0.2125 - output_3_true_negatives_2: 186528256.0000 - output_3_true_positives_2: 57438.0000 - output_3_false_negatives_2: 212845.0000 - output_3_false_positives_2: 25862.0000 - val_loss: 19.3539 - val_output_1_loss: 1.2064 - val_output_2_loss: 0.3321 - val_output_3_loss: 0.0375 - val_output_4_loss: 11.5867 - val_output_3_precision_2: 0.8362 - val_output_3_recall_2: 0.1460 - val_output_3_true_negatives_2: 7592838.0000 - val_output_3_true_positives_2: 1726.0000 - val_output_3_false_negatives_2: 10098.0000 - val_output_3_false_positives_2: 338.0000\n",
      "Epoch 20/20\n"
     ]
    },
    {
     "name": "stdout",
     "output_type": "stream",
     "text": [
      "4607/4607 [==============================] - 575s 125ms/step - loss: 26.3014 - output_1_loss: 2.6796 - output_2_loss: 0.4034 - output_3_loss: 0.0325 - output_4_loss: 10.8213 - output_3_precision_2: 0.6922 - output_3_recall_2: 0.2154 - output_3_true_negatives_2: 186528576.0000 - output_3_true_positives_2: 58212.0000 - output_3_false_negatives_2: 212018.0000 - output_3_false_positives_2: 25885.0000 - val_loss: 18.8800 - val_output_1_loss: 1.1689 - val_output_2_loss: 0.3181 - val_output_3_loss: 0.0366 - val_output_4_loss: 11.3715 - val_output_3_precision_2: 0.8351 - val_output_3_recall_2: 0.1627 - val_output_3_true_negatives_2: 7592796.0000 - val_output_3_true_positives_2: 1924.0000 - val_output_3_false_negatives_2: 9900.0000 - val_output_3_false_positives_2: 380.0000\n"
     ]
    }
   ],
   "source": [
    "history = model.fit(train_dataset, epochs=20,validation_data=val_dataset)"
   ]
  },
  {
   "cell_type": "code",
   "execution_count": null,
   "metadata": {},
   "outputs": [],
   "source": []
  },
  {
   "cell_type": "code",
   "execution_count": 16,
   "metadata": {},
   "outputs": [],
   "source": [
    "os.chdir(root_path+\"/json_final_experiment\")\n",
    "import json\n",
    "#json.dumps(str(a))\n",
    "with open('history_finetuning_5521_20_40_epoch_nadam_0dot00001_mse_exp_mse_3anchors_final_experiment_con_data_aug.json', 'w') as fp:\n",
    "    json.dump(str(history.history), fp)"
   ]
  },
  {
   "cell_type": "code",
   "execution_count": 17,
   "metadata": {},
   "outputs": [],
   "source": [
    "model.save_weights(root_path+'/last_weights/pesos_finetuning_5521_20_40_epoch_nadam_0dot00001_mse_exp_mse_3anchors_final_experiment_con_data_aug')"
   ]
  },
  {
   "cell_type": "code",
   "execution_count": null,
   "metadata": {},
   "outputs": [],
   "source": []
  },
  {
   "cell_type": "markdown",
   "metadata": {},
   "source": [
    "## CONTINUACION 40-60 EPOCHS"
   ]
  },
  {
   "cell_type": "code",
   "execution_count": 18,
   "metadata": {},
   "outputs": [],
   "source": [
    "os.chdir(root_path+ \"/pedestrian_dataset_train_tfr\")"
   ]
  },
  {
   "cell_type": "code",
   "execution_count": 19,
   "metadata": {},
   "outputs": [
    {
     "name": "stdout",
     "output_type": "stream",
     "text": [
      "Epoch 1/20\n",
      "4607/4607 [==============================] - 596s 129ms/step - loss: 27.0456 - output_1_loss: 2.6820 - output_2_loss: 0.5259 - output_3_loss: 0.0327 - output_4_loss: 10.9406 - output_3_precision_2: 0.6897 - output_3_recall_2: 0.2097 - output_3_true_negatives_2: 186528736.0000 - output_3_true_positives_2: 56665.0000 - output_3_false_negatives_2: 213593.0000 - output_3_false_positives_2: 25497.0000 - val_loss: 18.3760 - val_output_1_loss: 1.1350 - val_output_2_loss: 0.3170 - val_output_3_loss: 0.0355 - val_output_4_loss: 11.0450 - val_output_3_precision_2: 0.8197 - val_output_3_recall_2: 0.1673 - val_output_3_true_negatives_2: 7592741.0000 - val_output_3_true_positives_2: 1978.0000 - val_output_3_false_negatives_2: 9846.0000 - val_output_3_false_positives_2: 435.0000\n",
      "Epoch 2/20\n",
      "4607/4607 [==============================] - 591s 128ms/step - loss: 25.6297 - output_1_loss: 2.6105 - output_2_loss: 0.3653 - output_3_loss: 0.0322 - output_4_loss: 10.6861 - output_3_precision_2: 0.6951 - output_3_recall_2: 0.2244 - output_3_true_negatives_2: 186527904.0000 - output_3_true_positives_2: 60637.0000 - output_3_false_negatives_2: 209568.0000 - output_3_false_positives_2: 26602.0000 - val_loss: 18.2923 - val_output_1_loss: 1.1029 - val_output_2_loss: 0.3084 - val_output_3_loss: 0.0360 - val_output_4_loss: 11.1635 - val_output_3_precision_2: 0.8331 - val_output_3_recall_2: 0.1587 - val_output_3_true_negatives_2: 7592800.0000 - val_output_3_true_positives_2: 1877.0000 - val_output_3_false_negatives_2: 9947.0000 - val_output_3_false_positives_2: 376.0000\n",
      "Epoch 3/20\n",
      "4607/4607 [==============================] - 578s 125ms/step - loss: 25.6800 - output_1_loss: 2.6074 - output_2_loss: 0.3843 - output_3_loss: 0.0321 - output_4_loss: 10.6575 - output_3_precision_2: 0.6966 - output_3_recall_2: 0.2267 - output_3_true_negatives_2: 186527728.0000 - output_3_true_positives_2: 61246.0000 - output_3_false_negatives_2: 208968.0000 - output_3_false_positives_2: 26681.0000 - val_loss: 18.5065 - val_output_1_loss: 1.1045 - val_output_2_loss: 0.3158 - val_output_3_loss: 0.0368 - val_output_4_loss: 11.3315 - val_output_3_precision_2: 0.8418 - val_output_3_recall_2: 0.1603 - val_output_3_true_negatives_2: 7592820.0000 - val_output_3_true_positives_2: 1895.0000 - val_output_3_false_negatives_2: 9929.0000 - val_output_3_false_positives_2: 356.0000\n",
      "Epoch 4/20\n",
      "4607/4607 [==============================] - 566s 123ms/step - loss: 25.5348 - output_1_loss: 2.5794 - output_2_loss: 0.3915 - output_3_loss: 0.0320 - output_4_loss: 10.6163 - output_3_precision_2: 0.6974 - output_3_recall_2: 0.2289 - output_3_true_negatives_2: 186527264.0000 - output_3_true_positives_2: 61841.0000 - output_3_false_negatives_2: 208357.0000 - output_3_false_positives_2: 26837.0000 - val_loss: 18.2488 - val_output_1_loss: 1.0991 - val_output_2_loss: 0.3131 - val_output_3_loss: 0.0361 - val_output_4_loss: 11.1159 - val_output_3_precision_2: 0.8438 - val_output_3_recall_2: 0.1641 - val_output_3_true_negatives_2: 7592817.0000 - val_output_3_true_positives_2: 1940.0000 - val_output_3_false_negatives_2: 9884.0000 - val_output_3_false_positives_2: 359.0000\n",
      "Epoch 5/20\n",
      "4607/4607 [==============================] - 565s 123ms/step - loss: 25.5348 - output_1_loss: 2.5875 - output_2_loss: 0.3920 - output_3_loss: 0.0319 - output_4_loss: 10.5739 - output_3_precision_2: 0.6996 - output_3_recall_2: 0.2332 - output_3_true_negatives_2: 186526752.0000 - output_3_true_positives_2: 63016.0000 - output_3_false_negatives_2: 207213.0000 - output_3_false_positives_2: 27058.0000 - val_loss: 18.3465 - val_output_1_loss: 1.1286 - val_output_2_loss: 0.3105 - val_output_3_loss: 0.0359 - val_output_4_loss: 11.0794 - val_output_3_precision_2: 0.8499 - val_output_3_recall_2: 0.1666 - val_output_3_true_negatives_2: 7592828.0000 - val_output_3_true_positives_2: 1970.0000 - val_output_3_false_negatives_2: 9854.0000 - val_output_3_false_positives_2: 348.0000\n",
      "Epoch 6/20\n",
      "4607/4607 [==============================] - 574s 125ms/step - loss: 25.4014 - output_1_loss: 2.5836 - output_2_loss: 0.3839 - output_3_loss: 0.0317 - output_4_loss: 10.5002 - output_3_precision_2: 0.6997 - output_3_recall_2: 0.2367 - output_3_true_negatives_2: 186526560.0000 - output_3_true_positives_2: 63979.0000 - output_3_false_negatives_2: 206343.0000 - output_3_false_positives_2: 27454.0000 - val_loss: 18.1211 - val_output_1_loss: 1.0867 - val_output_2_loss: 0.3092 - val_output_3_loss: 0.0361 - val_output_4_loss: 11.0696 - val_output_3_precision_2: 0.8524 - val_output_3_recall_2: 0.1729 - val_output_3_true_negatives_2: 7592822.0000 - val_output_3_true_positives_2: 2044.0000 - val_output_3_false_negatives_2: 9780.0000 - val_output_3_false_positives_2: 354.0000\n",
      "Epoch 7/20\n",
      "4607/4607 [==============================] - 548s 119ms/step - loss: 25.9253 - output_1_loss: 2.6171 - output_2_loss: 0.4406 - output_3_loss: 0.0318 - output_4_loss: 10.5732 - output_3_precision_2: 0.7005 - output_3_recall_2: 0.2333 - output_3_true_negatives_2: 186527504.0000 - output_3_true_positives_2: 63066.0000 - output_3_false_negatives_2: 207199.0000 - output_3_false_positives_2: 26966.0000 - val_loss: 17.4981 - val_output_1_loss: 1.0386 - val_output_2_loss: 0.3044 - val_output_3_loss: 0.0346 - val_output_4_loss: 10.7139 - val_output_3_precision_2: 0.8599 - val_output_3_recall_2: 0.1760 - val_output_3_true_negatives_2: 7592837.0000 - val_output_3_true_positives_2: 2081.0000 - val_output_3_false_negatives_2: 9743.0000 - val_output_3_false_positives_2: 339.0000\n",
      "Epoch 8/20\n",
      "4607/4607 [==============================] - 587s 127ms/step - loss: 24.8567 - output_1_loss: 2.5062 - output_2_loss: 0.3753 - output_3_loss: 0.0313 - output_4_loss: 10.3862 - output_3_precision_2: 0.7037 - output_3_recall_2: 0.2452 - output_3_true_negatives_2: 186526448.0000 - output_3_true_positives_2: 66267.0000 - output_3_false_negatives_2: 203998.0000 - output_3_false_positives_2: 27909.0000 - val_loss: 17.5562 - val_output_1_loss: 1.0491 - val_output_2_loss: 0.2978 - val_output_3_loss: 0.0349 - val_output_4_loss: 10.7516 - val_output_3_precision_2: 0.8491 - val_output_3_recall_2: 0.1770 - val_output_3_true_negatives_2: 7592804.0000 - val_output_3_true_positives_2: 2093.0000 - val_output_3_false_negatives_2: 9731.0000 - val_output_3_false_positives_2: 372.0000\n",
      "Epoch 9/20\n",
      "4607/4607 [==============================] - 581s 126ms/step - loss: 24.9065 - output_1_loss: 2.5311 - output_2_loss: 0.3705 - output_3_loss: 0.0312 - output_4_loss: 10.3356 - output_3_precision_2: 0.7048 - output_3_recall_2: 0.2497 - output_3_true_negatives_2: 186526176.0000 - output_3_true_positives_2: 67480.0000 - output_3_false_negatives_2: 202812.0000 - output_3_false_positives_2: 28265.0000 - val_loss: 17.4617 - val_output_1_loss: 1.0258 - val_output_2_loss: 0.3000 - val_output_3_loss: 0.0349 - val_output_4_loss: 10.7627 - val_output_3_precision_2: 0.8559 - val_output_3_recall_2: 0.1813 - val_output_3_true_negatives_2: 7592815.0000 - val_output_3_true_positives_2: 2144.0000 - val_output_3_false_negatives_2: 9680.0000 - val_output_3_false_positives_2: 361.0000\n",
      "Epoch 10/20\n",
      "4607/4607 [==============================] - 579s 126ms/step - loss: 24.9392 - output_1_loss: 2.5384 - output_2_loss: 0.3777 - output_3_loss: 0.0311 - output_4_loss: 10.2963 - output_3_precision_2: 0.7071 - output_3_recall_2: 0.2509 - output_3_true_negatives_2: 186526192.0000 - output_3_true_positives_2: 67799.0000 - output_3_false_negatives_2: 202477.0000 - output_3_false_positives_2: 28087.0000 - val_loss: 17.3396 - val_output_1_loss: 1.0329 - val_output_2_loss: 0.2988 - val_output_3_loss: 0.0345 - val_output_4_loss: 10.6120 - val_output_3_precision_2: 0.8510 - val_output_3_recall_2: 0.1923 - val_output_3_true_negatives_2: 7592778.0000 - val_output_3_true_positives_2: 2274.0000 - val_output_3_false_negatives_2: 9550.0000 - val_output_3_false_positives_2: 398.0000\n",
      "Epoch 11/20\n"
     ]
    },
    {
     "name": "stdout",
     "output_type": "stream",
     "text": [
      "4607/4607 [==============================] - 574s 125ms/step - loss: 24.6564 - output_1_loss: 2.4908 - output_2_loss: 0.3765 - output_3_loss: 0.0310 - output_4_loss: 10.2583 - output_3_precision_2: 0.7083 - output_3_recall_2: 0.2555 - output_3_true_negatives_2: 186525696.0000 - output_3_true_positives_2: 69062.0000 - output_3_false_negatives_2: 201229.0000 - output_3_false_positives_2: 28442.0000 - val_loss: 17.1401 - val_output_1_loss: 1.0104 - val_output_2_loss: 0.2949 - val_output_3_loss: 0.0345 - val_output_4_loss: 10.5444 - val_output_3_precision_2: 0.8711 - val_output_3_recall_2: 0.1857 - val_output_3_true_negatives_2: 7592851.0000 - val_output_3_true_positives_2: 2196.0000 - val_output_3_false_negatives_2: 9628.0000 - val_output_3_false_positives_2: 325.0000\n",
      "Epoch 12/20\n",
      "4607/4607 [==============================] - 593s 129ms/step - loss: 24.8604 - output_1_loss: 2.5392 - output_2_loss: 0.3764 - output_3_loss: 0.0310 - output_4_loss: 10.2204 - output_3_precision_2: 0.7104 - output_3_recall_2: 0.2584 - output_3_true_negatives_2: 186526000.0000 - output_3_true_positives_2: 69830.0000 - output_3_false_negatives_2: 200442.0000 - output_3_false_positives_2: 28465.0000 - val_loss: 17.4357 - val_output_1_loss: 1.0513 - val_output_2_loss: 0.3061 - val_output_3_loss: 0.0346 - val_output_4_loss: 10.5796 - val_output_3_precision_2: 0.8703 - val_output_3_recall_2: 0.1850 - val_output_3_true_negatives_2: 7592850.0000 - val_output_3_true_positives_2: 2187.0000 - val_output_3_false_negatives_2: 9637.0000 - val_output_3_false_positives_2: 326.0000\n",
      "Epoch 13/20\n",
      "4607/4607 [==============================] - 582s 126ms/step - loss: 24.7881 - output_1_loss: 2.5323 - output_2_loss: 0.3759 - output_3_loss: 0.0309 - output_4_loss: 10.1857 - output_3_precision_2: 0.7130 - output_3_recall_2: 0.2610 - output_3_true_negatives_2: 186525744.0000 - output_3_true_positives_2: 70536.0000 - output_3_false_negatives_2: 199768.0000 - output_3_false_positives_2: 28398.0000 - val_loss: 16.9557 - val_output_1_loss: 1.0105 - val_output_2_loss: 0.2928 - val_output_3_loss: 0.0339 - val_output_4_loss: 10.3710 - val_output_3_precision_2: 0.8639 - val_output_3_recall_2: 0.2029 - val_output_3_true_negatives_2: 7592798.0000 - val_output_3_true_positives_2: 2399.0000 - val_output_3_false_negatives_2: 9425.0000 - val_output_3_false_positives_2: 378.0000\n",
      "Epoch 14/20\n",
      "4607/4607 [==============================] - 604s 131ms/step - loss: 24.4315 - output_1_loss: 2.4834 - output_2_loss: 0.3711 - output_3_loss: 0.0306 - output_4_loss: 10.0976 - output_3_precision_2: 0.7134 - output_3_recall_2: 0.2652 - output_3_true_negatives_2: 186525344.0000 - output_3_true_positives_2: 71689.0000 - output_3_false_negatives_2: 198582.0000 - output_3_false_positives_2: 28796.0000 - val_loss: 16.4583 - val_output_1_loss: 0.9570 - val_output_2_loss: 0.2889 - val_output_3_loss: 0.0332 - val_output_4_loss: 10.1627 - val_output_3_precision_2: 0.8609 - val_output_3_recall_2: 0.2042 - val_output_3_true_negatives_2: 7592786.0000 - val_output_3_true_positives_2: 2414.0000 - val_output_3_false_negatives_2: 9410.0000 - val_output_3_false_positives_2: 390.0000\n",
      "Epoch 15/20\n",
      "4607/4607 [==============================] - 635s 138ms/step - loss: 24.3072 - output_1_loss: 2.4684 - output_2_loss: 0.3675 - output_3_loss: 0.0305 - output_4_loss: 10.0663 - output_3_precision_2: 0.7151 - output_3_recall_2: 0.2698 - output_3_true_negatives_2: 186525440.0000 - output_3_true_positives_2: 72925.0000 - output_3_false_negatives_2: 197343.0000 - output_3_false_positives_2: 29052.0000 - val_loss: 16.3925 - val_output_1_loss: 0.9479 - val_output_2_loss: 0.2856 - val_output_3_loss: 0.0333 - val_output_4_loss: 10.1582 - val_output_3_precision_2: 0.8816 - val_output_3_recall_2: 0.2002 - val_output_3_true_negatives_2: 7592858.0000 - val_output_3_true_positives_2: 2367.0000 - val_output_3_false_negatives_2: 9457.0000 - val_output_3_false_positives_2: 318.0000\n",
      "Epoch 16/20\n",
      "4607/4607 [==============================] - 606s 132ms/step - loss: 24.2861 - output_1_loss: 2.4692 - output_2_loss: 0.3726 - output_3_loss: 0.0304 - output_4_loss: 10.0165 - output_3_precision_2: 0.7177 - output_3_recall_2: 0.2713 - output_3_true_negatives_2: 186525408.0000 - output_3_true_positives_2: 73310.0000 - output_3_false_negatives_2: 196893.0000 - output_3_false_positives_2: 28831.0000 - val_loss: 16.3811 - val_output_1_loss: 0.9692 - val_output_2_loss: 0.2845 - val_output_3_loss: 0.0331 - val_output_4_loss: 10.0462 - val_output_3_precision_2: 0.8706 - val_output_3_recall_2: 0.2157 - val_output_3_true_negatives_2: 7592797.0000 - val_output_3_true_positives_2: 2551.0000 - val_output_3_false_negatives_2: 9273.0000 - val_output_3_false_positives_2: 379.0000\n",
      "Epoch 17/20\n",
      "4607/4607 [==============================] - 594s 129ms/step - loss: 81.3787 - output_1_loss: 2.6147 - output_2_loss: 11.5582 - output_3_loss: 0.0315 - output_4_loss: 10.4513 - output_3_precision_2: 0.7052 - output_3_recall_2: 0.2558 - output_3_true_negatives_2: 186525408.0000 - output_3_true_positives_2: 69113.0000 - output_3_false_negatives_2: 201115.0000 - output_3_false_positives_2: 28897.0000 - val_loss: 20.7306 - val_output_1_loss: 1.6008 - val_output_2_loss: 0.3968 - val_output_3_loss: 0.0332 - val_output_4_loss: 10.6763 - val_output_3_precision_2: 0.7896 - val_output_3_recall_2: 0.2097 - val_output_3_true_negatives_2: 7592515.0000 - val_output_3_true_positives_2: 2480.0000 - val_output_3_false_negatives_2: 9344.0000 - val_output_3_false_positives_2: 661.0000\n",
      "Epoch 18/20\n",
      "4607/4607 [==============================] - 611s 133ms/step - loss: 26.7018 - output_1_loss: 2.7312 - output_2_loss: 0.4313 - output_3_loss: 0.0324 - output_4_loss: 10.8241 - output_3_precision_2: 0.6955 - output_3_recall_2: 0.2332 - output_3_true_negatives_2: 186526608.0000 - output_3_true_positives_2: 63029.0000 - output_3_false_negatives_2: 207238.0000 - output_3_false_positives_2: 27599.0000 - val_loss: 17.5633 - val_output_1_loss: 1.1835 - val_output_2_loss: 0.3256 - val_output_3_loss: 0.0314 - val_output_4_loss: 9.9547 - val_output_3_precision_2: 0.8317 - val_output_3_recall_2: 0.2173 - val_output_3_true_negatives_2: 7592656.0000 - val_output_3_true_positives_2: 2569.0000 - val_output_3_false_negatives_2: 9255.0000 - val_output_3_false_positives_2: 520.0000\n",
      "Epoch 19/20\n",
      "4607/4607 [==============================] - 522s 113ms/step - loss: 25.0423 - output_1_loss: 2.5545 - output_2_loss: 0.3898 - output_3_loss: 0.0309 - output_4_loss: 10.2594 - output_3_precision_2: 0.7153 - output_3_recall_2: 0.2575 - output_3_true_negatives_2: 186526704.0000 - output_3_true_positives_2: 69576.0000 - output_3_false_negatives_2: 200617.0000 - output_3_false_positives_2: 27696.0000 - val_loss: 15.7938 - val_output_1_loss: 0.9203 - val_output_2_loss: 0.2925 - val_output_3_loss: 0.0311 - val_output_4_loss: 9.6674 - val_output_3_precision_2: 0.8649 - val_output_3_recall_2: 0.2154 - val_output_3_true_negatives_2: 7592778.0000 - val_output_3_true_positives_2: 2547.0000 - val_output_3_false_negatives_2: 9277.0000 - val_output_3_false_positives_2: 398.0000\n",
      "Epoch 20/20\n",
      "4607/4607 [==============================] - 451s 98ms/step - loss: 23.8987 - output_1_loss: 2.4245 - output_2_loss: 0.3630 - output_3_loss: 0.0300 - output_4_loss: 9.9011 - output_3_precision_2: 0.7241 - output_3_recall_2: 0.2804 - output_3_true_negatives_2: 186525184.0000 - output_3_true_positives_2: 75766.0000 - output_3_false_negatives_2: 194433.0000 - output_3_false_positives_2: 28867.0000 - val_loss: 15.5969 - val_output_1_loss: 0.8771 - val_output_2_loss: 0.2821 - val_output_3_loss: 0.0319 - val_output_4_loss: 9.7367 - val_output_3_precision_2: 0.8611 - val_output_3_recall_2: 0.2280 - val_output_3_true_negatives_2: 7592741.0000 - val_output_3_true_positives_2: 2696.0000 - val_output_3_false_negatives_2: 9128.0000 - val_output_3_false_positives_2: 435.0000\n"
     ]
    }
   ],
   "source": [
    "history = model.fit(train_dataset, epochs=20,validation_data=val_dataset)"
   ]
  },
  {
   "cell_type": "code",
   "execution_count": null,
   "metadata": {},
   "outputs": [],
   "source": []
  },
  {
   "cell_type": "code",
   "execution_count": 20,
   "metadata": {},
   "outputs": [],
   "source": [
    "os.chdir(root_path+\"/json_final_experiment\")\n",
    "import json\n",
    "#json.dumps(str(a))\n",
    "with open('history_finetuning_5521_40_60_epoch_nadam_0dot00001_mse_exp_mse_3anchors_final_experiment_con_data_aug.json', 'w') as fp:\n",
    "    json.dump(str(history.history), fp)"
   ]
  },
  {
   "cell_type": "code",
   "execution_count": 21,
   "metadata": {},
   "outputs": [],
   "source": [
    "model.save_weights(root_path+'/last_weights/pesos_finetuning_5521_40_60_epoch_nadam_0dot00001_mse_exp_mse_3anchors_final_experiment_con_data_aug')"
   ]
  },
  {
   "cell_type": "code",
   "execution_count": null,
   "metadata": {},
   "outputs": [],
   "source": []
  },
  {
   "cell_type": "code",
   "execution_count": null,
   "metadata": {},
   "outputs": [],
   "source": []
  },
  {
   "cell_type": "code",
   "execution_count": 13,
   "metadata": {},
   "outputs": [],
   "source": [
    "os.chdir(\"/home/sergio/Documents/pedestrian_dataset_train_tfr\")"
   ]
  },
  {
   "cell_type": "markdown",
   "metadata": {},
   "source": [
    "## CONTINUACION"
   ]
  },
  {
   "cell_type": "code",
   "execution_count": 14,
   "metadata": {},
   "outputs": [
    {
     "name": "stdout",
     "output_type": "stream",
     "text": [
      "Epoch 1/20\n",
      "4607/4607 [==============================] - 582s 126ms/step - loss: 8.8212 - output_1_loss: 7.3160e-06 - output_2_loss: 0.3153 - output_3_loss: 0.0226 - output_4_loss: 7.1994 - output_3_precision: 0.8232 - output_3_recall: 0.5077 - output_3_true_negatives: 186524448.0000 - output_3_true_positives: 137218.0000 - output_3_false_negatives: 133044.0000 - output_3_false_positives: 29466.0000 - val_loss: 5.3150 - val_output_1_loss: 0.0000e+00 - val_output_2_loss: 0.2074 - val_output_3_loss: 0.0144 - val_output_4_loss: 4.2491 - val_output_3_precision: 0.8998 - val_output_3_recall: 0.7053 - val_output_3_true_negatives: 7592247.0000 - val_output_3_true_positives: 8340.0000 - val_output_3_false_negatives: 3484.0000 - val_output_3_false_positives: 929.0000\n",
      "Epoch 2/20\n",
      "4607/4607 [==============================] - 576s 125ms/step - loss: 8.7506 - output_1_loss: 1.0512e-05 - output_2_loss: 0.3162 - output_3_loss: 0.0223 - output_4_loss: 7.1247 - output_3_precision: 0.8242 - output_3_recall: 0.5132 - output_3_true_negatives: 186524368.0000 - output_3_true_positives: 138692.0000 - output_3_false_negatives: 131541.0000 - output_3_false_positives: 29586.0000 - val_loss: 5.1426 - val_output_1_loss: 0.0000e+00 - val_output_2_loss: 0.2032 - val_output_3_loss: 0.0140 - val_output_4_loss: 4.0986 - val_output_3_precision: 0.8871 - val_output_3_recall: 0.7270 - val_output_3_true_negatives: 7592082.0000 - val_output_3_true_positives: 8596.0000 - val_output_3_false_negatives: 3228.0000 - val_output_3_false_positives: 1094.0000\n",
      "Epoch 3/20\n",
      "4607/4607 [==============================] - 574s 125ms/step - loss: 8.6723 - output_1_loss: 3.3029e-07 - output_2_loss: 0.3109 - output_3_loss: 0.0222 - output_4_loss: 7.0735 - output_3_precision: 0.8254 - output_3_recall: 0.5165 - output_3_true_negatives: 186524352.0000 - output_3_true_positives: 139529.0000 - output_3_false_negatives: 130616.0000 - output_3_false_positives: 29507.0000 - val_loss: 5.0969 - val_output_1_loss: 0.0000e+00 - val_output_2_loss: 0.2098 - val_output_3_loss: 0.0138 - val_output_4_loss: 4.0201 - val_output_3_precision: 0.8974 - val_output_3_recall: 0.7230 - val_output_3_true_negatives: 7592199.0000 - val_output_3_true_positives: 8549.0000 - val_output_3_false_negatives: 3275.0000 - val_output_3_false_positives: 977.0000\n",
      "Epoch 4/20\n",
      "4607/4607 [==============================] - 559s 121ms/step - loss: 8.5993 - output_1_loss: 2.6926e-07 - output_2_loss: 0.3047 - output_3_loss: 0.0220 - output_4_loss: 7.0319 - output_3_precision: 0.8270 - output_3_recall: 0.5198 - output_3_true_negatives: 186524608.0000 - output_3_true_positives: 140486.0000 - output_3_false_negatives: 129766.0000 - output_3_false_positives: 29383.0000 - val_loss: 4.9817 - val_output_1_loss: 0.0000e+00 - val_output_2_loss: 0.2025 - val_output_3_loss: 0.0135 - val_output_4_loss: 3.9422 - val_output_3_precision: 0.8893 - val_output_3_recall: 0.7430 - val_output_3_true_negatives: 7592082.0000 - val_output_3_true_positives: 8785.0000 - val_output_3_false_negatives: 3039.0000 - val_output_3_false_positives: 1094.0000\n",
      "Epoch 5/20\n",
      "4607/4607 [==============================] - 579s 126ms/step - loss: 8.6169 - output_1_loss: 1.3953e-05 - output_2_loss: 0.3122 - output_3_loss: 0.0220 - output_4_loss: 7.0116 - output_3_precision: 0.8285 - output_3_recall: 0.5238 - output_3_true_negatives: 186525184.0000 - output_3_true_positives: 141523.0000 - output_3_false_negatives: 128659.0000 - output_3_false_positives: 29299.0000 - val_loss: 5.1029 - val_output_1_loss: 0.0000e+00 - val_output_2_loss: 0.2056 - val_output_3_loss: 0.0139 - val_output_4_loss: 4.0473 - val_output_3_precision: 0.8909 - val_output_3_recall: 0.7312 - val_output_3_true_negatives: 7592117.0000 - val_output_3_true_positives: 8646.0000 - val_output_3_false_negatives: 3178.0000 - val_output_3_false_positives: 1059.0000\n",
      "Epoch 6/20\n",
      "4607/4607 [==============================] - 581s 126ms/step - loss: 8.4804 - output_1_loss: 2.1438e-06 - output_2_loss: 0.2999 - output_3_loss: 0.0217 - output_4_loss: 6.9377 - output_3_precision: 0.8319 - output_3_recall: 0.5280 - output_3_true_negatives: 186525744.0000 - output_3_true_positives: 142634.0000 - output_3_false_negatives: 127488.0000 - output_3_false_positives: 28814.0000 - val_loss: 4.7968 - val_output_1_loss: 0.0000e+00 - val_output_2_loss: 0.2029 - val_output_3_loss: 0.0129 - val_output_4_loss: 3.7564 - val_output_3_precision: 0.9017 - val_output_3_recall: 0.7450 - val_output_3_true_negatives: 7592216.0000 - val_output_3_true_positives: 8809.0000 - val_output_3_false_negatives: 3015.0000 - val_output_3_false_positives: 960.0000\n",
      "Epoch 7/20\n",
      "4607/4607 [==============================] - 581s 126ms/step - loss: 8.4642 - output_1_loss: 1.4308e-05 - output_2_loss: 0.3019 - output_3_loss: 0.0216 - output_4_loss: 6.9112 - output_3_precision: 0.8322 - output_3_recall: 0.5317 - output_3_true_negatives: 186525376.0000 - output_3_true_positives: 143618.0000 - output_3_false_negatives: 126518.0000 - output_3_false_positives: 28949.0000 - val_loss: 4.8699 - val_output_1_loss: 0.0000e+00 - val_output_2_loss: 0.2014 - val_output_3_loss: 0.0132 - val_output_4_loss: 3.8367 - val_output_3_precision: 0.8833 - val_output_3_recall: 0.7512 - val_output_3_true_negatives: 7592002.0000 - val_output_3_true_positives: 8882.0000 - val_output_3_false_negatives: 2942.0000 - val_output_3_false_positives: 1174.0000\n",
      "Epoch 8/20\n",
      "4607/4607 [==============================] - 580s 126ms/step - loss: 8.3991 - output_1_loss: 7.7589e-07 - output_2_loss: 0.2980 - output_3_loss: 0.0215 - output_4_loss: 6.8661 - output_3_precision: 0.8323 - output_3_recall: 0.5340 - output_3_true_negatives: 186524976.0000 - output_3_true_positives: 144304.0000 - output_3_false_negatives: 125905.0000 - output_3_false_positives: 29085.0000 - val_loss: 4.8458 - val_output_1_loss: 0.0000e+00 - val_output_2_loss: 0.2081 - val_output_3_loss: 0.0128 - val_output_4_loss: 3.7795 - val_output_3_precision: 0.8886 - val_output_3_recall: 0.7674 - val_output_3_true_negatives: 7592038.0000 - val_output_3_true_positives: 9074.0000 - val_output_3_false_negatives: 2750.0000 - val_output_3_false_positives: 1138.0000\n",
      "Epoch 9/20\n",
      "4607/4607 [==============================] - 578s 125ms/step - loss: 8.3533 - output_1_loss: 3.5748e-07 - output_2_loss: 0.2987 - output_3_loss: 0.0214 - output_4_loss: 6.8168 - output_3_precision: 0.8358 - output_3_recall: 0.5398 - output_3_true_negatives: 186525216.0000 - output_3_true_positives: 145920.0000 - output_3_false_negatives: 124398.0000 - output_3_false_positives: 28665.0000 - val_loss: 4.6268 - val_output_1_loss: 0.0000e+00 - val_output_2_loss: 0.1927 - val_output_3_loss: 0.0124 - val_output_4_loss: 3.6385 - val_output_3_precision: 0.9025 - val_output_3_recall: 0.7683 - val_output_3_true_negatives: 7592195.0000 - val_output_3_true_positives: 9084.0000 - val_output_3_false_negatives: 2740.0000 - val_output_3_false_positives: 981.0000\n",
      "Epoch 10/20\n",
      "4607/4607 [==============================] - 559s 121ms/step - loss: 8.3873 - output_1_loss: 2.4545e-07 - output_2_loss: 0.3062 - output_3_loss: 0.0213 - output_4_loss: 6.8139 - output_3_precision: 0.8350 - output_3_recall: 0.5393 - output_3_true_negatives: 186525088.0000 - output_3_true_positives: 145788.0000 - output_3_false_negatives: 124518.0000 - output_3_false_positives: 28815.0000 - val_loss: 4.7114 - val_output_1_loss: 0.0000e+00 - val_output_2_loss: 0.1946 - val_output_3_loss: 0.0126 - val_output_4_loss: 3.7131 - val_output_3_precision: 0.8853 - val_output_3_recall: 0.7740 - val_output_3_true_negatives: 7591990.0000 - val_output_3_true_positives: 9152.0000 - val_output_3_false_negatives: 2672.0000 - val_output_3_false_positives: 1186.0000\n",
      "Epoch 11/20\n",
      "4607/4607 [==============================] - 586s 127ms/step - loss: 8.3661 - output_1_loss: 7.5379e-06 - output_2_loss: 0.3098 - output_3_loss: 0.0213 - output_4_loss: 6.7747 - output_3_precision: 0.8370 - output_3_recall: 0.5442 - output_3_true_negatives: 186525888.0000 - output_3_true_positives: 147049.0000 - output_3_false_negatives: 123142.0000 - output_3_false_positives: 28643.0000 - val_loss: 4.5935 - val_output_1_loss: 0.0000e+00 - val_output_2_loss: 0.1920 - val_output_3_loss: 0.0123 - val_output_4_loss: 3.6089 - val_output_3_precision: 0.8925 - val_output_3_recall: 0.7886 - val_output_3_true_negatives: 7592053.0000 - val_output_3_true_positives: 9324.0000 - val_output_3_false_negatives: 2500.0000 - val_output_3_false_positives: 1123.0000\n",
      "Epoch 12/20\n",
      "4607/4607 [==============================] - 588s 128ms/step - loss: 8.2102 - output_1_loss: 2.3169e-07 - output_2_loss: 0.2903 - output_3_loss: 0.0210 - output_4_loss: 6.7168 - output_3_precision: 0.8381 - output_3_recall: 0.5489 - output_3_true_negatives: 186525264.0000 - output_3_true_positives: 148357.0000 - output_3_false_negatives: 121937.0000 - output_3_false_positives: 28652.0000 - val_loss: 4.4494 - val_output_1_loss: 0.0000e+00 - val_output_2_loss: 0.1939 - val_output_3_loss: 0.0117 - val_output_4_loss: 3.4562 - val_output_3_precision: 0.9065 - val_output_3_recall: 0.7728 - val_output_3_true_negatives: 7592233.0000 - val_output_3_true_positives: 9138.0000 - val_output_3_false_negatives: 2686.0000 - val_output_3_false_positives: 943.0000\n",
      "Epoch 13/20\n",
      "4607/4607 [==============================] - 574s 125ms/step - loss: 8.2296 - output_1_loss: 4.7083e-06 - output_2_loss: 0.3005 - output_3_loss: 0.0208 - output_4_loss: 6.6856 - output_3_precision: 0.8396 - output_3_recall: 0.5500 - output_3_true_negatives: 186525888.0000 - output_3_true_positives: 148616.0000 - output_3_false_negatives: 121581.0000 - output_3_false_positives: 28386.0000 - val_loss: 4.3257 - val_output_1_loss: 0.0000e+00 - val_output_2_loss: 0.1891 - val_output_3_loss: 0.0115 - val_output_4_loss: 3.3572 - val_output_3_precision: 0.9064 - val_output_3_recall: 0.7895 - val_output_3_true_negatives: 7592212.0000 - val_output_3_true_positives: 9335.0000 - val_output_3_false_negatives: 2489.0000 - val_output_3_false_positives: 964.0000\n",
      "Epoch 14/20\n",
      "4607/4607 [==============================] - 562s 122ms/step - loss: 8.1283 - output_1_loss: 5.2536e-07 - output_2_loss: 0.2922 - output_3_loss: 0.0207 - output_4_loss: 6.6259 - output_3_precision: 0.8404 - output_3_recall: 0.5550 - output_3_true_negatives: 186525824.0000 - output_3_true_positives: 149988.0000 - output_3_false_negatives: 120284.0000 - output_3_false_positives: 28478.0000 - val_loss: 4.2328 - val_output_1_loss: 0.0000e+00 - val_output_2_loss: 0.1927 - val_output_3_loss: 0.0112 - val_output_4_loss: 3.2468 - val_output_3_precision: 0.9041 - val_output_3_recall: 0.7967 - val_output_3_true_negatives: 7592177.0000 - val_output_3_true_positives: 9420.0000 - val_output_3_false_negatives: 2404.0000 - val_output_3_false_positives: 999.0000\n",
      "Epoch 15/20\n",
      "4607/4607 [==============================] - 579s 126ms/step - loss: 8.1800 - output_1_loss: 1.7150e-06 - output_2_loss: 0.2964 - output_3_loss: 0.0208 - output_4_loss: 6.6565 - output_3_precision: 0.8419 - output_3_recall: 0.5538 - output_3_true_negatives: 186526080.0000 - output_3_true_positives: 149762.0000 - output_3_false_negatives: 120652.0000 - output_3_false_positives: 28128.0000 - val_loss: 4.3726 - val_output_1_loss: 0.0000e+00 - val_output_2_loss: 0.1899 - val_output_3_loss: 0.0115 - val_output_4_loss: 3.4003 - val_output_3_precision: 0.9008 - val_output_3_recall: 0.7901 - val_output_3_true_negatives: 7592147.0000 - val_output_3_true_positives: 9342.0000 - val_output_3_false_negatives: 2482.0000 - val_output_3_false_positives: 1029.0000\n",
      "Epoch 16/20\n",
      "4607/4607 [==============================] - 565s 123ms/step - loss: 8.1386 - output_1_loss: 3.6460e-07 - output_2_loss: 0.2977 - output_3_loss: 0.0206 - output_4_loss: 6.6089 - output_3_precision: 0.8421 - output_3_recall: 0.5571 - output_3_true_negatives: 186526032.0000 - output_3_true_positives: 150542.0000 - output_3_false_negatives: 119697.0000 - output_3_false_positives: 28232.0000 - val_loss: 4.3593 - val_output_1_loss: 0.0000e+00 - val_output_2_loss: 0.1900 - val_output_3_loss: 0.0114 - val_output_4_loss: 3.3865 - val_output_3_precision: 0.8894 - val_output_3_recall: 0.8046 - val_output_3_true_negatives: 7591993.0000 - val_output_3_true_positives: 9514.0000 - val_output_3_false_negatives: 2310.0000 - val_output_3_false_positives: 1183.0000\n",
      "Epoch 17/20\n",
      "4607/4607 [==============================] - 576s 125ms/step - loss: 8.1154 - output_1_loss: 3.9200e-06 - output_2_loss: 0.2996 - output_3_loss: 0.0205 - output_4_loss: 6.5762 - output_3_precision: 0.8445 - output_3_recall: 0.5598 - output_3_true_negatives: 186526336.0000 - output_3_true_positives: 151312.0000 - output_3_false_negatives: 119002.0000 - output_3_false_positives: 27860.0000 - val_loss: 4.3130 - val_output_1_loss: 0.0000e+00 - val_output_2_loss: 0.1873 - val_output_3_loss: 0.0113 - val_output_4_loss: 3.3540 - val_output_3_precision: 0.8973 - val_output_3_recall: 0.8093 - val_output_3_true_negatives: 7592081.0000 - val_output_3_true_positives: 9569.0000 - val_output_3_false_negatives: 2255.0000 - val_output_3_false_positives: 1095.0000\n",
      "Epoch 18/20\n",
      "4607/4607 [==============================] - 575s 125ms/step - loss: 7.9569 - output_1_loss: 1.6687e-06 - output_2_loss: 0.2878 - output_3_loss: 0.0202 - output_4_loss: 6.4773 - output_3_precision: 0.8472 - output_3_recall: 0.5668 - output_3_true_negatives: 186526512.0000 - output_3_true_positives: 153182.0000 - output_3_false_negatives: 117075.0000 - output_3_false_positives: 27638.0000 - val_loss: 4.1355 - val_output_1_loss: 4.0181e-07 - val_output_2_loss: 0.1837 - val_output_3_loss: 0.0108 - val_output_4_loss: 3.1952 - val_output_3_precision: 0.9061 - val_output_3_recall: 0.8113 - val_output_3_true_negatives: 7592182.0000 - val_output_3_true_positives: 9593.0000 - val_output_3_false_negatives: 2231.0000 - val_output_3_false_positives: 994.0000\n",
      "Epoch 19/20\n",
      "4607/4607 [==============================] - 598s 130ms/step - loss: 7.9382 - output_1_loss: 4.1452e-06 - output_2_loss: 0.2786 - output_3_loss: 0.0203 - output_4_loss: 6.5045 - output_3_precision: 0.8461 - output_3_recall: 0.5669 - output_3_true_negatives: 186525872.0000 - output_3_true_positives: 153190.0000 - output_3_false_negatives: 117037.0000 - output_3_false_positives: 27857.0000 - val_loss: 4.2012 - val_output_1_loss: 0.0000e+00 - val_output_2_loss: 0.1858 - val_output_3_loss: 0.0110 - val_output_4_loss: 3.2500 - val_output_3_precision: 0.9148 - val_output_3_recall: 0.7953 - val_output_3_true_negatives: 7592300.0000 - val_output_3_true_positives: 9404.0000 - val_output_3_false_negatives: 2420.0000 - val_output_3_false_positives: 876.0000\n",
      "Epoch 20/20\n",
      "4607/4607 [==============================] - 606s 132ms/step - loss: 7.9299 - output_1_loss: 5.8917e-07 - output_2_loss: 0.2837 - output_3_loss: 0.0202 - output_4_loss: 6.4708 - output_3_precision: 0.8483 - output_3_recall: 0.5683 - output_3_true_negatives: 186526528.0000 - output_3_true_positives: 153560.0000 - output_3_false_negatives: 116626.0000 - output_3_false_positives: 27452.0000 - val_loss: 3.8616 - val_output_1_loss: 3.6984e-06 - val_output_2_loss: 0.1786 - val_output_3_loss: 0.0100 - val_output_4_loss: 2.9488 - val_output_3_precision: 0.9168 - val_output_3_recall: 0.8212 - val_output_3_true_negatives: 7592295.0000 - val_output_3_true_positives: 9710.0000 - val_output_3_false_negatives: 2114.0000 - val_output_3_false_positives: 881.0000\n"
     ]
    }
   ],
   "source": [
    "history = model.fit(train_dataset, epochs=20,validation_data=val_dataset)"
   ]
  },
  {
   "cell_type": "code",
   "execution_count": null,
   "metadata": {},
   "outputs": [],
   "source": []
  },
  {
   "cell_type": "code",
   "execution_count": 10,
   "metadata": {},
   "outputs": [],
   "source": [
    "os.chdir(\"/home/sergio/Documents/json_experiments\")\n",
    "import json\n",
    "#json.dumps(str(a))\n",
    "with open('history_finetuning_5521_50_70_epoch_nadam_0dot00001_msle_exp_mse_3anchors.json', 'w') as fp:\n",
    "    json.dump(str(history.history), fp)"
   ]
  },
  {
   "cell_type": "code",
   "execution_count": 11,
   "metadata": {},
   "outputs": [],
   "source": [
    "model.save_weights('/home/sergio/Documents/weights_saved/pesos_finetuning_5521_50_70_epoch_nadam_0dot00001_msle_exp_mse_3anchors')"
   ]
  },
  {
   "cell_type": "code",
   "execution_count": null,
   "metadata": {},
   "outputs": [],
   "source": []
  },
  {
   "cell_type": "markdown",
   "metadata": {},
   "source": [
    "## CONTINUACION DESPUES DE LA EPOCA 50 PERO CON MENOR LR"
   ]
  },
  {
   "cell_type": "code",
   "execution_count": null,
   "metadata": {},
   "outputs": [],
   "source": []
  },
  {
   "cell_type": "code",
   "execution_count": 6,
   "metadata": {},
   "outputs": [
    {
     "name": "stdout",
     "output_type": "stream",
     "text": [
      "Modo entrenamiento\n"
     ]
    },
    {
     "data": {
      "text/plain": [
       "<tensorflow.python.training.tracking.util.CheckpointLoadStatus at 0x7f9ba4abd710>"
      ]
     },
     "execution_count": 6,
     "metadata": {},
     "output_type": "execute_result"
    }
   ],
   "source": [
    "anchors =tf.constant(np.array([[0,0,0.02078,0.049],[0,0,0.0426,0.128],[0,0,0.08523,0.19356],[0,0,0.1506,0.4163],[0,0,0.27835,0.58651],[0,0,0.5632,0.78614]]),dtype=tf.float32)\n",
    "model = TinyYOLOv3(1,anchor_boxes=anchors,train=True,mode = \"finetuning\")\n",
    "model.build(batch_input_shape=(None,416,416,3))\n",
    "#print(model.load_weights_darknet(\"/home/sergio/TinyYOLOv3-Pedestrian-Detection/yolov3-tiny.weights\"))\n",
    "model.load_weights('/home/sergio/Documents/weights_saved/pesos_finetuning_5521_30_50_epoch_nadam_0dot00001_msle_exp_mse_3anchors')"
   ]
  },
  {
   "cell_type": "code",
   "execution_count": 7,
   "metadata": {},
   "outputs": [
    {
     "name": "stdout",
     "output_type": "stream",
     "text": [
      "BasicBlock1 True\n",
      "BasicBlock2 True\n",
      "BasicBlock3 True\n",
      "BasicBlock4 True\n",
      "BasicBlock5 True\n",
      "BasicBlock6 True\n",
      "BasicBlock7 True\n",
      "BasicBlock8 True\n",
      "BasicBlock9 True\n",
      "FinalBlock1 True\n",
      "BasicBlock11 True\n",
      "BasicBlock12 True\n",
      "FinalBlock2 True\n",
      "Concatenate True\n",
      "Upsampling True\n",
      "Prediction1 True\n",
      "Prediction2 True\n",
      "Concatenate_BBOX True\n"
     ]
    }
   ],
   "source": [
    "for l in model.layers:\n",
    "    print(l.name, l.trainable)\n",
    "    pass"
   ]
  },
  {
   "cell_type": "code",
   "execution_count": 8,
   "metadata": {},
   "outputs": [],
   "source": [
    "tf.random.set_seed(0)\n",
    "\n",
    "from tensorflow.keras.metrics import TrueNegatives,TruePositives,FalseNegatives,FalsePositives,Precision,Recall\n",
    "\n",
    "opt = tf.keras.optimizers.Nadam(learning_rate=1e-5)\n",
    "\n",
    "losses = {\"output_1\": loss_xy,\n",
    "          \"output_2\": loss_wh,\n",
    "          \"output_3\":loss_objectness,\n",
    "          \"output_4\":loss_no_objectness  \n",
    "}\n",
    "\n",
    "metrics = {\"output_3\":[Precision(0.5),Recall(0.5),TrueNegatives(0.5),TruePositives(0.5),FalseNegatives(0.5),FalsePositives(0.5)]}\n",
    "model.compile(optimizer=opt, loss=losses,metrics=metrics,loss_weights=[5,5,2,1])\n",
    "os.chdir(\"/home/sergio/Documents/pedestrian_dataset_train_tfr\")"
   ]
  },
  {
   "cell_type": "code",
   "execution_count": 9,
   "metadata": {},
   "outputs": [
    {
     "name": "stdout",
     "output_type": "stream",
     "text": [
      "Modo entrenamiento\n",
      "Epoch 1/20\n",
      "Modo entrenamiento\n",
      "Modo entrenamiento\n",
      "   4607/Unknown - 582s 126ms/step - loss: 8.7700 - output_1_loss: 1.7040e-08 - output_2_loss: 0.3105 - output_3_loss: 0.0225 - output_4_loss: 7.1724 - output_3_precision: 0.8223 - output_3_recall: 0.5098 - output_3_true_negatives: 186524256.0000 - output_3_true_positives: 137724.0000 - output_3_false_negatives: 132440.0000 - output_3_false_positives: 29772.0000- 574s 126ms/step - loss: 8.7613 - output_1_loss: 1.7250e-08 - output_2_loss: 0.3101 - output_3_loss: 0.0224 - output_4_loss: 7.1660 - output_3_precision: 0.8221 - output_3_recall: 0.5098 - output_3_true_negatives: 184292224.0000 - output_3_true_positives: 135931.0000 - output_3_false_negatModo entrenamiento\n",
      "4607/4607 [==============================] - 590s 128ms/step - loss: 8.7700 - output_1_loss: 1.7040e-08 - output_2_loss: 0.3105 - output_3_loss: 0.0225 - output_4_loss: 7.1724 - output_3_precision: 0.8223 - output_3_recall: 0.5098 - output_3_true_negatives: 186524256.0000 - output_3_true_positives: 137724.0000 - output_3_false_negatives: 132440.0000 - output_3_false_positives: 29772.0000 - val_loss: 5.3353 - val_output_1_loss: 0.0000e+00 - val_output_2_loss: 0.2054 - val_output_3_loss: 0.0145 - val_output_4_loss: 4.2793 - val_output_3_precision: 0.8851 - val_output_3_recall: 0.7163 - val_output_3_true_negatives: 7592077.0000 - val_output_3_true_positives: 8470.0000 - val_output_3_false_negatives: 3354.0000 - val_output_3_false_positives: 1099.0000\n",
      "Epoch 2/20\n",
      "4607/4607 [==============================] - 586s 127ms/step - loss: 8.7017 - output_1_loss: 1.0859e-06 - output_2_loss: 0.3136 - output_3_loss: 0.0222 - output_4_loss: 7.0894 - output_3_precision: 0.8277 - output_3_recall: 0.5163 - output_3_true_negatives: 186525200.0000 - output_3_true_positives: 139546.0000 - output_3_false_negatives: 130752.0000 - output_3_false_positives: 29040.0000 - val_loss: 5.0662 - val_output_1_loss: 0.0000e+00 - val_output_2_loss: 0.2078 - val_output_3_loss: 0.0138 - val_output_4_loss: 3.9997 - val_output_3_precision: 0.8850 - val_output_3_recall: 0.7287 - val_output_3_true_negatives: 7592056.0000 - val_output_3_true_positives: 8616.0000 - val_output_3_false_negatives: 3208.0000 - val_output_3_false_positives: 1120.0000\n",
      "Epoch 3/20\n",
      "4607/4607 [==============================] - 584s 127ms/step - loss: 8.6101 - output_1_loss: 1.9664e-06 - output_2_loss: 0.3019 - output_3_loss: 0.0220 - output_4_loss: 7.0565 - output_3_precision: 0.8276 - output_3_recall: 0.5194 - output_3_true_negatives: 186525152.0000 - output_3_true_positives: 140319.0000 - output_3_false_negatives: 129856.0000 - output_3_false_positives: 29236.0000 - val_loss: 5.0105 - val_output_1_loss: 0.0000e+00 - val_output_2_loss: 0.2030 - val_output_3_loss: 0.0135 - val_output_4_loss: 3.9686 - val_output_3_precision: 0.8813 - val_output_3_recall: 0.7465 - val_output_3_true_negatives: 7591987.0000 - val_output_3_true_positives: 8827.0000 - val_output_3_false_negatives: 2997.0000 - val_output_3_false_positives: 1189.0000\n",
      "Epoch 4/20\n",
      "4607/4607 [==============================] - 585s 127ms/step - loss: 8.8712 - output_1_loss: 1.4038e-05 - output_2_loss: 0.3439 - output_3_loss: 0.0223 - output_4_loss: 7.1071 - output_3_precision: 0.8262 - output_3_recall: 0.5159 - output_3_true_negatives: 186524576.0000 - output_3_true_positives: 139435.0000 - output_3_false_negatives: 130856.0000 - output_3_false_positives: 29324.0000 - val_loss: 6.3172 - val_output_1_loss: 0.0000e+00 - val_output_2_loss: 0.2355 - val_output_3_loss: 0.0168 - val_output_4_loss: 5.1061 - val_output_3_precision: 0.8779 - val_output_3_recall: 0.6322 - val_output_3_true_negatives: 7592136.0000 - val_output_3_true_positives: 7475.0000 - val_output_3_false_negatives: 4349.0000 - val_output_3_false_positives: 1040.0000\n",
      "Epoch 5/20\n",
      "4607/4607 [==============================] - 601s 130ms/step - loss: 8.5810 - output_1_loss: 1.5764e-05 - output_2_loss: 0.3031 - output_3_loss: 0.0219 - output_4_loss: 7.0216 - output_3_precision: 0.8288 - output_3_recall: 0.5221 - output_3_true_negatives: 186525360.0000 - output_3_true_positives: 141045.0000 - output_3_false_negatives: 129099.0000 - output_3_false_positives: 29143.0000 - val_loss: 4.9268 - val_output_1_loss: 0.0000e+00 - val_output_2_loss: 0.2012 - val_output_3_loss: 0.0134 - val_output_4_loss: 3.8939 - val_output_3_precision: 0.8909 - val_output_3_recall: 0.7459 - val_output_3_true_negatives: 7592096.0000 - val_output_3_true_positives: 8819.0000 - val_output_3_false_negatives: 3005.0000 - val_output_3_false_positives: 1080.0000\n",
      "Epoch 6/20\n",
      "4607/4607 [==============================] - 604s 131ms/step - loss: 8.4379 - output_1_loss: 2.1332e-06 - output_2_loss: 0.2947 - output_3_loss: 0.0217 - output_4_loss: 6.9211 - output_3_precision: 0.8318 - output_3_recall: 0.5303 - output_3_true_negatives: 186525056.0000 - output_3_true_positives: 143309.0000 - output_3_false_negatives: 126930.0000 - output_3_false_positives: 28979.0000 - val_loss: 5.0813 - val_output_1_loss: 0.0000e+00 - val_output_2_loss: 0.2076 - val_output_3_loss: 0.0138 - val_output_4_loss: 4.0155 - val_output_3_precision: 0.8843 - val_output_3_recall: 0.7490 - val_output_3_true_negatives: 7592017.0000 - val_output_3_true_positives: 8856.0000 - val_output_3_false_negatives: 2968.0000 - val_output_3_false_positives: 1159.0000\n",
      "Epoch 7/20\n",
      "4607/4607 [==============================] - 607s 132ms/step - loss: 8.3770 - output_1_loss: 2.1123e-06 - output_2_loss: 0.2971 - output_3_loss: 0.0213 - output_4_loss: 6.8487 - output_3_precision: 0.8326 - output_3_recall: 0.5355 - output_3_true_negatives: 186525504.0000 - output_3_true_positives: 144709.0000 - output_3_false_negatives: 125523.0000 - output_3_false_positives: 29103.0000 - val_loss: 4.7331 - val_output_1_loss: 0.0000e+00 - val_output_2_loss: 0.1983 - val_output_3_loss: 0.0127 - val_output_4_loss: 3.7163 - val_output_3_precision: 0.8879 - val_output_3_recall: 0.7700 - val_output_3_true_negatives: 7592027.0000 - val_output_3_true_positives: 9105.0000 - val_output_3_false_negatives: 2719.0000 - val_output_3_false_positives: 1149.0000\n",
      "Epoch 8/20\n",
      "4607/4607 [==============================] - 592s 128ms/step - loss: 8.4498 - output_1_loss: 8.6999e-06 - output_2_loss: 0.3039 - output_3_loss: 0.0215 - output_4_loss: 6.8872 - output_3_precision: 0.8323 - output_3_recall: 0.5336 - output_3_true_negatives: 186524992.0000 - output_3_true_positives: 144170.0000 - output_3_false_negatives: 126005.0000 - output_3_false_positives: 29054.0000 - val_loss: 4.7545 - val_output_1_loss: 0.0000e+00 - val_output_2_loss: 0.2049 - val_output_3_loss: 0.0126 - val_output_4_loss: 3.7049 - val_output_3_precision: 0.8907 - val_output_3_recall: 0.7565 - val_output_3_true_negatives: 7592078.0000 - val_output_3_true_positives: 8945.0000 - val_output_3_false_negatives: 2879.0000 - val_output_3_false_positives: 1098.0000\n",
      "Epoch 9/20\n",
      "4607/4607 [==============================] - 601s 130ms/step - loss: 8.3861 - output_1_loss: 2.5136e-06 - output_2_loss: 0.3007 - output_3_loss: 0.0214 - output_4_loss: 6.8400 - output_3_precision: 0.8341 - output_3_recall: 0.5373 - output_3_true_negatives: 186525440.0000 - output_3_true_positives: 145191.0000 - output_3_false_negatives: 125020.0000 - output_3_false_positives: 28881.0000 - val_loss: 4.7159 - val_output_1_loss: 0.0000e+00 - val_output_2_loss: 0.1964 - val_output_3_loss: 0.0125 - val_output_4_loss: 3.7087 - val_output_3_precision: 0.8864 - val_output_3_recall: 0.7870 - val_output_3_true_negatives: 7591983.0000 - val_output_3_true_positives: 9306.0000 - val_output_3_false_negatives: 2518.0000 - val_output_3_false_positives: 1193.0000\n",
      "Epoch 10/20\n",
      "4607/4607 [==============================] - 588s 128ms/step - loss: 8.4105 - output_1_loss: 0.0000e+00 - output_2_loss: 0.3084 - output_3_loss: 0.0213 - output_4_loss: 6.8260 - output_3_precision: 0.8347 - output_3_recall: 0.5397 - output_3_true_negatives: 186525088.0000 - output_3_true_positives: 145887.0000 - output_3_false_negatives: 124434.0000 - output_3_false_positives: 28897.0000 - val_loss: 4.5181 - val_output_1_loss: 0.0000e+00 - val_output_2_loss: 0.1942 - val_output_3_loss: 0.0120 - val_output_4_loss: 3.5231 - val_output_3_precision: 0.9077 - val_output_3_recall: 0.7726 - val_output_3_true_negatives: 7592247.0000 - val_output_3_true_positives: 9135.0000 - val_output_3_false_negatives: 2689.0000 - val_output_3_false_positives: 929.0000\n",
      "Epoch 11/20\n",
      "4607/4607 [==============================] - 583s 127ms/step - loss: 8.3187 - output_1_loss: 1.1415e-06 - output_2_loss: 0.3017 - output_3_loss: 0.0211 - output_4_loss: 6.7681 - output_3_precision: 0.8369 - output_3_recall: 0.5441 - output_3_true_negatives: 186525632.0000 - output_3_true_positives: 147019.0000 - output_3_false_negatives: 123202.0000 - output_3_false_positives: 28661.0000 - val_loss: 4.4566 - val_output_1_loss: 0.0000e+00 - val_output_2_loss: 0.1931 - val_output_3_loss: 0.0118 - val_output_4_loss: 3.4673 - val_output_3_precision: 0.9036 - val_output_3_recall: 0.7796 - val_output_3_true_negatives: 7592193.0000 - val_output_3_true_positives: 9218.0000 - val_output_3_false_negatives: 2606.0000 - val_output_3_false_positives: 983.0000\n",
      "Epoch 12/20\n",
      "4607/4607 [==============================] - 574s 125ms/step - loss: 8.2467 - output_1_loss: 2.8742e-06 - output_2_loss: 0.2949 - output_3_loss: 0.0211 - output_4_loss: 6.7302 - output_3_precision: 0.8398 - output_3_recall: 0.5475 - output_3_true_negatives: 186526048.0000 - output_3_true_positives: 147966.0000 - output_3_false_negatives: 122282.0000 - output_3_false_positives: 28233.0000 - val_loss: 4.4719 - val_output_1_loss: 0.0000e+00 - val_output_2_loss: 0.1917 - val_output_3_loss: 0.0119 - val_output_4_loss: 3.4897 - val_output_3_precision: 0.8937 - val_output_3_recall: 0.7857 - val_output_3_true_negatives: 7592071.0000 - val_output_3_true_positives: 9290.0000 - val_output_3_false_negatives: 2534.0000 - val_output_3_false_positives: 1105.0000\n",
      "Epoch 13/20\n",
      "4607/4607 [==============================] - 587s 127ms/step - loss: 8.1982 - output_1_loss: 1.5104e-07 - output_2_loss: 0.2929 - output_3_loss: 0.0209 - output_4_loss: 6.6917 - output_3_precision: 0.8408 - output_3_recall: 0.5494 - output_3_true_negatives: 186526144.0000 - output_3_true_positives: 148450.0000 - output_3_false_negatives: 121759.0000 - output_3_false_positives: 28110.0000 - val_loss: 4.4457 - val_output_1_loss: 0.0000e+00 - val_output_2_loss: 0.1918 - val_output_3_loss: 0.0117 - val_output_4_loss: 3.4633 - val_output_3_precision: 0.8820 - val_output_3_recall: 0.8067 - val_output_3_true_negatives: 7591900.0000 - val_output_3_true_positives: 9539.0000 - val_output_3_false_negatives: 2285.0000 - val_output_3_false_positives: 1276.0000\n",
      "Epoch 14/20\n",
      "4607/4607 [==============================] - 547s 119ms/step - loss: 8.1992 - output_1_loss: 2.6982e-06 - output_2_loss: 0.3006 - output_3_loss: 0.0208 - output_4_loss: 6.6546 - output_3_precision: 0.8411 - output_3_recall: 0.5525 - output_3_true_negatives: 186525824.0000 - output_3_true_positives: 149331.0000 - output_3_false_negatives: 120973.0000 - output_3_false_positives: 28207.0000 - val_loss: 4.3740 - val_output_1_loss: 0.0000e+00 - val_output_2_loss: 0.1866 - val_output_3_loss: 0.0115 - val_output_4_loss: 3.4182 - val_output_3_precision: 0.9053 - val_output_3_recall: 0.7794 - val_output_3_true_negatives: 7592212.0000 - val_output_3_true_positives: 9216.0000 - val_output_3_false_negatives: 2608.0000 - val_output_3_false_positives: 964.0000\n",
      "Epoch 15/20\n",
      "4607/4607 [==============================] - 569s 124ms/step - loss: 8.2297 - output_1_loss: 9.9456e-06 - output_2_loss: 0.3107 - output_3_loss: 0.0206 - output_4_loss: 6.6351 - output_3_precision: 0.8420 - output_3_recall: 0.5561 - output_3_true_negatives: 186525760.0000 - output_3_true_positives: 150309.0000 - output_3_false_negatives: 119979.0000 - output_3_false_positives: 28207.0000 - val_loss: 4.2950 - val_output_1_loss: 0.0000e+00 - val_output_2_loss: 0.1879 - val_output_3_loss: 0.0114 - val_output_4_loss: 3.3329 - val_output_3_precision: 0.9031 - val_output_3_recall: 0.7970 - val_output_3_true_negatives: 7592165.0000 - val_output_3_true_positives: 9424.0000 - val_output_3_false_negatives: 2400.0000 - val_output_3_false_positives: 1011.0000\n",
      "Epoch 16/20\n",
      "4607/4607 [==============================] - 567s 123ms/step - loss: 8.0944 - output_1_loss: 4.0059e-09 - output_2_loss: 0.2879 - output_3_loss: 0.0206 - output_4_loss: 6.6138 - output_3_precision: 0.8422 - output_3_recall: 0.5565 - output_3_true_negatives: 186525664.0000 - output_3_true_positives: 150367.0000 - output_3_false_negatives: 119827.0000 - output_3_false_positives: 28170.0000 - val_loss: 4.2075 - val_output_1_loss: 0.0000e+00 - val_output_2_loss: 0.1873 - val_output_3_loss: 0.0110 - val_output_4_loss: 3.2491 - val_output_3_precision: 0.9029 - val_output_3_recall: 0.8132 - val_output_3_true_negatives: 7592142.0000 - val_output_3_true_positives: 9615.0000 - val_output_3_false_negatives: 2209.0000 - val_output_3_false_positives: 1034.0000\n",
      "Epoch 17/20\n",
      "4607/4607 [==============================] - 571s 124ms/step - loss: 8.1222 - output_1_loss: 3.6174e-06 - output_2_loss: 0.2928 - output_3_loss: 0.0207 - output_4_loss: 6.6170 - output_3_precision: 0.8426 - output_3_recall: 0.5561 - output_3_true_negatives: 186526048.0000 - output_3_true_positives: 150279.0000 - output_3_false_negatives: 119962.0000 - output_3_false_positives: 28082.0000 - val_loss: 4.1644 - val_output_1_loss: 0.0000e+00 - val_output_2_loss: 0.1826 - val_output_3_loss: 0.0109 - val_output_4_loss: 3.2293 - val_output_3_precision: 0.9092 - val_output_3_recall: 0.8067 - val_output_3_true_negatives: 7592224.0000 - val_output_3_true_positives: 9538.0000 - val_output_3_false_negatives: 2286.0000 - val_output_3_false_positives: 952.0000\n",
      "Epoch 18/20\n",
      "4607/4607 [==============================] - 505s 110ms/step - loss: 7.9896 - output_1_loss: 7.9618e-07 - output_2_loss: 0.2897 - output_3_loss: 0.0203 - output_4_loss: 6.5002 - output_3_precision: 0.8474 - output_3_recall: 0.5661 - output_3_true_negatives: 186526464.0000 - output_3_true_positives: 152979.0000 - output_3_false_negatives: 117239.0000 - output_3_false_positives: 27555.0000 - val_loss: 4.1482 - val_output_1_loss: 0.0000e+00 - val_output_2_loss: 0.1858 - val_output_3_loss: 0.0110 - val_output_4_loss: 3.1971 - val_output_3_precision: 0.9048 - val_output_3_recall: 0.8072 - val_output_3_true_negatives: 7592172.0000 - val_output_3_true_positives: 9544.0000 - val_output_3_false_negatives: 2280.0000 - val_output_3_false_positives: 1004.0000\n",
      "Epoch 19/20\n",
      "4607/4607 [==============================] - 519s 113ms/step - loss: 8.0112 - output_1_loss: 1.3141e-05 - output_2_loss: 0.2994 - output_3_loss: 0.0202 - output_4_loss: 6.4736 - output_3_precision: 0.8467 - output_3_recall: 0.5680 - output_3_true_negatives: 186526032.0000 - output_3_true_positives: 153487.0000 - output_3_false_negatives: 116741.0000 - output_3_false_positives: 27800.0000 - val_loss: 4.1859 - val_output_1_loss: 0.0000e+00 - val_output_2_loss: 0.1855 - val_output_3_loss: 0.0110 - val_output_4_loss: 3.2364 - val_output_3_precision: 0.9118 - val_output_3_recall: 0.7999 - val_output_3_true_negatives: 7592261.0000 - val_output_3_true_positives: 9458.0000 - val_output_3_false_negatives: 2366.0000 - val_output_3_false_positives: 915.0000\n",
      "Epoch 20/20\n",
      "4607/4607 [==============================] - 552s 120ms/step - loss: 7.9511 - output_1_loss: 3.6633e-06 - output_2_loss: 0.2936 - output_3_loss: 0.0200 - output_4_loss: 6.4428 - output_3_precision: 0.8467 - output_3_recall: 0.5698 - output_3_true_negatives: 186526144.0000 - output_3_true_positives: 153943.0000 - output_3_false_negatives: 116234.0000 - output_3_false_positives: 27871.0000 - val_loss: 4.0006 - val_output_1_loss: 0.0000e+00 - val_output_2_loss: 0.1810 - val_output_3_loss: 0.0104 - val_output_4_loss: 3.0747 - val_output_3_precision: 0.9138 - val_output_3_recall: 0.8126 - val_output_3_true_negatives: 7592270.0000 - val_output_3_true_positives: 9608.0000 - val_output_3_false_negatives: 2216.0000 - val_output_3_false_positives: 906.0000\n"
     ]
    }
   ],
   "source": [
    "history = model.fit(train_dataset, epochs=20,validation_data=val_dataset)"
   ]
  },
  {
   "cell_type": "code",
   "execution_count": null,
   "metadata": {},
   "outputs": [],
   "source": []
  },
  {
   "cell_type": "code",
   "execution_count": 10,
   "metadata": {},
   "outputs": [],
   "source": [
    "os.chdir(\"/home/sergio/Documents/json_experiments\")\n",
    "import json\n",
    "#json.dumps(str(a))\n",
    "with open('history_finetuning_5521_50_70_epoch_nadam_1e-5_msle_exp_mse_3anchors_NUEVO_TRAIN.json', 'w') as fp:\n",
    "    json.dump(str(history.history), fp)"
   ]
  },
  {
   "cell_type": "code",
   "execution_count": 11,
   "metadata": {},
   "outputs": [],
   "source": [
    "model.save_weights('/home/sergio/Documents/weights_saved/pesos_finetuning_5521_50_70_epoch_nadam_1e-5_msle_exp_mse_3anchors_NUEVO_TRAIN')"
   ]
  },
  {
   "cell_type": "code",
   "execution_count": null,
   "metadata": {},
   "outputs": [],
   "source": []
  }
 ],
 "metadata": {
  "kernelspec": {
   "display_name": "Python 3",
   "language": "python",
   "name": "python3"
  },
  "language_info": {
   "codemirror_mode": {
    "name": "ipython",
    "version": 3
   },
   "file_extension": ".py",
   "mimetype": "text/x-python",
   "name": "python",
   "nbconvert_exporter": "python",
   "pygments_lexer": "ipython3",
   "version": "3.6.9"
  }
 },
 "nbformat": 4,
 "nbformat_minor": 4
}
