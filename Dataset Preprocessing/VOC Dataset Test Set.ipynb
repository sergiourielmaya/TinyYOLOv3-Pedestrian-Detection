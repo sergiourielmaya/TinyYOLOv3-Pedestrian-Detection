{
 "cells": [
  {
   "cell_type": "code",
   "execution_count": 2,
   "metadata": {},
   "outputs": [],
   "source": [
    "import os\n",
    "import xml.etree.ElementTree as ET\n",
    "import pandas as pd\n",
    "import numpy as np\n",
    "\n",
    "from albumentations import (\n",
    "    convert_bbox_to_albumentations,convert_bboxes_to_albumentations\n",
    ")"
   ]
  },
  {
   "cell_type": "markdown",
   "metadata": {},
   "source": [
    "## VOC 2012 TEST SET"
   ]
  },
  {
   "cell_type": "code",
   "execution_count": 2,
   "metadata": {},
   "outputs": [],
   "source": [
    "#Leemos los xml files para cada anotación\n",
    "os.chdir(\"/home/sergio/Downloads/download/VOCdevkit/VOC2012/Annotations\")\n",
    "xml_files = os.listdir()"
   ]
  },
  {
   "cell_type": "code",
   "execution_count": 6,
   "metadata": {},
   "outputs": [
    {
     "name": "stdout",
     "output_type": "stream",
     "text": [
      "2008_000200.jpg\n",
      "[[119, 76, 184, 311], [266, 43, 338, 323]]\n",
      "['person', 'person']\n"
     ]
    }
   ],
   "source": [
    "def read_content(xml_file: str):\n",
    "    '''\n",
    "    Función que toma un archivo xml y extrae las coordendas de los bounding boxes\n",
    "    de cada imagen y las clases de cada bounding box\n",
    "    '''\n",
    "    tree = ET.parse(xml_file)\n",
    "    root = tree.getroot()\n",
    "\n",
    "    list_with_all_boxes = []\n",
    "    list_with_all_classes = []\n",
    "    for boxes in root.iter('object'):\n",
    "        \n",
    "        #name = root.find(\"name\").text\n",
    "        filename = root.find('filename').text\n",
    "\n",
    "        ymin, xmin, ymax, xmax = None, None, None, None\n",
    "\n",
    "        for names in boxes.findall(\"name\"):\n",
    "            list_with_all_classes.append(names.text)\n",
    "        for box in boxes.findall(\"bndbox\"):\n",
    "            \n",
    "            ymin = int(float(box.find(\"ymin\").text))\n",
    "            xmin = int(float(box.find(\"xmin\").text))\n",
    "            ymax = int(float(box.find(\"ymax\").text))\n",
    "            xmax = int(float(box.find(\"xmax\").text))\n",
    "\n",
    "        list_with_single_boxes = [xmin, ymin, xmax, ymax]\n",
    "        list_with_all_boxes.append(list_with_single_boxes)\n",
    "\n",
    "    return filename, list_with_all_boxes,list_with_all_classes\n",
    "#Ejemplo\n",
    "file_name, boxes, classes = read_content(\"2008_000200.xml\")\n",
    "print(file_name)\n",
    "print(boxes)\n",
    "print(classes)"
   ]
  },
  {
   "cell_type": "code",
   "execution_count": 8,
   "metadata": {},
   "outputs": [
    {
     "name": "stdout",
     "output_type": "stream",
     "text": [
      "Total images: 5138\n",
      "Images with person instances: 5138\n",
      "Person instances: 7326\n",
      "Total instances: 7330\n"
     ]
    }
   ],
   "source": [
    "#Leemos toda la base de datos\n",
    "kept_files = []\n",
    "person_instances =0\n",
    "total_instances = 0\n",
    "\n",
    "for i in xml_files:\n",
    "    file_name, boxes, classes = read_content(i)\n",
    "    total_instances += len(boxes)\n",
    "    if \"person\" in classes:\n",
    "        kept_files.append(file_name)\n",
    "        num_person = classes.count(\"person\")\n",
    "        person_instances +=num_person\n",
    "        \n",
    "print(\"Total images: \" + str(len(xml_files)))\n",
    "print(\"Images with person instances: \" + str(len(kept_files)))\n",
    "print(\"Person instances: \" + str(person_instances))\n",
    "print(\"Total instances: \" + str(total_instances))\n"
   ]
  },
  {
   "cell_type": "markdown",
   "metadata": {},
   "source": [
    "## Creating the metadata file (CSV)"
   ]
  },
  {
   "cell_type": "code",
   "execution_count": 11,
   "metadata": {},
   "outputs": [],
   "source": [
    "from PIL import Image, ExifTags\n",
    "os.chdir(\"/home/sergio/Downloads/download/VOCdevkit/VOC2012/JPEGImages\")\n",
    "\n",
    "voc_img_metadata_test = {}\n",
    "\n",
    "for i in kept_files:\n",
    "    img = Image.open(i)\n",
    "    width,height = img.size\n",
    "    voc_img_metadata_test[i]={\"width\":width,\"height\":height}"
   ]
  },
  {
   "cell_type": "code",
   "execution_count": 13,
   "metadata": {},
   "outputs": [],
   "source": [
    "metadata_test_df = pd.DataFrame(voc_img_metadata_test).T"
   ]
  },
  {
   "cell_type": "code",
   "execution_count": 14,
   "metadata": {},
   "outputs": [
    {
     "data": {
      "text/html": [
       "<div>\n",
       "<style scoped>\n",
       "    .dataframe tbody tr th:only-of-type {\n",
       "        vertical-align: middle;\n",
       "    }\n",
       "\n",
       "    .dataframe tbody tr th {\n",
       "        vertical-align: top;\n",
       "    }\n",
       "\n",
       "    .dataframe thead th {\n",
       "        text-align: right;\n",
       "    }\n",
       "</style>\n",
       "<table border=\"1\" class=\"dataframe\">\n",
       "  <thead>\n",
       "    <tr style=\"text-align: right;\">\n",
       "      <th></th>\n",
       "      <th>width</th>\n",
       "      <th>height</th>\n",
       "    </tr>\n",
       "  </thead>\n",
       "  <tbody>\n",
       "    <tr>\n",
       "      <th>2012_002663.jpg</th>\n",
       "      <td>500</td>\n",
       "      <td>375</td>\n",
       "    </tr>\n",
       "    <tr>\n",
       "      <th>2011_004593.jpg</th>\n",
       "      <td>500</td>\n",
       "      <td>331</td>\n",
       "    </tr>\n",
       "    <tr>\n",
       "      <th>2011_003690.jpg</th>\n",
       "      <td>500</td>\n",
       "      <td>335</td>\n",
       "    </tr>\n",
       "    <tr>\n",
       "      <th>2012_000164.jpg</th>\n",
       "      <td>500</td>\n",
       "      <td>375</td>\n",
       "    </tr>\n",
       "    <tr>\n",
       "      <th>2012_002706.jpg</th>\n",
       "      <td>500</td>\n",
       "      <td>250</td>\n",
       "    </tr>\n",
       "  </tbody>\n",
       "</table>\n",
       "</div>"
      ],
      "text/plain": [
       "                 width  height\n",
       "2012_002663.jpg    500     375\n",
       "2011_004593.jpg    500     331\n",
       "2011_003690.jpg    500     335\n",
       "2012_000164.jpg    500     375\n",
       "2012_002706.jpg    500     250"
      ]
     },
     "metadata": {},
     "output_type": "display_data"
    },
    {
     "name": "stdout",
     "output_type": "stream",
     "text": [
      "(5138, 2)\n"
     ]
    }
   ],
   "source": [
    "display(metadata_test_df.head())\n",
    "print(metadata_test_df.shape)"
   ]
  },
  {
   "cell_type": "code",
   "execution_count": 15,
   "metadata": {},
   "outputs": [],
   "source": [
    "#Guardamos la tabla como un CSV\n",
    "os.chdir(\"/home/sergio/Downloads/download/VOCdevkit/VOC2012\")\n",
    "metadata_df.to_csv(\"VOC_metadata_test.csv\",index=True)"
   ]
  },
  {
   "cell_type": "markdown",
   "metadata": {},
   "source": [
    "## Filtering the images"
   ]
  },
  {
   "cell_type": "markdown",
   "metadata": {},
   "source": [
    "Seleccionamos las imágenes que contienen la clase \"Person\" y las guardamos en una nueva carpeta llamada \"pedestrian_dataset_voc\""
   ]
  },
  {
   "cell_type": "code",
   "execution_count": 16,
   "metadata": {},
   "outputs": [],
   "source": [
    "os.chdir(\"/home/sergio/Downloads/download/VOCdevkit/VOC2012\")\n",
    "\n",
    "try:\n",
    "    os.mkdir(\"pedestrian_dataset_voc_test_set\")\n",
    "except:\n",
    "    pass"
   ]
  },
  {
   "cell_type": "code",
   "execution_count": 17,
   "metadata": {},
   "outputs": [],
   "source": [
    "from shutil import copyfile\n",
    "\n",
    "def get_class_images(SOURCE, NEW_LOC,CLASS_NAMES):\n",
    "\n",
    "    names_list =os.listdir(SOURCE)\n",
    "\n",
    "    for i in names_list:\n",
    "        if i in CLASS_NAMES:\n",
    "                copyfile(SOURCE + \"/\" + i, NEW_LOC + \"/\" + i)"
   ]
  },
  {
   "cell_type": "code",
   "execution_count": 18,
   "metadata": {},
   "outputs": [],
   "source": [
    "get_class_images(\"/home/sergio/Downloads/download/VOCdevkit/VOC2012/JPEGImages\",\"/home/sergio/Downloads/download/VOCdevkit/VOC2012/pedestrian_dataset_voc_test_set\",kept_files)"
   ]
  },
  {
   "cell_type": "code",
   "execution_count": 19,
   "metadata": {},
   "outputs": [],
   "source": [
    "os.chdir(\"/home/sergio/Downloads/download/VOCdevkit/VOC2012/JPEGImages\")\n",
    "#print(os.listdir()[:5])"
   ]
  },
  {
   "cell_type": "markdown",
   "metadata": {},
   "source": [
    "## Creating the Annotations file (CSV)"
   ]
  },
  {
   "cell_type": "markdown",
   "metadata": {},
   "source": [
    "Creamos un CSV de anotaciones, cada fila será una anotación, donde viene el archivo al que pertenece así como sus coordenadas del tipo (x_min,y_min,x_max,y_max) normalizados, es decir, de [0,1], que es el formato que el módulo de Albumentations"
   ]
  },
  {
   "cell_type": "code",
   "execution_count": 20,
   "metadata": {},
   "outputs": [],
   "source": [
    "os.chdir(\"/home/sergio/Downloads/download/VOCdevkit/VOC2012/Annotations\")\n",
    "xml_files = os.listdir()\n",
    "\n",
    "def read_content(xml_file: str):\n",
    "\n",
    "    tree = ET.parse(xml_file)\n",
    "    root = tree.getroot()\n",
    "\n",
    "    list_with_all_boxes = []\n",
    "    list_with_all_classes = []\n",
    "    for boxes in root.iter('object'):\n",
    "        \n",
    "        #name = root.find(\"name\").text\n",
    "        filename = root.find('filename').text\n",
    "    \n",
    "        ymin, xmin, ymax, xmax = None, None, None, None\n",
    "\n",
    "        for names in boxes.findall(\"name\"):\n",
    "            list_with_all_classes.append(names.text)\n",
    "        for box in boxes.findall(\"bndbox\"):\n",
    "            \n",
    "            ymin = int(float(box.find(\"ymin\").text))\n",
    "            xmin = int(float(box.find(\"xmin\").text))\n",
    "            ymax = int(float(box.find(\"ymax\").text))\n",
    "            xmax = int(float(box.find(\"xmax\").text))\n",
    "         \n",
    "            if filename in metadata_df.index.values:\n",
    "            #print(filename in metadata_df.index.values)\n",
    "                img_width = metadata_df.loc[filename][\"width\"]\n",
    "                img_height = metadata_df.loc[filename][\"height\"]           \n",
    "                [xmin,ymin,xmax,ymax]=list(convert_bbox_to_albumentations((xmin,ymin,xmax,ymax),source_format=\"pascal_voc\",check_validity=True,rows = img_height,cols = img_width))\n",
    "            \n",
    "            else:\n",
    "                x_center = xmin + np.floor((xmax-xmin-1)/2)\n",
    "                y_center = ymin + np.floor((ymax-ymin-1)/2)\n",
    "                width = xmax-xmin\n",
    "                height = ymax-ymin                       \n",
    "  \n",
    "        list_with_single_boxes = [xmin,ymin,xmax,ymax]\n",
    "        list_with_all_boxes.append(list_with_single_boxes)\n",
    "\n",
    "    return filename, list_with_all_boxes,list_with_all_classes"
   ]
  },
  {
   "cell_type": "code",
   "execution_count": 21,
   "metadata": {},
   "outputs": [],
   "source": [
    "#Creamos el diccionario que posteriormente pasaremos a CSV\n",
    "\n",
    "dict_annotations = {}\n",
    "num_instance = 0\n",
    "for i in xml_files:\n",
    "    file_name,list_bbox,list_classes = read_content(i)\n",
    "    \n",
    "    for index,j in enumerate(list_classes):\n",
    "        if j == \"person\":\n",
    "            dict_annotations[num_instance] = {\"file_name\":file_name, \"xmin\":list_bbox[index][0],\"ymin\":list_bbox[index][1],\n",
    "                                              \"xmax\":list_bbox[index][2],\n",
    "                                              \"ymax\": list_bbox[index][3]}\n",
    "            num_instance +=1"
   ]
  },
  {
   "cell_type": "code",
   "execution_count": 22,
   "metadata": {},
   "outputs": [
    {
     "data": {
      "text/html": [
       "<div>\n",
       "<style scoped>\n",
       "    .dataframe tbody tr th:only-of-type {\n",
       "        vertical-align: middle;\n",
       "    }\n",
       "\n",
       "    .dataframe tbody tr th {\n",
       "        vertical-align: top;\n",
       "    }\n",
       "\n",
       "    .dataframe thead th {\n",
       "        text-align: right;\n",
       "    }\n",
       "</style>\n",
       "<table border=\"1\" class=\"dataframe\">\n",
       "  <thead>\n",
       "    <tr style=\"text-align: right;\">\n",
       "      <th></th>\n",
       "      <th>file_name</th>\n",
       "      <th>xmin</th>\n",
       "      <th>ymin</th>\n",
       "      <th>xmax</th>\n",
       "      <th>ymax</th>\n",
       "    </tr>\n",
       "  </thead>\n",
       "  <tbody>\n",
       "    <tr>\n",
       "      <th>0</th>\n",
       "      <td>2012_002663.jpg</td>\n",
       "      <td>0.824</td>\n",
       "      <td>0.512</td>\n",
       "      <td>0.954</td>\n",
       "      <td>0.690667</td>\n",
       "    </tr>\n",
       "    <tr>\n",
       "      <th>1</th>\n",
       "      <td>2011_004593.jpg</td>\n",
       "      <td>0.428</td>\n",
       "      <td>0.432024</td>\n",
       "      <td>0.586</td>\n",
       "      <td>0.779456</td>\n",
       "    </tr>\n",
       "    <tr>\n",
       "      <th>2</th>\n",
       "      <td>2011_003690.jpg</td>\n",
       "      <td>0.198</td>\n",
       "      <td>0.00298507</td>\n",
       "      <td>0.82</td>\n",
       "      <td>1</td>\n",
       "    </tr>\n",
       "    <tr>\n",
       "      <th>3</th>\n",
       "      <td>2011_003690.jpg</td>\n",
       "      <td>0.206</td>\n",
       "      <td>0.310448</td>\n",
       "      <td>0.524</td>\n",
       "      <td>1</td>\n",
       "    </tr>\n",
       "    <tr>\n",
       "      <th>4</th>\n",
       "      <td>2012_000164.jpg</td>\n",
       "      <td>0.246</td>\n",
       "      <td>0.314667</td>\n",
       "      <td>0.796</td>\n",
       "      <td>1</td>\n",
       "    </tr>\n",
       "  </tbody>\n",
       "</table>\n",
       "</div>"
      ],
      "text/plain": [
       "         file_name   xmin        ymin   xmax      ymax\n",
       "0  2012_002663.jpg  0.824       0.512  0.954  0.690667\n",
       "1  2011_004593.jpg  0.428    0.432024  0.586  0.779456\n",
       "2  2011_003690.jpg  0.198  0.00298507   0.82         1\n",
       "3  2011_003690.jpg  0.206    0.310448  0.524         1\n",
       "4  2012_000164.jpg  0.246    0.314667  0.796         1"
      ]
     },
     "metadata": {},
     "output_type": "display_data"
    },
    {
     "name": "stdout",
     "output_type": "stream",
     "text": [
      "(7326, 5)\n"
     ]
    }
   ],
   "source": [
    "annotations_test_df = pd.DataFrame(dict_annotations).T\n",
    "display(annotations_test_df.head())\n",
    "print(annotations_test_df.shape)"
   ]
  },
  {
   "cell_type": "code",
   "execution_count": 24,
   "metadata": {},
   "outputs": [],
   "source": [
    "#Guardamos el dataframe como CSV\n",
    "os.chdir(\"/home/sergio/Downloads/download/VOCdevkit/VOC2012\")\n",
    "annotations_test_df.to_csv(\"VOC_annotations_test.csv\",index=False)"
   ]
  },
  {
   "cell_type": "code",
   "execution_count": null,
   "metadata": {},
   "outputs": [],
   "source": []
  },
  {
   "cell_type": "markdown",
   "metadata": {},
   "source": [
    "## VOC 2007 TEST SET"
   ]
  },
  {
   "cell_type": "code",
   "execution_count": 3,
   "metadata": {},
   "outputs": [],
   "source": [
    "#Leemos los xml files para cada anotación\n",
    "os.chdir(\"/home/sergio/Downloads/VOCtest_06-Nov-2007/VOCdevkit/VOC2007/Annotations\")\n",
    "xml_files = os.listdir()"
   ]
  },
  {
   "cell_type": "code",
   "execution_count": 4,
   "metadata": {},
   "outputs": [
    {
     "name": "stdout",
     "output_type": "stream",
     "text": [
      "000001.jpg\n",
      "[[48, 240, 195, 371], [8, 12, 352, 498]]\n",
      "['dog', 'person']\n"
     ]
    }
   ],
   "source": [
    "def read_content(xml_file: str):\n",
    "    '''\n",
    "    Función que toma un archivo xml y extrae las coordendas de los bounding boxes\n",
    "    de cada imagen y las clases de cada bounding box\n",
    "    '''\n",
    "    tree = ET.parse(xml_file)\n",
    "    root = tree.getroot()\n",
    "\n",
    "    list_with_all_boxes = []\n",
    "    list_with_all_classes = []\n",
    "    for boxes in root.iter('object'):\n",
    "        \n",
    "        #name = root.find(\"name\").text\n",
    "        filename = root.find('filename').text\n",
    "\n",
    "        ymin, xmin, ymax, xmax = None, None, None, None\n",
    "\n",
    "        for names in boxes.findall(\"name\"):\n",
    "            list_with_all_classes.append(names.text)\n",
    "        for box in boxes.findall(\"bndbox\"):\n",
    "            \n",
    "            ymin = int(float(box.find(\"ymin\").text))\n",
    "            xmin = int(float(box.find(\"xmin\").text))\n",
    "            ymax = int(float(box.find(\"ymax\").text))\n",
    "            xmax = int(float(box.find(\"xmax\").text))\n",
    "\n",
    "        list_with_single_boxes = [xmin, ymin, xmax, ymax]\n",
    "        list_with_all_boxes.append(list_with_single_boxes)\n",
    "\n",
    "    return filename, list_with_all_boxes,list_with_all_classes\n",
    "#Ejemplo\n",
    "file_name, boxes, classes = read_content(\"000001.xml\")\n",
    "print(file_name)\n",
    "print(boxes)\n",
    "print(classes)"
   ]
  },
  {
   "cell_type": "code",
   "execution_count": 5,
   "metadata": {},
   "outputs": [
    {
     "name": "stdout",
     "output_type": "stream",
     "text": [
      "Total images: 4952\n",
      "Images with person instances: 2097\n",
      "Person instances: 5227\n",
      "Total instances: 14976\n"
     ]
    }
   ],
   "source": [
    "#Leemos toda la base de datos\n",
    "kept_files = []\n",
    "person_instances =0\n",
    "total_instances = 0\n",
    "\n",
    "for i in xml_files:\n",
    "    file_name, boxes, classes = read_content(i)\n",
    "    total_instances += len(boxes)\n",
    "    if \"person\" in classes:\n",
    "        kept_files.append(file_name)\n",
    "        num_person = classes.count(\"person\")\n",
    "        person_instances +=num_person\n",
    "        \n",
    "print(\"Total images: \" + str(len(xml_files)))\n",
    "print(\"Images with person instances: \" + str(len(kept_files)))\n",
    "print(\"Person instances: \" + str(person_instances))\n",
    "print(\"Total instances: \" + str(total_instances))\n"
   ]
  },
  {
   "cell_type": "markdown",
   "metadata": {},
   "source": [
    "## Creating the metadata file (CSV)"
   ]
  },
  {
   "cell_type": "code",
   "execution_count": 6,
   "metadata": {},
   "outputs": [],
   "source": [
    "from PIL import Image, ExifTags\n",
    "os.chdir(\"/home/sergio/Downloads/VOCtest_06-Nov-2007/VOCdevkit/VOC2007/JPEGImages\")\n",
    "\n",
    "voc_img_metadata_test = {}\n",
    "\n",
    "for i in kept_files:\n",
    "    img = Image.open(i)\n",
    "    width,height = img.size\n",
    "    voc_img_metadata_test[i]={\"width\":width,\"height\":height}"
   ]
  },
  {
   "cell_type": "code",
   "execution_count": 7,
   "metadata": {},
   "outputs": [],
   "source": [
    "metadata_test_df = pd.DataFrame(voc_img_metadata_test).T"
   ]
  },
  {
   "cell_type": "code",
   "execution_count": 8,
   "metadata": {},
   "outputs": [
    {
     "data": {
      "text/html": [
       "<div>\n",
       "<style scoped>\n",
       "    .dataframe tbody tr th:only-of-type {\n",
       "        vertical-align: middle;\n",
       "    }\n",
       "\n",
       "    .dataframe tbody tr th {\n",
       "        vertical-align: top;\n",
       "    }\n",
       "\n",
       "    .dataframe thead th {\n",
       "        text-align: right;\n",
       "    }\n",
       "</style>\n",
       "<table border=\"1\" class=\"dataframe\">\n",
       "  <thead>\n",
       "    <tr style=\"text-align: right;\">\n",
       "      <th></th>\n",
       "      <th>width</th>\n",
       "      <th>height</th>\n",
       "    </tr>\n",
       "  </thead>\n",
       "  <tbody>\n",
       "    <tr>\n",
       "      <th>001353.jpg</th>\n",
       "      <td>500</td>\n",
       "      <td>333</td>\n",
       "    </tr>\n",
       "    <tr>\n",
       "      <th>000166.jpg</th>\n",
       "      <td>500</td>\n",
       "      <td>375</td>\n",
       "    </tr>\n",
       "    <tr>\n",
       "      <th>007186.jpg</th>\n",
       "      <td>500</td>\n",
       "      <td>375</td>\n",
       "    </tr>\n",
       "    <tr>\n",
       "      <th>006115.jpg</th>\n",
       "      <td>500</td>\n",
       "      <td>384</td>\n",
       "    </tr>\n",
       "    <tr>\n",
       "      <th>007620.jpg</th>\n",
       "      <td>318</td>\n",
       "      <td>480</td>\n",
       "    </tr>\n",
       "  </tbody>\n",
       "</table>\n",
       "</div>"
      ],
      "text/plain": [
       "            width  height\n",
       "001353.jpg    500     333\n",
       "000166.jpg    500     375\n",
       "007186.jpg    500     375\n",
       "006115.jpg    500     384\n",
       "007620.jpg    318     480"
      ]
     },
     "metadata": {},
     "output_type": "display_data"
    },
    {
     "name": "stdout",
     "output_type": "stream",
     "text": [
      "(2097, 2)\n"
     ]
    }
   ],
   "source": [
    "display(metadata_test_df.head())\n",
    "print(metadata_test_df.shape)"
   ]
  },
  {
   "cell_type": "code",
   "execution_count": 10,
   "metadata": {},
   "outputs": [],
   "source": [
    "#Guardamos la tabla como un CSV\n",
    "os.chdir(\"/home/sergio/Downloads/VOCtest_06-Nov-2007/VOCdevkit/VOC2007\")\n",
    "metadata_test_df.to_csv(\"VOC_metadata_test_2007.csv\",index=True)"
   ]
  },
  {
   "cell_type": "markdown",
   "metadata": {},
   "source": [
    "## Filtering the images"
   ]
  },
  {
   "cell_type": "markdown",
   "metadata": {},
   "source": [
    "Seleccionamos las imágenes que contienen la clase \"Person\" y las guardamos en una nueva carpeta llamada \"pedestrian_dataset_voc\""
   ]
  },
  {
   "cell_type": "code",
   "execution_count": 11,
   "metadata": {},
   "outputs": [],
   "source": [
    "os.chdir(\"/home/sergio/Downloads/VOCtest_06-Nov-2007/VOCdevkit/VOC2007\")\n",
    "\n",
    "try:\n",
    "    os.mkdir(\"pedestrian_dataset_voc_test_set_2007\")\n",
    "except:\n",
    "    pass"
   ]
  },
  {
   "cell_type": "code",
   "execution_count": 12,
   "metadata": {},
   "outputs": [],
   "source": [
    "from shutil import copyfile\n",
    "\n",
    "def get_class_images(SOURCE, NEW_LOC,CLASS_NAMES):\n",
    "\n",
    "    names_list =os.listdir(SOURCE)\n",
    "\n",
    "    for i in names_list:\n",
    "        if i in CLASS_NAMES:\n",
    "                copyfile(SOURCE + \"/\" + i, NEW_LOC + \"/\" + i)"
   ]
  },
  {
   "cell_type": "code",
   "execution_count": 14,
   "metadata": {},
   "outputs": [],
   "source": [
    "get_class_images(\"/home/sergio/Downloads/VOCtest_06-Nov-2007/VOCdevkit/VOC2007/JPEGImages\",\"/home/sergio/Downloads/VOCtest_06-Nov-2007/VOCdevkit/VOC2007/pedestrian_dataset_voc_test_set_2007\",kept_files)"
   ]
  },
  {
   "cell_type": "code",
   "execution_count": 15,
   "metadata": {},
   "outputs": [
    {
     "name": "stdout",
     "output_type": "stream",
     "text": [
      "['000914.jpg', '004744.jpg', '002556.jpg', '008369.jpg', '007262.jpg']\n"
     ]
    }
   ],
   "source": [
    "os.chdir(\"/home/sergio/Downloads/VOCtest_06-Nov-2007/VOCdevkit/VOC2007/JPEGImages\")\n",
    "print(os.listdir()[:5])"
   ]
  },
  {
   "cell_type": "markdown",
   "metadata": {},
   "source": [
    "## Creating the Annotations file (CSV)"
   ]
  },
  {
   "cell_type": "markdown",
   "metadata": {},
   "source": [
    "Creamos un CSV de anotaciones, cada fila será una anotación, donde viene el archivo al que pertenece así como sus coordenadas del tipo (x_min,y_min,x_max,y_max) normalizados, es decir, de [0,1], que es el formato que el módulo de Albumentations"
   ]
  },
  {
   "cell_type": "code",
   "execution_count": 18,
   "metadata": {},
   "outputs": [],
   "source": [
    "os.chdir(\"/home/sergio/Downloads/VOCtest_06-Nov-2007/VOCdevkit/VOC2007/Annotations\")\n",
    "xml_files = os.listdir()\n",
    "\n",
    "metadata_df=metadata_test_df\n",
    "\n",
    "def read_content(xml_file: str):\n",
    "\n",
    "    tree = ET.parse(xml_file)\n",
    "    root = tree.getroot()\n",
    "\n",
    "    list_with_all_boxes = []\n",
    "    list_with_all_classes = []\n",
    "    for boxes in root.iter('object'):\n",
    "        \n",
    "        #name = root.find(\"name\").text\n",
    "        filename = root.find('filename').text\n",
    "    \n",
    "        ymin, xmin, ymax, xmax = None, None, None, None\n",
    "\n",
    "        for names in boxes.findall(\"name\"):\n",
    "            list_with_all_classes.append(names.text)\n",
    "        for box in boxes.findall(\"bndbox\"):\n",
    "            \n",
    "            ymin = int(float(box.find(\"ymin\").text))\n",
    "            xmin = int(float(box.find(\"xmin\").text))\n",
    "            ymax = int(float(box.find(\"ymax\").text))\n",
    "            xmax = int(float(box.find(\"xmax\").text))\n",
    "         \n",
    "            if filename in metadata_df.index.values:\n",
    "            #print(filename in metadata_df.index.values)\n",
    "                img_width = metadata_df.loc[filename][\"width\"]\n",
    "                img_height = metadata_df.loc[filename][\"height\"]           \n",
    "                [xmin,ymin,xmax,ymax]=list(convert_bbox_to_albumentations((xmin,ymin,xmax,ymax),source_format=\"pascal_voc\",check_validity=True,rows = img_height,cols = img_width))\n",
    "            \n",
    "            else:\n",
    "                x_center = xmin + np.floor((xmax-xmin-1)/2)\n",
    "                y_center = ymin + np.floor((ymax-ymin-1)/2)\n",
    "                width = xmax-xmin\n",
    "                height = ymax-ymin                       \n",
    "  \n",
    "        list_with_single_boxes = [xmin,ymin,xmax,ymax]\n",
    "        list_with_all_boxes.append(list_with_single_boxes)\n",
    "\n",
    "    return filename, list_with_all_boxes,list_with_all_classes"
   ]
  },
  {
   "cell_type": "code",
   "execution_count": 19,
   "metadata": {},
   "outputs": [],
   "source": [
    "#Creamos el diccionario que posteriormente pasaremos a CSV\n",
    "\n",
    "dict_annotations = {}\n",
    "num_instance = 0\n",
    "for i in xml_files:\n",
    "    file_name,list_bbox,list_classes = read_content(i)\n",
    "    \n",
    "    for index,j in enumerate(list_classes):\n",
    "        if j == \"person\":\n",
    "            dict_annotations[num_instance] = {\"file_name\":file_name, \"xmin\":list_bbox[index][0],\"ymin\":list_bbox[index][1],\n",
    "                                              \"xmax\":list_bbox[index][2],\n",
    "                                              \"ymax\": list_bbox[index][3]}\n",
    "            num_instance +=1"
   ]
  },
  {
   "cell_type": "code",
   "execution_count": 20,
   "metadata": {},
   "outputs": [
    {
     "data": {
      "text/html": [
       "<div>\n",
       "<style scoped>\n",
       "    .dataframe tbody tr th:only-of-type {\n",
       "        vertical-align: middle;\n",
       "    }\n",
       "\n",
       "    .dataframe tbody tr th {\n",
       "        vertical-align: top;\n",
       "    }\n",
       "\n",
       "    .dataframe thead th {\n",
       "        text-align: right;\n",
       "    }\n",
       "</style>\n",
       "<table border=\"1\" class=\"dataframe\">\n",
       "  <thead>\n",
       "    <tr style=\"text-align: right;\">\n",
       "      <th></th>\n",
       "      <th>file_name</th>\n",
       "      <th>xmin</th>\n",
       "      <th>ymin</th>\n",
       "      <th>xmax</th>\n",
       "      <th>ymax</th>\n",
       "    </tr>\n",
       "  </thead>\n",
       "  <tbody>\n",
       "    <tr>\n",
       "      <th>0</th>\n",
       "      <td>001353.jpg</td>\n",
       "      <td>0.19</td>\n",
       "      <td>0.00600601</td>\n",
       "      <td>0.736</td>\n",
       "      <td>0.996997</td>\n",
       "    </tr>\n",
       "    <tr>\n",
       "      <th>1</th>\n",
       "      <td>001353.jpg</td>\n",
       "      <td>0.006</td>\n",
       "      <td>0.0780781</td>\n",
       "      <td>0.19</td>\n",
       "      <td>0.990991</td>\n",
       "    </tr>\n",
       "    <tr>\n",
       "      <th>2</th>\n",
       "      <td>000166.jpg</td>\n",
       "      <td>0.648</td>\n",
       "      <td>0.453333</td>\n",
       "      <td>0.708</td>\n",
       "      <td>0.76</td>\n",
       "    </tr>\n",
       "    <tr>\n",
       "      <th>3</th>\n",
       "      <td>000166.jpg</td>\n",
       "      <td>0.486</td>\n",
       "      <td>0.48</td>\n",
       "      <td>0.584</td>\n",
       "      <td>0.605333</td>\n",
       "    </tr>\n",
       "    <tr>\n",
       "      <th>4</th>\n",
       "      <td>000166.jpg</td>\n",
       "      <td>0.004</td>\n",
       "      <td>0.453333</td>\n",
       "      <td>0.044</td>\n",
       "      <td>0.709333</td>\n",
       "    </tr>\n",
       "  </tbody>\n",
       "</table>\n",
       "</div>"
      ],
      "text/plain": [
       "    file_name   xmin        ymin   xmax      ymax\n",
       "0  001353.jpg   0.19  0.00600601  0.736  0.996997\n",
       "1  001353.jpg  0.006   0.0780781   0.19  0.990991\n",
       "2  000166.jpg  0.648    0.453333  0.708      0.76\n",
       "3  000166.jpg  0.486        0.48  0.584  0.605333\n",
       "4  000166.jpg  0.004    0.453333  0.044  0.709333"
      ]
     },
     "metadata": {},
     "output_type": "display_data"
    },
    {
     "name": "stdout",
     "output_type": "stream",
     "text": [
      "(5227, 5)\n"
     ]
    }
   ],
   "source": [
    "annotations_test_df = pd.DataFrame(dict_annotations).T\n",
    "display(annotations_test_df.head())\n",
    "print(annotations_test_df.shape)"
   ]
  },
  {
   "cell_type": "code",
   "execution_count": 21,
   "metadata": {},
   "outputs": [],
   "source": [
    "#Guardamos el dataframe como CSV\n",
    "os.chdir(\"/home/sergio/Downloads/VOCtest_06-Nov-2007/VOCdevkit/VOC2007\")\n",
    "annotations_test_df.to_csv(\"VOC_annotations_test.csv\",index=False)"
   ]
  },
  {
   "cell_type": "code",
   "execution_count": null,
   "metadata": {},
   "outputs": [],
   "source": []
  }
 ],
 "metadata": {
  "kernelspec": {
   "display_name": "Python 3",
   "language": "python",
   "name": "python3"
  },
  "language_info": {
   "codemirror_mode": {
    "name": "ipython",
    "version": 3
   },
   "file_extension": ".py",
   "mimetype": "text/x-python",
   "name": "python",
   "nbconvert_exporter": "python",
   "pygments_lexer": "ipython3",
   "version": "3.6.10"
  }
 },
 "nbformat": 4,
 "nbformat_minor": 4
}
