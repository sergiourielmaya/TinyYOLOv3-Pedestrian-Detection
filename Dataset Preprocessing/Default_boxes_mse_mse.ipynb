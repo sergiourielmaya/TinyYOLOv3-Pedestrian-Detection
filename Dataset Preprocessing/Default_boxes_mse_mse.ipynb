{
 "cells": [
  {
   "cell_type": "code",
   "execution_count": 1,
   "metadata": {},
   "outputs": [],
   "source": [
    "import sys\n",
    "sys.path.append(\"/home/sergio/TinyYOLOv3-Pedestrian-Detection\")\n",
    "\n",
    "from YOLOblocks import TinyYOLOv3,BasicBlock,PredictionLayer#,YOLOLossBasicBlock\n",
    "import numpy as np\n",
    "import matplotlib.pyplot as plt\n",
    "%matplotlib inline\n",
    "import tensorflow as tf\n",
    "#from tensorflow.python.tools import freeze_graph\n",
    "#from skimage.io import imread,imshow\n",
    "#from skimage.transform import resize \n",
    "import time\n",
    "#from tensorflow.compat.v1.image import decode_image\n",
    "import imgaug.augmenters as iaa\n",
    "from imgaug.augmentables.bbs import BoundingBox, BoundingBoxesOnImage\n",
    "import os"
   ]
  },
  {
   "cell_type": "markdown",
   "metadata": {},
   "source": [
    "## Dataset preparation"
   ]
  },
  {
   "cell_type": "code",
   "execution_count": 2,
   "metadata": {},
   "outputs": [],
   "source": [
    "image_feature_description = {\n",
    "    'bboxes': tf.io.FixedLenFeature([], tf.string),\n",
    "    'image_raw': tf.io.FixedLenFeature([], tf.string),\n",
    "    'num_real_boxes':tf.io.FixedLenFeature([], tf.int64),\n",
    "}"
   ]
  },
  {
   "cell_type": "code",
   "execution_count": 3,
   "metadata": {},
   "outputs": [],
   "source": [
    "def get_iou_matrix_tf(box_arr1, box_arr2):\n",
    "    \n",
    "    box_arr1 = box_arr1 -tf.tile(box_arr1[:,:2],[1,2])\n",
    "    #print(box_arr1)\n",
    "    x11, y11, x12, y12 = tf.split(box_arr1, 4, axis=1)\n",
    "    x21, y21, x22, y22 = tf.split(box_arr2, 4, axis=1)\n",
    "    xA = tf.maximum(x11, tf.transpose(x21))\n",
    "    yA = tf.maximum(y11, tf.transpose(y21))\n",
    "    xB = tf.minimum(x12, tf.transpose(x22))\n",
    "    yB = tf.minimum(y12, tf.transpose(y22))\n",
    "    interArea = tf.maximum((xB - xA + 1e-9), 0) * tf.maximum((yB - yA + 1e-9), 0)\n",
    "    boxAArea = (x12 - x11 + 1e-9) * (y12 - y11 + 1e-9)\n",
    "    boxBArea = (x22 - x21 + 1e-9) * (y22 - y21 + 1e-9)\n",
    "    iou = interArea / (boxAArea + tf.transpose(boxBArea) - interArea)\n",
    "    return iou,tf.argmax(iou,axis=1)#[:,tf.newaxis]\n",
    "\n",
    "\n",
    "def fill_yolo_output(boxes,grid_size,num_anchors,which_anchor_box,which_anchor_box_index):\n",
    "    #print(boxes.shape)\n",
    "    #noobj_mask = tf.ones((1,grid_size*grid_size*num_anchors))\n",
    "    #print(noobj_mask.shape)\n",
    "    \n",
    "    x_min,y_min,x_max,y_max =tf.split(boxes,4,axis=1)\n",
    "\n",
    "    #Transforma las coordenadas de (xmin,ymin,xmax,ymax) --> (xcenter,ycenter,width,height)\n",
    "    width = x_max-x_min\n",
    "    height = y_max-y_min\n",
    "    x_global =x_min + tf.math.divide(x_max - x_min,2)\n",
    "    y_global =y_min + tf.math.divide(y_max - y_min,2)\n",
    "    \n",
    "    \n",
    "    x_min_anchor,y_min_anchor,x_max_anchor,y_max_anchor =tf.split(which_anchor_box,4,axis=1)\n",
    "    \n",
    "    width_anchor = x_max_anchor-x_min_anchor\n",
    "    height_anchor = y_max_anchor-y_min_anchor\n",
    "    x_global_anchor =x_min_anchor + tf.math.divide(x_max_anchor - x_min_anchor,2)\n",
    "    y_global_anchor =y_min_anchor + tf.math.divide(y_max_anchor - y_min_anchor,2)   \n",
    "\n",
    "    \n",
    "    #print(\"el x original\",x_global)\n",
    "    #print(\"el y original\",y_global)\n",
    "    #print(\"el w original\",width)\n",
    "    #print(\"el h original\",height)\n",
    "    \n",
    "    #porción de la imagen que hay en cada celda\n",
    "    pixel_per_grid = tf.math.divide(1.,grid_size)\n",
    "    #print(pixel_per_grid)\n",
    "    \n",
    "    #Obtenemos la coordenada de la celda donde están los boundingboxes\n",
    "    offset_grid_x = x_global//pixel_per_grid\n",
    "    offset_grid_y = y_global//pixel_per_grid\n",
    "    \n",
    "    #Obtenemos el el centro locacon referencia  al celda encontrada previamente\n",
    "    x_local =tf.math.floormod(x_global,pixel_per_grid)\n",
    "    y_local =tf.math.floormod(y_global,pixel_per_grid)\n",
    "    #print(x_local,y_local)\n",
    "    \n",
    "    #Valores tx e ty del groudtruth\n",
    "    tx = tf.math.log(x_local + 1e-07/(1-x_local))\n",
    "    ty = tf.math.log(y_local+1e-07/(1-y_local))\n",
    "    tw = tf.math.log(tf.math.divide(width+1e-07,width_anchor))\n",
    "    th = tf.math.log(tf.math.divide(height+1e-07,height_anchor))\n",
    "    tobj_mask = tf.ones_like(tx)\n",
    "    tobj = tf.concat([tobj_mask,tobj_mask,tobj_mask],axis=0)\n",
    "    \n",
    "    #tnoobj = tf.zeros_like(tx)    \n",
    "    #tobj = tf.ones((grid_size*grid_size*num_anchors,1))\n",
    "    #tnoobj = tf.zeros((grid_size*grid_size*num_anchors,1))\n",
    "    #print(\"Lo que la red debe predecir\",tx.numpy(),ty.numpy(),tw.numpy(),th.numpy())\n",
    "    #x_global = (offset_grid_x * pixel_per_grid) + tf.math.sigmoid(tx)\n",
    "    #y_global = (offset_grid_y * pixel_per_grid) + tf.math.sigmoid(ty)\n",
    "    #w = width_anchor*tf.math.exp(tw)\n",
    "    #h = height_anchor*tf.math.exp(th)\n",
    "    #print(\"obtnemos el x_real\",x_global)\n",
    "    #print(\"obtenemos el y_real\",y_global)\n",
    "    #print(\"obtenemos el w real\",w)\n",
    "    #print(\"obtenemos el h real\",h)\n",
    "    \n",
    "    #anchor_boxes_per_output = num_anchors//2\n",
    "\n",
    "    #Residuo indica cual de los 3 anchor boxes de la coordenada es la que llevara el 1\n",
    "    #Coord representa la coordenada del grid\n",
    "    \n",
    "    residuo = tf.math.floormod(which_anchor_box_index,num_anchors)[:,tf.newaxis]\n",
    "    coord = tf.cast(num_anchors*(offset_grid_y*grid_size + offset_grid_x),dtype=tf.int64)\n",
    "    \n",
    "    coord_objectness = tf.cast(num_anchors*(offset_grid_y*grid_size + offset_grid_x),dtype=tf.int64)\n",
    "    coord_objectness2 = coord_objectness+1\n",
    "    coord_objectness3 = coord_objectness+2\n",
    "    coord_objectess_global = tf.concat([coord_objectness,coord_objectness2,coord_objectness3],axis=0)\n",
    "    \n",
    "    output_position = residuo+coord\n",
    "    print(\"tipo de aoutput_positivon\",output_position)\n",
    "    \n",
    "    print(output_position)\n",
    "    \n",
    "    dense_shape = grid_size*grid_size*num_anchors\n",
    "    print(dense_shape)\n",
    "    tx_vector = tf.sparse.reorder(tf.sparse.SparseTensor(indices=output_position, values=tx[:,0], dense_shape=[dense_shape]))\n",
    "    ty_vector = tf.sparse.reorder(tf.sparse.SparseTensor(indices=output_position, values=ty[:,0], dense_shape=[dense_shape]))\n",
    "    tw_vector = tf.sparse.reorder(tf.sparse.SparseTensor(indices=output_position, values=tw[:,0], dense_shape=[dense_shape]))\n",
    "    th_vector = tf.sparse.reorder(tf.sparse.SparseTensor(indices=output_position, values=th[:,0], dense_shape=[dense_shape]))\n",
    "    obj_mask = tf.sparse.reorder(tf.sparse.SparseTensor(indices=output_position, values=tobj_mask[:,0], dense_shape=[dense_shape]))\n",
    "    objectness_vector = tf.sparse.reorder(tf.sparse.SparseTensor(indices=coord_objectess_global, values=tobj[:,0], dense_shape=[dense_shape]))\n",
    "    #noobj_mask = tf.sparse.reorder(tf.sparse.SparseTensor(indices=output_position, values=tnoobj[:,0], dense_shape=[dense_shape]))\n",
    "    #obj_mask =tx_vector=ty_vector=tw_vector=th_vector = tf.zeros((1,grid_size*grid_size*num_anchors))\n",
    "    \n",
    "    tx_vector_dense = tf.sparse.to_dense(tx_vector, default_value=0, validate_indices=False, name=\"Dense_tx\")\n",
    "    ty_vector_dense = tf.sparse.to_dense(ty_vector, default_value=0, validate_indices=False, name=\"Dense_ty\")\n",
    "    tw_vector_dense = tf.sparse.to_dense(tw_vector, default_value=0, validate_indices=False, name=\"Dense_tw\")\n",
    "    th_vector_dense = tf.sparse.to_dense(th_vector, default_value=0, validate_indices=False, name=\"Dense_th\")\n",
    "    obj_mask_dense =  tf.sparse.to_dense(obj_mask, default_value=0, validate_indices=False, name=\"Dense_obj\")\n",
    "    #noobj_mask_dense = 1-obj_mask_dense\n",
    "    objectness_vector_dense =  tf.sparse.to_dense(objectness_vector, default_value=0, validate_indices=False)\n",
    "    \n",
    "    #noobj_mask_dense= tf.sparse.to_dense(noobj_mask, default_value=1, validate_indices=False, name=\"Dense_noobj\")\n",
    "    ##print(tx_vector.to_dense)\n",
    "    #print(tf.sparse.to_dense(tx_vector, default_value=0, validate_indices=True, name=None)\n",
    "    #tx_vector=tx_vector[[3,2],]\n",
    "    #tx_vector[output_position[:,0]] = tx\n",
    "    #print(\"coordenada de la salida:\",output_position)\n",
    "    \n",
    "    #return ((tx_vector_dense,ty_vector_dense,obj_mask_dense),(tw_vector_dense,th_vector_dense,obj_mask_dense),(objectness),(objectness))\n",
    "    \n",
    "    return tx_vector_dense,ty_vector_dense,tw_vector_dense,th_vector_dense,obj_mask_dense,objectness_vector_dense\n",
    "\n",
    "def build_targets(image,image_bboxes,num_real_boxes,anchor_boxes):\n",
    "    \n",
    "    images_bboxes_original = image_bboxes\n",
    "    #Obtenemos los boduing boxes que son reales\n",
    "    image_bboxes = image_bboxes[:num_real_boxes,:]\n",
    "    #print(\"Bouding boxes de la imagen\",image_bboxes)\n",
    "    #Obteneos  la matriz de IoU , y el índice del anchor box que dió mejor resultado\n",
    "    \n",
    "    #Nprmalizamos con respecto al tamaño de la imagen y obtenemos la Iou con los anchor boxes\n",
    "    image_bboxes = tf.math.divide(image_bboxes,416)\n",
    "    iou_matrix,which_anchor_box_index = get_iou_matrix_tf(image_bboxes,anchor_boxes)\n",
    "    \n",
    "    print(which_anchor_box_index)\n",
    "\n",
    "    anchor_boxes_per_output = len(anchor_boxes)//2\n",
    "    #Indices de los bouding boxes que irian en cada salida, index_best_ yolo nos dice que bouding boxes de la imagen van a la salida YOLO1,\n",
    "    #porque su mejor IoU fue con los len(anchor_boxes)//2 anchor boxes mas grandes\n",
    "    index_best_yolo1 = tf.where(which_anchor_box_index>=anchor_boxes_per_output)[:,0]\n",
    "    index_best_yolo2 = tf.where(which_anchor_box_index<anchor_boxes_per_output)[:,0]\n",
    "    index_best_anchor_yolo1 = tf.gather(which_anchor_box_index,index_best_yolo1,axis=0)\n",
    "    index_best_anchor_yolo2 = tf.gather(which_anchor_box_index,index_best_yolo2,axis=0)\n",
    "    \n",
    "    print(index_best_yolo1)\n",
    "    print(index_best_anchor_yolo1)\n",
    "\n",
    "    print(index_best_yolo2)\n",
    "    print(index_best_anchor_yolo2)\n",
    "\n",
    "    \n",
    "    best_bboxes_yolo1 = tf.gather(image_bboxes,index_best_yolo1,axis =0)\n",
    "    best_anchors_yolo1 = tf.gather(anchor_boxes,index_best_anchor_yolo1, axis =0) #LOs dos anchor boxes grandes corrsponden a YOLO1\n",
    "    best_bboxes_yolo2 = tf.gather(image_bboxes,index_best_yolo2,axis =0)\n",
    "    best_anchors_yolo2 = tf.gather(anchor_boxes,index_best_anchor_yolo2, axis =0) #Los dos anchor boxes pequeños corresponden a YOLO2\n",
    "    \n",
    "    \n",
    "    if best_anchors_yolo1.shape[0] !=0:\n",
    "        tx_vector_yolo1,ty_vector_yolo1,tw_vector_yolo1,th_vector_yolo1,obj_mask_yolo1,obj_vector_yolo1= fill_yolo_output(best_bboxes_yolo1,13,anchor_boxes_per_output,best_anchors_yolo1,index_best_anchor_yolo1)\n",
    "    else:\n",
    "        tx_vector_yolo1=ty_vector_yolo1=tw_vector_yolo1=th_vector_yolo1=obj_mask_yolo1= obj_vector_yolo1=tf.zeros((1,grid_size*grid_size*num_anchors))\n",
    "        #noobj_mask_yolo1 = tf.ones((1,13*13*num_anchors))\n",
    "    \n",
    "    if best_anchors_yolo2.shape[0] != 0:\n",
    "        tx_vector_yolo2,ty_vector_yolo2,tw_vector_yolo2,th_vector_yolo2,obj_mask_yolo2,obj_vector_yolo2 = fill_yolo_output(best_bboxes_yolo2,26,anchor_boxes_per_output,best_anchors_yolo2,index_best_anchor_yolo2)\n",
    "    else:\n",
    "        tx_vector_yolo2=ty_vector_yolo2=tw_vector_yolo2=th_vector_yolo2=obj_mask_yolo2 = obj_vector_yolo2=tf.zeros((1,grid_size*grid_size*num_anchors))\n",
    "        #noobj_mask_yolo2 = tf.ones((1,26*26*num_anchors))\n",
    "        \n",
    "    tx_vector = tf.concat([tx_vector_yolo1,tx_vector_yolo2],axis=0)[:,tf.newaxis]\n",
    "    ty_vector = tf.concat([ty_vector_yolo1,ty_vector_yolo2],axis=0)[:,tf.newaxis]\n",
    "    tw_vector = tf.concat([tw_vector_yolo1,tw_vector_yolo2],axis=0)[:,tf.newaxis]\n",
    "    th_vector = tf.concat([th_vector_yolo1,th_vector_yolo2],axis=0)[:,tf.newaxis]\n",
    "    obj_mask = tf.concat([obj_mask_yolo1,obj_mask_yolo2],axis=0)[:,tf.newaxis]\n",
    "    #noobj_mask = tf.concat([noobj_mask_yolo1,noobj_mask_yolo2],axis=0)[:,tf.newaxis]\n",
    "    obj_vector = tf.concat([obj_vector_yolo1,obj_vector_yolo2],axis=0)[:,tf.newaxis]\n",
    "    \n",
    "    #output = tf.concat([tx_vector,ty_vector,tw_vector,th_vector,obj_mask,noobj_mask,obj_vector],axis=1)\n",
    "    #images_bboxes_original\n",
    "    #return image,output\n",
    "    #Vamos a regresar obj mask que es 1 cuando hay objeto en grid y el anchor box especifico\n",
    "    return tf.cast(image,tf.float32)/255,(tf.concat([tx_vector,ty_vector,obj_mask],axis=1),tf.concat([tw_vector,th_vector,obj_mask],axis=1),(obj_mask),(obj_mask))\n",
    "    #return tf.cast(image,tf.float32)/255,(tf.concat([tx_vector,ty_vector,obj_mask],axis=1),tf.concat([tw_vector,th_vector,obj_mask],axis=1),(obj_vector),(obj_vector))\n",
    "\n",
    "\n",
    "def imgaug_data_augmentation(image,bboxes,num_real_boxes):\n",
    "    im_shape = image.shape\n",
    "    bbs = BoundingBoxesOnImage.from_xyxy_array(bboxes*416, shape=(416,416))\n",
    "    \n",
    "    policy = np.random.randint(5)\n",
    "    \n",
    "    #policy = 2\n",
    "    if policy == 0:\n",
    "        \n",
    "        p = np.random.random()\n",
    "        if p<=0.6:\n",
    "            aug = iaa.TranslateX(px=(-60, 60),cval=128)\n",
    "            image, bbs = aug(image=image, bounding_boxes=bbs)\n",
    "            #bbs.remove_out_of_image().clip_out_of_image()\n",
    "    \n",
    "        p = np.random.random()\n",
    "        if p<=0.8:\n",
    "            aug = iaa.HistogramEqualization()\n",
    "            image, bbs = aug(image=image, bounding_boxes=bbs)\n",
    "            #bbs.remove_out_of_image().clip_out_of_image()\n",
    "    \n",
    "    elif policy==1:\n",
    "        \n",
    "        p=np.random.random()\n",
    "        if p<=0.2:\n",
    "            aug = iaa.TranslateY(px=(int(-0.18*416), int(0.18*416)),cval=128)\n",
    "            for i in bbs.to_xyxy_array(np.int32)[:num_real_boxes,:]:\n",
    "                bbox = image[i[1]:i[3],i[0]:i[2]]\n",
    "                bbox_augmented = aug(image=bbox)\n",
    "                image[i[1]:i[3],i[0]:i[2]] = bbox_augmented\n",
    "        \n",
    "        p=np.random.random()\n",
    "        if p<=0.8:\n",
    "            square_size = np.random.randint(48)\n",
    "            aug = iaa.Cutout(nb_iterations=1, size=square_size/416, squared=True)\n",
    "            image, bbs = aug(image=image, bounding_boxes=bbs)\n",
    "            #bbs.remove_out_of_image().clip_out_of_image()\n",
    "            \n",
    "    elif policy==2:\n",
    "        p=np.random.random()\n",
    "        if p<=1:\n",
    "            aug = iaa.ShearY(shear=(int(-0.06*416), int(0.06*416)), order=1, cval=128)\n",
    "            image, bbs = aug(image=image, bounding_boxes=bbs)\n",
    "            #bbs.remove_out_of_image().clip_out_of_image()\n",
    "            \n",
    "        p=np.random.random()\n",
    "        if p<=0.6:\n",
    "            aug = iaa.TranslateY(px=(int(-0.18*416), int(0.18*416)),cval=128)\n",
    "            for i in bbs.to_xyxy_array(np.int32)[:num_real_boxes,:]:\n",
    "                bbox = image[i[1]:i[3],i[0]:i[2]]\n",
    "                bbox_augmented = aug(image=bbox)\n",
    "                image[i[1]:i[3],i[0]:i[2]] = bbox_augmented\n",
    "            \n",
    "    elif policy==3:\n",
    "        p=np.random.random()\n",
    "        if p<=0.6:    \n",
    "            aug = iaa.Rotate(rotate=(-30, 30), order=1, cval=128)\n",
    "            image, bbs = aug(image=image, bounding_boxes=bbs)\n",
    "            #bbs_aug.remove_out_of_image().clip_out_of_image()\n",
    "        \n",
    "        p=np.random.random()\n",
    "        if p<=1:\n",
    "            aug = iaa.MultiplySaturation((0.54, 1.54))\n",
    "            image, bbs = aug(image=image, bounding_boxes=bbs)\n",
    "            #bbs.remove_out_of_image().clip_out_of_image()\n",
    "            \n",
    "    bbs.remove_out_of_image()\n",
    "    \n",
    "    return image,np.clip(bbs.to_xyxy_array(np.float32),1,415),num_real_boxes\n",
    "    \n",
    "    \n",
    "def preprocessing(example_proto):\n",
    "    image_features = tf.io.parse_single_example(example_proto, image_feature_description)\n",
    "    image = tf.image.decode_jpeg(image_features['image_raw'],channels = 3)\n",
    "    image = tf.cast(tf.image.resize(image,size=(416,416)), tf.uint8)\n",
    "    bboxes =  tf.io.parse_tensor(image_features['bboxes'], out_type=tf.float32)\n",
    "    \n",
    "    num_real_boxes = image_features['num_real_boxes']\n",
    "    return image,bboxes,num_real_boxes\n",
    "\n",
    "def preprocessing_validation_set(example_proto):\n",
    "    image_features = tf.io.parse_single_example(example_proto, image_feature_description)\n",
    "    image = tf.image.decode_jpeg(image_features['image_raw'],channels = 3)\n",
    "    image = tf.cast(tf.image.resize(image,size=(416,416)), tf.uint8)\n",
    "    bboxes =  tf.io.parse_tensor(image_features['bboxes'], out_type=tf.float32)\n",
    "    bboxes = tf.clip_by_value(bboxes*416,1,415)\n",
    "    \n",
    "    num_real_boxes = image_features['num_real_boxes']\n",
    "    return image,bboxes,tf.cast(num_real_boxes,tf.int64)\n",
    "    \n",
    "@tf.function(input_signature=[tf.TensorSpec((416,416,3), tf.uint8),tf.TensorSpec((None,4), tf.float32),tf.TensorSpec((), tf.int64)]) \n",
    "def tf_numpy_albumentations_real(image,bboxes,num_real_boxes):\n",
    "    \n",
    "    boxes_shape = bboxes.shape\n",
    "    im_shape = image.shape\n",
    "\n",
    "    image,bboxes,num_real_boxes = tf.numpy_function(imgaug_data_augmentation,[image,bboxes,num_real_boxes],Tout =[tf.uint8,tf.float32,tf.int64])\n",
    " \n",
    "    image.set_shape(im_shape)\n",
    "    bboxes.set_shape(boxes_shape)\n",
    "    print(\"Imagen data type\",image.dtype)\n",
    "    print(\"Bboxes data type\",bboxes.dtype)\n",
    "    print(\"num_real_boxes\",num_real_boxes.dtype)\n",
    "\n",
    "    return image,bboxes,num_real_boxes"
   ]
  },
  {
   "cell_type": "code",
   "execution_count": 4,
   "metadata": {},
   "outputs": [
    {
     "name": "stdout",
     "output_type": "stream",
     "text": [
      "Imagen data type <dtype: 'uint8'>\n",
      "Bboxes data type <dtype: 'float32'>\n",
      "num_real_boxes <dtype: 'int64'>\n",
      "Tensor(\"ArgMax:0\", shape=(None,), dtype=int64)\n",
      "Tensor(\"strided_slice_2:0\", shape=(None,), dtype=int64)\n",
      "Tensor(\"GatherV2:0\", shape=(None,), dtype=int64)\n",
      "Tensor(\"strided_slice_3:0\", shape=(None,), dtype=int64)\n",
      "Tensor(\"GatherV2_1:0\", shape=(None,), dtype=int64)\n",
      "tipo de aoutput_positivon Tensor(\"add_19:0\", shape=(None, 1), dtype=int64)\n",
      "Tensor(\"add_19:0\", shape=(None, 1), dtype=int64)\n",
      "507\n",
      "tipo de aoutput_positivon Tensor(\"add_32:0\", shape=(None, 1), dtype=int64)\n",
      "Tensor(\"add_32:0\", shape=(None, 1), dtype=int64)\n",
      "2028\n",
      "Tensor(\"ArgMax:0\", dtype=int64)\n",
      "Tensor(\"strided_slice_2:0\", shape=(None,), dtype=int64)\n",
      "Tensor(\"GatherV2:0\", dtype=int64)\n",
      "Tensor(\"strided_slice_3:0\", shape=(None,), dtype=int64)\n",
      "Tensor(\"GatherV2_1:0\", dtype=int64)\n",
      "tipo de aoutput_positivon Tensor(\"add_19:0\", dtype=int64)\n",
      "Tensor(\"add_19:0\", dtype=int64)\n",
      "507\n",
      "tipo de aoutput_positivon Tensor(\"add_32:0\", dtype=int64)\n",
      "Tensor(\"add_32:0\", dtype=int64)\n",
      "2028\n"
     ]
    }
   ],
   "source": [
    "#USANDO TF.IMAGE MODULE\n",
    "#anchors =tf.constant(np.array([[0,0,0.015,0.037],[0,0,0.043,0.104],[0,0,0.11,0.278],[0,0,0.351,0.66]]),dtype=tf.float32)\n",
    "#anchors =tf.constant(np.array([[0,0,0.026,0.062],[0,0,0.067,0.183],[0,0,0.128,0.323],[0,0,0.343,0.650]]),dtype=tf.float32)\n",
    "#anchors =tf.constant(np.array([[0,0,0.02078,0.049],[0,0,0.0426,0.128],[0,0,0.08523,0.19356],[0,0,0.1506,0.4163],[0,0,0.27835,0.58651],[0,0,0.5632,0.78614]]),dtype=tf.float32)\n",
    "\n",
    "#original anchors\n",
    "anchors =tf.constant(np.array([[0,0,10/416,14/416],[0,0,23/416,27/416],[0,0,37/416,58/416],[0,0,81/416,82/416],[0,0,135/416,169/416],[0,0,344/416,319/416]]),dtype=tf.float32)\n",
    "\n",
    "os.chdir(\"/home/sergio/Documents/pedestrian_dataset_train_tfr\")\n",
    "filenames = os. listdir()\n",
    "raw_image_dataset = tf.data.TFRecordDataset(filenames)\n",
    "\n",
    "os.chdir(\"/home/sergio/Documents/pedestrian_dataset_val_tfr\")\n",
    "filenames = os. listdir()\n",
    "raw_image_dataset_val =tf.data.TFRecordDataset(filenames)\n",
    "\n",
    "os.chdir(\"/home/sergio/Documents/pedestrian_dataset_train_tfr\")\n",
    "#.shuffle(70000)\n",
    "train_dataset = raw_image_dataset.map(preprocessing,num_parallel_calls=8)\n",
    "train_dataset = train_dataset.map(tf_numpy_albumentations_real,num_parallel_calls=8)\n",
    "train_dataset = train_dataset.map(lambda x,y,z:build_targets(x,y,z,anchors),num_parallel_calls=8)\n",
    "train_dataset = train_dataset.batch(16)\n",
    "\n",
    "val_dataset = raw_image_dataset_val.map(preprocessing_validation_set,num_parallel_calls=8)\n",
    "val_dataset = val_dataset.map(lambda x,y,z:build_targets(x,y,z,anchors),num_parallel_calls=8)\n",
    "val_dataset = val_dataset.batch(16)"
   ]
  },
  {
   "cell_type": "code",
   "execution_count": null,
   "metadata": {},
   "outputs": [],
   "source": []
  },
  {
   "cell_type": "code",
   "execution_count": 5,
   "metadata": {},
   "outputs": [
    {
     "data": {
      "text/plain": [
       "'\\ndef loss_bce_objectness(y_true,y_pred):\\n    #bce = BinaryCrossentropy(reduction=tf.keras.losses.Reduction.NONE)\\n    #tw_true,th_true,obj_mask = tf.split(y_true, [1,1,1], axis=-1)\\n    #tw_pred,th_pred = tf.split(y_pred, [1,1], axis=-1)   \\n    \\n    loss_obj =tf.reduce_mean(tf.reduce_sum( y_true*tf.math.log(y_pred+1e-7)[:,tf.newaxis],axis=1))\\n    \\n    return loss_obj\\n\\ndef loss_bce_no_objectness(y_true,y_pred):\\n    #bce = BinaryCrossentropy(reduction=tf.keras.losses.Reduction.NONE)\\n    loss_noobj =tf.reduce_mean(tf.reduce_sum((1-y_true)*tf.math.log(1-y_pred+1e-7)[:,tf.newaxis],axis=1))\\n    \\n    return loss_noobj\\n'"
      ]
     },
     "execution_count": 5,
     "metadata": {},
     "output_type": "execute_result"
    }
   ],
   "source": [
    "from tensorflow.keras.losses import Loss,BinaryCrossentropy,MeanSquaredError,MeanSquaredLogarithmicError\n",
    "'''\n",
    "def loss_wh(y_true,y_pred):\n",
    "\n",
    "    mse = MeanSquaredError(reduction=tf.keras.losses.Reduction.NONE)\n",
    "    \n",
    "    tw_true,th_true,obj_mask = tf.split(y_true, [1,1,1], axis=-1)\n",
    "    tw_pred,th_pred = tf.split(y_pred, [1,1], axis=-1)\n",
    "    \n",
    "    #print(tf.math.square(tw_true-tw_pred))\n",
    "\n",
    "    \n",
    "    loss_w = tf.reduce_mean(tf.reduce_sum(obj_mask*(mse(tf.math.exp(tw_true),tf.math.exp(tw_pred))[:,:,tf.newaxis]),axis=1))\n",
    "    loss_h = tf.reduce_mean(tf.reduce_sum(obj_mask*(mse(tf.math.exp(th_true),tf.math.exp(th_pred))[:,:,tf.newaxis]),axis=1))\n",
    "\n",
    "\n",
    "    return loss_w+loss_h\n",
    "\n",
    "def loss_wh(y_true,y_pred):\n",
    "    \n",
    "    mse = MeanSquaredError(reduction=tf.keras.losses.Reduction.NONE)\n",
    "    \n",
    "    tw_true,th_true,obj_mask = tf.split(y_true, [1,1,1], axis=-1)\n",
    "    tw_pred,th_pred = tf.split(y_pred, [1,1], axis=-1)\n",
    "    \n",
    "    loss_w = tf.reduce_mean(tf.reduce_sum(obj_mask*(mse(tw_true,tw_pred)[:,:,tf.newaxis]),axis=1))\n",
    "    loss_h = tf.reduce_mean(tf.reduce_sum(obj_mask*(mse(th_true,th_pred)[:,:,tf.newaxis]),axis=1))\n",
    "\n",
    "\n",
    "    return loss_w+loss_h\n",
    "\n",
    "\n",
    "def loss_xy(y_true,y_pred):\n",
    "    \n",
    "    msle = MeanSquaredLogarithmicError(reduction=tf.keras.losses.Reduction.NONE)\n",
    "\n",
    "    tx_true,ty_true,obj_mask = tf.split(y_true, [1,1,1], axis=-1)\n",
    "    tx_pred,ty_pred = tf.split(y_pred, [1,1], axis=-1)\n",
    "    \n",
    "    #print(tf.math.square(tx_true-tx_pred))  \n",
    "    \n",
    "    loss_x = tf.reduce_mean(tf.reduce_sum(obj_mask*(msle(tx_true,tx_pred)[:,:,tf.newaxis]),axis=1))\n",
    "    loss_y = tf.reduce_mean(tf.reduce_sum(obj_mask*(msle(ty_true,ty_pred)[:,:,tf.newaxis]),axis=1))\n",
    "\n",
    "    return loss_x+loss_y\n",
    "\n",
    "def loss_wh(y_true,y_pred):\n",
    "\n",
    "    msle = MeanSquaredLogarithmicError(reduction=tf.keras.losses.Reduction.NONE)\n",
    "    \n",
    "    tw_true,th_true,obj_mask = tf.split(y_true, [1,1,1], axis=-1)\n",
    "    tw_pred,th_pred = tf.split(y_pred, [1,1], axis=-1)\n",
    "    \n",
    "    #print(tf.math.square(tw_true-tw_pred))\n",
    "\n",
    "    \n",
    "    loss_w = tf.reduce_mean(tf.reduce_sum(obj_mask*(msle(tw_true,tw_pred)[:,:,tf.newaxis]),axis=1))\n",
    "    loss_h = tf.reduce_mean(tf.reduce_sum(obj_mask*(msle(th_true,th_pred)[:,:,tf.newaxis]),axis=1))\n",
    "\n",
    "\n",
    "    return loss_w+loss_h\n",
    "\n",
    "\n",
    "def loss_xy(y_true,y_pred):\n",
    "    \n",
    "    msle = MeanSquaredLogarithmicError(reduction=tf.keras.losses.Reduction.NONE)\n",
    "\n",
    "    tx_true,ty_true,obj_mask = tf.split(y_true, [1,1,1], axis=-1)\n",
    "    tx_pred,ty_pred = tf.split(y_pred, [1,1], axis=-1)\n",
    "    \n",
    "    #print(tf.math.square(tx_true-tx_pred))  \n",
    "    \n",
    "    loss_x = tf.reduce_mean(tf.reduce_sum(obj_mask*(msle(tx_true,tx_pred)[:,:,tf.newaxis]),axis=1))\n",
    "    loss_y = tf.reduce_mean(tf.reduce_sum(obj_mask*(msle(ty_true,ty_pred)[:,:,tf.newaxis]),axis=1))\n",
    "\n",
    "    return loss_x+loss_y\n",
    "'''\n",
    "\n",
    "def loss_xy(y_true,y_pred):\n",
    "    \n",
    "    mse = MeanSquaredError(reduction=tf.keras.losses.Reduction.NONE)\n",
    "    \n",
    "    tx_true,ty_true,obj_mask = tf.split(y_true, [1,1,1], axis=-1)\n",
    "    tx_pred,ty_pred = tf.split(y_pred, [1,1], axis=-1)\n",
    "    \n",
    "    loss_x = tf.reduce_mean(tf.reduce_sum(obj_mask*(mse(tx_true,tx_pred)[:,:,tf.newaxis]),axis=1))\n",
    "    loss_y = tf.reduce_mean(tf.reduce_sum(obj_mask*(mse(ty_true,ty_pred)[:,:,tf.newaxis]),axis=1))\n",
    "\n",
    "    return loss_x+loss_y\n",
    "\n",
    "\n",
    "\n",
    "def loss_wh(y_true,y_pred):\n",
    "    \n",
    "    mse = MeanSquaredError(reduction=tf.keras.losses.Reduction.NONE)\n",
    "    \n",
    "    tw_true,th_true,obj_mask = tf.split(y_true, [1,1,1], axis=-1)\n",
    "    tw_pred,th_pred = tf.split(y_pred, [1,1], axis=-1)\n",
    "    \n",
    "    loss_w = tf.reduce_mean(tf.reduce_sum(obj_mask*(mse(tw_true,tw_pred)[:,:,tf.newaxis]),axis=1))\n",
    "    loss_h = tf.reduce_mean(tf.reduce_sum(obj_mask*(mse(th_true,th_pred)[:,:,tf.newaxis]),axis=1))\n",
    "\n",
    "\n",
    "    return loss_w+loss_h\n",
    "\n",
    "def loss_objectness(y_true,y_pred):\n",
    "    bce = BinaryCrossentropy(reduction=tf.keras.losses.Reduction.NONE)\n",
    "    \n",
    "    #tw_true,th_true,obj_mask = tf.split(y_true, [1,1,1], axis=-1)\n",
    "    #tw_pred,th_pred = tf.split(y_pred, [1,1], axis=-1)   \n",
    "    \n",
    "    loss_obj =tf.reduce_mean(tf.reduce_sum( y_true*bce(y_true,y_pred)[:,tf.newaxis],axis=1))\n",
    "    \n",
    "    return loss_obj\n",
    "\n",
    "def loss_no_objectness(y_true,y_pred):\n",
    "    bce = BinaryCrossentropy(reduction=tf.keras.losses.Reduction.NONE)\n",
    "    \n",
    "    \n",
    "    loss_noobj =tf.reduce_mean(tf.reduce_sum((1-y_true)*bce(y_true,y_pred)[:,tf.newaxis],axis=1))\n",
    "    \n",
    "    return loss_noobj\n",
    "'''\n",
    "def loss_bce_objectness(y_true,y_pred):\n",
    "    #bce = BinaryCrossentropy(reduction=tf.keras.losses.Reduction.NONE)\n",
    "    #tw_true,th_true,obj_mask = tf.split(y_true, [1,1,1], axis=-1)\n",
    "    #tw_pred,th_pred = tf.split(y_pred, [1,1], axis=-1)   \n",
    "    \n",
    "    loss_obj =tf.reduce_mean(tf.reduce_sum( y_true*tf.math.log(y_pred+1e-7)[:,tf.newaxis],axis=1))\n",
    "    \n",
    "    return loss_obj\n",
    "\n",
    "def loss_bce_no_objectness(y_true,y_pred):\n",
    "    #bce = BinaryCrossentropy(reduction=tf.keras.losses.Reduction.NONE)\n",
    "    loss_noobj =tf.reduce_mean(tf.reduce_sum((1-y_true)*tf.math.log(1-y_pred+1e-7)[:,tf.newaxis],axis=1))\n",
    "    \n",
    "    return loss_noobj\n",
    "'''"
   ]
  },
  {
   "cell_type": "markdown",
   "metadata": {},
   "source": [
    "## Training with Model.fit()"
   ]
  },
  {
   "cell_type": "code",
   "execution_count": 18,
   "metadata": {},
   "outputs": [
    {
     "name": "stdout",
     "output_type": "stream",
     "text": [
      "Modo entrenamiento\n",
      "Pesos de la convolucion (432,)\n",
      "CONV SHAPE (16, 3, 3, 3)\n",
      "Pesos de la convolucion (4608,)\n",
      "CONV SHAPE (32, 16, 3, 3)\n",
      "Pesos de la convolucion (18432,)\n",
      "CONV SHAPE (64, 32, 3, 3)\n",
      "Pesos de la convolucion (73728,)\n",
      "CONV SHAPE (128, 64, 3, 3)\n",
      "Pesos de la convolucion (294912,)\n",
      "CONV SHAPE (256, 128, 3, 3)\n",
      "Pesos de la convolucion (1179648,)\n",
      "CONV SHAPE (512, 256, 3, 3)\n",
      "Pesos de la convolucion (4718592,)\n",
      "CONV SHAPE (1024, 512, 3, 3)\n",
      "Pesos de la convolucion (262144,)\n",
      "CONV SHAPE (256, 1024, 1, 1)\n",
      "Pesos de la convolucion (1179648,)\n",
      "CONV SHAPE (512, 256, 3, 3)\n",
      "Pesos de la convolucion (130560,)\n",
      "CONV SHAPE (255, 512, 1, 1)\n",
      "Pesos de la convolucion (32768,)\n",
      "CONV SHAPE (128, 256, 1, 1)\n",
      "Pesos de la convolucion (884736,)\n",
      "CONV SHAPE (256, 384, 3, 3)\n",
      "Pesos de la convolucion (65280,)\n",
      "CONV SHAPE (255, 256, 1, 1)\n",
      "8858734\n"
     ]
    }
   ],
   "source": [
    "#anchors =tf.constant(np.array([[0.026,0.062],[0.067,0.183],[0.128,0.323],[0.343,0.650]]),dtype=tf.float32)\n",
    "#anchors =tf.constant(np.array([[0,0,0.02078,0.049],[0,0,0.0426,0.128],[0,0,0.08523,0.19356],[0,0,0.1506,0.4163],[0,0,0.27835,0.58651],[0,0,0.5632,0.78614]]),dtype=tf.float32)\n",
    "\n",
    "anchors =tf.constant(np.array([[10/416,14/416],[23/416,27/416],[37/416,58/416],[81/416,82/416],[135/416,169/416],[344/416,319/416]]),dtype=tf.float32)\n",
    "\n",
    "\n",
    "model = TinyYOLOv3(1,anchor_boxes=anchors,train=True,mode = \"finetuning\")\n",
    "model.build(batch_input_shape=(None,416,416,3))\n",
    "print(model.load_weights_darknet(\"/home/sergio/TinyYOLOv3-Pedestrian-Detection/yolov3-tiny.weights\"))"
   ]
  },
  {
   "cell_type": "code",
   "execution_count": 19,
   "metadata": {},
   "outputs": [],
   "source": [
    "tf.random.set_seed(0)\n",
    "\n",
    "from tensorflow.keras.metrics import TrueNegatives,TruePositives,FalseNegatives,FalsePositives,Precision,Recall\n",
    "\n",
    "opt = tf.keras.optimizers.Nadam(learning_rate=1e-4)\n",
    "\n",
    "losses = {\"output_1\": loss_xy,\n",
    "          \"output_2\": loss_wh,\n",
    "          \"output_3\":loss_objectness,\n",
    "          \"output_4\":loss_no_objectness  \n",
    "}\n",
    "\n",
    "metrics = {\"output_3\":[Precision(),Recall(),TrueNegatives(),TruePositives(),FalseNegatives(),FalsePositives()]}\n",
    "model.compile(optimizer=opt, loss=losses,metrics=metrics,loss_weights=[5,5,2,1])\n",
    "os.chdir(\"/home/sergio/Documents/pedestrian_dataset_train_tfr\")"
   ]
  },
  {
   "cell_type": "markdown",
   "metadata": {},
   "source": [
    "## Batch 16, con pesos 5521 with lr=0.0001 y usando msle para el (x,y) y usando mse de las exponenciales para (w,h)con el loss usando OBJECNESS VECTOR NO OBJECTNESS MASK"
   ]
  },
  {
   "cell_type": "code",
   "execution_count": 20,
   "metadata": {},
   "outputs": [
    {
     "name": "stdout",
     "output_type": "stream",
     "text": [
      "Modo entrenamiento\n",
      "Epoch 1/20\n",
      "Modo entrenamiento\n",
      "Modo entrenamiento\n",
      "   4607/Unknown - 599s 130ms/step - loss: 107.2041 - output_1_loss: 6.8570 - output_2_loss: 2.3338 - output_3_loss: 0.1006 - output_4_loss: 61.0491 - output_3_precision_2: 0.0063 - output_3_recall_2: 0.0160 - output_3_true_negatives_2: 185874832.0000 - output_3_true_positives_2: 4337.0000 - output_3_false_negatives_2: 266308.0000 - output_3_false_positives_2: 678912.0000Modo entrenamiento\n",
      "4607/4607 [==============================] - 606s 131ms/step - loss: 107.2041 - output_1_loss: 6.8570 - output_2_loss: 2.3338 - output_3_loss: 0.1006 - output_4_loss: 61.0491 - output_3_precision_2: 0.0063 - output_3_recall_2: 0.0160 - output_3_true_negatives_2: 185874832.0000 - output_3_true_positives_2: 4337.0000 - output_3_false_negatives_2: 266308.0000 - output_3_false_positives_2: 678912.0000 - val_loss: 47.5596 - val_output_1_loss: 5.3416 - val_output_2_loss: 0.9411 - val_output_3_loss: 0.0470 - val_output_4_loss: 16.0521 - val_output_3_precision_2: 0.6906 - val_output_3_recall_2: 0.0316 - val_output_3_true_negatives_2: 7592971.0000 - val_output_3_true_positives_2: 375.0000 - val_output_3_false_negatives_2: 11486.0000 - val_output_3_false_positives_2: 168.0000\n",
      "Epoch 2/20\n",
      "4607/4607 [==============================] - 605s 131ms/step - loss: 51.7451 - output_1_loss: 5.4944 - output_2_loss: 1.8607 - output_3_loss: 0.0431 - output_4_loss: 14.8838 - output_3_precision_2: 0.6220 - output_3_recall_2: 0.0492 - output_3_true_negatives_2: 186545728.0000 - output_3_true_positives_2: 13315.0000 - output_3_false_negatives_2: 257289.0000 - output_3_false_positives_2: 8093.0000 - val_loss: 43.7326 - val_output_1_loss: 5.0805 - val_output_2_loss: 0.7404 - val_output_3_loss: 0.0440 - val_output_4_loss: 14.5402 - val_output_3_precision_2: 0.6672 - val_output_3_recall_2: 0.0680 - val_output_3_true_negatives_2: 7592737.0000 - val_output_3_true_positives_2: 806.0000 - val_output_3_false_negatives_2: 11055.0000 - val_output_3_false_positives_2: 402.0000\n",
      "Epoch 3/20\n",
      "4607/4607 [==============================] - 621s 135ms/step - loss: 48.2428 - output_1_loss: 5.1877 - output_2_loss: 1.6359 - output_3_loss: 0.0413 - output_4_loss: 14.0421 - output_3_precision_2: 0.6290 - output_3_recall_2: 0.0720 - output_3_true_negatives_2: 186542240.0000 - output_3_true_positives_2: 19495.0000 - output_3_false_negatives_2: 251188.0000 - output_3_false_positives_2: 11501.0000 - val_loss: 40.8331 - val_output_1_loss: 4.6679 - val_output_2_loss: 0.6874 - val_output_3_loss: 0.0424 - val_output_4_loss: 13.9720 - val_output_3_precision_2: 0.6557 - val_output_3_recall_2: 0.1012 - val_output_3_true_negatives_2: 7592509.0000 - val_output_3_true_positives_2: 1200.0000 - val_output_3_false_negatives_2: 10661.0000 - val_output_3_false_positives_2: 630.0000\n",
      "Epoch 4/20\n",
      "4607/4607 [==============================] - 583s 127ms/step - loss: 46.9449 - output_1_loss: 5.0490 - output_2_loss: 1.5862 - output_3_loss: 0.0404 - output_4_loss: 13.6882 - output_3_precision_2: 0.6304 - output_3_recall_2: 0.0830 - output_3_true_negatives_2: 186540624.0000 - output_3_true_positives_2: 22478.0000 - output_3_false_negatives_2: 248215.0000 - output_3_false_positives_2: 13177.0000 - val_loss: 39.3668 - val_output_1_loss: 4.4516 - val_output_2_loss: 0.6724 - val_output_3_loss: 0.0414 - val_output_4_loss: 13.6640 - val_output_3_precision_2: 0.6688 - val_output_3_recall_2: 0.1049 - val_output_3_true_negatives_2: 7592523.0000 - val_output_3_true_positives_2: 1244.0000 - val_output_3_false_negatives_2: 10617.0000 - val_output_3_false_positives_2: 616.0000\n",
      "Epoch 5/20\n",
      "4607/4607 [==============================] - 595s 129ms/step - loss: 45.5730 - output_1_loss: 4.8509 - output_2_loss: 1.5592 - output_3_loss: 0.0397 - output_4_loss: 13.4430 - output_3_precision_2: 0.6407 - output_3_recall_2: 0.0919 - output_3_true_negatives_2: 186539888.0000 - output_3_true_positives_2: 24876.0000 - output_3_false_negatives_2: 245845.0000 - output_3_false_positives_2: 13951.0000 - val_loss: 37.6965 - val_output_1_loss: 4.2596 - val_output_2_loss: 0.5721 - val_output_3_loss: 0.0409 - val_output_4_loss: 13.4560 - val_output_3_precision_2: 0.6829 - val_output_3_recall_2: 0.1097 - val_output_3_true_negatives_2: 7592535.0000 - val_output_3_true_positives_2: 1301.0000 - val_output_3_false_negatives_2: 10560.0000 - val_output_3_false_positives_2: 604.0000\n",
      "Epoch 6/20\n",
      "4607/4607 [==============================] - 615s 134ms/step - loss: 44.3960 - output_1_loss: 4.6955 - output_2_loss: 1.5117 - output_3_loss: 0.0392 - output_4_loss: 13.2816 - output_3_precision_2: 0.6446 - output_3_recall_2: 0.0978 - output_3_true_negatives_2: 186539280.0000 - output_3_true_positives_2: 26486.0000 - output_3_false_negatives_2: 244208.0000 - output_3_false_positives_2: 14601.0000 - val_loss: 36.1173 - val_output_1_loss: 3.9980 - val_output_2_loss: 0.5482 - val_output_3_loss: 0.0404 - val_output_4_loss: 13.3057 - val_output_3_precision_2: 0.6818 - val_output_3_recall_2: 0.1165 - val_output_3_true_negatives_2: 7592494.0000 - val_output_3_true_positives_2: 1382.0000 - val_output_3_false_negatives_2: 10479.0000 - val_output_3_false_positives_2: 645.0000\n",
      "Epoch 7/20\n",
      "4607/4607 [==============================] - 621s 135ms/step - loss: 43.5281 - output_1_loss: 4.5456 - output_2_loss: 1.5124 - output_3_loss: 0.0390 - output_4_loss: 13.1605 - output_3_precision_2: 0.6465 - output_3_recall_2: 0.1027 - output_3_true_negatives_2: 186538176.0000 - output_3_true_positives_2: 27797.0000 - output_3_false_negatives_2: 242893.0000 - output_3_false_positives_2: 15198.0000 - val_loss: 35.1761 - val_output_1_loss: 3.8439 - val_output_2_loss: 0.5252 - val_output_3_loss: 0.0403 - val_output_4_loss: 13.2500 - val_output_3_precision_2: 0.6813 - val_output_3_recall_2: 0.1323 - val_output_3_true_negatives_2: 7592405.0000 - val_output_3_true_positives_2: 1569.0000 - val_output_3_false_negatives_2: 10292.0000 - val_output_3_false_positives_2: 734.0000\n",
      "Epoch 8/20\n",
      "4607/4607 [==============================] - 618s 134ms/step - loss: 42.6407 - output_1_loss: 4.4271 - output_2_loss: 1.4691 - output_3_loss: 0.0387 - output_4_loss: 13.0820 - output_3_precision_2: 0.6500 - output_3_recall_2: 0.1066 - output_3_true_negatives_2: 186538288.0000 - output_3_true_positives_2: 28854.0000 - output_3_false_negatives_2: 241893.0000 - output_3_false_positives_2: 15538.0000 - val_loss: 33.7596 - val_output_1_loss: 3.6211 - val_output_2_loss: 0.4963 - val_output_3_loss: 0.0399 - val_output_4_loss: 13.0929 - val_output_3_precision_2: 0.6878 - val_output_3_recall_2: 0.1217 - val_output_3_true_negatives_2: 7592484.0000 - val_output_3_true_positives_2: 1443.0000 - val_output_3_false_negatives_2: 10418.0000 - val_output_3_false_positives_2: 655.0000\n",
      "Epoch 9/20\n",
      "4607/4607 [==============================] - 624s 135ms/step - loss: 41.6577 - output_1_loss: 4.2897 - output_2_loss: 1.4318 - output_3_loss: 0.0384 - output_4_loss: 12.9738 - output_3_precision_2: 0.6487 - output_3_recall_2: 0.1105 - output_3_true_negatives_2: 186537632.0000 - output_3_true_positives_2: 29918.0000 - output_3_false_negatives_2: 240713.0000 - output_3_false_positives_2: 16199.0000 - val_loss: 32.7198 - val_output_1_loss: 3.4734 - val_output_2_loss: 0.4439 - val_output_3_loss: 0.0397 - val_output_4_loss: 13.0537 - val_output_3_precision_2: 0.7011 - val_output_3_recall_2: 0.1214 - val_output_3_true_negatives_2: 7592525.0000 - val_output_3_true_positives_2: 1440.0000 - val_output_3_false_negatives_2: 10421.0000 - val_output_3_false_positives_2: 614.0000\n",
      "Epoch 10/20\n",
      "4607/4607 [==============================] - 620s 135ms/step - loss: 40.6674 - output_1_loss: 4.1593 - output_2_loss: 1.3767 - output_3_loss: 0.0383 - output_4_loss: 12.9112 - output_3_precision_2: 0.6523 - output_3_recall_2: 0.1145 - output_3_true_negatives_2: 186536832.0000 - output_3_true_positives_2: 31007.0000 - output_3_false_negatives_2: 239763.0000 - output_3_false_positives_2: 16530.0000 - val_loss: 32.1990 - val_output_1_loss: 3.3097 - val_output_2_loss: 0.5232 - val_output_3_loss: 0.0395 - val_output_4_loss: 12.9553 - val_output_3_precision_2: 0.6761 - val_output_3_recall_2: 0.1376 - val_output_3_true_negatives_2: 7592357.0000 - val_output_3_true_positives_2: 1632.0000 - val_output_3_false_negatives_2: 10229.0000 - val_output_3_false_positives_2: 782.0000\n",
      "Epoch 11/20\n",
      "4607/4607 [==============================] - 609s 132ms/step - loss: 39.9138 - output_1_loss: 4.0750 - output_2_loss: 1.3291 - output_3_loss: 0.0380 - output_4_loss: 12.8176 - output_3_precision_2: 0.6513 - output_3_recall_2: 0.1181 - output_3_true_negatives_2: 186536560.0000 - output_3_true_positives_2: 31968.0000 - output_3_false_negatives_2: 238770.0000 - output_3_false_positives_2: 17116.0000 - val_loss: 30.8292 - val_output_1_loss: 3.1240 - val_output_2_loss: 0.4579 - val_output_3_loss: 0.0390 - val_output_4_loss: 12.8417 - val_output_3_precision_2: 0.6720 - val_output_3_recall_2: 0.1427 - val_output_3_true_negatives_2: 7592313.0000 - val_output_3_true_positives_2: 1692.0000 - val_output_3_false_negatives_2: 10169.0000 - val_output_3_false_positives_2: 826.0000\n",
      "Epoch 12/20\n",
      "4607/4607 [==============================] - 595s 129ms/step - loss: 39.4765 - output_1_loss: 3.9851 - output_2_loss: 1.3463 - output_3_loss: 0.0378 - output_4_loss: 12.7442 - output_3_precision_2: 0.6522 - output_3_recall_2: 0.1212 - output_3_true_negatives_2: 186535616.0000 - output_3_true_positives_2: 32815.0000 - output_3_false_negatives_2: 237933.0000 - output_3_false_positives_2: 17496.0000 - val_loss: 29.8979 - val_output_1_loss: 2.9546 - val_output_2_loss: 0.4623 - val_output_3_loss: 0.0388 - val_output_4_loss: 12.7357 - val_output_3_precision_2: 0.6786 - val_output_3_recall_2: 0.1486 - val_output_3_true_negatives_2: 7592304.0000 - val_output_3_true_positives_2: 1763.0000 - val_output_3_false_negatives_2: 10098.0000 - val_output_3_false_positives_2: 835.0000\n",
      "Epoch 13/20\n",
      "4607/4607 [==============================] - 595s 129ms/step - loss: 38.5635 - output_1_loss: 3.8936 - output_2_loss: 1.2630 - output_3_loss: 0.0377 - output_4_loss: 12.7052 - output_3_precision_2: 0.6515 - output_3_recall_2: 0.1222 - output_3_true_negatives_2: 186535936.0000 - output_3_true_positives_2: 33084.0000 - output_3_false_negatives_2: 237683.0000 - output_3_false_positives_2: 17694.0000 - val_loss: 29.2324 - val_output_1_loss: 2.8501 - val_output_2_loss: 0.4470 - val_output_3_loss: 0.0387 - val_output_4_loss: 12.6695 - val_output_3_precision_2: 0.6861 - val_output_3_recall_2: 0.1441 - val_output_3_true_negatives_2: 7592357.0000 - val_output_3_true_positives_2: 1709.0000 - val_output_3_false_negatives_2: 10152.0000 - val_output_3_false_positives_2: 782.0000\n",
      "Epoch 14/20\n",
      "4607/4607 [==============================] - 624s 135ms/step - loss: 38.0494 - output_1_loss: 3.8146 - output_2_loss: 1.2514 - output_3_loss: 0.0375 - output_4_loss: 12.6447 - output_3_precision_2: 0.6535 - output_3_recall_2: 0.1257 - output_3_true_negatives_2: 186535776.0000 - output_3_true_positives_2: 34016.0000 - output_3_false_negatives_2: 236692.0000 - output_3_false_positives_2: 18036.0000 - val_loss: 29.0721 - val_output_1_loss: 2.7969 - val_output_2_loss: 0.4611 - val_output_3_loss: 0.0389 - val_output_4_loss: 12.7041 - val_output_3_precision_2: 0.6990 - val_output_3_recall_2: 0.1353 - val_output_3_true_negatives_2: 7592448.0000 - val_output_3_true_positives_2: 1605.0000 - val_output_3_false_negatives_2: 10256.0000 - val_output_3_false_positives_2: 691.0000\n",
      "Epoch 15/20\n",
      "4607/4607 [==============================] - 593s 129ms/step - loss: 37.2617 - output_1_loss: 3.7454 - output_2_loss: 1.1772 - output_3_loss: 0.0374 - output_4_loss: 12.5740 - output_3_precision_2: 0.6583 - output_3_recall_2: 0.1281 - output_3_true_negatives_2: 186535584.0000 - output_3_true_positives_2: 34678.0000 - output_3_false_negatives_2: 236024.0000 - output_3_false_positives_2: 18004.0000 - val_loss: 27.8794 - val_output_1_loss: 2.6173 - val_output_2_loss: 0.4281 - val_output_3_loss: 0.0385 - val_output_4_loss: 12.5755 - val_output_3_precision_2: 0.7047 - val_output_3_recall_2: 0.1370 - val_output_3_true_negatives_2: 7592458.0000 - val_output_3_true_positives_2: 1625.0000 - val_output_3_false_negatives_2: 10236.0000 - val_output_3_false_positives_2: 681.0000\n",
      "Epoch 16/20\n",
      "4607/4607 [==============================] - 620s 134ms/step - loss: 37.3400 - output_1_loss: 3.6572 - output_2_loss: 1.2928 - output_3_loss: 0.0371 - output_4_loss: 12.5159 - output_3_precision_2: 0.6556 - output_3_recall_2: 0.1287 - output_3_true_negatives_2: 186535552.0000 - output_3_true_positives_2: 34848.0000 - output_3_false_negatives_2: 235834.0000 - output_3_false_positives_2: 18308.0000 - val_loss: 27.3734 - val_output_1_loss: 2.5382 - val_output_2_loss: 0.4244 - val_output_3_loss: 0.0382 - val_output_4_loss: 12.4839 - val_output_3_precision_2: 0.7002 - val_output_3_recall_2: 0.1514 - val_output_3_true_negatives_2: 7592370.0000 - val_output_3_true_positives_2: 1796.0000 - val_output_3_false_negatives_2: 10065.0000 - val_output_3_false_positives_2: 769.0000\n",
      "Epoch 17/20\n",
      "4607/4607 [==============================] - 630s 137ms/step - loss: 36.8545 - output_1_loss: 3.6224 - output_2_loss: 1.2423 - output_3_loss: 0.0370 - output_4_loss: 12.4571 - output_3_precision_2: 0.6583 - output_3_recall_2: 0.1331 - output_3_true_negatives_2: 186534832.0000 - output_3_true_positives_2: 36031.0000 - output_3_false_negatives_2: 234705.0000 - output_3_false_positives_2: 18704.0000 - val_loss: 26.7697 - val_output_1_loss: 2.4302 - val_output_2_loss: 0.4220 - val_output_3_loss: 0.0380 - val_output_4_loss: 12.4328 - val_output_3_precision_2: 0.6859 - val_output_3_recall_2: 0.1545 - val_output_3_true_negatives_2: 7592300.0000 - val_output_3_true_positives_2: 1832.0000 - val_output_3_false_negatives_2: 10029.0000 - val_output_3_false_positives_2: 839.0000\n",
      "Epoch 18/20\n",
      "4607/4607 [==============================] - 621s 135ms/step - loss: 36.6462 - output_1_loss: 3.5629 - output_2_loss: 1.2658 - output_3_loss: 0.0370 - output_4_loss: 12.4283 - output_3_precision_2: 0.6527 - output_3_recall_2: 0.1344 - output_3_true_negatives_2: 186534208.0000 - output_3_true_positives_2: 36398.0000 - output_3_false_negatives_2: 234398.0000 - output_3_false_positives_2: 19366.0000 - val_loss: 26.4762 - val_output_1_loss: 2.3825 - val_output_2_loss: 0.4277 - val_output_3_loss: 0.0377 - val_output_4_loss: 12.3499 - val_output_3_precision_2: 0.6985 - val_output_3_recall_2: 0.1568 - val_output_3_true_negatives_2: 7592336.0000 - val_output_3_true_positives_2: 1860.0000 - val_output_3_false_negatives_2: 10001.0000 - val_output_3_false_positives_2: 803.0000\n",
      "Epoch 19/20\n",
      "4607/4607 [==============================] - 575s 125ms/step - loss: 36.0261 - output_1_loss: 3.4722 - output_2_loss: 1.2465 - output_3_loss: 0.0368 - output_4_loss: 12.3590 - output_3_precision_2: 0.6609 - output_3_recall_2: 0.1384 - output_3_true_negatives_2: 186534624.0000 - output_3_true_positives_2: 37458.0000 - output_3_false_negatives_2: 233173.0000 - output_3_false_positives_2: 19216.0000 - val_loss: 25.3521 - val_output_1_loss: 2.2241 - val_output_2_loss: 0.3918 - val_output_3_loss: 0.0374 - val_output_4_loss: 12.1977 - val_output_3_precision_2: 0.6997 - val_output_3_recall_2: 0.1560 - val_output_3_true_negatives_2: 7592345.0000 - val_output_3_true_positives_2: 1850.0000 - val_output_3_false_negatives_2: 10011.0000 - val_output_3_false_positives_2: 794.0000\n",
      "Epoch 20/20\n",
      "4607/4607 [==============================] - 589s 128ms/step - loss: 35.9738 - output_1_loss: 3.4579 - output_2_loss: 1.2601 - output_3_loss: 0.0367 - output_4_loss: 12.3102 - output_3_precision_2: 0.6584 - output_3_recall_2: 0.1401 - output_3_true_negatives_2: 186533952.0000 - output_3_true_positives_2: 37941.0000 - output_3_false_negatives_2: 232813.0000 - output_3_false_positives_2: 19684.0000 - val_loss: 25.0191 - val_output_1_loss: 2.1481 - val_output_2_loss: 0.4095 - val_output_3_loss: 0.0372 - val_output_4_loss: 12.1566 - val_output_3_precision_2: 0.7045 - val_output_3_recall_2: 0.1692 - val_output_3_true_negatives_2: 7592297.0000 - val_output_3_true_positives_2: 2007.0000 - val_output_3_false_negatives_2: 9854.0000 - val_output_3_false_positives_2: 842.0000\n"
     ]
    }
   ],
   "source": [
    "history = model.fit(train_dataset, epochs=20,validation_data=val_dataset)"
   ]
  },
  {
   "cell_type": "code",
   "execution_count": null,
   "metadata": {},
   "outputs": [],
   "source": []
  },
  {
   "cell_type": "code",
   "execution_count": 21,
   "metadata": {},
   "outputs": [],
   "source": [
    "\n",
    "os.chdir(\"/home/sergio/Documents/json_experiments\")\n",
    "import json\n",
    "#json.dumps(str(a))\n",
    "with open('history_finetuning_5521_20_epoch_nadam_0dot00001_mse_mse_default_anchors.json', 'w') as fp:\n",
    "    json.dump(str(history.history), fp)\n"
   ]
  },
  {
   "cell_type": "code",
   "execution_count": 22,
   "metadata": {},
   "outputs": [],
   "source": [
    "model.save_weights('/home/sergio/Documents/weights_saved/pesos_finetuning_5521_20_epoch_nadam_0dot00001_mse_mse_default_anchors')"
   ]
  },
  {
   "cell_type": "code",
   "execution_count": null,
   "metadata": {},
   "outputs": [],
   "source": []
  },
  {
   "cell_type": "code",
   "execution_count": 24,
   "metadata": {},
   "outputs": [],
   "source": [
    "os.chdir(\"/home/sergio/Documents/pedestrian_dataset_train_tfr\")"
   ]
  },
  {
   "cell_type": "code",
   "execution_count": 25,
   "metadata": {},
   "outputs": [
    {
     "name": "stdout",
     "output_type": "stream",
     "text": [
      "Epoch 1/20\n",
      "4607/4607 [==============================] - 618s 134ms/step - loss: 35.1872 - output_1_loss: 3.3933 - output_2_loss: 1.1767 - output_3_loss: 0.0365 - output_4_loss: 12.2644 - output_3_precision_2: 0.6614 - output_3_recall_2: 0.1418 - output_3_true_negatives_2: 186533984.0000 - output_3_true_positives_2: 38387.0000 - output_3_false_negatives_2: 232330.0000 - output_3_false_positives_2: 19656.0000 - val_loss: 24.4524 - val_output_1_loss: 2.0497 - val_output_2_loss: 0.4019 - val_output_3_loss: 0.0372 - val_output_4_loss: 12.1197 - val_output_3_precision_2: 0.6875 - val_output_3_recall_2: 0.1658 - val_output_3_true_negatives_2: 7592245.0000 - val_output_3_true_positives_2: 1967.0000 - val_output_3_false_negatives_2: 9894.0000 - val_output_3_false_positives_2: 894.0000- output_\n",
      "Epoch 2/20\n",
      "4607/4607 [==============================] - 612s 133ms/step - loss: 35.1288 - output_1_loss: 3.3445 - output_2_loss: 1.2256 - output_3_loss: 0.0364 - output_4_loss: 12.2055 - output_3_precision_2: 0.6627 - output_3_recall_2: 0.1446 - output_3_true_negatives_2: 186533680.0000 - output_3_true_positives_2: 39153.0000 - output_3_false_negatives_2: 231559.0000 - output_3_false_positives_2: 19929.0000 - val_loss: 24.1131 - val_output_1_loss: 2.0080 - val_output_2_loss: 0.3904 - val_output_3_loss: 0.0370 - val_output_4_loss: 12.0468 - val_output_3_precision_2: 0.6905 - val_output_3_recall_2: 0.1710 - val_output_3_true_negatives_2: 7592230.0000 - val_output_3_true_positives_2: 2028.0000 - val_output_3_false_negatives_2: 9833.0000 - val_output_3_false_positives_2: 909.0000\n",
      "Epoch 3/20\n",
      "4607/4607 [==============================] - 582s 126ms/step - loss: 34.4142 - output_1_loss: 3.2759 - output_2_loss: 1.1636 - output_3_loss: 0.0362 - output_4_loss: 12.1445 - output_3_precision_2: 0.6620 - output_3_recall_2: 0.1475 - output_3_true_negatives_2: 186533184.0000 - output_3_true_positives_2: 39922.0000 - output_3_false_negatives_2: 230823.0000 - output_3_false_positives_2: 20382.0000 - val_loss: 23.7421 - val_output_1_loss: 1.9489 - val_output_2_loss: 0.3943 - val_output_3_loss: 0.0367 - val_output_4_loss: 11.9529 - val_output_3_precision_2: 0.6991 - val_output_3_recall_2: 0.1673 - val_output_3_true_negatives_2: 7592285.0000 - val_output_3_true_positives_2: 1984.0000 - val_output_3_false_negatives_2: 9877.0000 - val_output_3_false_positives_2: 854.0000\n",
      "Epoch 4/20\n",
      "4607/4607 [==============================] - 579s 126ms/step - loss: 34.2867 - output_1_loss: 3.2506 - output_2_loss: 1.1696 - output_3_loss: 0.0361 - output_4_loss: 12.1136 - output_3_precision_2: 0.6628 - output_3_recall_2: 0.1490 - output_3_true_negatives_2: 186533216.0000 - output_3_true_positives_2: 40338.0000 - output_3_false_negatives_2: 230387.0000 - output_3_false_positives_2: 20522.0000 - val_loss: 23.2263 - val_output_1_loss: 1.8776 - val_output_2_loss: 0.3745 - val_output_3_loss: 0.0365 - val_output_4_loss: 11.8930 - val_output_3_precision_2: 0.7001 - val_output_3_recall_2: 0.1744 - val_output_3_true_negatives_2: 7592253.0000 - val_output_3_true_positives_2: 2068.0000 - val_output_3_false_negatives_2: 9793.0000 - val_output_3_false_positives_2: 886.0000\n",
      "Epoch 5/20\n",
      "4607/4607 [==============================] - 618s 134ms/step - loss: 33.6701 - output_1_loss: 3.2188 - output_2_loss: 1.0924 - output_3_loss: 0.0359 - output_4_loss: 12.0425 - output_3_precision_2: 0.6644 - output_3_recall_2: 0.1521 - output_3_true_negatives_2: 186532464.0000 - output_3_true_positives_2: 41190.0000 - output_3_false_negatives_2: 229584.0000 - output_3_false_positives_2: 20805.0000 - val_loss: 23.0417 - val_output_1_loss: 1.8505 - val_output_2_loss: 0.3734 - val_output_3_loss: 0.0364 - val_output_4_loss: 11.8492 - val_output_3_precision_2: 0.6859 - val_output_3_recall_2: 0.1865 - val_output_3_true_negatives_2: 7592126.0000 - val_output_3_true_positives_2: 2212.0000 - val_output_3_false_negatives_2: 9649.0000 - val_output_3_false_positives_2: 1013.0000\n",
      "Epoch 6/20\n",
      "4607/4607 [==============================] - 606s 132ms/step - loss: 33.7780 - output_1_loss: 3.1768 - output_2_loss: 1.1622 - output_3_loss: 0.0359 - output_4_loss: 12.0109 - output_3_precision_2: 0.6660 - output_3_recall_2: 0.1541 - output_3_true_negatives_2: 186532544.0000 - output_3_true_positives_2: 41723.0000 - output_3_false_negatives_2: 229067.0000 - output_3_false_positives_2: 20921.0000 - val_loss: 22.5959 - val_output_1_loss: 1.7725 - val_output_2_loss: 0.3841 - val_output_3_loss: 0.0361 - val_output_4_loss: 11.7408 - val_output_3_precision_2: 0.6921 - val_output_3_recall_2: 0.1853 - val_output_3_true_negatives_2: 7592161.0000 - val_output_3_true_positives_2: 2198.0000 - val_output_3_false_negatives_2: 9663.0000 - val_output_3_false_positives_2: 978.0000\n",
      "Epoch 7/20\n",
      "4607/4607 [==============================] - 569s 123ms/step - loss: 33.2783 - output_1_loss: 3.1376 - output_2_loss: 1.1129 - output_3_loss: 0.0357 - output_4_loss: 11.9541 - output_3_precision_2: 0.6654 - output_3_recall_2: 0.1569 - output_3_true_negatives_2: 186532000.0000 - output_3_true_positives_2: 42484.0000 - output_3_false_negatives_2: 228318.0000 - output_3_false_positives_2: 21361.0000 - val_loss: 22.4868 - val_output_1_loss: 1.7568 - val_output_2_loss: 0.3835 - val_output_3_loss: 0.0361 - val_output_4_loss: 11.7129 - val_output_3_precision_2: 0.6976 - val_output_3_recall_2: 0.1857 - val_output_3_true_negatives_2: 7592184.0000 - val_output_3_true_positives_2: 2203.0000 - val_output_3_false_negatives_2: 9658.0000 - val_output_3_false_positives_2: 955.0000\n",
      "Epoch 8/20\n",
      "4607/4607 [==============================] - 559s 121ms/step - loss: 33.3488 - output_1_loss: 3.1107 - output_2_loss: 1.1607 - output_3_loss: 0.0356 - output_4_loss: 11.9203 - output_3_precision_2: 0.6684 - output_3_recall_2: 0.1595 - output_3_true_negatives_2: 186532272.0000 - output_3_true_positives_2: 43170.0000 - output_3_false_negatives_2: 227557.0000 - output_3_false_positives_2: 21415.0000 - val_loss: 21.8888 - val_output_1_loss: 1.6750 - val_output_2_loss: 0.3696 - val_output_3_loss: 0.0357 - val_output_4_loss: 11.5940 - val_output_3_precision_2: 0.6965 - val_output_3_recall_2: 0.1944 - val_output_3_true_negatives_2: 7592134.0000 - val_output_3_true_positives_2: 2306.0000 - val_output_3_false_negatives_2: 9555.0000 - val_output_3_false_positives_2: 1005.0000\n",
      "Epoch 9/20\n",
      "4607/4607 [==============================] - 595s 129ms/step - loss: 33.0306 - output_1_loss: 3.0880 - output_2_loss: 1.1297 - output_3_loss: 0.0355 - output_4_loss: 11.8707 - output_3_precision_2: 0.6708 - output_3_recall_2: 0.1618 - output_3_true_negatives_2: 186531872.0000 - output_3_true_positives_2: 43808.0000 - output_3_false_negatives_2: 226980.0000 - output_3_false_positives_2: 21502.0000 - val_loss: 21.6632 - val_output_1_loss: 1.6345 - val_output_2_loss: 0.3738 - val_output_3_loss: 0.0357 - val_output_4_loss: 11.5503 - val_output_3_precision_2: 0.6986 - val_output_3_recall_2: 0.2005 - val_output_3_true_negatives_2: 7592113.0000 - val_output_3_true_positives_2: 2378.0000 - val_output_3_false_negatives_2: 9483.0000 - val_output_3_false_positives_2: 1026.0000\n",
      "Epoch 10/20\n",
      "4607/4607 [==============================] - 605s 131ms/step - loss: 32.9034 - output_1_loss: 3.0703 - output_2_loss: 1.1293 - output_3_loss: 0.0354 - output_4_loss: 11.8349 - output_3_precision_2: 0.6705 - output_3_recall_2: 0.1635 - output_3_true_negatives_2: 186531680.0000 - output_3_true_positives_2: 44278.0000 - output_3_false_negatives_2: 226468.0000 - output_3_false_positives_2: 21762.0000 - val_loss: 21.8607 - val_output_1_loss: 1.6782 - val_output_2_loss: 0.3763 - val_output_3_loss: 0.0356 - val_output_4_loss: 11.5173 - val_output_3_precision_2: 0.7165 - val_output_3_recall_2: 0.1892 - val_output_3_true_negatives_2: 7592251.0000 - val_output_3_true_positives_2: 2244.0000 - val_output_3_false_negatives_2: 9617.0000 - val_output_3_false_positives_2: 888.0000\n",
      "Epoch 11/20\n",
      "4607/4607 [==============================] - 625s 136ms/step - loss: 32.8584 - output_1_loss: 3.0505 - output_2_loss: 1.1486 - output_3_loss: 0.0353 - output_4_loss: 11.7924 - output_3_precision_2: 0.6734 - output_3_recall_2: 0.1675 - output_3_true_negatives_2: 186531584.0000 - output_3_true_positives_2: 45362.0000 - output_3_false_negatives_2: 225397.0000 - output_3_false_positives_2: 22005.0000 - val_loss: 21.6116 - val_output_1_loss: 1.6357 - val_output_2_loss: 0.3777 - val_output_3_loss: 0.0355 - val_output_4_loss: 11.4739 - val_output_3_precision_2: 0.7046 - val_output_3_recall_2: 0.1995 - val_output_3_true_negatives_2: 7592147.0000 - val_output_3_true_positives_2: 2366.0000 - val_output_3_false_negatives_2: 9495.0000 - val_output_3_false_positives_2: 992.0000\n",
      "Epoch 12/20\n",
      "4607/4607 [==============================] - 590s 128ms/step - loss: 32.5576 - output_1_loss: 3.0298 - output_2_loss: 1.1220 - output_3_loss: 0.0351 - output_4_loss: 11.7286 - output_3_precision_2: 0.6721 - output_3_recall_2: 0.1692 - output_3_true_negatives_2: 186531040.0000 - output_3_true_positives_2: 45808.0000 - output_3_false_negatives_2: 224954.0000 - output_3_false_positives_2: 22351.0000 - val_loss: 21.2252 - val_output_1_loss: 1.5859 - val_output_2_loss: 0.3746 - val_output_3_loss: 0.0351 - val_output_4_loss: 11.3526 - val_output_3_precision_2: 0.7142 - val_output_3_recall_2: 0.1948 - val_output_3_true_negatives_2: 7592214.0000 - val_output_3_true_positives_2: 2311.0000 - val_output_3_false_negatives_2: 9550.0000 - val_output_3_false_positives_2: 925.0000\n",
      "Epoch 13/20\n",
      "4607/4607 [==============================] - 612s 133ms/step - loss: 32.2127 - output_1_loss: 2.9736 - output_2_loss: 1.1174 - output_3_loss: 0.0350 - output_4_loss: 11.6878 - output_3_precision_2: 0.6729 - output_3_recall_2: 0.1714 - output_3_true_negatives_2: 186530880.0000 - output_3_true_positives_2: 46405.0000 - output_3_false_negatives_2: 224367.0000 - output_3_false_positives_2: 22557.0000 - val_loss: 20.9943 - val_output_1_loss: 1.5729 - val_output_2_loss: 0.3499 - val_output_3_loss: 0.0350 - val_output_4_loss: 11.3104 - val_output_3_precision_2: 0.7130 - val_output_3_recall_2: 0.2038 - val_output_3_true_negatives_2: 7592166.0000 - val_output_3_true_positives_2: 2417.0000 - val_output_3_false_negatives_2: 9444.0000 - val_output_3_false_positives_2: 973.0000\n",
      "Epoch 14/20\n",
      "4607/4607 [==============================] - 614s 133ms/step - loss: 31.9516 - output_1_loss: 2.9455 - output_2_loss: 1.1029 - output_3_loss: 0.0349 - output_4_loss: 11.6394 - output_3_precision_2: 0.6758 - output_3_recall_2: 0.1737 - output_3_true_negatives_2: 186530944.0000 - output_3_true_positives_2: 47023.0000 - output_3_false_negatives_2: 223714.0000 - output_3_false_positives_2: 22559.0000 - val_loss: 20.6363 - val_output_1_loss: 1.4989 - val_output_2_loss: 0.3549 - val_output_3_loss: 0.0350 - val_output_4_loss: 11.2969 - val_output_3_precision_2: 0.7077 - val_output_3_recall_2: 0.2039 - val_output_3_true_negatives_2: 7592140.0000 - val_output_3_true_positives_2: 2419.0000 - val_output_3_false_negatives_2: 9442.0000 - val_output_3_false_positives_2: 999.0000\n",
      "Epoch 15/20\n",
      "4607/4607 [==============================] - 610s 132ms/step - loss: 31.5733 - output_1_loss: 2.9083 - output_2_loss: 1.0733 - output_3_loss: 0.0348 - output_4_loss: 11.5958 - output_3_precision_2: 0.6750 - output_3_recall_2: 0.1768 - output_3_true_negatives_2: 186530496.0000 - output_3_true_positives_2: 47859.0000 - output_3_false_negatives_2: 222872.0000 - output_3_false_positives_2: 23039.0000 - val_loss: 20.4771 - val_output_1_loss: 1.4729 - val_output_2_loss: 0.3714 - val_output_3_loss: 0.0347 - val_output_4_loss: 11.1863 - val_output_3_precision_2: 0.7135 - val_output_3_recall_2: 0.2050 - val_output_3_true_negatives_2: 7592163.0000 - val_output_3_true_positives_2: 2431.0000 - val_output_3_false_negatives_2: 9430.0000 - val_output_3_false_positives_2: 976.0000\n",
      "Epoch 16/20\n",
      "4607/4607 [==============================] - 598s 130ms/step - loss: 31.9826 - output_1_loss: 2.9405 - output_2_loss: 1.1248 - output_3_loss: 0.0348 - output_4_loss: 11.5868 - output_3_precision_2: 0.6787 - output_3_recall_2: 0.1788 - output_3_true_negatives_2: 186530736.0000 - output_3_true_positives_2: 48405.0000 - output_3_false_negatives_2: 222333.0000 - output_3_false_positives_2: 22918.0000 - val_loss: 20.1753 - val_output_1_loss: 1.4476 - val_output_2_loss: 0.3467 - val_output_3_loss: 0.0344 - val_output_4_loss: 11.1346 - val_output_3_precision_2: 0.7132 - val_output_3_recall_2: 0.2045 - val_output_3_true_negatives_2: 7592164.0000 - val_output_3_true_positives_2: 2425.0000 - val_output_3_false_negatives_2: 9436.0000 - val_output_3_false_positives_2: 975.0000\n",
      "Epoch 17/20\n",
      "4607/4607 [==============================] - 595s 129ms/step - loss: 31.4926 - output_1_loss: 2.9057 - output_2_loss: 1.0719 - output_3_loss: 0.0347 - output_4_loss: 11.5352 - output_3_precision_2: 0.6794 - output_3_recall_2: 0.1812 - output_3_true_negatives_2: 186530240.0000 - output_3_true_positives_2: 49085.0000 - output_3_false_negatives_2: 221730.0000 - output_3_false_positives_2: 23161.0000 - val_loss: 20.0443 - val_output_1_loss: 1.4242 - val_output_2_loss: 0.3563 - val_output_3_loss: 0.0344 - val_output_4_loss: 11.0732 - val_output_3_precision_2: 0.7265 - val_output_3_recall_2: 0.2082 - val_output_3_true_negatives_2: 7592209.0000 - val_output_3_true_positives_2: 2470.0000 - val_output_3_false_negatives_2: 9391.0000 - val_output_3_false_positives_2: 930.0000\n",
      "Epoch 18/20\n",
      "4607/4607 [==============================] - 611s 133ms/step - loss: 31.3919 - output_1_loss: 2.8801 - output_2_loss: 1.0836 - output_3_loss: 0.0345 - output_4_loss: 11.5047 - output_3_precision_2: 0.6768 - output_3_recall_2: 0.1816 - output_3_true_negatives_2: 186529872.0000 - output_3_true_positives_2: 49167.0000 - output_3_false_negatives_2: 221507.0000 - output_3_false_positives_2: 23484.0000 - val_loss: 19.8832 - val_output_1_loss: 1.4068 - val_output_2_loss: 0.3499 - val_output_3_loss: 0.0342 - val_output_4_loss: 11.0315 - val_output_3_precision_2: 0.7158 - val_output_3_recall_2: 0.2212 - val_output_3_true_negatives_2: 7592097.0000 - val_output_3_true_positives_2: 2624.0000 - val_output_3_false_negatives_2: 9237.0000 - val_output_3_false_positives_2: 1042.0000\n",
      "Epoch 19/20\n",
      "4607/4607 [==============================] - 626s 136ms/step - loss: 31.5437 - output_1_loss: 2.8547 - output_2_loss: 1.1472 - output_3_loss: 0.0344 - output_4_loss: 11.4656 - output_3_precision_2: 0.6782 - output_3_recall_2: 0.1841 - output_3_true_negatives_2: 186529504.0000 - output_3_true_positives_2: 49846.0000 - output_3_false_negatives_2: 220849.0000 - output_3_false_positives_2: 23655.0000 - val_loss: 19.7791 - val_output_1_loss: 1.3920 - val_output_2_loss: 0.3566 - val_output_3_loss: 0.0340 - val_output_4_loss: 10.9677 - val_output_3_precision_2: 0.7224 - val_output_3_recall_2: 0.2218 - val_output_3_true_negatives_2: 7592128.0000 - val_output_3_true_positives_2: 2631.0000 - val_output_3_false_negatives_2: 9230.0000 - val_output_3_false_positives_2: 1011.0000\n",
      "Epoch 20/20\n",
      "4607/4607 [==============================] - 604s 131ms/step - loss: 30.6901 - output_1_loss: 2.7939 - output_2_loss: 1.0575 - output_3_loss: 0.0341 - output_4_loss: 11.3648 - output_3_precision_2: 0.6808 - output_3_recall_2: 0.1887 - output_3_true_negatives_2: 186529632.0000 - output_3_true_positives_2: 51074.0000 - output_3_false_negatives_2: 219653.0000 - output_3_false_positives_2: 23943.0000 - val_loss: 19.2450 - val_output_1_loss: 1.3260 - val_output_2_loss: 0.3391 - val_output_3_loss: 0.0337 - val_output_4_loss: 10.8522 - val_output_3_precision_2: 0.7299 - val_output_3_recall_2: 0.2276 - val_output_3_true_negatives_2: 7592140.0000 - val_output_3_true_positives_2: 2700.0000 - val_output_3_false_negatives_2: 9161.0000 - val_output_3_false_positives_2: 999.0000\n"
     ]
    }
   ],
   "source": [
    "history = model.fit(train_dataset, epochs=20,validation_data=val_dataset)"
   ]
  },
  {
   "cell_type": "code",
   "execution_count": null,
   "metadata": {},
   "outputs": [],
   "source": []
  },
  {
   "cell_type": "code",
   "execution_count": 26,
   "metadata": {},
   "outputs": [],
   "source": [
    "\n",
    "os.chdir(\"/home/sergio/Documents/json_experiments\")\n",
    "import json\n",
    "#json.dumps(str(a))\n",
    "with open('history_finetuning_5521_20_40_epoch_nadam_0dot00001_mse_mse_default_anchors.json', 'w') as fp:\n",
    "    json.dump(str(history.history), fp)\n"
   ]
  },
  {
   "cell_type": "code",
   "execution_count": 27,
   "metadata": {},
   "outputs": [],
   "source": [
    "model.save_weights('/home/sergio/Documents/weights_saved/pesos_finetuning_5521_20_40_epoch_nadam_0dot00001_mse_mse_default_anchors')"
   ]
  },
  {
   "cell_type": "code",
   "execution_count": null,
   "metadata": {},
   "outputs": [],
   "source": []
  },
  {
   "cell_type": "code",
   "execution_count": 28,
   "metadata": {},
   "outputs": [],
   "source": [
    "os.chdir(\"/home/sergio/Documents/pedestrian_dataset_train_tfr\")"
   ]
  },
  {
   "cell_type": "code",
   "execution_count": 29,
   "metadata": {},
   "outputs": [
    {
     "name": "stdout",
     "output_type": "stream",
     "text": [
      "Epoch 1/20\n",
      "4607/4607 [==============================] - 581s 126ms/step - loss: 30.9420 - output_1_loss: 2.8292 - output_2_loss: 1.0771 - output_3_loss: 0.0341 - output_4_loss: 11.3428 - output_3_precision_2: 0.6819 - output_3_recall_2: 0.1897 - output_3_true_negatives_2: 186529600.0000 - output_3_true_positives_2: 51343.0000 - output_3_false_negatives_2: 219356.0000 - output_3_false_positives_2: 23946.0000 - val_loss: 19.2945 - val_output_1_loss: 1.3354 - val_output_2_loss: 0.3398 - val_output_3_loss: 0.0336 - val_output_4_loss: 10.8515 - val_output_3_precision_2: 0.7085 - val_output_3_recall_2: 0.2308 - val_output_3_true_negatives_2: 7592013.0000 - val_output_3_true_positives_2: 2737.0000 - val_output_3_false_negatives_2: 9124.0000 - val_output_3_false_positives_2: 1126.0000\n",
      "Epoch 2/20\n",
      "4607/4607 [==============================] - 563s 122ms/step - loss: 30.9565 - output_1_loss: 2.8172 - output_2_loss: 1.0990 - output_3_loss: 0.0341 - output_4_loss: 11.3073 - output_3_precision_2: 0.6838 - output_3_recall_2: 0.1939 - output_3_true_negatives_2: 186529184.0000 - output_3_true_positives_2: 52505.0000 - output_3_false_negatives_2: 218210.0000 - output_3_false_positives_2: 24276.0000 - val_loss: 19.3271 - val_output_1_loss: 1.3468 - val_output_2_loss: 0.3585 - val_output_3_loss: 0.0334 - val_output_4_loss: 10.7339 - val_output_3_precision_2: 0.7331 - val_output_3_recall_2: 0.2193 - val_output_3_true_negatives_2: 7592192.0000 - val_output_3_true_positives_2: 2601.0000 - val_output_3_false_negatives_2: 9260.0000 - val_output_3_false_positives_2: 947.0000\n",
      "Epoch 3/20\n",
      "4607/4607 [==============================] - 567s 123ms/step - loss: 30.7896 - output_1_loss: 2.7886 - output_2_loss: 1.1026 - output_3_loss: 0.0339 - output_4_loss: 11.2660 - output_3_precision_2: 0.6855 - output_3_recall_2: 0.1956 - output_3_true_negatives_2: 186529088.0000 - output_3_true_positives_2: 52978.0000 - output_3_false_negatives_2: 217839.0000 - output_3_false_positives_2: 24310.0000 - val_loss: 18.9943 - val_output_1_loss: 1.3096 - val_output_2_loss: 0.3435 - val_output_3_loss: 0.0332 - val_output_4_loss: 10.6623 - val_output_3_precision_2: 0.7444 - val_output_3_recall_2: 0.2281 - val_output_3_true_negatives_2: 7592210.0000 - val_output_3_true_positives_2: 2706.0000 - val_output_3_false_negatives_2: 9155.0000 - val_output_3_false_positives_2: 929.0000\n",
      "Epoch 4/20\n",
      "4607/4607 [==============================] - 567s 123ms/step - loss: 30.0665 - output_1_loss: 2.7634 - output_2_loss: 0.9925 - output_3_loss: 0.0338 - output_4_loss: 11.2197 - output_3_precision_2: 0.6869 - output_3_recall_2: 0.1983 - output_3_true_negatives_2: 186529120.0000 - output_3_true_positives_2: 53702.0000 - output_3_false_negatives_2: 217108.0000 - output_3_false_positives_2: 24483.0000 - val_loss: 18.8276 - val_output_1_loss: 1.2931 - val_output_2_loss: 0.3367 - val_output_3_loss: 0.0331 - val_output_4_loss: 10.6124 - val_output_3_precision_2: 0.7320 - val_output_3_recall_2: 0.2379 - val_output_3_true_negatives_2: 7592106.0000 - val_output_3_true_positives_2: 2822.0000 - val_output_3_false_negatives_2: 9039.0000 - val_output_3_false_positives_2: 1033.0000\n",
      "Epoch 5/20\n",
      "4607/4607 [==============================] - 569s 124ms/step - loss: 30.6436 - output_1_loss: 2.7765 - output_2_loss: 1.0977 - output_3_loss: 0.0337 - output_4_loss: 11.2048 - output_3_precision_2: 0.6862 - output_3_recall_2: 0.1994 - output_3_true_negatives_2: 186528800.0000 - output_3_true_positives_2: 53996.0000 - output_3_false_negatives_2: 216828.0000 - output_3_false_positives_2: 24688.0000 - val_loss: 18.8082 - val_output_1_loss: 1.2941 - val_output_2_loss: 0.3476 - val_output_3_loss: 0.0329 - val_output_4_loss: 10.5339 - val_output_3_precision_2: 0.7319 - val_output_3_recall_2: 0.2452 - val_output_3_true_negatives_2: 7592074.0000 - val_output_3_true_positives_2: 2908.0000 - val_output_3_false_negatives_2: 8953.0000 - val_output_3_false_positives_2: 1065.0000\n",
      "Epoch 6/20\n",
      "4607/4607 [==============================] - 584s 127ms/step - loss: 30.5621 - output_1_loss: 2.7695 - output_2_loss: 1.0998 - output_3_loss: 0.0336 - output_4_loss: 11.1486 - output_3_precision_2: 0.6898 - output_3_recall_2: 0.2022 - output_3_true_negatives_2: 186528736.0000 - output_3_true_positives_2: 54734.0000 - output_3_false_negatives_2: 215961.0000 - output_3_false_positives_2: 24611.0000 - val_loss: 18.4353 - val_output_1_loss: 1.2444 - val_output_2_loss: 0.3312 - val_output_3_loss: 0.0327 - val_output_4_loss: 10.4916 - val_output_3_precision_2: 0.7352 - val_output_3_recall_2: 0.2455 - val_output_3_true_negatives_2: 7592090.0000 - val_output_3_true_positives_2: 2912.0000 - val_output_3_false_negatives_2: 8949.0000 - val_output_3_false_positives_2: 1049.0000\n",
      "Epoch 7/20\n",
      "4607/4607 [==============================] - 575s 125ms/step - loss: 29.9712 - output_1_loss: 2.7208 - output_2_loss: 1.0431 - output_3_loss: 0.0334 - output_4_loss: 11.0847 - output_3_precision_2: 0.6887 - output_3_recall_2: 0.2058 - output_3_true_negatives_2: 186528592.0000 - output_3_true_positives_2: 55702.0000 - output_3_false_negatives_2: 215000.0000 - output_3_false_positives_2: 25175.0000 - val_loss: 18.2958 - val_output_1_loss: 1.2222 - val_output_2_loss: 0.3470 - val_output_3_loss: 0.0325 - val_output_4_loss: 10.3848 - val_output_3_precision_2: 0.7450 - val_output_3_recall_2: 0.2469 - val_output_3_true_negatives_2: 7592137.0000 - val_output_3_true_positives_2: 2928.0000 - val_output_3_false_negatives_2: 8933.0000 - val_output_3_false_positives_2: 1002.0000\n",
      "Epoch 8/20\n",
      "4607/4607 [==============================] - 570s 124ms/step - loss: 30.1852 - output_1_loss: 2.7435 - output_2_loss: 1.0670 - output_3_loss: 0.0334 - output_4_loss: 11.0662 - output_3_precision_2: 0.6891 - output_3_recall_2: 0.2083 - output_3_true_negatives_2: 186528352.0000 - output_3_true_positives_2: 56373.0000 - output_3_false_negatives_2: 214302.0000 - output_3_false_positives_2: 25438.0000 - val_loss: 18.2831 - val_output_1_loss: 1.2395 - val_output_2_loss: 0.3222 - val_output_3_loss: 0.0326 - val_output_4_loss: 10.4095 - val_output_3_precision_2: 0.7372 - val_output_3_recall_2: 0.2540 - val_output_3_true_negatives_2: 7592065.0000 - val_output_3_true_positives_2: 3013.0000 - val_output_3_false_negatives_2: 8848.0000 - val_output_3_false_positives_2: 1074.0000\n",
      "Epoch 9/20\n",
      "4607/4607 [==============================] - 574s 125ms/step - loss: 29.7958 - output_1_loss: 2.7259 - output_2_loss: 1.0104 - output_3_loss: 0.0334 - output_4_loss: 11.0474 - output_3_precision_2: 0.6937 - output_3_recall_2: 0.2101 - output_3_true_negatives_2: 186528288.0000 - output_3_true_positives_2: 56860.0000 - output_3_false_negatives_2: 213803.0000 - output_3_false_positives_2: 25107.0000 - val_loss: 18.3574 - val_output_1_loss: 1.2620 - val_output_2_loss: 0.3253 - val_output_3_loss: 0.0323 - val_output_4_loss: 10.3560 - val_output_3_precision_2: 0.7608 - val_output_3_recall_2: 0.2435 - val_output_3_true_negatives_2: 7592231.0000 - val_output_3_true_positives_2: 2888.0000 - val_output_3_false_negatives_2: 8973.0000 - val_output_3_false_positives_2: 908.0000\n",
      "Epoch 10/20\n",
      "4607/4607 [==============================] - 601s 130ms/step - loss: 29.8198 - output_1_loss: 2.7143 - output_2_loss: 1.0317 - output_3_loss: 0.0333 - output_4_loss: 11.0234 - output_3_precision_2: 0.6904 - output_3_recall_2: 0.2104 - output_3_true_negatives_2: 186527776.0000 - output_3_true_positives_2: 56981.0000 - output_3_false_negatives_2: 213784.0000 - output_3_false_positives_2: 25552.0000 - val_loss: 17.9320 - val_output_1_loss: 1.1900 - val_output_2_loss: 0.3262 - val_output_3_loss: 0.0321 - val_output_4_loss: 10.2867 - val_output_3_precision_2: 0.7405 - val_output_3_recall_2: 0.2668 - val_output_3_true_negatives_2: 7592030.0000 - val_output_3_true_positives_2: 3165.0000 - val_output_3_false_negatives_2: 8696.0000 - val_output_3_false_positives_2: 1109.0000\n",
      "Epoch 11/20\n",
      "4607/4607 [==============================] - 606s 131ms/step - loss: 29.5601 - output_1_loss: 2.6650 - output_2_loss: 1.0472 - output_3_loss: 0.0330 - output_4_loss: 10.9327 - output_3_precision_2: 0.6944 - output_3_recall_2: 0.2160 - output_3_true_negatives_2: 186527840.0000 - output_3_true_positives_2: 58472.0000 - output_3_false_negatives_2: 212219.0000 - output_3_false_positives_2: 25731.0000 - val_loss: 17.3984 - val_output_1_loss: 1.1294 - val_output_2_loss: 0.3166 - val_output_3_loss: 0.0317 - val_output_4_loss: 10.1046 - val_output_3_precision_2: 0.7517 - val_output_3_recall_2: 0.2629 - val_output_3_true_negatives_2: 7592109.0000 - val_output_3_true_positives_2: 3118.0000 - val_output_3_false_negatives_2: 8743.0000 - val_output_3_false_positives_2: 1030.0000\n",
      "Epoch 12/20\n",
      "4607/4607 [==============================] - 608s 132ms/step - loss: 29.4654 - output_1_loss: 2.6607 - output_2_loss: 1.0413 - output_3_loss: 0.0328 - output_4_loss: 10.8897 - output_3_precision_2: 0.6942 - output_3_recall_2: 0.2189 - output_3_true_negatives_2: 186527360.0000 - output_3_true_positives_2: 59266.0000 - output_3_false_negatives_2: 211517.0000 - output_3_false_positives_2: 26112.0000 - val_loss: 17.6238 - val_output_1_loss: 1.1777 - val_output_2_loss: 0.3221 - val_output_3_loss: 0.0316 - val_output_4_loss: 10.0619 - val_output_3_precision_2: 0.7592 - val_output_3_recall_2: 0.2683 - val_output_3_true_negatives_2: 7592130.0000 - val_output_3_true_positives_2: 3182.0000 - val_output_3_false_negatives_2: 8679.0000 - val_output_3_false_positives_2: 1009.0000\n",
      "Epoch 13/20\n",
      "4607/4607 [==============================] - 561s 122ms/step - loss: 29.4662 - output_1_loss: 2.6487 - output_2_loss: 1.0603 - output_3_loss: 0.0328 - output_4_loss: 10.8556 - output_3_precision_2: 0.6962 - output_3_recall_2: 0.2206 - output_3_true_negatives_2: 186527744.0000 - output_3_true_positives_2: 59693.0000 - output_3_false_negatives_2: 210956.0000 - output_3_false_positives_2: 26049.0000 - val_loss: 17.3576 - val_output_1_loss: 1.1484 - val_output_2_loss: 0.3167 - val_output_3_loss: 0.0314 - val_output_4_loss: 9.9694 - val_output_3_precision_2: 0.7537 - val_output_3_recall_2: 0.2706 - val_output_3_true_negatives_2: 7592090.0000 - val_output_3_true_positives_2: 3210.0000 - val_output_3_false_negatives_2: 8651.0000 - val_output_3_false_positives_2: 1049.0000\n",
      "Epoch 14/20\n",
      "4607/4607 [==============================] - 606s 132ms/step - loss: 28.9983 - output_1_loss: 2.6637 - output_2_loss: 0.9600 - output_3_loss: 0.0327 - output_4_loss: 10.8140 - output_3_precision_2: 0.6954 - output_3_recall_2: 0.2233 - output_3_true_negatives_2: 186526928.0000 - output_3_true_positives_2: 60467.0000 - output_3_false_negatives_2: 210381.0000 - output_3_false_positives_2: 26480.0000 - val_loss: 17.1680 - val_output_1_loss: 1.1109 - val_output_2_loss: 0.3175 - val_output_3_loss: 0.0313 - val_output_4_loss: 9.9633 - val_output_3_precision_2: 0.7605 - val_output_3_recall_2: 0.2802 - val_output_3_true_negatives_2: 7592092.0000 - val_output_3_true_positives_2: 3324.0000 - val_output_3_false_negatives_2: 8537.0000 - val_output_3_false_positives_2: 1047.0000\n",
      "Epoch 15/20\n",
      "4607/4607 [==============================] - 625s 136ms/step - loss: 29.2094 - output_1_loss: 2.6387 - output_2_loss: 1.0320 - output_3_loss: 0.0327 - output_4_loss: 10.7902 - output_3_precision_2: 0.6980 - output_3_recall_2: 0.2266 - output_3_true_negatives_2: 186527152.0000 - output_3_true_positives_2: 61352.0000 - output_3_false_negatives_2: 209350.0000 - output_3_false_positives_2: 26541.0000 - val_loss: 17.1684 - val_output_1_loss: 1.1267 - val_output_2_loss: 0.3169 - val_output_3_loss: 0.0311 - val_output_4_loss: 9.8882 - val_output_3_precision_2: 0.7656 - val_output_3_recall_2: 0.2751 - val_output_3_true_negatives_2: 7592140.0000 - val_output_3_true_positives_2: 3263.0000 - val_output_3_false_negatives_2: 8598.0000 - val_output_3_false_positives_2: 999.0000\n",
      "Epoch 16/20\n",
      "4607/4607 [==============================] - 571s 124ms/step - loss: 29.1593 - output_1_loss: 2.6405 - output_2_loss: 1.0306 - output_3_loss: 0.0325 - output_4_loss: 10.7387 - output_3_precision_2: 0.7004 - output_3_recall_2: 0.2291 - output_3_true_negatives_2: 186527392.0000 - output_3_true_positives_2: 62035.0000 - output_3_false_negatives_2: 208711.0000 - output_3_false_positives_2: 26537.0000 - val_loss: 17.0410 - val_output_1_loss: 1.1059 - val_output_2_loss: 0.3152 - val_output_3_loss: 0.0310 - val_output_4_loss: 9.8736 - val_output_3_precision_2: 0.7591 - val_output_3_recall_2: 0.2867 - val_output_3_true_negatives_2: 7592060.0000 - val_output_3_true_positives_2: 3400.0000 - val_output_3_false_negatives_2: 8461.0000 - val_output_3_false_positives_2: 1079.0000\n",
      "Epoch 17/20\n",
      "4607/4607 [==============================] - 608s 132ms/step - loss: 29.0587 - output_1_loss: 2.6373 - output_2_loss: 1.0241 - output_3_loss: 0.0324 - output_4_loss: 10.6868 - output_3_precision_2: 0.7023 - output_3_recall_2: 0.2328 - output_3_true_negatives_2: 186526736.0000 - output_3_true_positives_2: 63011.0000 - output_3_false_negatives_2: 207658.0000 - output_3_false_positives_2: 26705.0000 - val_loss: 16.8266 - val_output_1_loss: 1.0827 - val_output_2_loss: 0.3194 - val_output_3_loss: 0.0308 - val_output_4_loss: 9.7548 - val_output_3_precision_2: 0.7639 - val_output_3_recall_2: 0.2774 - val_output_3_true_negatives_2: 7592122.0000 - val_output_3_true_positives_2: 3290.0000 - val_output_3_false_negatives_2: 8571.0000 - val_output_3_false_positives_2: 1017.0000\n",
      "Epoch 18/20\n",
      "4607/4607 [==============================] - 574s 125ms/step - loss: 28.6968 - output_1_loss: 2.5936 - output_2_loss: 1.0049 - output_3_loss: 0.0322 - output_4_loss: 10.6396 - output_3_precision_2: 0.7033 - output_3_recall_2: 0.2352 - output_3_true_negatives_2: 186526848.0000 - output_3_true_positives_2: 63686.0000 - output_3_false_negatives_2: 207088.0000 - output_3_false_positives_2: 26871.0000 - val_loss: 16.7652 - val_output_1_loss: 1.0781 - val_output_2_loss: 0.3209 - val_output_3_loss: 0.0306 - val_output_4_loss: 9.7090 - val_output_3_precision_2: 0.7638 - val_output_3_recall_2: 0.2939 - val_output_3_true_negatives_2: 7592061.0000 - val_output_3_true_positives_2: 3486.0000 - val_output_3_false_negatives_2: 8375.0000 - val_output_3_false_positives_2: 1078.0000\n",
      "Epoch 19/20\n",
      "4607/4607 [==============================] - 480s 104ms/step - loss: 28.3763 - output_1_loss: 2.5799 - output_2_loss: 0.9623 - output_3_loss: 0.0322 - output_4_loss: 10.6012 - output_3_precision_2: 0.7034 - output_3_recall_2: 0.2379 - output_3_true_negatives_2: 186526544.0000 - output_3_true_positives_2: 64422.0000 - output_3_false_negatives_2: 206344.0000 - output_3_false_positives_2: 27170.0000 - val_loss: 16.5446 - val_output_1_loss: 1.0572 - val_output_2_loss: 0.3051 - val_output_3_loss: 0.0305 - val_output_4_loss: 9.6722 - val_output_3_precision_2: 0.7555 - val_output_3_recall_2: 0.3061 - val_output_3_true_negatives_2: 7591964.0000 - val_output_3_true_positives_2: 3631.0000 - val_output_3_false_negatives_2: 8230.0000 - val_output_3_false_positives_2: 1175.0000\n",
      "Epoch 20/20\n",
      "4607/4607 [==============================] - 557s 121ms/step - loss: 28.9681 - output_1_loss: 2.5937 - output_2_loss: 1.0668 - output_3_loss: 0.0322 - output_4_loss: 10.6012 - output_3_precision_2: 0.7022 - output_3_recall_2: 0.2375 - output_3_true_negatives_2: 186526384.0000 - output_3_true_positives_2: 64301.0000 - output_3_false_negatives_2: 206408.0000 - output_3_false_positives_2: 27265.0000 - val_loss: 16.2825 - val_output_1_loss: 1.0262 - val_output_2_loss: 0.3084 - val_output_3_loss: 0.0302 - val_output_4_loss: 9.5492 - val_output_3_precision_2: 0.7727 - val_output_3_recall_2: 0.3015 - val_output_3_true_negatives_2: 7592087.0000 - val_output_3_true_positives_2: 3576.0000 - val_output_3_false_negatives_2: 8285.0000 - val_output_3_false_positives_2: 1052.0000\n"
     ]
    }
   ],
   "source": [
    "history = model.fit(train_dataset, epochs=20,validation_data=val_dataset)"
   ]
  },
  {
   "cell_type": "code",
   "execution_count": null,
   "metadata": {},
   "outputs": [],
   "source": []
  },
  {
   "cell_type": "code",
   "execution_count": 30,
   "metadata": {},
   "outputs": [],
   "source": [
    "\n",
    "os.chdir(\"/home/sergio/Documents/json_experiments\")\n",
    "import json\n",
    "#json.dumps(str(a))\n",
    "with open('history_finetuning_5521_40_60_epoch_nadam_0dot00001_mse_mse_default_anchors.json', 'w') as fp:\n",
    "    json.dump(str(history.history), fp)\n"
   ]
  },
  {
   "cell_type": "code",
   "execution_count": 31,
   "metadata": {},
   "outputs": [],
   "source": [
    "model.save_weights('/home/sergio/Documents/weights_saved/pesos_finetuning_5521_40_60_epoch_nadam_0dot00001_mse_mse_default_anchors')"
   ]
  },
  {
   "cell_type": "code",
   "execution_count": null,
   "metadata": {},
   "outputs": [],
   "source": []
  },
  {
   "cell_type": "markdown",
   "metadata": {},
   "source": [
    "## CONTINUACIÓN"
   ]
  },
  {
   "cell_type": "code",
   "execution_count": 6,
   "metadata": {},
   "outputs": [
    {
     "name": "stdout",
     "output_type": "stream",
     "text": [
      "Modo entrenamiento\n"
     ]
    },
    {
     "data": {
      "text/plain": [
       "<tensorflow.python.training.tracking.util.CheckpointLoadStatus at 0x7f649851b4a8>"
      ]
     },
     "execution_count": 6,
     "metadata": {},
     "output_type": "execute_result"
    }
   ],
   "source": [
    "#anchors =tf.constant(np.array([[0.026,0.062],[0.067,0.183],[0.128,0.323],[0.343,0.650]]),dtype=tf.float32)\n",
    "#anchors =tf.constant(np.array([[0,0,0.02078,0.049],[0,0,0.0426,0.128],[0,0,0.08523,0.19356],[0,0,0.1506,0.4163],[0,0,0.27835,0.58651],[0,0,0.5632,0.78614]]),dtype=tf.float32)\n",
    "\n",
    "anchors =tf.constant(np.array([[10/416,14/416],[23/416,27/416],[37/416,58/416],[81/416,82/416],[135/416,169/416],[344/416,319/416]]),dtype=tf.float32)\n",
    "\n",
    "\n",
    "model = TinyYOLOv3(1,anchor_boxes=anchors,train=True,mode = \"finetuning\")\n",
    "model.build(batch_input_shape=(None,416,416,3))\n",
    "#print(model.load_weights_darknet(\"/home/sergio/TinyYOLOv3-Pedestrian-Detection/yolov3-tiny.weights\"))\n",
    "model.load_weights('/home/sergio/Documents/weights_saved/pesos_finetuning_5521_40_60_epoch_nadam_0dot00001_mse_mse_default_anchors')"
   ]
  },
  {
   "cell_type": "code",
   "execution_count": 7,
   "metadata": {},
   "outputs": [],
   "source": [
    "tf.random.set_seed(0)\n",
    "\n",
    "from tensorflow.keras.metrics import TrueNegatives,TruePositives,FalseNegatives,FalsePositives,Precision,Recall\n",
    "\n",
    "opt = tf.keras.optimizers.Nadam(learning_rate=1e-4)\n",
    "\n",
    "losses = {\"output_1\": loss_xy,\n",
    "          \"output_2\": loss_wh,\n",
    "          \"output_3\":loss_objectness,\n",
    "          \"output_4\":loss_no_objectness  \n",
    "}\n",
    "\n",
    "metrics = {\"output_3\":[Precision(),Recall(),TrueNegatives(),TruePositives(),FalseNegatives(),FalsePositives()]}\n",
    "model.compile(optimizer=opt, loss=losses,metrics=metrics,loss_weights=[5,5,2,1])\n",
    "os.chdir(\"/home/sergio/Documents/pedestrian_dataset_train_tfr\")"
   ]
  },
  {
   "cell_type": "code",
   "execution_count": 8,
   "metadata": {},
   "outputs": [
    {
     "name": "stdout",
     "output_type": "stream",
     "text": [
      "Modo entrenamiento\n",
      "Epoch 1/20\n",
      "Modo entrenamiento\n",
      "Modo entrenamiento\n",
      "   4607/Unknown - 570s 124ms/step - loss: 28.9448 - output_1_loss: 2.6022 - output_2_loss: 1.0635 - output_3_loss: 0.0320 - output_4_loss: 10.5524 - output_3_precision: 0.7069 - output_3_recall: 0.2428 - output_3_true_negatives: 186526304.0000 - output_3_true_positives: 65744.0000 - output_3_false_negatives: 205024.0000 - output_3_false_positives: 27263.0000Modo entrenamiento\n",
      "4607/4607 [==============================] - 578s 125ms/step - loss: 28.9448 - output_1_loss: 2.6022 - output_2_loss: 1.0635 - output_3_loss: 0.0320 - output_4_loss: 10.5524 - output_3_precision: 0.7069 - output_3_recall: 0.2428 - output_3_true_negatives: 186526304.0000 - output_3_true_positives: 65744.0000 - output_3_false_negatives: 205024.0000 - output_3_false_positives: 27263.0000 - val_loss: 16.3786 - val_output_1_loss: 1.0421 - val_output_2_loss: 0.3106 - val_output_3_loss: 0.0301 - val_output_4_loss: 9.5547 - val_output_3_precision: 0.7624 - val_output_3_recall: 0.3152 - val_output_3_true_negatives: 7591974.0000 - val_output_3_true_positives: 3738.0000 - val_output_3_false_negatives: 8123.0000 - val_output_3_false_positives: 1165.0000\n",
      "Epoch 2/20\n",
      "4607/4607 [==============================] - 578s 126ms/step - loss: 28.2319 - output_1_loss: 2.5675 - output_2_loss: 0.9637 - output_3_loss: 0.0319 - output_4_loss: 10.5119 - output_3_precision: 0.7069 - output_3_recall: 0.2458 - output_3_true_negatives: 186525984.0000 - output_3_true_positives: 66543.0000 - output_3_false_negatives: 204125.0000 - output_3_false_positives: 27592.0000 - val_loss: 16.2925 - val_output_1_loss: 1.0407 - val_output_2_loss: 0.3162 - val_output_3_loss: 0.0299 - val_output_4_loss: 9.4484 - val_output_3_precision: 0.7761 - val_output_3_recall: 0.2980 - val_output_3_true_negatives: 7592119.0000 - val_output_3_true_positives: 3535.0000 - val_output_3_false_negatives: 8326.0000 - val_output_3_false_positives: 1020.0000\n",
      "Epoch 3/20\n",
      "4607/4607 [==============================] - 576s 125ms/step - loss: 28.4209 - output_1_loss: 2.5691 - output_2_loss: 1.0086 - output_3_loss: 0.0318 - output_4_loss: 10.4689 - output_3_precision: 0.7083 - output_3_recall: 0.2475 - output_3_true_negatives: 186525968.0000 - output_3_true_positives: 67010.0000 - output_3_false_negatives: 203693.0000 - output_3_false_positives: 27603.0000 - val_loss: 16.2100 - val_output_1_loss: 1.0175 - val_output_2_loss: 0.3233 - val_output_3_loss: 0.0299 - val_output_4_loss: 9.4462 - val_output_3_precision: 0.7959 - val_output_3_recall: 0.2956 - val_output_3_true_negatives: 7592240.0000 - val_output_3_true_positives: 3506.0000 - val_output_3_false_negatives: 8355.0000 - val_output_3_false_positives: 899.0000\n",
      "Epoch 4/20\n",
      "4607/4607 [==============================] - 585s 127ms/step - loss: 28.6509 - output_1_loss: 2.5852 - output_2_loss: 1.0476 - output_3_loss: 0.0317 - output_4_loss: 10.4233 - output_3_precision: 0.7124 - output_3_recall: 0.2508 - output_3_true_negatives: 186525984.0000 - output_3_true_positives: 67913.0000 - output_3_false_negatives: 202834.0000 - output_3_false_positives: 27423.0000 - val_loss: 16.3949 - val_output_1_loss: 1.0631 - val_output_2_loss: 0.3074 - val_output_3_loss: 0.0300 - val_output_4_loss: 9.4826 - val_output_3_precision: 0.7717 - val_output_3_recall: 0.3140 - val_output_3_true_negatives: 7592037.0000 - val_output_3_true_positives: 3724.0000 - val_output_3_false_negatives: 8137.0000 - val_output_3_false_positives: 1102.0000\n",
      "Epoch 5/20\n",
      "4607/4607 [==============================] - 590s 128ms/step - loss: 28.1584 - output_1_loss: 2.5461 - output_2_loss: 0.9910 - output_3_loss: 0.0317 - output_4_loss: 10.4096 - output_3_precision: 0.7131 - output_3_recall: 0.2533 - output_3_true_negatives: 186526240.0000 - output_3_true_positives: 68606.0000 - output_3_false_negatives: 202199.0000 - output_3_false_positives: 27598.0000 - val_loss: 15.9529 - val_output_1_loss: 1.0136 - val_output_2_loss: 0.3066 - val_output_3_loss: 0.0296 - val_output_4_loss: 9.2929 - val_output_3_precision: 0.7770 - val_output_3_recall: 0.3111 - val_output_3_true_negatives: 7592080.0000 - val_output_3_true_positives: 3690.0000 - val_output_3_false_negatives: 8171.0000 - val_output_3_false_positives: 1059.0000\n",
      "Epoch 6/20\n",
      "4607/4607 [==============================] - 612s 133ms/step - loss: 27.8552 - output_1_loss: 2.5267 - output_2_loss: 0.9635 - output_3_loss: 0.0314 - output_4_loss: 10.3413 - output_3_precision: 0.7142 - output_3_recall: 0.2567 - output_3_true_negatives: 186525904.0000 - output_3_true_positives: 69474.0000 - output_3_false_negatives: 201209.0000 - output_3_false_positives: 27806.0000 - val_loss: 15.8168 - val_output_1_loss: 1.0122 - val_output_2_loss: 0.3023 - val_output_3_loss: 0.0292 - val_output_4_loss: 9.1857 - val_output_3_precision: 0.7895 - val_output_3_recall: 0.3209 - val_output_3_true_negatives: 7592124.0000 - val_output_3_true_positives: 3806.0000 - val_output_3_false_negatives: 8055.0000 - val_output_3_false_positives: 1015.0000\n",
      "Epoch 7/20\n",
      "4607/4607 [==============================] - 613s 133ms/step - loss: 28.0288 - output_1_loss: 2.5333 - output_2_loss: 0.9960 - output_3_loss: 0.0314 - output_4_loss: 10.3196 - output_3_precision: 0.7149 - output_3_recall: 0.2581 - output_3_true_negatives: 186525616.0000 - output_3_true_positives: 69857.0000 - output_3_false_negatives: 200841.0000 - output_3_false_positives: 27855.0000 - val_loss: 15.6922 - val_output_1_loss: 0.9682 - val_output_2_loss: 0.3057 - val_output_3_loss: 0.0295 - val_output_4_loss: 9.2639 - val_output_3_precision: 0.7803 - val_output_3_recall: 0.3246 - val_output_3_true_negatives: 7592055.0000 - val_output_3_true_positives: 3850.0000 - val_output_3_false_negatives: 8011.0000 - val_output_3_false_positives: 1084.0000\n",
      "Epoch 8/20\n",
      "4607/4607 [==============================] - 602s 131ms/step - loss: 27.8043 - output_1_loss: 2.5209 - output_2_loss: 0.9733 - output_3_loss: 0.0313 - output_4_loss: 10.2705 - output_3_precision: 0.7149 - output_3_recall: 0.2609 - output_3_true_negatives: 186525456.0000 - output_3_true_positives: 70619.0000 - output_3_false_negatives: 200011.0000 - output_3_false_positives: 28165.0000 - val_loss: 15.6658 - val_output_1_loss: 0.9875 - val_output_2_loss: 0.2981 - val_output_3_loss: 0.0292 - val_output_4_loss: 9.1795 - val_output_3_precision: 0.7743 - val_output_3_recall: 0.3327 - val_output_3_true_negatives: 7591989.0000 - val_output_3_true_positives: 3946.0000 - val_output_3_false_negatives: 7915.0000 - val_output_3_false_positives: 1150.0000\n",
      "Epoch 9/20\n",
      "4607/4607 [==============================] - 623s 135ms/step - loss: 27.6826 - output_1_loss: 2.5349 - output_2_loss: 0.9415 - output_3_loss: 0.0311 - output_4_loss: 10.2383 - output_3_precision: 0.7164 - output_3_recall: 0.2634 - output_3_true_negatives: 186525408.0000 - output_3_true_positives: 71302.0000 - output_3_false_negatives: 199428.0000 - output_3_false_positives: 28223.0000 - val_loss: 15.5328 - val_output_1_loss: 0.9817 - val_output_2_loss: 0.2972 - val_output_3_loss: 0.0290 - val_output_4_loss: 9.0802 - val_output_3_precision: 0.7921 - val_output_3_recall: 0.3286 - val_output_3_true_negatives: 7592116.0000 - val_output_3_true_positives: 3898.0000 - val_output_3_false_negatives: 7963.0000 - val_output_3_false_positives: 1023.0000\n",
      "Epoch 10/20\n",
      "4607/4607 [==============================] - 617s 134ms/step - loss: 27.8221 - output_1_loss: 2.5159 - output_2_loss: 0.9914 - output_3_loss: 0.0312 - output_4_loss: 10.2236 - output_3_precision: 0.7174 - output_3_recall: 0.2654 - output_3_true_negatives: 186525408.0000 - output_3_true_positives: 71868.0000 - output_3_false_negatives: 198894.0000 - output_3_false_positives: 28304.0000 - val_loss: 15.3450 - val_output_1_loss: 0.9535 - val_output_2_loss: 0.2974 - val_output_3_loss: 0.0287 - val_output_4_loss: 9.0333 - val_output_3_precision: 0.7907 - val_output_3_recall: 0.3380 - val_output_3_true_negatives: 7592078.0000 - val_output_3_true_positives: 4009.0000 - val_output_3_false_negatives: 7852.0000 - val_output_3_false_positives: 1061.0000\n",
      "Epoch 11/20\n",
      "4607/4607 [==============================] - 608s 132ms/step - loss: 27.6438 - output_1_loss: 2.5057 - output_2_loss: 0.9744 - output_3_loss: 0.0311 - output_4_loss: 10.1811 - output_3_precision: 0.7200 - output_3_recall: 0.2695 - output_3_true_negatives: 186524944.0000 - output_3_true_positives: 72971.0000 - output_3_false_negatives: 197773.0000 - output_3_false_positives: 28384.0000 - val_loss: 15.3971 - val_output_1_loss: 0.9584 - val_output_2_loss: 0.3105 - val_output_3_loss: 0.0287 - val_output_4_loss: 8.9950 - val_output_3_precision: 0.7930 - val_output_3_recall: 0.3216 - val_output_3_true_negatives: 7592143.0000 - val_output_3_true_positives: 3815.0000 - val_output_3_false_negatives: 8046.0000 - val_output_3_false_positives: 996.0000\n",
      "Epoch 12/20\n",
      "4607/4607 [==============================] - 619s 134ms/step - loss: 27.5342 - output_1_loss: 2.4795 - output_2_loss: 0.9861 - output_3_loss: 0.0309 - output_4_loss: 10.1443 - output_3_precision: 0.7204 - output_3_recall: 0.2697 - output_3_true_negatives: 186525296.0000 - output_3_true_positives: 73018.0000 - output_3_false_negatives: 197745.0000 - output_3_false_positives: 28336.0000 - val_loss: 14.9387 - val_output_1_loss: 0.9100 - val_output_2_loss: 0.2946 - val_output_3_loss: 0.0283 - val_output_4_loss: 8.8593 - val_output_3_precision: 0.7893 - val_output_3_recall: 0.3512 - val_output_3_true_negatives: 7592027.0000 - val_output_3_true_positives: 4165.0000 - val_output_3_false_negatives: 7696.0000 - val_output_3_false_positives: 1112.0000\n",
      "Epoch 13/20\n",
      "4607/4607 [==============================] - 619s 134ms/step - loss: 27.7886 - output_1_loss: 2.5018 - output_2_loss: 1.0169 - output_3_loss: 0.0309 - output_4_loss: 10.1335 - output_3_precision: 0.7242 - output_3_recall: 0.2740 - output_3_true_negatives: 186525296.0000 - output_3_true_positives: 74189.0000 - output_3_false_negatives: 196541.0000 - output_3_false_positives: 28257.0000 - val_loss: 14.8992 - val_output_1_loss: 0.9230 - val_output_2_loss: 0.2934 - val_output_3_loss: 0.0280 - val_output_4_loss: 8.7612 - val_output_3_precision: 0.7904 - val_output_3_recall: 0.3597 - val_output_3_true_negatives: 7592008.0000 - val_output_3_true_positives: 4266.0000 - val_output_3_false_negatives: 7595.0000 - val_output_3_false_positives: 1131.0000\n",
      "Epoch 14/20\n",
      "4607/4607 [==============================] - 610s 132ms/step - loss: 27.0633 - output_1_loss: 2.4832 - output_2_loss: 0.9047 - output_3_loss: 0.0308 - output_4_loss: 10.0625 - output_3_precision: 0.7228 - output_3_recall: 0.2767 - output_3_true_negatives: 186524736.0000 - output_3_true_positives: 74912.0000 - output_3_false_negatives: 195854.0000 - output_3_false_positives: 28724.0000 - val_loss: 15.2790 - val_output_1_loss: 0.9752 - val_output_2_loss: 0.3047 - val_output_3_loss: 0.0282 - val_output_4_loss: 8.8233 - val_output_3_precision: 0.8019 - val_output_3_recall: 0.3404 - val_output_3_true_negatives: 7592142.0000 - val_output_3_true_positives: 4037.0000 - val_output_3_false_negatives: 7824.0000 - val_output_3_false_positives: 997.0000\n",
      "Epoch 15/20\n",
      "4607/4607 [==============================] - 623s 135ms/step - loss: 27.3847 - output_1_loss: 2.4720 - output_2_loss: 0.9870 - output_3_loss: 0.0306 - output_4_loss: 10.0285 - output_3_precision: 0.7255 - output_3_recall: 0.2805 - output_3_true_negatives: 186524800.0000 - output_3_true_positives: 75948.0000 - output_3_false_negatives: 194796.0000 - output_3_false_positives: 28732.0000 - val_loss: 14.7745 - val_output_1_loss: 0.9200 - val_output_2_loss: 0.2864 - val_output_3_loss: 0.0279 - val_output_4_loss: 8.6863 - val_output_3_precision: 0.8046 - val_output_3_recall: 0.3552 - val_output_3_true_negatives: 7592116.0000 - val_output_3_true_positives: 4213.0000 - val_output_3_false_negatives: 7648.0000 - val_output_3_false_positives: 1023.0000\n",
      "Epoch 16/20\n",
      "4607/4607 [==============================] - 600s 130ms/step - loss: 27.0317 - output_1_loss: 2.4565 - output_2_loss: 0.9420 - output_3_loss: 0.0305 - output_4_loss: 9.9780 - output_3_precision: 0.7278 - output_3_recall: 0.2833 - output_3_true_negatives: 186524976.0000 - output_3_true_positives: 76712.0000 - output_3_false_negatives: 194031.0000 - output_3_false_positives: 28697.0000 - val_loss: 14.6434 - val_output_1_loss: 0.9119 - val_output_2_loss: 0.2899 - val_output_3_loss: 0.0276 - val_output_4_loss: 8.5794 - val_output_3_precision: 0.7973 - val_output_3_recall: 0.3698 - val_output_3_true_negatives: 7592024.0000 - val_output_3_true_positives: 4386.0000 - val_output_3_false_negatives: 7475.0000 - val_output_3_false_positives: 1115.0000\n",
      "Epoch 17/20\n",
      "4607/4607 [==============================] - 607s 132ms/step - loss: 27.2686 - output_1_loss: 2.4760 - output_2_loss: 0.9748 - output_3_loss: 0.0304 - output_4_loss: 9.9538 - output_3_precision: 0.7281 - output_3_recall: 0.2859 - output_3_true_negatives: 186524672.0000 - output_3_true_positives: 77391.0000 - output_3_false_negatives: 193332.0000 - output_3_false_positives: 28901.0000 - val_loss: 14.5651 - val_output_1_loss: 0.9017 - val_output_2_loss: 0.2899 - val_output_3_loss: 0.0275 - val_output_4_loss: 8.5521 - val_output_3_precision: 0.8022 - val_output_3_recall: 0.3683 - val_output_3_true_negatives: 7592062.0000 - val_output_3_true_positives: 4368.0000 - val_output_3_false_negatives: 7493.0000 - val_output_3_false_positives: 1077.0000\n",
      "Epoch 18/20\n",
      "4607/4607 [==============================] - 606s 131ms/step - loss: 27.1963 - output_1_loss: 2.4651 - output_2_loss: 0.9782 - output_3_loss: 0.0304 - output_4_loss: 9.9194 - output_3_precision: 0.7303 - output_3_recall: 0.2890 - output_3_true_negatives: 186524640.0000 - output_3_true_positives: 78230.0000 - output_3_false_negatives: 192499.0000 - output_3_false_positives: 28890.0000 - val_loss: 14.6912 - val_output_1_loss: 0.9105 - val_output_2_loss: 0.2899 - val_output_3_loss: 0.0277 - val_output_4_loss: 8.6335 - val_output_3_precision: 0.8043 - val_output_3_recall: 0.3545 - val_output_3_true_negatives: 7592116.0000 - val_output_3_true_positives: 4205.0000 - val_output_3_false_negatives: 7656.0000 - val_output_3_false_positives: 1023.0000\n",
      "Epoch 19/20\n",
      "4607/4607 [==============================] - 609s 132ms/step - loss: 26.9665 - output_1_loss: 2.4548 - output_2_loss: 0.9468 - output_3_loss: 0.0303 - output_4_loss: 9.8979 - output_3_precision: 0.7302 - output_3_recall: 0.2906 - output_3_true_negatives: 186524512.0000 - output_3_true_positives: 78664.0000 - output_3_false_negatives: 192067.0000 - output_3_false_positives: 29071.0000 - val_loss: 14.3896 - val_output_1_loss: 0.8859 - val_output_2_loss: 0.2877 - val_output_3_loss: 0.0272 - val_output_4_loss: 8.4672 - val_output_3_precision: 0.7889 - val_output_3_recall: 0.3785 - val_output_3_true_negatives: 7591938.0000 - val_output_3_true_positives: 4489.0000 - val_output_3_false_negatives: 7372.0000 - val_output_3_false_positives: 1201.0000\n",
      "Epoch 20/20\n",
      "4607/4607 [==============================] - 598s 130ms/step - loss: 27.0193 - output_1_loss: 2.4573 - output_2_loss: 0.9618 - output_3_loss: 0.0302 - output_4_loss: 9.8631 - output_3_precision: 0.7307 - output_3_recall: 0.2939 - output_3_true_negatives: 186524288.0000 - output_3_true_positives: 79593.0000 - output_3_false_negatives: 191222.0000 - output_3_false_positives: 29330.0000 - val_loss: 14.4228 - val_output_1_loss: 0.8926 - val_output_2_loss: 0.2849 - val_output_3_loss: 0.0274 - val_output_4_loss: 8.4806 - val_output_3_precision: 0.8067 - val_output_3_recall: 0.3697 - val_output_3_true_negatives: 7592088.0000 - val_output_3_true_positives: 4385.0000 - val_output_3_false_negatives: 7476.0000 - val_output_3_false_positives: 1051.0000\n"
     ]
    }
   ],
   "source": [
    "history = model.fit(train_dataset, epochs=20,validation_data=val_dataset)"
   ]
  },
  {
   "cell_type": "code",
   "execution_count": null,
   "metadata": {},
   "outputs": [],
   "source": []
  },
  {
   "cell_type": "code",
   "execution_count": null,
   "metadata": {},
   "outputs": [],
   "source": []
  },
  {
   "cell_type": "code",
   "execution_count": 9,
   "metadata": {},
   "outputs": [],
   "source": [
    "\n",
    "os.chdir(\"/home/sergio/Documents/json_experiments\")\n",
    "import json\n",
    "#json.dumps(str(a))\n",
    "with open('history_finetuning_5521_60_80_epoch_nadam_0dot00001_mse_mse_default_anchors.json', 'w') as fp:\n",
    "    json.dump(str(history.history), fp)\n"
   ]
  },
  {
   "cell_type": "code",
   "execution_count": 10,
   "metadata": {},
   "outputs": [],
   "source": [
    "model.save_weights('/home/sergio/Documents/weights_saved/pesos_finetuning_5521_60_80_epoch_nadam_0dot00001_mse_mse_default_anchors')"
   ]
  },
  {
   "cell_type": "markdown",
   "metadata": {},
   "source": [
    "## CONT9NUACION"
   ]
  },
  {
   "cell_type": "code",
   "execution_count": 11,
   "metadata": {},
   "outputs": [],
   "source": [
    "os.chdir(\"/home/sergio/Documents/pedestrian_dataset_train_tfr\")"
   ]
  },
  {
   "cell_type": "code",
   "execution_count": 12,
   "metadata": {},
   "outputs": [
    {
     "name": "stdout",
     "output_type": "stream",
     "text": [
      "Epoch 1/20\n",
      "4607/4607 [==============================] - 566s 123ms/step - loss: 27.2906 - output_1_loss: 2.4725 - output_2_loss: 1.0035 - output_3_loss: 0.0302 - output_4_loss: 9.8502 - output_3_precision: 0.7312 - output_3_recall: 0.2951 - output_3_true_negatives: 186524304.0000 - output_3_true_positives: 79893.0000 - output_3_false_negatives: 190858.0000 - output_3_false_positives: 29374.0000 - val_loss: 14.1480 - val_output_1_loss: 0.8620 - val_output_2_loss: 0.2868 - val_output_3_loss: 0.0270 - val_output_4_loss: 8.3500 - val_output_3_precision: 0.7990 - val_output_3_recall: 0.3847 - val_output_3_true_negatives: 7591991.0000 - val_output_3_true_positives: 4563.0000 - val_output_3_false_negatives: 7298.0000 - val_output_3_false_positives: 1148.0000\n",
      "Epoch 2/20\n",
      "4607/4607 [==============================] - 564s 122ms/step - loss: 27.2521 - output_1_loss: 2.4898 - output_2_loss: 0.9866 - output_3_loss: 0.0301 - output_4_loss: 9.8102 - output_3_precision: 0.7349 - output_3_recall: 0.2979 - output_3_true_negatives: 186524384.0000 - output_3_true_positives: 80641.0000 - output_3_false_negatives: 190066.0000 - output_3_false_positives: 29097.0000 - val_loss: 14.0364 - val_output_1_loss: 0.8665 - val_output_2_loss: 0.2809 - val_output_3_loss: 0.0266 - val_output_4_loss: 8.2463 - val_output_3_precision: 0.8169 - val_output_3_recall: 0.3781 - val_output_3_true_negatives: 7592134.0000 - val_output_3_true_positives: 4485.0000 - val_output_3_false_negatives: 7376.0000 - val_output_3_false_positives: 1005.0000\n",
      "Epoch 3/20\n",
      "4607/4607 [==============================] - 574s 125ms/step - loss: 26.6790 - output_1_loss: 2.4445 - output_2_loss: 0.9268 - output_3_loss: 0.0300 - output_4_loss: 9.7626 - output_3_precision: 0.7361 - output_3_recall: 0.3007 - output_3_true_negatives: 186524416.0000 - output_3_true_positives: 81428.0000 - output_3_false_negatives: 189403.0000 - output_3_false_positives: 29200.0000 - val_loss: 14.1017 - val_output_1_loss: 0.8704 - val_output_2_loss: 0.2871 - val_output_3_loss: 0.0266 - val_output_4_loss: 8.2612 - val_output_3_precision: 0.8023 - val_output_3_recall: 0.3995 - val_output_3_true_negatives: 7591971.0000 - val_output_3_true_positives: 4739.0000 - val_output_3_false_negatives: 7122.0000 - val_output_3_false_positives: 1168.0000\n",
      "Epoch 4/20\n",
      "4607/4607 [==============================] - 571s 124ms/step - loss: 26.6946 - output_1_loss: 2.4490 - output_2_loss: 0.9346 - output_3_loss: 0.0298 - output_4_loss: 9.7169 - output_3_precision: 0.7377 - output_3_recall: 0.3040 - output_3_true_negatives: 186524224.0000 - output_3_true_positives: 82321.0000 - output_3_false_negatives: 188452.0000 - output_3_false_positives: 29270.0000 - val_loss: 14.0529 - val_output_1_loss: 0.8795 - val_output_2_loss: 0.2812 - val_output_3_loss: 0.0264 - val_output_4_loss: 8.1965 - val_output_3_precision: 0.8028 - val_output_3_recall: 0.4065 - val_output_3_true_negatives: 7591955.0000 - val_output_3_true_positives: 4821.0000 - val_output_3_false_negatives: 7040.0000 - val_output_3_false_positives: 1184.0000\n",
      "Epoch 5/20\n",
      "4607/4607 [==============================] - 576s 125ms/step - loss: 26.4693 - output_1_loss: 2.4059 - output_2_loss: 0.9404 - output_3_loss: 0.0297 - output_4_loss: 9.6785 - output_3_precision: 0.7388 - output_3_recall: 0.3076 - output_3_true_negatives: 186524096.0000 - output_3_true_positives: 83314.0000 - output_3_false_negatives: 187503.0000 - output_3_false_positives: 29458.0000 - val_loss: 13.9691 - val_output_1_loss: 0.8637 - val_output_2_loss: 0.2923 - val_output_3_loss: 0.0263 - val_output_4_loss: 8.1365 - val_output_3_precision: 0.8136 - val_output_3_recall: 0.3975 - val_output_3_true_negatives: 7592059.0000 - val_output_3_true_positives: 4715.0000 - val_output_3_false_negatives: 7146.0000 - val_output_3_false_positives: 1080.0000\n",
      "Epoch 6/20\n",
      "4607/4607 [==============================] - 605s 131ms/step - loss: 26.5306 - output_1_loss: 2.4232 - output_2_loss: 0.9361 - output_3_loss: 0.0297 - output_4_loss: 9.6745 - output_3_precision: 0.7376 - output_3_recall: 0.3084 - output_3_true_negatives: 186523904.0000 - output_3_true_positives: 83472.0000 - output_3_false_negatives: 187201.0000 - output_3_false_positives: 29688.0000 - val_loss: 13.9241 - val_output_1_loss: 0.8611 - val_output_2_loss: 0.2812 - val_output_3_loss: 0.0264 - val_output_4_loss: 8.1600 - val_output_3_precision: 0.8018 - val_output_3_recall: 0.4094 - val_output_3_true_negatives: 7591939.0000 - val_output_3_true_positives: 4856.0000 - val_output_3_false_negatives: 7005.0000 - val_output_3_false_positives: 1200.0000\n",
      "Epoch 7/20\n",
      "4607/4607 [==============================] - 616s 134ms/step - loss: 26.8779 - output_1_loss: 2.4612 - output_2_loss: 0.9698 - output_3_loss: 0.0296 - output_4_loss: 9.6639 - output_3_precision: 0.7394 - output_3_recall: 0.3099 - output_3_true_negatives: 186524304.0000 - output_3_true_positives: 83877.0000 - output_3_false_negatives: 186784.0000 - output_3_false_positives: 29566.0000 - val_loss: 13.7736 - val_output_1_loss: 0.8544 - val_output_2_loss: 0.2781 - val_output_3_loss: 0.0261 - val_output_4_loss: 8.0593 - val_output_3_precision: 0.8139 - val_output_3_recall: 0.3959 - val_output_3_true_negatives: 7592065.0000 - val_output_3_true_positives: 4696.0000 - val_output_3_false_negatives: 7165.0000 - val_output_3_false_positives: 1074.0000\n",
      "Epoch 8/20\n",
      "4607/4607 [==============================] - 613s 133ms/step - loss: 26.6794 - output_1_loss: 2.4279 - output_2_loss: 0.9729 - output_3_loss: 0.0295 - output_4_loss: 9.6164 - output_3_precision: 0.7414 - output_3_recall: 0.3118 - output_3_true_negatives: 186524208.0000 - output_3_true_positives: 84401.0000 - output_3_false_negatives: 186253.0000 - output_3_false_positives: 29435.0000 - val_loss: 14.0513 - val_output_1_loss: 0.8772 - val_output_2_loss: 0.2813 - val_output_3_loss: 0.0264 - val_output_4_loss: 8.2059 - val_output_3_precision: 0.8088 - val_output_3_recall: 0.3904 - val_output_3_true_negatives: 7592044.0000 - val_output_3_true_positives: 4631.0000 - val_output_3_false_negatives: 7230.0000 - val_output_3_false_positives: 1095.0000\n",
      "Epoch 9/20\n",
      "4607/4607 [==============================] - 610s 132ms/step - loss: 26.4322 - output_1_loss: 2.4251 - output_2_loss: 0.9275 - output_3_loss: 0.0295 - output_4_loss: 9.6105 - output_3_precision: 0.7423 - output_3_recall: 0.3136 - output_3_true_negatives: 186523904.0000 - output_3_true_positives: 84945.0000 - output_3_false_negatives: 185893.0000 - output_3_false_positives: 29488.0000 - val_loss: 13.5674 - val_output_1_loss: 0.8324 - val_output_2_loss: 0.2758 - val_output_3_loss: 0.0259 - val_output_4_loss: 7.9744 - val_output_3_precision: 0.8203 - val_output_3_recall: 0.4109 - val_output_3_true_negatives: 7592071.0000 - val_output_3_true_positives: 4874.0000 - val_output_3_false_negatives: 6987.0000 - val_output_3_false_positives: 1068.0000\n",
      "Epoch 10/20\n",
      "4607/4607 [==============================] - 617s 134ms/step - loss: 26.4426 - output_1_loss: 2.3923 - output_2_loss: 0.9707 - output_3_loss: 0.0294 - output_4_loss: 9.5686 - output_3_precision: 0.7440 - output_3_recall: 0.3178 - output_3_true_negatives: 186523968.0000 - output_3_true_positives: 86036.0000 - output_3_false_negatives: 184681.0000 - output_3_false_positives: 29610.0000 - val_loss: 13.4967 - val_output_1_loss: 0.8211 - val_output_2_loss: 0.2781 - val_output_3_loss: 0.0258 - val_output_4_loss: 7.9491 - val_output_3_precision: 0.8061 - val_output_3_recall: 0.4199 - val_output_3_true_negatives: 7591941.0000 - val_output_3_true_positives: 4980.0000 - val_output_3_false_negatives: 6881.0000 - val_output_3_false_positives: 1198.0000\n",
      "Epoch 11/20\n",
      "4607/4607 [==============================] - 617s 134ms/step - loss: 26.1265 - output_1_loss: 2.3848 - output_2_loss: 0.9248 - output_3_loss: 0.0293 - output_4_loss: 9.5199 - output_3_precision: 0.7448 - output_3_recall: 0.3199 - output_3_true_negatives: 186523728.0000 - output_3_true_positives: 86635.0000 - output_3_false_negatives: 184221.0000 - output_3_false_positives: 29688.0000 - val_loss: 13.7771 - val_output_1_loss: 0.8651 - val_output_2_loss: 0.2870 - val_output_3_loss: 0.0258 - val_output_4_loss: 7.9653 - val_output_3_precision: 0.8087 - val_output_3_recall: 0.4135 - val_output_3_true_negatives: 7591979.0000 - val_output_3_true_positives: 4905.0000 - val_output_3_false_negatives: 6956.0000 - val_output_3_false_positives: 1160.0000\n",
      "Epoch 12/20\n",
      "4607/4607 [==============================] - 613s 133ms/step - loss: 25.9224 - output_1_loss: 2.3718 - output_2_loss: 0.9083 - output_3_loss: 0.0291 - output_4_loss: 9.4637 - output_3_precision: 0.7470 - output_3_recall: 0.3235 - output_3_true_negatives: 186523952.0000 - output_3_true_positives: 87565.0000 - output_3_false_negatives: 183125.0000 - output_3_false_positives: 29663.0000 - val_loss: 13.5467 - val_output_1_loss: 0.8543 - val_output_2_loss: 0.2787 - val_output_3_loss: 0.0254 - val_output_4_loss: 7.8308 - val_output_3_precision: 0.8139 - val_output_3_recall: 0.4266 - val_output_3_true_negatives: 7591982.0000 - val_output_3_true_positives: 5060.0000 - val_output_3_false_negatives: 6801.0000 - val_output_3_false_positives: 1157.0000\n",
      "Epoch 13/20\n",
      "4607/4607 [==============================] - 609s 132ms/step - loss: 26.0414 - output_1_loss: 2.3705 - output_2_loss: 0.9359 - output_3_loss: 0.0291 - output_4_loss: 9.4510 - output_3_precision: 0.7470 - output_3_recall: 0.3261 - output_3_true_negatives: 186523936.0000 - output_3_true_positives: 88271.0000 - output_3_false_negatives: 182381.0000 - output_3_false_positives: 29889.0000 - val_loss: 13.3624 - val_output_1_loss: 0.8288 - val_output_2_loss: 0.2773 - val_output_3_loss: 0.0253 - val_output_4_loss: 7.7815 - val_output_3_precision: 0.8001 - val_output_3_recall: 0.4484 - val_output_3_true_negatives: 7591810.0000 - val_output_3_true_positives: 5318.0000 - val_output_3_false_negatives: 6543.0000 - val_output_3_false_positives: 1329.0000\n",
      "Epoch 14/20\n",
      "4607/4607 [==============================] - 618s 134ms/step - loss: 25.9987 - output_1_loss: 2.3838 - output_2_loss: 0.9209 - output_3_loss: 0.0290 - output_4_loss: 9.4168 - output_3_precision: 0.7515 - output_3_recall: 0.3296 - output_3_true_negatives: 186523872.0000 - output_3_true_positives: 89241.0000 - output_3_false_negatives: 181492.0000 - output_3_false_positives: 29509.0000 - val_loss: 13.3059 - val_output_1_loss: 0.8255 - val_output_2_loss: 0.2736 - val_output_3_loss: 0.0252 - val_output_4_loss: 7.7598 - val_output_3_precision: 0.8257 - val_output_3_recall: 0.4301 - val_output_3_true_negatives: 7592062.0000 - val_output_3_true_positives: 5101.0000 - val_output_3_false_negatives: 6760.0000 - val_output_3_false_positives: 1077.0000\n",
      "Epoch 15/20\n",
      "4607/4607 [==============================] - 621s 135ms/step - loss: 25.9245 - output_1_loss: 2.3820 - output_2_loss: 0.9141 - output_3_loss: 0.0289 - output_4_loss: 9.3866 - output_3_precision: 0.7499 - output_3_recall: 0.3295 - output_3_true_negatives: 186523776.0000 - output_3_true_positives: 89201.0000 - output_3_false_negatives: 181531.0000 - output_3_false_positives: 29757.0000 - val_loss: 13.3336 - val_output_1_loss: 0.8331 - val_output_2_loss: 0.2812 - val_output_3_loss: 0.0252 - val_output_4_loss: 7.7120 - val_output_3_precision: 0.8269 - val_output_3_recall: 0.4257 - val_output_3_true_negatives: 7592082.0000 - val_output_3_true_positives: 5049.0000 - val_output_3_false_negatives: 6812.0000 - val_output_3_false_positives: 1057.0000\n",
      "Epoch 16/20\n",
      "4607/4607 [==============================] - 610s 132ms/step - loss: 26.0153 - output_1_loss: 2.3811 - output_2_loss: 0.9356 - output_3_loss: 0.0289 - output_4_loss: 9.3740 - output_3_precision: 0.7507 - output_3_recall: 0.3325 - output_3_true_negatives: 186524016.0000 - output_3_true_positives: 90000.0000 - output_3_false_negatives: 180697.0000 - output_3_false_positives: 29888.0000 - val_loss: 13.2105 - val_output_1_loss: 0.8292 - val_output_2_loss: 0.2737 - val_output_3_loss: 0.0249 - val_output_4_loss: 7.6462 - val_output_3_precision: 0.8168 - val_output_3_recall: 0.4399 - val_output_3_true_negatives: 7591969.0000 - val_output_3_true_positives: 5218.0000 - val_output_3_false_negatives: 6643.0000 - val_output_3_false_positives: 1170.0000\n",
      "Epoch 17/20\n",
      "4607/4607 [==============================] - 609s 132ms/step - loss: 25.9139 - output_1_loss: 2.3854 - output_2_loss: 0.9148 - output_3_loss: 0.0289 - output_4_loss: 9.3551 - output_3_precision: 0.7528 - output_3_recall: 0.3339 - output_3_true_negatives: 186524208.0000 - output_3_true_positives: 90366.0000 - output_3_false_negatives: 180310.0000 - output_3_false_positives: 29680.0000 - val_loss: 12.8897 - val_output_1_loss: 0.7938 - val_output_2_loss: 0.2688 - val_output_3_loss: 0.0245 - val_output_4_loss: 7.5276 - val_output_3_precision: 0.8177 - val_output_3_recall: 0.4527 - val_output_3_true_negatives: 7591942.0000 - val_output_3_true_positives: 5369.0000 - val_output_3_false_negatives: 6492.0000 - val_output_3_false_positives: 1197.0000\n",
      "Epoch 18/20\n",
      "4607/4607 [==============================] - 610s 132ms/step - loss: 26.1011 - output_1_loss: 2.4006 - output_2_loss: 0.9475 - output_3_loss: 0.0287 - output_4_loss: 9.3034 - output_3_precision: 0.7518 - output_3_recall: 0.3378 - output_3_true_negatives: 186523536.0000 - output_3_true_positives: 91418.0000 - output_3_false_negatives: 179210.0000 - output_3_false_positives: 30180.0000 - val_loss: 12.9362 - val_output_1_loss: 0.8005 - val_output_2_loss: 0.2684 - val_output_3_loss: 0.0246 - val_output_4_loss: 7.5424 - val_output_3_precision: 0.8180 - val_output_3_recall: 0.4556 - val_output_3_true_negatives: 7591937.0000 - val_output_3_true_positives: 5404.0000 - val_output_3_false_negatives: 6457.0000 - val_output_3_false_positives: 1202.0000\n",
      "Epoch 19/20\n",
      "4607/4607 [==============================] - 612s 133ms/step - loss: 25.8534 - output_1_loss: 2.3783 - output_2_loss: 0.9220 - output_3_loss: 0.0286 - output_4_loss: 9.2946 - output_3_precision: 0.7540 - output_3_recall: 0.3378 - output_3_true_negatives: 186523744.0000 - output_3_true_positives: 91449.0000 - output_3_false_negatives: 179301.0000 - output_3_false_positives: 29841.0000 - val_loss: 12.9902 - val_output_1_loss: 0.8272 - val_output_2_loss: 0.2682 - val_output_3_loss: 0.0243 - val_output_4_loss: 7.4643 - val_output_3_precision: 0.8233 - val_output_3_recall: 0.4611 - val_output_3_true_negatives: 7591965.0000 - val_output_3_true_positives: 5469.0000 - val_output_3_false_negatives: 6392.0000 - val_output_3_false_positives: 1174.0000\n",
      "Epoch 20/20\n",
      "4607/4607 [==============================] - 604s 131ms/step - loss: 25.9430 - output_1_loss: 2.3917 - output_2_loss: 0.9283 - output_3_loss: 0.0287 - output_4_loss: 9.2857 - output_3_precision: 0.7553 - output_3_recall: 0.3406 - output_3_true_negatives: 186523792.0000 - output_3_true_positives: 92204.0000 - output_3_false_negatives: 178516.0000 - output_3_false_positives: 29868.0000 - val_loss: 12.6617 - val_output_1_loss: 0.7722 - val_output_2_loss: 0.2696 - val_output_3_loss: 0.0242 - val_output_4_loss: 7.4043 - val_output_3_precision: 0.8297 - val_output_3_recall: 0.4624 - val_output_3_true_negatives: 7592013.0000 - val_output_3_true_positives: 5485.0000 - val_output_3_false_negatives: 6376.0000 - val_output_3_false_positives: 1126.0000\n"
     ]
    }
   ],
   "source": [
    "history = model.fit(train_dataset, epochs=20,validation_data=val_dataset)"
   ]
  },
  {
   "cell_type": "code",
   "execution_count": null,
   "metadata": {},
   "outputs": [],
   "source": []
  },
  {
   "cell_type": "code",
   "execution_count": 13,
   "metadata": {},
   "outputs": [],
   "source": [
    "\n",
    "os.chdir(\"/home/sergio/Documents/json_experiments\")\n",
    "import json\n",
    "#json.dumps(str(a))\n",
    "with open('history_finetuning_5521_80_100_epoch_nadam_0dot00001_mse_mse_default_anchors.json', 'w') as fp:\n",
    "    json.dump(str(history.history), fp)\n"
   ]
  },
  {
   "cell_type": "code",
   "execution_count": 14,
   "metadata": {},
   "outputs": [],
   "source": [
    "model.save_weights('/home/sergio/Documents/weights_saved/pesos_finetuning_5521_80_100_epoch_nadam_0dot00001_mse_mse_default_anchors')"
   ]
  },
  {
   "cell_type": "code",
   "execution_count": null,
   "metadata": {},
   "outputs": [],
   "source": []
  },
  {
   "cell_type": "code",
   "execution_count": null,
   "metadata": {},
   "outputs": [],
   "source": []
  },
  {
   "cell_type": "code",
   "execution_count": null,
   "metadata": {},
   "outputs": [],
   "source": []
  },
  {
   "cell_type": "code",
   "execution_count": 7,
   "metadata": {},
   "outputs": [
    {
     "name": "stdout",
     "output_type": "stream",
     "text": [
      "Modo entrenamiento\n"
     ]
    },
    {
     "data": {
      "text/plain": [
       "<tensorflow.python.training.tracking.util.CheckpointLoadStatus at 0x7fb118560dd8>"
      ]
     },
     "execution_count": 7,
     "metadata": {},
     "output_type": "execute_result"
    }
   ],
   "source": [
    "#anchors =tf.constant(np.array([[0.026,0.062],[0.067,0.183],[0.128,0.323],[0.343,0.650]]),dtype=tf.float32)\n",
    "#anchors =tf.constant(np.array([[0,0,0.02078,0.049],[0,0,0.0426,0.128],[0,0,0.08523,0.19356],[0,0,0.1506,0.4163],[0,0,0.27835,0.58651],[0,0,0.5632,0.78614]]),dtype=tf.float32)\n",
    "\n",
    "anchors =tf.constant(np.array([[10/416,14/416],[23/416,27/416],[37/416,58/416],[81/416,82/416],[135/416,169/416],[344/416,319/416]]),dtype=tf.float32)\n",
    "\n",
    "\n",
    "model = TinyYOLOv3(1,anchor_boxes=anchors,train=True,mode = \"finetuning\")\n",
    "model.build(batch_input_shape=(None,416,416,3))\n",
    "#print(model.load_weights_darknet(\"/home/sergio/TinyYOLOv3-Pedestrian-Detection/yolov3-tiny.weights\"))\n",
    "model.load_weights('/home/sergio/Documents/weights_saved/pesos_finetuning_5521_80_100_epoch_nadam_0dot00001_mse_mse_default_anchors')"
   ]
  },
  {
   "cell_type": "code",
   "execution_count": 8,
   "metadata": {},
   "outputs": [],
   "source": [
    "tf.random.set_seed(0)\n",
    "\n",
    "from tensorflow.keras.metrics import TrueNegatives,TruePositives,FalseNegatives,FalsePositives,Precision,Recall\n",
    "\n",
    "opt = tf.keras.optimizers.Nadam(learning_rate=1e-4)\n",
    "\n",
    "losses = {\"output_1\": loss_xy,\n",
    "          \"output_2\": loss_wh,\n",
    "          \"output_3\":loss_objectness,\n",
    "          \"output_4\":loss_no_objectness  \n",
    "}\n",
    "\n",
    "metrics = {\"output_3\":[Precision(),Recall(),TrueNegatives(),TruePositives(),FalseNegatives(),FalsePositives()]}\n",
    "model.compile(optimizer=opt, loss=losses,metrics=metrics,loss_weights=[5,5,2,1])\n",
    "os.chdir(\"/home/sergio/Documents/pedestrian_dataset_train_tfr\")"
   ]
  },
  {
   "cell_type": "code",
   "execution_count": 9,
   "metadata": {},
   "outputs": [
    {
     "name": "stdout",
     "output_type": "stream",
     "text": [
      "Modo entrenamiento\n",
      "Epoch 1/20\n",
      "Modo entrenamiento\n",
      "Modo entrenamiento\n",
      "   4607/Unknown - 607s 132ms/step - loss: 25.6901 - output_1_loss: 2.3803 - output_2_loss: 0.9018 - output_3_loss: 0.0285 - output_4_loss: 9.2229 - output_3_precision: 0.7554 - output_3_recall: 0.3442 - output_3_true_negatives: 186523440.0000 - output_3_true_positives: 93184.0000 - output_3_false_negatives: 177505.0000 - output_3_false_positives: 30176.0000- 593s 132ms/step - loss: 25.6429 - output_1_loss: 2.3753 - output_2_loss: 0.8988 - output_3_loss: 0.0284 - output_4_loss: 9.2154 - output_3_precision: 0.7551 - output_3_recall: 0.3439 - output_3_true_negatives: 182469312.0000 - output_3_trueModo entrenamiento\n",
      "4607/4607 [==============================] - 615s 134ms/step - loss: 25.6901 - output_1_loss: 2.3803 - output_2_loss: 0.9018 - output_3_loss: 0.0285 - output_4_loss: 9.2229 - output_3_precision: 0.7554 - output_3_recall: 0.3442 - output_3_true_negatives: 186523440.0000 - output_3_true_positives: 93184.0000 - output_3_false_negatives: 177505.0000 - output_3_false_positives: 30176.0000 - val_loss: 12.6646 - val_output_1_loss: 0.7721 - val_output_2_loss: 0.2672 - val_output_3_loss: 0.0242 - val_output_4_loss: 7.4193 - val_output_3_precision: 0.8189 - val_output_3_recall: 0.4635 - val_output_3_true_negatives: 7591923.0000 - val_output_3_true_positives: 5498.0000 - val_output_3_false_negatives: 6363.0000 - val_output_3_false_positives: 1216.0000\n",
      "Epoch 2/20\n",
      "4607/4607 [==============================] - 610s 132ms/step - loss: 25.5332 - output_1_loss: 2.3508 - output_2_loss: 0.9112 - output_3_loss: 0.0283 - output_4_loss: 9.1669 - output_3_precision: 0.7572 - output_3_recall: 0.3474 - output_3_true_negatives: 186523424.0000 - output_3_true_positives: 94046.0000 - output_3_false_negatives: 176639.0000 - output_3_false_positives: 30150.0000 - val_loss: 12.6082 - val_output_1_loss: 0.7765 - val_output_2_loss: 0.2702 - val_output_3_loss: 0.0240 - val_output_4_loss: 7.3265 - val_output_3_precision: 0.8246 - val_output_3_recall: 0.4709 - val_output_3_true_negatives: 7591951.0000 - val_output_3_true_positives: 5585.0000 - val_output_3_false_negatives: 6276.0000 - val_output_3_false_positives: 1188.0000\n",
      "Epoch 3/20\n",
      "4607/4607 [==============================] - 614s 133ms/step - loss: 25.6753 - output_1_loss: 2.3499 - output_2_loss: 0.9401 - output_3_loss: 0.0283 - output_4_loss: 9.1686 - output_3_precision: 0.7578 - output_3_recall: 0.3491 - output_3_true_negatives: 186523168.0000 - output_3_true_positives: 94553.0000 - output_3_false_negatives: 176272.0000 - output_3_false_positives: 30215.0000 - val_loss: 12.8236 - val_output_1_loss: 0.8056 - val_output_2_loss: 0.2738 - val_output_3_loss: 0.0241 - val_output_4_loss: 7.3780 - val_output_3_precision: 0.8277 - val_output_3_recall: 0.4689 - val_output_3_true_negatives: 7591981.0000 - val_output_3_true_positives: 5562.0000 - val_output_3_false_negatives: 6299.0000 - val_output_3_false_positives: 1158.0000\n",
      "Epoch 4/20\n",
      "4607/4607 [==============================] - 606s 132ms/step - loss: 25.2565 - output_1_loss: 2.3366 - output_2_loss: 0.8732 - output_3_loss: 0.0283 - output_4_loss: 9.1509 - output_3_precision: 0.7601 - output_3_recall: 0.3511 - output_3_true_negatives: 186523600.0000 - output_3_true_positives: 95033.0000 - output_3_false_negatives: 175653.0000 - output_3_false_positives: 29996.0000 - val_loss: 12.4787 - val_output_1_loss: 0.7686 - val_output_2_loss: 0.2639 - val_output_3_loss: 0.0239 - val_output_4_loss: 7.2686 - val_output_3_precision: 0.8279 - val_output_3_recall: 0.4767 - val_output_3_true_negatives: 7591964.0000 - val_output_3_true_positives: 5654.0000 - val_output_3_false_negatives: 6207.0000 - val_output_3_false_positives: 1175.0000\n",
      "Epoch 5/20\n",
      "4607/4607 [==============================] - 614s 133ms/step - loss: 25.3685 - output_1_loss: 2.3548 - output_2_loss: 0.8795 - output_3_loss: 0.0282 - output_4_loss: 9.1410 - output_3_precision: 0.7598 - output_3_recall: 0.3514 - output_3_true_negatives: 186523600.0000 - output_3_true_positives: 95115.0000 - output_3_false_negatives: 175527.0000 - output_3_false_positives: 30069.0000 - val_loss: 12.7594 - val_output_1_loss: 0.8027 - val_output_2_loss: 0.2697 - val_output_3_loss: 0.0239 - val_output_4_loss: 7.3493 - val_output_3_precision: 0.8066 - val_output_3_recall: 0.5011 - val_output_3_true_negatives: 7591714.0000 - val_output_3_true_positives: 5944.0000 - val_output_3_false_negatives: 5917.0000 - val_output_3_false_positives: 1425.0000\n",
      "Epoch 6/20\n",
      "4607/4607 [==============================] - 614s 133ms/step - loss: 25.3119 - output_1_loss: 2.3195 - output_2_loss: 0.9138 - output_3_loss: 0.0280 - output_4_loss: 9.0891 - output_3_precision: 0.7608 - output_3_recall: 0.3542 - output_3_true_negatives: 186523632.0000 - output_3_true_positives: 95888.0000 - output_3_false_negatives: 174796.0000 - output_3_false_positives: 30155.0000 - val_loss: 12.6272 - val_output_1_loss: 0.7884 - val_output_2_loss: 0.2663 - val_output_3_loss: 0.0238 - val_output_4_loss: 7.3056 - val_output_3_precision: 0.8287 - val_output_3_recall: 0.4798 - val_output_3_true_negatives: 7591963.0000 - val_output_3_true_positives: 5691.0000 - val_output_3_false_negatives: 6170.0000 - val_output_3_false_positives: 1176.0000\n",
      "Epoch 7/20\n",
      "4607/4607 [==============================] - 616s 134ms/step - loss: 25.4225 - output_1_loss: 2.3271 - output_2_loss: 0.9278 - output_3_loss: 0.0281 - output_4_loss: 9.0918 - output_3_precision: 0.7624 - output_3_recall: 0.3548 - output_3_true_negatives: 186523728.0000 - output_3_true_positives: 96086.0000 - output_3_false_negatives: 174703.0000 - output_3_false_positives: 29939.0000 - val_loss: 12.5111 - val_output_1_loss: 0.7856 - val_output_2_loss: 0.2665 - val_output_3_loss: 0.0237 - val_output_4_loss: 7.2030 - val_output_3_precision: 0.8206 - val_output_3_recall: 0.4814 - val_output_3_true_negatives: 7591891.0000 - val_output_3_true_positives: 5710.0000 - val_output_3_false_negatives: 6151.0000 - val_output_3_false_positives: 1248.0000\n",
      "Epoch 8/20\n",
      "4607/4607 [==============================] - 615s 133ms/step - loss: 25.4488 - output_1_loss: 2.3500 - output_2_loss: 0.9086 - output_3_loss: 0.0281 - output_4_loss: 9.0995 - output_3_precision: 0.7615 - output_3_recall: 0.3557 - output_3_true_negatives: 186523776.0000 - output_3_true_positives: 96286.0000 - output_3_false_negatives: 174386.0000 - output_3_false_positives: 30159.0000 - val_loss: 12.4558 - val_output_1_loss: 0.7842 - val_output_2_loss: 0.2651 - val_output_3_loss: 0.0236 - val_output_4_loss: 7.1618 - val_output_3_precision: 0.8262 - val_output_3_recall: 0.4769 - val_output_3_true_negatives: 7591949.0000 - val_output_3_true_positives: 5656.0000 - val_output_3_false_negatives: 6205.0000 - val_output_3_false_positives: 1190.0000\n",
      "Epoch 9/20\n",
      "4607/4607 [==============================] - 610s 132ms/step - loss: 25.1028 - output_1_loss: 2.3118 - output_2_loss: 0.8909 - output_3_loss: 0.0279 - output_4_loss: 9.0337 - output_3_precision: 0.7630 - output_3_recall: 0.3599 - output_3_true_negatives: 186523344.0000 - output_3_true_positives: 97445.0000 - output_3_false_negatives: 173323.0000 - output_3_false_positives: 30267.0000 - val_loss: 12.2304 - val_output_1_loss: 0.7625 - val_output_2_loss: 0.2593 - val_output_3_loss: 0.0233 - val_output_4_loss: 7.0751 - val_output_3_precision: 0.8340 - val_output_3_recall: 0.4905 - val_output_3_true_negatives: 7591981.0000 - val_output_3_true_positives: 5818.0000 - val_output_3_false_negatives: 6043.0000 - val_output_3_false_positives: 1158.0000\n",
      "Epoch 10/20\n",
      "4607/4607 [==============================] - 617s 134ms/step - loss: 25.3328 - output_1_loss: 2.3434 - output_2_loss: 0.9070 - output_3_loss: 0.0280 - output_4_loss: 9.0251 - output_3_precision: 0.7653 - output_3_recall: 0.3621 - output_3_true_negatives: 186523408.0000 - output_3_true_positives: 98040.0000 - output_3_false_negatives: 172713.0000 - output_3_false_positives: 30062.0000 - val_loss: 12.2986 - val_output_1_loss: 0.7681 - val_output_2_loss: 0.2693 - val_output_3_loss: 0.0233 - val_output_4_loss: 7.0649 - val_output_3_precision: 0.8365 - val_output_3_recall: 0.4791 - val_output_3_true_negatives: 7592028.0000 - val_output_3_true_positives: 5683.0000 - val_output_3_false_negatives: 6178.0000 - val_output_3_false_positives: 1111.0000\n",
      "Epoch 11/20\n",
      "4607/4607 [==============================] - 575s 125ms/step - loss: 25.1854 - output_1_loss: 2.3268 - output_2_loss: 0.9007 - output_3_loss: 0.0278 - output_4_loss: 8.9924 - output_3_precision: 0.7640 - output_3_recall: 0.3624 - output_3_true_negatives: 186523376.0000 - output_3_true_positives: 98109.0000 - output_3_false_negatives: 172646.0000 - output_3_false_positives: 30314.0000 - val_loss: 12.0836 - val_output_1_loss: 0.7355 - val_output_2_loss: 0.2659 - val_output_3_loss: 0.0231 - val_output_4_loss: 7.0303 - val_output_3_precision: 0.8211 - val_output_3_recall: 0.4919 - val_output_3_true_negatives: 7591868.0000 - val_output_3_true_positives: 5835.0000 - val_output_3_false_negatives: 6026.0000 - val_output_3_false_positives: 1271.0000\n",
      "Epoch 12/20\n",
      "4607/4607 [==============================] - 577s 125ms/step - loss: 25.3250 - output_1_loss: 2.3284 - output_2_loss: 0.9308 - output_3_loss: 0.0278 - output_4_loss: 8.9732 - output_3_precision: 0.7650 - output_3_recall: 0.3660 - output_3_true_negatives: 186523120.0000 - output_3_true_positives: 99070.0000 - output_3_false_negatives: 171648.0000 - output_3_false_positives: 30426.0000 - val_loss: 12.0452 - val_output_1_loss: 0.7478 - val_output_2_loss: 0.2556 - val_output_3_loss: 0.0229 - val_output_4_loss: 6.9826 - val_output_3_precision: 0.8296 - val_output_3_recall: 0.5093 - val_output_3_true_negatives: 7591898.0000 - val_output_3_true_positives: 6041.0000 - val_output_3_false_negatives: 5820.0000 - val_output_3_false_positives: 1241.0000\n",
      "Epoch 13/20\n",
      "4607/4607 [==============================] - 552s 120ms/step - loss: 25.1061 - output_1_loss: 2.3094 - output_2_loss: 0.9116 - output_3_loss: 0.0277 - output_4_loss: 8.9454 - output_3_precision: 0.7688 - output_3_recall: 0.3688 - output_3_true_negatives: 186523616.0000 - output_3_true_positives: 99826.0000 - output_3_false_negatives: 170885.0000 - output_3_false_positives: 30024.0000 - val_loss: 12.0924 - val_output_1_loss: 0.7601 - val_output_2_loss: 0.2597 - val_output_3_loss: 0.0229 - val_output_4_loss: 6.9476 - val_output_3_precision: 0.8442 - val_output_3_recall: 0.4888 - val_output_3_true_negatives: 7592069.0000 - val_output_3_true_positives: 5798.0000 - val_output_3_false_negatives: 6063.0000 - val_output_3_false_positives: 1070.0000\n",
      "Epoch 14/20\n",
      "4607/4607 [==============================] - 578s 125ms/step - loss: 25.2047 - output_1_loss: 2.3454 - output_2_loss: 0.8998 - output_3_loss: 0.0277 - output_4_loss: 8.9234 - output_3_precision: 0.7680 - output_3_recall: 0.3685 - output_3_true_negatives: 186523760.0000 - output_3_true_positives: 99743.0000 - output_3_false_negatives: 170943.0000 - output_3_false_positives: 30129.0000 - val_loss: 11.9827 - val_output_1_loss: 0.7520 - val_output_2_loss: 0.2594 - val_output_3_loss: 0.0226 - val_output_4_loss: 6.8807 - val_output_3_precision: 0.8389 - val_output_3_recall: 0.4978 - val_output_3_true_negatives: 7592005.0000 - val_output_3_true_positives: 5904.0000 - val_output_3_false_negatives: 5957.0000 - val_output_3_false_positives: 1134.0000\n",
      "Epoch 15/20\n",
      "4607/4607 [==============================] - 619s 134ms/step - loss: 24.8260 - output_1_loss: 2.2904 - output_2_loss: 0.8825 - output_3_loss: 0.0276 - output_4_loss: 8.9061 - output_3_precision: 0.7682 - output_3_recall: 0.3716 - output_3_true_negatives: 186523072.0000 - output_3_true_positives: 100601.0000 - output_3_false_negatives: 170120.0000 - output_3_false_positives: 30364.0000 - val_loss: 11.9799 - val_output_1_loss: 0.7537 - val_output_2_loss: 0.2575 - val_output_3_loss: 0.0226 - val_output_4_loss: 6.8788 - val_output_3_precision: 0.8419 - val_output_3_recall: 0.4953 - val_output_3_true_negatives: 7592036.0000 - val_output_3_true_positives: 5875.0000 - val_output_3_false_negatives: 5986.0000 - val_output_3_false_positives: 1103.0000\n",
      "Epoch 16/20\n",
      "4607/4607 [==============================] - 605s 131ms/step - loss: 25.3508 - output_1_loss: 2.3325 - output_2_loss: 0.9471 - output_3_loss: 0.0275 - output_4_loss: 8.8977 - output_3_precision: 0.7691 - output_3_recall: 0.3718 - output_3_true_negatives: 186523520.0000 - output_3_true_positives: 100696.0000 - output_3_false_negatives: 170108.0000 - output_3_false_positives: 30224.0000 - val_loss: 11.8502 - val_output_1_loss: 0.7441 - val_output_2_loss: 0.2550 - val_output_3_loss: 0.0224 - val_output_4_loss: 6.8096 - val_output_3_precision: 0.8298 - val_output_3_recall: 0.5215 - val_output_3_true_negatives: 7591870.0000 - val_output_3_true_positives: 6185.0000 - val_output_3_false_negatives: 5676.0000 - val_output_3_false_positives: 1269.0000\n",
      "Epoch 17/20\n",
      "4607/4607 [==============================] - 608s 132ms/step - loss: 25.2104 - output_1_loss: 2.3271 - output_2_loss: 0.9274 - output_3_loss: 0.0275 - output_4_loss: 8.8826 - output_3_precision: 0.7678 - output_3_recall: 0.3740 - output_3_true_negatives: 186522928.0000 - output_3_true_positives: 101293.0000 - output_3_false_negatives: 169537.0000 - output_3_false_positives: 30628.0000 - val_loss: 11.8189 - val_output_1_loss: 0.7380 - val_output_2_loss: 0.2606 - val_output_3_loss: 0.0223 - val_output_4_loss: 6.7815 - val_output_3_precision: 0.8380 - val_output_3_recall: 0.5069 - val_output_3_true_negatives: 7591977.0000 - val_output_3_true_positives: 6012.0000 - val_output_3_false_negatives: 5849.0000 - val_output_3_false_positives: 1162.0000\n",
      "Epoch 18/20\n",
      "4607/4607 [==============================] - 593s 129ms/step - loss: 24.8362 - output_1_loss: 2.3133 - output_2_loss: 0.8703 - output_3_loss: 0.0275 - output_4_loss: 8.8634 - output_3_precision: 0.7698 - output_3_recall: 0.3745 - output_3_true_negatives: 186523184.0000 - output_3_true_positives: 101370.0000 - output_3_false_negatives: 169342.0000 - output_3_false_positives: 30321.0000 - val_loss: 11.8063 - val_output_1_loss: 0.7386 - val_output_2_loss: 0.2576 - val_output_3_loss: 0.0223 - val_output_4_loss: 6.7806 - val_output_3_precision: 0.8496 - val_output_3_recall: 0.5011 - val_output_3_true_negatives: 7592087.0000 - val_output_3_true_positives: 5943.0000 - val_output_3_false_negatives: 5918.0000 - val_output_3_false_positives: 1052.0000\n",
      "Epoch 19/20\n",
      "4607/4607 [==============================] - 593s 129ms/step - loss: 24.7331 - output_1_loss: 2.3007 - output_2_loss: 0.8720 - output_3_loss: 0.0273 - output_4_loss: 8.8148 - output_3_precision: 0.7717 - output_3_recall: 0.3775 - output_3_true_negatives: 186523664.0000 - output_3_true_positives: 102200.0000 - output_3_false_negatives: 168555.0000 - output_3_false_positives: 30232.0000 - val_loss: 11.6360 - val_output_1_loss: 0.7323 - val_output_2_loss: 0.2588 - val_output_3_loss: 0.0219 - val_output_4_loss: 6.6362 - val_output_3_precision: 0.8534 - val_output_3_recall: 0.5040 - val_output_3_true_negatives: 7592112.0000 - val_output_3_true_positives: 5978.0000 - val_output_3_false_negatives: 5883.0000 - val_output_3_false_positives: 1027.0000\n",
      "Epoch 20/20\n",
      "4607/4607 [==============================] - 602s 131ms/step - loss: 24.7715 - output_1_loss: 2.2972 - output_2_loss: 0.8877 - output_3_loss: 0.0273 - output_4_loss: 8.7925 - output_3_precision: 0.7721 - output_3_recall: 0.3801 - output_3_true_negatives: 186523072.0000 - output_3_true_positives: 102905.0000 - output_3_false_negatives: 167858.0000 - output_3_false_positives: 30367.0000 - val_loss: 11.7880 - val_output_1_loss: 0.7503 - val_output_2_loss: 0.2563 - val_output_3_loss: 0.0221 - val_output_4_loss: 6.7108 - val_output_3_precision: 0.8366 - val_output_3_recall: 0.5218 - val_output_3_true_negatives: 7591930.0000 - val_output_3_true_positives: 6189.0000 - val_output_3_false_negatives: 5672.0000 - val_output_3_false_positives: 1209.0000\n"
     ]
    }
   ],
   "source": [
    "history = model.fit(train_dataset, epochs=20,validation_data=val_dataset)"
   ]
  },
  {
   "cell_type": "code",
   "execution_count": null,
   "metadata": {},
   "outputs": [],
   "source": []
  },
  {
   "cell_type": "code",
   "execution_count": 10,
   "metadata": {},
   "outputs": [],
   "source": [
    "\n",
    "os.chdir(\"/home/sergio/Documents/json_experiments\")\n",
    "import json\n",
    "#json.dumps(str(a))\n",
    "with open('history_finetuning_5521_100_120_epoch_nadam_0dot00001_mse_mse_default_anchors.json', 'w') as fp:\n",
    "    json.dump(str(history.history), fp)\n"
   ]
  },
  {
   "cell_type": "code",
   "execution_count": 11,
   "metadata": {},
   "outputs": [],
   "source": [
    "model.save_weights('/home/sergio/Documents/weights_saved/pesos_finetuning_5521_100_120_epoch_nadam_0dot00001_mse_mse_default_anchors')"
   ]
  },
  {
   "cell_type": "code",
   "execution_count": null,
   "metadata": {},
   "outputs": [],
   "source": []
  },
  {
   "cell_type": "markdown",
   "metadata": {},
   "source": [
    "## CONTINUACION"
   ]
  },
  {
   "cell_type": "code",
   "execution_count": 7,
   "metadata": {},
   "outputs": [
    {
     "name": "stdout",
     "output_type": "stream",
     "text": [
      "Modo entrenamiento\n"
     ]
    },
    {
     "data": {
      "text/plain": [
       "<tensorflow.python.training.tracking.util.CheckpointLoadStatus at 0x7febac188748>"
      ]
     },
     "execution_count": 7,
     "metadata": {},
     "output_type": "execute_result"
    }
   ],
   "source": [
    "#anchors =tf.constant(np.array([[0.026,0.062],[0.067,0.183],[0.128,0.323],[0.343,0.650]]),dtype=tf.float32)\n",
    "#anchors =tf.constant(np.array([[0,0,0.02078,0.049],[0,0,0.0426,0.128],[0,0,0.08523,0.19356],[0,0,0.1506,0.4163],[0,0,0.27835,0.58651],[0,0,0.5632,0.78614]]),dtype=tf.float32)\n",
    "\n",
    "anchors =tf.constant(np.array([[10/416,14/416],[23/416,27/416],[37/416,58/416],[81/416,82/416],[135/416,169/416],[344/416,319/416]]),dtype=tf.float32)\n",
    "\n",
    "\n",
    "model = TinyYOLOv3(1,anchor_boxes=anchors,train=True,mode = \"finetuning\")\n",
    "model.build(batch_input_shape=(None,416,416,3))\n",
    "#print(model.load_weights_darknet(\"/home/sergio/TinyYOLOv3-Pedestrian-Detection/yolov3-tiny.weights\"))\n",
    "model.load_weights('/home/sergio/Documents/weights_saved/pesos_finetuning_5521_100_120_epoch_nadam_0dot00001_mse_mse_default_anchors')"
   ]
  },
  {
   "cell_type": "code",
   "execution_count": 8,
   "metadata": {},
   "outputs": [],
   "source": [
    "tf.random.set_seed(0)\n",
    "\n",
    "from tensorflow.keras.metrics import TrueNegatives,TruePositives,FalseNegatives,FalsePositives,Precision,Recall\n",
    "\n",
    "opt = tf.keras.optimizers.Nadam(learning_rate=1e-4)\n",
    "\n",
    "losses = {\"output_1\": loss_xy,\n",
    "          \"output_2\": loss_wh,\n",
    "          \"output_3\":loss_objectness,\n",
    "          \"output_4\":loss_no_objectness  \n",
    "}\n",
    "\n",
    "metrics = {\"output_3\":[Precision(),Recall(),TrueNegatives(),TruePositives(),FalseNegatives(),FalsePositives()]}\n",
    "model.compile(optimizer=opt, loss=losses,metrics=metrics,loss_weights=[5,5,2,1])\n",
    "os.chdir(\"/home/sergio/Documents/pedestrian_dataset_train_tfr\")"
   ]
  },
  {
   "cell_type": "code",
   "execution_count": 9,
   "metadata": {},
   "outputs": [
    {
     "name": "stdout",
     "output_type": "stream",
     "text": [
      "Modo entrenamiento\n",
      "Epoch 1/20\n",
      "Modo entrenamiento\n",
      "Modo entrenamiento\n",
      "   4607/Unknown - 555s 120ms/step - loss: 24.8146 - output_1_loss: 2.2907 - output_2_loss: 0.9059 - output_3_loss: 0.0273 - output_4_loss: 8.7774 - output_3_precision: 0.7739 - output_3_recall: 0.3809 - output_3_true_negatives: 186523680.0000 - output_3_true_positives: 103150.0000 - output_3_false_negatives: 167624.0000 - output_3_false_positives: 30138.0000Modo entrenamiento\n",
      "4607/4607 [==============================] - 563s 122ms/step - loss: 24.8146 - output_1_loss: 2.2907 - output_2_loss: 0.9059 - output_3_loss: 0.0273 - output_4_loss: 8.7774 - output_3_precision: 0.7739 - output_3_recall: 0.3809 - output_3_true_negatives: 186523680.0000 - output_3_true_positives: 103150.0000 - output_3_false_negatives: 167624.0000 - output_3_false_positives: 30138.0000 - val_loss: 11.5981 - val_output_1_loss: 0.7245 - val_output_2_loss: 0.2546 - val_output_3_loss: 0.0219 - val_output_4_loss: 6.6588 - val_output_3_precision: 0.8292 - val_output_3_recall: 0.5438 - val_output_3_true_negatives: 7591810.0000 - val_output_3_true_positives: 6450.0000 - val_output_3_false_negatives: 5411.0000 - val_output_3_false_positives: 1329.0000\n",
      "Epoch 2/20\n",
      "4607/4607 [==============================] - 567s 123ms/step - loss: 25.0273 - output_1_loss: 2.3294 - output_2_loss: 0.9116 - output_3_loss: 0.0272 - output_4_loss: 8.7681 - output_3_precision: 0.7742 - output_3_recall: 0.3817 - output_3_true_negatives: 186523520.0000 - output_3_true_positives: 103312.0000 - output_3_false_negatives: 167339.0000 - output_3_false_positives: 30130.0000 - val_loss: 11.4930 - val_output_1_loss: 0.7207 - val_output_2_loss: 0.2544 - val_output_3_loss: 0.0216 - val_output_4_loss: 6.5743 - val_output_3_precision: 0.8299 - val_output_3_recall: 0.5425 - val_output_3_true_negatives: 7591820.0000 - val_output_3_true_positives: 6435.0000 - val_output_3_false_negatives: 5426.0000 - val_output_3_false_positives: 1319.0000\n",
      "Epoch 3/20\n",
      "4607/4607 [==============================] - 557s 121ms/step - loss: 24.3836 - output_1_loss: 2.2927 - output_2_loss: 0.8276 - output_3_loss: 0.0271 - output_4_loss: 8.7282 - output_3_precision: 0.7764 - output_3_recall: 0.3859 - output_3_true_negatives: 186523664.0000 - output_3_true_positives: 104479.0000 - output_3_false_negatives: 166239.0000 - output_3_false_positives: 30088.0000 - val_loss: 11.5052 - val_output_1_loss: 0.7129 - val_output_2_loss: 0.2580 - val_output_3_loss: 0.0219 - val_output_4_loss: 6.6070 - val_output_3_precision: 0.8469 - val_output_3_recall: 0.5257 - val_output_3_true_negatives: 7592012.0000 - val_output_3_true_positives: 6235.0000 - val_output_3_false_negatives: 5626.0000 - val_output_3_false_positives: 1127.0000\n",
      "Epoch 4/20\n",
      "4607/4607 [==============================] - 574s 125ms/step - loss: 24.6680 - output_1_loss: 2.2863 - output_2_loss: 0.8963 - output_3_loss: 0.0270 - output_4_loss: 8.7013 - output_3_precision: 0.7762 - output_3_recall: 0.3878 - output_3_true_negatives: 186523104.0000 - output_3_true_positives: 105009.0000 - output_3_false_negatives: 165746.0000 - output_3_false_positives: 30284.0000 - val_loss: 11.4548 - val_output_1_loss: 0.7184 - val_output_2_loss: 0.2510 - val_output_3_loss: 0.0216 - val_output_4_loss: 6.5641 - val_output_3_precision: 0.8465 - val_output_3_recall: 0.5312 - val_output_3_true_negatives: 7591996.0000 - val_output_3_true_positives: 6301.0000 - val_output_3_false_negatives: 5560.0000 - val_output_3_false_positives: 1143.0000\n",
      "Epoch 5/20\n",
      "4607/4607 [==============================] - 566s 123ms/step - loss: 24.6324 - output_1_loss: 2.3072 - output_2_loss: 0.8679 - output_3_loss: 0.0271 - output_4_loss: 8.7027 - output_3_precision: 0.7754 - output_3_recall: 0.3876 - output_3_true_negatives: 186522944.0000 - output_3_true_positives: 104972.0000 - output_3_false_negatives: 165822.0000 - output_3_false_positives: 30403.0000 - val_loss: 11.3393 - val_output_1_loss: 0.7060 - val_output_2_loss: 0.2503 - val_output_3_loss: 0.0215 - val_output_4_loss: 6.5149 - val_output_3_precision: 0.8412 - val_output_3_recall: 0.5342 - val_output_3_true_negatives: 7591943.0000 - val_output_3_true_positives: 6336.0000 - val_output_3_false_negatives: 5525.0000 - val_output_3_false_positives: 1196.0000\n",
      "Epoch 6/20\n",
      "4607/4607 [==============================] - 569s 124ms/step - loss: 24.8333 - output_1_loss: 2.3070 - output_2_loss: 0.9093 - output_3_loss: 0.0270 - output_4_loss: 8.6974 - output_3_precision: 0.7751 - output_3_recall: 0.3875 - output_3_true_negatives: 186523232.0000 - output_3_true_positives: 104929.0000 - output_3_false_negatives: 165872.0000 - output_3_false_positives: 30451.0000 - val_loss: 11.3352 - val_output_1_loss: 0.7006 - val_output_2_loss: 0.2533 - val_output_3_loss: 0.0215 - val_output_4_loss: 6.5224 - val_output_3_precision: 0.8568 - val_output_3_recall: 0.5167 - val_output_3_true_negatives: 7592115.0000 - val_output_3_true_positives: 6128.0000 - val_output_3_false_negatives: 5733.0000 - val_output_3_false_positives: 1024.0000\n",
      "Epoch 7/20\n",
      "4607/4607 [==============================] - 564s 122ms/step - loss: 24.4649 - output_1_loss: 2.2827 - output_2_loss: 0.8700 - output_3_loss: 0.0268 - output_4_loss: 8.6477 - output_3_precision: 0.7776 - output_3_recall: 0.3910 - output_3_true_negatives: 186523664.0000 - output_3_true_positives: 105836.0000 - output_3_false_negatives: 164848.0000 - output_3_false_positives: 30269.0000 - val_loss: 11.4322 - val_output_1_loss: 0.7113 - val_output_2_loss: 0.2561 - val_output_3_loss: 0.0216 - val_output_4_loss: 6.5520 - val_output_3_precision: 0.8324 - val_output_3_recall: 0.5599 - val_output_3_true_negatives: 7591802.0000 - val_output_3_true_positives: 6641.0000 - val_output_3_false_negatives: 5220.0000 - val_output_3_false_positives: 1337.0000\n",
      "Epoch 8/20\n",
      "4607/4607 [==============================] - 566s 123ms/step - loss: 24.8097 - output_1_loss: 2.3004 - output_2_loss: 0.9180 - output_3_loss: 0.0269 - output_4_loss: 8.6640 - output_3_precision: 0.7773 - output_3_recall: 0.3910 - output_3_true_negatives: 186523392.0000 - output_3_true_positives: 105821.0000 - output_3_false_negatives: 164816.0000 - output_3_false_positives: 30315.0000 - val_loss: 11.3465 - val_output_1_loss: 0.7175 - val_output_2_loss: 0.2553 - val_output_3_loss: 0.0213 - val_output_4_loss: 6.4399 - val_output_3_precision: 0.8566 - val_output_3_recall: 0.5279 - val_output_3_true_negatives: 7592091.0000 - val_output_3_true_positives: 6262.0000 - val_output_3_false_negatives: 5599.0000 - val_output_3_false_positives: 1048.0000\n",
      "Epoch 9/20\n",
      "4607/4607 [==============================] - 556s 121ms/step - loss: 24.4949 - output_1_loss: 2.2986 - output_2_loss: 0.8714 - output_3_loss: 0.0267 - output_4_loss: 8.5913 - output_3_precision: 0.7779 - output_3_recall: 0.3954 - output_3_true_negatives: 186522656.0000 - output_3_true_positives: 107072.0000 - output_3_false_negatives: 163754.0000 - output_3_false_positives: 30573.0000 - val_loss: 11.1732 - val_output_1_loss: 0.7098 - val_output_2_loss: 0.2519 - val_output_3_loss: 0.0209 - val_output_4_loss: 6.3228 - val_output_3_precision: 0.8532 - val_output_3_recall: 0.5460 - val_output_3_true_negatives: 7592025.0000 - val_output_3_true_positives: 6476.0000 - val_output_3_false_negatives: 5385.0000 - val_output_3_false_positives: 1114.0000\n",
      "Epoch 10/20\n",
      "4607/4607 [==============================] - 557s 121ms/step - loss: 24.4981 - output_1_loss: 2.2665 - output_2_loss: 0.8996 - output_3_loss: 0.0268 - output_4_loss: 8.6143 - output_3_precision: 0.7786 - output_3_recall: 0.3959 - output_3_true_negatives: 186523328.0000 - output_3_true_positives: 107202.0000 - output_3_false_negatives: 163552.0000 - output_3_false_positives: 30490.0000 - val_loss: 11.2008 - val_output_1_loss: 0.6973 - val_output_2_loss: 0.2529 - val_output_3_loss: 0.0211 - val_output_4_loss: 6.4072 - val_output_3_precision: 0.8469 - val_output_3_recall: 0.5419 - val_output_3_true_negatives: 7591977.0000 - val_output_3_true_positives: 6427.0000 - val_output_3_false_negatives: 5434.0000 - val_output_3_false_positives: 1162.0000\n",
      "Epoch 11/20\n",
      "4607/4607 [==============================] - 555s 121ms/step - loss: 24.2916 - output_1_loss: 2.2501 - output_2_loss: 0.8883 - output_3_loss: 0.0265 - output_4_loss: 8.5468 - output_3_precision: 0.7786 - output_3_recall: 0.4000 - output_3_true_negatives: 186522912.0000 - output_3_true_positives: 108280.0000 - output_3_false_negatives: 162427.0000 - output_3_false_positives: 30799.0000 - val_loss: 11.0574 - val_output_1_loss: 0.6885 - val_output_2_loss: 0.2511 - val_output_3_loss: 0.0209 - val_output_4_loss: 6.3181 - val_output_3_precision: 0.8392 - val_output_3_recall: 0.5597 - val_output_3_true_negatives: 7591867.0000 - val_output_3_true_positives: 6639.0000 - val_output_3_false_negatives: 5222.0000 - val_output_3_false_positives: 1272.0000\n",
      "Epoch 12/20\n",
      "4607/4607 [==============================] - 547s 119ms/step - loss: 24.7020 - output_1_loss: 2.2809 - output_2_loss: 0.9357 - output_3_loss: 0.0266 - output_4_loss: 8.5661 - output_3_precision: 0.7796 - output_3_recall: 0.3989 - output_3_true_negatives: 186523248.0000 - output_3_true_positives: 108008.0000 - output_3_false_negatives: 162782.0000 - output_3_false_positives: 30527.0000 - val_loss: 11.0170 - val_output_1_loss: 0.6903 - val_output_2_loss: 0.2499 - val_output_3_loss: 0.0208 - val_output_4_loss: 6.2741 - val_output_3_precision: 0.8613 - val_output_3_recall: 0.5392 - val_output_3_true_negatives: 7592109.0000 - val_output_3_true_positives: 6396.0000 - val_output_3_false_negatives: 5465.0000 - val_output_3_false_positives: 1030.0000\n",
      "Epoch 13/20\n",
      "4607/4607 [==============================] - 564s 122ms/step - loss: 24.4101 - output_1_loss: 2.2631 - output_2_loss: 0.8986 - output_3_loss: 0.0265 - output_4_loss: 8.5484 - output_3_precision: 0.7808 - output_3_recall: 0.3994 - output_3_true_negatives: 186523328.0000 - output_3_true_positives: 108114.0000 - output_3_false_negatives: 162600.0000 - output_3_false_positives: 30343.0000 - val_loss: 11.1286 - val_output_1_loss: 0.7046 - val_output_2_loss: 0.2562 - val_output_3_loss: 0.0208 - val_output_4_loss: 6.2829 - val_output_3_precision: 0.8538 - val_output_3_recall: 0.5457 - val_output_3_true_negatives: 7592031.0000 - val_output_3_true_positives: 6473.0000 - val_output_3_false_negatives: 5388.0000 - val_output_3_false_positives: 1108.0000\n",
      "Epoch 14/20\n",
      "4607/4607 [==============================] - 548s 119ms/step - loss: 24.1087 - output_1_loss: 2.2583 - output_2_loss: 0.8571 - output_3_loss: 0.0263 - output_4_loss: 8.4793 - output_3_precision: 0.7854 - output_3_recall: 0.4053 - output_3_true_negatives: 186523632.0000 - output_3_true_positives: 109751.0000 - output_3_false_negatives: 161048.0000 - output_3_false_positives: 29984.0000 - val_loss: 11.0671 - val_output_1_loss: 0.7022 - val_output_2_loss: 0.2462 - val_output_3_loss: 0.0208 - val_output_4_loss: 6.2833 - val_output_3_precision: 0.8486 - val_output_3_recall: 0.5533 - val_output_3_true_negatives: 7591968.0000 - val_output_3_true_positives: 6563.0000 - val_output_3_false_negatives: 5298.0000 - val_output_3_false_positives: 1171.0000\n",
      "Epoch 15/20\n",
      "4607/4607 [==============================] - 565s 123ms/step - loss: 24.1605 - output_1_loss: 2.2503 - output_2_loss: 0.8716 - output_3_loss: 0.0264 - output_4_loss: 8.4982 - output_3_precision: 0.7844 - output_3_recall: 0.4043 - output_3_true_negatives: 186523360.0000 - output_3_true_positives: 109480.0000 - output_3_false_negatives: 161298.0000 - output_3_false_positives: 30093.0000 - val_loss: 10.9708 - val_output_1_loss: 0.7039 - val_output_2_loss: 0.2468 - val_output_3_loss: 0.0204 - val_output_4_loss: 6.1762 - val_output_3_precision: 0.8621 - val_output_3_recall: 0.5428 - val_output_3_true_negatives: 7592109.0000 - val_output_3_true_positives: 6438.0000 - val_output_3_false_negatives: 5423.0000 - val_output_3_false_positives: 1030.0000\n",
      "Epoch 16/20\n",
      "4607/4607 [==============================] - 549s 119ms/step - loss: 24.1866 - output_1_loss: 2.2614 - output_2_loss: 0.8698 - output_3_loss: 0.0263 - output_4_loss: 8.4778 - output_3_precision: 0.7827 - output_3_recall: 0.4059 - output_3_true_negatives: 186523280.0000 - output_3_true_positives: 109860.0000 - output_3_false_negatives: 160794.0000 - output_3_false_positives: 30508.0000 - val_loss: 10.8044 - val_output_1_loss: 0.6886 - val_output_2_loss: 0.2447 - val_output_3_loss: 0.0203 - val_output_4_loss: 6.0971 - val_output_3_precision: 0.8596 - val_output_3_recall: 0.5449 - val_output_3_true_negatives: 7592083.0000 - val_output_3_true_positives: 6463.0000 - val_output_3_false_negatives: 5398.0000 - val_output_3_false_positives: 1056.0000\n",
      "Epoch 17/20\n",
      "4607/4607 [==============================] - 524s 114ms/step - loss: 24.1898 - output_1_loss: 2.2587 - output_2_loss: 0.8782 - output_3_loss: 0.0262 - output_4_loss: 8.4525 - output_3_precision: 0.7845 - output_3_recall: 0.4080 - output_3_true_negatives: 186523312.0000 - output_3_true_positives: 110443.0000 - output_3_false_negatives: 160282.0000 - output_3_false_positives: 30343.0000 - val_loss: 10.7469 - val_output_1_loss: 0.6777 - val_output_2_loss: 0.2468 - val_output_3_loss: 0.0202 - val_output_4_loss: 6.0837 - val_output_3_precision: 0.8476 - val_output_3_recall: 0.5674 - val_output_3_true_negatives: 7591929.0000 - val_output_3_true_positives: 6730.0000 - val_output_3_false_negatives: 5131.0000 - val_output_3_false_positives: 1210.0000\n",
      "Epoch 18/20\n",
      "4607/4607 [==============================] - 517s 112ms/step - loss: 24.0729 - output_1_loss: 2.2648 - output_2_loss: 0.8537 - output_3_loss: 0.0261 - output_4_loss: 8.4282 - output_3_precision: 0.7847 - output_3_recall: 0.4092 - output_3_true_negatives: 186523424.0000 - output_3_true_positives: 110745.0000 - output_3_false_negatives: 159923.0000 - output_3_false_positives: 30392.0000 - val_loss: 10.8393 - val_output_1_loss: 0.6829 - val_output_2_loss: 0.2488 - val_output_3_loss: 0.0204 - val_output_4_loss: 6.1402 - val_output_3_precision: 0.8512 - val_output_3_recall: 0.5541 - val_output_3_true_negatives: 7591990.0000 - val_output_3_true_positives: 6572.0000 - val_output_3_false_negatives: 5289.0000 - val_output_3_false_positives: 1149.0000\n",
      "Epoch 19/20\n",
      "4607/4607 [==============================] - 500s 109ms/step - loss: 24.3453 - output_1_loss: 2.2831 - output_2_loss: 0.8928 - output_3_loss: 0.0262 - output_4_loss: 8.4136 - output_3_precision: 0.7865 - output_3_recall: 0.4113 - output_3_true_negatives: 186523824.0000 - output_3_true_positives: 111306.0000 - output_3_false_negatives: 159308.0000 - output_3_false_positives: 30215.0000 - val_loss: 10.6252 - val_output_1_loss: 0.6564 - val_output_2_loss: 0.2487 - val_output_3_loss: 0.0201 - val_output_4_loss: 6.0592 - val_output_3_precision: 0.8557 - val_output_3_recall: 0.5578 - val_output_3_true_negatives: 7592023.0000 - val_output_3_true_positives: 6616.0000 - val_output_3_false_negatives: 5245.0000 - val_output_3_false_positives: 1116.0000\n",
      "Epoch 20/20\n",
      "4607/4607 [==============================] - 487s 106ms/step - loss: 24.2841 - output_1_loss: 2.2920 - output_2_loss: 0.8647 - output_3_loss: 0.0263 - output_4_loss: 8.4479 - output_3_precision: 0.7852 - output_3_recall: 0.4103 - output_3_true_negatives: 186523552.0000 - output_3_true_positives: 111070.0000 - output_3_false_negatives: 159605.0000 - output_3_false_positives: 30391.0000 - val_loss: 10.6618 - val_output_1_loss: 0.6667 - val_output_2_loss: 0.2471 - val_output_3_loss: 0.0201 - val_output_4_loss: 6.0526 - val_output_3_precision: 0.8511 - val_output_3_recall: 0.5651 - val_output_3_true_negatives: 7591966.0000 - val_output_3_true_positives: 6703.0000 - val_output_3_false_negatives: 5158.0000 - val_output_3_false_positives: 1173.0000\n"
     ]
    }
   ],
   "source": [
    "history = model.fit(train_dataset, epochs=20,validation_data=val_dataset)"
   ]
  },
  {
   "cell_type": "code",
   "execution_count": 10,
   "metadata": {},
   "outputs": [],
   "source": [
    "\n",
    "os.chdir(\"/home/sergio/Documents/json_experiments\")\n",
    "import json\n",
    "#json.dumps(str(a))\n",
    "with open('history_finetuning_5521_120_140_epoch_nadam_0dot00001_mse_mse_default_anchors.json', 'w') as fp:\n",
    "    json.dump(str(history.history), fp)\n"
   ]
  },
  {
   "cell_type": "code",
   "execution_count": 11,
   "metadata": {},
   "outputs": [],
   "source": [
    "model.save_weights('/home/sergio/Documents/weights_saved/pesos_finetuning_5521_120_140_epoch_nadam_0dot00001_mse_mse_default_anchors')"
   ]
  },
  {
   "cell_type": "code",
   "execution_count": null,
   "metadata": {},
   "outputs": [],
   "source": []
  },
  {
   "cell_type": "code",
   "execution_count": 13,
   "metadata": {},
   "outputs": [
    {
     "name": "stdout",
     "output_type": "stream",
     "text": [
      "Epoch 1/20\n",
      "4607/4607 [==============================] - 566s 123ms/step - loss: 23.7577 - output_1_loss: 2.2314 - output_2_loss: 0.8321 - output_3_loss: 0.0261 - output_4_loss: 8.3879 - output_3_precision: 0.7884 - output_3_recall: 0.4130 - output_3_true_negatives: 186523616.0000 - output_3_true_positives: 111846.0000 - output_3_false_negatives: 158956.0000 - output_3_false_positives: 30014.0000 - val_loss: 10.6591 - val_output_1_loss: 0.6662 - val_output_2_loss: 0.2509 - val_output_3_loss: 0.0200 - val_output_4_loss: 6.0334 - val_output_3_precision: 0.8464 - val_output_3_recall: 0.5686 - val_output_3_true_negatives: 7591915.0000 - val_output_3_true_positives: 6744.0000 - val_output_3_false_negatives: 5117.0000 - val_output_3_false_positives: 1224.0000\n",
      "Epoch 2/20\n",
      "4607/4607 [==============================] - 574s 124ms/step - loss: 23.9163 - output_1_loss: 2.2412 - output_2_loss: 0.8629 - output_3_loss: 0.0259 - output_4_loss: 8.3438 - output_3_precision: 0.7886 - output_3_recall: 0.4173 - output_3_true_negatives: 186523040.0000 - output_3_true_positives: 112986.0000 - output_3_false_negatives: 157783.0000 - output_3_false_positives: 30282.0000 - val_loss: 10.7588 - val_output_1_loss: 0.6911 - val_output_2_loss: 0.2485 - val_output_3_loss: 0.0200 - val_output_4_loss: 6.0211 - val_output_3_precision: 0.8634 - val_output_3_recall: 0.5570 - val_output_3_true_negatives: 7592094.0000 - val_output_3_true_positives: 6607.0000 - val_output_3_false_negatives: 5254.0000 - val_output_3_false_positives: 1045.0000\n",
      "Epoch 3/20\n",
      "4607/4607 [==============================] - 595s 129ms/step - loss: 23.8408 - output_1_loss: 2.2385 - output_2_loss: 0.8432 - output_3_loss: 0.0261 - output_4_loss: 8.3803 - output_3_precision: 0.7880 - output_3_recall: 0.4158 - output_3_true_negatives: 186523536.0000 - output_3_true_positives: 112561.0000 - output_3_false_negatives: 158171.0000 - output_3_false_positives: 30274.0000 - val_loss: 10.7348 - val_output_1_loss: 0.6921 - val_output_2_loss: 0.2466 - val_output_3_loss: 0.0199 - val_output_4_loss: 6.0010 - val_output_3_precision: 0.8608 - val_output_3_recall: 0.5659 - val_output_3_true_negatives: 7592054.0000 - val_output_3_true_positives: 6712.0000 - val_output_3_false_negatives: 5149.0000 - val_output_3_false_positives: 1085.0000\n",
      "Epoch 4/20\n",
      "4607/4607 [==============================] - 590s 128ms/step - loss: 23.7486 - output_1_loss: 2.2346 - output_2_loss: 0.8331 - output_3_loss: 0.0260 - output_4_loss: 8.3582 - output_3_precision: 0.7883 - output_3_recall: 0.4166 - output_3_true_negatives: 186523264.0000 - output_3_true_positives: 112783.0000 - output_3_false_negatives: 157951.0000 - output_3_false_positives: 30285.0000 - val_loss: 10.7188 - val_output_1_loss: 0.6826 - val_output_2_loss: 0.2435 - val_output_3_loss: 0.0200 - val_output_4_loss: 6.0483 - val_output_3_precision: 0.8441 - val_output_3_recall: 0.5779 - val_output_3_true_negatives: 7591873.0000 - val_output_3_true_positives: 6855.0000 - val_output_3_false_negatives: 5006.0000 - val_output_3_false_positives: 1266.0000\n",
      "Epoch 5/20\n",
      "4607/4607 [==============================] - 596s 129ms/step - loss: 23.7373 - output_1_loss: 2.2469 - output_2_loss: 0.8235 - output_3_loss: 0.0260 - output_4_loss: 8.3336 - output_3_precision: 0.7877 - output_3_recall: 0.4179 - output_3_true_negatives: 186522912.0000 - output_3_true_positives: 113161.0000 - output_3_false_negatives: 157625.0000 - output_3_false_positives: 30503.0000 - val_loss: 10.5516 - val_output_1_loss: 0.6658 - val_output_2_loss: 0.2531 - val_output_3_loss: 0.0197 - val_output_4_loss: 5.9176 - val_output_3_precision: 0.8563 - val_output_3_recall: 0.5818 - val_output_3_true_negatives: 7591981.0000 - val_output_3_true_positives: 6901.0000 - val_output_3_false_negatives: 4960.0000 - val_output_3_false_positives: 1158.0000\n",
      "Epoch 6/20\n",
      "4607/4607 [==============================] - 603s 131ms/step - loss: 24.1479 - output_1_loss: 2.2557 - output_2_loss: 0.9003 - output_3_loss: 0.0259 - output_4_loss: 8.3160 - output_3_precision: 0.7898 - output_3_recall: 0.4203 - output_3_true_negatives: 186523232.0000 - output_3_true_positives: 113790.0000 - output_3_false_negatives: 156928.0000 - output_3_false_positives: 30282.0000 - val_loss: 10.5718 - val_output_1_loss: 0.6805 - val_output_2_loss: 0.2442 - val_output_3_loss: 0.0196 - val_output_4_loss: 5.9090 - val_output_3_precision: 0.8552 - val_output_3_recall: 0.5860 - val_output_3_true_negatives: 7591962.0000 - val_output_3_true_positives: 6951.0000 - val_output_3_false_negatives: 4910.0000 - val_output_3_false_positives: 1177.0000\n",
      "Epoch 7/20\n",
      "4607/4607 [==============================] - 561s 122ms/step - loss: 23.8452 - output_1_loss: 2.2373 - output_2_loss: 0.8667 - output_3_loss: 0.0257 - output_4_loss: 8.2737 - output_3_precision: 0.7908 - output_3_recall: 0.4227 - output_3_true_negatives: 186523712.0000 - output_3_true_positives: 114448.0000 - output_3_false_negatives: 156303.0000 - output_3_false_positives: 30276.0000 - val_loss: 10.4281 - val_output_1_loss: 0.6598 - val_output_2_loss: 0.2421 - val_output_3_loss: 0.0195 - val_output_4_loss: 5.8795 - val_output_3_precision: 0.8457 - val_output_3_recall: 0.5887 - val_output_3_true_negatives: 7591865.0000 - val_output_3_true_positives: 6982.0000 - val_output_3_false_negatives: 4879.0000 - val_output_3_false_positives: 1274.0000\n",
      "Epoch 8/20\n",
      "4607/4607 [==============================] - 562s 122ms/step - loss: 23.7405 - output_1_loss: 2.2261 - output_2_loss: 0.8613 - output_3_loss: 0.0257 - output_4_loss: 8.2526 - output_3_precision: 0.7912 - output_3_recall: 0.4245 - output_3_true_negatives: 186523200.0000 - output_3_true_positives: 114969.0000 - output_3_false_negatives: 155886.0000 - output_3_false_positives: 30344.0000 - val_loss: 10.4731 - val_output_1_loss: 0.6642 - val_output_2_loss: 0.2411 - val_output_3_loss: 0.0196 - val_output_4_loss: 5.9072 - val_output_3_precision: 0.8573 - val_output_3_recall: 0.5785 - val_output_3_true_negatives: 7591997.0000 - val_output_3_true_positives: 6861.0000 - val_output_3_false_negatives: 5000.0000 - val_output_3_false_positives: 1142.0000\n",
      "Epoch 9/20\n",
      "4607/4607 [==============================] - 545s 118ms/step - loss: 23.7125 - output_1_loss: 2.2366 - output_2_loss: 0.8448 - output_3_loss: 0.0257 - output_4_loss: 8.2541 - output_3_precision: 0.7913 - output_3_recall: 0.4246 - output_3_true_negatives: 186522976.0000 - output_3_true_positives: 114972.0000 - output_3_false_negatives: 155809.0000 - output_3_false_positives: 30318.0000 - val_loss: 10.1811 - val_output_1_loss: 0.6418 - val_output_2_loss: 0.2397 - val_output_3_loss: 0.0190 - val_output_4_loss: 5.7356 - val_output_3_precision: 0.8598 - val_output_3_recall: 0.5888 - val_output_3_true_negatives: 7592000.0000 - val_output_3_true_positives: 6984.0000 - val_output_3_false_negatives: 4877.0000 - val_output_3_false_positives: 1139.0000\n",
      "Epoch 10/20\n",
      "4607/4607 [==============================] - 538s 117ms/step - loss: 23.6406 - output_1_loss: 2.2404 - output_2_loss: 0.8234 - output_3_loss: 0.0257 - output_4_loss: 8.2701 - output_3_precision: 0.7903 - output_3_recall: 0.4238 - output_3_true_negatives: 186523488.0000 - output_3_true_positives: 114701.0000 - output_3_false_negatives: 155973.0000 - output_3_false_positives: 30436.0000 - val_loss: 10.4408 - val_output_1_loss: 0.6704 - val_output_2_loss: 0.2472 - val_output_3_loss: 0.0194 - val_output_4_loss: 5.8143 - val_output_3_precision: 0.8497 - val_output_3_recall: 0.5890 - val_output_3_true_negatives: 7591903.0000 - val_output_3_true_positives: 6986.0000 - val_output_3_false_negatives: 4875.0000 - val_output_3_false_positives: 1236.0000\n",
      "Epoch 11/20\n",
      "4607/4607 [==============================] - 553s 120ms/step - loss: 23.6920 - output_1_loss: 2.2380 - output_2_loss: 0.8400 - output_3_loss: 0.0256 - output_4_loss: 8.2509 - output_3_precision: 0.7911 - output_3_recall: 0.4254 - output_3_true_negatives: 186523184.0000 - output_3_true_positives: 115147.0000 - output_3_false_negatives: 155554.0000 - output_3_false_positives: 30415.0000 - val_loss: 10.4094 - val_output_1_loss: 0.6738 - val_output_2_loss: 0.2423 - val_output_3_loss: 0.0193 - val_output_4_loss: 5.7901 - val_output_3_precision: 0.8761 - val_output_3_recall: 0.5599 - val_output_3_true_negatives: 7592200.0000 - val_output_3_true_positives: 6641.0000 - val_output_3_false_negatives: 5220.0000 - val_output_3_false_positives: 939.0000\n",
      "Epoch 12/20\n",
      "4607/4607 [==============================] - 541s 117ms/step - loss: 23.7561 - output_1_loss: 2.2126 - output_2_loss: 0.8915 - output_3_loss: 0.0254 - output_4_loss: 8.1846 - output_3_precision: 0.7929 - output_3_recall: 0.4299 - output_3_true_negatives: 186523552.0000 - output_3_true_positives: 116425.0000 - output_3_false_negatives: 154363.0000 - output_3_false_positives: 30406.0000 - val_loss: 10.1682 - val_output_1_loss: 0.6480 - val_output_2_loss: 0.2394 - val_output_3_loss: 0.0189 - val_output_4_loss: 5.6932 - val_output_3_precision: 0.8619 - val_output_3_recall: 0.5920 - val_output_3_true_negatives: 7592014.0000 - val_output_3_true_positives: 7022.0000 - val_output_3_false_negatives: 4839.0000 - val_output_3_false_positives: 1125.0000\n",
      "Epoch 13/20\n",
      "4607/4607 [==============================] - 537s 117ms/step - loss: 23.4264 - output_1_loss: 2.2206 - output_2_loss: 0.8146 - output_3_loss: 0.0255 - output_4_loss: 8.1995 - output_3_precision: 0.7926 - output_3_recall: 0.4296 - output_3_true_negatives: 186523344.0000 - output_3_true_positives: 116296.0000 - output_3_false_negatives: 154422.0000 - output_3_false_positives: 30436.0000 - val_loss: 10.1893 - val_output_1_loss: 0.6438 - val_output_2_loss: 0.2434 - val_output_3_loss: 0.0190 - val_output_4_loss: 5.7152 - val_output_3_precision: 0.8588 - val_output_3_recall: 0.5858 - val_output_3_true_negatives: 7591997.0000 - val_output_3_true_positives: 6948.0000 - val_output_3_false_negatives: 4913.0000 - val_output_3_false_positives: 1142.0000\n",
      "Epoch 14/20\n",
      "4607/4607 [==============================] - 547s 119ms/step - loss: 23.3539 - output_1_loss: 2.2075 - output_2_loss: 0.8249 - output_3_loss: 0.0253 - output_4_loss: 8.1411 - output_3_precision: 0.7933 - output_3_recall: 0.4329 - output_3_true_negatives: 186523008.0000 - output_3_true_positives: 117226.0000 - output_3_false_negatives: 153582.0000 - output_3_false_positives: 30536.0000 - val_loss: 10.1551 - val_output_1_loss: 0.6655 - val_output_2_loss: 0.2403 - val_output_3_loss: 0.0187 - val_output_4_loss: 5.5886 - val_output_3_precision: 0.8641 - val_output_3_recall: 0.6070 - val_output_3_true_negatives: 7592007.0000 - val_output_3_true_positives: 7200.0000 - val_output_3_false_negatives: 4661.0000 - val_output_3_false_positives: 1132.0000\n",
      "Epoch 15/20\n",
      "4607/4607 [==============================] - 538s 117ms/step - loss: 23.5994 - output_1_loss: 2.2243 - output_2_loss: 0.8574 - output_3_loss: 0.0253 - output_4_loss: 8.1403 - output_3_precision: 0.7941 - output_3_recall: 0.4334 - output_3_true_negatives: 186523328.0000 - output_3_true_positives: 117302.0000 - output_3_false_negatives: 153373.0000 - output_3_false_positives: 30421.0000 - val_loss: 9.9653 - val_output_1_loss: 0.6375 - val_output_2_loss: 0.2382 - val_output_3_loss: 0.0185 - val_output_4_loss: 5.5502 - val_output_3_precision: 0.8575 - val_output_3_recall: 0.6125 - val_output_3_true_negatives: 7591932.0000 - val_output_3_true_positives: 7265.0000 - val_output_3_false_negatives: 4596.0000 - val_output_3_false_positives: 1207.0000\n",
      "Epoch 16/20\n",
      "4607/4607 [==============================] - 539s 117ms/step - loss: 23.4840 - output_1_loss: 2.2256 - output_2_loss: 0.8313 - output_3_loss: 0.0253 - output_4_loss: 8.1487 - output_3_precision: 0.7946 - output_3_recall: 0.4336 - output_3_true_negatives: 186523120.0000 - output_3_true_positives: 117399.0000 - output_3_false_negatives: 153364.0000 - output_3_false_positives: 30353.0000 - val_loss: 10.0474 - val_output_1_loss: 0.6518 - val_output_2_loss: 0.2364 - val_output_3_loss: 0.0185 - val_output_4_loss: 5.5694 - val_output_3_precision: 0.8649 - val_output_3_recall: 0.6020 - val_output_3_true_negatives: 7592024.0000 - val_output_3_true_positives: 7140.0000 - val_output_3_false_negatives: 4721.0000 - val_output_3_false_positives: 1115.0000\n",
      "Epoch 17/20\n",
      "4607/4607 [==============================] - 529s 115ms/step - loss: 23.4194 - output_1_loss: 2.2090 - output_2_loss: 0.8383 - output_3_loss: 0.0252 - output_4_loss: 8.1322 - output_3_precision: 0.7961 - output_3_recall: 0.4354 - output_3_true_negatives: 186523616.0000 - output_3_true_positives: 117878.0000 - output_3_false_negatives: 152837.0000 - output_3_false_positives: 30189.0000 - val_loss: 10.1172 - val_output_1_loss: 0.6606 - val_output_2_loss: 0.2379 - val_output_3_loss: 0.0186 - val_output_4_loss: 5.5872 - val_output_3_precision: 0.8686 - val_output_3_recall: 0.5958 - val_output_3_true_negatives: 7592070.0000 - val_output_3_true_positives: 7067.0000 - val_output_3_false_negatives: 4794.0000 - val_output_3_false_positives: 1069.0000\n",
      "Epoch 18/20\n",
      "4607/4607 [==============================] - 520s 113ms/step - loss: 23.3212 - output_1_loss: 2.1839 - output_2_loss: 0.8466 - output_3_loss: 0.0252 - output_4_loss: 8.1183 - output_3_precision: 0.7960 - output_3_recall: 0.4355 - output_3_true_negatives: 186523312.0000 - output_3_true_positives: 117901.0000 - output_3_false_negatives: 152830.0000 - output_3_false_positives: 30208.0000 - val_loss: 9.9416 - val_output_1_loss: 0.6439 - val_output_2_loss: 0.2342 - val_output_3_loss: 0.0183 - val_output_4_loss: 5.5146 - val_output_3_precision: 0.8753 - val_output_3_recall: 0.5953 - val_output_3_true_negatives: 7592133.0000 - val_output_3_true_positives: 7061.0000 - val_output_3_false_negatives: 4800.0000 - val_output_3_false_positives: 1006.0000\n",
      "Epoch 19/20\n",
      "4607/4607 [==============================] - 513s 111ms/step - loss: 23.4623 - output_1_loss: 2.2356 - output_2_loss: 0.8232 - output_3_loss: 0.0253 - output_4_loss: 8.1177 - output_3_precision: 0.7966 - output_3_recall: 0.4358 - output_3_true_negatives: 186523200.0000 - output_3_true_positives: 117999.0000 - output_3_false_negatives: 152782.0000 - output_3_false_positives: 30120.0000 - val_loss: 9.9447 - val_output_1_loss: 0.6337 - val_output_2_loss: 0.2374 - val_output_3_loss: 0.0184 - val_output_4_loss: 5.5522 - val_output_3_precision: 0.8651 - val_output_3_recall: 0.6096 - val_output_3_true_negatives: 7592012.0000 - val_output_3_true_positives: 7230.0000 - val_output_3_false_negatives: 4631.0000 - val_output_3_false_positives: 1127.0000\n",
      "Epoch 20/20\n",
      "4607/4607 [==============================] - 506s 110ms/step - loss: 23.5454 - output_1_loss: 2.2227 - output_2_loss: 0.8664 - output_3_loss: 0.0251 - output_4_loss: 8.0495 - output_3_precision: 0.7970 - output_3_recall: 0.4404 - output_3_true_negatives: 186523376.0000 - output_3_true_positives: 119249.0000 - output_3_false_negatives: 151521.0000 - output_3_false_positives: 30375.0000 - val_loss: 9.8796 - val_output_1_loss: 0.6255 - val_output_2_loss: 0.2369 - val_output_3_loss: 0.0183 - val_output_4_loss: 5.5312 - val_output_3_precision: 0.8614 - val_output_3_recall: 0.6114 - val_output_3_true_negatives: 7591972.0000 - val_output_3_true_positives: 7252.0000 - val_output_3_false_negatives: 4609.0000 - val_output_3_false_positives: 1167.0000\n"
     ]
    }
   ],
   "source": [
    "os.chdir(\"/home/sergio/Documents/pedestrian_dataset_train_tfr\")\n",
    "history = model.fit(train_dataset, epochs=20,validation_data=val_dataset)"
   ]
  },
  {
   "cell_type": "code",
   "execution_count": null,
   "metadata": {},
   "outputs": [],
   "source": []
  },
  {
   "cell_type": "code",
   "execution_count": 14,
   "metadata": {},
   "outputs": [],
   "source": [
    "\n",
    "os.chdir(\"/home/sergio/Documents/json_experiments\")\n",
    "import json\n",
    "#json.dumps(str(a))\n",
    "with open('history_finetuning_5521_140_160_epoch_nadam_0dot00001_mse_mse_default_anchors.json', 'w') as fp:\n",
    "    json.dump(str(history.history), fp)\n"
   ]
  },
  {
   "cell_type": "code",
   "execution_count": 15,
   "metadata": {},
   "outputs": [],
   "source": [
    "model.save_weights('/home/sergio/Documents/weights_saved/pesos_finetuning_5521_140_160_epoch_nadam_0dot00001_mse_mse_default_anchors')"
   ]
  },
  {
   "cell_type": "markdown",
   "metadata": {},
   "source": [
    "## CONTINUACION"
   ]
  },
  {
   "cell_type": "code",
   "execution_count": 6,
   "metadata": {},
   "outputs": [
    {
     "name": "stdout",
     "output_type": "stream",
     "text": [
      "Modo entrenamiento\n"
     ]
    },
    {
     "data": {
      "text/plain": [
       "<tensorflow.python.training.tracking.util.CheckpointLoadStatus at 0x7f0de05df9b0>"
      ]
     },
     "execution_count": 6,
     "metadata": {},
     "output_type": "execute_result"
    }
   ],
   "source": [
    "#anchors =tf.constant(np.array([[0.026,0.062],[0.067,0.183],[0.128,0.323],[0.343,0.650]]),dtype=tf.float32)\n",
    "#anchors =tf.constant(np.array([[0,0,0.02078,0.049],[0,0,0.0426,0.128],[0,0,0.08523,0.19356],[0,0,0.1506,0.4163],[0,0,0.27835,0.58651],[0,0,0.5632,0.78614]]),dtype=tf.float32)\n",
    "\n",
    "anchors =tf.constant(np.array([[10/416,14/416],[23/416,27/416],[37/416,58/416],[81/416,82/416],[135/416,169/416],[344/416,319/416]]),dtype=tf.float32)\n",
    "\n",
    "\n",
    "model = TinyYOLOv3(1,anchor_boxes=anchors,train=True,mode = \"finetuning\")\n",
    "model.build(batch_input_shape=(None,416,416,3))\n",
    "#print(model.load_weights_darknet(\"/home/sergio/TinyYOLOv3-Pedestrian-Detection/yolov3-tiny.weights\"))\n",
    "model.load_weights('/home/sergio/Documents/weights_saved/pesos_finetuning_5521_140_160_epoch_nadam_0dot00001_mse_mse_default_anchors')"
   ]
  },
  {
   "cell_type": "code",
   "execution_count": 7,
   "metadata": {},
   "outputs": [],
   "source": [
    "tf.random.set_seed(0)\n",
    "\n",
    "from tensorflow.keras.metrics import TrueNegatives,TruePositives,FalseNegatives,FalsePositives,Precision,Recall\n",
    "\n",
    "opt = tf.keras.optimizers.Nadam(learning_rate=1e-5)\n",
    "\n",
    "losses = {\"output_1\": loss_xy,\n",
    "          \"output_2\": loss_wh,\n",
    "          \"output_3\":loss_objectness,\n",
    "          \"output_4\":loss_no_objectness  \n",
    "}\n",
    "\n",
    "metrics = {\"output_3\":[Precision(),Recall(),TrueNegatives(),TruePositives(),FalseNegatives(),FalsePositives()]}\n",
    "model.compile(optimizer=opt, loss=losses,metrics=metrics,loss_weights=[5,5,2,1])\n",
    "os.chdir(\"/home/sergio/Documents/pedestrian_dataset_train_tfr\")"
   ]
  },
  {
   "cell_type": "code",
   "execution_count": 8,
   "metadata": {},
   "outputs": [
    {
     "name": "stdout",
     "output_type": "stream",
     "text": [
      "Modo entrenamiento\n",
      "Epoch 1/20\n",
      "Modo entrenamiento\n",
      "Modo entrenamiento\n",
      "   4607/Unknown - 599s 130ms/step - loss: 23.3984 - output_1_loss: 2.2011 - output_2_loss: 0.8540 - output_3_loss: 0.0251 - output_4_loss: 8.0727 - output_3_precision: 0.7970 - output_3_recall: 0.4408 - output_3_true_negatives: 186523280.0000 - output_3_true_positives: 119349.0000 - output_3_false_negatives: 151389.0000 - output_3_false_positives: 30405.0000Modo entrenamiento\n",
      "4607/4607 [==============================] - 607s 132ms/step - loss: 23.3984 - output_1_loss: 2.2011 - output_2_loss: 0.8540 - output_3_loss: 0.0251 - output_4_loss: 8.0727 - output_3_precision: 0.7970 - output_3_recall: 0.4408 - output_3_true_negatives: 186523280.0000 - output_3_true_positives: 119349.0000 - output_3_false_negatives: 151389.0000 - output_3_false_positives: 30405.0000 - val_loss: 9.8858 - val_output_1_loss: 0.6328 - val_output_2_loss: 0.2400 - val_output_3_loss: 0.0182 - val_output_4_loss: 5.4854 - val_output_3_precision: 0.8672 - val_output_3_recall: 0.6112 - val_output_3_true_negatives: 7592029.0000 - val_output_3_true_positives: 7249.0000 - val_output_3_false_negatives: 4612.0000 - val_output_3_false_positives: 1110.0000\n",
      "Epoch 2/20\n",
      "4607/4607 [==============================] - 592s 128ms/step - loss: 23.2781 - output_1_loss: 2.2202 - output_2_loss: 0.8116 - output_3_loss: 0.0251 - output_4_loss: 8.0687 - output_3_precision: 0.7973 - output_3_recall: 0.4407 - output_3_true_negatives: 186523168.0000 - output_3_true_positives: 119291.0000 - output_3_false_negatives: 151411.0000 - output_3_false_positives: 30329.0000 - val_loss: 9.8836 - val_output_1_loss: 0.6367 - val_output_2_loss: 0.2341 - val_output_3_loss: 0.0182 - val_output_4_loss: 5.4928 - val_output_3_precision: 0.8631 - val_output_3_recall: 0.6069 - val_output_3_true_negatives: 7591997.0000 - val_output_3_true_positives: 7199.0000 - val_output_3_false_negatives: 4662.0000 - val_output_3_false_positives: 1142.0000\n",
      "Epoch 3/20\n",
      "4607/4607 [==============================] - 588s 128ms/step - loss: 23.1507 - output_1_loss: 2.1953 - output_2_loss: 0.8198 - output_3_loss: 0.0250 - output_4_loss: 8.0251 - output_3_precision: 0.7976 - output_3_recall: 0.4425 - output_3_true_negatives: 186523280.0000 - output_3_true_positives: 119799.0000 - output_3_false_negatives: 150910.0000 - output_3_false_positives: 30395.0000 - val_loss: 9.6387 - val_output_1_loss: 0.6267 - val_output_2_loss: 0.2309 - val_output_3_loss: 0.0178 - val_output_4_loss: 5.3153 - val_output_3_precision: 0.8692 - val_output_3_recall: 0.6270 - val_output_3_true_negatives: 7592020.0000 - val_output_3_true_positives: 7437.0000 - val_output_3_false_negatives: 4424.0000 - val_output_3_false_positives: 1119.0000\n",
      "Epoch 4/20\n",
      "4607/4607 [==============================] - 563s 122ms/step - loss: 23.5319 - output_1_loss: 2.2389 - output_2_loss: 0.8491 - output_3_loss: 0.0250 - output_4_loss: 8.0422 - output_3_precision: 0.7972 - output_3_recall: 0.4425 - output_3_true_negatives: 186523072.0000 - output_3_true_positives: 119783.0000 - output_3_false_negatives: 150928.0000 - output_3_false_positives: 30467.0000 - val_loss: 9.7032 - val_output_1_loss: 0.6169 - val_output_2_loss: 0.2327 - val_output_3_loss: 0.0181 - val_output_4_loss: 5.4189 - val_output_3_precision: 0.8776 - val_output_3_recall: 0.6069 - val_output_3_true_negatives: 7592135.0000 - val_output_3_true_positives: 7198.0000 - val_output_3_false_negatives: 4663.0000 - val_output_3_false_positives: 1004.0000\n",
      "Epoch 5/20\n",
      "4607/4607 [==============================] - 575s 125ms/step - loss: 23.0636 - output_1_loss: 2.1935 - output_2_loss: 0.8040 - output_3_loss: 0.0250 - output_4_loss: 8.0258 - output_3_precision: 0.8002 - output_3_recall: 0.4438 - output_3_true_negatives: 186523648.0000 - output_3_true_positives: 120166.0000 - output_3_false_negatives: 150580.0000 - output_3_false_positives: 29997.0000 - val_loss: 9.9493 - val_output_1_loss: 0.6563 - val_output_2_loss: 0.2359 - val_output_3_loss: 0.0182 - val_output_4_loss: 5.4516 - val_output_3_precision: 0.8621 - val_output_3_recall: 0.6145 - val_output_3_true_negatives: 7591973.0000 - val_output_3_true_positives: 7289.0000 - val_output_3_false_negatives: 4572.0000 - val_output_3_false_positives: 1166.0000\n",
      "Epoch 6/20\n",
      "4607/4607 [==============================] - 571s 124ms/step - loss: 23.1552 - output_1_loss: 2.1843 - output_2_loss: 0.8394 - output_3_loss: 0.0248 - output_4_loss: 7.9871 - output_3_precision: 0.7978 - output_3_recall: 0.4475 - output_3_true_negatives: 186522928.0000 - output_3_true_positives: 121158.0000 - output_3_false_negatives: 149577.0000 - output_3_false_positives: 30710.0000 - val_loss: 9.8302 - val_output_1_loss: 0.6441 - val_output_2_loss: 0.2357 - val_output_3_loss: 0.0179 - val_output_4_loss: 5.3951 - val_output_3_precision: 0.8534 - val_output_3_recall: 0.6347 - val_output_3_true_negatives: 7591846.0000 - val_output_3_true_positives: 7528.0000 - val_output_3_false_negatives: 4333.0000 - val_output_3_false_positives: 1293.0000\n",
      "Epoch 7/20\n",
      "4607/4607 [==============================] - 568s 123ms/step - loss: 23.0047 - output_1_loss: 2.1814 - output_2_loss: 0.8214 - output_3_loss: 0.0247 - output_4_loss: 7.9413 - output_3_precision: 0.8001 - output_3_recall: 0.4503 - output_3_true_negatives: 186523088.0000 - output_3_true_positives: 121895.0000 - output_3_false_negatives: 148812.0000 - output_3_false_positives: 30459.0000 - val_loss: 9.8984 - val_output_1_loss: 0.6560 - val_output_2_loss: 0.2332 - val_output_3_loss: 0.0180 - val_output_4_loss: 5.4167 - val_output_3_precision: 0.8617 - val_output_3_recall: 0.6188 - val_output_3_true_negatives: 7591961.0000 - val_output_3_true_positives: 7340.0000 - val_output_3_false_negatives: 4521.0000 - val_output_3_false_positives: 1178.0000\n",
      "Epoch 8/20\n",
      "4607/4607 [==============================] - 587s 127ms/step - loss: 23.1247 - output_1_loss: 2.1943 - output_2_loss: 0.8245 - output_3_loss: 0.0249 - output_4_loss: 7.9810 - output_3_precision: 0.7988 - output_3_recall: 0.4468 - output_3_true_negatives: 186523040.0000 - output_3_true_positives: 120907.0000 - output_3_false_negatives: 149697.0000 - output_3_false_positives: 30450.0000 - val_loss: 9.8018 - val_output_1_loss: 0.6573 - val_output_2_loss: 0.2343 - val_output_3_loss: 0.0176 - val_output_4_loss: 5.3086 - val_output_3_precision: 0.8739 - val_output_3_recall: 0.6212 - val_output_3_true_negatives: 7592076.0000 - val_output_3_true_positives: 7368.0000 - val_output_3_false_negatives: 4493.0000 - val_output_3_false_positives: 1063.0000\n",
      "Epoch 9/20\n",
      "4607/4607 [==============================] - 588s 128ms/step - loss: 23.2563 - output_1_loss: 2.2024 - output_2_loss: 0.8435 - output_3_loss: 0.0249 - output_4_loss: 7.9773 - output_3_precision: 0.8013 - output_3_recall: 0.4482 - output_3_true_negatives: 186523536.0000 - output_3_true_positives: 121361.0000 - output_3_false_negatives: 149428.0000 - output_3_false_positives: 30091.0000 - val_loss: 9.7898 - val_output_1_loss: 0.6360 - val_output_2_loss: 0.2396 - val_output_3_loss: 0.0178 - val_output_4_loss: 5.3763 - val_output_3_precision: 0.8591 - val_output_3_recall: 0.6193 - val_output_3_true_negatives: 7591934.0000 - val_output_3_true_positives: 7345.0000 - val_output_3_false_negatives: 4516.0000 - val_output_3_false_positives: 1205.0000\n",
      "Epoch 10/20\n",
      "4607/4607 [==============================] - 610s 132ms/step - loss: 23.3493 - output_1_loss: 2.1943 - output_2_loss: 0.8781 - output_3_loss: 0.0247 - output_4_loss: 7.9379 - output_3_precision: 0.8023 - output_3_recall: 0.4516 - output_3_true_negatives: 186523280.0000 - output_3_true_positives: 122276.0000 - output_3_false_negatives: 148475.0000 - output_3_false_positives: 30137.0000 - val_loss: 9.5774 - val_output_1_loss: 0.6252 - val_output_2_loss: 0.2335 - val_output_3_loss: 0.0175 - val_output_4_loss: 5.2490 - val_output_3_precision: 0.8620 - val_output_3_recall: 0.6421 - val_output_3_true_negatives: 7591920.0000 - val_output_3_true_positives: 7616.0000 - val_output_3_false_negatives: 4245.0000 - val_output_3_false_positives: 1219.0000\n",
      "Epoch 11/20\n",
      "4607/4607 [==============================] - 610s 132ms/step - loss: 22.9786 - output_1_loss: 2.1601 - output_2_loss: 0.8393 - output_3_loss: 0.0247 - output_4_loss: 7.9322 - output_3_precision: 0.8026 - output_3_recall: 0.4522 - output_3_true_negatives: 186523568.0000 - output_3_true_positives: 122434.0000 - output_3_false_negatives: 148304.0000 - output_3_false_positives: 30120.0000 - val_loss: 9.7315 - val_output_1_loss: 0.6407 - val_output_2_loss: 0.2377 - val_output_3_loss: 0.0176 - val_output_4_loss: 5.3044 - val_output_3_precision: 0.8705 - val_output_3_recall: 0.6247 - val_output_3_true_negatives: 7592037.0000 - val_output_3_true_positives: 7410.0000 - val_output_3_false_negatives: 4451.0000 - val_output_3_false_positives: 1102.0000\n",
      "Epoch 12/20\n",
      "4607/4607 [==============================] - 615s 133ms/step - loss: 23.1117 - output_1_loss: 2.2029 - output_2_loss: 0.8263 - output_3_loss: 0.0247 - output_4_loss: 7.9168 - output_3_precision: 0.8030 - output_3_recall: 0.4547 - output_3_true_negatives: 186523424.0000 - output_3_true_positives: 123106.0000 - output_3_false_negatives: 147624.0000 - output_3_false_positives: 30208.0000 - val_loss: 9.5617 - val_output_1_loss: 0.6240 - val_output_2_loss: 0.2353 - val_output_3_loss: 0.0175 - val_output_4_loss: 5.2301 - val_output_3_precision: 0.8844 - val_output_3_recall: 0.6080 - val_output_3_true_negatives: 7592196.0000 - val_output_3_true_positives: 7212.0000 - val_output_3_false_negatives: 4649.0000 - val_output_3_false_positives: 943.0000\n",
      "Epoch 13/20\n",
      "4607/4607 [==============================] - 618s 134ms/step - loss: 23.0011 - output_1_loss: 2.2131 - output_2_loss: 0.7900 - output_3_loss: 0.0248 - output_4_loss: 7.9360 - output_3_precision: 0.8015 - output_3_recall: 0.4533 - output_3_true_negatives: 186523264.0000 - output_3_true_positives: 122725.0000 - output_3_false_negatives: 147991.0000 - output_3_false_positives: 30395.0000 - val_loss: 9.5986 - val_output_1_loss: 0.6359 - val_output_2_loss: 0.2304 - val_output_3_loss: 0.0175 - val_output_4_loss: 5.2321 - val_output_3_precision: 0.8695 - val_output_3_recall: 0.6252 - val_output_3_true_negatives: 7592026.0000 - val_output_3_true_positives: 7415.0000 - val_output_3_false_negatives: 4446.0000 - val_output_3_false_positives: 1113.0000\n",
      "Epoch 14/20\n",
      "4607/4607 [==============================] - 620s 135ms/step - loss: 22.9515 - output_1_loss: 2.1854 - output_2_loss: 0.8171 - output_3_loss: 0.0245 - output_4_loss: 7.8902 - output_3_precision: 0.8024 - output_3_recall: 0.4549 - output_3_true_negatives: 186523488.0000 - output_3_true_positives: 123200.0000 - output_3_false_negatives: 147637.0000 - output_3_false_positives: 30343.0000 - val_loss: 9.3516 - val_output_1_loss: 0.6081 - val_output_2_loss: 0.2274 - val_output_3_loss: 0.0172 - val_output_4_loss: 5.1398 - val_output_3_precision: 0.8772 - val_output_3_recall: 0.6227 - val_output_3_true_negatives: 7592105.0000 - val_output_3_true_positives: 7386.0000 - val_output_3_false_negatives: 4475.0000 - val_output_3_false_positives: 1034.0000\n",
      "Epoch 15/20\n",
      "4607/4607 [==============================] - 627s 136ms/step - loss: 22.7902 - output_1_loss: 2.1922 - output_2_loss: 0.7833 - output_3_loss: 0.0245 - output_4_loss: 7.8637 - output_3_precision: 0.8035 - output_3_recall: 0.4580 - output_3_true_negatives: 186523616.0000 - output_3_true_positives: 124011.0000 - output_3_false_negatives: 146740.0000 - output_3_false_positives: 30319.0000 - val_loss: 9.6195 - val_output_1_loss: 0.6400 - val_output_2_loss: 0.2359 - val_output_3_loss: 0.0173 - val_output_4_loss: 5.2057 - val_output_3_precision: 0.8812 - val_output_3_recall: 0.6219 - val_output_3_true_negatives: 7592145.0000 - val_output_3_true_positives: 7376.0000 - val_output_3_false_negatives: 4485.0000 - val_output_3_false_positives: 994.0000\n",
      "Epoch 16/20\n",
      "4607/4607 [==============================] - 618s 134ms/step - loss: 23.0973 - output_1_loss: 2.2230 - output_2_loss: 0.7992 - output_3_loss: 0.0248 - output_4_loss: 7.9368 - output_3_precision: 0.8022 - output_3_recall: 0.4528 - output_3_true_negatives: 186523040.0000 - output_3_true_positives: 122629.0000 - output_3_false_negatives: 148224.0000 - output_3_false_positives: 30241.0000 - val_loss: 9.4815 - val_output_1_loss: 0.6133 - val_output_2_loss: 0.2366 - val_output_3_loss: 0.0173 - val_output_4_loss: 5.1971 - val_output_3_precision: 0.8633 - val_output_3_recall: 0.6377 - val_output_3_true_negatives: 7591941.0000 - val_output_3_true_positives: 7564.0000 - val_output_3_false_negatives: 4297.0000 - val_output_3_false_positives: 1198.0000\n",
      "Epoch 17/20\n",
      "4607/4607 [==============================] - 618s 134ms/step - loss: 22.8718 - output_1_loss: 2.1590 - output_2_loss: 0.8397 - output_3_loss: 0.0244 - output_4_loss: 7.8298 - output_3_precision: 0.8050 - output_3_recall: 0.4603 - output_3_true_negatives: 186523424.0000 - output_3_true_positives: 124612.0000 - output_3_false_negatives: 146086.0000 - output_3_false_positives: 30179.0000 - val_loss: 9.5677 - val_output_1_loss: 0.6352 - val_output_2_loss: 0.2338 - val_output_3_loss: 0.0174 - val_output_4_loss: 5.1881 - val_output_3_precision: 0.8654 - val_output_3_recall: 0.6315 - val_output_3_true_negatives: 7591974.0000 - val_output_3_true_positives: 7490.0000 - val_output_3_false_negatives: 4371.0000 - val_output_3_false_positives: 1165.0000\n",
      "Epoch 18/20\n",
      "4607/4607 [==============================] - 618s 134ms/step - loss: 23.1236 - output_1_loss: 2.2184 - output_2_loss: 0.8182 - output_3_loss: 0.0246 - output_4_loss: 7.8914 - output_3_precision: 0.8023 - output_3_recall: 0.4564 - output_3_true_negatives: 186523152.0000 - output_3_true_positives: 123544.0000 - output_3_false_negatives: 147141.0000 - output_3_false_positives: 30448.0000 - val_loss: 9.4366 - val_output_1_loss: 0.6193 - val_output_2_loss: 0.2270 - val_output_3_loss: 0.0172 - val_output_4_loss: 5.1710 - val_output_3_precision: 0.8745 - val_output_3_recall: 0.6260 - val_output_3_true_negatives: 7592073.0000 - val_output_3_true_positives: 7425.0000 - val_output_3_false_negatives: 4436.0000 - val_output_3_false_positives: 1066.0000\n",
      "Epoch 19/20\n",
      "4607/4607 [==============================] - 617s 134ms/step - loss: 23.0539 - output_1_loss: 2.1922 - output_2_loss: 0.8356 - output_3_loss: 0.0245 - output_4_loss: 7.8656 - output_3_precision: 0.8041 - output_3_recall: 0.4578 - output_3_true_negatives: 186523600.0000 - output_3_true_positives: 123918.0000 - output_3_false_negatives: 146778.0000 - output_3_false_positives: 30181.0000 - val_loss: 9.3258 - val_output_1_loss: 0.6087 - val_output_2_loss: 0.2305 - val_output_3_loss: 0.0170 - val_output_4_loss: 5.0956 - val_output_3_precision: 0.8624 - val_output_3_recall: 0.6568 - val_output_3_true_negatives: 7591896.0000 - val_output_3_true_positives: 7790.0000 - val_output_3_false_negatives: 4071.0000 - val_output_3_false_positives: 1243.0000\n",
      "Epoch 20/20\n",
      "4607/4607 [==============================] - 612s 133ms/step - loss: 23.2745 - output_1_loss: 2.2021 - output_2_loss: 0.8695 - output_3_loss: 0.0245 - output_4_loss: 7.8675 - output_3_precision: 0.8035 - output_3_recall: 0.4576 - output_3_true_negatives: 186523504.0000 - output_3_true_positives: 123838.0000 - output_3_false_negatives: 146807.0000 - output_3_false_positives: 30278.0000 - val_loss: 9.6588 - val_output_1_loss: 0.6352 - val_output_2_loss: 0.2420 - val_output_3_loss: 0.0175 - val_output_4_loss: 5.2379 - val_output_3_precision: 0.8571 - val_output_3_recall: 0.6368 - val_output_3_true_negatives: 7591880.0000 - val_output_3_true_positives: 7553.0000 - val_output_3_false_negatives: 4308.0000 - val_output_3_false_positives: 1259.0000\n"
     ]
    }
   ],
   "source": [
    "history = model.fit(train_dataset, epochs=20,validation_data=val_dataset)"
   ]
  },
  {
   "cell_type": "code",
   "execution_count": null,
   "metadata": {},
   "outputs": [],
   "source": []
  },
  {
   "cell_type": "code",
   "execution_count": 9,
   "metadata": {},
   "outputs": [],
   "source": [
    "\n",
    "os.chdir(\"/home/sergio/Documents/json_experiments\")\n",
    "import json\n",
    "#json.dumps(str(a))\n",
    "with open('history_finetuning_5521_160_180_epoch_nadam_0dot00001_mse_mse_default_anchors.json', 'w') as fp:\n",
    "    json.dump(str(history.history), fp)\n"
   ]
  },
  {
   "cell_type": "code",
   "execution_count": 10,
   "metadata": {},
   "outputs": [],
   "source": [
    "model.save_weights('/home/sergio/Documents/weights_saved/pesos_finetuning_5521_160_180_epoch_nadam_0dot00001_mse_mse_default_anchors')"
   ]
  },
  {
   "cell_type": "code",
   "execution_count": null,
   "metadata": {},
   "outputs": [],
   "source": []
  }
 ],
 "metadata": {
  "kernelspec": {
   "display_name": "Python 3",
   "language": "python",
   "name": "python3"
  },
  "language_info": {
   "codemirror_mode": {
    "name": "ipython",
    "version": 3
   },
   "file_extension": ".py",
   "mimetype": "text/x-python",
   "name": "python",
   "nbconvert_exporter": "python",
   "pygments_lexer": "ipython3",
   "version": "3.6.10"
  }
 },
 "nbformat": 4,
 "nbformat_minor": 4
}
