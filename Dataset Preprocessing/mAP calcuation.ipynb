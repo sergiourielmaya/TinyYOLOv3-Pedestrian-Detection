{
 "cells": [
  {
   "cell_type": "code",
   "execution_count": 1,
   "metadata": {},
   "outputs": [],
   "source": [
    "import sys\n",
    "sys.path.append(\"/home/sergio/TinyYOLOv3-Pedestrian-Detection\")\n",
    "\n",
    "from YOLOblocks import TinyYOLOv3,BasicBlock,PredictionLayer#,YOLOLossBasicBlock\n",
    "import numpy as np\n",
    "import matplotlib.pyplot as plt\n",
    "%matplotlib inline\n",
    "import tensorflow as tf\n",
    "#from tensorflow.python.tools import freeze_graph\n",
    "from skimage.io import imread,imshow\n",
    "#from skimage.transform import resize \n",
    "import time\n",
    "#from tensorflow.compat.v1.image import decode_image\n",
    "import imgaug.augmenters as iaa\n",
    "from imgaug.augmentables.bbs import BoundingBox, BoundingBoxesOnImage\n",
    "import os\n",
    "import pandas as pd"
   ]
  },
  {
   "cell_type": "markdown",
   "metadata": {},
   "source": [
    "## Dataset preparation"
   ]
  },
  {
   "cell_type": "code",
   "execution_count": 2,
   "metadata": {},
   "outputs": [
    {
     "data": {
      "text/html": [
       "<div>\n",
       "<style scoped>\n",
       "    .dataframe tbody tr th:only-of-type {\n",
       "        vertical-align: middle;\n",
       "    }\n",
       "\n",
       "    .dataframe tbody tr th {\n",
       "        vertical-align: top;\n",
       "    }\n",
       "\n",
       "    .dataframe thead th {\n",
       "        text-align: right;\n",
       "    }\n",
       "</style>\n",
       "<table border=\"1\" class=\"dataframe\">\n",
       "  <thead>\n",
       "    <tr style=\"text-align: right;\">\n",
       "      <th></th>\n",
       "      <th>file_name</th>\n",
       "      <th>xmin</th>\n",
       "      <th>ymin</th>\n",
       "      <th>xmax</th>\n",
       "      <th>ymax</th>\n",
       "    </tr>\n",
       "  </thead>\n",
       "  <tbody>\n",
       "    <tr>\n",
       "      <th>0</th>\n",
       "      <td>000000532481.jpg</td>\n",
       "      <td>0.391906</td>\n",
       "      <td>0.394977</td>\n",
       "      <td>0.501453</td>\n",
       "      <td>0.547277</td>\n",
       "    </tr>\n",
       "    <tr>\n",
       "      <th>1</th>\n",
       "      <td>000000532481.jpg</td>\n",
       "      <td>0.446172</td>\n",
       "      <td>0.869859</td>\n",
       "      <td>0.465031</td>\n",
       "      <td>0.914953</td>\n",
       "    </tr>\n",
       "    <tr>\n",
       "      <th>2</th>\n",
       "      <td>000000458755.jpg</td>\n",
       "      <td>0.107859</td>\n",
       "      <td>0.078646</td>\n",
       "      <td>0.901687</td>\n",
       "      <td>0.986521</td>\n",
       "    </tr>\n",
       "    <tr>\n",
       "      <th>3</th>\n",
       "      <td>000000458755.jpg</td>\n",
       "      <td>0.885938</td>\n",
       "      <td>0.002646</td>\n",
       "      <td>1.000000</td>\n",
       "      <td>0.183604</td>\n",
       "    </tr>\n",
       "    <tr>\n",
       "      <th>4</th>\n",
       "      <td>000000458755.jpg</td>\n",
       "      <td>0.921906</td>\n",
       "      <td>0.191021</td>\n",
       "      <td>0.999437</td>\n",
       "      <td>0.393250</td>\n",
       "    </tr>\n",
       "    <tr>\n",
       "      <th>...</th>\n",
       "      <td>...</td>\n",
       "      <td>...</td>\n",
       "      <td>...</td>\n",
       "      <td>...</td>\n",
       "      <td>...</td>\n",
       "    </tr>\n",
       "    <tr>\n",
       "      <th>10999</th>\n",
       "      <td>000000098287.jpg</td>\n",
       "      <td>0.870193</td>\n",
       "      <td>0.408687</td>\n",
       "      <td>0.882000</td>\n",
       "      <td>0.440844</td>\n",
       "    </tr>\n",
       "    <tr>\n",
       "      <th>11000</th>\n",
       "      <td>000000098287.jpg</td>\n",
       "      <td>0.419277</td>\n",
       "      <td>0.389062</td>\n",
       "      <td>0.455422</td>\n",
       "      <td>0.418750</td>\n",
       "    </tr>\n",
       "    <tr>\n",
       "      <th>11001</th>\n",
       "      <td>000000417779.jpg</td>\n",
       "      <td>0.736297</td>\n",
       "      <td>0.178083</td>\n",
       "      <td>0.765656</td>\n",
       "      <td>0.267104</td>\n",
       "    </tr>\n",
       "    <tr>\n",
       "      <th>11002</th>\n",
       "      <td>000000024567.jpg</td>\n",
       "      <td>0.000000</td>\n",
       "      <td>0.000000</td>\n",
       "      <td>0.876958</td>\n",
       "      <td>0.745188</td>\n",
       "    </tr>\n",
       "    <tr>\n",
       "      <th>11003</th>\n",
       "      <td>000000450559.jpg</td>\n",
       "      <td>0.167869</td>\n",
       "      <td>0.053328</td>\n",
       "      <td>0.711452</td>\n",
       "      <td>0.562672</td>\n",
       "    </tr>\n",
       "  </tbody>\n",
       "</table>\n",
       "<p>11004 rows × 5 columns</p>\n",
       "</div>"
      ],
      "text/plain": [
       "              file_name      xmin      ymin      xmax      ymax\n",
       "0      000000532481.jpg  0.391906  0.394977  0.501453  0.547277\n",
       "1      000000532481.jpg  0.446172  0.869859  0.465031  0.914953\n",
       "2      000000458755.jpg  0.107859  0.078646  0.901687  0.986521\n",
       "3      000000458755.jpg  0.885938  0.002646  1.000000  0.183604\n",
       "4      000000458755.jpg  0.921906  0.191021  0.999437  0.393250\n",
       "...                 ...       ...       ...       ...       ...\n",
       "10999  000000098287.jpg  0.870193  0.408687  0.882000  0.440844\n",
       "11000  000000098287.jpg  0.419277  0.389062  0.455422  0.418750\n",
       "11001  000000417779.jpg  0.736297  0.178083  0.765656  0.267104\n",
       "11002  000000024567.jpg  0.000000  0.000000  0.876958  0.745188\n",
       "11003  000000450559.jpg  0.167869  0.053328  0.711452  0.562672\n",
       "\n",
       "[11004 rows x 5 columns]"
      ]
     },
     "execution_count": 2,
     "metadata": {},
     "output_type": "execute_result"
    }
   ],
   "source": [
    "os.chdir(\"/home/sergio/Documents/COCODataset\")\n",
    "annotations_val_set = pd.read_csv(\"COCO_annotations_val.csv\")\n",
    "annotations_val_set.drop(\"Unnamed: 0\",axis=1)"
   ]
  },
  {
   "cell_type": "code",
   "execution_count": 3,
   "metadata": {},
   "outputs": [
    {
     "name": "stdout",
     "output_type": "stream",
     "text": [
      "2693\n"
     ]
    }
   ],
   "source": [
    "os.chdir(\"/home/sergio/Documents/COCODataset/pedestrian_dataset_val\")\n",
    "validation_images_names = os.listdir()\n",
    "print(len(validation_images_names))"
   ]
  },
  {
   "cell_type": "code",
   "execution_count": 4,
   "metadata": {},
   "outputs": [
    {
     "name": "stdout",
     "output_type": "stream",
     "text": [
      "Solo es una clase\n",
      "(None, 1690, 1, 4)\n",
      "Pesos de la convolucion (432,)\n",
      "CONV SHAPE (16, 3, 3, 3)\n",
      "Pesos de la convolucion (4608,)\n",
      "CONV SHAPE (32, 16, 3, 3)\n",
      "Pesos de la convolucion (18432,)\n",
      "CONV SHAPE (64, 32, 3, 3)\n",
      "Pesos de la convolucion (73728,)\n",
      "CONV SHAPE (128, 64, 3, 3)\n",
      "Pesos de la convolucion (294912,)\n",
      "CONV SHAPE (256, 128, 3, 3)\n",
      "Pesos de la convolucion (1179648,)\n",
      "CONV SHAPE (512, 256, 3, 3)\n",
      "Pesos de la convolucion (4718592,)\n",
      "CONV SHAPE (1024, 512, 3, 3)\n",
      "Pesos de la convolucion (262144,)\n",
      "CONV SHAPE (256, 1024, 1, 1)\n",
      "Pesos de la convolucion (1179648,)\n",
      "CONV SHAPE (512, 256, 3, 3)\n",
      "Pesos de la convolucion (130560,)\n",
      "CONV SHAPE (255, 512, 1, 1)\n",
      "Pesos de la convolucion (32768,)\n",
      "CONV SHAPE (128, 256, 1, 1)\n",
      "Pesos de la convolucion (884736,)\n",
      "CONV SHAPE (256, 384, 3, 3)\n",
      "Pesos de la convolucion (65280,)\n",
      "CONV SHAPE (255, 256, 1, 1)\n",
      "8858734\n"
     ]
    },
    {
     "data": {
      "text/plain": [
       "<tensorflow.python.training.tracking.util.CheckpointLoadStatus at 0x7fe61833dda0>"
      ]
     },
     "execution_count": 4,
     "metadata": {},
     "output_type": "execute_result"
    }
   ],
   "source": [
    "anchors =[[0.026,0.062],[0.067,0.183],[0.128,0.323],[0.343,0.650]]\n",
    "#anchors =tf.constant(np.array([[0,0,0.026,0.062],[0,0,0.067,0.183],[0,0,0.128,0.323],[0,0,0.343,0.650]]),dtype=tf.float32)\n",
    "model = TinyYOLOv3(1,anchor_boxes=anchors,train=False,mode = \"finetuning\",obj_threshold=0.5)\n",
    "model.build(batch_input_shape=(None,416,416,3))\n",
    "print(model.load_weights_darknet(\"/home/sergio/TinyYOLOv3-Pedestrian-Detection/yolov3-tiny.weights\"))\n",
    "model.load_weights('/home/sergio/Documents/weights_saved/pesos_160_to_180_epochs_nadam_2_1_4_1_0dot0001_el_bueno')"
   ]
  },
  {
   "cell_type": "code",
   "execution_count": null,
   "metadata": {},
   "outputs": [],
   "source": []
  },
  {
   "cell_type": "code",
   "execution_count": 5,
   "metadata": {},
   "outputs": [],
   "source": [
    "def get_iou_matrix_tf(box_arr1, box_arr2):\n",
    "    #print(box_arr1)\n",
    "    #print(box_arr2)\n",
    "    x11, y11, x12, y12 = tf.split(box_arr1, 4, axis=1)\n",
    "    x21, y21, x22, y22 = tf.split(box_arr2, 4, axis=1)\n",
    "    xA = tf.maximum(x11, tf.transpose(x21))\n",
    "    #print(xA)\n",
    "    yA = tf.maximum(y11, tf.transpose(y21))\n",
    "    #print(yA)\n",
    "    xB = tf.minimum(x12, tf.transpose(x22))\n",
    "    #print(xB)\n",
    "    yB = tf.minimum(y12, tf.transpose(y22))\n",
    "    #print(yB)\n",
    "    interArea = tf.maximum((xB - xA + 1e-9), 0) * tf.maximum((yB - yA + 1e-9), 0)\n",
    "    #print(\"interseccion\",interArea)\n",
    "    boxAArea = (x12 - x11 + 1e-9) * (y12 - y11 + 1e-9)\n",
    "    #print(\"area gt\",boxAArea)\n",
    "    boxBArea = (x22 - x21 + 1e-9) * (y22 - y21 + 1e-9)\n",
    "    #print(\"area pre\",boxBArea)\n",
    "    iou = interArea / (boxAArea + tf.transpose(boxBArea) - interArea)\n",
    "    #print(iou)\n",
    "    return tf.cast(iou>=0.5,dtype=tf.int32) #iou\n"
   ]
  },
  {
   "cell_type": "code",
   "execution_count": 6,
   "metadata": {},
   "outputs": [
    {
     "data": {
      "text/plain": [
       "array([0. , 0.1, 0.2, 0.3, 0.4, 0.5, 0.6, 0.7, 0.8, 0.9, 1. ])"
      ]
     },
     "execution_count": 6,
     "metadata": {},
     "output_type": "execute_result"
    }
   ],
   "source": [
    "np.arange(0,1.1,0.1)"
   ]
  },
  {
   "cell_type": "code",
   "execution_count": 7,
   "metadata": {},
   "outputs": [
    {
     "data": {
      "text/plain": [
       "11004"
      ]
     },
     "execution_count": 7,
     "metadata": {},
     "output_type": "execute_result"
    }
   ],
   "source": [
    "len(annotations_val_set)"
   ]
  },
  {
   "cell_type": "code",
   "execution_count": 18,
   "metadata": {},
   "outputs": [
    {
     "name": "stdout",
     "output_type": "stream",
     "text": [
      "0.0001\n",
      "Solo es una clase\n",
      "(None, 1690, 1, 4)\n",
      "Solo es una clase\n",
      "(1, 1690, 1, 4)\n",
      "0.1\n",
      "Solo es una clase\n",
      "(None, 1690, 1, 4)\n",
      "Solo es una clase\n",
      "(1, 1690, 1, 4)\n",
      "0.2\n",
      "Solo es una clase\n",
      "(None, 1690, 1, 4)\n",
      "Solo es una clase\n",
      "(1, 1690, 1, 4)\n",
      "0.3\n",
      "Solo es una clase\n",
      "(None, 1690, 1, 4)\n",
      "Solo es una clase\n",
      "(1, 1690, 1, 4)\n",
      "0.4\n",
      "Solo es una clase\n",
      "(None, 1690, 1, 4)\n",
      "Solo es una clase\n",
      "(1, 1690, 1, 4)\n",
      "0.5\n",
      "Solo es una clase\n",
      "(None, 1690, 1, 4)\n",
      "Solo es una clase\n",
      "(1, 1690, 1, 4)\n",
      "0.6\n",
      "Solo es una clase\n",
      "(None, 1690, 1, 4)\n",
      "Solo es una clase\n",
      "(1, 1690, 1, 4)\n",
      "0.7\n",
      "Solo es una clase\n",
      "(None, 1690, 1, 4)\n",
      "Solo es una clase\n",
      "(1, 1690, 1, 4)\n",
      "0.8\n",
      "Solo es una clase\n",
      "(None, 1690, 1, 4)\n",
      "Solo es una clase\n",
      "(1, 1690, 1, 4)\n",
      "0.9\n",
      "Solo es una clase\n",
      "(None, 1690, 1, 4)\n",
      "Solo es una clase\n",
      "(1, 1690, 1, 4)\n",
      "0.999\n",
      "Solo es una clase\n",
      "(None, 1690, 1, 4)\n",
      "Solo es una clase\n",
      "(1, 1690, 1, 4)\n"
     ]
    }
   ],
   "source": [
    "import time\n",
    "\n",
    "inicio = time.time()\n",
    "\n",
    "precision=[]\n",
    "recall = []\n",
    "tp_total = []\n",
    "fp_total = []\n",
    "total_predicted_boxes=[]\n",
    "thresholds = [0.0001,0.1,0.2,0.3,0.4,0.5,0.6,0.7,0.8,0.9,0.999]\n",
    "\n",
    "for thresh in thresholds:\n",
    "    tp = 0\n",
    "    fp = 0\n",
    "    fn = 0\n",
    "    total_pred_boxes = 0\n",
    "    print(thresh)\n",
    "    anchors =[[0.026,0.062],[0.067,0.183],[0.128,0.323],[0.343,0.650]]\n",
    "    #anchors =tf.constant(np.array([[0,0,0.026,0.062],[0,0,0.067,0.183],[0,0,0.128,0.323],[0,0,0.343,0.650]]),dtype=tf.float32)\n",
    "    model = TinyYOLOv3(1,anchor_boxes=anchors,train=False,mode = \"finetuning\",obj_threshold=thresh)\n",
    "    model.build(batch_input_shape=(None,416,416,3))\n",
    "    #print(model.load_weights_darknet(\"/home/sergio/TinyYOLOv3-Pedestrian-Detection/yolov3-tiny.weights\"))\n",
    "    model.load_weights('/home/sergio/Documents/weights_saved/pesos_1241_50_to_70_epoch_nadam_0dot0001_msle_exp_mse').expect_partial()    \n",
    "    \n",
    "    \n",
    "    \n",
    "    for image in validation_images_names:\n",
    "        #print(annotations_val_set[annotations_val_set.file_name==image])\n",
    "        groud_truth_bboxes = annotations_val_set[annotations_val_set.file_name==image].values[:,2:].astype(np.float32)\n",
    "        #print(groud_truth_bboxes)\n",
    "        img_raw = tf.image.decode_image(open(image, 'rb').read(), channels=3)\n",
    "        img = tf.expand_dims(img_raw, 0)\n",
    "        img = tf.image.resize(img, (416, 416))/255\n",
    "\n",
    "        outputs = model(img);\n",
    "        #print(outputs[0].numpy())\n",
    "        predicted_bboxes = outputs[0].numpy()[0,0:outputs[3][0].numpy(),:]\n",
    "        total_pred_boxes +=predicted_bboxes.shape[0]\n",
    "        #print(predicted_bboxes)\n",
    "        #print(\"\")\n",
    "        iou_matrix = get_iou_matrix_tf(groud_truth_bboxes,predicted_bboxes).numpy()\n",
    "        #print(iou_matrix)\n",
    "        suma_iou = iou_matrix.sum(axis=1)\n",
    "        #print(suma_iou)\n",
    "        #print(suma_iou)\n",
    "        tp_image = np.where(suma_iou>=1)[0].shape[0]\n",
    "        #print(tp_image)\n",
    "        #fn_image = fp_image =np.where(suma_iou==0)[0].shape[0]\n",
    "        fp_image=predicted_bboxes.shape[0] - tp_image\n",
    "\n",
    "        tp += tp_image\n",
    "        fp += fp_image\n",
    "        #fn += fn_image\n",
    "\n",
    "        tp_image=0\n",
    "        fn_image = 0\n",
    "        #fp_image=0\n",
    "        \n",
    "    precision_one = tp/(tp+fp)\n",
    "    recall_one = tp/11004\n",
    "    \n",
    "    precision.append(precision_one)\n",
    "    recall.append(recall_one)\n",
    "    tp_total.append(tp)\n",
    "    fp_total.append(fp)\n",
    "    total_predicted_boxes.append(total_pred_boxes)\n",
    "    \n",
    "    precision_one = 0\n",
    "    recall_one = 0\n",
    "        #break\n",
    "    \n",
    "fin = time.time()\n",
    "\n",
    "#print(fin-inicio)\n",
    "#print(2693/(fin-inicio))"
   ]
  },
  {
   "cell_type": "code",
   "execution_count": 19,
   "metadata": {},
   "outputs": [
    {
     "data": {
      "text/plain": [
       "[3382, 2373, 2083, 1853, 1655, 1483, 1316, 1130, 952, 703, 75]"
      ]
     },
     "execution_count": 19,
     "metadata": {},
     "output_type": "execute_result"
    }
   ],
   "source": [
    "tp_total"
   ]
  },
  {
   "cell_type": "code",
   "execution_count": 20,
   "metadata": {},
   "outputs": [
    {
     "data": {
      "text/plain": [
       "[7928, 3357, 2836, 2429, 2135, 1840, 1588, 1349, 1072, 727, 75]"
      ]
     },
     "execution_count": 20,
     "metadata": {},
     "output_type": "execute_result"
    }
   ],
   "source": [
    "fp_total"
   ]
  },
  {
   "cell_type": "code",
   "execution_count": 21,
   "metadata": {},
   "outputs": [
    {
     "data": {
      "text/plain": [
       "[0.299027409372237,\n",
       " 0.41413612565445024,\n",
       " 0.4234600528562716,\n",
       " 0.43274170948155066,\n",
       " 0.4366754617414248,\n",
       " 0.44628347878423114,\n",
       " 0.453168044077135,\n",
       " 0.45582896329164985,\n",
       " 0.47035573122529645,\n",
       " 0.4916083916083916,\n",
       " 0.5]"
      ]
     },
     "execution_count": 21,
     "metadata": {},
     "output_type": "execute_result"
    }
   ],
   "source": [
    "precision"
   ]
  },
  {
   "cell_type": "code",
   "execution_count": 22,
   "metadata": {},
   "outputs": [
    {
     "data": {
      "text/plain": [
       "0.43848048800842165"
      ]
     },
     "execution_count": 22,
     "metadata": {},
     "output_type": "execute_result"
    }
   ],
   "source": [
    "np.mean(precision)"
   ]
  },
  {
   "cell_type": "code",
   "execution_count": null,
   "metadata": {},
   "outputs": [],
   "source": []
  },
  {
   "cell_type": "code",
   "execution_count": null,
   "metadata": {},
   "outputs": [],
   "source": []
  },
  {
   "cell_type": "code",
   "execution_count": 17,
   "metadata": {},
   "outputs": [
    {
     "data": {
      "text/plain": [
       "[3610, 2426, 2132, 1906, 1715, 1559, 1380, 1174, 976, 744, 87]"
      ]
     },
     "execution_count": 17,
     "metadata": {},
     "output_type": "execute_result"
    }
   ],
   "source": [
    "tp_total"
   ]
  },
  {
   "cell_type": "code",
   "execution_count": 18,
   "metadata": {},
   "outputs": [
    {
     "data": {
      "text/plain": [
       "[8979, 3632, 2996, 2595, 2280, 2026, 1760, 1472, 1212, 879, 110]"
      ]
     },
     "execution_count": 18,
     "metadata": {},
     "output_type": "execute_result"
    }
   ],
   "source": [
    "fp_total"
   ]
  },
  {
   "cell_type": "code",
   "execution_count": 19,
   "metadata": {},
   "outputs": [
    {
     "data": {
      "text/plain": [
       "[0.2867582810390023,\n",
       " 0.4004621987454606,\n",
       " 0.4157566302652106,\n",
       " 0.42346145301044213,\n",
       " 0.4292866082603254,\n",
       " 0.43486750348675035,\n",
       " 0.4394904458598726,\n",
       " 0.4436885865457294,\n",
       " 0.4460694698354662,\n",
       " 0.4584103512014787,\n",
       " 0.4416243654822335]"
      ]
     },
     "execution_count": 19,
     "metadata": {},
     "output_type": "execute_result"
    }
   ],
   "source": [
    "precision"
   ]
  },
  {
   "cell_type": "code",
   "execution_count": 20,
   "metadata": {},
   "outputs": [
    {
     "data": {
      "text/plain": [
       "0.4199887176119974"
      ]
     },
     "execution_count": 20,
     "metadata": {},
     "output_type": "execute_result"
    }
   ],
   "source": [
    "np.mean(precision)"
   ]
  },
  {
   "cell_type": "code",
   "execution_count": null,
   "metadata": {},
   "outputs": [],
   "source": []
  },
  {
   "cell_type": "code",
   "execution_count": null,
   "metadata": {},
   "outputs": [],
   "source": []
  },
  {
   "cell_type": "code",
   "execution_count": null,
   "metadata": {},
   "outputs": [],
   "source": []
  },
  {
   "cell_type": "code",
   "execution_count": 9,
   "metadata": {},
   "outputs": [
    {
     "data": {
      "text/plain": [
       "[3699, 2563, 2187, 1907, 1692, 1483, 1277, 1072, 884, 614, 55]"
      ]
     },
     "execution_count": 9,
     "metadata": {},
     "output_type": "execute_result"
    }
   ],
   "source": [
    "tp_total"
   ]
  },
  {
   "cell_type": "code",
   "execution_count": 10,
   "metadata": {},
   "outputs": [
    {
     "data": {
      "text/plain": [
       "[10669, 3972, 3231, 2722, 2324, 1991, 1665, 1361, 1039, 672, 36]"
      ]
     },
     "execution_count": 10,
     "metadata": {},
     "output_type": "execute_result"
    }
   ],
   "source": [
    "fp_total"
   ]
  },
  {
   "cell_type": "code",
   "execution_count": 11,
   "metadata": {},
   "outputs": [
    {
     "data": {
      "text/plain": [
       "[0.2574471046770601,\n",
       " 0.39219586840091814,\n",
       " 0.40365448504983387,\n",
       " 0.41196802765176066,\n",
       " 0.4213147410358566,\n",
       " 0.4268854346574554,\n",
       " 0.4340584636301835,\n",
       " 0.44060830250719274,\n",
       " 0.4596983879355174,\n",
       " 0.4774494556765163,\n",
       " 0.6043956043956044]"
      ]
     },
     "execution_count": 11,
     "metadata": {},
     "output_type": "execute_result"
    }
   ],
   "source": [
    "precision"
   ]
  },
  {
   "cell_type": "code",
   "execution_count": 12,
   "metadata": {},
   "outputs": [
    {
     "data": {
      "text/plain": [
       "0.42997053414708175"
      ]
     },
     "execution_count": 12,
     "metadata": {},
     "output_type": "execute_result"
    }
   ],
   "source": [
    "np.mean(precision)"
   ]
  },
  {
   "cell_type": "code",
   "execution_count": null,
   "metadata": {},
   "outputs": [],
   "source": []
  },
  {
   "cell_type": "code",
   "execution_count": 9,
   "metadata": {},
   "outputs": [
    {
     "data": {
      "text/plain": [
       "[3308, 2173, 1950, 1753, 1595, 1440, 1278, 1107, 935, 693, 90]"
      ]
     },
     "execution_count": 9,
     "metadata": {},
     "output_type": "execute_result"
    }
   ],
   "source": [
    "tp_total"
   ]
  },
  {
   "cell_type": "code",
   "execution_count": 10,
   "metadata": {},
   "outputs": [
    {
     "data": {
      "text/plain": [
       "[12850, 3412, 2936, 2605, 2332, 2070, 1828, 1589, 1327, 969, 146]"
      ]
     },
     "execution_count": 10,
     "metadata": {},
     "output_type": "execute_result"
    }
   ],
   "source": [
    "fp_total"
   ]
  },
  {
   "cell_type": "code",
   "execution_count": 11,
   "metadata": {},
   "outputs": [
    {
     "data": {
      "text/plain": [
       "[0.20472830795890581,\n",
       " 0.3890778871978514,\n",
       " 0.39909946786737616,\n",
       " 0.40224873795318955,\n",
       " 0.4061624649859944,\n",
       " 0.41025641025641024,\n",
       " 0.41146168705730846,\n",
       " 0.41060830860534125,\n",
       " 0.41335101679929265,\n",
       " 0.41696750902527074,\n",
       " 0.3813559322033898]"
      ]
     },
     "execution_count": 11,
     "metadata": {},
     "output_type": "execute_result"
    }
   ],
   "source": [
    "precision"
   ]
  },
  {
   "cell_type": "code",
   "execution_count": 12,
   "metadata": {},
   "outputs": [
    {
     "data": {
      "text/plain": [
       "0.38593797544639374"
      ]
     },
     "execution_count": 12,
     "metadata": {},
     "output_type": "execute_result"
    }
   ],
   "source": [
    "np.mean(precision)"
   ]
  },
  {
   "cell_type": "code",
   "execution_count": null,
   "metadata": {},
   "outputs": [],
   "source": []
  },
  {
   "cell_type": "code",
   "execution_count": 9,
   "metadata": {},
   "outputs": [
    {
     "data": {
      "text/plain": [
       "[3308, 2755, 2464, 2209, 2029, 1856, 1658, 1457, 1211, 918, 123]"
      ]
     },
     "execution_count": 9,
     "metadata": {},
     "output_type": "execute_result"
    }
   ],
   "source": [
    "tp_total"
   ]
  },
  {
   "cell_type": "code",
   "execution_count": 10,
   "metadata": {},
   "outputs": [
    {
     "data": {
      "text/plain": [
       "[12850, 4799, 4039, 3487, 3096, 2764, 2443, 2092, 1755, 1289, 188]"
      ]
     },
     "execution_count": 10,
     "metadata": {},
     "output_type": "execute_result"
    }
   ],
   "source": [
    "fp_total"
   ]
  },
  {
   "cell_type": "code",
   "execution_count": 11,
   "metadata": {},
   "outputs": [
    {
     "data": {
      "text/plain": [
       "[0.20472830795890581,\n",
       " 0.36470743976701087,\n",
       " 0.3789020452099031,\n",
       " 0.38781601123595505,\n",
       " 0.39590243902439026,\n",
       " 0.4017316017316017,\n",
       " 0.40429163618629604,\n",
       " 0.410538179768949,\n",
       " 0.40829399865138233,\n",
       " 0.41594925237879476,\n",
       " 0.3954983922829582]"
      ]
     },
     "execution_count": 11,
     "metadata": {},
     "output_type": "execute_result"
    }
   ],
   "source": [
    "precision"
   ]
  },
  {
   "cell_type": "code",
   "execution_count": 12,
   "metadata": {},
   "outputs": [
    {
     "data": {
      "text/plain": [
       "0.37894175492692245"
      ]
     },
     "execution_count": 12,
     "metadata": {},
     "output_type": "execute_result"
    }
   ],
   "source": [
    "np.mean(precision)"
   ]
  },
  {
   "cell_type": "code",
   "execution_count": null,
   "metadata": {},
   "outputs": [],
   "source": [
    "[3519, 2884, 2559, 2309, 2061, 1855, 1634, 1427, 1176, 864, 120]\n",
    "[18025, 5944, 4702, 4006, 3453, 2983, 2589, 2181, 1747, 1252, 162]"
   ]
  },
  {
   "cell_type": "code",
   "execution_count": 9,
   "metadata": {},
   "outputs": [
    {
     "data": {
      "text/plain": [
       "[3616, 2930, 2608, 2323, 2104, 1908, 1691, 1477, 1226, 921, 123]"
      ]
     },
     "execution_count": 9,
     "metadata": {},
     "output_type": "execute_result"
    }
   ],
   "source": [
    "tp_total"
   ]
  },
  {
   "cell_type": "code",
   "execution_count": 10,
   "metadata": {},
   "outputs": [
    {
     "data": {
      "text/plain": [
       "[17928, 5596, 4622, 3910, 3410, 2985, 2601, 2184, 1815, 1306, 188]"
      ]
     },
     "execution_count": 10,
     "metadata": {},
     "output_type": "execute_result"
    }
   ],
   "source": [
    "fp_total"
   ]
  },
  {
   "cell_type": "code",
   "execution_count": 11,
   "metadata": {},
   "outputs": [
    {
     "data": {
      "text/plain": [
       "[0.16784255477163015,\n",
       " 0.3436547032606146,\n",
       " 0.3607192254495159,\n",
       " 0.3726937269372694,\n",
       " 0.3815741748277113,\n",
       " 0.38994481912936846,\n",
       " 0.3939888164026095,\n",
       " 0.40344168260038243,\n",
       " 0.40315685629727066,\n",
       " 0.4135608441850022,\n",
       " 0.3954983922829582]"
      ]
     },
     "execution_count": 11,
     "metadata": {},
     "output_type": "execute_result"
    }
   ],
   "source": [
    "precision"
   ]
  },
  {
   "cell_type": "code",
   "execution_count": 12,
   "metadata": {},
   "outputs": [
    {
     "data": {
      "text/plain": [
       "0.36600689055857566"
      ]
     },
     "execution_count": 12,
     "metadata": {},
     "output_type": "execute_result"
    }
   ],
   "source": [
    "np.mean(precision)"
   ]
  },
  {
   "cell_type": "code",
   "execution_count": null,
   "metadata": {},
   "outputs": [],
   "source": [
    "[3519, 2884, 2559, 2309, 2061, 1855, 1634, 1427, 1176, 864, 120]\n",
    "[18025, 5944, 4702, 4006, 3453, 2983, 2589, 2181, 1747, 1252, 162]"
   ]
  },
  {
   "cell_type": "code",
   "execution_count": null,
   "metadata": {},
   "outputs": [],
   "source": []
  },
  {
   "cell_type": "code",
   "execution_count": 9,
   "metadata": {},
   "outputs": [
    {
     "data": {
      "text/plain": [
       "[3858, 3053, 2697, 2384, 2142, 1931, 1702, 1485, 1230, 924, 123]"
      ]
     },
     "execution_count": 9,
     "metadata": {},
     "output_type": "execute_result"
    }
   ],
   "source": [
    "tp_total"
   ]
  },
  {
   "cell_type": "code",
   "execution_count": 10,
   "metadata": {},
   "outputs": [
    {
     "data": {
      "text/plain": [
       "[23072, 6172, 4993, 4152, 3565, 3083, 2659, 2220, 1830, 1308, 188]"
      ]
     },
     "execution_count": 10,
     "metadata": {},
     "output_type": "execute_result"
    }
   ],
   "source": [
    "fp_total"
   ]
  },
  {
   "cell_type": "code",
   "execution_count": 12,
   "metadata": {},
   "outputs": [
    {
     "data": {
      "text/plain": [
       "[0.14326030449313035,\n",
       " 0.33094850948509485,\n",
       " 0.3507152145643693,\n",
       " 0.36474908200734396,\n",
       " 0.37532854389346415,\n",
       " 0.3851216593538093,\n",
       " 0.3902774592983261,\n",
       " 0.4008097165991903,\n",
       " 0.4019607843137255,\n",
       " 0.41397849462365593,\n",
       " 0.3954983922829582]"
      ]
     },
     "execution_count": 12,
     "metadata": {},
     "output_type": "execute_result"
    }
   ],
   "source": [
    "precision"
   ]
  },
  {
   "cell_type": "code",
   "execution_count": 14,
   "metadata": {},
   "outputs": [
    {
     "data": {
      "text/plain": [
       "0.3593316509922789"
      ]
     },
     "execution_count": 14,
     "metadata": {},
     "output_type": "execute_result"
    }
   ],
   "source": [
    "np.mean(precision)"
   ]
  },
  {
   "cell_type": "code",
   "execution_count": null,
   "metadata": {},
   "outputs": [],
   "source": []
  },
  {
   "cell_type": "code",
   "execution_count": null,
   "metadata": {},
   "outputs": [],
   "source": []
  },
  {
   "cell_type": "code",
   "execution_count": 20,
   "metadata": {},
   "outputs": [
    {
     "data": {
      "text/plain": [
       "[28155, 6838, 5364, 4373, 3699, 3154, 2700, 2242, 1837, 1309, 188]"
      ]
     },
     "execution_count": 20,
     "metadata": {},
     "output_type": "execute_result"
    }
   ],
   "source": [
    "fp_total"
   ]
  },
  {
   "cell_type": "code",
   "execution_count": 21,
   "metadata": {},
   "outputs": [
    {
     "data": {
      "text/plain": [
       "[0.12875974749350166,\n",
       " 0.31722416375436846,\n",
       " 0.34054585689697564,\n",
       " 0.3575730865285735,\n",
       " 0.37016856802315684,\n",
       " 0.3827788649706458,\n",
       " 0.38803263825929285,\n",
       " 0.3989276139410188,\n",
       " 0.40123859191655803,\n",
       " 0.41379310344827586,\n",
       " 0.3954983922829582]"
      ]
     },
     "execution_count": 21,
     "metadata": {},
     "output_type": "execute_result"
    }
   ],
   "source": [
    "precision"
   ]
  },
  {
   "cell_type": "code",
   "execution_count": 22,
   "metadata": {},
   "outputs": [
    {
     "data": {
      "text/plain": [
       "0.35404914795593867"
      ]
     },
     "execution_count": 22,
     "metadata": {},
     "output_type": "execute_result"
    }
   ],
   "source": [
    "np.mean(precision)"
   ]
  },
  {
   "cell_type": "code",
   "execution_count": 23,
   "metadata": {},
   "outputs": [
    {
     "data": {
      "text/plain": [
       "[0.3781352235550709,\n",
       " 0.2887131952017448,\n",
       " 0.2517266448564158,\n",
       " 0.2211922937113777,\n",
       " 0.19756452199200292,\n",
       " 0.1777535441657579,\n",
       " 0.15557978916757542,\n",
       " 0.13522355507088332,\n",
       " 0.1118684114867321,\n",
       " 0.08396946564885496,\n",
       " 0.011177753544165758]"
      ]
     },
     "execution_count": 23,
     "metadata": {},
     "output_type": "execute_result"
    }
   ],
   "source": [
    "recall"
   ]
  },
  {
   "cell_type": "code",
   "execution_count": 24,
   "metadata": {},
   "outputs": [
    {
     "data": {
      "text/plain": [
       "0.1829913089455074"
      ]
     },
     "execution_count": 24,
     "metadata": {},
     "output_type": "execute_result"
    }
   ],
   "source": [
    "np.mean(recall)"
   ]
  },
  {
   "cell_type": "code",
   "execution_count": 20,
   "metadata": {},
   "outputs": [
    {
     "name": "stdout",
     "output_type": "stream",
     "text": [
      "0.0001\n",
      "Solo es una clase\n",
      "(None, 1690, 1, 4)\n",
      "Solo es una clase\n",
      "(1, 1690, 1, 4)\n",
      "0.1\n",
      "Solo es una clase\n",
      "(None, 1690, 1, 4)\n",
      "Solo es una clase\n",
      "(1, 1690, 1, 4)\n",
      "0.2\n",
      "Solo es una clase\n",
      "(None, 1690, 1, 4)\n",
      "Solo es una clase\n",
      "(1, 1690, 1, 4)\n",
      "0.3\n",
      "Solo es una clase\n",
      "(None, 1690, 1, 4)\n",
      "Solo es una clase\n",
      "(1, 1690, 1, 4)\n",
      "0.4\n",
      "Solo es una clase\n",
      "(None, 1690, 1, 4)\n",
      "Solo es una clase\n",
      "(1, 1690, 1, 4)\n",
      "0.5\n",
      "Solo es una clase\n",
      "(None, 1690, 1, 4)\n",
      "Solo es una clase\n",
      "(1, 1690, 1, 4)\n",
      "0.6\n",
      "Solo es una clase\n",
      "(None, 1690, 1, 4)\n",
      "Solo es una clase\n",
      "(1, 1690, 1, 4)\n",
      "0.7\n",
      "Solo es una clase\n",
      "(None, 1690, 1, 4)\n",
      "Solo es una clase\n",
      "(1, 1690, 1, 4)\n",
      "0.8\n",
      "Solo es una clase\n",
      "(None, 1690, 1, 4)\n",
      "Solo es una clase\n",
      "(1, 1690, 1, 4)\n",
      "0.9\n",
      "Solo es una clase\n",
      "(None, 1690, 1, 4)\n",
      "Solo es una clase\n",
      "(1, 1690, 1, 4)\n",
      "0.999\n",
      "Solo es una clase\n",
      "(None, 1690, 1, 4)\n",
      "Solo es una clase\n",
      "(1, 1690, 1, 4)\n"
     ]
    }
   ],
   "source": [
    "import time\n",
    "\n",
    "inicio = time.time()\n",
    "\n",
    "precision=[]\n",
    "recall = []\n",
    "tp_total = []\n",
    "fp_total = []\n",
    "\n",
    "thresholds = [0.0001,0.1,0.2,0.3,0.4,0.5,0.6,0.7,0.8,0.9,0.999]\n",
    "\n",
    "for thresh in thresholds:\n",
    "    tp = 0\n",
    "    fp = 0\n",
    "    fn = 0\n",
    "    print(thresh)\n",
    "    anchors =[[0.026,0.062],[0.067,0.183],[0.128,0.323],[0.343,0.650]]\n",
    "    #anchors =tf.constant(np.array([[0,0,0.026,0.062],[0,0,0.067,0.183],[0,0,0.128,0.323],[0,0,0.343,0.650]]),dtype=tf.float32)\n",
    "    model = TinyYOLOv3(1,anchor_boxes=anchors,train=False,mode = \"finetuning\",obj_threshold=thresh)\n",
    "    model.build(batch_input_shape=(None,416,416,3))\n",
    "    #print(model.load_weights_darknet(\"/home/sergio/TinyYOLOv3-Pedestrian-Detection/yolov3-tiny.weights\"))\n",
    "    model.load_weights('/home/sergio/Documents/weights_saved/pesos_160_to_180_epochs_nadam_2_1_4_1_0dot0001_el_bueno').expect_partial()    \n",
    "    \n",
    "    \n",
    "    \n",
    "    for image in validation_images_names:\n",
    "        #print(annotations_val_set[annotations_val_set.file_name==image])\n",
    "        groud_truth_bboxes = annotations_val_set[annotations_val_set.file_name==image].values[:,2:].astype(np.float32)\n",
    "        #print(groud_truth_bboxes)\n",
    "        img_raw = tf.image.decode_image(open(image, 'rb').read(), channels=3)\n",
    "        img = tf.expand_dims(img_raw, 0)\n",
    "        img = tf.image.resize(img, (416, 416))/255\n",
    "\n",
    "        outputs = model(img);\n",
    "        #print(outputs[0].numpy())\n",
    "        predicted_bboxes = outputs[0].numpy()[0,0:outputs[3][0].numpy(),:]\n",
    "        #print(predicted_bboxes)\n",
    "        #print(\"\")\n",
    "        iou_matrix = get_iou_matrix_tf(groud_truth_bboxes,predicted_bboxes).numpy()\n",
    "        #print(iou_matrix)\n",
    "        suma_iou = iou_matrix.sum(axis=1)\n",
    "        #print(suma_iou)\n",
    "        #print(suma_iou)\n",
    "        tp_image = np.where(suma_iou>=1)[0].shape[0]\n",
    "        #print(tp_image)\n",
    "        #fn_image = fp_image =np.where(suma_iou==0)[0].shape[0]\n",
    "        fp_image=predicted_bboxes.shape[0] - tp_image\n",
    "\n",
    "        tp += tp_image\n",
    "        fp += fp_image\n",
    "        #fn += fn_image\n",
    "\n",
    "        tp_image=0\n",
    "        fn_image = 0\n",
    "        #fp_image=0\n",
    "        \n",
    "    precision_one = tp/(tp+fp)\n",
    "    recall_one = tp/11004\n",
    "    \n",
    "    precision.append(precision_one)\n",
    "    recall.append(recall_one)\n",
    "    tp_total.append(tp)\n",
    "    fp_total.append(fp)\n",
    "    \n",
    "    precision_one = 0\n",
    "    recall_one = 0\n",
    "        #break\n",
    "    \n",
    "fin = time.time()\n",
    "\n",
    "#print(fin-inicio)\n",
    "#print(2693/(fin-inicio))"
   ]
  },
  {
   "cell_type": "code",
   "execution_count": 21,
   "metadata": {},
   "outputs": [
    {
     "data": {
      "text/plain": [
       "[3100, 2172, 1895, 1701, 1533, 1389, 1244, 1067, 885, 670, 89]"
      ]
     },
     "execution_count": 21,
     "metadata": {},
     "output_type": "execute_result"
    }
   ],
   "source": [
    "tp_total"
   ]
  },
  {
   "cell_type": "code",
   "execution_count": 22,
   "metadata": {},
   "outputs": [
    {
     "data": {
      "text/plain": [
       "[8116, 3532, 2974, 2606, 2306, 2057, 1800, 1523, 1249, 936, 118]"
      ]
     },
     "execution_count": 22,
     "metadata": {},
     "output_type": "execute_result"
    }
   ],
   "source": [
    "fp_total"
   ]
  },
  {
   "cell_type": "code",
   "execution_count": 23,
   "metadata": {},
   "outputs": [
    {
     "data": {
      "text/plain": [
       "[0.27639087018544933,\n",
       " 0.3807854137447405,\n",
       " 0.3891969603614705,\n",
       " 0.3949384722544695,\n",
       " 0.3993227402969523,\n",
       " 0.4030760301799187,\n",
       " 0.40867279894875164,\n",
       " 0.41196911196911196,\n",
       " 0.4147141518275539,\n",
       " 0.41718555417185554,\n",
       " 0.42995169082125606]"
      ]
     },
     "execution_count": 23,
     "metadata": {},
     "output_type": "execute_result"
    }
   ],
   "source": [
    "precision"
   ]
  },
  {
   "cell_type": "code",
   "execution_count": 24,
   "metadata": {},
   "outputs": [
    {
     "data": {
      "text/plain": [
       "0.39329125406922993"
      ]
     },
     "execution_count": 24,
     "metadata": {},
     "output_type": "execute_result"
    }
   ],
   "source": [
    "np.mean(precision)"
   ]
  },
  {
   "cell_type": "code",
   "execution_count": null,
   "metadata": {},
   "outputs": [],
   "source": []
  },
  {
   "cell_type": "code",
   "execution_count": 14,
   "metadata": {},
   "outputs": [
    {
     "data": {
      "text/plain": [
       "[3217, 2172, 1895, 1701, 1533, 1389, 1244, 1067, 885, 670, 89]"
      ]
     },
     "execution_count": 14,
     "metadata": {},
     "output_type": "execute_result"
    }
   ],
   "source": [
    "tp_total"
   ]
  },
  {
   "cell_type": "code",
   "execution_count": 15,
   "metadata": {},
   "outputs": [
    {
     "data": {
      "text/plain": [
       "[12941, 3532, 2974, 2606, 2306, 2057, 1800, 1523, 1249, 936, 118]"
      ]
     },
     "execution_count": 15,
     "metadata": {},
     "output_type": "execute_result"
    }
   ],
   "source": [
    "fp_total"
   ]
  },
  {
   "cell_type": "code",
   "execution_count": 16,
   "metadata": {},
   "outputs": [
    {
     "data": {
      "text/plain": [
       "[0.19909642282460702,\n",
       " 0.3807854137447405,\n",
       " 0.3891969603614705,\n",
       " 0.3949384722544695,\n",
       " 0.3993227402969523,\n",
       " 0.4030760301799187,\n",
       " 0.40867279894875164,\n",
       " 0.41196911196911196,\n",
       " 0.4147141518275539,\n",
       " 0.41718555417185554,\n",
       " 0.42995169082125606]"
      ]
     },
     "execution_count": 16,
     "metadata": {},
     "output_type": "execute_result"
    }
   ],
   "source": [
    "precision"
   ]
  },
  {
   "cell_type": "code",
   "execution_count": 17,
   "metadata": {},
   "outputs": [
    {
     "data": {
      "text/plain": [
       "0.3862644861273352"
      ]
     },
     "execution_count": 17,
     "metadata": {},
     "output_type": "execute_result"
    }
   ],
   "source": []
  },
  {
   "cell_type": "code",
   "execution_count": null,
   "metadata": {},
   "outputs": [],
   "source": []
  },
  {
   "cell_type": "code",
   "execution_count": 14,
   "metadata": {},
   "outputs": [
    {
     "data": {
      "text/plain": [
       "[3217, 2709, 2427, 2206, 1985, 1797, 1596, 1403, 1167, 862, 120]"
      ]
     },
     "execution_count": 14,
     "metadata": {},
     "output_type": "execute_result"
    }
   ],
   "source": [
    "tp_total"
   ]
  },
  {
   "cell_type": "code",
   "execution_count": 15,
   "metadata": {},
   "outputs": [
    {
     "data": {
      "text/plain": [
       "[12941, 5114, 4158, 3608, 3164, 2770, 2434, 2080, 1694, 1231, 162]"
      ]
     },
     "execution_count": 15,
     "metadata": {},
     "output_type": "execute_result"
    }
   ],
   "source": [
    "fp_total"
   ]
  },
  {
   "cell_type": "code",
   "execution_count": 16,
   "metadata": {},
   "outputs": [
    {
     "data": {
      "text/plain": [
       "[0.19909642282460702,\n",
       " 0.3462865908219353,\n",
       " 0.36856492027334853,\n",
       " 0.37942896456828346,\n",
       " 0.38551174985434067,\n",
       " 0.39347492883731117,\n",
       " 0.39602977667493794,\n",
       " 0.40281366637955784,\n",
       " 0.40789933589653965,\n",
       " 0.4118490205446727,\n",
       " 0.425531914893617]"
      ]
     },
     "execution_count": 16,
     "metadata": {},
     "output_type": "execute_result"
    }
   ],
   "source": [
    "precision"
   ]
  },
  {
   "cell_type": "code",
   "execution_count": 17,
   "metadata": {},
   "outputs": [
    {
     "data": {
      "text/plain": [
       "0.37422611741537737"
      ]
     },
     "execution_count": 17,
     "metadata": {},
     "output_type": "execute_result"
    }
   ],
   "source": [
    "np.mean(precision)"
   ]
  },
  {
   "cell_type": "code",
   "execution_count": null,
   "metadata": {},
   "outputs": [],
   "source": []
  },
  {
   "cell_type": "code",
   "execution_count": 14,
   "metadata": {},
   "outputs": [
    {
     "data": {
      "text/plain": [
       "[3519, 2884, 2559, 2309, 2061, 1855, 1634, 1427, 1176, 864, 120]"
      ]
     },
     "execution_count": 14,
     "metadata": {},
     "output_type": "execute_result"
    }
   ],
   "source": [
    "tp_total"
   ]
  },
  {
   "cell_type": "code",
   "execution_count": 15,
   "metadata": {},
   "outputs": [
    {
     "data": {
      "text/plain": [
       "[18025, 5944, 4702, 4006, 3453, 2983, 2589, 2181, 1747, 1252, 162]"
      ]
     },
     "execution_count": 15,
     "metadata": {},
     "output_type": "execute_result"
    }
   ],
   "source": [
    "fp_total"
   ]
  },
  {
   "cell_type": "code",
   "execution_count": 16,
   "metadata": {},
   "outputs": [
    {
     "data": {
      "text/plain": [
       "[0.1633401411065726,\n",
       " 0.3266878115088355,\n",
       " 0.35243079465638344,\n",
       " 0.36563737133808394,\n",
       " 0.3737758433079434,\n",
       " 0.38342290202563045,\n",
       " 0.3869287236561686,\n",
       " 0.395509977827051,\n",
       " 0.4023263770099213,\n",
       " 0.40831758034026466,\n",
       " 0.425531914893617]"
      ]
     },
     "execution_count": 16,
     "metadata": {},
     "output_type": "execute_result"
    }
   ],
   "source": [
    "precision"
   ]
  },
  {
   "cell_type": "code",
   "execution_count": 17,
   "metadata": {},
   "outputs": [
    {
     "data": {
      "text/plain": [
       "0.36217358524277016"
      ]
     },
     "execution_count": 17,
     "metadata": {},
     "output_type": "execute_result"
    }
   ],
   "source": [
    "np.mean(precision)"
   ]
  },
  {
   "cell_type": "code",
   "execution_count": 18,
   "metadata": {},
   "outputs": [
    {
     "data": {
      "text/plain": [
       "[0.3197928026172301,\n",
       " 0.26208651399491095,\n",
       " 0.23255179934569248,\n",
       " 0.20983278807706288,\n",
       " 0.18729552889858234,\n",
       " 0.16857506361323155,\n",
       " 0.148491457651763,\n",
       " 0.1296801163213377,\n",
       " 0.10687022900763359,\n",
       " 0.07851690294438386,\n",
       " 0.010905125408942203]"
      ]
     },
     "execution_count": 18,
     "metadata": {},
     "output_type": "execute_result"
    }
   ],
   "source": [
    "recall"
   ]
  },
  {
   "cell_type": "code",
   "execution_count": 19,
   "metadata": {},
   "outputs": [
    {
     "data": {
      "text/plain": [
       "0.16859984798916094"
      ]
     },
     "execution_count": 19,
     "metadata": {},
     "output_type": "execute_result"
    }
   ],
   "source": [
    "np.mean(recall)"
   ]
  },
  {
   "cell_type": "code",
   "execution_count": null,
   "metadata": {},
   "outputs": [],
   "source": []
  },
  {
   "cell_type": "code",
   "execution_count": 20,
   "metadata": {},
   "outputs": [
    {
     "data": {
      "text/plain": [
       "[0.477735368956743,\n",
       " 0.37795347146492186,\n",
       " 0.33142493638676845,\n",
       " 0.29498364231188656,\n",
       " 0.25926935659760086,\n",
       " 0.23109778262450018,\n",
       " 0.2050163576881134,\n",
       " 0.17802617230098147,\n",
       " 0.14694656488549618,\n",
       " 0.10814249363867684]"
      ]
     },
     "execution_count": 20,
     "metadata": {},
     "output_type": "execute_result"
    }
   ],
   "source": [
    "recall"
   ]
  },
  {
   "cell_type": "code",
   "execution_count": 21,
   "metadata": {},
   "outputs": [
    {
     "name": "stdout",
     "output_type": "stream",
     "text": [
      "1190\n",
      "931\n",
      "0\n",
      "0.5610561056105611\n",
      "1.0\n"
     ]
    }
   ],
   "source": [
    "print(tp)\n",
    "print(fp)\n",
    "print(fn)\n",
    "precision = tp/(tp+fp)\n",
    "recall = tp/(tp+fn)\n",
    "\n",
    "print(precision)\n",
    "print(recall)"
   ]
  },
  {
   "cell_type": "code",
   "execution_count": 9,
   "metadata": {},
   "outputs": [
    {
     "data": {
      "text/plain": [
       "array([[1, 1, 0, 0, 0, 0, 0, 0, 0, 0, 0, 0, 0, 0, 0, 0, 0, 0, 0, 0]],\n",
       "      dtype=int32)"
      ]
     },
     "execution_count": 9,
     "metadata": {},
     "output_type": "execute_result"
    }
   ],
   "source": [
    "iou_matrix"
   ]
  },
  {
   "cell_type": "code",
   "execution_count": 10,
   "metadata": {},
   "outputs": [],
   "source": [
    "fake_suma_iou = np.array([0,1,1,0,2,3,1])\n",
    "#fake_suma_iou = np.array([0,1,2])"
   ]
  },
  {
   "cell_type": "code",
   "execution_count": 11,
   "metadata": {},
   "outputs": [],
   "source": [
    "tp_image = np.where(fake_suma_iou>=1)[0].shape[0]\n",
    "fn_image = fp_image =np.where(fake_suma_iou==0)[0].shape[0]\n",
    "fp_image=fp_image + np.sum(fake_suma_iou[np.where(fake_suma_iou>1)[0]]-1)"
   ]
  },
  {
   "cell_type": "code",
   "execution_count": 12,
   "metadata": {},
   "outputs": [
    {
     "name": "stdout",
     "output_type": "stream",
     "text": [
      "5\n",
      "2\n",
      "5\n"
     ]
    }
   ],
   "source": [
    "print(tp_image)\n",
    "print(fn_image)\n",
    "print(fp_image)"
   ]
  },
  {
   "cell_type": "code",
   "execution_count": 13,
   "metadata": {},
   "outputs": [
    {
     "data": {
      "text/plain": [
       "<matplotlib.image.AxesImage at 0x7f79abce2668>"
      ]
     },
     "execution_count": 13,
     "metadata": {},
     "output_type": "execute_result"
    },
    {
     "data": {
      "image/png": "[encoded data removed]",
      "text/plain": [
       "<Figure size 432x288 with 1 Axes>"
      ]
     },
     "metadata": {
      "needs_background": "light"
     },
     "output_type": "display_data"
    }
   ],
   "source": [
    "imshow(img.numpy()[0,:,:,:])"
   ]
  },
  {
   "cell_type": "code",
   "execution_count": 14,
   "metadata": {},
   "outputs": [],
   "source": [
    "ground_truth = annotations_val_set[annotations_val_set.file_name==image].values[:,2:].astype(np.float32)"
   ]
  },
  {
   "cell_type": "code",
   "execution_count": 15,
   "metadata": {},
   "outputs": [
    {
     "data": {
      "text/plain": [
       "array([[  0.      ,  60.901993, 124.54649 , 271.71582 ]], dtype=float32)"
      ]
     },
     "execution_count": 15,
     "metadata": {},
     "output_type": "execute_result"
    }
   ],
   "source": [
    "ground_truth*416"
   ]
  },
  {
   "cell_type": "code",
   "execution_count": 16,
   "metadata": {},
   "outputs": [],
   "source": [
    "predicted =outputs[0].numpy()[0,0:outputs[3][0].numpy(),:]"
   ]
  },
  {
   "cell_type": "code",
   "execution_count": 17,
   "metadata": {},
   "outputs": [
    {
     "data": {
      "text/plain": [
       "array([[5.07258773e-01, 2.49375120e-01, 5.74728370e-01, 6.77042127e-01],\n",
       "       [5.49546957e-01, 3.12932193e-01, 6.04627132e-01, 6.11308932e-01],\n",
       "       [4.03661907e-01, 2.24301398e-01, 5.29107690e-01, 5.51649034e-01],\n",
       "       [0.00000000e+00, 2.52826273e-01, 3.62316728e-01, 8.25129211e-01],\n",
       "       [5.23441195e-01, 3.15338492e-01, 5.54700494e-01, 3.77405882e-01],\n",
       "       [1.62017794e-04, 6.97114289e-01, 1.63021468e-04, 9.19377625e-01],\n",
       "       [4.71134275e-01, 3.19938660e-01, 5.31406999e-01, 6.04038417e-01],\n",
       "       [1.76049798e-04, 7.46622443e-01, 1.77213165e-04, 9.46964741e-01],\n",
       "       [3.48556578e-01, 1.94655418e-01, 7.31553733e-01, 7.31992602e-01],\n",
       "       [1.11369889e-04, 6.94792807e-01, 1.12353264e-04, 8.44857037e-01],\n",
       "       [5.19336879e-01, 2.62916863e-01, 5.59574187e-01, 3.53607774e-01],\n",
       "       [1.18329874e-04, 2.16454819e-01, 1.18788841e-04, 4.76958394e-01],\n",
       "       [1.17841242e-04, 2.49680132e-01, 1.18288495e-04, 5.20503640e-01],\n",
       "       [0.00000000e+00, 7.15749204e-01, 1.66194364e-02, 9.77540791e-01],\n",
       "       [1.00808698e-04, 6.30551755e-01, 1.01117577e-04, 8.31971943e-01],\n",
       "       [9.73281567e-05, 4.14847195e-01, 9.74460563e-05, 6.63193882e-01],\n",
       "       [1.35577488e-04, 8.06390762e-01, 1.36373856e-04, 1.00000000e+00],\n",
       "       [2.12058003e-04, 9.57449913e-01, 2.17263339e-04, 9.66591358e-01],\n",
       "       [1.31571083e-04, 0.00000000e+00, 1.31732115e-04, 9.92337465e-02],\n",
       "       [9.90119879e-05, 3.47000420e-01, 9.91219858e-05, 6.54017389e-01]],\n",
       "      dtype=float32)"
      ]
     },
     "execution_count": 17,
     "metadata": {},
     "output_type": "execute_result"
    }
   ],
   "source": [
    "predicted"
   ]
  },
  {
   "cell_type": "code",
   "execution_count": 18,
   "metadata": {},
   "outputs": [
    {
     "data": {
      "text/plain": [
       "<tf.Tensor: shape=(1, 20), dtype=int32, numpy=\n",
       "array([[0, 0, 0, 1, 0, 0, 0, 0, 0, 0, 0, 0, 0, 0, 0, 0, 0, 0, 0, 0]],\n",
       "      dtype=int32)>"
      ]
     },
     "execution_count": 18,
     "metadata": {},
     "output_type": "execute_result"
    }
   ],
   "source": [
    "get_iou_matrix_tf(ground_truth, predicted)"
   ]
  },
  {
   "cell_type": "code",
   "execution_count": null,
   "metadata": {},
   "outputs": [],
   "source": []
  },
  {
   "cell_type": "code",
   "execution_count": 10,
   "metadata": {},
   "outputs": [],
   "source": [
    "tf.random.set_seed(0)\n",
    "\n",
    "from tensorflow.keras.metrics import TrueNegatives,TruePositives,FalseNegatives,FalsePositives,Precision,Recall\n",
    "\n",
    "opt = tf.keras.optimizers.Nadam(learning_rate=0.001)\n",
    "\n",
    "losses = {\"output_1\": loss_xy,\n",
    "          \"output_2\": loss_wh,\n",
    "          \"output_3\":loss_objectness,\n",
    "          \"output_4\":loss_no_objectness\n",
    "          \n",
    "}\n",
    "\n",
    "metrics = {\"output_3\":[Precision(),Recall(),TrueNegatives(),TruePositives(),FalseNegatives(),FalsePositives()]}\n",
    "model.compile(optimizer=opt, loss=losses,metrics=metrics,loss_weights=[2,1,4,1])\n",
    "os.chdir(\"/home/sergio/Documents/pedestrian_dataset_train_tfr\")"
   ]
  },
  {
   "cell_type": "code",
   "execution_count": null,
   "metadata": {},
   "outputs": [],
   "source": []
  },
  {
   "cell_type": "code",
   "execution_count": 9,
   "metadata": {
    "collapsed": true,
    "jupyter": {
     "outputs_hidden": true
    }
   },
   "outputs": [
    {
     "name": "stdout",
     "output_type": "stream",
     "text": [
      "Se redimensiona la salida de la CNN a: (None, 338, 5)\n",
      "Se redimensiona la salida de la CNN a: (None, 1352, 5)\n",
      "Epoch 1/10\n",
      "Se redimensiona la salida de la CNN a: (None, 338, 5)\n",
      "Se redimensiona la salida de la CNN a: (None, 1352, 5)\n",
      "Se redimensiona la salida de la CNN a: (None, 338, 5)\n",
      "Se redimensiona la salida de la CNN a: (None, 1352, 5)\n",
      "   9213/Unknown - 655s 71ms/step - loss: 43.9426 - output_1_loss: 6.2576 - output_2_loss: 2.4306 - output_3_loss: 0.2216 - output_4_loss: 28.1102 - output_3_precision: 0.3717 - output_3_recall: 0.0751 - output_3_true_negatives: 123948400.0000 - output_3_true_positives: 40042.0000 - output_3_false_negatives: 493492.0000 - output_3_false_positives: 67688.0000Se redimensiona la salida de la CNN a: (None, 338, 5)\n",
      "Se redimensiona la salida de la CNN a: (None, 1352, 5)\n",
      "9213/9213 [==============================] - 664s 72ms/step - loss: 43.9426 - output_1_loss: 6.2576 - output_2_loss: 2.4306 - output_3_loss: 0.2216 - output_4_loss: 28.1102 - output_3_precision: 0.3717 - output_3_recall: 0.0751 - output_3_true_negatives: 123948400.0000 - output_3_true_positives: 40042.0000 - output_3_false_negatives: 493492.0000 - output_3_false_positives: 67688.0000 - val_loss: 37.7352 - val_output_1_loss: 5.5197 - val_output_2_loss: 0.9665 - val_output_3_loss: 0.2136 - val_output_4_loss: 24.8747 - val_output_3_precision: 0.7318 - val_output_3_recall: 0.1124 - val_output_3_true_negatives: 5045661.0000 - val_output_3_true_positives: 2628.0000 - val_output_3_false_negatives: 20748.0000 - val_output_3_false_positives: 963.0000\n",
      "Epoch 2/10\n",
      "9213/9213 [==============================] - 605s 66ms/step - loss: 38.3551 - output_1_loss: 5.5962 - output_2_loss: 2.0277 - output_3_loss: 0.2032 - output_4_loss: 24.3221 - output_3_precision: 0.6540 - output_3_recall: 0.1186 - output_3_true_negatives: 123982944.0000 - output_3_true_positives: 63245.0000 - output_3_false_negatives: 470203.0000 - output_3_false_positives: 33464.0000 - val_loss: 35.8844 - val_output_1_loss: 5.2564 - val_output_2_loss: 0.9939 - val_output_3_loss: 0.2041 - val_output_4_loss: 23.5615 - val_output_3_precision: 0.7453 - val_output_3_recall: 0.1470 - val_output_3_true_negatives: 5045450.0000 - val_output_3_true_positives: 3436.0000 - val_output_3_false_negatives: 19940.0000 - val_output_3_false_positives: 1174.0000\n",
      "Epoch 3/10\n",
      "9213/9213 [==============================] - 590s 64ms/step - loss: 36.4648 - output_1_loss: 5.3352 - output_2_loss: 1.8585 - output_3_loss: 0.1943 - output_4_loss: 23.1587 - output_3_precision: 0.6678 - output_3_recall: 0.1501 - output_3_true_negatives: 123976248.0000 - output_3_true_positives: 80046.0000 - output_3_false_negatives: 453298.0000 - output_3_false_positives: 39816.0000 - val_loss: 34.9883 - val_output_1_loss: 5.1139 - val_output_2_loss: 1.2689 - val_output_3_loss: 0.1981 - val_output_4_loss: 22.6992 - val_output_3_precision: 0.7692 - val_output_3_recall: 0.1581 - val_output_3_true_negatives: 5045515.0000 - val_output_3_true_positives: 3695.0000 - val_output_3_false_negatives: 19681.0000 - val_output_3_false_positives: 1109.0000\n",
      "Epoch 4/10\n",
      "9213/9213 [==============================] - 654s 71ms/step - loss: 35.6646 - output_1_loss: 5.2250 - output_2_loss: 1.8204 - output_3_loss: 0.1905 - output_4_loss: 22.6323 - output_3_precision: 0.6724 - output_3_recall: 0.1651 - output_3_true_negatives: 123972808.0000 - output_3_true_positives: 88115.0000 - output_3_false_negatives: 445435.0000 - output_3_false_positives: 42927.0000 - val_loss: 33.6767 - val_output_1_loss: 4.9384 - val_output_2_loss: 0.9135 - val_output_3_loss: 0.1921 - val_output_4_loss: 22.1179 - val_output_3_precision: 0.7457 - val_output_3_recall: 0.1834 - val_output_3_true_negatives: 5045162.0000 - val_output_3_true_positives: 4288.0000 - val_output_3_false_negatives: 19088.0000 - val_output_3_false_positives: 1462.0000\n",
      "Epoch 5/10\n",
      "9213/9213 [==============================] - 713s 77ms/step - loss: 34.2035 - output_1_loss: 5.0332 - output_2_loss: 1.7306 - output_3_loss: 0.1830 - output_4_loss: 21.6746 - output_3_precision: 0.6819 - output_3_recall: 0.1911 - output_3_true_negatives: 123968632.0000 - output_3_true_positives: 101955.0000 - output_3_false_negatives: 431595.0000 - output_3_false_positives: 47562.0000 - val_loss: 32.4309 - val_output_1_loss: 4.7496 - val_output_2_loss: 0.8779 - val_output_3_loss: 0.1863 - val_output_4_loss: 21.3085 - val_output_3_precision: 0.7497 - val_output_3_recall: 0.2170 - val_output_3_true_negatives: 5044931.0000 - val_output_3_true_positives: 5072.0000 - val_output_3_false_negatives: 18304.0000 - val_output_3_false_positives: 1693.0000\n",
      "Epoch 6/10\n",
      "9213/9213 [==============================] - 611s 66ms/step - loss: 33.4066 - output_1_loss: 4.9299 - output_2_loss: 1.6754 - output_3_loss: 0.1788 - output_4_loss: 21.1561 - output_3_precision: 0.6886 - output_3_recall: 0.2062 - output_3_true_negatives: 123966552.0000 - output_3_true_positives: 110006.0000 - output_3_false_negatives: 423488.0000 - output_3_false_positives: 49740.0000 - val_loss: 31.8421 - val_output_1_loss: 4.7458 - val_output_2_loss: 0.7726 - val_output_3_loss: 0.1821 - val_output_4_loss: 20.8495 - val_output_3_precision: 0.7605 - val_output_3_recall: 0.2137 - val_output_3_true_negatives: 5045051.0000 - val_output_3_true_positives: 4995.0000 - val_output_3_false_negatives: 18381.0000 - val_output_3_false_positives: 1573.0000\n",
      "Epoch 7/10\n",
      "9213/9213 [==============================] - 596s 65ms/step - loss: 32.5093 - output_1_loss: 4.7579 - output_2_loss: 1.6396 - output_3_loss: 0.1750 - output_4_loss: 20.6539 - output_3_precision: 0.6947 - output_3_recall: 0.2212 - output_3_true_negatives: 123964352.0000 - output_3_true_positives: 117997.0000 - output_3_false_negatives: 415507.0000 - output_3_false_positives: 51859.0000 - val_loss: 30.8172 - val_output_1_loss: 4.5020 - val_output_2_loss: 0.7886 - val_output_3_loss: 0.1783 - val_output_4_loss: 20.3115 - val_output_3_precision: 0.7392 - val_output_3_recall: 0.2422 - val_output_3_true_negatives: 5044626.0000 - val_output_3_true_positives: 5662.0000 - val_output_3_false_negatives: 17714.0000 - val_output_3_false_positives: 1998.0000\n",
      "Epoch 8/10\n",
      "9213/9213 [==============================] - 590s 64ms/step - loss: 31.9490 - output_1_loss: 4.7013 - output_2_loss: 1.5448 - output_3_loss: 0.1724 - output_4_loss: 20.3119 - output_3_precision: 0.6962 - output_3_recall: 0.2325 - output_3_true_negatives: 123961960.0000 - output_3_true_positives: 124022.0000 - output_3_false_negatives: 409516.0000 - output_3_false_positives: 54107.0000 - val_loss: 29.9932 - val_output_1_loss: 4.3782 - val_output_2_loss: 0.7787 - val_output_3_loss: 0.1737 - val_output_4_loss: 19.7633 - val_output_3_precision: 0.7609 - val_output_3_recall: 0.2471 - val_output_3_true_negatives: 5044809.0000 - val_output_3_true_positives: 5777.0000 - val_output_3_false_negatives: 17599.0000 - val_output_3_false_positives: 1815.0000\n",
      "Epoch 9/10\n",
      "9213/9213 [==============================] - 582s 63ms/step - loss: 31.4028 - output_1_loss: 4.6090 - output_2_loss: 1.5543 - output_3_loss: 0.1699 - output_4_loss: 19.9508 - output_3_precision: 0.6998 - output_3_recall: 0.2443 - output_3_true_negatives: 123959968.0000 - output_3_true_positives: 130324.0000 - output_3_false_negatives: 403136.0000 - output_3_false_positives: 55901.0000 - val_loss: 29.4041 - val_output_1_loss: 4.2377 - val_output_2_loss: 0.6497 - val_output_3_loss: 0.1715 - val_output_4_loss: 19.5930 - val_output_3_precision: 0.7404 - val_output_3_recall: 0.2844 - val_output_3_true_negatives: 5044293.0000 - val_output_3_true_positives: 6648.0000 - val_output_3_false_negatives: 16728.0000 - val_output_3_false_positives: 2331.0000\n",
      "Epoch 10/10\n",
      "9213/9213 [==============================] - 565s 61ms/step - loss: 30.8245 - output_1_loss: 4.5201 - output_2_loss: 1.5095 - output_3_loss: 0.1670 - output_4_loss: 19.6067 - output_3_precision: 0.7043 - output_3_recall: 0.2552 - output_3_true_negatives: 123958712.0000 - output_3_true_positives: 136153.0000 - output_3_false_negatives: 397375.0000 - output_3_false_positives: 57175.0000 - val_loss: 28.7898 - val_output_1_loss: 4.1714 - val_output_2_loss: 0.6646 - val_output_3_loss: 0.1679 - val_output_4_loss: 19.1110 - val_output_3_precision: 0.7467 - val_output_3_recall: 0.3008 - val_output_3_true_negatives: 5044239.0000 - val_output_3_true_positives: 7031.0000 - val_output_3_false_negatives: 16345.0000 - val_output_3_false_positives: 2385.0000\n"
     ]
    }
   ],
   "source": [
    "history = model.fit(train_dataset, epochs=10,validation_data=val_dataset)"
   ]
  },
  {
   "cell_type": "code",
   "execution_count": null,
   "metadata": {},
   "outputs": [],
   "source": []
  },
  {
   "cell_type": "markdown",
   "metadata": {},
   "source": [
    "# DESDE AQUI"
   ]
  },
  {
   "cell_type": "code",
   "execution_count": null,
   "metadata": {},
   "outputs": [],
   "source": []
  },
  {
   "cell_type": "code",
   "execution_count": 1,
   "metadata": {},
   "outputs": [],
   "source": [
    "import sys\n",
    "sys.path.append(\"/home/sergio/TinyYOLOv3-Pedestrian-Detection\")\n",
    "\n",
    "from YOLOblocks import TinyYOLOv3,BasicBlock,PredictionLayer#,YOLOLossBasicBlock\n",
    "import numpy as np\n",
    "import matplotlib.pyplot as plt\n",
    "%matplotlib inline\n",
    "import tensorflow as tf\n",
    "#from tensorflow.python.tools import freeze_graph\n",
    "from skimage.io import imread,imshow\n",
    "#from skimage.transform import resize \n",
    "import time\n",
    "#from tensorflow.compat.v1.image import decode_image\n",
    "import imgaug.augmenters as iaa\n",
    "from imgaug.augmentables.bbs import BoundingBox, BoundingBoxesOnImage\n",
    "import os\n",
    "import pandas as pd"
   ]
  },
  {
   "cell_type": "code",
   "execution_count": 2,
   "metadata": {},
   "outputs": [
    {
     "name": "stdout",
     "output_type": "stream",
     "text": [
      "Solo es una clase\n",
      "(None, 1690, 1, 4)\n",
      "Pesos de la convolucion (432,)\n",
      "CONV SHAPE (16, 3, 3, 3)\n",
      "Pesos de la convolucion (4608,)\n",
      "CONV SHAPE (32, 16, 3, 3)\n",
      "Pesos de la convolucion (18432,)\n",
      "CONV SHAPE (64, 32, 3, 3)\n",
      "Pesos de la convolucion (73728,)\n",
      "CONV SHAPE (128, 64, 3, 3)\n",
      "Pesos de la convolucion (294912,)\n",
      "CONV SHAPE (256, 128, 3, 3)\n",
      "Pesos de la convolucion (1179648,)\n",
      "CONV SHAPE (512, 256, 3, 3)\n",
      "Pesos de la convolucion (4718592,)\n",
      "CONV SHAPE (1024, 512, 3, 3)\n",
      "Pesos de la convolucion (262144,)\n",
      "CONV SHAPE (256, 1024, 1, 1)\n",
      "Pesos de la convolucion (1179648,)\n",
      "CONV SHAPE (512, 256, 3, 3)\n",
      "Pesos de la convolucion (130560,)\n",
      "CONV SHAPE (255, 512, 1, 1)\n",
      "Pesos de la convolucion (32768,)\n",
      "CONV SHAPE (128, 256, 1, 1)\n",
      "Pesos de la convolucion (884736,)\n",
      "CONV SHAPE (256, 384, 3, 3)\n",
      "Pesos de la convolucion (65280,)\n",
      "CONV SHAPE (255, 256, 1, 1)\n",
      "8858734\n"
     ]
    },
    {
     "data": {
      "text/plain": [
       "<tensorflow.python.training.tracking.util.CheckpointLoadStatus at 0x7fdd7c60e5c0>"
      ]
     },
     "execution_count": 2,
     "metadata": {},
     "output_type": "execute_result"
    }
   ],
   "source": [
    "anchors =[[0.026,0.062],[0.067,0.183],[0.128,0.323],[0.343,0.650]]\n",
    "#anchors =tf.constant(np.array([[0,0,0.026,0.062],[0,0,0.067,0.183],[0,0,0.128,0.323],[0,0,0.343,0.650]]),dtype=tf.float32)\n",
    "model = TinyYOLOv3(1,anchor_boxes=anchors,train=False,mode = \"finetuning\",obj_threshold=0.0001)\n",
    "model.build(batch_input_shape=(None,416,416,3))\n",
    "print(model.load_weights_darknet(\"/home/sergio/TinyYOLOv3-Pedestrian-Detection/yolov3-tiny.weights\"))\n",
    "model.load_weights('/home/sergio/Documents/weights_saved/pesos_1241_50_to_70_epoch_nadam_0dot0001_msle_exp_mse')"
   ]
  },
  {
   "cell_type": "code",
   "execution_count": null,
   "metadata": {},
   "outputs": [],
   "source": []
  },
  {
   "cell_type": "code",
   "execution_count": null,
   "metadata": {},
   "outputs": [],
   "source": []
  },
  {
   "cell_type": "code",
   "execution_count": 3,
   "metadata": {},
   "outputs": [],
   "source": [
    "from pycocotools.coco import COCO"
   ]
  },
  {
   "cell_type": "code",
   "execution_count": 4,
   "metadata": {},
   "outputs": [
    {
     "name": "stdout",
     "output_type": "stream",
     "text": [
      "/home/sergio/Documents/COCODataset/annotations/instances_val2017.json\n"
     ]
    }
   ],
   "source": [
    "dataDir='/home/sergio/Documents/COCODataset'\n",
    "dataType='val2017'\n",
    "annFile='{}/annotations/instances_{}.json'.format(dataDir,dataType)\n",
    "print(annFile)"
   ]
  },
  {
   "cell_type": "code",
   "execution_count": 5,
   "metadata": {},
   "outputs": [
    {
     "name": "stdout",
     "output_type": "stream",
     "text": [
      "loading annotations into memory...\n",
      "Done (t=0.37s)\n",
      "creating index...\n",
      "index created!\n"
     ]
    }
   ],
   "source": [
    "cocoGt=COCO(annFile)"
   ]
  },
  {
   "cell_type": "code",
   "execution_count": 39,
   "metadata": {},
   "outputs": [],
   "source": [
    "catIds = cocoGt.getCatIds(catNms=['person']);\n",
    "imgIds = cocoGt.getImgIds(catIds=catIds );\n",
    "\n",
    "imgIds = [imid['image_id'] for imid in results_eval]\n",
    "imgIds = sorted(list(set(imgIds)))"
   ]
  },
  {
   "cell_type": "code",
   "execution_count": 40,
   "metadata": {},
   "outputs": [],
   "source": [
    "aux = cocoGt.loadImgs(imgIds)"
   ]
  },
  {
   "cell_type": "code",
   "execution_count": 41,
   "metadata": {},
   "outputs": [
    {
     "data": {
      "text/plain": [
       "{'license': 2,\n",
       " 'file_name': '000000000139.jpg',\n",
       " 'coco_url': 'http://images.cocodataset.org/val2017/000000000139.jpg',\n",
       " 'height': 426,\n",
       " 'width': 640,\n",
       " 'date_captured': '2013-11-21 01:34:01',\n",
       " 'flickr_url': 'http://farm9.staticflickr.com/8035/8024364858_9c41dc1666_z.jpg',\n",
       " 'id': 139}"
      ]
     },
     "execution_count": 41,
     "metadata": {},
     "output_type": "execute_result"
    }
   ],
   "source": [
    "aux[0]"
   ]
  },
  {
   "cell_type": "code",
   "execution_count": 42,
   "metadata": {},
   "outputs": [],
   "source": [
    "os.chdir(\"/home/sergio/Documents/COCODataset/pedestrian_dataset_val\")\n",
    "results_eval = []\n",
    "for w in aux:\n",
    "    image_id = w[\"id\"]\n",
    "    image_name = w[\"file_name\"]\n",
    "    image_height = w[\"height\"]\n",
    "    image_width = w[\"width\"]\n",
    "\n",
    "    img_raw = tf.image.decode_image(open(image_name, 'rb').read(), channels=3)\n",
    "    img = tf.expand_dims(img_raw, 0)\n",
    "    img = tf.image.resize(img, (416, 416))/255\n",
    "    \n",
    "    \n",
    "    outputs = model(img);\n",
    "    for j,scores in zip(outputs[0].numpy()[0,0:outputs[3][0].numpy(),:],list(np.around(outputs[1].numpy()[0,0:outputs[3][0].numpy()],2))):\n",
    "        \n",
    "        x_min,y_min,x_max,y_max =np.split(j,4)\n",
    "        x_min,x_max = x_min*image_width,x_max*image_width\n",
    "        y_min,y_max = y_min*image_height,y_max*image_height\n",
    "\n",
    "        #Transforma las coordenadas de (xmin,ymin,xmax,ymax) --> (xcenter,ycenter,width,height)\n",
    "        width = x_max-x_min\n",
    "        height = y_max-y_min\n",
    "        x_global =x_min + tf.math.divide(x_max - x_min,2)\n",
    "        y_global =y_min + tf.math.divide(y_max - y_min,2)\n",
    "\n",
    "        coords = list(np.around(np.concatenate((x_global,y_global,width,height)),2))\n",
    "        coords = [round(float(i),2) for i in coords]\n",
    "        #print(coords)\n",
    "        #scores = list(np.around(outputs[1].numpy()[0,0:outputs[3][0].numpy()],2))\n",
    "        dict_predictions = {\"image_id\": image_id, \"category_id\": 1, \"bbox\": coords, \"score\": float(np.around(scores*10000,0)/10000)}\n",
    "        results_eval.append(dict_predictions)"
   ]
  },
  {
   "cell_type": "code",
   "execution_count": 43,
   "metadata": {},
   "outputs": [],
   "source": [
    "os.chdir(\"/home/sergio/Documents/COCODataset\")\n",
    "\n",
    "import json\n",
    "#json.dumps(str(a))\n",
    "with open('results_validation_set_prueba.json', 'w') as fp:\n",
    "    json.dump(results_eval, fp)\n",
    "    \n"
   ]
  },
  {
   "cell_type": "code",
   "execution_count": 11,
   "metadata": {},
   "outputs": [
    {
     "name": "stdout",
     "output_type": "stream",
     "text": [
      "/home/sergio/Documents/COCODataset/annotations/instances_val2017.json\n",
      "loading annotations into memory...\n",
      "Done (t=0.43s)\n",
      "creating index...\n",
      "index created!\n"
     ]
    }
   ],
   "source": [
    "dataDir='/home/sergio/Documents/COCODataset'\n",
    "dataType='val2017'\n",
    "annFile='{}/annotations/instances_{}.json'.format(dataDir,dataType)\n",
    "print(annFile)\n",
    "cocoGt=COCO(annFile)"
   ]
  },
  {
   "cell_type": "code",
   "execution_count": 44,
   "metadata": {},
   "outputs": [
    {
     "name": "stdout",
     "output_type": "stream",
     "text": [
      "Loading and preparing results...\n",
      "DONE (t=0.05s)\n",
      "creating index...\n",
      "index created!\n"
     ]
    }
   ],
   "source": [
    "cocoDt=cocoGt.loadRes('results_validation_set_prueba.json')"
   ]
  },
  {
   "cell_type": "code",
   "execution_count": 45,
   "metadata": {},
   "outputs": [
    {
     "data": {
      "text/plain": [
       "0.0019613246055308724"
      ]
     },
     "execution_count": 45,
     "metadata": {},
     "output_type": "execute_result"
    }
   ],
   "source": [
    "0.00019613246055308722*10"
   ]
  },
  {
   "cell_type": "code",
   "execution_count": 46,
   "metadata": {},
   "outputs": [
    {
     "name": "stdout",
     "output_type": "stream",
     "text": [
      "Running per image evaluation...\n",
      "Evaluate annotation type *bbox*\n",
      "DONE (t=4.58s).\n",
      "Accumulating evaluation results...\n",
      "DONE (t=0.27s).\n",
      "category : 0 : 0.0005656931606264221\n",
      "(all categories) mAP : 7.071164507830276e-06\n",
      " Average Precision  (AP) @[ IoU=0.50:0.95 | area=   all | maxDets=100 ] = 0.001\n",
      "category : 0 : 0.0028914078931868196\n",
      "(all categories) mAP : 3.614259866483524e-05\n",
      " Average Precision  (AP) @[ IoU=0.50      | area=   all | maxDets=100 ] = 0.003\n",
      "category : 0 : 2.6123984430105277e-05\n",
      "(all categories) mAP : 3.26549805376316e-07\n",
      " Average Precision  (AP) @[ IoU=0.75      | area=   all | maxDets=100 ] = 0.000\n",
      "category : 0 : 0.00261734177893995\n",
      "(all categories) mAP : 3.2716772236749376e-05\n",
      " Average Precision  (AP) @[ IoU=0.50:0.95 | area= small | maxDets=100 ] = 0.003\n",
      "category : 0 : 0.0007053182344452019\n",
      "(all categories) mAP : 8.816477930565024e-06\n",
      " Average Precision  (AP) @[ IoU=0.50:0.95 | area=medium | maxDets=100 ] = 0.001\n",
      "category : 0 : 6.092053913797735e-05\n",
      "(all categories) mAP : 7.615067392247169e-07\n",
      " Average Precision  (AP) @[ IoU=0.50:0.95 | area= large | maxDets=100 ] = 0.000\n",
      " Average Recall     (AR) @[ IoU=0.50:0.95 | area=   all | maxDets=  1 ] = 0.001\n",
      " Average Recall     (AR) @[ IoU=0.50:0.95 | area=   all | maxDets= 10 ] = 0.007\n",
      " Average Recall     (AR) @[ IoU=0.50:0.95 | area=   all | maxDets=100 ] = 0.012\n",
      " Average Recall     (AR) @[ IoU=0.50:0.95 | area= small | maxDets=100 ] = 0.016\n",
      " Average Recall     (AR) @[ IoU=0.50:0.95 | area=medium | maxDets=100 ] = 0.013\n",
      " Average Recall     (AR) @[ IoU=0.50:0.95 | area= large | maxDets=100 ] = 0.004\n"
     ]
    }
   ],
   "source": [
    "from pycocotools.cocoeval import COCOeval\n",
    "# running evaluation\n",
    "cocoEval = COCOeval(cocoGt,cocoDt,\"bbox\")\n",
    "cocoEval.params.catIds = [1] #person id : 1\n",
    "cocoEval.params.imgIds  = imgIds\n",
    "cocoEval.evaluate()\n",
    "cocoEval.accumulate()\n",
    "cocoEval.summarize()"
   ]
  },
  {
   "cell_type": "code",
   "execution_count": 47,
   "metadata": {},
   "outputs": [
    {
     "data": {
      "text/plain": [
       "(array([[0.3830781 , 0.08767584, 0.6999613 , 0.5285013 ],\n",
       "        [0.7966668 , 0.675687  , 0.8215328 , 0.71574885],\n",
       "        [0.7196424 , 0.6754074 , 0.7473935 , 0.71568644],\n",
       "        [0.6787924 , 0.66608393, 0.7104513 , 0.7242762 ],\n",
       "        [0.62571746, 0.65689063, 0.9379763 , 0.90001285],\n",
       "        [0.7608776 , 0.67860913, 0.7852484 , 0.7120606 ],\n",
       "        [0.7231284 , 0.6423687 , 0.7421861 , 0.67152786],\n",
       "        [0.7605643 , 0.63664055, 0.77994156, 0.6753458 ],\n",
       "        [0.3775212 , 0.6793583 , 0.39401993, 0.7090159 ],\n",
       "        [0.6780879 , 0.6339693 , 0.71033055, 0.6813879 ],\n",
       "        [0.57119524, 0.6467778 , 0.58821344, 0.66503614],\n",
       "        [0.8097858 , 0.10091928, 0.9634798 , 0.21556866],\n",
       "        [0.9154897 , 0.6247543 , 0.9357393 , 0.687902  ],\n",
       "        [0.04953745, 0.5818296 , 0.8971062 , 0.8170156 ],\n",
       "        [0.8384437 , 0.67521715, 0.8585319 , 0.7162595 ],\n",
       "        [0.64217997, 0.6790915 , 0.671891  , 0.7143981 ]], dtype=float32),\n",
       " [1.0,\n",
       "  0.69,\n",
       "  0.64,\n",
       "  0.54,\n",
       "  0.12,\n",
       "  0.02,\n",
       "  0.01,\n",
       "  0.01,\n",
       "  0.01,\n",
       "  0.01,\n",
       "  0.0,\n",
       "  0.0,\n",
       "  0.0,\n",
       "  0.0,\n",
       "  0.0,\n",
       "  0.0])"
      ]
     },
     "execution_count": 47,
     "metadata": {},
     "output_type": "execute_result"
    }
   ],
   "source": [
    "outputs[0].numpy()[0,0:outputs[3][0].numpy(),:],list(np.around(outputs[1].numpy()[0,0:outputs[3][0].numpy()],2))"
   ]
  },
  {
   "cell_type": "code",
   "execution_count": 48,
   "metadata": {},
   "outputs": [
    {
     "data": {
      "text/plain": [
       "int"
      ]
     },
     "execution_count": 48,
     "metadata": {},
     "output_type": "execute_result"
    }
   ],
   "source": [
    "type(image_id)"
   ]
  },
  {
   "cell_type": "code",
   "execution_count": 49,
   "metadata": {},
   "outputs": [],
   "source": [
    "import cv2\n",
    "BOX_COLOR = (255, 0, 0)\n",
    "TEXT_COLOR = (255, 255, 255)\n",
    "\n",
    "def visualize_bbox(img, bbox, color=BOX_COLOR, thickness=2):\n",
    "    \n",
    "    #x_center, y_center, width, height = bbox#*416\n",
    "    x_min,y_min,x_max,y_max=bbox\n",
    "    #x_min = int(x_center-(width//2))\n",
    "    #y_min = int(y_center-(height//2))\n",
    "    #x_max = int(x_center+(width//2))\n",
    "    #y_max = int(y_center+(height//2))\n",
    "    \n",
    "    cv2.rectangle(img, (x_min, y_min), (x_max, y_max), color=color, thickness=thickness)\n",
    "    #class_name = class_idx_to_name[class_id]\n",
    "    #((text_width, text_height), _) = cv2.getTextSize(class_name, cv2.FONT_HERSHEY_SIMPLEX, 0.35, 1)    \n",
    "    #cv2.rectangle(img, (x_min, y_min - int(1.3 * text_height)), (x_min + text_width, y_min), BOX_COLOR, -1)\n",
    "    #cv2.putText(img, class_name, (x_min, y_min - int(0.3 * text_height)), cv2.FONT_HERSHEY_SIMPLEX, 0.35,TEXT_COLOR, lineType=cv2.LINE_AA)\n",
    "    return img\n",
    "\n",
    "def visualize(image,bboxes):\n",
    "    img = image.copy()\n",
    "    for idx, bbox in enumerate(bboxes):\n",
    "        img = visualize_bbox(img, bbox)\n",
    "    plt.imshow(img)"
   ]
  },
  {
   "cell_type": "code",
   "execution_count": 50,
   "metadata": {},
   "outputs": [
    {
     "data": {
      "text/plain": [
       "{'license': 3,\n",
       " 'file_name': '000000581357.jpg',\n",
       " 'coco_url': 'http://images.cocodataset.org/val2017/000000581357.jpg',\n",
       " 'height': 612,\n",
       " 'width': 612,\n",
       " 'date_captured': '2013-11-19 23:24:10',\n",
       " 'flickr_url': 'http://farm9.staticflickr.com/8203/8258620491_6e1406f4e7_z.jpg',\n",
       " 'id': 581357}"
      ]
     },
     "execution_count": 50,
     "metadata": {},
     "output_type": "execute_result"
    }
   ],
   "source": [
    "aux[-1]"
   ]
  },
  {
   "cell_type": "code",
   "execution_count": 51,
   "metadata": {},
   "outputs": [
    {
     "data": {
      "text/plain": [
       "<matplotlib.image.AxesImage at 0x7fdd7c5d0ba8>"
      ]
     },
     "execution_count": 51,
     "metadata": {},
     "output_type": "execute_result"
    },
    {
     "data": {
      "image/png": "[encoded data removed]",
      "text/plain": [
       "<Figure size 432x288 with 1 Axes>"
      ]
     },
     "metadata": {
      "needs_background": "light"
     },
     "output_type": "display_data"
    }
   ],
   "source": [
    "imshow(img.numpy()[0,:,:,:])"
   ]
  },
  {
   "cell_type": "code",
   "execution_count": 52,
   "metadata": {},
   "outputs": [],
   "source": [
    "outputs = model(img)"
   ]
  },
  {
   "cell_type": "code",
   "execution_count": 53,
   "metadata": {},
   "outputs": [],
   "source": [
    "real_outputs = outputs[0].numpy()[0,0:outputs[3][0].numpy(),:]*416"
   ]
  },
  {
   "cell_type": "code",
   "execution_count": 55,
   "metadata": {},
   "outputs": [
    {
     "name": "stdout",
     "output_type": "stream",
     "text": [
      "[[159.36049   36.47315  291.1839   219.85654 ]\n",
      " [331.4134   281.0858   341.75763  297.75153 ]\n",
      " [299.37125  280.96948  310.91568  297.72556 ]\n",
      " [282.37766  277.0909   295.54773  301.2989  ]\n",
      " [260.29846  273.2665   390.19815  374.40533 ]\n",
      " [316.5251   282.3014   326.66333  296.2172  ]\n",
      " [300.8214   267.22537  308.74942  279.3556  ]\n",
      " [316.39478  264.84247  324.4557   280.94385 ]\n",
      " [157.04881  282.61307  163.9123   294.95062 ]\n",
      " [282.08456  263.73123  295.4975   283.45737 ]\n",
      " [237.61722  269.05957  244.6968   276.65503 ]\n",
      " [336.87088   41.982418 400.80762   89.67656 ]\n",
      " [380.8437   259.8978   389.26755  286.16724 ]\n",
      " [ 20.607578 242.04112  373.19617  339.87848 ]\n",
      " [348.79257  280.89032  357.14926  297.96393 ]\n",
      " [267.14685  282.50208  279.50665  297.1896  ]]\n"
     ]
    }
   ],
   "source": [
    "print(real_outputs)"
   ]
  },
  {
   "cell_type": "code",
   "execution_count": 54,
   "metadata": {},
   "outputs": [
    {
     "name": "stderr",
     "output_type": "stream",
     "text": [
      "Clipping input data to the valid range for imshow with RGB data ([0..1] for floats or [0..255] for integers).\n"
     ]
    },
    {
     "data": {
      "image/png": "[encoded data removed]",
      "text/plain": [
       "<Figure size 432x288 with 1 Axes>"
      ]
     },
     "metadata": {
      "needs_background": "light"
     },
     "output_type": "display_data"
    }
   ],
   "source": [
    "visualize(img.numpy()[0,:,:,:],real_outputs)"
   ]
  },
  {
   "cell_type": "code",
   "execution_count": null,
   "metadata": {},
   "outputs": [],
   "source": []
  }
 ],
 "metadata": {
  "kernelspec": {
   "display_name": "Python 3",
   "language": "python",
   "name": "python3"
  },
  "language_info": {
   "codemirror_mode": {
    "name": "ipython",
    "version": 3
   },
   "file_extension": ".py",
   "mimetype": "text/x-python",
   "name": "python",
   "nbconvert_exporter": "python",
   "pygments_lexer": "ipython3",
   "version": "3.6.10"
  }
 },
 "nbformat": 4,
 "nbformat_minor": 4
}
